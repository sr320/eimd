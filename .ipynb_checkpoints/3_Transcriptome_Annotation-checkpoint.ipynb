{
 "metadata": {
  "name": "",
  "signature": "sha256:ad786e27cdaac4e60ec1826383135da843e639fa346c336c3816ce2877a333fa"
 },
 "nbformat": 3,
 "nbformat_minor": 0,
 "worksheets": [
  {
   "cells": [
    {
     "cell_type": "heading",
     "level": 1,
     "metadata": {},
     "source": [
      "Transcriptome Annotation"
     ]
    },
    {
     "cell_type": "markdown",
     "metadata": {},
     "source": [
      "Once short reads are assembled, contigs will need to be annotated. This is primarily done by using the BLAST algorithms and databases of described sequences. While BLAST can be done via the web, you cannot BLAST ar large amount of sequences (>10k). BLAST is thus commonly done locally at the command-line."
     ]
    },
    {
     "cell_type": "code",
     "collapsed": false,
     "input": [
      "!blastx -query /Volumes/web/cnidarian/SeaStar/trinity_assemblies/run1/Trinity.fasta -db /Volumes/web/whale/blast/db/uniprot_sprot -out /Volumes/web/cnidarian/seastar_trinity1_uniport_sprot.tab -evalue 1E-20 -max_target_seqs 1 -outfmt 6 -num_threads 6"
     ],
     "language": "python",
     "metadata": {},
     "outputs": [
      {
       "output_type": "stream",
       "stream": "stdout",
       "text": [
        "Selenocysteine (U) at position 637 replaced by X\r\n",
        "Selenocysteine (U) at position 690 replaced by X\r\n"
       ]
      },
      {
       "output_type": "stream",
       "stream": "stdout",
       "text": [
        "Selenocysteine (U) at position 637 replaced by X\r\n",
        "Selenocysteine (U) at position 690 replaced by X\r\n"
       ]
      },
      {
       "output_type": "stream",
       "stream": "stdout",
       "text": [
        "Selenocysteine (U) at position 25 replaced by X\r\n",
        "Selenocysteine (U) at position 24 replaced by X\r\n",
        "Selenocysteine (U) at position 60 replaced by X\r\n",
        "Selenocysteine (U) at position 63 replaced by X\r\n",
        "Selenocysteine (U) at position 63 replaced by X\r\n"
       ]
      },
      {
       "output_type": "stream",
       "stream": "stdout",
       "text": [
        "Selenocysteine (U) at position 387 replaced by X\r\n",
        "Selenocysteine (U) at position 387 replaced by X\r\n",
        "Selenocysteine (U) at position 388 replaced by X\r\n",
        "Selenocysteine (U) at position 387 replaced by X\r\n"
       ]
      },
      {
       "output_type": "stream",
       "stream": "stdout",
       "text": [
        "Selenocysteine (U) at position 637 replaced by X\r\n",
        "Selenocysteine (U) at position 690 replaced by X\r\n"
       ]
      },
      {
       "output_type": "stream",
       "stream": "stdout",
       "text": [
        "Selenocysteine (U) at position 690 replaced by X\r\n",
        "Selenocysteine (U) at position 667 replaced by X\r\n",
        "Selenocysteine (U) at position 665 replaced by X\r\n"
       ]
      },
      {
       "output_type": "stream",
       "stream": "stdout",
       "text": [
        "Selenocysteine (U) at position 637 replaced by X\r\n"
       ]
      },
      {
       "output_type": "stream",
       "stream": "stdout",
       "text": [
        "Selenocysteine (U) at position 52 replaced by X\r\n",
        "Selenocysteine (U) at position 47 replaced by X\r\n",
        "Selenocysteine (U) at position 47 replaced by X\r\n",
        "Selenocysteine (U) at position 49 replaced by X\r\n",
        "Selenocysteine (U) at position 47 replaced by X\r\n",
        "Selenocysteine (U) at position 47 replaced by X\r\n",
        "Selenocysteine (U) at position 47 replaced by X\r\n",
        "Selenocysteine (U) at position 47 replaced by X\r\n",
        "Selenocysteine (U) at position 52 replaced by X\r\n",
        "Selenocysteine (U) at position 47 replaced by X\r\n",
        "Selenocysteine (U) at position 46 replaced by X\r\n",
        "Selenocysteine (U) at position 47 replaced by X\r\n",
        "Selenocysteine (U) at position 40 replaced by X\r\n",
        "Selenocysteine (U) at position 40 replaced by X\r\n",
        "Selenocysteine (U) at position 40 replaced by X\r\n",
        "Selenocysteine (U) at position 40 replaced by X\r\n",
        "Selenocysteine (U) at position 40 replaced by X\r\n",
        "Selenocysteine (U) at position 40 replaced by X\r\n",
        "Selenocysteine (U) at position 40 replaced by X\r\n",
        "Selenocysteine (U) at position 40 replaced by X\r\n",
        "Selenocysteine (U) at position 73 replaced by X\r\n",
        "Selenocysteine (U) at position 73 replaced by X\r\n",
        "Selenocysteine (U) at position 73 replaced by X\r\n",
        "Selenocysteine (U) at position 73 replaced by X\r\n",
        "Selenocysteine (U) at position 73 replaced by X\r\n",
        "Selenocysteine (U) at position 73 replaced by X\r\n",
        "Selenocysteine (U) at position 73 replaced by X\r\n",
        "Selenocysteine (U) at position 73 replaced by X\r\n",
        "Selenocysteine (U) at position 73 replaced by X\r\n"
       ]
      },
      {
       "output_type": "stream",
       "stream": "stdout",
       "text": [
        "Selenocysteine (U) at position 64 replaced by X\r\n"
       ]
      },
      {
       "output_type": "stream",
       "stream": "stdout",
       "text": [
        "Selenocysteine (U) at position 637 replaced by X\r\n"
       ]
      },
      {
       "output_type": "stream",
       "stream": "stdout",
       "text": [
        "Selenocysteine (U) at position 637 replaced by X\r\n",
        "Selenocysteine (U) at position 690 replaced by X\r\n"
       ]
      },
      {
       "output_type": "stream",
       "stream": "stdout",
       "text": [
        "Selenocysteine (U) at position 637 replaced by X\r\n",
        "Selenocysteine (U) at position 690 replaced by X\r\n"
       ]
      },
      {
       "output_type": "stream",
       "stream": "stdout",
       "text": [
        "Selenocysteine (U) at position 25 replaced by X\r\n",
        "Selenocysteine (U) at position 24 replaced by X\r\n",
        "Selenocysteine (U) at position 60 replaced by X\r\n",
        "Selenocysteine (U) at position 63 replaced by X\r\n",
        "Selenocysteine (U) at position 63 replaced by X\r\n"
       ]
      },
      {
       "output_type": "stream",
       "stream": "stdout",
       "text": [
        "Selenocysteine (U) at position 43 replaced by X\r\n"
       ]
      },
      {
       "output_type": "stream",
       "stream": "stdout",
       "text": [
        "Selenocysteine (U) at position 498 replaced by X\r\n",
        "Selenocysteine (U) at position 666 replaced by X\r\n",
        "Selenocysteine (U) at position 494 replaced by X\r\n",
        "Selenocysteine (U) at position 648 replaced by X\r\n",
        "Selenocysteine (U) at position 612 replaced by X\r\n",
        "Selenocysteine (U) at position 498 replaced by X\r\n",
        "Selenocysteine (U) at position 498 replaced by X\r\n",
        "Selenocysteine (U) at position 498 replaced by X\r\n",
        "Selenocysteine (U) at position 510 replaced by X\r\n",
        "Selenocysteine (U) at position 523 replaced by X\r\n",
        "Selenocysteine (U) at position 523 replaced by X\r\n",
        "Selenocysteine (U) at position 525 replaced by X\r\n",
        "Selenocysteine (U) at position 642 replaced by X\r\n",
        "Selenocysteine (U) at position 651 replaced by X\r\n"
       ]
      },
      {
       "output_type": "stream",
       "stream": "stdout",
       "text": [
        "Selenocysteine (U) at position 637 replaced by X\r\n",
        "Selenocysteine (U) at position 690 replaced by X\r\n"
       ]
      },
      {
       "output_type": "stream",
       "stream": "stdout",
       "text": [
        "Selenocysteine (U) at position 637 replaced by X\r\n",
        "Selenocysteine (U) at position 690 replaced by X\r\n"
       ]
      },
      {
       "output_type": "stream",
       "stream": "stdout",
       "text": [
        "Selenocysteine (U) at position 637 replaced by X\r\n",
        "Selenocysteine (U) at position 637 replaced by X\r\n",
        "Selenocysteine (U) at position 690 replaced by X\r\n",
        "Selenocysteine (U) at position 690 replaced by X\r\n"
       ]
      },
      {
       "output_type": "stream",
       "stream": "stdout",
       "text": [
        "Selenocysteine (U) at position 690 replaced by X\r\n",
        "Selenocysteine (U) at position 667 replaced by X\r\n",
        "Selenocysteine (U) at position 665 replaced by X\r\n"
       ]
      },
      {
       "output_type": "stream",
       "stream": "stdout",
       "text": [
        "Selenocysteine (U) at position 43 replaced by X\r\n",
        "Selenocysteine (U) at position 43 replaced by X\r\n",
        "Selenocysteine (U) at position 43 replaced by X\r\n",
        "Selenocysteine (U) at position 73 replaced by X\r\n",
        "Selenocysteine (U) at position 73 replaced by X\r\n",
        "Selenocysteine (U) at position 73 replaced by X\r\n",
        "Selenocysteine (U) at position 73 replaced by X\r\n",
        "Selenocysteine (U) at position 73 replaced by X\r\n",
        "Selenocysteine (U) at position 73 replaced by X\r\n",
        "Selenocysteine (U) at position 129 replaced by X\r\n",
        "Selenocysteine (U) at position 129 replaced by X\r\n",
        "Selenocysteine (U) at position 129 replaced by X\r\n",
        "Selenocysteine (U) at position 129 replaced by X\r\n",
        "Selenocysteine (U) at position 129 replaced by X\r\n",
        "Selenocysteine (U) at position 129 replaced by X\r\n",
        "Selenocysteine (U) at position 73 replaced by X\r\n",
        "Selenocysteine (U) at position 73 replaced by X\r\n",
        "Selenocysteine (U) at position 73 replaced by X\r\n",
        "Selenocysteine (U) at position 73 replaced by X\r\n",
        "Selenocysteine (U) at position 73 replaced by X\r\n",
        "Selenocysteine (U) at position 73 replaced by X\r\n",
        "Selenocysteine (U) at position 73 replaced by X\r\n",
        "Selenocysteine (U) at position 73 replaced by X\r\n",
        "Selenocysteine (U) at position 73 replaced by X\r\n",
        "Selenocysteine (U) at position 73 replaced by X\r\n",
        "Selenocysteine (U) at position 73 replaced by X\r\n",
        "Selenocysteine (U) at position 73 replaced by X\r\n",
        "Selenocysteine (U) at position 73 replaced by X\r\n",
        "Selenocysteine (U) at position 73 replaced by X\r\n",
        "Selenocysteine (U) at position 73 replaced by X\r\n",
        "Selenocysteine (U) at position 73 replaced by X\r\n",
        "Selenocysteine (U) at position 73 replaced by X\r\n",
        "Selenocysteine (U) at position 73 replaced by X\r\n"
       ]
      },
      {
       "output_type": "stream",
       "stream": "stdout",
       "text": [
        "Selenocysteine (U) at position 73 replaced by X\r\n",
        "Selenocysteine (U) at position 73 replaced by X\r\n",
        "Selenocysteine (U) at position 73 replaced by X\r\n",
        "Selenocysteine (U) at position 73 replaced by X\r\n",
        "Selenocysteine (U) at position 73 replaced by X\r\n",
        "Selenocysteine (U) at position 73 replaced by X\r\n"
       ]
      },
      {
       "output_type": "stream",
       "stream": "stdout",
       "text": [
        "Selenocysteine (U) at position 387 replaced by X\r\n",
        "Selenocysteine (U) at position 387 replaced by X\r\n",
        "Selenocysteine (U) at position 388 replaced by X\r\n",
        "Selenocysteine (U) at position 387 replaced by X\r\n"
       ]
      },
      {
       "output_type": "stream",
       "stream": "stdout",
       "text": [
        "Selenocysteine (U) at position 52 replaced by X\r\n",
        "Selenocysteine (U) at position 47 replaced by X\r\n",
        "Selenocysteine (U) at position 47 replaced by X\r\n",
        "Selenocysteine (U) at position 49 replaced by X\r\n",
        "Selenocysteine (U) at position 47 replaced by X\r\n",
        "Selenocysteine (U) at position 47 replaced by X\r\n",
        "Selenocysteine (U) at position 47 replaced by X\r\n",
        "Selenocysteine (U) at position 47 replaced by X\r\n",
        "Selenocysteine (U) at position 52 replaced by X\r\n",
        "Selenocysteine (U) at position 47 replaced by X\r\n",
        "Selenocysteine (U) at position 46 replaced by X\r\n",
        "Selenocysteine (U) at position 47 replaced by X\r\n",
        "Selenocysteine (U) at position 40 replaced by X\r\n",
        "Selenocysteine (U) at position 40 replaced by X\r\n",
        "Selenocysteine (U) at position 40 replaced by X\r\n",
        "Selenocysteine (U) at position 40 replaced by X\r\n",
        "Selenocysteine (U) at position 40 replaced by X\r\n",
        "Selenocysteine (U) at position 40 replaced by X\r\n",
        "Selenocysteine (U) at position 40 replaced by X\r\n",
        "Selenocysteine (U) at position 40 replaced by X\r\n",
        "Selenocysteine (U) at position 73 replaced by X\r\n",
        "Selenocysteine (U) at position 73 replaced by X\r\n",
        "Selenocysteine (U) at position 73 replaced by X\r\n",
        "Selenocysteine (U) at position 73 replaced by X\r\n",
        "Selenocysteine (U) at position 73 replaced by X\r\n",
        "Selenocysteine (U) at position 73 replaced by X\r\n",
        "Selenocysteine (U) at position 73 replaced by X\r\n",
        "Selenocysteine (U) at position 73 replaced by X\r\n",
        "Selenocysteine (U) at position 73 replaced by X\r\n",
        "Selenocysteine (U) at position 64 replaced by X\r\n"
       ]
      },
      {
       "output_type": "stream",
       "stream": "stdout",
       "text": [
        "Selenocysteine (U) at position 43 replaced by X\r\n"
       ]
      },
      {
       "output_type": "stream",
       "stream": "stdout",
       "text": [
        "Selenocysteine (U) at position 73 replaced by X\r\n",
        "Selenocysteine (U) at position 73 replaced by X\r\n",
        "Selenocysteine (U) at position 129 replaced by X\r\n",
        "Selenocysteine (U) at position 129 replaced by X\r\n",
        "Selenocysteine (U) at position 73 replaced by X\r\n",
        "Selenocysteine (U) at position 73 replaced by X\r\n",
        "Selenocysteine (U) at position 73 replaced by X\r\n",
        "Selenocysteine (U) at position 73 replaced by X\r\n",
        "Selenocysteine (U) at position 73 replaced by X\r\n",
        "Selenocysteine (U) at position 73 replaced by X\r\n",
        "Selenocysteine (U) at position 73 replaced by X\r\n"
       ]
      },
      {
       "output_type": "stream",
       "stream": "stdout",
       "text": [
        "Selenocysteine (U) at position 637 replaced by X\r\n",
        "Selenocysteine (U) at position 637 replaced by X\r\n",
        "Selenocysteine (U) at position 690 replaced by X\r\n",
        "Selenocysteine (U) at position 690 replaced by X\r\n"
       ]
      },
      {
       "output_type": "stream",
       "stream": "stdout",
       "text": [
        "Selenocysteine (U) at position 93 replaced by X\r\n",
        "Selenocysteine (U) at position 84 replaced by X\r\n",
        "Selenocysteine (U) at position 93 replaced by X\r\n",
        "Selenocysteine (U) at position 93 replaced by X\r\n",
        "Selenocysteine (U) at position 84 replaced by X\r\n",
        "Selenocysteine (U) at position 93 replaced by X\r\n",
        "Selenocysteine (U) at position 93 replaced by X\r\n"
       ]
      },
      {
       "output_type": "stream",
       "stream": "stdout",
       "text": [
        "Selenocysteine (U) at position 43 replaced by X\r\n",
        "Selenocysteine (U) at position 43 replaced by X\r\n",
        "Selenocysteine (U) at position 73 replaced by X\r\n",
        "Selenocysteine (U) at position 73 replaced by X\r\n",
        "Selenocysteine (U) at position 73 replaced by X\r\n",
        "Selenocysteine (U) at position 73 replaced by X\r\n",
        "Selenocysteine (U) at position 73 replaced by X\r\n",
        "Selenocysteine (U) at position 73 replaced by X\r\n",
        "Selenocysteine (U) at position 73 replaced by X\r\n",
        "Selenocysteine (U) at position 73 replaced by X\r\n"
       ]
      },
      {
       "output_type": "stream",
       "stream": "stdout",
       "text": [
        "Selenocysteine (U) at position 43 replaced by X\r\n"
       ]
      },
      {
       "output_type": "stream",
       "stream": "stdout",
       "text": [
        "Selenocysteine (U) at position 637 replaced by X\r\n",
        "Selenocysteine (U) at position 690 replaced by X\r\n"
       ]
      },
      {
       "output_type": "stream",
       "stream": "stdout",
       "text": [
        "Selenocysteine (U) at position 430 replaced by X\r\n",
        "Selenocysteine (U) at position 430 replaced by X\r\n",
        "Selenocysteine (U) at position 127 replaced by X\r\n",
        "Selenocysteine (U) at position 462 replaced by X\r\n",
        "Selenocysteine (U) at position 127 replaced by X\r\n",
        "Selenocysteine (U) at position 462 replaced by X\r\n",
        "Selenocysteine (U) at position 436 replaced by X\r\n",
        "Selenocysteine (U) at position 436 replaced by X\r\n"
       ]
      },
      {
       "output_type": "stream",
       "stream": "stdout",
       "text": [
        "Selenocysteine (U) at position 430 replaced by X\r\n",
        "Selenocysteine (U) at position 127 replaced by X\r\n",
        "Selenocysteine (U) at position 462 replaced by X\r\n",
        "Selenocysteine (U) at position 436 replaced by X\r\n"
       ]
      }
     ],
     "prompt_number": 5
    },
    {
     "cell_type": "code",
     "collapsed": false,
     "input": [
      "!tail /Volumes/web/cnidarian/SeaStar/trinity_assemblies/run1/Trinity.fasta"
     ],
     "language": "python",
     "metadata": {},
     "outputs": [
      {
       "output_type": "stream",
       "stream": "stdout",
       "text": [
        ">c391853_g1_i1 len=204 path=[182:0-203]\r\n",
        "GTTGGTTTGTGGGTGGGTTGATGGGTGCATGGGTTGGTCAGTTTGCAGAGACATTCAATC\r\n",
        "CGAGCACTATCAAGAAAAAGGAACATCAGGTCCACGAATTCTACCACAAAGGAAAACGAT\r\n",
        "GGATGTGTTTGTTTTGTTTGTTTGTTCGGGTTCTTGTTCCTTTCTTTCTTTATTTATTTC\r\n",
        "TGTGTTTTTAATTTTTTTTTTTTT\r\n",
        ">c391854_g1_i1 len=228 path=[1:0-227]\r\n",
        "GTTTTTTCTTTCTCTATTTTTGGTTACCTTTTAGTTTTTAAAACAAATTGGCAAATTGTT\r\n",
        "ATTCACCAGGGTATTTAGTTACAATTCAGCATGCATCTTTTGGGGGATACTTGGAAGTAT\r\n",
        "TGGCCCTTGCAGTATAGTTTCTGTTTTGTTATATTGGACCTAATGAAAGTTGTGTTATAT\r\n",
        "TGGACCCAGTGCAGGTTATATGTTATAATGGACCCCACAGAACATTTT\r\n"
       ]
      }
     ],
     "prompt_number": 9
    },
    {
     "cell_type": "markdown",
     "metadata": {},
     "source": [
      "Other blasts (run on hummingbird)"
     ]
    },
    {
     "cell_type": "code",
     "collapsed": false,
     "input": [],
     "language": "python",
     "metadata": {},
     "outputs": []
    },
    {
     "cell_type": "raw",
     "metadata": {},
     "source": [
      "`\n",
      "blastn \\\n",
      "-query /Volumes/web/cnidarian/SeaStar/trinity_assemblies/run1/Trinity.fasta \\\n",
      "-db /Volumes/Data/blast_db/nt \\\n",
      "-out /Volumes/web/cnidarian/seastar_trin_nt_3.tab \\\n",
      "-outfmt \"6 qseqid sseqid pident length evalue bitscore staxids sscinames scomnames sblastnames sskingdoms stitle\" \\\n",
      "-num_threads 14 \\\n",
      "-max_hsps 1 \\\n",
      "-evalue 1E-20 \\\n",
      "-max_target_seqs 1 \\\n",
      "-task blastn\n",
      "`"
     ]
    },
    {
     "cell_type": "code",
     "collapsed": false,
     "input": [
      "!blastn -help\n"
     ],
     "language": "python",
     "metadata": {},
     "outputs": [
      {
       "output_type": "stream",
       "stream": "stdout",
       "text": [
        "USAGE\r\n",
        "  blastn [-h] [-help] [-import_search_strategy filename]\r\n",
        "    [-export_search_strategy filename] [-task task_name] [-db database_name]\r\n",
        "    [-dbsize num_letters] [-gilist filename] [-seqidlist filename]\r\n",
        "    [-negative_gilist filename] [-entrez_query entrez_query]\r\n",
        "    [-db_soft_mask filtering_algorithm] [-db_hard_mask filtering_algorithm]\r\n",
        "    [-subject subject_input_file] [-subject_loc range] [-query input_file]\r\n",
        "    [-out output_file] [-evalue evalue] [-word_size int_value]\r\n",
        "    [-gapopen open_penalty] [-gapextend extend_penalty]\r\n",
        "    [-perc_identity float_value] [-xdrop_ungap float_value]\r\n",
        "    [-xdrop_gap float_value] [-xdrop_gap_final float_value]\r\n",
        "    [-searchsp int_value] [-max_hsps_per_subject int_value] [-penalty penalty]\r\n",
        "    [-reward reward] [-no_greedy] [-min_raw_gapped_score int_value]\r\n",
        "    [-template_type type] [-template_length int_value] [-dust DUST_options]\r\n",
        "    [-filtering_db filtering_database]\r\n",
        "    [-window_masker_taxid window_masker_taxid]\r\n",
        "    [-window_masker_db window_masker_db] [-soft_masking soft_masking]\r\n",
        "    [-ungapped] [-culling_limit int_value] [-best_hit_overhang float_value]\r\n",
        "    [-best_hit_score_edge float_value] [-window_size int_value]\r\n",
        "    [-off_diagonal_range int_value] [-use_index boolean] [-index_name string]\r\n",
        "    [-lcase_masking] [-query_loc range] [-strand strand] [-parse_deflines]\r\n",
        "    [-outfmt format] [-show_gis] [-num_descriptions int_value]\r\n",
        "    [-num_alignments int_value] [-html] [-max_target_seqs num_sequences]\r\n",
        "    [-num_threads int_value] [-remote] [-version]\r\n",
        "\r\n",
        "DESCRIPTION\r\n",
        "   Nucleotide-Nucleotide BLAST 2.2.28+\r\n",
        "\r\n",
        "OPTIONAL ARGUMENTS\r\n",
        " -h\r\n",
        "   Print USAGE and DESCRIPTION;  ignore all other parameters\r\n",
        " -help\r\n",
        "   Print USAGE, DESCRIPTION and ARGUMENTS; ignore all other parameters\r\n",
        " -version\r\n",
        "   Print version number;  ignore other arguments\r\n",
        "\r\n",
        " *** Input query options\r\n",
        " -query <File_In>\r\n",
        "   Input file name\r\n",
        "   Default = `-'\r\n",
        " -query_loc <String>\r\n",
        "   Location on the query sequence in 1-based offsets (Format: start-stop)\r\n",
        " -strand <String, `both', `minus', `plus'>\r\n",
        "   Query strand(s) to search against database/subject\r\n",
        "   Default = `both'\r\n",
        "\r\n",
        " *** General search options\r\n",
        " -task <String, Permissible values: 'blastn' 'blastn-short' 'dc-megablast'\r\n",
        "                'megablast' 'rmblastn' >\r\n",
        "   Task to execute\r\n",
        "   Default = `megablast'\r\n",
        " -db <String>\r\n",
        "   BLAST database name\r\n",
        "    * Incompatible with:  subject, subject_loc\r\n",
        " -out <File_Out>\r\n",
        "   Output file name\r\n",
        "   Default = `-'\r\n",
        " -evalue <Real>\r\n",
        "   Expectation value (E) threshold for saving hits \r\n",
        "   Default = `10'\r\n",
        " -word_size <Integer, >=4>\r\n",
        "   Word size for wordfinder algorithm (length of best perfect match)\r\n",
        " -gapopen <Integer>\r\n",
        "   Cost to open a gap\r\n",
        " -gapextend <Integer>\r\n",
        "   Cost to extend a gap\r\n",
        " -penalty <Integer, <=0>\r\n",
        "   Penalty for a nucleotide mismatch\r\n",
        " -reward <Integer, >=0>\r\n",
        "   Reward for a nucleotide match\r\n",
        " -use_index <Boolean>\r\n",
        "   Use MegaBLAST database index\r\n",
        " -index_name <String>\r\n",
        "   MegaBLAST database index name\r\n",
        "\r\n",
        " *** BLAST-2-Sequences options\r\n",
        " -subject <File_In>\r\n",
        "   Subject sequence(s) to search\r\n",
        "    * Incompatible with:  db, gilist, seqidlist, negative_gilist,\r\n",
        "   db_soft_mask, db_hard_mask\r\n",
        " -subject_loc <String>\r\n",
        "   Location on the subject sequence in 1-based offsets (Format: start-stop)\r\n",
        "    * Incompatible with:  db, gilist, seqidlist, negative_gilist,\r\n",
        "   db_soft_mask, db_hard_mask, remote\r\n",
        "\r\n",
        " *** Formatting options\r\n",
        " -outfmt <String>\r\n",
        "   alignment view options:\r\n",
        "     0 = pairwise,\r\n",
        "     1 = query-anchored showing identities,\r\n",
        "     2 = query-anchored no identities,\r\n",
        "     3 = flat query-anchored, show identities,\r\n",
        "     4 = flat query-anchored, no identities,\r\n",
        "     5 = XML Blast output,\r\n",
        "     6 = tabular,\r\n",
        "     7 = tabular with comment lines,\r\n",
        "     8 = Text ASN.1,\r\n",
        "     9 = Binary ASN.1,\r\n",
        "    10 = Comma-separated values,\r\n",
        "    11 = BLAST archive format (ASN.1) \r\n",
        "   \r\n",
        "   Options 6, 7, and 10 can be additionally configured to produce\r\n",
        "   a custom format specified by space delimited format specifiers.\r\n",
        "   The supported format specifiers are:\r\n",
        "   \t    qseqid means Query Seq-id\r\n",
        "   \t       qgi means Query GI\r\n",
        "   \t      qacc means Query accesion\r\n",
        "   \t   qaccver means Query accesion.version\r\n",
        "   \t      qlen means Query sequence length\r\n",
        "   \t    sseqid means Subject Seq-id\r\n",
        "   \t sallseqid means All subject Seq-id(s), separated by a ';'\r\n",
        "   \t       sgi means Subject GI\r\n",
        "   \t    sallgi means All subject GIs\r\n",
        "   \t      sacc means Subject accession\r\n",
        "   \t   saccver means Subject accession.version\r\n",
        "   \t   sallacc means All subject accessions\r\n",
        "   \t      slen means Subject sequence length\r\n",
        "   \t    qstart means Start of alignment in query\r\n",
        "   \t      qend means End of alignment in query\r\n",
        "   \t    sstart means Start of alignment in subject\r\n",
        "   \t      send means End of alignment in subject\r\n",
        "   \t      qseq means Aligned part of query sequence\r\n",
        "   \t      sseq means Aligned part of subject sequence\r\n",
        "   \t    evalue means Expect value\r\n",
        "   \t  bitscore means Bit score\r\n",
        "   \t     score means Raw score\r\n",
        "   \t    length means Alignment length\r\n",
        "   \t    pident means Percentage of identical matches\r\n",
        "   \t    nident means Number of identical matches\r\n",
        "   \t  mismatch means Number of mismatches\r\n",
        "   \t  positive means Number of positive-scoring matches\r\n",
        "   \t   gapopen means Number of gap openings\r\n",
        "   \t      gaps means Total number of gaps\r\n",
        "   \t      ppos means Percentage of positive-scoring matches\r\n",
        "   \t    frames means Query and subject frames separated by a '/'\r\n",
        "   \t    qframe means Query frame\r\n",
        "   \t    sframe means Subject frame\r\n",
        "   \t      btop means Blast traceback operations (BTOP)\r\n",
        "   \t   staxids means Subject Taxonomy ID(s), separated by a ';'\r\n",
        "   \t sscinames means Subject Scientific Name(s), separated by a ';'\r\n",
        "   \t scomnames means Subject Common Name(s), separated by a ';'\r\n",
        "   \tsblastnames means Subject Blast Name(s), separated by a ';'\r\n",
        "   \t\t\t (in alphabetical order)\r\n",
        "   \tsskingdoms means Subject Super Kingdom(s), separated by a ';'\r\n",
        "   \t\t\t (in alphabetical order) \r\n",
        "   \t    stitle means Subject Title\r\n",
        "   \tsalltitles means All Subject Title(s), separated by a '<>'\r\n",
        "   \t   sstrand means Subject Strand\r\n",
        "   \t     qcovs means Query Coverage Per Subject\r\n",
        "   \t   qcovhsp means Query Coverage Per HSP\r\n",
        "   When not provided, the default value is:\r\n",
        "   'qseqid sseqid pident length mismatch gapopen qstart qend sstart send\r\n",
        "   evalue bitscore', which is equivalent to the keyword 'std'\r\n",
        "   Default = `0'\r\n",
        " -show_gis\r\n",
        "   Show NCBI GIs in deflines?\r\n",
        " -num_descriptions <Integer, >=0>\r\n",
        "   Number of database sequences to show one-line descriptions for\r\n",
        "   Not applicable for outfmt > 4\r\n",
        "   Default = `500'\r\n",
        "    * Incompatible with:  max_target_seqs\r\n",
        " -num_alignments <Integer, >=0>\r\n",
        "   Number of database sequences to show alignments for\r\n",
        "   Default = `250'\r\n",
        "    * Incompatible with:  max_target_seqs\r\n",
        " -html\r\n",
        "   Produce HTML output?\r\n",
        "\r\n",
        " *** Query filtering options\r\n",
        " -dust <String>\r\n",
        "   Filter query sequence with DUST (Format: 'yes', 'level window linker', or\r\n",
        "   'no' to disable)\r\n",
        "   Default = `20 64 1'\r\n",
        " -filtering_db <String>\r\n",
        "   BLAST database containing filtering elements (i.e.: repeats)\r\n",
        " -window_masker_taxid <Integer>\r\n",
        "   Enable WindowMasker filtering using a Taxonomic ID\r\n",
        " -window_masker_db <String>\r\n",
        "   Enable WindowMasker filtering using this repeats database.\r\n",
        " -soft_masking <Boolean>\r\n",
        "   Apply filtering locations as soft masks\r\n",
        "   Default = `true'\r\n",
        " -lcase_masking\r\n",
        "   Use lower case filtering in query and subject sequence(s)?\r\n",
        "\r\n",
        " *** Restrict search or results\r\n",
        " -gilist <String>\r\n",
        "   Restrict search of database to list of GI's\r\n",
        "    * Incompatible with:  negative_gilist, seqidlist, remote, subject,\r\n",
        "   subject_loc\r\n",
        " -seqidlist <String>\r\n",
        "   Restrict search of database to list of SeqId's\r\n",
        "    * Incompatible with:  gilist, negative_gilist, remote, subject,\r\n",
        "   subject_loc\r\n",
        " -negative_gilist <String>\r\n",
        "   Restrict search of database to everything except the listed GIs\r\n",
        "    * Incompatible with:  gilist, seqidlist, remote, subject, subject_loc\r\n",
        " -entrez_query <String>\r\n",
        "   Restrict search with the given Entrez query\r\n",
        "    * Requires:  remote\r\n",
        " -db_soft_mask <String>\r\n",
        "   Filtering algorithm ID to apply to the BLAST database as soft masking\r\n",
        "    * Incompatible with:  db_hard_mask, subject, subject_loc\r\n",
        " -db_hard_mask <String>\r\n",
        "   Filtering algorithm ID to apply to the BLAST database as hard masking\r\n",
        "    * Incompatible with:  db_soft_mask, subject, subject_loc\r\n",
        " -perc_identity <Real, 0..100>\r\n",
        "   Percent identity\r\n",
        " -culling_limit <Integer, >=0>\r\n",
        "   If the query range of a hit is enveloped by that of at least this many\r\n",
        "   higher-scoring hits, delete the hit\r\n",
        "    * Incompatible with:  best_hit_overhang, best_hit_score_edge\r\n",
        " -best_hit_overhang <Real, (>=0 and =<0.5)>\r\n",
        "   Best Hit algorithm overhang value (recommended value: 0.1)\r\n",
        "    * Incompatible with:  culling_limit\r\n",
        " -best_hit_score_edge <Real, (>=0 and =<0.5)>\r\n",
        "   Best Hit algorithm score edge value (recommended value: 0.1)\r\n",
        "    * Incompatible with:  culling_limit\r\n",
        " -max_target_seqs <Integer, >=1>\r\n",
        "   Maximum number of aligned sequences to keep \r\n",
        "   Not applicable for outfmt <= 4\r\n",
        "   Default = `500'\r\n",
        "    * Incompatible with:  num_descriptions, num_alignments\r\n",
        "\r\n",
        " *** Discontiguous MegaBLAST options\r\n",
        " -template_type <String, `coding', `coding_and_optimal', `optimal'>\r\n",
        "   Discontiguous MegaBLAST template type\r\n",
        "    * Requires:  template_length\r\n",
        " -template_length <Integer, Permissible values: '16' '18' '21' >\r\n",
        "   Discontiguous MegaBLAST template length\r\n",
        "    * Requires:  template_type\r\n",
        "\r\n",
        " *** Statistical options\r\n",
        " -dbsize <Int8>\r\n",
        "   Effective length of the database \r\n",
        " -searchsp <Int8, >=0>\r\n",
        "   Effective length of the search space\r\n",
        " -max_hsps_per_subject <Integer, >=0>\r\n",
        "   Override maximum number of HSPs per subject to save for ungapped searches\r\n",
        "   (0 means do not override)\r\n",
        "   Default = `0'\r\n",
        "\r\n",
        " *** Search strategy options\r\n",
        " -import_search_strategy <File_In>\r\n",
        "   Search strategy to use\r\n",
        "    * Incompatible with:  export_search_strategy\r\n",
        " -export_search_strategy <File_Out>\r\n",
        "   File name to record the search strategy used\r\n",
        "    * Incompatible with:  import_search_strategy\r\n",
        "\r\n",
        " *** Extension options\r\n",
        " -xdrop_ungap <Real>\r\n",
        "   X-dropoff value (in bits) for ungapped extensions\r\n",
        " -xdrop_gap <Real>\r\n",
        "   X-dropoff value (in bits) for preliminary gapped extensions\r\n",
        " -xdrop_gap_final <Real>\r\n",
        "   X-dropoff value (in bits) for final gapped alignment\r\n",
        " -no_greedy\r\n",
        "   Use non-greedy dynamic programming extension\r\n",
        " -min_raw_gapped_score <Integer>\r\n",
        "   Minimum raw gapped score to keep an alignment in the preliminary gapped and\r\n",
        "   traceback stages\r\n",
        " -ungapped\r\n",
        "   Perform ungapped alignment only?\r\n",
        " -window_size <Integer, >=0>\r\n",
        "   Multiple hits window size, use 0 to specify 1-hit algorithm\r\n",
        " -off_diagonal_range <Integer, >=0>\r\n",
        "   Number of off-diagonals to search for the 2nd hit, use 0 to turn off\r\n",
        "   Default = `0'\r\n",
        "\r\n",
        " *** Miscellaneous options\r\n",
        " -parse_deflines\r\n",
        "   Should the query and subject defline(s) be parsed?\r\n",
        " -num_threads <Integer, >=1>\r\n",
        "   Number of threads (CPUs) to use in the BLAST search\r\n",
        "   Default = `1'\r\n",
        "    * Incompatible with:  remote\r\n",
        " -remote\r\n",
        "   Execute search remotely?\r\n",
        "    * Incompatible with:  gilist, seqidlist, negative_gilist, subject_loc,\r\n",
        "   num_threads\r\n",
        "\r\n"
       ]
      }
     ],
     "prompt_number": 4
    },
    {
     "cell_type": "code",
     "collapsed": false,
     "input": [
      "\n",
      "blastx \\\n",
      "-query /Volumes/web/cnidarian/SeaStar/trinity_assemblies/run1/Trinity.fasta \\\n",
      "-db /Volumes/Data/blast_db/refseq_protein \\\n",
      "-out /Volumes/web/cnidarian/seastar_trin_reseq_protein_2.tab \\\n",
      "-outfmt \"6 qseqid sseqid pident length evalue bitscore staxids sscinames scomnames sblastnames sskingdoms stitle\" \\\n",
      "-num_threads 4 \\\n",
      "-max_hsps 1 \\\n",
      "-max_target_seqs 1 \\\n",
      "-evalue 1E-20"
     ],
     "language": "python",
     "metadata": {},
     "outputs": []
    },
    {
     "cell_type": "code",
     "collapsed": false,
     "input": [
      "blastx \\\n",
      "-query /Volumes/web/cnidarian/SeaStar/trinity_assemblies/run1/Trinity.fasta \\\n",
      "-db /Volumes/Data/blast_db/nr \\\n",
      "-out /Volumes/web/cnidarian/seastar_trin_nr_2.tab \\\n",
      "-outfmt \"6 qseqid sseqid pident length evalue bitscore staxids sscinames scomnames sblastnames sskingdoms stitle\" \\\n",
      "-num_threads 2 \\\n",
      "-max_hsps 1 \\\n",
      "-max_target_seqs 1 \\\n",
      "-evalue 1E-20"
     ],
     "language": "python",
     "metadata": {},
     "outputs": []
    },
    {
     "cell_type": "code",
     "collapsed": false,
     "input": [
      "blastn \\\n",
      "-query /Volumes/web/cnidarian/SeaStar/trinity_assemblies/run1/Trinity.fasta \\\n",
      "-db /Volumes/Data/blast_db/est_others \\\n",
      "-out /Volumes/web/cnidarian/seastar_trin_est_others_2.tab \\\n",
      "-outfmt \"6 qseqid sseqid pident length evalue bitscore staxids sscinames scomnames sblastnames sskingdoms stitle\" \\\n",
      "-num_threads 2 \\\n",
      "-max_hsps 1 \\\n",
      "-max_target_seqs 1 \\\n",
      "-evalue 1E-20"
     ],
     "language": "python",
     "metadata": {},
     "outputs": []
    },
    {
     "cell_type": "code",
     "collapsed": false,
     "input": [
      "!tail /Volumes/web/cnidarian/seastar_trin_est_others_2.tab"
     ],
     "language": "python",
     "metadata": {},
     "outputs": [
      {
       "output_type": "stream",
       "stream": "stdout",
       "text": [
        "c391563_g1_i1\tgi|161894886|gb|FC173268.1|\t97.55\t204\t2e-93\t  350\t9555\tPapio anubis\tolive baboon\tprimates\tEukaryota\t1106908830000 BABEVPN-C-01-1-7KB Papio anubis cDNA clone 1061041918858 3' similar to H. sapiens LTBP1 (UniProtKB/TrEMBL:A1L3V1), mRNA sequence.\r\n",
        "c391576_g1_i1\tgi|50279372|emb|CR558093.1|\t98.86\t88\t2e-35\t  158\t9601\tPongo abelii\tSumatran orangutan\tprimates\tEukaryota\tDKFZp459M1637_r1 459 (synonym: pcor1) Pongo abelii cDNA clone DKFZp459M1637 5', mRNA sequence.\r\n",
        "c391577_g1_i1\tgi|70739244|gb|DR650768.1|\t96.70\t91\t1e-33\t  152\t117187\tFusarium verticillioides\tFusarium verticillioides\tascomycetes\tEukaryota\tEST1040885 FvN Gibberella moniliformis cDNA clone FVNAV71, mRNA sequence.\r\n",
        "c391617_g1_i1\tgi|52611605|emb|CR768460.1|\t97.93\t242\t3e-113\t  416\t9601\tPongo abelii\tSumatran orangutan\tprimates\tEukaryota\tDKFZp469M0739_r1 469 (synonym: pkid1) Pongo abelii cDNA clone DKFZp469M0739 5', mRNA sequence.\r\n",
        "c391662_g1_i1\tgi|475089225|dbj|HX656658.1|\t92.86\t98\t4e-31\t  143\t9483\tCallithrix jacchus\twhite-tufted-ear marmoset\tprimates\tEukaryota\tHX656658 full-length enriched common marmoset testis cDNA library Callithrix jacchus cDNA clone MTE-181N23, mRNA sequence.\r\n",
        "c391675_g1_i1\tgi|213456124|gb|GE867116.1|\t95.03\t181\t8e-74\t  285\t9555\tPapio anubis\tolive baboon\tprimates\tEukaryota\t1112870068625 BABEVCEREB-C-01-1-7KB Papio anubis cDNA clone 1061056089707 5', mRNA sequence.\r\n",
        "c391710_g1_i1\tgi|161855589|gb|FC140874.1|\t92.58\t229\t4e-86\t  326\t9555\tPapio anubis\tolive baboon\tprimates\tEukaryota\t1106908534099 BABEVPN-C-01-1-7KB Papio anubis cDNA clone 1061041914476 3', mRNA sequence.\r\n",
        "c391727_g1_i1\tgi|84128012|gb|CV874052.1|\t89.63\t135\t5e-40\t  172\t9823\tSus scrofa\tpig\teven-toed ungulates\tEukaryota\tPDUts1122B10 Porcine testis cDNA library I Sus scrofa cDNA clone PDUts1122B10 5' similar to homologue to ref|XM_225708.2| Rattus norvegicus similar to RIKEN cDNA C230094B15 (LOC307255), mRNA, mRNA sequence.\r\n",
        "c391828_g1_i1\tgi|60974360|gb|DN529128.1|\t91.57\t83\t1e-22\t  115\t9913\tBos taurus\tcattle\teven-toed ungulates\tEukaryota\t1317755 MARC 7BOV Bos taurus cDNA 3"
       ]
      },
      {
       "output_type": "stream",
       "stream": "stdout",
       "text": [
        "', mRNA sequence.\r\n",
        "c391838_g1_i1\tgi|40467639|dbj|BP456004.1|\t80.71\t197\t3e-32\t  147\t9823\tSus scrofa\tpig\teven-toed ungulates\tEukaryota\tBP456004 full-length enriched swine cDNA library, adult ovary Sus scrofa cDNA clone OVRM10175B06 5', mRNA sequence.\r\n"
       ]
      }
     ],
     "prompt_number": 6
    },
    {
     "cell_type": "code",
     "collapsed": false,
     "input": [
      "!wc -l /Volumes/web/cnidarian/seastar_trin_est_others_2.tab"
     ],
     "language": "python",
     "metadata": {},
     "outputs": [
      {
       "output_type": "stream",
       "stream": "stdout",
       "text": [
        "    5030 /Volumes/web/cnidarian/seastar_trin_est_others_2.tab\r\n"
       ]
      }
     ],
     "prompt_number": 7
    },
    {
     "cell_type": "code",
     "collapsed": false,
     "input": [
      "#fail\n",
      "\n",
      "blastx \\\n",
      "-query /Volumes/web/cnidarian/SeaStar/trinity_assemblies/run1/Trinity.fasta \\\n",
      "-db /Volumes/Data/blast_db/swissprot \\\n",
      "-out /Volumes/web/cnidarian/seastar_trin_swissprot_2.tab \\\n",
      "-outfmt \"6 qseqid sseqid pident length evalue bitscore staxids sscinames scomnames sblastnames sskingdoms stitle\" \\\n",
      "-num_threads 8 \\\n",
      "-max_hsps 1 \\\n",
      "-max_target_seqs 1 \\\n",
      "-evalue 1E-20\n"
     ],
     "language": "python",
     "metadata": {},
     "outputs": []
    },
    {
     "cell_type": "code",
     "collapsed": false,
     "input": [
      "#fail Segmentation fault: 11\n",
      "\n",
      "blastx \\\n",
      "-query /Volumes/web/cnidarian/SeaStar/trinity_assemblies/run1/Trinity.fasta \\\n",
      "-db /Volumes/Data/blast_db/uniprot_sprot \\\n",
      "-out /Volumes/web/cnidarian/seastar_trin_uniprot_sprot_2.tab \\\n",
      "-outfmt \"6 qseqid sseqid pident length evalue bitscore staxids sscinames scomnames sblastnames sskingdoms stitle\" \\\n",
      "-num_threads 8 \\\n",
      "-max_hsps 1 \\\n",
      "-max_target_seqs 1 \\\n",
      "-evalue 1E-20"
     ],
     "language": "python",
     "metadata": {},
     "outputs": []
    }
   ],
   "metadata": {}
  }
 ]
}