{
 "metadata": {
  "celltoolbar": "Slideshow",
  "name": "",
  "signature": "sha256:46a1fb227d149e63fd5606f9e0f94206c87796b4fdb4107531a39db629dda2d9"
 },
 "nbformat": 3,
 "nbformat_minor": 0,
 "worksheets": [
  {
   "cells": [
    {
     "cell_type": "markdown",
     "metadata": {
      "slideshow": {
       "slide_type": "slide"
      }
     },
     "source": [
      "<img src=\"http://eagle.fish.washington.edu/cnidarian/skitch/QPX_clams_pdf__page_1_of_59__1985A03F.png\" alt=\"QPX_clams_pdf__page_1_of_59__1985A03F.png\"/>"
     ]
    },
    {
     "cell_type": "code",
     "collapsed": false,
     "input": [],
     "language": "python",
     "metadata": {},
     "outputs": []
    }
   ],
   "metadata": {}
  }
 ]
}