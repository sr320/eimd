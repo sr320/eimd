{
 "metadata": {
  "name": "",
  "signature": "sha256:cadcfe7a45c126572bdc9252192aed4584d5cfe7d4a7171e417cf7867573e5d5"
 },
 "nbformat": 3,
 "nbformat_minor": 0,
 "worksheets": [
  {
   "cells": [
    {
     "cell_type": "heading",
     "level": 1,
     "metadata": {},
     "source": [
      "Immune Response of P. hel "
     ]
    },
    {
     "cell_type": "markdown",
     "metadata": {},
     "source": [
      "This notebook accompanies the manuscript xxx "
     ]
    },
    {
     "cell_type": "code",
     "collapsed": false,
     "input": [
      "cd data"
     ],
     "language": "python",
     "metadata": {},
     "outputs": []
    },
    {
     "cell_type": "code",
     "collapsed": false,
     "input": [
      "pwd"
     ],
     "language": "python",
     "metadata": {},
     "outputs": [
      {
       "metadata": {},
       "output_type": "pyout",
       "prompt_number": 13,
       "text": [
        "u'/Volumes/caviar/Dropbox/Steven/eimd/paper/data'"
       ]
      }
     ],
     "prompt_number": 13
    },
    {
     "cell_type": "code",
     "collapsed": false,
     "input": [
      "!head -2 Phel_transcriptome.fasta"
     ],
     "language": "python",
     "metadata": {},
     "outputs": [
      {
       "output_type": "stream",
       "stream": "stdout",
       "text": [
        ">Phel_contig_1\r\n",
        "CAAATATATGAACGGTTGATTGTCAACGATTAGTACATGTTTTCATTGTTCCCCACGCCCGCCCCCCCCCACTCAAACATTTAAAGTGTGAAATATTATTTATCCACAAATTTCCTTAAACCTGCAAACTTGTCTGCTGTCTCTTATTGGAAGTTATGAAAAAGAACAACGGGTTTTCTTTAAAGGGTCTGCGTGCGATTTTCAACCTTTTGAGTAATAGCAGTTATTTTGATAACCGATTTTTTTCAAAGCTCAACAGCTTTTTAAAATAAGGAATCCTATAATGGCCAAACGAATACTATAAAAATAAGGGTTCTCTTAATTGTATAAAACGTATAATTTTATCAATTTTGGGACCGTGTAATTTTTTAAAGACCACAAGAATGTTACATACAACAAATAGACGAAACTCGTAGCTTTGGAAACTACGTCATGGGCGTTTGGTCAAAAGCTGGAGAGAAAGAGAGGTGGGGTGCCAGACTTAAGTAGTCACGTGATCTGACCAACGCACATCGGAAGCTCGATCGGATGAAATCTTCTCTATCGTTCTTGCGTCTATACGTGCTACGAAGAGCTGACAGAAGTTTGGACTTGTTTACTTCTTGCACCTGTTGATGGAACGGCCACGGACCTTGTCGCACGCACACCTGGAGCCAGTGCTCGGATCGACGCAACGGATGTACTGTCTTCCCCTTCCGCGTTTCTCAAGTAGGTACTCAAAGTCGTCCGCGTCGAAGTTGGCCTCGGCGTCCCTCTTCTCCAGCTCCTCCATGTCCTCCTCTGTGTAGTACGGGGTGACGAGCACCACCAGGGCGGCCACAATGGCCAGTGCTAGAAGACACTTCGTATTCATTCTGCTGGTGGTTGGATGTGCGCAAACAAGACAGGAGAGACTTATTAGAATC\r\n"
       ]
      }
     ],
     "prompt_number": 15
    },
    {
     "cell_type": "code",
     "collapsed": false,
     "input": [
      "!perl ../scripts/count_fasta.pl -i 1000 Phel_transcriptome.fasta"
     ],
     "language": "python",
     "metadata": {},
     "outputs": [
      {
       "output_type": "stream",
       "stream": "stdout",
       "text": [
        "\r\n",
        "0:999 \t15505\r\n",
        "1000:1999 \t8559\r\n",
        "2000:2999 \t3003\r\n",
        "3000:3999 \t1240\r\n",
        "4000:4999 \t580\r\n",
        "5000:5999 \t312\r\n",
        "6000:6999 \t129\r\n",
        "7000:7999 \t72\r\n",
        "8000:8999 \t31\r\n",
        "9000:9999 \t19\r\n",
        "10000:10999 \t9\r\n",
        "11000:11999 \t7\r\n",
        "12000:12999 \t2\r\n",
        "13000:13999 \t4\r\n",
        "14000:14999 \t3\r\n",
        "15000:15999 \t0\r\n",
        "16000:16999 \t1\r\n",
        "\r\n",
        "Total length of sequence:\t40747496 bp\r\n",
        "Total number of sequences:\t29476\r\n",
        "N25 stats:\t\t\t25% of total sequence length is contained in the 2260 sequences >= 3085 bp\r\n",
        "N50 stats:\t\t\t50% of total sequence length is contained in the 6715 sequences >= 1757 bp\r\n",
        "N75 stats:\t\t\t75% of total sequence length is contained in the 14612 sequences >= 959 bp\r\n",
        "Total GC count:\t\t\t16459121 bp\r\n",
        "GC %:\t\t\t\t40.39 %\r\n",
        "\r\n"
       ]
      }
     ],
     "prompt_number": 16
    },
    {
     "cell_type": "code",
     "collapsed": false,
     "input": [
      "!perl -e '$count=0; $len=0; while(<>) {s/\\r?\\n//; s/\\t/ /g; if (s/^>//) { if ($. != 1) {print \"\\n\"} s/ |$/\\t/; $count++; $_ .= \"\\t\";} else {s/ //g; $len += length($_)} print $_;} print \"\\n\"; warn \"\\nConverted $count FASTA records in $. lines to tabular format\\nTotal sequence length: $len\\n\\n\";' Phel_transcriptome.fasta > Phel_transcriptome.tab"
     ],
     "language": "python",
     "metadata": {},
     "outputs": [
      {
       "output_type": "stream",
       "stream": "stdout",
       "text": [
        "\r\n",
        "Converted 29476 FASTA records in 58952 lines to tabular format\r\n",
        "Total sequence length: 40747496\r\n",
        "\r\n"
       ]
      }
     ],
     "prompt_number": 17
    },
    {
     "cell_type": "code",
     "collapsed": false,
     "input": [
      "!head -2 Phel_transcriptome.tab"
     ],
     "language": "python",
     "metadata": {},
     "outputs": [
      {
       "output_type": "stream",
       "stream": "stdout",
       "text": [
        "Phel_contig_1\t\tCAAATATATGAACGGTTGATTGTCAACGATTAGTACATGTTTTCATTGTTCCCCACGCCCGCCCCCCCCCACTCAAACATTTAAAGTGTGAAATATTATTTATCCACAAATTTCCTTAAACCTGCAAACTTGTCTGCTGTCTCTTATTGGAAGTTATGAAAAAGAACAACGGGTTTTCTTTAAAGGGTCTGCGTGCGATTTTCAACCTTTTGAGTAATAGCAGTTATTTTGATAACCGATTTTTTTCAAAGCTCAACAGCTTTTTAAAATAAGGAATCCTATAATGGCCAAACGAATACTATAAAAATAAGGGTTCTCTTAATTGTATAAAACGTATAATTTTATCAATTTTGGGACCGTGTAATTTTTTAAAGACCACAAGAATGTTACATACAACAAATAGACGAAACTCGTAGCTTTGGAAACTACGTCATGGGCGTTTGGTCAAAAGCTGGAGAGAAAGAGAGGTGGGGTGCCAGACTTAAGTAGTCACGTGATCTGACCAACGCACATCGGAAGCTCGATCGGATGAAATCTTCTCTATCGTTCTTGCGTCTATACGTGCTACGAAGAGCTGACAGAAGTTTGGACTTGTTTACTTCTTGCACCTGTTGATGGAACGGCCACGGACCTTGTCGCACGCACACCTGGAGCCAGTGCTCGGATCGACGCAACGGATGTACTGTCTTCCCCTTCCGCGTTTCTCAAGTAGGTACTCAAAGTCGTCCGCGTCGAAGTTGGCCTCGGCGTCCCTCTTCTCCAGCTCCTCCATGTCCTCCTCTGTGTAGTACGGGGTGACGAGCACCACCAGGGCGGCCACAATGGCCAGTGCTAGAAGACACTTCGTATTCATTCTGCTGGTGGTTGGATGTGCGCAAACAAGACAGGAGAGACTTATTAGAATC\r\n",
        "Phel_contig_10\t\tTGTACCCCTGGGTGGACAGAAGCAATTATAGTAAAGTATCTTGCTCAAGGACACAAGTGTCATGACCGGGATTCGAACCCACACCCCGATGACTCAACCACCAGAACTTGAATACGATGCTCTAAACCGCTCAGCCATGACACCCTGGAAAACAACATTCATTATCTCATTCCCATTCAAAGGTCTGTCAGTTTCATATTATTTGTGTCAAGCAATAAAAAACAAGTTGCATTAATATTGCATTTTCATCTGACTACAGCAGCAATTGCGACAGATTCTCAAGACCACAAAGATTCCTATTCTCAGCCTCATCTTGATGCAATGCCAGCTCAGCGTAAAGACGACGAAGCCCTGAGGAGCATCATCAGCCAAGAACCGTGGAACTACGAGGTCTTATACACTGTCAAGATTGAGAAGGTGTACAAGACGGTGGACGGGAAGGTCTCCATGAGGGAAGGGGAGGAGGTTCAGATTAAGAGTTTCTATCCTGGGGGAATGTTTTGCGGAGTGGAGCTCAAGAAAGGAAAATCCTATGTTTTAGGAGGTGCCATCAAGGATCAGATTGGCAGATGTGACTTAATACTCGAATATAAGACCATCTCGAAAAGACAAAAGCAAGGACTCCGCAGCAACTATGGCAAATTCTGTGACAAGTGTCAGATTGCAACATGTCACTCCCCCCAATGCGCCGCCCACCTGCCGGAGAACACGTGTGCGTACATGGCCCACGACAGTTACGACAGACACGGTATCGGCTACCAGGAGGATGACTGCCTCGCAGCGCACTCCAAATGCCTCCCAAAAGAAGGTCACAAGATGTGCCAGTGGCACAGAAATAAAGATTTGAAGGGATGTCTGAGTGAGACGGGTGTGGACAGTCGCCCGGGTGTGAATCAGGGGCCAAGGAGACATCGCCAATCGCAGGGTCAACATTAAGACTGGTTTTTTTTCTTTTGCACTTTGTTCTTCCGTCTCTCTTTGTATTTTCCCACAACCTCCCTCTTTCTTCATCTTGCTTTTTTGTTTTAATAATTTTTTTTTTAATGCTGCACATAATTTATAAAGAGCCAGTGTGGTCTCGAACGTCTTCAATAATAAAACTACTGATCCAAACTTGAAACTGTTACCATTAACTACAGTTAGTAGGGTGTCTCATATTGTATAATGCAAGTAATGTATAAAGACATCGATGACATCACTCTTGGATTGTCATACGAACAATTTTGTTTCATTGTTTCGGGGTTGTGTTTTTCCTTCTTCATTTTTTAATGGGCGGACCAAAAAAGAGCAGGGCAACACCTGACTCTTACTTAATAGACTACATTCAGTTTCCTTTCATTTTTATTTACCAAACAAAAAGTCTGAAGGACTCAAAACTATTTAGTTCATACAATGCCAAAAAAAAGCTGTCATAATTTGGGTTGGGGATAAAAAAGATTAATATACCAACTTTTGTTTCATTGTACACCAATGTGTAATAAGCACTGTAGAGACCATTCTATTGCAAGTAAGTCATTATGGTCATTAACTTGTGGAGTAATTACCAAAAGTATACCCTGCCTTCGAAACCAAAAATATTATCAACACTCTTTTTGATCACAACAATACAATGTTGTTTTTCACCTCTGCTGTATTTTTTTCTGTTTCTAAAAACGCATATACTCCTTCATGCTCACAGCGCACTAAACATGTACACGCTTACAAAATGTAAGCAAATAAATATATATATAAATATTAAGCTTTTAAAAGAAATCTATAAACAAAAATTTAAATAGTGTACAAAAATAGACTAAAATGGCTTTTTAGTGTACTCTATATATTTTTATTATGTGTATGTACTAGAACAAATTCAGTTGTAAGCATGTTTATCTCCGTTTATCTTGCTTAATTTATCCAAAGGCTAAAATGTTTTTAAAATCATCGAATCCGAAGATCGGTTTCTAATCCAAAGTCCAATGATGTTTTGTACCTTTCAAATCTCTAATATTTCATTTTTTTTCCTGGAAAAGAAGTGGTTTGAACAATATTTCAATCATCCTACGGCAGGTAGGTGACGGGATCATGCCTATGATGATACAAACATGGAATTTGGCACACAGTCGGACTAAGTCATGAGAATGATATTTGGCGATGGGGCC\r\n"
       ]
      }
     ],
     "prompt_number": 18
    },
    {
     "cell_type": "heading",
     "level": 1,
     "metadata": {},
     "source": [
      "Annotation"
     ]
    },
    {
     "cell_type": "heading",
     "level": 3,
     "metadata": {},
     "source": [
      "UniProtKB/Swiss_Prot"
     ]
    },
    {
     "cell_type": "code",
     "collapsed": false,
     "input": [
      "blastx \\\n",
      "-query /Volumes/web/cnidarian/Phel_transcriptome.fasta \\\n",
      "-db /Volumes/web/whale/blast/db/uniprot_sprot \\\n",
      "-out /Volumes/web/cnidarian/Phel_uniprot_sprot_1020.tab \\\n",
      "-evalue 1E-05 \\\n",
      "-max_target_seqs 1 \\\n",
      "-max_hsps 1 \\\n",
      "-outfmt 6 \\\n",
      "-num_threads 16"
     ],
     "language": "python",
     "metadata": {},
     "outputs": []
    },
    {
     "cell_type": "code",
     "collapsed": false,
     "input": [
      "#!curl -O http://eagle.fish.washington.edu/cnidarian/Phelv3_uniprot_sprot.tab"
     ],
     "language": "python",
     "metadata": {},
     "outputs": [
      {
       "output_type": "stream",
       "stream": "stdout",
       "text": [
        "  % Total    % Received % Xferd  Average Speed   Time    Time     Time  Current\r\n",
        "                                 Dload  Upload   Total   Spent    Left  Speed\r\n",
        "\r",
        "  0     0    0     0    0     0      0      0 --:--:-- --:--:-- --:--:--     0"
       ]
      },
      {
       "output_type": "stream",
       "stream": "stdout",
       "text": [
        "\r",
        "  1  878k    1 13261    0     0  35875      0  0:00:25 --:--:--  0:00:25 38661"
       ]
      },
      {
       "output_type": "stream",
       "stream": "stdout",
       "text": [
        "\r",
        " 11  878k   11  103k    0     0  57869      0  0:00:15  0:00:01  0:00:14 58746"
       ]
      },
      {
       "output_type": "stream",
       "stream": "stdout",
       "text": [
        "\r",
        " 41  878k   41  368k    0     0   157k      0  0:00:05  0:00:02  0:00:03  159k"
       ]
      },
      {
       "output_type": "stream",
       "stream": "stdout",
       "text": [
        "\r",
        " 88  878k   88  773k    0     0   230k      0  0:00:03  0:00:03 --:--:--  232k"
       ]
      },
      {
       "output_type": "stream",
       "stream": "stdout",
       "text": [
        "\r",
        "100  878k  100  878k    0     0   210k      0  0:00:04  0:00:04 --:--:--  211k\r\n"
       ]
      }
     ],
     "prompt_number": 11
    },
    {
     "cell_type": "code",
     "collapsed": false,
     "input": [
      "!head -2 Phel_uniprot_sprot.tab"
     ],
     "language": "python",
     "metadata": {},
     "outputs": [
      {
       "output_type": "stream",
       "stream": "stdout",
       "text": [
        "Phel_contig_100\tsp|Q16513|PKN2_HUMAN\t81.33\t332\t61\t1\t7935\t6940\t653\t983\t5e-162\t  537\r\n",
        "Phel_contig_1000\tsp|Q8R4U2|PDIA1_CRIGR\t53.62\t442\t201\t2\t199\t1512\t31\t472\t5e-146\t  464\r\n"
       ]
      }
     ],
     "prompt_number": 26
    },
    {
     "cell_type": "code",
     "collapsed": false,
     "input": [
      "!wc -l Phel_uniprot_sprot.tab"
     ],
     "language": "python",
     "metadata": {},
     "outputs": [
      {
       "output_type": "stream",
       "stream": "stdout",
       "text": [
        "   10513 Phel_uniprot_sprot.tab\r\n"
       ]
      }
     ],
     "prompt_number": 27
    },
    {
     "cell_type": "code",
     "collapsed": false,
     "input": [
      "#convert pipes for upload to SQLShare\n",
      "!tr '|' \"\\t\" <Phel_uniprot_sprot.tab> Phel_uniprot_sprot_sql.tab"
     ],
     "language": "python",
     "metadata": {},
     "outputs": [],
     "prompt_number": 28
    },
    {
     "cell_type": "code",
     "collapsed": false,
     "input": [
      "!head -2 Phel_uniprot_sprot_sql.tab"
     ],
     "language": "python",
     "metadata": {},
     "outputs": [
      {
       "output_type": "stream",
       "stream": "stdout",
       "text": [
        "Phel_contig_100\tsp\tQ16513\tPKN2_HUMAN\t81.33\t332\t61\t1\t7935\t6940\t653\t983\t5e-162\t  537\r\n",
        "Phel_contig_1000\tsp\tQ8R4U2\tPDIA1_CRIGR\t53.62\t442\t201\t2\t199\t1512\t31\t472\t5e-146\t  464\r\n"
       ]
      }
     ],
     "prompt_number": 29
    },
    {
     "cell_type": "code",
     "collapsed": false,
     "input": [
      "#sqlshare python tools location (setting variable)\n",
      "sst=\"/Users/sr320/sqlshare-pythonclient/tools/\""
     ],
     "language": "python",
     "metadata": {},
     "outputs": [],
     "prompt_number": 30
    },
    {
     "cell_type": "code",
     "collapsed": false,
     "input": [
      "!python {sst}singleupload.py Phel_uniprot_sprot_sql.tab"
     ],
     "language": "python",
     "metadata": {},
     "outputs": [
      {
       "output_type": "stream",
       "stream": "stdout",
       "text": [
        "processing chunk line 0 to 10513 (0.00643396377563 s elapsed)\r\n",
        "pushing Phel_uniprot_sprot_sql.tab...\r\n"
       ]
      },
      {
       "output_type": "stream",
       "stream": "stdout",
       "text": [
        "parsing AF885415...\r\n"
       ]
      },
      {
       "output_type": "stream",
       "stream": "stdout",
       "text": [
        "finished Phel_uniprot_sprot_sql.tab\r\n"
       ]
      }
     ],
     "prompt_number": 31
    },
    {
     "cell_type": "code",
     "collapsed": false,
     "input": [
      "#joining with uniprot information in SQLShare"
     ],
     "language": "python",
     "metadata": {},
     "outputs": []
    },
    {
     "cell_type": "code",
     "collapsed": false,
     "input": [
      "!python {sst}fetchdata.py -s \"SELECT * FROM [sr320@washington.edu].[Phel_uniprot_sprot_sql.tab]phel left join [sr320@washington.edu].[uniprot-reviewed_wGO_010714]des on phel.Column3=des.Entry\" -f tsv -o Phel_uniprot_info.tab\n"
     ],
     "language": "python",
     "metadata": {},
     "outputs": [],
     "prompt_number": 37
    },
    {
     "cell_type": "code",
     "collapsed": false,
     "input": [
      "!head -2 Phel_uniprot_info.tab"
     ],
     "language": "python",
     "metadata": {},
     "outputs": [
      {
       "output_type": "stream",
       "stream": "stdout",
       "text": [
        "Column1\tColumn2\tColumn3\tColumn4\tColumn5\tColumn6\tColumn7\tColumn8\tColumn9\tColumn10\tColumn11\tColumn12\tColumn13\tColumn14\tEntry\tEntry name\tGene ontology IDs\tInteracts with\tCross-reference (GO)\tGene ontology (GO)\tStatus\tInterPro\tPathway\tProtein names\tGene names\tOrganism\tLength\r",
        "\r\n",
        "Phel_contig_100\tsp\tQ16513\tPKN2_HUMAN\t81.33\t332\t61\t1\t7935\t6940\t653\t983\t5E-162\t537\tQ16513\tPKN2_HUMAN\tGO:0005524; GO:0043297; GO:0043296; GO:0006915; GO:0007155; GO:0007049; GO:0051301; GO:0032154; GO:0005737; GO:0005856; GO:0010631; GO:0042826; GO:0030027; GO:0016020; GO:0030496; GO:0005634; GO:0032467; GO:0045931; GO:0004697; GO:0004674; GO:2000145; GO:0006355; GO:0007165; GO:0006351\tQ15118\t\tATP binding; apical junction assembly; apical junction complex; apoptotic process; cell adhesion; cell cycle; cell division; cleavage furrow; cytoplasm; cytoskeleton; epithelial cell migration; histone deacetylase binding; lamellipodium; membrane; midbody; nucleus; positive regulation of cytokinesis; positive regulation of mitotic cell cycle; protein kinase C activity; protein serine/threonine kinase activity; regulation of cell motility; regulation of transcription, DNA-dependent; signal transduction; transcription, DNA-dependent\treviewed\tIPR000961; IPR000008; IPR011072; IPR011009; IPR017892; IPR000719; IPR017441; IPR002290; IPR008271;\t\tSerine/threonine-protein kinase N2 (EC 2.7.11.13) (PKN gamma) (Protein kinase C-like 2) (Protein-kinase C-related kinase 2)\tPKN2 PRK2 PRKCL2\tHomo sapiens (Human)\t984\r",
        "\r\n"
       ]
      }
     ],
     "prompt_number": 38
    },
    {
     "cell_type": "code",
     "collapsed": false,
     "input": [
      "!wc -l Phel_uniprot_info.tab"
     ],
     "language": "python",
     "metadata": {},
     "outputs": [
      {
       "output_type": "stream",
       "stream": "stdout",
       "text": [
        "   10514 Phel_uniprot_info.tab\r\n"
       ]
      }
     ],
     "prompt_number": 43
    },
    {
     "cell_type": "code",
     "collapsed": false,
     "input": [
      "#cleaning up table to only show certain columns"
     ],
     "language": "python",
     "metadata": {},
     "outputs": []
    },
    {
     "cell_type": "code",
     "collapsed": false,
     "input": [
      "!head Phel_uniprot_info_hits.tab"
     ],
     "language": "python",
     "metadata": {},
     "outputs": [
      {
       "output_type": "stream",
       "stream": "stdout",
       "text": [
        "Phel_contigID\tBlastx_hit_SPID\tBlastx_hit_description\tBlastx_evalue\tBlastx_hit_sp\r\n",
        "Phel_contig_100\tQ16513\tSerine/threonine-protein kinase N2 (EC 2.7.11.13) (PKN gamma) (Protein kinase C-like 2) (Protein-kinase C-related kinase 2)\t5.00E-162\tHomo sapiens (Human)\r\n",
        "Phel_contig_1000\tQ8R4U2\tProtein disulfide-isomerase (PDI) (EC 5.3.4.1) (Prolyl 4-hydroxylase subunit beta) (p58)\t5.00E-146\tCricetulus griseus (Chinese hamster) (Cricetulus barabensis griseus)\r\n",
        "Phel_contig_10006\tQ9Y2H9\tMicrotubule-associated serine/threonine-protein kinase 1 (EC 2.7.11.1) (Syntrophin-associated serine/threonine-protein kinase)\t6.00E-132\tHomo sapiens (Human)\r\n",
        "Phel_contig_10021\tQ96MU7\tYTH domain-containing protein 1 (Putative splicing factor YT521)\t1.00E-73\tHomo sapiens (Human)\r\n",
        "Phel_contig_10025\tQ8BFQ8\tParkinson disease 7 domain-containing protein 1\t2.00E-70\tMus musculus (Mouse)\r\n",
        "Phel_contig_10030\tQ5RA95\tProtein NDRG3 (N-myc downstream-regulated gene 3 protein)\t3.00E-69\tPongo abelii (Sumatran orangutan) (Pongo pygmaeus abelii)\r\n",
        "Phel_contig_10031\tQ8LEV3\tBTB/POZ domain-containing protein At2g30600\t5.00E-07\tArabidopsis thaliana (Mouse-ear cress)\r\n",
        "Phel_contig_10034\tB9EKI3\tTATA element modulatory factor (TMF) (Androgen receptor coactivator 160 kDa protein) (Androgen receptor-associated protein of 160 kDa)\t2.00E-161\tMus musculus (Mouse)\r\n",
        "Phel_contig_10039\tQ5FVB0\tAtaxin-10 (Spinocerebellar ataxia type 10 protein homolog)\t1.00E-59\tXenopus tropicalis (Western clawed frog) (Silurana tropicalis)\r\n"
       ]
      }
     ],
     "prompt_number": 48
    },
    {
     "cell_type": "code",
     "collapsed": false,
     "input": [],
     "language": "python",
     "metadata": {},
     "outputs": [],
     "prompt_number": 42
    },
    {
     "cell_type": "code",
     "collapsed": false,
     "input": [],
     "language": "python",
     "metadata": {},
     "outputs": []
    },
    {
     "cell_type": "code",
     "collapsed": false,
     "input": [],
     "language": "python",
     "metadata": {},
     "outputs": []
    },
    {
     "cell_type": "heading",
     "level": 1,
     "metadata": {},
     "source": [
      "Differential Expression Analysis"
     ]
    },
    {
     "cell_type": "markdown",
     "metadata": {},
     "source": [
      "Count data from CLC..."
     ]
    },
    {
     "cell_type": "code",
     "collapsed": false,
     "input": [
      "!head Phelv3_counts.txt"
     ],
     "language": "python",
     "metadata": {},
     "outputs": [
      {
       "output_type": "stream",
       "stream": "stdout",
       "text": [
        "Feature ID\tV_CF71 - Total gene reads\tV_CF34 - Total gene reads\tV_CF26 - Total gene reads\tHK_CF70 - Total gene reads\tHK_CF2 - Total gene reads\tHK_CF35 - Total gene reads\r\n",
        "Phel_clc_contig_1\t168\t37\t8\t89\t28\t38\r\n",
        "Phel_clc_contig_10\t9518\t2752\t839\t22\t42\t180\r\n",
        "Phel_clc_contig_100\t260\t565\t413\t616\t1234\t6104\r\n",
        "Phel_clc_contig_1000\t2043\t3842\t3070\t4311\t8527\t31946\r\n",
        "Phel_clc_contig_10000\t9\t12\t13\t32\t21\t211\r\n",
        "Phel_clc_contig_10001\t44\t225\t89\t90\t54\t365\r\n",
        "Phel_clc_contig_10002\t38\t61\t80\t185\t478\t1267\r\n",
        "Phel_clc_contig_10003\t9\t29\t20\t17\t29\t186\r\n",
        "Phel_clc_contig_10004\t8\t25\t6\t4\t19\t92\r\n"
       ]
      }
     ],
     "prompt_number": 49
    },
    {
     "cell_type": "code",
     "collapsed": false,
     "input": [
      "%load_ext rpy2.ipython\n"
     ],
     "language": "python",
     "metadata": {},
     "outputs": [],
     "prompt_number": 50
    },
    {
     "cell_type": "code",
     "collapsed": false,
     "input": [
      "%%R \n",
      "version"
     ],
     "language": "python",
     "metadata": {},
     "outputs": [
      {
       "metadata": {},
       "output_type": "display_data",
       "text": [
        "               _                           \n",
        "platform       x86_64-apple-darwin10.8.0   \n",
        "arch           x86_64                      \n",
        "os             darwin10.8.0                \n",
        "system         x86_64, darwin10.8.0        \n",
        "status                                     \n",
        "major          3                           \n",
        "minor          1.1                         \n",
        "year           2014                        \n",
        "month          07                          \n",
        "day            10                          \n",
        "svn rev        66115                       \n",
        "language       R                           \n",
        "version.string R version 3.1.1 (2014-07-10)\n",
        "nickname       Sock it to Me               \n"
       ]
      }
     ],
     "prompt_number": 51
    },
    {
     "cell_type": "code",
     "collapsed": false,
     "input": [
      "%%R \n",
      "source(\"http://bioconductor.org/biocLite.R\")\n",
      "biocLite(\"DESeq2\")"
     ],
     "language": "python",
     "metadata": {},
     "outputs": [
      {
       "name": "stdout",
       "output_type": "stream",
       "stream": "stdout",
       "text": [
        "a\n"
       ]
      },
      {
       "metadata": {},
       "output_type": "display_data",
       "text": [
        "Bioconductor version 2.14 (BiocInstaller 1.14.2), ?biocLite for help\n",
        "trying URL 'http://bioconductor.org/packages/2.14/bioc/bin/macosx/contrib/3.1/BiocInstaller_1.14.3.tgz'\n",
        "Content type 'application/x-gzip' length 49886 bytes (48 Kb)\n",
        "opened URL\n",
        "==================================================\n",
        "downloaded 48 Kb\n",
        "\n",
        "\n",
        "The downloaded binary packages are in\n",
        "\t/var/folders/sy/s4s23msj2hg86pcvg8n312fw0000gn/T//RtmpIIJazD/downloaded_packages\n",
        "Bioconductor version 2.14 (BiocInstaller 1.14.3), ?biocLite for help\n",
        "A newer version of Bioconductor is available for this version of R,\n",
        "  ?BiocUpgrade for help\n",
        "'BiocInstaller' updated to version 1.14.3\n",
        "BioC_mirror: http://bioconductor.org\n",
        "Using Bioconductor version 2.14 (BiocInstaller 1.14.3), R version\n",
        "  3.1.1.\n",
        "Installing package(s) 'DESeq2'\n",
        "trying URL 'http://bioconductor.org/packages/2.14/bioc/bin/macosx/contrib/3.1/DESeq2_1.4.5.tgz'\n",
        "Content type 'application/x-gzip' length 1322596 bytes (1.3 Mb)\n",
        "opened URL\n",
        "==================================================\n",
        "downloaded 1.3 Mb\n",
        "\n",
        "\n",
        "The downloaded binary packages are in\n",
        "\t/var/folders/sy/s4s23msj2hg86pcvg8n312fw0000gn/T//RtmpIIJazD/downloaded_packages\n",
        "Old packages: 'nlme'\n",
        "Update all/some/none? [a/s/n]: trying URL 'http://cran.fhcrc.org/bin/macosx/contrib/3.1/nlme_3.1-118.tgz'\n",
        "Content type 'application/x-gzip' length 2120790 bytes (2.0 Mb)\n",
        "opened URL\n",
        "==================================================\n",
        "downloaded 2.0 Mb\n",
        "\n",
        "\n",
        "The downloaded binary packages are in\n",
        "\t/var/folders/sy/s4s23msj2hg86pcvg8n312fw0000gn/T//RtmpIIJazD/downloaded_packages\n"
       ]
      }
     ],
     "prompt_number": 52
    },
    {
     "cell_type": "code",
     "collapsed": false,
     "input": [
      "%%R\n",
      "library(DESeq2)"
     ],
     "language": "python",
     "metadata": {},
     "outputs": [
      {
       "metadata": {},
       "output_type": "display_data",
       "text": [
        "Loading required package: GenomicRanges\n",
        "Loading required package: BiocGenerics\n",
        "Loading required package: parallel\n",
        "\n",
        "Attaching package: \u2018BiocGenerics\u2019\n",
        "\n",
        "The following objects are masked from \u2018package:parallel\u2019:\n",
        "\n",
        "    clusterApply, clusterApplyLB, clusterCall, clusterEvalQ,\n",
        "    clusterExport, clusterMap, parApply, parCapply, parLapply,\n",
        "    parLapplyLB, parRapply, parSapply, parSapplyLB\n",
        "\n",
        "The following object is masked from \u2018package:stats\u2019:\n",
        "\n",
        "    xtabs\n",
        "\n",
        "The following objects are masked from \u2018package:base\u2019:\n",
        "\n",
        "    anyDuplicated, append, as.data.frame, as.vector, cbind, colnames,\n",
        "    do.call, duplicated, eval, evalq, Filter, Find, get, intersect,\n",
        "    is.unsorted, lapply, Map, mapply, match, mget, order, paste, pmax,\n",
        "    pmax.int, pmin, pmin.int, Position, rank, rbind, Reduce, rep.int,\n",
        "    rownames, sapply, setdiff, sort, table, tapply, union, unique,\n",
        "    unlist\n",
        "\n",
        "Loading required package: IRanges\n",
        "Loading required package: GenomeInfoDb\n",
        "Loading required package: Rcpp\n",
        "Loading required package: RcppArmadillo\n"
       ]
      }
     ],
     "prompt_number": 53
    },
    {
     "cell_type": "code",
     "collapsed": false,
     "input": [
      "%%R\n",
      "data <- read.table(\"Phelv3_counts.txt\", header = T, sep = \"\\t\")\n",
      "rownames(data) <- data$Feature\n",
      "data <- data[,-1]"
     ],
     "language": "python",
     "metadata": {},
     "outputs": [],
     "prompt_number": 54
    },
    {
     "cell_type": "code",
     "collapsed": false,
     "input": [
      "!head Phelv3_counts.txt"
     ],
     "language": "python",
     "metadata": {},
     "outputs": [
      {
       "output_type": "stream",
       "stream": "stdout",
       "text": [
        "Feature ID\tV_CF71 - Total gene reads\tV_CF34 - Total gene reads\tV_CF26 - Total gene reads\tHK_CF70 - Total gene reads\tHK_CF2 - Total gene reads\tHK_CF35 - Total gene reads\r\n",
        "Phel_clc_contig_1\t168\t37\t8\t89\t28\t38\r\n",
        "Phel_clc_contig_10\t9518\t2752\t839\t22\t42\t180\r\n",
        "Phel_clc_contig_100\t260\t565\t413\t616\t1234\t6104\r\n",
        "Phel_clc_contig_1000\t2043\t3842\t3070\t4311\t8527\t31946\r\n",
        "Phel_clc_contig_10000\t9\t12\t13\t32\t21\t211\r\n",
        "Phel_clc_contig_10001\t44\t225\t89\t90\t54\t365\r\n",
        "Phel_clc_contig_10002\t38\t61\t80\t185\t478\t1267\r\n",
        "Phel_clc_contig_10003\t9\t29\t20\t17\t29\t186\r\n",
        "Phel_clc_contig_10004\t8\t25\t6\t4\t19\t92\r\n"
       ]
      }
     ],
     "prompt_number": 55
    },
    {
     "cell_type": "code",
     "collapsed": false,
     "input": [
      "%%R\n",
      "# Build Objects\n",
      "# Specify which columns are in which groups\n",
      "deseq2.colData <- data.frame(condition=factor(c(rep(\"V\", 3), rep(\"HK\", 3))), \n",
      "                             type=factor(rep(\"single-read\", 6)))\n",
      "rownames(deseq2.colData) <- colnames(data)\n",
      "deseq2.dds <- DESeqDataSetFromMatrix(countData = data,\n",
      "                                     colData = deseq2.colData, \n",
      "                                     design = ~ condition)"
     ],
     "language": "python",
     "metadata": {},
     "outputs": [],
     "prompt_number": 56
    },
    {
     "cell_type": "code",
     "collapsed": false,
     "input": [
      "%%R\n",
      "# Run Analysis\n",
      "deseq2.dds <- DESeq(deseq2.dds)\n",
      "deseq2.res <- results(deseq2.dds)\n",
      "deseq2.res <- deseq2.res[order(rownames(deseq2.res)), ]"
     ],
     "language": "python",
     "metadata": {},
     "outputs": [
      {
       "metadata": {},
       "output_type": "display_data",
       "text": [
        "estimating size factors\n",
        "estimating dispersions\n",
        "gene-wise dispersion estimates\n",
        "mean-dispersion relationship\n",
        "final dispersion estimates\n",
        "fitting model and testing\n"
       ]
      }
     ],
     "prompt_number": 57
    },
    {
     "cell_type": "code",
     "collapsed": false,
     "input": [
      "%%R\n",
      "head(deseq2.res)"
     ],
     "language": "python",
     "metadata": {},
     "outputs": [
      {
       "metadata": {},
       "output_type": "display_data",
       "text": [
        "log2 fold change (MAP): condition V vs HK \n",
        "Wald test p-value: condition V vs HK \n",
        "DataFrame with 6 rows and 6 columns\n",
        "                        baseMean log2FoldChange     lfcSE        stat\n",
        "                       <numeric>      <numeric> <numeric>   <numeric>\n",
        "Phel_clc_contig_1      114.07829     1.62009683 0.9832754  1.64765323\n",
        "Phel_clc_contig_10    5492.70960     7.62981964 0.7912097  9.64323332\n",
        "Phel_clc_contig_100    786.08744     0.01618812 0.3188107  0.05077657\n",
        "Phel_clc_contig_1000  5406.89996     0.21136426 0.3459447  0.61097705\n",
        "Phel_clc_contig_10000   24.76992    -0.20013559 0.6269094 -0.31924166\n",
        "Phel_clc_contig_10001  136.22441     1.60180411 0.5966195  2.68480001\n",
        "                            pvalue         padj\n",
        "                         <numeric>    <numeric>\n",
        "Phel_clc_contig_1     9.942385e-02 2.778325e-01\n",
        "Phel_clc_contig_10    5.250751e-22 2.773165e-19\n",
        "Phel_clc_contig_100   9.595036e-01 9.834211e-01\n",
        "Phel_clc_contig_1000  5.412148e-01 7.554609e-01\n",
        "Phel_clc_contig_10000 7.495433e-01 8.842128e-01\n",
        "Phel_clc_contig_10001 7.257322e-03 4.354393e-02\n"
       ]
      }
     ],
     "prompt_number": 58
    },
    {
     "cell_type": "code",
     "collapsed": false,
     "input": [
      "%%R\n",
      "# Count number of hits with adjusted p-value less then 0.05\n",
      "dim(deseq2.res[!is.na(deseq2.res$padj) & deseq2.res$padj <= 0.05, ])"
     ],
     "language": "python",
     "metadata": {},
     "outputs": [
      {
       "metadata": {},
       "output_type": "display_data",
       "text": [
        "[1] 3773    6\n"
       ]
      }
     ],
     "prompt_number": 59
    },
    {
     "cell_type": "code",
     "collapsed": false,
     "input": [
      "%%R\n",
      "tmp <- deseq2.res\n",
      "# The main plot\n",
      "plot(tmp$baseMean, tmp$log2FoldChange, pch=20, cex=0.45, ylim=c(-3, 3), log=\"x\", col=\"darkgray\",\n",
      "     main=\"DEG Virus Exposure  (pval <= 0.05)\",\n",
      "     xlab=\"mean of normalized counts\",\n",
      "     ylab=\"Log2 Fold Change\")\n",
      "# Getting the significant points and plotting them again so they're a different color\n",
      "tmp.sig <- deseq2.res[!is.na(deseq2.res$padj) & deseq2.res$padj <= 0.05, ]\n",
      "points(tmp.sig$baseMean, tmp.sig$log2FoldChange, pch=20, cex=0.45, col=\"red\")\n",
      "# 2 FC lines\n",
      "abline(h=c(-1,1), col=\"blue\")"
     ],
     "language": "python",
     "metadata": {},
     "outputs": [
      {
       "metadata": {},
       "output_type": "display_data",
       "png": "[encoded data removed]"
      }
     ],
     "prompt_number": 39
    },
    {
     "cell_type": "code",
     "collapsed": false,
     "input": [
      "%%R\n",
      "write.table(tmp.sig, \"/Volumes/caviar/Dropbox/Steven/eimd/paper/data/Phelv3_DESeq2_deg.txt\", row.names = T)"
     ],
     "language": "python",
     "metadata": {},
     "outputs": [],
     "prompt_number": 40
    },
    {
     "cell_type": "heading",
     "level": 1,
     "metadata": {},
     "source": [
      "Supplemental File"
     ]
    },
    {
     "cell_type": "code",
     "collapsed": false,
     "input": [],
     "language": "python",
     "metadata": {},
     "outputs": []
    }
   ],
   "metadata": {}
  }
 ]
}