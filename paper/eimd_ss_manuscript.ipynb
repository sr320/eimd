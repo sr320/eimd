{
 "metadata": {
  "name": "",
  "signature": "sha256:9e3417a641f917455deb50dade7161073b9cd848280794623fc44f65c47d0e92"
 },
 "nbformat": 3,
 "nbformat_minor": 0,
 "worksheets": [
  {
   "cells": [
    {
     "cell_type": "heading",
     "level": 1,
     "metadata": {},
     "source": [
      "Immune Response of P. hel "
     ]
    },
    {
     "cell_type": "markdown",
     "metadata": {},
     "source": [
      "This notebook accompanies the manuscript xxx "
     ]
    },
    {
     "cell_type": "code",
     "collapsed": false,
     "input": [
      "cd data"
     ],
     "language": "python",
     "metadata": {},
     "outputs": [
      {
       "output_type": "stream",
       "stream": "stdout",
       "text": [
        "/Users/sr320/Dropbox/Steven/eimd/paper/data\n"
       ]
      }
     ],
     "prompt_number": 1
    },
    {
     "cell_type": "code",
     "collapsed": false,
     "input": [
      "!head -2 Phel_transcriptome_clc_v3.fasta"
     ],
     "language": "python",
     "metadata": {},
     "outputs": [
      {
       "output_type": "stream",
       "stream": "stdout",
       "text": [
        ">Phel_clc_contig_1\r\n",
        "CAAATATATGAACGGTTGATTGTCAACGATTAGTACATGTTTTCATTGTTCCCCACGCCCGCCCCCCCCCACTCAAACATTTAAAGTGTGAAATATTATTTATCCACAAATTTCCTTAAACCTGCAAACTTGTCTGCTGTCTCTTATTGGAAGTTATGAAAAAGAACAACGGGTTTTCTTTAAAGGGTCTGCGTGCGATTTTCAACCTTTTGAGTAATAGCAGTTATTTTGATAACCGATTTTTTTCAAAGCTCAACAGCTTTTTAAAATAAGGAATCCTATAATGGCCAAACGAATACTATAAAAATAAGGGTTCTCTTAATTGTATAAAACGTATAATTTTATCAATTTTGGGACCGTGTAATTTTTTAAAGACCACAAGAATGTTACATACAACAAATAGACGAAACTCGTAGCTTTGGAAACTACGTCATGGGCGTTTGGTCAAAAGCTGGAGAGAAAGAGAGGTGGGGTGCCAGACTTAAGTAGTCACGTGATCTGACCAACGCACATCGGAAGCTCGATCGGATGAAATCTTCTCTATCGTTCTTGCGTCTATACGTGCTACGAAGAGCTGACAGAAGTTTGGACTTGTTTACTTCTTGCACCTGTTGATGGAACGGCCACGGACCTTGTCGCACGCACACCTGGAGCCAGTGCTCGGATCGACGCAACGGATGTACTGTCTTCCCCTTCCGCGTTTCTCAAGTAGGTACTCAAAGTCGTCCGCGTCGAAGTTGGCCTCGGCGTCCCTCTTCTCCAGCTCCTCCATGTCCTCCTCTGTGTAGTACGGGGTGACGAGCACCACCAGGGCGGCCACAATGGCCAGTGCTAGAAGACACTTCGTATTCATTCTGCTGGTGGTTGGATGTGCGCAAACAAGACAGGAGAGACTTATTAGAATC\r\n"
       ]
      }
     ],
     "prompt_number": 5
    },
    {
     "cell_type": "code",
     "collapsed": false,
     "input": [
      "!perl ../scripts/count_fasta.pl -i 1000 Phel_transcriptome_clc_v3.fasta"
     ],
     "language": "python",
     "metadata": {},
     "outputs": [
      {
       "output_type": "stream",
       "stream": "stdout",
       "text": [
        "\r\n",
        "0:999 \t15505\r\n",
        "1000:1999 \t8559\r\n",
        "2000:2999 \t3003\r\n",
        "3000:3999 \t1240\r\n",
        "4000:4999 \t580\r\n",
        "5000:5999 \t312\r\n",
        "6000:6999 \t129\r\n",
        "7000:7999 \t72\r\n",
        "8000:8999 \t31\r\n",
        "9000:9999 \t19\r\n",
        "10000:10999 \t9\r\n",
        "11000:11999 \t7\r\n",
        "12000:12999 \t2\r\n",
        "13000:13999 \t4\r\n",
        "14000:14999 \t3\r\n",
        "15000:15999 \t0\r\n",
        "16000:16999 \t1\r\n",
        "\r\n",
        "Total length of sequence:\t40747496 bp\r\n",
        "Total number of sequences:\t29476\r\n",
        "N25 stats:\t\t\t25% of total sequence length is contained in the 2260 sequences >= 3085 bp\r\n",
        "N50 stats:\t\t\t50% of total sequence length is contained in the 6715 sequences >= 1757 bp\r\n",
        "N75 stats:\t\t\t75% of total sequence length is contained in the 14612 sequences >= 959 bp\r\n",
        "Total GC count:\t\t\t16459121 bp\r\n",
        "GC %:\t\t\t\t40.39 %\r\n",
        "\r\n"
       ]
      }
     ],
     "prompt_number": 7
    },
    {
     "cell_type": "code",
     "collapsed": false,
     "input": [
      "!perl -e '$count=0; $len=0; while(<>) {s/\\r?\\n//; s/\\t/ /g; if (s/^>//) { if ($. != 1) {print \"\\n\"} s/ |$/\\t/; $count++; $_ .= \"\\t\";} else {s/ //g; $len += length($_)} print $_;} print \"\\n\"; warn \"\\nConverted $count FASTA records in $. lines to tabular format\\nTotal sequence length: $len\\n\\n\";' Phel_transcriptome_clc_v3.fasta > Phel_transcriptome_clc_v3.tab"
     ],
     "language": "python",
     "metadata": {},
     "outputs": [
      {
       "output_type": "stream",
       "stream": "stdout",
       "text": [
        "\r\n",
        "Converted 29476 FASTA records in 58952 lines to tabular format\r\n",
        "Total sequence length: 40747496\r\n",
        "\r\n"
       ]
      }
     ],
     "prompt_number": 8
    },
    {
     "cell_type": "code",
     "collapsed": false,
     "input": [
      "!head -2 Phel_transcriptome_clc_v3.tab"
     ],
     "language": "python",
     "metadata": {},
     "outputs": [
      {
       "output_type": "stream",
       "stream": "stdout",
       "text": [
        "Phel_clc_contig_1\t\tCAAATATATGAACGGTTGATTGTCAACGATTAGTACATGTTTTCATTGTTCCCCACGCCCGCCCCCCCCCACTCAAACATTTAAAGTGTGAAATATTATTTATCCACAAATTTCCTTAAACCTGCAAACTTGTCTGCTGTCTCTTATTGGAAGTTATGAAAAAGAACAACGGGTTTTCTTTAAAGGGTCTGCGTGCGATTTTCAACCTTTTGAGTAATAGCAGTTATTTTGATAACCGATTTTTTTCAAAGCTCAACAGCTTTTTAAAATAAGGAATCCTATAATGGCCAAACGAATACTATAAAAATAAGGGTTCTCTTAATTGTATAAAACGTATAATTTTATCAATTTTGGGACCGTGTAATTTTTTAAAGACCACAAGAATGTTACATACAACAAATAGACGAAACTCGTAGCTTTGGAAACTACGTCATGGGCGTTTGGTCAAAAGCTGGAGAGAAAGAGAGGTGGGGTGCCAGACTTAAGTAGTCACGTGATCTGACCAACGCACATCGGAAGCTCGATCGGATGAAATCTTCTCTATCGTTCTTGCGTCTATACGTGCTACGAAGAGCTGACAGAAGTTTGGACTTGTTTACTTCTTGCACCTGTTGATGGAACGGCCACGGACCTTGTCGCACGCACACCTGGAGCCAGTGCTCGGATCGACGCAACGGATGTACTGTCTTCCCCTTCCGCGTTTCTCAAGTAGGTACTCAAAGTCGTCCGCGTCGAAGTTGGCCTCGGCGTCCCTCTTCTCCAGCTCCTCCATGTCCTCCTCTGTGTAGTACGGGGTGACGAGCACCACCAGGGCGGCCACAATGGCCAGTGCTAGAAGACACTTCGTATTCATTCTGCTGGTGGTTGGATGTGCGCAAACAAGACAGGAGAGACTTATTAGAATC\r\n",
        "Phel_clc_contig_10\t\tTGTACCCCTGGGTGGACAGAAGCAATTATAGTAAAGTATCTTGCTCAAGGACACAAGTGTCATGACCGGGATTCGAACCCACACCCCGATGACTCAACCACCAGAACTTGAATACGATGCTCTAAACCGCTCAGCCATGACACCCTGGAAAACAACATTCATTATCTCATTCCCATTCAAAGGTCTGTCAGTTTCATATTATTTGTGTCAAGCAATAAAAAACAAGTTGCATTAATATTGCATTTTCATCTGACTACAGCAGCAATTGCGACAGATTCTCAAGACCACAAAGATTCCTATTCTCAGCCTCATCTTGATGCAATGCCAGCTCAGCGTAAAGACGACGAAGCCCTGAGGAGCATCATCAGCCAAGAACCGTGGAACTACGAGGTCTTATACACTGTCAAGATTGAGAAGGTGTACAAGACGGTGGACGGGAAGGTCTCCATGAGGGAAGGGGAGGAGGTTCAGATTAAGAGTTTCTATCCTGGGGGAATGTTTTGCGGAGTGGAGCTCAAGAAAGGAAAATCCTATGTTTTAGGAGGTGCCATCAAGGATCAGATTGGCAGATGTGACTTAATACTCGAATATAAGACCATCTCGAAAAGACAAAAGCAAGGACTCCGCAGCAACTATGGCAAATTCTGTGACAAGTGTCAGATTGCAACATGTCACTCCCCCCAATGCGCCGCCCACCTGCCGGAGAACACGTGTGCGTACATGGCCCACGACAGTTACGACAGACACGGTATCGGCTACCAGGAGGATGACTGCCTCGCAGCGCACTCCAAATGCCTCCCAAAAGAAGGTCACAAGATGTGCCAGTGGCACAGAAATAAAGATTTGAAGGGATGTCTGAGTGAGACGGGTGTGGACAGTCGCCCGGGTGTGAATCAGGGGCCAAGGAGACATCGCCAATCGCAGGGTCAACATTAAGACTGGTTTTTTTTCTTTTGCACTTTGTTCTTCCGTCTCTCTTTGTATTTTCCCACAACCTCCCTCTTTCTTCATCTTGCTTTTTTGTTTTAATAATTTTTTTTTTAATGCTGCACATAATTTATAAAGAGCCAGTGTGGTCTCGAACGTCTTCAATAATAAAACTACTGATCCAAACTTGAAACTGTTACCATTAACTACAGTTAGTAGGGTGTCTCATATTGTATAATGCAAGTAATGTATAAAGACATCGATGACATCACTCTTGGATTGTCATACGAACAATTTTGTTTCATTGTTTCGGGGTTGTGTTTTTCCTTCTTCATTTTTTAATGGGCGGACCAAAAAAGAGCAGGGCAACACCTGACTCTTACTTAATAGACTACATTCAGTTTCCTTTCATTTTTATTTACCAAACAAAAAGTCTGAAGGACTCAAAACTATTTAGTTCATACAATGCCAAAAAAAAGCTGTCATAATTTGGGTTGGGGATAAAAAAGATTAATATACCAACTTTTGTTTCATTGTACACCAATGTGTAATAAGCACTGTAGAGACCATTCTATTGCAAGTAAGTCATTATGGTCATTAACTTGTGGAGTAATTACCAAAAGTATACCCTGCCTTCGAAACCAAAAATATTATCAACACTCTTTTTGATCACAACAATACAATGTTGTTTTTCACCTCTGCTGTATTTTTTTCTGTTTCTAAAAACGCATATACTCCTTCATGCTCACAGCGCACTAAACATGTACACGCTTACAAAATGTAAGCAAATAAATATATATATAAATATTAAGCTTTTAAAAGAAATCTATAAACAAAAATTTAAATAGTGTACAAAAATAGACTAAAATGGCTTTTTAGTGTACTCTATATATTTTTATTATGTGTATGTACTAGAACAAATTCAGTTGTAAGCATGTTTATCTCCGTTTATCTTGCTTAATTTATCCAAAGGCTAAAATGTTTTTAAAATCATCGAATCCGAAGATCGGTTTCTAATCCAAAGTCCAATGATGTTTTGTACCTTTCAAATCTCTAATATTTCATTTTTTTTCCTGGAAAAGAAGTGGTTTGAACAATATTTCAATCATCCTACGGCAGGTAGGTGACGGGATCATGCCTATGATGATACAAACATGGAATTTGGCACACAGTCGGACTAAGTCATGAGAATGATATTTGGCGATGGGGCC\r\n"
       ]
      }
     ],
     "prompt_number": 9
    },
    {
     "cell_type": "heading",
     "level": 1,
     "metadata": {},
     "source": [
      "Annotation"
     ]
    },
    {
     "cell_type": "heading",
     "level": 3,
     "metadata": {},
     "source": [
      "UniProtKB/Swiss_Prot"
     ]
    },
    {
     "cell_type": "code",
     "collapsed": false,
     "input": [
      "blastx \\\n",
      "-query /Volumes/web/cnidarian/Phel_transcriptome_clc_v3.fasta \\\n",
      "-db /Volumes/web/whale/blast/db/uniprot_sprot \\\n",
      "-out /Volumes/web/cnidarian/Phelv3_uniprot_sprot.tab \\\n",
      "-evalue 1E-05 \\\n",
      "-max_target_seqs 1 \\\n",
      "-max_hsps 1 \\\n",
      "-outfmt 6 \\\n",
      "-num_threads 16"
     ],
     "language": "python",
     "metadata": {},
     "outputs": []
    },
    {
     "cell_type": "code",
     "collapsed": false,
     "input": [
      "!curl -O http://eagle.fish.washington.edu/cnidarian/Phelv3_uniprot_sprot.tab"
     ],
     "language": "python",
     "metadata": {},
     "outputs": [
      {
       "output_type": "stream",
       "stream": "stdout",
       "text": [
        "  % Total    % Received % Xferd  Average Speed   Time    Time     Time  Current\r\n",
        "                                 Dload  Upload   Total   Spent    Left  Speed\r\n",
        "\r",
        "  0     0    0     0    0     0      0      0 --:--:-- --:--:-- --:--:--     0"
       ]
      },
      {
       "output_type": "stream",
       "stream": "stdout",
       "text": [
        "\r",
        "  1  878k    1 13261    0     0  35875      0  0:00:25 --:--:--  0:00:25 38661"
       ]
      },
      {
       "output_type": "stream",
       "stream": "stdout",
       "text": [
        "\r",
        " 11  878k   11  103k    0     0  57869      0  0:00:15  0:00:01  0:00:14 58746"
       ]
      },
      {
       "output_type": "stream",
       "stream": "stdout",
       "text": [
        "\r",
        " 41  878k   41  368k    0     0   157k      0  0:00:05  0:00:02  0:00:03  159k"
       ]
      },
      {
       "output_type": "stream",
       "stream": "stdout",
       "text": [
        "\r",
        " 88  878k   88  773k    0     0   230k      0  0:00:03  0:00:03 --:--:--  232k"
       ]
      },
      {
       "output_type": "stream",
       "stream": "stdout",
       "text": [
        "\r",
        "100  878k  100  878k    0     0   210k      0  0:00:04  0:00:04 --:--:--  211k\r\n"
       ]
      }
     ],
     "prompt_number": 11
    },
    {
     "cell_type": "code",
     "collapsed": false,
     "input": [
      "!head -2 Phelv3_uniprot_sprot.tab"
     ],
     "language": "python",
     "metadata": {},
     "outputs": [
      {
       "output_type": "stream",
       "stream": "stdout",
       "text": [
        "Phel_clc_contig_100\tsp|Q16513|PKN2_HUMAN\t81.33\t332\t61\t1\t7935\t6940\t653\t983\t5e-162\t  537\r\n",
        "Phel_clc_contig_1000\tsp|Q8R4U2|PDIA1_CRIGR\t53.62\t442\t201\t2\t199\t1512\t31\t472\t5e-146\t  464\r\n"
       ]
      }
     ],
     "prompt_number": 12
    },
    {
     "cell_type": "code",
     "collapsed": false,
     "input": [
      "!wc -l Phelv3_uniprot_sprot.tab"
     ],
     "language": "python",
     "metadata": {},
     "outputs": [
      {
       "output_type": "stream",
       "stream": "stdout",
       "text": [
        "   10513 Phelv3_uniprot_sprot.tab\r\n"
       ]
      }
     ],
     "prompt_number": 14
    },
    {
     "cell_type": "code",
     "collapsed": false,
     "input": [
      "!tr '|' \"\\t\" <Phelv3_uniprot_sprot.tab> Phelv3_uniprot_sprot_sql.tab"
     ],
     "language": "python",
     "metadata": {},
     "outputs": [],
     "prompt_number": 16
    },
    {
     "cell_type": "code",
     "collapsed": false,
     "input": [
      "!head -2 Phelv3_uniprot_sprot_sql.tab"
     ],
     "language": "python",
     "metadata": {},
     "outputs": [
      {
       "output_type": "stream",
       "stream": "stdout",
       "text": [
        "Phel_clc_contig_100\tsp\tQ16513\tPKN2_HUMAN\t81.33\t332\t61\t1\t7935\t6940\t653\t983\t5e-162\t  537\r\n",
        "Phel_clc_contig_1000\tsp\tQ8R4U2\tPDIA1_CRIGR\t53.62\t442\t201\t2\t199\t1512\t31\t472\t5e-146\t  464\r\n"
       ]
      }
     ],
     "prompt_number": 19
    },
    {
     "cell_type": "code",
     "collapsed": false,
     "input": [
      "#sqlshare python tools location\n",
      "sst=\"/Users/sr320/sqlshare-pythonclient/tools/\""
     ],
     "language": "python",
     "metadata": {},
     "outputs": [],
     "prompt_number": 20
    },
    {
     "cell_type": "code",
     "collapsed": false,
     "input": [
      "!python {sst}singleupload.py Phelv3_uniprot_sprot_sql.tab"
     ],
     "language": "python",
     "metadata": {},
     "outputs": [
      {
       "output_type": "stream",
       "stream": "stdout",
       "text": [
        "processing chunk line 0 to 10513 (0.0107479095459 s elapsed)\r\n",
        "pushing Phelv3_uniprot_sprot_sql.tab...\r\n"
       ]
      },
      {
       "output_type": "stream",
       "stream": "stdout",
       "text": [
        "parsing D602AA76...\r\n"
       ]
      },
      {
       "output_type": "stream",
       "stream": "stdout",
       "text": [
        "finished Phelv3_uniprot_sprot_sql.tab\r\n"
       ]
      }
     ],
     "prompt_number": 21
    },
    {
     "cell_type": "code",
     "collapsed": false,
     "input": [
      "!python {sst}fetchdata.py -s \"SELECT * FROM [sr320@washington.edu].[Phelv3_uniprot_sprot_sql.tab]phel left join [sr320@washington.edu].[uniprot-reviewed_wGO_010714]des on phel.Column3=des.Entry\" -f tsv -o Phelv3_uniprot_info.tab\n"
     ],
     "language": "python",
     "metadata": {},
     "outputs": [],
     "prompt_number": 22
    },
    {
     "cell_type": "code",
     "collapsed": false,
     "input": [
      "!head -2 Phelv3_uniprot_info.tab"
     ],
     "language": "python",
     "metadata": {},
     "outputs": [
      {
       "output_type": "stream",
       "stream": "stdout",
       "text": [
        "Column1\tColumn2\tColumn3\tColumn4\tColumn5\tColumn6\tColumn7\tColumn8\tColumn9\tColumn10\tColumn11\tColumn12\tColumn13\tColumn14\tEntry\tEntry name\tGene ontology IDs\tInteracts with\tCross-reference (GO)\tGene ontology (GO)\tStatus\tInterPro\tPathway\tProtein names\tGene names\tOrganism\tLength\r",
        "\r\n",
        "Phel_clc_contig_100\tsp\tQ16513\tPKN2_HUMAN\t81.33\t332\t61\t1\t7935\t6940\t653\t983\t5E-162\t537\tQ16513\tPKN2_HUMAN\tGO:0005524; GO:0043297; GO:0043296; GO:0006915; GO:0007155; GO:0007049; GO:0051301; GO:0032154; GO:0005737; GO:0005856; GO:0010631; GO:0042826; GO:0030027; GO:0016020; GO:0030496; GO:0005634; GO:0032467; GO:0045931; GO:0004697; GO:0004674; GO:2000145; GO:0006355; GO:0007165; GO:0006351\tQ15118\t\tATP binding; apical junction assembly; apical junction complex; apoptotic process; cell adhesion; cell cycle; cell division; cleavage furrow; cytoplasm; cytoskeleton; epithelial cell migration; histone deacetylase binding; lamellipodium; membrane; midbody; nucleus; positive regulation of cytokinesis; positive regulation of mitotic cell cycle; protein kinase C activity; protein serine/threonine kinase activity; regulation of cell motility; regulation of transcription, DNA-dependent; signal transduction; transcription, DNA-dependent\treviewed\tIPR000961; IPR000008; IPR011072; IPR011009; IPR017892; IPR000719; IPR017441; IPR002290; IPR008271;\t\tSerine/threonine-protein kinase N2 (EC 2.7.11.13) (PKN gamma) (Protein kinase C-like 2) (Protein-kinase C-related kinase 2)\tPKN2 PRK2 PRKCL2\tHomo sapiens (Human)\t984\r",
        "\r\n"
       ]
      }
     ],
     "prompt_number": 23
    },
    {
     "cell_type": "heading",
     "level": 4,
     "metadata": {},
     "source": [
      "Quick-Find"
     ]
    },
    {
     "cell_type": "code",
     "collapsed": false,
     "input": [
      "!fgrep -wi --color \"interleukin-17\" Phelv3_uniprot_info.tab"
     ],
     "language": "python",
     "metadata": {},
     "outputs": [
      {
       "output_type": "stream",
       "stream": "stdout",
       "text": [
        "Phel_clc_contig_10935\tsp\tQ53B88\tNOD2_HYLLA\t25\t360\t225\t14\t688\t1704\t291\t626\t2E-14\t81.6\tQ53B88\tNOD2_HYLLA\tGO:0005524; GO:0050700; GO:0009986; GO:0002367; GO:0005829; GO:0042742; GO:0016045; GO:0032498; GO:0045087; GO:0032500; GO:0070431; GO:0042834; GO:0005886; GO:0043123; GO:0051092; GO:0050718; GO:0032740; GO:0019901; GO:0042981; GO:0031982\t\t\tATP binding; CARD domain binding; cell surface; cytokine production involved in immune response; cytosol; defense response to bacterium; detection of bacterium; detection of muramyl dipeptide; innate immune response; muramyl dipeptide binding; nucleotide-binding oligomerization domain containing 2 signaling pathway; peptidoglycan binding; plasma membrane; positive regulation of I-kappaB kinase/NF-kappaB cascade; positive regulation of NF-kappaB transcription factor activity; positive regulation of interleukin-1 beta secretion; positive regulation of \u001b[01;31m\u001b[Kinterleukin-17\u001b[m\u001b[K production; protein kinase binding; regulation of apoptotic process; vesicle\treviewed\tIPR001315; IPR011029; IPR001611; IPR007111; IPR027417;\t\tNucleotide-binding oligomerization domain-containing protein 2 (Caspase recruitment domain-containing protein 15)\tNOD2 CARD15\tHylobates lar (Common gibbon) (White-handed gibbon)\t1040\r",
        "\r\n"
       ]
      },
      {
       "output_type": "stream",
       "stream": "stdout",
       "text": [
        "Phel_clc_contig_15202\tsp\tQ7T2L7\tI17RD_CHICK\t31.45\t159\t96\t5\t27\t476\t409\t563\t8E-15\t80.9\tQ7T2L7\tI17RD_CHICK\tGO:0016021; GO:0007165\t\t\tintegral to membrane; signal transduction\treviewed\tIPR013568; IPR000157;\t\t\u001b[01;31m\u001b[KInterleukin-17\u001b[m\u001b[K receptor D (IL-17 receptor D) (IL-17RD) (Sef homolog) (cSEF)\tIL17RD SEF\tGallus gallus (Chicken)\t741\r",
        "\r\n"
       ]
      },
      {
       "output_type": "stream",
       "stream": "stdout",
       "text": [
        "Phel_clc_contig_1788\tsp\tA5HNF6\tMYD88_CHICK\t45.88\t279\t142\t5\t793\t1611\t17\t292\t6E-69\t241\tA5HNF6\tMYD88_CHICK\tGO:0002755; GO:0035419; GO:0005829; GO:0050830; GO:0016064; GO:0006954; GO:0045087; GO:0031663; GO:0044130; GO:0005634; GO:0005886; GO:0043123; GO:0046330; GO:0042346; GO:0051092; GO:0045080; GO:0032740; GO:0032747; GO:0032755; GO:0050671; GO:0032760; GO:0050727; GO:0002238; GO:0032494; GO:0009615; GO:0035681; GO:0034134; GO:0035682; GO:0034142; GO:0034146; GO:0034154; GO:0045351\t\t\tMyD88-dependent toll-like receptor signaling pathway; activation of MAPK activity involved in innate immune response; cytosol; defense response to Gram-positive bacterium; immunoglobulin mediated immune response; inflammatory response; innate immune response; lipopolysaccharide-mediated signaling pathway; negative regulation of growth of symbiont in host; nucleus; plasma membrane; positive regulation of I-kappaB kinase/NF-kappaB cascade; positive regulation of JNK cascade; positive regulation of NF-kappaB import into nucleus; positive regulation of NF-kappaB transcription factor activity; positive regulation of chemokine biosynthetic process; positive regulation of \u001b[01;31m\u001b[Kinterleukin-17\u001b[m\u001b[K production; positive regulation of interleukin-23 production; positive regulation of interleukin-6 production; positive regulation of lymphocyte proliferation; positive regulation of tumor necrosis factor production; regulation of inflammatory response; response to molecule of fungal origin; response to peptidoglycan; response to virus; toll-like receptor 15 signaling pathway; toll-like receptor 2 signaling pathway; toll-like receptor 21 signaling pathway; toll-like receptor 4 signaling pathway; toll-like receptor 5 signaling pathway; toll-like receptor 7 signaling pathway; type I interferon biosynthetic process\treviewed\tIPR011029; IPR000488; IPR017281; IPR000157;\t\tMyeloid differentiation primary response protein MyD88\tMYD88 RCJMB04_14h3\tGallus gallus (Chicken)\t299\r",
        "\r\n"
       ]
      }
     ],
     "prompt_number": 26
    },
    {
     "cell_type": "code",
     "collapsed": false,
     "input": [],
     "language": "python",
     "metadata": {},
     "outputs": []
    },
    {
     "cell_type": "code",
     "collapsed": false,
     "input": [],
     "language": "python",
     "metadata": {},
     "outputs": []
    }
   ],
   "metadata": {}
  }
 ]
}