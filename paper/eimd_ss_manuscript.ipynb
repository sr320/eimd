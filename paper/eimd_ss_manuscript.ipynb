{
 "metadata": {
  "name": "",
  "signature": "sha256:b340e08e5467d4e6891253aa2018815e6ce6c2b6bda96980b89dc5cd4ab4f2b4"
 },
 "nbformat": 3,
 "nbformat_minor": 0,
 "worksheets": [
  {
   "cells": [
    {
     "cell_type": "heading",
     "level": 1,
     "metadata": {},
     "source": [
      "Immune Response of P. hel "
     ]
    },
    {
     "cell_type": "markdown",
     "metadata": {},
     "source": [
      "This notebook accompanies the manuscript xxx "
     ]
    },
    {
     "cell_type": "code",
     "collapsed": false,
     "input": [
      "cd data"
     ],
     "language": "python",
     "metadata": {},
     "outputs": [
      {
       "output_type": "stream",
       "stream": "stdout",
       "text": [
        "/Users/sr320/Dropbox/Steven/eimd/paper/data\n"
       ]
      }
     ],
     "prompt_number": 1
    },
    {
     "cell_type": "code",
     "collapsed": false,
     "input": [
      "!head -2 Phel_transcriptome_clc_v3.fasta"
     ],
     "language": "python",
     "metadata": {},
     "outputs": [
      {
       "output_type": "stream",
       "stream": "stdout",
       "text": [
        ">Phel_clc_contig_1\r\n",
        "CAAATATATGAACGGTTGATTGTCAACGATTAGTACATGTTTTCATTGTTCCCCACGCCCGCCCCCCCCCACTCAAACATTTAAAGTGTGAAATATTATTTATCCACAAATTTCCTTAAACCTGCAAACTTGTCTGCTGTCTCTTATTGGAAGTTATGAAAAAGAACAACGGGTTTTCTTTAAAGGGTCTGCGTGCGATTTTCAACCTTTTGAGTAATAGCAGTTATTTTGATAACCGATTTTTTTCAAAGCTCAACAGCTTTTTAAAATAAGGAATCCTATAATGGCCAAACGAATACTATAAAAATAAGGGTTCTCTTAATTGTATAAAACGTATAATTTTATCAATTTTGGGACCGTGTAATTTTTTAAAGACCACAAGAATGTTACATACAACAAATAGACGAAACTCGTAGCTTTGGAAACTACGTCATGGGCGTTTGGTCAAAAGCTGGAGAGAAAGAGAGGTGGGGTGCCAGACTTAAGTAGTCACGTGATCTGACCAACGCACATCGGAAGCTCGATCGGATGAAATCTTCTCTATCGTTCTTGCGTCTATACGTGCTACGAAGAGCTGACAGAAGTTTGGACTTGTTTACTTCTTGCACCTGTTGATGGAACGGCCACGGACCTTGTCGCACGCACACCTGGAGCCAGTGCTCGGATCGACGCAACGGATGTACTGTCTTCCCCTTCCGCGTTTCTCAAGTAGGTACTCAAAGTCGTCCGCGTCGAAGTTGGCCTCGGCGTCCCTCTTCTCCAGCTCCTCCATGTCCTCCTCTGTGTAGTACGGGGTGACGAGCACCACCAGGGCGGCCACAATGGCCAGTGCTAGAAGACACTTCGTATTCATTCTGCTGGTGGTTGGATGTGCGCAAACAAGACAGGAGAGACTTATTAGAATC\r\n"
       ]
      }
     ],
     "prompt_number": 5
    },
    {
     "cell_type": "code",
     "collapsed": false,
     "input": [
      "!perl ../scripts/count_fasta.pl -i 1000 Phel_transcriptome_clc_v3.fasta"
     ],
     "language": "python",
     "metadata": {},
     "outputs": [
      {
       "output_type": "stream",
       "stream": "stdout",
       "text": [
        "\r\n",
        "0:999 \t15505\r\n",
        "1000:1999 \t8559\r\n",
        "2000:2999 \t3003\r\n",
        "3000:3999 \t1240\r\n",
        "4000:4999 \t580\r\n",
        "5000:5999 \t312\r\n",
        "6000:6999 \t129\r\n",
        "7000:7999 \t72\r\n",
        "8000:8999 \t31\r\n",
        "9000:9999 \t19\r\n",
        "10000:10999 \t9\r\n",
        "11000:11999 \t7\r\n",
        "12000:12999 \t2\r\n",
        "13000:13999 \t4\r\n",
        "14000:14999 \t3\r\n",
        "15000:15999 \t0\r\n",
        "16000:16999 \t1\r\n",
        "\r\n",
        "Total length of sequence:\t40747496 bp\r\n",
        "Total number of sequences:\t29476\r\n",
        "N25 stats:\t\t\t25% of total sequence length is contained in the 2260 sequences >= 3085 bp\r\n",
        "N50 stats:\t\t\t50% of total sequence length is contained in the 6715 sequences >= 1757 bp\r\n",
        "N75 stats:\t\t\t75% of total sequence length is contained in the 14612 sequences >= 959 bp\r\n",
        "Total GC count:\t\t\t16459121 bp\r\n",
        "GC %:\t\t\t\t40.39 %\r\n",
        "\r\n"
       ]
      }
     ],
     "prompt_number": 7
    },
    {
     "cell_type": "code",
     "collapsed": false,
     "input": [
      "!perl -e '$count=0; $len=0; while(<>) {s/\\r?\\n//; s/\\t/ /g; if (s/^>//) { if ($. != 1) {print \"\\n\"} s/ |$/\\t/; $count++; $_ .= \"\\t\";} else {s/ //g; $len += length($_)} print $_;} print \"\\n\"; warn \"\\nConverted $count FASTA records in $. lines to tabular format\\nTotal sequence length: $len\\n\\n\";' Phel_transcriptome_clc_v3.fasta > Phel_transcriptome_clc_v3.tab"
     ],
     "language": "python",
     "metadata": {},
     "outputs": [
      {
       "output_type": "stream",
       "stream": "stdout",
       "text": [
        "\r\n",
        "Converted 29476 FASTA records in 58952 lines to tabular format\r\n",
        "Total sequence length: 40747496\r\n",
        "\r\n"
       ]
      }
     ],
     "prompt_number": 8
    },
    {
     "cell_type": "code",
     "collapsed": false,
     "input": [
      "!head -2 Phel_transcriptome_clc_v3.tab"
     ],
     "language": "python",
     "metadata": {},
     "outputs": [
      {
       "output_type": "stream",
       "stream": "stdout",
       "text": [
        "Phel_clc_contig_1\t\tCAAATATATGAACGGTTGATTGTCAACGATTAGTACATGTTTTCATTGTTCCCCACGCCCGCCCCCCCCCACTCAAACATTTAAAGTGTGAAATATTATTTATCCACAAATTTCCTTAAACCTGCAAACTTGTCTGCTGTCTCTTATTGGAAGTTATGAAAAAGAACAACGGGTTTTCTTTAAAGGGTCTGCGTGCGATTTTCAACCTTTTGAGTAATAGCAGTTATTTTGATAACCGATTTTTTTCAAAGCTCAACAGCTTTTTAAAATAAGGAATCCTATAATGGCCAAACGAATACTATAAAAATAAGGGTTCTCTTAATTGTATAAAACGTATAATTTTATCAATTTTGGGACCGTGTAATTTTTTAAAGACCACAAGAATGTTACATACAACAAATAGACGAAACTCGTAGCTTTGGAAACTACGTCATGGGCGTTTGGTCAAAAGCTGGAGAGAAAGAGAGGTGGGGTGCCAGACTTAAGTAGTCACGTGATCTGACCAACGCACATCGGAAGCTCGATCGGATGAAATCTTCTCTATCGTTCTTGCGTCTATACGTGCTACGAAGAGCTGACAGAAGTTTGGACTTGTTTACTTCTTGCACCTGTTGATGGAACGGCCACGGACCTTGTCGCACGCACACCTGGAGCCAGTGCTCGGATCGACGCAACGGATGTACTGTCTTCCCCTTCCGCGTTTCTCAAGTAGGTACTCAAAGTCGTCCGCGTCGAAGTTGGCCTCGGCGTCCCTCTTCTCCAGCTCCTCCATGTCCTCCTCTGTGTAGTACGGGGTGACGAGCACCACCAGGGCGGCCACAATGGCCAGTGCTAGAAGACACTTCGTATTCATTCTGCTGGTGGTTGGATGTGCGCAAACAAGACAGGAGAGACTTATTAGAATC\r\n",
        "Phel_clc_contig_10\t\tTGTACCCCTGGGTGGACAGAAGCAATTATAGTAAAGTATCTTGCTCAAGGACACAAGTGTCATGACCGGGATTCGAACCCACACCCCGATGACTCAACCACCAGAACTTGAATACGATGCTCTAAACCGCTCAGCCATGACACCCTGGAAAACAACATTCATTATCTCATTCCCATTCAAAGGTCTGTCAGTTTCATATTATTTGTGTCAAGCAATAAAAAACAAGTTGCATTAATATTGCATTTTCATCTGACTACAGCAGCAATTGCGACAGATTCTCAAGACCACAAAGATTCCTATTCTCAGCCTCATCTTGATGCAATGCCAGCTCAGCGTAAAGACGACGAAGCCCTGAGGAGCATCATCAGCCAAGAACCGTGGAACTACGAGGTCTTATACACTGTCAAGATTGAGAAGGTGTACAAGACGGTGGACGGGAAGGTCTCCATGAGGGAAGGGGAGGAGGTTCAGATTAAGAGTTTCTATCCTGGGGGAATGTTTTGCGGAGTGGAGCTCAAGAAAGGAAAATCCTATGTTTTAGGAGGTGCCATCAAGGATCAGATTGGCAGATGTGACTTAATACTCGAATATAAGACCATCTCGAAAAGACAAAAGCAAGGACTCCGCAGCAACTATGGCAAATTCTGTGACAAGTGTCAGATTGCAACATGTCACTCCCCCCAATGCGCCGCCCACCTGCCGGAGAACACGTGTGCGTACATGGCCCACGACAGTTACGACAGACACGGTATCGGCTACCAGGAGGATGACTGCCTCGCAGCGCACTCCAAATGCCTCCCAAAAGAAGGTCACAAGATGTGCCAGTGGCACAGAAATAAAGATTTGAAGGGATGTCTGAGTGAGACGGGTGTGGACAGTCGCCCGGGTGTGAATCAGGGGCCAAGGAGACATCGCCAATCGCAGGGTCAACATTAAGACTGGTTTTTTTTCTTTTGCACTTTGTTCTTCCGTCTCTCTTTGTATTTTCCCACAACCTCCCTCTTTCTTCATCTTGCTTTTTTGTTTTAATAATTTTTTTTTTAATGCTGCACATAATTTATAAAGAGCCAGTGTGGTCTCGAACGTCTTCAATAATAAAACTACTGATCCAAACTTGAAACTGTTACCATTAACTACAGTTAGTAGGGTGTCTCATATTGTATAATGCAAGTAATGTATAAAGACATCGATGACATCACTCTTGGATTGTCATACGAACAATTTTGTTTCATTGTTTCGGGGTTGTGTTTTTCCTTCTTCATTTTTTAATGGGCGGACCAAAAAAGAGCAGGGCAACACCTGACTCTTACTTAATAGACTACATTCAGTTTCCTTTCATTTTTATTTACCAAACAAAAAGTCTGAAGGACTCAAAACTATTTAGTTCATACAATGCCAAAAAAAAGCTGTCATAATTTGGGTTGGGGATAAAAAAGATTAATATACCAACTTTTGTTTCATTGTACACCAATGTGTAATAAGCACTGTAGAGACCATTCTATTGCAAGTAAGTCATTATGGTCATTAACTTGTGGAGTAATTACCAAAAGTATACCCTGCCTTCGAAACCAAAAATATTATCAACACTCTTTTTGATCACAACAATACAATGTTGTTTTTCACCTCTGCTGTATTTTTTTCTGTTTCTAAAAACGCATATACTCCTTCATGCTCACAGCGCACTAAACATGTACACGCTTACAAAATGTAAGCAAATAAATATATATATAAATATTAAGCTTTTAAAAGAAATCTATAAACAAAAATTTAAATAGTGTACAAAAATAGACTAAAATGGCTTTTTAGTGTACTCTATATATTTTTATTATGTGTATGTACTAGAACAAATTCAGTTGTAAGCATGTTTATCTCCGTTTATCTTGCTTAATTTATCCAAAGGCTAAAATGTTTTTAAAATCATCGAATCCGAAGATCGGTTTCTAATCCAAAGTCCAATGATGTTTTGTACCTTTCAAATCTCTAATATTTCATTTTTTTTCCTGGAAAAGAAGTGGTTTGAACAATATTTCAATCATCCTACGGCAGGTAGGTGACGGGATCATGCCTATGATGATACAAACATGGAATTTGGCACACAGTCGGACTAAGTCATGAGAATGATATTTGGCGATGGGGCC\r\n"
       ]
      }
     ],
     "prompt_number": 9
    },
    {
     "cell_type": "heading",
     "level": 1,
     "metadata": {},
     "source": [
      "Annotation"
     ]
    },
    {
     "cell_type": "heading",
     "level": 3,
     "metadata": {},
     "source": [
      "UniProtKB/Swiss_Prot"
     ]
    },
    {
     "cell_type": "code",
     "collapsed": false,
     "input": [
      "blastx \\\n",
      "-query /Volumes/web/cnidarian/Phel_transcriptome_clc_v3.fasta \\\n",
      "-db /Volumes/web/whale/blast/db/uniprot_sprot \\\n",
      "-out /Volumes/web/cnidarian/Phelv3_uniprot_sprot.tab \\\n",
      "-evalue 1E-05 \\\n",
      "-max_target_seqs 1 \\\n",
      "-max_hsps 1 \\\n",
      "-outfmt 6 \\\n",
      "-num_threads 16"
     ],
     "language": "python",
     "metadata": {},
     "outputs": []
    },
    {
     "cell_type": "code",
     "collapsed": false,
     "input": [
      "!head -2 Phel_uniprot_sprot.tab"
     ],
     "language": "python",
     "metadata": {},
     "outputs": [
      {
       "output_type": "stream",
       "stream": "stdout",
       "text": [
        "Phel_clc_contig_4\tsp|P25001|COX1_PISOC\t88.39\t517\t48\t1\t7061\t5547\t1\t517\t0.0\t  749\r\n",
        "Phel_clc_contig_5\tsp|P20097|SAP_CAVPO\t35.90\t78\t47\t2\t393\t617\t3\t80\t6e-08\t56.6\r\n"
       ]
      }
     ],
     "prompt_number": 41
    },
    {
     "cell_type": "code",
     "collapsed": false,
     "input": [
      "!wc -l Phel_uniprot_sprot.tab"
     ],
     "language": "python",
     "metadata": {},
     "outputs": [
      {
       "output_type": "stream",
       "stream": "stdout",
       "text": [
        "   11386 Phel_uniprot_sprot.tab\r\n"
       ]
      }
     ],
     "prompt_number": 12
    },
    {
     "cell_type": "code",
     "collapsed": false,
     "input": [
      "!tr '|' \"\\t\" <Phel_uniprot_sprot.tab> Phel_uniprot_sprot_sq.tab"
     ],
     "language": "python",
     "metadata": {},
     "outputs": [],
     "prompt_number": 29
    },
    {
     "cell_type": "code",
     "collapsed": false,
     "input": [
      "!head -2 Phel_uniprot_sprot_sq.tab"
     ],
     "language": "python",
     "metadata": {},
     "outputs": [
      {
       "output_type": "stream",
       "stream": "stdout",
       "text": [
        "Phel_clc_contig_4\tsp\tP25001\tCOX1_PISOC\t88.39\t517\t48\t1\t7061\t5547\t1\t517\t0.0\t  749\r\n",
        "Phel_clc_contig_5\tsp\tP20097\tSAP_CAVPO\t35.90\t78\t47\t2\t393\t617\t3\t80\t6e-08\t56.6\r\n"
       ]
      }
     ],
     "prompt_number": 31
    },
    {
     "cell_type": "code",
     "collapsed": false,
     "input": [
      "#sqlshare python tools location\n",
      "sst=\"/Users/sr320/sqlshare-pythonclient/tools/\""
     ],
     "language": "python",
     "metadata": {},
     "outputs": [],
     "prompt_number": 34
    },
    {
     "cell_type": "code",
     "collapsed": false,
     "input": [
      "!python {sst}singleupload.py Phel_uniprot_sprot_sq.tab"
     ],
     "language": "python",
     "metadata": {},
     "outputs": [
      {
       "output_type": "stream",
       "stream": "stdout",
       "text": [
        "processing chunk line 0 to 11386 (0.0107078552246 s elapsed)\r\n",
        "pushing Phel_uniprot_sprot_sq.tab...\r\n"
       ]
      },
      {
       "output_type": "stream",
       "stream": "stdout",
       "text": [
        "parsing C4571FE1...\r\n"
       ]
      },
      {
       "output_type": "stream",
       "stream": "stdout",
       "text": [
        "finished Phel_uniprot_sprot_sq.tab\r\n"
       ]
      }
     ],
     "prompt_number": 38
    },
    {
     "cell_type": "code",
     "collapsed": false,
     "input": [
      "!python {sst}fetchdata.py -s \"SELECT * FROM [sr320@washington.edu].[Phel_uniprot_sprot_sq.tab]phel left join [sr320@washington.edu].[uniprot-reviewed_wGO_010714]des on phel.Column3=des.Entry\" -f tsv -o Phel_uniprot_info.tab\n"
     ],
     "language": "python",
     "metadata": {},
     "outputs": [],
     "prompt_number": 39
    },
    {
     "cell_type": "code",
     "collapsed": false,
     "input": [
      "!head -2 Phel_uniprot_info.tab"
     ],
     "language": "python",
     "metadata": {},
     "outputs": [
      {
       "output_type": "stream",
       "stream": "stdout",
       "text": [
        "Column1\tColumn2\tColumn3\tColumn4\tColumn5\tColumn6\tColumn7\tColumn8\tColumn9\tColumn10\tColumn11\tColumn12\tColumn13\tColumn14\tEntry\tEntry name\tGene ontology IDs\tInteracts with\tCross-reference (GO)\tGene ontology (GO)\tStatus\tInterPro\tPathway\tProtein names\tGene names\tOrganism\tLength\r",
        "\r\n",
        "Phel_clc_contig_100\tsp\tQ16513\tPKN2_HUMAN\t81.33\t332\t61\t1\t7935\t6940\t653\t983\t5E-162\t537\tQ16513\tPKN2_HUMAN\tGO:0005524; GO:0043297; GO:0043296; GO:0006915; GO:0007155; GO:0007049; GO:0051301; GO:0032154; GO:0005737; GO:0005856; GO:0010631; GO:0042826; GO:0030027; GO:0016020; GO:0030496; GO:0005634; GO:0032467; GO:0045931; GO:0004697; GO:0004674; GO:2000145; GO:0006355; GO:0007165; GO:0006351\tQ15118\t\tATP binding; apical junction assembly; apical junction complex; apoptotic process; cell adhesion; cell cycle; cell division; cleavage furrow; cytoplasm; cytoskeleton; epithelial cell migration; histone deacetylase binding; lamellipodium; membrane; midbody; nucleus; positive regulation of cytokinesis; positive regulation of mitotic cell cycle; protein kinase C activity; protein serine/threonine kinase activity; regulation of cell motility; regulation of transcription, DNA-dependent; signal transduction; transcription, DNA-dependent\treviewed\tIPR000961; IPR000008; IPR011072; IPR011009; IPR017892; IPR000719; IPR017441; IPR002290; IPR008271;\t\tSerine/threonine-protein kinase N2 (EC 2.7.11.13) (PKN gamma) (Protein kinase C-like 2) (Protein-kinase C-related kinase 2)\tPKN2 PRK2 PRKCL2\tHomo sapiens (Human)\t984\r",
        "\r\n"
       ]
      }
     ],
     "prompt_number": 64
    },
    {
     "cell_type": "heading",
     "level": 4,
     "metadata": {},
     "source": [
      "Quick-Find"
     ]
    },
    {
     "cell_type": "code",
     "collapsed": false,
     "input": [
      "!fgrep -wi --color \"prostaglandin\" Phel_uniprot_info.tab"
     ],
     "language": "python",
     "metadata": {},
     "outputs": [
      {
       "output_type": "stream",
       "stream": "stdout",
       "text": [
        "Phel_clc_contig_11240\tsp\tO73888\tHPGDS_CHICK\t42.36\t203\t109\t2\t197\t799\t1\t197\t4E-40\t149\tO73888\tHPGDS_CHICK\tGO:0005509; GO:0005737; GO:0004364; GO:0000287; GO:0005634; GO:0001516; GO:0006693; GO:0004667\t\t\tcalcium ion binding; cytoplasm; glutathione transferase activity; magnesium ion binding; nucleus; \u001b[01;31m\u001b[Kprostaglandin\u001b[m\u001b[K biosynthetic process; \u001b[01;31m\u001b[Kprostaglandin\u001b[m\u001b[K metabolic process; \u001b[01;31m\u001b[Kprostaglandin\u001b[m\u001b[K-D synthase activity\treviewed\tIPR010987; IPR004045; IPR004046; IPR012336;\t\tHematopoietic \u001b[01;31m\u001b[Kprostaglandin\u001b[m\u001b[K D synthase (H-PGDS) (EC 5.3.99.2) (GST class-sigma) (Glutathione S-transferase) (EC 2.5.1.18) (Glutathione-dependent PGD synthase) (Glutathione-requiring \u001b[01;31m\u001b[Kprostaglandin\u001b[m\u001b[K D synthase) (\u001b[01;31m\u001b[KProstaglandin\u001b[m\u001b[K-H2 D-isomerase)\tHPGDS GSTS PGDS PTGDS2\tGallus gallus (Chicken)\t199\r",
        "\r\n",
        "Phel_clc_contig_12768\tsp\tP22045\tPGFS_LEIMA\t43.72\t247\t133\t4\t80\t811\t27\t270\t1E-61\t216\tP22045\tPGFS_LEIMA\tGO:0005737; GO:0000166; GO:0036131; GO:0001516; GO:0047017\t\t\tcytoplasm; nucleotide binding; \u001b[01;31m\u001b[Kprostaglandin\u001b[m\u001b[K D2 11-ketoreductase activity; \u001b[01;31m\u001b[Kprostaglandin\u001b[m\u001b[K biosynthetic process; \u001b[01;31m\u001b[Kprostaglandin\u001b[m\u001b[K-F synthase activity\treviewed\tIPR001395; IPR018170; IPR020471; IPR023210;\tLipid metabolism; \u001b[01;31m\u001b[Kprostaglandin\u001b[m\u001b[K biosynthesis.\t\u001b[01;31m\u001b[KProstaglandin\u001b[m\u001b[K F synthase (EC 1.1.1.188) (\u001b[01;31m\u001b[KProstaglandin\u001b[m\u001b[K F2-alpha synthase)\tP100/11E\tLeishmania major\t284\r",
        "\r\n"
       ]
      },
      {
       "output_type": "stream",
       "stream": "stdout",
       "text": [
        "Phel_clc_contig_14220\tsp\tQ923E4\tSIR1_MOUSE\t65.38\t208\t67\t2\t250\t873\t171\t373\t3E-93\t298\tQ923E4\tSIR1_MOUSE\tGO:0000731; GO:0035098; GO:0070403; GO:0046969; GO:0016605; GO:0001525; GO:0043425; GO:0001678; GO:0070301; GO:0071456; GO:0071479; GO:0009267; GO:0071356; GO:0035356; GO:0042632; GO:0000183; GO:0005677; GO:0005737; GO:0006343; GO:0055089; GO:0042771; GO:0006344; GO:0046872; GO:0005739; GO:0007517; GO:0043518; GO:0043124; GO:0032088; GO:0032007; GO:0060766; GO:0043066; GO:2000480; GO:0030308; GO:2000655; GO:2000773; GO:0045599; GO:0051097; GO:1902166; GO:1902176; GO:2000757; GO:0031393; GO:0051898; GO:0000122; GO:0030512; GO:0005719; GO:0005720; GO:0005637; GO:0005730; GO:0005654; GO:0001542; GO:0018394; GO:0034983; GO:0045739; GO:0045348; GO:0002821; GO:2000481; GO:0008284; GO:2000774; GO:0010875; GO:0031937; GO:0043280; GO:0046628; GO:0016239; GO:2000111; GO:0045944; GO:0043161; GO:0031648; GO:0016567; GO:0000720; GO:0033553; GO:0006364; GO:0070857; GO:0032071; GO:0010906; GO:0007346; GO:0035358; GO:0033158; GO:0034391; GO:0042542; GO:0032868; GO:0000012; GO:0007283; GO:0003714; GO:0006351; GO:0006642; GO:0050872\tO08785; Q61214; Q922Y0; Q01094; Q12778; Q9R1Y5; P22361; P81122; Q64221; Q62227; P37238; O70343; P06400; P28749; Q08999; O35253; Q9WTN3; P04637\t\tDNA synthesis involved in DNA repair; ESC/E(Z) complex; NAD+ binding; NAD-dependent histone deacetylase activity (H3-K9 specific); PML body; angiogenesis; bHLH transcription factor binding; cellular glucose homeostasis; cellular response to hydrogen peroxide; cellular response to hypoxia; cellular response to ionizing radiation; cellular response to starvation; cellular response to tumor necrosis factor; cellular triglyceride homeostasis; cholesterol homeostasis; chromatin silencing at rDNA; chromatin silencing complex; cytoplasm; establishment of chromatin silencing; fatty acid homeostasis; intrinsic apoptotic signaling pathway in response to DNA damage by p53 class mediator; maintenance of chromatin silencing; metal ion binding; mitochondrion; muscle organ development; negative regulation of DNA damage response, signal transduction by p53 class mediator; negative regulation of I-kappaB kinase/NF-kappaB cascade; negative regulation of NF-kappaB transcription factor activity; negative regulation of TOR signaling cascade; negative regulation of androgen receptor signaling pathway; negative regulation of apoptotic process; negative regulation of cAMP-dependent protein kinase activity; negative regulation of cell growth; negative regulation of cellular response to testosterone stimulus; negative regulation of cellular senescence; negative regulation of fat cell differentiation; negative regulation of helicase activity; negative regulation of intrinsic apoptotic signaling pathway in response to DNA damage by p53 class mediator; negative regulation of intrinsic apoptotic signaling pathway in response to oxidative stress; negative regulation of peptidyl-lysine acetylation; negative regulation of \u001b[01;31m\u001b[Kprostaglandin\u001b[m\u001b[K biosynthetic process; negative regulation of protein kinase B signaling cascade; negative regulation of transcription from RNA polymerase II promoter; negative regulation of transforming growth factor beta receptor signaling pathway; nuclear euchromatin; nuclear heterochromatin; nuclear inner membrane; nucleolus; nucleoplasm; ovulation from ovarian follicle; peptidyl-lysine acetylation; peptidyl-lysine deacetylation; positive regulation of DNA repair; positive regulation of MHC class II biosynthetic process; positive regulation of adaptive immune response; positive regulation of cAMP-dependent protein kinase activity; positive regulation of cell proliferation; positive regulation of cellular senescence; positive regulation of cholesterol efflux; positive regulation of chromatin silencing; positive regulation of cysteine-type endopeptidase activity involved in apoptotic process; positive regulation of insulin receptor signaling pathway; positive regulation of macroautophagy; positive regulation of macrophage apoptotic process; positive regulation of transcription from RNA polymerase II promoter; proteasomal ubiquitin-dependent protein catabolic process; protein destabilization; protein ubiquitination; pyrimidine dimer repair by nucleotide-excision repair; rDNA heterochromatin; rRNA processing; regulation of bile acid biosynthetic process; regulation of endodeoxyribonuclease activity; regulation of glucose metabolic process; regulation of mitotic cell cycle; regulation of peroxisome proliferator activated receptor signaling pathway; regulation of protein import into nucleus, translocation; regulation of smooth muscle cell apoptotic process; response to hydrogen peroxide; response to insulin stimulus; single strand break repair; spermatogenesis; transcription corepressor activity; transcription, DNA-dependent; triglyceride mobilization; white fat cell differentiation\treviewed\tIPR003000; IPR026591; IPR026590;\t\tNAD-dependent protein deacetylase sirtuin-1 (EC 3.5.1.-) (Regulatory protein SIR2 homolog 1) (SIR2-like protein 1) (SIR2alpha) (Sir2) (mSIR2a) [Cleaved into: SirtT1 75 kDa fragment (75SirT1)]\tSirt1 Sir2l1\tMus musculus (Mouse)\t737\r",
        "\r\n",
        "Phel_clc_contig_14233\tsp\tQ9EQZ5\tPTGR1_CAVPO\t51.82\t137\t64\t2\t97\t504\t3\t138\t2E-43\t153\tQ9EQZ5\tPTGR1_CAVPO\tGO:0036132; GO:0047522; GO:0032440; GO:0005737; GO:0006693; GO:0008270\t\t\t13-\u001b[01;31m\u001b[Kprostaglandin\u001b[m\u001b[K reductase activity; 15-oxoprostaglandin 13-oxidase activity; 2-alkenal reductase [NAD(P)] activity; cytoplasm; \u001b[01;31m\u001b[Kprostaglandin\u001b[m\u001b[K metabolic process; zinc ion binding\treviewed\tIPR013149; IPR002085; IPR014190; IPR011032; IPR016040;\t\t\u001b[01;31m\u001b[KProstaglandin\u001b[m\u001b[K reductase 1 (PRG-1) (EC 1.3.1.-) (15-oxoprostaglandin 13-reductase) (PGR) (EC 1.3.1.48) (NADP-dependent leukotriene B4 12-hydroxydehydrogenase) (12-HD) (LTB4) (EC 1.3.1.74)\tPtgr1 Ltb4dh\tCavia porcellus (Guinea pig)\t329\r",
        "\r\n"
       ]
      },
      {
       "output_type": "stream",
       "stream": "stdout",
       "text": [
        "Phel_clc_contig_17609\tsp\tP07872\tACOX1_RAT\t43.94\t396\t212\t3\t1691\t525\t265\t657\t3E-99\t322\tP07872\tACOX1_RAT\tGO:0003995; GO:0033540; GO:0005504; GO:0050660; GO:0006091; GO:0016401; GO:0005777; GO:0006693\t\t\tacyl-CoA dehydrogenase activity; fatty acid beta-oxidation using acyl-CoA oxidase; fatty acid binding; flavin adenine dinucleotide binding; generation of precursor metabolites and energy; palmitoyl-CoA oxidase activity; peroxisome; \u001b[01;31m\u001b[Kprostaglandin\u001b[m\u001b[K metabolic process\treviewed\tIPR006091; IPR012258; IPR002655; IPR009075; IPR013786; IPR009100;\tLipid metabolism; peroxisomal fatty acid beta-oxidation.\tPeroxisomal acyl-coenzyme A oxidase 1 (AOX) (EC 1.3.3.6) (Palmitoyl-CoA oxidase) [Cleaved into: Peroxisomal acyl-CoA oxidase 1, A chain; Peroxisomal acyl-CoA oxidase 1, B chain; Peroxisomal acyl-CoA oxidase 1, C chain]\tAcox1 Acox\tRattus norvegicus (Rat)\t661\r",
        "\r\n",
        "Phel_clc_contig_17861\tsp\tQ8VCC1\tPGDH_MOUSE\t29.83\t238\t153\t5\t440\t1117\t1\t236\t3E-22\t100\tQ8VCC1\tPGDH_MOUSE\tGO:0016404; GO:0070403; GO:0016323; GO:0005737; GO:0097070; GO:0007565; GO:0045786; GO:0005634; GO:0030728; GO:0007567; GO:0004957; GO:0006693; GO:0070493; GO:0007179\t\t\t15-hydroxyprostaglandin dehydrogenase (NAD+) activity; NAD+ binding; basolateral plasma membrane; cytoplasm; ductus arteriosus closure; female pregnancy; negative regulation of cell cycle; nucleus; ovulation; parturition; \u001b[01;31m\u001b[Kprostaglandin\u001b[m\u001b[K E receptor activity; \u001b[01;31m\u001b[Kprostaglandin\u001b[m\u001b[K metabolic process; thrombin receptor signaling pathway; transforming growth factor beta receptor signaling pathway\treviewed\tIPR002198; IPR002347; IPR016040; IPR020904;\t\t15-hydroxyprostaglandin dehydrogenase [NAD(+)] (15-PGDH) (EC 1.1.1.141) (\u001b[01;31m\u001b[KProstaglandin\u001b[m\u001b[K dehydrogenase 1)\tHpgd Pgdh1\tMus musculus (Mouse)\t269\r",
        "\r\n",
        "Phel_clc_contig_20363\tsp\tQ7TMA5\tAPOB_RAT\t31.88\t643\t375\t22\t1953\t73\t113\t708\t4E-72\t261\tQ7TMA5\tAPOB_RAT\tGO:0048844; GO:0071379; GO:0071356; GO:0033344; GO:0042632; GO:0008203; GO:0017127; GO:0005737; GO:0005783; GO:0009566; GO:0008201; GO:0001701; GO:0034363; GO:0043231; GO:0008289; GO:0042158; GO:0042159; GO:0042953; GO:0034362; GO:0034383; GO:0034374; GO:0034359; GO:0007399; GO:0005543; GO:0010886; GO:0010744; GO:0009791; GO:0045540; GO:0009743; GO:0032496; GO:0010269; GO:0009615; GO:0030317; GO:0007283; GO:0019433; GO:0006642; GO:0034361; GO:0031983; GO:0012506\t\t\tartery morphogenesis; cellular response to \u001b[01;31m\u001b[Kprostaglandin\u001b[m\u001b[K stimulus; cellular response to tumor necrosis factor; cholesterol efflux; cholesterol homeostasis; cholesterol metabolic process; cholesterol transporter activity; cytoplasm; endoplasmic reticulum; fertilization; heparin binding; in utero embryonic development; intermediate-density lipoprotein particle; intracellular membrane-bounded organelle; lipid binding; lipoprotein biosynthetic process; lipoprotein catabolic process; lipoprotein transport; low-density lipoprotein particle; low-density lipoprotein particle clearance; low-density lipoprotein particle remodeling; mature chylomicron; nervous system development; phospholipid binding; positive regulation of cholesterol storage; positive regulation of macrophage derived foam cell differentiation; post-embryonic development; regulation of cholesterol biosynthetic process; response to carbohydrate stimulus; response to lipopolysaccharide; response to selenium ion; response to virus; sperm motility; spermatogenesis; triglyceride catabolic process; triglyceride mobilization; very-low-density lipoprotein particle; vesicle lumen; vesicle membrane\treviewed\tIPR022176; IPR013763; IPR006671; IPR015819; IPR001747; IPR009454; IPR015816; IPR015255; IPR015817; IPR015818; IPR011030;\t\tApolipoprotein B-100 (Apo B-100) [Cleaved into: Apolipoprotein B-48 (Apo B-48)]\tApob Aa1064 Ac1-060\tRattus norvegicus (Rat)\t4743\r",
        "\r\n"
       ]
      },
      {
       "output_type": "stream",
       "stream": "stdout",
       "text": [
        "Phel_clc_contig_2390\tsp\tP80204\tTGFR1_RAT\t74.33\t335\t85\t1\t2429\t1428\t167\t501\t3E-174\t521\tP80204\tTGFR1_RAT\tGO:0005524; GO:0007568; GO:0016324; GO:0006915; GO:0016323; GO:0005901; GO:0030154; GO:0048565; GO:0009790; GO:0007566; GO:0030324; GO:0046872; GO:0045602; GO:0031100; GO:0046777; GO:0046982; GO:0040008; GO:0051602; GO:0043627; GO:0001666; GO:0034695; GO:0009636; GO:0005923; GO:0050431; GO:0005025; GO:0070022; GO:0007179\t\t\tATP binding; aging; apical plasma membrane; apoptotic process; basolateral plasma membrane; caveola; cell differentiation; digestive tract development; embryo development; embryo implantation; lung development; metal ion binding; negative regulation of endothelial cell differentiation; organ regeneration; protein autophosphorylation; protein heterodimerization activity; regulation of growth; response to electrical stimulus; response to estrogen stimulus; response to hypoxia; response to \u001b[01;31m\u001b[Kprostaglandin\u001b[m\u001b[K E stimulus; response to toxic substance; tight junction; transforming growth factor beta binding; transforming growth factor beta receptor activity, type I; transforming growth factor beta receptor homodimeric complex; transforming growth factor beta receptor signaling pathway\treviewed\tIPR000472; IPR011009; IPR000719; IPR017441; IPR008271; IPR003605;\t\tTGF-beta receptor type-1 (TGFR-1) (EC 2.7.11.30) (Serine/threonine-protein kinase receptor R4) (SKR4) (TGF-beta type I receptor) (Transforming growth factor-beta receptor type I) (TGF-beta receptor type I) (TbetaR-I)\tTgfbr1\tRattus norvegicus (Rat)\t501\r",
        "\r\n",
        "Phel_clc_contig_24301\tsp\tQ9NP80\tPLPL8_HUMAN\t49.15\t468\t231\t4\t268\t1656\t307\t772\t2E-150\t466\tQ9NP80\tPLPL8_HUMAN\tGO:0005524; GO:0000139; GO:0019369; GO:0050482; GO:0047499; GO:0008219; GO:0005789; GO:0046474; GO:0016021; GO:0043651; GO:0004622; GO:0048471; GO:0005778; GO:0036151; GO:0034638; GO:0036152; GO:0046338; GO:0001516\t\t\tATP binding; Golgi membrane; arachidonic acid metabolic process; arachidonic acid secretion; calcium-independent phospholipase A2 activity; cell death; endoplasmic reticulum membrane; glycerophospholipid biosynthetic process; integral to membrane; linoleic acid metabolic process; lysophospholipase activity; perinuclear region of cytoplasm; peroxisomal membrane; phosphatidylcholine acyl-chain remodeling; phosphatidylcholine catabolic process; phosphatidylethanolamine acyl-chain remodeling; phosphatidylethanolamine catabolic process; \u001b[01;31m\u001b[Kprostaglandin\u001b[m\u001b[K biosynthetic process\treviewed\tIPR016035; IPR002641;\t\tCalcium-independent phospholipase A2-gamma (EC 3.1.1.5) (Intracellular membrane-associated calcium-independent phospholipase A2 gamma) (iPLA2-gamma) (PNPLA-gamma) (Patatin-like phospholipase domain-containing protein 8) (iPLA2-2)\tPNPLA8 IPLA22 IPLA2G BM-043\tHomo sapiens (Human)\t782\r",
        "\r\n"
       ]
      },
      {
       "output_type": "stream",
       "stream": "stdout",
       "text": [
        "Phel_clc_contig_27229\tsp\tP22045\tPGFS_LEIMA\t51.63\t153\t73\t1\t642\t184\t131\t282\t4E-50\t170\tP22045\tPGFS_LEIMA\tGO:0005737; GO:0000166; GO:0036131; GO:0001516; GO:0047017\t\t\tcytoplasm; nucleotide binding; \u001b[01;31m\u001b[Kprostaglandin\u001b[m\u001b[K D2 11-ketoreductase activity; \u001b[01;31m\u001b[Kprostaglandin\u001b[m\u001b[K biosynthetic process; \u001b[01;31m\u001b[Kprostaglandin\u001b[m\u001b[K-F synthase activity\treviewed\tIPR001395; IPR018170; IPR020471; IPR023210;\tLipid metabolism; \u001b[01;31m\u001b[Kprostaglandin\u001b[m\u001b[K biosynthesis.\t\u001b[01;31m\u001b[KProstaglandin\u001b[m\u001b[K F synthase (EC 1.1.1.188) (\u001b[01;31m\u001b[KProstaglandin\u001b[m\u001b[K F2-alpha synthase)\tP100/11E\tLeishmania major\t284\r",
        "\r\n"
       ]
      },
      {
       "output_type": "stream",
       "stream": "stdout",
       "text": [
        "Phel_clc_contig_28349\tsp\tP47844\tCBR1_RABIT\t44.35\t124\t64\t2\t784\t428\t134\t257\t1E-26\t109\tP47844\tCBR1_RABIT\tGO:0047021; GO:0004090; GO:0005737; GO:0017144; GO:0050221; GO:0042373\t\t\t15-hydroxyprostaglandin dehydrogenase (NADP+) activity; carbonyl reductase (NADPH) activity; cytoplasm; drug metabolic process; \u001b[01;31m\u001b[Kprostaglandin\u001b[m\u001b[K-E2 9-reductase activity; vitamin K metabolic process\treviewed\tIPR002198; IPR002347; IPR016040; IPR020904;\t\tCarbonyl reductase [NADPH] 1 (EC 1.1.1.184) (15-hydroxyprostaglandin dehydrogenase [NADP(+)]) (EC 1.1.1.197) (20-beta-hydroxysteroid dehydrogenase) (NADPH-dependent carbonyl reductase 1) (\u001b[01;31m\u001b[KProstaglandin\u001b[m\u001b[K 9-ketoreductase) (\u001b[01;31m\u001b[KProstaglandin\u001b[m\u001b[K-E(2) 9-reductase) (EC 1.1.1.189)\tCBR1 CBR\tOryctolagus cuniculus (Rabbit)\t277\r",
        "\r\n",
        "Phel_clc_contig_28597\tsp\tQ5RC19\tACOX1_PONAB\t48.21\t224\t88\t2\t632\t6\t57\t267\t9E-66\t220\tQ5RC19\tACOX1_PONAB\tGO:0003995; GO:0003997; GO:0033540; GO:0019395; GO:0050660; GO:0006091; GO:0005777; GO:0006693\t\t\tacyl-CoA dehydrogenase activity; acyl-CoA oxidase activity; fatty acid beta-oxidation using acyl-CoA oxidase; fatty acid oxidation; flavin adenine dinucleotide binding; generation of precursor metabolites and energy; peroxisome; \u001b[01;31m\u001b[Kprostaglandin\u001b[m\u001b[K metabolic process\treviewed\tIPR006091; IPR012258; IPR002655; IPR009075; IPR013786; IPR009100;\tLipid metabolism; peroxisomal fatty acid beta-oxidation.\tPeroxisomal acyl-coenzyme A oxidase 1 (AOX) (EC 1.3.3.6) (Palmitoyl-CoA oxidase)\tACOX1\tPongo abelii (Sumatran orangutan) (Pongo pygmaeus abelii)\t660\r",
        "\r\n",
        "Phel_clc_contig_303\tsp\tQ99N02\tSO3A1_RAT\t28.19\t408\t274\t6\t2\t1195\t68\t466\t2E-40\t160\tQ99N02\tSO3A1_RAT\tGO:0016021; GO:0005886; GO:0015732; GO:0005215\t\t\tintegral to membrane; plasma membrane; \u001b[01;31m\u001b[Kprostaglandin\u001b[m\u001b[K transport; transporter activity\treviewed\tIPR002350; IPR016196; IPR004156;\t\tSolute carrier organic anion transporter family member 3A1 (Organic anion-transporting polypeptide D) (OATP-D) (\u001b[01;31m\u001b[KProstaglandin\u001b[m\u001b[K transporter subtype 2) (Sodium-independent organic anion transporter D) (Solute carrier family 21 member 11)\tSlco3a1 Oatp3a1 Oatpd Pgt2 Slc21a11\tRattus norvegicus (Rat)\t710\r",
        "\r\n"
       ]
      },
      {
       "output_type": "stream",
       "stream": "stdout",
       "text": [
        "Phel_clc_contig_3498\tsp\tQ8VCC1\tPGDH_MOUSE\t38.74\t253\t142\t6\t227\t961\t7\t254\t5E-51\t176\tQ8VCC1\tPGDH_MOUSE\tGO:0016404; GO:0070403; GO:0016323; GO:0005737; GO:0097070; GO:0007565; GO:0045786; GO:0005634; GO:0030728; GO:0007567; GO:0004957; GO:0006693; GO:0070493; GO:0007179\t\t\t15-hydroxyprostaglandin dehydrogenase (NAD+) activity; NAD+ binding; basolateral plasma membrane; cytoplasm; ductus arteriosus closure; female pregnancy; negative regulation of cell cycle; nucleus; ovulation; parturition; \u001b[01;31m\u001b[Kprostaglandin\u001b[m\u001b[K E receptor activity; \u001b[01;31m\u001b[Kprostaglandin\u001b[m\u001b[K metabolic process; thrombin receptor signaling pathway; transforming growth factor beta receptor signaling pathway\treviewed\tIPR002198; IPR002347; IPR016040; IPR020904;\t\t15-hydroxyprostaglandin dehydrogenase [NAD(+)] (15-PGDH) (EC 1.1.1.141) (\u001b[01;31m\u001b[KProstaglandin\u001b[m\u001b[K dehydrogenase 1)\tHpgd Pgdh1\tMus musculus (Mouse)\t269\r",
        "\r\n",
        "Phel_clc_contig_3860\tsp\tQ8HYL8\tACOX1_PHACI\t52.28\t549\t255\t2\t2757\t1129\t110\t657\t0\t601\tQ8HYL8\tACOX1_PHACI\tGO:0003995; GO:0003997; GO:0033540; GO:0019395; GO:0050660; GO:0006091; GO:0005777; GO:0006693\t\t\tacyl-CoA dehydrogenase activity; acyl-CoA oxidase activity; fatty acid beta-oxidation using acyl-CoA oxidase; fatty acid oxidation; flavin adenine dinucleotide binding; generation of precursor metabolites and energy; peroxisome; \u001b[01;31m\u001b[Kprostaglandin\u001b[m\u001b[K metabolic process\treviewed\tIPR006091; IPR012258; IPR002655; IPR009075; IPR013786; IPR009100;\tLipid metabolism; peroxisomal fatty acid beta-oxidation.\tPeroxisomal acyl-coenzyme A oxidase 1 (AOX) (EC 1.3.3.6) (Palmitoyl-CoA oxidase)\tACOX1\tPhascolarctos cinereus (Koala)\t661\r",
        "\r\n"
       ]
      },
      {
       "output_type": "stream",
       "stream": "stdout",
       "text": [
        "Phel_clc_contig_7484\tsp\tQ9H7Z7\tPGES2_HUMAN\t52.35\t277\t121\t5\t2010\t1204\t97\t370\t1E-93\t301\tQ9H7Z7\tPGES2_HUMAN\tGO:0003677; GO:0000139; GO:0045454; GO:0005829; GO:0009055; GO:0016021; GO:0005739; GO:0005634; GO:0048471; GO:0045893; GO:0001516; GO:0050220; GO:0015035; GO:0046903\t\t\tDNA binding; Golgi membrane; cell redox homeostasis; cytosol; electron carrier activity; integral to membrane; mitochondrion; nucleus; perinuclear region of cytoplasm; positive regulation of transcription, DNA-dependent; \u001b[01;31m\u001b[Kprostaglandin\u001b[m\u001b[K biosynthetic process; \u001b[01;31m\u001b[Kprostaglandin\u001b[m\u001b[K-E synthase activity; protein disulfide oxidoreductase activity; secretion\treviewed\tIPR002109; IPR010987; IPR004045; IPR012336;\tLipid metabolism; \u001b[01;31m\u001b[Kprostaglandin\u001b[m\u001b[K biosynthesis.\t\u001b[01;31m\u001b[KProstaglandin\u001b[m\u001b[K E synthase 2 (EC 4.1.2.-) (EC 5.3.99.3) (Microsomal \u001b[01;31m\u001b[Kprostaglandin\u001b[m\u001b[K E synthase 2) (mPGES-2) [Cleaved into: \u001b[01;31m\u001b[KProstaglandin\u001b[m\u001b[K E synthase 2 truncated form]\tPTGES2 C9orf15 PGES2\tHomo sapiens (Human)\t377\r",
        "\r\n",
        "Phel_clc_contig_7795\tsp\tQ6NV24\tPGFS_DANRE\t44.56\t193\t101\t1\t193\t753\t6\t198\t1E-49\t173\tQ6NV24\tPGFS_DANRE\tGO:0005829; GO:0016616; GO:0001516\t\t\tcytosol; oxidoreductase activity, acting on the CH-OH group of donors, NAD or NADP as acceptor; \u001b[01;31m\u001b[Kprostaglandin\u001b[m\u001b[K biosynthetic process\treviewed\tIPR012336;\t\tProstamide/\u001b[01;31m\u001b[Kprostaglandin\u001b[m\u001b[K F synthase (Prostamide/PG F synthase) (Prostamide/PGF synthase) (EC 1.11.1.20)\tfam213b zgc:85644\tDanio rerio (Zebrafish) (Brachydanio rerio)\t201\r",
        "\r\n",
        "Phel_clc_contig_9144\tsp\tQ99571\tP2RX4_HUMAN\t51.54\t324\t137\t6\t3\t968\t67\t372\t6E-104\t322\tQ99571\tP2RX4_HUMAN\tGO:0005524; GO:0097190; GO:0030054; GO:0005507; GO:0042118; GO:0004931; GO:0005887; GO:0005765; GO:0051899; GO:0010614; GO:0048471; GO:0010524; GO:0050850; GO:0045429; GO:0032308; GO:0042803; GO:0001614; GO:0005102; GO:0008217; GO:0055117; GO:0002028; GO:0055119; GO:0033198; GO:0034405; GO:0019233; GO:0001894; GO:0008270\t\t\tATP binding; apoptotic signaling pathway; cell junction; copper ion binding; endothelial cell activation; extracellular ATP-gated cation channel activity; integral to plasma membrane; lysosomal membrane; membrane depolarization; negative regulation of cardiac muscle hypertrophy; perinuclear region of cytoplasm; positive regulation of calcium ion transport into cytosol; positive regulation of calcium-mediated signaling; positive regulation of nitric oxide biosynthetic process; positive regulation of \u001b[01;31m\u001b[Kprostaglandin\u001b[m\u001b[K secretion; protein homodimerization activity; purinergic nucleotide receptor activity; receptor binding; regulation of blood pressure; regulation of cardiac muscle contraction; regulation of sodium ion transport; relaxation of cardiac muscle; response to ATP; response to fluid shear stress; sensory perception of pain; tissue homeostasis; zinc ion binding\treviewed\tIPR003047; IPR027309; IPR001429;\t\tP2X purinoceptor 4 (P2X4) (ATP receptor) (Purinergic receptor)\tP2RX4\tHomo sapiens (Human)\t388\r",
        "\r\n",
        "Phel_clc_contig_9258\tsp\tQ923E4\tSIR1_MOUSE\t61.11\t36\t14\t0\t1170\t1063\t613\t648\t8E-06\t52.8\tQ923E4\tSIR1_MOUSE\tGO:0000731; GO:0035098; GO:0070403; GO:0046969; GO:0016605; GO:0001525; GO:0043425; GO:0001678; GO:0070301; GO:0071456; GO:0071479; GO:0009267; GO:0071356; GO:0035356; GO:0042632; GO:0000183; GO:0005677; GO:0005737; GO:0006343; GO:0055089; GO:0042771; GO:0006344; GO:0046872; GO:0005739; GO:0007517; GO:0043518; GO:0043124; GO:0032088; GO:0032007; GO:0060766; GO:0043066; GO:2000480; GO:0030308; GO:2000655; GO:2000773; GO:0045599; GO:0051097; GO:1902166; GO:1902176; GO:2000757; GO:0031393; GO:0051898; GO:0000122; GO:0030512; GO:0005719; GO:0005720; GO:0005637; GO:0005730; GO:0005654; GO:0001542; GO:0018394; GO:0034983; GO:0045739; GO:0045348; GO:0002821; GO:2000481; GO:0008284; GO:2000774; GO:0010875; GO:0031937; GO:0043280; GO:0046628; GO:0016239; GO:2000111; GO:0045944; GO:0043161; GO:0031648; GO:0016567; GO:0000720; GO:0033553; GO:0006364; GO:0070857; GO:0032071; GO:0010906; GO:0007346; GO:0035358; GO:0033158; GO:0034391; GO:0042542; GO:0032868; GO:0000012; GO:0007283; GO:0003714; GO:0006351; GO:0006642; GO:0050872\tO08785; Q61214; Q922Y0; Q01094; Q12778; Q9R1Y5; P22361; P81122; Q64221; Q62227; P37238; O70343; P06400; P28749; Q08999; O35253; Q9WTN3; P04637\t\tDNA synthesis involved in DNA repair; ESC/E(Z) complex; NAD+ binding; NAD-dependent histone deacetylase activity (H3-K9 specific); PML body; angiogenesis; bHLH transcription factor binding; cellular glucose homeostasis; cellular response to hydrogen peroxide; cellular response to hypoxia; cellular response to ionizing radiation; cellular response to starvation; cellular response to tumor necrosis factor; cellular triglyceride homeostasis; cholesterol homeostasis; chromatin silencing at rDNA; chromatin silencing complex; cytoplasm; establishment of chromatin silencing; fatty acid homeostasis; intrinsic apoptotic signaling pathway in response to DNA damage by p53 class mediator; maintenance of chromatin silencing; metal ion binding; mitochondrion; muscle organ development; negative regulation of DNA damage response, signal transduction by p53 class mediator; negative regulation of I-kappaB kinase/NF-kappaB cascade; negative regulation of NF-kappaB transcription factor activity; negative regulation of TOR signaling cascade; negative regulation of androgen receptor signaling pathway; negative regulation of apoptotic process; negative regulation of cAMP-dependent protein kinase activity; negative regulation of cell growth; negative regulation of cellular response to testosterone stimulus; negative regulation of cellular senescence; negative regulation of fat cell differentiation; negative regulation of helicase activity; negative regulation of intrinsic apoptotic signaling pathway in response to DNA damage by p53 class mediator; negative regulation of intrinsic apoptotic signaling pathway in response to oxidative stress; negative regulation of peptidyl-lysine acetylation; negative regulation of \u001b[01;31m\u001b[Kprostaglandin\u001b[m\u001b[K biosynthetic process; negative regulation of protein kinase B signaling cascade; negative regulation of transcription from RNA polymerase II promoter; negative regulation of transforming growth factor beta receptor signaling pathway; nuclear euchromatin; nuclear heterochromatin; nuclear inner membrane; nucleolus; nucleoplasm; ovulation from ovarian follicle; peptidyl-lysine acetylation; peptidyl-lysine deacetylation; positive regulation of DNA repair; positive regulation of MHC class II biosynthetic process; positive regulation of adaptive immune response; positive regulation of cAMP-dependent protein kinase activity; positive regulation of cell proliferation; positive regulation of cellular senescence; positive regulation of cholesterol efflux; positive regulation of chromatin silencing; positive regulation of cysteine-type endopeptidase activity involved in apoptotic process; positive regulation of insulin receptor signaling pathway; positive regulation of macroautophagy; positive regulation of macrophage apoptotic process; positive regulation of transcription from RNA polymerase II promoter; proteasomal ubiquitin-dependent protein catabolic process; protein destabilization; protein ubiquitination; pyrimidine dimer repair by nucleotide-excision repair; rDNA heterochromatin; rRNA processing; regulation of bile acid biosynthetic process; regulation of endodeoxyribonuclease activity; regulation of glucose metabolic process; regulation of mitotic cell cycle; regulation of peroxisome proliferator activated receptor signaling pathway; regulation of protein import into nucleus, translocation; regulation of smooth muscle cell apoptotic process; response to hydrogen peroxide; response to insulin stimulus; single strand break repair; spermatogenesis; transcription corepressor activity; transcription, DNA-dependent; triglyceride mobilization; white fat cell differentiation\treviewed\tIPR003000; IPR026591; IPR026590;\t\tNAD-dependent protein deacetylase sirtuin-1 (EC 3.5.1.-) (Regulatory protein SIR2 homolog 1) (SIR2-like protein 1) (SIR2alpha) (Sir2) (mSIR2a) [Cleaved into: SirtT1 75 kDa fragment (75SirT1)]\tSirt1 Sir2l1\tMus musculus (Mouse)\t737\r",
        "\r\n",
        "Phel_clc_contig_9772\tsp\tO60488\tACSL4_HUMAN\t47.97\t715\t353\t8\t2324\t204\t8\t711\t0\t642\tO60488\tACSL4_HUMAN\tGO:0005524; GO:0047676; GO:0060996; GO:0060136; GO:0005789; GO:0015908; GO:0016021; GO:0008610; GO:0005811; GO:0004467; GO:0035338; GO:0005741; GO:0032307; GO:0043025; GO:0005778; GO:0030307; GO:0070672; GO:0007584; GO:0019432; GO:0031957\t\t\tATP binding; arachidonate-CoA ligase activity; dendritic spine development; embryonic process involved in female pregnancy; endoplasmic reticulum membrane; fatty acid transport; integral to membrane; lipid biosynthetic process; lipid particle; long-chain fatty acid-CoA ligase activity; long-chain fatty-acyl-CoA biosynthetic process; mitochondrial outer membrane; negative regulation of \u001b[01;31m\u001b[Kprostaglandin\u001b[m\u001b[K secretion; neuronal cell body; peroxisomal membrane; positive regulation of cell growth; response to interleukin-15; response to nutrient; triglyceride biosynthetic process; very long-chain fatty acid-CoA ligase activity\treviewed\tIPR020845; IPR000873;\t\tLong-chain-fatty-acid--CoA ligase 4 (EC 6.2.1.3) (Long-chain acyl-CoA synthetase 4) (LACS 4)\tACSL4 ACS4 FACL4 LACS4\tHomo sapiens (Human)\t711\r",
        "\r\n"
       ]
      }
     ],
     "prompt_number": 79
    },
    {
     "cell_type": "code",
     "collapsed": false,
     "input": [],
     "language": "python",
     "metadata": {},
     "outputs": []
    },
    {
     "cell_type": "code",
     "collapsed": false,
     "input": [],
     "language": "python",
     "metadata": {},
     "outputs": []
    }
   ],
   "metadata": {}
  }
 ]
}