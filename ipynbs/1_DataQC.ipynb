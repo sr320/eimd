{
 "metadata": {
  "name": "",
  "signature": "sha256:83c48c5dd8fb988a777ba4ce5adfed010add367fceea60b1de54c795d6fb6b5a"
 },
 "nbformat": 3,
 "nbformat_minor": 0,
 "worksheets": [
  {
   "cells": [
    {
     "cell_type": "heading",
     "level": 1,
     "metadata": {
      "slideshow": {
       "slide_type": "slide"
      }
     },
     "source": [
      "Examing HTS data upon arrival"
     ]
    },
    {
     "cell_type": "markdown",
     "metadata": {
      "slideshow": {
       "slide_type": "slide"
      }
     },
     "source": [
      "Data is on public server <http://owl.fish.washington.edu/nightingales/P_helianthoides/>"
     ]
    },
    {
     "cell_type": "code",
     "collapsed": false,
     "input": [
      "from IPython.display import HTML\n",
      "HTML('<iframe src=http://owl.fish.washington.edu/nightingales/P_helianthoides/ width=700 height=450></iframe>')"
     ],
     "language": "python",
     "metadata": {
      "slideshow": {
       "slide_type": "slide"
      }
     },
     "outputs": [
      {
       "html": [
        "<iframe src=http://owl.fish.washington.edu/nightingales/P_helianthoides/ width=700 height=450></iframe>"
       ],
       "metadata": {},
       "output_type": "pyout",
       "prompt_number": 2,
       "text": [
        "<IPython.core.display.HTML at 0x101e605d0>"
       ]
      }
     ],
     "prompt_number": 2
    },
    {
     "cell_type": "heading",
     "level": 1,
     "metadata": {},
     "source": [
      "FastQC IPlant Option"
     ]
    },
    {
     "cell_type": "markdown",
     "metadata": {},
     "source": [
      "See FastQC documentation for interpretation of results.    \n",
      "Upload fastq.gz files to IPlant (likely already done)"
     ]
    },
    {
     "cell_type": "markdown",
     "metadata": {},
     "source": [
      "<img src=\"http://eagle.fish.washington.edu/cnidarian/skitch/_31__Discovery_Environment_195F79DC.png\" alt=\"_31__Discovery_Environment_195F79DC.png\"/>"
     ]
    },
    {
     "cell_type": "heading",
     "level": 1,
     "metadata": {},
     "source": [
      "FastQC Local Option"
     ]
    },
    {
     "cell_type": "markdown",
     "metadata": {},
     "source": [
      "FastQC can also be downloaded and run locally"
     ]
    },
    {
     "cell_type": "heading",
     "level": 2,
     "metadata": {},
     "source": []
    },
    {
     "cell_type": "heading",
     "level": 1,
     "metadata": {},
     "source": [
      "Output"
     ]
    },
    {
     "cell_type": "code",
     "collapsed": false,
     "input": [],
     "language": "python",
     "metadata": {},
     "outputs": [],
     "prompt_number": 41
    },
    {
     "cell_type": "code",
     "collapsed": false,
     "input": [
      "from IPython.display import HTML\n",
      "HTML('<iframe src= \\\n",
      "http://eagle.fish.washington.edu/cnidarian/3291_5903_10007_H94MGADXX_V_CF71_ATCACG_R1_fastqc/fastqc_report.html \\\n",
      "width=700 height=450></iframe>')\n"
     ],
     "language": "python",
     "metadata": {},
     "outputs": [
      {
       "html": [
        "<iframe src= http://eagle.fish.washington.edu/cnidarian/3291_5903_10007_H94MGADXX_V_CF71_ATCACG_R1_fastqc/fastqc_report.html width=700 height=450></iframe>"
       ],
       "metadata": {},
       "output_type": "pyout",
       "prompt_number": 1,
       "text": [
        "<IPython.core.display.HTML at 0x101e586d0>"
       ]
      }
     ],
     "prompt_number": 1
    },
    {
     "cell_type": "code",
     "collapsed": false,
     "input": [],
     "language": "python",
     "metadata": {},
     "outputs": []
    }
   ],
   "metadata": {}
  }
 ]
}