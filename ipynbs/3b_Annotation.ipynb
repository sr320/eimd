{
 "metadata": {
  "name": "",
  "signature": "sha256:9f7e647ef126c19f0d02a77a31bea32c1fd9288b605b7c674e82fe7769f471b6"
 },
 "nbformat": 3,
 "nbformat_minor": 0,
 "worksheets": [
  {
   "cells": [
    {
     "cell_type": "heading",
     "level": 1,
     "metadata": {},
     "source": [
      "Transcriptome Completeness"
     ]
    },
    {
     "cell_type": "markdown",
     "metadata": {},
     "source": [
      "clean transcriptome- "
     ]
    },
    {
     "cell_type": "code",
     "collapsed": false,
     "input": [
      "cd ../paper/data"
     ],
     "language": "python",
     "metadata": {},
     "outputs": [
      {
       "output_type": "stream",
       "stream": "stdout",
       "text": [
        "/Volumes/caviar/Dropbox/Steven/eimd/paper/data\n"
       ]
      }
     ],
     "prompt_number": 3
    },
    {
     "cell_type": "code",
     "collapsed": false,
     "input": [
      "!head -3 Phel_transcriptome_clc_v3.fasta"
     ],
     "language": "python",
     "metadata": {},
     "outputs": [
      {
       "output_type": "stream",
       "stream": "stdout",
       "text": [
        ">Phel_clc_contig_1\r\n",
        "CAAATATATGAACGGTTGATTGTCAACGATTAGTACATGTTTTCATTGTTCCCCACGCCCGCCCCCCCCCACTCAAACATTTAAAGTGTGAAATATTATTTATCCACAAATTTCCTTAAACCTGCAAACTTGTCTGCTGTCTCTTATTGGAAGTTATGAAAAAGAACAACGGGTTTTCTTTAAAGGGTCTGCGTGCGATTTTCAACCTTTTGAGTAATAGCAGTTATTTTGATAACCGATTTTTTTCAAAGCTCAACAGCTTTTTAAAATAAGGAATCCTATAATGGCCAAACGAATACTATAAAAATAAGGGTTCTCTTAATTGTATAAAACGTATAATTTTATCAATTTTGGGACCGTGTAATTTTTTAAAGACCACAAGAATGTTACATACAACAAATAGACGAAACTCGTAGCTTTGGAAACTACGTCATGGGCGTTTGGTCAAAAGCTGGAGAGAAAGAGAGGTGGGGTGCCAGACTTAAGTAGTCACGTGATCTGACCAACGCACATCGGAAGCTCGATCGGATGAAATCTTCTCTATCGTTCTTGCGTCTATACGTGCTACGAAGAGCTGACAGAAGTTTGGACTTGTTTACTTCTTGCACCTGTTGATGGAACGGCCACGGACCTTGTCGCACGCACACCTGGAGCCAGTGCTCGGATCGACGCAACGGATGTACTGTCTTCCCCTTCCGCGTTTCTCAAGTAGGTACTCAAAGTCGTCCGCGTCGAAGTTGGCCTCGGCGTCCCTCTTCTCCAGCTCCTCCATGTCCTCCTCTGTGTAGTACGGGGTGACGAGCACCACCAGGGCGGCCACAATGGCCAGTGCTAGAAGACACTTCGTATTCATTCTGCTGGTGGTTGGATGTGCGCAAACAAGACAGGAGAGACTTATTAGAATC\r\n",
        ">Phel_clc_contig_10\r\n"
       ]
      }
     ],
     "prompt_number": 6
    },
    {
     "cell_type": "code",
     "collapsed": false,
     "input": [
      "!fgrep -c \">\" Phel_transcriptome_clc_v3.fasta"
     ],
     "language": "python",
     "metadata": {},
     "outputs": [
      {
       "output_type": "stream",
       "stream": "stdout",
       "text": [
        "29476\r\n"
       ]
      }
     ],
     "prompt_number": 7
    },
    {
     "cell_type": "heading",
     "level": 2,
     "metadata": {},
     "source": [
      "Patria "
     ]
    },
    {
     "cell_type": "markdown",
     "metadata": {},
     "source": [
      "<img src=\"http://eagle.fish.washington.edu/cnidarian/skitch/Downloads___EchinoBase_19D1CFB5.png\" alt=\"Downloads___EchinoBase_19D1CFB5.png\"/>"
     ]
    },
    {
     "cell_type": "code",
     "collapsed": false,
     "input": [
      "cd /Volumes/caviar/Dropbox/Steven/eimd/data/blast_db"
     ],
     "language": "python",
     "metadata": {},
     "outputs": [
      {
       "output_type": "stream",
       "stream": "stdout",
       "text": [
        "/Volumes/caviar/Dropbox/Steven/eimd/data/blast_db\n"
       ]
      }
     ],
     "prompt_number": 8
    },
    {
     "cell_type": "code",
     "collapsed": false,
     "input": [
      "!head Pm_genes.fasta"
     ],
     "language": "python",
     "metadata": {},
     "outputs": [
      {
       "output_type": "stream",
       "stream": "stdout",
       "text": [
        ">PMI_010847-RA\r\n",
        "GCTAACATAGAGATCTTCCTGCCACGGATCGAGGCAGTGGTCCTGTTCGGTGAGCCGGTC\r\n",
        "AGGTGGGAGACCAATCTCCAGCTGATTTTGGACATGTTGATCACCAACGGTCAGCTAAAC\r\n",
        "CACACCCCTGACCACGTCCCGTACCCTAACATGCCGGTCCTTGGATGCAACGTGGATCTC\r\n",
        "ATGTGGATGTCCGAGGCTCATCTACCAAGGTTAGGACATGGCTCTTTCATGGTGTGCCTA\r\n",
        "GAATCACTTTACAAGAAAATCACAGGTCGGGATCTGCTGTACACCGTTCTGACGGGCAAA\r\n",
        "CCTAGTCAGATAACGTACCACTGTGCTGAGAATGTACTAAGCCAACAAGCGAGGGCCATG\r\n",
        "GGATGTCAGGGCCCACTCCGAACACTCTATGCCATTGGTGACAACCCGATGACCGACATC\r\n",
        "TACGGGGCCAATCTGTACAACCAGTACCTCACAGCGAAAGCTGCTAAAGGCCTACAGAAA\r\n",
        "CCAGGTAGCCGCCAGCCAGCGGCCATACGCCAGGGCGTGGTCATGTCCGATCCCCACGAC\r\n"
       ]
      }
     ],
     "prompt_number": 10
    },
    {
     "cell_type": "code",
     "collapsed": false,
     "input": [
      "!fgrep -c \">\" Pm_genes.fasta"
     ],
     "language": "python",
     "metadata": {},
     "outputs": [
      {
       "output_type": "stream",
       "stream": "stdout",
       "text": [
        "29805\r\n"
       ]
      }
     ],
     "prompt_number": 13
    },
    {
     "cell_type": "heading",
     "level": 3,
     "metadata": {},
     "source": [
      "blastn against Phel"
     ]
    },
    {
     "cell_type": "code",
     "collapsed": false,
     "input": [
      "!/Volumes/Bay3/Software/ncbi-blast-2.2.29\\+/bin/makeblastdb \\\n",
      "-in /Volumes/caviar/Dropbox/Steven/eimd/data/blast_db/Phel_transcriptome_clc_v3.fasta \\\n",
      "-dbtype nucl \\\n",
      "-out /Volumes/caviar/Dropbox/Steven/eimd/data/blast_db/Phel_transcriptome_clc_v3"
     ],
     "language": "python",
     "metadata": {},
     "outputs": [
      {
       "output_type": "stream",
       "stream": "stdout",
       "text": [
        "\r\n",
        "\r\n",
        "Building a new DB, current time: 09/23/2014 09:04:19\r\n",
        "New DB name:   /Volumes/caviar/Dropbox/Steven/eimd/data/blast_db/Phel_transcriptome_clc_v3\r\n",
        "New DB title:  /Volumes/caviar/Dropbox/Steven/eimd/data/blast_db/Phel_transcriptome_clc_v3.fasta\r\n",
        "Sequence type: Nucleotide\r\n",
        "Keep Linkouts: T\r\n",
        "Keep MBits: T\r\n",
        "Maximum file size: 1000000000B\r\n"
       ]
      },
      {
       "output_type": "stream",
       "stream": "stdout",
       "text": [
        "Adding sequences from FASTA; added 29476 sequences in 3.20916 seconds.\r\n"
       ]
      }
     ],
     "prompt_number": 12
    },
    {
     "cell_type": "code",
     "collapsed": false,
     "input": [
      "!/Volumes/Bay3/Software/ncbi-blast-2.2.29\\+/bin/blastn \\\n",
      "-query /Volumes/caviar/Dropbox/Steven/eimd/data/blast_db/Pm_genes.fasta \\\n",
      "-db /Volumes/caviar/Dropbox/Steven/eimd/data/blast_db/Phel_transcriptome_clc_v3 \\\n",
      "-out /Volumes/caviar/Dropbox/Steven/eimd/data/blast_output/Pm_gene_Phelv3.tab \\\n",
      "-outfmt 6 \\\n",
      "-max_target_seqs 1 \\\n",
      "-max_hsps 1 \\\n",
      "-evalue 1E-05 \\\n",
      "-num_threads 4 \\\n",
      "-task blastn"
     ],
     "language": "python",
     "metadata": {},
     "outputs": [],
     "prompt_number": 9
    },
    {
     "cell_type": "code",
     "collapsed": false,
     "input": [
      "!head /Volumes/caviar/Dropbox/Steven/eimd/data/blast_output/Pm_gene_Phelv3.tab"
     ],
     "language": "python",
     "metadata": {},
     "outputs": [
      {
       "output_type": "stream",
       "stream": "stdout",
       "text": [
        "PMI_010847-RA\tPhel_clc_contig_4180\t72.64\t859\t207\t7\t8\t861\t567\t1402\t4e-136\t  484\r\n",
        "PMI_010846-RA\tPhel_clc_contig_4180\t77.66\t394\t88\t0\t164\t557\t152\t545\t3e-85\t  315\r\n",
        "PMI_010849-RA\tPhel_clc_contig_6209\t80.58\t417\t79\t1\t104\t520\t1130\t716\t4e-106\t  385\r\n",
        "PMI_010848-RA\tPhel_clc_contig_1306\t72.86\t140\t38\t0\t279\t418\t5051\t4912\t4e-15\t82.4\r\n",
        "PMI_010850-RA\tPhel_clc_contig_21253\t73.99\t223\t40\t1\t199\t403\t46\t268\t2e-36\t  152\r\n",
        "PMI_028130-RA\tPhel_clc_contig_1009\t81.50\t427\t79\t0\t1\t427\t2558\t2132\t4e-115\t  414\r\n",
        "PMI_011388-RA\tPhel_clc_contig_9048\t81.54\t428\t76\t3\t713\t1139\t654\t1079\t6e-112\t  405\r\n",
        "PMI_011387-RA\tPhel_clc_contig_22569\t74.76\t947\t194\t3\t421\t1343\t5\t930\t0.0\t  657\r\n",
        "PMI_025863-RA\tPhel_clc_contig_4219\t83.38\t337\t56\t0\t159\t495\t3078\t2742\t9e-98\t  356\r\n",
        "PMI_005730-RA\tPhel_clc_contig_14067\t76.66\t437\t100\t2\t22\t457\t2582\t2147\t3e-87\t  322\r\n"
       ]
      }
     ],
     "prompt_number": 10
    },
    {
     "cell_type": "code",
     "collapsed": false,
     "input": [
      "!wc -l /Volumes/caviar/Dropbox/Steven/eimd/data/blast_output/Pm_gene_Phelv3.tab"
     ],
     "language": "python",
     "metadata": {},
     "outputs": [
      {
       "output_type": "stream",
       "stream": "stdout",
       "text": [
        "   15444 /Volumes/caviar/Dropbox/Steven/eimd/data/blast_output/Pm_gene_Phelv3.tab\r\n"
       ]
      }
     ],
     "prompt_number": 11
    },
    {
     "cell_type": "code",
     "collapsed": false,
     "input": [
      "29805-15444"
     ],
     "language": "python",
     "metadata": {},
     "outputs": [
      {
       "metadata": {},
       "output_type": "pyout",
       "prompt_number": 14,
       "text": [
        "14361"
       ]
      }
     ],
     "prompt_number": 14
    },
    {
     "cell_type": "markdown",
     "metadata": {},
     "source": [
      "<img src=\"http://eagle.fish.washington.edu/cnidarian/skitch/SpBase_19D1DAFD.png\" alt=\"SpBase_19D1DAFD.png\"/>"
     ]
    },
    {
     "cell_type": "code",
     "collapsed": false,
     "input": [
      "!head -3 /Volumes/caviar/Dropbox/Steven/eimd/data/blast_db/SPU_Nucleotides.fasta"
     ],
     "language": "python",
     "metadata": {},
     "outputs": [
      {
       "output_type": "stream",
       "stream": "stdout",
       "text": [
        ">SPU_000026 \r\n",
        "ATGGCAGCACCTACGTCGAATCCTCCTGTTCCAGAAAACGGGAAGAATGCTGATATGTACAAGTACAGGTCTCCTTTGGTTTCCCGATATGCAAGCCCTGAGATGGCCTACAACTTCAGTGAAGTGAAGAAGTTTTCAACCTGGAGAAAATTATGGTTATGGCTTGCTAAAGGACAACAGACCCTTGGTCTTGATGTCAGCAATGAGCAGATCAAAGAGATGGAGGCCAACCTTGAGAACATTGACTTTGAGATGGCTGCTGCAGAAGAGAAGAAGAGACGTCATGATGTCATGGCTCATGTTTACACCTTTGCTCAGTGCTGTCCCAAGGCTGCCCCTATCATCCACCTTGGTGCAACATCTTGCTACGTCGGTGATAACACAGACCTGATCGTGATGAAGGATGCATTGTCGATCTTGCTTCCTCGACTGGCACGCTGTATACAGAGACTGGCTGTCTTCGCTGAGGAGCACAAGGCTCTTCCCACGCTTGGTTTTACACACTACCAACCAGCCCAGCTGACAACGGTAGGAAAGCGTGCTTGCCTCTGGATCTCTGATCTCTGCATGGACCTTCGTAACCTGACCAGGGCTAAAGATGACCTCAGGTTTAGGGGCGTCAAAGGCACCACTGGGACACAAGCCAGTTTCCTAGCCTTGTTTGAAGGGAATGGTGAGAAAGTAGACATGCTGGATGCATTCGTTACCAACCAGGCTGGTTTCCCAAAGTCCTACATGGTGACTGGTCAGACGTACAGTAGAAAGATTGATGTAGATGTTTTATCTGCTCTTGCCAGCCTGGGAGCATCTGTCCACAAGATCTGCACTGATATACGTCTGCTAGCAAACCTGAAGGAAGTGGAGGAGCCGTTTGAGAAGGATCAGATTGGTTCTAGTGCCATGCCTTACAAACGTAACCCCATGAGAAGCGAGAGGTGCTGTTCCCTAGCAAGGCATCTCACAACGCTCGTCATGGATCCTCTGCAGACTCTCTCTGTTCAATGGTTTGAAAGAACACTGGATGATAGCGCTAACAGGAGGATATGTATAGCAGAAGCTTTCTTGACAGCGGATGTCTTACTCAGTACTCTCCAGAACATTTCAGAAGGAATGGTCGTCTACCTCAAGGTGATAGAGCGTCATATACTCCAAGAGCTTCCCTTTATGGCAACTGAAAACATGATTGTAGCGATGGTGAAGGCAGGGGGCAGCAGACAGGATTGCCACGAGCACATCCGGACTTTGTCCCAAGAAGCTGCAGCAGTGGTCAAGCAAGAAGGTGGAGATAATGACCTGGTAGCCAGAGTTAGAGGGTCAGCATACTTTGCACCTATTCATGACCAGCTGGACAAGCTACTTGACCCAACCACCTTTGTCGGCAGAGCCCCAGAACAGGTGACCAATTTCTTAGAGGCTGAAGTCAAACCAGCTCTCAAGCCCTTCGCAAGCTTTCTGGATGGAATATCAGAGCTTTCATTGTGA \r\n",
        ">SPU_030086 \r\n"
       ]
      }
     ],
     "prompt_number": 18
    },
    {
     "cell_type": "code",
     "collapsed": false,
     "input": [
      "!wc -l /Volumes/caviar/Dropbox/Steven/eimd/data/blast_db/SPU_Nucleotides.fasta"
     ],
     "language": "python",
     "metadata": {},
     "outputs": [
      {
       "output_type": "stream",
       "stream": "stdout",
       "text": [
        "   58260 /Volumes/caviar/Dropbox/Steven/eimd/data/blast_db/SPU_Nucleotides.fasta\r\n"
       ]
      }
     ],
     "prompt_number": 19
    },
    {
     "cell_type": "code",
     "collapsed": false,
     "input": [
      "!/Volumes/Bay3/Software/ncbi-blast-2.2.29\\+/bin/blastn \\\n",
      "-query /Volumes/caviar/Dropbox/Steven/eimd/data/blast_db/SPU_Nucleotides.fasta \\\n",
      "-db /Volumes/caviar/Dropbox/Steven/eimd/data/blast_db/Phel_transcriptome_clc_v3 \\\n",
      "-out /Volumes/caviar/Dropbox/Steven/eimd/data/blast_output/SPU_Nuc_Phelv3.tab \\\n",
      "-outfmt 6 \\\n",
      "-max_target_seqs 1 \\\n",
      "-max_hsps 1 \\\n",
      "-evalue 1E-05 \\\n",
      "-num_threads 4 \\\n",
      "-task blastn"
     ],
     "language": "python",
     "metadata": {},
     "outputs": [],
     "prompt_number": 20
    },
    {
     "cell_type": "code",
     "collapsed": false,
     "input": [
      "!head /Volumes/caviar/Dropbox/Steven/eimd/data/blast_output/SPU_Nuc_Phelv3.tab"
     ],
     "language": "python",
     "metadata": {},
     "outputs": [
      {
       "output_type": "stream",
       "stream": "stdout",
       "text": [
        "SPU_000026\tPhel_clc_contig_23860\t70.67\t416\t116\t6\t1019\t1431\t1\t413\t4e-44\t  179\r\n",
        "SPU_010425\tPhel_clc_contig_122\t84.33\t134\t21\t0\t309\t442\t1\t134\t8e-35\t  147\r\n",
        "SPU_003135\tPhel_clc_contig_9619\t71.32\t666\t181\t8\t683\t1343\t130\t790\t3e-84\t  313\r\n",
        "SPU_012344\tPhel_clc_contig_6849\t67.96\t206\t66\t0\t1\t206\t402\t607\t7e-13\t75.2\r\n",
        "SPU_005054\tPhel_clc_contig_14327\t68.08\t1131\t324\t20\t214\t1324\t1\t1114\t3e-97\t  356\r\n",
        "SPU_012805\tPhel_clc_contig_7527\t76.81\t496\t111\t4\t46\t539\t930\t1423\t2e-99\t  361\r\n",
        "SPU_022282\tPhel_clc_contig_2292\t80.20\t101\t20\t0\t488\t588\t3571\t3471\t2e-18\t93.3\r\n",
        "SPU_014263\tPhel_clc_contig_9083\t70.39\t358\t104\t2\t122\t478\t572\t928\t6e-39\t  161\r\n",
        "SPU_015453\tPhel_clc_contig_8803\t74.87\t382\t76\t5\t204\t578\t1104\t736\t7e-66\t  251\r\n",
        "SPU_006705\tPhel_clc_contig_10332\t78.05\t401\t82\t2\t52\t449\t548\t945\t5e-88\t  324\r\n"
       ]
      }
     ],
     "prompt_number": 21
    },
    {
     "cell_type": "code",
     "collapsed": false,
     "input": [
      "!wc -l /Volumes/caviar/Dropbox/Steven/eimd/data/blast_output/SPU_Nuc_Phelv3.tab"
     ],
     "language": "python",
     "metadata": {},
     "outputs": [
      {
       "output_type": "stream",
       "stream": "stdout",
       "text": [
        "    9721 /Volumes/caviar/Dropbox/Steven/eimd/data/blast_output/SPU_Nuc_Phelv3.tab\r\n"
       ]
      }
     ],
     "prompt_number": 22
    },
    {
     "cell_type": "markdown",
     "metadata": {},
     "source": [
      "<img src=\"http://eagle.fish.washington.edu/cnidarian/skitch/Strongylocentrotus_purpuratus_-_Ensembl_Genomes_19D1DC61.png\" alt=\"Strongylocentrotus_purpuratus_-_Ensembl_Genomes_19D1DC61.png\"/>"
     ]
    },
    {
     "cell_type": "code",
     "collapsed": false,
     "input": [
      "pwd"
     ],
     "language": "python",
     "metadata": {},
     "outputs": [
      {
       "metadata": {},
       "output_type": "pyout",
       "prompt_number": 23,
       "text": [
        "u'/Volumes/caviar/Dropbox/Steven/eimd/data/blast_db'"
       ]
      }
     ],
     "prompt_number": 23
    },
    {
     "cell_type": "code",
     "collapsed": false,
     "input": [
      "!head /Volumes/caviar/Dropbox/Steven/eimd/data/blast_db/Strongylocentrotus_purpuratus.GCA_000002235.2.23.cds.all.fa"
     ],
     "language": "python",
     "metadata": {},
     "outputs": [
      {
       "output_type": "stream",
       "stream": "stdout",
       "text": [
        ">SPU_006416-tr cds:novel supercontig:GCA_000002235.2:Scaffold3602:6177:21906:-1 gene:SPU_006416 transcript:SPU_006416-tr description:\"Uncharacterized protein \"\r\n",
        "ATGTCGTTTCTTTTCGCGTTGGAGAAATGCAAAATATCGAGTTTTTATATTTCACGTCGG\r\n",
        "CCACTCTTGCAAGCCCTCACTCGTTCCGTTGTGGTCCAGCGGCTTTTGGTTGGATCGTGT\r\n",
        "CGTTATCCGCCGAACACGATCACGATCGACATATGTGACCCAGGAGAGACGATCAGAATC\r\n",
        "AGCAAAGTAACATGTTCAAGGCTTTATCCTTGCTCTCCGCGGAGCCCCTCTCTGGAGAGT\r\n",
        "CAATGTGGTAACAGTGACGAGACGACAGTACCGTATGCTGCGTATTGCGAGACCCGCAAT\r\n",
        "CCATGTACCATCACTGGCTCATGCAATGAGAGTGCAACGTGCCAGGGGAGGTACTCCTAC\r\n",
        "TTCAAGGCTATATTTACATATATTGACGAATGCTCCTCAATTCAACCGCCCTGTGATTCT\r\n",
        "GTAAATGGAATGTGTATGAACTCAGTCGGCTCTTACATCTGTTCATGTAACTCAGGATAT\r\n",
        "GAATTAGGCAATGATGGCAACATTTGCAATGATATTGACGAGTGCTCTGTGAATCCATCG\r\n"
       ]
      }
     ],
     "prompt_number": 24
    },
    {
     "cell_type": "code",
     "collapsed": false,
     "input": [
      "!fgrep -c \">\" /Volumes/caviar/Dropbox/Steven/eimd/data/blast_db/Strongylocentrotus_purpuratus.GCA_000002235.2.23.cds.all.fa"
     ],
     "language": "python",
     "metadata": {},
     "outputs": [
      {
       "output_type": "stream",
       "stream": "stdout",
       "text": [
        "31159\r\n"
       ]
      }
     ],
     "prompt_number": 25
    },
    {
     "cell_type": "code",
     "collapsed": false,
     "input": [
      "!/Volumes/Bay3/Software/ncbi-blast-2.2.29\\+/bin/blastn \\\n",
      "-query /Volumes/caviar/Dropbox/Steven/eimd/data/blast_db/Strongylocentrotus_purpuratus.GCA_000002235.2.23.cds.all.fa \\\n",
      "-db /Volumes/caviar/Dropbox/Steven/eimd/data/blast_db/Phel_transcriptome_clc_v3 \\\n",
      "-out /Volumes/caviar/Dropbox/Steven/eimd/data/blast_output/Strongcds_Nuc_Phelv3.tab \\\n",
      "-outfmt 6 \\\n",
      "-max_target_seqs 1 \\\n",
      "-max_hsps 1 \\\n",
      "-evalue 1E-05 \\\n",
      "-num_threads 4 \\\n",
      "-task blastn"
     ],
     "language": "python",
     "metadata": {},
     "outputs": [
      {
       "output_type": "stream",
       "stream": "stdout",
       "text": [
        "Error: (1431.1) FASTA-Reader: Warning: FASTA-Reader: No residues given\r\n"
       ]
      },
      {
       "output_type": "stream",
       "stream": "stdout",
       "text": [
        "Warning: lcl|Query_10 EMSPUT00000012462 cds:pseudogene supercontig:GCA_000002235.2:Scaffold113:176188:176261:-1 gene:EMSPUG00000012462 transcript:EMSPUT00000012462 description:\"tRNA-Ala for anticodon GGC\": Warning: Sequence contains no data \r\n"
       ]
      },
      {
       "output_type": "stream",
       "stream": "stdout",
       "text": [
        "Error: (1431.1) FASTA-Reader: Warning: FASTA-Reader: No residues given\r\n"
       ]
      },
      {
       "output_type": "stream",
       "stream": "stdout",
       "text": [
        "Warning: lcl|Query_20 SPU_030067-tr cds:pseudogene supercontig:GCA_000002235.2:Scaffold113:761499:761629:1 gene:SPU_030067 transcript:SPU_030067-tr: Warning: Sequence contains no data \r\n"
       ]
      },
      {
       "output_type": "stream",
       "stream": "stdout",
       "text": [
        "Error: (1431.1) FASTA-Reader: Warning: FASTA-Reader: No residues given\r\n",
        "Error: (1431.1) FASTA-Reader: Warning: FASTA-Reader: No residues given\r\n",
        "Error: (1431.1) FASTA-Reader: Warning: FASTA-Reader: No residues given\r\n"
       ]
      },
      {
       "output_type": "stream",
       "stream": "stdout",
       "text": [
        "Warning: lcl|Query_36 EMSPUT00000012760 cds:pseudogene supercontig:GCA_000002235.2:Scaffold113:1130153:1130224:1 gene:EMSPUG00000012760 transcript:EMSPUT00000012760 description:\"tRNA-Glu for anticodon UUC\": Warning: Sequence contains no data \r\n",
        "Warning: lcl|Query_40 EMSPUT00000014499 cds:pseudogene supercontig:GCA_000002235.2:Scaffold6442:16975:17049:-1 gene:EMSPUG00000014499 transcript:EMSPUT00000014499 description:\"tRNA-SeC for anticodon UCA\": Warning: Sequence contains no data \r\n",
        "Warning: lcl|Query_49 SPU_030040-tr cds:pseudogene supercontig:GCA_000002235.2:Scaffold251:125513:125873:1 gene:SPU_030040 transcript:SPU_030040-tr: Warning: Sequence contains no data \r\n",
        "Error: (1431.1) FASTA-Reader: Warning: FASTA-Reader: No residues given\r\n",
        "Error: (1431.1) FASTA-Reader: Warning: FASTA-Reader: No residues given\r\n",
        "Error: (1431.1) FASTA-Reader: Warning: FASTA-Reader: No residues given\r\n",
        "Error: (1431.1) FASTA-Reader: Warning: FASTA-Reader: No residues given\r\n",
        "Error: (1431.1) FASTA-Reader: Warning: FASTA-Reader: No residues given\r\n",
        "Error: (1431.1) FASTA-Reader: Warning: FASTA-Reader: No residues given\r\n",
        "Error: (1431.1) FASTA-Reader: Warning: FASTA-Reader: No residues given\r\n",
        "Error: (1431.1) FASTA-Reader: Warning: FASTA-Reader: No residues given\r\n",
        "Error: (1431.1) FASTA-Reader: Warning: FASTA-Reader: No residues given\r\n",
        "Error: (1431.1) FASTA-Reader: Warning: FASTA-Reader: No residues given\r\n",
        "Error: (1431.1) FASTA-Reader: Warning: FASTA-Reader: No residues given\r\n",
        "Error: (1431.1) FASTA-Reader: Warning: FASTA-R"
       ]
      },
      {
       "output_type": "stream",
       "stream": "stdout",
       "text": [
        "eader: No residues given\r\n",
        "Error: (1431.1) FASTA-Reader: Warning: FASTA-Reader: No residues given\r\n",
        "Error: (1431.1) FASTA-Reader: Warning: FASTA-Reader: No residues given\r\n",
        "Error: (1431.1) FASTA-Reader: Warning: FASTA-Reader: No residues given\r\n",
        "Error: (1431.1) FASTA-Reader: Warning: FASTA-Reader: No residues given\r\n",
        "Error: (1431.1) FASTA-Reader: Warning: FASTA-Reader: No residues given\r\n",
        "Error: (1431.1) FASTA-Reader: Warning: FASTA-Reader: No residues given\r\n",
        "Error: (1431.1) FASTA-Reader: Warning: FASTA-Reader: No residues given\r\n",
        "Error: (1431.1) FASTA-Reader: Warning: FASTA-Reader: No residues given\r\n",
        "Error: (1431.1) FASTA-Reader: Warning: FASTA-Reader: No residues given\r\n",
        "Error: (1431.1) FASTA-Reader: Warning: FASTA-Reader: No residues given\r\n"
       ]
      },
      {
       "output_type": "stream",
       "stream": "stdout",
       "text": [
        "Warning: lcl|Query_54 EMSPUT00000015250 cds:pseudogene supercontig:GCA_000002235.2:Scaffold251:276992:277065:-1 gene:EMSPUG00000015250 transcript:EMSPUT00000015250 description:\"tRNA-Asp for anticodon GUC\": Warning: Sequence contains no data \r\n",
        "Warning: lcl|Query_57 EMSPUT00000004074 cds:pseudogene supercontig:GCA_000002235.2:Scaffold251:342010:342084:-1 gene:EMSPUG00000004074 transcript:EMSPUT00000004074 description:\"tRNA-Sup for anticodon CUA\": Warning: Sequence contains no data \r\n",
        "Warning: lcl|Query_58 EMSPUT00000002354 cds:pseudogene supercontig:GCA_000002235.2:Scaffold251:368062:368134:1 gene:EMSPUG00000002354 transcript:EMSPUT00000002354 description:\"tRNA-Arg for anticodon UCG\": Warning: Sequence contains no data \r\n",
        "Warning: lcl|Query_59 EMSPUT00000004369 cds:pseudogene supercontig:GCA_000002235.2:Scaffold251:375451:375523:1 gene:EMSPUG00000004369 transcript:EMSPUT00000004369 description:\"tRNA-Arg for anticodon UCG\": Warning: Sequence contains no data \r\n",
        "Warning: lcl|Query_60 EMSPUT00000013446 cds:pseudogene supercontig:GCA_000002235.2:Scaffold251:375851:375923:1 gene:EMSPUG00000013446 transcript:EMSPUT00000013446 description:\"tRNA-Arg for anticodon UCG\": Warning: Sequence contains no data \r\n",
        "Warning: lcl|Query_61 EMSPUT00000010131 cds:pseudogene supercontig:GCA_000002235.2:Scaffold251:379222:379294:1 gene:EMSPUG00000010131 transcript:EMSPUT00000010131 description:\"tRNA-Arg for anticodon UCG\": Warning: Sequence contains no data \r\n",
        "Warning: lcl|Query_62 EMSPUT00000011793 cds:pseudogene supercontig:GCA_000002235.2:Scaffold251:379397:379469:1 gene:EMSPUG00000011793 transcript:EMSPUT00000011793 description:\"tRNA-Arg for anticodon UCG\": Warning: Sequence contains no data \r\n",
        "Warning: lcl|Query_63 EMSPUT00000000575 cds:pseudogene supercontig:GCA_000002235.2:Scaffold251:379576:379648:1 gene:EMSPUG00000000575 transcript:EMSPUT00000000575 description:\"tRNA-Arg for anticodon UCG\": Warning: Sequence contains no data \r\n",
        "Warning: lcl|Query_64 EMSPUT00000013846 cds:pseudogene supercontig:GCA_000002235.2:Scaffold251:379754:379826:1 gene:EMSPUG00000013846 transcript:EMSPUT00000013846 description:\"tRNA-Arg for anticodon UCG\": Warning: Sequence contains no data \r\n",
        "Warning: lcl|Query_65 EMSPUT00000007111 cds:pseudogene supercontig:GCA_000002235.2:Scaffold251:379931:380003:1 gene:EMSPUG00000007111 transcript:EMSPUT00000007111 description:\"tRNA-Arg for anticodon UCG\": Warning: Sequence contains no data \r\n",
        "Warning: lcl|Query_66 EMSPUT00000004268 cds:pseudogene supercontig:GCA_000002235.2:Scaffold251:380250:380325:1 gene:EMSPUG00000004268 transcript:EMSPUT00000004268 description:\"tRNA-Arg for anticodon UCG\": Warning: Sequence contains no data \r\n",
        "Warning: lcl|Query_67 EMSPUT00000013254 cds:pseudogene supercontig:GCA_000002235.2:Scaffold251:384031:384103:1 gene:EMSPUG00000013254 transcript:EMSPUT00000013254 description:\"tRNA-Arg for anticodon UCG\": Warning: Sequence contains no data \r\n",
        "Warning: lcl|Query_68 EMSPUT00000010578 cds:pseudogene supercontig:GCA_000002235.2:Scaffold251:384431:384503:1 gene:EMSPUG00000010578 transcript:EMSPUT00000010578 description:\"tRNA-Arg for anticodon UCG\": Warning: Sequence contains no data \r\n",
        "Warning: lcl|Query_69 EMSPUT00000006368 cds:pseudogene supercontig:GCA_000002235.2:Scaffold251:386237:386308:1 gene:EMSPUG00000006368 transcript:EMSPUT00000006368 description:\"tRNA-Arg for anticodon UCG\": Warning: Sequence contains no data \r\n",
        "Warning: lcl|Query_70 EMSPUT00000015152 cds:pseudogene supercontig:GCA_000002235.2:Scaffold251:386413:386485:1 gene:EMSPUG00000015152 transcript:EMSPUT00000015152 description:\"tRNA-Arg for anticodon UCG\": Warning: Sequence contains no data \r\n",
        "Warning: lcl|Query_71 EMSPUT00000010625 cds:pseudogene supercontig:GCA_000002235.2:Scaffold251:386590:386662:1 gene:EMSPUG00000010625 transcript:EMSPUT00000010625 description:\"tRNA-Arg for anticodon UCG\": Warning: Sequence contains no data \r\n",
        "Warning: lcl|Query_72 EMSPUT00000010875 cds:pseudogene supercontig:GCA_000002235.2:Scaffold251:386770:386842:1 gene:EMSPUG00000010875 transcript:EMSPUT00000010875 description:\"tRNA-Arg for anticodon UCG\": Warning: Sequence contains no data \r\n",
        "Warning: lcl|Query_73 EMSPUT00000000871 cds:pseudogene supercontig:GCA_000002235.2:Scaffold251:386949:387021:1 gene:EMSPUG00000000871 transcript:EMSPUT00000000871 description:\"tRNA-Arg for anticodon UCG\": Warning: Sequence contains no data \r\n",
        "Warning: lcl|Query_74 EMSPUT00000009607 cds:pseudogene supercontig:GCA_000002235.2:Scaffold251:387126:387198:1 gene:EMSPUG00000009607 transcript:EMSPUT00000009607 description:\"tRNA-Arg for anticodon UCG\": Warning: Sequence contains no data \r\n",
        "Warning: lcl|Query_75 EMSPUT00000006531 cds:pseudogene supercontig:GCA_000002235.2:Scaffold251:387482:387553:1 gene:EMSPUG00000006531 transcript:EMSPUT00000006531 description:\"tRNA-Arg for anticodon UCG\": Warning: Sequence contains no data \r\n",
        "Warning: lcl|Query_76 EMSPUT00000006467 cds:pseudogene supercontig:GCA_000002235.2:Scaffold251:387659:387731:1 gene:EMSPUG00000006467 transcript:EMSPUT00000006467 description:\"tRNA-Arg for anticodon UCG\": Warning: Sequence contains no data \r\n",
        "Warning: lcl|Query_81 EMSPUT00000012204 cds:pseudogene supercontig:GCA_000002235.2:Scaffold2534:1439:1511:-1 gene:EMSPUG00000012204 transcript:EMSPUT00000012204 description:\"tRNA-Met for anticodon CAU\": Warning: Sequence contains no data \r\n"
       ]
      },
      {
       "output_type": "stream",
       "stream": "stdout",
       "text": [
        "Error: (1431.1) FASTA-Reader: Warning: FASTA-Reader: No residues given\r\n"
       ]
      },
      {
       "output_type": "stream",
       "stream": "stdout",
       "text": [
        "Warning: lcl|Query_97 SPU_015377-tr cds:pseudogene supercontig:GCA_000002235.2:Scaffold1524:142425:153829:1 gene:SPU_015377 transcript:SPU_015377-tr: Warning: Sequence contains no data \r\n",
        "Error: (1431.1) FASTA-Reader: Warning: FASTA-Reader: No residues given\r\n",
        "Error: (1431.1) FASTA-Reader: Warning: FASTA-Reader: No residues given\r\n"
       ]
      },
      {
       "output_type": "stream",
       "stream": "stdout",
       "text": [
        "Warning: lcl|Query_118 EMSPUT00000011898 cds:pseudogene supercontig:GCA_000002235.2:Scaffold933:29316:29387:-1 gene:EMSPUG00000011898 transcript:EMSPUT00000011898 description:\"tRNA-Cys for anticodon GCA\": Warning: Sequence contains no data \r\n",
        "Warning: lcl|Query_120 EMSPUT00000015234 cds:pseudogene supercontig:GCA_000002235.2:Scaffold933:91995:92067:-1 gene:EMSPUG00000015234 transcript:EMSPUT00000015234 description:\"tRNA-Met for anticodon CAU\": Warning: Sequence contains no data \r\n"
       ]
      },
      {
       "output_type": "stream",
       "stream": "stdout",
       "text": [
        "Error: (1431.1) FASTA-Reader: Warning: FASTA-Reader: No residues given\r\n"
       ]
      },
      {
       "output_type": "stream",
       "stream": "stdout",
       "text": [
        "Warning: lcl|Query_158 EMSPUT00000009380 cds:pseudogene supercontig:GCA_000002235.2:Scaffold1455:50090:50162:1 gene:EMSPUG00000009380 transcript:EMSPUT00000009380 description:\"tRNA-Met for anticodon CAU\": Warning: Sequence contains no data \r\n",
        "Error: (1431.1) FASTA-Reader: Warning: FASTA-Reader: No residues given\r\n"
       ]
      },
      {
       "output_type": "stream",
       "stream": "stdout",
       "text": [
        "Warning: lcl|Query_172 EMSPUT00000010108 cds:pseudogene supercontig:GCA_000002235.2:Scaffold1197:224789:224862:1 gene:EMSPUG00000010108 transcript:EMSPUT00000010108 description:\"tRNA-Ala for anticodon GGC\": Warning: Sequence contains no data \r\n",
        "Error: (1431.1) FASTA-Reader: Warning: FASTA-Reader: No residues given\r\n",
        "Error: (1431.1) FASTA-Reader: Warning: FASTA-Reader: No residues given\r\n",
        "Error: (1431.1) FASTA-Reader: Warning: FASTA-Reader: No residues given\r\n",
        "Error: (1431.1) FASTA-Reader: Warning: FASTA-Reader: No residues given\r\n",
        "Error: (1431.1) FASTA-Reader: Warning: FASTA-Reader: No residues given\r\n",
        "Error: (1431.1) FASTA-Reader: Warning: FASTA-Reader: No residues given\r\n"
       ]
      },
      {
       "output_type": "stream",
       "stream": "stdout",
       "text": [
        "Warning: lcl|Query_183 EMSPUT00000015719 cds:pseudogene supercontig:GCA_000002235.2:Scaffold137:240070:240142:-1 gene:EMSPUG00000015719 transcript:EMSPUT00000015719 description:\"tRNA-Thr for anticodon UGU\": Warning: Sequence contains no data \r\n",
        "Warning: lcl|Query_201 SPU_030022-tr cds:pseudogene supercontig:GCA_000002235.2:Scaffold137:453300:453447:1 gene:SPU_030022 transcript:SPU_030022-tr: Warning: Sequence contains no data \r\n",
        "Warning: lcl|Query_202 EMSPUT00000002319 cds:pseudogene supercontig:GCA_000002235.2:Scaffold137:463911:463982:-1 gene:EMSPUG00000002319 transcript:EMSPUT00000002319 description:\"tRNA-Gln for anticodon CUG\": Warning: Sequence contains no data \r\n",
        "Warning: lcl|Query_203 EMSPUT00000013452 cds:pseudogene supercontig:GCA_000002235.2:Scaffold137:468278:468349:-1 gene:EMSPUG00000013452 transcript:EMSPUT00000013452 description:\"tRNA-Gln for anticodon CUG\": Warning: Sequence contains no data \r\n",
        "Warning: lcl|Query_204 EMSPUT00000004550 cds:pseudogene supercontig:GCA_000002235.2:Scaffold137:469298:469369:-1 gene:EMSPUG00000004550 transcript:EMSPUT00000004550 description:\"tRNA-Gln for anticodon CUG\": Warning: Sequence contains no data \r\n",
        "Warning: lcl|Query_205 EMSPUT00000004808 cds:pseudogene supercontig:GCA_000002235.2:Scaffold137:469951:470022:-1 gene:EMSPUG00000004808 transcript:EMSPUT00000004808 description:\"tRNA-Gln for anticodon CUG\": Warning: Sequence contains no data \r\n",
        "Error: (1431.1) FASTA-Reader: Warning: FASTA-Reader: No residues given\r\n"
       ]
      },
      {
       "output_type": "stream",
       "stream": "stdout",
       "text": [
        "Warning: lcl|Query_210 EMSPUT00000015538 cds:pseudogene supercontig:GCA_000002235.2:Scaffold137:607582:607650:-1 gene:EMSPUG00000015538 transcript:EMSPUT00000015538 description:\"tRNA-Ala for anticodon GGC\": Warning: Sequence contains no data \r\n",
        "Error: (1431.1) FASTA-Reader: Warning: FASTA-Reader: No residues given\r\n",
        "Error: (1431.1) FASTA-Reader: Warning: FASTA-Reader: No residues given\r\n",
        "Error: (1431.1) FASTA-Reader: Warning: FASTA-Reader: No residues given\r\n",
        "Error: (1431.1) FASTA-Reader: Warning: FASTA-Reader: No residues given\r\n"
       ]
      },
      {
       "output_type": "stream",
       "stream": "stdout",
       "text": [
        "Warning: lcl|Query_229 EMSPUT00000010439 cds:pseudogene supercontig:GCA_000002235.2:Scaffold3911:14529:14602:1 gene:EMSPUG00000010439 transcript:EMSPUT00000010439 description:\"tRNA-Ser for anticodon UGA\": Warning: Sequence contains no data \r\n",
        "Warning: lcl|Query_230 EMSPUT00000000069 cds:pseudogene supercontig:GCA_000002235.2:Scaffold2899:9186:9258:-1 gene:EMSPUG00000000069 transcript:EMSPUT00000000069 description:\"tRNA-Lys for anticodon UUU\": Warning: Sequence contains no data \r\n",
        "Warning: lcl|Query_238 EMSPUT00000006135 cds:pseudogene supercontig:GCA_000002235.2:Scaffold2899:63644:63716:-1 gene:EMSPUG00000006135 transcript:EMSPUT00000006135 description:\"tRNA-Lys for anticodon UUU\": Warning: Sequence contains no data \r\n",
        "Warning: lcl|Query_246 EMSPUT00000006707 cds:pseudogene supercontig:GCA_000002235.2:Scaffold1695:120038:120110:-1 gene:EMSPUG00000006707 transcript:EMSPUT00000006707 description:\"tRNA-Lys for anticodon UUU\": Warning: Sequence contains no data \r\n",
        "Error: (1431.1) FASTA-Reader: Warning: FASTA-Reader: No residues given\r\n"
       ]
      },
      {
       "output_type": "stream",
       "stream": "stdout",
       "text": [
        "Warning: lcl|Query_264 EMSPUT00000001963 cds:pseudogene supercontig:GCA_000002235.2:Scaffold1425:62753:62827:-1 gene:EMSPUG00000001963 transcript:EMSPUT00000001963 description:\"tRNA-Glu for anticodon CUC\": Warning: Sequence contains no data \r\n",
        "Error: (1431.1) FASTA-Reader: Warning: FASTA-Reader: No residues given\r\n",
        "Error: (1431.1) FASTA-Reader: Warning: FASTA-Reader: No residues given\r\n",
        "Error: (1431.1) FASTA-Reader: Warning: FASTA-Reader: No residues given\r\n",
        "Error: (1431.1) FASTA-Reader: Warning: FASTA-Reader: No residues given\r\n",
        "Error: (1431.1) FASTA-Reader: Warning: FASTA-Reader: No residues given\r\n",
        "Error: (1431.1) FASTA-Reader: Warning: FASTA-Reader: No residues given\r\n",
        "Error: (1431.1) FASTA-Reader: Warning: FASTA-Reader: No residues given\r\n",
        "Error: (1431.1) FASTA-Reader: Warning: FASTA-Reader: No residues given\r\n",
        "Error: (1431.1) FASTA-Reader: Warning: FASTA-Reader: No residues given\r\n",
        "Error: (1431.1) FASTA-Reader: Warning: FASTA-Reader: No residues given\r\n",
        "Error: (1431.1) FASTA-Reader: Warning: FASTA-Reader: No residues given\r\n"
       ]
      },
      {
       "output_type": "stream",
       "stream": "stdout",
       "text": [
        "Warning: lcl|Query_276 EMSPUT00000000784 cds:pseudogene supercontig:GCA_000002235.2:Scaffold4035:21946:22018:1 gene:EMSPUG00000000784 transcript:EMSPUT00000000784 description:\"tRNA-Met for anticodon CAU\": Warning: Sequence contains no data \r\n"
       ]
      },
      {
       "output_type": "stream",
       "stream": "stdout",
       "text": [
        "Warning: lcl|Query_282 EMSPUT00000009428 cds:pseudogene supercontig:GCA_000002235.2:Scaffold99:173651:173723:-1 gene:EMSPUG00000009428 transcript:EMSPUT00000009428 description:\"tRNA-Val for anticodon AAC\": Warning: Sequence contains no data \r\n",
        "Warning: lcl|Query_285 EMSPUT00000015266 cds:pseudogene supercontig:GCA_000002235.2:Scaffold99:186549:186621:-1 gene:EMSPUG00000015266 transcript:EMSPUT00000015266 description:\"tRNA-Val for anticodon AAC\": Warning: Sequence contains no data \r\n",
        "Warning: lcl|Query_286 EMSPUT00000004293 cds:pseudogene supercontig:GCA_000002235.2:Scaffold99:186845:186917:-1 gene:EMSPUG00000004293 transcript:EMSPUT00000004293 description:\"tRNA-Val for anticodon CAC\": Warning: Sequence contains no data \r\n",
        "Warning: lcl|Query_287 EMSPUT00000004719 cds:pseudogene supercontig:GCA_000002235.2:Scaffold99:191446:191518:-1 gene:EMSPUG00000004719 transcript:EMSPUT00000004719 description:\"tRNA-Val for anticodon AAC\": Warning: Sequence contains no data \r\n",
        "Warning: lcl|Query_288 EMSPUT00000002115 cds:pseudogene supercontig:GCA_000002235.2:Scaffold99:193535:193607:-1 gene:EMSPUG00000002115 transcript:EMSPUT00000002115 description:\"tRNA-Val for anticodon AAC\": Warning: Sequence contains no data \r\n",
        "Warning: lcl|Query_289 EMSPUT00000005662 cds:pseudogene supercontig:GCA_000002235.2:Scaffold99:194237:194309:-1 gene:EMSPUG00000005662 transcript:EMSPUT00000005662 description:\"tRNA-Val for anticodon UAC\": Warning: Sequence contains no data \r\n",
        "Warning: lcl|Query_290 EMSPUT00000012283 cds:pseudogene supercontig:GCA_000002235.2:Scaffold99:194537:194609:-1 gene:EMSPUG00000012283 transcript:EMSPUT00000012283 description:\"tRNA-Val for anticodon AAC\": Warning: Sequence contains no data \r\n",
        "Warning: lcl|Query_291 EMSPUT00000007023 cds:pseudogene supercontig:GCA_000002235.2:Scaffold99:195050:195122:-1 gene:EMSPUG00000007023 transcript:EMSPUT00000007023 description:\"tRNA-Val for anticodon UAC\": Warning: Sequence contains no data \r\n",
        "Warning: lcl|Query_292 EMSPUT00000001721 cds:pseudogene supercontig:GCA_000002235.2:Scaffold99:195564:195636:-1 gene:EMSPUG00000001721 transcript:EMSPUT00000001721 description:\"tRNA-Val for anticodon AAC\": Warning: Sequence contains no data \r\n",
        "Warning: lcl|Query_293 EMSPUT00000009218 cds:pseudogene supercontig:GCA_000002235.2:Scaffold99:196462:196534:-1 gene:EMSPUG00000009218 transcript:EMSPUT00000009218 description:\"tRNA-Val for anticodon UAC\": Warning: Sequence contains no data \r\n"
       ]
      },
      {
       "output_type": "stream",
       "stream": "stdout",
       "text": [
        "Error: (1431.1) FASTA-Reader: Warning: FASTA-Reader: No residues given\r\n"
       ]
      },
      {
       "output_type": "stream",
       "stream": "stdout",
       "text": [
        "Warning: lcl|Query_327 EMSPUT00000010902 cds:pseudogene supercontig:GCA_000002235.2:Scaffold3784:42:114:1 gene:EMSPUG00000010902 transcript:EMSPUT00000010902 description:\"tRNA-Met for anticodon CAU\": Warning: Sequence contains no data \r\n",
        "Error: (1431.1) FASTA-Reader: Warning: FASTA-Reader: No residues given\r\n",
        "Error: (1431.1) FASTA-Reader: Warning: FASTA-Reader: No residues given\r\n"
       ]
      },
      {
       "output_type": "stream",
       "stream": "stdout",
       "text": [
        "Warning: lcl|Query_340 EMSPUT00000014002 cds:pseudogene supercontig:GCA_000002235.2:Scaffold456:82977:83048:-1 gene:EMSPUG00000014002 transcript:EMSPUT00000014002 description:\"tRNA-Thr for anticodon CGU\": Warning: Sequence contains no data \r\n",
        "Warning: lcl|Query_342 EMSPUT00000008224 cds:pseudogene supercontig:GCA_000002235.2:Scaffold456:129403:129476:1 gene:EMSPUG00000008224 transcript:EMSPUT00000008224 description:\"tRNA-Cys for anticodon GCA\": Warning: Sequence contains no data \r\n"
       ]
      },
      {
       "output_type": "stream",
       "stream": "stdout",
       "text": [
        "Error: (1431.1) FASTA-Reader: Warning: FASTA-Reader: No residues given\r\n"
       ]
      },
      {
       "output_type": "stream",
       "stream": "stdout",
       "text": [
        "Warning: lcl|Query_476 EMSPUT00000007498 cds:pseudogene supercontig:GCA_000002235.2:Scaffold381:236349:236420:1 gene:EMSPUG00000007498 transcript:EMSPUT00000007498 description:\"tRNA-Met for anticodon CAU\": Warning: Sequence contains no data \r\n",
        "Error: (1431.1) FASTA-Reader: Warning: FASTA-Reader: No residues given\r\n"
       ]
      },
      {
       "output_type": "stream",
       "stream": "stdout",
       "text": [
        "Warning: lcl|Query_478 EMSPUT00000012813 cds:pseudogene supercontig:GCA_000002235.2:Scaffold381:313390:313464:-1 gene:EMSPUG00000012813 transcript:EMSPUT00000012813 description:\"tRNA-His for anticodon GUG\": Warning: Sequence contains no data \r\n",
        "Error: (1431.1) FASTA-Reader: Warning: FASTA-Reader: No residues given\r\n"
       ]
      },
      {
       "output_type": "stream",
       "stream": "stdout",
       "text": [
        "Warning: lcl|Query_508 SPU_020741-tr cds:pseudogene supercontig:GCA_000002235.2:Scaffold3215:10423:13045:-1 gene:SPU_020741 transcript:SPU_020741-tr: Warning: Sequence contains no data \r\n"
       ]
      },
      {
       "output_type": "stream",
       "stream": "stdout",
       "text": [
        "Error: (1431.1) FASTA-Reader: Warning: FASTA-Reader: No residues given\r\n",
        "Error: (1431.1) FASTA-Reader: Warning: FASTA-Reader: No residues given\r\n"
       ]
      },
      {
       "output_type": "stream",
       "stream": "stdout",
       "text": [
        "Warning: lcl|Query_525 EMSPUT00000003316 cds:pseudogene supercontig:GCA_000002235.2:Scaffold576:40326:40400:-1 gene:EMSPUG00000003316 transcript:EMSPUT00000003316 description:\"tRNA-Cys for anticodon GCA\": Warning: Sequence contains no data \r\n",
        "Warning: lcl|Query_528 EMSPUT00000010270 cds:pseudogene supercontig:GCA_000002235.2:Scaffold576:54754:54829:-1 gene:EMSPUG00000010270 transcript:EMSPUT00000010270 description:\"tRNA-Glu for anticodon CUC\": Warning: Sequence contains no data \r\n"
       ]
      },
      {
       "output_type": "stream",
       "stream": "stdout",
       "text": [
        "Error: (1431.1) FASTA-Reader: Warning: FASTA-Reader: No residues given\r\n",
        "Error: (1431.1) FASTA-Reader: Warning: FASTA-Reader: No residues given\r\n"
       ]
      },
      {
       "output_type": "stream",
       "stream": "stdout",
       "text": [
        "Warning: lcl|Query_619 EMSPUT00000004297 cds:pseudogene supercontig:GCA_000002235.2:Scaffold735:246476:246550:1 gene:EMSPUG00000004297 transcript:EMSPUT00000004297 description:\"tRNA-Ser for anticodon GGA\": Warning: Sequence contains no data \r\n",
        "Warning: lcl|Query_629 EMSPUT00000009476 cds:pseudogene supercontig:GCA_000002235.2:Scaffold1191:3393:3464:1 gene:EMSPUG00000009476 transcript:EMSPUT00000009476 description:\"tRNA-Glu for anticodon UUC\": Warning: Sequence contains no data \r\n",
        "Error: (1431.1) FASTA-Reader: Warning: FASTA-Reader: No residues given\r\n",
        "Error: (1431.1) FASTA-Reader: Warning: FASTA-Reader: No residues given\r\n",
        "Error: (1431.1) FASTA-Reader: Warning: FASTA-Reader: No residues given\r\n",
        "Error: (1431.1) FASTA-Reader: Warning: FASTA-Reader: No residues given\r\n",
        "Error: (1431.1) FASTA-Reader: Warning: FASTA-Reader: No residues given\r\n",
        "Error: (1431.1) FASTA-Reader: Warning: FASTA-Reader: No residues given\r\n",
        "Error: (1431.1) FASTA-Reader: Warning: FASTA-Reader: No residues given\r\n"
       ]
      },
      {
       "output_type": "stream",
       "stream": "stdout",
       "text": [
        "Warning: lcl|Query_648 EMSPUT00000008927 cds:pseudogene supercontig:GCA_000002235.2:Scaffold4657:8130:8201:-1 gene:EMSPUG00000008927 transcript:EMSPUT00000008927 description:\"Mammalian CPEB3 ribozyme\": Warning: Sequence contains no data \r\n",
        "Warning: lcl|Query_655 EMSPUT00000007505 cds:pseudogene supercontig:GCA_000002235.2:Scaffold1819:20038:20109:-1 gene:EMSPUG00000007505 transcript:EMSPUT00000007505 description:\"tRNA-Asp for anticodon GUC\": Warning: Sequence contains no data \r\n",
        "Warning: lcl|Query_656 EMSPUT00000012136 cds:pseudogene supercontig:GCA_000002235.2:Scaffold1819:20748:20819:1 gene:EMSPUG00000012136 transcript:EMSPUT00000012136 description:\"tRNA-Asp for anticodon GUC\": Warning: Sequence contains no data \r\n",
        "Warning: lcl|Query_657 EMSPUT00000004399 cds:pseudogene supercontig:GCA_000002235.2:Scaffold1819:32657:32730:1 gene:EMSPUG00000004399 transcript:EMSPUT00000004399 description:\"tRNA-Ala for anticodon GGC\": Warning: Sequence contains no data \r\n",
        "Warning: lcl|Query_659 EMSPUT00000012706 cds:pseudogene supercontig:GCA_000002235.2:Scaffold1819:86176:86247:-1 gene:EMSPUG00000012706 transcript:EMSPUT00000012706 description:\"tRNA-Asp for anticodon GUC\": Warning: Sequence contains no data \r\n",
        "Warning: lcl|Query_660 EMSPUT00000005763 cds:pseudogene supercontig:GCA_000002235.2:Scaffold1819:87057:87128:-1 gene:EMSPUG00000005763 transcript:EMSPUT00000005763 description:\"tRNA-Asp for anticodon GUC\": Warning: Sequence contains no data \r\n",
        "Warning: lcl|Query_661 EMSPUT00000002269 cds:pseudogene supercontig:GCA_000002235.2:Scaffold1819:88574:88645:-1 gene:EMSPUG00000002269 transcript:EMSPUT00000002269 description:\"tRNA-Asp for anticodon GUC\": Warning: Sequence contains no data \r\n",
        "Error: (1431.1) FASTA-Reader: Warning: FASTA-Reader: No residues given\r\n",
        "Error: (1431.1) FASTA-Reader: Warning: FASTA-Reader: No residues given\r\n",
        "Error: (1431.1) FASTA-Reader: Warning: FASTA-Reader: No residues given\r\n",
        "Error: (1431.1) FASTA-Reader: Warning: FASTA-Reader: No residues given\r\n",
        "Error: (1431.1) FASTA-Reader: Warning: FASTA-Reader: No residues given\r\n"
       ]
      },
      {
       "output_type": "stream",
       "stream": "stdout",
       "text": [
        "Warning: lcl|Query_663 EMSPUT00000007261 cds:pseudogene supercontig:GCA_000002235.2:Scaffold1819:96143:96214:1 gene:EMSPUG00000007261 transcript:EMSPUT00000007261 description:\"tRNA-Asp for anticodon GUC\": Warning: Sequence contains no data \r\n",
        "Warning: lcl|Query_664 EMSPUT00000009017 cds:pseudogene supercontig:GCA_000002235.2:Scaffold1819:96712:96783:-1 gene:EMSPUG00000009017 transcript:EMSPUT00000009017 description:\"tRNA-Asp for anticodon GUC\": Warning: Sequence contains no data \r\n",
        "Warning: lcl|Query_666 EMSPUT00000000155 cds:pseudogene supercontig:GCA_000002235.2:Scaffold1819:108268:108339:-1 gene:EMSPUG00000000155 transcript:EMSPUT00000000155 description:\"tRNA-Asp for anticodon GUC\": Warning: Sequence contains no data \r\n",
        "Warning: lcl|Query_667 EMSPUT00000008765 cds:pseudogene supercontig:GCA_000002235.2:Scaffold1819:108789:108860:-1 gene:EMSPUG00000008765 transcript:EMSPUT00000008765 description:\"tRNA-Asp for anticodon GUC\": Warning: Sequence contains no data \r\n",
        "Warning: lcl|Query_668 EMSPUT00000015534 cds:pseudogene supercontig:GCA_000002235.2:Scaffold1819:109339:109410:-1 gene:EMSPUG00000015534 transcript:EMSPUT00000015534 description:\"tRNA-Asp for anticodon GUC\": Warning: Sequence contains no data \r\n",
        "Error: (1431.1) FASTA-Reader: Warning: FASTA-Reader: No residues given\r\n"
       ]
      },
      {
       "output_type": "stream",
       "stream": "stdout",
       "text": [
        "Warning: lcl|Query_703 EMSPUT00000011722 cds:pseudogene supercontig:GCA_000002235.2:Scaffold8748:2177:2246:-1 gene:EMSPUG00000011722 transcript:EMSPUT00000011722 description:\"tRNA-SeC for anticodon UCA\": Warning: Sequence contains no data \r\n"
       ]
      },
      {
       "output_type": "stream",
       "stream": "stdout",
       "text": [
        "Error: (1431.1) FASTA-Reader: Warning: FASTA-Reader: No residues given\r\n"
       ]
      },
      {
       "output_type": "stream",
       "stream": "stdout",
       "text": [
        "Warning: lcl|Query_772 EMSPUT00000001245 cds:pseudogene supercontig:GCA_000002235.2:Scaffold166:707893:707965:1 gene:EMSPUG00000001245 transcript:EMSPUT00000001245 description:\"tRNA-Met for anticodon CAU\": Warning: Sequence contains no data \r\n"
       ]
      },
      {
       "output_type": "stream",
       "stream": "stdout",
       "text": [
        "Error: (1431.1) FASTA-Reader: Warning: FASTA-Reader: No residues given\r\n"
       ]
      },
      {
       "output_type": "stream",
       "stream": "stdout",
       "text": [
        "Warning: lcl|Query_822 EMSPUT00000009297 cds:pseudogene supercontig:GCA_000002235.2:Scaffold403:344509:344582:1 gene:EMSPUG00000009297 transcript:EMSPUT00000009297 description:\"tRNA-His for anticodon GUG\": Warning: Sequence contains no data \r\n",
        "Error: (1431.1) FASTA-Reader: Warning: FASTA-Reader: No residues given\r\n",
        "Error: (1431.1) FASTA-Reader: Warning: FASTA-Reader: No residues given\r\n"
       ]
      },
      {
       "output_type": "stream",
       "stream": "stdout",
       "text": [
        "Warning: lcl|Query_835 EMSPUT00000014552 cds:pseudogene supercontig:GCA_000002235.2:Scaffold1263:138887:138954:1 gene:EMSPUG00000014552 transcript:EMSPUT00000014552 description:\"tRNA-Pro for anticodon UGG\": Warning: Sequence contains no data \r\n",
        "Warning: lcl|Query_841 EMSPUT00000002582 cds:pseudogene supercontig:GCA_000002235.2:Scaffold2211:135689:135761:1 gene:EMSPUG00000002582 transcript:EMSPUT00000002582 description:\"tRNA-Ile for anticodon UAU\": Warning: Sequence contains no data \r\n",
        "Error: (1431.1) FASTA-Reader: Warning: FASTA-Reader: No residues given\r\n"
       ]
      },
      {
       "output_type": "stream",
       "stream": "stdout",
       "text": [
        "Warning: lcl|Query_846 EMSPUT00000002413 cds:pseudogene supercontig:GCA_000002235.2:Scaffold845:175691:175760:1 gene:EMSPUG00000002413 transcript:EMSPUT00000002413 description:\"tRNA-Leu for anticodon CAA\": Warning: Sequence contains no data \r\n"
       ]
      },
      {
       "output_type": "stream",
       "stream": "stdout",
       "text": [
        "Error: (1431.1) FASTA-Reader: Warning: FASTA-Reader: No residues given\r\n"
       ]
      },
      {
       "output_type": "stream",
       "stream": "stdout",
       "text": [
        "Warning: lcl|Query_871 EMSPUT00000002955 cds:pseudogene supercontig:GCA_000002235.2:Scaffold1253:38717:38789:-1 gene:EMSPUG00000002955 transcript:EMSPUT00000002955 description:\"tRNA-Met for anticodon CAU\": Warning: Sequence contains no data \r\n"
       ]
      },
      {
       "output_type": "stream",
       "stream": "stdout",
       "text": [
        "Error: (1431.1) FASTA-Reader: Warning: FASTA-Reader: No residues given\r\n"
       ]
      },
      {
       "output_type": "stream",
       "stream": "stdout",
       "text": [
        "Warning: lcl|Query_889 EMSPUT00000014875 cds:pseudogene supercontig:GCA_000002235.2:Scaffold227:87962:88034:-1 gene:EMSPUG00000014875 transcript:EMSPUT00000014875 description:\"tRNA-Met for anticodon CAU\": Warning: Sequence contains no data \r\n"
       ]
      },
      {
       "output_type": "stream",
       "stream": "stdout",
       "text": [
        "Error: (1431.1) FASTA-Reader: Warning: FASTA-Reader: No residues given\r\n",
        "Error: (1431.1) FASTA-Reader: Warning: FASTA-Reader: No residues given\r\n",
        "Error: (1431.1) FASTA-Reader: Warning: FASTA-Reader: No residues given\r\n",
        "Error: (1431.1) FASTA-Reader: Warning: FASTA-Reader: No residues given\r\n",
        "Error: (1431.1) FASTA-Reader: Warning: FASTA-Reader: No residues given\r\n",
        "Error: (1431.1) FASTA-Reader: Warning: FASTA-Reader: No residues given\r\n",
        "Error: (1431.1) FASTA-Reader: Warning: FASTA-Reader: No residues given\r\n"
       ]
      },
      {
       "output_type": "stream",
       "stream": "stdout",
       "text": [
        "Warning: lcl|Query_937 SPU_020879-tr cds:pseudogene supercontig:GCA_000002235.2:Scaffold131:382132:399186:1 gene:SPU_020879 transcript:SPU_020879-tr: Warning: Sequence contains no data \r\n"
       ]
      },
      {
       "output_type": "stream",
       "stream": "stdout",
       "text": [
        "Warning: lcl|Query_944 EMSPUT00000015048 cds:pseudogene supercontig:GCA_000002235.2:Scaffold131:622987:623059:-1 gene:EMSPUG00000015048 transcript:EMSPUT00000015048 description:\"tRNA-Ile for anticodon UAU\": Warning: Sequence contains no data \r\n",
        "Warning: lcl|Query_946 EMSPUT00000002986 cds:pseudogene supercontig:GCA_000002235.2:Scaffold131:671401:671522:-1 gene:EMSPUG00000002986 transcript:EMSPUT00000002986 description:\"Vault RNA\": Warning: Sequence contains no data \r\n",
        "Warning: lcl|Query_947 EMSPUT00000000729 cds:pseudogene supercontig:GCA_000002235.2:Scaffold131:671428:671499:-1 gene:EMSPUG00000000729 transcript:EMSPUT00000000729 description:\"tRNA-Ile for anticodon AAU\": Warning: Sequence contains no data \r\n",
        "Warning: lcl|Query_948 EMSPUT00000003105 cds:pseudogene supercontig:GCA_000002235.2:Scaffold131:673527:673647:-1 gene:EMSPUG00000003105 transcript:EMSPUT00000003105 description:\"Vault RNA\": Warning: Sequence contains no data \r\n",
        "Warning: lcl|Query_949 EMSPUT00000009499 cds:pseudogene supercontig:GCA_000002235.2:Scaffold131:673554:673624:-1 gene:EMSPUG00000009499 transcript:EMSPUT00000009499 description:\"tRNA-Gly for anticodon UCC\": Warning: Sequence contains no data \r\n",
        "Warning: lcl|Query_950 EMSPUT00000010117 cds:pseudogene supercontig:GCA_000002235.2:Scaffold131:674856:674977:1 gene:EMSPUG00000010117 transcript:EMSPUT00000010117 description:\"Vault RNA\": Warning: Sequence contains no data \r\n",
        "Error: (1431.1) FASTA-Reader: Warning: FASTA-Reader: No residues given\r\n"
       ]
      },
      {
       "output_type": "stream",
       "stream": "stdout",
       "text": [
        "Warning: lcl|Query_964 EMSPUT00000014771 cds:pseudogene supercontig:GCA_000002235.2:Scaffold3734:15801:15873:1 gene:EMSPUG00000014771 transcript:EMSPUT00000014771 description:\"tRNA-Met for anticodon CAU\": Warning: Sequence contains no data \r\n",
        "Error: (1431.1) FASTA-Reader: Warning: FASTA-Reader: No residues given\r\n"
       ]
      },
      {
       "output_type": "stream",
       "stream": "stdout",
       "text": [
        "Warning: lcl|Query_979 EMSPUT00000011928 cds:pseudogene supercontig:GCA_000002235.2:Scaffold5171:13971:14043:-1 gene:EMSPUG00000011928 transcript:EMSPUT00000011928 description:\"tRNA-Met for anticodon CAU\": Warning: Sequence contains no data \r\n"
       ]
      },
      {
       "output_type": "stream",
       "stream": "stdout",
       "text": [
        "Error: (1431.1) FASTA-Reader: Warning: FASTA-Reader: No residues given\r\n"
       ]
      },
      {
       "output_type": "stream",
       "stream": "stdout",
       "text": [
        "Warning: lcl|Query_1037 EMSPUT00000001246 cds:pseudogene supercontig:GCA_000002235.2:Scaffold3679:49319:49395:-1 gene:EMSPUG00000001246 transcript:EMSPUT00000001246 description:\"tRNA-Gln for anticodon UUG\": Warning: Sequence contains no data \r\n"
       ]
      },
      {
       "output_type": "stream",
       "stream": "stdout",
       "text": [
        "Error: (1431.1) FASTA-Reader: Warning: FASTA-Reader: No residues given\r\n"
       ]
      },
      {
       "output_type": "stream",
       "stream": "stdout",
       "text": [
        "Warning: lcl|Query_1073 EMSPUT00000003388 cds:pseudogene supercontig:GCA_000002235.2:Scaffold1604:61558:61631:1 gene:EMSPUG00000003388 transcript:EMSPUT00000003388 description:\"tRNA-Ser for anticodon UGA\": Warning: Sequence contains no data \r\n",
        "Error: (1431.1) FASTA-Reader: Warning: FASTA-Reader: No residues given\r\n",
        "Error: (1431.1) FASTA-Reader: Warning: FASTA-Reader: No residues given\r\n",
        "Error: (1431.1) FASTA-Reader: Warning: FASTA-Reader: No residues given\r\n"
       ]
      },
      {
       "output_type": "stream",
       "stream": "stdout",
       "text": [
        "Warning: lcl|Query_1077 EMSPUT00000009306 cds:pseudogene supercontig:GCA_000002235.2:Scaffold1604:97615:97696:-1 gene:EMSPUG00000009306 transcript:EMSPUT00000009306 description:\"tRNA-Ser for anticodon UGA\": Warning: Sequence contains no data \r\n",
        "Warning: lcl|Query_1078 EMSPUT00000014128 cds:pseudogene supercontig:GCA_000002235.2:Scaffold1604:99384:99465:-1 gene:EMSPUG00000014128 transcript:EMSPUT00000014128 description:\"tRNA-Ser for anticodon UGA\": Warning: Sequence contains no data \r\n",
        "Warning: lcl|Query_1079 EMSPUT00000014078 cds:pseudogene supercontig:GCA_000002235.2:Scaffold1604:102449:102520:1 gene:EMSPUG00000014078 transcript:EMSPUT00000014078 description:\"tRNA-Undet for anticodon \\x3f\\x3f\\x3f\": Warning: Sequence contains no data \r\n",
        "Error: (1431.1) FASTA-Reader: Warning: FASTA-Reader: No residues given\r\n",
        "Error: (1431.1) FASTA-Reader: Warning: FASTA-Reader: No residues given\r\n"
       ]
      },
      {
       "output_type": "stream",
       "stream": "stdout",
       "text": [
        "Warning: lcl|Query_1096 EMSPUT00000006359 cds:pseudogene supercontig:GCA_000002235.2:Scaffold1062:41892:41966:-1 gene:EMSPUG00000006359 transcript:EMSPUT00000006359 description:\"tRNA-Thr for anticodon GGU\": Warning: Sequence contains no data \r\n",
        "Warning: lcl|Query_1097 EMSPUT00000015705 cds:pseudogene supercontig:GCA_000002235.2:Scaffold1062:42825:42899:-1 gene:EMSPUG00000015705 transcript:EMSPUT00000015705 description:\"tRNA-Thr for anticodon GGU\": Warning: Sequence contains no data \r\n"
       ]
      },
      {
       "output_type": "stream",
       "stream": "stdout",
       "text": [
        "Error: (1431.1) FASTA-Reader: Warning: FASTA-Reader: No residues given\r\n"
       ]
      },
      {
       "output_type": "stream",
       "stream": "stdout",
       "text": [
        "Warning: lcl|Query_1126 EMSPUT00000009693 cds:pseudogene supercontig:GCA_000002235.2:Scaffold3009:31552:31626:-1 gene:EMSPUG00000009693 transcript:EMSPUT00000009693 description:\"tRNA-His for anticodon GUG\": Warning: Sequence contains no data \r\n",
        "Error: (1431.1) FASTA-Reader: Warning: FASTA-Reader: No residues given\r\n",
        "Error: (1431.1) FASTA-Reader: Warning: FASTA-Reader: No residues given\r\n"
       ]
      },
      {
       "output_type": "stream",
       "stream": "stdout",
       "text": [
        "Warning: lcl|Query_1138 EMSPUT00000008551 cds:pseudogene supercontig:GCA_000002235.2:Scaffold284:288135:288206:1 gene:EMSPUG00000008551 transcript:EMSPUT00000008551 description:\"tRNA-Asp for anticodon GUC\": Warning: Sequence contains no data \r\n",
        "Warning: lcl|Query_1141 EMSPUT00000010783 cds:pseudogene supercontig:GCA_000002235.2:Scaffold284:446483:446555:-1 gene:EMSPUG00000010783 transcript:EMSPUT00000010783 description:\"tRNA-Met for anticodon CAU\": Warning: Sequence contains no data \r\n",
        "Error: (1431.1) FASTA-Reader: Warning: FASTA-Reader: No residues given\r\n",
        "Error: (1431.1) FASTA-Reader: Warning: FASTA-Reader: No residues given\r\n",
        "Error: (1431.1) FASTA-Reader: Warning: FASTA-Reader: No residues given\r\n"
       ]
      },
      {
       "output_type": "stream",
       "stream": "stdout",
       "text": [
        "Warning: lcl|Query_1164 EMSPUT00000000033 cds:pseudogene supercontig:GCA_000002235.2:Scaffold24:136886:136961:-1 gene:EMSPUG00000000033 transcript:EMSPUT00000000033 description:\"tRNA-Asn for anticodon GUU\": Warning: Sequence contains no data \r\n",
        "Warning: lcl|Query_1169 EMSPUT00000010437 cds:pseudogene supercontig:GCA_000002235.2:Scaffold24:192290:192362:-1 gene:EMSPUG00000010437 transcript:EMSPUT00000010437 description:\"tRNA-Met for anticodon CAU\": Warning: Sequence contains no data \r\n",
        "Warning: lcl|Query_1173 EMSPUT00000010962 cds:pseudogene supercontig:GCA_000002235.2:Scaffold24:265212:265283:1 gene:EMSPUG00000010962 transcript:EMSPUT00000010962 description:\"tRNA-Val for anticodon CAC\": Warning: Sequence contains no data \r\n",
        "Error: (1431.1) FASTA-Reader: Warning: FASTA-Reader: No residues given\r\n"
       ]
      },
      {
       "output_type": "stream",
       "stream": "stdout",
       "text": [
        "Warning: lcl|Query_1181 EMSPUT00000008021 cds:pseudogene supercontig:GCA_000002235.2:Scaffold24:369730:369802:-1 gene:EMSPUG00000008021 transcript:EMSPUT00000008021 description:\"tRNA-Met for anticodon CAU\": Warning: Sequence contains no data \r\n",
        "Error: (1431.1) FASTA-Reader: Warning: FASTA-Reader: No residues given\r\n"
       ]
      },
      {
       "output_type": "stream",
       "stream": "stdout",
       "text": [
        "Warning: lcl|Query_1198 EMSPUT00000011145 cds:pseudogene supercontig:GCA_000002235.2:Scaffold24:821896:821967:-1 gene:EMSPUG00000011145 transcript:EMSPUT00000011145 description:\"Mammalian CPEB3 ribozyme\": Warning: Sequence contains no data \r\n"
       ]
      },
      {
       "output_type": "stream",
       "stream": "stdout",
       "text": [
        "Error: (1431.1) FASTA-Reader: Warning: FASTA-Reader: No residues given\r\n",
        "Error: (1431.1) FASTA-Reader: Warning: FASTA-Reader: No residues given\r\n"
       ]
      },
      {
       "output_type": "stream",
       "stream": "stdout",
       "text": [
        "Warning: lcl|Query_1231 EMSPUT00000009405 cds:pseudogene supercontig:GCA_000002235.2:Scaffold4095:35955:36027:-1 gene:EMSPUG00000009405 transcript:EMSPUT00000009405 description:\"tRNA-Arg for anticodon ACG\": Warning: Sequence contains no data \r\n",
        "Warning: lcl|Query_1232 EMSPUT00000013791 cds:pseudogene supercontig:GCA_000002235.2:Scaffold7846:11787:11859:1 gene:EMSPUG00000013791 transcript:EMSPUT00000013791 description:\"tRNA-Met for anticodon CAU\": Warning: Sequence contains no data \r\n",
        "Error: (1431.1) FASTA-Reader: Warning: FASTA-Reader: No residues given\r\n"
       ]
      },
      {
       "output_type": "stream",
       "stream": "stdout",
       "text": [
        "Warning: lcl|Query_1247 EMSPUT00000005900 cds:pseudogene supercontig:GCA_000002235.2:Scaffold1941:76473:76546:1 gene:EMSPUG00000005900 transcript:EMSPUT00000005900 description:\"tRNA-Ala for anticodon GGC\": Warning: Sequence contains no data \r\n",
        "Error: (1431.1) FASTA-Reader: Warning: FASTA-Reader: No residues given\r\n"
       ]
      },
      {
       "output_type": "stream",
       "stream": "stdout",
       "text": [
        "Warning: lcl|Query_1258 EMSPUT00000000116 cds:pseudogene supercontig:GCA_000002235.2:Scaffold555:118694:118767:-1 gene:EMSPUG00000000116 transcript:EMSPUT00000000116 description:\"tRNA-Glu for anticodon CUC\": Warning: Sequence contains no data \r\n"
       ]
      },
      {
       "output_type": "stream",
       "stream": "stdout",
       "text": [
        "Error: (1431.1) FASTA-Reader: Warning: FASTA-Reader: No residues given\r\n"
       ]
      },
      {
       "output_type": "stream",
       "stream": "stdout",
       "text": [
        "Warning: lcl|Query_1283 EMSPUT00000002340 cds:pseudogene supercontig:GCA_000002235.2:Scaffold30654:1238:1309:1 gene:EMSPUG00000002340 transcript:EMSPUT00000002340 description:\"Mammalian CPEB3 ribozyme\": Warning: Sequence contains no data \r\n",
        "Error: (1431.1) FASTA-Reader: Warning: FASTA-Reader: No residues given\r\n",
        "Error: (1431.1) FASTA-Reader: Warning: FASTA-Reader: No residues given\r\n"
       ]
      },
      {
       "output_type": "stream",
       "stream": "stdout",
       "text": [
        "Warning: lcl|Query_1311 EMSPUT00000012211 cds:pseudogene supercontig:GCA_000002235.2:Scaffold358:255241:255322:-1 gene:EMSPUG00000012211 transcript:EMSPUT00000012211 description:\"tRNA-Asp for anticodon GUC\": Warning: Sequence contains no data \r\n",
        "Warning: lcl|Query_1315 EMSPUT00000002507 cds:pseudogene supercontig:GCA_000002235.2:Scaffold358:281697:281769:-1 gene:EMSPUG00000002507 transcript:EMSPUT00000002507 description:\"tRNA-Ala for anticodon GGC\": Warning: Sequence contains no data \r\n",
        "Error: (1431.1) FASTA-Reader: Warning: FASTA-Reader: No residues given\r\n",
        "Error: (1431.1) FASTA-Reader: Warning: FASTA-Reader: No residues given\r\n"
       ]
      },
      {
       "output_type": "stream",
       "stream": "stdout",
       "text": [
        "Warning: lcl|Query_1328 SPU_030034-tr cds:pseudogene supercontig:GCA_000002235.2:Scaffold592:210450:210741:-1 gene:SPU_030034 transcript:SPU_030034-tr: Warning: Sequence contains no data \r\n",
        "Warning: lcl|Query_1331 EMSPUT00000009357 cds:pseudogene supercontig:GCA_000002235.2:Scaffold592:320400:320472:-1 gene:EMSPUG00000009357 transcript:EMSPUT00000009357 description:\"tRNA-Thr for anticodon UGU\": Warning: Sequence contains no data \r\n",
        "Error: (1431.1) FASTA-Reader: Warning: FASTA-Reader: No residues given\r\n"
       ]
      },
      {
       "output_type": "stream",
       "stream": "stdout",
       "text": [
        "Warning: lcl|Query_1340 EMSPUT00000011984 cds:pseudogene supercontig:GCA_000002235.2:Scaffold592:462377:462449:1 gene:EMSPUG00000011984 transcript:EMSPUT00000011984 description:\"tRNA-Met for anticodon CAU\": Warning: Sequence contains no data \r\n",
        "Error: (1431.1) FASTA-Reader: Warning: FASTA-Reader: No residues given\r\n"
       ]
      },
      {
       "output_type": "stream",
       "stream": "stdout",
       "text": [
        "Warning: lcl|Query_1358 EMSPUT00000015169 cds:pseudogene supercontig:GCA_000002235.2:Scaffold3287:12272:12345:-1 gene:EMSPUG00000015169 transcript:EMSPUT00000015169 description:\"tRNA-Arg for anticodon UCU\": Warning: Sequence contains no data \r\n"
       ]
      },
      {
       "output_type": "stream",
       "stream": "stdout",
       "text": [
        "Error: (1431.1) FASTA-Reader: Warning: FASTA-Reader: No residues given\r\n"
       ]
      },
      {
       "output_type": "stream",
       "stream": "stdout",
       "text": [
        "Warning: lcl|Query_1380 EMSPUT00000012092 cds:pseudogene supercontig:GCA_000002235.2:Scaffold4:621688:621760:-1 gene:EMSPUG00000012092 transcript:EMSPUT00000012092 description:\"tRNA-Met for anticodon CAU\": Warning: Sequence contains no data \r\n"
       ]
      },
      {
       "output_type": "stream",
       "stream": "stdout",
       "text": [
        "Error: (1431.1) FASTA-Reader: Warning: FASTA-Reader: No residues given\r\n"
       ]
      },
      {
       "output_type": "stream",
       "stream": "stdout",
       "text": [
        "Warning: lcl|Query_1416 EMSPUT00000008685 cds:pseudogene supercontig:GCA_000002235.2:Scaffold4:1580528:1580604:1 gene:EMSPUG00000008685 transcript:EMSPUT00000008685 description:\"Mammalian CPEB3 ribozyme\": Warning: Sequence contains no data \r\n",
        "Error: (1431.1) FASTA-Reader: Warning: FASTA-Reader: No residues given\r\n"
       ]
      },
      {
       "output_type": "stream",
       "stream": "stdout",
       "text": [
        "Warning: lcl|Query_1432 EMSPUT00000007090 cds:pseudogene supercontig:GCA_000002235.2:Scaffold196:75269:75340:-1 gene:EMSPUG00000007090 transcript:EMSPUT00000007090 description:\"Mammalian CPEB3 ribozyme\": Warning: Sequence contains no data \r\n"
       ]
      },
      {
       "output_type": "stream",
       "stream": "stdout",
       "text": [
        "Error: (1431.1) FASTA-Reader: Warning: FASTA-Reader: No residues given\r\n",
        "Error: (1431.1) FASTA-Reader: Warning: FASTA-Reader: No residues given\r\n",
        "Error: (1431.1) FASTA-Reader: Warning: FASTA-Reader: No residues given\r\n",
        "Error: (1431.1) FASTA-Reader: Warning: FASTA-Reader: No residues given\r\n"
       ]
      },
      {
       "output_type": "stream",
       "stream": "stdout",
       "text": [
        "Warning: lcl|Query_1452 SPU_004955-tr cds:pseudogene supercontig:GCA_000002235.2:Scaffold196:637795:655884:1 gene:SPU_004955 transcript:SPU_004955-tr: Warning: Sequence contains no data \r\n",
        "Warning: lcl|Query_1457 EMSPUT00000008494 cds:pseudogene supercontig:GCA_000002235.2:Scaffold196:732403:732477:-1 gene:EMSPUG00000008494 transcript:EMSPUT00000008494 description:\"tRNA-Lys for anticodon CUU\": Warning: Sequence contains no data \r\n",
        "Warning: lcl|Query_1461 EMSPUT00000011454 cds:pseudogene supercontig:GCA_000002235.2:Scaffold196:857554:857626:1 gene:EMSPUG00000011454 transcript:EMSPUT00000011454 description:\"tRNA-Met for anticodon CAU\": Warning: Sequence contains no data \r\n",
        "Warning: lcl|Query_1463 EMSPUT00000003227 cds:pseudogene supercontig:GCA_000002235.2:Scaffold196:884309:884381:1 gene:EMSPUG00000003227 transcript:EMSPUT00000003227 description:\"tRNA-Met for anticodon CAU\": Warning: Sequence contains no data \r\n",
        "Error: (1431.1) FASTA-Reader: Warning: FASTA-Reader: No residues given\r\n",
        "Error: (1431.1) FASTA-Reader: Warning: FASTA-Reader: No residues given\r\n"
       ]
      },
      {
       "output_type": "stream",
       "stream": "stdout",
       "text": [
        "Warning: lcl|Query_1489 EMSPUT00000006458 cds:pseudogene supercontig:GCA_000002235.2:Scaffold158:8394:8466:-1 gene:EMSPUG00000006458 transcript:EMSPUT00000006458 description:\"tRNA-Met for anticodon CAU\": Warning: Sequence contains no data \r\n",
        "Warning: lcl|Query_1491 EMSPUT00000013281 cds:pseudogene supercontig:GCA_000002235.2:Scaffold158:66401:66473:1 gene:EMSPUG00000013281 transcript:EMSPUT00000013281 description:\"tRNA-Met for anticodon CAU\": Warning: Sequence contains no data \r\n",
        "Error: (1431.1) FASTA-Reader: Warning: FASTA-Reader: No residues given\r\n"
       ]
      },
      {
       "output_type": "stream",
       "stream": "stdout",
       "text": [
        "Warning: lcl|Query_1505 EMSPUT00000011549 cds:pseudogene supercontig:GCA_000002235.2:Scaffold158:499848:499920:1 gene:EMSPUG00000011549 transcript:EMSPUT00000011549 description:\"tRNA-Met for anticodon CAU\": Warning: Sequence contains no data \r\n"
       ]
      },
      {
       "output_type": "stream",
       "stream": "stdout",
       "text": [
        "Error: (1431.1) FASTA-Reader: Warning: FASTA-Reader: No residues given\r\n",
        "Error: (1431.1) FASTA-Reader: Warning: FASTA-Reader: No residues given\r\n"
       ]
      },
      {
       "output_type": "stream",
       "stream": "stdout",
       "text": [
        "Warning: lcl|Query_1531 EMSPUT00000014369 cds:pseudogene supercontig:GCA_000002235.2:Scaffold2064:301230:301303:-1 gene:EMSPUG00000014369 transcript:EMSPUT00000014369 description:\"tRNA-Ser for anticodon UGA\": Warning: Sequence contains no data \r\n",
        "Warning: lcl|Query_1543 SPU_023469-tr cds:pseudogene supercontig:GCA_000002235.2:Scaffold782:233190:233419:1 gene:SPU_023469 transcript:SPU_023469-tr: Warning: Sequence contains no data \r\n"
       ]
      },
      {
       "output_type": "stream",
       "stream": "stdout",
       "text": [
        "Error: (1431.1) FASTA-Reader: Warning: FASTA-Reader: No residues given\r\n",
        "Error: (1431.1) FASTA-Reader: Warning: FASTA-Reader: No residues given\r\n",
        "Error: (1431.1) FASTA-Reader: Warning: FASTA-Reader: No residues given\r\n"
       ]
      },
      {
       "output_type": "stream",
       "stream": "stdout",
       "text": [
        "Warning: lcl|Query_1586 EMSPUT00000002604 cds:pseudogene supercontig:GCA_000002235.2:Scaffold5133:6559:6630:-1 gene:EMSPUG00000002604 transcript:EMSPUT00000002604 description:\"tRNA-Cys for anticodon GCA\": Warning: Sequence contains no data \r\n",
        "Warning: lcl|Query_1587 EMSPUT00000004255 cds:pseudogene supercontig:GCA_000002235.2:Scaffold5133:8328:8388:-1 gene:EMSPUG00000004255 transcript:EMSPUT00000004255 description:\"tRNA-Undet for anticodon \\x3f\\x3f\\x3f\": Warning: Sequence contains no data \r\n",
        "Warning: lcl|Query_1588 EMSPUT00000000865 cds:pseudogene supercontig:GCA_000002235.2:Scaffold5133:9095:9166:-1 gene:EMSPUG00000000865 transcript:EMSPUT00000000865 description:\"tRNA-Cys for anticodon GCA\": Warning: Sequence contains no data \r\n"
       ]
      },
      {
       "output_type": "stream",
       "stream": "stdout",
       "text": [
        "Error: (1431.1) FASTA-Reader: Warning: FASTA-Reader: No residues given\r\n",
        "Error: (1431.1) FASTA-Reader: Warning: FASTA-Reader: No residues given\r\n",
        "Error: (1431.1) FASTA-Reader: Warning: FASTA-Reader: No residues given\r\n",
        "Error: (1431.1) FASTA-Reader: Warning: FASTA-Reader: No residues given\r\n"
       ]
      },
      {
       "output_type": "stream",
       "stream": "stdout",
       "text": [
        "Warning: lcl|Query_1609 EMSPUT00000009940 cds:pseudogene supercontig:GCA_000002235.2:Scaffold746:54347:54420:-1 gene:EMSPUG00000009940 transcript:EMSPUT00000009940 description:\"tRNA-Asn for anticodon GUU\": Warning: Sequence contains no data \r\n",
        "Warning: lcl|Query_1610 EMSPUT00000001959 cds:pseudogene supercontig:GCA_000002235.2:Scaffold746:55028:55101:-1 gene:EMSPUG00000001959 transcript:EMSPUT00000001959 description:\"tRNA-Asn for anticodon GUU\": Warning: Sequence contains no data \r\n",
        "Warning: lcl|Query_1611 EMSPUT00000000469 cds:pseudogene supercontig:GCA_000002235.2:Scaffold746:55427:55500:-1 gene:EMSPUG00000000469 transcript:EMSPUT00000000469 description:\"tRNA-Asn for anticodon GUU\": Warning: Sequence contains no data \r\n",
        "Warning: lcl|Query_1620 EMSPUT00000015479 cds:pseudogene supercontig:GCA_000002235.2:Scaffold746:357532:357601:-1 gene:EMSPUG00000015479 transcript:EMSPUT00000015479 description:\"tRNA-His for anticodon GUG\": Warning: Sequence contains no data \r\n"
       ]
      },
      {
       "output_type": "stream",
       "stream": "stdout",
       "text": [
        "Error: (1431.1) FASTA-Reader: Warning: FASTA-Reader: No residues given\r\n",
        "Error: (1431.1) FASTA-Reader: Warning: FASTA-Reader: No residues given\r\n",
        "Error: (1431.1) FASTA-Reader: Warning: FASTA-Reader: No residues given\r\n",
        "Error: (1431.1) FASTA-Reader: Warning: FASTA-Reader: No residues given\r\n",
        "Error: (1431.1) FASTA-Reader: Warning: FASTA-Reader: No residues given\r\n",
        "Error: (1431.1) FASTA-Reader: Warning: FASTA-Reader: No residues given\r\n",
        "Error: (1431.1) FASTA-Reader: Warning: FASTA-Reader: No residues given\r\n",
        "Error: (1431.1) FASTA-Reader: Warning: FASTA-Reader: No residues given\r\n",
        "Error: (1431.1) FASTA-Reader: Warning: FASTA-Reader: No residues given\r\n",
        "Error: (1431.1) FASTA-Reader: Warning: FASTA-Reader: No residues given\r\n"
       ]
      },
      {
       "output_type": "stream",
       "stream": "stdout",
       "text": [
        "Warning: lcl|Query_1662 EMSPUT00000005618 cds:pseudogene supercontig:GCA_000002235.2:Scaffold2268:23586:23659:-1 gene:EMSPUG00000005618 transcript:EMSPUT00000005618 description:\"tRNA-Asn for anticodon GUU\": Warning: Sequence contains no data \r\n",
        "Warning: lcl|Query_1663 EMSPUT00000008085 cds:pseudogene supercontig:GCA_000002235.2:Scaffold2268:25647:25720:-1 gene:EMSPUG00000008085 transcript:EMSPUT00000008085 description:\"tRNA-Asn for anticodon GUU\": Warning: Sequence contains no data \r\n",
        "Warning: lcl|Query_1664 EMSPUT00000014770 cds:pseudogene supercontig:GCA_000002235.2:Scaffold2268:26198:26269:-1 gene:EMSPUG00000014770 transcript:EMSPUT00000014770 description:\"tRNA-Gly for anticodon UCC\": Warning: Sequence contains no data \r\n",
        "Warning: lcl|Query_1665 EMSPUT00000011635 cds:pseudogene supercontig:GCA_000002235.2:Scaffold2268:26665:26736:-1 gene:EMSPUG00000011635 transcript:EMSPUT00000011635 description:\"tRNA-Gly for anticodon UCC\": Warning: Sequence contains no data \r\n",
        "Warning: lcl|Query_1666 EMSPUT00000003156 cds:pseudogene supercontig:GCA_000002235.2:Scaffold2268:27668:27739:-1 gene:EMSPUG00000003156 transcript:EMSPUT00000003156 description:\"tRNA-Gly for anticodon UCC\": Warning: Sequence contains no data \r\n",
        "Warning: lcl|Query_1669 EMSPUT00000008300 cds:pseudogene supercontig:GCA_000002235.2:Scaffold2268:32531:32602:-1 gene:EMSPUG00000008300 transcript:EMSPUT00000008300 description:\"tRNA-Gly for anticodon UCC\": Warning: Sequence contains no data \r\n",
        "Warning: lcl|Query_1671 EMSPUT00000005832 cds:pseudogene supercontig:GCA_000002235.2:Scaffold2268:44746:44817:1 gene:EMSPUG00000005832 transcript:EMSPUT00000005832 description:\"tRNA-Gly for anticodon UCC\": Warning: Sequence contains no data \r\n",
        "Warning: lcl|Query_1675 EMSPUT00000001222 cds:pseudogene supercontig:GCA_000002235.2:Scaffold2268:62952:63023:-1 gene:EMSPUG00000001222 transcript:EMSPUT00000001222 description:\"tRNA-Gly for anticodon UCC\": Warning: Sequence contains no data \r\n",
        "Warning: lcl|Query_1676 EMSPUT00000013006 cds:pseudogene supercontig:GCA_000002235.2:Scaffold2268:65749:65820:1 gene:EMSPUG00000013006 transcript:EMSPUT00000013006 description:\"tRNA-Gly for anticodon UCC\": Warning: Sequence contains no data \r\n",
        "Warning: lcl|Query_1678 EMSPUT00000006223 cds:pseudogene supercontig:GCA_000002235.2:Scaffold2268:73444:73515:1 gene:EMSPUG00000006223 transcript:EMSPUT00000006223 description:\"tRNA-Gly for anticodon UCC\": Warning: Sequence contains no data \r\n",
        "Error: (1431.1) FASTA-Reader: Warning: FASTA-Reader: No residues given\r\n",
        "Error: (1431.1) FASTA-Reader: Warning: FASTA-Reader: No residues given\r\n",
        "Error: (1431.1) FASTA-Reader: Warning: FASTA-Reader: No residues given\r\n"
       ]
      },
      {
       "output_type": "stream",
       "stream": "stdout",
       "text": [
        "Warning: lcl|Query_1684 EMSPUT00000001050 cds:pseudogene supercontig:GCA_000002235.2:Scaffold2097:75114:75195:1 gene:EMSPUG00000001050 transcript:EMSPUT00000001050 description:\"tRNA-Ser for anticodon CGA\": Warning: Sequence contains no data \r\n",
        "Warning: lcl|Query_1686 EMSPUT00000008807 cds:pseudogene supercontig:GCA_000002235.2:Scaffold2097:87462:87535:1 gene:EMSPUG00000008807 transcript:EMSPUT00000008807 description:\"Mammalian CPEB3 ribozyme\": Warning: Sequence contains no data \r\n",
        "Warning: lcl|Query_1691 SPU_015299-tr cds:pseudogene supercontig:GCA_000002235.2:Scaffold2922:68347:69860:-1 gene:SPU_015299 transcript:SPU_015299-tr: Warning: Sequence contains no data \r\n"
       ]
      },
      {
       "output_type": "stream",
       "stream": "stdout",
       "text": [
        "Error: (1431.1) FASTA-Reader: Warning: FASTA-Reader: No residues given\r\n",
        "Error: (1431.1) FASTA-Reader: Warning: FASTA-Reader: No residues given\r\n"
       ]
      },
      {
       "output_type": "stream",
       "stream": "stdout",
       "text": [
        "Warning: lcl|Query_1718 EMSPUT00000004734 cds:pseudogene supercontig:GCA_000002235.2:Scaffold458:189376:189448:1 gene:EMSPUG00000004734 transcript:EMSPUT00000004734 description:\"tRNA-Met for anticodon CAU\": Warning: Sequence contains no data \r\n",
        "Warning: lcl|Query_1720 EMSPUT00000007523 cds:pseudogene supercontig:GCA_000002235.2:Scaffold458:241592:241665:-1 gene:EMSPUG00000007523 transcript:EMSPUT00000007523 description:\"tRNA-Ala for anticodon GGC\": Warning: Sequence contains no data \r\n"
       ]
      },
      {
       "output_type": "stream",
       "stream": "stdout",
       "text": [
        "Error: (1431.1) FASTA-Reader: Warning: FASTA-Reader: No residues given\r\n"
       ]
      },
      {
       "output_type": "stream",
       "stream": "stdout",
       "text": [
        "Warning: lcl|Query_1737 EMSPUT00000011170 cds:pseudogene supercontig:GCA_000002235.2:Scaffold110:377487:377559:-1 gene:EMSPUG00000011170 transcript:EMSPUT00000011170 description:\"tRNA-Met for anticodon CAU\": Warning: Sequence contains no data \r\n"
       ]
      },
      {
       "output_type": "stream",
       "stream": "stdout",
       "text": [
        "Error: (1431.1) FASTA-Reader: Warning: FASTA-Reader: No residues given\r\n"
       ]
      },
      {
       "output_type": "stream",
       "stream": "stdout",
       "text": [
        "Warning: lcl|Query_1813 EMSPUT00000000532 cds:pseudogene supercontig:GCA_000002235.2:Scaffold180:327778:327850:-1 gene:EMSPUG00000000532 transcript:EMSPUT00000000532 description:\"tRNA-Lys for anticodon UUU\": Warning: Sequence contains no data \r\n"
       ]
      },
      {
       "output_type": "stream",
       "stream": "stdout",
       "text": [
        "Error: (1431.1) FASTA-Reader: Warning: FASTA-Reader: No residues given\r\n",
        "Error: (1431.1) FASTA-Reader: Warning: FASTA-Reader: No residues given\r\n",
        "Error: (1431.1) FASTA-Reader: Warning: FASTA-Reader: No residues given\r\n"
       ]
      },
      {
       "output_type": "stream",
       "stream": "stdout",
       "text": [
        "Warning: lcl|Query_1839 EMSPUT00000011459 cds:pseudogene supercontig:GCA_000002235.2:Scaffold180:865893:865967:-1 gene:EMSPUG00000011459 transcript:EMSPUT00000011459 description:\"tRNA-SeC for anticodon UCA\": Warning: Sequence contains no data \r\n",
        "Warning: lcl|Query_1841 SPU_013751-tr cds:pseudogene supercontig:GCA_000002235.2:Scaffold2693:15767:18436:1 gene:SPU_013751 transcript:SPU_013751-tr: Warning: Sequence contains no data \r\n",
        "Warning: lcl|Query_1844 EMSPUT00000013729 cds:pseudogene supercontig:GCA_000002235.2:Scaffold2364:1122:1194:-1 gene:EMSPUG00000013729 transcript:EMSPUT00000013729 description:\"tRNA-Ala for anticodon GGC\": Warning: Sequence contains no data \r\n",
        "Error: (1431.1) FASTA-Reader: Warning: FASTA-Reader: No residues given\r\n",
        "Error: (1431.1) FASTA-Reader: Warning: FASTA-Reader: No residues given\r\n",
        "Error: (1431.1) FASTA-Reader: Warning: FASTA-Reader: No residues given\r\n"
       ]
      },
      {
       "output_type": "stream",
       "stream": "stdout",
       "text": [
        "Warning: lcl|Query_1858 SPU_010797-tr cds:pseudogene supercontig:GCA_000002235.2:Scaffold671:172085:279527:1 gene:SPU_010797 transcript:SPU_010797-tr: Warning: Sequence contains no data \r\n",
        "Warning: lcl|Query_1859 EMSPUT00000014053 cds:pseudogene supercontig:GCA_000002235.2:Scaffold671:214200:214275:1 gene:EMSPUG00000014053 transcript:EMSPUT00000014053 description:\"tRNA-Glu for anticodon CUC\": Warning: Sequence contains no data \r\n",
        "Warning: lcl|Query_1862 EMSPUT00000008124 cds:pseudogene supercontig:GCA_000002235.2:Scaffold671:290217:290282:1 gene:EMSPUG00000008124 transcript:EMSPUT00000008124 description:\"tRNA-Thr for anticodon UGU\": Warning: Sequence contains no data \r\n",
        "Error: (1431.1) FASTA-Reader: Warning: FASTA-Reader: No residues given\r\n"
       ]
      },
      {
       "output_type": "stream",
       "stream": "stdout",
       "text": [
        "Warning: lcl|Query_1869 EMSPUT00000005901 cds:pseudogene supercontig:GCA_000002235.2:Scaffold499:420666:420739:1 gene:EMSPUG00000005901 transcript:EMSPUT00000005901 description:\"tRNA-Ala for anticodon GGC\": Warning: Sequence contains no data \r\n",
        "Error: (1431.1) FASTA-Reader: Warning: FASTA-Reader: No residues given\r\n"
       ]
      },
      {
       "output_type": "stream",
       "stream": "stdout",
       "text": [
        "Warning: lcl|Query_1894 EMSPUT00000002855 cds:pseudogene supercontig:GCA_000002235.2:Scaffold397:199276:199344:-1 gene:EMSPUG00000002855 transcript:EMSPUT00000002855 description:\"tRNA-Ser for anticodon CGA\": Warning: Sequence contains no data \r\n",
        "Error: (1431.1) FASTA-Reader: Warning: FASTA-Reader: No residues given\r\n"
       ]
      },
      {
       "output_type": "stream",
       "stream": "stdout",
       "text": [
        "Warning: lcl|Query_1908 EMSPUT00000013278 cds:pseudogene supercontig:GCA_000002235.2:Scaffold525:219096:219168:1 gene:EMSPUG00000013278 transcript:EMSPUT00000013278 description:\"tRNA-Met for anticodon CAU\": Warning: Sequence contains no data \r\n"
       ]
      },
      {
       "output_type": "stream",
       "stream": "stdout",
       "text": [
        "Error: (1431.1) FASTA-Reader: Warning: FASTA-Reader: No residues given\r\n",
        "Error: (1431.1) FASTA-Reader: Warning: FASTA-Reader: No residues given\r\n",
        "Error: (1431.1) FASTA-Reader: Warning: FASTA-Reader: No residues given\r\n"
       ]
      },
      {
       "output_type": "stream",
       "stream": "stdout",
       "text": [
        "Warning: lcl|Query_1933 EMSPUT00000009044 cds:pseudogene supercontig:GCA_000002235.2:Scaffold5440:442:514:1 gene:EMSPUG00000009044 transcript:EMSPUT00000009044 description:\"tRNA-Met for anticodon CAU\": Warning: Sequence contains no data \r\n",
        "Warning: lcl|Query_1939 EMSPUT00000009321 cds:pseudogene supercontig:GCA_000002235.2:Scaffold1051:125579:125651:-1 gene:EMSPUG00000009321 transcript:EMSPUT00000009321 description:\"tRNA-Met for anticodon CAU\": Warning: Sequence contains no data \r\n",
        "Warning: lcl|Query_1943 EMSPUT00000012991 cds:pseudogene supercontig:GCA_000002235.2:Scaffold622:38038:38110:-1 gene:EMSPUG00000012991 transcript:EMSPUT00000012991 description:\"tRNA-Met for anticodon CAU\": Warning: Sequence contains no data \r\n",
        "Error: (1431.1) FASTA-Reader: Warning: FASTA-Reader: No residues given\r\n"
       ]
      },
      {
       "output_type": "stream",
       "stream": "stdout",
       "text": [
        "Warning: lcl|Query_1957 EMSPUT00000011432 cds:pseudogene supercontig:GCA_000002235.2:Scaffold23777:1004:1076:-1 gene:EMSPUG00000011432 transcript:EMSPUT00000011432 description:\"tRNA-Met for anticodon CAU\": Warning: Sequence contains no data \r\n",
        "Error: (1431.1) FASTA-Reader: Warning: FASTA-Reader: No residues given\r\n",
        "Error: (1431.1) FASTA-Reader: Warning: FASTA-Reader: No residues given\r\n"
       ]
      },
      {
       "output_type": "stream",
       "stream": "stdout",
       "text": [
        "Warning: lcl|Query_1964 EMSPUT00000002321 cds:pseudogene supercontig:GCA_000002235.2:Scaffold23039:135:207:1 gene:EMSPUG00000002321 transcript:EMSPUT00000002321 description:\"tRNA-Lys for anticodon UUU\": Warning: Sequence contains no data \r\n",
        "Warning: lcl|Query_1969 EMSPUT00000003243 cds:pseudogene supercontig:GCA_000002235.2:Scaffold562:62259:62334:-1 gene:EMSPUG00000003243 transcript:EMSPUT00000003243 description:\"tRNA-Ala for anticodon GGC\": Warning: Sequence contains no data \r\n"
       ]
      },
      {
       "output_type": "stream",
       "stream": "stdout",
       "text": [
        "Error: (1431.1) FASTA-Reader: Warning: FASTA-Reader: No residues given\r\n"
       ]
      },
      {
       "output_type": "stream",
       "stream": "stdout",
       "text": [
        "Warning: lcl|Query_2002 SPU_030093-tr cds:pseudogene supercontig:GCA_000002235.2:Scaffold1813:224468:225330:1 gene:SPU_030093 transcript:SPU_030093-tr: Warning: Sequence contains no data \r\n",
        "Error: (1431.1) FASTA-Reader: Warning: FASTA-Reader: No residues given\r\n"
       ]
      },
      {
       "output_type": "stream",
       "stream": "stdout",
       "text": [
        "Warning: lcl|Query_2017 EMSPUT00000015216 cds:pseudogene supercontig:GCA_000002235.2:Scaffold189:108354:108426:-1 gene:EMSPUG00000015216 transcript:EMSPUT00000015216 description:\"tRNA-Met for anticodon CAU\": Warning: Sequence contains no data \r\n",
        "Error: (1431.1) FASTA-Reader: Warning: FASTA-Reader: No residues given\r\n"
       ]
      },
      {
       "output_type": "stream",
       "stream": "stdout",
       "text": [
        "Warning: lcl|Query_2026 EMSPUT00000013268 cds:pseudogene supercontig:GCA_000002235.2:Scaffold189:380446:380519:1 gene:EMSPUG00000013268 transcript:EMSPUT00000013268 description:\"tRNA-Tyr for anticodon GUA\": Warning: Sequence contains no data \r\n"
       ]
      },
      {
       "output_type": "stream",
       "stream": "stdout",
       "text": [
        "Error: (1431.1) FASTA-Reader: Warning: FASTA-Reader: No residues given\r\n",
        "Error: (1431.1) FASTA-Reader: Warning: FASTA-Reader: No residues given\r\n"
       ]
      },
      {
       "output_type": "stream",
       "stream": "stdout",
       "text": [
        "Warning: lcl|Query_2059 EMSPUT00000011247 cds:pseudogene supercontig:GCA_000002235.2:Scaffold8714:2790:2862:1 gene:EMSPUG00000011247 transcript:EMSPUT00000011247 description:\"tRNA-Met for anticodon CAU\": Warning: Sequence contains no data \r\n",
        "Warning: lcl|Query_2069 EMSPUT00000012213 cds:pseudogene supercontig:GCA_000002235.2:Scaffold6294:2702:2774:-1 gene:EMSPUG00000012213 transcript:EMSPUT00000012213 description:\"tRNA-Met for anticodon CAU\": Warning: Sequence contains no data \r\n"
       ]
      },
      {
       "output_type": "stream",
       "stream": "stdout",
       "text": [
        "Error: (1431.1) FASTA-Reader: Warning: FASTA-Reader: No residues given\r\n",
        "Error: (1431.1) FASTA-Reader: Warning: FASTA-Reader: No residues given\r\n",
        "Error: (1431.1) FASTA-Reader: Warning: FASTA-Reader: No residues given\r\n",
        "Error: (1431.1) FASTA-Reader: Warning: FASTA-Reader: No residues given\r\n",
        "Error: (1431.1) FASTA-Reader: Warning: FASTA-Reader: No residues given\r\n",
        "Error: (1431.1) FASTA-Reader: Warning: FASTA-Reader: No residues given\r\n"
       ]
      },
      {
       "output_type": "stream",
       "stream": "stdout",
       "text": [
        "Warning: lcl|Query_2136 EMSPUT00000002315 cds:pseudogene supercontig:GCA_000002235.2:Scaffold447:178351:178422:1 gene:EMSPUG00000002315 transcript:EMSPUT00000002315 description:\"tRNA-Pro for anticodon UGG\": Warning: Sequence contains no data \r\n",
        "Warning: lcl|Query_2138 EMSPUT00000002212 cds:pseudogene supercontig:GCA_000002235.2:Scaffold447:179570:179641:1 gene:EMSPUG00000002212 transcript:EMSPUT00000002212 description:\"tRNA-Pro for anticodon AGG\": Warning: Sequence contains no data \r\n",
        "Warning: lcl|Query_2139 EMSPUT00000010730 cds:pseudogene supercontig:GCA_000002235.2:Scaffold447:180220:180291:1 gene:EMSPUG00000010730 transcript:EMSPUT00000010730 description:\"tRNA-Pro for anticodon AGG\": Warning: Sequence contains no data \r\n",
        "Warning: lcl|Query_2140 EMSPUT00000001500 cds:pseudogene supercontig:GCA_000002235.2:Scaffold447:180363:180434:1 gene:EMSPUG00000001500 transcript:EMSPUT00000001500 description:\"tRNA-Pro for anticodon AGG\": Warning: Sequence contains no data \r\n",
        "Warning: lcl|Query_2141 EMSPUT00000006597 cds:pseudogene supercontig:GCA_000002235.2:Scaffold447:180493:180564:1 gene:EMSPUG00000006597 transcript:EMSPUT00000006597 description:\"tRNA-Pro for anticodon AGG\": Warning: Sequence contains no data \r\n",
        "Warning: lcl|Query_2142 EMSPUT00000009213 cds:pseudogene supercontig:GCA_000002235.2:Scaffold447:180623:180694:1 gene:EMSPUG00000009213 transcript:EMSPUT00000009213 description:\"tRNA-Pro for anticodon AGG\": Warning: Sequence contains no data \r\n",
        "Error: (1431.1) FASTA-Reader: Warning: FASTA-Reader: No residues given\r\n",
        "Error: (1431.1) FASTA-Reader: Warning: FASTA-Reader: No residues given\r\n",
        "Error: (1431.1) FASTA-Reader: Warning: FASTA-Reader: No residues given\r\n",
        "Error: (1431.1) FASTA-Reader: Warning: FASTA-Reader: No residues given\r\n"
       ]
      },
      {
       "output_type": "stream",
       "stream": "stdout",
       "text": [
        "Warning: lcl|Query_2158 EMSPUT00000002525 cds:pseudogene supercontig:GCA_000002235.2:Scaffold760:43753:44050:-1 gene:EMSPUG00000002525 transcript:EMSPUT00000002525 description:\"Metazoan signal recognition particle RNA\": Warning: Sequence contains no data \r\n",
        "Warning: lcl|Query_2171 EMSPUT00000015102 cds:pseudogene supercontig:GCA_000002235.2:Scaffold2769:16005:16078:-1 gene:EMSPUG00000015102 transcript:EMSPUT00000015102 description:\"tRNA-Ala for anticodon GGC\": Warning: Sequence contains no data \r\n",
        "Warning: lcl|Query_2172 EMSPUT00000014157 cds:pseudogene supercontig:GCA_000002235.2:Scaffold29150:541:618:1 gene:EMSPUG00000014157 transcript:EMSPUT00000014157 description:\"tRNA-Pro for anticodon UGG\": Warning: Sequence contains no data \r\n",
        "Warning: lcl|Query_2173 EMSPUT00000007386 cds:pseudogene supercontig:GCA_000002235.2:Scaffold4521:6845:6919:1 gene:EMSPUG00000007386 transcript:EMSPUT00000007386 description:\"tRNA-Leu for anticodon GAG\": Warning: Sequence contains no data \r\n"
       ]
      },
      {
       "output_type": "stream",
       "stream": "stdout",
       "text": [
        "Error: (1431.1) FASTA-Reader: Warning: FASTA-Reader: No residues given\r\n"
       ]
      },
      {
       "output_type": "stream",
       "stream": "stdout",
       "text": [
        "Warning: lcl|Query_2233 EMSPUT00000007016 cds:pseudogene supercontig:GCA_000002235.2:Scaffold1077:153454:153528:-1 gene:EMSPUG00000007016 transcript:EMSPUT00000007016 description:\"tRNA-Glu for anticodon CUC\": Warning: Sequence contains no data \r\n",
        "Error: (1431.1) FASTA-Reader: Warning: FASTA-Reader: No residues given\r\n",
        "Error: (1431.1) FASTA-Reader: Warning: FASTA-Reader: No residues given\r\n",
        "Error: (1431.1) FASTA-Reader: Warning: FASTA-Reader: No residues given\r\n",
        "Error: (1431.1) FASTA-Reader: Warning: FASTA-Reader: No residues given\r\n",
        "Error: (1431.1) FASTA-Reader: Warning: FASTA-Reader: No residues given\r\n",
        "Error: (1431.1) FASTA-Reader: Warning: FASTA-Reader: No residues given\r\n",
        "Error: (1431.1) FASTA-Reader: Warning: FASTA-Reader: No residues given\r\n",
        "Error: (1431.1) FASTA-Reader: Warning: FASTA-Reader: No residues given\r\n",
        "Error: (1431.1) FASTA-Reader: Warning: FASTA-Reader: No residues given\r\n",
        "Error: (1431.1) FASTA-Reader: Warning: FASTA-Reader: No residues given\r\n",
        "Error: (1431.1) FASTA-Reader: Warning: FASTA-Reader: No residues given\r\n",
        "Error: (1431.1) FASTA-Reader: Warning: FASTA-Reader: No residues given\r\n",
        "Error: (1431.1) FASTA-Reader: Warning: FASTA-Reader: No residues given\r\n",
        "Error: (1431.1) FASTA-Reader: Warning: FASTA-Reader: No residues given\r\n",
        "Error: (1431.1) FASTA-Reader: Warning: FASTA-Reader: No residues given\r\n",
        "Error: (1431.1) FASTA-Reader: Warning: FASTA-Reader: No residues given\r\n",
        "Error: (1431.1) FASTA-Reader: Warning: FASTA-Reader: No residues given\r\n",
        "Error: (1431.1) FASTA-Reader: Warning: FASTA-Reader: No residues given\r\n",
        "Error: (1431.1) FASTA-Reader: Warning: FASTA-Reader: No residues given\r\n",
        "Error: (1431.1) FASTA-Reader: Warning: FASTA-Reader: No residues given\r\n",
        "Error: (1431.1) FASTA-Reader: Warning: FASTA-Reader: No residues given\r\n",
        "Error: (1431.1) FASTA-Reader: Warning: FASTA-Reader: No residues given\r\n",
        "Error: (1431.1) FASTA-Reader: Warning: FASTA-Reader: No residues given\r\n",
        "Error: (1431.1) FASTA-Reader: Warning: FASTA-Reader: No residues given\r\n",
        "Error: (1431.1) FASTA-Reader: Warning: FASTA-Reader: No residues given\r\n",
        "Error: (1431.1) FASTA-Reader: Warning: FASTA-Reader: No residues given\r\n",
        "Error: (1431.1) FASTA-Reader: Warning: FASTA-Reader: No residues given\r\n",
        "Error: (1431.1) FASTA-Reader: Warning: FASTA-Reader: No residues given\r\n",
        "Error: (1431.1) FASTA-Reader: Warning: FASTA-Reader: No residues given\r\n",
        "Error: (1431.1) FASTA-Reader: Warning: FASTA-Reader: No residues given\r\n",
        "Error: (1431.1) FASTA-Reader: Warning: FASTA-Reader: No residues given\r\n",
        "Error: (1431.1) FASTA-Reader: Warning: FASTA-Reader: No residues given\r\n",
        "Error: (1431.1) FASTA-Reader: Warning: FASTA-Reader: No residues given\r\n",
        "Error: (1431.1) FASTA-Reader: Warning: FASTA-Reader: No residues given\r\n",
        "Error: (1431.1) FASTA-Reader: Warning: FASTA-Reader: No residues given\r\n",
        "Error: (1431.1) FASTA-Reader: Warning: FASTA-Reader: No residues given\r\n",
        "Error: (1431.1) FASTA-Reader: Warning: FASTA-Reader: No residues given\r\n",
        "Error: (1431.1) FASTA-Reader: Warning: FASTA-Reader: No residues given\r\n",
        "Error: (1431.1) FASTA-Reader: Warning: FASTA-Reader: No residues given\r\n",
        "Error: (1431.1) FASTA-Reader: Warning: FASTA-Reader: No residues given\r\n",
        "Error: (1431.1) FASTA-Reader: Warning: FASTA-Reader: No residues given\r\n",
        "Error: (1431.1) FASTA-Reader: Warning: FASTA-Reader: No residues given\r\n",
        "Error: (1431.1) FASTA-Reader: Warning: FASTA-Reader: No residues given\r\n",
        "Error: (1431.1) FASTA-Reader: Warning: FASTA-Reader: No residues given\r\n",
        "Error: (1431.1) FASTA-Reader: Warning: FASTA-Reader: No residues given\r\n",
        "Error: (1431.1) FASTA-Reader: Warning: FASTA-Reader: No residues given\r\n",
        "Error: (1431.1) FASTA-Reader: Warning: FASTA-Reader: No residues given\r\n",
        "Error: (1431.1) FASTA-Reader: Warning: FASTA-Reader: No residues given\r\n",
        "Error: (1431.1) FASTA-Reader: Warning: FASTA-Reader: No residues given\r\n",
        "Error: (1431.1) FASTA-Reader: Warning: FASTA-Reader: No residues given\r\n",
        "Error: (1431.1) FASTA-Reader: Warning: FASTA-Reader: No residues given\r\n",
        "Error: (1431.1) FASTA-Reader: Warning: FASTA-Reader: No residues given\r\n",
        "Error: (1431.1) FASTA-Reader: Warning: FASTA-Reader: No residues given\r\n",
        "Error: (1431.1) FASTA-Reader: Warning: FASTA-Reader: No residues given\r\n",
        "Error: (1431.1) FASTA-Reader: Warning: FASTA-Reader: No residues given\r\n",
        "Error: (1431.1) FASTA-Reader: Warning: FASTA-Reader: No residues given\r\n",
        "Error: (1431.1) FASTA-Reader: Warning: FASTA-Reader: No residues given\r\n",
        "Error: (1431.1) FASTA-Reader: Warning: FASTA-Reader: No residues given\r\n",
        "Error: (1431.1) FASTA-Reader: Warning: FASTA-Reader: No residues given\r\n",
        "Error: (1431.1) FASTA-Reader: Warning: FASTA-Reader: No residues given\r\n",
        "Error: (1431.1) FASTA-Reader: Warning: FASTA-Reader: No residues given\r\n",
        "Error: (1431.1) FASTA-Reader: Warning: FASTA-Reader: No residues given\r\n",
        "Error: (1431.1) FASTA-Reader: Warning: FASTA-Reader: No residues given\r\n",
        "Error: (1431.1) FASTA-Reader: Warning: FASTA-Reader: No residues given\r\n",
        "Error: (1431.1) FASTA-Reader: Warning: FASTA-Reader: No residues given\r\n",
        "Error: (1431.1) FASTA-Reader: Warning: FASTA-Reader: No residues given\r\n",
        "Error: (1431.1) FASTA-Reader: Warning: FASTA-Reader: No residues given\r\n"
       ]
      },
      {
       "output_type": "stream",
       "stream": "stdout",
       "text": [
        "Warning: lcl|Query_2243 EMSPUT00000010928 cds:pseudogene supercontig:GCA_000002235.2:Scaffold97:129552:129622:-1 gene:EMSPUG00000010928 transcript:EMSPUT00000010928 description:\"tRNA-Leu for anticodon GAG\": Warning: Sequence contains no data \r\n",
        "Warning: lcl|Query_2244 EMSPUT00000002979 cds:pseudogene supercontig:GCA_000002235.2:Scaffold97:180268:180340:1 gene:EMSPUG00000002979 transcript:EMSPUT00000002979 description:\"tRNA-Ile for anticodon AAU\": Warning: Sequence contains no data \r\n",
        "Warning: lcl|Query_2245 EMSPUT00000012484 cds:pseudogene supercontig:GCA_000002235.2:Scaffold97:180463:180535:1 gene:EMSPUG00000012484 transcript:EMSPUT00000012484 description:\"tRNA-Ile for anticodon AAU\": Warning: Sequence contains no data \r\n",
        "Warning: lcl|Query_2246 EMSPUT00000005484 cds:pseudogene supercontig:GCA_000002235.2:Scaffold97:180657:180729:1 gene:EMSPUG00000005484 transcript:EMSPUT00000005484 description:\"tRNA-Ile for anticodon AAU\": Warning: Sequence contains no data \r\n",
        "Warning: lcl|Query_2247 EMSPUT00000014700 cds:pseudogene supercontig:GCA_000002235.2:Scaffold97:180852:180924:1 gene:EMSPUG00000014700 transcript:EMSPUT00000014700 description:\"tRNA-Ile for anticodon AAU\": Warning: Sequence contains no data \r\n",
        "Warning: lcl|Query_2248 EMSPUT00000007726 cds:pseudogene supercontig:GCA_000002235.2:Scaffold97:181047:181119:1 gene:EMSPUG00000007726 transcript:EMSPUT00000007726 description:\"tRNA-Ile for anticodon AAU\": Warning: Sequence contains no data \r\n",
        "Warning: lcl|Query_2249 EMSPUT00000015018 cds:pseudogene supercontig:GCA_000002235.2:Scaffold97:181248:181320:1 gene:EMSPUG00000015018 transcript:EMSPUT00000015018 description:\"tRNA-Ile for anticodon AAU\": Warning: Sequence contains no data \r\n",
        "Warning: lcl|Query_2250 EMSPUT00000008272 cds:pseudogene supercontig:GCA_000002235.2:Scaffold97:181443:181515:1 gene:EMSPUG00000008272 transcript:EMSPUT00000008272 description:\"tRNA-Ile for anticodon AAU\": Warning: Sequence contains no data \r\n",
        "Warning: lcl|Query_2251 EMSPUT00000001230 cds:pseudogene supercontig:GCA_000002235.2:Scaffold97:181638:181710:1 gene:EMSPUG00000001230 transcript:EMSPUT00000001230 description:\"tRNA-Ile for anticodon AAU\": Warning: Sequence contains no data \r\n",
        "Warning: lcl|Query_2252 EMSPUT00000011068 cds:pseudogene supercontig:GCA_000002235.2:Scaffold97:181834:181906:1 gene:EMSPUG00000011068 transcript:EMSPUT00000011068 description:\"tRNA-Ile for anticodon AAU\": Warning: Sequence contains no data \r\n",
        "Warning: lcl|Query_2253 EMSPUT00000010853 cds:pseudogene supercontig:GCA_000002235.2:Scaffold97:182029:182101:1 gene:EMSPUG00000010853 transcript:EMSPUT00000010853 description:\"tRNA-Ile for anticodon AAU\": Warning: Sequence contains no data \r\n",
        "Warning: lcl|Query_2254 EMSPUT00000000135 cds:pseudogene supercontig:GCA_000002235.2:Scaffold97:182224:182296:1 gene:EMSPUG00000000135 transcript:EMSPUT00000000135 description:\"tRNA-Ile for anticodon AAU\": Warning: Sequence contains no data \r\n",
        "Warning: lcl|Query_2255 EMSPUT00000009326 cds:pseudogene supercontig:GCA_000002235.2:Scaffold97:182420:182492:1 gene:EMSPUG00000009326 transcript:EMSPUT00000009326 description:\"tRNA-Ile for anticodon AAU\": Warning: Sequence contains no data \r\n",
        "Warning: lcl|Query_2256 EMSPUT00000006537 cds:pseudogene supercontig:GCA_000002235.2:Scaffold97:182616:182688:1 gene:EMSPUG00000006537 transcript:EMSPUT00000006537 description:\"tRNA-Ile for anticodon AAU\": Warning: Sequence contains no data \r\n",
        "Warning: lcl|Query_2257 EMSPUT00000006473 cds:pseudogene supercontig:GCA_000002235.2:Scaffold97:182812:182884:1 gene:EMSPUG00000006473 transcript:EMSPUT00000006473 description:\"tRNA-Ile for anticodon AAU\": Warning: Sequence contains no data \r\n",
        "Warning: lcl|Query_2258 EMSPUT00000015495 cds:pseudogene supercontig:GCA_000002235.2:Scaffold97:183008:183080:1 gene:EMSPUG00000015495 transcript:EMSPUT00000015495 description:\"tRNA-Ile for anticodon AAU\": Warning: Sequence contains no data \r\n",
        "Warning: lcl|Query_2259 EMSPUT00000004946 cds:pseudogene supercontig:GCA_000002235.2:Scaffold97:183203:183275:1 gene:EMSPUG00000004946 transcript:EMSPUT00000004946 description:\"tRNA-Ile for anticodon AAU\": Warning: Sequence contains no data \r\n",
        "Warning: lcl|Query_2260 EMSPUT00000002060 cds:pseudogene supercontig:GCA_000002235.2:Scaffold97:183398:183470:1 gene:EMSPUG00000002060 transcript:EMSPUT00000002060 description:\"tRNA-Ile for anticodon AAU\": Warning: Sequence contains no data \r\n",
        "Warning: lcl|Query_2261 EMSPUT00000007569 cds:pseudogene supercontig:GCA_000002235.2:Scaffold97:183594:183666:1 gene:EMSPUG00000007569 transcript:EMSPUT00000007569 description:\"tRNA-Ile for anticodon AAU\": Warning: Sequence contains no data \r\n",
        "Warning: lcl|Query_2262 EMSPUT00000010753 cds:pseudogene supercontig:GCA_000002235.2:Scaffold97:183992:184064:1 gene:EMSPUG00000010753 transcript:EMSPUT00000010753 description:\"tRNA-Ile for anticodon AAU\": Warning: Sequence contains no data \r\n",
        "Warning: lcl|Query_2263 EMSPUT00000008573 cds:pseudogene supercontig:GCA_000002235.2:Scaffold97:184194:184266:1 gene:EMSPUG00000008573 transcript:EMSPUT00000008573 description:\"tRNA-Ile for anticodon AAU\": Warning: Sequence contains no data \r\n",
        "Warning: lcl|Query_2264 EMSPUT00000001582 cds:pseudogene supercontig:GCA_000002235.2:Scaffold97:184953:185025:1 gene:EMSPUG00000001582 transcript:EMSPUT00000001582 description:\"tRNA-Ile for anticodon AAU\": Warning: Sequence contains no data \r\n",
        "Warning: lcl|Query_2265 EMSPUT00000014242 cds:pseudogene supercontig:GCA_000002235.2:Scaffold97:185149:185221:1 gene:EMSPUG00000014242 transcript:EMSPUT00000014242 description:\"tRNA-Ile for anticodon AAU\": Warning: Sequence contains no data \r\n",
        "Warning: lcl|Query_2266 EMSPUT00000007227 cds:pseudogene supercontig:GCA_000002235.2:Scaffold97:185345:185417:1 gene:EMSPUG00000007227 transcript:EMSPUT00000007227 description:\"tRNA-Ile for anticodon AAU\": Warning: Sequence contains no data \r\n",
        "Warning: lcl|Query_2267 EMSPUT00000007247 cds:pseudogene supercontig:GCA_000002235.2:Scaffold97:185541:185613:1 gene:EMSPUG00000007247 transcript:EMSPUT00000007247 description:\"tRNA-Ile for anticodon AAU\": Warning: Sequence contains no data \r\n",
        "Warning: lcl|Query_2268 EMSPUT00000011887 cds:pseudogene supercontig:GCA_000002235.2:Scaffold97:185737:185809:1 gene:EMSPUG00000011887 transcript:EMSPUT00000011887 description:\"tRNA-Ile for anticodon AAU\": Warning: Sequence contains no data \r\n",
        "Warning: lcl|Query_2269 EMSPUT00000010799 cds:pseudogene supercontig:GCA_000002235.2:Scaffold97:185933:186005:1 gene:EMSPUG00000010799 transcript:EMSPUT00000010799 description:\"tRNA-Ile for anticodon AAU\": Warning: Sequence contains no data \r\n",
        "Warning: lcl|Query_2270 EMSPUT00000003964 cds:pseudogene supercontig:GCA_000002235.2:Scaffold97:186129:186201:1 gene:EMSPUG00000003964 transcript:EMSPUT00000003964 description:\"tRNA-Ile for anticodon AAU\": Warning: Sequence contains no data \r\n",
        "Warning: lcl|Query_2271 EMSPUT00000001519 cds:pseudogene supercontig:GCA_000002235.2:Scaffold97:186326:186398:1 gene:EMSPUG00000001519 transcript:EMSPUT00000001519 description:\"tRNA-Ile for anticodon AAU\": Warning: Sequence contains no data \r\n",
        "Warning: lcl|Query_2272 EMSPUT00000010350 cds:pseudogene supercontig:GCA_000002235.2:Scaffold97:186522:186594:1 gene:EMSPUG00000010350 transcript:EMSPUT00000010350 description:\"tRNA-Ile for anticodon AAU\": Warning: Sequence contains no data \r\n",
        "Warning: lcl|Query_2273 EMSPUT00000012147 cds:pseudogene supercontig:GCA_000002235.2:Scaffold97:186718:186790:1 gene:EMSPUG00000012147 transcript:EMSPUT00000012147 description:\"tRNA-Ile for anticodon AAU\": Warning: Sequence contains no data \r\n",
        "Warning: lcl|Query_2274 EMSPUT00000007614 cds:pseudogene supercontig:GCA_000002235.2:Scaffold97:186914:186986:1 gene:EMSPUG00000007614 transcript:EMSPUT00000007614 description:\"tRNA-Ile for anticodon AAU\": Warning: Sequence contains no data \r\n",
        "Warning: lcl|Query_2275 EMSPUT00000014337 cds:pseudogene supercontig:GCA_000002235.2:Scaffold97:187110:187182:1 gene:EMSPUG00000014337 transcript:EMSPUT00000014337 description:\"tRNA-Ile for anticodon AAU\": Warning: Sequence contains no data \r\n",
        "Warning: lcl|Query_2276 EMSPUT00000009829 cds:pseudogene supercontig:GCA_000002235.2:Scaffold97:187305:187377:1 gene:EMSPUG00000009829 transcript:EMSPUT00000009829 description:\"tRNA-Ile for anticodon AAU\": Warning: Sequence contains no data \r\n",
        "Warning: lcl|Query_2277 EMSPUT00000011745 cds:pseudogene supercontig:GCA_000002235.2:Scaffold97:187501:187573:1 gene:EMSPUG00000011745 transcript:EMSPUT00000011745 description:\"tRNA-Ile for anticodon AAU\": Warning: Sequence contains no data \r\n",
        "Warning: lcl|Query_2282 EMSPUT00000001498 cds:pseudogene supercontig:GCA_000002235.2:Scaffold97:240053:240125:-1 gene:EMSPUG00000001498 transcript:EMSPUT00000001498 description:\"tRNA-Ala for anticodon GGC\": Warning: Sequence contains no data \r\n",
        "Warning: lcl|Query_2286 EMSPUT00000006300 cds:pseudogene supercontig:GCA_000002235.2:Scaffold97:295565:295637:-1 gene:EMSPUG00000006300 transcript:EMSPUT00000006300 description:\"tRNA-Ile for anticodon AAU\": Warning: Sequence contains no data \r\n",
        "Warning: lcl|Query_2287 EMSPUT00000015663 cds:pseudogene supercontig:GCA_000002235.2:Scaffold97:297077:297149:-1 gene:EMSPUG00000015663 transcript:EMSPUT00000015663 description:\"tRNA-Ile for anticodon AAU\": Warning: Sequence contains no data \r\n",
        "Warning: lcl|Query_2288 EMSPUT00000002795 cds:pseudogene supercontig:GCA_000002235.2:Scaffold97:348112:348184:1 gene:EMSPUG00000002795 transcript:EMSPUT00000002795 description:\"tRNA-Ile for anticodon AAU\": Warning: Sequence contains no data \r\n",
        "Warning: lcl|Query_2289 EMSPUT00000010090 cds:pseudogene supercontig:GCA_000002235.2:Scaffold97:349410:349482:1 gene:EMSPUG00000010090 transcript:EMSPUT00000010090 description:\"tRNA-Ile for anticodon AAU\": Warning: Sequence contains no data \r\n",
        "Warning: lcl|Query_2290 EMSPUT00000005052 cds:pseudogene supercontig:GCA_000002235.2:Scaffold97:349606:349678:1 gene:EMSPUG00000005052 transcript:EMSPUT00000005052 description:\"tRNA-Ile for anticodon AAU\": Warning: Sequence contains no data \r\n",
        "Warning: lcl|Query_2291 EMSPUT00000007400 cds:pseudogene supercontig:GCA_000002235.2:Scaffold97:349801:349873:1 gene:EMSPUG00000007400 transcript:EMSPUT00000007400 description:\"tRNA-Ile for anticodon AAU\": Warning: Sequence contains no data \r\n",
        "Warning: lcl|Query_2292 EMSPUT00000015520 cds:pseudogene supercontig:GCA_000002235.2:Scaffold97:349997:350069:1 gene:EMSPUG00000015520 transcript:EMSPUT00000015520 description:\"tRNA-Ile for anticodon AAU\": Warning: Sequence contains no data \r\n",
        "Warning: lcl|Query_2293 EMSPUT00000009051 cds:pseudogene supercontig:GCA_000002235.2:Scaffold97:350193:350265:1 gene:EMSPUG00000009051 transcript:EMSPUT00000009051 description:\"tRNA-Ile for anticodon AAU\": Warning: Sequence contains no data \r\n",
        "Warning: lcl|Query_2294 EMSPUT00000000486 cds:pseudogene supercontig:GCA_000002235.2:Scaffold97:350388:350460:1 gene:EMSPUG00000000486 transcript:EMSPUT00000000486 description:\"tRNA-Ile for anticodon AAU\": Warning: Sequence contains no data \r\n",
        "Warning: lcl|Query_2295 EMSPUT00000008732 cds:pseudogene supercontig:GCA_000002235.2:Scaffold97:350584:350656:1 gene:EMSPUG00000008732 transcript:EMSPUT00000008732 description:\"tRNA-Ile for anticodon AAU\": Warning: Sequence contains no data \r\n",
        "Warning: lcl|Query_2296 EMSPUT00000002182 cds:pseudogene supercontig:GCA_000002235.2:Scaffold97:350780:350852:1 gene:EMSPUG00000002182 transcript:EMSPUT00000002182 description:\"tRNA-Ile for anticodon AAU\": Warning: Sequence contains no data \r\n",
        "Warning: lcl|Query_2297 EMSPUT00000013740 cds:pseudogene supercontig:GCA_000002235.2:Scaffold97:350976:351048:1 gene:EMSPUG00000013740 transcript:EMSPUT00000013740 description:\"tRNA-Ile for anticodon AAU\": Warning: Sequence contains no data \r\n",
        "Warning: lcl|Query_2298 EMSPUT00000004809 cds:pseudogene supercontig:GCA_000002235.2:Scaffold97:351171:351243:1 gene:EMSPUG00000004809 transcript:EMSPUT00000004809 description:\"tRNA-Ile for anticodon AAU\": Warning: Sequence contains no data \r\n",
        "Warning: lcl|Query_2299 EMSPUT00000015451 cds:pseudogene supercontig:GCA_000002235.2:Scaffold97:351367:351439:1 gene:EMSPUG00000015451 transcript:EMSPUT00000015451 description:\"tRNA-Ile for anticodon AAU\": Warning: Sequence contains no data \r\n",
        "Warning: lcl|Query_2300 EMSPUT00000006501 cds:pseudogene supercontig:GCA_000002235.2:Scaffold97:351564:351636:1 gene:EMSPUG00000006501 transcript:EMSPUT00000006501 description:\"tRNA-Ile for anticodon AAU\": Warning: Sequence contains no data \r\n",
        "Warning: lcl|Query_2301 EMSPUT00000009082 cds:pseudogene supercontig:GCA_000002235.2:Scaffold97:351759:351831:1 gene:EMSPUG00000009082 transcript:EMSPUT00000009082 description:\"tRNA-Ile for anticodon AAU\": Warning: Sequence contains no data \r\n",
        "Warning: lcl|Query_2302 EMSPUT00000010152 cds:pseudogene supercontig:GCA_000002235.2:Scaffold97:351955:352027:1 gene:EMSPUG00000010152 transcript:EMSPUT00000010152 description:\"tRNA-Ile for anticodon AAU\": Warning: Sequence contains no data \r\n",
        "Warning: lcl|Query_2303 EMSPUT00000011236 cds:pseudogene supercontig:GCA_000002235.2:Scaffold97:352150:352222:1 gene:EMSPUG00000011236 transcript:EMSPUT00000011236 description:\"tRNA-Ile for anticodon AAU\": Warning: Sequence contains no data \r\n",
        "Warning: lcl|Query_2304 EMSPUT00000000088 cds:pseudogene supercontig:GCA_000002235.2:Scaffold97:352345:352417:1 gene:EMSPUG00000000088 transcript:EMSPUT00000000088 description:\"tRNA-Ile for anticodon AAU\": Warning: Sequence contains no data \r\n",
        "Warning: lcl|Query_2305 EMSPUT00000014615 cds:pseudogene supercontig:GCA_000002235.2:Scaffold97:352541:352613:1 gene:EMSPUG00000014615 transcript:EMSPUT00000014615 description:\"tRNA-Ile for anticodon AAU\": Warning: Sequence contains no data \r\n",
        "Warning: lcl|Query_2306 EMSPUT00000006098 cds:pseudogene supercontig:GCA_000002235.2:Scaffold97:352737:352809:1 gene:EMSPUG00000006098 transcript:EMSPUT00000006098 description:\"tRNA-Ile for anticodon AAU\": Warning: Sequence contains no data \r\n",
        "Warning: lcl|Query_2307 EMSPUT00000004644 cds:pseudogene supercontig:GCA_000002235.2:Scaffold97:352933:353005:1 gene:EMSPUG00000004644 transcript:EMSPUT00000004644 description:\"tRNA-Ile for anticodon AAU\": Warning: Sequence contains no data \r\n",
        "Warning: lcl|Query_2308 EMSPUT00000013358 cds:pseudogene supercontig:GCA_000002235.2:Scaffold97:353129:353201:1 gene:EMSPUG00000013358 transcript:EMSPUT00000013358 description:\"tRNA-Ile for anticodon AAU\": Warning: Sequence contains no data \r\n",
        "Warning: lcl|Query_2309 EMSPUT00000010360 cds:pseudogene supercontig:GCA_000002235.2:Scaffold97:353325:353397:1 gene:EMSPUG00000010360 transcript:EMSPUT00000010360 description:\"tRNA-Ile for anticodon AAU\": Warning: Sequence contains no data \r\n",
        "Warning: lcl|Query_2310 EMSPUT00000003319 cds:pseudogene supercontig:GCA_000002235.2:Scaffold97:353519:353591:1 gene:EMSPUG00000003319 transcript:EMSPUT00000003319 description:\"tRNA-Ile for anticodon AAU\": Warning: Sequence contains no data \r\n",
        "Warning: lcl|Query_2311 EMSPUT00000001796 cds:pseudogene supercontig:GCA_000002235.2:Scaffold97:353714:353786:1 gene:EMSPUG00000001796 transcript:EMSPUT00000001796 description:\"tRNA-Ile for anticodon AAU\": Warning: Sequence contains no data \r\n",
        "Warning: lcl|Query_2312 EMSPUT00000015683 cds:pseudogene supercontig:GCA_000002235.2:Scaffold97:353915:353987:1 gene:EMSPUG00000015683 transcript:EMSPUT00000015683 description:\"tRNA-Ile for anticodon AAU\": Warning: Sequence contains no data \r\n",
        "Warning: lcl|Query_2313 EMSPUT00000014789 cds:pseudogene supercontig:GCA_000002235.2:Scaffold97:354110:354182:1 gene:EMSPUG00000014789 transcript:EMSPUT00000014789 description:\"tRNA-Ile for anticodon AAU\": Warning: Sequence contains no data \r\n",
        "Warning: lcl|Query_2314 EMSPUT00000008885 cds:pseudogene supercontig:GCA_000002235.2:Scaffold97:354306:354378:1 gene:EMSPUG00000008885 transcript:EMSPUT00000008885 description:\"tRNA-Ile for anticodon AAU\": Warning: Sequence contains no data \r\n",
        "Warning: lcl|Query_2315 EMSPUT00000000163 cds:pseudogene supercontig:GCA_000002235.2:Scaffold97:354502:354574:1 gene:EMSPUG00000000163 transcript:EMSPUT00000000163 description:\"tRNA-Ile for anticodon AAU\": Warning: Sequence contains no data \r\n",
        "Warning: lcl|Query_2316 EMSPUT00000013505 cds:pseudogene supercontig:GCA_000002235.2:Scaffold97:354704:354776:1 gene:EMSPUG00000013505 transcript:EMSPUT00000013505 description:\"tRNA-Ile for anticodon AAU\": Warning: Sequence contains no data \r\n",
        "Error: (1431.1) FASTA-Reader: Warning: FASTA-Reader: No residues given\r\n",
        "Error: (1431.1) FASTA-Reader: Warning: FASTA-Reader: No residues given\r\n"
       ]
      },
      {
       "output_type": "stream",
       "stream": "stdout",
       "text": [
        "Warning: lcl|Query_2324 EMSPUT00000002099 cds:pseudogene supercontig:GCA_000002235.2:Scaffold97:476474:476546:-1 gene:EMSPUG00000002099 transcript:EMSPUT00000002099 description:\"tRNA-Ala for anticodon GGC\": Warning: Sequence contains no data \r\n",
        "Warning: lcl|Query_2325 EMSPUT00000014597 cds:pseudogene supercontig:GCA_000002235.2:Scaffold97:490457:490529:-1 gene:EMSPUG00000014597 transcript:EMSPUT00000014597 description:\"tRNA-Ala for anticodon GGC\": Warning: Sequence contains no data \r\n",
        "Error: (1431.1) FASTA-Reader: Warning: FASTA-Reader: No residues given\r\n",
        "Error: (1431.1) FASTA-Reader: Warning: FASTA-Reader: No residues given\r\n",
        "Error: (1431.1) FASTA-Reader: Warning: FASTA-Reader: No residues given\r\n",
        "Error: (1431.1) FASTA-Reader: Warning: FASTA-Reader: No residues given\r\n",
        "Error: (1431.1) FASTA-Reader: Warning: FASTA-Reader: No residues given\r\n",
        "Error: (1431.1) FASTA-Reader: Warning: FASTA-Reader: No residues given\r\n",
        "Error: (1431.1) FASTA-Reader: Warning: FASTA-Reader: No residues given\r\n"
       ]
      },
      {
       "output_type": "stream",
       "stream": "stdout",
       "text": [
        "Warning: lcl|Query_2342 EMSPUT00000002076 cds:pseudogene supercontig:GCA_000002235.2:Scaffold2462:145038:145109:-1 gene:EMSPUG00000002076 transcript:EMSPUT00000002076 description:\"tRNA-Met for anticodon CAU\": Warning: Sequence contains no data \r\n",
        "Warning: lcl|Query_2343 EMSPUT00000010992 cds:pseudogene supercontig:GCA_000002235.2:Scaffold2462:150410:150482:-1 gene:EMSPUG00000010992 transcript:EMSPUT00000010992 description:\"tRNA-Met for anticodon CAU\": Warning: Sequence contains no data \r\n",
        "Warning: lcl|Query_2344 EMSPUT00000005931 cds:pseudogene supercontig:GCA_000002235.2:Scaffold2462:157959:158031:-1 gene:EMSPUG00000005931 transcript:EMSPUT00000005931 description:\"tRNA-Met for anticodon CAU\": Warning: Sequence contains no data \r\n",
        "Warning: lcl|Query_2346 EMSPUT00000015016 cds:pseudogene supercontig:GCA_000002235.2:Scaffold2462:162660:162731:-1 gene:EMSPUG00000015016 transcript:EMSPUT00000015016 description:\"tRNA-Met for anticodon CAU\": Warning: Sequence contains no data \r\n",
        "Warning: lcl|Query_2348 EMSPUT00000014243 cds:pseudogene supercontig:GCA_000002235.2:Scaffold794:66405:66477:1 gene:EMSPUG00000014243 transcript:EMSPUT00000014243 description:\"tRNA-Ala for anticodon GGC\": Warning: Sequence contains no data \r\n",
        "Warning: lcl|Query_2349 EMSPUT00000012765 cds:pseudogene supercontig:GCA_000002235.2:Scaffold794:81470:81542:1 gene:EMSPUG00000012765 transcript:EMSPUT00000012765 description:\"tRNA-Ala for anticodon GGC\": Warning: Sequence contains no data \r\n",
        "Warning: lcl|Query_2350 EMSPUT00000007027 cds:pseudogene supercontig:GCA_000002235.2:Scaffold794:85431:85503:1 gene:EMSPUG00000007027 transcript:EMSPUT00000007027 description:\"tRNA-Ala for anticodon GGC\": Warning: Sequence contains no data \r\n",
        "Error: (1431.1) FASTA-Reader: Warning: FASTA-Reader: No residues given\r\n",
        "Error: (1431.1) FASTA-Reader: Warning: FASTA-Reader: No residues given\r\n",
        "Error: (1431.1) FASTA-Reader: Warning: FASTA-Reader: No residues given\r\n",
        "Error: (1431.1) FASTA-Reader: Warning: FASTA-Reader: No residues given\r\n"
       ]
      },
      {
       "output_type": "stream",
       "stream": "stdout",
       "text": [
        "Warning: lcl|Query_2356 EMSPUT00000014655 cds:pseudogene supercontig:GCA_000002235.2:Scaffold794:236721:236793:-1 gene:EMSPUG00000014655 transcript:EMSPUT00000014655 description:\"tRNA-Arg for anticodon ACG\": Warning: Sequence contains no data \r\n",
        "Warning: lcl|Query_2357 EMSPUT00000010502 cds:pseudogene supercontig:GCA_000002235.2:Scaffold794:236884:236956:-1 gene:EMSPUG00000010502 transcript:EMSPUT00000010502 description:\"tRNA-Arg for anticodon ACG\": Warning: Sequence contains no data \r\n",
        "Warning: lcl|Query_2358 EMSPUT00000001776 cds:pseudogene supercontig:GCA_000002235.2:Scaffold794:237047:237119:-1 gene:EMSPUG00000001776 transcript:EMSPUT00000001776 description:\"tRNA-Arg for anticodon ACG\": Warning: Sequence contains no data \r\n",
        "Warning: lcl|Query_2359 EMSPUT00000004745 cds:pseudogene supercontig:GCA_000002235.2:Scaffold794:273863:273935:1 gene:EMSPUG00000004745 transcript:EMSPUT00000004745 description:\"tRNA-Arg for anticodon ACG\": Warning: Sequence contains no data \r\n"
       ]
      },
      {
       "output_type": "stream",
       "stream": "stdout",
       "text": [
        "Error: (1431.1) FASTA-Reader: Warning: FASTA-Reader: No residues given\r\n"
       ]
      },
      {
       "output_type": "stream",
       "stream": "stdout",
       "text": [
        "Warning: lcl|Query_2389 EMSPUT00000014822 cds:pseudogene supercontig:GCA_000002235.2:Scaffold405:483166:483238:1 gene:EMSPUG00000014822 transcript:EMSPUT00000014822 description:\"tRNA-Arg for anticodon ACG\": Warning: Sequence contains no data \r\n"
       ]
      },
      {
       "output_type": "stream",
       "stream": "stdout",
       "text": [
        "Error: (1431.1) FASTA-Reader: Warning: FASTA-Reader: No residues given\r\n"
       ]
      },
      {
       "output_type": "stream",
       "stream": "stdout",
       "text": [
        "Warning: lcl|Query_2428 EMSPUT00000001262 cds:pseudogene supercontig:GCA_000002235.2:Scaffold1333:112719:112791:1 gene:EMSPUG00000001262 transcript:EMSPUT00000001262 description:\"tRNA-Met for anticodon CAU\": Warning: Sequence contains no data \r\n"
       ]
      },
      {
       "output_type": "stream",
       "stream": "stdout",
       "text": [
        "Error: (1431.1) FASTA-Reader: Warning: FASTA-Reader: No residues given\r\n"
       ]
      },
      {
       "output_type": "stream",
       "stream": "stdout",
       "text": [
        "Warning: lcl|Query_2517 EMSPUT00000012244 cds:pseudogene supercontig:GCA_000002235.2:Scaffold27933:622:694:-1 gene:EMSPUG00000012244 transcript:EMSPUT00000012244 description:\"tRNA-Met for anticodon CAU\": Warning: Sequence contains no data \r\n"
       ]
      },
      {
       "output_type": "stream",
       "stream": "stdout",
       "text": [
        "Error: (1431.1) FASTA-Reader: Warning: FASTA-Reader: No residues given\r\n",
        "Error: (1431.1) FASTA-Reader: Warning: FASTA-Reader: No residues given\r\n",
        "Error: (1431.1) FASTA-Reader: Warning: FASTA-Reader: No residues given\r\n",
        "Error: (1431.1) FASTA-Reader: Warning: FASTA-Reader: No residues given\r\n"
       ]
      },
      {
       "output_type": "stream",
       "stream": "stdout",
       "text": [
        "Warning: lcl|Query_2551 EMSPUT00000002780 cds:pseudogene supercontig:GCA_000002235.2:Scaffold2315:34432:34505:-1 gene:EMSPUG00000002780 transcript:EMSPUT00000002780 description:\"Mammalian CPEB3 ribozyme\": Warning: Sequence contains no data \r\n",
        "Warning: lcl|Query_2553 SPU_019834-tr cds:pseudogene supercontig:GCA_000002235.2:Scaffold18:18208:20818:1 gene:SPU_019834 transcript:SPU_019834-tr: Warning: Sequence contains no data \r\n",
        "Warning: lcl|Query_2554 SPU_026274-tr cds:pseudogene supercontig:GCA_000002235.2:Scaffold18:18211:39932:1 gene:SPU_026274 transcript:SPU_026274-tr: Warning: Sequence contains no data \r\n",
        "Warning: lcl|Query_2556 EMSPUT00000011639 cds:pseudogene supercontig:GCA_000002235.2:Scaffold18:44687:44759:1 gene:EMSPUG00000011639 transcript:EMSPUT00000011639 description:\"tRNA-Met for anticodon CAU\": Warning: Sequence contains no data \r\n",
        "Error: (1431.1) FASTA-Reader: Warning: FASTA-Reader: No residues given\r\n"
       ]
      },
      {
       "output_type": "stream",
       "stream": "stdout",
       "text": [
        "Warning: lcl|Query_2570 SPU_030037-tr cds:pseudogene supercontig:GCA_000002235.2:Scaffold18:302017:302165:1 gene:SPU_030037 transcript:SPU_030037-tr: Warning: Sequence contains no data \r\n"
       ]
      },
      {
       "output_type": "stream",
       "stream": "stdout",
       "text": [
        "Error: (1431.1) FASTA-Reader: Warning: FASTA-Reader: No residues given\r\n"
       ]
      },
      {
       "output_type": "stream",
       "stream": "stdout",
       "text": [
        "Warning: lcl|Query_2625 EMSPUT00000002709 cds:pseudogene supercontig:GCA_000002235.2:Scaffold302:262024:262095:-1 gene:EMSPUG00000002709 transcript:EMSPUT00000002709 description:\"tRNA-Ala for anticodon GGC\": Warning: Sequence contains no data \r\n"
       ]
      },
      {
       "output_type": "stream",
       "stream": "stdout",
       "text": [
        "Error: (1431.1) FASTA-Reader: Warning: FASTA-Reader: No residues given\r\n",
        "Error: (1431.1) FASTA-Reader: Warning: FASTA-Reader: No residues given\r\n"
       ]
      },
      {
       "output_type": "stream",
       "stream": "stdout",
       "text": [
        "Warning: lcl|Query_2750 EMSPUT00000005800 cds:pseudogene supercontig:GCA_000002235.2:Scaffold468:187258:187329:-1 gene:EMSPUG00000005800 transcript:EMSPUT00000005800 description:\"tRNA-Gln for anticodon CUG\": Warning: Sequence contains no data \r\n",
        "Warning: lcl|Query_2751 EMSPUT00000012599 cds:pseudogene supercontig:GCA_000002235.2:Scaffold468:187907:187978:-1 gene:EMSPUG00000012599 transcript:EMSPUT00000012599 description:\"tRNA-Gln for anticodon CUG\": Warning: Sequence contains no data \r\n"
       ]
      },
      {
       "output_type": "stream",
       "stream": "stdout",
       "text": [
        "Error: (1431.1) FASTA-Reader: Warning: FASTA-Reader: No residues given\r\n"
       ]
      },
      {
       "output_type": "stream",
       "stream": "stdout",
       "text": [
        "Warning: lcl|Query_2789 EMSPUT00000013158 cds:pseudogene supercontig:GCA_000002235.2:Scaffold1896:54400:54472:1 gene:EMSPUG00000013158 transcript:EMSPUT00000013158 description:\"tRNA-Met for anticodon CAU\": Warning: Sequence contains no data \r\n",
        "Error: (1431.1) FASTA-Reader: Warning: FASTA-Reader: No residues given\r\n"
       ]
      },
      {
       "output_type": "stream",
       "stream": "stdout",
       "text": [
        "Warning: lcl|Query_2799 EMSPUT00000005338 cds:pseudogene supercontig:GCA_000002235.2:Scaffold1896:329435:329507:-1 gene:EMSPUG00000005338 transcript:EMSPUT00000005338 description:\"tRNA-Ala for anticodon AGC\": Warning: Sequence contains no data \r\n"
       ]
      },
      {
       "output_type": "stream",
       "stream": "stdout",
       "text": [
        "Error: (1431.1) FASTA-Reader: Warning: FASTA-Reader: No residues given\r\n"
       ]
      },
      {
       "output_type": "stream",
       "stream": "stdout",
       "text": [
        "Warning: lcl|Query_2843 EMSPUT00000000925 cds:pseudogene supercontig:GCA_000002235.2:Scaffold836:127826:127898:1 gene:EMSPUG00000000925 transcript:EMSPUT00000000925 description:\"tRNA-Ala for anticodon GGC\": Warning: Sequence contains no data \r\n"
       ]
      },
      {
       "output_type": "stream",
       "stream": "stdout",
       "text": [
        "Error: (1431.1) FASTA-Reader: Warning: FASTA-Reader: No residues given\r\n",
        "Error: (1431.1) FASTA-Reader: Warning: FASTA-Reader: No residues given\r\n"
       ]
      },
      {
       "output_type": "stream",
       "stream": "stdout",
       "text": [
        "Warning: lcl|Query_2887 EMSPUT00000009857 cds:pseudogene supercontig:GCA_000002235.2:Scaffold168:532948:533020:1 gene:EMSPUG00000009857 transcript:EMSPUT00000009857 description:\"tRNA-Met for anticodon CAU\": Warning: Sequence contains no data \r\n",
        "Warning: lcl|Query_2892 EMSPUT00000003016 cds:pseudogene supercontig:GCA_000002235.2:Scaffold168:608687:608759:1 gene:EMSPUG00000003016 transcript:EMSPUT00000003016 description:\"tRNA-Met for anticodon CAU\": Warning: Sequence contains no data \r\n",
        "Error: (1431.1) FASTA-Reader: Warning: FASTA-Reader: No residues given\r\n",
        "Error: (1431.1) FASTA-Reader: Warning: FASTA-Reader: No residues given\r\n"
       ]
      },
      {
       "output_type": "stream",
       "stream": "stdout",
       "text": [
        "Warning: lcl|Query_2896 EMSPUT00000003477 cds:pseudogene supercontig:GCA_000002235.2:Scaffold3471:63652:63726:1 gene:EMSPUG00000003477 transcript:EMSPUT00000003477 description:\"tRNA-Cys for anticodon GCA\": Warning: Sequence contains no data \r\n",
        "Warning: lcl|Query_2904 SPU_030105-tr cds:pseudogene supercontig:GCA_000002235.2:Scaffold607:206434:207628:-1 gene:SPU_030105 transcript:SPU_030105-tr: Warning: Sequence contains no data \r\n"
       ]
      },
      {
       "output_type": "stream",
       "stream": "stdout",
       "text": [
        "Error: (1431.1) FASTA-Reader: Warning: FASTA-Reader: No residues given\r\n"
       ]
      },
      {
       "output_type": "stream",
       "stream": "stdout",
       "text": [
        "Warning: lcl|Query_2957 EMSPUT00000009323 cds:pseudogene supercontig:GCA_000002235.2:Scaffold1321:52372:52444:1 gene:EMSPUG00000009323 transcript:EMSPUT00000009323 description:\"tRNA-Met for anticodon CAU\": Warning: Sequence contains no data \r\n",
        "Error: (1431.1) FASTA-Reader: Warning: FASTA-Reader: No residues given\r\n"
       ]
      },
      {
       "output_type": "stream",
       "stream": "stdout",
       "text": [
        "Warning: lcl|Query_2961 EMSPUT00000012104 cds:pseudogene supercontig:GCA_000002235.2:Scaffold1321:203472:203545:-1 gene:EMSPUG00000012104 transcript:EMSPUT00000012104 description:\"Mammalian CPEB3 ribozyme\": Warning: Sequence contains no data \r\n"
       ]
      },
      {
       "output_type": "stream",
       "stream": "stdout",
       "text": [
        "Error: (1431.1) FASTA-Reader: Warning: FASTA-Reader: No residues given\r\n"
       ]
      },
      {
       "output_type": "stream",
       "stream": "stdout",
       "text": [
        "Warning: lcl|Query_2996 EMSPUT00000007323 cds:pseudogene supercontig:GCA_000002235.2:Scaffold3236:40040:40116:-1 gene:EMSPUG00000007323 transcript:EMSPUT00000007323 description:\"tRNA-Glu for anticodon CUC\": Warning: Sequence contains no data \r\n",
        "Error: (1431.1) FASTA-Reader: Warning: FASTA-Reader: No residues given\r\n"
       ]
      },
      {
       "output_type": "stream",
       "stream": "stdout",
       "text": [
        "Warning: lcl|Query_3012 EMSPUT00000006421 cds:pseudogene supercontig:GCA_000002235.2:Scaffold487:298264:298335:-1 gene:EMSPUG00000006421 transcript:EMSPUT00000006421 description:\"tRNA-Met for anticodon CAU\": Warning: Sequence contains no data \r\n",
        "Error: (1431.1) FASTA-Reader: Warning: FASTA-Reader: No residues given\r\n"
       ]
      },
      {
       "output_type": "stream",
       "stream": "stdout",
       "text": [
        "Warning: lcl|Query_3036 SPU_016736-tr cds:pseudogene supercontig:GCA_000002235.2:Scaffold222:85416:169764:-1 gene:SPU_016736 transcript:SPU_016736-tr: Warning: Sequence contains no data \r\n",
        "Error: (1431.1) FASTA-Reader: Warning: FASTA-Reader: No residues given\r\n",
        "Error: (1431.1) FASTA-Reader: Warning: FASTA-Reader: No residues given\r\n"
       ]
      },
      {
       "output_type": "stream",
       "stream": "stdout",
       "text": [
        "Warning: lcl|Query_3046 EMSPUT00000003037 cds:pseudogene supercontig:GCA_000002235.2:Scaffold222:268306:268380:-1 gene:EMSPUG00000003037 transcript:EMSPUT00000003037 description:\"tRNA-Cys for anticodon GCA\": Warning: Sequence contains no data \r\n",
        "Warning: lcl|Query_3049 EMSPUT00000007102 cds:pseudogene supercontig:GCA_000002235.2:Scaffold222:325790:325863:-1 gene:EMSPUG00000007102 transcript:EMSPUT00000007102 description:\"Mammalian CPEB3 ribozyme\": Warning: Sequence contains no data \r\n"
       ]
      },
      {
       "output_type": "stream",
       "stream": "stdout",
       "text": [
        "Error: (1431.1) FASTA-Reader: Warning: FASTA-Reader: No residues given\r\n"
       ]
      },
      {
       "output_type": "stream",
       "stream": "stdout",
       "text": [
        "Warning: lcl|Query_3077 EMSPUT00000006474 cds:pseudogene supercontig:GCA_000002235.2:Scaffold2141:84028:84099:1 gene:EMSPUG00000006474 transcript:EMSPUT00000006474 description:\"tRNA-Pro for anticodon GGG\": Warning: Sequence contains no data \r\n"
       ]
      },
      {
       "output_type": "stream",
       "stream": "stdout",
       "text": [
        "Error: (1431.1) FASTA-Reader: Warning: FASTA-Reader: No residues given\r\n"
       ]
      },
      {
       "output_type": "stream",
       "stream": "stdout",
       "text": [
        "Warning: lcl|Query_3110 EMSPUT00000004822 cds:pseudogene supercontig:GCA_000002235.2:Scaffold993:319646:319717:-1 gene:EMSPUG00000004822 transcript:EMSPUT00000004822 description:\"tRNA-Asp for anticodon GUC\": Warning: Sequence contains no data \r\n"
       ]
      },
      {
       "output_type": "stream",
       "stream": "stdout",
       "text": [
        "Error: (1431.1) FASTA-Reader: Warning: FASTA-Reader: No residues given\r\n",
        "Error: (1431.1) FASTA-Reader: Warning: FASTA-Reader: No residues given\r\n",
        "Error: (1431.1) FASTA-Reader: Warning: FASTA-Reader: No residues given\r\n",
        "Error: (1431.1) FASTA-Reader: Warning: FASTA-Reader: No residues given\r\n"
       ]
      },
      {
       "output_type": "stream",
       "stream": "stdout",
       "text": [
        "Warning: lcl|Query_3169 EMSPUT00000007647 cds:pseudogene supercontig:GCA_000002235.2:Scaffold787:25397:25471:-1 gene:EMSPUG00000007647 transcript:EMSPUT00000007647 description:\"tRNA-Ser for anticodon CGA\": Warning: Sequence contains no data \r\n",
        "Warning: lcl|Query_3177 EMSPUT00000000773 cds:pseudogene supercontig:GCA_000002235.2:Scaffold787:155654:155728:1 gene:EMSPUG00000000773 transcript:EMSPUT00000000773 description:\"tRNA-Asp for anticodon GUC\": Warning: Sequence contains no data \r\n",
        "Warning: lcl|Query_3181 EMSPUT00000001491 cds:pseudogene supercontig:GCA_000002235.2:Scaffold787:238473:238545:-1 gene:EMSPUG00000001491 transcript:EMSPUT00000001491 description:\"tRNA-Met for anticodon CAU\": Warning: Sequence contains no data \r\n",
        "Warning: lcl|Query_3185 EMSPUT00000014333 cds:pseudogene supercontig:GCA_000002235.2:Scaffold1978:6079:6143:1 gene:EMSPUG00000014333 transcript:EMSPUT00000014333 description:\"tRNA-Val for anticodon CAC\": Warning: Sequence contains no data \r\n"
       ]
      },
      {
       "output_type": "stream",
       "stream": "stdout",
       "text": [
        "Error: (1431.1) FASTA-Reader: Warning: FASTA-Reader: No residues given\r\n",
        "Error: (1431.1) FASTA-Reader: Warning: FASTA-Reader: No residues given\r\n",
        "Error: (1431.1) FASTA-Reader: Warning: FASTA-Reader: No residues given\r\n",
        "Error: (1431.1) FASTA-Reader: Warning: FASTA-Reader: No residues given\r\n"
       ]
      },
      {
       "output_type": "stream",
       "stream": "stdout",
       "text": [
        "Warning: lcl|Query_3229 EMSPUT00000011872 cds:pseudogene supercontig:GCA_000002235.2:Scaffold4279:6582:6655:1 gene:EMSPUG00000011872 transcript:EMSPUT00000011872 description:\"tRNA-Ala for anticodon GGC\": Warning: Sequence contains no data \r\n",
        "Warning: lcl|Query_3231 SPU_023491-tr cds:pseudogene supercontig:GCA_000002235.2:Scaffold619:31014:32185:1 gene:SPU_023491 transcript:SPU_023491-tr: Warning: Sequence contains no data \r\n",
        "Warning: lcl|Query_3232 SPU_030110-tr cds:pseudogene supercontig:GCA_000002235.2:Scaffold619:31396:32046:1 gene:SPU_030110 transcript:SPU_030110-tr: Warning: Sequence contains no data \r\n",
        "Warning: lcl|Query_3233 SPU_009459-tr cds:pseudogene supercontig:GCA_000002235.2:Scaffold619:31690:32185:1 gene:SPU_009459 transcript:SPU_009459-tr: Warning: Sequence contains no data \r\n"
       ]
      },
      {
       "output_type": "stream",
       "stream": "stdout",
       "text": [
        "Error: (1431.1) FASTA-Reader: Warning: FASTA-Reader: No residues given\r\n",
        "Error: (1431.1) FASTA-Reader: Warning: FASTA-Reader: No residues given\r\n"
       ]
      },
      {
       "output_type": "stream",
       "stream": "stdout",
       "text": [
        "Warning: lcl|Query_3273 EMSPUT00000001551 cds:pseudogene supercontig:GCA_000002235.2:Scaffold23016:795:867:1 gene:EMSPUG00000001551 transcript:EMSPUT00000001551 description:\"tRNA-Met for anticodon CAU\": Warning: Sequence contains no data \r\n",
        "Warning: lcl|Query_3274 EMSPUT00000002468 cds:pseudogene supercontig:GCA_000002235.2:Scaffold4438:2352:2423:1 gene:EMSPUG00000002468 transcript:EMSPUT00000002468 description:\"tRNA-Gly for anticodon UCC\": Warning: Sequence contains no data \r\n"
       ]
      },
      {
       "output_type": "stream",
       "stream": "stdout",
       "text": [
        "Error: (1431.1) FASTA-Reader: Warning: FASTA-Reader: No residues given\r\n"
       ]
      },
      {
       "output_type": "stream",
       "stream": "stdout",
       "text": [
        "Warning: lcl|Query_3293 EMSPUT00000014355 cds:pseudogene supercontig:GCA_000002235.2:Scaffold1771:88610:88684:-1 gene:EMSPUG00000014355 transcript:EMSPUT00000014355 description:\"tRNA-Ala for anticodon GGC\": Warning: Sequence contains no data \r\n",
        "Error: (1431.1) FASTA-Reader: Warning: FASTA-Reader: No residues given\r\n",
        "Error: (1431.1) FASTA-Reader: Warning: FASTA-Reader: No residues given\r\n"
       ]
      },
      {
       "output_type": "stream",
       "stream": "stdout",
       "text": [
        "Warning: lcl|Query_3323 EMSPUT00000003011 cds:pseudogene supercontig:GCA_000002235.2:Scaffold1014:132640:132712:1 gene:EMSPUG00000003011 transcript:EMSPUT00000003011 description:\"tRNA-Met for anticodon CAU\": Warning: Sequence contains no data \r\n",
        "Warning: lcl|Query_3329 EMSPUT00000010106 cds:pseudogene supercontig:GCA_000002235.2:Scaffold92:19128:19200:-1 gene:EMSPUG00000010106 transcript:EMSPUT00000010106 description:\"tRNA-Ala for anticodon GGC\": Warning: Sequence contains no data \r\n"
       ]
      },
      {
       "output_type": "stream",
       "stream": "stdout",
       "text": [
        "Error: (1431.1) FASTA-Reader: Warning: FASTA-Reader: No residues given\r\n",
        "Error: (1431.1) FASTA-Reader: Warning: FASTA-Reader: No residues given\r\n",
        "Error: (1431.1) FASTA-Reader: Warning: FASTA-Reader: No residues given\r\n",
        "Error: (1431.1) FASTA-Reader: Warning: FASTA-Reader: No residues given\r\n",
        "Error: (1431.1) FASTA-Reader: Warning: FASTA-Reader: No residues given\r\n",
        "Error: (1431.1) FASTA-Reader: Warning: FASTA-Reader: No residues given\r\n",
        "Error: (1431.1) FASTA-Reader: Warning: FASTA-Reader: No residues given\r\n"
       ]
      },
      {
       "output_type": "stream",
       "stream": "stdout",
       "text": [
        "Warning: lcl|Query_3381 EMSPUT00000010171 cds:pseudogene supercontig:GCA_000002235.2:Scaffold1326:78471:78542:-1 gene:EMSPUG00000010171 transcript:EMSPUT00000010171 description:\"tRNA-Thr for anticodon CGU\": Warning: Sequence contains no data \r\n"
       ]
      },
      {
       "output_type": "stream",
       "stream": "stdout",
       "text": [
        "Warning: lcl|Query_3382 EMSPUT00000002627 cds:pseudogene supercontig:GCA_000002235.2:Scaffold1326:78627:78698:-1 gene:EMSPUG00000002627 transcript:EMSPUT00000002627 description:\"tRNA-Thr for anticodon CGU\": Warning: Sequence contains no data \r\n",
        "Warning: lcl|Query_3383 EMSPUT00000013201 cds:pseudogene supercontig:GCA_000002235.2:Scaffold1326:78780:78851:-1 gene:EMSPUG00000013201 transcript:EMSPUT00000013201 description:\"tRNA-Thr for anticodon CGU\": Warning: Sequence contains no data \r\n",
        "Warning: lcl|Query_3384 EMSPUT00000004241 cds:pseudogene supercontig:GCA_000002235.2:Scaffold1326:78932:79003:-1 gene:EMSPUG00000004241 transcript:EMSPUT00000004241 description:\"tRNA-Thr for anticodon CGU\": Warning: Sequence contains no data \r\n",
        "Warning: lcl|Query_3385 EMSPUT00000015004 cds:pseudogene supercontig:GCA_000002235.2:Scaffold1326:79085:79156:-1 gene:EMSPUG00000015004 transcript:EMSPUT00000015004 description:\"tRNA-Thr for anticodon CGU\": Warning: Sequence contains no data \r\n",
        "Warning: lcl|Query_3386 EMSPUT00000005945 cds:pseudogene supercontig:GCA_000002235.2:Scaffold1326:79391:79462:-1 gene:EMSPUG00000005945 transcript:EMSPUT00000005945 description:\"tRNA-Thr for anticodon CGU\": Warning: Sequence contains no data \r\n",
        "Warning: lcl|Query_3387 EMSPUT00000009461 cds:pseudogene supercontig:GCA_000002235.2:Scaffold1326:79547:79618:-1 gene:EMSPUG00000009461 transcript:EMSPUT00000009461 description:\"tRNA-Thr for anticodon CGU\": Warning: Sequence contains no data \r\n"
       ]
      },
      {
       "output_type": "stream",
       "stream": "stdout",
       "text": [
        "Error: (1431.1) FASTA-Reader: Warning: FASTA-Reader: No residues given\r\n"
       ]
      },
      {
       "output_type": "stream",
       "stream": "stdout",
       "text": [
        "Warning: lcl|Query_3412 EMSPUT00000001107 cds:pseudogene supercontig:GCA_000002235.2:Scaffold206:256606:256678:-1 gene:EMSPUG00000001107 transcript:EMSPUT00000001107 description:\"tRNA-Met for anticodon CAU\": Warning: Sequence contains no data \r\n",
        "Error: (1431.1) FASTA-Reader: Warning: FASTA-Reader: No residues given\r\n"
       ]
      },
      {
       "output_type": "stream",
       "stream": "stdout",
       "text": [
        "Warning: lcl|Query_3435 EMSPUT00000003339 cds:pseudogene supercontig:GCA_000002235.2:Scaffold344:103772:103843:1 gene:EMSPUG00000003339 transcript:EMSPUT00000003339 description:\"tRNA-Glu for anticodon CUC\": Warning: Sequence contains no data \r\n"
       ]
      },
      {
       "output_type": "stream",
       "stream": "stdout",
       "text": [
        "Error: (1431.1) FASTA-Reader: Warning: FASTA-Reader: No residues given\r\n"
       ]
      },
      {
       "output_type": "stream",
       "stream": "stdout",
       "text": [
        "Warning: lcl|Query_3473 EMSPUT00000004289 cds:pseudogene supercontig:GCA_000002235.2:Scaffold968:227360:227427:1 gene:EMSPUG00000004289 transcript:EMSPUT00000004289 description:\"tRNA-Phe for anticodon GAA\": Warning: Sequence contains no data \r\n",
        "Error: (1431.1) FASTA-Reader: Warning: FASTA-Reader: No residues given\r\n",
        "Error: (1431.1) FASTA-Reader: Warning: FASTA-Reader: No residues given\r\n"
       ]
      },
      {
       "output_type": "stream",
       "stream": "stdout",
       "text": [
        "Warning: lcl|Query_3477 EMSPUT00000006975 cds:pseudogene supercontig:GCA_000002235.2:Scaffold1899:62643:62715:-1 gene:EMSPUG00000006975 transcript:EMSPUT00000006975 description:\"tRNA-Met for anticodon CAU\": Warning: Sequence contains no data \r\n",
        "Warning: lcl|Query_3478 EMSPUT00000013969 cds:pseudogene supercontig:GCA_000002235.2:Scaffold1899:63299:63371:-1 gene:EMSPUG00000013969 transcript:EMSPUT00000013969 description:\"tRNA-Met for anticodon CAU\": Warning: Sequence contains no data \r\n",
        "Error: (1431.1) FASTA-Reader: Warning: FASTA-Reader: No residues given\r\n",
        "Error: (1431.1) FASTA-Reader: Warning: FASTA-Reader: No residues given\r\n",
        "Error: (1431.1) FASTA-Reader: Warning: FASTA-Reader: No residues given\r\n",
        "Error: (1431.1) FASTA-Reader: Warning: FASTA-Reader: No residues given\r\n",
        "Error: (1431.1) FASTA-Reader: Warning: FASTA-Reader: No residues given\r\n",
        "Error: (1431.1) FASTA-Reader: Warning: FASTA-Reader: No residues given\r\n",
        "Error: (1431.1) FASTA-Reader: Warning: FASTA-Reader: No residues given\r\n",
        "Error: (1431.1) FASTA-Reader: Warning: FASTA-Reader: No residues given\r\n"
       ]
      },
      {
       "output_type": "stream",
       "stream": "stdout",
       "text": [
        "Warning: lcl|Query_3488 EMSPUT00000009186 cds:pseudogene supercontig:GCA_000002235.2:Scaffold682:265352:265423:1 gene:EMSPUG00000009186 transcript:EMSPUT00000009186 description:\"tRNA-Pro for anticodon CGG\": Warning: Sequence contains no data \r\n",
        "Warning: lcl|Query_3489 EMSPUT00000010678 cds:pseudogene supercontig:GCA_000002235.2:Scaffold682:266397:266468:-1 gene:EMSPUG00000010678 transcript:EMSPUT00000010678 description:\"tRNA-Pro for anticodon UGG\": Warning: Sequence contains no data \r\n",
        "Warning: lcl|Query_3490 EMSPUT00000000892 cds:pseudogene supercontig:GCA_000002235.2:Scaffold682:267508:267579:1 gene:EMSPUG00000000892 transcript:EMSPUT00000000892 description:\"tRNA-Pro for anticodon AGG\": Warning: Sequence contains no data \r\n",
        "Warning: lcl|Query_3491 EMSPUT00000010964 cds:pseudogene supercontig:GCA_000002235.2:Scaffold682:267834:267904:1 gene:EMSPUG00000010964 transcript:EMSPUT00000010964 description:\"tRNA-Pro for anticodon AGG\": Warning: Sequence contains no data \r\n",
        "Warning: lcl|Query_3492 EMSPUT00000002633 cds:pseudogene supercontig:GCA_000002235.2:Scaffold682:268165:268236:1 gene:EMSPUG00000002633 transcript:EMSPUT00000002633 description:\"tRNA-Pro for anticodon AGG\": Warning: Sequence contains no data \r\n",
        "Warning: lcl|Query_3493 EMSPUT00000013566 cds:pseudogene supercontig:GCA_000002235.2:Scaffold682:268492:268563:1 gene:EMSPUG00000013566 transcript:EMSPUT00000013566 description:\"tRNA-Pro for anticodon AGG\": Warning: Sequence contains no data \r\n",
        "Warning: lcl|Query_3494 EMSPUT00000005291 cds:pseudogene supercontig:GCA_000002235.2:Scaffold682:268827:268898:1 gene:EMSPUG00000005291 transcript:EMSPUT00000005291 description:\"tRNA-Pro for anticodon AGG\": Warning: Sequence contains no data \r\n",
        "Warning: lcl|Query_3495 EMSPUT00000008014 cds:pseudogene supercontig:GCA_000002235.2:Scaffold682:269141:269212:1 gene:EMSPUG00000008014 transcript:EMSPUT00000008014 description:\"tRNA-Pro for anticodon AGG\": Warning: Sequence contains no data \r\n",
        "Error: (1431.1) FASTA-Reader: Warning: FASTA-Reader: No residues given\r\n"
       ]
      },
      {
       "output_type": "stream",
       "stream": "stdout",
       "text": [
        "Warning: lcl|Query_3517 EMSPUT00000011882 cds:pseudogene supercontig:GCA_000002235.2:Scaffold504:124695:124767:1 gene:EMSPUG00000011882 transcript:EMSPUT00000011882 description:\"tRNA-Leu for anticodon CAA\": Warning: Sequence contains no data \r\n"
       ]
      },
      {
       "output_type": "stream",
       "stream": "stdout",
       "text": [
        "Error: (1431.1) FASTA-Reader: Warning: FASTA-Reader: No residues given\r\n"
       ]
      },
      {
       "output_type": "stream",
       "stream": "stdout",
       "text": [
        "Warning: lcl|Query_3558 EMSPUT00000012612 cds:pseudogene supercontig:GCA_000002235.2:Scaffold1081:34845:34919:-1 gene:EMSPUG00000012612 transcript:EMSPUT00000012612 description:\"tRNA-Glu for anticodon CUC\": Warning: Sequence contains no data \r\n",
        "Error: (1431.1) FASTA-Reader: Warning: FASTA-Reader: No residues given\r\n",
        "Error: (1431.1) FASTA-Reader: Warning: FASTA-Reader: No residues given\r\n"
       ]
      },
      {
       "output_type": "stream",
       "stream": "stdout",
       "text": [
        "Warning: lcl|Query_3571 EMSPUT00000010021 cds:pseudogene supercontig:GCA_000002235.2:Scaffold1081:257123:257195:-1 gene:EMSPUG00000010021 transcript:EMSPUT00000010021 description:\"tRNA-Met for anticodon CAU\": Warning: Sequence contains no data \r\n",
        "Warning: lcl|Query_3574 EMSPUT00000011859 cds:pseudogene supercontig:GCA_000002235.2:Scaffold1081:290747:290822:1 gene:EMSPUG00000011859 transcript:EMSPUT00000011859 description:\"tRNA-Ala for anticodon GGC\": Warning: Sequence contains no data \r\n",
        "Error: (1431.1) FASTA-Reader: Warning: FASTA-Reader: No residues given\r\n",
        "Error: (1431.1) FASTA-Reader: Warning: FASTA-Reader: No residues given\r\n"
       ]
      },
      {
       "output_type": "stream",
       "stream": "stdout",
       "text": [
        "Warning: lcl|Query_3587 EMSPUT00000000052 cds:pseudogene supercontig:GCA_000002235.2:Scaffold294:247693:247765:-1 gene:EMSPUG00000000052 transcript:EMSPUT00000000052 description:\"tRNA-Ala for anticodon GGC\": Warning: Sequence contains no data \r\n",
        "Warning: lcl|Query_3596 EMSPUT00000010726 cds:pseudogene supercontig:GCA_000002235.2:Scaffold294:433176:433248:-1 gene:EMSPUG00000010726 transcript:EMSPUT00000010726 description:\"tRNA-Met for anticodon CAU\": Warning: Sequence contains no data \r\n",
        "Error: (1431.1) FASTA-Reader: Warning: FASTA-Reader: No residues given\r\n",
        "Error: (1431.1) FASTA-Reader: Warning: FASTA-Reader: No residues given\r\n",
        "Error: (1431.1) FASTA-Reader: Warning: FASTA-Reader: No residues given\r\n",
        "Error: (1431.1) FASTA-Reader: Warning: FASTA-Reader: No residues given\r\n",
        "Error: (1431.1) FASTA-Reader: Warning: FASTA-Reader: No residues given\r\n",
        "Error: (1431.1) FASTA-Reader: Warning: FASTA-Reader: No residues given\r\n",
        "Error: (1431.1) FASTA-Reader: Warning: FASTA-Reader: No residues given\r\n",
        "Error: (1431.1) FASTA-Reader: Warning: FASTA-Reader: No residues given\r\n",
        "Error: (1431.1) FASTA-Reader: Warning: FASTA-Reader: No residues given\r\n",
        "Error: (1431.1) FASTA-Reader: Warning: FASTA-Reader: No residues given\r\n",
        "Error: (1431.1) FASTA-Reader: Warning: FASTA-Reader: No residues given\r\n",
        "Error: (1431.1) FASTA-Reader: Warning: FASTA-Reader: No residues given\r\n",
        "Error: (1431.1) FASTA-Reader: Warning: FASTA-Reader: No residues given\r\n"
       ]
      },
      {
       "output_type": "stream",
       "stream": "stdout",
       "text": [
        "Warning: lcl|Query_3602 EMSPUT00000006528 cds:pseudogene supercontig:GCA_000002235.2:Scaffold2566:55843:55916:1 gene:EMSPUG00000006528 transcript:EMSPUT00000006528 description:\"tRNA-Asn for anticodon GUU\": Warning: Sequence contains no data \r\n"
       ]
      },
      {
       "output_type": "stream",
       "stream": "stdout",
       "text": [
        "Warning: lcl|Query_3603 EMSPUT00000015246 cds:pseudogene supercontig:GCA_000002235.2:Scaffold2566:56309:56380:1 gene:EMSPUG00000015246 transcript:EMSPUT00000015246 description:\"tRNA-Gly for anticodon UCC\": Warning: Sequence contains no data \r\n",
        "Warning: lcl|Query_3604 EMSPUT00000004164 cds:pseudogene supercontig:GCA_000002235.2:Scaffold2566:56635:56706:1 gene:EMSPUG00000004164 transcript:EMSPUT00000004164 description:\"tRNA-Gly for anticodon UCC\": Warning: Sequence contains no data \r\n",
        "Warning: lcl|Query_3605 EMSPUT00000012915 cds:pseudogene supercontig:GCA_000002235.2:Scaffold2566:57000:57073:1 gene:EMSPUG00000012915 transcript:EMSPUT00000012915 description:\"tRNA-Asn for anticodon GUU\": Warning: Sequence contains no data \r\n",
        "Warning: lcl|Query_3606 EMSPUT00000004132 cds:pseudogene supercontig:GCA_000002235.2:Scaffold2566:57470:57541:1 gene:EMSPUG00000004132 transcript:EMSPUT00000004132 description:\"tRNA-Glu for anticodon UUC\": Warning: Sequence contains no data \r\n",
        "Warning: lcl|Query_3607 EMSPUT00000012873 cds:pseudogene supercontig:GCA_000002235.2:Scaffold2566:57824:57897:1 gene:EMSPUG00000012873 transcript:EMSPUT00000012873 description:\"tRNA-Asn for anticodon GUU\": Warning: Sequence contains no data \r\n",
        "Warning: lcl|Query_3608 EMSPUT00000011581 cds:pseudogene supercontig:GCA_000002235.2:Scaffold2566:58291:58363:1 gene:EMSPUG00000011581 transcript:EMSPUT00000011581 description:\"tRNA-Gly for anticodon UCC\": Warning: Sequence contains no data \r\n",
        "Warning: lcl|Query_3609 EMSPUT00000000655 cds:pseudogene supercontig:GCA_000002235.2:Scaffold2566:58654:58727:1 gene:EMSPUG00000000655 transcript:EMSPUT00000000655 description:\"tRNA-Asn for anticodon GUU\": Warning: Sequence contains no data \r\n",
        "Warning: lcl|Query_3610 EMSPUT00000009348 cds:pseudogene supercontig:GCA_000002235.2:Scaffold2566:58890:58963:1 gene:EMSPUG00000009348 transcript:EMSPUT00000009348 description:\"tRNA-Asn for anticodon GUU\": Warning: Sequence contains no data \r\n",
        "Warning: lcl|Query_3611 EMSPUT00000010381 cds:pseudogene supercontig:GCA_000002235.2:Scaffold2566:67193:67266:-1 gene:EMSPUG00000010381 transcript:EMSPUT00000010381 description:\"tRNA-Asn for anticodon GUU\": Warning: Sequence contains no data \r\n",
        "Warning: lcl|Query_3612 EMSPUT00000005641 cds:pseudogene supercontig:GCA_000002235.2:Scaffold2566:67659:67732:1 gene:EMSPUG00000005641 transcript:EMSPUT00000005641 description:\"tRNA-Asn for anticodon GUU\": Warning: Sequence contains no data \r\n",
        "Warning: lcl|Query_3613 EMSPUT00000014965 cds:pseudogene supercontig:GCA_000002235.2:Scaffold1072:9171:9243:-1 gene:EMSPUG00000014965 transcript:EMSPUT00000014965 description:\"tRNA-Met for anticodon CAU\": Warning: Sequence contains no data \r\n",
        "Warning: lcl|Query_3616 EMSPUT00000009720 cds:pseudogene supercontig:GCA_000002235.2:Scaffold1072:29818:29891:1 gene:EMSPUG00000009720 transcript:EMSPUT00000009720 description:\"tRNA-Ala for anticodon GGC\": Warning: Sequence contains no data \r\n"
       ]
      },
      {
       "output_type": "stream",
       "stream": "stdout",
       "text": [
        "Error: (1431.1) FASTA-Reader: Warning: FASTA-Reader: No residues given\r\n",
        "Error: (1431.1) FASTA-Reader: Warning: FASTA-Reader: No residues given\r\n"
       ]
      },
      {
       "output_type": "stream",
       "stream": "stdout",
       "text": [
        "Warning: lcl|Query_3670 EMSPUT00000005820 cds:pseudogene supercontig:GCA_000002235.2:Scaffold564:240991:241063:-1 gene:EMSPUG00000005820 transcript:EMSPUT00000005820 description:\"tRNA-Met for anticodon CAU\": Warning: Sequence contains no data \r\n",
        "Warning: lcl|Query_3681 EMSPUT00000001870 cds:pseudogene supercontig:GCA_000002235.2:Scaffold349:49153:49225:1 gene:EMSPUG00000001870 transcript:EMSPUT00000001870 description:\"tRNA-Ala for anticodon GGC\": Warning: Sequence contains no data \r\n",
        "Error: (1431.1) FASTA-Reader: Warning: FASTA-Reader: No residues given\r\n",
        "Error: (1431.1) FASTA-Reader: Warning: FASTA-Reader: No residues given\r\n",
        "Error: (1431.1) FASTA-Reader: Warning: FASTA-Reader: No residues given\r\n"
       ]
      },
      {
       "output_type": "stream",
       "stream": "stdout",
       "text": [
        "Warning: lcl|Query_3693 EMSPUT00000003178 cds:pseudogene supercontig:GCA_000002235.2:Scaffold349:336297:336401:1 gene:EMSPUG00000003178 transcript:EMSPUT00000003178 description:\"MicF RNA\": Warning: Sequence contains no data \r\n",
        "Warning: lcl|Query_3703 EMSPUT00000004942 cds:pseudogene supercontig:GCA_000002235.2:Scaffold963:9505:9578:-1 gene:EMSPUG00000004942 transcript:EMSPUT00000004942 description:\"tRNA-Ala for anticodon GGC\": Warning: Sequence contains no data \r\n",
        "Warning: lcl|Query_3711 EMSPUT00000001826 cds:pseudogene supercontig:GCA_000002235.2:Scaffold963:164223:164298:-1 gene:EMSPUG00000001826 transcript:EMSPUT00000001826 description:\"tRNA-Tyr for anticodon GUA\": Warning: Sequence contains no data \r\n",
        "Error: (1431.1) FASTA-Reader: Warning: FASTA-Reader: No residues given\r\n"
       ]
      },
      {
       "output_type": "stream",
       "stream": "stdout",
       "text": [
        "Warning: lcl|Query_3717 EMSPUT00000001054 cds:pseudogene supercontig:GCA_000002235.2:Scaffold3128:13699:13771:1 gene:EMSPUG00000001054 transcript:EMSPUT00000001054 description:\"tRNA-Val for anticodon UAC\": Warning: Sequence contains no data \r\n"
       ]
      },
      {
       "output_type": "stream",
       "stream": "stdout",
       "text": [
        "Error: (1431.1) FASTA-Reader: Warning: FASTA-Reader: No residues given\r\n"
       ]
      },
      {
       "output_type": "stream",
       "stream": "stdout",
       "text": [
        "Warning: lcl|Query_3775 EMSPUT00000012312 cds:pseudogene supercontig:GCA_000002235.2:Scaffold809:148008:148080:-1 gene:EMSPUG00000012312 transcript:EMSPUT00000012312 description:\"tRNA-Met for anticodon CAU\": Warning: Sequence contains no data \r\n",
        "Error: (1431.1) FASTA-Reader: Warning: FASTA-Reader: No residues given\r\n",
        "Error: (1431.1) FASTA-Reader: Warning: FASTA-Reader: No residues given\r\n",
        "Error: (1431.1) FASTA-Reader: Warning: FASTA-Reader: No residues given\r\n",
        "Error: (1431.1) FASTA-Reader: Warning: FASTA-Reader: No residues given\r\n",
        "Error: (1431.1) FASTA-Reader: Warning: FASTA-Reader: No residues given\r\n"
       ]
      },
      {
       "output_type": "stream",
       "stream": "stdout",
       "text": [
        "Warning: lcl|Query_3779 EMSPUT00000002438 cds:pseudogene supercontig:GCA_000002235.2:Scaffold2502:51587:51660:-1 gene:EMSPUG00000002438 transcript:EMSPUT00000002438 description:\"Mammalian CPEB3 ribozyme\": Warning: Sequence contains no data \r\n",
        "Warning: lcl|Query_3789 EMSPUT00000008383 cds:pseudogene supercontig:GCA_000002235.2:Scaffold1517:251662:251734:1 gene:EMSPUG00000008383 transcript:EMSPUT00000008383 description:\"tRNA-Leu for anticodon CAA\": Warning: Sequence contains no data \r\n",
        "Warning: lcl|Query_3792 EMSPUT00000013902 cds:pseudogene supercontig:GCA_000002235.2:Scaffold1517:305264:305336:1 gene:EMSPUG00000013902 transcript:EMSPUT00000013902 description:\"tRNA-Lys for anticodon UUU\": Warning: Sequence contains no data \r\n",
        "Warning: lcl|Query_3797 EMSPUT00000005386 cds:pseudogene supercontig:GCA_000002235.2:Scaffold1517:321204:321276:1 gene:EMSPUG00000005386 transcript:EMSPUT00000005386 description:\"tRNA-Lys for anticodon UUU\": Warning: Sequence contains no data \r\n",
        "Warning: lcl|Query_3798 EMSPUT00000013479 cds:pseudogene supercontig:GCA_000002235.2:Scaffold1517:354463:354535:-1 gene:EMSPUG00000013479 transcript:EMSPUT00000013479 description:\"tRNA-Lys for anticodon UUU\": Warning: Sequence contains no data \r\n",
        "Error: (1431.1) FASTA-Reader: Warning: FASTA-Reader: No residues given\r\n"
       ]
      },
      {
       "output_type": "stream",
       "stream": "stdout",
       "text": [
        "Warning: lcl|Query_3807 EMSPUT00000006598 cds:pseudogene supercontig:GCA_000002235.2:Scaffold1374:158402:158474:1 gene:EMSPUG00000006598 transcript:EMSPUT00000006598 description:\"tRNA-Val for anticodon CAC\": Warning: Sequence contains no data \r\n"
       ]
      },
      {
       "output_type": "stream",
       "stream": "stdout",
       "text": [
        "Error: (1431.1) FASTA-Reader: Warning: FASTA-Reader: No residues given\r\n"
       ]
      },
      {
       "output_type": "stream",
       "stream": "stdout",
       "text": [
        "Warning: lcl|Query_3916 EMSPUT00000007432 cds:pseudogene supercontig:GCA_000002235.2:Scaffold246:543066:543133:-1 gene:EMSPUG00000007432 transcript:EMSPUT00000007432 description:\"tRNA-Arg for anticodon CCU\": Warning: Sequence contains no data \r\n"
       ]
      },
      {
       "output_type": "stream",
       "stream": "stdout",
       "text": [
        "Error: (1431.1) FASTA-Reader: Warning: FASTA-Reader: No residues given\r\n"
       ]
      },
      {
       "output_type": "stream",
       "stream": "stdout",
       "text": [
        "Warning: lcl|Query_3938 EMSPUT00000006595 cds:pseudogene supercontig:GCA_000002235.2:Scaffold11:329362:329432:1 gene:EMSPUG00000006595 transcript:EMSPUT00000006595 description:\"tRNA-Gly for anticodon GCC\": Warning: Sequence contains no data \r\n",
        "Error: (1431.1) FASTA-Reader: Warning: FASTA-Reader: No residues given\r\n"
       ]
      },
      {
       "output_type": "stream",
       "stream": "stdout",
       "text": [
        "Warning: lcl|Query_3962 EMSPUT00000003981 cds:pseudogene supercontig:GCA_000002235.2:Scaffold11:1064173:1064250:-1 gene:EMSPUG00000003981 transcript:EMSPUT00000003981 description:\"tRNA-Undet for anticodon \\x3f\\x3f\\x3f\": Warning: Sequence contains no data \r\n",
        "Error: (1431.1) FASTA-Reader: Warning: FASTA-Reader: No residues given\r\n",
        "Error: (1431.1) FASTA-Reader: Warning: FASTA-Reader: No residues given\r\n",
        "Error: (1431.1) FASTA-Reader: Warning: FASTA-Reader: No residues given\r\n"
       ]
      },
      {
       "output_type": "stream",
       "stream": "stdout",
       "text": [
        "Warning: lcl|Query_3967 EMSPUT00000011035 cds:pseudogene supercontig:GCA_000002235.2:Scaffold11:1234723:1234794:1 gene:EMSPUG00000011035 transcript:EMSPUT00000011035 description:\"tRNA-Ala for anticodon CGC\": Warning: Sequence contains no data \r\n",
        "Warning: lcl|Query_3968 EMSPUT00000011299 cds:pseudogene supercontig:GCA_000002235.2:Scaffold11:1235579:1235650:1 gene:EMSPUG00000011299 transcript:EMSPUT00000011299 description:\"tRNA-Ala for anticodon CGC\": Warning: Sequence contains no data \r\n",
        "Warning: lcl|Query_3970 EMSPUT00000002792 cds:pseudogene supercontig:GCA_000002235.2:Scaffold11:1241077:1241148:-1 gene:EMSPUG00000002792 transcript:EMSPUT00000002792 description:\"tRNA-Ala for anticodon CGC\": Warning: Sequence contains no data \r\n"
       ]
      },
      {
       "output_type": "stream",
       "stream": "stdout",
       "text": [
        "Error: (1431.1) FASTA-Reader: Warning: FASTA-Reader: No residues given\r\n"
       ]
      },
      {
       "output_type": "stream",
       "stream": "stdout",
       "text": [
        "Warning: lcl|Query_4013 EMSPUT00000008192 cds:pseudogene supercontig:GCA_000002235.2:Scaffold85:562643:562718:-1 gene:EMSPUG00000008192 transcript:EMSPUT00000008192 description:\"tRNA-Thr for anticodon CGU\": Warning: Sequence contains no data \r\n"
       ]
      },
      {
       "output_type": "stream",
       "stream": "stdout",
       "text": [
        "Error: (1431.1) FASTA-Reader: Warning: FASTA-Reader: No residues given\r\n",
        "Error: (1431.1) FASTA-Reader: Warning: FASTA-Reader: No residues given\r\n"
       ]
      },
      {
       "output_type": "stream",
       "stream": "stdout",
       "text": [
        "Warning: lcl|Query_4030 EMSPUT00000013986 cds:pseudogene supercontig:GCA_000002235.2:Scaffold1355:185726:185798:1 gene:EMSPUG00000013986 transcript:EMSPUT00000013986 description:\"tRNA-Ala for anticodon GGC\": Warning: Sequence contains no data \r\n",
        "Warning: lcl|Query_4043 EMSPUT00000000386 cds:pseudogene supercontig:GCA_000002235.2:Scaffold375:366807:366879:1 gene:EMSPUG00000000386 transcript:EMSPUT00000000386 description:\"tRNA-Met for anticodon CAU\": Warning: Sequence contains no data \r\n"
       ]
      },
      {
       "output_type": "stream",
       "stream": "stdout",
       "text": [
        "Error: (1431.1) FASTA-Reader: Warning: FASTA-Reader: No residues given\r\n",
        "Error: (1431.1) FASTA-Reader: Warning: FASTA-Reader: No residues given\r\n",
        "Error: (1431.1) FASTA-Reader: Warning: FASTA-Reader: No residues given\r\n"
       ]
      },
      {
       "output_type": "stream",
       "stream": "stdout",
       "text": [
        "Warning: lcl|Query_4081 EMSPUT00000011207 cds:pseudogene supercontig:GCA_000002235.2:Scaffold697:486231:486303:-1 gene:EMSPUG00000011207 transcript:EMSPUT00000011207 description:\"tRNA-Met for anticodon CAU\": Warning: Sequence contains no data \r\n",
        "Warning: lcl|Query_4083 SPU_030051-tr cds:pseudogene supercontig:GCA_000002235.2:Scaffold4848:8395:8506:-1 gene:SPU_030051 transcript:SPU_030051-tr: Warning: Sequence contains no data \r\n",
        "Warning: lcl|Query_4087 SPU_028404-tr cds:pseudogene supercontig:GCA_000002235.2:Scaffold1472:85137:87857:-1 gene:SPU_028404 transcript:SPU_028404-tr: Warning: Sequence contains no data \r\n"
       ]
      },
      {
       "output_type": "stream",
       "stream": "stdout",
       "text": [
        "Error: (1431.1) FASTA-Reader: Warning: FASTA-Reader: No residues given\r\n",
        "Error: (1431.1) FASTA-Reader: Warning: FASTA-Reader: No residues given\r\n",
        "Error: (1431.1) FASTA-Reader: Warning: FASTA-Reader: No residues given\r\n",
        "Error: (1431.1) FASTA-Reader: Warning: FASTA-Reader: No residues given\r\n",
        "Error: (1431.1) FASTA-Reader: Warning: FASTA-Reader: No residues given\r\n",
        "Error: (1431.1) FASTA-Reader: Warning: FASTA-Reader: No residues given\r\n",
        "Error: (1431.1) FASTA-Reader: Warning: FASTA-Reader: No residues given\r\n",
        "Error: (1431.1) FASTA-Reader: Warning: FASTA-Reader: No residues given\r\n"
       ]
      },
      {
       "output_type": "stream",
       "stream": "stdout",
       "text": [
        "Warning: lcl|Query_4131 EMSPUT00000015336 cds:pseudogene supercontig:GCA_000002235.2:Scaffold23:31854:31926:1 gene:EMSPUG00000015336 transcript:EMSPUT00000015336 description:\"tRNA-Met for anticodon CAU\": Warning: Sequence contains no data \r\n",
        "Warning: lcl|Query_4137 EMSPUT00000002334 cds:pseudogene supercontig:GCA_000002235.2:Scaffold23:210575:210646:-1 gene:EMSPUG00000002334 transcript:EMSPUT00000002334 description:\"tRNA-Glu for anticodon UUC\": Warning: Sequence contains no data \r\n",
        "Warning: lcl|Query_4138 EMSPUT00000006949 cds:pseudogene supercontig:GCA_000002235.2:Scaffold23:210908:210979:-1 gene:EMSPUG00000006949 transcript:EMSPUT00000006949 description:\"tRNA-Glu for anticodon UUC\": Warning: Sequence contains no data \r\n",
        "Warning: lcl|Query_4139 EMSPUT00000011978 cds:pseudogene supercontig:GCA_000002235.2:Scaffold23:211320:211391:-1 gene:EMSPUG00000011978 transcript:EMSPUT00000011978 description:\"tRNA-Glu for anticodon UUC\": Warning: Sequence contains no data \r\n",
        "Warning: lcl|Query_4140 EMSPUT00000004770 cds:pseudogene supercontig:GCA_000002235.2:Scaffold23:211898:211969:-1 gene:EMSPUG00000004770 transcript:EMSPUT00000004770 description:\"tRNA-Glu for anticodon UUC\": Warning: Sequence contains no data \r\n",
        "Warning: lcl|Query_4141 EMSPUT00000013713 cds:pseudogene supercontig:GCA_000002235.2:Scaffold23:215176:215249:-1 gene:EMSPUG00000013713 transcript:EMSPUT00000013713 description:\"tRNA-Glu for anticodon UUC\": Warning: Sequence contains no data \r\n",
        "Warning: lcl|Query_4142 EMSPUT00000006470 cds:pseudogene supercontig:GCA_000002235.2:Scaffold23:215882:215953:-1 gene:EMSPUG00000006470 transcript:EMSPUT00000006470 description:\"tRNA-Glu for anticodon UUC\": Warning: Sequence contains no data \r\n",
        "Warning: lcl|Query_4145 EMSPUT00000015456 cds:pseudogene supercontig:GCA_000002235.2:Scaffold23:249431:249504:-1 gene:EMSPUG00000015456 transcript:EMSPUT00000015456 description:\"tRNA-Ser for anticodon UGA\": Warning: Sequence contains no data \r\n",
        "Error: (1431.1) FASTA-Reader: Warning: FASTA-Reader: No residues given\r\n"
       ]
      },
      {
       "output_type": "stream",
       "stream": "stdout",
       "text": [
        "Warning: lcl|Query_4158 EMSPUT00000004881 cds:pseudogene supercontig:GCA_000002235.2:Scaffold23:443780:443852:1 gene:EMSPUG00000004881 transcript:EMSPUT00000004881 description:\"tRNA-Met for anticodon CAU\": Warning: Sequence contains no data \r\n"
       ]
      },
      {
       "output_type": "stream",
       "stream": "stdout",
       "text": [
        "Error: (1431.1) FASTA-Reader: Warning: FASTA-Reader: No residues given\r\n"
       ]
      },
      {
       "output_type": "stream",
       "stream": "stdout",
       "text": [
        "Warning: lcl|Query_4231 EMSPUT00000002781 cds:pseudogene supercontig:GCA_000002235.2:Scaffold388:11721:11789:1 gene:EMSPUG00000002781 transcript:EMSPUT00000002781 description:\"tRNA-Ser for anticodon CGA\": Warning: Sequence contains no data \r\n"
       ]
      },
      {
       "output_type": "stream",
       "stream": "stdout",
       "text": [
        "Error: (1431.1) FASTA-Reader: Warning: FASTA-Reader: No residues given\r\n",
        "Error: (1431.1) FASTA-Reader: Warning: FASTA-Reader: No residues given\r\n"
       ]
      },
      {
       "output_type": "stream",
       "stream": "stdout",
       "text": [
        "Warning: lcl|Query_4265 EMSPUT00000000523 cds:pseudogene supercontig:GCA_000002235.2:Scaffold388:611015:611087:-1 gene:EMSPUG00000000523 transcript:EMSPUT00000000523 description:\"tRNA-Ile for anticodon UAU\": Warning: Sequence contains no data \r\n",
        "Warning: lcl|Query_4271 EMSPUT00000013217 cds:pseudogene supercontig:GCA_000002235.2:Scaffold388:784422:784494:1 gene:EMSPUG00000013217 transcript:EMSPUT00000013217 description:\"tRNA-Met for anticodon CAU\": Warning: Sequence contains no data \r\n",
        "Error: (1431.1) FASTA-Reader: Warning: FASTA-Reader: No residues given\r\n"
       ]
      },
      {
       "output_type": "stream",
       "stream": "stdout",
       "text": [
        "Warning: lcl|Query_4275 EMSPUT00000014575 cds:pseudogene supercontig:GCA_000002235.2:Scaffold3399:9571:9642:1 gene:EMSPUG00000014575 transcript:EMSPUT00000014575 description:\"tRNA-Glu for anticodon UUC\": Warning: Sequence contains no data \r\n"
       ]
      },
      {
       "output_type": "stream",
       "stream": "stdout",
       "text": [
        "Error: (1431.1) FASTA-Reader: Warning: FASTA-Reader: No residues given\r\n",
        "Error: (1431.1) FASTA-Reader: Warning: FASTA-Reader: No residues given\r\n",
        "Error: (1431.1) FASTA-Reader: Warning: FASTA-Reader: No residues given\r\n",
        "Error: (1431.1) FASTA-Reader: Warning: FASTA-Reader: No residues given\r\n"
       ]
      },
      {
       "output_type": "stream",
       "stream": "stdout",
       "text": [
        "Warning: lcl|Query_4296 EMSPUT00000010255 cds:pseudogene supercontig:GCA_000002235.2:Scaffold5236:32210:32280:1 gene:EMSPUG00000010255 transcript:EMSPUT00000010255 description:\"tRNA-Ala for anticodon AGC\": Warning: Sequence contains no data \r\n",
        "Warning: lcl|Query_4297 EMSPUT00000007640 cds:pseudogene supercontig:GCA_000002235.2:Scaffold1681:14755:14828:-1 gene:EMSPUG00000007640 transcript:EMSPUT00000007640 description:\"tRNA-Ala for anticodon GGC\": Warning: Sequence contains no data \r\n",
        "Warning: lcl|Query_4301 EMSPUT00000000649 cds:pseudogene supercontig:GCA_000002235.2:Scaffold2659:105389:105462:-1 gene:EMSPUG00000000649 transcript:EMSPUT00000000649 description:\"tRNA-Ala for anticodon GGC\": Warning: Sequence contains no data \r\n",
        "Warning: lcl|Query_4304 EMSPUT00000005357 cds:pseudogene supercontig:GCA_000002235.2:Scaffold53:38068:38139:1 gene:EMSPUG00000005357 transcript:EMSPUT00000005357 description:\"tRNA-Met for anticodon CAU\": Warning: Sequence contains no data \r\n",
        "Error: (1431.1) FASTA-Reader: Warning: FASTA-Reader: No residues given\r\n"
       ]
      },
      {
       "output_type": "stream",
       "stream": "stdout",
       "text": [
        "Warning: lcl|Query_4315 EMSPUT00000009279 cds:pseudogene supercontig:GCA_000002235.2:Scaffold53:180699:180771:-1 gene:EMSPUG00000009279 transcript:EMSPUT00000009279 description:\"tRNA-Val for anticodon CAC\": Warning: Sequence contains no data \r\n"
       ]
      },
      {
       "output_type": "stream",
       "stream": "stdout",
       "text": [
        "Error: (1431.1) FASTA-Reader: Warning: FASTA-Reader: No residues given\r\n"
       ]
      },
      {
       "output_type": "stream",
       "stream": "stdout",
       "text": [
        "Warning: lcl|Query_4356 EMSPUT00000013656 cds:pseudogene supercontig:GCA_000002235.2:Scaffold1485:20946:21015:1 gene:EMSPUG00000013656 transcript:EMSPUT00000013656 description:\"tRNA-Ala for anticodon GGC\": Warning: Sequence contains no data \r\n",
        "Error: (1431.1) FASTA-Reader: Warning: FASTA-Reader: No residues given\r\n"
       ]
      },
      {
       "output_type": "stream",
       "stream": "stdout",
       "text": [
        "Warning: lcl|Query_4376 EMSPUT00000007719 cds:pseudogene supercontig:GCA_000002235.2:Scaffold1095:43520:43593:1 gene:EMSPUG00000007719 transcript:EMSPUT00000007719 description:\"tRNA-Met for anticodon CAU\": Warning: Sequence contains no data \r\n",
        "Error: (1431.1) FASTA-Reader: Warning: FASTA-Reader: No residues given\r\n"
       ]
      },
      {
       "output_type": "stream",
       "stream": "stdout",
       "text": [
        "Warning: lcl|Query_4393 EMSPUT00000011241 cds:pseudogene supercontig:GCA_000002235.2:Scaffold1599:28106:28177:1 gene:EMSPUG00000011241 transcript:EMSPUT00000011241 description:\"Mammalian CPEB3 ribozyme\": Warning: Sequence contains no data \r\n",
        "Error: (1431.1) FASTA-Reader: Warning: FASTA-Reader: No residues given\r\n",
        "Error: (1431.1) FASTA-Reader: Warning: FASTA-Reader: No residues given\r\n"
       ]
      },
      {
       "output_type": "stream",
       "stream": "stdout",
       "text": [
        "Warning: lcl|Query_4405 EMSPUT00000006382 cds:pseudogene supercontig:GCA_000002235.2:Scaffold597:16600:16672:1 gene:EMSPUG00000006382 transcript:EMSPUT00000006382 description:\"tRNA-Val for anticodon UAC\": Warning: Sequence contains no data \r\n",
        "Warning: lcl|Query_4406 EMSPUT00000015148 cds:pseudogene supercontig:GCA_000002235.2:Scaffold597:17409:17481:1 gene:EMSPUG00000015148 transcript:EMSPUT00000015148 description:\"tRNA-Val for anticodon UAC\": Warning: Sequence contains no data \r\n"
       ]
      },
      {
       "output_type": "stream",
       "stream": "stdout",
       "text": [
        "Error: (1431.1) FASTA-Reader: Warning: FASTA-Reader: No residues given\r\n"
       ]
      },
      {
       "output_type": "stream",
       "stream": "stdout",
       "text": [
        "Warning: lcl|Query_4441 EMSPUT00000000831 cds:pseudogene supercontig:GCA_000002235.2:Scaffold573:566338:566405:-1 gene:EMSPUG00000000831 transcript:EMSPUT00000000831 description:\"tRNA-Undet for anticodon \\x3f\\x3f\\x3f\": Warning: Sequence contains no data \r\n",
        "Error: (1431.1) FASTA-Reader: Warning: FASTA-Reader: No residues given\r\n"
       ]
      },
      {
       "output_type": "stream",
       "stream": "stdout",
       "text": [
        "Warning: lcl|Query_4450 EMSPUT00000002287 cds:pseudogene supercontig:GCA_000002235.2:Scaffold6115:8316:8388:1 gene:EMSPUG00000002287 transcript:EMSPUT00000002287 description:\"tRNA-Ala for anticodon GGC\": Warning: Sequence contains no data \r\n"
       ]
      },
      {
       "output_type": "stream",
       "stream": "stdout",
       "text": [
        "Error: (1431.1) FASTA-Reader: Warning: FASTA-Reader: No residues given\r\n"
       ]
      },
      {
       "output_type": "stream",
       "stream": "stdout",
       "text": [
        "Warning: lcl|Query_4506 EMSPUT00000001312 cds:pseudogene supercontig:GCA_000002235.2:Scaffold1337:76719:76794:1 gene:EMSPUG00000001312 transcript:EMSPUT00000001312 description:\"tRNA-Ser for anticodon GGA\": Warning: Sequence contains no data \r\n"
       ]
      },
      {
       "output_type": "stream",
       "stream": "stdout",
       "text": [
        "Error: (1431.1) FASTA-Reader: Warning: FASTA-Reader: No residues given\r\n"
       ]
      },
      {
       "output_type": "stream",
       "stream": "stdout",
       "text": [
        "Warning: lcl|Query_4526 SPU_010320-tr cds:pseudogene supercontig:GCA_000002235.2:Scaffold249:430859:433447:1 gene:SPU_010320 transcript:SPU_010320-tr: Warning: Sequence contains no data \r\n",
        "Error: (1431.1) FASTA-Reader: Warning: FASTA-Reader: No residues given\r\n"
       ]
      },
      {
       "output_type": "stream",
       "stream": "stdout",
       "text": [
        "Warning: lcl|Query_4550 EMSPUT00000005481 cds:pseudogene supercontig:GCA_000002235.2:Scaffold26422:175:247:-1 gene:EMSPUG00000005481 transcript:EMSPUT00000005481 description:\"tRNA-Met for anticodon CAU\": Warning: Sequence contains no data \r\n"
       ]
      },
      {
       "output_type": "stream",
       "stream": "stdout",
       "text": [
        "Error: (1431.1) FASTA-Reader: Warning: FASTA-Reader: No residues given\r\n"
       ]
      },
      {
       "output_type": "stream",
       "stream": "stdout",
       "text": [
        "Warning: lcl|Query_4586 EMSPUT00000006653 cds:pseudogene supercontig:GCA_000002235.2:Scaffold2293:47084:47156:1 gene:EMSPUG00000006653 transcript:EMSPUT00000006653 description:\"tRNA-Met for anticodon CAU\": Warning: Sequence contains no data \r\n",
        "Error: (1431.1) FASTA-Reader: Warning: FASTA-Reader: No residues given\r\n",
        "Error: (1431.1) FASTA-Reader: Warning: FASTA-Reader: No residues given\r\n",
        "Error: (1431.1) FASTA-Reader: Warning: FASTA-Reader: No residues given\r\n",
        "Error: (1431.1) FASTA-Reader: Warning: FASTA-Reader: No residues given\r\n"
       ]
      },
      {
       "output_type": "stream",
       "stream": "stdout",
       "text": [
        "Warning: lcl|Query_4601 EMSPUT00000006104 cds:pseudogene supercontig:GCA_000002235.2:Scaffold873:165222:165294:-1 gene:EMSPUG00000006104 transcript:EMSPUT00000006104 description:\"tRNA-Met for anticodon CAU\": Warning: Sequence contains no data \r\n",
        "Warning: lcl|Query_4609 EMSPUT00000011017 cds:pseudogene supercontig:GCA_000002235.2:Scaffold1258:18571:18645:-1 gene:EMSPUG00000011017 transcript:EMSPUT00000011017 description:\"tRNA-Ser for anticodon GGA\": Warning: Sequence contains no data \r\n",
        "Warning: lcl|Query_4611 EMSPUT00000003731 cds:pseudogene supercontig:GCA_000002235.2:Scaffold1258:133798:133870:1 gene:EMSPUG00000003731 transcript:EMSPUT00000003731 description:\"tRNA-Met for anticodon CAU\": Warning: Sequence contains no data \r\n",
        "Warning: lcl|Query_4618 EMSPUT00000006509 cds:pseudogene supercontig:GCA_000002235.2:Scaffold28334:676:747:-1 gene:EMSPUG00000006509 transcript:EMSPUT00000006509 description:\"tRNA-Met for anticodon CAU\": Warning: Sequence contains no data \r\n"
       ]
      },
      {
       "output_type": "stream",
       "stream": "stdout",
       "text": [
        "Error: (1431.1) FASTA-Reader: Warning: FASTA-Reader: No residues given\r\n"
       ]
      },
      {
       "output_type": "stream",
       "stream": "stdout",
       "text": [
        "Warning: lcl|Query_4676 EMSPUT00000014008 cds:pseudogene supercontig:GCA_000002235.2:Scaffold465:88951:89025:-1 gene:EMSPUG00000014008 transcript:EMSPUT00000014008 description:\"tRNA-Ser for anticodon GGA\": Warning: Sequence contains no data \r\n",
        "Error: (1431.1) FASTA-Reader: Warning: FASTA-Reader: No residues given\r\n"
       ]
      },
      {
       "output_type": "stream",
       "stream": "stdout",
       "text": [
        "Warning: lcl|Query_4694 EMSPUT00000013092 cds:pseudogene supercontig:GCA_000002235.2:Scaffold91:180375:180446:-1 gene:EMSPUG00000013092 transcript:EMSPUT00000013092 description:\"tRNA-Pro for anticodon CGG\": Warning: Sequence contains no data \r\n"
       ]
      },
      {
       "output_type": "stream",
       "stream": "stdout",
       "text": [
        "Error: (1431.1) FASTA-Reader: Warning: FASTA-Reader: No residues given\r\n",
        "Error: (1431.1) FASTA-Reader: Warning: FASTA-Reader: No residues given\r\n"
       ]
      },
      {
       "output_type": "stream",
       "stream": "stdout",
       "text": [
        "Warning: lcl|Query_4723 EMSPUT00000001877 cds:pseudogene supercontig:GCA_000002235.2:Scaffold91:717424:717496:1 gene:EMSPUG00000001877 transcript:EMSPUT00000001877 description:\"tRNA-Met for anticodon CAU\": Warning: Sequence contains no data \r\n",
        "Warning: lcl|Query_4736 EMSPUT00000001479 cds:pseudogene supercontig:GCA_000002235.2:Scaffold1145:155947:156021:-1 gene:EMSPUG00000001479 transcript:EMSPUT00000001479 description:\"tRNA-Glu for anticodon CUC\": Warning: Sequence contains no data \r\n"
       ]
      },
      {
       "output_type": "stream",
       "stream": "stdout",
       "text": [
        "Error: (1431.1) FASTA-Reader: Warning: FASTA-Reader: No residues given\r\n"
       ]
      },
      {
       "output_type": "stream",
       "stream": "stdout",
       "text": [
        "Warning: lcl|Query_4854 EMSPUT00000008394 cds:pseudogene supercontig:GCA_000002235.2:Scaffold154:515983:516063:1 gene:EMSPUG00000008394 transcript:EMSPUT00000008394 description:\"tRNA-Gly for anticodon CCC\": Warning: Sequence contains no data \r\n",
        "Error: (1431.1) FASTA-Reader: Warning: FASTA-Reader: No residues given\r\n",
        "Error: (1431.1) FASTA-Reader: Warning: FASTA-Reader: No residues given\r\n",
        "Error: (1431.1) FASTA-Reader: Warning: FASTA-Reader: No residues given\r\n"
       ]
      },
      {
       "output_type": "stream",
       "stream": "stdout",
       "text": [
        "Warning: lcl|Query_4870 EMSPUT00000008824 cds:pseudogene supercontig:GCA_000002235.2:Scaffold454:242306:242379:1 gene:EMSPUG00000008824 transcript:EMSPUT00000008824 description:\"tRNA-His for anticodon GUG\": Warning: Sequence contains no data \r\n",
        "Warning: lcl|Query_4881 EMSPUT00000011036 cds:pseudogene supercontig:GCA_000002235.2:Scaffold3123:29254:29328:1 gene:EMSPUG00000011036 transcript:EMSPUT00000011036 description:\"tRNA-Glu for anticodon CUC\": Warning: Sequence contains no data \r\n",
        "Warning: lcl|Query_4882 EMSPUT00000003387 cds:pseudogene supercontig:GCA_000002235.2:Scaffold3123:33262:33336:1 gene:EMSPUG00000003387 transcript:EMSPUT00000003387 description:\"tRNA-Glu for anticodon CUC\": Warning: Sequence contains no data \r\n",
        "Error: (1431.1) FASTA-Reader: Warning: FASTA-Reader: No residues given\r\n"
       ]
      },
      {
       "output_type": "stream",
       "stream": "stdout",
       "text": [
        "Warning: lcl|Query_4897 EMSPUT00000000122 cds:pseudogene supercontig:GCA_000002235.2:Scaffold1911:57994:58068:1 gene:EMSPUG00000000122 transcript:EMSPUT00000000122 description:\"tRNA-Lys for anticodon CUU\": Warning: Sequence contains no data \r\n"
       ]
      },
      {
       "output_type": "stream",
       "stream": "stdout",
       "text": [
        "Error: (1431.1) FASTA-Reader: Warning: FASTA-Reader: No residues given\r\n",
        "Error: (1431.1) FASTA-Reader: Warning: FASTA-Reader: No residues given\r\n"
       ]
      },
      {
       "output_type": "stream",
       "stream": "stdout",
       "text": [
        "Warning: lcl|Query_4920 EMSPUT00000000362 cds:pseudogene supercontig:GCA_000002235.2:Scaffold179:248442:248515:1 gene:EMSPUG00000000362 transcript:EMSPUT00000000362 description:\"tRNA-Arg for anticodon UCU\": Warning: Sequence contains no data \r\n",
        "Warning: lcl|Query_4925 EMSPUT00000002065 cds:pseudogene supercontig:GCA_000002235.2:Scaffold179:503165:503237:-1 gene:EMSPUG00000002065 transcript:EMSPUT00000002065 description:\"tRNA-Undet for anticodon \\x3f\\x3f\\x3f\": Warning: Sequence contains no data \r\n",
        "Error: (1431.1) FASTA-Reader: Warning: FASTA-Reader: No residues given\r\n",
        "Error: (1431.1) FASTA-Reader: Warning: FASTA-Reader: No residues given\r\n"
       ]
      },
      {
       "output_type": "stream",
       "stream": "stdout",
       "text": [
        "Warning: lcl|Query_4935 EMSPUT00000009028 cds:pseudogene supercontig:GCA_000002235.2:Scaffold1127:34611:34684:1 gene:EMSPUG00000009028 transcript:EMSPUT00000009028 description:\"tRNA-Val for anticodon UAC\": Warning: Sequence contains no data \r\n",
        "Warning: lcl|Query_4936 EMSPUT00000003136 cds:pseudogene supercontig:GCA_000002235.2:Scaffold1127:40163:40236:1 gene:EMSPUG00000003136 transcript:EMSPUT00000003136 description:\"tRNA-Ala for anticodon UGC\": Warning: Sequence contains no data \r\n"
       ]
      },
      {
       "output_type": "stream",
       "stream": "stdout",
       "text": [
        "Error: (1431.1) FASTA-Reader: Warning: FASTA-Reader: No residues given\r\n"
       ]
      },
      {
       "output_type": "stream",
       "stream": "stdout",
       "text": [
        "Warning: lcl|Query_4977 EMSPUT00000004454 cds:pseudogene supercontig:GCA_000002235.2:Scaffold289:212293:212365:-1 gene:EMSPUG00000004454 transcript:EMSPUT00000004454 description:\"tRNA-Met for anticodon CAU\": Warning: Sequence contains no data \r\n",
        "Error: (1431.1) FASTA-Reader: Warning: FASTA-Reader: No residues given\r\n"
       ]
      },
      {
       "output_type": "stream",
       "stream": "stdout",
       "text": [
        "Warning: lcl|Query_4990 EMSPUT00000011213 cds:pseudogene supercontig:GCA_000002235.2:Scaffold289:497209:497281:-1 gene:EMSPUG00000011213 transcript:EMSPUT00000011213 description:\"tRNA-Lys for anticodon UUU\": Warning: Sequence contains no data \r\n",
        "Error: (1431.1) FASTA-Reader: Warning: FASTA-Reader: No residues given\r\n"
       ]
      },
      {
       "output_type": "stream",
       "stream": "stdout",
       "text": [
        "Warning: lcl|Query_5011 SPU_027798-tr cds:pseudogene supercontig:GCA_000002235.2:Scaffold318:74600:77260:-1 gene:SPU_027798 transcript:SPU_027798-tr: Warning: Sequence contains no data \r\n",
        "Error: (1431.1) FASTA-Reader: Warning: FASTA-Reader: No residues given\r\n"
       ]
      },
      {
       "output_type": "stream",
       "stream": "stdout",
       "text": [
        "Warning: lcl|Query_5020 EMSPUT00000015199 cds:pseudogene supercontig:GCA_000002235.2:Scaffold318:206481:206553:-1 gene:EMSPUG00000015199 transcript:EMSPUT00000015199 description:\"tRNA-Met for anticodon CAU\": Warning: Sequence contains no data \r\n"
       ]
      },
      {
       "output_type": "stream",
       "stream": "stdout",
       "text": [
        "Error: (1431.1) FASTA-Reader: Warning: FASTA-Reader: No residues given\r\n"
       ]
      },
      {
       "output_type": "stream",
       "stream": "stdout",
       "text": [
        "Warning: lcl|Query_5063 EMSPUT00000007313 cds:pseudogene supercontig:GCA_000002235.2:Scaffold1227:56332:56404:-1 gene:EMSPUG00000007313 transcript:EMSPUT00000007313 description:\"tRNA-Met for anticodon CAU\": Warning: Sequence contains no data \r\n"
       ]
      },
      {
       "output_type": "stream",
       "stream": "stdout",
       "text": [
        "Error: (1431.1) FASTA-Reader: Warning: FASTA-Reader: No residues given\r\n",
        "Error: (1431.1) FASTA-Reader: Warning: FASTA-Reader: No residues given\r\n",
        "Error: (1431.1) FASTA-Reader: Warning: FASTA-Reader: No residues given\r\n",
        "Error: (1431.1) FASTA-Reader: Warning: FASTA-Reader: No residues given\r\n",
        "Error: (1431.1) FASTA-Reader: Warning: FASTA-Reader: No residues given\r\n",
        "Error: (1431.1) FASTA-Reader: Warning: FASTA-Reader: No residues given\r\n",
        "Error: (1431.1) FASTA-Reader: Warning: FASTA-Reader: No residues given\r\n",
        "Error: (1431.1) FASTA-Reader: Warning: FASTA-Reader: No residues given\r\n",
        "Error: (1431.1) FASTA-Reader: Warning: FASTA-Reader: No residues given\r\n",
        "Error: (1431.1) FASTA-Reader: Warning: FASTA-Reader: No residues given\r\n"
       ]
      },
      {
       "output_type": "stream",
       "stream": "stdout",
       "text": [
        "Warning: lcl|Query_5103 EMSPUT00000006345 cds:pseudogene supercontig:GCA_000002235.2:Scaffold7659:145:216:1 gene:EMSPUG00000006345 transcript:EMSPUT00000006345 description:\"tRNA-Gly for anticodon UCC\": Warning: Sequence contains no data \r\n",
        "Warning: lcl|Query_5104 EMSPUT00000013872 cds:pseudogene supercontig:GCA_000002235.2:Scaffold7659:509:582:1 gene:EMSPUG00000013872 transcript:EMSPUT00000013872 description:\"tRNA-Asn for anticodon GUU\": Warning: Sequence contains no data \r\n",
        "Warning: lcl|Query_5105 EMSPUT00000005273 cds:pseudogene supercontig:GCA_000002235.2:Scaffold7659:954:1024:1 gene:EMSPUG00000005273 transcript:EMSPUT00000005273 description:\"tRNA-Glu for anticodon UUC\": Warning: Sequence contains no data \r\n",
        "Warning: lcl|Query_5106 EMSPUT00000000471 cds:pseudogene supercontig:GCA_000002235.2:Scaffold7659:1318:1391:1 gene:EMSPUG00000000471 transcript:EMSPUT00000000471 description:\"tRNA-Asn for anticodon GUU\": Warning: Sequence contains no data \r\n",
        "Warning: lcl|Query_5107 EMSPUT00000007512 cds:pseudogene supercontig:GCA_000002235.2:Scaffold7659:1789:1860:1 gene:EMSPUG00000007512 transcript:EMSPUT00000007512 description:\"tRNA-Gly for anticodon UCC\": Warning: Sequence contains no data \r\n",
        "Warning: lcl|Query_5108 EMSPUT00000001581 cds:pseudogene supercontig:GCA_000002235.2:Scaffold7659:2138:2211:1 gene:EMSPUG00000001581 transcript:EMSPUT00000001581 description:\"tRNA-Asn for anticodon GUU\": Warning: Sequence contains no data \r\n",
        "Warning: lcl|Query_5109 EMSPUT00000008606 cds:pseudogene supercontig:GCA_000002235.2:Scaffold7659:2604:2675:1 gene:EMSPUG00000008606 transcript:EMSPUT00000008606 description:\"tRNA-Gly for anticodon UCC\": Warning: Sequence contains no data \r\n",
        "Warning: lcl|Query_5110 EMSPUT00000003803 cds:pseudogene supercontig:GCA_000002235.2:Scaffold7659:2930:3001:1 gene:EMSPUG00000003803 transcript:EMSPUT00000003803 description:\"tRNA-Gly for anticodon UCC\": Warning: Sequence contains no data \r\n",
        "Warning: lcl|Query_5111 EMSPUT00000010850 cds:pseudogene supercontig:GCA_000002235.2:Scaffold7659:3281:3355:1 gene:EMSPUG00000010850 transcript:EMSPUT00000010850 description:\"tRNA-Asn for anticodon GUU\": Warning: Sequence contains no data \r\n",
        "Warning: lcl|Query_5112 EMSPUT00000001512 cds:pseudogene supercontig:GCA_000002235.2:Scaffold7659:3404:3477:1 gene:EMSPUG00000001512 transcript:EMSPUT00000001512 description:\"tRNA-Asn for anticodon GUU\": Warning: Sequence contains no data \r\n"
       ]
      },
      {
       "output_type": "stream",
       "stream": "stdout",
       "text": [
        "Error: (1431.1) FASTA-Reader: Warning: FASTA-Reader: No residues given\r\n"
       ]
      },
      {
       "output_type": "stream",
       "stream": "stdout",
       "text": [
        "Warning: lcl|Query_5180 EMSPUT00000013284 cds:pseudogene supercontig:GCA_000002235.2:Scaffold912:82490:82562:-1 gene:EMSPUG00000013284 transcript:EMSPUT00000013284 description:\"tRNA-Ile for anticodon GAU\": Warning: Sequence contains no data \r\n"
       ]
      },
      {
       "output_type": "stream",
       "stream": "stdout",
       "text": [
        "Error: (1431.1) FASTA-Reader: Warning: FASTA-Reader: No residues given\r\n",
        "Error: (1431.1) FASTA-Reader: Warning: FASTA-Reader: No residues given\r\n",
        "Error: (1431.1) FASTA-Reader: Warning: FASTA-Reader: No residues given\r\n",
        "Error: (1431.1) FASTA-Reader: Warning: FASTA-Reader: No residues given\r\n",
        "Error: (1431.1) FASTA-Reader: Warning: FASTA-Reader: No residues given\r\n",
        "Error: (1431.1) FASTA-Reader: Warning: FASTA-Reader: No residues given\r\n",
        "Error: (1431.1) FASTA-Reader: Warning: FASTA-Reader: No residues given\r\n",
        "Error: (1431.1) FASTA-Reader: Warning: FASTA-Reader: No residues given\r\n",
        "Error: (1431.1) FASTA-Reader: Warning: FASTA-Reader: No residues given\r\n",
        "Error: (1431.1) FASTA-Reader: Warning: FASTA-Reader: No residues given\r\n"
       ]
      },
      {
       "output_type": "stream",
       "stream": "stdout",
       "text": [
        "Warning: lcl|Query_5186 EMSPUT00000010532 cds:pseudogene supercontig:GCA_000002235.2:Scaffold912:206822:206893:1 gene:EMSPUG00000010532 transcript:EMSPUT00000010532 description:\"tRNA-Cys for anticodon GCA\": Warning: Sequence contains no data \r\n",
        "Warning: lcl|Query_5187 EMSPUT00000004195 cds:pseudogene supercontig:GCA_000002235.2:Scaffold912:207421:207492:1 gene:EMSPUG00000004195 transcript:EMSPUT00000004195 description:\"tRNA-Cys for anticodon GCA\": Warning: Sequence contains no data \r\n"
       ]
      },
      {
       "output_type": "stream",
       "stream": "stdout",
       "text": [
        "Warning: lcl|Query_5188 EMSPUT00000015162 cds:pseudogene supercontig:GCA_000002235.2:Scaffold912:207848:207919:1 gene:EMSPUG00000015162 transcript:EMSPUT00000015162 description:\"tRNA-Cys for anticodon GCA\": Warning: Sequence contains no data \r\n",
        "Warning: lcl|Query_5189 EMSPUT00000009016 cds:pseudogene supercontig:GCA_000002235.2:Scaffold912:208337:208408:1 gene:EMSPUG00000009016 transcript:EMSPUT00000009016 description:\"tRNA-Cys for anticodon GCA\": Warning: Sequence contains no data \r\n",
        "Warning: lcl|Query_5190 EMSPUT00000000929 cds:pseudogene supercontig:GCA_000002235.2:Scaffold912:210136:210207:1 gene:EMSPUG00000000929 transcript:EMSPUT00000000929 description:\"tRNA-Cys for anticodon GCA\": Warning: Sequence contains no data \r\n",
        "Warning: lcl|Query_5191 EMSPUT00000011688 cds:pseudogene supercontig:GCA_000002235.2:Scaffold912:211494:211565:1 gene:EMSPUG00000011688 transcript:EMSPUT00000011688 description:\"tRNA-Cys for anticodon GCA\": Warning: Sequence contains no data \r\n",
        "Warning: lcl|Query_5192 EMSPUT00000002492 cds:pseudogene supercontig:GCA_000002235.2:Scaffold912:212749:212820:1 gene:EMSPUG00000002492 transcript:EMSPUT00000002492 description:\"tRNA-Cys for anticodon GCA\": Warning: Sequence contains no data \r\n",
        "Warning: lcl|Query_5193 EMSPUT00000006265 cds:pseudogene supercontig:GCA_000002235.2:Scaffold912:213184:213255:-1 gene:EMSPUG00000006265 transcript:EMSPUT00000006265 description:\"tRNA-Cys for anticodon GCA\": Warning: Sequence contains no data \r\n",
        "Warning: lcl|Query_5194 EMSPUT00000015572 cds:pseudogene supercontig:GCA_000002235.2:Scaffold912:213927:213998:-1 gene:EMSPUG00000015572 transcript:EMSPUT00000015572 description:\"tRNA-Cys for anticodon GCA\": Warning: Sequence contains no data \r\n",
        "Warning: lcl|Query_5196 EMSPUT00000010804 cds:pseudogene supercontig:GCA_000002235.2:Scaffold912:253342:253414:1 gene:EMSPUG00000010804 transcript:EMSPUT00000010804 description:\"tRNA-Lys for anticodon UUU\": Warning: Sequence contains no data \r\n",
        "Error: (1431.1) FASTA-Reader: Warning: FASTA-Reader: No residues given\r\n"
       ]
      },
      {
       "output_type": "stream",
       "stream": "stdout",
       "text": [
        "Warning: lcl|Query_5220 EMSPUT00000009382 cds:pseudogene supercontig:GCA_000002235.2:Scaffold235:455434:455508:1 gene:EMSPUG00000009382 transcript:EMSPUT00000009382 description:\"tRNA-Cys for anticodon GCA\": Warning: Sequence contains no data \r\n"
       ]
      },
      {
       "output_type": "stream",
       "stream": "stdout",
       "text": [
        "Error: (1431.1) FASTA-Reader: Warning: FASTA-Reader: No residues given\r\n"
       ]
      },
      {
       "output_type": "stream",
       "stream": "stdout",
       "text": [
        "Warning: lcl|Query_5246 EMSPUT00000002209 cds:pseudogene supercontig:GCA_000002235.2:Scaffold66:271465:271546:-1 gene:EMSPUG00000002209 transcript:EMSPUT00000002209 description:\"tRNA-Ser for anticodon UGA\": Warning: Sequence contains no data \r\n",
        "Error: (1431.1) FASTA-Reader: Warning: FASTA-Reader: No residues given\r\n"
       ]
      },
      {
       "output_type": "stream",
       "stream": "stdout",
       "text": [
        "Warning: lcl|Query_5258 EMSPUT00000010948 cds:pseudogene supercontig:GCA_000002235.2:Scaffold66:634257:634331:-1 gene:EMSPUG00000010948 transcript:EMSPUT00000010948 description:\"tRNA-His for anticodon GUG\": Warning: Sequence contains no data \r\n"
       ]
      },
      {
       "output_type": "stream",
       "stream": "stdout",
       "text": [
        "Error: (1431.1) FASTA-Reader: Warning: FASTA-Reader: No residues given\r\n"
       ]
      },
      {
       "output_type": "stream",
       "stream": "stdout",
       "text": [
        "Warning: lcl|Query_5299 EMSPUT00000004931 cds:pseudogene supercontig:GCA_000002235.2:Scaffold2463:8579:8651:1 gene:EMSPUG00000004931 transcript:EMSPUT00000004931 description:\"tRNA-Met for anticodon CAU\": Warning: Sequence contains no data \r\n",
        "Error: (1431.1) FASTA-Reader: Warning: FASTA-Reader: No residues given\r\n"
       ]
      },
      {
       "output_type": "stream",
       "stream": "stdout",
       "text": [
        "Warning: lcl|Query_5323 EMSPUT00000008153 cds:pseudogene supercontig:GCA_000002235.2:Scaffold370:158755:158827:-1 gene:EMSPUG00000008153 transcript:EMSPUT00000008153 description:\"tRNA-Met for anticodon CAU\": Warning: Sequence contains no data \r\n"
       ]
      },
      {
       "output_type": "stream",
       "stream": "stdout",
       "text": [
        "Error: (1431.1) FASTA-Reader: Warning: FASTA-Reader: No residues given\r\n"
       ]
      },
      {
       "output_type": "stream",
       "stream": "stdout",
       "text": [
        "Warning: lcl|Query_5342 EMSPUT00000011735 cds:pseudogene supercontig:GCA_000002235.2:Scaffold1541:20642:20714:1 gene:EMSPUG00000011735 transcript:EMSPUT00000011735 description:\"tRNA-Met for anticodon CAU\": Warning: Sequence contains no data \r\n"
       ]
      },
      {
       "output_type": "stream",
       "stream": "stdout",
       "text": [
        "Error: (1431.1) FASTA-Reader: Warning: FASTA-Reader: No residues given\r\n"
       ]
      },
      {
       "output_type": "stream",
       "stream": "stdout",
       "text": [
        "Warning: lcl|Query_5396 EMSPUT00000008152 cds:pseudogene supercontig:GCA_000002235.2:Scaffold338:444772:444846:-1 gene:EMSPUG00000008152 transcript:EMSPUT00000008152 description:\"tRNA-Glu for anticodon CUC\": Warning: Sequence contains no data \r\n",
        "Error: (1431.1) FASTA-Reader: Warning: FASTA-Reader: No residues given\r\n"
       ]
      },
      {
       "output_type": "stream",
       "stream": "stdout",
       "text": [
        "Warning: lcl|Query_5415 EMSPUT00000002195 cds:pseudogene supercontig:GCA_000002235.2:Scaffold2887:20887:20959:-1 gene:EMSPUG00000002195 transcript:EMSPUT00000002195 description:\"tRNA-Met for anticodon CAU\": Warning: Sequence contains no data \r\n"
       ]
      },
      {
       "output_type": "stream",
       "stream": "stdout",
       "text": [
        "Error: (1431.1) FASTA-Reader: Warning: FASTA-Reader: No residues given\r\n"
       ]
      },
      {
       "output_type": "stream",
       "stream": "stdout",
       "text": [
        "Warning: lcl|Query_5449 EMSPUT00000012716 cds:pseudogene supercontig:GCA_000002235.2:Scaffold477:638973:639044:-1 gene:EMSPUG00000012716 transcript:EMSPUT00000012716 description:\"tRNA-Ala for anticodon GGC\": Warning: Sequence contains no data \r\n"
       ]
      },
      {
       "output_type": "stream",
       "stream": "stdout",
       "text": [
        "Error: (1431.1) FASTA-Reader: Warning: FASTA-Reader: No residues given\r\n"
       ]
      },
      {
       "output_type": "stream",
       "stream": "stdout",
       "text": [
        "Warning: lcl|Query_5482 EMSPUT00000008148 cds:pseudogene supercontig:GCA_000002235.2:Scaffold1384:11859:11931:1 gene:EMSPUG00000008148 transcript:EMSPUT00000008148 description:\"tRNA-Ala for anticodon AGC\": Warning: Sequence contains no data \r\n",
        "Error: (1431.1) FASTA-Reader: Warning: FASTA-Reader: No residues given\r\n",
        "Error: (1431.1) FASTA-Reader: Warning: FASTA-Reader: No residues given\r\n",
        "Error: (1431.1) FASTA-Reader: Warning: FASTA-Reader: No residues given\r\n",
        "Error: (1431.1) FASTA-Reader: Warning: FASTA-Reader: No residues given\r\n",
        "Error: (1431.1) FASTA-Reader: Warning: FASTA-Reader: No residues given\r\n",
        "Error: (1431.1) FASTA-Reader: Warning: FASTA-Reader: No residues given\r\n",
        "Error: (1431.1) FASTA-Reader: Warning: FASTA-Reader: No residues given\r\n",
        "Error: (1431.1) FASTA-Reader: Warning: FASTA-Reader: No residues given\r\n",
        "Error: (1431.1) FASTA-Reader: Warning: FASTA-Reader: No residues given\r\n",
        "Error: (1431.1) FASTA-Reader: Warning: FASTA-Reader: No residues given\r\n"
       ]
      },
      {
       "output_type": "stream",
       "stream": "stdout",
       "text": [
        "Warning: lcl|Query_5494 EMSPUT00000006406 cds:pseudogene supercontig:GCA_000002235.2:Scaffold2154:63414:63486:-1 gene:EMSPUG00000006406 transcript:EMSPUT00000006406 description:\"tRNA-Ala for anticodon GGC\": Warning: Sequence contains no data \r\n",
        "Warning: lcl|Query_5497 EMSPUT00000008614 cds:pseudogene supercontig:GCA_000002235.2:Scaffold5218:4805:4880:-1 gene:EMSPUG00000008614 transcript:EMSPUT00000008614 description:\"tRNA-Val for anticodon CAC\": Warning: Sequence contains no data \r\n",
        "Warning: lcl|Query_5500 EMSPUT00000014328 cds:pseudogene supercontig:GCA_000002235.2:Scaffold1403:5797:5867:1 gene:EMSPUG00000014328 transcript:EMSPUT00000014328 description:\"tRNA-Gly for anticodon GCC\": Warning: Sequence contains no data \r\n",
        "Warning: lcl|Query_5501 EMSPUT00000015104 cds:pseudogene supercontig:GCA_000002235.2:Scaffold1403:8076:8146:1 gene:EMSPUG00000015104 transcript:EMSPUT00000015104 description:\"tRNA-Gly for anticodon GCC\": Warning: Sequence contains no data \r\n",
        "Warning: lcl|Query_5502 EMSPUT00000006130 cds:pseudogene supercontig:GCA_000002235.2:Scaffold1403:8815:8885:1 gene:EMSPUG00000006130 transcript:EMSPUT00000006130 description:\"tRNA-Gly for anticodon GCC\": Warning: Sequence contains no data \r\n",
        "Warning: lcl|Query_5503 EMSPUT00000008958 cds:pseudogene supercontig:GCA_000002235.2:Scaffold1403:9469:9539:1 gene:EMSPUG00000008958 transcript:EMSPUT00000008958 description:\"tRNA-Gly for anticodon GCC\": Warning: Sequence contains no data \r\n",
        "Warning: lcl|Query_5504 EMSPUT00000000916 cds:pseudogene supercontig:GCA_000002235.2:Scaffold1403:10314:10384:1 gene:EMSPUG00000000916 transcript:EMSPUT00000000916 description:\"tRNA-Gly for anticodon GCC\": Warning: Sequence contains no data \r\n",
        "Warning: lcl|Query_5505 EMSPUT00000011658 cds:pseudogene supercontig:GCA_000002235.2:Scaffold1403:10963:11033:1 gene:EMSPUG00000011658 transcript:EMSPUT00000011658 description:\"tRNA-Gly for anticodon GCC\": Warning: Sequence contains no data \r\n",
        "Warning: lcl|Query_5506 EMSPUT00000002514 cds:pseudogene supercontig:GCA_000002235.2:Scaffold1403:11591:11661:1 gene:EMSPUG00000002514 transcript:EMSPUT00000002514 description:\"tRNA-Gly for anticodon GCC\": Warning: Sequence contains no data \r\n",
        "Warning: lcl|Query_5510 EMSPUT00000003362 cds:pseudogene supercontig:GCA_000002235.2:Scaffold7492:532:605:-1 gene:EMSPUG00000003362 transcript:EMSPUT00000003362 description:\"tRNA-Met for anticodon CAU\": Warning: Sequence contains no data \r\n"
       ]
      },
      {
       "output_type": "stream",
       "stream": "stdout",
       "text": [
        "Error: (1431.1) FASTA-Reader: Warning: FASTA-Reader: No residues given\r\n"
       ]
      },
      {
       "output_type": "stream",
       "stream": "stdout",
       "text": [
        "Warning: lcl|Query_5547 EMSPUT00000014528 cds:pseudogene supercontig:GCA_000002235.2:Scaffold7621:8173:8244:-1 gene:EMSPUG00000014528 transcript:EMSPUT00000014528 description:\"tRNA-Gln for anticodon CUG\": Warning: Sequence contains no data \r\n",
        "Error: (1431.1) FASTA-Reader: Warning: FASTA-Reader: No residues given\r\n",
        "Error: (1431.1) FASTA-Reader: Warning: FASTA-Reader: No residues given\r\n",
        "Error: (1431.1) FASTA-Reader: Warning: FASTA-Reader: No residues given\r\n",
        "Error: (1431.1) FASTA-Reader: Warning: FASTA-Reader: No residues given\r\n",
        "Error: (1431.1) FASTA-Reader: Warning: FASTA-Reader: No residues given\r\n",
        "Error: (1431.1) FASTA-Reader: Warning: FASTA-Reader: No residues given\r\n",
        "Error: (1431.1) FASTA-Reader: Warning: FASTA-Reader: No residues given\r\n",
        "Error: (1431.1) FASTA-Reader: Warning: FASTA-Reader: No residues given\r\n",
        "Error: (1431.1) FASTA-Reader: Warning: FASTA-Reader: No residues given\r\n",
        "Error: (1431.1) FASTA-Reader: Warning: FASTA-Reader: No residues given\r\n"
       ]
      },
      {
       "output_type": "stream",
       "stream": "stdout",
       "text": [
        "Warning: lcl|Query_5550 EMSPUT00000006908 cds:pseudogene supercontig:GCA_000002235.2:Scaffold2569:31169:31241:1 gene:EMSPUG00000006908 transcript:EMSPUT00000006908 description:\"tRNA-Val for anticodon AAC\": Warning: Sequence contains no data \r\n",
        "Warning: lcl|Query_5551 EMSPUT00000013823 cds:pseudogene supercontig:GCA_000002235.2:Scaffold2569:31718:31790:1 gene:EMSPUG00000013823 transcript:EMSPUT00000013823 description:\"tRNA-Val for anticodon AAC\": Warning: Sequence contains no data \r\n",
        "Warning: lcl|Query_5552 EMSPUT00000005189 cds:pseudogene supercontig:GCA_000002235.2:Scaffold2569:32865:32937:1 gene:EMSPUG00000005189 transcript:EMSPUT00000005189 description:\"tRNA-Val for anticodon AAC\": Warning: Sequence contains no data \r\n",
        "Warning: lcl|Query_5558 EMSPUT00000011494 cds:pseudogene supercontig:GCA_000002235.2:Scaffold6342:302:373:-1 gene:EMSPUG00000011494 transcript:EMSPUT00000011494 description:\"tRNA-Trp for anticodon CCA\": Warning: Sequence contains no data \r\n",
        "Warning: lcl|Query_5559 EMSPUT00000004730 cds:pseudogene supercontig:GCA_000002235.2:Scaffold6342:1334:1407:-1 gene:EMSPUG00000004730 transcript:EMSPUT00000004730 description:\"tRNA-Trp for anticodon CCA\": Warning: Sequence contains no data \r\n",
        "Warning: lcl|Query_5560 EMSPUT00000009869 cds:pseudogene supercontig:GCA_000002235.2:Scaffold6342:1794:1865:-1 gene:EMSPUG00000009869 transcript:EMSPUT00000009869 description:\"tRNA-Trp for anticodon CCA\": Warning: Sequence contains no data \r\n",
        "Warning: lcl|Query_5561 EMSPUT00000002077 cds:pseudogene supercontig:GCA_000002235.2:Scaffold6342:2804:2875:-1 gene:EMSPUG00000002077 transcript:EMSPUT00000002077 description:\"tRNA-Trp for anticodon CCA\": Warning: Sequence contains no data \r\n",
        "Warning: lcl|Query_5562 EMSPUT00000015043 cds:pseudogene supercontig:GCA_000002235.2:Scaffold6342:5772:5843:1 gene:EMSPUG00000015043 transcript:EMSPUT00000015043 description:\"tRNA-Trp for anticodon CCA\": Warning: Sequence contains no data \r\n",
        "Warning: lcl|Query_5563 EMSPUT00000006011 cds:pseudogene supercontig:GCA_000002235.2:Scaffold6342:6494:6565:1 gene:EMSPUG00000006011 transcript:EMSPUT00000006011 description:\"tRNA-Trp for anticodon CCA\": Warning: Sequence contains no data \r\n",
        "Warning: lcl|Query_5565 EMSPUT00000001151 cds:pseudogene supercontig:GCA_000002235.2:Scaffold357:22685:22765:1 gene:EMSPUG00000001151 transcript:EMSPUT00000001151 description:\"tRNA-His for anticodon GUG\": Warning: Sequence contains no data \r\n"
       ]
      },
      {
       "output_type": "stream",
       "stream": "stdout",
       "text": [
        "Error: (1431.1) FASTA-Reader: Warning: FASTA-Reader: No residues given\r\n"
       ]
      },
      {
       "output_type": "stream",
       "stream": "stdout",
       "text": [
        "Warning: lcl|Query_5600 EMSPUT00000007176 cds:pseudogene supercontig:GCA_000002235.2:Scaffold115:405068:405139:-1 gene:EMSPUG00000007176 transcript:EMSPUT00000007176 description:\"tRNA-Leu for anticodon UAA\": Warning: Sequence contains no data \r\n"
       ]
      },
      {
       "output_type": "stream",
       "stream": "stdout",
       "text": [
        "Error: (1431.1) FASTA-Reader: Warning: FASTA-Reader: No residues given\r\n",
        "Error: (1431.1) FASTA-Reader: Warning: FASTA-Reader: No residues given\r\n"
       ]
      },
      {
       "output_type": "stream",
       "stream": "stdout",
       "text": [
        "Warning: lcl|Query_5635 SPU_030084-tr cds:pseudogene supercontig:GCA_000002235.2:Scaffold419:164104:171530:-1 gene:SPU_030084 transcript:SPU_030084-tr: Warning: Sequence contains no data \r\n",
        "Warning: lcl|Query_5644 EMSPUT00000001011 cds:pseudogene supercontig:GCA_000002235.2:Scaffold1339:124007:124080:-1 gene:EMSPUG00000001011 transcript:EMSPUT00000001011 description:\"tRNA-Ala for anticodon AGC\": Warning: Sequence contains no data \r\n",
        "Error: (1431.1) FASTA-Reader: Warning: FASTA-Reader: No residues given\r\n"
       ]
      },
      {
       "output_type": "stream",
       "stream": "stdout",
       "text": [
        "Warning: lcl|Query_5651 EMSPUT00000008973 cds:pseudogene supercontig:GCA_000002235.2:Scaffold15193:133:203:-1 gene:EMSPUG00000008973 transcript:EMSPUT00000008973 description:\"tRNA-Tyr for anticodon GUA\": Warning: Sequence contains no data \r\n"
       ]
      },
      {
       "output_type": "stream",
       "stream": "stdout",
       "text": [
        "Error: (1431.1) FASTA-Reader: Warning: FASTA-Reader: No residues given\r\n",
        "Error: (1431.1) FASTA-Reader: Warning: FASTA-Reader: No residues given\r\n",
        "Error: (1431.1) FASTA-Reader: Warning: FASTA-Reader: No residues given\r\n",
        "Error: (1431.1) FASTA-Reader: Warning: FASTA-Reader: No residues given\r\n"
       ]
      },
      {
       "output_type": "stream",
       "stream": "stdout",
       "text": [
        "Warning: lcl|Query_5670 EMSPUT00000015424 cds:pseudogene supercontig:GCA_000002235.2:Scaffold62:335886:335967:-1 gene:EMSPUG00000015424 transcript:EMSPUT00000015424 description:\"tRNA-Ser for anticodon GCU\": Warning: Sequence contains no data \r\n",
        "Warning: lcl|Query_5671 EMSPUT00000006506 cds:pseudogene supercontig:GCA_000002235.2:Scaffold62:336729:336810:-1 gene:EMSPUG00000006506 transcript:EMSPUT00000006506 description:\"tRNA-Ser for anticodon GCU\": Warning: Sequence contains no data \r\n",
        "Warning: lcl|Query_5672 EMSPUT00000015539 cds:pseudogene supercontig:GCA_000002235.2:Scaffold62:338228:338309:-1 gene:EMSPUG00000015539 transcript:EMSPUT00000015539 description:\"tRNA-Ser for anticodon GCU\": Warning: Sequence contains no data \r\n",
        "Warning: lcl|Query_5673 EMSPUT00000000402 cds:pseudogene supercontig:GCA_000002235.2:Scaffold62:339093:339174:-1 gene:EMSPUG00000000402 transcript:EMSPUT00000000402 description:\"tRNA-Ser for anticodon GCU\": Warning: Sequence contains no data \r\n"
       ]
      },
      {
       "output_type": "stream",
       "stream": "stdout",
       "text": [
        "Error: (1431.1) FASTA-Reader: Warning: FASTA-Reader: No residues given\r\n",
        "Error: (1431.1) FASTA-Reader: Warning: FASTA-Reader: No residues given\r\n",
        "Error: (1431.1) FASTA-Reader: Warning: FASTA-Reader: No residues given\r\n"
       ]
      },
      {
       "output_type": "stream",
       "stream": "stdout",
       "text": [
        "Warning: lcl|Query_5703 EMSPUT00000012495 cds:pseudogene supercontig:GCA_000002235.2:Scaffold62:1025079:1025151:1 gene:EMSPUG00000012495 transcript:EMSPUT00000012495 description:\"tRNA-Met for anticodon CAU\": Warning: Sequence contains no data \r\n",
        "Warning: lcl|Query_5705 EMSPUT00000005902 cds:pseudogene supercontig:GCA_000002235.2:Scaffold62:1063280:1063352:-1 gene:EMSPUG00000005902 transcript:EMSPUT00000005902 description:\"tRNA-Met for anticodon CAU\": Warning: Sequence contains no data \r\n",
        "Warning: lcl|Query_5706 EMSPUT00000010860 cds:pseudogene supercontig:GCA_000002235.2:Scaffold62:1064258:1064330:-1 gene:EMSPUG00000010860 transcript:EMSPUT00000010860 description:\"tRNA-Met for anticodon CAU\": Warning: Sequence contains no data \r\n"
       ]
      },
      {
       "output_type": "stream",
       "stream": "stdout",
       "text": [
        "Error: (1431.1) FASTA-Reader: Warning: FASTA-Reader: No residues given\r\n"
       ]
      },
      {
       "output_type": "stream",
       "stream": "stdout",
       "text": [
        "Warning: lcl|Query_5719 SPU_026275-tr cds:pseudogene supercontig:GCA_000002235.2:Scaffold62:1350696:1353304:1 gene:SPU_026275 transcript:SPU_026275-tr: Warning: Sequence contains no data \r\n"
       ]
      },
      {
       "output_type": "stream",
       "stream": "stdout",
       "text": [
        "Error: (1431.1) FASTA-Reader: Warning: FASTA-Reader: No residues given\r\n",
        "Error: (1431.1) FASTA-Reader: Warning: FASTA-Reader: No residues given\r\n"
       ]
      },
      {
       "output_type": "stream",
       "stream": "stdout",
       "text": [
        "Warning: lcl|Query_5772 SPU_030200-tr cds:pseudogene supercontig:GCA_000002235.2:Scaffold1325:224039:227767:-1 gene:SPU_030200 transcript:SPU_030200-tr: Warning: Sequence contains no data \r\n",
        "Warning: lcl|Query_5785 EMSPUT00000002911 cds:pseudogene supercontig:GCA_000002235.2:Scaffold401:212393:212466:1 gene:EMSPUG00000002911 transcript:EMSPUT00000002911 description:\"tRNA-Ala for anticodon GGC\": Warning: Sequence contains no data \r\n",
        "Error: (1431.1) FASTA-Reader: Warning: FASTA-Reader: No residues given\r\n"
       ]
      },
      {
       "output_type": "stream",
       "stream": "stdout",
       "text": [
        "Warning: lcl|Query_5795 EMSPUT00000001134 cds:pseudogene supercontig:GCA_000002235.2:Scaffold837:7591:7663:1 gene:EMSPUG00000001134 transcript:EMSPUT00000001134 description:\"tRNA-Lys for anticodon UUU\": Warning: Sequence contains no data \r\n",
        "Error: (1431.1) FASTA-Reader: Warning: FASTA-Reader: No residues given\r\n"
       ]
      },
      {
       "output_type": "stream",
       "stream": "stdout",
       "text": [
        "Warning: lcl|Query_5815 EMSPUT00000003587 cds:pseudogene supercontig:GCA_000002235.2:Scaffold2021:202864:202936:-1 gene:EMSPUG00000003587 transcript:EMSPUT00000003587 description:\"tRNA-Met for anticodon CAU\": Warning: Sequence contains no data \r\n"
       ]
      },
      {
       "output_type": "stream",
       "stream": "stdout",
       "text": [
        "Error: (1431.1) FASTA-Reader: Warning: FASTA-Reader: No residues given\r\n"
       ]
      },
      {
       "output_type": "stream",
       "stream": "stdout",
       "text": [
        "Warning: lcl|Query_5842 EMSPUT00000002275 cds:pseudogene supercontig:GCA_000002235.2:Scaffold942:36360:36432:-1 gene:EMSPUG00000002275 transcript:EMSPUT00000002275 description:\"tRNA-Met for anticodon CAU\": Warning: Sequence contains no data \r\n"
       ]
      },
      {
       "output_type": "stream",
       "stream": "stdout",
       "text": [
        "Error: (1431.1) FASTA-Reader: Warning: FASTA-Reader: No residues given\r\n",
        "Error: (1431.1) FASTA-Reader: Warning: FASTA-Reader: No residues given\r\n",
        "Error: (1431.1) FASTA-Reader: Warning: FASTA-Reader: No residues given\r\n",
        "Error: (1431.1) FASTA-Reader: Warning: FASTA-Reader: No residues given\r\n"
       ]
      },
      {
       "output_type": "stream",
       "stream": "stdout",
       "text": [
        "Warning: lcl|Query_5891 EMSPUT00000011440 cds:pseudogene supercontig:GCA_000002235.2:Scaffold602:11986:12058:1 gene:EMSPUG00000011440 transcript:EMSPUT00000011440 description:\"tRNA-Lys for anticodon CUU\": Warning: Sequence contains no data \r\n",
        "Warning: lcl|Query_5892 EMSPUT00000000932 cds:pseudogene supercontig:GCA_000002235.2:Scaffold602:12900:12972:1 gene:EMSPUG00000000932 transcript:EMSPUT00000000932 description:\"tRNA-Lys for anticodon CUU\": Warning: Sequence contains no data \r\n",
        "Warning: lcl|Query_5893 EMSPUT00000012208 cds:pseudogene supercontig:GCA_000002235.2:Scaffold602:13537:13609:1 gene:EMSPUG00000012208 transcript:EMSPUT00000012208 description:\"tRNA-Lys for anticodon CUU\": Warning: Sequence contains no data \r\n",
        "Warning: lcl|Query_5894 EMSPUT00000005237 cds:pseudogene supercontig:GCA_000002235.2:Scaffold602:14027:14099:1 gene:EMSPUG00000005237 transcript:EMSPUT00000005237 description:\"tRNA-Lys for anticodon CUU\": Warning: Sequence contains no data \r\n"
       ]
      },
      {
       "output_type": "stream",
       "stream": "stdout",
       "text": [
        "Error: (1431.1) FASTA-Reader: Warning: FASTA-Reader: No residues given\r\n"
       ]
      },
      {
       "output_type": "stream",
       "stream": "stdout",
       "text": [
        "Warning: lcl|Query_5920 EMSPUT00000008785 cds:pseudogene supercontig:GCA_000002235.2:Scaffold153:405870:405942:1 gene:EMSPUG00000008785 transcript:EMSPUT00000008785 description:\"tRNA-Val for anticodon CAC\": Warning: Sequence contains no data \r\n"
       ]
      },
      {
       "output_type": "stream",
       "stream": "stdout",
       "text": [
        "Error: (1431.1) FASTA-Reader: Warning: FASTA-Reader: No residues given\r\n"
       ]
      },
      {
       "output_type": "stream",
       "stream": "stdout",
       "text": [
        "Warning: lcl|Query_5956 EMSPUT00000009025 cds:pseudogene supercontig:GCA_000002235.2:Scaffold153:1173320:1173393:1 gene:EMSPUG00000009025 transcript:EMSPUT00000009025 description:\"tRNA-Ala for anticodon GGC\": Warning: Sequence contains no data \r\n",
        "Error: (1431.1) FASTA-Reader: Warning: FASTA-Reader: No residues given\r\n"
       ]
      },
      {
       "output_type": "stream",
       "stream": "stdout",
       "text": [
        "Warning: lcl|Query_5960 EMSPUT00000009895 cds:pseudogene supercontig:GCA_000002235.2:Scaffold502:112318:112614:-1 gene:EMSPUG00000009895 transcript:EMSPUT00000009895 description:\"Metazoan signal recognition particle RNA\": Warning: Sequence contains no data \r\n",
        "Error: (1431.1) FASTA-Reader: Warning: FASTA-Reader: No residues given\r\n"
       ]
      },
      {
       "output_type": "stream",
       "stream": "stdout",
       "text": [
        "Warning: lcl|Query_5985 EMSPUT00000013349 cds:pseudogene supercontig:GCA_000002235.2:Scaffold616:158506:158580:1 gene:EMSPUG00000013349 transcript:EMSPUT00000013349 description:\"tRNA-Glu for anticodon CUC\": Warning: Sequence contains no data \r\n",
        "Error: (1431.1) FASTA-Reader: Warning: FASTA-Reader: No residues given\r\n",
        "Error: (1431.1) FASTA-Reader: Warning: FASTA-Reader: No residues given\r\n"
       ]
      },
      {
       "output_type": "stream",
       "stream": "stdout",
       "text": [
        "Warning: lcl|Query_6003 EMSPUT00000009193 cds:pseudogene supercontig:GCA_000002235.2:Scaffold507:128390:128462:1 gene:EMSPUG00000009193 transcript:EMSPUT00000009193 description:\"tRNA-Thr for anticodon AGU\": Warning: Sequence contains no data \r\n",
        "Warning: lcl|Query_6004 EMSPUT00000002214 cds:pseudogene supercontig:GCA_000002235.2:Scaffold507:129080:129152:1 gene:EMSPUG00000002214 transcript:EMSPUT00000002214 description:\"tRNA-Thr for anticodon AGU\": Warning: Sequence contains no data \r\n"
       ]
      },
      {
       "output_type": "stream",
       "stream": "stdout",
       "text": [
        "Error: (1431.1) FASTA-Reader: Warning: FASTA-Reader: No residues given\r\n",
        "Error: (1431.1) FASTA-Reader: Warning: FASTA-Reader: No residues given\r\n",
        "Error: (1431.1) FASTA-Reader: Warning: FASTA-Reader: No residues given\r\n",
        "Error: (1431.1) FASTA-Reader: Warning: FASTA-Reader: No residues given\r\n"
       ]
      },
      {
       "output_type": "stream",
       "stream": "stdout",
       "text": [
        "Warning: lcl|Query_6024 EMSPUT00000015755 cds:pseudogene supercontig:GCA_000002235.2:Scaffold513:325840:325913:1 gene:EMSPUG00000015755 transcript:EMSPUT00000015755 description:\"tRNA-Asn for anticodon GUU\": Warning: Sequence contains no data \r\n",
        "Warning: lcl|Query_6031 EMSPUT00000004469 cds:pseudogene supercontig:GCA_000002235.2:Scaffold513:386117:386189:-1 gene:EMSPUG00000004469 transcript:EMSPUT00000004469 description:\"tRNA-Ala for anticodon GGC\": Warning: Sequence contains no data \r\n",
        "Warning: lcl|Query_6042 EMSPUT00000012797 cds:pseudogene supercontig:GCA_000002235.2:Scaffold4101:3204:3280:1 gene:EMSPUG00000012797 transcript:EMSPUT00000012797 description:\"tRNA-SeC for anticodon UCA\": Warning: Sequence contains no data \r\n",
        "Warning: lcl|Query_6043 EMSPUT00000009899 cds:pseudogene supercontig:GCA_000002235.2:Scaffold4101:8216:8290:1 gene:EMSPUG00000009899 transcript:EMSPUT00000009899 description:\"tRNA-SeC for anticodon UCA\": Warning: Sequence contains no data \r\n"
       ]
      },
      {
       "output_type": "stream",
       "stream": "stdout",
       "text": [
        "Error: (1431.1) FASTA-Reader: Warning: FASTA-Reader: No residues given\r\n",
        "Error: (1431.1) FASTA-Reader: Warning: FASTA-Reader: No residues given\r\n",
        "Error: (1431.1) FASTA-Reader: Warning: FASTA-Reader: No residues given\r\n"
       ]
      },
      {
       "output_type": "stream",
       "stream": "stdout",
       "text": [
        "Warning: lcl|Query_6084 EMSPUT00000015649 cds:pseudogene supercontig:GCA_000002235.2:Scaffold2608:26196:26268:-1 gene:EMSPUG00000015649 transcript:EMSPUT00000015649 description:\"tRNA-Met for anticodon CAU\": Warning: Sequence contains no data \r\n",
        "Warning: lcl|Query_6087 EMSPUT00000006615 cds:pseudogene supercontig:GCA_000002235.2:Scaffold2608:57855:57926:-1 gene:EMSPUG00000006615 transcript:EMSPUT00000006615 description:\"tRNA-Glu for anticodon CUC\": Warning: Sequence contains no data \r\n"
       ]
      },
      {
       "output_type": "stream",
       "stream": "stdout",
       "text": [
        "Warning: lcl|Query_6095 EMSPUT00000004576 cds:pseudogene supercontig:GCA_000002235.2:Scaffold30058:150:222:1 gene:EMSPUG00000004576 transcript:EMSPUT00000004576 description:\"tRNA-Lys for anticodon UUU\": Warning: Sequence contains no data \r\n",
        "Error: (1431.1) FASTA-Reader: Warning: FASTA-Reader: No residues given\r\n"
       ]
      },
      {
       "output_type": "stream",
       "stream": "stdout",
       "text": [
        "Warning: lcl|Query_6112 EMSPUT00000008029 cds:pseudogene supercontig:GCA_000002235.2:Scaffold147:463669:463745:1 gene:EMSPUG00000008029 transcript:EMSPUT00000008029 description:\"tRNA-Glu for anticodon CUC\": Warning: Sequence contains no data \r\n",
        "Error: (1431.1) FASTA-Reader: Warning: FASTA-Reader: No residues given\r\n",
        "Error: (1431.1) FASTA-Reader: Warning: FASTA-Reader: No residues given\r\n"
       ]
      },
      {
       "output_type": "stream",
       "stream": "stdout",
       "text": [
        "Warning: lcl|Query_6125 SPU_030126-tr cds:pseudogene supercontig:GCA_000002235.2:Scaffold2991:27041:28829:1 gene:SPU_030126 transcript:SPU_030126-tr: Warning: Sequence contains no data \r\n",
        "Warning: lcl|Query_6132 EMSPUT00000002901 cds:pseudogene supercontig:GCA_000002235.2:Scaffold875:49460:49532:-1 gene:EMSPUG00000002901 transcript:EMSPUT00000002901 description:\"tRNA-Met for anticodon CAU\": Warning: Sequence contains no data \r\n",
        "Error: (1431.1) FASTA-Reader: Warning: FASTA-Reader: No residues given\r\n",
        "Error: (1431.1) FASTA-Reader: Warning: FASTA-Reader: No residues given\r\n",
        "Error: (1431.1) FASTA-Reader: Warning: FASTA-Reader: No residues given\r\n",
        "Error: (1431.1) FASTA-Reader: Warning: FASTA-Reader: No residues given\r\n"
       ]
      },
      {
       "output_type": "stream",
       "stream": "stdout",
       "text": [
        "Warning: lcl|Query_6155 EMSPUT00000010912 cds:pseudogene supercontig:GCA_000002235.2:Scaffold680:170467:170531:-1 gene:EMSPUG00000010912 transcript:EMSPUT00000010912 description:\"tRNA-Ser for anticodon UGA\": Warning: Sequence contains no data \r\n",
        "Warning: lcl|Query_6157 EMSPUT00000000309 cds:pseudogene supercontig:GCA_000002235.2:Scaffold680:223706:223766:1 gene:EMSPUG00000000309 transcript:EMSPUT00000000309 description:\"tRNA-Undet for anticodon \\x3f\\x3f\\x3f\": Warning: Sequence contains no data \r\n",
        "Warning: lcl|Query_6158 EMSPUT00000008556 cds:pseudogene supercontig:GCA_000002235.2:Scaffold680:225447:225518:1 gene:EMSPUG00000008556 transcript:EMSPUT00000008556 description:\"tRNA-Cys for anticodon GCA\": Warning: Sequence contains no data \r\n",
        "Warning: lcl|Query_6160 EMSPUT00000013440 cds:pseudogene supercontig:GCA_000002235.2:Scaffold680:236530:236599:1 gene:EMSPUG00000013440 transcript:EMSPUT00000013440 description:\"tRNA-Ile for anticodon GAU\": Warning: Sequence contains no data \r\n"
       ]
      },
      {
       "output_type": "stream",
       "stream": "stdout",
       "text": [
        "Error: (1431.1) FASTA-Reader: Warning: FASTA-Reader: No residues given\r\n",
        "Error: (1431.1) FASTA-Reader: Warning: FASTA-Reader: No residues given\r\n"
       ]
      },
      {
       "output_type": "stream",
       "stream": "stdout",
       "text": [
        "Warning: lcl|Query_6281 EMSPUT00000013778 cds:pseudogene supercontig:GCA_000002235.2:Scaffold3045:63215:63288:-1 gene:EMSPUG00000013778 transcript:EMSPUT00000013778 description:\"tRNA-Ala for anticodon GGC\": Warning: Sequence contains no data \r\n",
        "Warning: lcl|Query_6284 EMSPUT00000009805 cds:pseudogene supercontig:GCA_000002235.2:Scaffold1035:100753:100822:1 gene:EMSPUG00000009805 transcript:EMSPUT00000009805 description:\"tRNA-Thr for anticodon GGU\": Warning: Sequence contains no data \r\n"
       ]
      },
      {
       "output_type": "stream",
       "stream": "stdout",
       "text": [
        "Error: (1431.1) FASTA-Reader: Warning: FASTA-Reader: No residues given\r\n"
       ]
      },
      {
       "output_type": "stream",
       "stream": "stdout",
       "text": [
        "Warning: lcl|Query_6346 EMSPUT00000009376 cds:pseudogene supercontig:GCA_000002235.2:Scaffold2321:99600:99673:1 gene:EMSPUG00000009376 transcript:EMSPUT00000009376 description:\"tRNA-Ala for anticodon GGC\": Warning: Sequence contains no data \r\n",
        "Error: (1431.1) FASTA-Reader: Warning: FASTA-Reader: No residues given\r\n",
        "Error: (1431.1) FASTA-Reader: Warning: FASTA-Reader: No residues given\r\n",
        "Error: (1431.1) FASTA-Reader: Warning: FASTA-Reader: No residues given\r\n"
       ]
      },
      {
       "output_type": "stream",
       "stream": "stdout",
       "text": [
        "Warning: lcl|Query_6357 SPU_011481-tr cds:pseudogene supercontig:GCA_000002235.2:Scaffold347:218170:218740:1 gene:SPU_011481 transcript:SPU_011481-tr: Warning: Sequence contains no data \r\n",
        "Warning: lcl|Query_6362 EMSPUT00000015297 cds:pseudogene supercontig:GCA_000002235.2:Scaffold347:324824:324899:-1 gene:EMSPUG00000015297 transcript:EMSPUT00000015297 description:\"tRNA-Ala for anticodon AGC\": Warning: Sequence contains no data \r\n",
        "Warning: lcl|Query_6369 EMSPUT00000013269 cds:pseudogene supercontig:GCA_000002235.2:Scaffold1370:136090:136166:1 gene:EMSPUG00000013269 transcript:EMSPUT00000013269 description:\"tRNA-His for anticodon GUG\": Warning: Sequence contains no data \r\n",
        "Error: (1431.1) FASTA-Reader: Warning: FASTA-Reader: No residues given\r\n"
       ]
      },
      {
       "output_type": "stream",
       "stream": "stdout",
       "text": [
        "Warning: lcl|Query_6384 EMSPUT00000015449 cds:pseudogene supercontig:GCA_000002235.2:Scaffold386:398594:398666:-1 gene:EMSPUG00000015449 transcript:EMSPUT00000015449 description:\"tRNA-Gly for anticodon CCC\": Warning: Sequence contains no data \r\n",
        "Error: (1431.1) FASTA-Reader: Warning: FASTA-Reader: No residues given\r\n"
       ]
      },
      {
       "output_type": "stream",
       "stream": "stdout",
       "text": [
        "Warning: lcl|Query_6392 EMSPUT00000002368 cds:pseudogene supercontig:GCA_000002235.2:Scaffold386:687067:687138:-1 gene:EMSPUG00000002368 transcript:EMSPUT00000002368 description:\"tRNA-Ile for anticodon AAU\": Warning: Sequence contains no data \r\n",
        "Error: (1431.1) FASTA-Reader: Warning: FASTA-Reader: No residues given\r\n"
       ]
      },
      {
       "output_type": "stream",
       "stream": "stdout",
       "text": [
        "Warning: lcl|Query_6410 EMSPUT00000014423 cds:pseudogene supercontig:GCA_000002235.2:Scaffold441:61837:61911:-1 gene:EMSPUG00000014423 transcript:EMSPUT00000014423 description:\"tRNA-Cys for anticodon GCA\": Warning: Sequence contains no data \r\n"
       ]
      },
      {
       "output_type": "stream",
       "stream": "stdout",
       "text": [
        "Error: (1431.1) FASTA-Reader: Warning: FASTA-Reader: No residues given\r\n"
       ]
      },
      {
       "output_type": "stream",
       "stream": "stdout",
       "text": [
        "Warning: lcl|Query_6452 EMSPUT00000010773 cds:pseudogene supercontig:GCA_000002235.2:Scaffold31299:467:537:1 gene:EMSPUG00000010773 transcript:EMSPUT00000010773 description:\"tRNA-Ile for anticodon UAU\": Warning: Sequence contains no data \r\n"
       ]
      },
      {
       "output_type": "stream",
       "stream": "stdout",
       "text": [
        "Error: (1431.1) FASTA-Reader: Warning: FASTA-Reader: No residues given\r\n",
        "Error: (1431.1) FASTA-Reader: Warning: FASTA-Reader: No residues given\r\n"
       ]
      },
      {
       "output_type": "stream",
       "stream": "stdout",
       "text": [
        "Warning: lcl|Query_6466 EMSPUT00000001378 cds:pseudogene supercontig:GCA_000002235.2:Scaffold1986:38440:38512:-1 gene:EMSPUG00000001378 transcript:EMSPUT00000001378 description:\"tRNA-Asp for anticodon GUC\": Warning: Sequence contains no data \r\n",
        "Warning: lcl|Query_6481 EMSPUT00000010292 cds:pseudogene supercontig:GCA_000002235.2:Scaffold1778:50451:50525:-1 gene:EMSPUG00000010292 transcript:EMSPUT00000010292 description:\"tRNA-Glu for anticodon CUC\": Warning: Sequence contains no data \r\n",
        "Error: (1431.1) FASTA-Reader: Warning: FASTA-Reader: No residues given\r\n"
       ]
      },
      {
       "output_type": "stream",
       "stream": "stdout",
       "text": [
        "Warning: lcl|Query_6491 EMSPUT00000001265 cds:pseudogene supercontig:GCA_000002235.2:Scaffold58:216378:216450:1 gene:EMSPUG00000001265 transcript:EMSPUT00000001265 description:\"tRNA-Leu for anticodon CAG\": Warning: Sequence contains no data \r\n"
       ]
      },
      {
       "output_type": "stream",
       "stream": "stdout",
       "text": [
        "Error: (1431.1) FASTA-Reader: Warning: FASTA-Reader: No residues given\r\n",
        "Error: (1431.1) FASTA-Reader: Warning: FASTA-Reader: No residues given\r\n",
        "Error: (1431.1) FASTA-Reader: Warning: FASTA-Reader: No residues given\r\n",
        "Error: (1431.1) FASTA-Reader: Warning: FASTA-Reader: No residues given\r\n",
        "Error: (1431.1) FASTA-Reader: Warning: FASTA-Reader: No residues given\r\n",
        "Error: (1431.1) FASTA-Reader: Warning: FASTA-Reader: No residues given\r\n",
        "Error: (1431.1) FASTA-Reader: Warning: FASTA-Reader: No residues given\r\n",
        "Error: (1431.1) FASTA-Reader: Warning: FASTA-Reader: No residues given\r\n",
        "Error: (1431.1) FASTA-Reader: Warning: FASTA-Reader: No residues given\r\n",
        "Error: (1431.1) FASTA-Reader: Warning: FASTA-Reader: No residues given\r\n"
       ]
      },
      {
       "output_type": "stream",
       "stream": "stdout",
       "text": [
        "Warning: lcl|Query_6557 EMSPUT00000000797 cds:pseudogene supercontig:GCA_000002235.2:Scaffold2920:17028:17100:-1 gene:EMSPUG00000000797 transcript:EMSPUT00000000797 description:\"tRNA-Met for anticodon CAU\": Warning: Sequence contains no data \r\n",
        "Warning: lcl|Query_6564 EMSPUT00000000178 cds:pseudogene supercontig:GCA_000002235.2:Scaffold1135:42517:42589:-1 gene:EMSPUG00000000178 transcript:EMSPUT00000000178 description:\"tRNA-Phe for anticodon AAA\": Warning: Sequence contains no data \r\n",
        "Warning: lcl|Query_6565 EMSPUT00000015653 cds:pseudogene supercontig:GCA_000002235.2:Scaffold1135:43685:43757:-1 gene:EMSPUG00000015653 transcript:EMSPUT00000015653 description:\"tRNA-Leu for anticodon UAA\": Warning: Sequence contains no data \r\n",
        "Warning: lcl|Query_6566 EMSPUT00000009951 cds:pseudogene supercontig:GCA_000002235.2:Scaffold1135:45469:45542:-1 gene:EMSPUG00000009951 transcript:EMSPUT00000009951 description:\"tRNA-Leu for anticodon UAA\": Warning: Sequence contains no data \r\n",
        "Warning: lcl|Query_6567 EMSPUT00000003013 cds:pseudogene supercontig:GCA_000002235.2:Scaffold1135:46531:46604:-1 gene:EMSPUG00000003013 transcript:EMSPUT00000003013 description:\"tRNA-Leu for anticodon UAA\": Warning: Sequence contains no data \r\n",
        "Warning: lcl|Query_6568 EMSPUT00000012571 cds:pseudogene supercontig:GCA_000002235.2:Scaffold1135:47904:47977:-1 gene:EMSPUG00000012571 transcript:EMSPUT00000012571 description:\"tRNA-Leu for anticodon UAA\": Warning: Sequence contains no data \r\n",
        "Warning: lcl|Query_6570 EMSPUT00000005855 cds:pseudogene supercontig:GCA_000002235.2:Scaffold1135:55806:55879:-1 gene:EMSPUG00000005855 transcript:EMSPUT00000005855 description:\"tRNA-Leu for anticodon UAA\": Warning: Sequence contains no data \r\n",
        "Warning: lcl|Query_6571 EMSPUT00000014162 cds:pseudogene supercontig:GCA_000002235.2:Scaffold1135:56566:56639:-1 gene:EMSPUG00000014162 transcript:EMSPUT00000014162 description:\"tRNA-Ile for anticodon UAU\": Warning: Sequence contains no data \r\n",
        "Warning: lcl|Query_6572 EMSPUT00000007413 cds:pseudogene supercontig:GCA_000002235.2:Scaffold1135:62244:62317:-1 gene:EMSPUG00000007413 transcript:EMSPUT00000007413 description:\"tRNA-Leu for anticodon UAA\": Warning: Sequence contains no data \r\n",
        "Warning: lcl|Query_6573 EMSPUT00000000975 cds:pseudogene supercontig:GCA_000002235.2:Scaffold1135:63006:63079:-1 gene:EMSPUG00000000975 transcript:EMSPUT00000000975 description:\"tRNA-Ile for anticodon UAU\": Warning: Sequence contains no data \r\n"
       ]
      },
      {
       "output_type": "stream",
       "stream": "stdout",
       "text": [
        "Error: (1431.1) FASTA-Reader: Warning: FASTA-Reader: No residues given\r\n"
       ]
      },
      {
       "output_type": "stream",
       "stream": "stdout",
       "text": [
        "Warning: lcl|Query_6621 SPU_027462-tr cds:pseudogene supercontig:GCA_000002235.2:Scaffold209:223102:250343:1 gene:SPU_027462 transcript:SPU_027462-tr: Warning: Sequence contains no data \r\n",
        "Error: (1431.1) FASTA-Reader: Warning: FASTA-Reader: No residues given\r\n",
        "Error: (1431.1) FASTA-Reader: Warning: FASTA-Reader: No residues given\r\n"
       ]
      },
      {
       "output_type": "stream",
       "stream": "stdout",
       "text": [
        "Warning: lcl|Query_6633 EMSPUT00000004439 cds:pseudogene supercontig:GCA_000002235.2:Scaffold209:509386:509459:-1 gene:EMSPUG00000004439 transcript:EMSPUT00000004439 description:\"tRNA-Met for anticodon CAU\": Warning: Sequence contains no data \r\n",
        "Warning: lcl|Query_6645 EMSPUT00000007663 cds:pseudogene supercontig:GCA_000002235.2:Scaffold2167:114849:114921:-1 gene:EMSPUG00000007663 transcript:EMSPUT00000007663 description:\"tRNA-Met for anticodon CAU\": Warning: Sequence contains no data \r\n"
       ]
      },
      {
       "output_type": "stream",
       "stream": "stdout",
       "text": [
        "Error: (1431.1) FASTA-Reader: Warning: FASTA-Reader: No residues given\r\n"
       ]
      },
      {
       "output_type": "stream",
       "stream": "stdout",
       "text": [
        "Warning: lcl|Query_6680 EMSPUT00000007009 cds:pseudogene supercontig:GCA_000002235.2:Scaffold718:242912:242984:-1 gene:EMSPUG00000007009 transcript:EMSPUT00000007009 description:\"tRNA-Met for anticodon CAU\": Warning: Sequence contains no data \r\n"
       ]
      },
      {
       "output_type": "stream",
       "stream": "stdout",
       "text": [
        "Error: (1431.1) FASTA-Reader: Warning: FASTA-Reader: No residues given\r\n",
        "Error: (1431.1) FASTA-Reader: Warning: FASTA-Reader: No residues given\r\n",
        "Error: (1431.1) FASTA-Reader: Warning: FASTA-Reader: No residues given\r\n"
       ]
      },
      {
       "output_type": "stream",
       "stream": "stdout",
       "text": [
        "Warning: lcl|Query_6702 EMSPUT00000012796 cds:pseudogene supercontig:GCA_000002235.2:Scaffold108:949166:949233:1 gene:EMSPUG00000012796 transcript:EMSPUT00000012796 description:\"tRNA-Undet for anticodon \\x3f\\x3f\\x3f\": Warning: Sequence contains no data \r\n",
        "Warning: lcl|Query_6717 EMSPUT00000000448 cds:pseudogene supercontig:GCA_000002235.2:Scaffold300:97699:97770:-1 gene:EMSPUG00000000448 transcript:EMSPUT00000000448 description:\"tRNA-Cys for anticodon GCA\": Warning: Sequence contains no data \r\n",
        "Warning: lcl|Query_6718 EMSPUT00000009744 cds:pseudogene supercontig:GCA_000002235.2:Scaffold300:98903:98974:-1 gene:EMSPUG00000009744 transcript:EMSPUT00000009744 description:\"tRNA-Cys for anticodon GCA\": Warning: Sequence contains no data \r\n",
        "Error: (1431.1) FASTA-Reader: Warning: FASTA-Reader: No residues given\r\n",
        "Error: (1431.1) FASTA-Reader: Warning: FASTA-Reader: No residues given\r\n",
        "Error: (1431.1) FASTA-Reader: Warning: FASTA-Reader: No residues given\r\n"
       ]
      },
      {
       "output_type": "stream",
       "stream": "stdout",
       "text": [
        "Warning: lcl|Query_6724 EMSPUT00000003000 cds:pseudogene supercontig:GCA_000002235.2:Scaffold300:276930:276997:1 gene:EMSPUG00000003000 transcript:EMSPUT00000003000 description:\"Mammalian CPEB3 ribozyme\": Warning: Sequence contains no data \r\n",
        "Warning: lcl|Query_6729 EMSPUT00000009864 cds:pseudogene supercontig:GCA_000002235.2:Scaffold478:187133:187205:-1 gene:EMSPUG00000009864 transcript:EMSPUT00000009864 description:\"tRNA-Met for anticodon CAU\": Warning: Sequence contains no data \r\n",
        "Warning: lcl|Query_6735 EMSPUT00000000817 cds:pseudogene supercontig:GCA_000002235.2:Scaffold478:268581:268652:-1 gene:EMSPUG00000000817 transcript:EMSPUT00000000817 description:\"tRNA-Glu for anticodon CUC\": Warning: Sequence contains no data \r\n"
       ]
      },
      {
       "output_type": "stream",
       "stream": "stdout",
       "text": [
        "Error: (1431.1) FASTA-Reader: Warning: FASTA-Reader: No residues given\r\n",
        "Error: (1431.1) FASTA-Reader: Warning: FASTA-Reader: No residues given\r\n",
        "Error: (1431.1) FASTA-Reader: Warning: FASTA-Reader: No residues given\r\n"
       ]
      },
      {
       "output_type": "stream",
       "stream": "stdout",
       "text": [
        "Warning: lcl|Query_6750 SPU_030018-tr cds:pseudogene supercontig:GCA_000002235.2:Scaffold478:582392:582621:-1 gene:SPU_030018 transcript:SPU_030018-tr: Warning: Sequence contains no data \r\n",
        "Warning: lcl|Query_6754 EMSPUT00000000271 cds:pseudogene supercontig:GCA_000002235.2:Scaffold2090:91685:91766:1 gene:EMSPUG00000000271 transcript:EMSPUT00000000271 description:\"tRNA-Leu for anticodon AAG\": Warning: Sequence contains no data \r\n",
        "Warning: lcl|Query_6755 EMSPUT00000015466 cds:pseudogene supercontig:GCA_000002235.2:Scaffold2090:92749:92830:1 gene:EMSPUG00000015466 transcript:EMSPUT00000015466 description:\"tRNA-Leu for anticodon AAG\": Warning: Sequence contains no data \r\n",
        "Error: (1431.1) FASTA-Reader: Warning: FASTA-Reader: No residues given\r\n"
       ]
      },
      {
       "output_type": "stream",
       "stream": "stdout",
       "text": [
        "Warning: lcl|Query_6773 EMSPUT00000012040 cds:pseudogene supercontig:GCA_000002235.2:Scaffold32:578712:578784:-1 gene:EMSPUG00000012040 transcript:EMSPUT00000012040 description:\"tRNA-Glu for anticodon CUC\": Warning: Sequence contains no data \r\n"
       ]
      },
      {
       "output_type": "stream",
       "stream": "stdout",
       "text": [
        "Error: (1431.1) FASTA-Reader: Warning: FASTA-Reader: No residues given\r\n"
       ]
      },
      {
       "output_type": "stream",
       "stream": "stdout",
       "text": [
        "Warning: lcl|Query_6809 EMSPUT00000006507 cds:pseudogene supercontig:GCA_000002235.2:Scaffold259:109446:109518:1 gene:EMSPUG00000006507 transcript:EMSPUT00000006507 description:\"tRNA-Thr for anticodon AGU\": Warning: Sequence contains no data \r\n"
       ]
      },
      {
       "output_type": "stream",
       "stream": "stdout",
       "text": [
        "Error: (1431.1) FASTA-Reader: Warning: FASTA-Reader: No residues given\r\n"
       ]
      },
      {
       "output_type": "stream",
       "stream": "stdout",
       "text": [
        "Warning: lcl|Query_6878 EMSPUT00000002810 cds:pseudogene supercontig:GCA_000002235.2:Scaffold482:332439:332512:-1 gene:EMSPUG00000002810 transcript:EMSPUT00000002810 description:\"tRNA-Ala for anticodon GGC\": Warning: Sequence contains no data \r\n"
       ]
      },
      {
       "output_type": "stream",
       "stream": "stdout",
       "text": [
        "Error: (1431.1) FASTA-Reader: Warning: FASTA-Reader: No residues given\r\n"
       ]
      },
      {
       "output_type": "stream",
       "stream": "stdout",
       "text": [
        "Warning: lcl|Query_6932 EMSPUT00000004117 cds:pseudogene supercontig:GCA_000002235.2:Scaffold799:25051:25123:-1 gene:EMSPUG00000004117 transcript:EMSPUT00000004117 description:\"tRNA-Met for anticodon CAU\": Warning: Sequence contains no data \r\n",
        "Error: (1431.1) FASTA-Reader: Warning: FASTA-Reader: No residues given\r\n",
        "Error: (1431.1) FASTA-Reader: Warning: FASTA-Reader: No residues given\r\n"
       ]
      },
      {
       "output_type": "stream",
       "stream": "stdout",
       "text": [
        "Warning: lcl|Query_6938 EMSPUT00000000953 cds:pseudogene supercontig:GCA_000002235.2:Scaffold799:162492:162564:1 gene:EMSPUG00000000953 transcript:EMSPUT00000000953 description:\"tRNA-Met for anticodon CAU\": Warning: Sequence contains no data \r\n",
        "Warning: lcl|Query_6939 EMSPUT00000012949 cds:pseudogene supercontig:GCA_000002235.2:Scaffold1737:16068:16138:1 gene:EMSPUG00000012949 transcript:EMSPUT00000012949 description:\"tRNA-Tyr for anticodon GUA\": Warning: Sequence contains no data \r\n",
        "Error: (1431.1) FASTA-Reader: Warning: FASTA-Reader: No residues given\r\n",
        "Error: (1431.1) FASTA-Reader: Warning: FASTA-Reader: No residues given\r\n"
       ]
      },
      {
       "output_type": "stream",
       "stream": "stdout",
       "text": [
        "Warning: lcl|Query_6953 EMSPUT00000010861 cds:pseudogene supercontig:GCA_000002235.2:Scaffold1119:77236:77309:1 gene:EMSPUG00000010861 transcript:EMSPUT00000010861 description:\"tRNA-Ala for anticodon GGC\": Warning: Sequence contains no data \r\n",
        "Warning: lcl|Query_6956 EMSPUT00000010349 cds:pseudogene supercontig:GCA_000002235.2:Scaffold1119:172982:173056:1 gene:EMSPUG00000010349 transcript:EMSPUT00000010349 description:\"tRNA-His for anticodon AUG\": Warning: Sequence contains no data \r\n",
        "Error: (1431.1) FASTA-Reader: Warning: FASTA-Reader: No residues given\r\n",
        "Error: (1431.1) FASTA-Reader: Warning: FASTA-Reader: No residues given\r\n"
       ]
      },
      {
       "output_type": "stream",
       "stream": "stdout",
       "text": [
        "Warning: lcl|Query_6972 EMSPUT00000015775 cds:pseudogene supercontig:GCA_000002235.2:Scaffold3628:12046:12118:-1 gene:EMSPUG00000015775 transcript:EMSPUT00000015775 description:\"tRNA-Met for anticodon CAU\": Warning: Sequence contains no data \r\n",
        "Warning: lcl|Query_6983 EMSPUT00000005925 cds:pseudogene supercontig:GCA_000002235.2:Scaffold55:262097:262172:1 gene:EMSPUG00000005925 transcript:EMSPUT00000005925 description:\"tRNA-Ser for anticodon GGA\": Warning: Sequence contains no data \r\n",
        "Error: (1431.1) FASTA-Reader: Warning: FASTA-Reader: No residues given\r\n"
       ]
      },
      {
       "output_type": "stream",
       "stream": "stdout",
       "text": [
        "Warning: lcl|Query_6996 EMSPUT00000015550 cds:pseudogene supercontig:GCA_000002235.2:Scaffold55:790069:790141:-1 gene:EMSPUG00000015550 transcript:EMSPUT00000015550 description:\"tRNA-Met for anticodon CAU\": Warning: Sequence contains no data \r\n",
        "Error: (1431.1) FASTA-Reader: Warning: FASTA-Reader: No residues given\r\n"
       ]
      },
      {
       "output_type": "stream",
       "stream": "stdout",
       "text": [
        "Warning: lcl|Query_7012 EMSPUT00000006659 cds:pseudogene supercontig:GCA_000002235.2:Scaffold55:974870:974942:-1 gene:EMSPUG00000006659 transcript:EMSPUT00000006659 description:\"tRNA-Ile for anticodon GAU\": Warning: Sequence contains no data \r\n",
        "Error: (1431.1) FASTA-Reader: Warning: FASTA-Reader: No residues given\r\n"
       ]
      },
      {
       "output_type": "stream",
       "stream": "stdout",
       "text": [
        "Warning: lcl|Query_7024 EMSPUT00000008310 cds:pseudogene supercontig:GCA_000002235.2:Scaffold634:91202:91274:-1 gene:EMSPUG00000008310 transcript:EMSPUT00000008310 description:\"tRNA-Met for anticodon CAU\": Warning: Sequence contains no data \r\n"
       ]
      },
      {
       "output_type": "stream",
       "stream": "stdout",
       "text": [
        "Error: (1431.1) FASTA-Reader: Warning: FASTA-Reader: No residues given\r\n"
       ]
      },
      {
       "output_type": "stream",
       "stream": "stdout",
       "text": [
        "Warning: lcl|Query_7051 EMSPUT00000005388 cds:pseudogene supercontig:GCA_000002235.2:Scaffold3348:14540:14607:-1 gene:EMSPUG00000005388 transcript:EMSPUT00000005388 description:\"tRNA-Ala for anticodon CGC\": Warning: Sequence contains no data \r\n",
        "Error: (1431.1) FASTA-Reader: Warning: FASTA-Reader: No residues given\r\n"
       ]
      },
      {
       "output_type": "stream",
       "stream": "stdout",
       "text": [
        "Warning: lcl|Query_7061 EMSPUT00000003082 cds:pseudogene supercontig:GCA_000002235.2:Scaffold832:46984:47056:-1 gene:EMSPUG00000003082 transcript:EMSPUT00000003082 description:\"tRNA-Val for anticodon UAC\": Warning: Sequence contains no data \r\n"
       ]
      },
      {
       "output_type": "stream",
       "stream": "stdout",
       "text": [
        "Error: (1431.1) FASTA-Reader: Warning: FASTA-Reader: No residues given\r\n"
       ]
      },
      {
       "output_type": "stream",
       "stream": "stdout",
       "text": [
        "Warning: lcl|Query_7120 EMSPUT00000013706 cds:pseudogene supercontig:GCA_000002235.2:Scaffold429:590044:590116:-1 gene:EMSPUG00000013706 transcript:EMSPUT00000013706 description:\"tRNA-Ser for anticodon UGA\": Warning: Sequence contains no data \r\n",
        "Error: (1431.1) FASTA-Reader: Warning: FASTA-Reader: No residues given\r\n"
       ]
      },
      {
       "output_type": "stream",
       "stream": "stdout",
       "text": [
        "Warning: lcl|Query_7134 EMSPUT00000014300 cds:pseudogene supercontig:GCA_000002235.2:Scaffold1334:70754:70826:1 gene:EMSPUG00000014300 transcript:EMSPUT00000014300 description:\"tRNA-Met for anticodon CAU\": Warning: Sequence contains no data \r\n",
        "Error: (1431.1) FASTA-Reader: Warning: FASTA-Reader: No residues given\r\n",
        "Error: (1431.1) FASTA-Reader: Warning: FASTA-Reader: No residues given\r\n"
       ]
      },
      {
       "output_type": "stream",
       "stream": "stdout",
       "text": [
        "Warning: lcl|Query_7146 EMSPUT00000005268 cds:pseudogene supercontig:GCA_000002235.2:Scaffold376:24890:24961:1 gene:EMSPUG00000005268 transcript:EMSPUT00000005268 description:\"tRNA-Met for anticodon CAU\": Warning: Sequence contains no data \r\n",
        "Warning: lcl|Query_7163 EMSPUT00000006577 cds:pseudogene supercontig:GCA_000002235.2:Scaffold127:5781:5853:1 gene:EMSPUG00000006577 transcript:EMSPUT00000006577 description:\"tRNA-Met for anticodon CAU\": Warning: Sequence contains no data \r\n",
        "Error: (1431.1) FASTA-Reader: Warning: FASTA-Reader: No residues given\r\n"
       ]
      },
      {
       "output_type": "stream",
       "stream": "stdout",
       "text": [
        "Warning: lcl|Query_7171 EMSPUT00000012795 cds:pseudogene supercontig:GCA_000002235.2:Scaffold127:175872:175943:-1 gene:EMSPUG00000012795 transcript:EMSPUT00000012795 description:\"tRNA-Gly for anticodon UCC\": Warning: Sequence contains no data \r\n"
       ]
      },
      {
       "output_type": "stream",
       "stream": "stdout",
       "text": [
        "Error: (1431.1) FASTA-Reader: Warning: FASTA-Reader: No residues given\r\n",
        "Error: (1431.1) FASTA-Reader: Warning: FASTA-Reader: No residues given\r\n",
        "Error: (1431.1) FASTA-Reader: Warning: FASTA-Reader: No residues given\r\n"
       ]
      },
      {
       "output_type": "stream",
       "stream": "stdout",
       "text": [
        "Warning: lcl|Query_7203 EMSPUT00000006238 cds:pseudogene supercontig:GCA_000002235.2:Scaffold127:832010:832083:-1 gene:EMSPUG00000006238 transcript:EMSPUT00000006238 description:\"tRNA-Ala for anticodon GGC\": Warning: Sequence contains no data \r\n"
       ]
      },
      {
       "output_type": "stream",
       "stream": "stdout",
       "text": [
        "Warning: lcl|Query_7208 EMSPUT00000015446 cds:pseudogene supercontig:GCA_000002235.2:Scaffold127:990546:990619:-1 gene:EMSPUG00000015446 transcript:EMSPUT00000015446 description:\"tRNA-Ser for anticodon UGA\": Warning: Sequence contains no data \r\n",
        "Warning: lcl|Query_7218 EMSPUT00000012073 cds:pseudogene supercontig:GCA_000002235.2:Scaffold1129:69035:69109:1 gene:EMSPUG00000012073 transcript:EMSPUT00000012073 description:\"tRNA-Tyr for anticodon GUA\": Warning: Sequence contains no data \r\n",
        "Error: (1431.1) FASTA-Reader: Warning: FASTA-Reader: No residues given\r\n",
        "Error: (1431.1) FASTA-Reader: Warning: FASTA-Reader: No residues given\r\n",
        "Error: (1431.1) FASTA-Reader: Warning: FASTA-Reader: No residues given\r\n",
        "Error: (1431.1) FASTA-Reader: Warning: FASTA-Reader: No residues given\r\n",
        "Error: (1431.1) FASTA-Reader: Warning: FASTA-Reader: No residues given\r\n",
        "Error: (1431.1) FASTA-Reader: Warning: FASTA-Reader: No residues given\r\n",
        "Error: (1431.1) FASTA-Reader: Warning: FASTA-Reader: No residues given\r\n",
        "Error: (1431.1) FASTA-Reader: Warning: FASTA-Reader: No residues given\r\n",
        "Error: (1431.1) FASTA-Reader: Warning: FASTA-Reader: No residues given\r\n"
       ]
      },
      {
       "output_type": "stream",
       "stream": "stdout",
       "text": [
        "Warning: lcl|Query_7222 EMSPUT00000003909 cds:pseudogene supercontig:GCA_000002235.2:Scaffold1129:174534:174606:1 gene:EMSPUG00000003909 transcript:EMSPUT00000003909 description:\"tRNA-Lys for anticodon CUU\": Warning: Sequence contains no data \r\n",
        "Warning: lcl|Query_7223 EMSPUT00000013983 cds:pseudogene supercontig:GCA_000002235.2:Scaffold1129:174952:175024:-1 gene:EMSPUG00000013983 transcript:EMSPUT00000013983 description:\"tRNA-Lys for anticodon CUU\": Warning: Sequence contains no data \r\n",
        "Warning: lcl|Query_7224 EMSPUT00000008698 cds:pseudogene supercontig:GCA_000002235.2:Scaffold1129:176370:176442:1 gene:EMSPUG00000008698 transcript:EMSPUT00000008698 description:\"tRNA-Lys for anticodon CUU\": Warning: Sequence contains no data \r\n",
        "Warning: lcl|Query_7225 EMSPUT00000013028 cds:pseudogene supercontig:GCA_000002235.2:Scaffold1129:176885:176957:1 gene:EMSPUG00000013028 transcript:EMSPUT00000013028 description:\"tRNA-Lys for anticodon CUU\": Warning: Sequence contains no data \r\n",
        "Warning: lcl|Query_7226 EMSPUT00000013397 cds:pseudogene supercontig:GCA_000002235.2:Scaffold1129:178719:178791:-1 gene:EMSPUG00000013397 transcript:EMSPUT00000013397 description:\"tRNA-Lys for anticodon CUU\": Warning: Sequence contains no data \r\n",
        "Warning: lcl|Query_7227 EMSPUT00000004625 cds:pseudogene supercontig:GCA_000002235.2:Scaffold1129:179612:179684:-1 gene:EMSPUG00000004625 transcript:EMSPUT00000004625 description:\"tRNA-Lys for anticodon CUU\": Warning: Sequence contains no data \r\n",
        "Warning: lcl|Query_7228 EMSPUT00000015589 cds:pseudogene supercontig:GCA_000002235.2:Scaffold1129:180872:180944:-1 gene:EMSPUG00000015589 transcript:EMSPUT00000015589 description:\"tRNA-Lys for anticodon CUU\": Warning: Sequence contains no data \r\n",
        "Warning: lcl|Query_7229 EMSPUT00000010690 cds:pseudogene supercontig:GCA_000002235.2:Scaffold1129:181933:182005:1 gene:EMSPUG00000010690 transcript:EMSPUT00000010690 description:\"tRNA-Lys for anticodon CUU\": Warning: Sequence contains no data \r\n",
        "Warning: lcl|Query_7230 EMSPUT00000014006 cds:pseudogene supercontig:GCA_000002235.2:Scaffold1129:224796:224868:1 gene:EMSPUG00000014006 transcript:EMSPUT00000014006 description:\"tRNA-Lys for anticodon UUU\": Warning: Sequence contains no data \r\n",
        "Error: (1431.1) FASTA-Reader: Warning: FASTA-Reader: No residues given\r\n",
        "Error: (1431.1) FASTA-Reader: Warning: FASTA-Reader: No residues given\r\n",
        "Error: (1431.1) FASTA-Reader: Warning: FASTA-Reader: No residues given\r\n",
        "Error: (1431.1) FASTA-Reader: Warning: FASTA-Reader: No residues given\r\n",
        "Error: (1431.1) FASTA-Reader: Warning: FASTA-Reader: No residues given\r\n",
        "Error: (1431.1) FASTA-Reader: Warning: FASTA-Reader: No residues given\r\n",
        "Error: (1431.1) FASTA-Reader: Warning: FASTA-Reader: No residues given\r\n",
        "Error: (1431.1) FASTA-Reader: Warning: FASTA-Reader: No residues given\r\n",
        "Error: (1431.1) FASTA-Reader: Warning: FASTA-Reader: No residues given\r\n",
        "Error: (1431.1) FASTA-Reader: Warning: FASTA-Reader: No residues given\r\n",
        "Error: (1431.1) FASTA-Reader: Warning: FASTA-Reader: No residues given\r\n",
        "Error: (1431.1) FASTA-Reader: Warning: FASTA-Reader: No residues given\r\n",
        "Error: (1431.1) FASTA-Reader: Warning: FASTA-Reader: No residues given\r\n",
        "Error: (1431.1) FASTA-Reader: Warning: FASTA-Reader: No residues given\r\n",
        "Error: (1431.1) FASTA-Reader: Warning: FASTA-Reader: No residues given\r\n",
        "Error: (1431.1) FASTA-Reader: Warning: FASTA-Reader: No residues given\r\n"
       ]
      },
      {
       "output_type": "stream",
       "stream": "stdout",
       "text": [
        "Warning: lcl|Query_7242 EMSPUT00000004141 cds:pseudogene supercontig:GCA_000002235.2:Scaffold1182:214562:214633:1 gene:EMSPUG00000004141 transcript:EMSPUT00000004141 description:\"tRNA-Thr for anticodon UGU\": Warning: Sequence contains no data \r\n",
        "Warning: lcl|Query_7243 EMSPUT00000010091 cds:pseudogene supercontig:GCA_000002235.2:Scaffold1182:214886:214957:1 gene:EMSPUG00000010091 transcript:EMSPUT00000010091 description:\"tRNA-Thr for anticodon UGU\": Warning: Sequence contains no data \r\n",
        "Warning: lcl|Query_7244 EMSPUT00000002824 cds:pseudogene supercontig:GCA_000002235.2:Scaffold1182:215210:215281:1 gene:EMSPUG00000002824 transcript:EMSPUT00000002824 description:\"tRNA-Thr for anticodon UGU\": Warning: Sequence contains no data \r\n",
        "Warning: lcl|Query_7245 EMSPUT00000009842 cds:pseudogene supercontig:GCA_000002235.2:Scaffold1182:215534:215605:1 gene:EMSPUG00000009842 transcript:EMSPUT00000009842 description:\"tRNA-Thr for anticodon UGU\": Warning: Sequence contains no data \r\n",
        "Warning: lcl|Query_7246 EMSPUT00000000618 cds:pseudogene supercontig:GCA_000002235.2:Scaffold1182:215858:215929:1 gene:EMSPUG00000000618 transcript:EMSPUT00000000618 description:\"tRNA-Thr for anticodon UGU\": Warning: Sequence contains no data \r\n",
        "Warning: lcl|Query_7247 EMSPUT00000001748 cds:pseudogene supercontig:GCA_000002235.2:Scaffold1182:216182:216253:1 gene:EMSPUG00000001748 transcript:EMSPUT00000001748 description:\"tRNA-Thr for anticodon UGU\": Warning: Sequence contains no data \r\n",
        "Warning: lcl|Query_7248 EMSPUT00000009001 cds:pseudogene supercontig:GCA_000002235.2:Scaffold1182:216475:216546:1 gene:EMSPUG00000009001 transcript:EMSPUT00000009001 description:\"tRNA-Thr for anticodon UGU\": Warning: Sequence contains no data \r\n",
        "Warning: lcl|Query_7249 EMSPUT00000006020 cds:pseudogene supercontig:GCA_000002235.2:Scaffold1182:216796:216867:1 gene:EMSPUG00000006020 transcript:EMSPUT00000006020 description:\"tRNA-Thr for anticodon UGU\": Warning: Sequence contains no data \r\n",
        "Warning: lcl|Query_7250 EMSPUT00000015220 cds:pseudogene supercontig:GCA_000002235.2:Scaffold1182:217145:217216:1 gene:EMSPUG00000015220 transcript:EMSPUT00000015220 description:\"tRNA-Thr for anticodon UGU\": Warning: Sequence contains no data \r\n",
        "Warning: lcl|Query_7251 EMSPUT00000004612 cds:pseudogene supercontig:GCA_000002235.2:Scaffold1182:217451:217522:1 gene:EMSPUG00000004612 transcript:EMSPUT00000004612 description:\"tRNA-Thr for anticodon UGU\": Warning: Sequence contains no data \r\n",
        "Warning: lcl|Query_7252 EMSPUT00000013299 cds:pseudogene supercontig:GCA_000002235.2:Scaffold1182:218110:218181:1 gene:EMSPUG00000013299 transcript:EMSPUT00000013299 description:\"tRNA-Thr for anticodon UGU\": Warning: Sequence contains no data \r\n",
        "Warning: lcl|Query_7253 EMSPUT00000010746 cds:pseudogene supercontig:GCA_000002235.2:Scaffold1182:218461:218532:1 gene:EMSPUG00000010746 transcript:EMSPUT00000010746 description:\"tRNA-Thr for anticodon UGU\": Warning: Sequence contains no data \r\n",
        "Warning: lcl|Query_7254 EMSPUT00000003799 cds:pseudogene supercontig:GCA_000002235.2:Scaffold1182:219059:219131:1 gene:EMSPUG00000003799 transcript:EMSPUT00000003799 description:\"tRNA-Thr for anticodon UGU\": Warning: Sequence contains no data \r\n",
        "Warning: lcl|Query_7255 EMSPUT00000011063 cds:pseudogene supercontig:GCA_000002235.2:Scaffold1182:219389:219460:1 gene:EMSPUG00000011063 transcript:EMSPUT00000011063 description:\"tRNA-Thr for anticodon UGU\": Warning: Sequence contains no data \r\n",
        "Warning: lcl|Query_7256 EMSPUT00000000379 cds:pseudogene supercontig:GCA_000002235.2:Scaffold1182:219876:219947:1 gene:EMSPUG00000000379 transcript:EMSPUT00000000379 description:\"tRNA-Thr for anticodon UGU\": Warning: Sequence contains no data \r\n",
        "Warning: lcl|Query_7258 EMSPUT00000005861 cds:pseudogene supercontig:GCA_000002235.2:Scaffold16857:35339:35411:1 gene:EMSPUG00000005861 transcript:EMSPUT00000005861 description:\"tRNA-Met for anticodon CAU\": Warning: Sequence contains no data \r\n",
        "Error: (1431.1) FASTA-Reader: Warning: FASTA-Reader: No residues given\r\n"
       ]
      },
      {
       "output_type": "stream",
       "stream": "stdout",
       "text": [
        "Warning: lcl|Query_7273 EMSPUT00000013260 cds:pseudogene supercontig:GCA_000002235.2:Scaffold151:590170:590242:-1 gene:EMSPUG00000013260 transcript:EMSPUT00000013260 description:\"tRNA-Met for anticodon CAU\": Warning: Sequence contains no data \r\n"
       ]
      },
      {
       "output_type": "stream",
       "stream": "stdout",
       "text": [
        "Error: (1431.1) FASTA-Reader: Warning: FASTA-Reader: No residues given\r\n"
       ]
      },
      {
       "output_type": "stream",
       "stream": "stdout",
       "text": [
        "Warning: lcl|Query_7320 EMSPUT00000002114 cds:pseudogene supercontig:GCA_000002235.2:Scaffold4282:25713:25785:-1 gene:EMSPUG00000002114 transcript:EMSPUT00000002114 description:\"tRNA-Met for anticodon CAU\": Warning: Sequence contains no data \r\n",
        "Error: (1431.1) FASTA-Reader: Warning: FASTA-Reader: No residues given\r\n",
        "Error: (1431.1) FASTA-Reader: Warning: FASTA-Reader: No residues given\r\n",
        "Error: (1431.1) FASTA-Reader: Warning: FASTA-Reader: No residues given\r\n",
        "Error: (1431.1) FASTA-Reader: Warning: FASTA-Reader: No residues given\r\n",
        "Error: (1431.1) FASTA-Reader: Warning: FASTA-Reader: No residues given\r\n",
        "Error: (1431.1) FASTA-Reader: Warning: FASTA-Reader: No residues given\r\n",
        "Error: (1431.1) FASTA-Reader: Warning: FASTA-Reader: No residues given\r\n",
        "Error: (1431.1) FASTA-Reader: Warning: FASTA-Reader: No residues given\r\n",
        "Error: (1431.1) FASTA-Reader: Warning: FASTA-Reader: No residues given\r\n"
       ]
      },
      {
       "output_type": "stream",
       "stream": "stdout",
       "text": [
        "Warning: lcl|Query_7333 EMSPUT00000005017 cds:pseudogene supercontig:GCA_000002235.2:Scaffold64:282434:282507:-1 gene:EMSPUG00000005017 transcript:EMSPUT00000005017 description:\"tRNA-Asn for anticodon GUU\": Warning: Sequence contains no data \r\n",
        "Warning: lcl|Query_7344 EMSPUT00000010775 cds:pseudogene supercontig:GCA_000002235.2:Scaffold64:601449:601520:-1 gene:EMSPUG00000010775 transcript:EMSPUT00000010775 description:\"tRNA-Pro for anticodon AGG\": Warning: Sequence contains no data \r\n",
        "Warning: lcl|Query_7345 EMSPUT00000000422 cds:pseudogene supercontig:GCA_000002235.2:Scaffold64:603308:603379:-1 gene:EMSPUG00000000422 transcript:EMSPUT00000000422 description:\"tRNA-Pro for anticodon CGG\": Warning: Sequence contains no data \r\n",
        "Warning: lcl|Query_7346 EMSPUT00000007119 cds:pseudogene supercontig:GCA_000002235.2:Scaffold64:603458:603529:-1 gene:EMSPUG00000007119 transcript:EMSPUT00000007119 description:\"tRNA-Pro for anticodon UGG\": Warning: Sequence contains no data \r\n",
        "Warning: lcl|Query_7347 EMSPUT00000012624 cds:pseudogene supercontig:GCA_000002235.2:Scaffold64:605270:605341:1 gene:EMSPUG00000012624 transcript:EMSPUT00000012624 description:\"tRNA-Pro for anticodon UGG\": Warning: Sequence contains no data \r\n",
        "Warning: lcl|Query_7348 EMSPUT00000015430 cds:pseudogene supercontig:GCA_000002235.2:Scaffold64:605759:605830:-1 gene:EMSPUG00000015430 transcript:EMSPUT00000015430 description:\"tRNA-Pro for anticodon CGG\": Warning: Sequence contains no data \r\n",
        "Warning: lcl|Query_7349 EMSPUT00000010096 cds:pseudogene supercontig:GCA_000002235.2:Scaffold64:605924:605995:-1 gene:EMSPUG00000010096 transcript:EMSPUT00000010096 description:\"tRNA-Pro for anticodon UGG\": Warning: Sequence contains no data \r\n",
        "Warning: lcl|Query_7350 EMSPUT00000005487 cds:pseudogene supercontig:GCA_000002235.2:Scaffold64:608473:608544:1 gene:EMSPUG00000005487 transcript:EMSPUT00000005487 description:\"tRNA-Pro for anticodon UGG\": Warning: Sequence contains no data \r\n",
        "Warning: lcl|Query_7351 EMSPUT00000001296 cds:pseudogene supercontig:GCA_000002235.2:Scaffold64:608973:609044:-1 gene:EMSPUG00000001296 transcript:EMSPUT00000001296 description:\"tRNA-Pro for anticodon CGG\": Warning: Sequence contains no data \r\n"
       ]
      },
      {
       "output_type": "stream",
       "stream": "stdout",
       "text": [
        "Error: (1431.1) FASTA-Reader: Warning: FASTA-Reader: No residues given\r\n",
        "Error: (1431.1) FASTA-Reader: Warning: FASTA-Reader: No residues given\r\n",
        "Error: (1431.1) FASTA-Reader: Warning: FASTA-Reader: No residues given\r\n"
       ]
      },
      {
       "output_type": "stream",
       "stream": "stdout",
       "text": [
        "Warning: lcl|Query_7374 SPU_023544-tr cds:pseudogene supercontig:GCA_000002235.2:Scaffold2570:33419:35807:-1 gene:SPU_023544 transcript:SPU_023544-tr: Warning: Sequence contains no data \r\n",
        "Warning: lcl|Query_7380 EMSPUT00000014124 cds:pseudogene supercontig:GCA_000002235.2:Scaffold2570:91631:91703:-1 gene:EMSPUG00000014124 transcript:EMSPUT00000014124 description:\"tRNA-Glu for anticodon CUC\": Warning: Sequence contains no data \r\n",
        "Warning: lcl|Query_7389 EMSPUT00000010721 cds:pseudogene supercontig:GCA_000002235.2:Scaffold977:22481:22551:-1 gene:EMSPUG00000010721 transcript:EMSPUT00000010721 description:\"tRNA-Ser for anticodon GGA\": Warning: Sequence contains no data \r\n",
        "Error: (1431.1) FASTA-Reader: Warning: FASTA-Reader: No residues given\r\n",
        "Error: (1431.1) FASTA-Reader: Warning: FASTA-Reader: No residues given\r\n"
       ]
      },
      {
       "output_type": "stream",
       "stream": "stdout",
       "text": [
        "Warning: lcl|Query_7405 EMSPUT00000003296 cds:pseudogene supercontig:GCA_000002235.2:Scaffold1225:79284:79360:1 gene:EMSPUG00000003296 transcript:EMSPUT00000003296 description:\"tRNA-Ser for anticodon GCU\": Warning: Sequence contains no data \r\n",
        "Warning: lcl|Query_7407 EMSPUT00000008363 cds:pseudogene supercontig:GCA_000002235.2:Scaffold1225:95156:95228:1 gene:EMSPUG00000008363 transcript:EMSPUT00000008363 description:\"tRNA-Met for anticodon CAU\": Warning: Sequence contains no data \r\n"
       ]
      },
      {
       "output_type": "stream",
       "stream": "stdout",
       "text": [
        "Error: (1431.1) FASTA-Reader: Warning: FASTA-Reader: No residues given\r\n",
        "Error: (1431.1) FASTA-Reader: Warning: FASTA-Reader: No residues given\r\n",
        "Error: (1431.1) FASTA-Reader: Warning: FASTA-Reader: No residues given\r\n",
        "Error: (1431.1) FASTA-Reader: Warning: FASTA-Reader: No residues given\r\n",
        "Error: (1431.1) FASTA-Reader: Warning: FASTA-Reader: No residues given\r\n",
        "Error: (1431.1) FASTA-Reader: Warning: FASTA-Reader: No residues given\r\n",
        "Error: (1431.1) FASTA-Reader: Warning: FASTA-Reader: No residues given\r\n",
        "Error: (1431.1) FASTA-Reader: Warning: FASTA-Reader: No residues given\r\n",
        "Error: (1431.1) FASTA-Reader: Warning: FASTA-Reader: No residues given\r\n",
        "Error: (1431.1) FASTA-Reader: Warning: FASTA-Reader: No residues given\r\n",
        "Error: (1431.1) FASTA-Reader: Warning: FASTA-Reader: No residues given\r\n",
        "Error: (1431.1) FASTA-Reader: Warning: FASTA-Reader: No residues given\r\n",
        "Error: (1431.1) FASTA-Reader: Warning: FASTA-Reader: No residues given\r\n"
       ]
      },
      {
       "output_type": "stream",
       "stream": "stdout",
       "text": [
        "Warning: lcl|Query_7426 EMSPUT00000004248 cds:pseudogene supercontig:GCA_000002235.2:Scaffold2040:14233:14305:1 gene:EMSPUG00000004248 transcript:EMSPUT00000004248 description:\"tRNA-Lys for anticodon UUU\": Warning: Sequence contains no data \r\n",
        "Warning: lcl|Query_7431 EMSPUT00000003714 cds:pseudogene supercontig:GCA_000002235.2:Scaffold2671:38654:38726:1 gene:EMSPUG00000003714 transcript:EMSPUT00000003714 description:\"tRNA-Arg for anticodon ACG\": Warning: Sequence contains no data \r\n",
        "Warning: lcl|Query_7432 EMSPUT00000006966 cds:pseudogene supercontig:GCA_000002235.2:Scaffold2671:38817:38889:1 gene:EMSPUG00000006966 transcript:EMSPUT00000006966 description:\"tRNA-Arg for anticodon ACG\": Warning: Sequence contains no data \r\n",
        "Warning: lcl|Query_7433 EMSPUT00000001885 cds:pseudogene supercontig:GCA_000002235.2:Scaffold2671:38980:39052:1 gene:EMSPUG00000001885 transcript:EMSPUT00000001885 description:\"tRNA-Arg for anticodon ACG\": Warning: Sequence contains no data \r\n",
        "Warning: lcl|Query_7434 EMSPUT00000012327 cds:pseudogene supercontig:GCA_000002235.2:Scaffold2671:47775:47847:1 gene:EMSPUG00000012327 transcript:EMSPUT00000012327 description:\"tRNA-Arg for anticodon ACG\": Warning: Sequence contains no data \r\n",
        "Warning: lcl|Query_7435 EMSPUT00000007522 cds:pseudogene supercontig:GCA_000002235.2:Scaffold2671:47938:48010:1 gene:EMSPUG00000007522 transcript:EMSPUT00000007522 description:\"tRNA-Arg for anticodon ACG\": Warning: Sequence contains no data \r\n",
        "Warning: lcl|Query_7436 EMSPUT00000010067 cds:pseudogene supercontig:GCA_000002235.2:Scaffold2671:48102:48174:1 gene:EMSPUG00000010067 transcript:EMSPUT00000010067 description:\"tRNA-Arg for anticodon ACG\": Warning: Sequence contains no data \r\n",
        "Warning: lcl|Query_7437 EMSPUT00000005280 cds:pseudogene supercontig:GCA_000002235.2:Scaffold2671:48265:48337:1 gene:EMSPUG00000005280 transcript:EMSPUT00000005280 description:\"tRNA-Arg for anticodon ACG\": Warning: Sequence contains no data \r\n",
        "Warning: lcl|Query_7438 EMSPUT00000003885 cds:pseudogene supercontig:GCA_000002235.2:Scaffold2671:48428:48500:1 gene:EMSPUG00000003885 transcript:EMSPUT00000003885 description:\"tRNA-Arg for anticodon ACG\": Warning: Sequence contains no data \r\n",
        "Warning: lcl|Query_7439 EMSPUT00000010857 cds:pseudogene supercontig:GCA_000002235.2:Scaffold2671:48591:48663:1 gene:EMSPUG00000010857 transcript:EMSPUT00000010857 description:\"tRNA-Arg for anticodon ACG\": Warning: Sequence contains no data \r\n",
        "Warning: lcl|Query_7440 EMSPUT00000007564 cds:pseudogene supercontig:GCA_000002235.2:Scaffold2671:48754:48826:1 gene:EMSPUG00000007564 transcript:EMSPUT00000007564 description:\"tRNA-Arg for anticodon ACG\": Warning: Sequence contains no data \r\n",
        "Warning: lcl|Query_7441 EMSPUT00000012622 cds:pseudogene supercontig:GCA_000002235.2:Scaffold2671:48917:48989:1 gene:EMSPUG00000012622 transcript:EMSPUT00000012622 description:\"tRNA-Arg for anticodon ACG\": Warning: Sequence contains no data \r\n",
        "Warning: lcl|Query_7442 EMSPUT00000013701 cds:pseudogene supercontig:GCA_000002235.2:Scaffold2671:49080:49152:1 gene:EMSPUG00000013701 transcript:EMSPUT00000013701 description:\"tRNA-Arg for anticodon ACG\": Warning: Sequence contains no data \r\n",
        "Error: (1431.1) FASTA-Reader: Warning: FASTA-Reader: No residues given\r\n"
       ]
      },
      {
       "output_type": "stream",
       "stream": "stdout",
       "text": [
        "Warning: lcl|Query_7459 EMSPUT00000003933 cds:pseudogene supercontig:GCA_000002235.2:Scaffold1144:238685:238757:-1 gene:EMSPUG00000003933 transcript:EMSPUT00000003933 description:\"tRNA-Thr for anticodon AGU\": Warning: Sequence contains no data \r\n"
       ]
      },
      {
       "output_type": "stream",
       "stream": "stdout",
       "text": [
        "Error: (1431.1) FASTA-Reader: Warning: FASTA-Reader: No residues given\r\n"
       ]
      },
      {
       "output_type": "stream",
       "stream": "stdout",
       "text": [
        "Warning: lcl|Query_7471 EMSPUT00000010784 cds:pseudogene supercontig:GCA_000002235.2:Scaffold883:88028:88100:-1 gene:EMSPUG00000010784 transcript:EMSPUT00000010784 description:\"tRNA-Met for anticodon CAU\": Warning: Sequence contains no data \r\n",
        "Error: (1431.1) FASTA-Reader: Warning: FASTA-Reader: No residues given\r\n"
       ]
      },
      {
       "output_type": "stream",
       "stream": "stdout",
       "text": [
        "Warning: lcl|Query_7491 EMSPUT00000002499 cds:pseudogene supercontig:GCA_000002235.2:Scaffold534:363259:363340:-1 gene:EMSPUG00000002499 transcript:EMSPUT00000002499 description:\"tRNA-Ser for anticodon GCU\": Warning: Sequence contains no data \r\n"
       ]
      },
      {
       "output_type": "stream",
       "stream": "stdout",
       "text": [
        "Error: (1431.1) FASTA-Reader: Warning: FASTA-Reader: No residues given\r\n"
       ]
      },
      {
       "output_type": "stream",
       "stream": "stdout",
       "text": [
        "Warning: lcl|Query_7573 EMSPUT00000011657 cds:pseudogene supercontig:GCA_000002235.2:Scaffold2627:74072:74150:-1 gene:EMSPUG00000011657 transcript:EMSPUT00000011657 description:\"tRNA-Ala for anticodon GGC\": Warning: Sequence contains no data \r\n"
       ]
      },
      {
       "output_type": "stream",
       "stream": "stdout",
       "text": [
        "Error: (1431.1) FASTA-Reader: Warning: FASTA-Reader: No residues given\r\n"
       ]
      },
      {
       "output_type": "stream",
       "stream": "stdout",
       "text": [
        "Warning: lcl|Query_7600 SPU_004957-tr cds:pseudogene supercontig:GCA_000002235.2:Scaffold436:306026:308684:-1 gene:SPU_004957 transcript:SPU_004957-tr: Warning: Sequence contains no data \r\n",
        "Error: (1431.1) FASTA-Reader: Warning: FASTA-Reader: No residues given\r\n"
       ]
      },
      {
       "output_type": "stream",
       "stream": "stdout",
       "text": [
        "Warning: lcl|Query_7622 EMSPUT00000008600 cds:pseudogene supercontig:GCA_000002235.2:Scaffold640:45753:45825:-1 gene:EMSPUG00000008600 transcript:EMSPUT00000008600 description:\"tRNA-Met for anticodon CAU\": Warning: Sequence contains no data \r\n"
       ]
      },
      {
       "output_type": "stream",
       "stream": "stdout",
       "text": [
        "Error: (1431.1) FASTA-Reader: Warning: FASTA-Reader: No residues given\r\n",
        "Error: (1431.1) FASTA-Reader: Warning: FASTA-Reader: No residues given\r\n",
        "Error: (1431.1) FASTA-Reader: Warning: FASTA-Reader: No residues given\r\n",
        "Error: (1431.1) FASTA-Reader: Warning: FASTA-Reader: No residues given\r\n"
       ]
      },
      {
       "output_type": "stream",
       "stream": "stdout",
       "text": [
        "Warning: lcl|Query_7632 EMSPUT00000000937 cds:pseudogene supercontig:GCA_000002235.2:Scaffold640:398728:398803:-1 gene:EMSPUG00000000937 transcript:EMSPUT00000000937 description:\"tRNA-Gln for anticodon CUG\": Warning: Sequence contains no data \r\n",
        "Warning: lcl|Query_7633 EMSPUT00000010018 cds:pseudogene supercontig:GCA_000002235.2:Scaffold640:400282:400353:-1 gene:EMSPUG00000010018 transcript:EMSPUT00000010018 description:\"tRNA-Gln for anticodon CUG\": Warning: Sequence contains no data \r\n",
        "Warning: lcl|Query_7639 EMSPUT00000012190 cds:pseudogene supercontig:GCA_000002235.2:Scaffold640:510036:510109:-1 gene:EMSPUG00000012190 transcript:EMSPUT00000012190 description:\"tRNA-Asn for anticodon GUU\": Warning: Sequence contains no data \r\n",
        "Warning: lcl|Query_7644 EMSPUT00000012793 cds:pseudogene supercontig:GCA_000002235.2:Scaffold12:4457:4529:1 gene:EMSPUG00000012793 transcript:EMSPUT00000012793 description:\"tRNA-Met for anticodon CAU\": Warning: Sequence contains no data \r\n"
       ]
      },
      {
       "output_type": "stream",
       "stream": "stdout",
       "text": [
        "Error: (1431.1) FASTA-Reader: Warning: FASTA-Reader: No residues given\r\n"
       ]
      },
      {
       "output_type": "stream",
       "stream": "stdout",
       "text": [
        "Warning: lcl|Query_7660 EMSPUT00000007600 cds:pseudogene supercontig:GCA_000002235.2:Scaffold12:595440:595511:1 gene:EMSPUG00000007600 transcript:EMSPUT00000007600 description:\"tRNA-Met for anticodon CAU\": Warning: Sequence contains no data \r\n"
       ]
      },
      {
       "output_type": "stream",
       "stream": "stdout",
       "text": [
        "Error: (1431.1) FASTA-Reader: Warning: FASTA-Reader: No residues given\r\n"
       ]
      },
      {
       "output_type": "stream",
       "stream": "stdout",
       "text": [
        "Warning: lcl|Query_7692 EMSPUT00000003985 cds:pseudogene supercontig:GCA_000002235.2:Scaffold1988:38157:38230:1 gene:EMSPUG00000003985 transcript:EMSPUT00000003985 description:\"tRNA-Met for anticodon CAU\": Warning: Sequence contains no data \r\n"
       ]
      },
      {
       "output_type": "stream",
       "stream": "stdout",
       "text": [
        "Error: (1431.1) FASTA-Reader: Warning: FASTA-Reader: No residues given\r\n"
       ]
      },
      {
       "output_type": "stream",
       "stream": "stdout",
       "text": [
        "Warning: lcl|Query_7754 EMSPUT00000002370 cds:pseudogene supercontig:GCA_000002235.2:Scaffold163:505366:505437:-1 gene:EMSPUG00000002370 transcript:EMSPUT00000002370 description:\"tRNA-Ser for anticodon GGA\": Warning: Sequence contains no data \r\n",
        "Error: (1431.1) FASTA-Reader: Warning: FASTA-Reader: No residues given\r\n"
       ]
      },
      {
       "output_type": "stream",
       "stream": "stdout",
       "text": [
        "Warning: lcl|Query_7764 EMSPUT00000011615 cds:pseudogene supercontig:GCA_000002235.2:Scaffold13792:4534:4608:-1 gene:EMSPUG00000011615 transcript:EMSPUT00000011615 description:\"tRNA-SeC for anticodon UCA\": Warning: Sequence contains no data \r\n"
       ]
      },
      {
       "output_type": "stream",
       "stream": "stdout",
       "text": [
        "Error: (1431.1) FASTA-Reader: Warning: FASTA-Reader: No residues given\r\n"
       ]
      },
      {
       "output_type": "stream",
       "stream": "stdout",
       "text": [
        "Warning: lcl|Query_7818 EMSPUT00000009989 cds:pseudogene supercontig:GCA_000002235.2:Scaffold1412:171900:171968:1 gene:EMSPUG00000009989 transcript:EMSPUT00000009989 description:\"tRNA-Thr for anticodon CGU\": Warning: Sequence contains no data \r\n"
       ]
      },
      {
       "output_type": "stream",
       "stream": "stdout",
       "text": [
        "Error: (1431.1) FASTA-Reader: Warning: FASTA-Reader: No residues given\r\n"
       ]
      },
      {
       "output_type": "stream",
       "stream": "stdout",
       "text": [
        "Warning: lcl|Query_7853 EMSPUT00000013060 cds:pseudogene supercontig:GCA_000002235.2:Scaffold280:62637:62711:1 gene:EMSPUG00000013060 transcript:EMSPUT00000013060 description:\"tRNA-Glu for anticodon CUC\": Warning: Sequence contains no data \r\n",
        "Error: (1431.1) FASTA-Reader: Warning: FASTA-Reader: No residues given\r\n"
       ]
      },
      {
       "output_type": "stream",
       "stream": "stdout",
       "text": [
        "Warning: lcl|Query_7870 EMSPUT00000002796 cds:pseudogene supercontig:GCA_000002235.2:Scaffold280:516287:516361:1 gene:EMSPUG00000002796 transcript:EMSPUT00000002796 description:\"tRNA-His for anticodon AUG\": Warning: Sequence contains no data \r\n"
       ]
      },
      {
       "output_type": "stream",
       "stream": "stdout",
       "text": [
        "Error: (1431.1) FASTA-Reader: Warning: FASTA-Reader: No residues given\r\n",
        "Error: (1431.1) FASTA-Reader: Warning: FASTA-Reader: No residues given\r\n"
       ]
      },
      {
       "output_type": "stream",
       "stream": "stdout",
       "text": [
        "Warning: lcl|Query_7950 EMSPUT00000007799 cds:pseudogene supercontig:GCA_000002235.2:Scaffold67:479528:479600:-1 gene:EMSPUG00000007799 transcript:EMSPUT00000007799 description:\"tRNA-Met for anticodon CAU\": Warning: Sequence contains no data \r\n",
        "Warning: lcl|Query_7951 EMSPUT00000006230 cds:pseudogene supercontig:GCA_000002235.2:Scaffold67:521519:521591:-1 gene:EMSPUG00000006230 transcript:EMSPUT00000006230 description:\"tRNA-Met for anticodon CAU\": Warning: Sequence contains no data \r\n",
        "Error: (1431.1) FASTA-Reader: Warning: FASTA-Reader: No residues given\r\n",
        "Error: (1431.1) FASTA-Reader: Warning: FASTA-Reader: No residues given\r\n"
       ]
      },
      {
       "output_type": "stream",
       "stream": "stdout",
       "text": [
        "Warning: lcl|Query_7970 EMSPUT00000009406 cds:pseudogene supercontig:GCA_000002235.2:Scaffold175:23993:24064:-1 gene:EMSPUG00000009406 transcript:EMSPUT00000009406 description:\"tRNA-Glu for anticodon UUC\": Warning: Sequence contains no data \r\n",
        "Warning: lcl|Query_7977 SPU_030148-tr cds:pseudogene supercontig:GCA_000002235.2:Scaffold175:135696:180696:-1 gene:SPU_030148 transcript:SPU_030148-tr: Warning: Sequence contains no data \r\n",
        "Error: (1431.1) FASTA-Reader: Warning: FASTA-Reader: No residues given\r\n"
       ]
      },
      {
       "output_type": "stream",
       "stream": "stdout",
       "text": [
        "Warning: lcl|Query_7983 EMSPUT00000005434 cds:pseudogene supercontig:GCA_000002235.2:Scaffold175:619786:619860:-1 gene:EMSPUG00000005434 transcript:EMSPUT00000005434 description:\"tRNA-Ala for anticodon GGC\": Warning: Sequence contains no data \r\n"
       ]
      },
      {
       "output_type": "stream",
       "stream": "stdout",
       "text": [
        "Error: (1431.1) FASTA-Reader: Warning: FASTA-Reader: No residues given\r\n",
        "Error: (1431.1) FASTA-Reader: Warning: FASTA-Reader: No residues given\r\n"
       ]
      },
      {
       "output_type": "stream",
       "stream": "stdout",
       "text": [
        "Warning: lcl|Query_8025 EMSPUT00000003265 cds:pseudogene supercontig:GCA_000002235.2:Scaffold944:58877:58948:1 gene:EMSPUG00000003265 transcript:EMSPUT00000003265 description:\"tRNA-Gly for anticodon UCC\": Warning: Sequence contains no data \r\n",
        "Warning: lcl|Query_8026 EMSPUT00000009697 cds:pseudogene supercontig:GCA_000002235.2:Scaffold944:62026:62097:1 gene:EMSPUG00000009697 transcript:EMSPUT00000009697 description:\"tRNA-Gly for anticodon UCC\": Warning: Sequence contains no data \r\n",
        "Error: (1431.1) FASTA-Reader: Warning: FASTA-Reader: No residues given\r\n",
        "Error: (1431.1) FASTA-Reader: Warning: FASTA-Reader: No residues given\r\n"
       ]
      },
      {
       "output_type": "stream",
       "stream": "stdout",
       "text": [
        "Warning: lcl|Query_8032 SPU_009970-tr cds:pseudogene supercontig:GCA_000002235.2:Scaffold944:184997:186633:-1 gene:SPU_009970 transcript:SPU_009970-tr: Warning: Sequence contains no data \r\n",
        "Warning: lcl|Query_8033 SPU_015132-tr cds:pseudogene supercontig:GCA_000002235.2:Scaffold944:184997:187641:-1 gene:SPU_015132 transcript:SPU_015132-tr: Warning: Sequence contains no data \r\n",
        "Error: (1431.1) FASTA-Reader: Warning: FASTA-Reader: No residues given\r\n",
        "Error: (1431.1) FASTA-Reader: Warning: FASTA-Reader: No residues given\r\n",
        "Error: (1431.1) FASTA-Reader: Warning: FASTA-Reader: No residues given\r\n"
       ]
      },
      {
       "output_type": "stream",
       "stream": "stdout",
       "text": [
        "Warning: lcl|Query_8052 EMSPUT00000004868 cds:pseudogene supercontig:GCA_000002235.2:Scaffold979:153516:153588:-1 gene:EMSPUG00000004868 transcript:EMSPUT00000004868 description:\"tRNA-Met for anticodon CAU\": Warning: Sequence contains no data \r\n",
        "Warning: lcl|Query_8063 EMSPUT00000014204 cds:pseudogene supercontig:GCA_000002235.2:Scaffold1802:64197:64269:1 gene:EMSPUG00000014204 transcript:EMSPUT00000014204 description:\"tRNA-Met for anticodon CAU\": Warning: Sequence contains no data \r\n",
        "Warning: lcl|Query_8068 EMSPUT00000003816 cds:pseudogene supercontig:GCA_000002235.2:Scaffold1102:113125:113197:-1 gene:EMSPUG00000003816 transcript:EMSPUT00000003816 description:\"tRNA-Met for anticodon CAU\": Warning: Sequence contains no data \r\n",
        "Error: (1431.1) FASTA-Reader: Warning: FASTA-Reader: No residues given\r\n",
        "Error: (1431.1) FASTA-Reader: Warning: FASTA-Reader: No residues given\r\n"
       ]
      },
      {
       "output_type": "stream",
       "stream": "stdout",
       "text": [
        "Warning: lcl|Query_8086 EMSPUT00000008213 cds:pseudogene supercontig:GCA_000002235.2:Scaffold2493:85435:85503:-1 gene:EMSPUG00000008213 transcript:EMSPUT00000008213 description:\"tRNA-Ala for anticodon GGC\": Warning: Sequence contains no data \r\n",
        "Warning: lcl|Query_8087 EMSPUT00000015092 cds:pseudogene supercontig:GCA_000002235.2:Scaffold11527:800:872:-1 gene:EMSPUG00000015092 transcript:EMSPUT00000015092 description:\"tRNA-Met for anticodon CAU\": Warning: Sequence contains no data \r\n",
        "Error: (1431.1) FASTA-Reader: Warning: FASTA-Reader: No residues given\r\n"
       ]
      },
      {
       "output_type": "stream",
       "stream": "stdout",
       "text": [
        "Warning: lcl|Query_8095 EMSPUT00000009751 cds:pseudogene supercontig:GCA_000002235.2:Scaffold653:140888:140962:-1 gene:EMSPUG00000009751 transcript:EMSPUT00000009751 description:\"tRNA-Phe for anticodon GAA\": Warning: Sequence contains no data \r\n",
        "Error: (1431.1) FASTA-Reader: Warning: FASTA-Reader: No residues given\r\n",
        "Error: (1431.1) FASTA-Reader: Warning: FASTA-Reader: No residues given\r\n",
        "Error: (1431.1) FASTA-Reader: Warning: FASTA-Reader: No residues given\r\n"
       ]
      },
      {
       "output_type": "stream",
       "stream": "stdout",
       "text": [
        "Warning: lcl|Query_8117 EMSPUT00000014113 cds:pseudogene supercontig:GCA_000002235.2:Scaffold914:275796:275867:1 gene:EMSPUG00000014113 transcript:EMSPUT00000014113 description:\"tRNA-Glu for anticodon CUC\": Warning: Sequence contains no data \r\n",
        "Warning: lcl|Query_8118 EMSPUT00000007129 cds:pseudogene supercontig:GCA_000002235.2:Scaffold914:276483:276554:1 gene:EMSPUG00000007129 transcript:EMSPUT00000007129 description:\"tRNA-Glu for anticodon CUC\": Warning: Sequence contains no data \r\n",
        "Warning: lcl|Query_8119 EMSPUT00000012218 cds:pseudogene supercontig:GCA_000002235.2:Scaffold914:287249:287320:1 gene:EMSPUG00000012218 transcript:EMSPUT00000012218 description:\"tRNA-Glu for anticodon CUC\": Warning: Sequence contains no data \r\n",
        "Error: (1431.1) FASTA-Reader: Warning: FASTA-Reader: No residues given\r\n"
       ]
      },
      {
       "output_type": "stream",
       "stream": "stdout",
       "text": [
        "Warning: lcl|Query_8138 EMSPUT00000008245 cds:pseudogene supercontig:GCA_000002235.2:Scaffold46:428438:428511:-1 gene:EMSPUG00000008245 transcript:EMSPUT00000008245 description:\"tRNA-Glu for anticodon CUC\": Warning: Sequence contains no data \r\n",
        "Error: (1431.1) FASTA-Reader: Warning: FASTA-Reader: No residues given\r\n"
       ]
      },
      {
       "output_type": "stream",
       "stream": "stdout",
       "text": [
        "Warning: lcl|Query_8158 EMSPUT00000002488 cds:pseudogene supercontig:GCA_000002235.2:Scaffold540:283488:283556:1 gene:EMSPUG00000002488 transcript:EMSPUT00000002488 description:\"tRNA-Ala for anticodon GGC\": Warning: Sequence contains no data \r\n"
       ]
      },
      {
       "output_type": "stream",
       "stream": "stdout",
       "text": [
        "Error: (1431.1) FASTA-Reader: Warning: FASTA-Reader: No residues given\r\n"
       ]
      },
      {
       "output_type": "stream",
       "stream": "stdout",
       "text": [
        "Warning: lcl|Query_8184 EMSPUT00000006668 cds:pseudogene supercontig:GCA_000002235.2:Scaffold1629:93857:93929:-1 gene:EMSPUG00000006668 transcript:EMSPUT00000006668 description:\"tRNA-Thr for anticodon CGU\": Warning: Sequence contains no data \r\n"
       ]
      },
      {
       "output_type": "stream",
       "stream": "stdout",
       "text": [
        "Error: (1431.1) FASTA-Reader: Warning: FASTA-Reader: No residues given\r\n"
       ]
      },
      {
       "output_type": "stream",
       "stream": "stdout",
       "text": [
        "Warning: lcl|Query_8263 EMSPUT00000002669 cds:pseudogene supercontig:GCA_000002235.2:Scaffold118:190648:190720:1 gene:EMSPUG00000002669 transcript:EMSPUT00000002669 description:\"tRNA-Met for anticodon CAU\": Warning: Sequence contains no data \r\n"
       ]
      },
      {
       "output_type": "stream",
       "stream": "stdout",
       "text": [
        "Error: (1431.1) FASTA-Reader: Warning: FASTA-Reader: No residues given\r\n",
        "Error: (1431.1) FASTA-Reader: Warning: FASTA-Reader: No residues given\r\n"
       ]
      },
      {
       "output_type": "stream",
       "stream": "stdout",
       "text": [
        "Warning: lcl|Query_8304 EMSPUT00000008820 cds:pseudogene supercontig:GCA_000002235.2:Scaffold3489:17866:17938:-1 gene:EMSPUG00000008820 transcript:EMSPUT00000008820 description:\"tRNA-Ala for anticodon GGC\": Warning: Sequence contains no data \r\n",
        "Warning: lcl|Query_8305 EMSPUT00000007774 cds:pseudogene supercontig:GCA_000002235.2:Scaffold3489:18152:18224:-1 gene:EMSPUG00000007774 transcript:EMSPUT00000007774 description:\"tRNA-Ala for anticodon GGC\": Warning: Sequence contains no data \r\n"
       ]
      },
      {
       "output_type": "stream",
       "stream": "stdout",
       "text": [
        "Error: (1431.1) FASTA-Reader: Warning: FASTA-Reader: No residues given\r\n"
       ]
      },
      {
       "output_type": "stream",
       "stream": "stdout",
       "text": [
        "Warning: lcl|Query_8339 EMSPUT00000011485 cds:pseudogene supercontig:GCA_000002235.2:Scaffold264:354488:354560:-1 gene:EMSPUG00000011485 transcript:EMSPUT00000011485 description:\"tRNA-Met for anticodon CAU\": Warning: Sequence contains no data \r\n"
       ]
      },
      {
       "output_type": "stream",
       "stream": "stdout",
       "text": [
        "Error: (1431.1) FASTA-Reader: Warning: FASTA-Reader: No residues given\r\n",
        "Error: (1431.1) FASTA-Reader: Warning: FASTA-Reader: No residues given\r\n"
       ]
      },
      {
       "output_type": "stream",
       "stream": "stdout",
       "text": [
        "Warning: lcl|Query_8381 SPU_006939-tr cds:pseudogene supercontig:GCA_000002235.2:Scaffold1368:166412:171460:-1 gene:SPU_006939 transcript:SPU_006939-tr: Warning: Sequence contains no data \r\n",
        "Warning: lcl|Query_8382 SPU_017104-tr cds:pseudogene supercontig:GCA_000002235.2:Scaffold2418:14739:15427:1 gene:SPU_017104 transcript:SPU_017104-tr: Warning: Sequence contains no data \r\n"
       ]
      },
      {
       "output_type": "stream",
       "stream": "stdout",
       "text": [
        "Error: (1431.1) FASTA-Reader: Warning: FASTA-Reader: No residues given\r\n",
        "Error: (1431.1) FASTA-Reader: Warning: FASTA-Reader: No residues given\r\n",
        "Error: (1431.1) FASTA-Reader: Warning: FASTA-Reader: No residues given\r\n",
        "Error: (1431.1) FASTA-Reader: Warning: FASTA-Reader: No residues given\r\n"
       ]
      },
      {
       "output_type": "stream",
       "stream": "stdout",
       "text": [
        "Warning: lcl|Query_8415 EMSPUT00000008219 cds:pseudogene supercontig:GCA_000002235.2:Scaffold106:865534:865605:1 gene:EMSPUG00000008219 transcript:EMSPUT00000008219 description:\"tRNA-Ala for anticodon GGC\": Warning: Sequence contains no data \r\n",
        "Warning: lcl|Query_8420 EMSPUT00000012399 cds:pseudogene supercontig:GCA_000002235.2:Scaffold2246:56087:56158:-1 gene:EMSPUG00000012399 transcript:EMSPUT00000012399 description:\"tRNA-Ala for anticodon UGC\": Warning: Sequence contains no data \r\n",
        "Warning: lcl|Query_8421 EMSPUT00000005163 cds:pseudogene supercontig:GCA_000002235.2:Scaffold2246:56782:56853:-1 gene:EMSPUG00000005163 transcript:EMSPUT00000005163 description:\"tRNA-Ala for anticodon UGC\": Warning: Sequence contains no data \r\n",
        "Warning: lcl|Query_8427 EMSPUT00000002366 cds:pseudogene supercontig:GCA_000002235.2:Scaffold75:165409:165483:1 gene:EMSPUG00000002366 transcript:EMSPUT00000002366 description:\"tRNA-Ser for anticodon GGA\": Warning: Sequence contains no data \r\n"
       ]
      },
      {
       "output_type": "stream",
       "stream": "stdout",
       "text": [
        "Error: (1431.1) FASTA-Reader: Warning: FASTA-Reader: No residues given\r\n",
        "Error: (1431.1) FASTA-Reader: Warning: FASTA-Reader: No residues given\r\n"
       ]
      },
      {
       "output_type": "stream",
       "stream": "stdout",
       "text": [
        "Warning: lcl|Query_8484 EMSPUT00000002751 cds:pseudogene supercontig:GCA_000002235.2:Scaffold3767:12778:12859:-1 gene:EMSPUG00000002751 transcript:EMSPUT00000002751 description:\"tRNA-Ser for anticodon UGA\": Warning: Sequence contains no data \r\n",
        "Warning: lcl|Query_8485 EMSPUT00000001833 cds:pseudogene supercontig:GCA_000002235.2:Scaffold3767:16866:16938:1 gene:EMSPUG00000001833 transcript:EMSPUT00000001833 description:\"tRNA-Met for anticodon CAU\": Warning: Sequence contains no data \r\n"
       ]
      },
      {
       "output_type": "stream",
       "stream": "stdout",
       "text": [
        "Error: (1431.1) FASTA-Reader: Warning: FASTA-Reader: No residues given\r\n",
        "Error: (1431.1) FASTA-Reader: Warning: FASTA-Reader: No residues given\r\n"
       ]
      },
      {
       "output_type": "stream",
       "stream": "stdout",
       "text": [
        "Warning: lcl|Query_8532 EMSPUT00000008235 cds:pseudogene supercontig:GCA_000002235.2:Scaffold668:10617:10688:1 gene:EMSPUG00000008235 transcript:EMSPUT00000008235 description:\"tRNA-Sup for anticodon UUA\": Warning: Sequence contains no data \r\n",
        "Warning: lcl|Query_8533 EMSPUT00000000725 cds:pseudogene supercontig:GCA_000002235.2:Scaffold668:10707:10783:1 gene:EMSPUG00000000725 transcript:EMSPUT00000000725 description:\"tRNA-Lys for anticodon UUU\": Warning: Sequence contains no data \r\n",
        "Error: (1431.1) FASTA-Reader: Warning: FASTA-Reader: No residues given\r\n",
        "Error: (1431.1) FASTA-Reader: Warning: FASTA-Reader: No residues given\r\n",
        "Error: (1431.1) FASTA-Reader: Warning: FASTA-Reader: No residues given\r\n",
        "Error: (1431.1) FASTA-Reader: Warning: FASTA-Reader: No residues given\r\n",
        "Error: (1431.1) FASTA-Reader: Warning: FASTA-Reader: No residues given\r\n",
        "Error: (1431.1) FASTA-Reader: Warning: FASTA-Reader: No residues given\r\n",
        "Error: (1431.1) FASTA-Reader: Warning: FASTA-Reader: No residues given\r\n",
        "Error: (1431.1) FASTA-Reader: Warning: FASTA-Reader: No residues given\r\n",
        "Error: (1431.1) FASTA-Reader: Warning: FASTA-Reader: No residues given\r\n",
        "Error: (1431.1) FASTA-Reader: Warning: FASTA-Reader: No residues given\r\n"
       ]
      },
      {
       "output_type": "stream",
       "stream": "stdout",
       "text": [
        "Warning: lcl|Query_8546 EMSPUT00000009255 cds:pseudogene supercontig:GCA_000002235.2:Scaffold668:277132:277204:-1 gene:EMSPUG00000009255 transcript:EMSPUT00000009255 description:\"tRNA-Thr for anticodon AGU\": Warning: Sequence contains no data \r\n",
        "Warning: lcl|Query_8549 EMSPUT00000003443 cds:pseudogene supercontig:GCA_000002235.2:Scaffold668:319094:319166:1 gene:EMSPUG00000003443 transcript:EMSPUT00000003443 description:\"tRNA-Thr for anticodon AGU\": Warning: Sequence contains no data \r\n",
        "Warning: lcl|Query_8550 EMSPUT00000012684 cds:pseudogene supercontig:GCA_000002235.2:Scaffold668:319882:319954:1 gene:EMSPUG00000012684 transcript:EMSPUT00000012684 description:\"tRNA-Thr for anticodon AGU\": Warning: Sequence contains no data \r\n",
        "Warning: lcl|Query_8551 EMSPUT00000005193 cds:pseudogene supercontig:GCA_000002235.2:Scaffold668:337022:337094:1 gene:EMSPUG00000005193 transcript:EMSPUT00000005193 description:\"tRNA-Thr for anticodon AGU\": Warning: Sequence contains no data \r\n",
        "Warning: lcl|Query_8552 EMSPUT00000001250 cds:pseudogene supercontig:GCA_000002235.2:Scaffold668:337640:337712:-1 gene:EMSPUG00000001250 transcript:EMSPUT00000001250 description:\"tRNA-Thr for anticodon AGU\": Warning: Sequence contains no data \r\n",
        "Warning: lcl|Query_8553 EMSPUT00000014357 cds:pseudogene supercontig:GCA_000002235.2:Scaffold668:338324:338395:1 gene:EMSPUG00000014357 transcript:EMSPUT00000014357 description:\"tRNA-Thr for anticodon UGU\": Warning: Sequence contains no data \r\n",
        "Warning: lcl|Query_8554 EMSPUT00000007863 cds:pseudogene supercontig:GCA_000002235.2:Scaffold668:343296:343368:1 gene:EMSPUG00000007863 transcript:EMSPUT00000007863 description:\"tRNA-Thr for anticodon AGU\": Warning: Sequence contains no data \r\n",
        "Warning: lcl|Query_8555 EMSPUT00000010543 cds:pseudogene supercontig:GCA_000002235.2:Scaffold668:345653:345725:-1 gene:EMSPUG00000010543 transcript:EMSPUT00000010543 description:\"tRNA-Thr for anticodon AGU\": Warning: Sequence contains no data \r\n",
        "Warning: lcl|Query_8557 EMSPUT00000015171 cds:pseudogene supercontig:GCA_000002235.2:Scaffold668:361092:361164:-1 gene:EMSPUG00000015171 transcript:EMSPUT00000015171 description:\"tRNA-Arg for anticodon UCG\": Warning: Sequence contains no data \r\n",
        "Warning: lcl|Query_8561 EMSPUT00000011261 cds:pseudogene supercontig:GCA_000002235.2:Scaffold25548:502:574:-1 gene:EMSPUG00000011261 transcript:EMSPUT00000011261 description:\"tRNA-Met for anticodon CAU\": Warning: Sequence contains no data \r\n",
        "Error: (1431.1) FASTA-Reader: Warning: FASTA-Reader: No residues given\r\n"
       ]
      },
      {
       "output_type": "stream",
       "stream": "stdout",
       "text": [
        "Warning: lcl|Query_8572 EMSPUT00000011835 cds:pseudogene supercontig:GCA_000002235.2:Scaffold366:395971:396045:-1 gene:EMSPUG00000011835 transcript:EMSPUT00000011835 description:\"tRNA-His for anticodon GUG\": Warning: Sequence contains no data \r\n",
        "Error: (1431.1) FASTA-Reader: Warning: FASTA-Reader: No residues given\r\n",
        "Error: (1431.1) FASTA-Reader: Warning: FASTA-Reader: No residues given\r\n"
       ]
      },
      {
       "output_type": "stream",
       "stream": "stdout",
       "text": [
        "Warning: lcl|Query_8590 EMSPUT00000006063 cds:pseudogene supercontig:GCA_000002235.2:Scaffold193:30585:30657:-1 gene:EMSPUG00000006063 transcript:EMSPUT00000006063 description:\"tRNA-Met for anticodon CAU\": Warning: Sequence contains no data \r\n",
        "Warning: lcl|Query_8595 EMSPUT00000006041 cds:pseudogene supercontig:GCA_000002235.2:Scaffold193:220964:221038:1 gene:EMSPUG00000006041 transcript:EMSPUT00000006041 description:\"tRNA-His for anticodon GUG\": Warning: Sequence contains no data \r\n"
       ]
      },
      {
       "output_type": "stream",
       "stream": "stdout",
       "text": [
        "Error: (1431.1) FASTA-Reader: Warning: FASTA-Reader: No residues given\r\n"
       ]
      },
      {
       "output_type": "stream",
       "stream": "stdout",
       "text": [
        "Warning: lcl|Query_8663 EMSPUT00000000189 cds:pseudogene supercontig:GCA_000002235.2:Scaffold57:1161009:1161081:-1 gene:EMSPUG00000000189 transcript:EMSPUT00000000189 description:\"tRNA-Met for anticodon CAU\": Warning: Sequence contains no data \r\n"
       ]
      },
      {
       "output_type": "stream",
       "stream": "stdout",
       "text": [
        "Error: (1431.1) FASTA-Reader: Warning: FASTA-Reader: No residues given\r\n",
        "Error: (1431.1) FASTA-Reader: Warning: FASTA-Reader: No residues given\r\n"
       ]
      },
      {
       "output_type": "stream",
       "stream": "stdout",
       "text": [
        "Warning: lcl|Query_8713 EMSPUT00000014554 cds:pseudogene supercontig:GCA_000002235.2:Scaffold3131:1093:1167:1 gene:EMSPUG00000014554 transcript:EMSPUT00000014554 description:\"tRNA-His for anticodon AUG\": Warning: Sequence contains no data \r\n",
        "Warning: lcl|Query_8714 EMSPUT00000003603 cds:pseudogene supercontig:GCA_000002235.2:Scaffold3131:16177:16251:1 gene:EMSPUG00000003603 transcript:EMSPUT00000003603 description:\"tRNA-His for anticodon AUG\": Warning: Sequence contains no data \r\n",
        "Error: (1431.1) FASTA-Reader: Warning: FASTA-Reader: No residues given\r\n",
        "Error: (1431.1) FASTA-Reader: Warning: FASTA-Reader: No residues given\r\n",
        "Error: (1431.1) FASTA-Reader: Warning: FASTA-Reader: No residues given\r\n"
       ]
      },
      {
       "output_type": "stream",
       "stream": "stdout",
       "text": [
        "Warning: lcl|Query_8745 EMSPUT00000013991 cds:pseudogene supercontig:GCA_000002235.2:Scaffold1358:280869:280943:1 gene:EMSPUG00000013991 transcript:EMSPUT00000013991 description:\"tRNA-Asp for anticodon GUC\": Warning: Sequence contains no data \r\n",
        "Warning: lcl|Query_8747 EMSPUT00000014971 cds:pseudogene supercontig:GCA_000002235.2:Scaffold31582:343:414:-1 gene:EMSPUG00000014971 transcript:EMSPUT00000014971 description:\"tRNA-Pro for anticodon CGG\": Warning: Sequence contains no data \r\n",
        "Warning: lcl|Query_8748 EMSPUT00000004281 cds:pseudogene supercontig:GCA_000002235.2:Scaffold31582:507:578:-1 gene:EMSPUG00000004281 transcript:EMSPUT00000004281 description:\"tRNA-Pro for anticodon UGG\": Warning: Sequence contains no data \r\n",
        "Error: (1431.1) FASTA-Reader: Warning: FASTA-Reader: No residues given\r\n",
        "Error: (1431.1) FASTA-Reader: Warning: FASTA-Reader: No residues given\r\n",
        "Error: (1431.1) FASTA-Reader: Warning: FASTA-Reader: No residues given\r\n",
        "Error: (1431.1) FASTA-Reader: Warning: FASTA-Reader: No residues given\r\n",
        "Error: (1431.1) FASTA-Reader: Warning: FASTA-Reader: No residues given\r\n",
        "Error: (1431.1) FASTA-Reader: Warning: FASTA-Reader: No residues given\r\n"
       ]
      },
      {
       "output_type": "stream",
       "stream": "stdout",
       "text": [
        "Warning: lcl|Query_8759 EMSPUT00000013460 cds:pseudogene supercontig:GCA_000002235.2:Scaffold6179:442:514:1 gene:EMSPUG00000013460 transcript:EMSPUT00000013460 description:\"tRNA-Lys for anticodon UUU\": Warning: Sequence contains no data \r\n",
        "Warning: lcl|Query_8760 EMSPUT00000003109 cds:pseudogene supercontig:GCA_000002235.2:Scaffold6179:941:1013:1 gene:EMSPUG00000003109 transcript:EMSPUT00000003109 description:\"tRNA-Lys for anticodon UUU\": Warning: Sequence contains no data \r\n",
        "Warning: lcl|Query_8761 EMSPUT00000012056 cds:pseudogene supercontig:GCA_000002235.2:Scaffold6179:1247:1319:1 gene:EMSPUG00000012056 transcript:EMSPUT00000012056 description:\"tRNA-Lys for anticodon UUU\": Warning: Sequence contains no data \r\n",
        "Warning: lcl|Query_8762 EMSPUT00000007949 cds:pseudogene supercontig:GCA_000002235.2:Scaffold6179:3245:3317:1 gene:EMSPUG00000007949 transcript:EMSPUT00000007949 description:\"tRNA-Lys for anticodon UUU\": Warning: Sequence contains no data \r\n",
        "Warning: lcl|Query_8763 EMSPUT00000001126 cds:pseudogene supercontig:GCA_000002235.2:Scaffold6179:3594:3660:1 gene:EMSPUG00000001126 transcript:EMSPUT00000001126 description:\"tRNA-Lys for anticodon UUU\": Warning: Sequence contains no data \r\n",
        "Warning: lcl|Query_8764 EMSPUT00000006651 cds:pseudogene supercontig:GCA_000002235.2:Scaffold6179:4080:4152:1 gene:EMSPUG00000006651 transcript:EMSPUT00000006651 description:\"tRNA-Lys for anticodon UUU\": Warning: Sequence contains no data \r\n"
       ]
      },
      {
       "output_type": "stream",
       "stream": "stdout",
       "text": [
        "Error: (1431.1) FASTA-Reader: Warning: FASTA-Reader: No residues given\r\n"
       ]
      },
      {
       "output_type": "stream",
       "stream": "stdout",
       "text": [
        "Warning: lcl|Query_8808 EMSPUT00000009195 cds:pseudogene supercontig:GCA_000002235.2:Scaffold1256:196889:196961:-1 gene:EMSPUG00000009195 transcript:EMSPUT00000009195 description:\"tRNA-Met for anticodon CAU\": Warning: Sequence contains no data \r\n"
       ]
      },
      {
       "output_type": "stream",
       "stream": "stdout",
       "text": [
        "Error: (1431.1) FASTA-Reader: Warning: FASTA-Reader: No residues given\r\n"
       ]
      },
      {
       "output_type": "stream",
       "stream": "stdout",
       "text": [
        "Warning: lcl|Query_8894 EMSPUT00000003406 cds:pseudogene supercontig:GCA_000002235.2:Scaffold333:239141:239214:1 gene:EMSPUG00000003406 transcript:EMSPUT00000003406 description:\"tRNA-Ala for anticodon AGC\": Warning: Sequence contains no data \r\n",
        "Error: (1431.1) FASTA-Reader: Warning: FASTA-Reader: No residues given\r\n"
       ]
      },
      {
       "output_type": "stream",
       "stream": "stdout",
       "text": [
        "Warning: lcl|Query_8916 EMSPUT00000007868 cds:pseudogene supercontig:GCA_000002235.2:Scaffold333:660918:660990:1 gene:EMSPUG00000007868 transcript:EMSPUT00000007868 description:\"tRNA-Met for anticodon CAU\": Warning: Sequence contains no data \r\n"
       ]
      },
      {
       "output_type": "stream",
       "stream": "stdout",
       "text": [
        "Error: (1431.1) FASTA-Reader: Warning: FASTA-Reader: No residues given\r\n",
        "Error: (1431.1) FASTA-Reader: Warning: FASTA-Reader: No residues given\r\n"
       ]
      },
      {
       "output_type": "stream",
       "stream": "stdout",
       "text": [
        "Warning: lcl|Query_8975 EMSPUT00000006094 cds:pseudogene supercontig:GCA_000002235.2:Scaffold190:637885:637957:1 gene:EMSPUG00000006094 transcript:EMSPUT00000006094 description:\"tRNA-Met for anticodon CAU\": Warning: Sequence contains no data \r\n",
        "Warning: lcl|Query_8982 EMSPUT00000011554 cds:pseudogene supercontig:GCA_000002235.2:Scaffold190:894908:894991:1 gene:EMSPUG00000011554 transcript:EMSPUT00000011554 description:\"tRNA-Leu for anticodon CAG\": Warning: Sequence contains no data \r\n"
       ]
      },
      {
       "output_type": "stream",
       "stream": "stdout",
       "text": [
        "Error: (1431.1) FASTA-Reader: Warning: FASTA-Reader: No residues given\r\n"
       ]
      },
      {
       "output_type": "stream",
       "stream": "stdout",
       "text": [
        "Warning: lcl|Query_9015 EMSPUT00000010009 cds:pseudogene supercontig:GCA_000002235.2:Scaffold303:369706:369779:1 gene:EMSPUG00000010009 transcript:EMSPUT00000010009 description:\"tRNA-Ala for anticodon GGC\": Warning: Sequence contains no data \r\n",
        "Error: (1431.1) FASTA-Reader: Warning: FASTA-Reader: No residues given\r\n"
       ]
      },
      {
       "output_type": "stream",
       "stream": "stdout",
       "text": [
        "Warning: lcl|Query_9030 EMSPUT00000009790 cds:pseudogene supercontig:GCA_000002235.2:Scaffold1200:72617:72686:-1 gene:EMSPUG00000009790 transcript:EMSPUT00000009790 description:\"tRNA-Thr for anticodon CGU\": Warning: Sequence contains no data \r\n",
        "Error: (1431.1) FASTA-Reader: Warning: FASTA-Reader: No residues given\r\n"
       ]
      },
      {
       "output_type": "stream",
       "stream": "stdout",
       "text": [
        "Warning: lcl|Query_9053 EMSPUT00000001766 cds:pseudogene supercontig:GCA_000002235.2:Scaffold404:409218:409292:1 gene:EMSPUG00000001766 transcript:EMSPUT00000001766 description:\"tRNA-Val for anticodon GAC\": Warning: Sequence contains no data \r\n",
        "Error: (1431.1) FASTA-Reader: Warning: FASTA-Reader: No residues given\r\n"
       ]
      },
      {
       "output_type": "stream",
       "stream": "stdout",
       "text": [
        "Warning: lcl|Query_9074 EMSPUT00000007669 cds:pseudogene supercontig:GCA_000002235.2:Scaffold3391:4609:4682:1 gene:EMSPUG00000007669 transcript:EMSPUT00000007669 description:\"tRNA-Val for anticodon CAC\": Warning: Sequence contains no data \r\n"
       ]
      },
      {
       "output_type": "stream",
       "stream": "stdout",
       "text": [
        "Error: (1431.1) FASTA-Reader: Warning: FASTA-Reader: No residues given\r\n"
       ]
      },
      {
       "output_type": "stream",
       "stream": "stdout",
       "text": [
        "Warning: lcl|Query_9106 EMSPUT00000004602 cds:pseudogene supercontig:GCA_000002235.2:Scaffold1999:140232:140306:1 gene:EMSPUG00000004602 transcript:EMSPUT00000004602 description:\"tRNA-Tyr for anticodon GUA\": Warning: Sequence contains no data \r\n",
        "Error: (1431.1) FASTA-Reader: Warning: FASTA-Reader: No residues given\r\n",
        "Error: (1431.1) FASTA-Reader: Warning: FASTA-Reader: No residues given\r\n",
        "Error: (1431.1) FASTA-Reader: Warning: FASTA-Reader: No residues given\r\n",
        "Error: (1431.1) FASTA-Reader: Warning: FASTA-Reader: No residues given\r\n"
       ]
      },
      {
       "output_type": "stream",
       "stream": "stdout",
       "text": [
        "Warning: lcl|Query_9111 EMSPUT00000014358 cds:pseudogene supercontig:GCA_000002235.2:Scaffold3083:22478:22550:1 gene:EMSPUG00000014358 transcript:EMSPUT00000014358 description:\"tRNA-Met for anticodon CAU\": Warning: Sequence contains no data \r\n",
        "Warning: lcl|Query_9115 EMSPUT00000007560 cds:pseudogene supercontig:GCA_000002235.2:Scaffold1365:199954:200025:1 gene:EMSPUG00000007560 transcript:EMSPUT00000007560 description:\"Mammalian CPEB3 ribozyme\": Warning: Sequence contains no data \r\n",
        "Warning: lcl|Query_9118 EMSPUT00000009554 cds:pseudogene supercontig:GCA_000002235.2:Scaffold3697:6845:6915:-1 gene:EMSPUG00000009554 transcript:EMSPUT00000009554 description:\"tRNA-Ile for anticodon UAU\": Warning: Sequence contains no data \r\n",
        "Warning: lcl|Query_9119 EMSPUT00000014130 cds:pseudogene supercontig:GCA_000002235.2:Scaffold3697:9142:9212:-1 gene:EMSPUG00000014130 transcript:EMSPUT00000014130 description:\"tRNA-Ile for anticodon UAU\": Warning: Sequence contains no data \r\n"
       ]
      },
      {
       "output_type": "stream",
       "stream": "stdout",
       "text": [
        "Error: (1431.1) FASTA-Reader: Warning: FASTA-Reader: No residues given\r\n",
        "Error: (1431.1) FASTA-Reader: Warning: FASTA-Reader: No residues given\r\n"
       ]
      },
      {
       "output_type": "stream",
       "stream": "stdout",
       "text": [
        "Warning: lcl|Query_9139 EMSPUT00000000955 cds:pseudogene supercontig:GCA_000002235.2:Scaffold165:283187:283260:-1 gene:EMSPUG00000000955 transcript:EMSPUT00000000955 description:\"tRNA-Ala for anticodon AGC\": Warning: Sequence contains no data \r\n",
        "Warning: lcl|Query_9141 EMSPUT00000009585 cds:pseudogene supercontig:GCA_000002235.2:Scaffold165:290875:290948:-1 gene:EMSPUG00000009585 transcript:EMSPUT00000009585 description:\"tRNA-Ala for anticodon AGC\": Warning: Sequence contains no data \r\n"
       ]
      },
      {
       "output_type": "stream",
       "stream": "stdout",
       "text": [
        "Error: (1431.1) FASTA-Reader: Warning: FASTA-Reader: No residues given\r\n"
       ]
      },
      {
       "output_type": "stream",
       "stream": "stdout",
       "text": [
        "Warning: lcl|Query_9165 EMSPUT00000011559 cds:pseudogene supercontig:GCA_000002235.2:Scaffold1907:29424:29495:1 gene:EMSPUG00000011559 transcript:EMSPUT00000011559 description:\"Mammalian CPEB3 ribozyme\": Warning: Sequence contains no data \r\n",
        "Error: (1431.1) FASTA-Reader: Warning: FASTA-Reader: No residues given\r\n",
        "Error: (1431.1) FASTA-Reader: Warning: FASTA-Reader: No residues given\r\n"
       ]
      },
      {
       "output_type": "stream",
       "stream": "stdout",
       "text": [
        "Warning: lcl|Query_9193 SPU_030054-tr cds:pseudogene supercontig:GCA_000002235.2:Scaffold94:9309:15815:1 gene:SPU_030054 transcript:SPU_030054-tr: Warning: Sequence contains no data \r\n",
        "Warning: lcl|Query_9197 EMSPUT00000011175 cds:pseudogene supercontig:GCA_000002235.2:Scaffold94:185218:185292:-1 gene:EMSPUG00000011175 transcript:EMSPUT00000011175 description:\"tRNA-Ala for anticodon UGC\": Warning: Sequence contains no data \r\n"
       ]
      },
      {
       "output_type": "stream",
       "stream": "stdout",
       "text": [
        "Error: (1431.1) FASTA-Reader: Warning: FASTA-Reader: No residues given\r\n",
        "Error: (1431.1) FASTA-Reader: Warning: FASTA-Reader: No residues given\r\n"
       ]
      },
      {
       "output_type": "stream",
       "stream": "stdout",
       "text": [
        "Warning: lcl|Query_9226 EMSPUT00000008909 cds:pseudogene supercontig:GCA_000002235.2:Scaffold1717:39363:39435:-1 gene:EMSPUG00000008909 transcript:EMSPUT00000008909 description:\"tRNA-Met for anticodon CAU\": Warning: Sequence contains no data \r\n",
        "Warning: lcl|Query_9230 EMSPUT00000011223 cds:pseudogene supercontig:GCA_000002235.2:Scaffold483:37082:37156:-1 gene:EMSPUG00000011223 transcript:EMSPUT00000011223 description:\"tRNA-Cys for anticodon GCA\": Warning: Sequence contains no data \r\n",
        "Error: (1431.1) FASTA-Reader: Warning: FASTA-Reader: No residues given\r\n",
        "Error: (1431.1) FASTA-Reader: Warning: FASTA-Reader: No residues given\r\n"
       ]
      },
      {
       "output_type": "stream",
       "stream": "stdout",
       "text": [
        "Warning: lcl|Query_9243 EMSPUT00000004681 cds:pseudogene supercontig:GCA_000002235.2:Scaffold483:253489:253561:1 gene:EMSPUG00000004681 transcript:EMSPUT00000004681 description:\"tRNA-Met for anticodon CAU\": Warning: Sequence contains no data \r\n",
        "Warning: lcl|Query_9260 EMSPUT00000002399 cds:pseudogene supercontig:GCA_000002235.2:Scaffold1685:131755:131824:1 gene:EMSPUG00000002399 transcript:EMSPUT00000002399 description:\"tRNA-Met for anticodon CAU\": Warning: Sequence contains no data \r\n"
       ]
      },
      {
       "output_type": "stream",
       "stream": "stdout",
       "text": [
        "Error: (1431.1) FASTA-Reader: Warning: FASTA-Reader: No residues given\r\n",
        "Error: (1431.1) FASTA-Reader: Warning: FASTA-Reader: No residues given\r\n",
        "Error: (1431.1) FASTA-Reader: Warning: FASTA-Reader: No residues given\r\n"
       ]
      },
      {
       "output_type": "stream",
       "stream": "stdout",
       "text": [
        "Warning: lcl|Query_9316 EMSPUT00000011917 cds:pseudogene supercontig:GCA_000002235.2:Scaffold547:13925:13997:1 gene:EMSPUG00000011917 transcript:EMSPUT00000011917 description:\"tRNA-Met for anticodon CAU\": Warning: Sequence contains no data \r\n",
        "Warning: lcl|Query_9317 EMSPUT00000005178 cds:pseudogene supercontig:GCA_000002235.2:Scaffold547:29634:29706:1 gene:EMSPUG00000005178 transcript:EMSPUT00000005178 description:\"tRNA-Met for anticodon CAU\": Warning: Sequence contains no data \r\n",
        "Warning: lcl|Query_9320 EMSPUT00000013987 cds:pseudogene supercontig:GCA_000002235.2:Scaffold547:191985:192066:1 gene:EMSPUG00000013987 transcript:EMSPUT00000013987 description:\"tRNA-Ser for anticodon GCU\": Warning: Sequence contains no data \r\n",
        "Error: (1431.1) FASTA-Reader: Warning: FASTA-Reader: No residues given\r\n"
       ]
      },
      {
       "output_type": "stream",
       "stream": "stdout",
       "text": [
        "Warning: lcl|Query_9323 EMSPUT00000007401 cds:pseudogene supercontig:GCA_000002235.2:Scaffold547:352705:352779:1 gene:EMSPUG00000007401 transcript:EMSPUT00000007401 description:\"tRNA-Glu for anticodon CUC\": Warning: Sequence contains no data \r\n"
       ]
      },
      {
       "output_type": "stream",
       "stream": "stdout",
       "text": [
        "Error: (1431.1) FASTA-Reader: Warning: FASTA-Reader: No residues given\r\n",
        "Error: (1431.1) FASTA-Reader: Warning: FASTA-Reader: No residues given\r\n"
       ]
      },
      {
       "output_type": "stream",
       "stream": "stdout",
       "text": [
        "Warning: lcl|Query_9342 EMSPUT00000000591 cds:pseudogene supercontig:GCA_000002235.2:Scaffold997:202205:202277:-1 gene:EMSPUG00000000591 transcript:EMSPUT00000000591 description:\"tRNA-Met for anticodon CAU\": Warning: Sequence contains no data \r\n",
        "Warning: lcl|Query_9352 EMSPUT00000004240 cds:pseudogene supercontig:GCA_000002235.2:Scaffold2312:49209:49281:-1 gene:EMSPUG00000004240 transcript:EMSPUT00000004240 description:\"tRNA-Met for anticodon CAU\": Warning: Sequence contains no data \r\n"
       ]
      },
      {
       "output_type": "stream",
       "stream": "stdout",
       "text": [
        "Error: (1431.1) FASTA-Reader: Warning: FASTA-Reader: No residues given\r\n"
       ]
      },
      {
       "output_type": "stream",
       "stream": "stdout",
       "text": [
        "Warning: lcl|Query_9379 EMSPUT00000004998 cds:pseudogene supercontig:GCA_000002235.2:Scaffold3997:6099:6171:1 gene:EMSPUG00000004998 transcript:EMSPUT00000004998 description:\"tRNA-Val for anticodon CAC\": Warning: Sequence contains no data \r\n"
       ]
      },
      {
       "output_type": "stream",
       "stream": "stdout",
       "text": [
        "Error: (1431.1) FASTA-Reader: Warning: FASTA-Reader: No residues given\r\n",
        "Error: (1431.1) FASTA-Reader: Warning: FASTA-Reader: No residues given\r\n"
       ]
      },
      {
       "output_type": "stream",
       "stream": "stdout",
       "text": [
        "Warning: lcl|Query_9444 EMSPUT00000007604 cds:pseudogene supercontig:GCA_000002235.2:Scaffold2738:51921:51995:1 gene:EMSPUG00000007604 transcript:EMSPUT00000007604 description:\"tRNA-Glu for anticodon UUC\": Warning: Sequence contains no data \r\n",
        "Warning: lcl|Query_9448 EMSPUT00000007296 cds:pseudogene supercontig:GCA_000002235.2:Scaffold2957:22994:23066:1 gene:EMSPUG00000007296 transcript:EMSPUT00000007296 description:\"tRNA-Ile for anticodon AAU\": Warning: Sequence contains no data \r\n",
        "Error: (1431.1) FASTA-Reader: Warning: FASTA-Reader: No residues given\r\n"
       ]
      },
      {
       "output_type": "stream",
       "stream": "stdout",
       "text": [
        "Warning: lcl|Query_9473 EMSPUT00000015664 cds:pseudogene supercontig:GCA_000002235.2:Scaffold125:126768:126840:1 gene:EMSPUG00000015664 transcript:EMSPUT00000015664 description:\"tRNA-Met for anticodon CAU\": Warning: Sequence contains no data \r\n",
        "Error: (1431.1) FASTA-Reader: Warning: FASTA-Reader: No residues given\r\n",
        "Error: (1431.1) FASTA-Reader: Warning: FASTA-Reader: No residues given\r\n",
        "Error: (1431.1) FASTA-Reader: Warning: FASTA-Reader: No residues given\r\n"
       ]
      },
      {
       "output_type": "stream",
       "stream": "stdout",
       "text": [
        "Warning: lcl|Query_9492 SPU_030265-tr cds:pseudogene supercontig:GCA_000002235.2:Scaffold125:477047:478934:1 gene:SPU_030265 transcript:SPU_030265-tr: Warning: Sequence contains no data \r\n",
        "Warning: lcl|Query_9494 SPU_030264-tr cds:pseudogene supercontig:GCA_000002235.2:Scaffold125:498285:499826:-1 gene:SPU_030264 transcript:SPU_030264-tr: Warning: Sequence contains no data \r\n",
        "Warning: lcl|Query_9498 SPU_030262-tr cds:pseudogene supercontig:GCA_000002235.2:Scaffold125:507871:509151:1 gene:SPU_030262 transcript:SPU_030262-tr: Warning: Sequence contains no data \r\n",
        "Error: (1431.1) FASTA-Reader: Warning: FASTA-Reader: No residues given\r\n",
        "Error: (1431.1) FASTA-Reader: Warning: FASTA-Reader: No residues given\r\n",
        "Error: (1431.1) FASTA-Reader: Warning: FASTA-Reader: No residues given\r\n",
        "Error: (1431.1) FASTA-Reader: Warning: FASTA-Reader: No residues given\r\n"
       ]
      },
      {
       "output_type": "stream",
       "stream": "stdout",
       "text": [
        "Warning: lcl|Query_9503 EMSPUT00000010610 cds:pseudogene supercontig:GCA_000002235.2:Scaffold125:641027:641094:1 gene:EMSPUG00000010610 transcript:EMSPUT00000010610 description:\"tRNA-Ala for anticodon GGC\": Warning: Sequence contains no data \r\n",
        "Warning: lcl|Query_9509 EMSPUT00000001903 cds:pseudogene supercontig:GCA_000002235.2:Scaffold125:749815:749887:1 gene:EMSPUG00000001903 transcript:EMSPUT00000001903 description:\"tRNA-Met for anticodon CAU\": Warning: Sequence contains no data \r\n",
        "Warning: lcl|Query_9514 EMSPUT00000009167 cds:pseudogene supercontig:GCA_000002235.2:Scaffold3423:27880:27950:-1 gene:EMSPUG00000009167 transcript:EMSPUT00000009167 description:\"tRNA-Gly for anticodon GCC\": Warning: Sequence contains no data \r\n",
        "Warning: lcl|Query_9520 EMSPUT00000006662 cds:pseudogene supercontig:GCA_000002235.2:Scaffold90:73173:73246:-1 gene:EMSPUG00000006662 transcript:EMSPUT00000006662 description:\"tRNA-Ser for anticodon UGA\": Warning: Sequence contains no data \r\n"
       ]
      },
      {
       "output_type": "stream",
       "stream": "stdout",
       "text": [
        "Error: (1431.1) FASTA-Reader: Warning: FASTA-Reader: No residues given\r\n",
        "Error: (1431.1) FASTA-Reader: Warning: FASTA-Reader: No residues given\r\n"
       ]
      },
      {
       "output_type": "stream",
       "stream": "stdout",
       "text": [
        "Warning: lcl|Query_9548 EMSPUT00000013971 cds:pseudogene supercontig:GCA_000002235.2:Scaffold90:640245:640317:-1 gene:EMSPUG00000013971 transcript:EMSPUT00000013971 description:\"tRNA-Arg for anticodon CCU\": Warning: Sequence contains no data \r\n",
        "Warning: lcl|Query_9553 EMSPUT00000015704 cds:pseudogene supercontig:GCA_000002235.2:Scaffold90:785532:785604:1 gene:EMSPUG00000015704 transcript:EMSPUT00000015704 description:\"tRNA-Undet for anticodon \\x3f\\x3f\\x3f\": Warning: Sequence contains no data \r\n"
       ]
      },
      {
       "output_type": "stream",
       "stream": "stdout",
       "text": [
        "Error: (1431.1) FASTA-Reader: Warning: FASTA-Reader: No residues given\r\n",
        "Error: (1431.1) FASTA-Reader: Warning: FASTA-Reader: No residues given\r\n"
       ]
      },
      {
       "output_type": "stream",
       "stream": "stdout",
       "text": [
        "Warning: lcl|Query_9575 EMSPUT00000008993 cds:pseudogene supercontig:GCA_000002235.2:Scaffold90:1260603:1260676:1 gene:EMSPUG00000008993 transcript:EMSPUT00000008993 description:\"tRNA-Ala for anticodon GGC\": Warning: Sequence contains no data \r\n",
        "Warning: lcl|Query_9576 EMSPUT00000002572 cds:pseudogene supercontig:GCA_000002235.2:Scaffold90:1260920:1260993:1 gene:EMSPUG00000002572 transcript:EMSPUT00000002572 description:\"tRNA-Ala for anticodon GGC\": Warning: Sequence contains no data \r\n",
        "Error: (1431.1) FASTA-Reader: Warning: FASTA-Reader: No residues given\r\n",
        "Error: (1431.1) FASTA-Reader: Warning: FASTA-Reader: No residues given\r\n",
        "Error: (1431.1) FASTA-Reader: Warning: FASTA-Reader: No residues given\r\n"
       ]
      },
      {
       "output_type": "stream",
       "stream": "stdout",
       "text": [
        "Warning: lcl|Query_9595 EMSPUT00000013149 cds:pseudogene supercontig:GCA_000002235.2:Scaffold879:111467:111539:-1 gene:EMSPUG00000013149 transcript:EMSPUT00000013149 description:\"tRNA-Glu for anticodon CUC\": Warning: Sequence contains no data \r\n",
        "Warning: lcl|Query_9597 EMSPUT00000014324 cds:pseudogene supercontig:GCA_000002235.2:Scaffold879:248674:248746:-1 gene:EMSPUG00000014324 transcript:EMSPUT00000014324 description:\"tRNA-Met for anticodon CAU\": Warning: Sequence contains no data \r\n",
        "Warning: lcl|Query_9600 EMSPUT00000014501 cds:pseudogene supercontig:GCA_000002235.2:Scaffold1109:9637:9709:1 gene:EMSPUG00000014501 transcript:EMSPUT00000014501 description:\"tRNA-Lys for anticodon CUU\": Warning: Sequence contains no data \r\n",
        "Error: (1431.1) FASTA-Reader: Warning: FASTA-Reader: No residues given\r\n",
        "Error: (1431.1) FASTA-Reader: Warning: FASTA-Reader: No residues given\r\n",
        "Error: (1431.1) FASTA-Reader: Warning: FASTA-Reader: No residues given\r\n",
        "Error: (1431.1) FASTA-Reader: Warning: FASTA-Reader: No residues given\r\n",
        "Error: (1431.1) FASTA-Reader: Warning: FASTA-Reader: No residues given\r\n"
       ]
      },
      {
       "output_type": "stream",
       "stream": "stdout",
       "text": [
        "Warning: lcl|Query_9608 EMSPUT00000001958 cds:pseudogene supercontig:GCA_000002235.2:Scaffold1109:219532:219603:-1 gene:EMSPUG00000001958 transcript:EMSPUT00000001958 description:\"tRNA-His for anticodon GUG\": Warning: Sequence contains no data \r\n",
        "Warning: lcl|Query_9609 EMSPUT00000010522 cds:pseudogene supercontig:GCA_000002235.2:Scaffold1109:220015:220086:-1 gene:EMSPUG00000010522 transcript:EMSPUT00000010522 description:\"tRNA-His for anticodon GUG\": Warning: Sequence contains no data \r\n",
        "Warning: lcl|Query_9610 EMSPUT00000003613 cds:pseudogene supercontig:GCA_000002235.2:Scaffold1109:226554:226625:-1 gene:EMSPUG00000003613 transcript:EMSPUT00000003613 description:\"tRNA-His for anticodon GUG\": Warning: Sequence contains no data \r\n",
        "Warning: lcl|Query_9611 EMSPUT00000008783 cds:pseudogene supercontig:GCA_000002235.2:Scaffold1109:227006:227077:-1 gene:EMSPUG00000008783 transcript:EMSPUT00000008783 description:\"tRNA-His for anticodon GUG\": Warning: Sequence contains no data \r\n",
        "Warning: lcl|Query_9612 EMSPUT00000001822 cds:pseudogene supercontig:GCA_000002235.2:Scaffold1109:231858:231929:-1 gene:EMSPUG00000001822 transcript:EMSPUT00000001822 description:\"tRNA-His for anticodon GUG\": Warning: Sequence contains no data \r\n"
       ]
      },
      {
       "output_type": "stream",
       "stream": "stdout",
       "text": [
        "Error: (1431.1) FASTA-Reader: Warning: FASTA-Reader: No residues given\r\n"
       ]
      },
      {
       "output_type": "stream",
       "stream": "stdout",
       "text": [
        "Warning: lcl|Query_9709 EMSPUT00000015737 cds:pseudogene supercontig:GCA_000002235.2:Scaffold1483:18781:18857:-1 gene:EMSPUG00000015737 transcript:EMSPUT00000015737 description:\"tRNA-Glu for anticodon CUC\": Warning: Sequence contains no data \r\n"
       ]
      },
      {
       "output_type": "stream",
       "stream": "stdout",
       "text": [
        "Error: (1431.1) FASTA-Reader: Warning: FASTA-Reader: No residues given\r\n",
        "Error: (1431.1) FASTA-Reader: Warning: FASTA-Reader: No residues given\r\n",
        "Error: (1431.1) FASTA-Reader: Warning: FASTA-Reader: No residues given\r\n",
        "Error: (1431.1) FASTA-Reader: Warning: FASTA-Reader: No residues given\r\n",
        "Error: (1431.1) FASTA-Reader: Warning: FASTA-Reader: No residues given\r\n",
        "Error: (1431.1) FASTA-Reader: Warning: FASTA-Reader: No residues given\r\n",
        "Error: (1431.1) FASTA-Reader: Warning: FASTA-Reader: No residues given\r\n",
        "Error: (1431.1) FASTA-Reader: Warning: FASTA-Reader: No residues given\r\n",
        "Error: (1431.1) FASTA-Reader: Warning: FASTA-Reader: No residues given\r\n",
        "Error: (1431.1) FASTA-Reader: Warning: FASTA-Reader: No residues given\r\n"
       ]
      },
      {
       "output_type": "stream",
       "stream": "stdout",
       "text": [
        "Warning: lcl|Query_9725 EMSPUT00000010741 cds:pseudogene supercontig:GCA_000002235.2:Scaffold69:78017:78089:-1 gene:EMSPUG00000010741 transcript:EMSPUT00000010741 description:\"tRNA-Arg for anticodon ACG\": Warning: Sequence contains no data \r\n",
        "Warning: lcl|Query_9726 EMSPUT00000003752 cds:pseudogene supercontig:GCA_000002235.2:Scaffold69:79579:79651:-1 gene:EMSPUG00000003752 transcript:EMSPUT00000003752 description:\"tRNA-Arg for anticodon ACG\": Warning: Sequence contains no data \r\n",
        "Warning: lcl|Query_9727 EMSPUT00000008417 cds:pseudogene supercontig:GCA_000002235.2:Scaffold69:80344:80416:-1 gene:EMSPUG00000008417 transcript:EMSPUT00000008417 description:\"tRNA-Arg for anticodon ACG\": Warning: Sequence contains no data \r\n",
        "Warning: lcl|Query_9728 EMSPUT00000001638 cds:pseudogene supercontig:GCA_000002235.2:Scaffold69:81075:81147:-1 gene:EMSPUG00000001638 transcript:EMSPUT00000001638 description:\"tRNA-Arg for anticodon ACG\": Warning: Sequence contains no data \r\n",
        "Warning: lcl|Query_9729 EMSPUT00000010087 cds:pseudogene supercontig:GCA_000002235.2:Scaffold69:81419:81491:-1 gene:EMSPUG00000010087 transcript:EMSPUT00000010087 description:\"tRNA-Arg for anticodon ACG\": Warning: Sequence contains no data \r\n",
        "Warning: lcl|Query_9730 EMSPUT00000001236 cds:pseudogene supercontig:GCA_000002235.2:Scaffold69:82474:82546:-1 gene:EMSPUG00000001236 transcript:EMSPUT00000001236 description:\"tRNA-Arg for anticodon ACG\": Warning: Sequence contains no data \r\n",
        "Warning: lcl|Query_9731 EMSPUT00000000067 cds:pseudogene supercontig:GCA_000002235.2:Scaffold69:82821:82893:-1 gene:EMSPUG00000000067 transcript:EMSPUT00000000067 description:\"tRNA-Arg for anticodon ACG\": Warning: Sequence contains no data \r\n",
        "Warning: lcl|Query_9732 EMSPUT00000015136 cds:pseudogene supercontig:GCA_000002235.2:Scaffold69:83849:83921:-1 gene:EMSPUG00000015136 transcript:EMSPUT00000015136 description:\"tRNA-Arg for anticodon ACG\": Warning: Sequence contains no data \r\n",
        "Warning: lcl|Query_9733 EMSPUT00000009688 cds:pseudogene supercontig:GCA_000002235.2:Scaffold69:103791:103863:1 gene:EMSPUG00000009688 transcript:EMSPUT00000009688 description:\"tRNA-Arg for anticodon ACG\": Warning: Sequence contains no data \r\n",
        "Warning: lcl|Query_9741 EMSPUT00000006661 cds:pseudogene supercontig:GCA_000002235.2:Scaffold69:165682:165754:-1 gene:EMSPUG00000006661 transcript:EMSPUT00000006661 description:\"tRNA-Lys for anticodon CUU\": Warning: Sequence contains no data \r\n",
        "Error: (1431.1) FASTA-Reader: Warning: FASTA-Reader: No residues given\r\n"
       ]
      },
      {
       "output_type": "stream",
       "stream": "stdout",
       "text": [
        "Warning: lcl|Query_9748 EMSPUT00000012402 cds:pseudogene supercontig:GCA_000002235.2:Scaffold69:514745:514813:-1 gene:EMSPUG00000012402 transcript:EMSPUT00000012402 description:\"tRNA-Ser for anticodon UGA\": Warning: Sequence contains no data \r\n"
       ]
      },
      {
       "output_type": "stream",
       "stream": "stdout",
       "text": [
        "Error: (1431.1) FASTA-Reader: Warning: FASTA-Reader: No residues given\r\n"
       ]
      },
      {
       "output_type": "stream",
       "stream": "stdout",
       "text": [
        "Warning: lcl|Query_9774 EMSPUT00000015722 cds:pseudogene supercontig:GCA_000002235.2:Scaffold5746:15537:15608:-1 gene:EMSPUG00000015722 transcript:EMSPUT00000015722 description:\"tRNA-Ala for anticodon UGC\": Warning: Sequence contains no data \r\n",
        "Error: (1431.1) FASTA-Reader: Warning: FASTA-Reader: No residues given\r\n"
       ]
      },
      {
       "output_type": "stream",
       "stream": "stdout",
       "text": [
        "Warning: lcl|Query_9787 EMSPUT00000009370 cds:pseudogene supercontig:GCA_000002235.2:Scaffold518:432008:432080:-1 gene:EMSPUG00000009370 transcript:EMSPUT00000009370 description:\"tRNA-Met for anticodon CAU\": Warning: Sequence contains no data \r\n",
        "Error: (1431.1) FASTA-Reader: Warning: FASTA-Reader: No residues given\r\n"
       ]
      },
      {
       "output_type": "stream",
       "stream": "stdout",
       "text": [
        "Warning: lcl|Query_9822 EMSPUT00000006530 cds:pseudogene supercontig:GCA_000002235.2:Scaffold1732:33171:33245:1 gene:EMSPUG00000006530 transcript:EMSPUT00000006530 description:\"tRNA-Glu for anticodon CUC\": Warning: Sequence contains no data \r\n"
       ]
      },
      {
       "output_type": "stream",
       "stream": "stdout",
       "text": [
        "Error: (1431.1) FASTA-Reader: Warning: FASTA-Reader: No residues given\r\n",
        "Error: (1431.1) FASTA-Reader: Warning: FASTA-Reader: No residues given\r\n"
       ]
      },
      {
       "output_type": "stream",
       "stream": "stdout",
       "text": [
        "Warning: lcl|Query_9837 EMSPUT00000002320 cds:pseudogene supercontig:GCA_000002235.2:Scaffold1894:166804:166876:1 gene:EMSPUG00000002320 transcript:EMSPUT00000002320 description:\"tRNA-Met for anticodon CAU\": Warning: Sequence contains no data \r\n",
        "Warning: lcl|Query_9843 EMSPUT00000010865 cds:pseudogene supercontig:GCA_000002235.2:Scaffold1894:215216:215288:1 gene:EMSPUG00000010865 transcript:EMSPUT00000010865 description:\"tRNA-Met for anticodon CAU\": Warning: Sequence contains no data \r\n"
       ]
      },
      {
       "output_type": "stream",
       "stream": "stdout",
       "text": [
        "Error: (1431.1) FASTA-Reader: Warning: FASTA-Reader: No residues given\r\n",
        "Error: (1431.1) FASTA-Reader: Warning: FASTA-Reader: No residues given\r\n"
       ]
      },
      {
       "output_type": "stream",
       "stream": "stdout",
       "text": [
        "Warning: lcl|Query_9936 EMSPUT00000013908 cds:pseudogene supercontig:GCA_000002235.2:Scaffold369:229522:229593:-1 gene:EMSPUG00000013908 transcript:EMSPUT00000013908 description:\"Mammalian CPEB3 ribozyme\": Warning: Sequence contains no data \r\n",
        "Warning: lcl|Query_9938 EMSPUT00000012633 cds:pseudogene supercontig:GCA_000002235.2:Scaffold369:272762:272834:-1 gene:EMSPUG00000012633 transcript:EMSPUT00000012633 description:\"tRNA-Met for anticodon CAU\": Warning: Sequence contains no data \r\n",
        "Error: (1431.1) FASTA-Reader: Warning: FASTA-Reader: No residues given\r\n",
        "Error: (1431.1) FASTA-Reader: Warning: FASTA-Reader: No residues given\r\n"
       ]
      },
      {
       "output_type": "stream",
       "stream": "stdout",
       "text": [
        "Warning: lcl|Query_9951 EMSPUT00000009325 cds:pseudogene supercontig:GCA_000002235.2:Scaffold369:530190:530263:1 gene:EMSPUG00000009325 transcript:EMSPUT00000009325 description:\"tRNA-Arg for anticodon UCU\": Warning: Sequence contains no data \r\n",
        "Warning: lcl|Query_9952 EMSPUT00000014532 cds:pseudogene supercontig:GCA_000002235.2:Scaffold369:545970:546043:-1 gene:EMSPUG00000014532 transcript:EMSPUT00000014532 description:\"tRNA-Ala for anticodon CGC\": Warning: Sequence contains no data \r\n",
        "Error: (1431.1) FASTA-Reader: Warning: FASTA-Reader: No residues given\r\n",
        "Error: (1431.1) FASTA-Reader: Warning: FASTA-Reader: No residues given\r\n",
        "Error: (1431.1) FASTA-Reader: Warning: FASTA-Reader: No residues given\r\n"
       ]
      },
      {
       "output_type": "stream",
       "stream": "stdout",
       "text": [
        "Warning: lcl|Query_9968 EMSPUT00000014231 cds:pseudogene supercontig:GCA_000002235.2:Scaffold29342:281:351:-1 gene:EMSPUG00000014231 transcript:EMSPUT00000014231 description:\"tRNA-Gly for anticodon GCC\": Warning: Sequence contains no data \r\n",
        "Warning: lcl|Query_9969 EMSPUT00000007677 cds:pseudogene supercontig:GCA_000002235.2:Scaffold29342:2755:2825:-1 gene:EMSPUG00000007677 transcript:EMSPUT00000007677 description:\"tRNA-Gly for anticodon GCC\": Warning: Sequence contains no data \r\n",
        "Warning: lcl|Query_9970 EMSPUT00000012617 cds:pseudogene supercontig:GCA_000002235.2:Scaffold29342:3436:3506:-1 gene:EMSPUG00000012617 transcript:EMSPUT00000012617 description:\"tRNA-Gly for anticodon GCC\": Warning: Sequence contains no data \r\n",
        "Error: (1431.1) FASTA-Reader: Warning: FASTA-Reader: No residues given\r\n",
        "Error: (1431.1) FASTA-Reader: Warning: FASTA-Reader: No residues given\r\n"
       ]
      },
      {
       "output_type": "stream",
       "stream": "stdout",
       "text": [
        "Warning: lcl|Query_9982 EMSPUT00000010734 cds:pseudogene supercontig:GCA_000002235.2:Scaffold132:35501:35574:1 gene:EMSPUG00000010734 transcript:EMSPUT00000010734 description:\"tRNA-His for anticodon GUG\": Warning: Sequence contains no data \r\n",
        "Warning: lcl|Query_9987 EMSPUT00000007565 cds:pseudogene supercontig:GCA_000002235.2:Scaffold132:86820:86892:-1 gene:EMSPUG00000007565 transcript:EMSPUT00000007565 description:\"tRNA-Asp for anticodon AUC\": Warning: Sequence contains no data \r\n",
        "Error: (1431.1) FASTA-Reader: Warning: FASTA-Reader: No residues given\r\n",
        "Error: (1431.1) FASTA-Reader: Warning: FASTA-Reader: No residues given\r\n",
        "Error: (1431.1) FASTA-Reader: Warning: FASTA-Reader: No residues given\r\n",
        "Error: (1431.1) FASTA-Reader: Warning: FASTA-Reader: No residues given\r\n",
        "Error: (1431.1) FASTA-Reader: Warning: FASTA-Reader: No residues given\r\n",
        "Error: (1431.1) FASTA-Reader: Warning: FASTA-Reader: No residues given\r\n"
       ]
      },
      {
       "output_type": "stream",
       "stream": "stdout",
       "text": [
        "Warning: lcl|Query_9997 EMSPUT00000001894 cds:pseudogene supercontig:GCA_000002235.2:Scaffold132:390157:390228:1 gene:EMSPUG00000001894 transcript:EMSPUT00000001894 description:\"tRNA-Glu for anticodon UUC\": Warning: Sequence contains no data \r\n",
        "Warning: lcl|Query_9998 EMSPUT00000010612 cds:pseudogene supercontig:GCA_000002235.2:Scaffold132:391062:391133:1 gene:EMSPUG00000010612 transcript:EMSPUT00000010612 description:\"tRNA-Glu for anticodon UUC\": Warning: Sequence contains no data \r\n",
        "Warning: lcl|Query_9999 EMSPUT00000003662 cds:pseudogene supercontig:GCA_000002235.2:Scaffold132:399413:399485:1 gene:EMSPUG00000003662 transcript:EMSPUT00000003662 description:\"tRNA-Glu for anticodon UUC\": Warning: Sequence contains no data \r\n",
        "Warning: lcl|Query_10000 EMSPUT00000012416 cds:pseudogene supercontig:GCA_000002235.2:Scaffold132:400319:400390:1 gene:EMSPUG00000012416 transcript:EMSPUT00000012416 description:\"tRNA-Glu for anticodon UUC\": Warning: Sequence contains no data \r\n",
        "Warning: lcl|Query_10003 EMSPUT00000015331 cds:pseudogene supercontig:GCA_000002235.2:Scaffold132:772352:772424:-1 gene:EMSPUG00000015331 transcript:EMSPUT00000015331 description:\"tRNA-Met for anticodon CAU\": Warning: Sequence contains no data \r\n",
        "Warning: lcl|Query_10005 EMSPUT00000001981 cds:pseudogene supercontig:GCA_000002235.2:Scaffold132:847396:847470:1 gene:EMSPUG00000001981 transcript:EMSPUT00000001981 description:\"tRNA-Glu for anticodon CUC\": Warning: Sequence contains no data \r\n",
        "Error: (1431.1) FASTA-Reader: Warning: FASTA-Reader: No residues given\r\n",
        "Error: (1431.1) FASTA-Reader: Warning: FASTA-Reader: No residues given\r\n",
        "Error: (1431.1) FASTA-Reader: Warning: FASTA-Reader: No residues given\r\n"
       ]
      },
      {
       "output_type": "stream",
       "stream": "stdout",
       "text": [
        "Warning: lcl|Query_10019 EMSPUT00000012085 cds:pseudogene supercontig:GCA_000002235.2:Scaffold445:38972:39043:-1 gene:EMSPUG00000012085 transcript:EMSPUT00000012085 description:\"tRNA-Cys for anticodon ACA\": Warning: Sequence contains no data \r\n",
        "Warning: lcl|Query_10025 EMSPUT00000003634 cds:pseudogene supercontig:GCA_000002235.2:Scaffold445:181952:182024:-1 gene:EMSPUG00000003634 transcript:EMSPUT00000003634 description:\"tRNA-Met for anticodon CAU\": Warning: Sequence contains no data \r\n",
        "Warning: lcl|Query_10032 EMSPUT00000005498 cds:pseudogene supercontig:GCA_000002235.2:Scaffold445:404499:404565:-1 gene:EMSPUG00000005498 transcript:EMSPUT00000005498 description:\"tRNA-His for anticodon GUG\": Warning: Sequence contains no data \r\n",
        "Error: (1431.1) FASTA-Reader: Warning: FASTA-Reader: No residues given\r\n",
        "Error: (1431.1) FASTA-Reader: Warning: FASTA-Reader: No residues given\r\n"
       ]
      },
      {
       "output_type": "stream",
       "stream": "stdout",
       "text": [
        "Warning: lcl|Query_10052 EMSPUT00000014347 cds:pseudogene supercontig:GCA_000002235.2:Scaffold237:479977:480048:-1 gene:EMSPUG00000014347 transcript:EMSPUT00000014347 description:\"tRNA-Cys for anticodon GCA\": Warning: Sequence contains no data \r\n",
        "Warning: lcl|Query_10053 EMSPUT00000010975 cds:pseudogene supercontig:GCA_000002235.2:Scaffold237:482732:482804:-1 gene:EMSPUG00000010975 transcript:EMSPUT00000010975 description:\"tRNA-Met for anticodon CAU\": Warning: Sequence contains no data \r\n",
        "Error: (1431.1) FASTA-Reader: Warning: FASTA-Reader: No residues given\r\n"
       ]
      },
      {
       "output_type": "stream",
       "stream": "stdout",
       "text": [
        "Warning: lcl|Query_10063 EMSPUT00000001720 cds:pseudogene supercontig:GCA_000002235.2:Scaffold3623:4569:4641:1 gene:EMSPUG00000001720 transcript:EMSPUT00000001720 description:\"tRNA-Arg for anticodon CCU\": Warning: Sequence contains no data \r\n",
        "Error: (1431.1) FASTA-Reader: Warning: FASTA-Reader: No residues given\r\n",
        "Error: (1431.1) FASTA-Reader: Warning: FASTA-Reader: No residues given\r\n",
        "Error: (1431.1) FASTA-Reader: Warning: FASTA-Reader: No residues given\r\n"
       ]
      },
      {
       "output_type": "stream",
       "stream": "stdout",
       "text": [
        "Warning: lcl|Query_10069 EMSPUT00000001331 cds:pseudogene supercontig:GCA_000002235.2:Scaffold1605:14885:14955:1 gene:EMSPUG00000001331 transcript:EMSPUT00000001331 description:\"tRNA-Arg for anticodon UCU\": Warning: Sequence contains no data \r\n",
        "Warning: lcl|Query_10072 EMSPUT00000015069 cds:pseudogene supercontig:GCA_000002235.2:Scaffold1420:52172:52246:1 gene:EMSPUG00000015069 transcript:EMSPUT00000015069 description:\"tRNA-SeC for anticodon UCA\": Warning: Sequence contains no data \r\n",
        "Warning: lcl|Query_10074 EMSPUT00000007908 cds:pseudogene supercontig:GCA_000002235.2:Scaffold5076:2937:3009:-1 gene:EMSPUG00000007908 transcript:EMSPUT00000007908 description:\"tRNA-Met for anticodon CAU\": Warning: Sequence contains no data \r\n",
        "Error: (1431.1) FASTA-Reader: Warning: FASTA-Reader: No residues given\r\n"
       ]
      },
      {
       "output_type": "stream",
       "stream": "stdout",
       "text": [
        "Warning: lcl|Query_10088 SPU_030049-tr cds:pseudogene supercontig:GCA_000002235.2:Scaffold4862:9449:9609:1 gene:SPU_030049 transcript:SPU_030049-tr: Warning: Sequence contains no data \r\n"
       ]
      },
      {
       "output_type": "stream",
       "stream": "stdout",
       "text": [
        "Error: (1431.1) FASTA-Reader: Warning: FASTA-Reader: No residues given\r\n",
        "Error: (1431.1) FASTA-Reader: Warning: FASTA-Reader: No residues given\r\n",
        "Error: (1431.1) FASTA-Reader: Warning: FASTA-Reader: No residues given\r\n"
       ]
      },
      {
       "output_type": "stream",
       "stream": "stdout",
       "text": [
        "Warning: lcl|Query_10116 EMSPUT00000007739 cds:pseudogene supercontig:GCA_000002235.2:Scaffold3153:13689:13761:-1 gene:EMSPUG00000007739 transcript:EMSPUT00000007739 description:\"tRNA-Ala for anticodon GGC\": Warning: Sequence contains no data \r\n",
        "Warning: lcl|Query_10125 SPU_025544.1-tr cds:pseudogene supercontig:GCA_000002235.2:Scaffold2267:3614:3885:-1 gene:SPU_025544.1 transcript:SPU_025544.1-tr: Warning: Sequence contains no data \r\n",
        "Warning: lcl|Query_10126 SPU_025544.2-tr cds:pseudogene supercontig:GCA_000002235.2:Scaffold2267:6764:7035:-1 gene:SPU_025544.2 transcript:SPU_025544.2-tr: Warning: Sequence contains no data \r\n",
        "Error: (1431.1) FASTA-Reader: Warning: FASTA-Reader: No residues given\r\n"
       ]
      },
      {
       "output_type": "stream",
       "stream": "stdout",
       "text": [
        "Warning: lcl|Query_10131 EMSPUT00000005448 cds:pseudogene supercontig:GCA_000002235.2:Scaffold87:27098:27170:1 gene:EMSPUG00000005448 transcript:EMSPUT00000005448 description:\"tRNA-Met for anticodon CAU\": Warning: Sequence contains no data \r\n"
       ]
      },
      {
       "output_type": "stream",
       "stream": "stdout",
       "text": [
        "Error: (1431.1) FASTA-Reader: Warning: FASTA-Reader: No residues given\r\n"
       ]
      },
      {
       "output_type": "stream",
       "stream": "stdout",
       "text": [
        "Warning: lcl|Query_10170 EMSPUT00000002293 cds:pseudogene supercontig:GCA_000002235.2:Scaffold1834:83233:83305:-1 gene:EMSPUG00000002293 transcript:EMSPUT00000002293 description:\"tRNA-Ala for anticodon GGC\": Warning: Sequence contains no data \r\n"
       ]
      },
      {
       "output_type": "stream",
       "stream": "stdout",
       "text": [
        "Error: (1431.1) FASTA-Reader: Warning: FASTA-Reader: No residues given\r\n",
        "Error: (1431.1) FASTA-Reader: Warning: FASTA-Reader: No residues given\r\n"
       ]
      },
      {
       "output_type": "stream",
       "stream": "stdout",
       "text": [
        "Warning: lcl|Query_10195 EMSPUT00000010196 cds:pseudogene supercontig:GCA_000002235.2:Scaffold273:496458:496530:-1 gene:EMSPUG00000010196 transcript:EMSPUT00000010196 description:\"tRNA-Met for anticodon CAU\": Warning: Sequence contains no data \r\n"
       ]
      },
      {
       "output_type": "stream",
       "stream": "stdout",
       "text": [
        "Warning: lcl|Query_10201 EMSPUT00000000821 cds:pseudogene supercontig:GCA_000002235.2:Scaffold610:14314:14386:-1 gene:EMSPUG00000000821 transcript:EMSPUT00000000821 description:\"tRNA-Met for anticodon CAU\": Warning: Sequence contains no data \r\n"
       ]
      },
      {
       "output_type": "stream",
       "stream": "stdout",
       "text": [
        "Error: (1431.1) FASTA-Reader: Warning: FASTA-Reader: No residues given\r\n"
       ]
      },
      {
       "output_type": "stream",
       "stream": "stdout",
       "text": [
        "Warning: lcl|Query_10250 EMSPUT00000013509 cds:pseudogene supercontig:GCA_000002235.2:Scaffold104:856493:856567:1 gene:EMSPUG00000013509 transcript:EMSPUT00000013509 description:\"tRNA-Ala for anticodon AGC\": Warning: Sequence contains no data \r\n"
       ]
      },
      {
       "output_type": "stream",
       "stream": "stdout",
       "text": [
        "Error: (1431.1) FASTA-Reader: Warning: FASTA-Reader: No residues given\r\n"
       ]
      },
      {
       "output_type": "stream",
       "stream": "stdout",
       "text": [
        "Warning: lcl|Query_10296 EMSPUT00000012891 cds:pseudogene supercontig:GCA_000002235.2:Scaffold1399:75352:75425:1 gene:EMSPUG00000012891 transcript:EMSPUT00000012891 description:\"tRNA-Ser for anticodon UGA\": Warning: Sequence contains no data \r\n",
        "Error: (1431.1) FASTA-Reader: Warning: FASTA-Reader: No residues given\r\n"
       ]
      },
      {
       "output_type": "stream",
       "stream": "stdout",
       "text": [
        "Warning: lcl|Query_10312 EMSPUT00000015769 cds:pseudogene supercontig:GCA_000002235.2:Scaffold1060:111464:111532:1 gene:EMSPUG00000015769 transcript:EMSPUT00000015769 description:\"tRNA-Val for anticodon UAC\": Warning: Sequence contains no data \r\n"
       ]
      },
      {
       "output_type": "stream",
       "stream": "stdout",
       "text": [
        "Error: (1431.1) FASTA-Reader: Warning: FASTA-Reader: No residues given\r\n"
       ]
      },
      {
       "output_type": "stream",
       "stream": "stdout",
       "text": [
        "Warning: lcl|Query_10349 EMSPUT00000000917 cds:pseudogene supercontig:GCA_000002235.2:Scaffold34:138462:138534:1 gene:EMSPUG00000000917 transcript:EMSPUT00000000917 description:\"tRNA-Met for anticodon CAU\": Warning: Sequence contains no data \r\n",
        "Error: (1431.1) FASTA-Reader: Warning: FASTA-Reader: No residues given\r\n",
        "Error: (1431.1) FASTA-Reader: Warning: FASTA-Reader: No residues given\r\n",
        "Error: (1431.1) FASTA-Reader: Warning: FASTA-Reader: No residues given\r\n"
       ]
      },
      {
       "output_type": "stream",
       "stream": "stdout",
       "text": [
        "Warning: lcl|Query_10367 EMSPUT00000004429 cds:pseudogene supercontig:GCA_000002235.2:Scaffold34:847826:847908:1 gene:EMSPUG00000004429 transcript:EMSPUT00000004429 description:\"tRNA-Leu for anticodon UAA\": Warning: Sequence contains no data \r\n",
        "Warning: lcl|Query_10368 EMSPUT00000012431 cds:pseudogene supercontig:GCA_000002235.2:Scaffold34:849916:850000:1 gene:EMSPUG00000012431 transcript:EMSPUT00000012431 description:\"tRNA-Arg for anticodon UCG\": Warning: Sequence contains no data \r\n",
        "Warning: lcl|Query_10369 EMSPUT00000001524 cds:pseudogene supercontig:GCA_000002235.2:Scaffold34:851968:852052:1 gene:EMSPUG00000001524 transcript:EMSPUT00000001524 description:\"tRNA-Arg for anticodon UCG\": Warning: Sequence contains no data \r\n"
       ]
      },
      {
       "output_type": "stream",
       "stream": "stdout",
       "text": [
        "Error: (1431.1) FASTA-Reader: Warning: FASTA-Reader: No residues given\r\n",
        "Error: (1431.1) FASTA-Reader: Warning: FASTA-Reader: No residues given\r\n",
        "Error: (1431.1) FASTA-Reader: Warning: FASTA-Reader: No residues given\r\n",
        "Error: (1431.1) FASTA-Reader: Warning: FASTA-Reader: No residues given\r\n"
       ]
      },
      {
       "output_type": "stream",
       "stream": "stdout",
       "text": [
        "Warning: lcl|Query_10438 EMSPUT00000011921 cds:pseudogene supercontig:GCA_000002235.2:Scaffold3274:44313:44387:1 gene:EMSPUG00000011921 transcript:EMSPUT00000011921 description:\"tRNA-SeC for anticodon UCA\": Warning: Sequence contains no data \r\n",
        "Warning: lcl|Query_10442 EMSPUT00000004003 cds:pseudogene supercontig:GCA_000002235.2:Scaffold947:44127:44199:-1 gene:EMSPUG00000004003 transcript:EMSPUT00000004003 description:\"tRNA-Met for anticodon CAU\": Warning: Sequence contains no data \r\n",
        "Warning: lcl|Query_10451 EMSPUT00000006158 cds:pseudogene supercontig:GCA_000002235.2:Scaffold537:189413:189485:-1 gene:EMSPUG00000006158 transcript:EMSPUT00000006158 description:\"tRNA-Lys for anticodon UUU\": Warning: Sequence contains no data \r\n",
        "Warning: lcl|Query_10452 EMSPUT00000014825 cds:pseudogene supercontig:GCA_000002235.2:Scaffold537:242161:242232:-1 gene:EMSPUG00000014825 transcript:EMSPUT00000014825 description:\"tRNA-Ala for anticodon CGC\": Warning: Sequence contains no data \r\n",
        "Error: (1431.1) FASTA-Reader: Warning: FASTA-Reader: No residues given\r\n",
        "Error: (1431.1) FASTA-Reader: Warning: FASTA-Reader: No residues given\r\n",
        "Error: (1431.1) FASTA-Reader: Warning: FASTA-Reader: No residues given\r\n",
        "Error: (1431.1) FASTA-Reader: Warning: FASTA-Reader: No residues given\r\n"
       ]
      },
      {
       "output_type": "stream",
       "stream": "stdout",
       "text": [
        "Warning: lcl|Query_10456 EMSPUT00000004431 cds:pseudogene supercontig:GCA_000002235.2:Scaffold537:328522:328593:-1 gene:EMSPUG00000004431 transcript:EMSPUT00000004431 description:\"tRNA-Ser for anticodon UGA\": Warning: Sequence contains no data \r\n",
        "Warning: lcl|Query_10472 EMSPUT00000014003 cds:pseudogene supercontig:GCA_000002235.2:Scaffold4423:2931:3012:-1 gene:EMSPUG00000014003 transcript:EMSPUT00000014003 description:\"tRNA-Leu for anticodon UAG\": Warning: Sequence contains no data \r\n",
        "Warning: lcl|Query_10473 EMSPUT00000014758 cds:pseudogene supercontig:GCA_000002235.2:Scaffold29590:489:561:-1 gene:EMSPUG00000014758 transcript:EMSPUT00000014758 description:\"tRNA-Met for anticodon CAU\": Warning: Sequence contains no data \r\n",
        "Warning: lcl|Query_10474 EMSPUT00000014436 cds:pseudogene supercontig:GCA_000002235.2:Scaffold2642:2181:2253:1 gene:EMSPUG00000014436 transcript:EMSPUT00000014436 description:\"tRNA-Met for anticodon CAU\": Warning: Sequence contains no data \r\n"
       ]
      },
      {
       "output_type": "stream",
       "stream": "stdout",
       "text": [
        "Error: (1431.1) FASTA-Reader: Warning: FASTA-Reader: No residues given\r\n",
        "Error: (1431.1) FASTA-Reader: Warning: FASTA-Reader: No residues given\r\n"
       ]
      },
      {
       "output_type": "stream",
       "stream": "stdout",
       "text": [
        "Warning: lcl|Query_10513 EMSPUT00000004791 cds:pseudogene supercontig:GCA_000002235.2:Scaffold4390:4663:4736:-1 gene:EMSPUG00000004791 transcript:EMSPUT00000004791 description:\"tRNA-Ala for anticodon GGC\": Warning: Sequence contains no data \r\n",
        "Warning: lcl|Query_10530 EMSPUT00000014381 cds:pseudogene supercontig:GCA_000002235.2:Scaffold214:152054:152123:-1 gene:EMSPUG00000014381 transcript:EMSPUT00000014381 description:\"tRNA-Thr for anticodon CGU\": Warning: Sequence contains no data \r\n"
       ]
      },
      {
       "output_type": "stream",
       "stream": "stdout",
       "text": [
        "Error: (1431.1) FASTA-Reader: Warning: FASTA-Reader: No residues given\r\n"
       ]
      },
      {
       "output_type": "stream",
       "stream": "stdout",
       "text": [
        "Warning: lcl|Query_10567 EMSPUT00000008955 cds:pseudogene supercontig:GCA_000002235.2:Scaffold2195:11475:11550:1 gene:EMSPUG00000008955 transcript:EMSPUT00000008955 description:\"tRNA-Thr for anticodon CGU\": Warning: Sequence contains no data \r\n",
        "Error: (1431.1) FASTA-Reader: Warning: FASTA-Reader: No residues given\r\n"
       ]
      },
      {
       "output_type": "stream",
       "stream": "stdout",
       "text": [
        "Warning: lcl|Query_10581 EMSPUT00000001635 cds:pseudogene supercontig:GCA_000002235.2:Scaffold924:114740:114823:-1 gene:EMSPUG00000001635 transcript:EMSPUT00000001635 description:\"tRNA-Leu for anticodon UAA\": Warning: Sequence contains no data \r\n",
        "Error: (1431.1) FASTA-Reader: Warning: FASTA-Reader: No residues given\r\n"
       ]
      },
      {
       "output_type": "stream",
       "stream": "stdout",
       "text": [
        "Warning: lcl|Query_10597 EMSPUT00000005525 cds:pseudogene supercontig:GCA_000002235.2:Scaffold112:100382:100454:1 gene:EMSPUG00000005525 transcript:EMSPUT00000005525 description:\"tRNA-Ala for anticodon GGC\": Warning: Sequence contains no data \r\n"
       ]
      },
      {
       "output_type": "stream",
       "stream": "stdout",
       "text": [
        "Error: (1431.1) FASTA-Reader: Warning: FASTA-Reader: No residues given\r\n",
        "Error: (1431.1) FASTA-Reader: Warning: FASTA-Reader: No residues given\r\n"
       ]
      },
      {
       "output_type": "stream",
       "stream": "stdout",
       "text": [
        "Warning: lcl|Query_10652 EMSPUT00000015420 cds:pseudogene supercontig:GCA_000002235.2:Scaffold5818:2389:2461:-1 gene:EMSPUG00000015420 transcript:EMSPUT00000015420 description:\"tRNA-Met for anticodon CAU\": Warning: Sequence contains no data \r\n",
        "Warning: lcl|Query_10654 EMSPUT00000008527 cds:pseudogene supercontig:GCA_000002235.2:Scaffold1482:37166:37241:1 gene:EMSPUG00000008527 transcript:EMSPUT00000008527 description:\"tRNA-Lys for anticodon CUU\": Warning: Sequence contains no data \r\n",
        "Error: (1431.1) FASTA-Reader: Warning: FASTA-Reader: No residues given\r\n",
        "Error: (1431.1) FASTA-Reader: Warning: FASTA-Reader: No residues given\r\n",
        "Error: (1431.1) FASTA-Reader: Warning: FASTA-Reader: No residues given\r\n"
       ]
      },
      {
       "output_type": "stream",
       "stream": "stdout",
       "text": [
        "Warning: lcl|Query_10664 SPU_015789-tr cds:pseudogene supercontig:GCA_000002235.2:Scaffold43:112724:114998:-1 gene:SPU_015789 transcript:SPU_015789-tr: Warning: Sequence contains no data \r\n",
        "Warning: lcl|Query_10671 EMSPUT00000005719 cds:pseudogene supercontig:GCA_000002235.2:Scaffold43:260491:260563:-1 gene:EMSPUG00000005719 transcript:EMSPUT00000005719 description:\"tRNA-Arg for anticodon CCU\": Warning: Sequence contains no data \r\n",
        "Warning: lcl|Query_10672 EMSPUT00000014349 cds:pseudogene supercontig:GCA_000002235.2:Scaffold43:261260:261332:-1 gene:EMSPUG00000014349 transcript:EMSPUT00000014349 description:\"tRNA-Arg for anticodon CCU\": Warning: Sequence contains no data \r\n"
       ]
      },
      {
       "output_type": "stream",
       "stream": "stdout",
       "text": [
        "Error: (1431.1) FASTA-Reader: Warning: FASTA-Reader: No residues given\r\n",
        "Error: (1431.1) FASTA-Reader: Warning: FASTA-Reader: No residues given\r\n"
       ]
      },
      {
       "output_type": "stream",
       "stream": "stdout",
       "text": [
        "Warning: lcl|Query_10729 SPU_030055-tr cds:pseudogene supercontig:GCA_000002235.2:Scaffold995:84664:84844:1 gene:SPU_030055 transcript:SPU_030055-tr: Warning: Sequence contains no data \r\n",
        "Warning: lcl|Query_10735 EMSPUT00000004638 cds:pseudogene supercontig:GCA_000002235.2:Scaffold995:161120:161192:1 gene:EMSPUG00000004638 transcript:EMSPUT00000004638 description:\"tRNA-Met for anticodon CAU\": Warning: Sequence contains no data \r\n"
       ]
      },
      {
       "output_type": "stream",
       "stream": "stdout",
       "text": [
        "Error: (1431.1) FASTA-Reader: Warning: FASTA-Reader: No residues given\r\n",
        "Error: (1431.1) FASTA-Reader: Warning: FASTA-Reader: No residues given\r\n",
        "Error: (1431.1) FASTA-Reader: Warning: FASTA-Reader: No residues given\r\n"
       ]
      },
      {
       "output_type": "stream",
       "stream": "stdout",
       "text": [
        "Warning: lcl|Query_10763 SPU_019881-tr cds:pseudogene supercontig:GCA_000002235.2:Scaffold15:765379:768130:1 gene:SPU_019881 transcript:SPU_019881-tr: Warning: Sequence contains no data \r\n",
        "Warning: lcl|Query_10764 SPU_019882-tr cds:pseudogene supercontig:GCA_000002235.2:Scaffold15:765379:768130:1 gene:SPU_019882 transcript:SPU_019882-tr: Warning: Sequence contains no data \r\n",
        "Warning: lcl|Query_10766 EMSPUT00000014052 cds:pseudogene supercontig:GCA_000002235.2:Scaffold15:865975:866051:-1 gene:EMSPUG00000014052 transcript:EMSPUT00000014052 description:\"tRNA-Met for anticodon CAU\": Warning: Sequence contains no data \r\n",
        "Error: (1431.1) FASTA-Reader: Warning: FASTA-Reader: No residues given\r\n"
       ]
      },
      {
       "output_type": "stream",
       "stream": "stdout",
       "text": [
        "Warning: lcl|Query_10778 SPU_016379-tr cds:pseudogene supercontig:GCA_000002235.2:Scaffold2928:39690:55199:-1 gene:SPU_016379 transcript:SPU_016379-tr: Warning: Sequence contains no data \r\n",
        "Error: (1431.1) FASTA-Reader: Warning: FASTA-Reader: No residues given\r\n"
       ]
      },
      {
       "output_type": "stream",
       "stream": "stdout",
       "text": [
        "Warning: lcl|Query_10787 EMSPUT00000015772 cds:pseudogene supercontig:GCA_000002235.2:Scaffold570:198052:198126:-1 gene:EMSPUG00000015772 transcript:EMSPUT00000015772 description:\"tRNA-SeC for anticodon UCA\": Warning: Sequence contains no data \r\n"
       ]
      },
      {
       "output_type": "stream",
       "stream": "stdout",
       "text": [
        "Error: (1431.1) FASTA-Reader: Warning: FASTA-Reader: No residues given\r\n"
       ]
      },
      {
       "output_type": "stream",
       "stream": "stdout",
       "text": [
        "Warning: lcl|Query_10822 EMSPUT00000012032 cds:pseudogene supercontig:GCA_000002235.2:Scaffold181:287469:287539:1 gene:EMSPUG00000012032 transcript:EMSPUT00000012032 description:\"tRNA-Thr for anticodon CGU\": Warning: Sequence contains no data \r\n"
       ]
      },
      {
       "output_type": "stream",
       "stream": "stdout",
       "text": [
        "Error: (1431.1) FASTA-Reader: Warning: FASTA-Reader: No residues given\r\n",
        "Error: (1431.1) FASTA-Reader: Warning: FASTA-Reader: No residues given\r\n"
       ]
      },
      {
       "output_type": "stream",
       "stream": "stdout",
       "text": [
        "Warning: lcl|Query_10865 SPU_003579-tr cds:pseudogene supercontig:GCA_000002235.2:Scaffold7149:3345:6014:-1 gene:SPU_003579 transcript:SPU_003579-tr: Warning: Sequence contains no data \r\n",
        "Warning: lcl|Query_10871 EMSPUT00000002798 cds:pseudogene supercontig:GCA_000002235.2:Scaffold1539:128796:128866:1 gene:EMSPUG00000002798 transcript:EMSPUT00000002798 description:\"tRNA-Gly for anticodon GCC\": Warning: Sequence contains no data \r\n"
       ]
      },
      {
       "output_type": "stream",
       "stream": "stdout",
       "text": [
        "Error: (1431.1) FASTA-Reader: Warning: FASTA-Reader: No residues given\r\n"
       ]
      },
      {
       "output_type": "stream",
       "stream": "stdout",
       "text": [
        "Warning: lcl|Query_10912 EMSPUT00000007327 cds:pseudogene supercontig:GCA_000002235.2:Scaffold1484:63491:63563:-1 gene:EMSPUG00000007327 transcript:EMSPUT00000007327 description:\"tRNA-Met for anticodon CAU\": Warning: Sequence contains no data \r\n"
       ]
      },
      {
       "output_type": "stream",
       "stream": "stdout",
       "text": [
        "Error: (1431.1) FASTA-Reader: Warning: FASTA-Reader: No residues given\r\n",
        "Error: (1431.1) FASTA-Reader: Warning: FASTA-Reader: No residues given\r\n"
       ]
      },
      {
       "output_type": "stream",
       "stream": "stdout",
       "text": [
        "Warning: lcl|Query_10964 EMSPUT00000007502 cds:pseudogene supercontig:GCA_000002235.2:Scaffold27127:318:390:-1 gene:EMSPUG00000007502 transcript:EMSPUT00000007502 description:\"tRNA-Met for anticodon CAU\": Warning: Sequence contains no data \r\n",
        "Warning: lcl|Query_10976 EMSPUT00000011879 cds:pseudogene supercontig:GCA_000002235.2:Scaffold867:183313:183387:1 gene:EMSPUG00000011879 transcript:EMSPUT00000011879 description:\"tRNA-Lys for anticodon CUU\": Warning: Sequence contains no data \r\n"
       ]
      },
      {
       "output_type": "stream",
       "stream": "stdout",
       "text": [
        "Error: (1431.1) FASTA-Reader: Warning: FASTA-Reader: No residues given\r\n"
       ]
      },
      {
       "output_type": "stream",
       "stream": "stdout",
       "text": [
        "Warning: lcl|Query_11010 EMSPUT00000014460 cds:pseudogene supercontig:GCA_000002235.2:Scaffold101:547337:547410:1 gene:EMSPUG00000014460 transcript:EMSPUT00000014460 description:\"tRNA-Sup for anticodon UUA\": Warning: Sequence contains no data \r\n"
       ]
      },
      {
       "output_type": "stream",
       "stream": "stdout",
       "text": [
        "Error: (1431.1) FASTA-Reader: Warning: FASTA-Reader: No residues given\r\n"
       ]
      },
      {
       "output_type": "stream",
       "stream": "stdout",
       "text": [
        "Warning: lcl|Query_11038 EMSPUT00000003903 cds:pseudogene supercontig:GCA_000002235.2:Scaffold5280:4092:4164:-1 gene:EMSPUG00000003903 transcript:EMSPUT00000003903 description:\"tRNA-Met for anticodon CAU\": Warning: Sequence contains no data \r\n"
       ]
      },
      {
       "output_type": "stream",
       "stream": "stdout",
       "text": [
        "Error: (1431.1) FASTA-Reader: Warning: FASTA-Reader: No residues given\r\n"
       ]
      },
      {
       "output_type": "stream",
       "stream": "stdout",
       "text": [
        "Warning: lcl|Query_11073 EMSPUT00000010833 cds:pseudogene supercontig:GCA_000002235.2:Scaffold2817:3775:3849:-1 gene:EMSPUG00000010833 transcript:EMSPUT00000010833 description:\"tRNA-Asp for anticodon GUC\": Warning: Sequence contains no data \r\n",
        "Error: (1431.1) FASTA-Reader: Warning: FASTA-Reader: No residues given\r\n",
        "Error: (1431.1) FASTA-Reader: Warning: FASTA-Reader: No residues given\r\n"
       ]
      },
      {
       "output_type": "stream",
       "stream": "stdout",
       "text": [
        "Warning: lcl|Query_11087 EMSPUT00000005496 cds:pseudogene supercontig:GCA_000002235.2:Scaffold6613:1538:1612:1 gene:EMSPUG00000005496 transcript:EMSPUT00000005496 description:\"tRNA-SeC for anticodon UCA\": Warning: Sequence contains no data \r\n",
        "Warning: lcl|Query_11091 EMSPUT00000014350 cds:pseudogene supercontig:GCA_000002235.2:Scaffold2910:39629:39701:-1 gene:EMSPUG00000014350 transcript:EMSPUT00000014350 description:\"tRNA-Met for anticodon CAU\": Warning: Sequence contains no data \r\n",
        "Error: (1431.1) FASTA-Reader: Warning: FASTA-Reader: No residues given\r\n"
       ]
      },
      {
       "output_type": "stream",
       "stream": "stdout",
       "text": [
        "Error: (1431.1) FASTA-Reader: Warning: FASTA-Reader: No residues given\r\n"
       ]
      },
      {
       "output_type": "stream",
       "stream": "stdout",
       "text": [
        "Warning: lcl|Query_11113 EMSPUT00000009924 cds:pseudogene supercontig:GCA_000002235.2:Scaffold492:245999:246072:1 gene:EMSPUG00000009924 transcript:EMSPUT00000009924 description:\"tRNA-Ala for anticodon GGC\": Warning: Sequence contains no data \r\n",
        "Warning: lcl|Query_11114 EMSPUT00000001040 cds:pseudogene supercontig:GCA_000002235.2:Scaffold492:246783:246856:1 gene:EMSPUG00000001040 transcript:EMSPUT00000001040 description:\"tRNA-Ala for anticodon AGC\": Warning: Sequence contains no data \r\n",
        "Error: (1431.1) FASTA-Reader: Warning: FASTA-Reader: No residues given\r\n"
       ]
      },
      {
       "output_type": "stream",
       "stream": "stdout",
       "text": [
        "Warning: lcl|Query_11128 EMSPUT00000009986 cds:pseudogene supercontig:GCA_000002235.2:Scaffold1415:66334:66406:-1 gene:EMSPUG00000009986 transcript:EMSPUT00000009986 description:\"tRNA-Met for anticodon CAU\": Warning: Sequence contains no data \r\n"
       ]
      },
      {
       "output_type": "stream",
       "stream": "stdout",
       "text": [
        "Error: (1431.1) FASTA-Reader: Warning: FASTA-Reader: No residues given\r\n"
       ]
      },
      {
       "output_type": "stream",
       "stream": "stdout",
       "text": [
        "Warning: lcl|Query_11156 EMSPUT00000007195 cds:pseudogene supercontig:GCA_000002235.2:Scaffold455:425978:426050:-1 gene:EMSPUG00000007195 transcript:EMSPUT00000007195 description:\"tRNA-Val for anticodon CAC\": Warning: Sequence contains no data \r\n",
        "Error: (1431.1) FASTA-Reader: Warning: FASTA-Reader: No residues given\r\n",
        "Error: (1431.1) FASTA-Reader: Warning: FASTA-Reader: No residues given\r\n",
        "Error: (1431.1) FASTA-Reader: Warning: FASTA-Reader: No residues given\r\n"
       ]
      },
      {
       "output_type": "stream",
       "stream": "stdout",
       "text": [
        "Warning: lcl|Query_11174 EMSPUT00000014923 cds:pseudogene supercontig:GCA_000002235.2:Scaffold40:190381:190453:1 gene:EMSPUG00000014923 transcript:EMSPUT00000014923 description:\"tRNA-Thr for anticodon AGU\": Warning: Sequence contains no data \r\n",
        "Warning: lcl|Query_11175 EMSPUT00000001449 cds:pseudogene supercontig:GCA_000002235.2:Scaffold40:190802:190874:-1 gene:EMSPUG00000001449 transcript:EMSPUT00000001449 description:\"tRNA-Thr for anticodon AGU\": Warning: Sequence contains no data \r\n",
        "Warning: lcl|Query_11176 EMSPUT00000008197 cds:pseudogene supercontig:GCA_000002235.2:Scaffold40:192150:192222:-1 gene:EMSPUG00000008197 transcript:EMSPUT00000008197 description:\"tRNA-Thr for anticodon AGU\": Warning: Sequence contains no data \r\n"
       ]
      },
      {
       "output_type": "stream",
       "stream": "stdout",
       "text": [
        "Error: (1431.1) FASTA-Reader: Warning: FASTA-Reader: No residues given\r\n",
        "Error: (1431.1) FASTA-Reader: Warning: FASTA-Reader: No residues given\r\n"
       ]
      },
      {
       "output_type": "stream",
       "stream": "stdout",
       "text": [
        "Warning: lcl|Query_11232 EMSPUT00000012248 cds:pseudogene supercontig:GCA_000002235.2:Scaffold582:161055:161126:1 gene:EMSPUG00000012248 transcript:EMSPUT00000012248 description:\"tRNA-His for anticodon GUG\": Warning: Sequence contains no data \r\n",
        "Warning: lcl|Query_11233 EMSPUT00000005275 cds:pseudogene supercontig:GCA_000002235.2:Scaffold582:174189:174260:1 gene:EMSPUG00000005275 transcript:EMSPUT00000005275 description:\"tRNA-His for anticodon GUG\": Warning: Sequence contains no data \r\n"
       ]
      },
      {
       "output_type": "stream",
       "stream": "stdout",
       "text": [
        "Error: (1431.1) FASTA-Reader: Warning: FASTA-Reader: No residues given\r\n",
        "Error: (1431.1) FASTA-Reader: Warning: FASTA-Reader: No residues given\r\n",
        "Error: (1431.1) FASTA-Reader: Warning: FASTA-Reader: No residues given\r\n",
        "Error: (1431.1) FASTA-Reader: Warning: FASTA-Reader: No residues given\r\n"
       ]
      },
      {
       "output_type": "stream",
       "stream": "stdout",
       "text": [
        "Warning: lcl|Query_11346 EMSPUT00000009977 cds:pseudogene supercontig:GCA_000002235.2:Scaffold167:549074:549146:-1 gene:EMSPUG00000009977 transcript:EMSPUT00000009977 description:\"tRNA-Met for anticodon CAU\": Warning: Sequence contains no data \r\n",
        "Warning: lcl|Query_11347 EMSPUT00000010552 cds:pseudogene supercontig:GCA_000002235.2:Scaffold167:612130:612203:-1 gene:EMSPUG00000010552 transcript:EMSPUT00000010552 description:\"tRNA-Ser for anticodon UGA\": Warning: Sequence contains no data \r\n",
        "Warning: lcl|Query_11349 EMSPUT00000012043 cds:pseudogene supercontig:GCA_000002235.2:Scaffold167:758152:758224:1 gene:EMSPUG00000012043 transcript:EMSPUT00000012043 description:\"tRNA-Met for anticodon CAU\": Warning: Sequence contains no data \r\n",
        "Warning: lcl|Query_11350 EMSPUT00000003520 cds:pseudogene supercontig:GCA_000002235.2:Scaffold167:761967:762039:-1 gene:EMSPUG00000003520 transcript:EMSPUT00000003520 description:\"tRNA-Met for anticodon CAU\": Warning: Sequence contains no data \r\n"
       ]
      },
      {
       "output_type": "stream",
       "stream": "stdout",
       "text": [
        "Error: (1431.1) FASTA-Reader: Warning: FASTA-Reader: No residues given\r\n"
       ]
      },
      {
       "output_type": "stream",
       "stream": "stdout",
       "text": [
        "Warning: lcl|Query_11386 EMSPUT00000002194 cds:pseudogene supercontig:GCA_000002235.2:Scaffold210:158262:158334:1 gene:EMSPUG00000002194 transcript:EMSPUT00000002194 description:\"tRNA-Met for anticodon CAU\": Warning: Sequence contains no data \r\n",
        "Error: (1431.1) FASTA-Reader: Warning: FASTA-Reader: No residues given\r\n",
        "Error: (1431.1) FASTA-Reader: Warning: FASTA-Reader: No residues given\r\n",
        "Error: (1431.1) FASTA-Reader: Warning: FASTA-Reader: No residues given\r\n",
        "Error: (1431.1) FASTA-Reader: Warning: FASTA-Reader: No residues given\r\n",
        "Error: (1431.1) FASTA-Reader: Warning: FASTA-Reader: No residues given\r\n",
        "Error: (1431.1) FASTA-Reader: Warning: FASTA-Reader: No residues given\r\n",
        "Error: (1431.1) FASTA-Reader: Warning: FASTA-Reader: No residues given\r\n",
        "Error: (1431.1) FASTA-Reader: Warning: FASTA-Reader: No residues given\r\n",
        "Error: (1431.1) FASTA-Reader: Warning: FASTA-Reader: No residues given\r\n",
        "Error: (1431.1) FASTA-Reader: Warning: FASTA-Reader: No residues given\r\n",
        "Error: (1431.1) FASTA-Reader: Warning: FASTA-Reader: No residues given\r\n"
       ]
      },
      {
       "output_type": "stream",
       "stream": "stdout",
       "text": [
        "Warning: lcl|Query_11392 EMSPUT00000011763 cds:pseudogene supercontig:GCA_000002235.2:Scaffold210:340434:340554:1 gene:EMSPUG00000011763 transcript:EMSPUT00000011763 description:\"Vault RNA\": Warning: Sequence contains no data \r\n",
        "Warning: lcl|Query_11393 EMSPUT00000008133 cds:pseudogene supercontig:GCA_000002235.2:Scaffold210:345989:346110:-1 gene:EMSPUG00000008133 transcript:EMSPUT00000008133 description:\"Vault RNA\": Warning: Sequence contains no data \r\n",
        "Warning: lcl|Query_11394 EMSPUT00000002655 cds:pseudogene supercontig:GCA_000002235.2:Scaffold210:346829:346948:1 gene:EMSPUG00000002655 transcript:EMSPUT00000002655 description:\"Vault RNA\": Warning: Sequence contains no data \r\n",
        "Warning: lcl|Query_11395 EMSPUT00000002069 cds:pseudogene supercontig:GCA_000002235.2:Scaffold210:347957:348077:1 gene:EMSPUG00000002069 transcript:EMSPUT00000002069 description:\"Vault RNA\": Warning: Sequence contains no data \r\n",
        "Warning: lcl|Query_11396 EMSPUT00000003449 cds:pseudogene supercontig:GCA_000002235.2:Scaffold210:347980:348050:1 gene:EMSPUG00000003449 transcript:EMSPUT00000003449 description:\"tRNA-Val for anticodon AAC\": Warning: Sequence contains no data \r\n",
        "Warning: lcl|Query_11397 EMSPUT00000000383 cds:pseudogene supercontig:GCA_000002235.2:Scaffold210:351632:351748:1 gene:EMSPUG00000000383 transcript:EMSPUT00000000383 description:\"Vault RNA\": Warning: Sequence contains no data \r\n",
        "Warning: lcl|Query_11398 EMSPUT00000009078 cds:pseudogene supercontig:GCA_000002235.2:Scaffold210:353923:354043:1 gene:EMSPUG00000009078 transcript:EMSPUT00000009078 description:\"Vault RNA\": Warning: Sequence contains no data \r\n",
        "Warning: lcl|Query_11399 EMSPUT00000011888 cds:pseudogene supercontig:GCA_000002235.2:Scaffold210:353946:354016:1 gene:EMSPUG00000011888 transcript:EMSPUT00000011888 description:\"tRNA-Glu for anticodon UUC\": Warning: Sequence contains no data \r\n",
        "Warning: lcl|Query_11400 EMSPUT00000007518 cds:pseudogene supercontig:GCA_000002235.2:Scaffold210:355671:355741:-1 gene:EMSPUG00000007518 transcript:EMSPUT00000007518 description:\"tRNA-Asp for anticodon AUC\": Warning: Sequence contains no data \r\n",
        "Warning: lcl|Query_11401 EMSPUT00000001345 cds:pseudogene supercontig:GCA_000002235.2:Scaffold210:359661:359781:-1 gene:EMSPUG00000001345 transcript:EMSPUT00000001345 description:\"Vault RNA\": Warning: Sequence contains no data \r\n",
        "Warning: lcl|Query_11403 EMSPUT00000006847 cds:pseudogene supercontig:GCA_000002235.2:Scaffold210:366470:366543:-1 gene:EMSPUG00000006847 transcript:EMSPUT00000006847 description:\"tRNA-Ala for anticodon GGC\": Warning: Sequence contains no data \r\n",
        "Error: (1431.1) FASTA-Reader: Warning: FASTA-Reader: No residues given\r\n",
        "Error: (1431.1) FASTA-Reader: Warning: FASTA-Reader: No residues given\r\n",
        "Error: (1431.1) FASTA-Reader: Warning: FASTA-Reader: No residues given\r\n"
       ]
      },
      {
       "output_type": "stream",
       "stream": "stdout",
       "text": [
        "Error: (1431.1) FASTA-Reader: Warning: FASTA-Reader: No residues given\r\n"
       ]
      },
      {
       "output_type": "stream",
       "stream": "stdout",
       "text": [
        "Warning: lcl|Query_11423 EMSPUT00000011296 cds:pseudogene supercontig:GCA_000002235.2:Scaffold1704:103182:103255:1 gene:EMSPUG00000011296 transcript:EMSPUT00000011296 description:\"tRNA-Ala for anticodon GGC\": Warning: Sequence contains no data \r\n",
        "Warning: lcl|Query_11426 EMSPUT00000009813 cds:pseudogene supercontig:GCA_000002235.2:Scaffold4112:6933:7007:1 gene:EMSPUG00000009813 transcript:EMSPUT00000009813 description:\"Mammalian CPEB3 ribozyme\": Warning: Sequence contains no data \r\n",
        "Warning: lcl|Query_11427 EMSPUT00000000794 cds:pseudogene supercontig:GCA_000002235.2:Scaffold4112:7304:7378:1 gene:EMSPUG00000000794 transcript:EMSPUT00000000794 description:\"Mammalian CPEB3 ribozyme\": Warning: Sequence contains no data \r\n",
        "Warning: lcl|Query_11432 EMSPUT00000010490 cds:pseudogene supercontig:GCA_000002235.2:Scaffold708:208974:209048:-1 gene:EMSPUG00000010490 transcript:EMSPUT00000010490 description:\"tRNA-His for anticodon GUG\": Warning: Sequence contains no data \r\n"
       ]
      },
      {
       "output_type": "stream",
       "stream": "stdout",
       "text": [
        "Error: (1431.1) FASTA-Reader: Warning: FASTA-Reader: No residues given\r\n"
       ]
      },
      {
       "output_type": "stream",
       "stream": "stdout",
       "text": [
        "Warning: lcl|Query_11458 EMSPUT00000004000 cds:pseudogene supercontig:GCA_000002235.2:Scaffold194:500596:500667:-1 gene:EMSPUG00000004000 transcript:EMSPUT00000004000 description:\"tRNA-Gln for anticodon CUG\": Warning: Sequence contains no data \r\n",
        "Error: (1431.1) FASTA-Reader: Warning: FASTA-Reader: No residues given\r\n"
       ]
      },
      {
       "output_type": "stream",
       "stream": "stdout",
       "text": [
        "Warning: lcl|Query_11478 EMSPUT00000003961 cds:pseudogene supercontig:GCA_000002235.2:Scaffold690:210064:210136:1 gene:EMSPUG00000003961 transcript:EMSPUT00000003961 description:\"tRNA-Leu for anticodon CAA\": Warning: Sequence contains no data \r\n",
        "Error: (1431.1) FASTA-Reader: Warning: FASTA-Reader: No residues given\r\n",
        "Error: (1431.1) FASTA-Reader: Warning: FASTA-Reader: No residues given\r\n"
       ]
      },
      {
       "output_type": "stream",
       "stream": "stdout",
       "text": [
        "Warning: lcl|Query_11501 EMSPUT00000010040 cds:pseudogene supercontig:GCA_000002235.2:Scaffold226:365887:365961:1 gene:EMSPUG00000010040 transcript:EMSPUT00000010040 description:\"tRNA-Glu for anticodon CUC\": Warning: Sequence contains no data \r\n",
        "Warning: lcl|Query_11502 EMSPUT00000015452 cds:pseudogene supercontig:GCA_000002235.2:Scaffold226:383138:383212:-1 gene:EMSPUG00000015452 transcript:EMSPUT00000015452 description:\"tRNA-Glu for anticodon CUC\": Warning: Sequence contains no data \r\n",
        "Error: (1431.1) FASTA-Reader: Warning: FASTA-Reader: No residues given\r\n"
       ]
      },
      {
       "output_type": "stream",
       "stream": "stdout",
       "text": [
        "Warning: lcl|Query_11507 EMSPUT00000011420 cds:pseudogene supercontig:GCA_000002235.2:Scaffold260:35047:35119:1 gene:EMSPUG00000011420 transcript:EMSPUT00000011420 description:\"tRNA-Phe for anticodon GAA\": Warning: Sequence contains no data \r\n",
        "Error: (1431.1) FASTA-Reader: Warning: FASTA-Reader: No residues given\r\n"
       ]
      },
      {
       "output_type": "stream",
       "stream": "stdout",
       "text": [
        "Warning: lcl|Query_11531 EMSPUT00000007794 cds:pseudogene supercontig:GCA_000002235.2:Scaffold260:657930:658002:1 gene:EMSPUG00000007794 transcript:EMSPUT00000007794 description:\"tRNA-Met for anticodon CAU\": Warning: Sequence contains no data \r\n",
        "Error: (1431.1) FASTA-Reader: Warning: FASTA-Reader: No residues given\r\n"
       ]
      },
      {
       "output_type": "stream",
       "stream": "stdout",
       "text": [
        "Warning: lcl|Query_11550 EMSPUT00000000802 cds:pseudogene supercontig:GCA_000002235.2:Scaffold975:198470:198542:1 gene:EMSPUG00000000802 transcript:EMSPUT00000000802 description:\"tRNA-Met for anticodon CAU\": Warning: Sequence contains no data \r\n"
       ]
      },
      {
       "output_type": "stream",
       "stream": "stdout",
       "text": [
        "Error: (1431.1) FASTA-Reader: Warning: FASTA-Reader: No residues given\r\n"
       ]
      },
      {
       "output_type": "stream",
       "stream": "stdout",
       "text": [
        "Warning: lcl|Query_11630 EMSPUT00000010223 cds:pseudogene supercontig:GCA_000002235.2:Scaffold2330:132943:133015:1 gene:EMSPUG00000010223 transcript:EMSPUT00000010223 description:\"tRNA-Ala for anticodon GGC\": Warning: Sequence contains no data \r\n"
       ]
      },
      {
       "output_type": "stream",
       "stream": "stdout",
       "text": [
        "Error: (1431.1) FASTA-Reader: Warning: FASTA-Reader: No residues given\r\n"
       ]
      },
      {
       "output_type": "stream",
       "stream": "stdout",
       "text": [
        "Warning: lcl|Query_11648 EMSPUT00000012530 cds:pseudogene supercontig:GCA_000002235.2:Scaffold42:2209:2282:-1 gene:EMSPUG00000012530 transcript:EMSPUT00000012530 description:\"tRNA-Val for anticodon GAC\": Warning: Sequence contains no data \r\n",
        "Error: (1431.1) FASTA-Reader: Warning: FASTA-Reader: No residues given\r\n"
       ]
      },
      {
       "output_type": "stream",
       "stream": "stdout",
       "text": [
        "Warning: lcl|Query_11657 SPU_030024-tr cds:pseudogene supercontig:GCA_000002235.2:Scaffold42:216279:216432:1 gene:SPU_030024 transcript:SPU_030024-tr: Warning: Sequence contains no data \r\n"
       ]
      },
      {
       "output_type": "stream",
       "stream": "stdout",
       "text": [
        "Error: (1431.1) FASTA-Reader: Warning: FASTA-Reader: No residues given\r\n",
        "Error: (1431.1) FASTA-Reader: Warning: FASTA-Reader: No residues given\r\n"
       ]
      },
      {
       "output_type": "stream",
       "stream": "stdout",
       "text": [
        "Warning: lcl|Query_11709 EMSPUT00000011313 cds:pseudogene supercontig:GCA_000002235.2:Scaffold49:440280:440352:-1 gene:EMSPUG00000011313 transcript:EMSPUT00000011313 description:\"tRNA-Met for anticodon CAU\": Warning: Sequence contains no data \r\n",
        "Warning: lcl|Query_11712 EMSPUT00000001314 cds:pseudogene supercontig:GCA_000002235.2:Scaffold49:548445:548511:1 gene:EMSPUG00000001314 transcript:EMSPUT00000001314 description:\"tRNA-Val for anticodon CAC\": Warning: Sequence contains no data \r\n"
       ]
      },
      {
       "output_type": "stream",
       "stream": "stdout",
       "text": [
        "Error: (1431.1) FASTA-Reader: Warning: FASTA-Reader: No residues given\r\n"
       ]
      },
      {
       "output_type": "stream",
       "stream": "stdout",
       "text": [
        "Warning: lcl|Query_11793 EMSPUT00000014698 cds:pseudogene supercontig:GCA_000002235.2:Scaffold796:73746:73819:1 gene:EMSPUG00000014698 transcript:EMSPUT00000014698 description:\"tRNA-Sup for anticodon UUA\": Warning: Sequence contains no data \r\n",
        "Error: (1431.1) FASTA-Reader: Warning: FASTA-Reader: No residues given\r\n"
       ]
      },
      {
       "output_type": "stream",
       "stream": "stdout",
       "text": [
        "Warning: lcl|Query_11811 EMSPUT00000010830 cds:pseudogene supercontig:GCA_000002235.2:Scaffold796:358774:358855:-1 gene:EMSPUG00000010830 transcript:EMSPUT00000010830 description:\"tRNA-Ser for anticodon UGA\": Warning: Sequence contains no data \r\n"
       ]
      },
      {
       "output_type": "stream",
       "stream": "stdout",
       "text": [
        "Error: (1431.1) FASTA-Reader: Warning: FASTA-Reader: No residues given\r\n",
        "Error: (1431.1) FASTA-Reader: Warning: FASTA-Reader: No residues given\r\n",
        "Error: (1431.1) FASTA-Reader: Warning: FASTA-Reader: No residues given\r\n",
        "Error: (1431.1) FASTA-Reader: Warning: FASTA-Reader: No residues given\r\n",
        "Error: (1431.1) FASTA-Reader: Warning: FASTA-Reader: No residues given\r\n",
        "Error: (1431.1) FASTA-Reader: Warning: FASTA-Reader: No residues given\r\n",
        "Error: (1431.1) FASTA-Reader: Warning: FASTA-Reader: No residues given\r\n"
       ]
      },
      {
       "output_type": "stream",
       "stream": "stdout",
       "text": [
        "Warning: lcl|Query_11823 EMSPUT00000012424 cds:pseudogene supercontig:GCA_000002235.2:Scaffold4180:1059:1131:1 gene:EMSPUG00000012424 transcript:EMSPUT00000012424 description:\"tRNA-Lys for anticodon UUU\": Warning: Sequence contains no data \r\n",
        "Warning: lcl|Query_11832 EMSPUT00000004259 cds:pseudogene supercontig:GCA_000002235.2:Scaffold4753:14307:14378:-1 gene:EMSPUG00000004259 transcript:EMSPUT00000004259 description:\"tRNA-Cys for anticodon GCA\": Warning: Sequence contains no data \r\n",
        "Warning: lcl|Query_11833 EMSPUT00000003647 cds:pseudogene supercontig:GCA_000002235.2:Scaffold4753:15147:15218:-1 gene:EMSPUG00000003647 transcript:EMSPUT00000003647 description:\"tRNA-Cys for anticodon GCA\": Warning: Sequence contains no data \r\n",
        "Warning: lcl|Query_11834 EMSPUT00000010468 cds:pseudogene supercontig:GCA_000002235.2:Scaffold4753:15849:15920:-1 gene:EMSPUG00000010468 transcript:EMSPUT00000010468 description:\"tRNA-Cys for anticodon GCA\": Warning: Sequence contains no data \r\n",
        "Warning: lcl|Query_11835 EMSPUT00000009858 cds:pseudogene supercontig:GCA_000002235.2:Scaffold4753:16388:16459:-1 gene:EMSPUG00000009858 transcript:EMSPUT00000009858 description:\"tRNA-Cys for anticodon GCA\": Warning: Sequence contains no data \r\n",
        "Warning: lcl|Query_11836 EMSPUT00000000830 cds:pseudogene supercontig:GCA_000002235.2:Scaffold4753:20414:20485:-1 gene:EMSPUG00000000830 transcript:EMSPUT00000000830 description:\"tRNA-Cys for anticodon GCA\": Warning: Sequence contains no data \r\n",
        "Warning: lcl|Query_11837 EMSPUT00000013797 cds:pseudogene supercontig:GCA_000002235.2:Scaffold4753:21280:21351:-1 gene:EMSPUG00000013797 transcript:EMSPUT00000013797 description:\"tRNA-Cys for anticodon GCA\": Warning: Sequence contains no data \r\n"
       ]
      },
      {
       "output_type": "stream",
       "stream": "stdout",
       "text": [
        "Error: (1431.1) FASTA-Reader: Warning: FASTA-Reader: No residues given\r\n",
        "Error: (1431.1) FASTA-Reader: Warning: FASTA-Reader: No residues given\r\n"
       ]
      },
      {
       "output_type": "stream",
       "stream": "stdout",
       "text": [
        "Warning: lcl|Query_11870 EMSPUT00000010777 cds:pseudogene supercontig:GCA_000002235.2:Scaffold3493:15110:15182:-1 gene:EMSPUG00000010777 transcript:EMSPUT00000010777 description:\"tRNA-Met for anticodon CAU\": Warning: Sequence contains no data \r\n",
        "Warning: lcl|Query_11873 EMSPUT00000010677 cds:pseudogene supercontig:GCA_000002235.2:Scaffold2399:29692:29764:1 gene:EMSPUG00000010677 transcript:EMSPUT00000010677 description:\"tRNA-Ala for anticodon GGC\": Warning: Sequence contains no data \r\n",
        "Error: (1431.1) FASTA-Reader: Warning: FASTA-Reader: No residues given\r\n"
       ]
      },
      {
       "output_type": "stream",
       "stream": "stdout",
       "text": [
        "Warning: lcl|Query_11885 EMSPUT00000000293 cds:pseudogene supercontig:GCA_000002235.2:Scaffold830:295213:295287:-1 gene:EMSPUG00000000293 transcript:EMSPUT00000000293 description:\"tRNA-His for anticodon GUG\": Warning: Sequence contains no data \r\n"
       ]
      },
      {
       "output_type": "stream",
       "stream": "stdout",
       "text": [
        "Error: (1431.1) FASTA-Reader: Warning: FASTA-Reader: No residues given\r\n"
       ]
      },
      {
       "output_type": "stream",
       "stream": "stdout",
       "text": [
        "Warning: lcl|Query_11922 EMSPUT00000004151 cds:pseudogene supercontig:GCA_000002235.2:Scaffold2745:51154:51228:1 gene:EMSPUG00000004151 transcript:EMSPUT00000004151 description:\"tRNA-Glu for anticodon CUC\": Warning: Sequence contains no data \r\n"
       ]
      },
      {
       "output_type": "stream",
       "stream": "stdout",
       "text": [
        "Error: (1431.1) FASTA-Reader: Warning: FASTA-Reader: No residues given\r\n"
       ]
      },
      {
       "output_type": "stream",
       "stream": "stdout",
       "text": [
        "Warning: lcl|Query_11977 EMSPUT00000011075 cds:pseudogene supercontig:GCA_000002235.2:Scaffold19854:1826:1893:1 gene:EMSPUG00000011075 transcript:EMSPUT00000011075 description:\"tRNA-Ala for anticodon CGC\": Warning: Sequence contains no data \r\n"
       ]
      },
      {
       "output_type": "stream",
       "stream": "stdout",
       "text": [
        "Error: (1431.1) FASTA-Reader: Warning: FASTA-Reader: No residues given\r\n"
       ]
      },
      {
       "output_type": "stream",
       "stream": "stdout",
       "text": [
        "Warning: lcl|Query_12013 EMSPUT00000007848 cds:pseudogene supercontig:GCA_000002235.2:Scaffold70:217475:217547:1 gene:EMSPUG00000007848 transcript:EMSPUT00000007848 description:\"tRNA-Glu for anticodon CUC\": Warning: Sequence contains no data \r\n"
       ]
      },
      {
       "output_type": "stream",
       "stream": "stdout",
       "text": [
        "Error: (1431.1) FASTA-Reader: Warning: FASTA-Reader: No residues given\r\n",
        "Error: (1431.1) FASTA-Reader: Warning: FASTA-Reader: No residues given\r\n",
        "Error: (1431.1) FASTA-Reader: Warning: FASTA-Reader: No residues given\r\n",
        "Error: (1431.1) FASTA-Reader: Warning: FASTA-Reader: No residues given\r\n",
        "Error: (1431.1) FASTA-Reader: Warning: FASTA-Reader: No residues given\r\n"
       ]
      },
      {
       "output_type": "stream",
       "stream": "stdout",
       "text": [
        "Warning: lcl|Query_12072 EMSPUT00000004205 cds:pseudogene supercontig:GCA_000002235.2:Scaffold1:111548:111620:1 gene:EMSPUG00000004205 transcript:EMSPUT00000004205 description:\"tRNA-Met for anticodon CAU\": Warning: Sequence contains no data \r\n",
        "Warning: lcl|Query_12075 EMSPUT00000012052 cds:pseudogene supercontig:GCA_000002235.2:Scaffold1:121908:121980:1 gene:EMSPUG00000012052 transcript:EMSPUT00000012052 description:\"tRNA-Met for anticodon CAU\": Warning: Sequence contains no data \r\n",
        "Warning: lcl|Query_12078 EMSPUT00000011338 cds:pseudogene supercontig:GCA_000002235.2:Scaffold1:135401:135473:1 gene:EMSPUG00000011338 transcript:EMSPUT00000011338 description:\"tRNA-Met for anticodon CAU\": Warning: Sequence contains no data \r\n",
        "Warning: lcl|Query_12079 EMSPUT00000003328 cds:pseudogene supercontig:GCA_000002235.2:Scaffold1:159909:159981:-1 gene:EMSPUG00000003328 transcript:EMSPUT00000003328 description:\"tRNA-Met for anticodon CAU\": Warning: Sequence contains no data \r\n",
        "Warning: lcl|Query_12082 EMSPUT00000010137 cds:pseudogene supercontig:GCA_000002235.2:Scaffold1:226753:226827:-1 gene:EMSPUG00000010137 transcript:EMSPUT00000010137 description:\"tRNA-Cys for anticodon GCA\": Warning: Sequence contains no data \r\n"
       ]
      },
      {
       "output_type": "stream",
       "stream": "stdout",
       "text": [
        "Error: (1431.1) FASTA-Reader: Warning: FASTA-Reader: No residues given\r\n"
       ]
      },
      {
       "output_type": "stream",
       "stream": "stdout",
       "text": [
        "Warning: lcl|Query_12150 SPU_005170-tr cds:pseudogene supercontig:GCA_000002235.2:Scaffold636:182601:182986:-1 gene:SPU_005170 transcript:SPU_005170-tr: Warning: Sequence contains no data \r\n"
       ]
      },
      {
       "output_type": "stream",
       "stream": "stdout",
       "text": [
        "Error: (1431.1) FASTA-Reader: Warning: FASTA-Reader: No residues given\r\n"
       ]
      },
      {
       "output_type": "stream",
       "stream": "stdout",
       "text": [
        "Warning: lcl|Query_12259 EMSPUT00000011636 cds:pseudogene supercontig:GCA_000002235.2:Scaffold256:127787:127860:1 gene:EMSPUG00000011636 transcript:EMSPUT00000011636 description:\"tRNA-Ala for anticodon GGC\": Warning: Sequence contains no data \r\n"
       ]
      },
      {
       "output_type": "stream",
       "stream": "stdout",
       "text": [
        "Error: (1431.1) FASTA-Reader: Warning: FASTA-Reader: No residues given\r\n"
       ]
      },
      {
       "output_type": "stream",
       "stream": "stdout",
       "text": [
        "Warning: lcl|Query_12300 EMSPUT00000003574 cds:pseudogene supercontig:GCA_000002235.2:Scaffold2907:67319:67391:-1 gene:EMSPUG00000003574 transcript:EMSPUT00000003574 description:\"tRNA-Met for anticodon CAU\": Warning: Sequence contains no data \r\n"
       ]
      },
      {
       "output_type": "stream",
       "stream": "stdout",
       "text": [
        "Error: (1431.1) FASTA-Reader: Warning: FASTA-Reader: No residues given\r\n",
        "Error: (1431.1) FASTA-Reader: Warning: FASTA-Reader: No residues given\r\n"
       ]
      },
      {
       "output_type": "stream",
       "stream": "stdout",
       "text": [
        "Warning: lcl|Query_12347 EMSPUT00000009648 cds:pseudogene supercontig:GCA_000002235.2:Scaffold1833:76175:76247:1 gene:EMSPUG00000009648 transcript:EMSPUT00000009648 description:\"tRNA-Met for anticodon CAU\": Warning: Sequence contains no data \r\n",
        "Warning: lcl|Query_12354 EMSPUT00000005248 cds:pseudogene supercontig:GCA_000002235.2:Scaffold2648:40469:40538:1 gene:EMSPUG00000005248 transcript:EMSPUT00000005248 description:\"tRNA-Glu for anticodon CUC\": Warning: Sequence contains no data \r\n",
        "Error: (1431.1) FASTA-Reader: Warning: FASTA-Reader: No residues given\r\n"
       ]
      },
      {
       "output_type": "stream",
       "stream": "stdout",
       "text": [
        "Warning: lcl|Query_12365 EMSPUT00000014181 cds:pseudogene supercontig:GCA_000002235.2:Scaffold589:218640:218713:-1 gene:EMSPUG00000014181 transcript:EMSPUT00000014181 description:\"tRNA-Thr for anticodon AGU\": Warning: Sequence contains no data \r\n",
        "Error: (1431.1) FASTA-Reader: Warning: FASTA-Reader: No residues given\r\n"
       ]
      },
      {
       "output_type": "stream",
       "stream": "stdout",
       "text": [
        "Warning: lcl|Query_12375 EMSPUT00000009206 cds:pseudogene supercontig:GCA_000002235.2:Scaffold3245:14221:14285:-1 gene:EMSPUG00000009206 transcript:EMSPUT00000009206 description:\"tRNA-Ser for anticodon UGA\": Warning: Sequence contains no data \r\n",
        "Error: (1431.1) FASTA-Reader: Warning: FASTA-Reader: No residues given\r\n"
       ]
      },
      {
       "output_type": "stream",
       "stream": "stdout",
       "text": [
        "Warning: lcl|Query_12394 EMSPUT00000002659 cds:pseudogene supercontig:GCA_000002235.2:Scaffold1181:288601:288675:1 gene:EMSPUG00000002659 transcript:EMSPUT00000002659 description:\"tRNA-SeC for anticodon UCA\": Warning: Sequence contains no data \r\n",
        "Error: (1431.1) FASTA-Reader: Warning: FASTA-Reader: No residues given\r\n"
       ]
      },
      {
       "output_type": "stream",
       "stream": "stdout",
       "text": [
        "Warning: lcl|Query_12410 EMSPUT00000001983 cds:pseudogene supercontig:GCA_000002235.2:Scaffold3529:22395:22467:-1 gene:EMSPUG00000001983 transcript:EMSPUT00000001983 description:\"tRNA-Ala for anticodon GGC\": Warning: Sequence contains no data \r\n",
        "Error: (1431.1) FASTA-Reader: Warning: FASTA-Reader: No residues given\r\n",
        "Error: (1431.1) FASTA-Reader: Warning: FASTA-Reader: No residues given\r\n",
        "Error: (1431.1) FASTA-Reader: Warning: FASTA-Reader: No residues given\r\n"
       ]
      },
      {
       "output_type": "stream",
       "stream": "stdout",
       "text": [
        "Warning: lcl|Query_12421 EMSPUT00000004509 cds:pseudogene supercontig:GCA_000002235.2:Scaffold5417:154:225:-1 gene:EMSPUG00000004509 transcript:EMSPUT00000004509 description:\"tRNA-His for anticodon GUG\": Warning: Sequence contains no data \r\n",
        "Warning: lcl|Query_12426 EMSPUT00000003729 cds:pseudogene supercontig:GCA_000002235.2:Scaffold3312:10113:10185:1 gene:EMSPUG00000003729 transcript:EMSPUT00000003729 description:\"tRNA-Met for anticodon CAU\": Warning: Sequence contains no data \r\n",
        "Warning: lcl|Query_12427 EMSPUT00000008740 cds:pseudogene supercontig:GCA_000002235.2:Scaffold3312:12554:12626:1 gene:EMSPUG00000008740 transcript:EMSPUT00000008740 description:\"tRNA-Met for anticodon CAU\": Warning: Sequence contains no data \r\n",
        "Error: (1431.1) FASTA-Reader: Warning: FASTA-Reader: No residues given\r\n",
        "Error: (1431.1) FASTA-Reader: Warning: FASTA-Reader: No residues given\r\n",
        "Error: (1431.1) FASTA-Reader: Warning: FASTA-Reader: No residues given\r\n"
       ]
      },
      {
       "output_type": "stream",
       "stream": "stdout",
       "text": [
        "Error: (1431.1) FASTA-Reader: Warning: FASTA-Reader: No residues given\r\n",
        "Error: (1431.1) FASTA-Reader: Warning: FASTA-Reader: No residues given\r\n",
        "Error: (1431.1) FASTA-Reader: Warning: FASTA-Reader: No residues given\r\n",
        "Error: (1431.1) FASTA-Reader: Warning: FASTA-Reader: No residues given\r\n",
        "Error: (1431.1) FASTA-Reader: Warning: FASTA-Reader: No residues given\r\n"
       ]
      },
      {
       "output_type": "stream",
       "stream": "stdout",
       "text": [
        "Warning: lcl|Query_12434 EMSPUT00000009471 cds:pseudogene supercontig:GCA_000002235.2:Scaffold21:222292:222362:1 gene:EMSPUG00000009471 transcript:EMSPUT00000009471 description:\"tRNA-Gly for anticodon GCC\": Warning: Sequence contains no data \r\n",
        "Warning: lcl|Query_12437 EMSPUT00000004906 cds:pseudogene supercontig:GCA_000002235.2:Scaffold21:424602:424674:-1 gene:EMSPUG00000004906 transcript:EMSPUT00000004906 description:\"tRNA-Met for anticodon CAU\": Warning: Sequence contains no data \r\n",
        "Warning: lcl|Query_12452 EMSPUT00000008073 cds:pseudogene supercontig:GCA_000002235.2:Scaffold21:840493:840564:1 gene:EMSPUG00000008073 transcript:EMSPUT00000008073 description:\"tRNA-Glu for anticodon UUC\": Warning: Sequence contains no data \r\n",
        "Warning: lcl|Query_12453 EMSPUT00000003020 cds:pseudogene supercontig:GCA_000002235.2:Scaffold21:841960:842031:1 gene:EMSPUG00000003020 transcript:EMSPUT00000003020 description:\"tRNA-Glu for anticodon UUC\": Warning: Sequence contains no data \r\n",
        "Warning: lcl|Query_12455 EMSPUT00000013675 cds:pseudogene supercontig:GCA_000002235.2:Scaffold21:852069:852140:1 gene:EMSPUG00000013675 transcript:EMSPUT00000013675 description:\"tRNA-Glu for anticodon UUC\": Warning: Sequence contains no data \r\n",
        "Warning: lcl|Query_12456 EMSPUT00000005137 cds:pseudogene supercontig:GCA_000002235.2:Scaffold21:852806:852877:1 gene:EMSPUG00000005137 transcript:EMSPUT00000005137 description:\"tRNA-Glu for anticodon UUC\": Warning: Sequence contains no data \r\n",
        "Warning: lcl|Query_12457 EMSPUT00000007528 cds:pseudogene supercontig:GCA_000002235.2:Scaffold21:853588:853659:1 gene:EMSPUG00000007528 transcript:EMSPUT00000007528 description:\"tRNA-Glu for anticodon UUC\": Warning: Sequence contains no data \r\n",
        "Warning: lcl|Query_12458 EMSPUT00000014278 cds:pseudogene supercontig:GCA_000002235.2:Scaffold21:856061:856132:1 gene:EMSPUG00000014278 transcript:EMSPUT00000014278 description:\"tRNA-Glu for anticodon UUC\": Warning: Sequence contains no data \r\n"
       ]
      },
      {
       "output_type": "stream",
       "stream": "stdout",
       "text": [
        "Error: (1431.1) FASTA-Reader: Warning: FASTA-Reader: No residues given\r\n"
       ]
      },
      {
       "output_type": "stream",
       "stream": "stdout",
       "text": [
        "Error: (1431.1) FASTA-Reader: Warning: FASTA-Reader: No residues given\r\n",
        "Error: (1431.1) FASTA-Reader: Warning: FASTA-Reader: No residues given\r\n"
       ]
      },
      {
       "output_type": "stream",
       "stream": "stdout",
       "text": [
        "Warning: lcl|Query_12476 EMSPUT00000004771 cds:pseudogene supercontig:GCA_000002235.2:Scaffold1033:13762:13834:1 gene:EMSPUG00000004771 transcript:EMSPUT00000004771 description:\"tRNA-Met for anticodon CAU\": Warning: Sequence contains no data \r\n",
        "Warning: lcl|Query_12480 EMSPUT00000006451 cds:pseudogene supercontig:GCA_000002235.2:Scaffold1033:120793:120865:1 gene:EMSPUG00000006451 transcript:EMSPUT00000006451 description:\"tRNA-Met for anticodon CAU\": Warning: Sequence contains no data \r\n",
        "Warning: lcl|Query_12481 EMSPUT00000015699 cds:pseudogene supercontig:GCA_000002235.2:Scaffold1033:174699:174775:-1 gene:EMSPUG00000015699 transcript:EMSPUT00000015699 description:\"tRNA-SeC for anticodon UCA\": Warning: Sequence contains no data \r\n"
       ]
      },
      {
       "output_type": "stream",
       "stream": "stdout",
       "text": [
        "Error: (1431.1) FASTA-Reader: Warning: FASTA-Reader: No residues given\r\n",
        "Error: (1431.1) FASTA-Reader: Warning: FASTA-Reader: No residues given\r\n"
       ]
      },
      {
       "output_type": "stream",
       "stream": "stdout",
       "text": [
        "Warning: lcl|Query_12528 EMSPUT00000002211 cds:pseudogene supercontig:GCA_000002235.2:Scaffold28:881994:882066:1 gene:EMSPUG00000002211 transcript:EMSPUT00000002211 description:\"tRNA-Met for anticodon CAU\": Warning: Sequence contains no data \r\n"
       ]
      },
      {
       "output_type": "stream",
       "stream": "stdout",
       "text": [
        "Warning: lcl|Query_12542 EMSPUT00000002017 cds:pseudogene supercontig:GCA_000002235.2:Scaffold860:115982:116056:-1 gene:EMSPUG00000002017 transcript:EMSPUT00000002017 description:\"tRNA-Phe for anticodon GAA\": Warning: Sequence contains no data \r\n"
       ]
      },
      {
       "output_type": "stream",
       "stream": "stdout",
       "text": [
        "Error: (1431.1) FASTA-Reader: Warning: FASTA-Reader: No residues given\r\n"
       ]
      },
      {
       "output_type": "stream",
       "stream": "stdout",
       "text": [
        "Warning: lcl|Query_12591 EMSPUT00000012501 cds:pseudogene supercontig:GCA_000002235.2:Scaffold489:916465:916539:-1 gene:EMSPUG00000012501 transcript:EMSPUT00000012501 description:\"tRNA-Ser for anticodon UGA\": Warning: Sequence contains no data \r\n"
       ]
      },
      {
       "output_type": "stream",
       "stream": "stdout",
       "text": [
        "Error: (1431.1) FASTA-Reader: Warning: FASTA-Reader: No residues given\r\n"
       ]
      },
      {
       "output_type": "stream",
       "stream": "stdout",
       "text": [
        "Warning: lcl|Query_12632 EMSPUT00000010354 cds:pseudogene supercontig:GCA_000002235.2:Scaffold138:47481:47553:-1 gene:EMSPUG00000010354 transcript:EMSPUT00000010354 description:\"tRNA-Met for anticodon CAU\": Warning: Sequence contains no data \r\n",
        "Error: (1431.1) FASTA-Reader: Warning: FASTA-Reader: No residues given\r\n",
        "Error: (1431.1) FASTA-Reader: Warning: FASTA-Reader: No residues given\r\n",
        "Error: (1431.1) FASTA-Reader: Warning: FASTA-Reader: No residues given\r\n",
        "Error: (1431.1) FASTA-Reader: Warning: FASTA-Reader: No residues given\r\n"
       ]
      },
      {
       "output_type": "stream",
       "stream": "stdout",
       "text": [
        "Warning: lcl|Query_12636 EMSPUT00000009580 cds:pseudogene supercontig:GCA_000002235.2:Scaffold138:106833:106904:1 gene:EMSPUG00000009580 transcript:EMSPUT00000009580 description:\"tRNA-Met for anticodon CAU\": Warning: Sequence contains no data \r\n",
        "Warning: lcl|Query_12637 EMSPUT00000002335 cds:pseudogene supercontig:GCA_000002235.2:Scaffold138:106990:107061:1 gene:EMSPUG00000002335 transcript:EMSPUT00000002335 description:\"tRNA-Met for anticodon CAU\": Warning: Sequence contains no data \r\n",
        "Warning: lcl|Query_12638 EMSPUT00000015715 cds:pseudogene supercontig:GCA_000002235.2:Scaffold138:107148:107219:1 gene:EMSPUG00000015715 transcript:EMSPUT00000015715 description:\"tRNA-Met for anticodon CAU\": Warning: Sequence contains no data \r\n",
        "Warning: lcl|Query_12650 EMSPUT00000005788 cds:pseudogene supercontig:GCA_000002235.2:Scaffold138:421570:421638:1 gene:EMSPUG00000005788 transcript:EMSPUT00000005788 description:\"tRNA-Thr for anticodon CGU\": Warning: Sequence contains no data \r\n",
        "Error: (1431.1) FASTA-Reader: Warning: FASTA-Reader: No residues given\r\n"
       ]
      },
      {
       "output_type": "stream",
       "stream": "stdout",
       "text": [
        "Warning: lcl|Query_12659 SPU_003419-tr cds:pseudogene supercontig:GCA_000002235.2:Scaffold138:631995:634573:-1 gene:SPU_003419 transcript:SPU_003419-tr: Warning: Sequence contains no data \r\n",
        "Error: (1431.1) FASTA-Reader: Warning: FASTA-Reader: No residues given\r\n"
       ]
      },
      {
       "output_type": "stream",
       "stream": "stdout",
       "text": [
        "Warning: lcl|Query_12673 EMSPUT00000010854 cds:pseudogene supercontig:GCA_000002235.2:Scaffold384:189986:190060:-1 gene:EMSPUG00000010854 transcript:EMSPUT00000010854 description:\"tRNA-SeC for anticodon UCA\": Warning: Sequence contains no data \r\n"
       ]
      },
      {
       "output_type": "stream",
       "stream": "stdout",
       "text": [
        "Error: (1431.1) FASTA-Reader: Warning: FASTA-Reader: No residues given\r\n",
        "Error: (1431.1) FASTA-Reader: Warning: FASTA-Reader: No residues given\r\n",
        "Error: (1431.1) FASTA-Reader: Warning: FASTA-Reader: No residues given\r\n"
       ]
      },
      {
       "output_type": "stream",
       "stream": "stdout",
       "text": [
        "Warning: lcl|Query_12806 EMSPUT00000014693 cds:pseudogene supercontig:GCA_000002235.2:Scaffold2265:122411:122483:-1 gene:EMSPUG00000014693 transcript:EMSPUT00000014693 description:\"tRNA-Met for anticodon CAU\": Warning: Sequence contains no data \r\n",
        "Warning: lcl|Query_12815 EMSPUT00000003058 cds:pseudogene supercontig:GCA_000002235.2:Scaffold973:224772:224844:-1 gene:EMSPUG00000003058 transcript:EMSPUT00000003058 description:\"tRNA-Met for anticodon CAU\": Warning: Sequence contains no data \r\n",
        "Warning: lcl|Query_12816 EMSPUT00000012158 cds:pseudogene supercontig:GCA_000002235.2:Scaffold973:247952:248024:-1 gene:EMSPUG00000012158 transcript:EMSPUT00000012158 description:\"tRNA-Asn for anticodon GUU\": Warning: Sequence contains no data \r\n",
        "Error: (1431.1) FASTA-Reader: Warning: FASTA-Reader: No residues given\r\n"
       ]
      },
      {
       "output_type": "stream",
       "stream": "stdout",
       "text": [
        "Warning: lcl|Query_12829 EMSPUT00000008916 cds:pseudogene supercontig:GCA_000002235.2:Scaffold5484:3717:3789:-1 gene:EMSPUG00000008916 transcript:EMSPUT00000008916 description:\"tRNA-Val for anticodon AAC\": Warning: Sequence contains no data \r\n"
       ]
      },
      {
       "output_type": "stream",
       "stream": "stdout",
       "text": [
        "Error: (1431.1) FASTA-Reader: Warning: FASTA-Reader: No residues given\r\n",
        "Error: (1431.1) FASTA-Reader: Warning: FASTA-Reader: No residues given\r\n"
       ]
      },
      {
       "output_type": "stream",
       "stream": "stdout",
       "text": [
        "Warning: lcl|Query_12848 SPU_030045-tr cds:pseudogene supercontig:GCA_000002235.2:Scaffold1596:29304:32573:-1 gene:SPU_030045 transcript:SPU_030045-tr: Warning: Sequence contains no data \r\n"
       ]
      },
      {
       "output_type": "stream",
       "stream": "stdout",
       "text": [
        "Warning: lcl|Query_12861 EMSPUT00000007057 cds:pseudogene supercontig:GCA_000002235.2:Scaffold1689:85160:85233:1 gene:EMSPUG00000007057 transcript:EMSPUT00000007057 description:\"tRNA-Cys for anticodon GCA\": Warning: Sequence contains no data \r\n"
       ]
      },
      {
       "output_type": "stream",
       "stream": "stdout",
       "text": [
        "Error: (1431.1) FASTA-Reader: Warning: FASTA-Reader: No residues given\r\n"
       ]
      },
      {
       "output_type": "stream",
       "stream": "stdout",
       "text": [
        "Warning: lcl|Query_12899 EMSPUT00000009223 cds:pseudogene supercontig:GCA_000002235.2:Scaffold129:822852:822924:-1 gene:EMSPUG00000009223 transcript:EMSPUT00000009223 description:\"tRNA-Val for anticodon UAC\": Warning: Sequence contains no data \r\n"
       ]
      },
      {
       "output_type": "stream",
       "stream": "stdout",
       "text": [
        "Error: (1431.1) FASTA-Reader: Warning: FASTA-Reader: No residues given\r\n",
        "Error: (1431.1) FASTA-Reader: Warning: FASTA-Reader: No residues given\r\n",
        "Error: (1431.1) FASTA-Reader: Warning: FASTA-Reader: No residues given\r\n"
       ]
      },
      {
       "output_type": "stream",
       "stream": "stdout",
       "text": [
        "Warning: lcl|Query_12916 EMSPUT00000001686 cds:pseudogene supercontig:GCA_000002235.2:Scaffold277:410848:410921:-1 gene:EMSPUG00000001686 transcript:EMSPUT00000001686 description:\"tRNA-Met for anticodon CAU\": Warning: Sequence contains no data \r\n",
        "Warning: lcl|Query_12919 EMSPUT00000005169 cds:pseudogene supercontig:GCA_000002235.2:Scaffold277:462053:462125:1 gene:EMSPUG00000005169 transcript:EMSPUT00000005169 description:\"tRNA-Met for anticodon CAU\": Warning: Sequence contains no data \r\n",
        "Warning: lcl|Query_12928 EMSPUT00000002401 cds:pseudogene supercontig:GCA_000002235.2:Scaffold1107:24552:24625:-1 gene:EMSPUG00000002401 transcript:EMSPUT00000002401 description:\"tRNA-Ala for anticodon GGC\": Warning: Sequence contains no data \r\n",
        "Error: (1431.1) FASTA-Reader: Warning: FASTA-Reader: No residues given\r\n"
       ]
      },
      {
       "output_type": "stream",
       "stream": "stdout",
       "text": [
        "Warning: lcl|Query_12949 EMSPUT00000013910 cds:pseudogene supercontig:GCA_000002235.2:Scaffold152:273622:273692:-1 gene:EMSPUG00000013910 transcript:EMSPUT00000013910 description:\"tRNA-Met for anticodon CAU\": Warning: Sequence contains no data \r\n"
       ]
      },
      {
       "output_type": "stream",
       "stream": "stdout",
       "text": [
        "Error: (1431.1) FASTA-Reader: Warning: FASTA-Reader: No residues given\r\n",
        "Error: (1431.1) FASTA-Reader: Warning: FASTA-Reader: No residues given\r\n"
       ]
      },
      {
       "output_type": "stream",
       "stream": "stdout",
       "text": [
        "Warning: lcl|Query_13025 EMSPUT00000013080 cds:pseudogene supercontig:GCA_000002235.2:Scaffold2562:10363:10435:-1 gene:EMSPUG00000013080 transcript:EMSPUT00000013080 description:\"tRNA-Ala for anticodon GGC\": Warning: Sequence contains no data \r\n",
        "Warning: lcl|Query_13031 EMSPUT00000006316 cds:pseudogene supercontig:GCA_000002235.2:Scaffold25418:254:325:-1 gene:EMSPUG00000006316 transcript:EMSPUT00000006316 description:\"Mammalian CPEB3 ribozyme\": Warning: Sequence contains no data \r\n"
       ]
      },
      {
       "output_type": "stream",
       "stream": "stdout",
       "text": [
        "Error: (1431.1) FASTA-Reader: Warning: FASTA-Reader: No residues given\r\n"
       ]
      },
      {
       "output_type": "stream",
       "stream": "stdout",
       "text": [
        "Warning: lcl|Query_13049 SPU_030028-tr cds:pseudogene supercontig:GCA_000002235.2:Scaffold310:223703:223833:1 gene:SPU_030028 transcript:SPU_030028-tr: Warning: Sequence contains no data \r\n"
       ]
      },
      {
       "output_type": "stream",
       "stream": "stdout",
       "text": [
        "Error: (1431.1) FASTA-Reader: Warning: FASTA-Reader: No residues given\r\n"
       ]
      },
      {
       "output_type": "stream",
       "stream": "stdout",
       "text": [
        "Warning: lcl|Query_13117 EMSPUT00000011264 cds:pseudogene supercontig:GCA_000002235.2:Scaffold182:576495:576563:-1 gene:EMSPUG00000011264 transcript:EMSPUT00000011264 description:\"tRNA-Glu for anticodon CUC\": Warning: Sequence contains no data \r\n",
        "Error: (1431.1) FASTA-Reader: Warning: FASTA-Reader: No residues given\r\n"
       ]
      },
      {
       "output_type": "stream",
       "stream": "stdout",
       "text": [
        "Warning: lcl|Query_13127 EMSPUT00000014271 cds:pseudogene supercontig:GCA_000002235.2:Scaffold828:311911:311983:-1 gene:EMSPUG00000014271 transcript:EMSPUT00000014271 description:\"tRNA-Met for anticodon CAU\": Warning: Sequence contains no data \r\n",
        "Error: (1431.1) FASTA-Reader: Warning: FASTA-Reader: No residues given\r\n"
       ]
      },
      {
       "output_type": "stream",
       "stream": "stdout",
       "text": [
        "Warning: lcl|Query_13139 EMSPUT00000010238 cds:pseudogene supercontig:GCA_000002235.2:Scaffold342:137969:138041:1 gene:EMSPUG00000010238 transcript:EMSPUT00000010238 description:\"tRNA-Thr for anticodon CGU\": Warning: Sequence contains no data \r\n",
        "Error: (1431.1) FASTA-Reader: Warning: FASTA-Reader: No residues given\r\n",
        "Error: (1431.1) FASTA-Reader: Warning: FASTA-Reader: No residues given\r\n"
       ]
      },
      {
       "output_type": "stream",
       "stream": "stdout",
       "text": [
        "Error: (1431.1) FASTA-Reader: Warning: FASTA-Reader: No residues given\r\n",
        "Error: (1431.1) FASTA-Reader: Warning: FASTA-Reader: No residues given\r\n",
        "Error: (1431.1) FASTA-Reader: Warning: FASTA-Reader: No residues given\r\n"
       ]
      },
      {
       "output_type": "stream",
       "stream": "stdout",
       "text": [
        "Warning: lcl|Query_13161 SPU_030087-tr cds:pseudogene supercontig:GCA_000002235.2:Scaffold325:19672:41217:1 gene:SPU_030087 transcript:SPU_030087-tr: Warning: Sequence contains no data \r\n",
        "Warning: lcl|Query_13162 SPU_030075-tr cds:pseudogene supercontig:GCA_000002235.2:Scaffold325:22635:41202:1 gene:SPU_030075 transcript:SPU_030075-tr: Warning: Sequence contains no data \r\n",
        "Warning: lcl|Query_13179 SPU_030102.2-tr cds:pseudogene supercontig:GCA_000002235.2:Scaffold1018:32711:33229:-1 gene:SPU_030102.2 transcript:SPU_030102.2-tr: Warning: Sequence contains no data \r\n",
        "Warning: lcl|Query_13181 SPU_030102.1-tr cds:pseudogene supercontig:GCA_000002235.2:Scaffold1018:36577:37095:-1 gene:SPU_030102.1 transcript:SPU_030102.1-tr: Warning: Sequence contains no data \r\n",
        "Warning: lcl|Query_13182 SPU_030101-tr cds:pseudogene supercontig:GCA_000002235.2:Scaffold1018:37042:37785:-1 gene:SPU_030101 transcript:SPU_030101-tr: Warning: Sequence contains no data \r\n",
        "Error: (1431.1) FASTA-Reader: Warning: FASTA-Reader: No residues given\r\n",
        "Error: (1431.1) FASTA-Reader: Warning: FASTA-Reader: No residues given\r\n"
       ]
      },
      {
       "output_type": "stream",
       "stream": "stdout",
       "text": [
        "Warning: lcl|Query_13185 EMSPUT00000013043 cds:pseudogene supercontig:GCA_000002235.2:Scaffold1018:82980:83053:1 gene:EMSPUG00000013043 transcript:EMSPUT00000013043 description:\"tRNA-Ala for anticodon GGC\": Warning: Sequence contains no data \r\n",
        "Warning: lcl|Query_13193 EMSPUT00000005410 cds:pseudogene supercontig:GCA_000002235.2:Scaffold3533:15827:15901:1 gene:EMSPUG00000005410 transcript:EMSPUT00000005410 description:\"tRNA-Ser for anticodon GGA\": Warning: Sequence contains no data \r\n"
       ]
      },
      {
       "output_type": "stream",
       "stream": "stdout",
       "text": [
        "Error: (1431.1) FASTA-Reader: Warning: FASTA-Reader: No residues given\r\n",
        "Error: (1431.1) FASTA-Reader: Warning: FASTA-Reader: No residues given\r\n",
        "Error: (1431.1) FASTA-Reader: Warning: FASTA-Reader: No residues given\r\n"
       ]
      },
      {
       "output_type": "stream",
       "stream": "stdout",
       "text": [
        "Warning: lcl|Query_13203 EMSPUT00000012366 cds:pseudogene supercontig:GCA_000002235.2:Scaffold1078:273920:273992:-1 gene:EMSPUG00000012366 transcript:EMSPUT00000012366 description:\"tRNA-Met for anticodon CAU\": Warning: Sequence contains no data \r\n",
        "Warning: lcl|Query_13208 EMSPUT00000006012 cds:pseudogene supercontig:GCA_000002235.2:Scaffold4034:8377:8449:-1 gene:EMSPUG00000006012 transcript:EMSPUT00000006012 description:\"tRNA-Met for anticodon CAU\": Warning: Sequence contains no data \r\n",
        "Warning: lcl|Query_13211 EMSPUT00000000624 cds:pseudogene supercontig:GCA_000002235.2:Scaffold769:13928:14002:-1 gene:EMSPUG00000000624 transcript:EMSPUT00000000624 description:\"tRNA-His for anticodon GUG\": Warning: Sequence contains no data \r\n",
        "Error: (1431.1) FASTA-Reader: Warning: FASTA-Reader: No residues given\r\n"
       ]
      },
      {
       "output_type": "stream",
       "stream": "stdout",
       "text": [
        "Warning: lcl|Query_13231 EMSPUT00000007306 cds:pseudogene supercontig:GCA_000002235.2:Scaffold2225:3228:3302:-1 gene:EMSPUG00000007306 transcript:EMSPUT00000007306 description:\"tRNA-Ala for anticodon GGC\": Warning: Sequence contains no data \r\n"
       ]
      },
      {
       "output_type": "stream",
       "stream": "stdout",
       "text": [
        "Error: (1431.1) FASTA-Reader: Warning: FASTA-Reader: No residues given\r\n"
       ]
      },
      {
       "output_type": "stream",
       "stream": "stdout",
       "text": [
        "Warning: lcl|Query_13263 EMSPUT00000001329 cds:pseudogene supercontig:GCA_000002235.2:Scaffold276:109622:109693:-1 gene:EMSPUG00000001329 transcript:EMSPUT00000001329 description:\"tRNA-Glu for anticodon CUC\": Warning: Sequence contains no data \r\n"
       ]
      },
      {
       "output_type": "stream",
       "stream": "stdout",
       "text": [
        "Error: (1431.1) FASTA-Reader: Warning: FASTA-Reader: No residues given\r\n",
        "Error: (1431.1) FASTA-Reader: Warning: FASTA-Reader: No residues given\r\n"
       ]
      },
      {
       "output_type": "stream",
       "stream": "stdout",
       "text": [
        "Warning: lcl|Query_13287 EMSPUT00000000959 cds:pseudogene supercontig:GCA_000002235.2:Scaffold12091:22869:22938:-1 gene:EMSPUG00000000959 transcript:EMSPUT00000000959 description:\"tRNA-Undet for anticodon \\x3f\\x3f\\x3f\": Warning: Sequence contains no data \r\n",
        "Warning: lcl|Query_13298 EMSPUT00000006487 cds:pseudogene supercontig:GCA_000002235.2:Scaffold107:35723:36019:1 gene:EMSPUG00000006487 transcript:EMSPUT00000006487 description:\"Metazoan signal recognition particle RNA\": Warning: Sequence contains no data \r\n"
       ]
      },
      {
       "output_type": "stream",
       "stream": "stdout",
       "text": [
        "Error: (1431.1) FASTA-Reader: Warning: FASTA-Reader: No residues given\r\n"
       ]
      },
      {
       "output_type": "stream",
       "stream": "stdout",
       "text": [
        "Warning: lcl|Query_13321 EMSPUT00000002093 cds:pseudogene supercontig:GCA_000002235.2:Scaffold107:370608:370679:-1 gene:EMSPUG00000002093 transcript:EMSPUT00000002093 description:\"tRNA-Pro for anticodon AGG\": Warning: Sequence contains no data \r\n",
        "Error: (1431.1) FASTA-Reader: Warning: FASTA-Reader: No residues given\r\n"
       ]
      },
      {
       "output_type": "stream",
       "stream": "stdout",
       "text": [
        "Warning: lcl|Query_13331 EMSPUT00000003473 cds:pseudogene supercontig:GCA_000002235.2:Scaffold107:595247:595319:-1 gene:EMSPUG00000003473 transcript:EMSPUT00000003473 description:\"tRNA-Lys for anticodon UUU\": Warning: Sequence contains no data \r\n"
       ]
      },
      {
       "output_type": "stream",
       "stream": "stdout",
       "text": [
        "Error: (1431.1) FASTA-Reader: Warning: FASTA-Reader: No residues given\r\n"
       ]
      },
      {
       "output_type": "stream",
       "stream": "stdout",
       "text": [
        "Warning: lcl|Query_13447 EMSPUT00000002035 cds:pseudogene supercontig:GCA_000002235.2:Scaffold2046:883:959:-1 gene:EMSPUG00000002035 transcript:EMSPUT00000002035 description:\"tRNA-SeC for anticodon UCA\": Warning: Sequence contains no data \r\n",
        "Error: (1431.1) FASTA-Reader: Warning: FASTA-Reader: No residues given\r\n"
       ]
      },
      {
       "output_type": "stream",
       "stream": "stdout",
       "text": [
        "Warning: lcl|Query_13454 EMSPUT00000011056 cds:pseudogene supercontig:GCA_000002235.2:Scaffold416:52232:52302:-1 gene:EMSPUG00000011056 transcript:EMSPUT00000011056 description:\"tRNA-Gly for anticodon CCC\": Warning: Sequence contains no data \r\n",
        "Error: (1431.1) FASTA-Reader: Warning: FASTA-Reader: No residues given\r\n"
       ]
      },
      {
       "output_type": "stream",
       "stream": "stdout",
       "text": [
        "Warning: lcl|Query_13483 EMSPUT00000007851 cds:pseudogene supercontig:GCA_000002235.2:Scaffold721:18953:19026:-1 gene:EMSPUG00000007851 transcript:EMSPUT00000007851 description:\"tRNA-Met for anticodon CAU\": Warning: Sequence contains no data \r\n",
        "Error: (1431.1) FASTA-Reader: Warning: FASTA-Reader: No residues given\r\n"
       ]
      },
      {
       "output_type": "stream",
       "stream": "stdout",
       "text": [
        "Warning: lcl|Query_13496 EMSPUT00000011404 cds:pseudogene supercontig:GCA_000002235.2:Scaffold721:341599:341680:1 gene:EMSPUG00000011404 transcript:EMSPUT00000011404 description:\"tRNA-Ser for anticodon CGA\": Warning: Sequence contains no data \r\n",
        "Error: (1431.1) FASTA-Reader: Warning: FASTA-Reader: No residues given\r\n"
       ]
      },
      {
       "output_type": "stream",
       "stream": "stdout",
       "text": [
        "Warning: lcl|Query_13504 EMSPUT00000003478 cds:pseudogene supercontig:GCA_000002235.2:Scaffold1218:76953:77025:1 gene:EMSPUG00000003478 transcript:EMSPUT00000003478 description:\"tRNA-Thr for anticodon CGU\": Warning: Sequence contains no data \r\n"
       ]
      },
      {
       "output_type": "stream",
       "stream": "stdout",
       "text": [
        "Error: (1431.1) FASTA-Reader: Warning: FASTA-Reader: No residues given\r\n"
       ]
      },
      {
       "output_type": "stream",
       "stream": "stdout",
       "text": [
        "Warning: lcl|Query_13553 EMSPUT00000000347 cds:pseudogene supercontig:GCA_000002235.2:Scaffold3149:88860:88925:1 gene:EMSPUG00000000347 transcript:EMSPUT00000000347 description:\"tRNA-Leu for anticodon UAA\": Warning: Sequence contains no data \r\n",
        "Error: (1431.1) FASTA-Reader: Warning: FASTA-Reader: No residues given\r\n",
        "Error: (1431.1) FASTA-Reader: Warning: FASTA-Reader: No residues given\r\n"
       ]
      },
      {
       "output_type": "stream",
       "stream": "stdout",
       "text": [
        "Warning: lcl|Query_13559 EMSPUT00000010845 cds:pseudogene supercontig:GCA_000002235.2:Scaffold1281:85565:85637:-1 gene:EMSPUG00000010845 transcript:EMSPUT00000010845 description:\"tRNA-Ile for anticodon AAU\": Warning: Sequence contains no data \r\n",
        "Warning: lcl|Query_13564 EMSPUT00000002187 cds:pseudogene supercontig:GCA_000002235.2:Scaffold1281:194026:194100:-1 gene:EMSPUG00000002187 transcript:EMSPUT00000002187 description:\"tRNA-Undet for anticodon \\x3f\\x3f\\x3f\": Warning: Sequence contains no data \r\n"
       ]
      },
      {
       "output_type": "stream",
       "stream": "stdout",
       "text": [
        "Error: (1431.1) FASTA-Reader: Warning: FASTA-Reader: No residues given\r\n",
        "Error: (1431.1) FASTA-Reader: Warning: FASTA-Reader: No residues given\r\n",
        "Error: (1431.1) FASTA-Reader: Warning: FASTA-Reader: No residues given\r\n"
       ]
      },
      {
       "output_type": "stream",
       "stream": "stdout",
       "text": [
        "Warning: lcl|Query_13631 EMSPUT00000013761 cds:pseudogene supercontig:GCA_000002235.2:Scaffold2981:27536:27609:1 gene:EMSPUG00000013761 transcript:EMSPUT00000013761 description:\"tRNA-Ala for anticodon GGC\": Warning: Sequence contains no data \r\n",
        "Warning: lcl|Query_13637 EMSPUT00000001579 cds:pseudogene supercontig:GCA_000002235.2:Scaffold1769:106180:106252:1 gene:EMSPUG00000001579 transcript:EMSPUT00000001579 description:\"tRNA-Met for anticodon CAU\": Warning: Sequence contains no data \r\n",
        "Warning: lcl|Query_13647 SPU_030111-tr cds:pseudogene supercontig:GCA_000002235.2:Scaffold406:153814:154346:1 gene:SPU_030111 transcript:SPU_030111-tr: Warning: Sequence contains no data \r\n",
        "Error: (1431.1) FASTA-Reader: Warning: FASTA-Reader: No residues given\r\n",
        "Error: (1431.1) FASTA-Reader: Warning: FASTA-Reader: No residues given\r\n"
       ]
      },
      {
       "output_type": "stream",
       "stream": "stdout",
       "text": [
        "Warning: lcl|Query_13663 EMSPUT00000009030 cds:pseudogene supercontig:GCA_000002235.2:Scaffold30:402330:402404:-1 gene:EMSPUG00000009030 transcript:EMSPUT00000009030 description:\"tRNA-His for anticodon GUG\": Warning: Sequence contains no data \r\n",
        "Warning: lcl|Query_13664 EMSPUT00000000030 cds:pseudogene supercontig:GCA_000002235.2:Scaffold30:417974:418045:-1 gene:EMSPUG00000000030 transcript:EMSPUT00000000030 description:\"tRNA-His for anticodon GUG\": Warning: Sequence contains no data \r\n",
        "Error: (1431.1) FASTA-Reader: Warning: FASTA-Reader: No residues given\r\n"
       ]
      },
      {
       "output_type": "stream",
       "stream": "stdout",
       "text": [
        "Warning: lcl|Query_13676 EMSPUT00000013330 cds:pseudogene supercontig:GCA_000002235.2:Scaffold30:949858:949935:-1 gene:EMSPUG00000013330 transcript:EMSPUT00000013330 description:\"tRNA-Ser for anticodon GGA\": Warning: Sequence contains no data \r\n",
        "Error: (1431.1) FASTA-Reader: Warning: FASTA-Reader: No residues given\r\n",
        "Error: (1431.1) FASTA-Reader: Warning: FASTA-Reader: No residues given\r\n",
        "Error: (1431.1) FASTA-Reader: Warning: FASTA-Reader: No residues given\r\n",
        "Error: (1431.1) FASTA-Reader: Warning: FASTA-Reader: No residues given\r\n",
        "Error: (1431.1) FASTA-Reader: Warning: FASTA-Reader: No residues given\r\n",
        "Error: (1431.1) FASTA-Reader: Warning: FASTA-Reader: No residues given\r\n",
        "Error: (1431.1) FASTA-Reader: Warning: FASTA-Reader: No residues given\r\n",
        "Error: (1431.1) FASTA-Reader: Warning: FASTA-Reader: No residues given\r\n"
       ]
      },
      {
       "output_type": "stream",
       "stream": "stdout",
       "text": [
        "Warning: lcl|Query_13680 EMSPUT00000007141 cds:pseudogene supercontig:GCA_000002235.2:Scaffold30:1086897:1086978:-1 gene:EMSPUG00000007141 transcript:EMSPUT00000007141 description:\"tRNA-Ser for anticodon UGA\": Warning: Sequence contains no data \r\n",
        "Warning: lcl|Query_13681 EMSPUT00000002428 cds:pseudogene supercontig:GCA_000002235.2:Scaffold30:1091582:1091663:-1 gene:EMSPUG00000002428 transcript:EMSPUT00000002428 description:\"tRNA-Ser for anticodon UGA\": Warning: Sequence contains no data \r\n",
        "Warning: lcl|Query_13682 EMSPUT00000003505 cds:pseudogene supercontig:GCA_000002235.2:Scaffold30:1093547:1093628:1 gene:EMSPUG00000003505 transcript:EMSPUT00000003505 description:\"tRNA-Ser for anticodon UGA\": Warning: Sequence contains no data \r\n",
        "Warning: lcl|Query_13683 EMSPUT00000006341 cds:pseudogene supercontig:GCA_000002235.2:Scaffold30:1095662:1095743:-1 gene:EMSPUG00000006341 transcript:EMSPUT00000006341 description:\"tRNA-Ser for anticodon UGA\": Warning: Sequence contains no data \r\n",
        "Warning: lcl|Query_13684 EMSPUT00000013087 cds:pseudogene supercontig:GCA_000002235.2:Scaffold30:1096619:1096700:-1 gene:EMSPUG00000013087 transcript:EMSPUT00000013087 description:\"tRNA-Ser for anticodon UGA\": Warning: Sequence contains no data \r\n",
        "Warning: lcl|Query_13685 EMSPUT00000004568 cds:pseudogene supercontig:GCA_000002235.2:Scaffold30:1097746:1097827:-1 gene:EMSPUG00000004568 transcript:EMSPUT00000004568 description:\"tRNA-Ser for anticodon CGA\": Warning: Sequence contains no data \r\n",
        "Warning: lcl|Query_13686 EMSPUT00000010521 cds:pseudogene supercontig:GCA_000002235.2:Scaffold30:1098293:1098374:1 gene:EMSPUG00000010521 transcript:EMSPUT00000010521 description:\"tRNA-Ser for anticodon CGA\": Warning: Sequence contains no data \r\n",
        "Warning: lcl|Query_13687 EMSPUT00000011323 cds:pseudogene supercontig:GCA_000002235.2:Scaffold30:1098670:1098751:-1 gene:EMSPUG00000011323 transcript:EMSPUT00000011323 description:\"tRNA-Ser for anticodon UGA\": Warning: Sequence contains no data \r\n"
       ]
      },
      {
       "output_type": "stream",
       "stream": "stdout",
       "text": [
        "Error: (1431.1) FASTA-Reader: Warning: FASTA-Reader: No residues given\r\n"
       ]
      },
      {
       "output_type": "stream",
       "stream": "stdout",
       "text": [
        "Warning: lcl|Query_13740 EMSPUT00000012534 cds:pseudogene supercontig:GCA_000002235.2:Scaffold543:26405:26473:-1 gene:EMSPUG00000012534 transcript:EMSPUT00000012534 description:\"tRNA-Ala for anticodon UGC\": Warning: Sequence contains no data \r\n"
       ]
      },
      {
       "output_type": "stream",
       "stream": "stdout",
       "text": [
        "Error: (1431.1) FASTA-Reader: Warning: FASTA-Reader: No residues given\r\n",
        "Error: (1431.1) FASTA-Reader: Warning: FASTA-Reader: No residues given\r\n"
       ]
      },
      {
       "output_type": "stream",
       "stream": "stdout",
       "text": [
        "Warning: lcl|Query_13803 EMSPUT00000010518 cds:pseudogene supercontig:GCA_000002235.2:Scaffold241:269662:269734:1 gene:EMSPUG00000010518 transcript:EMSPUT00000010518 description:\"tRNA-Met for anticodon CAU\": Warning: Sequence contains no data \r\n",
        "Warning: lcl|Query_13807 EMSPUT00000013532 cds:pseudogene supercontig:GCA_000002235.2:Scaffold241:348225:348301:1 gene:EMSPUG00000013532 transcript:EMSPUT00000013532 description:\"tRNA-Phe for anticodon GAA\": Warning: Sequence contains no data \r\n",
        "Error: (1431.1) FASTA-Reader: Warning: FASTA-Reader: No residues given\r\n",
        "Error: (1431.1) FASTA-Reader: Warning: FASTA-Reader: No residues given\r\n",
        "Error: (1431.1) FASTA-Reader: Warning: FASTA-Reader: No residues given\r\n",
        "Error: (1431.1) FASTA-Reader: Warning: FASTA-Reader: No residues given\r\n"
       ]
      },
      {
       "output_type": "stream",
       "stream": "stdout",
       "text": [
        "Warning: lcl|Query_13823 EMSPUT00000003776 cds:pseudogene supercontig:GCA_000002235.2:Scaffold2401:15067:15139:1 gene:EMSPUG00000003776 transcript:EMSPUT00000003776 description:\"tRNA-Met for anticodon CAU\": Warning: Sequence contains no data \r\n",
        "Warning: lcl|Query_13826 EMSPUT00000001651 cds:pseudogene supercontig:GCA_000002235.2:Scaffold2401:66349:66420:1 gene:EMSPUG00000001651 transcript:EMSPUT00000001651 description:\"tRNA-Sup for anticodon UUA\": Warning: Sequence contains no data \r\n",
        "Warning: lcl|Query_13827 EMSPUT00000011312 cds:pseudogene supercontig:GCA_000002235.2:Scaffold2401:70130:70201:1 gene:EMSPUG00000011312 transcript:EMSPUT00000011312 description:\"tRNA-Met for anticodon CAU\": Warning: Sequence contains no data \r\n",
        "Warning: lcl|Query_13828 EMSPUT00000000235 cds:pseudogene supercontig:GCA_000002235.2:Scaffold2401:71378:71450:1 gene:EMSPUG00000000235 transcript:EMSPUT00000000235 description:\"tRNA-Lys for anticodon UUU\": Warning: Sequence contains no data \r\n",
        "Error: (1431.1) FASTA-Reader: Warning: FASTA-Reader: No residues given\r\n"
       ]
      },
      {
       "output_type": "stream",
       "stream": "stdout",
       "text": [
        "Warning: lcl|Query_13832 SPU_030119-tr cds:pseudogene supercontig:GCA_000002235.2:Scaffold76:112459:113000:-1 gene:SPU_030119 transcript:SPU_030119-tr: Warning: Sequence contains no data \r\n",
        "Error: (1431.1) FASTA-Reader: Warning: FASTA-Reader: No residues given\r\n",
        "Error: (1431.1) FASTA-Reader: Warning: FASTA-Reader: No residues given\r\n",
        "Error: (1431.1) FASTA-Reader: Warning: FASTA-Reader: No residues given\r\n"
       ]
      },
      {
       "output_type": "stream",
       "stream": "stdout",
       "text": [
        "Warning: lcl|Query_13848 EMSPUT00000000343 cds:pseudogene supercontig:GCA_000002235.2:Scaffold76:411926:411997:-1 gene:EMSPUG00000000343 transcript:EMSPUT00000000343 description:\"tRNA-Pro for anticodon UGG\": Warning: Sequence contains no data \r\n",
        "Warning: lcl|Query_13852 EMSPUT00000013828 cds:pseudogene supercontig:GCA_000002235.2:Scaffold76:461140:461214:1 gene:EMSPUG00000013828 transcript:EMSPUT00000013828 description:\"tRNA-His for anticodon GUG\": Warning: Sequence contains no data \r\n",
        "Warning: lcl|Query_13859 EMSPUT00000009778 cds:pseudogene supercontig:GCA_000002235.2:Scaffold76:535404:535478:1 gene:EMSPUG00000009778 transcript:EMSPUT00000009778 description:\"tRNA-His for anticodon GUG\": Warning: Sequence contains no data \r\n",
        "Error: (1431.1) FASTA-Reader: Warning: FASTA-Reader: No residues given\r\n"
       ]
      },
      {
       "output_type": "stream",
       "stream": "stdout",
       "text": [
        "Warning: lcl|Query_13861 EMSPUT00000008632 cds:pseudogene supercontig:GCA_000002235.2:Scaffold76:585637:585709:1 gene:EMSPUG00000008632 transcript:EMSPUT00000008632 description:\"tRNA-Met for anticodon CAU\": Warning: Sequence contains no data \r\n"
       ]
      },
      {
       "output_type": "stream",
       "stream": "stdout",
       "text": [
        "Error: (1431.1) FASTA-Reader: Warning: FASTA-Reader: No residues given\r\n"
       ]
      },
      {
       "output_type": "stream",
       "stream": "stdout",
       "text": [
        "Warning: lcl|Query_13913 EMSPUT00000004243 cds:pseudogene supercontig:GCA_000002235.2:Scaffold798:276209:276277:1 gene:EMSPUG00000004243 transcript:EMSPUT00000004243 description:\"tRNA-Thr for anticodon UGU\": Warning: Sequence contains no data \r\n"
       ]
      },
      {
       "output_type": "stream",
       "stream": "stdout",
       "text": [
        "Error: (1431.1) FASTA-Reader: Warning: FASTA-Reader: No residues given\r\n"
       ]
      },
      {
       "output_type": "stream",
       "stream": "stdout",
       "text": [
        "Warning: lcl|Query_13942 EMSPUT00000011359 cds:pseudogene supercontig:GCA_000002235.2:Scaffold313:286442:286517:-1 gene:EMSPUG00000011359 transcript:EMSPUT00000011359 description:\"tRNA-Asp for anticodon GUC\": Warning: Sequence contains no data \r\n",
        "Error: (1431.1) FASTA-Reader: Warning: FASTA-Reader: No residues given\r\n"
       ]
      },
      {
       "output_type": "stream",
       "stream": "stdout",
       "text": [
        "Warning: lcl|Query_13958 EMSPUT00000001973 cds:pseudogene supercontig:GCA_000002235.2:Scaffold1008:258721:258804:-1 gene:EMSPUG00000001973 transcript:EMSPUT00000001973 description:\"tRNA-Leu for anticodon UAA\": Warning: Sequence contains no data \r\n"
       ]
      },
      {
       "output_type": "stream",
       "stream": "stdout",
       "text": [
        "Error: (1431.1) FASTA-Reader: Warning: FASTA-Reader: No residues given\r\n",
        "Error: (1431.1) FASTA-Reader: Warning: FASTA-Reader: No residues given\r\n",
        "Error: (1431.1) FASTA-Reader: Warning: FASTA-Reader: No residues given\r\n",
        "Error: (1431.1) FASTA-Reader: Warning: FASTA-Reader: No residues given\r\n",
        "Error: (1431.1) FASTA-Reader: Warning: FASTA-Reader: No residues given\r\n",
        "Error: (1431.1) FASTA-Reader: Warning: FASTA-Reader: No residues given\r\n"
       ]
      },
      {
       "output_type": "stream",
       "stream": "stdout",
       "text": [
        "Warning: lcl|Query_13998 EMSPUT00000011914 cds:pseudogene supercontig:GCA_000002235.2:Scaffold296:640966:641037:-1 gene:EMSPUG00000011914 transcript:EMSPUT00000011914 description:\"tRNA-Ala for anticodon UGC\": Warning: Sequence contains no data \r\n",
        "Warning: lcl|Query_13999 EMSPUT00000005094 cds:pseudogene supercontig:GCA_000002235.2:Scaffold296:643152:643223:-1 gene:EMSPUG00000005094 transcript:EMSPUT00000005094 description:\"tRNA-Ala for anticodon UGC\": Warning: Sequence contains no data \r\n"
       ]
      },
      {
       "output_type": "stream",
       "stream": "stdout",
       "text": [
        "Warning: lcl|Query_14000 EMSPUT00000014134 cds:pseudogene supercontig:GCA_000002235.2:Scaffold296:644349:644420:-1 gene:EMSPUG00000014134 transcript:EMSPUT00000014134 description:\"tRNA-Ala for anticodon UGC\": Warning: Sequence contains no data \r\n",
        "Warning: lcl|Query_14001 EMSPUT00000007289 cds:pseudogene supercontig:GCA_000002235.2:Scaffold296:644871:644942:-1 gene:EMSPUG00000007289 transcript:EMSPUT00000007289 description:\"tRNA-Ala for anticodon UGC\": Warning: Sequence contains no data \r\n",
        "Warning: lcl|Query_14002 EMSPUT00000001738 cds:pseudogene supercontig:GCA_000002235.2:Scaffold296:645952:646023:-1 gene:EMSPUG00000001738 transcript:EMSPUT00000001738 description:\"tRNA-Ala for anticodon UGC\": Warning: Sequence contains no data \r\n",
        "Warning: lcl|Query_14017 EMSPUT00000001538 cds:pseudogene supercontig:GCA_000002235.2:Scaffold578:37547:37621:1 gene:EMSPUG00000001538 transcript:EMSPUT00000001538 description:\"tRNA-Ala for anticodon GGC\": Warning: Sequence contains no data \r\n"
       ]
      },
      {
       "output_type": "stream",
       "stream": "stdout",
       "text": [
        "Error: (1431.1) FASTA-Reader: Warning: FASTA-Reader: No residues given\r\n"
       ]
      },
      {
       "output_type": "stream",
       "stream": "stdout",
       "text": [
        "Warning: lcl|Query_14039 EMSPUT00000012251 cds:pseudogene supercontig:GCA_000002235.2:Scaffold1074:249824:249896:1 gene:EMSPUG00000012251 transcript:EMSPUT00000012251 description:\"tRNA-Met for anticodon CAU\": Warning: Sequence contains no data \r\n",
        "Error: (1431.1) FASTA-Reader: Warning: FASTA-Reader: No residues given\r\n",
        "Error: (1431.1) FASTA-Reader: Warning: FASTA-Reader: No residues given\r\n"
       ]
      },
      {
       "output_type": "stream",
       "stream": "stdout",
       "text": [
        "Warning: lcl|Query_14046 EMSPUT00000007039 cds:pseudogene supercontig:GCA_000002235.2:Scaffold1074:372380:372453:1 gene:EMSPUG00000007039 transcript:EMSPUT00000007039 description:\"tRNA-Met for anticodon CAU\": Warning: Sequence contains no data \r\n",
        "Warning: lcl|Query_14047 EMSPUT00000014024 cds:pseudogene supercontig:GCA_000002235.2:Scaffold1074:378142:378214:-1 gene:EMSPUG00000014024 transcript:EMSPUT00000014024 description:\"tRNA-Met for anticodon CAU\": Warning: Sequence contains no data \r\n",
        "Error: (1431.1) FASTA-Reader: Warning: FASTA-Reader: No residues given\r\n"
       ]
      },
      {
       "output_type": "stream",
       "stream": "stdout",
       "text": [
        "Warning: lcl|Query_14063 EMSPUT00000002479 cds:pseudogene supercontig:GCA_000002235.2:Scaffold1268:73315:73387:1 gene:EMSPUG00000002479 transcript:EMSPUT00000002479 description:\"tRNA-Met for anticodon CAU\": Warning: Sequence contains no data \r\n"
       ]
      },
      {
       "output_type": "stream",
       "stream": "stdout",
       "text": [
        "Error: (1431.1) FASTA-Reader: Warning: FASTA-Reader: No residues given\r\n"
       ]
      },
      {
       "output_type": "stream",
       "stream": "stdout",
       "text": [
        "Warning: lcl|Query_14082 EMSPUT00000002745 cds:pseudogene supercontig:GCA_000002235.2:Scaffold3888:27451:27518:1 gene:EMSPUG00000002745 transcript:EMSPUT00000002745 description:\"tRNA-Phe for anticodon GAA\": Warning: Sequence contains no data \r\n"
       ]
      },
      {
       "output_type": "stream",
       "stream": "stdout",
       "text": [
        "Error: (1431.1) FASTA-Reader: Warning: FASTA-Reader: No residues given\r\n",
        "Error: (1431.1) FASTA-Reader: Warning: FASTA-Reader: No residues given\r\n",
        "Error: (1431.1) FASTA-Reader: Warning: FASTA-Reader: No residues given\r\n",
        "Error: (1431.1) FASTA-Reader: Warning: FASTA-Reader: No residues given\r\n",
        "Error: (1431.1) FASTA-Reader: Warning: FASTA-Reader: No residues given\r\n",
        "Error: (1431.1) FASTA-Reader: Warning: FASTA-Reader: No residues given\r\n",
        "Error: (1431.1) FASTA-Reader: Warning: FASTA-Reader: No residues given\r\n",
        "Error: (1431.1) FASTA-Reader: Warning: FASTA-Reader: No residues given\r\n",
        "Error: (1431.1) FASTA-Reader: Warning: FASTA-Reader: No residues given\r\n",
        "Error: (1431.1) FASTA-Reader: Warning: FASTA-Reader: No residues given\r\n",
        "Error: (1431.1) FASTA-Reader: Warning: FASTA-Reader: No residues given\r\n",
        "Error: (1431.1) FASTA-Reader: Warning: FASTA-Reader: No residues given\r\n",
        "Error: (1431.1) FASTA-Reader: Warning: FASTA-Reader: No residues given\r\n",
        "Error: (1431.1) FASTA-Reader: Warning: FASTA-Reader: No residues given\r\n"
       ]
      },
      {
       "output_type": "stream",
       "stream": "stdout",
       "text": [
        "Warning: lcl|Query_14157 EMSPUT00000003760 cds:pseudogene supercontig:GCA_000002235.2:Scaffold1347:47225:47306:-1 gene:EMSPUG00000003760 transcript:EMSPUT00000003760 description:\"tRNA-Ser for anticodon AGA\": Warning: Sequence contains no data \r\n",
        "Warning: lcl|Query_14158 EMSPUT00000010164 cds:pseudogene supercontig:GCA_000002235.2:Scaffold1347:49452:49533:1 gene:EMSPUG00000010164 transcript:EMSPUT00000010164 description:\"tRNA-Ser for anticodon AGA\": Warning: Sequence contains no data \r\n",
        "Warning: lcl|Query_14159 EMSPUT00000002736 cds:pseudogene supercontig:GCA_000002235.2:Scaffold1347:49631:49712:1 gene:EMSPUG00000002736 transcript:EMSPUT00000002736 description:\"tRNA-Ser for anticodon AGA\": Warning: Sequence contains no data \r\n",
        "Warning: lcl|Query_14161 EMSPUT00000009988 cds:pseudogene supercontig:GCA_000002235.2:Scaffold1347:52146:52227:-1 gene:EMSPUG00000009988 transcript:EMSPUT00000009988 description:\"tRNA-Ser for anticodon AGA\": Warning: Sequence contains no data \r\n",
        "Warning: lcl|Query_14162 EMSPUT00000013541 cds:pseudogene supercontig:GCA_000002235.2:Scaffold1347:54380:54461:1 gene:EMSPUG00000013541 transcript:EMSPUT00000013541 description:\"tRNA-Ser for anticodon AGA\": Warning: Sequence contains no data \r\n",
        "Warning: lcl|Query_14163 EMSPUT00000015697 cds:pseudogene supercontig:GCA_000002235.2:Scaffold1347:54559:54640:1 gene:EMSPUG00000015697 transcript:EMSPUT00000015697 description:\"tRNA-Ser for anticodon AGA\": Warning: Sequence contains no data \r\n",
        "Warning: lcl|Query_14164 EMSPUT00000006721 cds:pseudogene supercontig:GCA_000002235.2:Scaffold1347:54738:54819:1 gene:EMSPUG00000006721 transcript:EMSPUT00000006721 description:\"tRNA-Ser for anticodon AGA\": Warning: Sequence contains no data \r\n",
        "Warning: lcl|Query_14165 EMSPUT00000001281 cds:pseudogene supercontig:GCA_000002235.2:Scaffold1347:54917:54998:1 gene:EMSPUG00000001281 transcript:EMSPUT00000001281 description:\"tRNA-Ser for anticodon AGA\": Warning: Sequence contains no data \r\n",
        "Warning: lcl|Query_14166 EMSPUT00000008125 cds:pseudogene supercontig:GCA_000002235.2:Scaffold1347:55096:55177:1 gene:EMSPUG00000008125 transcript:EMSPUT00000008125 description:\"tRNA-Ser for anticodon AGA\": Warning: Sequence contains no data \r\n",
        "Warning: lcl|Query_14167 EMSPUT00000009431 cds:pseudogene supercontig:GCA_000002235.2:Scaffold1347:55275:55356:1 gene:EMSPUG00000009431 transcript:EMSPUT00000009431 description:\"tRNA-Ser for anticodon AGA\": Warning: Sequence contains no data \r\n",
        "Warning: lcl|Query_14168 EMSPUT00000000572 cds:pseudogene supercontig:GCA_000002235.2:Scaffold1347:55454:55535:1 gene:EMSPUG00000000572 transcript:EMSPUT00000000572 description:\"tRNA-Ser for anticodon AGA\": Warning: Sequence contains no data \r\n",
        "Warning: lcl|Query_14169 EMSPUT00000006657 cds:pseudogene supercontig:GCA_000002235.2:Scaffold1347:55633:55714:1 gene:EMSPUG00000006657 transcript:EMSPUT00000006657 description:\"tRNA-Ser for anticodon AGA\": Warning: Sequence contains no data \r\n",
        "Warning: lcl|Query_14170 EMSPUT00000014141 cds:pseudogene supercontig:GCA_000002235.2:Scaffold1347:55812:55893:1 gene:EMSPUG00000014141 transcript:EMSPUT00000014141 description:\"tRNA-Ser for anticodon AGA\": Warning: Sequence contains no data \r\n",
        "Warning: lcl|Query_14171 EMSPUT00000007237 cds:pseudogene supercontig:GCA_000002235.2:Scaffold1347:55993:56074:1 gene:EMSPUG00000007237 transcript:EMSPUT00000007237 description:\"tRNA-Ser for anticodon AGA\": Warning: Sequence contains no data \r\n",
        "Error: (1431.1) FASTA-Reader: Warning: FASTA-Reader: No residues given\r\n"
       ]
      },
      {
       "output_type": "stream",
       "stream": "stdout",
       "text": [
        "Warning: lcl|Query_14184 EMSPUT00000014894 cds:pseudogene supercontig:GCA_000002235.2:Scaffold936:149954:150026:-1 gene:EMSPUG00000014894 transcript:EMSPUT00000014894 description:\"tRNA-Met for anticodon CAU\": Warning: Sequence contains no data \r\n",
        "Error: (1431.1) FASTA-Reader: Warning: FASTA-Reader: No residues given\r\n"
       ]
      },
      {
       "output_type": "stream",
       "stream": "stdout",
       "text": [
        "Warning: lcl|Query_14190 EMSPUT00000004395 cds:pseudogene supercontig:GCA_000002235.2:Scaffold647:136502:136574:1 gene:EMSPUG00000004395 transcript:EMSPUT00000004395 description:\"tRNA-Met for anticodon CAU\": Warning: Sequence contains no data \r\n",
        "Error: (1431.1) FASTA-Reader: Warning: FASTA-Reader: No residues given\r\n"
       ]
      },
      {
       "output_type": "stream",
       "stream": "stdout",
       "text": [
        "Warning: lcl|Query_14215 EMSPUT00000000919 cds:pseudogene supercontig:GCA_000002235.2:Scaffold967:246512:246584:-1 gene:EMSPUG00000000919 transcript:EMSPUT00000000919 description:\"tRNA-Lys for anticodon UUU\": Warning: Sequence contains no data \r\n",
        "Error: (1431.1) FASTA-Reader: Warning: FASTA-Reader: No residues given\r\n"
       ]
      },
      {
       "output_type": "stream",
       "stream": "stdout",
       "text": [
        "Warning: lcl|Query_14232 EMSPUT00000007751 cds:pseudogene supercontig:GCA_000002235.2:Scaffold116:110621:110694:-1 gene:EMSPUG00000007751 transcript:EMSPUT00000007751 description:\"tRNA-Glu for anticodon UUC\": Warning: Sequence contains no data \r\n"
       ]
      },
      {
       "output_type": "stream",
       "stream": "stdout",
       "text": [
        "Error: (1431.1) FASTA-Reader: Warning: FASTA-Reader: No residues given\r\n"
       ]
      },
      {
       "output_type": "stream",
       "stream": "stdout",
       "text": [
        "Warning: lcl|Query_14286 EMSPUT00000000866 cds:pseudogene supercontig:GCA_000002235.2:Scaffold258:230052:230124:-1 gene:EMSPUG00000000866 transcript:EMSPUT00000000866 description:\"tRNA-Met for anticodon CAU\": Warning: Sequence contains no data \r\n",
        "Error: (1431.1) FASTA-Reader: Warning: FASTA-Reader: No residues given\r\n"
       ]
      },
      {
       "output_type": "stream",
       "stream": "stdout",
       "text": [
        "Warning: lcl|Query_14301 EMSPUT00000011842 cds:pseudogene supercontig:GCA_000002235.2:Scaffold3804:3866:3939:-1 gene:EMSPUG00000011842 transcript:EMSPUT00000011842 description:\"Mammalian CPEB3 ribozyme\": Warning: Sequence contains no data \r\n"
       ]
      },
      {
       "output_type": "stream",
       "stream": "stdout",
       "text": [
        "Error: (1431.1) FASTA-Reader: Warning: FASTA-Reader: No residues given\r\n",
        "Error: (1431.1) FASTA-Reader: Warning: FASTA-Reader: No residues given\r\n"
       ]
      },
      {
       "output_type": "stream",
       "stream": "stdout",
       "text": [
        "Warning: lcl|Query_14344 EMSPUT00000008164 cds:pseudogene supercontig:GCA_000002235.2:Scaffold6059:1021:1093:1 gene:EMSPUG00000008164 transcript:EMSPUT00000008164 description:\"tRNA-Met for anticodon CAU\": Warning: Sequence contains no data \r\n",
        "Warning: lcl|Query_14347 EMSPUT00000002092 cds:pseudogene supercontig:GCA_000002235.2:Scaffold2416:41915:41987:1 gene:EMSPUG00000002092 transcript:EMSPUT00000002092 description:\"tRNA-Arg for anticodon CCU\": Warning: Sequence contains no data \r\n"
       ]
      },
      {
       "output_type": "stream",
       "stream": "stdout",
       "text": [
        "Error: (1431.1) FASTA-Reader: Warning: FASTA-Reader: No residues given\r\n"
       ]
      },
      {
       "output_type": "stream",
       "stream": "stdout",
       "text": [
        "Warning: lcl|Query_14383 EMSPUT00000001964 cds:pseudogene supercontig:GCA_000002235.2:Scaffold1722:12308:12379:1 gene:EMSPUG00000001964 transcript:EMSPUT00000001964 description:\"tRNA-Gln for anticodon CUG\": Warning: Sequence contains no data \r\n"
       ]
      },
      {
       "output_type": "stream",
       "stream": "stdout",
       "text": [
        "Error: (1431.1) FASTA-Reader: Warning: FASTA-Reader: No residues given\r\n",
        "Error: (1431.1) FASTA-Reader: Warning: FASTA-Reader: No residues given\r\n",
        "Error: (1431.1) FASTA-Reader: Warning: FASTA-Reader: No residues given\r\n"
       ]
      },
      {
       "output_type": "stream",
       "stream": "stdout",
       "text": [
        "Warning: lcl|Query_14493 EMSPUT00000008270 cds:pseudogene supercontig:GCA_000002235.2:Scaffold111:57447:57521:1 gene:EMSPUG00000008270 transcript:EMSPUT00000008270 description:\"tRNA-Ala for anticodon GGC\": Warning: Sequence contains no data \r\n",
        "Warning: lcl|Query_14500 EMSPUT00000014879 cds:pseudogene supercontig:GCA_000002235.2:Scaffold111:479203:479275:1 gene:EMSPUG00000014879 transcript:EMSPUT00000014879 description:\"tRNA-Met for anticodon CAU\": Warning: Sequence contains no data \r\n",
        "Warning: lcl|Query_14501 EMSPUT00000006157 cds:pseudogene supercontig:GCA_000002235.2:Scaffold111:479929:480001:1 gene:EMSPUG00000006157 transcript:EMSPUT00000006157 description:\"tRNA-Met for anticodon CAU\": Warning: Sequence contains no data \r\n"
       ]
      },
      {
       "output_type": "stream",
       "stream": "stdout",
       "text": [
        "Error: (1431.1) FASTA-Reader: Warning: FASTA-Reader: No residues given\r\n"
       ]
      },
      {
       "output_type": "stream",
       "stream": "stdout",
       "text": [
        "Warning: lcl|Query_14543 EMSPUT00000003415 cds:pseudogene supercontig:GCA_000002235.2:Scaffold817:255807:255883:-1 gene:EMSPUG00000003415 transcript:EMSPUT00000003415 description:\"tRNA-Glu for anticodon CUC\": Warning: Sequence contains no data \r\n",
        "Error: (1431.1) FASTA-Reader: Warning: FASTA-Reader: No residues given\r\n",
        "Error: (1431.1) FASTA-Reader: Warning: FASTA-Reader: No residues given\r\n",
        "Error: (1431.1) FASTA-Reader: Warning: FASTA-Reader: No residues given\r\n",
        "Error: (1431.1) FASTA-Reader: Warning: FASTA-Reader: No residues given\r\n",
        "Error: (1431.1) FASTA-Reader: Warning: FASTA-Reader: No residues given\r\n"
       ]
      },
      {
       "output_type": "stream",
       "stream": "stdout",
       "text": [
        "Warning: lcl|Query_14548 EMSPUT00000001165 cds:pseudogene supercontig:GCA_000002235.2:Scaffold4419:20137:20209:1 gene:EMSPUG00000001165 transcript:EMSPUT00000001165 description:\"tRNA-Ala for anticodon AGC\": Warning: Sequence contains no data \r\n",
        "Warning: lcl|Query_14557 EMSPUT00000009870 cds:pseudogene supercontig:GCA_000002235.2:Scaffold1271:171322:171393:1 gene:EMSPUG00000009870 transcript:EMSPUT00000009870 description:\"tRNA-Pro for anticodon UGG\": Warning: Sequence contains no data \r\n",
        "Warning: lcl|Query_14558 EMSPUT00000000134 cds:pseudogene supercontig:GCA_000002235.2:Scaffold1271:171813:171884:-1 gene:EMSPUG00000000134 transcript:EMSPUT00000000134 description:\"tRNA-Pro for anticodon CGG\": Warning: Sequence contains no data \r\n",
        "Warning: lcl|Query_14559 EMSPUT00000006786 cds:pseudogene supercontig:GCA_000002235.2:Scaffold1271:171974:172045:-1 gene:EMSPUG00000006786 transcript:EMSPUT00000006786 description:\"tRNA-Pro for anticodon UGG\": Warning: Sequence contains no data \r\n",
        "Warning: lcl|Query_14568 EMSPUT00000001330 cds:pseudogene supercontig:GCA_000002235.2:Scaffold2007:75713:75785:-1 gene:EMSPUG00000001330 transcript:EMSPUT00000001330 description:\"tRNA-Met for anticodon CAU\": Warning: Sequence contains no data \r\n"
       ]
      },
      {
       "output_type": "stream",
       "stream": "stdout",
       "text": [
        "Error: (1431.1) FASTA-Reader: Warning: FASTA-Reader: No residues given\r\n"
       ]
      },
      {
       "output_type": "stream",
       "stream": "stdout",
       "text": [
        "Warning: lcl|Query_14591 EMSPUT00000014956 cds:pseudogene supercontig:GCA_000002235.2:Scaffold27:427423:427488:-1 gene:EMSPUG00000014956 transcript:EMSPUT00000014956 description:\"tRNA-Phe for anticodon AAA\": Warning: Sequence contains no data \r\n"
       ]
      },
      {
       "output_type": "stream",
       "stream": "stdout",
       "text": [
        "Error: (1431.1) FASTA-Reader: Warning: FASTA-Reader: No residues given\r\n"
       ]
      },
      {
       "output_type": "stream",
       "stream": "stdout",
       "text": [
        "Warning: lcl|Query_14632 EMSPUT00000014723 cds:pseudogene supercontig:GCA_000002235.2:Scaffold84:21113:21182:1 gene:EMSPUG00000014723 transcript:EMSPUT00000014723 description:\"tRNA-Arg for anticodon UCU\": Warning: Sequence contains no data \r\n",
        "Error: (1431.1) FASTA-Reader: Warning: FASTA-Reader: No residues given\r\n"
       ]
      },
      {
       "output_type": "stream",
       "stream": "stdout",
       "text": [
        "Warning: lcl|Query_14641 EMSPUT00000000742 cds:pseudogene supercontig:GCA_000002235.2:Scaffold84:198433:198505:1 gene:EMSPUG00000000742 transcript:EMSPUT00000000742 description:\"tRNA-Glu for anticodon UUC\": Warning: Sequence contains no data \r\n",
        "Error: (1431.1) FASTA-Reader: Warning: FASTA-Reader: No residues given\r\n"
       ]
      },
      {
       "output_type": "stream",
       "stream": "stdout",
       "text": [
        "Warning: lcl|Query_14660 EMSPUT00000004416 cds:pseudogene supercontig:GCA_000002235.2:Scaffold84:556109:556174:1 gene:EMSPUG00000004416 transcript:EMSPUT00000004416 description:\"tRNA-Thr for anticodon UGU\": Warning: Sequence contains no data \r\n"
       ]
      },
      {
       "output_type": "stream",
       "stream": "stdout",
       "text": [
        "Error: (1431.1) FASTA-Reader: Warning: FASTA-Reader: No residues given\r\n"
       ]
      },
      {
       "output_type": "stream",
       "stream": "stdout",
       "text": [
        "Warning: lcl|Query_14720 EMSPUT00000010544 cds:pseudogene supercontig:GCA_000002235.2:Scaffold286:426790:426856:1 gene:EMSPUG00000010544 transcript:EMSPUT00000010544 description:\"tRNA-Undet for anticodon \\x3f\\x3f\\x3f\": Warning: Sequence contains no data \r\n",
        "Error: (1431.1) FASTA-Reader: Warning: FASTA-Reader: No residues given\r\n",
        "Error: (1431.1) FASTA-Reader: Warning: FASTA-Reader: No residues given\r\n",
        "Error: (1431.1) FASTA-Reader: Warning: FASTA-Reader: No residues given\r\n",
        "Error: (1431.1) FASTA-Reader: Warning: FASTA-Reader: No residues given\r\n",
        "Error: (1431.1) FASTA-Reader: Warning: FASTA-Reader: No residues given\r\n"
       ]
      },
      {
       "output_type": "stream",
       "stream": "stdout",
       "text": [
        "Warning: lcl|Query_14736 EMSPUT00000006831 cds:pseudogene supercontig:GCA_000002235.2:Scaffold372:424000:424072:1 gene:EMSPUG00000006831 transcript:EMSPUT00000006831 description:\"tRNA-Met for anticodon CAU\": Warning: Sequence contains no data \r\n",
        "Warning: lcl|Query_14737 EMSPUT00000013428 cds:pseudogene supercontig:GCA_000002235.2:Scaffold372:425106:425178:1 gene:EMSPUG00000013428 transcript:EMSPUT00000013428 description:\"tRNA-Met for anticodon CAU\": Warning: Sequence contains no data \r\n",
        "Warning: lcl|Query_14742 EMSPUT00000015528 cds:pseudogene supercontig:GCA_000002235.2:Scaffold372:705365:705437:-1 gene:EMSPUG00000015528 transcript:EMSPUT00000015528 description:\"tRNA-Thr for anticodon AGU\": Warning: Sequence contains no data \r\n",
        "Warning: lcl|Query_14743 EMSPUT00000001824 cds:pseudogene supercontig:GCA_000002235.2:Scaffold372:705819:705891:-1 gene:EMSPUG00000001824 transcript:EMSPUT00000001824 description:\"tRNA-Thr for anticodon AGU\": Warning: Sequence contains no data \r\n",
        "Warning: lcl|Query_14744 EMSPUT00000008984 cds:pseudogene supercontig:GCA_000002235.2:Scaffold372:708119:708191:-1 gene:EMSPUG00000008984 transcript:EMSPUT00000008984 description:\"tRNA-Thr for anticodon AGU\": Warning: Sequence contains no data \r\n"
       ]
      },
      {
       "output_type": "stream",
       "stream": "stdout",
       "text": [
        "Error: (1431.1) FASTA-Reader: Warning: FASTA-Reader: No residues given\r\n"
       ]
      },
      {
       "output_type": "stream",
       "stream": "stdout",
       "text": [
        "Warning: lcl|Query_14773 EMSPUT00000014808 cds:pseudogene supercontig:GCA_000002235.2:Scaffold500:140669:140741:1 gene:EMSPUG00000014808 transcript:EMSPUT00000014808 description:\"tRNA-Met for anticodon CAU\": Warning: Sequence contains no data \r\n"
       ]
      },
      {
       "output_type": "stream",
       "stream": "stdout",
       "text": [
        "Error: (1431.1) FASTA-Reader: Warning: FASTA-Reader: No residues given\r\n"
       ]
      },
      {
       "output_type": "stream",
       "stream": "stdout",
       "text": [
        "Warning: lcl|Query_14834 EMSPUT00000013382 cds:pseudogene supercontig:GCA_000002235.2:Scaffold1647:351190:351264:-1 gene:EMSPUG00000013382 transcript:EMSPUT00000013382 description:\"tRNA-His for anticodon GUG\": Warning: Sequence contains no data \r\n"
       ]
      },
      {
       "output_type": "stream",
       "stream": "stdout",
       "text": [
        "Error: (1431.1) FASTA-Reader: Warning: FASTA-Reader: No residues given\r\n"
       ]
      },
      {
       "output_type": "stream",
       "stream": "stdout",
       "text": [
        "Warning: lcl|Query_14855 EMSPUT00000000551 cds:pseudogene supercontig:GCA_000002235.2:Scaffold703:206050:206122:-1 gene:EMSPUG00000000551 transcript:EMSPUT00000000551 description:\"tRNA-Ala for anticodon GGC\": Warning: Sequence contains no data \r\n",
        "Error: (1431.1) FASTA-Reader: Warning: FASTA-Reader: No residues given\r\n",
        "Error: (1431.1) FASTA-Reader: Warning: FASTA-Reader: No residues given\r\n",
        "Error: (1431.1) FASTA-Reader: Warning: FASTA-Reader: No residues given\r\n",
        "Error: (1431.1) FASTA-Reader: Warning: FASTA-Reader: No residues given\r\n",
        "Error: (1431.1) FASTA-Reader: Warning: FASTA-Reader: No residues given\r\n",
        "Error: (1431.1) FASTA-Reader: Warning: FASTA-Reader: No residues given\r\n"
       ]
      },
      {
       "output_type": "stream",
       "stream": "stdout",
       "text": [
        "Warning: lcl|Query_14876 EMSPUT00000007060 cds:pseudogene supercontig:GCA_000002235.2:Scaffold1122:32053:32124:-1 gene:EMSPUG00000007060 transcript:EMSPUT00000007060 description:\"tRNA-Cys for anticodon GCA\": Warning: Sequence contains no data \r\n",
        "Warning: lcl|Query_14877 EMSPUT00000011931 cds:pseudogene supercontig:GCA_000002235.2:Scaffold1122:32893:32964:-1 gene:EMSPUG00000011931 transcript:EMSPUT00000011931 description:\"tRNA-Cys for anticodon GCA\": Warning: Sequence contains no data \r\n",
        "Warning: lcl|Query_14878 EMSPUT00000007682 cds:pseudogene supercontig:GCA_000002235.2:Scaffold1122:33746:33817:-1 gene:EMSPUG00000007682 transcript:EMSPUT00000007682 description:\"tRNA-Cys for anticodon GCA\": Warning: Sequence contains no data \r\n",
        "Warning: lcl|Query_14879 EMSPUT00000002554 cds:pseudogene supercontig:GCA_000002235.2:Scaffold1122:34285:34356:-1 gene:EMSPUG00000002554 transcript:EMSPUT00000002554 description:\"tRNA-Cys for anticodon GCA\": Warning: Sequence contains no data \r\n",
        "Warning: lcl|Query_14880 EMSPUT00000005514 cds:pseudogene supercontig:GCA_000002235.2:Scaffold1122:40775:40846:-1 gene:EMSPUG00000005514 transcript:EMSPUT00000005514 description:\"tRNA-Cys for anticodon GCA\": Warning: Sequence contains no data \r\n",
        "Warning: lcl|Query_14881 EMSPUT00000000753 cds:pseudogene supercontig:GCA_000002235.2:Scaffold1122:41641:41712:-1 gene:EMSPUG00000000753 transcript:EMSPUT00000000753 description:\"tRNA-Cys for anticodon GCA\": Warning: Sequence contains no data \r\n"
       ]
      },
      {
       "output_type": "stream",
       "stream": "stdout",
       "text": [
        "Error: (1431.1) FASTA-Reader: Warning: FASTA-Reader: No residues given\r\n"
       ]
      },
      {
       "output_type": "stream",
       "stream": "stdout",
       "text": [
        "Warning: lcl|Query_14921 SPU_030048-tr cds:pseudogene supercontig:GCA_000002235.2:Scaffold202:288190:296902:1 gene:SPU_030048 transcript:SPU_030048-tr: Warning: Sequence contains no data \r\n"
       ]
      },
      {
       "output_type": "stream",
       "stream": "stdout",
       "text": [
        "Error: (1431.1) FASTA-Reader: Warning: FASTA-Reader: No residues given\r\n"
       ]
      },
      {
       "output_type": "stream",
       "stream": "stdout",
       "text": [
        "Warning: lcl|Query_14942 EMSPUT00000009811 cds:pseudogene supercontig:GCA_000002235.2:Scaffold202:712820:712894:1 gene:EMSPUG00000009811 transcript:EMSPUT00000009811 description:\"tRNA-Ala for anticodon GGC\": Warning: Sequence contains no data \r\n",
        "Error: (1431.1) FASTA-Reader: Warning: FASTA-Reader: No residues given\r\n"
       ]
      },
      {
       "output_type": "stream",
       "stream": "stdout",
       "text": [
        "Warning: lcl|Query_14956 EMSPUT00000005038 cds:pseudogene supercontig:GCA_000002235.2:Scaffold202:938761:938836:1 gene:EMSPUG00000005038 transcript:EMSPUT00000005038 description:\"tRNA-His for anticodon GUG\": Warning: Sequence contains no data \r\n"
       ]
      },
      {
       "output_type": "stream",
       "stream": "stdout",
       "text": [
        "Error: (1431.1) FASTA-Reader: Warning: FASTA-Reader: No residues given\r\n"
       ]
      },
      {
       "output_type": "stream",
       "stream": "stdout",
       "text": [
        "Warning: lcl|Query_14980 EMSPUT00000007654 cds:pseudogene supercontig:GCA_000002235.2:Scaffold229:357114:357185:1 gene:EMSPUG00000007654 transcript:EMSPUT00000007654 description:\"tRNA-Lys for anticodon CUU\": Warning: Sequence contains no data \r\n",
        "Error: (1431.1) FASTA-Reader: Warning: FASTA-Reader: No residues given\r\n"
       ]
      },
      {
       "output_type": "stream",
       "stream": "stdout",
       "text": [
        "Warning: lcl|Query_15019 EMSPUT00000006967 cds:pseudogene supercontig:GCA_000002235.2:Scaffold31475:22535:22605:-1 gene:EMSPUG00000006967 transcript:EMSPUT00000006967 description:\"tRNA-Gly for anticodon GCC\": Warning: Sequence contains no data \r\n",
        "Error: (1431.1) FASTA-Reader: Warning: FASTA-Reader: No residues given\r\n"
       ]
      },
      {
       "output_type": "stream",
       "stream": "stdout",
       "text": [
        "Warning: lcl|Query_15034 EMSPUT00000004053 cds:pseudogene supercontig:GCA_000002235.2:Scaffold2762:9829:9901:1 gene:EMSPUG00000004053 transcript:EMSPUT00000004053 description:\"tRNA-Met for anticodon CAU\": Warning: Sequence contains no data \r\n"
       ]
      },
      {
       "output_type": "stream",
       "stream": "stdout",
       "text": [
        "Error: (1431.1) FASTA-Reader: Warning: FASTA-Reader: No residues given\r\n"
       ]
      },
      {
       "output_type": "stream",
       "stream": "stdout",
       "text": [
        "Warning: lcl|Query_15041 EMSPUT00000007659 cds:pseudogene supercontig:GCA_000002235.2:Scaffold292:61663:61737:-1 gene:EMSPUG00000007659 transcript:EMSPUT00000007659 description:\"tRNA-His for anticodon GUG\": Warning: Sequence contains no data \r\n"
       ]
      },
      {
       "output_type": "stream",
       "stream": "stdout",
       "text": [
        "Error: (1431.1) FASTA-Reader: Warning: FASTA-Reader: No residues given\r\n"
       ]
      },
      {
       "output_type": "stream",
       "stream": "stdout",
       "text": [
        "Warning: lcl|Query_15075 EMSPUT00000000643 cds:pseudogene supercontig:GCA_000002235.2:Scaffold2828:24879:24951:1 gene:EMSPUG00000000643 transcript:EMSPUT00000000643 description:\"tRNA-Met for anticodon CAU\": Warning: Sequence contains no data \r\n"
       ]
      },
      {
       "output_type": "stream",
       "stream": "stdout",
       "text": [
        "Error: (1431.1) FASTA-Reader: Warning: FASTA-Reader: No residues given\r\n",
        "Error: (1431.1) FASTA-Reader: Warning: FASTA-Reader: No residues given\r\n",
        "Error: (1431.1) FASTA-Reader: Warning: FASTA-Reader: No residues given\r\n",
        "Error: (1431.1) FASTA-Reader: Warning: FASTA-Reader: No residues given\r\n"
       ]
      },
      {
       "output_type": "stream",
       "stream": "stdout",
       "text": [
        "Warning: lcl|Query_15100 SPU_017735-tr cds:pseudogene supercontig:GCA_000002235.2:Scaffold218:175691:176583:-1 gene:SPU_017735 transcript:SPU_017735-tr: Warning: Sequence contains no data \r\n",
        "Warning: lcl|Query_15101 SPU_030095-tr cds:pseudogene supercontig:GCA_000002235.2:Scaffold218:176829:177522:-1 gene:SPU_030095 transcript:SPU_030095-tr: Warning: Sequence contains no data \r\n",
        "Warning: lcl|Query_15113 EMSPUT00000000322 cds:pseudogene supercontig:GCA_000002235.2:Scaffold218:423535:423608:1 gene:EMSPUG00000000322 transcript:EMSPUT00000000322 description:\"Mammalian CPEB3 ribozyme\": Warning: Sequence contains no data \r\n",
        "Warning: lcl|Query_15115 EMSPUT00000006625 cds:pseudogene supercontig:GCA_000002235.2:Scaffold218:425641:425713:1 gene:EMSPUG00000006625 transcript:EMSPUT00000006625 description:\"tRNA-Met for anticodon CAU\": Warning: Sequence contains no data \r\n",
        "Error: (1431.1) FASTA-Reader: Warning: FASTA-Reader: No residues given\r\n"
       ]
      },
      {
       "output_type": "stream",
       "stream": "stdout",
       "text": [
        "Warning: lcl|Query_15139 EMSPUT00000010654 cds:pseudogene supercontig:GCA_000002235.2:Scaffold556:308795:308865:-1 gene:EMSPUG00000010654 transcript:EMSPUT00000010654 description:\"tRNA-Thr for anticodon CGU\": Warning: Sequence contains no data \r\n",
        "Error: (1431.1) FASTA-Reader: Warning: FASTA-Reader: No residues given\r\n"
       ]
      },
      {
       "output_type": "stream",
       "stream": "stdout",
       "text": [
        "Warning: lcl|Query_15153 EMSPUT00000008478 cds:pseudogene supercontig:GCA_000002235.2:Scaffold18065:794:866:1 gene:EMSPUG00000008478 transcript:EMSPUT00000008478 description:\"tRNA-Val for anticodon AAC\": Warning: Sequence contains no data \r\n"
       ]
      },
      {
       "output_type": "stream",
       "stream": "stdout",
       "text": [
        "Error: (1431.1) FASTA-Reader: Warning: FASTA-Reader: No residues given\r\n",
        "Error: (1431.1) FASTA-Reader: Warning: FASTA-Reader: No residues given\r\n"
       ]
      },
      {
       "output_type": "stream",
       "stream": "stdout",
       "text": [
        "Warning: lcl|Query_15193 EMSPUT00000012509 cds:pseudogene supercontig:GCA_000002235.2:Scaffold904:120038:120110:1 gene:EMSPUG00000012509 transcript:EMSPUT00000012509 description:\"tRNA-Thr for anticodon CGU\": Warning: Sequence contains no data \r\n"
       ]
      },
      {
       "output_type": "stream",
       "stream": "stdout",
       "text": [
        "Warning: lcl|Query_15194 EMSPUT00000005489 cds:pseudogene supercontig:GCA_000002235.2:Scaffold904:163437:163509:1 gene:EMSPUG00000005489 transcript:EMSPUT00000005489 description:\"tRNA-Lys for anticodon CUU\": Warning: Sequence contains no data \r\n"
       ]
      },
      {
       "output_type": "stream",
       "stream": "stdout",
       "text": [
        "Error: (1431.1) FASTA-Reader: Warning: FASTA-Reader: No residues given\r\n",
        "Error: (1431.1) FASTA-Reader: Warning: FASTA-Reader: No residues given\r\n"
       ]
      },
      {
       "output_type": "stream",
       "stream": "stdout",
       "text": [
        "Warning: lcl|Query_15218 EMSPUT00000015138 cds:pseudogene supercontig:GCA_000002235.2:Scaffold96:378280:378346:-1 gene:EMSPUG00000015138 transcript:EMSPUT00000015138 description:\"tRNA-Ala for anticodon GGC\": Warning: Sequence contains no data \r\n",
        "Warning: lcl|Query_15220 EMSPUT00000005833 cds:pseudogene supercontig:GCA_000002235.2:Scaffold96:388175:388241:-1 gene:EMSPUG00000005833 transcript:EMSPUT00000005833 description:\"tRNA-Ala for anticodon GGC\": Warning: Sequence contains no data \r\n"
       ]
      },
      {
       "output_type": "stream",
       "stream": "stdout",
       "text": [
        "Error: (1431.1) FASTA-Reader: Warning: FASTA-Reader: No residues given\r\n"
       ]
      },
      {
       "output_type": "stream",
       "stream": "stdout",
       "text": [
        "Warning: lcl|Query_15286 EMSPUT00000008806 cds:pseudogene supercontig:GCA_000002235.2:Scaffold1185:103936:104007:1 gene:EMSPUG00000008806 transcript:EMSPUT00000008806 description:\"tRNA-Met for anticodon CAU\": Warning: Sequence contains no data \r\n",
        "Error: (1431.1) FASTA-Reader: Warning: FASTA-Reader: No residues given\r\n"
       ]
      },
      {
       "output_type": "stream",
       "stream": "stdout",
       "text": [
        "Warning: lcl|Query_15298 EMSPUT00000000900 cds:pseudogene supercontig:GCA_000002235.2:Scaffold579:477266:477339:-1 gene:EMSPUG00000000900 transcript:EMSPUT00000000900 description:\"tRNA-Met for anticodon CAU\": Warning: Sequence contains no data \r\n"
       ]
      },
      {
       "output_type": "stream",
       "stream": "stdout",
       "text": [
        "Error: (1431.1) FASTA-Reader: Warning: FASTA-Reader: No residues given\r\n"
       ]
      },
      {
       "output_type": "stream",
       "stream": "stdout",
       "text": [
        "Warning: lcl|Query_15335 EMSPUT00000003206 cds:pseudogene supercontig:GCA_000002235.2:Scaffold1110:33339:33597:1 gene:EMSPUG00000003206 transcript:EMSPUT00000003206 description:\"RNase MRP\": Warning: Sequence contains no data \r\n"
       ]
      },
      {
       "output_type": "stream",
       "stream": "stdout",
       "text": [
        "Error: (1431.1) FASTA-Reader: Warning: FASTA-Reader: No residues given\r\n",
        "Error: (1431.1) FASTA-Reader: Warning: FASTA-Reader: No residues given\r\n"
       ]
      },
      {
       "output_type": "stream",
       "stream": "stdout",
       "text": [
        "Warning: lcl|Query_15368 EMSPUT00000003844 cds:pseudogene supercontig:GCA_000002235.2:Scaffold740:54373:54445:-1 gene:EMSPUG00000003844 transcript:EMSPUT00000003844 description:\"tRNA-Ala for anticodon GGC\": Warning: Sequence contains no data \r\n",
        "Warning: lcl|Query_15373 EMSPUT00000007348 cds:pseudogene supercontig:GCA_000002235.2:Scaffold740:114683:114756:-1 gene:EMSPUG00000007348 transcript:EMSPUT00000007348 description:\"tRNA-Ser for anticodon UGA\": Warning: Sequence contains no data \r\n"
       ]
      },
      {
       "output_type": "stream",
       "stream": "stdout",
       "text": [
        "Error: (1431.1) FASTA-Reader: Warning: FASTA-Reader: No residues given\r\n"
       ]
      },
      {
       "output_type": "stream",
       "stream": "stdout",
       "text": [
        "Warning: lcl|Query_15407 EMSPUT00000008072 cds:pseudogene supercontig:GCA_000002235.2:Scaffold233:551653:551725:1 gene:EMSPUG00000008072 transcript:EMSPUT00000008072 description:\"tRNA-Ser for anticodon UGA\": Warning: Sequence contains no data \r\n",
        "Error: (1431.1) FASTA-Reader: Warning: FASTA-Reader: No residues given\r\n"
       ]
      },
      {
       "output_type": "stream",
       "stream": "stdout",
       "text": [
        "Warning: lcl|Query_15420 EMSPUT00000000617 cds:pseudogene supercontig:GCA_000002235.2:Scaffold156:276794:276868:-1 gene:EMSPUG00000000617 transcript:EMSPUT00000000617 description:\"tRNA-Glu for anticodon CUC\": Warning: Sequence contains no data \r\n",
        "Error: (1431.1) FASTA-Reader: Warning: FASTA-Reader: No residues given\r\n",
        "Error: (1431.1) FASTA-Reader: Warning: FASTA-Reader: No residues given\r\n"
       ]
      },
      {
       "output_type": "stream",
       "stream": "stdout",
       "text": [
        "Warning: lcl|Query_15429 EMSPUT00000006279 cds:pseudogene supercontig:GCA_000002235.2:Scaffold156:613897:613969:-1 gene:EMSPUG00000006279 transcript:EMSPUT00000006279 description:\"tRNA-Met for anticodon CAU\": Warning: Sequence contains no data \r\n",
        "Warning: lcl|Query_15437 EMSPUT00000006873 cds:pseudogene supercontig:GCA_000002235.2:Scaffold156:800885:800958:1 gene:EMSPUG00000006873 transcript:EMSPUT00000006873 description:\"tRNA-Ala for anticodon GGC\": Warning: Sequence contains no data \r\n"
       ]
      },
      {
       "output_type": "stream",
       "stream": "stdout",
       "text": [
        "Error: (1431.1) FASTA-Reader: Warning: FASTA-Reader: No residues given\r\n"
       ]
      },
      {
       "output_type": "stream",
       "stream": "stdout",
       "text": [
        "Warning: lcl|Query_15473 EMSPUT00000003601 cds:pseudogene supercontig:GCA_000002235.2:Scaffold29581:3215:3287:-1 gene:EMSPUG00000003601 transcript:EMSPUT00000003601 description:\"tRNA-Met for anticodon CAU\": Warning: Sequence contains no data \r\n"
       ]
      },
      {
       "output_type": "stream",
       "stream": "stdout",
       "text": [
        "Error: (1431.1) FASTA-Reader: Warning: FASTA-Reader: No residues given\r\n",
        "Error: (1431.1) FASTA-Reader: Warning: FASTA-Reader: No residues given\r\n",
        "Error: (1431.1) FASTA-Reader: Warning: FASTA-Reader: No residues given\r\n",
        "Error: (1431.1) FASTA-Reader: Warning: FASTA-Reader: No residues given\r\n",
        "Error: (1431.1) FASTA-Reader: Warning: FASTA-Reader: No residues given\r\n"
       ]
      },
      {
       "output_type": "stream",
       "stream": "stdout",
       "text": [
        "Warning: lcl|Query_15500 EMSPUT00000012615 cds:pseudogene supercontig:GCA_000002235.2:Scaffold123:445540:445611:1 gene:EMSPUG00000012615 transcript:EMSPUT00000012615 description:\"tRNA-Pro for anticodon AGG\": Warning: Sequence contains no data \r\n",
        "Warning: lcl|Query_15501 EMSPUT00000007092 cds:pseudogene supercontig:GCA_000002235.2:Scaffold123:447314:447385:1 gene:EMSPUG00000007092 transcript:EMSPUT00000007092 description:\"tRNA-Pro for anticodon AGG\": Warning: Sequence contains no data \r\n",
        "Warning: lcl|Query_15504 EMSPUT00000005585 cds:pseudogene supercontig:GCA_000002235.2:Scaffold123:487098:487169:-1 gene:EMSPUG00000005585 transcript:EMSPUT00000005585 description:\"tRNA-Pro for anticodon AGG\": Warning: Sequence contains no data \r\n",
        "Warning: lcl|Query_15505 EMSPUT00000014701 cds:pseudogene supercontig:GCA_000002235.2:Scaffold123:489294:489365:-1 gene:EMSPUG00000014701 transcript:EMSPUT00000014701 description:\"tRNA-Pro for anticodon UGG\": Warning: Sequence contains no data \r\n",
        "Warning: lcl|Query_15506 EMSPUT00000002377 cds:pseudogene supercontig:GCA_000002235.2:Scaffold123:491687:491758:-1 gene:EMSPUG00000002377 transcript:EMSPUT00000002377 description:\"tRNA-Pro for anticodon UGG\": Warning: Sequence contains no data \r\n",
        "Error: (1431.1) FASTA-Reader: Warning: FASTA-Reader: No residues given\r\n"
       ]
      },
      {
       "output_type": "stream",
       "stream": "stdout",
       "text": [
        "Warning: lcl|Query_15518 EMSPUT00000005615 cds:pseudogene supercontig:GCA_000002235.2:Scaffold123:965829:965895:-1 gene:EMSPUG00000005615 transcript:EMSPUT00000005615 description:\"tRNA-Glu for anticodon CUC\": Warning: Sequence contains no data \r\n",
        "Error: (1431.1) FASTA-Reader: Warning: FASTA-Reader: No residues given\r\n"
       ]
      },
      {
       "output_type": "stream",
       "stream": "stdout",
       "text": [
        "Warning: lcl|Query_15525 EMSPUT00000011255 cds:pseudogene supercontig:GCA_000002235.2:Scaffold12547:549:623:1 gene:EMSPUG00000011255 transcript:EMSPUT00000011255 description:\"tRNA-His for anticodon AUG\": Warning: Sequence contains no data \r\n"
       ]
      },
      {
       "output_type": "stream",
       "stream": "stdout",
       "text": [
        "Error: (1431.1) FASTA-Reader: Warning: FASTA-Reader: No residues given\r\n"
       ]
      },
      {
       "output_type": "stream",
       "stream": "stdout",
       "text": [
        "Warning: lcl|Query_15554 EMSPUT00000010550 cds:pseudogene supercontig:GCA_000002235.2:Scaffold2413:113:185:1 gene:EMSPUG00000010550 transcript:EMSPUT00000010550 description:\"tRNA-Met for anticodon CAU\": Warning: Sequence contains no data \r\n",
        "Error: (1431.1) FASTA-Reader: Warning: FASTA-Reader: No residues given\r\n",
        "Error: (1431.1) FASTA-Reader: Warning: FASTA-Reader: No residues given\r\n",
        "Error: (1431.1) FASTA-Reader: Warning: FASTA-Reader: No residues given\r\n",
        "Error: (1431.1) FASTA-Reader: Warning: FASTA-Reader: No residues given\r\n",
        "Error: (1431.1) FASTA-Reader: Warning: FASTA-Reader: No residues given\r\n",
        "Error: (1431.1) FASTA-Reader: Warning: FASTA-Reader: No residues given\r\n"
       ]
      },
      {
       "output_type": "stream",
       "stream": "stdout",
       "text": [
        "Warning: lcl|Query_15569 EMSPUT00000004088 cds:pseudogene supercontig:GCA_000002235.2:Scaffold917:232274:232346:-1 gene:EMSPUG00000004088 transcript:EMSPUT00000004088 description:\"tRNA-Met for anticodon CAU\": Warning: Sequence contains no data \r\n",
        "Warning: lcl|Query_15573 EMSPUT00000000204 cds:pseudogene supercontig:GCA_000002235.2:Scaffold6276:1543:1615:1 gene:EMSPUG00000000204 transcript:EMSPUT00000000204 description:\"tRNA-Ala for anticodon AGC\": Warning: Sequence contains no data \r\n",
        "Warning: lcl|Query_15574 EMSPUT00000009450 cds:pseudogene supercontig:GCA_000002235.2:Scaffold6276:2479:2551:1 gene:EMSPUG00000009450 transcript:EMSPUT00000009450 description:\"tRNA-Ala for anticodon AGC\": Warning: Sequence contains no data \r\n",
        "Warning: lcl|Query_15575 EMSPUT00000002863 cds:pseudogene supercontig:GCA_000002235.2:Scaffold6276:3501:3573:1 gene:EMSPUG00000002863 transcript:EMSPUT00000002863 description:\"tRNA-Ala for anticodon AGC\": Warning: Sequence contains no data \r\n",
        "Warning: lcl|Query_15576 EMSPUT00000002693 cds:pseudogene supercontig:GCA_000002235.2:Scaffold6276:4951:5023:1 gene:EMSPUG00000002693 transcript:EMSPUT00000002693 description:\"tRNA-Ala for anticodon AGC\": Warning: Sequence contains no data \r\n",
        "Warning: lcl|Query_15580 EMSPUT00000014250 cds:pseudogene supercontig:GCA_000002235.2:Scaffold1320:35628:35700:-1 gene:EMSPUG00000014250 transcript:EMSPUT00000014250 description:\"tRNA-Met for anticodon CAU\": Warning: Sequence contains no data \r\n"
       ]
      },
      {
       "output_type": "stream",
       "stream": "stdout",
       "text": [
        "Error: (1431.1) FASTA-Reader: Warning: FASTA-Reader: No residues given\r\n"
       ]
      },
      {
       "output_type": "stream",
       "stream": "stdout",
       "text": [
        "Warning: lcl|Query_15615 EMSPUT00000015123 cds:pseudogene supercontig:GCA_000002235.2:Scaffold484:448858:448930:1 gene:EMSPUG00000015123 transcript:EMSPUT00000015123 description:\"tRNA-Met for anticodon CAU\": Warning: Sequence contains no data \r\n"
       ]
      },
      {
       "output_type": "stream",
       "stream": "stdout",
       "text": [
        "Error: (1431.1) FASTA-Reader: Warning: FASTA-Reader: No residues given\r\n",
        "Error: (1431.1) FASTA-Reader: Warning: FASTA-Reader: No residues given\r\n",
        "Error: (1431.1) FASTA-Reader: Warning: FASTA-Reader: No residues given\r\n"
       ]
      },
      {
       "output_type": "stream",
       "stream": "stdout",
       "text": [
        "Warning: lcl|Query_15634 EMSPUT00000008889 cds:pseudogene supercontig:GCA_000002235.2:Scaffold2610:160902:160978:1 gene:EMSPUG00000008889 transcript:EMSPUT00000008889 description:\"tRNA-SeC for anticodon UCA\": Warning: Sequence contains no data \r\n",
        "Warning: lcl|Query_15648 EMSPUT00000014938 cds:pseudogene supercontig:GCA_000002235.2:Scaffold1829:100766:100838:-1 gene:EMSPUG00000014938 transcript:EMSPUT00000014938 description:\"tRNA-Thr for anticodon CGU\": Warning: Sequence contains no data \r\n",
        "Warning: lcl|Query_15650 EMSPUT00000008497 cds:pseudogene supercontig:GCA_000002235.2:Scaffold141:2401:2473:1 gene:EMSPUG00000008497 transcript:EMSPUT00000008497 description:\"tRNA-Asn for anticodon GUU\": Warning: Sequence contains no data \r\n",
        "Error: (1431.1) FASTA-Reader: Warning: FASTA-Reader: No residues given\r\n",
        "Error: (1431.1) FASTA-Reader: Warning: FASTA-Reader: No residues given\r\n",
        "Error: (1431.1) FASTA-Reader: Warning: FASTA-Reader: No residues given\r\n",
        "Error: (1431.1) FASTA-Reader: Warning: FASTA-Reader: No residues given\r\n",
        "Error: (1431.1) FASTA-Reader: Warning: FASTA-Reader: No residues given\r\n",
        "Error: (1431.1) FASTA-Reader: Warning: FASTA-Reader: No residues given\r\n",
        "Error: (1431.1) FASTA-Reader: Warning: FASTA-Reader: No residues given\r\n",
        "Error: (1431.1) FASTA-Reader: Warning: FASTA-Reader: No residues given\r\n"
       ]
      },
      {
       "output_type": "stream",
       "stream": "stdout",
       "text": [
        "Warning: lcl|Query_15661 EMSPUT00000006078 cds:pseudogene supercontig:GCA_000002235.2:Scaffold141:511135:511205:-1 gene:EMSPUG00000006078 transcript:EMSPUT00000006078 description:\"tRNA-His for anticodon GUG\": Warning: Sequence contains no data \r\n",
        "Warning: lcl|Query_15663 EMSPUT00000012603 cds:pseudogene supercontig:GCA_000002235.2:Scaffold141:515978:516052:1 gene:EMSPUG00000012603 transcript:EMSPUT00000012603 description:\"tRNA-Glu for anticodon CUC\": Warning: Sequence contains no data \r\n",
        "Warning: lcl|Query_15666 EMSPUT00000002511 cds:pseudogene supercontig:GCA_000002235.2:Scaffold3359:13912:13983:1 gene:EMSPUG00000002511 transcript:EMSPUT00000002511 description:\"Mammalian CPEB3 ribozyme\": Warning: Sequence contains no data \r\n",
        "Warning: lcl|Query_15667 EMSPUT00000012105 cds:pseudogene supercontig:GCA_000002235.2:Scaffold3359:19196:19267:1 gene:EMSPUG00000012105 transcript:EMSPUT00000012105 description:\"Mammalian CPEB3 ribozyme\": Warning: Sequence contains no data \r\n",
        "Warning: lcl|Query_15670 EMSPUT00000011315 cds:pseudogene supercontig:GCA_000002235.2:Scaffold1780:53980:54053:1 gene:EMSPUG00000011315 transcript:EMSPUT00000011315 description:\"Mammalian CPEB3 ribozyme\": Warning: Sequence contains no data \r\n",
        "Warning: lcl|Query_15671 EMSPUT00000008693 cds:pseudogene supercontig:GCA_000002235.2:Scaffold1780:54701:54774:1 gene:EMSPUG00000008693 transcript:EMSPUT00000008693 description:\"Mammalian CPEB3 ribozyme\": Warning: Sequence contains no data \r\n",
        "Warning: lcl|Query_15672 EMSPUT00000003645 cds:pseudogene supercontig:GCA_000002235.2:Scaffold1780:55563:55636:1 gene:EMSPUG00000003645 transcript:EMSPUT00000003645 description:\"Mammalian CPEB3 ribozyme\": Warning: Sequence contains no data \r\n",
        "Warning: lcl|Query_15673 EMSPUT00000002300 cds:pseudogene supercontig:GCA_000002235.2:Scaffold1780:56400:56473:1 gene:EMSPUG00000002300 transcript:EMSPUT00000002300 description:\"Mammalian CPEB3 ribozyme\": Warning: Sequence contains no data \r\n",
        "Error: (1431.1) FASTA-Reader: Warning: FASTA-Reader: No residues given\r\n",
        "Error: (1431.1) FASTA-Reader: Warning: FASTA-Reader: No residues given\r\n",
        "Error: (1431.1) FASTA-Reader: Warning: FASTA-Reader: No residues given\r\n",
        "Error: (1431.1) FASTA-Reader: Warning: FASTA-Reader: No residues given\r\n",
        "Error: (1431.1) FASTA-Reader: Warning: FASTA-Reader: No residues given\r\n"
       ]
      },
      {
       "output_type": "stream",
       "stream": "stdout",
       "text": [
        "Warning: lcl|Query_15688 EMSPUT00000009010 cds:pseudogene supercontig:GCA_000002235.2:Scaffold1134:55173:55245:1 gene:EMSPUG00000009010 transcript:EMSPUT00000009010 description:\"tRNA-Met for anticodon CAU\": Warning: Sequence contains no data \r\n",
        "Warning: lcl|Query_15689 SPU_030153-tr cds:pseudogene supercontig:GCA_000002235.2:Scaffold1134:141288:147603:1 gene:SPU_030153 transcript:SPU_030153-tr: Warning: Sequence contains no data \r\n",
        "Warning: lcl|Query_15690 EMSPUT00000008866 cds:pseudogene supercontig:GCA_000002235.2:Scaffold1134:173701:173766:-1 gene:EMSPUG00000008866 transcript:EMSPUT00000008866 description:\"tRNA-Ala for anticodon GGC\": Warning: Sequence contains no data \r\n",
        "Warning: lcl|Query_15692 EMSPUT00000004478 cds:pseudogene supercontig:GCA_000002235.2:Scaffold1134:253134:253207:1 gene:EMSPUG00000004478 transcript:EMSPUT00000004478 description:\"Mammalian CPEB3 ribozyme\": Warning: Sequence contains no data \r\n",
        "Warning: lcl|Query_15693 EMSPUT00000002459 cds:pseudogene supercontig:GCA_000002235.2:Scaffold1134:254025:254098:1 gene:EMSPUG00000002459 transcript:EMSPUT00000002459 description:\"Mammalian CPEB3 ribozyme\": Warning: Sequence contains no data \r\n"
       ]
      },
      {
       "output_type": "stream",
       "stream": "stdout",
       "text": [
        "Error: (1431.1) FASTA-Reader: Warning: FASTA-Reader: No residues given\r\n"
       ]
      },
      {
       "output_type": "stream",
       "stream": "stdout",
       "text": [
        "Warning: lcl|Query_15707 EMSPUT00000008340 cds:pseudogene supercontig:GCA_000002235.2:Scaffold239:294064:294130:1 gene:EMSPUG00000008340 transcript:EMSPUT00000008340 description:\"tRNA-Ser for anticodon UGA\": Warning: Sequence contains no data \r\n"
       ]
      },
      {
       "output_type": "stream",
       "stream": "stdout",
       "text": [
        "Error: (1431.1) FASTA-Reader: Warning: FASTA-Reader: No residues given\r\n"
       ]
      },
      {
       "output_type": "stream",
       "stream": "stdout",
       "text": [
        "Warning: lcl|Query_15752 EMSPUT00000013335 cds:pseudogene supercontig:GCA_000002235.2:Scaffold1118:167630:167701:-1 gene:EMSPUG00000013335 transcript:EMSPUT00000013335 description:\"tRNA-Ala for anticodon GGC\": Warning: Sequence contains no data \r\n",
        "Error: (1431.1) FASTA-Reader: Warning: FASTA-Reader: No residues given\r\n"
       ]
      },
      {
       "output_type": "stream",
       "stream": "stdout",
       "text": [
        "Warning: lcl|Query_15773 EMSPUT00000005981 cds:pseudogene supercontig:GCA_000002235.2:Scaffold1086:128711:128783:-1 gene:EMSPUG00000005981 transcript:EMSPUT00000005981 description:\"tRNA-Met for anticodon CAU\": Warning: Sequence contains no data \r\n"
       ]
      },
      {
       "output_type": "stream",
       "stream": "stdout",
       "text": [
        "Error: (1431.1) FASTA-Reader: Warning: FASTA-Reader: No residues given\r\n",
        "Error: (1431.1) FASTA-Reader: Warning: FASTA-Reader: No residues given\r\n",
        "Error: (1431.1) FASTA-Reader: Warning: FASTA-Reader: No residues given\r\n",
        "Error: (1431.1) FASTA-Reader: Warning: FASTA-Reader: No residues given\r\n",
        "Error: (1431.1) FASTA-Reader: Warning: FASTA-Reader: No residues given\r\n"
       ]
      },
      {
       "output_type": "stream",
       "stream": "stdout",
       "text": [
        "Warning: lcl|Query_15799 EMSPUT00000006405 cds:pseudogene supercontig:GCA_000002235.2:Scaffold481:176819:176891:-1 gene:EMSPUG00000006405 transcript:EMSPUT00000006405 description:\"tRNA-Ala for anticodon AGC\": Warning: Sequence contains no data \r\n",
        "Warning: lcl|Query_15800 EMSPUT00000014127 cds:pseudogene supercontig:GCA_000002235.2:Scaffold481:178282:178354:-1 gene:EMSPUG00000014127 transcript:EMSPUT00000014127 description:\"tRNA-Ala for anticodon AGC\": Warning: Sequence contains no data \r\n",
        "Warning: lcl|Query_15801 EMSPUT00000005179 cds:pseudogene supercontig:GCA_000002235.2:Scaffold481:197688:197760:-1 gene:EMSPUG00000005179 transcript:EMSPUT00000005179 description:\"tRNA-Ala for anticodon AGC\": Warning: Sequence contains no data \r\n",
        "Warning: lcl|Query_15804 EMSPUT00000007337 cds:pseudogene supercontig:GCA_000002235.2:Scaffold481:548707:548779:1 gene:EMSPUG00000007337 transcript:EMSPUT00000007337 description:\"tRNA-Ile for anticodon GAU\": Warning: Sequence contains no data \r\n",
        "Warning: lcl|Query_15805 EMSPUT00000011251 cds:pseudogene supercontig:GCA_000002235.2:Scaffold24773:515:587:-1 gene:EMSPUG00000011251 transcript:EMSPUT00000011251 description:\"tRNA-Met for anticodon CAU\": Warning: Sequence contains no data \r\n"
       ]
      },
      {
       "output_type": "stream",
       "stream": "stdout",
       "text": [
        "Error: (1431.1) FASTA-Reader: Warning: FASTA-Reader: No residues given\r\n"
       ]
      },
      {
       "output_type": "stream",
       "stream": "stdout",
       "text": [
        "Warning: lcl|Query_15899 SPU_009829-tr cds:pseudogene supercontig:GCA_000002235.2:Scaffold2058:62179:64843:-1 gene:SPU_009829 transcript:SPU_009829-tr: Warning: Sequence contains no data \r\n"
       ]
      },
      {
       "output_type": "stream",
       "stream": "stdout",
       "text": [
        "Error: (1431.1) FASTA-Reader: Warning: FASTA-Reader: No residues given\r\n",
        "Error: (1431.1) FASTA-Reader: Warning: FASTA-Reader: No residues given\r\n"
       ]
      },
      {
       "output_type": "stream",
       "stream": "stdout",
       "text": [
        "Warning: lcl|Query_15950 EMSPUT00000012732 cds:pseudogene supercontig:GCA_000002235.2:Scaffold911:321532:321596:1 gene:EMSPUG00000012732 transcript:EMSPUT00000012732 description:\"tRNA-Ser for anticodon UGA\": Warning: Sequence contains no data \r\n",
        "Warning: lcl|Query_15951 SPU_030020-tr cds:pseudogene supercontig:GCA_000002235.2:Scaffold911:389471:390556:-1 gene:SPU_030020 transcript:SPU_030020-tr: Warning: Sequence contains no data \r\n",
        "Error: (1431.1) FASTA-Reader: Warning: FASTA-Reader: No residues given\r\n"
       ]
      },
      {
       "output_type": "stream",
       "stream": "stdout",
       "text": [
        "Warning: lcl|Query_15959 EMSPUT00000007510 cds:pseudogene supercontig:GCA_000002235.2:Scaffold5931:274:347:1 gene:EMSPUG00000007510 transcript:EMSPUT00000007510 description:\"Mammalian CPEB3 ribozyme\": Warning: Sequence contains no data \r\n"
       ]
      },
      {
       "output_type": "stream",
       "stream": "stdout",
       "text": [
        "Error: (1431.1) FASTA-Reader: Warning: FASTA-Reader: No residues given\r\n",
        "Error: (1431.1) FASTA-Reader: Warning: FASTA-Reader: No residues given\r\n"
       ]
      },
      {
       "output_type": "stream",
       "stream": "stdout",
       "text": [
        "Warning: lcl|Query_15992 EMSPUT00000011384 cds:pseudogene supercontig:GCA_000002235.2:Scaffold1293:63769:63850:-1 gene:EMSPUG00000011384 transcript:EMSPUT00000011384 description:\"tRNA-Ser for anticodon GCU\": Warning: Sequence contains no data \r\n",
        "Warning: lcl|Query_15993 EMSPUT00000006788 cds:pseudogene supercontig:GCA_000002235.2:Scaffold1293:70671:70743:1 gene:EMSPUG00000006788 transcript:EMSPUT00000006788 description:\"tRNA-Lys for anticodon UUU\": Warning: Sequence contains no data \r\n",
        "Error: (1431.1) FASTA-Reader: Warning: FASTA-Reader: No residues given\r\n"
       ]
      },
      {
       "output_type": "stream",
       "stream": "stdout",
       "text": [
        "Warning: lcl|Query_16016 EMSPUT00000006588 cds:pseudogene supercontig:GCA_000002235.2:Scaffold236:441760:441824:1 gene:EMSPUG00000006588 transcript:EMSPUT00000006588 description:\"tRNA-Ser for anticodon UGA\": Warning: Sequence contains no data \r\n",
        "Error: (1431.1) FASTA-Reader: Warning: FASTA-Reader: No residues given\r\n"
       ]
      },
      {
       "output_type": "stream",
       "stream": "stdout",
       "text": [
        "Warning: lcl|Query_16046 SPU_021184-tr cds:pseudogene supercontig:GCA_000002235.2:Scaffold665:218514:251303:-1 gene:SPU_021184 transcript:SPU_021184-tr: Warning: Sequence contains no data \r\n",
        "Error: (1431.1) FASTA-Reader: Warning: FASTA-Reader: No residues given\r\n"
       ]
      },
      {
       "output_type": "stream",
       "stream": "stdout",
       "text": [
        "Warning: lcl|Query_16050 EMSPUT00000000752 cds:pseudogene supercontig:GCA_000002235.2:Scaffold2715:14582:14651:-1 gene:EMSPUG00000000752 transcript:EMSPUT00000000752 description:\"Mammalian CPEB3 ribozyme\": Warning: Sequence contains no data \r\n"
       ]
      },
      {
       "output_type": "stream",
       "stream": "stdout",
       "text": [
        "Error: (1431.1) FASTA-Reader: Warning: FASTA-Reader: No residues given\r\n",
        "Error: (1431.1) FASTA-Reader: Warning: FASTA-Reader: No residues given\r\n"
       ]
      },
      {
       "output_type": "stream",
       "stream": "stdout",
       "text": [
        "Warning: lcl|Query_16084 EMSPUT00000008364 cds:pseudogene supercontig:GCA_000002235.2:Scaffold535:16830:16902:1 gene:EMSPUG00000008364 transcript:EMSPUT00000008364 description:\"tRNA-Lys for anticodon UUU\": Warning: Sequence contains no data \r\n",
        "Warning: lcl|Query_16095 EMSPUT00000012825 cds:pseudogene supercontig:GCA_000002235.2:Scaffold535:573802:573874:-1 gene:EMSPUG00000012825 transcript:EMSPUT00000012825 description:\"tRNA-Ala for anticodon GGC\": Warning: Sequence contains no data \r\n"
       ]
      },
      {
       "output_type": "stream",
       "stream": "stdout",
       "text": [
        "Error: (1431.1) FASTA-Reader: Warning: FASTA-Reader: No residues given\r\n",
        "Error: (1431.1) FASTA-Reader: Warning: FASTA-Reader: No residues given\r\n"
       ]
      },
      {
       "output_type": "stream",
       "stream": "stdout",
       "text": [
        "Warning: lcl|Query_16124 EMSPUT00000003022 cds:pseudogene supercontig:GCA_000002235.2:Scaffold882:204530:204600:-1 gene:EMSPUG00000003022 transcript:EMSPUT00000003022 description:\"tRNA-Gly for anticodon CCC\": Warning: Sequence contains no data \r\n",
        "Warning: lcl|Query_16126 EMSPUT00000010174 cds:pseudogene supercontig:GCA_000002235.2:Scaffold882:223446:223517:-1 gene:EMSPUG00000010174 transcript:EMSPUT00000010174 description:\"tRNA-Glu for anticodon CUC\": Warning: Sequence contains no data \r\n",
        "Error: (1431.1) FASTA-Reader: Warning: FASTA-Reader: No residues given\r\n"
       ]
      },
      {
       "output_type": "stream",
       "stream": "stdout",
       "text": [
        "Warning: lcl|Query_16139 EMSPUT00000011303 cds:pseudogene supercontig:GCA_000002235.2:Scaffold426:69943:70011:-1 gene:EMSPUG00000011303 transcript:EMSPUT00000011303 description:\"tRNA-Ser for anticodon UGA\": Warning: Sequence contains no data \r\n",
        "Error: (1431.1) FASTA-Reader: Warning: FASTA-Reader: No residues given\r\n",
        "Error: (1431.1) FASTA-Reader: Warning: FASTA-Reader: No residues given\r\n",
        "Error: (1431.1) FASTA-Reader: Warning: FASTA-Reader: No residues given\r\n",
        "Error: (1431.1) FASTA-Reader: Warning: FASTA-Reader: No residues given\r\n"
       ]
      },
      {
       "output_type": "stream",
       "stream": "stdout",
       "text": [
        "Warning: lcl|Query_16157 EMSPUT00000009670 cds:pseudogene supercontig:GCA_000002235.2:Scaffold426:440345:440417:1 gene:EMSPUG00000009670 transcript:EMSPUT00000009670 description:\"tRNA-Met for anticodon CAU\": Warning: Sequence contains no data \r\n",
        "Warning: lcl|Query_16163 EMSPUT00000011023 cds:pseudogene supercontig:GCA_000002235.2:Scaffold207:38793:38865:-1 gene:EMSPUG00000011023 transcript:EMSPUT00000011023 description:\"tRNA-Met for anticodon CAU\": Warning: Sequence contains no data \r\n",
        "Warning: lcl|Query_16164 EMSPUT00000008126 cds:pseudogene supercontig:GCA_000002235.2:Scaffold207:46176:46248:1 gene:EMSPUG00000008126 transcript:EMSPUT00000008126 description:\"tRNA-Ser for anticodon ACU\": Warning: Sequence contains no data \r\n",
        "Warning: lcl|Query_16165 EMSPUT00000001027 cds:pseudogene supercontig:GCA_000002235.2:Scaffold207:47426:47498:1 gene:EMSPUG00000001027 transcript:EMSPUT00000001027 description:\"tRNA-Ser for anticodon ACU\": Warning: Sequence contains no data \r\n"
       ]
      },
      {
       "output_type": "stream",
       "stream": "stdout",
       "text": [
        "Error: (1431.1) FASTA-Reader: Warning: FASTA-Reader: No residues given\r\n"
       ]
      },
      {
       "output_type": "stream",
       "stream": "stdout",
       "text": [
        "Warning: lcl|Query_16207 EMSPUT00000001371 cds:pseudogene supercontig:GCA_000002235.2:Scaffold157:236381:236455:-1 gene:EMSPUG00000001371 transcript:EMSPUT00000001371 description:\"tRNA-Asn for anticodon GUU\": Warning: Sequence contains no data \r\n"
       ]
      },
      {
       "output_type": "stream",
       "stream": "stdout",
       "text": [
        "Error: (1431.1) FASTA-Reader: Warning: FASTA-Reader: No residues given\r\n"
       ]
      },
      {
       "output_type": "stream",
       "stream": "stdout",
       "text": [
        "Warning: lcl|Query_16240 EMSPUT00000007834 cds:pseudogene supercontig:GCA_000002235.2:Scaffold26911:738:810:1 gene:EMSPUG00000007834 transcript:EMSPUT00000007834 description:\"tRNA-Lys for anticodon UUU\": Warning: Sequence contains no data \r\n",
        "Error: (1431.1) FASTA-Reader: Warning: FASTA-Reader: No residues given\r\n"
       ]
      },
      {
       "output_type": "stream",
       "stream": "stdout",
       "text": [
        "Warning: lcl|Query_16257 EMSPUT00000007407 cds:pseudogene supercontig:GCA_000002235.2:Scaffold339:168113:168184:-1 gene:EMSPUG00000007407 transcript:EMSPUT00000007407 description:\"tRNA-His for anticodon GUG\": Warning: Sequence contains no data \r\n",
        "Error: (1431.1) FASTA-Reader: Warning: FASTA-Reader: No residues given\r\n"
       ]
      },
      {
       "output_type": "stream",
       "stream": "stdout",
       "text": [
        "Error: (1431.1) FASTA-Reader: Warning: FASTA-Reader: No residues given\r\n",
        "Error: (1431.1) FASTA-Reader: Warning: FASTA-Reader: No residues given\r\n"
       ]
      },
      {
       "output_type": "stream",
       "stream": "stdout",
       "text": [
        "Warning: lcl|Query_16267 EMSPUT00000014896 cds:pseudogene supercontig:GCA_000002235.2:Scaffold339:482118:482189:1 gene:EMSPUG00000014896 transcript:EMSPUT00000014896 description:\"tRNA-His for anticodon GUG\": Warning: Sequence contains no data \r\n",
        "Warning: lcl|Query_16268 EMSPUT00000013077 cds:pseudogene supercontig:GCA_000002235.2:Scaffold339:482529:482600:1 gene:EMSPUG00000013077 transcript:EMSPUT00000013077 description:\"tRNA-His for anticodon GUG\": Warning: Sequence contains no data \r\n",
        "Warning: lcl|Query_16269 EMSPUT00000010058 cds:pseudogene supercontig:GCA_000002235.2:Scaffold339:483000:483071:1 gene:EMSPUG00000010058 transcript:EMSPUT00000010058 description:\"tRNA-His for anticodon GUG\": Warning: Sequence contains no data \r\n"
       ]
      },
      {
       "output_type": "stream",
       "stream": "stdout",
       "text": [
        "Error: (1431.1) FASTA-Reader: Warning: FASTA-Reader: No residues given\r\n",
        "Error: (1431.1) FASTA-Reader: Warning: FASTA-Reader: No residues given\r\n"
       ]
      },
      {
       "output_type": "stream",
       "stream": "stdout",
       "text": [
        "Warning: lcl|Query_16297 SPU_030121-tr cds:pseudogene supercontig:GCA_000002235.2:Scaffold808:128730:129362:1 gene:SPU_030121 transcript:SPU_030121-tr: Warning: Sequence contains no data \r\n",
        "Warning: lcl|Query_16301 EMSPUT00000008437 cds:pseudogene supercontig:GCA_000002235.2:Scaffold1646:81110:81182:1 gene:EMSPUG00000008437 transcript:EMSPUT00000008437 description:\"tRNA-Met for anticodon CAU\": Warning: Sequence contains no data \r\n"
       ]
      },
      {
       "output_type": "stream",
       "stream": "stdout",
       "text": [
        "Error: (1431.1) FASTA-Reader: Warning: FASTA-Reader: No residues given\r\n"
       ]
      },
      {
       "output_type": "stream",
       "stream": "stdout",
       "text": [
        "Warning: lcl|Query_16332 EMSPUT00000006681 cds:pseudogene supercontig:GCA_000002235.2:Scaffold4063:4735:4809:1 gene:EMSPUG00000006681 transcript:EMSPUT00000006681 description:\"tRNA-Ala for anticodon AGC\": Warning: Sequence contains no data \r\n"
       ]
      },
      {
       "output_type": "stream",
       "stream": "stdout",
       "text": [
        "Error: (1431.1) FASTA-Reader: Warning: FASTA-Reader: No residues given\r\n"
       ]
      },
      {
       "output_type": "stream",
       "stream": "stdout",
       "text": [
        "Warning: lcl|Query_16365 EMSPUT00000008968 cds:pseudogene supercontig:GCA_000002235.2:Scaffold632:218886:218958:1 gene:EMSPUG00000008968 transcript:EMSPUT00000008968 description:\"tRNA-Met for anticodon CAU\": Warning: Sequence contains no data \r\n",
        "Error: (1431.1) FASTA-Reader: Warning: FASTA-Reader: No residues given\r\n",
        "Error: (1431.1) FASTA-Reader: Warning: FASTA-Reader: No residues given\r\n"
       ]
      },
      {
       "output_type": "stream",
       "stream": "stdout",
       "text": [
        "Warning: lcl|Query_16368 EMSPUT00000008100 cds:pseudogene supercontig:GCA_000002235.2:Scaffold632:292881:292953:-1 gene:EMSPUG00000008100 transcript:EMSPUT00000008100 description:\"tRNA-Met for anticodon CAU\": Warning: Sequence contains no data \r\n",
        "Warning: lcl|Query_16378 EMSPUT00000004716 cds:pseudogene supercontig:GCA_000002235.2:Scaffold632:488453:488523:1 gene:EMSPUG00000004716 transcript:EMSPUT00000004716 description:\"tRNA-Arg for anticodon UCU\": Warning: Sequence contains no data \r\n",
        "Error: (1431.1) FASTA-Reader: Warning: FASTA-Reader: No residues given\r\n"
       ]
      },
      {
       "output_type": "stream",
       "stream": "stdout",
       "text": [
        "Warning: lcl|Query_16382 EMSPUT00000003439 cds:pseudogene supercontig:GCA_000002235.2:Scaffold632:529667:529746:1 gene:EMSPUG00000003439 transcript:EMSPUT00000003439 description:\"tRNA-Asp for anticodon GUC\": Warning: Sequence contains no data \r\n",
        "Error: (1431.1) FASTA-Reader: Warning: FASTA-Reader: No residues given\r\n",
        "Error: (1431.1) FASTA-Reader: Warning: FASTA-Reader: No residues given\r\n"
       ]
      },
      {
       "output_type": "stream",
       "stream": "stdout",
       "text": [
        "Warning: lcl|Query_16400 EMSPUT00000003290 cds:pseudogene supercontig:GCA_000002235.2:Scaffold6573:8147:8221:1 gene:EMSPUG00000003290 transcript:EMSPUT00000003290 description:\"tRNA-His for anticodon GUG\": Warning: Sequence contains no data \r\n",
        "Warning: lcl|Query_16410 EMSPUT00000002515 cds:pseudogene supercontig:GCA_000002235.2:Scaffold577:153203:153275:-1 gene:EMSPUG00000002515 transcript:EMSPUT00000002515 description:\"tRNA-Met for anticodon CAU\": Warning: Sequence contains no data \r\n",
        "Error: (1431.1) FASTA-Reader: Warning: FASTA-Reader: No residues given\r\n",
        "Error: (1431.1) FASTA-Reader: Warning: FASTA-Reader: No residues given\r\n"
       ]
      },
      {
       "output_type": "stream",
       "stream": "stdout",
       "text": [
        "Warning: lcl|Query_16416 EMSPUT00000003922 cds:pseudogene supercontig:GCA_000002235.2:Scaffold577:499366:499438:1 gene:EMSPUG00000003922 transcript:EMSPUT00000003922 description:\"tRNA-Met for anticodon CAU\": Warning: Sequence contains no data \r\n",
        "Warning: lcl|Query_16432 EMSPUT00000006745 cds:pseudogene supercontig:GCA_000002235.2:Scaffold747:232289:232361:-1 gene:EMSPUG00000006745 transcript:EMSPUT00000006745 description:\"tRNA-Met for anticodon CAU\": Warning: Sequence contains no data \r\n",
        "Error: (1431.1) FASTA-Reader: Warning: FASTA-Reader: No residues given\r\n",
        "Error: (1431.1) FASTA-Reader: Warning: FASTA-Reader: No residues given\r\n",
        "Error: (1431.1) FASTA-Reader: Warning: FASTA-Reader: No residues given\r\n",
        "Error: (1431.1) FASTA-Reader: Warning: FASTA-Reader: No residues given\r\n",
        "Error: (1431.1) FASTA-Reader: Warning: FASTA-Reader: No residues given\r\n",
        "Error: (1431.1) FASTA-Reader: Warning: FASTA-Reader: No residues given\r\n",
        "Error: (1431.1) FASTA-Reader: Warning: FASTA-Reader: No residues given\r\n"
       ]
      },
      {
       "output_type": "stream",
       "stream": "stdout",
       "text": [
        "Warning: lcl|Query_16434 EMSPUT00000015512 cds:pseudogene supercontig:GCA_000002235.2:Scaffold747:237409:237481:-1 gene:EMSPUG00000015512 transcript:EMSPUT00000015512 description:\"tRNA-Met for anticodon CAU\": Warning: Sequence contains no data \r\n",
        "Warning: lcl|Query_16436 EMSPUT00000002699 cds:pseudogene supercontig:GCA_000002235.2:Scaffold747:257850:257922:1 gene:EMSPUG00000002699 transcript:EMSPUT00000002699 description:\"tRNA-Lys for anticodon UUU\": Warning: Sequence contains no data \r\n",
        "Warning: lcl|Query_16438 EMSPUT00000011427 cds:pseudogene supercontig:GCA_000002235.2:Scaffold747:299420:299492:1 gene:EMSPUG00000011427 transcript:EMSPUT00000011427 description:\"tRNA-Lys for anticodon CUU\": Warning: Sequence contains no data \r\n",
        "Warning: lcl|Query_16439 EMSPUT00000003064 cds:pseudogene supercontig:GCA_000002235.2:Scaffold747:335148:335220:-1 gene:EMSPUG00000003064 transcript:EMSPUT00000003064 description:\"tRNA-Lys for anticodon UUU\": Warning: Sequence contains no data \r\n",
        "Warning: lcl|Query_16440 EMSPUT00000009826 cds:pseudogene supercontig:GCA_000002235.2:Scaffold747:340504:340576:1 gene:EMSPUG00000009826 transcript:EMSPUT00000009826 description:\"tRNA-Lys for anticodon UUU\": Warning: Sequence contains no data \r\n",
        "Warning: lcl|Query_16447 EMSPUT00000007300 cds:pseudogene supercontig:GCA_000002235.2:Scaffold114:8872:8946:-1 gene:EMSPUG00000007300 transcript:EMSPUT00000007300 description:\"tRNA-Glu for anticodon CUC\": Warning: Sequence contains no data \r\n",
        "Warning: lcl|Query_16449 EMSPUT00000013347 cds:pseudogene supercontig:GCA_000002235.2:Scaffold114:106835:106907:1 gene:EMSPUG00000013347 transcript:EMSPUT00000013347 description:\"tRNA-Met for anticodon CAU\": Warning: Sequence contains no data \r\n"
       ]
      },
      {
       "output_type": "stream",
       "stream": "stdout",
       "text": [
        "Error: (1431.1) FASTA-Reader: Warning: FASTA-Reader: No residues given\r\n",
        "Error: (1431.1) FASTA-Reader: Warning: FASTA-Reader: No residues given\r\n"
       ]
      },
      {
       "output_type": "stream",
       "stream": "stdout",
       "text": [
        "Warning: lcl|Query_16497 EMSPUT00000014910 cds:pseudogene supercontig:GCA_000002235.2:Scaffold561:312259:312330:1 gene:EMSPUG00000014910 transcript:EMSPUT00000014910 description:\"tRNA-Glu for anticodon CUC\": Warning: Sequence contains no data \r\n",
        "Warning: lcl|Query_16498 EMSPUT00000006132 cds:pseudogene supercontig:GCA_000002235.2:Scaffold561:313868:313939:1 gene:EMSPUG00000006132 transcript:EMSPUT00000006132 description:\"tRNA-Glu for anticodon CUC\": Warning: Sequence contains no data \r\n",
        "Error: (1431.1) FASTA-Reader: Warning: FASTA-Reader: No residues given\r\n"
       ]
      },
      {
       "output_type": "stream",
       "stream": "stdout",
       "text": [
        "Warning: lcl|Query_16517 EMSPUT00000010787 cds:pseudogene supercontig:GCA_000002235.2:Scaffold6:189894:189966:1 gene:EMSPUG00000010787 transcript:EMSPUT00000010787 description:\"tRNA-Arg for anticodon ACG\": Warning: Sequence contains no data \r\n",
        "Error: (1431.1) FASTA-Reader: Warning: FASTA-Reader: No residues given\r\n",
        "Error: (1431.1) FASTA-Reader: Warning: FASTA-Reader: No residues given\r\n",
        "Error: (1431.1) FASTA-Reader: Warning: FASTA-Reader: No residues given\r\n"
       ]
      },
      {
       "output_type": "stream",
       "stream": "stdout",
       "text": [
        "Warning: lcl|Query_16525 EMSPUT00000014096 cds:pseudogene supercontig:GCA_000002235.2:Scaffold6:359778:359852:1 gene:EMSPUG00000014096 transcript:EMSPUT00000014096 description:\"tRNA-His for anticodon GUG\": Warning: Sequence contains no data \r\n",
        "Warning: lcl|Query_16527 EMSPUT00000004521 cds:pseudogene supercontig:GCA_000002235.2:Scaffold6:398410:398483:1 gene:EMSPUG00000004521 transcript:EMSPUT00000004521 description:\"tRNA-Asn for anticodon GUU\": Warning: Sequence contains no data \r\n",
        "Warning: lcl|Query_16528 EMSPUT00000001723 cds:pseudogene supercontig:GCA_000002235.2:Scaffold6:402906:402979:1 gene:EMSPUG00000001723 transcript:EMSPUT00000001723 description:\"tRNA-Asn for anticodon GUU\": Warning: Sequence contains no data \r\n"
       ]
      },
      {
       "output_type": "stream",
       "stream": "stdout",
       "text": [
        "Error: (1431.1) FASTA-Reader: Warning: FASTA-Reader: No residues given\r\n"
       ]
      },
      {
       "output_type": "stream",
       "stream": "stdout",
       "text": [
        "Warning: lcl|Query_16599 EMSPUT00000011461 cds:pseudogene supercontig:GCA_000002235.2:Scaffold1114:73346:73418:1 gene:EMSPUG00000011461 transcript:EMSPUT00000011461 description:\"tRNA-Met for anticodon CAU\": Warning: Sequence contains no data \r\n",
        "Error: (1431.1) FASTA-Reader: Warning: FASTA-Reader: No residues given\r\n",
        "Error: (1431.1) FASTA-Reader: Warning: FASTA-Reader: No residues given\r\n"
       ]
      },
      {
       "output_type": "stream",
       "stream": "stdout",
       "text": [
        "Warning: lcl|Query_16617 EMSPUT00000012957 cds:pseudogene supercontig:GCA_000002235.2:Scaffold1312:80499:80758:-1 gene:EMSPUG00000012957 transcript:EMSPUT00000012957 description:\"RNase MRP\": Warning: Sequence contains no data \r\n",
        "Warning: lcl|Query_16618 EMSPUT00000006215 cds:pseudogene supercontig:GCA_000002235.2:Scaffold1312:91598:91857:-1 gene:EMSPUG00000006215 transcript:EMSPUT00000006215 description:\"RNase MRP\": Warning: Sequence contains no data \r\n",
        "Error: (1431.1) FASTA-Reader: Warning: FASTA-Reader: No residues given\r\n",
        "Error: (1431.1) FASTA-Reader: Warning: FASTA-Reader: No residues given\r\n"
       ]
      },
      {
       "output_type": "stream",
       "stream": "stdout",
       "text": [
        "Warning: lcl|Query_16642 EMSPUT00000014830 cds:pseudogene supercontig:GCA_000002235.2:Scaffold183:216063:216134:-1 gene:EMSPUG00000014830 transcript:EMSPUT00000014830 description:\"tRNA-Lys for anticodon CUU\": Warning: Sequence contains no data \r\n",
        "Warning: lcl|Query_16647 EMSPUT00000002606 cds:pseudogene supercontig:GCA_000002235.2:Scaffold183:309496:309568:1 gene:EMSPUG00000002606 transcript:EMSPUT00000002606 description:\"tRNA-Thr for anticodon AGU\": Warning: Sequence contains no data \r\n"
       ]
      },
      {
       "output_type": "stream",
       "stream": "stdout",
       "text": [
        "Error: (1431.1) FASTA-Reader: Warning: FASTA-Reader: No residues given\r\n"
       ]
      },
      {
       "output_type": "stream",
       "stream": "stdout",
       "text": [
        "Warning: lcl|Query_16695 EMSPUT00000008472 cds:pseudogene supercontig:GCA_000002235.2:Scaffold1010:32159:32232:1 gene:EMSPUG00000008472 transcript:EMSPUT00000008472 description:\"tRNA-Ala for anticodon GGC\": Warning: Sequence contains no data \r\n"
       ]
      },
      {
       "output_type": "stream",
       "stream": "stdout",
       "text": [
        "Error: (1431.1) FASTA-Reader: Warning: FASTA-Reader: No residues given\r\n",
        "Error: (1431.1) FASTA-Reader: Warning: FASTA-Reader: No residues given\r\n"
       ]
      },
      {
       "output_type": "stream",
       "stream": "stdout",
       "text": [
        "Warning: lcl|Query_16734 EMSPUT00000002289 cds:pseudogene supercontig:GCA_000002235.2:Scaffold3003:6337:6410:-1 gene:EMSPUG00000002289 transcript:EMSPUT00000002289 description:\"Mammalian CPEB3 ribozyme\": Warning: Sequence contains no data \r\n",
        "Warning: lcl|Query_16737 EMSPUT00000007429 cds:pseudogene supercontig:GCA_000002235.2:Scaffold3003:74380:74453:1 gene:EMSPUG00000007429 transcript:EMSPUT00000007429 description:\"tRNA-Arg for anticodon UCU\": Warning: Sequence contains no data \r\n",
        "Error: (1431.1) FASTA-Reader: Warning: FASTA-Reader: No residues given\r\n"
       ]
      },
      {
       "output_type": "stream",
       "stream": "stdout",
       "text": [
        "Warning: lcl|Query_16755 EMSPUT00000009980 cds:pseudogene supercontig:GCA_000002235.2:Scaffold6961:398:470:-1 gene:EMSPUG00000009980 transcript:EMSPUT00000009980 description:\"tRNA-Met for anticodon CAU\": Warning: Sequence contains no data \r\n",
        "Error: (1431.1) FASTA-Reader: Warning: FASTA-Reader: No residues given\r\n",
        "Error: (1431.1) FASTA-Reader: Warning: FASTA-Reader: No residues given\r\n"
       ]
      },
      {
       "output_type": "stream",
       "stream": "stdout",
       "text": [
        "Warning: lcl|Query_16769 EMSPUT00000005432 cds:pseudogene supercontig:GCA_000002235.2:Scaffold2104:28363:28433:-1 gene:EMSPUG00000005432 transcript:EMSPUT00000005432 description:\"tRNA-Gly for anticodon CCC\": Warning: Sequence contains no data \r\n",
        "Warning: lcl|Query_16781 EMSPUT00000008964 cds:pseudogene supercontig:GCA_000002235.2:Scaffold2471:57554:57626:1 gene:EMSPUG00000008964 transcript:EMSPUT00000008964 description:\"tRNA-Met for anticodon CAU\": Warning: Sequence contains no data \r\n",
        "Error: (1431.1) FASTA-Reader: Warning: FASTA-Reader: No residues given\r\n",
        "Error: (1431.1) FASTA-Reader: Warning: FASTA-Reader: No residues given\r\n"
       ]
      },
      {
       "output_type": "stream",
       "stream": "stdout",
       "text": [
        "Warning: lcl|Query_16784 EMSPUT00000010419 cds:pseudogene supercontig:GCA_000002235.2:Scaffold3469:46939:47011:-1 gene:EMSPUG00000010419 transcript:EMSPUT00000010419 description:\"tRNA-Met for anticodon CAU\": Warning: Sequence contains no data \r\n",
        "Warning: lcl|Query_16792 EMSPUT00000004567 cds:pseudogene supercontig:GCA_000002235.2:Scaffold3916:25201:25273:1 gene:EMSPUG00000004567 transcript:EMSPUT00000004567 description:\"tRNA-Met for anticodon CAU\": Warning: Sequence contains no data \r\n",
        "Error: (1431.1) FASTA-Reader: Warning: FASTA-Reader: No residues given\r\n"
       ]
      },
      {
       "output_type": "stream",
       "stream": "stdout",
       "text": [
        "Warning: lcl|Query_16806 SPU_024386-tr cds:pseudogene supercontig:GCA_000002235.2:Scaffold17:353376:355945:1 gene:SPU_024386 transcript:SPU_024386-tr: Warning: Sequence contains no data \r\n"
       ]
      },
      {
       "output_type": "stream",
       "stream": "stdout",
       "text": [
        "Error: (1431.1) FASTA-Reader: Warning: FASTA-Reader: No residues given\r\n",
        "Error: (1431.1) FASTA-Reader: Warning: FASTA-Reader: No residues given\r\n"
       ]
      },
      {
       "output_type": "stream",
       "stream": "stdout",
       "text": [
        "Warning: lcl|Query_16834 EMSPUT00000007114 cds:pseudogene supercontig:GCA_000002235.2:Scaffold5399:9074:9146:1 gene:EMSPUG00000007114 transcript:EMSPUT00000007114 description:\"tRNA-Met for anticodon CAU\": Warning: Sequence contains no data \r\n",
        "Warning: lcl|Query_16849 EMSPUT00000003670 cds:pseudogene supercontig:GCA_000002235.2:Scaffold574:202856:202928:-1 gene:EMSPUG00000003670 transcript:EMSPUT00000003670 description:\"tRNA-Met for anticodon CAU\": Warning: Sequence contains no data \r\n",
        "Error: (1431.1) FASTA-Reader: Warning: FASTA-Reader: No residues given\r\n"
       ]
      },
      {
       "output_type": "stream",
       "stream": "stdout",
       "text": [
        "Warning: lcl|Query_16860 EMSPUT00000013917 cds:pseudogene supercontig:GCA_000002235.2:Scaffold626:135053:135126:1 gene:EMSPUG00000013917 transcript:EMSPUT00000013917 description:\"tRNA-Ala for anticodon GGC\": Warning: Sequence contains no data \r\n"
       ]
      },
      {
       "output_type": "stream",
       "stream": "stdout",
       "text": [
        "Error: (1431.1) FASTA-Reader: Warning: FASTA-Reader: No residues given\r\n"
       ]
      },
      {
       "output_type": "stream",
       "stream": "stdout",
       "text": [
        "Warning: lcl|Query_16904 SPU_030113-tr cds:pseudogene supercontig:GCA_000002235.2:Scaffold389:32472:34170:1 gene:SPU_030113 transcript:SPU_030113-tr: Warning: Sequence contains no data \r\n"
       ]
      },
      {
       "output_type": "stream",
       "stream": "stdout",
       "text": [
        "Error: (1431.1) FASTA-Reader: Warning: FASTA-Reader: No residues given\r\n",
        "Error: (1431.1) FASTA-Reader: Warning: FASTA-Reader: No residues given\r\n",
        "Error: (1431.1) FASTA-Reader: Warning: FASTA-Reader: No residues given\r\n"
       ]
      },
      {
       "output_type": "stream",
       "stream": "stdout",
       "text": [
        "Warning: lcl|Query_16940 EMSPUT00000011545 cds:pseudogene supercontig:GCA_000002235.2:Scaffold224:3520:3592:1 gene:EMSPUG00000011545 transcript:EMSPUT00000011545 description:\"tRNA-Met for anticodon CAU\": Warning: Sequence contains no data \r\n",
        "Warning: lcl|Query_16941 EMSPUT00000014281 cds:pseudogene supercontig:GCA_000002235.2:Scaffold224:13582:13654:1 gene:EMSPUG00000014281 transcript:EMSPUT00000014281 description:\"tRNA-Met for anticodon CAU\": Warning: Sequence contains no data \r\n",
        "Warning: lcl|Query_16942 EMSPUT00000005811 cds:pseudogene supercontig:GCA_000002235.2:Scaffold224:18489:18561:1 gene:EMSPUG00000005811 transcript:EMSPUT00000005811 description:\"tRNA-Met for anticodon CAU\": Warning: Sequence contains no data \r\n",
        "Error: (1431.1) FASTA-Reader: Warning: FASTA-Reader: No residues given\r\n",
        "Error: (1431.1) FASTA-Reader: Warning: FASTA-Reader: No residues given\r\n",
        "Error: (1431.1) FASTA-Reader: Warning: FASTA-Reader: No residues given\r\n"
       ]
      },
      {
       "output_type": "stream",
       "stream": "stdout",
       "text": [
        "Warning: lcl|Query_16949 EMSPUT00000013688 cds:pseudogene supercontig:GCA_000002235.2:Scaffold224:369784:369858:-1 gene:EMSPUG00000013688 transcript:EMSPUT00000013688 description:\"tRNA-Undet for anticodon \\x3f\\x3f\\x3f\": Warning: Sequence contains no data \r\n",
        "Warning: lcl|Query_16950 EMSPUT00000006539 cds:pseudogene supercontig:GCA_000002235.2:Scaffold224:371576:371650:-1 gene:EMSPUG00000006539 transcript:EMSPUT00000006539 description:\"tRNA-Undet for anticodon \\x3f\\x3f\\x3f\": Warning: Sequence contains no data \r\n",
        "Warning: lcl|Query_16952 EMSPUT00000012237 cds:pseudogene supercontig:GCA_000002235.2:Scaffold224:476402:476473:-1 gene:EMSPUG00000012237 transcript:EMSPUT00000012237 description:\"tRNA-Cys for anticodon GCA\": Warning: Sequence contains no data \r\n"
       ]
      },
      {
       "output_type": "stream",
       "stream": "stdout",
       "text": [
        "Error: (1431.1) FASTA-Reader: Warning: FASTA-Reader: No residues given\r\n"
       ]
      },
      {
       "output_type": "stream",
       "stream": "stdout",
       "text": [
        "Warning: lcl|Query_16972 SPU_009450-tr cds:pseudogene supercontig:GCA_000002235.2:Scaffold80:60941:63601:1 gene:SPU_009450 transcript:SPU_009450-tr: Warning: Sequence contains no data \r\n"
       ]
      },
      {
       "output_type": "stream",
       "stream": "stdout",
       "text": [
        "Error: (1431.1) FASTA-Reader: Warning: FASTA-Reader: No residues given\r\n",
        "Error: (1431.1) FASTA-Reader: Warning: FASTA-Reader: No residues given\r\n"
       ]
      },
      {
       "output_type": "stream",
       "stream": "stdout",
       "text": [
        "Warning: lcl|Query_17002 EMSPUT00000015153 cds:pseudogene supercontig:GCA_000002235.2:Scaffold1133:175626:175696:-1 gene:EMSPUG00000015153 transcript:EMSPUT00000015153 description:\"tRNA-Asp for anticodon GUC\": Warning: Sequence contains no data \r\n",
        "Warning: lcl|Query_17005 EMSPUT00000013792 cds:pseudogene supercontig:GCA_000002235.2:Scaffold9966:438:510:1 gene:EMSPUG00000013792 transcript:EMSPUT00000013792 description:\"tRNA-Met for anticodon CAU\": Warning: Sequence contains no data \r\n",
        "Error: (1431.1) FASTA-Reader: Warning: FASTA-Reader: No residues given\r\n"
       ]
      },
      {
       "output_type": "stream",
       "stream": "stdout",
       "text": [
        "Warning: lcl|Query_17026 EMSPUT00000012227 cds:pseudogene supercontig:GCA_000002235.2:Scaffold1572:143480:143554:1 gene:EMSPUG00000012227 transcript:EMSPUT00000012227 description:\"tRNA-Glu for anticodon CUC\": Warning: Sequence contains no data \r\n"
       ]
      },
      {
       "output_type": "stream",
       "stream": "stdout",
       "text": [
        "Error: (1431.1) FASTA-Reader: Warning: FASTA-Reader: No residues given\r\n"
       ]
      },
      {
       "output_type": "stream",
       "stream": "stdout",
       "text": [
        "Warning: lcl|Query_17061 SPU_007986-tr cds:pseudogene supercontig:GCA_000002235.2:Scaffold220:185155:187678:-1 gene:SPU_007986 transcript:SPU_007986-tr: Warning: Sequence contains no data \r\n",
        "Error: (1431.1) FASTA-Reader: Warning: FASTA-Reader: No residues given\r\n"
       ]
      },
      {
       "output_type": "stream",
       "stream": "stdout",
       "text": [
        "Warning: lcl|Query_17080 EMSPUT00000012250 cds:pseudogene supercontig:GCA_000002235.2:Scaffold220:373611:373683:-1 gene:EMSPUG00000012250 transcript:EMSPUT00000012250 description:\"tRNA-Lys for anticodon CUU\": Warning: Sequence contains no data \r\n",
        "Error: (1431.1) FASTA-Reader: Warning: FASTA-Reader: No residues given\r\n",
        "Error: (1431.1) FASTA-Reader: Warning: FASTA-Reader: No residues given\r\n",
        "Error: (1431.1) FASTA-Reader: Warning: FASTA-Reader: No residues given\r\n"
       ]
      },
      {
       "output_type": "stream",
       "stream": "stdout",
       "text": [
        "Warning: lcl|Query_17101 EMSPUT00000015159 cds:pseudogene supercontig:GCA_000002235.2:Scaffold1715:67594:67666:1 gene:EMSPUG00000015159 transcript:EMSPUT00000015159 description:\"tRNA-Met for anticodon CAU\": Warning: Sequence contains no data \r\n",
        "Warning: lcl|Query_17104 EMSPUT00000003552 cds:pseudogene supercontig:GCA_000002235.2:Scaffold789:70908:70979:1 gene:EMSPUG00000003552 transcript:EMSPUT00000003552 description:\"tRNA-Glu for anticodon CUC\": Warning: Sequence contains no data \r\n",
        "Warning: lcl|Query_17105 EMSPUT00000010322 cds:pseudogene supercontig:GCA_000002235.2:Scaffold789:73139:73210:1 gene:EMSPUG00000010322 transcript:EMSPUT00000010322 description:\"tRNA-Glu for anticodon CUC\": Warning: Sequence contains no data \r\n",
        "Error: (1431.1) FASTA-Reader: Warning: FASTA-Reader: No residues given\r\n",
        "Error: (1431.1) FASTA-Reader: Warning: FASTA-Reader: No residues given\r\n"
       ]
      },
      {
       "output_type": "stream",
       "stream": "stdout",
       "text": [
        "Warning: lcl|Query_17126 SPU_020653-tr cds:pseudogene supercontig:GCA_000002235.2:Scaffold1131:86907:89535:-1 gene:SPU_020653 transcript:SPU_020653-tr: Warning: Sequence contains no data \r\n",
        "Warning: lcl|Query_17127 SPU_020654-tr cds:pseudogene supercontig:GCA_000002235.2:Scaffold1131:86907:89535:-1 gene:SPU_020654 transcript:SPU_020654-tr: Warning: Sequence contains no data \r\n"
       ]
      },
      {
       "output_type": "stream",
       "stream": "stdout",
       "text": [
        "Error: (1431.1) FASTA-Reader: Warning: FASTA-Reader: No residues given\r\n"
       ]
      },
      {
       "output_type": "stream",
       "stream": "stdout",
       "text": [
        "Warning: lcl|Query_17146 EMSPUT00000006522 cds:pseudogene supercontig:GCA_000002235.2:Scaffold2261:89985:90055:-1 gene:EMSPUG00000006522 transcript:EMSPUT00000006522 description:\"tRNA-Thr for anticodon CGU\": Warning: Sequence contains no data \r\n"
       ]
      },
      {
       "output_type": "stream",
       "stream": "stdout",
       "text": [
        "Error: (1431.1) FASTA-Reader: Warning: FASTA-Reader: No residues given\r\n"
       ]
      },
      {
       "output_type": "stream",
       "stream": "stdout",
       "text": [
        "Warning: lcl|Query_17162 EMSPUT00000002705 cds:pseudogene supercontig:GCA_000002235.2:Scaffold1231:108627:108701:-1 gene:EMSPUG00000002705 transcript:EMSPUT00000002705 description:\"tRNA-SeC for anticodon UCA\": Warning: Sequence contains no data \r\n",
        "Error: (1431.1) FASTA-Reader: Warning: FASTA-Reader: No residues given\r\n"
       ]
      },
      {
       "output_type": "stream",
       "stream": "stdout",
       "text": [
        "Warning: lcl|Query_17185 EMSPUT00000000590 cds:pseudogene supercontig:GCA_000002235.2:Scaffold1525:36072:36146:-1 gene:EMSPUG00000000590 transcript:EMSPUT00000000590 description:\"tRNA-Glu for anticodon CUC\": Warning: Sequence contains no data \r\n"
       ]
      },
      {
       "output_type": "stream",
       "stream": "stdout",
       "text": [
        "Error: (1431.1) FASTA-Reader: Warning: FASTA-Reader: No residues given\r\n",
        "Error: (1431.1) FASTA-Reader: Warning: FASTA-Reader: No residues given\r\n",
        "Error: (1431.1) FASTA-Reader: Warning: FASTA-Reader: No residues given\r\n"
       ]
      },
      {
       "output_type": "stream",
       "stream": "stdout",
       "text": [
        "Warning: lcl|Query_17212 EMSPUT00000008483 cds:pseudogene supercontig:GCA_000002235.2:Scaffold378:380076:380149:1 gene:EMSPUG00000008483 transcript:EMSPUT00000008483 description:\"tRNA-Ala for anticodon GGC\": Warning: Sequence contains no data \r\n",
        "Warning: lcl|Query_17213 EMSPUT00000001716 cds:pseudogene supercontig:GCA_000002235.2:Scaffold378:380394:380467:1 gene:EMSPUG00000001716 transcript:EMSPUT00000001716 description:\"tRNA-Ala for anticodon GGC\": Warning: Sequence contains no data \r\n",
        "Warning: lcl|Query_17214 EMSPUT00000011109 cds:pseudogene supercontig:GCA_000002235.2:Scaffold378:380712:380785:1 gene:EMSPUG00000011109 transcript:EMSPUT00000011109 description:\"tRNA-Ala for anticodon GGC\": Warning: Sequence contains no data \r\n",
        "Error: (1431.1) FASTA-Reader: Warning: FASTA-Reader: No residues given\r\n"
       ]
      },
      {
       "output_type": "stream",
       "stream": "stdout",
       "text": [
        "Warning: lcl|Query_17237 EMSPUT00000002490 cds:pseudogene supercontig:GCA_000002235.2:Scaffold430:178798:178871:1 gene:EMSPUG00000002490 transcript:EMSPUT00000002490 description:\"tRNA-Ala for anticodon GGC\": Warning: Sequence contains no data \r\n"
       ]
      },
      {
       "output_type": "stream",
       "stream": "stdout",
       "text": [
        "Error: (1431.1) FASTA-Reader: Warning: FASTA-Reader: No residues given\r\n",
        "Error: (1431.1) FASTA-Reader: Warning: FASTA-Reader: No residues given\r\n",
        "Error: (1431.1) FASTA-Reader: Warning: FASTA-Reader: No residues given\r\n"
       ]
      },
      {
       "output_type": "stream",
       "stream": "stdout",
       "text": [
        "Warning: lcl|Query_17247 EMSPUT00000003944 cds:pseudogene supercontig:GCA_000002235.2:Scaffold2142:74022:74093:-1 gene:EMSPUG00000003944 transcript:EMSPUT00000003944 description:\"tRNA-Glu for anticodon CUC\": Warning: Sequence contains no data \r\n",
        "Warning: lcl|Query_17253 SPU_018214-tr cds:pseudogene supercontig:GCA_000002235.2:Scaffold3745:2196:4768:-1 gene:SPU_018214 transcript:SPU_018214-tr: Warning: Sequence contains no data \r\n",
        "Warning: lcl|Query_17263 EMSPUT00000012403 cds:pseudogene supercontig:GCA_000002235.2:Scaffold802:46322:46390:1 gene:EMSPUG00000012403 transcript:EMSPUT00000012403 description:\"tRNA-Glu for anticodon UUC\": Warning: Sequence contains no data \r\n"
       ]
      },
      {
       "output_type": "stream",
       "stream": "stdout",
       "text": [
        "Error: (1431.1) FASTA-Reader: Warning: FASTA-Reader: No residues given\r\n"
       ]
      },
      {
       "output_type": "stream",
       "stream": "stdout",
       "text": [
        "Warning: lcl|Query_17476 SPU_001759.2-tr cds:pseudogene supercontig:GCA_000002235.2:Scaffold1958:41173:41640:-1 gene:SPU_001759.2 transcript:SPU_001759.2-tr: Warning: Sequence contains no data \r\n",
        "Error: (1431.1) FASTA-Reader: Warning: FASTA-Reader: No residues given\r\n"
       ]
      },
      {
       "output_type": "stream",
       "stream": "stdout",
       "text": [
        "Warning: lcl|Query_17518 SPU_001759.1-tr cds:pseudogene supercontig:GCA_000002235.2:Scaffold1958:51023:51478:-1 gene:SPU_001759.1 transcript:SPU_001759.1-tr: Warning: Sequence contains no data \r\n",
        "Error: (1431.1) FASTA-Reader: Warning: FASTA-Reader: No residues given\r\n",
        "Error: (1431.1) FASTA-Reader: Warning: FASTA-Reader: No residues given\r\n",
        "Error: (1431.1) FASTA-Reader: Warning: FASTA-Reader: No residues given\r\n",
        "Error: (1431.1) FASTA-Reader: Warning: FASTA-Reader: No residues given\r\n"
       ]
      },
      {
       "output_type": "stream",
       "stream": "stdout",
       "text": [
        "Warning: lcl|Query_17525 EMSPUT00000009836 cds:pseudogene supercontig:GCA_000002235.2:Scaffold643:101611:101692:1 gene:EMSPUG00000009836 transcript:EMSPUT00000009836 description:\"tRNA-Ser for anticodon AGA\": Warning: Sequence contains no data \r\n",
        "Warning: lcl|Query_17526 EMSPUT00000000055 cds:pseudogene supercontig:GCA_000002235.2:Scaffold643:102942:103023:1 gene:EMSPUG00000000055 transcript:EMSPUT00000000055 description:\"tRNA-Ser for anticodon AGA\": Warning: Sequence contains no data \r\n",
        "Warning: lcl|Query_17527 EMSPUT00000000264 cds:pseudogene supercontig:GCA_000002235.2:Scaffold643:104278:104359:1 gene:EMSPUG00000000264 transcript:EMSPUT00000000264 description:\"tRNA-Ser for anticodon AGA\": Warning: Sequence contains no data \r\n",
        "Warning: lcl|Query_17533 EMSPUT00000012461 cds:pseudogene supercontig:GCA_000002235.2:Scaffold643:346599:346671:1 gene:EMSPUG00000012461 transcript:EMSPUT00000012461 description:\"tRNA-Glu for anticodon CUC\": Warning: Sequence contains no data \r\n"
       ]
      },
      {
       "output_type": "stream",
       "stream": "stdout",
       "text": [
        "Error: (1431.1) FASTA-Reader: Warning: FASTA-Reader: No residues given\r\n",
        "Error: (1431.1) FASTA-Reader: Warning: FASTA-Reader: No residues given\r\n"
       ]
      },
      {
       "output_type": "stream",
       "stream": "stdout",
       "text": [
        "Warning: lcl|Query_17573 EMSPUT00000008357 cds:pseudogene supercontig:GCA_000002235.2:Scaffold283:267183:267255:-1 gene:EMSPUG00000008357 transcript:EMSPUT00000008357 description:\"tRNA-Met for anticodon CAU\": Warning: Sequence contains no data \r\n",
        "Warning: lcl|Query_17588 EMSPUT00000007543 cds:pseudogene supercontig:GCA_000002235.2:Scaffold283:734305:734378:-1 gene:EMSPUG00000007543 transcript:EMSPUT00000007543 description:\"tRNA-Glu for anticodon CUC\": Warning: Sequence contains no data \r\n"
       ]
      },
      {
       "output_type": "stream",
       "stream": "stdout",
       "text": [
        "Error: (1431.1) FASTA-Reader: Warning: FASTA-Reader: No residues given\r\n",
        "Error: (1431.1) FASTA-Reader: Warning: FASTA-Reader: No residues given\r\n"
       ]
      },
      {
       "output_type": "stream",
       "stream": "stdout",
       "text": [
        "Warning: lcl|Query_17609 EMSPUT00000010262 cds:pseudogene supercontig:GCA_000002235.2:Scaffold2072:2637:2709:-1 gene:EMSPUG00000010262 transcript:EMSPUT00000010262 description:\"tRNA-Lys for anticodon UUU\": Warning: Sequence contains no data \r\n",
        "Warning: lcl|Query_17618 EMSPUT00000004186 cds:pseudogene supercontig:GCA_000002235.2:Scaffold1610:101649:101725:1 gene:EMSPUG00000004186 transcript:EMSPUT00000004186 description:\"tRNA-Met for anticodon CAU\": Warning: Sequence contains no data \r\n",
        "Error: (1431.1) FASTA-Reader: Warning: FASTA-Reader: No residues given\r\n",
        "Error: (1431.1) FASTA-Reader: Warning: FASTA-Reader: No residues given\r\n"
       ]
      },
      {
       "output_type": "stream",
       "stream": "stdout",
       "text": [
        "Warning: lcl|Query_17635 EMSPUT00000001277 cds:pseudogene supercontig:GCA_000002235.2:Scaffold3686:5221:5293:-1 gene:EMSPUG00000001277 transcript:EMSPUT00000001277 description:\"tRNA-Met for anticodon CAU\": Warning: Sequence contains no data \r\n",
        "Warning: lcl|Query_17636 EMSPUT00000008320 cds:pseudogene supercontig:GCA_000002235.2:Scaffold3686:10543:10616:-1 gene:EMSPUG00000008320 transcript:EMSPUT00000008320 description:\"tRNA-Met for anticodon CAU\": Warning: Sequence contains no data \r\n",
        "Error: (1431.1) FASTA-Reader: Warning: FASTA-Reader: No residues given\r\n"
       ]
      },
      {
       "output_type": "stream",
       "stream": "stdout",
       "text": [
        "Warning: lcl|Query_17647 EMSPUT00000012900 cds:pseudogene supercontig:GCA_000002235.2:Scaffold678:184275:184347:1 gene:EMSPUG00000012900 transcript:EMSPUT00000012900 description:\"tRNA-Val for anticodon UAC\": Warning: Sequence contains no data \r\n"
       ]
      },
      {
       "output_type": "stream",
       "stream": "stdout",
       "text": [
        "Error: (1431.1) FASTA-Reader: Warning: FASTA-Reader: No residues given\r\n"
       ]
      },
      {
       "output_type": "stream",
       "stream": "stdout",
       "text": [
        "Warning: lcl|Query_17737 SPU_030027-tr cds:pseudogene supercontig:GCA_000002235.2:Scaffold54:944033:948256:-1 gene:SPU_030027 transcript:SPU_030027-tr: Warning: Sequence contains no data \r\n",
        "Error: (1431.1) FASTA-Reader: Warning: FASTA-Reader: No residues given\r\n",
        "Error: (1431.1) FASTA-Reader: Warning: FASTA-Reader: No residues given\r\n",
        "Error: (1431.1) FASTA-Reader: Warning: FASTA-Reader: No residues given\r\n",
        "Error: (1431.1) FASTA-Reader: Warning: FASTA-Reader: No residues given\r\n",
        "Error: (1431.1) FASTA-Reader: Warning: FASTA-Reader: No residues given\r\n",
        "Error: (1431.1) FASTA-Reader: Warning: FASTA-Reader: No residues given\r\n",
        "Error: (1431.1) FASTA-Reader: Warning: FASTA-Reader: No residues given\r\n",
        "Error: (1431.1) FASTA-Reader: Warning: FASTA-Reader: No residues given\r\n",
        "Error: (1431.1) FASTA-Reader: Warning: FASTA-Reader: No residues given\r\n",
        "Error: (1431.1) FASTA-Reader: Warning: FASTA-Reader: No residues given\r\n",
        "Error: (1431.1) FASTA-Reader: Warning: FASTA-Reader: No residues given\r\n",
        "Error: (1431.1) FASTA-Reader: Warning: FASTA-Reader: No residues given\r\n",
        "Error: (1431.1) FASTA-Reader: Warning: FASTA-Reader: No residues given\r\n",
        "Error: (1431.1) FASTA-Reader: Warning: FASTA-Reader: No residues given\r\n",
        "Error: (1431.1) FASTA-Reader: Warning: FASTA-Reader: No residues given\r\n",
        "Error: (1431.1) FASTA-Reader: Warning: FASTA-Reader: No residues given\r\n"
       ]
      },
      {
       "output_type": "stream",
       "stream": "stdout",
       "text": [
        "Warning: lcl|Query_17745 EMSPUT00000010080 cds:pseudogene supercontig:GCA_000002235.2:Scaffold54:1197785:1197855:1 gene:EMSPUG00000010080 transcript:EMSPUT00000010080 description:\"tRNA-Gly for anticodon GCC\": Warning: Sequence contains no data \r\n",
        "Warning: lcl|Query_17746 EMSPUT00000006514 cds:pseudogene supercontig:GCA_000002235.2:Scaffold54:1198194:1198264:-1 gene:EMSPUG00000006514 transcript:EMSPUT00000006514 description:\"tRNA-Gly for anticodon GCC\": Warning: Sequence contains no data \r\n",
        "Warning: lcl|Query_17747 EMSPUT00000013363 cds:pseudogene supercontig:GCA_000002235.2:Scaffold54:1198524:1198594:-1 gene:EMSPUG00000013363 transcript:EMSPUT00000013363 description:\"tRNA-Gly for anticodon GCC\": Warning: Sequence contains no data \r\n",
        "Warning: lcl|Query_17748 EMSPUT00000004912 cds:pseudogene supercontig:GCA_000002235.2:Scaffold54:1200635:1200705:-1 gene:EMSPUG00000004912 transcript:EMSPUT00000004912 description:\"tRNA-Gly for anticodon GCC\": Warning: Sequence contains no data \r\n",
        "Warning: lcl|Query_17749 EMSPUT00000009379 cds:pseudogene supercontig:GCA_000002235.2:Scaffold54:1202312:1202382:-1 gene:EMSPUG00000009379 transcript:EMSPUT00000009379 description:\"tRNA-Gly for anticodon GCC\": Warning: Sequence contains no data \r\n",
        "Warning: lcl|Query_17750 EMSPUT00000002367 cds:pseudogene supercontig:GCA_000002235.2:Scaffold54:1215779:1215849:-1 gene:EMSPUG00000002367 transcript:EMSPUT00000002367 description:\"tRNA-Gly for anticodon GCC\": Warning: Sequence contains no data \r\n",
        "Warning: lcl|Query_17751 EMSPUT00000011174 cds:pseudogene supercontig:GCA_000002235.2:Scaffold54:1216098:1216168:-1 gene:EMSPUG00000011174 transcript:EMSPUT00000011174 description:\"tRNA-Gly for anticodon GCC\": Warning: Sequence contains no data \r\n",
        "Warning: lcl|Query_17752 EMSPUT00000003991 cds:pseudogene supercontig:GCA_000002235.2:Scaffold54:1216712:1216782:-1 gene:EMSPUG00000003991 transcript:EMSPUT00000003991 description:\"tRNA-Gly for anticodon GCC\": Warning: Sequence contains no data \r\n",
        "Warning: lcl|Query_17753 EMSPUT00000013795 cds:pseudogene supercontig:GCA_000002235.2:Scaffold54:1217359:1217429:-1 gene:EMSPUG00000013795 transcript:EMSPUT00000013795 description:\"tRNA-Gly for anticodon GCC\": Warning: Sequence contains no data \r\n",
        "Warning: lcl|Query_17754 EMSPUT00000006852 cds:pseudogene supercontig:GCA_000002235.2:Scaffold54:1218380:1218450:-1 gene:EMSPUG00000006852 transcript:EMSPUT00000006852 description:\"tRNA-Gly for anticodon GCC\": Warning: Sequence contains no data \r\n",
        "Warning: lcl|Query_17755 EMSPUT00000015616 cds:pseudogene supercontig:GCA_000002235.2:Scaffold54:1219210:1219280:-1 gene:EMSPUG00000015616 transcript:EMSPUT00000015616 description:\"tRNA-Gly for anticodon GCC\": Warning: Sequence contains no data \r\n",
        "Warning: lcl|Query_17756 EMSPUT00000008618 cds:pseudogene supercontig:GCA_000002235.2:Scaffold54:1219804:1219874:-1 gene:EMSPUG00000008618 transcript:EMSPUT00000008618 description:\"tRNA-Gly for anticodon GCC\": Warning: Sequence contains no data \r\n",
        "Warning: lcl|Query_17757 EMSPUT00000002710 cds:pseudogene supercontig:GCA_000002235.2:Scaffold54:1220436:1220506:-1 gene:EMSPUG00000002710 transcript:EMSPUT00000002710 description:\"tRNA-Gly for anticodon GCC\": Warning: Sequence contains no data \r\n",
        "Warning: lcl|Query_17758 EMSPUT00000011206 cds:pseudogene supercontig:GCA_000002235.2:Scaffold54:1221034:1221104:-1 gene:EMSPUG00000011206 transcript:EMSPUT00000011206 description:\"tRNA-Gly for anticodon GCC\": Warning: Sequence contains no data \r\n",
        "Warning: lcl|Query_17759 EMSPUT00000001228 cds:pseudogene supercontig:GCA_000002235.2:Scaffold54:1237733:1237803:1 gene:EMSPUG00000001228 transcript:EMSPUT00000001228 description:\"tRNA-Gly for anticodon GCC\": Warning: Sequence contains no data \r\n",
        "Warning: lcl|Query_17767 SPU_013709-tr cds:pseudogene supercontig:GCA_000002235.2:Scaffold806:102438:239182:1 gene:SPU_013709 transcript:SPU_013709-tr: Warning: Sequence contains no data \r\n",
        "Error: (1431.1) FASTA-Reader: Warning: FASTA-Reader: No residues given\r\n",
        "Error: (1431.1) FASTA-Reader: Warning: FASTA-Reader: No residues given\r\n",
        "Error: (1431.1) FASTA-Reader: Warning: FASTA-Reader: No residues given\r\n"
       ]
      },
      {
       "output_type": "stream",
       "stream": "stdout",
       "text": [
        "Warning: lcl|Query_17778 SPU_014548-tr cds:pseudogene supercontig:GCA_000002235.2:Scaffold4404:2049:4780:1 gene:SPU_014548 transcript:SPU_014548-tr: Warning: Sequence contains no data \r\n",
        "Warning: lcl|Query_17779 SPU_030130-tr cds:pseudogene supercontig:GCA_000002235.2:Scaffold4404:3394:4307:1 gene:SPU_030130 transcript:SPU_030130-tr: Warning: Sequence contains no data \r\n",
        "Warning: lcl|Query_17781 EMSPUT00000001855 cds:pseudogene supercontig:GCA_000002235.2:Scaffold5674:1479:1551:-1 gene:EMSPUG00000001855 transcript:EMSPUT00000001855 description:\"tRNA-Lys for anticodon CUU\": Warning: Sequence contains no data \r\n"
       ]
      },
      {
       "output_type": "stream",
       "stream": "stdout",
       "text": [
        "Error: (1431.1) FASTA-Reader: Warning: FASTA-Reader: No residues given\r\n"
       ]
      },
      {
       "output_type": "stream",
       "stream": "stdout",
       "text": [
        "Warning: lcl|Query_17828 EMSPUT00000001598 cds:pseudogene supercontig:GCA_000002235.2:Scaffold884:300248:300320:-1 gene:EMSPUG00000001598 transcript:EMSPUT00000001598 description:\"tRNA-Met for anticodon CAU\": Warning: Sequence contains no data \r\n"
       ]
      },
      {
       "output_type": "stream",
       "stream": "stdout",
       "text": [
        "Error: (1431.1) FASTA-Reader: Warning: FASTA-Reader: No residues given\r\n"
       ]
      },
      {
       "output_type": "stream",
       "stream": "stdout",
       "text": [
        "Warning: lcl|Query_17847 EMSPUT00000012005 cds:pseudogene supercontig:GCA_000002235.2:Scaffold428:356861:356933:1 gene:EMSPUG00000012005 transcript:EMSPUT00000012005 description:\"tRNA-Met for anticodon CAU\": Warning: Sequence contains no data \r\n"
       ]
      },
      {
       "output_type": "stream",
       "stream": "stdout",
       "text": [
        "Error: (1431.1) FASTA-Reader: Warning: FASTA-Reader: No residues given\r\n"
       ]
      },
      {
       "output_type": "stream",
       "stream": "stdout",
       "text": [
        "Warning: lcl|Query_17881 EMSPUT00000005779 cds:pseudogene supercontig:GCA_000002235.2:Scaffold205:540434:540506:1 gene:EMSPUG00000005779 transcript:EMSPUT00000005779 description:\"tRNA-Met for anticodon CAU\": Warning: Sequence contains no data \r\n"
       ]
      },
      {
       "output_type": "stream",
       "stream": "stdout",
       "text": [
        "Error: (1431.1) FASTA-Reader: Warning: FASTA-Reader: No residues given\r\n",
        "Error: (1431.1) FASTA-Reader: Warning: FASTA-Reader: No residues given\r\n"
       ]
      },
      {
       "output_type": "stream",
       "stream": "stdout",
       "text": [
        "Warning: lcl|Query_17924 EMSPUT00000011607 cds:pseudogene supercontig:GCA_000002235.2:Scaffold159:150318:150393:-1 gene:EMSPUG00000011607 transcript:EMSPUT00000011607 description:\"tRNA-Ala for anticodon GGC\": Warning: Sequence contains no data \r\n",
        "Warning: lcl|Query_17926 EMSPUT00000003708 cds:pseudogene supercontig:GCA_000002235.2:Scaffold159:225693:225765:1 gene:EMSPUG00000003708 transcript:EMSPUT00000003708 description:\"tRNA-Met for anticodon CAU\": Warning: Sequence contains no data \r\n",
        "Error: (1431.1) FASTA-Reader: Warning: FASTA-Reader: No residues given\r\n",
        "Error: (1431.1) FASTA-Reader: Warning: FASTA-Reader: No residues given\r\n",
        "Error: (1431.1) FASTA-Reader: Warning: FASTA-Reader: No residues given\r\n",
        "Error: (1431.1) FASTA-Reader: Warning: FASTA-Reader: No residues given\r\n",
        "Error: (1431.1) FASTA-Reader: Warning: FASTA-Reader: No residues given\r\n"
       ]
      },
      {
       "output_type": "stream",
       "stream": "stdout",
       "text": [
        "Warning: lcl|Query_17932 EMSPUT00000011522 cds:pseudogene supercontig:GCA_000002235.2:Scaffold159:405367:405440:1 gene:EMSPUG00000011522 transcript:EMSPUT00000011522 description:\"tRNA-Ala for anticodon GGC\": Warning: Sequence contains no data \r\n",
        "Warning: lcl|Query_17933 EMSPUT00000014012 cds:pseudogene supercontig:GCA_000002235.2:Scaffold159:407902:407975:1 gene:EMSPUG00000014012 transcript:EMSPUT00000014012 description:\"tRNA-Ala for anticodon GGC\": Warning: Sequence contains no data \r\n",
        "Warning: lcl|Query_17943 EMSPUT00000003941 cds:pseudogene supercontig:GCA_000002235.2:Scaffold18338:404:475:1 gene:EMSPUG00000003941 transcript:EMSPUT00000003941 description:\"tRNA-Asp for anticodon GUC\": Warning: Sequence contains no data \r\n",
        "Warning: lcl|Query_17944 EMSPUT00000010689 cds:pseudogene supercontig:GCA_000002235.2:Scaffold18338:759:830:1 gene:EMSPUG00000010689 transcript:EMSPUT00000010689 description:\"tRNA-Asp for anticodon GUC\": Warning: Sequence contains no data \r\n",
        "Warning: lcl|Query_17945 EMSPUT00000001618 cds:pseudogene supercontig:GCA_000002235.2:Scaffold18338:1144:1215:1 gene:EMSPUG00000001618 transcript:EMSPUT00000001618 description:\"tRNA-Asp for anticodon GUC\": Warning: Sequence contains no data \r\n"
       ]
      },
      {
       "output_type": "stream",
       "stream": "stdout",
       "text": [
        "Error: (1431.1) FASTA-Reader: Warning: FASTA-Reader: No residues given\r\n"
       ]
      },
      {
       "output_type": "stream",
       "stream": "stdout",
       "text": [
        "Warning: lcl|Query_17959 EMSPUT00000004594 cds:pseudogene supercontig:GCA_000002235.2:Scaffold1900:10225:10297:-1 gene:EMSPUG00000004594 transcript:EMSPUT00000004594 description:\"tRNA-Val for anticodon UAC\": Warning: Sequence contains no data \r\n",
        "Error: (1431.1) FASTA-Reader: Warning: FASTA-Reader: No residues given\r\n",
        "Error: (1431.1) FASTA-Reader: Warning: FASTA-Reader: No residues given\r\n",
        "Error: (1431.1) FASTA-Reader: Warning: FASTA-Reader: No residues given\r\n",
        "Error: (1431.1) FASTA-Reader: Warning: FASTA-Reader: No residues given\r\n",
        "Error: (1431.1) FASTA-Reader: Warning: FASTA-Reader: No residues given\r\n"
       ]
      },
      {
       "output_type": "stream",
       "stream": "stdout",
       "text": [
        "Warning: lcl|Query_17974 EMSPUT00000003071 cds:pseudogene supercontig:GCA_000002235.2:Scaffold491:320235:320309:-1 gene:EMSPUG00000003071 transcript:EMSPUT00000003071 description:\"tRNA-Lys for anticodon CUU\": Warning: Sequence contains no data \r\n",
        "Warning: lcl|Query_17987 EMSPUT00000012441 cds:pseudogene supercontig:GCA_000002235.2:Scaffold2755:10998:11072:-1 gene:EMSPUG00000012441 transcript:EMSPUT00000012441 description:\"tRNA-SeC for anticodon UCA\": Warning: Sequence contains no data \r\n",
        "Warning: lcl|Query_17988 EMSPUT00000010170 cds:pseudogene supercontig:GCA_000002235.2:Scaffold2755:21586:21660:-1 gene:EMSPUG00000010170 transcript:EMSPUT00000010170 description:\"tRNA-SeC for anticodon UCA\": Warning: Sequence contains no data \r\n",
        "Warning: lcl|Query_17989 EMSPUT00000012994 cds:pseudogene supercontig:GCA_000002235.2:Scaffold2836:47658:47726:-1 gene:EMSPUG00000012994 transcript:EMSPUT00000012994 description:\"tRNA-Ala for anticodon AGC\": Warning: Sequence contains no data \r\n",
        "Warning: lcl|Query_17991 EMSPUT00000013449 cds:pseudogene supercontig:GCA_000002235.2:Scaffold22019:872:942:-1 gene:EMSPUG00000013449 transcript:EMSPUT00000013449 description:\"tRNA-Ser for anticodon CGA\": Warning: Sequence contains no data \r\n"
       ]
      },
      {
       "output_type": "stream",
       "stream": "stdout",
       "text": [
        "Error: (1431.1) FASTA-Reader: Warning: FASTA-Reader: No residues given\r\n"
       ]
      },
      {
       "output_type": "stream",
       "stream": "stdout",
       "text": [
        "Warning: lcl|Query_18019 EMSPUT00000014224 cds:pseudogene supercontig:GCA_000002235.2:Scaffold93:233754:233826:1 gene:EMSPUG00000014224 transcript:EMSPUT00000014224 description:\"tRNA-Val for anticodon GAC\": Warning: Sequence contains no data \r\n"
       ]
      },
      {
       "output_type": "stream",
       "stream": "stdout",
       "text": [
        "Error: (1431.1) FASTA-Reader: Warning: FASTA-Reader: No residues given\r\n"
       ]
      },
      {
       "output_type": "stream",
       "stream": "stdout",
       "text": [
        "Warning: lcl|Query_18061 EMSPUT00000015242 cds:pseudogene supercontig:GCA_000002235.2:Scaffold848:129240:129320:-1 gene:EMSPUG00000015242 transcript:EMSPUT00000015242 description:\"tRNA-Undet for anticodon \\x3f\\x3f\\x3f\": Warning: Sequence contains no data \r\n",
        "Error: (1431.1) FASTA-Reader: Warning: FASTA-Reader: No residues given\r\n"
       ]
      },
      {
       "output_type": "stream",
       "stream": "stdout",
       "text": [
        "Warning: lcl|Query_18066 SPU_030009-tr cds:pseudogene supercontig:GCA_000002235.2:Scaffold848:209767:210921:-1 gene:SPU_030009 transcript:SPU_030009-tr: Warning: Sequence contains no data \r\n",
        "Error: (1431.1) FASTA-Reader: Warning: FASTA-Reader: No residues given\r\n"
       ]
      },
      {
       "output_type": "stream",
       "stream": "stdout",
       "text": [
        "Warning: lcl|Query_18093 EMSPUT00000008658 cds:pseudogene supercontig:GCA_000002235.2:Scaffold51:66833:66905:1 gene:EMSPUG00000008658 transcript:EMSPUT00000008658 description:\"tRNA-Glu for anticodon CUC\": Warning: Sequence contains no data \r\n"
       ]
      },
      {
       "output_type": "stream",
       "stream": "stdout",
       "text": [
        "Error: (1431.1) FASTA-Reader: Warning: FASTA-Reader: No residues given\r\n"
       ]
      },
      {
       "output_type": "stream",
       "stream": "stdout",
       "text": [
        "Warning: lcl|Query_18116 EMSPUT00000015304 cds:pseudogene supercontig:GCA_000002235.2:Scaffold51:573136:573201:1 gene:EMSPUG00000015304 transcript:EMSPUT00000015304 description:\"tRNA-Thr for anticodon CGU\": Warning: Sequence contains no data \r\n"
       ]
      },
      {
       "output_type": "stream",
       "stream": "stdout",
       "text": [
        "Error: (1431.1) FASTA-Reader: Warning: FASTA-Reader: No residues given\r\n",
        "Error: (1431.1) FASTA-Reader: Warning: FASTA-Reader: No residues given\r\n",
        "Error: (1431.1) FASTA-Reader: Warning: FASTA-Reader: No residues given\r\n"
       ]
      },
      {
       "output_type": "stream",
       "stream": "stdout",
       "text": [
        "Warning: lcl|Query_18167 SPU_030094-tr cds:pseudogene supercontig:GCA_000002235.2:Scaffold736:210434:212150:1 gene:SPU_030094 transcript:SPU_030094-tr: Warning: Sequence contains no data \r\n",
        "Warning: lcl|Query_18172 EMSPUT00000006055 cds:pseudogene supercontig:GCA_000002235.2:Scaffold1976:43653:43725:-1 gene:EMSPUG00000006055 transcript:EMSPUT00000006055 description:\"tRNA-Met for anticodon CAU\": Warning: Sequence contains no data \r\n",
        "Warning: lcl|Query_18176 EMSPUT00000003716 cds:pseudogene supercontig:GCA_000002235.2:Scaffold2333:3130:3202:-1 gene:EMSPUG00000003716 transcript:EMSPUT00000003716 description:\"tRNA-Ala for anticodon AGC\": Warning: Sequence contains no data \r\n"
       ]
      },
      {
       "output_type": "stream",
       "stream": "stdout",
       "text": [
        "Error: (1431.1) FASTA-Reader: Warning: FASTA-Reader: No residues given\r\n"
       ]
      },
      {
       "output_type": "stream",
       "stream": "stdout",
       "text": [
        "Warning: lcl|Query_18210 EMSPUT00000009543 cds:pseudogene supercontig:GCA_000002235.2:Scaffold5:1480:1557:-1 gene:EMSPUG00000009543 transcript:EMSPUT00000009543 description:\"tRNA-Ser for anticodon AGA\": Warning: Sequence contains no data \r\n"
       ]
      },
      {
       "output_type": "stream",
       "stream": "stdout",
       "text": [
        "Error: (1431.1) FASTA-Reader: Warning: FASTA-Reader: No residues given\r\n"
       ]
      },
      {
       "output_type": "stream",
       "stream": "stdout",
       "text": [
        "Warning: lcl|Query_18240 EMSPUT00000011713 cds:pseudogene supercontig:GCA_000002235.2:Scaffold5:740543:740615:-1 gene:EMSPUG00000011713 transcript:EMSPUT00000011713 description:\"tRNA-Met for anticodon CAU\": Warning: Sequence contains no data \r\n",
        "Error: (1431.1) FASTA-Reader: Warning: FASTA-Reader: No residues given\r\n",
        "Error: (1431.1) FASTA-Reader: Warning: FASTA-Reader: No residues given\r\n"
       ]
      },
      {
       "output_type": "stream",
       "stream": "stdout",
       "text": [
        "Warning: lcl|Query_18246 EMSPUT00000005954 cds:pseudogene supercontig:GCA_000002235.2:Scaffold5:1006611:1006683:-1 gene:EMSPUG00000005954 transcript:EMSPUT00000005954 description:\"tRNA-Arg for anticodon CCG\": Warning: Sequence contains no data \r\n",
        "Warning: lcl|Query_18255 EMSPUT00000009214 cds:pseudogene supercontig:GCA_000002235.2:Scaffold5:1215877:1215949:1 gene:EMSPUG00000009214 transcript:EMSPUT00000009214 description:\"tRNA-Val for anticodon AAC\": Warning: Sequence contains no data \r\n",
        "Error: (1431.1) FASTA-Reader: Warning: FASTA-Reader: No residues given\r\n"
       ]
      },
      {
       "output_type": "stream",
       "stream": "stdout",
       "text": [
        "Warning: lcl|Query_18264 EMSPUT00000012300 cds:pseudogene supercontig:GCA_000002235.2:Scaffold5:1483946:1484018:-1 gene:EMSPUG00000012300 transcript:EMSPUT00000012300 description:\"tRNA-Met for anticodon CAU\": Warning: Sequence contains no data \r\n"
       ]
      },
      {
       "output_type": "stream",
       "stream": "stdout",
       "text": [
        "Error: (1431.1) FASTA-Reader: Warning: FASTA-Reader: No residues given\r\n",
        "Error: (1431.1) FASTA-Reader: Warning: FASTA-Reader: No residues given\r\n"
       ]
      },
      {
       "output_type": "stream",
       "stream": "stdout",
       "text": [
        "Warning: lcl|Query_18295 EMSPUT00000006652 cds:pseudogene supercontig:GCA_000002235.2:Scaffold5:2285839:2285910:1 gene:EMSPUG00000006652 transcript:EMSPUT00000006652 description:\"tRNA-Gln for anticodon UUG\": Warning: Sequence contains no data \r\n",
        "Warning: lcl|Query_18296 EMSPUT00000015400 cds:pseudogene supercontig:GCA_000002235.2:Scaffold5:2285904:2285975:1 gene:EMSPUG00000015400 transcript:EMSPUT00000015400 description:\"tRNA-Gln for anticodon UUG\": Warning: Sequence contains no data \r\n",
        "Error: (1431.1) FASTA-Reader: Warning: FASTA-Reader: No residues given\r\n"
       ]
      },
      {
       "output_type": "stream",
       "stream": "stdout",
       "text": [
        "Warning: lcl|Query_18317 EMSPUT00000006140 cds:pseudogene supercontig:GCA_000002235.2:Scaffold1697:58841:58913:-1 gene:EMSPUG00000006140 transcript:EMSPUT00000006140 description:\"tRNA-Lys for anticodon UUU\": Warning: Sequence contains no data \r\n",
        "Error: (1431.1) FASTA-Reader: Warning: FASTA-Reader: No residues given\r\n"
       ]
      },
      {
       "output_type": "stream",
       "stream": "stdout",
       "text": [
        "Warning: lcl|Query_18338 SPU_030039-tr cds:pseudogene supercontig:GCA_000002235.2:Scaffold638:130700:130864:-1 gene:SPU_030039 transcript:SPU_030039-tr: Warning: Sequence contains no data \r\n"
       ]
      },
      {
       "output_type": "stream",
       "stream": "stdout",
       "text": [
        "Error: (1431.1) FASTA-Reader: Warning: FASTA-Reader: No residues given\r\n"
       ]
      },
      {
       "output_type": "stream",
       "stream": "stdout",
       "text": [
        "Warning: lcl|Query_18356 EMSPUT00000008883 cds:pseudogene supercontig:GCA_000002235.2:Scaffold234:290524:290598:1 gene:EMSPUG00000008883 transcript:EMSPUT00000008883 description:\"tRNA-Glu for anticodon CUC\": Warning: Sequence contains no data \r\n"
       ]
      },
      {
       "output_type": "stream",
       "stream": "stdout",
       "text": [
        "Error: (1431.1) FASTA-Reader: Warning: FASTA-Reader: No residues given\r\n",
        "Error: (1431.1) FASTA-Reader: Warning: FASTA-Reader: No residues given\r\n"
       ]
      },
      {
       "output_type": "stream",
       "stream": "stdout",
       "text": [
        "Warning: lcl|Query_18401 EMSPUT00000015484 cds:pseudogene supercontig:GCA_000002235.2:Scaffold1559:6167:6241:1 gene:EMSPUG00000015484 transcript:EMSPUT00000015484 description:\"tRNA-Glu for anticodon CUC\": Warning: Sequence contains no data \r\n",
        "Warning: lcl|Query_18404 EMSPUT00000006459 cds:pseudogene supercontig:GCA_000002235.2:Scaffold1559:116994:117074:1 gene:EMSPUG00000006459 transcript:EMSPUT00000006459 description:\"tRNA-His for anticodon GUG\": Warning: Sequence contains no data \r\n"
       ]
      },
      {
       "output_type": "stream",
       "stream": "stdout",
       "text": [
        "Error: (1431.1) FASTA-Reader: Warning: FASTA-Reader: No residues given\r\n"
       ]
      },
      {
       "output_type": "stream",
       "stream": "stdout",
       "text": [
        "Warning: lcl|Query_18435 EMSPUT00000011561 cds:pseudogene supercontig:GCA_000002235.2:Scaffold143:719076:719148:-1 gene:EMSPUG00000011561 transcript:EMSPUT00000011561 description:\"tRNA-Met for anticodon CAU\": Warning: Sequence contains no data \r\n"
       ]
      },
      {
       "output_type": "stream",
       "stream": "stdout",
       "text": [
        "Error: (1431.1) FASTA-Reader: Warning: FASTA-Reader: No residues given\r\n"
       ]
      },
      {
       "output_type": "stream",
       "stream": "stdout",
       "text": [
        "Warning: lcl|Query_18560 EMSPUT00000013432 cds:pseudogene supercontig:GCA_000002235.2:Scaffold2982:31175:31247:1 gene:EMSPUG00000013432 transcript:EMSPUT00000013432 description:\"tRNA-Gly for anticodon CCC\": Warning: Sequence contains no data \r\n",
        "Error: (1431.1) FASTA-Reader: Warning: FASTA-Reader: No residues given\r\n"
       ]
      },
      {
       "output_type": "stream",
       "stream": "stdout",
       "text": [
        "Warning: lcl|Query_18578 EMSPUT00000005397 cds:pseudogene supercontig:GCA_000002235.2:Scaffold418:474688:474763:-1 gene:EMSPUG00000005397 transcript:EMSPUT00000005397 description:\"tRNA-Val for anticodon CAC\": Warning: Sequence contains no data \r\n"
       ]
      },
      {
       "output_type": "stream",
       "stream": "stdout",
       "text": [
        "Error: (1431.1) FASTA-Reader: Warning: FASTA-Reader: No residues given\r\n"
       ]
      },
      {
       "output_type": "stream",
       "stream": "stdout",
       "text": [
        "Warning: lcl|Query_18598 EMSPUT00000012329 cds:pseudogene supercontig:GCA_000002235.2:Scaffold73:28332:28404:1 gene:EMSPUG00000012329 transcript:EMSPUT00000012329 description:\"tRNA-Met for anticodon CAU\": Warning: Sequence contains no data \r\n"
       ]
      },
      {
       "output_type": "stream",
       "stream": "stdout",
       "text": [
        "Error: (1431.1) FASTA-Reader: Warning: FASTA-Reader: No residues given\r\n"
       ]
      },
      {
       "output_type": "stream",
       "stream": "stdout",
       "text": [
        "Warning: lcl|Query_18638 EMSPUT00000003230 cds:pseudogene supercontig:GCA_000002235.2:Scaffold348:377981:378053:1 gene:EMSPUG00000003230 transcript:EMSPUT00000003230 description:\"tRNA-Met for anticodon CAU\": Warning: Sequence contains no data \r\n"
       ]
      },
      {
       "output_type": "stream",
       "stream": "stdout",
       "text": [
        "Error: (1431.1) FASTA-Reader: Warning: FASTA-Reader: No residues given\r\n",
        "Error: (1431.1) FASTA-Reader: Warning: FASTA-Reader: No residues given\r\n"
       ]
      },
      {
       "output_type": "stream",
       "stream": "stdout",
       "text": [
        "Warning: lcl|Query_18657 EMSPUT00000007573 cds:pseudogene supercontig:GCA_000002235.2:Scaffold4322:16761:16832:-1 gene:EMSPUG00000007573 transcript:EMSPUT00000007573 description:\"Mammalian CPEB3 ribozyme\": Warning: Sequence contains no data \r\n",
        "Warning: lcl|Query_18671 EMSPUT00000015671 cds:pseudogene supercontig:GCA_000002235.2:Scaffold529:8684:8752:-1 gene:EMSPUG00000015671 transcript:EMSPUT00000015671 description:\"tRNA-Ala for anticodon GGC\": Warning: Sequence contains no data \r\n",
        "Error: (1431.1) FASTA-Reader: Warning: FASTA-Reader: No residues given\r\n"
       ]
      },
      {
       "output_type": "stream",
       "stream": "stdout",
       "text": [
        "Warning: lcl|Query_18679 SPU_030032-tr cds:pseudogene supercontig:GCA_000002235.2:Scaffold529:455213:455348:1 gene:SPU_030032 transcript:SPU_030032-tr: Warning: Sequence contains no data \r\n",
        "Error: (1431.1) FASTA-Reader: Warning: FASTA-Reader: No residues given\r\n"
       ]
      },
      {
       "output_type": "stream",
       "stream": "stdout",
       "text": [
        "Warning: lcl|Query_18696 EMSPUT00000014226 cds:pseudogene supercontig:GCA_000002235.2:Scaffold440:200659:200731:1 gene:EMSPUG00000014226 transcript:EMSPUT00000014226 description:\"tRNA-Thr for anticodon CGU\": Warning: Sequence contains no data \r\n",
        "Error: (1431.1) FASTA-Reader: Warning: FASTA-Reader: No residues given\r\n",
        "Error: (1431.1) FASTA-Reader: Warning: FASTA-Reader: No residues given\r\n"
       ]
      },
      {
       "output_type": "stream",
       "stream": "stdout",
       "text": [
        "Warning: lcl|Query_18708 SPU_020259-tr cds:pseudogene supercontig:GCA_000002235.2:Scaffold335:25388:153370:1 gene:SPU_020259 transcript:SPU_020259-tr: Warning: Sequence contains no data \r\n",
        "Warning: lcl|Query_18711 EMSPUT00000014768 cds:pseudogene supercontig:GCA_000002235.2:Scaffold335:72591:72663:1 gene:EMSPUG00000014768 transcript:EMSPUT00000014768 description:\"tRNA-Met for anticodon CAU\": Warning: Sequence contains no data \r\n",
        "Error: (1431.1) FASTA-Reader: Warning: FASTA-Reader: No residues given\r\n",
        "Error: (1431.1) FASTA-Reader: Warning: FASTA-Reader: No residues given\r\n",
        "Error: (1431.1) FASTA-Reader: Warning: FASTA-Reader: No residues given\r\n"
       ]
      },
      {
       "output_type": "stream",
       "stream": "stdout",
       "text": [
        "Warning: lcl|Query_18723 EMSPUT00000012446 cds:pseudogene supercontig:GCA_000002235.2:Scaffold335:530098:530171:1 gene:EMSPUG00000012446 transcript:EMSPUT00000012446 description:\"tRNA-Ser for anticodon UGA\": Warning: Sequence contains no data \r\n",
        "Warning: lcl|Query_18729 EMSPUT00000006036 cds:pseudogene supercontig:GCA_000002235.2:Scaffold635:152947:153018:-1 gene:EMSPUG00000006036 transcript:EMSPUT00000006036 description:\"tRNA-Gln for anticodon CUG\": Warning: Sequence contains no data \r\n",
        "Warning: lcl|Query_18734 EMSPUT00000000113 cds:pseudogene supercontig:GCA_000002235.2:Scaffold635:313554:313627:-1 gene:EMSPUG00000000113 transcript:EMSPUT00000000113 description:\"tRNA-Ala for anticodon GGC\": Warning: Sequence contains no data \r\n",
        "Error: (1431.1) FASTA-Reader: Warning: FASTA-Reader: No residues given\r\n",
        "Error: (1431.1) FASTA-Reader: Warning: FASTA-Reader: No residues given\r\n"
       ]
      },
      {
       "output_type": "stream",
       "stream": "stdout",
       "text": [
        "Warning: lcl|Query_18742 EMSPUT00000003549 cds:pseudogene supercontig:GCA_000002235.2:Scaffold2790:62537:62607:1 gene:EMSPUG00000003549 transcript:EMSPUT00000003549 description:\"tRNA-Gln for anticodon CUG\": Warning: Sequence contains no data \r\n",
        "Warning: lcl|Query_18745 EMSPUT00000012420 cds:pseudogene supercontig:GCA_000002235.2:Scaffold2790:84191:84263:1 gene:EMSPUG00000012420 transcript:EMSPUT00000012420 description:\"tRNA-Met for anticodon CAU\": Warning: Sequence contains no data \r\n",
        "Error: (1431.1) FASTA-Reader: Warning: FASTA-Reader: No residues given\r\n",
        "Error: (1431.1) FASTA-Reader: Warning: FASTA-Reader: No residues given\r\n",
        "Error: (1431.1) FASTA-Reader: Warning: FASTA-Reader: No residues given\r\n",
        "Error: (1431.1) FASTA-Reader: Warning: FASTA-Reader: No residues given\r\n"
       ]
      },
      {
       "output_type": "stream",
       "stream": "stdout",
       "text": [
        "Warning: lcl|Query_18763 EMSPUT00000007140 cds:pseudogene supercontig:GCA_000002235.2:Scaffold68:43001:43072:-1 gene:EMSPUG00000007140 transcript:EMSPUT00000007140 description:\"tRNA-Glu for anticodon UUC\": Warning: Sequence contains no data \r\n",
        "Warning: lcl|Query_18764 EMSPUT00000005182 cds:pseudogene supercontig:GCA_000002235.2:Scaffold68:43333:43404:-1 gene:EMSPUG00000005182 transcript:EMSPUT00000005182 description:\"tRNA-Glu for anticodon UUC\": Warning: Sequence contains no data \r\n",
        "Warning: lcl|Query_18765 EMSPUT00000010228 cds:pseudogene supercontig:GCA_000002235.2:Scaffold68:43757:43828:-1 gene:EMSPUG00000010228 transcript:EMSPUT00000010228 description:\"tRNA-Glu for anticodon UUC\": Warning: Sequence contains no data \r\n",
        "Warning: lcl|Query_18766 EMSPUT00000002550 cds:pseudogene supercontig:GCA_000002235.2:Scaffold68:44341:44412:-1 gene:EMSPUG00000002550 transcript:EMSPUT00000002550 description:\"tRNA-Glu for anticodon UUC\": Warning: Sequence contains no data \r\n"
       ]
      },
      {
       "output_type": "stream",
       "stream": "stdout",
       "text": [
        "Error: (1431.1) FASTA-Reader: Warning: FASTA-Reader: No residues given\r\n"
       ]
      },
      {
       "output_type": "stream",
       "stream": "stdout",
       "text": [
        "Warning: lcl|Query_18820 EMSPUT00000001114 cds:pseudogene supercontig:GCA_000002235.2:Scaffold382:381667:381738:-1 gene:EMSPUG00000001114 transcript:EMSPUT00000001114 description:\"Mammalian CPEB3 ribozyme\": Warning: Sequence contains no data \r\n",
        "Error: (1431.1) FASTA-Reader: Warning: FASTA-Reader: No residues given\r\n"
       ]
      },
      {
       "output_type": "stream",
       "stream": "stdout",
       "text": [
        "Warning: lcl|Query_18843 EMSPUT00000001215 cds:pseudogene supercontig:GCA_000002235.2:Scaffold148:369918:369990:1 gene:EMSPUG00000001215 transcript:EMSPUT00000001215 description:\"tRNA-Met for anticodon CAU\": Warning: Sequence contains no data \r\n"
       ]
      },
      {
       "output_type": "stream",
       "stream": "stdout",
       "text": [
        "Error: (1431.1) FASTA-Reader: Warning: FASTA-Reader: No residues given\r\n",
        "Error: (1431.1) FASTA-Reader: Warning: FASTA-Reader: No residues given\r\n",
        "Error: (1431.1) FASTA-Reader: Warning: FASTA-Reader: No residues given\r\n"
       ]
      },
      {
       "output_type": "stream",
       "stream": "stdout",
       "text": [
        "Warning: lcl|Query_18894 EMSPUT00000009009 cds:pseudogene supercontig:GCA_000002235.2:Scaffold328:132578:132650:1 gene:EMSPUG00000009009 transcript:EMSPUT00000009009 description:\"tRNA-Met for anticodon CAU\": Warning: Sequence contains no data \r\n",
        "Warning: lcl|Query_18897 EMSPUT00000010718 cds:pseudogene supercontig:GCA_000002235.2:Scaffold328:250704:250775:1 gene:EMSPUG00000010718 transcript:EMSPUT00000010718 description:\"Mammalian CPEB3 ribozyme\": Warning: Sequence contains no data \r\n",
        "Warning: lcl|Query_18910 EMSPUT00000009551 cds:pseudogene supercontig:GCA_000002235.2:Scaffold1378:140333:140414:-1 gene:EMSPUG00000009551 transcript:EMSPUT00000009551 description:\"tRNA-Pro for anticodon UGG\": Warning: Sequence contains no data \r\n"
       ]
      },
      {
       "output_type": "stream",
       "stream": "stdout",
       "text": [
        "Error: (1431.1) FASTA-Reader: Warning: FASTA-Reader: No residues given\r\n",
        "Error: (1431.1) FASTA-Reader: Warning: FASTA-Reader: No residues given\r\n"
       ]
      },
      {
       "output_type": "stream",
       "stream": "stdout",
       "text": [
        "Warning: lcl|Query_18929 EMSPUT00000001274 cds:pseudogene supercontig:GCA_000002235.2:Scaffold1211:101393:101465:1 gene:EMSPUG00000001274 transcript:EMSPUT00000001274 description:\"tRNA-Met for anticodon CAU\": Warning: Sequence contains no data \r\n",
        "Warning: lcl|Query_18932 EMSPUT00000009531 cds:pseudogene supercontig:GCA_000002235.2:Scaffold1211:105180:105253:1 gene:EMSPUG00000009531 transcript:EMSPUT00000009531 description:\"tRNA-Met for anticodon CAU\": Warning: Sequence contains no data \r\n"
       ]
      },
      {
       "output_type": "stream",
       "stream": "stdout",
       "text": [
        "Error: (1431.1) FASTA-Reader: Warning: FASTA-Reader: No residues given\r\n"
       ]
      },
      {
       "output_type": "stream",
       "stream": "stdout",
       "text": [
        "Warning: lcl|Query_18974 EMSPUT00000001182 cds:pseudogene supercontig:GCA_000002235.2:Scaffold36:872027:872099:1 gene:EMSPUG00000001182 transcript:EMSPUT00000001182 description:\"tRNA-Met for anticodon CAU\": Warning: Sequence contains no data \r\n"
       ]
      },
      {
       "output_type": "stream",
       "stream": "stdout",
       "text": [
        "Error: (1431.1) FASTA-Reader: Warning: FASTA-Reader: No residues given\r\n"
       ]
      },
      {
       "output_type": "stream",
       "stream": "stdout",
       "text": [
        "Warning: lcl|Query_19000 EMSPUT00000012298 cds:pseudogene supercontig:GCA_000002235.2:Scaffold3409:19261:19333:-1 gene:EMSPUG00000012298 transcript:EMSPUT00000012298 description:\"tRNA-Met for anticodon CAU\": Warning: Sequence contains no data \r\n"
       ]
      },
      {
       "output_type": "stream",
       "stream": "stdout",
       "text": [
        "Error: (1431.1) FASTA-Reader: Warning: FASTA-Reader: No residues given\r\n"
       ]
      },
      {
       "output_type": "stream",
       "stream": "stdout",
       "text": [
        "Warning: lcl|Query_19061 EMSPUT00000004956 cds:pseudogene supercontig:GCA_000002235.2:Scaffold282:175500:175574:-1 gene:EMSPUG00000004956 transcript:EMSPUT00000004956 description:\"tRNA-Gly for anticodon CCC\": Warning: Sequence contains no data \r\n"
       ]
      },
      {
       "output_type": "stream",
       "stream": "stdout",
       "text": [
        "Error: (1431.1) FASTA-Reader: Warning: FASTA-Reader: No residues given\r\n",
        "Error: (1431.1) FASTA-Reader: Warning: FASTA-Reader: No residues given\r\n"
       ]
      },
      {
       "output_type": "stream",
       "stream": "stdout",
       "text": [
        "Warning: lcl|Query_19193 EMSPUT00000000964 cds:pseudogene supercontig:GCA_000002235.2:Scaffold691:272127:272199:1 gene:EMSPUG00000000964 transcript:EMSPUT00000000964 description:\"tRNA-Met for anticodon CAU\": Warning: Sequence contains no data \r\n",
        "Warning: lcl|Query_19196 EMSPUT00000001099 cds:pseudogene supercontig:GCA_000002235.2:Scaffold691:327239:327314:1 gene:EMSPUG00000001099 transcript:EMSPUT00000001099 description:\"tRNA-Ala for anticodon CGC\": Warning: Sequence contains no data \r\n",
        "Error: (1431.1) FASTA-Reader: Warning: FASTA-Reader: No residues given\r\n",
        "Error: (1431.1) FASTA-Reader: Warning: FASTA-Reader: No residues given\r\n",
        "Error: (1431.1) FASTA-Reader: Warning: FASTA-Reader: No residues given\r\n",
        "Error: (1431.1) FASTA-Reader: Warning: FASTA-Reader: No residues given\r\n",
        "Error: (1431.1) FASTA-Reader: Warning: FASTA-Reader: No residues given\r\n",
        "Error: (1431.1) FASTA-Reader: Warning: FASTA-Reader: No residues given\r\n"
       ]
      },
      {
       "output_type": "stream",
       "stream": "stdout",
       "text": [
        "Warning: lcl|Query_19207 EMSPUT00000011266 cds:pseudogene supercontig:GCA_000002235.2:Scaffold1043:41532:41604:-1 gene:EMSPUG00000011266 transcript:EMSPUT00000011266 description:\"tRNA-Lys for anticodon UUU\": Warning: Sequence contains no data \r\n",
        "Warning: lcl|Query_19209 EMSPUT00000011792 cds:pseudogene supercontig:GCA_000002235.2:Scaffold1043:77078:77150:-1 gene:EMSPUG00000011792 transcript:EMSPUT00000011792 description:\"tRNA-Lys for anticodon UUU\": Warning: Sequence contains no data \r\n",
        "Warning: lcl|Query_19210 EMSPUT00000008455 cds:pseudogene supercontig:GCA_000002235.2:Scaffold1043:84706:84778:1 gene:EMSPUG00000008455 transcript:EMSPUT00000008455 description:\"tRNA-Lys for anticodon UUU\": Warning: Sequence contains no data \r\n",
        "Warning: lcl|Query_19212 EMSPUT00000000041 cds:pseudogene supercontig:GCA_000002235.2:Scaffold1043:103671:103743:1 gene:EMSPUG00000000041 transcript:EMSPUT00000000041 description:\"tRNA-Lys for anticodon UUU\": Warning: Sequence contains no data \r\n",
        "Warning: lcl|Query_19213 EMSPUT00000009048 cds:pseudogene supercontig:GCA_000002235.2:Scaffold1043:103885:103957:1 gene:EMSPUG00000009048 transcript:EMSPUT00000009048 description:\"tRNA-Lys for anticodon UUU\": Warning: Sequence contains no data \r\n",
        "Warning: lcl|Query_19214 EMSPUT00000006018 cds:pseudogene supercontig:GCA_000002235.2:Scaffold1043:107637:107709:1 gene:EMSPUG00000006018 transcript:EMSPUT00000006018 description:\"tRNA-Lys for anticodon UUU\": Warning: Sequence contains no data \r\n",
        "Error: (1431.1) FASTA-Reader: Warning: FASTA-Reader: No residues given\r\n",
        "Error: (1431.1) FASTA-Reader: Warning: FASTA-Reader: No residues given\r\n",
        "Error: (1431.1) FASTA-Reader: Warning: FASTA-Reader: No residues given\r\n",
        "Error: (1431.1) FASTA-Reader: Warning: FASTA-Reader: No residues given\r\n",
        "Error: (1431.1) FASTA-Reader: Warning: FASTA-Reader: No residues given\r\n",
        "Error: (1431.1) FASTA-Reader: Warning: FASTA-Reader: No residues given\r\n",
        "Error: (1431.1) FASTA-Reader: Warning: FASTA-Reader: No residues given\r\n",
        "Error: (1431.1) FASTA-Reader: Warning: FASTA-Reader: No residues given\r\n"
       ]
      },
      {
       "output_type": "stream",
       "stream": "stdout",
       "text": [
        "Warning: lcl|Query_19217 EMSPUT00000000559 cds:pseudogene supercontig:GCA_000002235.2:Scaffold1043:169062:169134:-1 gene:EMSPUG00000000559 transcript:EMSPUT00000000559 description:\"tRNA-Lys for anticodon UUU\": Warning: Sequence contains no data \r\n",
        "Warning: lcl|Query_19218 EMSPUT00000008736 cds:pseudogene supercontig:GCA_000002235.2:Scaffold1043:181058:181130:-1 gene:EMSPUG00000008736 transcript:EMSPUT00000008736 description:\"tRNA-Lys for anticodon UUU\": Warning: Sequence contains no data \r\n",
        "Warning: lcl|Query_19219 EMSPUT00000001928 cds:pseudogene supercontig:GCA_000002235.2:Scaffold1043:181546:181618:-1 gene:EMSPUG00000001928 transcript:EMSPUT00000001928 description:\"tRNA-Lys for anticodon UUU\": Warning: Sequence contains no data \r\n",
        "Warning: lcl|Query_19220 EMSPUT00000006326 cds:pseudogene supercontig:GCA_000002235.2:Scaffold1043:181916:181988:-1 gene:EMSPUG00000006326 transcript:EMSPUT00000006326 description:\"tRNA-Lys for anticodon UUU\": Warning: Sequence contains no data \r\n",
        "Warning: lcl|Query_19221 EMSPUT00000015020 cds:pseudogene supercontig:GCA_000002235.2:Scaffold1043:183664:183736:-1 gene:EMSPUG00000015020 transcript:EMSPUT00000015020 description:\"tRNA-Lys for anticodon UUU\": Warning: Sequence contains no data \r\n",
        "Warning: lcl|Query_19222 EMSPUT00000002660 cds:pseudogene supercontig:GCA_000002235.2:Scaffold1043:183969:184040:-1 gene:EMSPUG00000002660 transcript:EMSPUT00000002660 description:\"tRNA-Lys for anticodon UUU\": Warning: Sequence contains no data \r\n",
        "Warning: lcl|Query_19223 EMSPUT00000010189 cds:pseudogene supercontig:GCA_000002235.2:Scaffold1043:185774:185846:-1 gene:EMSPUG00000010189 transcript:EMSPUT00000010189 description:\"tRNA-Lys for anticodon UUU\": Warning: Sequence contains no data \r\n",
        "Warning: lcl|Query_19226 EMSPUT00000015774 cds:pseudogene supercontig:GCA_000002235.2:Scaffold1043:228939:229011:1 gene:EMSPUG00000015774 transcript:EMSPUT00000015774 description:\"tRNA-Lys for anticodon UUU\": Warning: Sequence contains no data \r\n",
        "Error: (1431.1) FASTA-Reader: Warning: FASTA-Reader: No residues given\r\n"
       ]
      },
      {
       "output_type": "stream",
       "stream": "stdout",
       "text": [
        "Warning: lcl|Query_19251 EMSPUT00000006805 cds:pseudogene supercontig:GCA_000002235.2:Scaffold35:547857:547929:-1 gene:EMSPUG00000006805 transcript:EMSPUT00000006805 description:\"tRNA-Ala for anticodon GGC\": Warning: Sequence contains no data \r\n",
        "Error: (1431.1) FASTA-Reader: Warning: FASTA-Reader: No residues given\r\n",
        "Error: (1431.1) FASTA-Reader: Warning: FASTA-Reader: No residues given\r\n",
        "Error: (1431.1) FASTA-Reader: Warning: FASTA-Reader: No residues given\r\n"
       ]
      },
      {
       "output_type": "stream",
       "stream": "stdout",
       "text": [
        "Warning: lcl|Query_19257 EMSPUT00000001374 cds:pseudogene supercontig:GCA_000002235.2:Scaffold35:692020:692088:1 gene:EMSPUG00000001374 transcript:EMSPUT00000001374 description:\"tRNA-Ser for anticodon UGA\": Warning: Sequence contains no data \r\n",
        "Warning: lcl|Query_19265 EMSPUT00000012100 cds:pseudogene supercontig:GCA_000002235.2:Scaffold2256:31575:31646:-1 gene:EMSPUG00000012100 transcript:EMSPUT00000012100 description:\"tRNA-Trp for anticodon CCA\": Warning: Sequence contains no data \r\n",
        "Warning: lcl|Query_19271 EMSPUT00000011998 cds:pseudogene supercontig:GCA_000002235.2:Scaffold23478:646:717:-1 gene:EMSPUG00000011998 transcript:EMSPUT00000011998 description:\"Mammalian CPEB3 ribozyme\": Warning: Sequence contains no data \r\n",
        "Error: (1431.1) FASTA-Reader: Warning: FASTA-Reader: No residues given\r\n"
       ]
      },
      {
       "output_type": "stream",
       "stream": "stdout",
       "text": [
        "Warning: lcl|Query_19281 EMSPUT00000000673 cds:pseudogene supercontig:GCA_000002235.2:Scaffold731:303917:303986:1 gene:EMSPUG00000000673 transcript:EMSPUT00000000673 description:\"tRNA-Ala for anticodon UGC\": Warning: Sequence contains no data \r\n",
        "Error: (1431.1) FASTA-Reader: Warning: FASTA-Reader: No residues given\r\n"
       ]
      },
      {
       "output_type": "stream",
       "stream": "stdout",
       "text": [
        "Warning: lcl|Query_19306 EMSPUT00000007986 cds:pseudogene supercontig:GCA_000002235.2:Scaffold392:152346:152419:-1 gene:EMSPUG00000007986 transcript:EMSPUT00000007986 description:\"tRNA-Ala for anticodon GGC\": Warning: Sequence contains no data \r\n",
        "Error: (1431.1) FASTA-Reader: Warning: FASTA-Reader: No residues given\r\n"
       ]
      },
      {
       "output_type": "stream",
       "stream": "stdout",
       "text": [
        "Error: (1431.1) FASTA-Reader: Warning: FASTA-Reader: No residues given\r\n"
       ]
      },
      {
       "output_type": "stream",
       "stream": "stdout",
       "text": [
        "Warning: lcl|Query_19312 EMSPUT00000011662 cds:pseudogene supercontig:GCA_000002235.2:Scaffold392:251054:251127:1 gene:EMSPUG00000011662 transcript:EMSPUT00000011662 description:\"tRNA-Ala for anticodon GGC\": Warning: Sequence contains no data \r\n",
        "Warning: lcl|Query_19330 EMSPUT00000003201 cds:pseudogene supercontig:GCA_000002235.2:Scaffold2867:2680:2754:-1 gene:EMSPUG00000003201 transcript:EMSPUT00000003201 description:\"tRNA-His for anticodon GUG\": Warning: Sequence contains no data \r\n"
       ]
      },
      {
       "output_type": "stream",
       "stream": "stdout",
       "text": [
        "Error: (1431.1) FASTA-Reader: Warning: FASTA-Reader: No residues given\r\n",
        "Error: (1431.1) FASTA-Reader: Warning: FASTA-Reader: No residues given\r\n",
        "Error: (1431.1) FASTA-Reader: Warning: FASTA-Reader: No residues given\r\n",
        "Error: (1431.1) FASTA-Reader: Warning: FASTA-Reader: No residues given\r\n"
       ]
      },
      {
       "output_type": "stream",
       "stream": "stdout",
       "text": [
        "Warning: lcl|Query_19398 EMSPUT00000006566 cds:pseudogene supercontig:GCA_000002235.2:Scaffold2736:5265:5339:-1 gene:EMSPUG00000006566 transcript:EMSPUT00000006566 description:\"tRNA-Glu for anticodon CUC\": Warning: Sequence contains no data \r\n",
        "Warning: lcl|Query_19401 EMSPUT00000008625 cds:pseudogene supercontig:GCA_000002235.2:Scaffold371:163951:164025:-1 gene:EMSPUG00000008625 transcript:EMSPUT00000008625 description:\"tRNA-Asp for anticodon GUC\": Warning: Sequence contains no data \r\n",
        "Warning: lcl|Query_19405 EMSPUT00000011620 cds:pseudogene supercontig:GCA_000002235.2:Scaffold371:349670:349743:1 gene:EMSPUG00000011620 transcript:EMSPUT00000011620 description:\"tRNA-His for anticodon GUG\": Warning: Sequence contains no data \r\n",
        "Warning: lcl|Query_19406 EMSPUT00000002737 cds:pseudogene supercontig:GCA_000002235.2:Scaffold371:349813:349885:1 gene:EMSPUG00000002737 transcript:EMSPUT00000002737 description:\"tRNA-His for anticodon GUG\": Warning: Sequence contains no data \r\n",
        "Error: (1431.1) FASTA-Reader: Warning: FASTA-Reader: No residues given\r\n"
       ]
      },
      {
       "output_type": "stream",
       "stream": "stdout",
       "text": [
        "Warning: lcl|Query_19418 SPU_009415-tr cds:pseudogene supercontig:GCA_000002235.2:Scaffold5168:12109:21771:1 gene:SPU_009415 transcript:SPU_009415-tr: Warning: Sequence contains no data \r\n"
       ]
      },
      {
       "output_type": "stream",
       "stream": "stdout",
       "text": [
        "Error: (1431.1) FASTA-Reader: Warning: FASTA-Reader: No residues given\r\n"
       ]
      },
      {
       "output_type": "stream",
       "stream": "stdout",
       "text": [
        "Warning: lcl|Query_19462 EMSPUT00000010825 cds:pseudogene supercontig:GCA_000002235.2:Scaffold698:259332:259404:1 gene:EMSPUG00000010825 transcript:EMSPUT00000010825 description:\"tRNA-Val for anticodon AAC\": Warning: Sequence contains no data \r\n",
        "Error: (1431.1) FASTA-Reader: Warning: FASTA-Reader: No residues given\r\n",
        "Error: (1431.1) FASTA-Reader: Warning: FASTA-Reader: No residues given\r\n"
       ]
      },
      {
       "output_type": "stream",
       "stream": "stdout",
       "text": [
        "Warning: lcl|Query_19480 EMSPUT00000009244 cds:pseudogene supercontig:GCA_000002235.2:Scaffold360:311466:311538:-1 gene:EMSPUG00000009244 transcript:EMSPUT00000009244 description:\"tRNA-Ala for anticodon GGC\": Warning: Sequence contains no data \r\n",
        "Warning: lcl|Query_19484 EMSPUT00000015514 cds:pseudogene supercontig:GCA_000002235.2:Scaffold360:457236:457303:1 gene:EMSPUG00000015514 transcript:EMSPUT00000015514 description:\"tRNA-His for anticodon GUG\": Warning: Sequence contains no data \r\n"
       ]
      },
      {
       "output_type": "stream",
       "stream": "stdout",
       "text": [
        "Error: (1431.1) FASTA-Reader: Warning: FASTA-Reader: No residues given\r\n"
       ]
      },
      {
       "output_type": "stream",
       "stream": "stdout",
       "text": [
        "Warning: lcl|Query_19553 EMSPUT00000005608 cds:pseudogene supercontig:GCA_000002235.2:Scaffold670:398549:398621:1 gene:EMSPUG00000005608 transcript:EMSPUT00000005608 description:\"tRNA-Met for anticodon CAU\": Warning: Sequence contains no data \r\n"
       ]
      },
      {
       "output_type": "stream",
       "stream": "stdout",
       "text": [
        "Error: (1431.1) FASTA-Reader: Warning: FASTA-Reader: No residues given\r\n"
       ]
      },
      {
       "output_type": "stream",
       "stream": "stdout",
       "text": [
        "Warning: lcl|Query_19592 EMSPUT00000000814 cds:pseudogene supercontig:GCA_000002235.2:Scaffold198:848269:848340:1 gene:EMSPUG00000000814 transcript:EMSPUT00000000814 description:\"tRNA-Gln for anticodon UUG\": Warning: Sequence contains no data \r\n"
       ]
      },
      {
       "output_type": "stream",
       "stream": "stdout",
       "text": [
        "Error: (1431.1) FASTA-Reader: Warning: FASTA-Reader: No residues given\r\n",
        "Error: (1431.1) FASTA-Reader: Warning: FASTA-Reader: No residues given\r\n"
       ]
      },
      {
       "output_type": "stream",
       "stream": "stdout",
       "text": [
        "Warning: lcl|Query_19629 EMSPUT00000008581 cds:pseudogene supercontig:GCA_000002235.2:Scaffold105:553720:553792:-1 gene:EMSPUG00000008581 transcript:EMSPUT00000008581 description:\"tRNA-Ala for anticodon GGC\": Warning: Sequence contains no data \r\n",
        "Warning: lcl|Query_19633 EMSPUT00000007344 cds:pseudogene supercontig:GCA_000002235.2:Scaffold105:748449:748521:-1 gene:EMSPUG00000007344 transcript:EMSPUT00000007344 description:\"tRNA-Met for anticodon CAU\": Warning: Sequence contains no data \r\n",
        "Error: (1431.1) FASTA-Reader: Warning: FASTA-Reader: No residues given\r\n",
        "Error: (1431.1) FASTA-Reader: Warning: FASTA-Reader: No residues given\r\n",
        "Error: (1431.1) FASTA-Reader: Warning: FASTA-Reader: No residues given\r\n"
       ]
      },
      {
       "output_type": "stream",
       "stream": "stdout",
       "text": [
        "Warning: lcl|Query_19649 EMSPUT00000013614 cds:pseudogene supercontig:GCA_000002235.2:Scaffold2678:76840:76920:-1 gene:EMSPUG00000013614 transcript:EMSPUT00000013614 description:\"tRNA-Leu for anticodon AAG\": Warning: Sequence contains no data \r\n",
        "Warning: lcl|Query_19650 EMSPUT00000000557 cds:pseudogene supercontig:GCA_000002235.2:Scaffold2678:81567:81648:-1 gene:EMSPUG00000000557 transcript:EMSPUT00000000557 description:\"tRNA-Leu for anticodon AAG\": Warning: Sequence contains no data \r\n",
        "Warning: lcl|Query_19656 SPU_014929-tr cds:pseudogene supercontig:GCA_000002235.2:Scaffold2318:11362:13830:-1 gene:SPU_014929 transcript:SPU_014929-tr: Warning: Sequence contains no data \r\n",
        "Error: (1431.1) FASTA-Reader: Warning: FASTA-Reader: No residues given\r\n",
        "Error: (1431.1) FASTA-Reader: Warning: FASTA-Reader: No residues given\r\n"
       ]
      },
      {
       "output_type": "stream",
       "stream": "stdout",
       "text": [
        "Warning: lcl|Query_19669 EMSPUT00000012645 cds:pseudogene supercontig:GCA_000002235.2:Scaffold109:185119:185190:-1 gene:EMSPUG00000012645 transcript:EMSPUT00000012645 description:\"tRNA-Glu for anticodon CUC\": Warning: Sequence contains no data \r\n",
        "Warning: lcl|Query_19670 EMSPUT00000001192 cds:pseudogene supercontig:GCA_000002235.2:Scaffold109:198385:198457:1 gene:EMSPUG00000001192 transcript:EMSPUT00000001192 description:\"tRNA-Lys for anticodon UUU\": Warning: Sequence contains no data \r\n"
       ]
      },
      {
       "output_type": "stream",
       "stream": "stdout",
       "text": [
        "Error: (1431.1) FASTA-Reader: Warning: FASTA-Reader: No residues given\r\n"
       ]
      },
      {
       "output_type": "stream",
       "stream": "stdout",
       "text": [
        "Warning: lcl|Query_19712 SPU_010693-tr cds:pseudogene supercontig:GCA_000002235.2:Scaffold128:333421:334369:1 gene:SPU_010693 transcript:SPU_010693-tr: Warning: Sequence contains no data \r\n"
       ]
      },
      {
       "output_type": "stream",
       "stream": "stdout",
       "text": [
        "Error: (1431.1) FASTA-Reader: Warning: FASTA-Reader: No residues given\r\n",
        "Error: (1431.1) FASTA-Reader: Warning: FASTA-Reader: No residues given\r\n",
        "Error: (1431.1) FASTA-Reader: Warning: FASTA-Reader: No residues given\r\n",
        "Error: (1431.1) FASTA-Reader: Warning: FASTA-Reader: No residues given\r\n",
        "Error: (1431.1) FASTA-Reader: Warning: FASTA-Reader: No residues given\r\n",
        "Error: (1431.1) FASTA-Reader: Warning: FASTA-Reader: No residues given\r\n",
        "Error: (1431.1) FASTA-Reader: Warning: FASTA-Reader: No residues given\r\n",
        "Error: (1431.1) FASTA-Reader: Warning: FASTA-Reader: No residues given\r\n"
       ]
      },
      {
       "output_type": "stream",
       "stream": "stdout",
       "text": [
        "Warning: lcl|Query_19767 EMSPUT00000007184 cds:pseudogene supercontig:GCA_000002235.2:Scaffold722:95925:95996:-1 gene:EMSPUG00000007184 transcript:EMSPUT00000007184 description:\"tRNA-Trp for anticodon CCA\": Warning: Sequence contains no data \r\n",
        "Warning: lcl|Query_19768 EMSPUT00000009910 cds:pseudogene supercontig:GCA_000002235.2:Scaffold722:96595:96666:-1 gene:EMSPUG00000009910 transcript:EMSPUT00000009910 description:\"tRNA-Trp for anticodon CCA\": Warning: Sequence contains no data \r\n",
        "Warning: lcl|Query_19769 EMSPUT00000005108 cds:pseudogene supercontig:GCA_000002235.2:Scaffold722:99573:99644:1 gene:EMSPUG00000005108 transcript:EMSPUT00000005108 description:\"tRNA-Trp for anticodon CCA\": Warning: Sequence contains no data \r\n",
        "Warning: lcl|Query_19770 EMSPUT00000008425 cds:pseudogene supercontig:GCA_000002235.2:Scaffold722:100739:100810:1 gene:EMSPUG00000008425 transcript:EMSPUT00000008425 description:\"tRNA-Trp for anticodon CCA\": Warning: Sequence contains no data \r\n",
        "Warning: lcl|Query_19771 EMSPUT00000007845 cds:pseudogene supercontig:GCA_000002235.2:Scaffold722:101215:101286:1 gene:EMSPUG00000007845 transcript:EMSPUT00000007845 description:\"tRNA-Trp for anticodon CCA\": Warning: Sequence contains no data \r\n",
        "Warning: lcl|Query_19772 EMSPUT00000001392 cds:pseudogene supercontig:GCA_000002235.2:Scaffold722:101654:101725:1 gene:EMSPUG00000001392 transcript:EMSPUT00000001392 description:\"tRNA-Trp for anticodon CCA\": Warning: Sequence contains no data \r\n",
        "Warning: lcl|Query_19773 EMSPUT00000009567 cds:pseudogene supercontig:GCA_000002235.2:Scaffold722:103349:103420:1 gene:EMSPUG00000009567 transcript:EMSPUT00000009567 description:\"tRNA-Trp for anticodon CCA\": Warning: Sequence contains no data \r\n",
        "Warning: lcl|Query_19774 EMSPUT00000003142 cds:pseudogene supercontig:GCA_000002235.2:Scaffold722:104158:104229:1 gene:EMSPUG00000003142 transcript:EMSPUT00000003142 description:\"tRNA-Trp for anticodon CCA\": Warning: Sequence contains no data \r\n",
        "Error: (1431.1) FASTA-Reader: Warning: FASTA-Reader: No residues given\r\n",
        "Error: (1431.1) FASTA-Reader: Warning: FASTA-Reader: No residues given\r\n",
        "Error: (1431.1) FASTA-Reader: Warning: FASTA-Reader: No residues given\r\n"
       ]
      },
      {
       "output_type": "stream",
       "stream": "stdout",
       "text": [
        "Warning: lcl|Query_19785 SPU_030017-tr cds:pseudogene supercontig:GCA_000002235.2:Scaffold11932:498:695:1 gene:SPU_030017 transcript:SPU_030017-tr: Warning: Sequence contains no data \r\n",
        "Warning: lcl|Query_19788 EMSPUT00000006656 cds:pseudogene supercontig:GCA_000002235.2:Scaffold1981:35861:35934:-1 gene:EMSPUG00000006656 transcript:EMSPUT00000006656 description:\"tRNA-Ala for anticodon GGC\": Warning: Sequence contains no data \r\n",
        "Warning: lcl|Query_19789 EMSPUT00000011031 cds:pseudogene supercontig:GCA_000002235.2:Scaffold1981:36540:36613:1 gene:EMSPUG00000011031 transcript:EMSPUT00000011031 description:\"tRNA-Ala for anticodon GGC\": Warning: Sequence contains no data \r\n"
       ]
      },
      {
       "output_type": "stream",
       "stream": "stdout",
       "text": [
        "Error: (1431.1) FASTA-Reader: Warning: FASTA-Reader: No residues given\r\n"
       ]
      },
      {
       "output_type": "stream",
       "stream": "stdout",
       "text": [
        "Warning: lcl|Query_19892 EMSPUT00000003644 cds:pseudogene supercontig:GCA_000002235.2:Scaffold130:102465:102536:1 gene:EMSPUG00000003644 transcript:EMSPUT00000003644 description:\"tRNA-Thr for anticodon UGU\": Warning: Sequence contains no data \r\n"
       ]
      },
      {
       "output_type": "stream",
       "stream": "stdout",
       "text": [
        "Error: (1431.1) FASTA-Reader: Warning: FASTA-Reader: No residues given\r\n"
       ]
      },
      {
       "output_type": "stream",
       "stream": "stdout",
       "text": [
        "Warning: lcl|Query_19916 EMSPUT00000013731 cds:pseudogene supercontig:GCA_000002235.2:Scaffold130:880026:880098:1 gene:EMSPUG00000013731 transcript:EMSPUT00000013731 description:\"tRNA-Met for anticodon CAU\": Warning: Sequence contains no data \r\n"
       ]
      },
      {
       "output_type": "stream",
       "stream": "stdout",
       "text": [
        "Error: (1431.1) FASTA-Reader: Warning: FASTA-Reader: No residues given\r\n",
        "Error: (1431.1) FASTA-Reader: Warning: FASTA-Reader: No residues given\r\n"
       ]
      },
      {
       "output_type": "stream",
       "stream": "stdout",
       "text": [
        "Warning: lcl|Query_19941 EMSPUT00000009133 cds:pseudogene supercontig:GCA_000002235.2:Scaffold2968:43470:43543:-1 gene:EMSPUG00000009133 transcript:EMSPUT00000009133 description:\"tRNA-Ala for anticodon GGC\": Warning: Sequence contains no data \r\n",
        "Warning: lcl|Query_19942 EMSPUT00000000249 cds:pseudogene supercontig:GCA_000002235.2:Scaffold2968:43644:43713:-1 gene:EMSPUG00000000249 transcript:EMSPUT00000000249 description:\"tRNA-Ala for anticodon GGC\": Warning: Sequence contains no data \r\n",
        "Error: (1431.1) FASTA-Reader: Warning: FASTA-Reader: No residues given\r\n"
       ]
      },
      {
       "output_type": "stream",
       "stream": "stdout",
       "text": [
        "Warning: lcl|Query_19958 EMSPUT00000002109 cds:pseudogene supercontig:GCA_000002235.2:Scaffold29401:277:349:1 gene:EMSPUG00000002109 transcript:EMSPUT00000002109 description:\"tRNA-Met for anticodon CAU\": Warning: Sequence contains no data \r\n",
        "Error: (1431.1) FASTA-Reader: Warning: FASTA-Reader: No residues given\r\n",
        "Error: (1431.1) FASTA-Reader: Warning: FASTA-Reader: No residues given\r\n"
       ]
      },
      {
       "output_type": "stream",
       "stream": "stdout",
       "text": [
        "Warning: lcl|Query_19964 EMSPUT00000002021 cds:pseudogene supercontig:GCA_000002235.2:Scaffold992:71431:71503:1 gene:EMSPUG00000002021 transcript:EMSPUT00000002021 description:\"tRNA-Lys for anticodon UUU\": Warning: Sequence contains no data \r\n",
        "Warning: lcl|Query_19972 EMSPUT00000013744 cds:pseudogene supercontig:GCA_000002235.2:Scaffold1169:1861:1926:-1 gene:EMSPUG00000013744 transcript:EMSPUT00000013744 description:\"tRNA-Phe for anticodon AAA\": Warning: Sequence contains no data \r\n",
        "Error: (1431.1) FASTA-Reader: Warning: FASTA-Reader: No residues given\r\n"
       ]
      },
      {
       "output_type": "stream",
       "stream": "stdout",
       "text": [
        "Warning: lcl|Query_19990 EMSPUT00000000969 cds:pseudogene supercontig:GCA_000002235.2:Scaffold6860:198:270:1 gene:EMSPUG00000000969 transcript:EMSPUT00000000969 description:\"tRNA-Val for anticodon UAC\": Warning: Sequence contains no data \r\n"
       ]
      },
      {
       "output_type": "stream",
       "stream": "stdout",
       "text": [
        "Error: (1431.1) FASTA-Reader: Warning: FASTA-Reader: No residues given\r\n"
       ]
      },
      {
       "output_type": "stream",
       "stream": "stdout",
       "text": [
        "Warning: lcl|Query_20011 EMSPUT00000006191 cds:pseudogene supercontig:GCA_000002235.2:Scaffold1210:134038:134112:1 gene:EMSPUG00000006191 transcript:EMSPUT00000006191 description:\"tRNA-Cys for anticodon GCA\": Warning: Sequence contains no data \r\n"
       ]
      },
      {
       "output_type": "stream",
       "stream": "stdout",
       "text": [
        "Error: (1431.1) FASTA-Reader: Warning: FASTA-Reader: No residues given\r\n",
        "Error: (1431.1) FASTA-Reader: Warning: FASTA-Reader: No residues given\r\n",
        "Error: (1431.1) FASTA-Reader: Warning: FASTA-Reader: No residues given\r\n"
       ]
      },
      {
       "output_type": "stream",
       "stream": "stdout",
       "text": [
        "Warning: lcl|Query_20060 EMSPUT00000000620 cds:pseudogene supercontig:GCA_000002235.2:Scaffold741:163786:163858:1 gene:EMSPUG00000000620 transcript:EMSPUT00000000620 description:\"tRNA-Met for anticodon CAU\": Warning: Sequence contains no data \r\n",
        "Warning: lcl|Query_20062 EMSPUT00000011717 cds:pseudogene supercontig:GCA_000002235.2:Scaffold741:199874:199948:-1 gene:EMSPUG00000011717 transcript:EMSPUT00000011717 description:\"tRNA-Ser for anticodon GGA\": Warning: Sequence contains no data \r\n",
        "Warning: lcl|Query_20064 EMSPUT00000006096 cds:pseudogene supercontig:GCA_000002235.2:Scaffold741:234751:234826:1 gene:EMSPUG00000006096 transcript:EMSPUT00000006096 description:\"tRNA-Glu for anticodon CUC\": Warning: Sequence contains no data \r\n",
        "Error: (1431.1) FASTA-Reader: Warning: FASTA-Reader: No residues given\r\n",
        "Error: (1431.1) FASTA-Reader: Warning: FASTA-Reader: No residues given\r\n",
        "Error: (1431.1) FASTA-Reader: Warning: FASTA-Reader: No residues given\r\n"
       ]
      },
      {
       "output_type": "stream",
       "stream": "stdout",
       "text": [
        "Warning: lcl|Query_20083 EMSPUT00000008498 cds:pseudogene supercontig:GCA_000002235.2:Scaffold311:293031:293103:-1 gene:EMSPUG00000008498 transcript:EMSPUT00000008498 description:\"tRNA-Val for anticodon CAC\": Warning: Sequence contains no data \r\n",
        "Warning: lcl|Query_20088 EMSPUT00000002037 cds:pseudogene supercontig:GCA_000002235.2:Scaffold311:487028:487102:1 gene:EMSPUG00000002037 transcript:EMSPUT00000002037 description:\"tRNA-Asp for anticodon GUC\": Warning: Sequence contains no data \r\n",
        "Warning: lcl|Query_20091 EMSPUT00000000291 cds:pseudogene supercontig:GCA_000002235.2:Scaffold311:564291:564362:1 gene:EMSPUG00000000291 transcript:EMSPUT00000000291 description:\"tRNA-Ala for anticodon CGC\": Warning: Sequence contains no data \r\n"
       ]
      },
      {
       "output_type": "stream",
       "stream": "stdout",
       "text": [
        "Error: (1431.1) FASTA-Reader: Warning: FASTA-Reader: No residues given\r\n",
        "Error: (1431.1) FASTA-Reader: Warning: FASTA-Reader: No residues given\r\n"
       ]
      },
      {
       "output_type": "stream",
       "stream": "stdout",
       "text": [
        "Warning: lcl|Query_20107 EMSPUT00000004176 cds:pseudogene supercontig:GCA_000002235.2:Scaffold1178:158788:158860:1 gene:EMSPUG00000004176 transcript:EMSPUT00000004176 description:\"tRNA-Met for anticodon CAU\": Warning: Sequence contains no data \r\n",
        "Warning: lcl|Query_20108 EMSPUT00000015103 cds:pseudogene supercontig:GCA_000002235.2:Scaffold1178:159447:159519:1 gene:EMSPUG00000015103 transcript:EMSPUT00000015103 description:\"tRNA-Lys for anticodon CUU\": Warning: Sequence contains no data \r\n"
       ]
      },
      {
       "output_type": "stream",
       "stream": "stdout",
       "text": [
        "Error: (1431.1) FASTA-Reader: Warning: FASTA-Reader: No residues given\r\n"
       ]
      },
      {
       "output_type": "stream",
       "stream": "stdout",
       "text": [
        "Warning: lcl|Query_20151 EMSPUT00000001731 cds:pseudogene supercontig:GCA_000002235.2:Scaffold197:374726:374794:-1 gene:EMSPUG00000001731 transcript:EMSPUT00000001731 description:\"tRNA-Gly for anticodon GCC\": Warning: Sequence contains no data \r\n"
       ]
      },
      {
       "output_type": "stream",
       "stream": "stdout",
       "text": [
        "Error: (1431.1) FASTA-Reader: Warning: FASTA-Reader: No residues given\r\n",
        "Error: (1431.1) FASTA-Reader: Warning: FASTA-Reader: No residues given\r\n"
       ]
      },
      {
       "output_type": "stream",
       "stream": "stdout",
       "text": [
        "Warning: lcl|Query_20262 EMSPUT00000004526 cds:pseudogene supercontig:GCA_000002235.2:Scaffold16:925583:925657:-1 gene:EMSPUG00000004526 transcript:EMSPUT00000004526 description:\"tRNA-Glu for anticodon CUC\": Warning: Sequence contains no data \r\n",
        "Warning: lcl|Query_20266 EMSPUT00000008403 cds:pseudogene supercontig:GCA_000002235.2:Scaffold16:1110419:1110493:-1 gene:EMSPUG00000008403 transcript:EMSPUT00000008403 description:\"tRNA-Lys for anticodon CUU\": Warning: Sequence contains no data \r\n"
       ]
      },
      {
       "output_type": "stream",
       "stream": "stdout",
       "text": [
        "Error: (1431.1) FASTA-Reader: Warning: FASTA-Reader: No residues given\r\n"
       ]
      },
      {
       "output_type": "stream",
       "stream": "stdout",
       "text": [
        "Warning: lcl|Query_20300 SPU_021225-tr cds:pseudogene supercontig:GCA_000002235.2:Scaffold2033:118359:121095:-1 gene:SPU_021225 transcript:SPU_021225-tr: Warning: Sequence contains no data \r\n"
       ]
      },
      {
       "output_type": "stream",
       "stream": "stdout",
       "text": [
        "Error: (1431.1) FASTA-Reader: Warning: FASTA-Reader: No residues given\r\n"
       ]
      },
      {
       "output_type": "stream",
       "stream": "stdout",
       "text": [
        "Warning: lcl|Query_20346 EMSPUT00000013272 cds:pseudogene supercontig:GCA_000002235.2:Scaffold145:804997:805069:-1 gene:EMSPUG00000013272 transcript:EMSPUT00000013272 description:\"tRNA-Ala for anticodon GGC\": Warning: Sequence contains no data \r\n",
        "Error: (1431.1) FASTA-Reader: Warning: FASTA-Reader: No residues given\r\n"
       ]
      },
      {
       "output_type": "stream",
       "stream": "stdout",
       "text": [
        "Warning: lcl|Query_20358 EMSPUT00000010167 cds:pseudogene supercontig:GCA_000002235.2:Scaffold1100:1448:1523:1 gene:EMSPUG00000010167 transcript:EMSPUT00000010167 description:\"tRNA-Ser for anticodon GGA\": Warning: Sequence contains no data \r\n",
        "Error: (1431.1) FASTA-Reader: Warning: FASTA-Reader: No residues given\r\n"
       ]
      },
      {
       "output_type": "stream",
       "stream": "stdout",
       "text": [
        "Warning: lcl|Query_20374 EMSPUT00000012632 cds:pseudogene supercontig:GCA_000002235.2:Scaffold2618:10687:10754:1 gene:EMSPUG00000012632 transcript:EMSPUT00000012632 description:\"Mammalian CPEB3 ribozyme\": Warning: Sequence contains no data \r\n",
        "Error: (1431.1) FASTA-Reader: Warning: FASTA-Reader: No residues given\r\n",
        "Error: (1431.1) FASTA-Reader: Warning: FASTA-Reader: No residues given\r\n"
       ]
      },
      {
       "output_type": "stream",
       "stream": "stdout",
       "text": [
        "Warning: lcl|Query_20384 EMSPUT00000006137 cds:pseudogene supercontig:GCA_000002235.2:Scaffold969:63465:63536:-1 gene:EMSPUG00000006137 transcript:EMSPUT00000006137 description:\"tRNA-Asp for anticodon GUC\": Warning: Sequence contains no data \r\n",
        "Warning: lcl|Query_20397 SPU_030026-tr cds:pseudogene supercontig:GCA_000002235.2:Scaffold969:206266:209599:-1 gene:SPU_030026 transcript:SPU_030026-tr: Warning: Sequence contains no data \r\n"
       ]
      },
      {
       "output_type": "stream",
       "stream": "stdout",
       "text": [
        "Error: (1431.1) FASTA-Reader: Warning: FASTA-Reader: No residues given\r\n"
       ]
      },
      {
       "output_type": "stream",
       "stream": "stdout",
       "text": [
        "Warning: lcl|Query_20436 EMSPUT00000012689 cds:pseudogene supercontig:GCA_000002235.2:Scaffold457:90915:90987:-1 gene:EMSPUG00000012689 transcript:EMSPUT00000012689 description:\"tRNA-Met for anticodon CAU\": Warning: Sequence contains no data \r\n",
        "Error: (1431.1) FASTA-Reader: Warning: FASTA-Reader: No residues given\r\n"
       ]
      },
      {
       "output_type": "stream",
       "stream": "stdout",
       "text": [
        "Warning: lcl|Query_20455 EMSPUT00000004491 cds:pseudogene supercontig:GCA_000002235.2:Scaffold621:83874:83948:-1 gene:EMSPUG00000004491 transcript:EMSPUT00000004491 description:\"tRNA-Glu for anticodon CUC\": Warning: Sequence contains no data \r\n",
        "Error: (1431.1) FASTA-Reader: Warning: FASTA-Reader: No residues given\r\n",
        "Error: (1431.1) FASTA-Reader: Warning: FASTA-Reader: No residues given\r\n"
       ]
      },
      {
       "output_type": "stream",
       "stream": "stdout",
       "text": [
        "Warning: lcl|Query_20473 EMSPUT00000002945 cds:pseudogene supercontig:GCA_000002235.2:Scaffold2737:31133:31206:-1 gene:EMSPUG00000002945 transcript:EMSPUT00000002945 description:\"tRNA-Pro for anticodon GGG\": Warning: Sequence contains no data \r\n"
       ]
      },
      {
       "output_type": "stream",
       "stream": "stdout",
       "text": [
        "Warning: lcl|Query_20484 SPU_030078-tr cds:pseudogene supercontig:GCA_000002235.2:Scaffold1585:92546:94097:-1 gene:SPU_030078 transcript:SPU_030078-tr: Warning: Sequence contains no data \r\n"
       ]
      },
      {
       "output_type": "stream",
       "stream": "stdout",
       "text": [
        "Error: (1431.1) FASTA-Reader: Warning: FASTA-Reader: No residues given\r\n"
       ]
      },
      {
       "output_type": "stream",
       "stream": "stdout",
       "text": [
        "Warning: lcl|Query_20532 EMSPUT00000007035 cds:pseudogene supercontig:GCA_000002235.2:Scaffold95:994148:994229:-1 gene:EMSPUG00000007035 transcript:EMSPUT00000007035 description:\"tRNA-Ser for anticodon GCU\": Warning: Sequence contains no data \r\n"
       ]
      },
      {
       "output_type": "stream",
       "stream": "stdout",
       "text": [
        "Error: (1431.1) FASTA-Reader: Warning: FASTA-Reader: No residues given\r\n",
        "Error: (1431.1) FASTA-Reader: Warning: FASTA-Reader: No residues given\r\n",
        "Error: (1431.1) FASTA-Reader: Warning: FASTA-Reader: No residues given\r\n",
        "Error: (1431.1) FASTA-Reader: Warning: FASTA-Reader: No residues given\r\n",
        "Error: (1431.1) FASTA-Reader: Warning: FASTA-Reader: No residues given\r\n",
        "Error: (1431.1) FASTA-Reader: Warning: FASTA-Reader: No residues given\r\n",
        "Error: (1431.1) FASTA-Reader: Warning: FASTA-Reader: No residues given\r\n",
        "Error: (1431.1) FASTA-Reader: Warning: FASTA-Reader: No residues given\r\n"
       ]
      },
      {
       "output_type": "stream",
       "stream": "stdout",
       "text": [
        "Error: (1431.1) FASTA-Reader: Warning: FASTA-Reader: No residues given\r\n"
       ]
      },
      {
       "output_type": "stream",
       "stream": "stdout",
       "text": [
        "Warning: lcl|Query_20614 EMSPUT00000004071 cds:pseudogene supercontig:GCA_000002235.2:Scaffold177:961107:961178:-1 gene:EMSPUG00000004071 transcript:EMSPUT00000004071 description:\"tRNA-Pro for anticodon AGG\": Warning: Sequence contains no data \r\n",
        "Warning: lcl|Query_20615 EMSPUT00000015779 cds:pseudogene supercontig:GCA_000002235.2:Scaffold177:961951:962022:-1 gene:EMSPUG00000015779 transcript:EMSPUT00000015779 description:\"tRNA-Pro for anticodon UGG\": Warning: Sequence contains no data \r\n",
        "Warning: lcl|Query_20616 EMSPUT00000002318 cds:pseudogene supercontig:GCA_000002235.2:Scaffold177:962867:962938:-1 gene:EMSPUG00000002318 transcript:EMSPUT00000002318 description:\"tRNA-Pro for anticodon AGG\": Warning: Sequence contains no data \r\n",
        "Warning: lcl|Query_20617 EMSPUT00000013040 cds:pseudogene supercontig:GCA_000002235.2:Scaffold177:963746:963817:-1 gene:EMSPUG00000013040 transcript:EMSPUT00000013040 description:\"tRNA-Pro for anticodon UGG\": Warning: Sequence contains no data \r\n",
        "Warning: lcl|Query_20618 EMSPUT00000000701 cds:pseudogene supercontig:GCA_000002235.2:Scaffold177:964027:964098:-1 gene:EMSPUG00000000701 transcript:EMSPUT00000000701 description:\"tRNA-Pro for anticodon AGG\": Warning: Sequence contains no data \r\n",
        "Warning: lcl|Query_20619 EMSPUT00000008181 cds:pseudogene supercontig:GCA_000002235.2:Scaffold177:965874:965945:-1 gene:EMSPUG00000008181 transcript:EMSPUT00000008181 description:\"tRNA-Pro for anticodon UGG\": Warning: Sequence contains no data \r\n",
        "Warning: lcl|Query_20620 EMSPUT00000014761 cds:pseudogene supercontig:GCA_000002235.2:Scaffold177:966159:966230:-1 gene:EMSPUG00000014761 transcript:EMSPUT00000014761 description:\"tRNA-Pro for anticodon AGG\": Warning: Sequence contains no data \r\n",
        "Warning: lcl|Query_20621 EMSPUT00000009416 cds:pseudogene supercontig:GCA_000002235.2:Scaffold177:967242:967313:-1 gene:EMSPUG00000009416 transcript:EMSPUT00000009416 description:\"tRNA-Pro for anticodon UGG\": Warning: Sequence contains no data \r\n",
        "Warning: lcl|Query_20628 EMSPUT00000008613 cds:pseudogene supercontig:GCA_000002235.2:Scaffold269:29977:30051:1 gene:EMSPUG00000008613 transcript:EMSPUT00000008613 description:\"tRNA-His for anticodon GUG\": Warning: Sequence contains no data \r\n"
       ]
      },
      {
       "output_type": "stream",
       "stream": "stdout",
       "text": [
        "Error: (1431.1) FASTA-Reader: Warning: FASTA-Reader: No residues given\r\n"
       ]
      },
      {
       "output_type": "stream",
       "stream": "stdout",
       "text": [
        "Warning: lcl|Query_20671 EMSPUT00000012164 cds:pseudogene supercontig:GCA_000002235.2:Scaffold1327:72139:72212:1 gene:EMSPUG00000012164 transcript:EMSPUT00000012164 description:\"tRNA-Ser for anticodon GGA\": Warning: Sequence contains no data \r\n"
       ]
      },
      {
       "output_type": "stream",
       "stream": "stdout",
       "text": [
        "Error: (1431.1) FASTA-Reader: Warning: FASTA-Reader: No residues given\r\n",
        "Error: (1431.1) FASTA-Reader: Warning: FASTA-Reader: No residues given\r\n",
        "Error: (1431.1) FASTA-Reader: Warning: FASTA-Reader: No residues given\r\n",
        "Error: (1431.1) FASTA-Reader: Warning: FASTA-Reader: No residues given\r\n"
       ]
      },
      {
       "output_type": "stream",
       "stream": "stdout",
       "text": [
        "Warning: lcl|Query_20703 EMSPUT00000004536 cds:pseudogene supercontig:GCA_000002235.2:Scaffold1508:116114:116186:-1 gene:EMSPUG00000004536 transcript:EMSPUT00000004536 description:\"tRNA-Ile for anticodon UAU\": Warning: Sequence contains no data \r\n",
        "Warning: lcl|Query_20705 EMSPUT00000011495 cds:pseudogene supercontig:GCA_000002235.2:Scaffold3072:45954:46028:1 gene:EMSPUG00000011495 transcript:EMSPUT00000011495 description:\"tRNA-SeC for anticodon UCA\": Warning: Sequence contains no data \r\n",
        "Warning: lcl|Query_20706 EMSPUT00000015060 cds:pseudogene supercontig:GCA_000002235.2:Scaffold3072:47859:47933:1 gene:EMSPUG00000015060 transcript:EMSPUT00000015060 description:\"tRNA-SeC for anticodon UCA\": Warning: Sequence contains no data \r\n",
        "Warning: lcl|Query_20707 EMSPUT00000015112 cds:pseudogene supercontig:GCA_000002235.2:Scaffold3072:55428:55502:1 gene:EMSPUG00000015112 transcript:EMSPUT00000015112 description:\"tRNA-SeC for anticodon UCA\": Warning: Sequence contains no data \r\n",
        "Error: (1431.1) FASTA-Reader: Warning: FASTA-Reader: No residues given\r\n"
       ]
      },
      {
       "output_type": "stream",
       "stream": "stdout",
       "text": [
        "Warning: lcl|Query_20729 EMSPUT00000012336 cds:pseudogene supercontig:GCA_000002235.2:Scaffold6246:1829:1901:1 gene:EMSPUG00000012336 transcript:EMSPUT00000012336 description:\"tRNA-Met for anticodon CAU\": Warning: Sequence contains no data \r\n"
       ]
      },
      {
       "output_type": "stream",
       "stream": "stdout",
       "text": [
        "Error: (1431.1) FASTA-Reader: Warning: FASTA-Reader: No residues given\r\n"
       ]
      },
      {
       "output_type": "stream",
       "stream": "stdout",
       "text": [
        "Warning: lcl|Query_20813 EMSPUT00000014136 cds:pseudogene supercontig:GCA_000002235.2:Scaffold13:997253:997326:-1 gene:EMSPUG00000014136 transcript:EMSPUT00000014136 description:\"tRNA-Ala for anticodon GGC\": Warning: Sequence contains no data \r\n"
       ]
      },
      {
       "output_type": "stream",
       "stream": "stdout",
       "text": [
        "Error: (1431.1) FASTA-Reader: Warning: FASTA-Reader: No residues given\r\n"
       ]
      },
      {
       "output_type": "stream",
       "stream": "stdout",
       "text": [
        "Warning: lcl|Query_20839 EMSPUT00000010063 cds:pseudogene supercontig:GCA_000002235.2:Scaffold657:86426:86499:1 gene:EMSPUG00000010063 transcript:EMSPUT00000010063 description:\"Mammalian CPEB3 ribozyme\": Warning: Sequence contains no data \r\n",
        "Error: (1431.1) FASTA-Reader: Warning: FASTA-Reader: No residues given\r\n"
       ]
      },
      {
       "output_type": "stream",
       "stream": "stdout",
       "text": [
        "Warning: lcl|Query_20851 EMSPUT00000014548 cds:pseudogene supercontig:GCA_000002235.2:Scaffold657:336194:336265:-1 gene:EMSPUG00000014548 transcript:EMSPUT00000014548 description:\"tRNA-Met for anticodon CAU\": Warning: Sequence contains no data \r\n"
       ]
      },
      {
       "output_type": "stream",
       "stream": "stdout",
       "text": [
        "Error: (1431.1) FASTA-Reader: Warning: FASTA-Reader: No residues given\r\n"
       ]
      },
      {
       "output_type": "stream",
       "stream": "stdout",
       "text": [
        "Warning: lcl|Query_20867 EMSPUT00000012887 cds:pseudogene supercontig:GCA_000002235.2:Scaffold501:92314:92386:-1 gene:EMSPUG00000012887 transcript:EMSPUT00000012887 description:\"tRNA-Glu for anticodon CUC\": Warning: Sequence contains no data \r\n",
        "Error: (1431.1) FASTA-Reader: Warning: FASTA-Reader: No residues given\r\n"
       ]
      },
      {
       "output_type": "stream",
       "stream": "stdout",
       "text": [
        "Warning: lcl|Query_20884 EMSPUT00000014920 cds:pseudogene supercontig:GCA_000002235.2:Scaffold501:383628:383700:1 gene:EMSPUG00000014920 transcript:EMSPUT00000014920 description:\"tRNA-Ala for anticodon GGC\": Warning: Sequence contains no data \r\n",
        "Error: (1431.1) FASTA-Reader: Warning: FASTA-Reader: No residues given\r\n",
        "Error: (1431.1) FASTA-Reader: Warning: FASTA-Reader: No residues given\r\n",
        "Error: (1431.1) FASTA-Reader: Warning: FASTA-Reader: No residues given\r\n",
        "Error: (1431.1) FASTA-Reader: Warning: FASTA-Reader: No residues given\r\n",
        "Error: (1431.1) FASTA-Reader: Warning: FASTA-Reader: No residues given\r\n",
        "Error: (1431.1) FASTA-Reader: Warning: FASTA-Reader: No residues given\r\n",
        "Error: (1431.1) FASTA-Reader: Warning: FASTA-Reader: No residues given\r\n"
       ]
      },
      {
       "output_type": "stream",
       "stream": "stdout",
       "text": [
        "Warning: lcl|Query_20891 EMSPUT00000011724 cds:pseudogene supercontig:GCA_000002235.2:Scaffold501:501951:502023:-1 gene:EMSPUG00000011724 transcript:EMSPUT00000011724 description:\"tRNA-Lys for anticodon CUU\": Warning: Sequence contains no data \r\n",
        "Warning: lcl|Query_20900 EMSPUT00000013271 cds:pseudogene supercontig:GCA_000002235.2:Scaffold661:2615:2686:-1 gene:EMSPUG00000013271 transcript:EMSPUT00000013271 description:\"tRNA-His for anticodon GUG\": Warning: Sequence contains no data \r\n",
        "Warning: lcl|Query_20901 EMSPUT00000006066 cds:pseudogene supercontig:GCA_000002235.2:Scaffold661:3248:3321:-1 gene:EMSPUG00000006066 transcript:EMSPUT00000006066 description:\"tRNA-His for anticodon GUG\": Warning: Sequence contains no data \r\n",
        "Warning: lcl|Query_20902 EMSPUT00000015134 cds:pseudogene supercontig:GCA_000002235.2:Scaffold661:4638:4709:-1 gene:EMSPUG00000015134 transcript:EMSPUT00000015134 description:\"tRNA-His for anticodon GUG\": Warning: Sequence contains no data \r\n",
        "Warning: lcl|Query_20904 EMSPUT00000000912 cds:pseudogene supercontig:GCA_000002235.2:Scaffold661:7490:7562:-1 gene:EMSPUG00000000912 transcript:EMSPUT00000000912 description:\"tRNA-Lys for anticodon CUU\": Warning: Sequence contains no data \r\n",
        "Warning: lcl|Query_20905 EMSPUT00000008906 cds:pseudogene supercontig:GCA_000002235.2:Scaffold661:15488:15560:-1 gene:EMSPUG00000008906 transcript:EMSPUT00000008906 description:\"tRNA-Lys for anticodon CUU\": Warning: Sequence contains no data \r\n",
        "Warning: lcl|Query_20906 EMSPUT00000002496 cds:pseudogene supercontig:GCA_000002235.2:Scaffold661:17004:17076:-1 gene:EMSPUG00000002496 transcript:EMSPUT00000002496 description:\"tRNA-Lys for anticodon CUU\": Warning: Sequence contains no data \r\n",
        "Error: (1431.1) FASTA-Reader: Warning: FASTA-Reader: No residues given\r\n",
        "Error: (1431.1) FASTA-Reader: Warning: FASTA-Reader: No residues given\r\n",
        "Error: (1431.1) FASTA-Reader: Warning: FASTA-Reader: No residues given\r\n",
        "Error: (1431.1) FASTA-Reader: Warning: FASTA-Reader: No residues given\r\n",
        "Error: (1431.1) FASTA-Reader: Warning: FASTA-Reader: No residues given\r\n",
        "Error: (1431.1) FASTA-Reader: Warning: FASTA-Reader: No residues given\r\n",
        "Error: (1431.1) FASTA-Reader: Warning: FASTA-Reader: No residues given\r\n"
       ]
      },
      {
       "output_type": "stream",
       "stream": "stdout",
       "text": [
        "Warning: lcl|Query_20910 EMSPUT00000014857 cds:pseudogene supercontig:GCA_000002235.2:Scaffold661:152787:152859:1 gene:EMSPUG00000014857 transcript:EMSPUT00000014857 description:\"tRNA-Lys for anticodon CUU\": Warning: Sequence contains no data \r\n",
        "Warning: lcl|Query_20911 EMSPUT00000005694 cds:pseudogene supercontig:GCA_000002235.2:Scaffold661:153070:153142:1 gene:EMSPUG00000005694 transcript:EMSPUT00000005694 description:\"tRNA-Lys for anticodon CUU\": Warning: Sequence contains no data \r\n",
        "Warning: lcl|Query_20912 EMSPUT00000006696 cds:pseudogene supercontig:GCA_000002235.2:Scaffold661:153438:153510:1 gene:EMSPUG00000006696 transcript:EMSPUT00000006696 description:\"tRNA-Lys for anticodon CUU\": Warning: Sequence contains no data \r\n",
        "Warning: lcl|Query_20913 EMSPUT00000012976 cds:pseudogene supercontig:GCA_000002235.2:Scaffold661:153724:153796:1 gene:EMSPUG00000012976 transcript:EMSPUT00000012976 description:\"tRNA-Lys for anticodon CUU\": Warning: Sequence contains no data \r\n",
        "Warning: lcl|Query_20922 EMSPUT00000010441 cds:pseudogene supercontig:GCA_000002235.2:Scaffold4127:339:413:1 gene:EMSPUG00000010441 transcript:EMSPUT00000010441 description:\"tRNA-Glu for anticodon CUC\": Warning: Sequence contains no data \r\n",
        "Warning: lcl|Query_20923 EMSPUT00000013368 cds:pseudogene supercontig:GCA_000002235.2:Scaffold4127:21040:21336:-1 gene:EMSPUG00000013368 transcript:EMSPUT00000013368 description:\"Metazoan signal recognition particle RNA\": Warning: Sequence contains no data \r\n",
        "Warning: lcl|Query_20924 EMSPUT00000004503 cds:pseudogene supercontig:GCA_000002235.2:Scaffold4127:25734:26030:-1 gene:EMSPUG00000004503 transcript:EMSPUT00000004503 description:\"Metazoan signal recognition particle RNA\": Warning: Sequence contains no data \r\n"
       ]
      },
      {
       "output_type": "stream",
       "stream": "stdout",
       "text": [
        "Error: (1431.1) FASTA-Reader: Warning: FASTA-Reader: No residues given\r\n",
        "Error: (1431.1) FASTA-Reader: Warning: FASTA-Reader: No residues given\r\n",
        "Error: (1431.1) FASTA-Reader: Warning: FASTA-Reader: No residues given\r\n",
        "Error: (1431.1) FASTA-Reader: Warning: FASTA-Reader: No residues given\r\n",
        "Error: (1431.1) FASTA-Reader: Warning: FASTA-Reader: No residues given\r\n",
        "Error: (1431.1) FASTA-Reader: Warning: FASTA-Reader: No residues given\r\n",
        "Error: (1431.1) FASTA-Reader: Warning: FASTA-Reader: No residues given\r\n",
        "Error: (1431.1) FASTA-Reader: Warning: FASTA-Reader: No residues given\r\n",
        "Error: (1431.1) FASTA-Reader: Warning: FASTA-Reader: No residues given\r\n",
        "Error: (1431.1) FASTA-Reader: Warning: FASTA-Reader: No residues given\r\n",
        "Error: (1431.1) FASTA-Reader: Warning: FASTA-Reader: No residues given\r\n",
        "Error: (1431.1) FASTA-Reader: Warning: FASTA-Reader: No residues given\r\n",
        "Error: (1431.1) FASTA-Reader: Warning: FASTA-Reader: No residues given\r\n",
        "Error: (1431.1) FASTA-Reader: Warning: FASTA-Reader: No residues given\r\n",
        "Error: (1431.1) FASTA-Reader: Warning: FASTA-Reader: No residues given\r\n",
        "Error: (1431.1) FASTA-Reader: Warning: FASTA-Reader: No residues given\r\n",
        "Error: (1431.1) FASTA-Reader: Warning: FASTA-Reader: No residues given\r\n",
        "Error: (1431.1) FASTA-Reader: Warning: FASTA-Reader: No residues given\r\n",
        "Error: (1431.1) FASTA-Reader: Warning: FASTA-Reader: No residues given\r\n",
        "Error: (1431.1) FASTA-Reader: Warning: FASTA-Reader: No residues given\r\n",
        "Error: (1431.1) FASTA-Reader: Warning: FASTA-Reader: No residues given\r\n",
        "Error: (1431.1) FASTA-Reader: Warning: FASTA-Reader: No residues given\r\n",
        "Error: (1431.1) FASTA-Reader: Warning: FASTA-Reader: No residues given\r\n",
        "Error: (1431.1) FASTA-Reader: Warning: FASTA-Reader: No residues given\r\n",
        "Error: (1431.1) FASTA-Reader: Warning: FASTA-Reader: No residues given\r\n",
        "Error: (1431.1) FASTA-Reader: Warning: FASTA-Reader: No residues given\r\n",
        "Error: (1431.1) FASTA-Reader: Warning: FASTA-Reader: No residues given\r\n",
        "Error: (1431.1) FASTA-Reader: Warning: FASTA-Reader: No residues given\r\n",
        "Error: (1431.1) FASTA-Reader: Warning: FASTA-Reader: No residues given\r\n",
        "Error: (1431.1) FASTA-Reader: Warning: FASTA-Reader: No residues given\r\n",
        "Error: (1431.1) FASTA-Reader: Warning: FASTA-Reader: No residues given\r\n",
        "Error: (1431.1) FASTA-Reader: Warning: FASTA-Reader: No residues given\r\n",
        "Error: (1431.1) FASTA-Reader: Warning: FASTA-Reader: No residues given\r\n",
        "Error: (1431.1) FASTA-Reader: Warning: FASTA-Reader: No residues given\r\n",
        "Error: (1431.1) FASTA-Reader: Warning: FASTA-Reader: No residues given\r\n",
        "Error: (1431.1) FASTA-Reader: Warning: FASTA-Reader: No residues given\r\n",
        "Error: (1431.1) FASTA-Reader: Warning: FASTA-Reader: No residues given\r\n",
        "Error: (1431.1) FASTA-Reader: Warning: FASTA-Reader: No residues given\r\n",
        "Error: (1431.1) FASTA-Reader: Warning: FASTA-Reader: No residues given\r\n",
        "Error: (1431.1) FASTA-Reader: Warning: FASTA-Reader: No residues given\r\n",
        "Error: (1431.1) FASTA-Reader: Warning: FASTA-Reader: No residues given\r\n",
        "Error: (1431.1) FASTA-Reader: Warning: FASTA-Reader: No residues given\r\n",
        "Error: (1431.1) FASTA-Reader: Warning: FASTA-Reader: No residues given\r\n",
        "Error: (1431.1) FASTA-Reader: Warning: FASTA-Reader: No residues given\r\n",
        "Error: (1431.1) FASTA-Reader: Warning: FASTA-Reader: No residues given\r\n",
        "Error: (1431.1) FASTA-Reader: Warning: FASTA-Reader: No residues given\r\n",
        "Error: (1431.1) FASTA-Reader: Warning: FASTA-Reader: No residues given\r\n",
        "Error: (1431.1) FASTA-Reader: Warning: FASTA-Reader: No residues given\r\n",
        "Error: (1431.1) FASTA-Reader: Warning: FASTA-Reader: No residues given\r\n",
        "Error: (1431.1) FASTA-Reader: Warning: FASTA-Reader: No residues given\r\n",
        "Error: (1431.1) FASTA-Reader: Warning: FASTA-Reader: No residues given\r\n",
        "Error: (1431.1) FASTA-Reader: Warning: FASTA-Reader: No residues given\r\n"
       ]
      },
      {
       "output_type": "stream",
       "stream": "stdout",
       "text": [
        "Warning: lcl|Query_20959 EMSPUT00000013002 cds:pseudogene supercontig:GCA_000002235.2:Scaffold773:58598:58662:-1 gene:EMSPUG00000013002 transcript:EMSPUT00000013002 description:\"tRNA-Met for anticodon CAU\": Warning: Sequence contains no data \r\n",
        "Warning: lcl|Query_20964 EMSPUT00000014114 cds:pseudogene supercontig:GCA_000002235.2:Scaffold3572:27675:27747:-1 gene:EMSPUG00000014114 transcript:EMSPUT00000014114 description:\"tRNA-Val for anticodon CAC\": Warning: Sequence contains no data \r\n",
        "Warning: lcl|Query_20971 EMSPUT00000001019 cds:pseudogene supercontig:GCA_000002235.2:Scaffold1340:41462:41533:-1 gene:EMSPUG00000001019 transcript:EMSPUT00000001019 description:\"tRNA-Asp for anticodon GUC\": Warning: Sequence contains no data \r\n",
        "Warning: lcl|Query_20972 EMSPUT00000012275 cds:pseudogene supercontig:GCA_000002235.2:Scaffold1340:41844:41915:-1 gene:EMSPUG00000012275 transcript:EMSPUT00000012275 description:\"tRNA-Asp for anticodon GUC\": Warning: Sequence contains no data \r\n",
        "Warning: lcl|Query_20973 EMSPUT00000002856 cds:pseudogene supercontig:GCA_000002235.2:Scaffold1340:42228:42299:-1 gene:EMSPUG00000002856 transcript:EMSPUT00000002856 description:\"tRNA-Asp for anticodon GUC\": Warning: Sequence contains no data \r\n",
        "Warning: lcl|Query_20974 EMSPUT00000015675 cds:pseudogene supercontig:GCA_000002235.2:Scaffold1340:42623:42694:-1 gene:EMSPUG00000015675 transcript:EMSPUT00000015675 description:\"tRNA-Asp for anticodon GUC\": Warning: Sequence contains no data \r\n",
        "Warning: lcl|Query_20975 EMSPUT00000000247 cds:pseudogene supercontig:GCA_000002235.2:Scaffold1340:43007:43078:-1 gene:EMSPUG00000000247 transcript:EMSPUT00000000247 description:\"tRNA-Asp for anticodon GUC\": Warning: Sequence contains no data \r\n",
        "Warning: lcl|Query_20976 EMSPUT00000012877 cds:pseudogene supercontig:GCA_000002235.2:Scaffold1340:43384:43455:-1 gene:EMSPUG00000012877 transcript:EMSPUT00000012877 description:\"tRNA-Asp for anticodon GUC\": Warning: Sequence contains no data \r\n",
        "Warning: lcl|Query_20977 EMSPUT00000006342 cds:pseudogene supercontig:GCA_000002235.2:Scaffold1340:43740:43811:-1 gene:EMSPUG00000006342 transcript:EMSPUT00000006342 description:\"tRNA-Asp for anticodon GUC\": Warning: Sequence contains no data \r\n",
        "Warning: lcl|Query_20978 EMSPUT00000003174 cds:pseudogene supercontig:GCA_000002235.2:Scaffold1340:44129:44200:-1 gene:EMSPUG00000003174 transcript:EMSPUT00000003174 description:\"tRNA-Asp for anticodon GUC\": Warning: Sequence contains no data \r\n",
        "Warning: lcl|Query_20979 EMSPUT00000011678 cds:pseudogene supercontig:GCA_000002235.2:Scaffold1340:44512:44583:-1 gene:EMSPUG00000011678 transcript:EMSPUT00000011678 description:\"tRNA-Asp for anticodon GUC\": Warning: Sequence contains no data \r\n",
        "Warning: lcl|Query_20980 EMSPUT00000000542 cds:pseudogene supercontig:GCA_000002235.2:Scaffold1340:44889:44960:-1 gene:EMSPUG00000000542 transcript:EMSPUT00000000542 description:\"tRNA-Asp for anticodon GUC\": Warning: Sequence contains no data \r\n",
        "Warning: lcl|Query_20981 EMSPUT00000009515 cds:pseudogene supercontig:GCA_000002235.2:Scaffold1340:45271:45342:-1 gene:EMSPUG00000009515 transcript:EMSPUT00000009515 description:\"tRNA-Asp for anticodon GUC\": Warning: Sequence contains no data \r\n",
        "Warning: lcl|Query_20982 EMSPUT00000010042 cds:pseudogene supercontig:GCA_000002235.2:Scaffold1340:45628:45699:-1 gene:EMSPUG00000010042 transcript:EMSPUT00000010042 description:\"tRNA-Asp for anticodon GUC\": Warning: Sequence contains no data \r\n",
        "Warning: lcl|Query_20983 EMSPUT00000003236 cds:pseudogene supercontig:GCA_000002235.2:Scaffold1340:46019:46090:-1 gene:EMSPUG00000003236 transcript:EMSPUT00000003236 description:\"tRNA-Asp for anticodon GUC\": Warning: Sequence contains no data \r\n",
        "Warning: lcl|Query_20984 EMSPUT00000014625 cds:pseudogene supercontig:GCA_000002235.2:Scaffold1340:46399:46470:-1 gene:EMSPUG00000014625 transcript:EMSPUT00000014625 description:\"tRNA-Asp for anticodon GUC\": Warning: Sequence contains no data \r\n",
        "Warning: lcl|Query_20985 EMSPUT00000009579 cds:pseudogene supercontig:GCA_000002235.2:Scaffold1340:46783:46854:-1 gene:EMSPUG00000009579 transcript:EMSPUT00000009579 description:\"tRNA-Asp for anticodon GUC\": Warning: Sequence contains no data \r\n",
        "Warning: lcl|Query_20986 EMSPUT00000014793 cds:pseudogene supercontig:GCA_000002235.2:Scaffold1340:47171:47242:-1 gene:EMSPUG00000014793 transcript:EMSPUT00000014793 description:\"tRNA-Asp for anticodon GUC\": Warning: Sequence contains no data \r\n",
        "Warning: lcl|Query_20987 EMSPUT00000007800 cds:pseudogene supercontig:GCA_000002235.2:Scaffold1340:47557:47628:-1 gene:EMSPUG00000007800 transcript:EMSPUT00000007800 description:\"tRNA-Asp for anticodon GUC\": Warning: Sequence contains no data \r\n",
        "Warning: lcl|Query_20988 EMSPUT00000005219 cds:pseudogene supercontig:GCA_000002235.2:Scaffold1340:47943:48014:-1 gene:EMSPUG00000005219 transcript:EMSPUT00000005219 description:\"tRNA-Asp for anticodon GUC\": Warning: Sequence contains no data \r\n",
        "Warning: lcl|Query_20989 EMSPUT00000011939 cds:pseudogene supercontig:GCA_000002235.2:Scaffold1340:48480:48551:-1 gene:EMSPUG00000011939 transcript:EMSPUT00000011939 description:\"tRNA-Asp for anticodon GUC\": Warning: Sequence contains no data \r\n",
        "Warning: lcl|Query_20990 EMSPUT00000003699 cds:pseudogene supercontig:GCA_000002235.2:Scaffold1340:48870:48941:-1 gene:EMSPUG00000003699 transcript:EMSPUT00000003699 description:\"tRNA-Asp for anticodon GUC\": Warning: Sequence contains no data \r\n",
        "Warning: lcl|Query_20991 EMSPUT00000010362 cds:pseudogene supercontig:GCA_000002235.2:Scaffold1340:49255:49326:-1 gene:EMSPUG00000010362 transcript:EMSPUT00000010362 description:\"tRNA-Asp for anticodon GUC\": Warning: Sequence contains no data \r\n",
        "Warning: lcl|Query_20992 EMSPUT00000009777 cds:pseudogene supercontig:GCA_000002235.2:Scaffold1340:49645:49716:-1 gene:EMSPUG00000009777 transcript:EMSPUT00000009777 description:\"tRNA-Asp for anticodon GUC\": Warning: Sequence contains no data \r\n",
        "Warning: lcl|Query_20993 EMSPUT00000005121 cds:pseudogene supercontig:GCA_000002235.2:Scaffold1340:50030:50101:-1 gene:EMSPUG00000005121 transcript:EMSPUT00000005121 description:\"tRNA-Asp for anticodon GUC\": Warning: Sequence contains no data \r\n",
        "Warning: lcl|Query_20994 EMSPUT00000002767 cds:pseudogene supercontig:GCA_000002235.2:Scaffold1340:50413:50484:-1 gene:EMSPUG00000002767 transcript:EMSPUT00000002767 description:\"tRNA-Asp for anticodon GUC\": Warning: Sequence contains no data \r\n",
        "Warning: lcl|Query_20995 EMSPUT00000003347 cds:pseudogene supercontig:GCA_000002235.2:Scaffold1340:50946:51017:-1 gene:EMSPUG00000003347 transcript:EMSPUT00000003347 description:\"tRNA-Asp for anticodon GUC\": Warning: Sequence contains no data \r\n",
        "Warning: lcl|Query_20996 EMSPUT00000011830 cds:pseudogene supercontig:GCA_000002235.2:Scaffold1340:51568:51639:1 gene:EMSPUG00000011830 transcript:EMSPUT00000011830 description:\"tRNA-Asp for anticodon GUC\": Warning: Sequence contains no data \r\n",
        "Warning: lcl|Query_20997 EMSPUT00000007912 cds:pseudogene supercontig:GCA_000002235.2:Scaffold1340:54124:54195:-1 gene:EMSPUG00000007912 transcript:EMSPUT00000007912 description:\"tRNA-Asp for anticodon GUC\": Warning: Sequence contains no data \r\n",
        "Warning: lcl|Query_20998 EMSPUT00000006444 cds:pseudogene supercontig:GCA_000002235.2:Scaffold1340:54514:54585:-1 gene:EMSPUG00000006444 transcript:EMSPUT00000006444 description:\"tRNA-Asp for anticodon GUC\": Warning: Sequence contains no data \r\n",
        "Warning: lcl|Query_20999 EMSPUT00000015425 cds:pseudogene supercontig:GCA_000002235.2:Scaffold1340:54899:54970:-1 gene:EMSPUG00000015425 transcript:EMSPUT00000015425 description:\"tRNA-Asp for anticodon GUC\": Warning: Sequence contains no data \r\n",
        "Warning: lcl|Query_21000 EMSPUT00000014735 cds:pseudogene supercontig:GCA_000002235.2:Scaffold1340:55289:55360:-1 gene:EMSPUG00000014735 transcript:EMSPUT00000014735 description:\"tRNA-Asp for anticodon GUC\": Warning: Sequence contains no data \r\n",
        "Warning: lcl|Query_21001 EMSPUT00000007590 cds:pseudogene supercontig:GCA_000002235.2:Scaffold1340:55674:55745:-1 gene:EMSPUG00000007590 transcript:EMSPUT00000007590 description:\"tRNA-Asp for anticodon GUC\": Warning: Sequence contains no data \r\n",
        "Warning: lcl|Query_21002 EMSPUT00000012011 cds:pseudogene supercontig:GCA_000002235.2:Scaffold1340:56057:56128:-1 gene:EMSPUG00000012011 transcript:EMSPUT00000012011 description:\"tRNA-Asp for anticodon GUC\": Warning: Sequence contains no data \r\n",
        "Warning: lcl|Query_21003 EMSPUT00000005718 cds:pseudogene supercontig:GCA_000002235.2:Scaffold1340:56591:56662:-1 gene:EMSPUG00000005718 transcript:EMSPUT00000005718 description:\"tRNA-Asp for anticodon GUC\": Warning: Sequence contains no data \r\n",
        "Warning: lcl|Query_21004 EMSPUT00000006381 cds:pseudogene supercontig:GCA_000002235.2:Scaffold1340:56972:57043:-1 gene:EMSPUG00000006381 transcript:EMSPUT00000006381 description:\"tRNA-Asp for anticodon GUC\": Warning: Sequence contains no data \r\n",
        "Warning: lcl|Query_21005 EMSPUT00000001063 cds:pseudogene supercontig:GCA_000002235.2:Scaffold1340:57503:57574:-1 gene:EMSPUG00000001063 transcript:EMSPUT00000001063 description:\"tRNA-Asp for anticodon GUC\": Warning: Sequence contains no data \r\n",
        "Warning: lcl|Query_21006 EMSPUT00000008586 cds:pseudogene supercontig:GCA_000002235.2:Scaffold1340:57891:57962:-1 gene:EMSPUG00000008586 transcript:EMSPUT00000008586 description:\"tRNA-Asp for anticodon GUC\": Warning: Sequence contains no data \r\n",
        "Warning: lcl|Query_21007 EMSPUT00000003302 cds:pseudogene supercontig:GCA_000002235.2:Scaffold1340:58278:58349:-1 gene:EMSPUG00000003302 transcript:EMSPUT00000003302 description:\"tRNA-Asp for anticodon GUC\": Warning: Sequence contains no data \r\n",
        "Warning: lcl|Query_21008 EMSPUT00000005863 cds:pseudogene supercontig:GCA_000002235.2:Scaffold1340:58514:58585:-1 gene:EMSPUG00000005863 transcript:EMSPUT00000005863 description:\"tRNA-Asp for anticodon GUC\": Warning: Sequence contains no data \r\n",
        "Warning: lcl|Query_21009 EMSPUT00000012531 cds:pseudogene supercontig:GCA_000002235.2:Scaffold1340:59048:59119:-1 gene:EMSPUG00000012531 transcript:EMSPUT00000012531 description:\"tRNA-Asp for anticodon GUC\": Warning: Sequence contains no data \r\n",
        "Warning: lcl|Query_21010 EMSPUT00000007742 cds:pseudogene supercontig:GCA_000002235.2:Scaffold1340:59432:59503:-1 gene:EMSPUG00000007742 transcript:EMSPUT00000007742 description:\"tRNA-Asp for anticodon GUC\": Warning: Sequence contains no data \r\n",
        "Warning: lcl|Query_21011 EMSPUT00000014779 cds:pseudogene supercontig:GCA_000002235.2:Scaffold1340:59668:59739:-1 gene:EMSPUG00000014779 transcript:EMSPUT00000014779 description:\"tRNA-Asp for anticodon GUC\": Warning: Sequence contains no data \r\n",
        "Warning: lcl|Query_21012 EMSPUT00000015173 cds:pseudogene supercontig:GCA_000002235.2:Scaffold1340:60055:60125:-1 gene:EMSPUG00000015173 transcript:EMSPUT00000015173 description:\"tRNA-Asp for anticodon GUC\": Warning: Sequence contains no data \r\n",
        "Warning: lcl|Query_21013 EMSPUT00000005912 cds:pseudogene supercontig:GCA_000002235.2:Scaffold1340:60591:60662:-1 gene:EMSPUG00000005912 transcript:EMSPUT00000005912 description:\"tRNA-Asp for anticodon GUC\": Warning: Sequence contains no data \r\n",
        "Warning: lcl|Query_21015 EMSPUT00000007033 cds:pseudogene supercontig:GCA_000002235.2:Scaffold1340:62287:62358:-1 gene:EMSPUG00000007033 transcript:EMSPUT00000007033 description:\"tRNA-Asp for anticodon GUC\": Warning: Sequence contains no data \r\n",
        "Warning: lcl|Query_21016 EMSPUT00000010084 cds:pseudogene supercontig:GCA_000002235.2:Scaffold1340:64643:64714:-1 gene:EMSPUG00000010084 transcript:EMSPUT00000010084 description:\"tRNA-Asp for anticodon GUC\": Warning: Sequence contains no data \r\n",
        "Warning: lcl|Query_21017 EMSPUT00000002989 cds:pseudogene supercontig:GCA_000002235.2:Scaffold1340:65180:65251:-1 gene:EMSPUG00000002989 transcript:EMSPUT00000002989 description:\"tRNA-Asp for anticodon GUC\": Warning: Sequence contains no data \r\n",
        "Warning: lcl|Query_21018 EMSPUT00000008348 cds:pseudogene supercontig:GCA_000002235.2:Scaffold1340:67513:67584:-1 gene:EMSPUG00000008348 transcript:EMSPUT00000008348 description:\"tRNA-Asp for anticodon GUC\": Warning: Sequence contains no data \r\n",
        "Warning: lcl|Query_21019 EMSPUT00000001208 cds:pseudogene supercontig:GCA_000002235.2:Scaffold1340:70482:70553:-1 gene:EMSPUG00000001208 transcript:EMSPUT00000001208 description:\"tRNA-Asp for anticodon GUC\": Warning: Sequence contains no data \r\n",
        "Warning: lcl|Query_21020 EMSPUT00000007256 cds:pseudogene supercontig:GCA_000002235.2:Scaffold1340:71100:71171:1 gene:EMSPUG00000007256 transcript:EMSPUT00000007256 description:\"tRNA-Asp for anticodon GUC\": Warning: Sequence contains no data \r\n",
        "Warning: lcl|Query_21021 EMSPUT00000014289 cds:pseudogene supercontig:GCA_000002235.2:Scaffold1340:71469:71540:1 gene:EMSPUG00000014289 transcript:EMSPUT00000014289 description:\"tRNA-Asp for anticodon GUC\": Warning: Sequence contains no data \r\n"
       ]
      },
      {
       "output_type": "stream",
       "stream": "stdout",
       "text": [
        "Error: (1431.1) FASTA-Reader: Warning: FASTA-Reader: No residues given\r\n",
        "Error: (1431.1) FASTA-Reader: Warning: FASTA-Reader: No residues given\r\n"
       ]
      },
      {
       "output_type": "stream",
       "stream": "stdout",
       "text": [
        "Warning: lcl|Query_21050 EMSPUT00000010062 cds:pseudogene supercontig:GCA_000002235.2:Scaffold1516:173559:173630:1 gene:EMSPUG00000010062 transcript:EMSPUT00000010062 description:\"Mammalian CPEB3 ribozyme\": Warning: Sequence contains no data \r\n",
        "Warning: lcl|Query_21051 EMSPUT00000002748 cds:pseudogene supercontig:GCA_000002235.2:Scaffold1516:190600:190671:1 gene:EMSPUG00000002748 transcript:EMSPUT00000002748 description:\"Mammalian CPEB3 ribozyme\": Warning: Sequence contains no data \r\n",
        "Error: (1431.1) FASTA-Reader: Warning: FASTA-Reader: No residues given\r\n",
        "Error: (1431.1) FASTA-Reader: Warning: FASTA-Reader: No residues given\r\n",
        "Error: (1431.1) FASTA-Reader: Warning: FASTA-Reader: No residues given\r\n",
        "Error: (1431.1) FASTA-Reader: Warning: FASTA-Reader: No residues given\r\n"
       ]
      },
      {
       "output_type": "stream",
       "stream": "stdout",
       "text": [
        "Warning: lcl|Query_21060 EMSPUT00000006042 cds:pseudogene supercontig:GCA_000002235.2:Scaffold3220:54780:54853:-1 gene:EMSPUG00000006042 transcript:EMSPUT00000006042 description:\"tRNA-Ala for anticodon GGC\": Warning: Sequence contains no data \r\n",
        "Warning: lcl|Query_21061 EMSPUT00000001268 cds:pseudogene supercontig:GCA_000002235.2:Scaffold3220:55417:55490:-1 gene:EMSPUG00000001268 transcript:EMSPUT00000001268 description:\"tRNA-Ala for anticodon GGC\": Warning: Sequence contains no data \r\n",
        "Warning: lcl|Query_21062 EMSPUT00000013058 cds:pseudogene supercontig:GCA_000002235.2:Scaffold3220:55735:55808:-1 gene:EMSPUG00000013058 transcript:EMSPUT00000013058 description:\"tRNA-Ala for anticodon GGC\": Warning: Sequence contains no data \r\n",
        "Warning: lcl|Query_21063 EMSPUT00000007163 cds:pseudogene supercontig:GCA_000002235.2:Scaffold3220:56053:56126:-1 gene:EMSPUG00000007163 transcript:EMSPUT00000007163 description:\"tRNA-Ala for anticodon GGC\": Warning: Sequence contains no data \r\n"
       ]
      },
      {
       "output_type": "stream",
       "stream": "stdout",
       "text": [
        "Error: (1431.1) FASTA-Reader: Warning: FASTA-Reader: No residues given\r\n",
        "Error: (1431.1) FASTA-Reader: Warning: FASTA-Reader: No residues given\r\n"
       ]
      },
      {
       "output_type": "stream",
       "stream": "stdout",
       "text": [
        "Warning: lcl|Query_21104 EMSPUT00000013311 cds:pseudogene supercontig:GCA_000002235.2:Scaffold398:383098:383170:-1 gene:EMSPUG00000013311 transcript:EMSPUT00000013311 description:\"tRNA-Met for anticodon CAU\": Warning: Sequence contains no data \r\n",
        "Warning: lcl|Query_21112 EMSPUT00000009341 cds:pseudogene supercontig:GCA_000002235.2:Scaffold31325:1023:1096:1 gene:EMSPUG00000009341 transcript:EMSPUT00000009341 description:\"tRNA-His for anticodon GUG\": Warning: Sequence contains no data \r\n"
       ]
      },
      {
       "output_type": "stream",
       "stream": "stdout",
       "text": [
        "Error: (1431.1) FASTA-Reader: Warning: FASTA-Reader: No residues given\r\n"
       ]
      },
      {
       "output_type": "stream",
       "stream": "stdout",
       "text": [
        "Warning: lcl|Query_21212 EMSPUT00000007375 cds:pseudogene supercontig:GCA_000002235.2:Scaffold7462:8117:8189:-1 gene:EMSPUG00000007375 transcript:EMSPUT00000007375 description:\"tRNA-Met for anticodon CAU\": Warning: Sequence contains no data \r\n"
       ]
      },
      {
       "output_type": "stream",
       "stream": "stdout",
       "text": [
        "Error: (1431.1) FASTA-Reader: Warning: FASTA-Reader: No residues given\r\n",
        "Error: (1431.1) FASTA-Reader: Warning: FASTA-Reader: No residues given\r\n",
        "Error: (1431.1) FASTA-Reader: Warning: FASTA-Reader: No residues given\r\n",
        "Error: (1431.1) FASTA-Reader: Warning: FASTA-Reader: No residues given\r\n",
        "Error: (1431.1) FASTA-Reader: Warning: FASTA-Reader: No residues given\r\n"
       ]
      },
      {
       "output_type": "stream",
       "stream": "stdout",
       "text": [
        "Warning: lcl|Query_21246 SPU_030089-tr cds:pseudogene supercontig:GCA_000002235.2:Scaffold930:81256:83798:1 gene:SPU_030089 transcript:SPU_030089-tr: Warning: Sequence contains no data \r\n",
        "Warning: lcl|Query_21247 EMSPUT00000009632 cds:pseudogene supercontig:GCA_000002235.2:Scaffold930:90062:90134:1 gene:EMSPUG00000009632 transcript:EMSPUT00000009632 description:\"tRNA-Ala for anticodon AGC\": Warning: Sequence contains no data \r\n",
        "Warning: lcl|Query_21248 EMSPUT00000000877 cds:pseudogene supercontig:GCA_000002235.2:Scaffold930:95033:95105:1 gene:EMSPUG00000000877 transcript:EMSPUT00000000877 description:\"tRNA-Ala for anticodon AGC\": Warning: Sequence contains no data \r\n",
        "Warning: lcl|Query_21253 EMSPUT00000011268 cds:pseudogene supercontig:GCA_000002235.2:Scaffold930:235621:235694:-1 gene:EMSPUG00000011268 transcript:EMSPUT00000011268 description:\"tRNA-Ala for anticodon AGC\": Warning: Sequence contains no data \r\n",
        "Warning: lcl|Query_21262 EMSPUT00000010968 cds:pseudogene supercontig:GCA_000002235.2:Scaffold759:466344:466416:-1 gene:EMSPUG00000010968 transcript:EMSPUT00000010968 description:\"tRNA-Met for anticodon CAU\": Warning: Sequence contains no data \r\n"
       ]
      },
      {
       "output_type": "stream",
       "stream": "stdout",
       "text": [
        "Error: (1431.1) FASTA-Reader: Warning: FASTA-Reader: No residues given\r\n"
       ]
      },
      {
       "output_type": "stream",
       "stream": "stdout",
       "text": [
        "Warning: lcl|Query_21349 EMSPUT00000011178 cds:pseudogene supercontig:GCA_000002235.2:Scaffold20476:1878:1950:1 gene:EMSPUG00000011178 transcript:EMSPUT00000011178 description:\"tRNA-Met for anticodon CAU\": Warning: Sequence contains no data \r\n",
        "Error: (1431.1) FASTA-Reader: Warning: FASTA-Reader: No residues given\r\n"
       ]
      },
      {
       "output_type": "stream",
       "stream": "stdout",
       "text": [
        "Warning: lcl|Query_21357 EMSPUT00000006809 cds:pseudogene supercontig:GCA_000002235.2:Scaffold204:461170:461242:1 gene:EMSPUG00000006809 transcript:EMSPUT00000006809 description:\"tRNA-Met for anticodon CAU\": Warning: Sequence contains no data \r\n"
       ]
      },
      {
       "output_type": "stream",
       "stream": "stdout",
       "text": [
        "Error: (1431.1) FASTA-Reader: Warning: FASTA-Reader: No residues given\r\n"
       ]
      },
      {
       "output_type": "stream",
       "stream": "stdout",
       "text": [
        "Warning: lcl|Query_21380 EMSPUT00000002643 cds:pseudogene supercontig:GCA_000002235.2:Scaffold7268:483:555:-1 gene:EMSPUG00000002643 transcript:EMSPUT00000002643 description:\"tRNA-Lys for anticodon CUU\": Warning: Sequence contains no data \r\n",
        "Error: (1431.1) FASTA-Reader: Warning: FASTA-Reader: No residues given\r\n",
        "Error: (1431.1) FASTA-Reader: Warning: FASTA-Reader: No residues given\r\n",
        "Error: (1431.1) FASTA-Reader: Warning: FASTA-Reader: No residues given\r\n",
        "Error: (1431.1) FASTA-Reader: Warning: FASTA-Reader: No residues given\r\n",
        "Error: (1431.1) FASTA-Reader: Warning: FASTA-Reader: No residues given\r\n",
        "Error: (1431.1) FASTA-Reader: Warning: FASTA-Reader: No residues given\r\n"
       ]
      },
      {
       "output_type": "stream",
       "stream": "stdout",
       "text": [
        "Warning: lcl|Query_21397 EMSPUT00000006126 cds:pseudogene supercontig:GCA_000002235.2:Scaffold937:240817:240887:1 gene:EMSPUG00000006126 transcript:EMSPUT00000006126 description:\"tRNA-Lys for anticodon CUU\": Warning: Sequence contains no data \r\n",
        "Warning: lcl|Query_21399 EMSPUT00000004144 cds:pseudogene supercontig:GCA_000002235.2:Scaffold937:276541:276613:1 gene:EMSPUG00000004144 transcript:EMSPUT00000004144 description:\"tRNA-Lys for anticodon CUU\": Warning: Sequence contains no data \r\n",
        "Warning: lcl|Query_21406 EMSPUT00000001650 cds:pseudogene supercontig:GCA_000002235.2:Scaffold874:88144:88225:-1 gene:EMSPUG00000001650 transcript:EMSPUT00000001650 description:\"tRNA-Ser for anticodon UGA\": Warning: Sequence contains no data \r\n",
        "Warning: lcl|Query_21407 EMSPUT00000008390 cds:pseudogene supercontig:GCA_000002235.2:Scaffold874:88474:88555:-1 gene:EMSPUG00000008390 transcript:EMSPUT00000008390 description:\"tRNA-Ser for anticodon UGA\": Warning: Sequence contains no data \r\n",
        "Warning: lcl|Query_21408 EMSPUT00000015139 cds:pseudogene supercontig:GCA_000002235.2:Scaffold874:92562:92634:1 gene:EMSPUG00000015139 transcript:EMSPUT00000015139 description:\"tRNA-Met for anticodon CAU\": Warning: Sequence contains no data \r\n",
        "Warning: lcl|Query_21414 SPU_030050-tr cds:pseudogene supercontig:GCA_000002235.2:Scaffold6491:3646:3758:1 gene:SPU_030050 transcript:SPU_030050-tr: Warning: Sequence contains no data \r\n"
       ]
      },
      {
       "output_type": "stream",
       "stream": "stdout",
       "text": [
        "Error: (1431.1) FASTA-Reader: Warning: FASTA-Reader: No residues given\r\n"
       ]
      },
      {
       "output_type": "stream",
       "stream": "stdout",
       "text": [
        "Warning: lcl|Query_21446 EMSPUT00000008288 cds:pseudogene supercontig:GCA_000002235.2:Scaffold263:273906:273987:-1 gene:EMSPUG00000008288 transcript:EMSPUT00000008288 description:\"tRNA-Ser for anticodon GCU\": Warning: Sequence contains no data \r\n"
       ]
      },
      {
       "output_type": "stream",
       "stream": "stdout",
       "text": [
        "Error: (1431.1) FASTA-Reader: Warning: FASTA-Reader: No residues given\r\n"
       ]
      },
      {
       "output_type": "stream",
       "stream": "stdout",
       "text": [
        "Warning: lcl|Query_21484 EMSPUT00000000345 cds:pseudogene supercontig:GCA_000002235.2:Scaffold33:207251:207324:1 gene:EMSPUG00000000345 transcript:EMSPUT00000000345 description:\"tRNA-Ala for anticodon GGC\": Warning: Sequence contains no data \r\n",
        "Error: (1431.1) FASTA-Reader: Warning: FASTA-Reader: No residues given\r\n",
        "Error: (1431.1) FASTA-Reader: Warning: FASTA-Reader: No residues given\r\n",
        "Error: (1431.1) FASTA-Reader: Warning: FASTA-Reader: No residues given\r\n",
        "Error: (1431.1) FASTA-Reader: Warning: FASTA-Reader: No residues given\r\n",
        "Error: (1431.1) FASTA-Reader: Warning: FASTA-Reader: No residues given\r\n",
        "Error: (1431.1) FASTA-Reader: Warning: FASTA-Reader: No residues given\r\n"
       ]
      },
      {
       "output_type": "stream",
       "stream": "stdout",
       "text": [
        "Warning: lcl|Query_21501 EMSPUT00000005588 cds:pseudogene supercontig:GCA_000002235.2:Scaffold33:679893:679963:-1 gene:EMSPUG00000005588 transcript:EMSPUT00000005588 description:\"tRNA-Gly for anticodon GCC\": Warning: Sequence contains no data \r\n",
        "Warning: lcl|Query_21502 EMSPUT00000006408 cds:pseudogene supercontig:GCA_000002235.2:Scaffold33:704985:705057:1 gene:EMSPUG00000006408 transcript:EMSPUT00000006408 description:\"tRNA-Lys for anticodon CUU\": Warning: Sequence contains no data \r\n",
        "Warning: lcl|Query_21503 EMSPUT00000015421 cds:pseudogene supercontig:GCA_000002235.2:Scaffold33:705556:705628:1 gene:EMSPUG00000015421 transcript:EMSPUT00000015421 description:\"tRNA-Lys for anticodon CUU\": Warning: Sequence contains no data \r\n",
        "Warning: lcl|Query_21504 EMSPUT00000004726 cds:pseudogene supercontig:GCA_000002235.2:Scaffold33:706125:706197:1 gene:EMSPUG00000004726 transcript:EMSPUT00000004726 description:\"tRNA-Lys for anticodon CUU\": Warning: Sequence contains no data \r\n",
        "Warning: lcl|Query_21505 EMSPUT00000013727 cds:pseudogene supercontig:GCA_000002235.2:Scaffold33:706726:706798:1 gene:EMSPUG00000013727 transcript:EMSPUT00000013727 description:\"tRNA-Lys for anticodon CUU\": Warning: Sequence contains no data \r\n",
        "Warning: lcl|Query_21506 EMSPUT00000014428 cds:pseudogene supercontig:GCA_000002235.2:Scaffold33:707306:707378:1 gene:EMSPUG00000014428 transcript:EMSPUT00000014428 description:\"tRNA-Lys for anticodon CUU\": Warning: Sequence contains no data \r\n",
        "Error: (1431.1) FASTA-Reader: Warning: FASTA-Reader: No residues given\r\n",
        "Error: (1431.1) FASTA-Reader: Warning: FASTA-Reader: No residues given\r\n",
        "Error: (1431.1) FASTA-Reader: Warning: FASTA-Reader: No residues given\r\n",
        "Error: (1431.1) FASTA-Reader: Warning: FASTA-Reader: No residues given\r\n"
       ]
      },
      {
       "output_type": "stream",
       "stream": "stdout",
       "text": [
        "Warning: lcl|Query_21512 SPU_030076-tr cds:pseudogene supercontig:GCA_000002235.2:Scaffold33:890289:891354:1 gene:SPU_030076 transcript:SPU_030076-tr: Warning: Sequence contains no data \r\n",
        "Warning: lcl|Query_21518 SPU_007850-tr cds:pseudogene supercontig:GCA_000002235.2:Scaffold33:990109:992779:-1 gene:SPU_007850 transcript:SPU_007850-tr: Warning: Sequence contains no data \r\n",
        "Warning: lcl|Query_21520 SPU_030103-tr cds:pseudogene supercontig:GCA_000002235.2:Scaffold33:991146:992229:-1 gene:SPU_030103 transcript:SPU_030103-tr: Warning: Sequence contains no data \r\n",
        "Warning: lcl|Query_21521 SPU_025613-tr cds:pseudogene supercontig:GCA_000002235.2:Scaffold33:994298:996264:-1 gene:SPU_025613 transcript:SPU_025613-tr: Warning: Sequence contains no data \r\n",
        "Error: (1431.1) FASTA-Reader: Warning: FASTA-Reader: No residues given\r\n",
        "Error: (1431.1) FASTA-Reader: Warning: FASTA-Reader: No residues given\r\n"
       ]
      },
      {
       "output_type": "stream",
       "stream": "stdout",
       "text": [
        "Warning: lcl|Query_21538 EMSPUT00000004404 cds:pseudogene supercontig:GCA_000002235.2:Scaffold2212:128862:128932:-1 gene:EMSPUG00000004404 transcript:EMSPUT00000004404 description:\"tRNA-Gly for anticodon GCC\": Warning: Sequence contains no data \r\n",
        "Warning: lcl|Query_21539 EMSPUT00000009859 cds:pseudogene supercontig:GCA_000002235.2:Scaffold2212:136920:136990:1 gene:EMSPUG00000009859 transcript:EMSPUT00000009859 description:\"tRNA-Gly for anticodon GCC\": Warning: Sequence contains no data \r\n"
       ]
      },
      {
       "output_type": "stream",
       "stream": "stdout",
       "text": [
        "Error: (1431.1) FASTA-Reader: Warning: FASTA-Reader: No residues given\r\n"
       ]
      },
      {
       "output_type": "stream",
       "stream": "stdout",
       "text": [
        "Warning: lcl|Query_21596 EMSPUT00000009147 cds:pseudogene supercontig:GCA_000002235.2:Scaffold1158:208937:209019:-1 gene:EMSPUG00000009147 transcript:EMSPUT00000009147 description:\"tRNA-Cys for anticodon GCA\": Warning: Sequence contains no data \r\n"
       ]
      },
      {
       "output_type": "stream",
       "stream": "stdout",
       "text": [
        "Error: (1431.1) FASTA-Reader: Warning: FASTA-Reader: No residues given\r\n"
       ]
      },
      {
       "output_type": "stream",
       "stream": "stdout",
       "text": [
        "Warning: lcl|Query_21658 EMSPUT00000014543 cds:pseudogene supercontig:GCA_000002235.2:Scaffold709:69912:69987:-1 gene:EMSPUG00000014543 transcript:EMSPUT00000014543 description:\"tRNA-Phe for anticodon GAA\": Warning: Sequence contains no data \r\n"
       ]
      },
      {
       "output_type": "stream",
       "stream": "stdout",
       "text": [
        "Error: (1431.1) FASTA-Reader: Warning: FASTA-Reader: No residues given\r\n",
        "Error: (1431.1) FASTA-Reader: Warning: FASTA-Reader: No residues given\r\n",
        "Error: (1431.1) FASTA-Reader: Warning: FASTA-Reader: No residues given\r\n"
       ]
      },
      {
       "output_type": "stream",
       "stream": "stdout",
       "text": [
        "Warning: lcl|Query_21715 EMSPUT00000010501 cds:pseudogene supercontig:GCA_000002235.2:Scaffold243:523911:523983:-1 gene:EMSPUG00000010501 transcript:EMSPUT00000010501 description:\"tRNA-Met for anticodon CAU\": Warning: Sequence contains no data \r\n",
        "Warning: lcl|Query_21717 EMSPUT00000005372 cds:pseudogene supercontig:GCA_000002235.2:Scaffold243:706410:706481:1 gene:EMSPUG00000005372 transcript:EMSPUT00000005372 description:\"tRNA-Gln for anticodon CUG\": Warning: Sequence contains no data \r\n"
       ]
      },
      {
       "output_type": "stream",
       "stream": "stdout",
       "text": [
        "Warning: lcl|Query_21730 EMSPUT00000011881 cds:pseudogene supercontig:GCA_000002235.2:Scaffold373:117840:117912:-1 gene:EMSPUG00000011881 transcript:EMSPUT00000011881 description:\"tRNA-Met for anticodon CAU\": Warning: Sequence contains no data \r\n"
       ]
      },
      {
       "output_type": "stream",
       "stream": "stdout",
       "text": [
        "Error: (1431.1) FASTA-Reader: Warning: FASTA-Reader: No residues given\r\n"
       ]
      },
      {
       "output_type": "stream",
       "stream": "stdout",
       "text": [
        "Warning: lcl|Query_21780 SPU_014451-tr cds:pseudogene supercontig:GCA_000002235.2:Scaffold459:145913:157611:1 gene:SPU_014451 transcript:SPU_014451-tr: Warning: Sequence contains no data \r\n"
       ]
      },
      {
       "output_type": "stream",
       "stream": "stdout",
       "text": [
        "Error: (1431.1) FASTA-Reader: Warning: FASTA-Reader: No residues given\r\n"
       ]
      },
      {
       "output_type": "stream",
       "stream": "stdout",
       "text": [
        "Warning: lcl|Query_21810 EMSPUT00000011400 cds:pseudogene supercontig:GCA_000002235.2:Scaffold1628:118594:118667:1 gene:EMSPUG00000011400 transcript:EMSPUT00000011400 description:\"tRNA-Ser for anticodon GGA\": Warning: Sequence contains no data \r\n"
       ]
      },
      {
       "output_type": "stream",
       "stream": "stdout",
       "text": [
        "Error: (1431.1) FASTA-Reader: Warning: FASTA-Reader: No residues given\r\n",
        "Error: (1431.1) FASTA-Reader: Warning: FASTA-Reader: No residues given\r\n"
       ]
      },
      {
       "output_type": "stream",
       "stream": "stdout",
       "text": [
        "Warning: lcl|Query_21889 EMSPUT00000009358 cds:pseudogene supercontig:GCA_000002235.2:Scaffold228:471870:471944:-1 gene:EMSPUG00000009358 transcript:EMSPUT00000009358 description:\"tRNA-His for anticodon GUG\": Warning: Sequence contains no data \r\n",
        "Warning: lcl|Query_21891 EMSPUT00000013322 cds:pseudogene supercontig:GCA_000002235.2:Scaffold228:476225:476298:-1 gene:EMSPUG00000013322 transcript:EMSPUT00000013322 description:\"tRNA-Glu for anticodon CUC\": Warning: Sequence contains no data \r\n",
        "Error: (1431.1) FASTA-Reader: Warning: FASTA-Reader: No residues given\r\n",
        "Error: (1431.1) FASTA-Reader: Warning: FASTA-Reader: No residues given\r\n",
        "Error: (1431.1) FASTA-Reader: Warning: FASTA-Reader: No residues given\r\n",
        "Error: (1431.1) FASTA-Reader: Warning: FASTA-Reader: No residues given\r\n",
        "Error: (1431.1) FASTA-Reader: Warning: FASTA-Reader: No residues given\r\n"
       ]
      },
      {
       "output_type": "stream",
       "stream": "stdout",
       "text": [
        "Warning: lcl|Query_21909 EMSPUT00000014448 cds:pseudogene supercontig:GCA_000002235.2:Scaffold1362:166574:166646:-1 gene:EMSPUG00000014448 transcript:EMSPUT00000014448 description:\"tRNA-Phe for anticodon AAA\": Warning: Sequence contains no data \r\n",
        "Warning: lcl|Query_21910 EMSPUT00000012653 cds:pseudogene supercontig:GCA_000002235.2:Scaffold1362:167169:167240:-1 gene:EMSPUG00000012653 transcript:EMSPUT00000012653 description:\"tRNA-Ile for anticodon UAU\": Warning: Sequence contains no data \r\n",
        "Warning: lcl|Query_21911 EMSPUT00000001984 cds:pseudogene supercontig:GCA_000002235.2:Scaffold1362:167982:168053:-1 gene:EMSPUG00000001984 transcript:EMSPUT00000001984 description:\"tRNA-Ile for anticodon UAU\": Warning: Sequence contains no data \r\n",
        "Warning: lcl|Query_21912 EMSPUT00000013655 cds:pseudogene supercontig:GCA_000002235.2:Scaffold1362:169374:169446:-1 gene:EMSPUG00000013655 transcript:EMSPUT00000013655 description:\"tRNA-Leu for anticodon CAA\": Warning: Sequence contains no data \r\n",
        "Warning: lcl|Query_21913 EMSPUT00000004010 cds:pseudogene supercontig:GCA_000002235.2:Scaffold1362:169695:169767:-1 gene:EMSPUG00000004010 transcript:EMSPUT00000004010 description:\"tRNA-Leu for anticodon UAA\": Warning: Sequence contains no data \r\n"
       ]
      },
      {
       "output_type": "stream",
       "stream": "stdout",
       "text": [
        "Error: (1431.1) FASTA-Reader: Warning: FASTA-Reader: No residues given\r\n"
       ]
      },
      {
       "output_type": "stream",
       "stream": "stdout",
       "text": [
        "Warning: lcl|Query_22001 EMSPUT00000014751 cds:pseudogene supercontig:GCA_000002235.2:Scaffold39:624601:624673:-1 gene:EMSPUG00000014751 transcript:EMSPUT00000014751 description:\"tRNA-Thr for anticodon AGU\": Warning: Sequence contains no data \r\n"
       ]
      },
      {
       "output_type": "stream",
       "stream": "stdout",
       "text": [
        "Error: (1431.1) FASTA-Reader: Warning: FASTA-Reader: No residues given\r\n"
       ]
      },
      {
       "output_type": "stream",
       "stream": "stdout",
       "text": [
        "Warning: lcl|Query_22040 EMSPUT00000007937 cds:pseudogene supercontig:GCA_000002235.2:Scaffold1580:232595:232667:-1 gene:EMSPUG00000007937 transcript:EMSPUT00000007937 description:\"tRNA-Met for anticodon CAU\": Warning: Sequence contains no data \r\n"
       ]
      },
      {
       "output_type": "stream",
       "stream": "stdout",
       "text": [
        "Error: (1431.1) FASTA-Reader: Warning: FASTA-Reader: No residues given\r\n",
        "Error: (1431.1) FASTA-Reader: Warning: FASTA-Reader: No residues given\r\n",
        "Error: (1431.1) FASTA-Reader: Warning: FASTA-Reader: No residues given\r\n"
       ]
      },
      {
       "output_type": "stream",
       "stream": "stdout",
       "text": [
        "Warning: lcl|Query_22069 EMSPUT00000005870 cds:pseudogene supercontig:GCA_000002235.2:Scaffold215:136407:136480:-1 gene:EMSPUG00000005870 transcript:EMSPUT00000005870 description:\"tRNA-Ala for anticodon GGC\": Warning: Sequence contains no data \r\n",
        "Warning: lcl|Query_22070 EMSPUT00000015177 cds:pseudogene supercontig:GCA_000002235.2:Scaffold215:136696:136768:-1 gene:EMSPUG00000015177 transcript:EMSPUT00000015177 description:\"tRNA-Ala for anticodon GGC\": Warning: Sequence contains no data \r\n",
        "Warning: lcl|Query_22080 EMSPUT00000001315 cds:pseudogene supercontig:GCA_000002235.2:Scaffold215:539810:539891:1 gene:EMSPUG00000001315 transcript:EMSPUT00000001315 description:\"tRNA-Ser for anticodon AGA\": Warning: Sequence contains no data \r\n"
       ]
      },
      {
       "output_type": "stream",
       "stream": "stdout",
       "text": [
        "Error: (1431.1) FASTA-Reader: Warning: FASTA-Reader: No residues given\r\n"
       ]
      },
      {
       "output_type": "stream",
       "stream": "stdout",
       "text": [
        "Warning: lcl|Query_22126 EMSPUT00000004148 cds:pseudogene supercontig:GCA_000002235.2:Scaffold1662:4932:5003:-1 gene:EMSPUG00000004148 transcript:EMSPUT00000004148 description:\"tRNA-Glu for anticodon CUC\": Warning: Sequence contains no data \r\n",
        "Error: (1431.1) FASTA-Reader: Warning: FASTA-Reader: No residues given\r\n",
        "Error: (1431.1) FASTA-Reader: Warning: FASTA-Reader: No residues given\r\n",
        "Error: (1431.1) FASTA-Reader: Warning: FASTA-Reader: No residues given\r\n"
       ]
      },
      {
       "output_type": "stream",
       "stream": "stdout",
       "text": [
        "Warning: lcl|Query_22142 EMSPUT00000006309 cds:pseudogene supercontig:GCA_000002235.2:Scaffold221:282352:282424:1 gene:EMSPUG00000006309 transcript:EMSPUT00000006309 description:\"tRNA-Met for anticodon CAU\": Warning: Sequence contains no data \r\n",
        "Warning: lcl|Query_22144 EMSPUT00000001152 cds:pseudogene supercontig:GCA_000002235.2:Scaffold221:445436:445507:1 gene:EMSPUG00000001152 transcript:EMSPUT00000001152 description:\"tRNA-Undet for anticodon \\x3f\\x3f\\x3f\": Warning: Sequence contains no data \r\n",
        "Warning: lcl|Query_22145 EMSPUT00000004432 cds:pseudogene supercontig:GCA_000002235.2:Scaffold221:468081:468153:1 gene:EMSPUG00000004432 transcript:EMSPUT00000004432 description:\"tRNA-Met for anticodon CAU\": Warning: Sequence contains no data \r\n"
       ]
      },
      {
       "output_type": "stream",
       "stream": "stdout",
       "text": [
        "Error: (1431.1) FASTA-Reader: Warning: FASTA-Reader: No residues given\r\n"
       ]
      },
      {
       "output_type": "stream",
       "stream": "stdout",
       "text": [
        "Warning: lcl|Query_22173 EMSPUT00000010016 cds:pseudogene supercontig:GCA_000002235.2:Scaffold1128:168520:168592:1 gene:EMSPUG00000010016 transcript:EMSPUT00000010016 description:\"tRNA-Met for anticodon CAU\": Warning: Sequence contains no data \r\n",
        "Error: (1431.1) FASTA-Reader: Warning: FASTA-Reader: No residues given\r\n",
        "Error: (1431.1) FASTA-Reader: Warning: FASTA-Reader: No residues given\r\n",
        "Error: (1431.1) FASTA-Reader: Warning: FASTA-Reader: No residues given\r\n"
       ]
      },
      {
       "output_type": "stream",
       "stream": "stdout",
       "text": [
        "Error: (1431.1) FASTA-Reader: Warning: FASTA-Reader: No residues given\r\n"
       ]
      },
      {
       "output_type": "stream",
       "stream": "stdout",
       "text": [
        "Warning: lcl|Query_22201 EMSPUT00000000274 cds:pseudogene supercontig:GCA_000002235.2:Scaffold126:101565:101637:1 gene:EMSPUG00000000274 transcript:EMSPUT00000000274 description:\"tRNA-Lys for anticodon UUU\": Warning: Sequence contains no data \r\n",
        "Warning: lcl|Query_22202 EMSPUT00000014467 cds:pseudogene supercontig:GCA_000002235.2:Scaffold126:106448:106520:1 gene:EMSPUG00000014467 transcript:EMSPUT00000014467 description:\"tRNA-Lys for anticodon UUU\": Warning: Sequence contains no data \r\n",
        "Warning: lcl|Query_22207 EMSPUT00000012663 cds:pseudogene supercontig:GCA_000002235.2:Scaffold126:283237:283307:1 gene:EMSPUG00000012663 transcript:EMSPUT00000012663 description:\"tRNA-Ile for anticodon UAU\": Warning: Sequence contains no data \r\n",
        "Warning: lcl|Query_22208 EMSPUT00000003051 cds:pseudogene supercontig:GCA_000002235.2:Scaffold126:301294:301366:1 gene:EMSPUG00000003051 transcript:EMSPUT00000003051 description:\"tRNA-Ile for anticodon AAU\": Warning: Sequence contains no data \r\n"
       ]
      },
      {
       "output_type": "stream",
       "stream": "stdout",
       "text": [
        "Error: (1431.1) FASTA-Reader: Warning: FASTA-Reader: No residues given\r\n",
        "Error: (1431.1) FASTA-Reader: Warning: FASTA-Reader: No residues given\r\n"
       ]
      },
      {
       "output_type": "stream",
       "stream": "stdout",
       "text": [
        "Warning: lcl|Query_22232 EMSPUT00000000324 cds:pseudogene supercontig:GCA_000002235.2:Scaffold1155:9785:9855:1 gene:EMSPUG00000000324 transcript:EMSPUT00000000324 description:\"tRNA-Thr for anticodon CGU\": Warning: Sequence contains no data \r\n",
        "Warning: lcl|Query_22235 EMSPUT00000002921 cds:pseudogene supercontig:GCA_000002235.2:Scaffold1620:12738:12813:1 gene:EMSPUG00000002921 transcript:EMSPUT00000002921 description:\"tRNA-Ser for anticodon GGA\": Warning: Sequence contains no data \r\n"
       ]
      },
      {
       "output_type": "stream",
       "stream": "stdout",
       "text": [
        "Error: (1431.1) FASTA-Reader: Warning: FASTA-Reader: No residues given\r\n",
        "Error: (1431.1) FASTA-Reader: Warning: FASTA-Reader: No residues given\r\n"
       ]
      },
      {
       "output_type": "stream",
       "stream": "stdout",
       "text": [
        "Warning: lcl|Query_22290 EMSPUT00000001080 cds:pseudogene supercontig:GCA_000002235.2:Scaffold329:259679:259751:1 gene:EMSPUG00000001080 transcript:EMSPUT00000001080 description:\"tRNA-Met for anticodon CAU\": Warning: Sequence contains no data \r\n",
        "Warning: lcl|Query_22291 EMSPUT00000008162 cds:pseudogene supercontig:GCA_000002235.2:Scaffold329:275980:276052:-1 gene:EMSPUG00000008162 transcript:EMSPUT00000008162 description:\"tRNA-Thr for anticodon AGU\": Warning: Sequence contains no data \r\n",
        "Error: (1431.1) FASTA-Reader: Warning: FASTA-Reader: No residues given\r\n",
        "Error: (1431.1) FASTA-Reader: Warning: FASTA-Reader: No residues given\r\n"
       ]
      },
      {
       "output_type": "stream",
       "stream": "stdout",
       "text": [
        "Warning: lcl|Query_22303 EMSPUT00000010309 cds:pseudogene supercontig:GCA_000002235.2:Scaffold329:701739:701812:-1 gene:EMSPUG00000010309 transcript:EMSPUT00000010309 description:\"tRNA-Ser for anticodon GGA\": Warning: Sequence contains no data \r\n",
        "Warning: lcl|Query_22304 EMSPUT00000010323 cds:pseudogene supercontig:GCA_000002235.2:Scaffold329:722187:722259:1 gene:EMSPUG00000010323 transcript:EMSPUT00000010323 description:\"tRNA-Ala for anticodon AGC\": Warning: Sequence contains no data \r\n"
       ]
      },
      {
       "output_type": "stream",
       "stream": "stdout",
       "text": [
        "Error: (1431.1) FASTA-Reader: Warning: FASTA-Reader: No residues given\r\n"
       ]
      },
      {
       "output_type": "stream",
       "stream": "stdout",
       "text": [
        "Warning: lcl|Query_22353 EMSPUT00000003424 cds:pseudogene supercontig:GCA_000002235.2:Scaffold44:522797:522869:-1 gene:EMSPUG00000003424 transcript:EMSPUT00000003424 description:\"tRNA-Glu for anticodon CUC\": Warning: Sequence contains no data \r\n"
       ]
      },
      {
       "output_type": "stream",
       "stream": "stdout",
       "text": [
        "Error: (1431.1) FASTA-Reader: Warning: FASTA-Reader: No residues given\r\n",
        "Error: (1431.1) FASTA-Reader: Warning: FASTA-Reader: No residues given\r\n",
        "Error: (1431.1) FASTA-Reader: Warning: FASTA-Reader: No residues given\r\n",
        "Error: (1431.1) FASTA-Reader: Warning: FASTA-Reader: No residues given\r\n",
        "Error: (1431.1) FASTA-Reader: Warning: FASTA-Reader: No residues given\r\n",
        "Error: (1431.1) FASTA-Reader: Warning: FASTA-Reader: No residues given\r\n",
        "Error: (1431.1) FASTA-Reader: Warning: FASTA-Reader: No residues given\r\n"
       ]
      },
      {
       "output_type": "stream",
       "stream": "stdout",
       "text": [
        "Warning: lcl|Query_22395 EMSPUT00000001382 cds:pseudogene supercontig:GCA_000002235.2:Scaffold479:481201:481272:-1 gene:EMSPUG00000001382 transcript:EMSPUT00000001382 description:\"tRNA-Gln for anticodon CUG\": Warning: Sequence contains no data \r\n",
        "Warning: lcl|Query_22396 EMSPUT00000015091 cds:pseudogene supercontig:GCA_000002235.2:Scaffold479:481741:481812:1 gene:EMSPUG00000015091 transcript:EMSPUT00000015091 description:\"tRNA-Gln for anticodon CUG\": Warning: Sequence contains no data \r\n",
        "Warning: lcl|Query_22397 EMSPUT00000002738 cds:pseudogene supercontig:GCA_000002235.2:Scaffold479:506581:506652:-1 gene:EMSPUG00000002738 transcript:EMSPUT00000002738 description:\"tRNA-Gln for anticodon CUG\": Warning: Sequence contains no data \r\n",
        "Warning: lcl|Query_22398 EMSPUT00000014237 cds:pseudogene supercontig:GCA_000002235.2:Scaffold479:506933:507004:-1 gene:EMSPUG00000014237 transcript:EMSPUT00000014237 description:\"tRNA-Gln for anticodon CUG\": Warning: Sequence contains no data \r\n",
        "Warning: lcl|Query_22399 EMSPUT00000005014 cds:pseudogene supercontig:GCA_000002235.2:Scaffold479:507288:507359:-1 gene:EMSPUG00000005014 transcript:EMSPUT00000005014 description:\"tRNA-Gln for anticodon CUG\": Warning: Sequence contains no data \r\n",
        "Warning: lcl|Query_22400 EMSPUT00000008428 cds:pseudogene supercontig:GCA_000002235.2:Scaffold479:507779:507850:1 gene:EMSPUG00000008428 transcript:EMSPUT00000008428 description:\"tRNA-Gln for anticodon CUG\": Warning: Sequence contains no data \r\n",
        "Warning: lcl|Query_22403 EMSPUT00000015485 cds:pseudogene supercontig:GCA_000002235.2:Scaffold2909:32102:32176:1 gene:EMSPUG00000015485 transcript:EMSPUT00000015485 description:\"tRNA-Glu for anticodon CUC\": Warning: Sequence contains no data \r\n",
        "Error: (1431.1) FASTA-Reader: Warning: FASTA-Reader: No residues given\r\n",
        "Error: (1431.1) FASTA-Reader: Warning: FASTA-Reader: No residues given\r\n"
       ]
      },
      {
       "output_type": "stream",
       "stream": "stdout",
       "text": [
        "Warning: lcl|Query_22408 EMSPUT00000015022 cds:pseudogene supercontig:GCA_000002235.2:Scaffold393:342472:342543:1 gene:EMSPUG00000015022 transcript:EMSPUT00000015022 description:\"tRNA-Cys for anticodon GCA\": Warning: Sequence contains no data \r\n",
        "Warning: lcl|Query_22409 EMSPUT00000005346 cds:pseudogene supercontig:GCA_000002235.2:Scaffold393:342907:342978:-1 gene:EMSPUG00000005346 transcript:EMSPUT00000005346 description:\"tRNA-Cys for anticodon GCA\": Warning: Sequence contains no data \r\n"
       ]
      },
      {
       "output_type": "stream",
       "stream": "stdout",
       "text": [
        "Error: (1431.1) FASTA-Reader: Warning: FASTA-Reader: No residues given\r\n"
       ]
      },
      {
       "output_type": "stream",
       "stream": "stdout",
       "text": [
        "Warning: lcl|Query_22450 EMSPUT00000008230 cds:pseudogene supercontig:GCA_000002235.2:Scaffold1865:7982:8054:1 gene:EMSPUG00000008230 transcript:EMSPUT00000008230 description:\"tRNA-Met for anticodon CAU\": Warning: Sequence contains no data \r\n"
       ]
      },
      {
       "output_type": "stream",
       "stream": "stdout",
       "text": [
        "Error: (1431.1) FASTA-Reader: Warning: FASTA-Reader: No residues given\r\n"
       ]
      },
      {
       "output_type": "stream",
       "stream": "stdout",
       "text": [
        "Warning: lcl|Query_22479 EMSPUT00000007819 cds:pseudogene supercontig:GCA_000002235.2:Scaffold164:650609:650682:1 gene:EMSPUG00000007819 transcript:EMSPUT00000007819 description:\"tRNA-Ala for anticodon GGC\": Warning: Sequence contains no data \r\n",
        "Error: (1431.1) FASTA-Reader: Warning: FASTA-Reader: No residues given\r\n"
       ]
      },
      {
       "output_type": "stream",
       "stream": "stdout",
       "text": [
        "Warning: lcl|Query_22494 SPU_030012-tr cds:pseudogene supercontig:GCA_000002235.2:Scaffold12180:178:383:1 gene:SPU_030012 transcript:SPU_030012-tr: Warning: Sequence contains no data \r\n"
       ]
      },
      {
       "output_type": "stream",
       "stream": "stdout",
       "text": [
        "Error: (1431.1) FASTA-Reader: Warning: FASTA-Reader: No residues given\r\n",
        "Error: (1431.1) FASTA-Reader: Warning: FASTA-Reader: No residues given\r\n"
       ]
      },
      {
       "output_type": "stream",
       "stream": "stdout",
       "text": [
        "Warning: lcl|Query_22510 EMSPUT00000010109 cds:pseudogene supercontig:GCA_000002235.2:Scaffold742:97693:97764:-1 gene:EMSPUG00000010109 transcript:EMSPUT00000010109 description:\"tRNA-Gln for anticodon UUG\": Warning: Sequence contains no data \r\n",
        "Warning: lcl|Query_22517 EMSPUT00000004263 cds:pseudogene supercontig:GCA_000002235.2:Scaffold27550:360:432:1 gene:EMSPUG00000004263 transcript:EMSPUT00000004263 description:\"tRNA-Met for anticodon CAU\": Warning: Sequence contains no data \r\n",
        "Error: (1431.1) FASTA-Reader: Warning: FASTA-Reader: No residues given\r\n",
        "Error: (1431.1) FASTA-Reader: Warning: FASTA-Reader: No residues given\r\n"
       ]
      },
      {
       "output_type": "stream",
       "stream": "stdout",
       "text": [
        "Warning: lcl|Query_22535 EMSPUT00000005078 cds:pseudogene supercontig:GCA_000002235.2:Scaffold583:361493:361565:1 gene:EMSPUG00000005078 transcript:EMSPUT00000005078 description:\"tRNA-Met for anticodon CAU\": Warning: Sequence contains no data \r\n",
        "Warning: lcl|Query_22537 EMSPUT00000000902 cds:pseudogene supercontig:GCA_000002235.2:Scaffold583:392592:392665:-1 gene:EMSPUG00000000902 transcript:EMSPUT00000000902 description:\"tRNA-Ala for anticodon GGC\": Warning: Sequence contains no data \r\n",
        "Error: (1431.1) FASTA-Reader: Warning: FASTA-Reader: No residues given\r\n",
        "Error: (1431.1) FASTA-Reader: Warning: FASTA-Reader: No residues given\r\n"
       ]
      },
      {
       "output_type": "stream",
       "stream": "stdout",
       "text": [
        "Warning: lcl|Query_22544 EMSPUT00000002990 cds:pseudogene supercontig:GCA_000002235.2:Scaffold1789:57573:57645:1 gene:EMSPUG00000002990 transcript:EMSPUT00000002990 description:\"tRNA-Ala for anticodon GGC\": Warning: Sequence contains no data \r\n",
        "Warning: lcl|Query_22550 EMSPUT00000006989 cds:pseudogene supercontig:GCA_000002235.2:Scaffold544:327050:327130:1 gene:EMSPUG00000006989 transcript:EMSPUT00000006989 description:\"tRNA-Leu for anticodon UAG\": Warning: Sequence contains no data \r\n",
        "Error: (1431.1) FASTA-Reader: Warning: FASTA-Reader: No residues given\r\n",
        "Error: (1431.1) FASTA-Reader: Warning: FASTA-Reader: No residues given\r\n",
        "Error: (1431.1) FASTA-Reader: Warning: FASTA-Reader: No residues given\r\n",
        "Error: (1431.1) FASTA-Reader: Warning: FASTA-Reader: No residues given\r\n",
        "Error: (1431.1) FASTA-Reader: Warning: FASTA-Reader: No residues given\r\n",
        "Error: (1431.1) FASTA-Reader: Warning: FASTA-Reader: No residues given\r\n",
        "Error: (1431.1) FASTA-Reader: Warning: FASTA-Reader: No residues given\r\n",
        "Error: (1431.1) FASTA-Reader: Warning: FASTA-Reader: No residues given\r\n",
        "Error: (1431.1) FASTA-Reader: Warning: FASTA-Reader: No residues given\r\n",
        "Error: (1431.1) FASTA-Reader: Warning: FASTA-Reader: No residues given\r\n",
        "Error: (1431.1) FASTA-Reader: Warning: FASTA-Reader: No residues given\r\n",
        "Error: (1431.1) FASTA-Reader: Warning: FASTA-Reader: No residues given\r\n",
        "Error: (1431.1) FASTA-Reader: Warning: FASTA-Reader: No residues given\r\n",
        "Error: (1431.1) FASTA-Reader: Warning: FASTA-Reader: No residues given\r\n",
        "Error: (1431.1) FASTA-Reader: Warning: FASTA-Reader: No residues given\r\n"
       ]
      },
      {
       "output_type": "stream",
       "stream": "stdout",
       "text": [
        "Warning: lcl|Query_22552 EMSPUT00000007074 cds:pseudogene supercontig:GCA_000002235.2:Scaffold544:417651:417723:-1 gene:EMSPUG00000007074 transcript:EMSPUT00000007074 description:\"tRNA-Val for anticodon CAC\": Warning: Sequence contains no data \r\n",
        "Warning: lcl|Query_22554 EMSPUT00000012071 cds:pseudogene supercontig:GCA_000002235.2:Scaffold544:489750:489822:-1 gene:EMSPUG00000012071 transcript:EMSPUT00000012071 description:\"tRNA-Val for anticodon CAC\": Warning: Sequence contains no data \r\n",
        "Warning: lcl|Query_22555 EMSPUT00000007038 cds:pseudogene supercontig:GCA_000002235.2:Scaffold544:490747:490819:-1 gene:EMSPUG00000007038 transcript:EMSPUT00000007038 description:\"tRNA-Val for anticodon CAC\": Warning: Sequence contains no data \r\n",
        "Warning: lcl|Query_22556 EMSPUT00000014009 cds:pseudogene supercontig:GCA_000002235.2:Scaffold544:491053:491125:-1 gene:EMSPUG00000014009 transcript:EMSPUT00000014009 description:\"tRNA-Val for anticodon CAC\": Warning: Sequence contains no data \r\n",
        "Warning: lcl|Query_22557 EMSPUT00000005354 cds:pseudogene supercontig:GCA_000002235.2:Scaffold544:491374:491446:-1 gene:EMSPUG00000005354 transcript:EMSPUT00000005354 description:\"tRNA-Val for anticodon CAC\": Warning: Sequence contains no data \r\n",
        "Warning: lcl|Query_22558 EMSPUT00000007736 cds:pseudogene supercontig:GCA_000002235.2:Scaffold544:495416:495488:-1 gene:EMSPUG00000007736 transcript:EMSPUT00000007736 description:\"tRNA-Val for anticodon CAC\": Warning: Sequence contains no data \r\n",
        "Warning: lcl|Query_22559 EMSPUT00000008846 cds:pseudogene supercontig:GCA_000002235.2:Scaffold544:496413:496485:-1 gene:EMSPUG00000008846 transcript:EMSPUT00000008846 description:\"tRNA-Val for anticodon CAC\": Warning: Sequence contains no data \r\n",
        "Warning: lcl|Query_22560 EMSPUT00000004630 cds:pseudogene supercontig:GCA_000002235.2:Scaffold544:496839:496911:-1 gene:EMSPUG00000004630 transcript:EMSPUT00000004630 description:\"tRNA-Val for anticodon CAC\": Warning: Sequence contains no data \r\n",
        "Warning: lcl|Query_22561 EMSPUT00000014256 cds:pseudogene supercontig:GCA_000002235.2:Scaffold544:497856:497928:-1 gene:EMSPUG00000014256 transcript:EMSPUT00000014256 description:\"tRNA-Val for anticodon CAC\": Warning: Sequence contains no data \r\n",
        "Warning: lcl|Query_22562 EMSPUT00000004963 cds:pseudogene supercontig:GCA_000002235.2:Scaffold544:498697:498769:-1 gene:EMSPUG00000004963 transcript:EMSPUT00000004963 description:\"tRNA-Val for anticodon CAC\": Warning: Sequence contains no data \r\n",
        "Warning: lcl|Query_22563 EMSPUT00000014677 cds:pseudogene supercontig:GCA_000002235.2:Scaffold544:505079:505151:-1 gene:EMSPUG00000014677 transcript:EMSPUT00000014677 description:\"tRNA-Val for anticodon CAC\": Warning: Sequence contains no data \r\n",
        "Warning: lcl|Query_22564 EMSPUT00000011643 cds:pseudogene supercontig:GCA_000002235.2:Scaffold544:506110:506169:-1 gene:EMSPUG00000011643 transcript:EMSPUT00000011643 description:\"tRNA-Val for anticodon CAC\": Warning: Sequence contains no data \r\n",
        "Warning: lcl|Query_22565 EMSPUT00000012546 cds:pseudogene supercontig:GCA_000002235.2:Scaffold544:507138:507210:-1 gene:EMSPUG00000012546 transcript:EMSPUT00000012546 description:\"tRNA-Val for anticodon CAC\": Warning: Sequence contains no data \r\n",
        "Warning: lcl|Query_22566 EMSPUT00000009502 cds:pseudogene supercontig:GCA_000002235.2:Scaffold544:508137:508209:-1 gene:EMSPUG00000009502 transcript:EMSPUT00000009502 description:\"tRNA-Val for anticodon CAC\": Warning: Sequence contains no data \r\n",
        "Warning: lcl|Query_22571 EMSPUT00000004994 cds:pseudogene supercontig:GCA_000002235.2:Scaffold544:592706:592778:-1 gene:EMSPUG00000004994 transcript:EMSPUT00000004994 description:\"tRNA-Val for anticodon CAC\": Warning: Sequence contains no data \r\n",
        "Error: (1431.1) FASTA-Reader: Warning: FASTA-Reader: No residues given\r\n",
        "Error: (1431.1) FASTA-Reader: Warning: FASTA-Reader: No residues given\r\n",
        "Error: (1431.1) FASTA-Reader: Warning: FASTA-Reader: No residues given\r\n"
       ]
      },
      {
       "output_type": "stream",
       "stream": "stdout",
       "text": [
        "Warning: lcl|Query_22586 EMSPUT00000006504 cds:pseudogene supercontig:GCA_000002235.2:Scaffold1042:149716:149788:1 gene:EMSPUG00000006504 transcript:EMSPUT00000006504 description:\"tRNA-Met for anticodon CAU\": Warning: Sequence contains no data \r\n",
        "Warning: lcl|Query_22587 EMSPUT00000015474 cds:pseudogene supercontig:GCA_000002235.2:Scaffold1042:157876:157948:1 gene:EMSPUG00000015474 transcript:EMSPUT00000015474 description:\"tRNA-Met for anticodon CAU\": Warning: Sequence contains no data \r\n",
        "Warning: lcl|Query_22594 SPU_008227-tr cds:pseudogene supercontig:GCA_000002235.2:Scaffold1226:84248:86926:1 gene:SPU_008227 transcript:SPU_008227-tr: Warning: Sequence contains no data \r\n",
        "Error: (1431.1) FASTA-Reader: Warning: FASTA-Reader: No residues given\r\n",
        "Error: (1431.1) FASTA-Reader: Warning: FASTA-Reader: No residues given\r\n"
       ]
      },
      {
       "output_type": "stream",
       "stream": "stdout",
       "text": [
        "Warning: lcl|Query_22600 EMSPUT00000006912 cds:pseudogene supercontig:GCA_000002235.2:Scaffold1366:26518:26590:-1 gene:EMSPUG00000006912 transcript:EMSPUT00000006912 description:\"tRNA-Met for anticodon CAU\": Warning: Sequence contains no data \r\n",
        "Warning: lcl|Query_22616 EMSPUT00000006965 cds:pseudogene supercontig:GCA_000002235.2:Scaffold503:117732:117803:-1 gene:EMSPUG00000006965 transcript:EMSPUT00000006965 description:\"tRNA-Glu for anticodon UUC\": Warning: Sequence contains no data \r\n"
       ]
      },
      {
       "output_type": "stream",
       "stream": "stdout",
       "text": [
        "Error: (1431.1) FASTA-Reader: Warning: FASTA-Reader: No residues given\r\n"
       ]
      },
      {
       "output_type": "stream",
       "stream": "stdout",
       "text": [
        "Warning: lcl|Query_22644 EMSPUT00000014756 cds:pseudogene supercontig:GCA_000002235.2:Scaffold2199:97715:97782:-1 gene:EMSPUG00000014756 transcript:EMSPUT00000014756 description:\"tRNA-Phe for anticodon GAA\": Warning: Sequence contains no data \r\n"
       ]
      },
      {
       "output_type": "stream",
       "stream": "stdout",
       "text": [
        "Error: (1431.1) FASTA-Reader: Warning: FASTA-Reader: No residues given\r\n",
        "Error: (1431.1) FASTA-Reader: Warning: FASTA-Reader: No residues given\r\n"
       ]
      },
      {
       "output_type": "stream",
       "stream": "stdout",
       "text": [
        "Warning: lcl|Query_22673 EMSPUT00000009220 cds:pseudogene supercontig:GCA_000002235.2:Scaffold566:18564:18645:1 gene:EMSPUG00000009220 transcript:EMSPUT00000009220 description:\"tRNA-Ser for anticodon AGA\": Warning: Sequence contains no data \r\n",
        "Warning: lcl|Query_22683 SPU_016501-tr cds:pseudogene supercontig:GCA_000002235.2:Scaffold566:291229:306237:1 gene:SPU_016501 transcript:SPU_016501-tr: Warning: Sequence contains no data \r\n"
       ]
      },
      {
       "output_type": "stream",
       "stream": "stdout",
       "text": [
        "Error: (1431.1) FASTA-Reader: Warning: FASTA-Reader: No residues given\r\n",
        "Error: (1431.1) FASTA-Reader: Warning: FASTA-Reader: No residues given\r\n",
        "Error: (1431.1) FASTA-Reader: Warning: FASTA-Reader: No residues given\r\n",
        "Error: (1431.1) FASTA-Reader: Warning: FASTA-Reader: No residues given\r\n"
       ]
      },
      {
       "output_type": "stream",
       "stream": "stdout",
       "text": [
        "Warning: lcl|Query_22713 EMSPUT00000000258 cds:pseudogene supercontig:GCA_000002235.2:Scaffold16357:38:110:1 gene:EMSPUG00000000258 transcript:EMSPUT00000000258 description:\"tRNA-Met for anticodon CAU\": Warning: Sequence contains no data \r\n",
        "Warning: lcl|Query_22714 EMSPUT00000015791 cds:pseudogene supercontig:GCA_000002235.2:Scaffold16357:1344:1416:1 gene:EMSPUG00000015791 transcript:EMSPUT00000015791 description:\"tRNA-Met for anticodon CAU\": Warning: Sequence contains no data \r\n",
        "Warning: lcl|Query_22715 EMSPUT00000005216 cds:pseudogene supercontig:GCA_000002235.2:Scaffold16357:2792:2864:1 gene:EMSPUG00000005216 transcript:EMSPUT00000005216 description:\"tRNA-Met for anticodon CAU\": Warning: Sequence contains no data \r\n",
        "Warning: lcl|Query_22716 EMSPUT00000014397 cds:pseudogene supercontig:GCA_000002235.2:Scaffold16357:3519:3591:1 gene:EMSPUG00000014397 transcript:EMSPUT00000014397 description:\"tRNA-Met for anticodon CAU\": Warning: Sequence contains no data \r\n"
       ]
      },
      {
       "output_type": "stream",
       "stream": "stdout",
       "text": [
        "Error: (1431.1) FASTA-Reader: Warning: FASTA-Reader: No residues given\r\n",
        "Error: (1431.1) FASTA-Reader: Warning: FASTA-Reader: No residues given\r\n"
       ]
      },
      {
       "output_type": "stream",
       "stream": "stdout",
       "text": [
        "Warning: lcl|Query_22757 EMSPUT00000011148 cds:pseudogene supercontig:GCA_000002235.2:Scaffold1246:153299:153371:1 gene:EMSPUG00000011148 transcript:EMSPUT00000011148 description:\"tRNA-Met for anticodon CAU\": Warning: Sequence contains no data \r\n",
        "Warning: lcl|Query_22760 EMSPUT00000006259 cds:pseudogene supercontig:GCA_000002235.2:Scaffold1246:190928:190998:-1 gene:EMSPUG00000006259 transcript:EMSPUT00000006259 description:\"tRNA-Ala for anticodon GGC\": Warning: Sequence contains no data \r\n",
        "Error: (1431.1) FASTA-Reader: Warning: FASTA-Reader: No residues given\r\n"
       ]
      },
      {
       "output_type": "stream",
       "stream": "stdout",
       "text": [
        "Warning: lcl|Query_22774 SPU_011877-tr cds:pseudogene supercontig:GCA_000002235.2:Scaffold1175:213745:239794:1 gene:SPU_011877 transcript:SPU_011877-tr: Warning: Sequence contains no data \r\n",
        "Error: (1431.1) FASTA-Reader: Warning: FASTA-Reader: No residues given\r\n",
        "Error: (1431.1) FASTA-Reader: Warning: FASTA-Reader: No residues given\r\n"
       ]
      },
      {
       "output_type": "stream",
       "stream": "stdout",
       "text": [
        "Warning: lcl|Query_22799 EMSPUT00000005100 cds:pseudogene supercontig:GCA_000002235.2:Scaffold2542:3456:3525:-1 gene:EMSPUG00000005100 transcript:EMSPUT00000005100 description:\"tRNA-Val for anticodon CAC\": Warning: Sequence contains no data \r\n",
        "Warning: lcl|Query_22802 EMSPUT00000012980 cds:pseudogene supercontig:GCA_000002235.2:Scaffold26066:802:874:1 gene:EMSPUG00000012980 transcript:EMSPUT00000012980 description:\"tRNA-Lys for anticodon UUU\": Warning: Sequence contains no data \r\n"
       ]
      },
      {
       "output_type": "stream",
       "stream": "stdout",
       "text": [
        "Error: (1431.1) FASTA-Reader: Warning: FASTA-Reader: No residues given\r\n",
        "Error: (1431.1) FASTA-Reader: Warning: FASTA-Reader: No residues given\r\n"
       ]
      },
      {
       "output_type": "stream",
       "stream": "stdout",
       "text": [
        "Warning: lcl|Query_22871 EMSPUT00000005468 cds:pseudogene supercontig:GCA_000002235.2:Scaffold1356:52666:52738:1 gene:EMSPUG00000005468 transcript:EMSPUT00000005468 description:\"tRNA-Met for anticodon CAU\": Warning: Sequence contains no data \r\n",
        "Warning: lcl|Query_22877 EMSPUT00000009651 cds:pseudogene supercontig:GCA_000002235.2:Scaffold1356:123327:123399:-1 gene:EMSPUG00000009651 transcript:EMSPUT00000009651 description:\"tRNA-Met for anticodon CAU\": Warning: Sequence contains no data \r\n"
       ]
      },
      {
       "output_type": "stream",
       "stream": "stdout",
       "text": [
        "Error: (1431.1) FASTA-Reader: Warning: FASTA-Reader: No residues given\r\n"
       ]
      },
      {
       "output_type": "stream",
       "stream": "stdout",
       "text": [
        "Warning: lcl|Query_22906 EMSPUT00000013594 cds:pseudogene supercontig:GCA_000002235.2:Scaffold2426:93865:93939:-1 gene:EMSPUG00000013594 transcript:EMSPUT00000013594 description:\"tRNA-His for anticodon AUG\": Warning: Sequence contains no data \r\n"
       ]
      },
      {
       "output_type": "stream",
       "stream": "stdout",
       "text": [
        "Error: (1431.1) FASTA-Reader: Warning: FASTA-Reader: No residues given\r\n"
       ]
      },
      {
       "output_type": "stream",
       "stream": "stdout",
       "text": [
        "Warning: lcl|Query_22937 SPU_030038-tr cds:pseudogene supercontig:GCA_000002235.2:Scaffold20:734450:734575:-1 gene:SPU_030038 transcript:SPU_030038-tr: Warning: Sequence contains no data \r\n"
       ]
      },
      {
       "output_type": "stream",
       "stream": "stdout",
       "text": [
        "Error: (1431.1) FASTA-Reader: Warning: FASTA-Reader: No residues given\r\n",
        "Error: (1431.1) FASTA-Reader: Warning: FASTA-Reader: No residues given\r\n",
        "Error: (1431.1) FASTA-Reader: Warning: FASTA-Reader: No residues given\r\n"
       ]
      },
      {
       "output_type": "stream",
       "stream": "stdout",
       "text": [
        "Warning: lcl|Query_22967 EMSPUT00000003193 cds:pseudogene supercontig:GCA_000002235.2:Scaffold2567:57441:57513:1 gene:EMSPUG00000003193 transcript:EMSPUT00000003193 description:\"tRNA-Met for anticodon CAU\": Warning: Sequence contains no data \r\n",
        "Warning: lcl|Query_22974 SPU_030010-tr cds:pseudogene supercontig:GCA_000002235.2:Scaffold1073:144299:144518:-1 gene:SPU_030010 transcript:SPU_030010-tr: Warning: Sequence contains no data \r\n",
        "Warning: lcl|Query_22978 EMSPUT00000007840 cds:pseudogene supercontig:GCA_000002235.2:Scaffold23748:1748:1812:-1 gene:EMSPUG00000007840 transcript:EMSPUT00000007840 description:\"RNAI\": Warning: Sequence contains no data \r\n"
       ]
      },
      {
       "output_type": "stream",
       "stream": "stdout",
       "text": [
        "Error: (1431.1) FASTA-Reader: Warning: FASTA-Reader: No residues given\r\n",
        "Error: (1431.1) FASTA-Reader: Warning: FASTA-Reader: No residues given\r\n",
        "Error: (1431.1) FASTA-Reader: Warning: FASTA-Reader: No residues given\r\n",
        "Error: (1431.1) FASTA-Reader: Warning: FASTA-Reader: No residues given\r\n",
        "Error: (1431.1) FASTA-Reader: Warning: FASTA-Reader: No residues given\r\n",
        "Error: (1431.1) FASTA-Reader: Warning: FASTA-Reader: No residues given\r\n",
        "Error: (1431.1) FASTA-Reader: Warning: FASTA-Reader: No residues given\r\n"
       ]
      },
      {
       "output_type": "stream",
       "stream": "stdout",
       "text": [
        "Warning: lcl|Query_23007 EMSPUT00000007225 cds:pseudogene supercontig:GCA_000002235.2:Scaffold122:891293:891557:-1 gene:EMSPUG00000007225 transcript:EMSPUT00000007225 description:\"RNase MRP\": Warning: Sequence contains no data \r\n",
        "Warning: lcl|Query_23009 EMSPUT00000013617 cds:pseudogene supercontig:GCA_000002235.2:Scaffold122:912808:912879:1 gene:EMSPUG00000013617 transcript:EMSPUT00000013617 description:\"tRNA-Met for anticodon CAU\": Warning: Sequence contains no data \r\n",
        "Warning: lcl|Query_23011 EMSPUT00000010204 cds:pseudogene supercontig:GCA_000002235.2:Scaffold122:931053:931124:1 gene:EMSPUG00000010204 transcript:EMSPUT00000010204 description:\"tRNA-Trp for anticodon CCA\": Warning: Sequence contains no data \r\n",
        "Warning: lcl|Query_23013 EMSPUT00000003411 cds:pseudogene supercontig:GCA_000002235.2:Scaffold122:935601:935672:1 gene:EMSPUG00000003411 transcript:EMSPUT00000003411 description:\"tRNA-Met for anticodon CAU\": Warning: Sequence contains no data \r\n",
        "Warning: lcl|Query_23014 EMSPUT00000007887 cds:pseudogene supercontig:GCA_000002235.2:Scaffold122:937149:937220:1 gene:EMSPUG00000007887 transcript:EMSPUT00000007887 description:\"tRNA-Met for anticodon CAU\": Warning: Sequence contains no data \r\n",
        "Warning: lcl|Query_23015 EMSPUT00000004446 cds:pseudogene supercontig:GCA_000002235.2:Scaffold122:939132:939203:1 gene:EMSPUG00000004446 transcript:EMSPUT00000004446 description:\"tRNA-Trp for anticodon CCA\": Warning: Sequence contains no data \r\n",
        "Warning: lcl|Query_23016 EMSPUT00000013533 cds:pseudogene supercontig:GCA_000002235.2:Scaffold122:940786:940857:-1 gene:EMSPUG00000013533 transcript:EMSPUT00000013533 description:\"tRNA-Trp for anticodon CCA\": Warning: Sequence contains no data \r\n"
       ]
      },
      {
       "output_type": "stream",
       "stream": "stdout",
       "text": [
        "Error: (1431.1) FASTA-Reader: Warning: FASTA-Reader: No residues given\r\n",
        "Error: (1431.1) FASTA-Reader: Warning: FASTA-Reader: No residues given\r\n"
       ]
      },
      {
       "output_type": "stream",
       "stream": "stdout",
       "text": [
        "Warning: lcl|Query_23034 EMSPUT00000002762 cds:pseudogene supercontig:GCA_000002235.2:Scaffold1523:214577:214649:1 gene:EMSPUG00000002762 transcript:EMSPUT00000002762 description:\"tRNA-Met for anticodon CAU\": Warning: Sequence contains no data \r\n",
        "Warning: lcl|Query_23037 EMSPUT00000010826 cds:pseudogene supercontig:GCA_000002235.2:Scaffold1523:310586:310654:-1 gene:EMSPUG00000010826 transcript:EMSPUT00000010826 description:\"tRNA-Ser for anticodon UGA\": Warning: Sequence contains no data \r\n",
        "Error: (1431.1) FASTA-Reader: Warning: FASTA-Reader: No residues given\r\n",
        "Error: (1431.1) FASTA-Reader: Warning: FASTA-Reader: No residues given\r\n"
       ]
      },
      {
       "output_type": "stream",
       "stream": "stdout",
       "text": [
        "Warning: lcl|Query_23062 EMSPUT00000005085 cds:pseudogene supercontig:GCA_000002235.2:Scaffold1471:60432:60506:-1 gene:EMSPUG00000005085 transcript:EMSPUT00000005085 description:\"tRNA-SeC for anticodon UCA\": Warning: Sequence contains no data \r\n",
        "Warning: lcl|Query_23065 EMSPUT00000011350 cds:pseudogene supercontig:GCA_000002235.2:Scaffold598:30535:30616:-1 gene:EMSPUG00000011350 transcript:EMSPUT00000011350 description:\"tRNA-Leu for anticodon UAG\": Warning: Sequence contains no data \r\n"
       ]
      },
      {
       "output_type": "stream",
       "stream": "stdout",
       "text": [
        "Error: (1431.1) FASTA-Reader: Warning: FASTA-Reader: No residues given\r\n"
       ]
      },
      {
       "output_type": "stream",
       "stream": "stdout",
       "text": [
        "Warning: lcl|Query_23125 SPU_030014-tr cds:pseudogene supercontig:GCA_000002235.2:Scaffold3624:15065:16395:1 gene:SPU_030014 transcript:SPU_030014-tr: Warning: Sequence contains no data \r\n",
        "Error: (1431.1) FASTA-Reader: Warning: FASTA-Reader: No residues given\r\n",
        "Error: (1431.1) FASTA-Reader: Warning: FASTA-Reader: No residues given\r\n",
        "Error: (1431.1) FASTA-Reader: Warning: FASTA-Reader: No residues given\r\n"
       ]
      },
      {
       "output_type": "stream",
       "stream": "stdout",
       "text": [
        "Warning: lcl|Query_23150 EMSPUT00000008236 cds:pseudogene supercontig:GCA_000002235.2:Scaffold749:13709:13783:1 gene:EMSPUG00000008236 transcript:EMSPUT00000008236 description:\"tRNA-SeC for anticodon UCA\": Warning: Sequence contains no data \r\n",
        "Warning: lcl|Query_23155 EMSPUT00000015660 cds:pseudogene supercontig:GCA_000002235.2:Scaffold749:229272:229346:-1 gene:EMSPUG00000015660 transcript:EMSPUT00000015660 description:\"tRNA-Asp for anticodon GUC\": Warning: Sequence contains no data \r\n",
        "Warning: lcl|Query_23157 EMSPUT00000005138 cds:pseudogene supercontig:GCA_000002235.2:Scaffold749:273497:273569:1 gene:EMSPUG00000005138 transcript:EMSPUT00000005138 description:\"tRNA-Met for anticodon CAU\": Warning: Sequence contains no data \r\n",
        "Error: (1431.1) FASTA-Reader: Warning: FASTA-Reader: No residues given\r\n"
       ]
      },
      {
       "output_type": "stream",
       "stream": "stdout",
       "text": [
        "Warning: lcl|Query_23177 EMSPUT00000015601 cds:pseudogene supercontig:GCA_000002235.2:Scaffold3335:27068:27140:1 gene:EMSPUG00000015601 transcript:EMSPUT00000015601 description:\"tRNA-Met for anticodon CAU\": Warning: Sequence contains no data \r\n",
        "Error: (1431.1) FASTA-Reader: Warning: FASTA-Reader: No residues given\r\n"
       ]
      },
      {
       "output_type": "stream",
       "stream": "stdout",
       "text": [
        "Warning: lcl|Query_23186 SPU_021787-tr cds:pseudogene supercontig:GCA_000002235.2:Scaffold539:1:2490:1 gene:SPU_021787 transcript:SPU_021787-tr: Warning: Sequence contains no data \r\n",
        "Error: (1431.1) FASTA-Reader: Warning: FASTA-Reader: No residues given\r\n",
        "Error: (1431.1) FASTA-Reader: Warning: FASTA-Reader: No residues given\r\n"
       ]
      },
      {
       "output_type": "stream",
       "stream": "stdout",
       "text": [
        "Warning: lcl|Query_23201 SPU_030092-tr cds:pseudogene supercontig:GCA_000002235.2:Scaffold539:298236:299070:1 gene:SPU_030092 transcript:SPU_030092-tr: Warning: Sequence contains no data \r\n",
        "Warning: lcl|Query_23214 EMSPUT00000007704 cds:pseudogene supercontig:GCA_000002235.2:Scaffold1441:181512:181584:1 gene:EMSPUG00000007704 transcript:EMSPUT00000007704 description:\"tRNA-Met for anticodon CAU\": Warning: Sequence contains no data \r\n",
        "Error: (1431.1) FASTA-Reader: Warning: FASTA-Reader: No residues given\r\n"
       ]
      },
      {
       "output_type": "stream",
       "stream": "stdout",
       "text": [
        "Warning: lcl|Query_23230 EMSPUT00000003765 cds:pseudogene supercontig:GCA_000002235.2:Scaffold3105:3:75:1 gene:EMSPUG00000003765 transcript:EMSPUT00000003765 description:\"tRNA-Met for anticodon CAU\": Warning: Sequence contains no data \r\n"
       ]
      },
      {
       "output_type": "stream",
       "stream": "stdout",
       "text": [
        "Error: (1431.1) FASTA-Reader: Warning: FASTA-Reader: No residues given\r\n"
       ]
      },
      {
       "output_type": "stream",
       "stream": "stdout",
       "text": [
        "Warning: lcl|Query_23265 EMSPUT00000009092 cds:pseudogene supercontig:GCA_000002235.2:Scaffold2205:87478:87550:1 gene:EMSPUG00000009092 transcript:EMSPUT00000009092 description:\"tRNA-Met for anticodon CAU\": Warning: Sequence contains no data \r\n"
       ]
      },
      {
       "output_type": "stream",
       "stream": "stdout",
       "text": [
        "Error: (1431.1) FASTA-Reader: Warning: FASTA-Reader: No residues given\r\n",
        "Error: (1431.1) FASTA-Reader: Warning: FASTA-Reader: No residues given\r\n"
       ]
      },
      {
       "output_type": "stream",
       "stream": "stdout",
       "text": [
        "Warning: lcl|Query_23311 EMSPUT00000008139 cds:pseudogene supercontig:GCA_000002235.2:Scaffold1762:81551:81623:-1 gene:EMSPUG00000008139 transcript:EMSPUT00000008139 description:\"tRNA-Lys for anticodon UUU\": Warning: Sequence contains no data \r\n",
        "Warning: lcl|Query_23317 EMSPUT00000011417 cds:pseudogene supercontig:GCA_000002235.2:Scaffold2013:52894:52964:-1 gene:EMSPUG00000011417 transcript:EMSPUT00000011417 description:\"tRNA-Gly for anticodon GCC\": Warning: Sequence contains no data \r\n"
       ]
      },
      {
       "output_type": "stream",
       "stream": "stdout",
       "text": [
        "Error: (1431.1) FASTA-Reader: Warning: FASTA-Reader: No residues given\r\n",
        "Error: (1431.1) FASTA-Reader: Warning: FASTA-Reader: No residues given\r\n"
       ]
      },
      {
       "output_type": "stream",
       "stream": "stdout",
       "text": [
        "Warning: lcl|Query_23360 EMSPUT00000000127 cds:pseudogene supercontig:GCA_000002235.2:Scaffold717:195927:195999:-1 gene:EMSPUG00000000127 transcript:EMSPUT00000000127 description:\"tRNA-Lys for anticodon CUU\": Warning: Sequence contains no data \r\n",
        "Warning: lcl|Query_23361 EMSPUT00000012858 cds:pseudogene supercontig:GCA_000002235.2:Scaffold1138:11884:11956:1 gene:EMSPUG00000012858 transcript:EMSPUT00000012858 description:\"tRNA-Met for anticodon CAU\": Warning: Sequence contains no data \r\n"
       ]
      },
      {
       "output_type": "stream",
       "stream": "stdout",
       "text": [
        "Error: (1431.1) FASTA-Reader: Warning: FASTA-Reader: No residues given\r\n",
        "Error: (1431.1) FASTA-Reader: Warning: FASTA-Reader: No residues given\r\n",
        "Error: (1431.1) FASTA-Reader: Warning: FASTA-Reader: No residues given\r\n",
        "Error: (1431.1) FASTA-Reader: Warning: FASTA-Reader: No residues given\r\n",
        "Error: (1431.1) FASTA-Reader: Warning: FASTA-Reader: No residues given\r\n"
       ]
      },
      {
       "output_type": "stream",
       "stream": "stdout",
       "text": [
        "Warning: lcl|Query_23397 EMSPUT00000006445 cds:pseudogene supercontig:GCA_000002235.2:Scaffold575:155007:155078:1 gene:EMSPUG00000006445 transcript:EMSPUT00000006445 description:\"tRNA-Gln for anticodon UUG\": Warning: Sequence contains no data \r\n",
        "Warning: lcl|Query_23398 EMSPUT00000002830 cds:pseudogene supercontig:GCA_000002235.2:Scaffold575:160774:160845:1 gene:EMSPUG00000002830 transcript:EMSPUT00000002830 description:\"tRNA-Gln for anticodon UUG\": Warning: Sequence contains no data \r\n",
        "Warning: lcl|Query_23399 EMSPUT00000009844 cds:pseudogene supercontig:GCA_000002235.2:Scaffold575:161301:161372:1 gene:EMSPUG00000009844 transcript:EMSPUT00000009844 description:\"tRNA-Gln for anticodon UUG\": Warning: Sequence contains no data \r\n",
        "Warning: lcl|Query_23400 EMSPUT00000012862 cds:pseudogene supercontig:GCA_000002235.2:Scaffold575:162014:162085:1 gene:EMSPUG00000012862 transcript:EMSPUT00000012862 description:\"tRNA-Gln for anticodon UUG\": Warning: Sequence contains no data \r\n",
        "Warning: lcl|Query_23401 EMSPUT00000004089 cds:pseudogene supercontig:GCA_000002235.2:Scaffold575:162732:162803:1 gene:EMSPUG00000004089 transcript:EMSPUT00000004089 description:\"tRNA-Gln for anticodon UUG\": Warning: Sequence contains no data \r\n"
       ]
      },
      {
       "output_type": "stream",
       "stream": "stdout",
       "text": [
        "Error: (1431.1) FASTA-Reader: Warning: FASTA-Reader: No residues given\r\n"
       ]
      },
      {
       "output_type": "stream",
       "stream": "stdout",
       "text": [
        "Warning: lcl|Query_23423 EMSPUT00000000778 cds:pseudogene supercontig:GCA_000002235.2:Scaffold1094:193115:193186:1 gene:EMSPUG00000000778 transcript:EMSPUT00000000778 description:\"tRNA-His for anticodon GUG\": Warning: Sequence contains no data \r\n",
        "Error: (1431.1) FASTA-Reader: Warning: FASTA-Reader: No residues given\r\n",
        "Error: (1431.1) FASTA-Reader: Warning: FASTA-Reader: No residues given\r\n"
       ]
      },
      {
       "output_type": "stream",
       "stream": "stdout",
       "text": [
        "Warning: lcl|Query_23448 EMSPUT00000007271 cds:pseudogene supercontig:GCA_000002235.2:Scaffold945:48515:48587:-1 gene:EMSPUG00000007271 transcript:EMSPUT00000007271 description:\"tRNA-Val for anticodon CAC\": Warning: Sequence contains no data \r\n",
        "Warning: lcl|Query_23451 EMSPUT00000000855 cds:pseudogene supercontig:GCA_000002235.2:Scaffold945:98115:98196:1 gene:EMSPUG00000000855 transcript:EMSPUT00000000855 description:\"tRNA-Ser for anticodon AGA\": Warning: Sequence contains no data \r\n",
        "Error: (1431.1) FASTA-Reader: Warning: FASTA-Reader: No residues given\r\n"
       ]
      },
      {
       "output_type": "stream",
       "stream": "stdout",
       "text": [
        "Warning: lcl|Query_23465 EMSPUT00000013762 cds:pseudogene supercontig:GCA_000002235.2:Scaffold1764:208946:209020:1 gene:EMSPUG00000013762 transcript:EMSPUT00000013762 description:\"tRNA-Leu for anticodon GAG\": Warning: Sequence contains no data \r\n"
       ]
      },
      {
       "output_type": "stream",
       "stream": "stdout",
       "text": [
        "Error: (1431.1) FASTA-Reader: Warning: FASTA-Reader: No residues given\r\n"
       ]
      },
      {
       "output_type": "stream",
       "stream": "stdout",
       "text": [
        "Warning: lcl|Query_23482 EMSPUT00000007061 cds:pseudogene supercontig:GCA_000002235.2:Scaffold1193:153273:153345:1 gene:EMSPUG00000007061 transcript:EMSPUT00000007061 description:\"tRNA-Met for anticodon CAU\": Warning: Sequence contains no data \r\n"
       ]
      },
      {
       "output_type": "stream",
       "stream": "stdout",
       "text": [
        "Error: (1431.1) FASTA-Reader: Warning: FASTA-Reader: No residues given\r\n",
        "Error: (1431.1) FASTA-Reader: Warning: FASTA-Reader: No residues given\r\n",
        "Error: (1431.1) FASTA-Reader: Warning: FASTA-Reader: No residues given\r\n",
        "Error: (1431.1) FASTA-Reader: Warning: FASTA-Reader: No residues given\r\n"
       ]
      },
      {
       "output_type": "stream",
       "stream": "stdout",
       "text": [
        "Warning: lcl|Query_23533 EMSPUT00000004620 cds:pseudogene supercontig:GCA_000002235.2:Scaffold821:246050:246123:1 gene:EMSPUG00000004620 transcript:EMSPUT00000004620 description:\"tRNA-Glu for anticodon CUC\": Warning: Sequence contains no data \r\n",
        "Warning: lcl|Query_23536 SPU_030108-tr cds:pseudogene supercontig:GCA_000002235.2:Scaffold821:273456:274386:-1 gene:SPU_030108 transcript:SPU_030108-tr: Warning: Sequence contains no data \r\n",
        "Warning: lcl|Query_23537 EMSPUT00000013354 cds:pseudogene supercontig:GCA_000002235.2:Scaffold821:310490:310564:1 gene:EMSPUG00000013354 transcript:EMSPUT00000013354 description:\"tRNA-His for anticodon AUG\": Warning: Sequence contains no data \r\n",
        "Warning: lcl|Query_23538 EMSPUT00000015012 cds:pseudogene supercontig:GCA_000002235.2:Scaffold821:355636:355710:1 gene:EMSPUG00000015012 transcript:EMSPUT00000015012 description:\"tRNA-His for anticodon AUG\": Warning: Sequence contains no data \r\n"
       ]
      },
      {
       "output_type": "stream",
       "stream": "stdout",
       "text": [
        "Error: (1431.1) FASTA-Reader: Warning: FASTA-Reader: No residues given\r\n"
       ]
      },
      {
       "output_type": "stream",
       "stream": "stdout",
       "text": [
        "Warning: lcl|Query_23616 EMSPUT00000014383 cds:pseudogene supercontig:GCA_000002235.2:Scaffold19:346166:346238:1 gene:EMSPUG00000014383 transcript:EMSPUT00000014383 description:\"tRNA-Lys for anticodon UUU\": Warning: Sequence contains no data \r\n"
       ]
      },
      {
       "output_type": "stream",
       "stream": "stdout",
       "text": [
        "Error: (1431.1) FASTA-Reader: Warning: FASTA-Reader: No residues given\r\n"
       ]
      },
      {
       "output_type": "stream",
       "stream": "stdout",
       "text": [
        "Warning: lcl|Query_23676 EMSPUT00000014259 cds:pseudogene supercontig:GCA_000002235.2:Scaffold425:146550:146617:-1 gene:EMSPUG00000014259 transcript:EMSPUT00000014259 description:\"tRNA-Gly for anticodon CCC\": Warning: Sequence contains no data \r\n"
       ]
      },
      {
       "output_type": "stream",
       "stream": "stdout",
       "text": [
        "Error: (1431.1) FASTA-Reader: Warning: FASTA-Reader: No residues given\r\n",
        "Error: (1431.1) FASTA-Reader: Warning: FASTA-Reader: No residues given\r\n",
        "Error: (1431.1) FASTA-Reader: Warning: FASTA-Reader: No residues given\r\n"
       ]
      },
      {
       "output_type": "stream",
       "stream": "stdout",
       "text": [
        "Warning: lcl|Query_23708 EMSPUT00000014651 cds:pseudogene supercontig:GCA_000002235.2:Scaffold136:461242:461314:1 gene:EMSPUG00000014651 transcript:EMSPUT00000014651 description:\"tRNA-Met for anticodon CAU\": Warning: Sequence contains no data \r\n",
        "Warning: lcl|Query_23711 EMSPUT00000001053 cds:pseudogene supercontig:GCA_000002235.2:Scaffold136:620871:620943:-1 gene:EMSPUG00000001053 transcript:EMSPUT00000001053 description:\"tRNA-Ala for anticodon AGC\": Warning: Sequence contains no data \r\n",
        "Warning: lcl|Query_23715 EMSPUT00000009812 cds:pseudogene supercontig:GCA_000002235.2:Scaffold136:679634:679706:-1 gene:EMSPUG00000009812 transcript:EMSPUT00000009812 description:\"tRNA-Gly for anticodon GCC\": Warning: Sequence contains no data \r\n",
        "Error: (1431.1) FASTA-Reader: Warning: FASTA-Reader: No residues given\r\n",
        "Error: (1431.1) FASTA-Reader: Warning: FASTA-Reader: No residues given\r\n"
       ]
      },
      {
       "output_type": "stream",
       "stream": "stdout",
       "text": [
        "Warning: lcl|Query_23722 EMSPUT00000015326 cds:pseudogene supercontig:GCA_000002235.2:Scaffold1521:23577:23651:-1 gene:EMSPUG00000015326 transcript:EMSPUT00000015326 description:\"tRNA-Glu for anticodon CUC\": Warning: Sequence contains no data \r\n",
        "Warning: lcl|Query_23723 EMSPUT00000012694 cds:pseudogene supercontig:GCA_000002235.2:Scaffold1521:27602:27676:1 gene:EMSPUG00000012694 transcript:EMSPUT00000012694 description:\"tRNA-Glu for anticodon CUC\": Warning: Sequence contains no data \r\n"
       ]
      },
      {
       "output_type": "stream",
       "stream": "stdout",
       "text": [
        "Error: (1431.1) FASTA-Reader: Warning: FASTA-Reader: No residues given\r\n",
        "Error: (1431.1) FASTA-Reader: Warning: FASTA-Reader: No residues given\r\n"
       ]
      },
      {
       "output_type": "stream",
       "stream": "stdout",
       "text": [
        "Warning: lcl|Query_23827 EMSPUT00000004668 cds:pseudogene supercontig:GCA_000002235.2:Scaffold387:186511:186584:1 gene:EMSPUG00000004668 transcript:EMSPUT00000004668 description:\"tRNA-Ser for anticodon UGA\": Warning: Sequence contains no data \r\n",
        "Warning: lcl|Query_23830 EMSPUT00000011951 cds:pseudogene supercontig:GCA_000002235.2:Scaffold387:212221:212295:-1 gene:EMSPUG00000011951 transcript:EMSPUT00000011951 description:\"tRNA-Thr for anticodon CGU\": Warning: Sequence contains no data \r\n"
       ]
      },
      {
       "output_type": "stream",
       "stream": "stdout",
       "text": [
        "Error: (1431.1) FASTA-Reader: Warning: FASTA-Reader: No residues given\r\n"
       ]
      },
      {
       "output_type": "stream",
       "stream": "stdout",
       "text": [
        "Warning: lcl|Query_23895 EMSPUT00000015587 cds:pseudogene supercontig:GCA_000002235.2:Scaffold191:410646:410718:-1 gene:EMSPUG00000015587 transcript:EMSPUT00000015587 description:\"tRNA-Ala for anticodon GGC\": Warning: Sequence contains no data \r\n",
        "Error: (1431.1) FASTA-Reader: Warning: FASTA-Reader: No residues given\r\n"
       ]
      },
      {
       "output_type": "stream",
       "stream": "stdout",
       "text": [
        "Warning: lcl|Query_23907 EMSPUT00000014526 cds:pseudogene supercontig:GCA_000002235.2:Scaffold191:585958:586031:1 gene:EMSPUG00000014526 transcript:EMSPUT00000014526 description:\"tRNA-Ala for anticodon AGC\": Warning: Sequence contains no data \r\n",
        "Error: (1431.1) FASTA-Reader: Warning: FASTA-Reader: No residues given\r\n"
       ]
      },
      {
       "output_type": "stream",
       "stream": "stdout",
       "text": [
        "Warning: lcl|Query_23925 EMSPUT00000003009 cds:pseudogene supercontig:GCA_000002235.2:Scaffold1639:121475:121547:1 gene:EMSPUG00000003009 transcript:EMSPUT00000003009 description:\"tRNA-Ala for anticodon CGC\": Warning: Sequence contains no data \r\n"
       ]
      },
      {
       "output_type": "stream",
       "stream": "stdout",
       "text": [
        "Error: (1431.1) FASTA-Reader: Warning: FASTA-Reader: No residues given\r\n"
       ]
      },
      {
       "output_type": "stream",
       "stream": "stdout",
       "text": [
        "Warning: lcl|Query_23957 EMSPUT00000005144 cds:pseudogene supercontig:GCA_000002235.2:Scaffold52:687775:687848:-1 gene:EMSPUG00000005144 transcript:EMSPUT00000005144 description:\"tRNA-Thr for anticodon AGU\": Warning: Sequence contains no data \r\n"
       ]
      },
      {
       "output_type": "stream",
       "stream": "stdout",
       "text": [
        "Error: (1431.1) FASTA-Reader: Warning: FASTA-Reader: No residues given\r\n",
        "Error: (1431.1) FASTA-Reader: Warning: FASTA-Reader: No residues given\r\n",
        "Error: (1431.1) FASTA-Reader: Warning: FASTA-Reader: No residues given\r\n",
        "Error: (1431.1) FASTA-Reader: Warning: FASTA-Reader: No residues given\r\n",
        "Error: (1431.1) FASTA-Reader: Warning: FASTA-Reader: No residues given\r\n",
        "Error: (1431.1) FASTA-Reader: Warning: FASTA-Reader: No residues given\r\n"
       ]
      },
      {
       "output_type": "stream",
       "stream": "stdout",
       "text": [
        "Warning: lcl|Query_23990 EMSPUT00000010704 cds:pseudogene supercontig:GCA_000002235.2:Scaffold185:209741:209814:1 gene:EMSPUG00000010704 transcript:EMSPUT00000010704 description:\"tRNA-Arg for anticodon UCU\": Warning: Sequence contains no data \r\n",
        "Warning: lcl|Query_23991 EMSPUT00000002648 cds:pseudogene supercontig:GCA_000002235.2:Scaffold185:211370:211443:1 gene:EMSPUG00000002648 transcript:EMSPUT00000002648 description:\"tRNA-Arg for anticodon UCU\": Warning: Sequence contains no data \r\n",
        "Warning: lcl|Query_23992 EMSPUT00000012034 cds:pseudogene supercontig:GCA_000002235.2:Scaffold185:294769:294842:-1 gene:EMSPUG00000012034 transcript:EMSPUT00000012034 description:\"tRNA-Arg for anticodon UCU\": Warning: Sequence contains no data \r\n",
        "Warning: lcl|Query_23994 EMSPUT00000007191 cds:pseudogene supercontig:GCA_000002235.2:Scaffold185:409665:409736:-1 gene:EMSPUG00000007191 transcript:EMSPUT00000007191 description:\"tRNA-His for anticodon GUG\": Warning: Sequence contains no data \r\n",
        "Warning: lcl|Query_23999 EMSPUT00000015119 cds:pseudogene supercontig:GCA_000002235.2:Scaffold185:459933:460005:-1 gene:EMSPUG00000015119 transcript:EMSPUT00000015119 description:\"tRNA-Met for anticodon CAU\": Warning: Sequence contains no data \r\n",
        "Warning: lcl|Query_24013 EMSPUT00000013176 cds:pseudogene supercontig:GCA_000002235.2:Scaffold8192:3124:3196:-1 gene:EMSPUG00000013176 transcript:EMSPUT00000013176 description:\"tRNA-Met for anticodon CAU\": Warning: Sequence contains no data \r\n",
        "Error: (1431.1) FASTA-Reader: Warning: FASTA-Reader: No residues given\r\n"
       ]
      },
      {
       "output_type": "stream",
       "stream": "stdout",
       "text": [
        "Warning: lcl|Query_24019 EMSPUT00000010425 cds:pseudogene supercontig:GCA_000002235.2:Scaffold5771:430:511:1 gene:EMSPUG00000010425 transcript:EMSPUT00000010425 description:\"tRNA-Ser for anticodon GCU\": Warning: Sequence contains no data \r\n"
       ]
      },
      {
       "output_type": "stream",
       "stream": "stdout",
       "text": [
        "Error: (1431.1) FASTA-Reader: Warning: FASTA-Reader: No residues given\r\n"
       ]
      },
      {
       "output_type": "stream",
       "stream": "stdout",
       "text": [
        "Warning: lcl|Query_24077 EMSPUT00000002971 cds:pseudogene supercontig:GCA_000002235.2:Scaffold14937:330:402:-1 gene:EMSPUG00000002971 transcript:EMSPUT00000002971 description:\"tRNA-Met for anticodon CAU\": Warning: Sequence contains no data \r\n"
       ]
      },
      {
       "output_type": "stream",
       "stream": "stdout",
       "text": [
        "Error: (1431.1) FASTA-Reader: Warning: FASTA-Reader: No residues given\r\n"
       ]
      },
      {
       "output_type": "stream",
       "stream": "stdout",
       "text": [
        "Warning: lcl|Query_24095 EMSPUT00000015614 cds:pseudogene supercontig:GCA_000002235.2:Scaffold1304:278280:278353:-1 gene:EMSPUG00000015614 transcript:EMSPUT00000015614 description:\"tRNA-Asn for anticodon GUU\": Warning: Sequence contains no data \r\n",
        "Error: (1431.1) FASTA-Reader: Warning: FASTA-Reader: No residues given\r\n"
       ]
      },
      {
       "output_type": "stream",
       "stream": "stdout",
       "text": [
        "Warning: lcl|Query_24106 EMSPUT00000014931 cds:pseudogene supercontig:GCA_000002235.2:Scaffold1401:115405:115477:-1 gene:EMSPUG00000014931 transcript:EMSPUT00000014931 description:\"tRNA-Met for anticodon CAU\": Warning: Sequence contains no data \r\n",
        "Error: (1431.1) FASTA-Reader: Warning: FASTA-Reader: No residues given\r\n"
       ]
      },
      {
       "output_type": "stream",
       "stream": "stdout",
       "text": [
        "Warning: lcl|Query_24123 EMSPUT00000004380 cds:pseudogene supercontig:GCA_000002235.2:Scaffold1063:109871:109943:-1 gene:EMSPUG00000004380 transcript:EMSPUT00000004380 description:\"tRNA-Met for anticodon CAU\": Warning: Sequence contains no data \r\n",
        "Error: (1431.1) FASTA-Reader: Warning: FASTA-Reader: No residues given\r\n"
       ]
      },
      {
       "output_type": "stream",
       "stream": "stdout",
       "text": [
        "Warning: lcl|Query_24138 EMSPUT00000002258 cds:pseudogene supercontig:GCA_000002235.2:Scaffold20486:459:531:-1 gene:EMSPUG00000002258 transcript:EMSPUT00000002258 description:\"tRNA-Met for anticodon CAU\": Warning: Sequence contains no data \r\n"
       ]
      },
      {
       "output_type": "stream",
       "stream": "stdout",
       "text": [
        "Error: (1431.1) FASTA-Reader: Warning: FASTA-Reader: No residues given\r\n",
        "Error: (1431.1) FASTA-Reader: Warning: FASTA-Reader: No residues given\r\n"
       ]
      },
      {
       "output_type": "stream",
       "stream": "stdout",
       "text": [
        "Warning: lcl|Query_24183 EMSPUT00000011157 cds:pseudogene supercontig:GCA_000002235.2:Scaffold149:463674:463747:1 gene:EMSPUG00000011157 transcript:EMSPUT00000011157 description:\"tRNA-Ala for anticodon AGC\": Warning: Sequence contains no data \r\n",
        "Warning: lcl|Query_24184 EMSPUT00000002398 cds:pseudogene supercontig:GCA_000002235.2:Scaffold149:552691:552763:1 gene:EMSPUG00000002398 transcript:EMSPUT00000002398 description:\"tRNA-Met for anticodon CAU\": Warning: Sequence contains no data \r\n"
       ]
      },
      {
       "output_type": "stream",
       "stream": "stdout",
       "text": [
        "Error: (1431.1) FASTA-Reader: Warning: FASTA-Reader: No residues given\r\n",
        "Error: (1431.1) FASTA-Reader: Warning: FASTA-Reader: No residues given\r\n",
        "Error: (1431.1) FASTA-Reader: Warning: FASTA-Reader: No residues given\r\n",
        "Error: (1431.1) FASTA-Reader: Warning: FASTA-Reader: No residues given\r\n",
        "Error: (1431.1) FASTA-Reader: Warning: FASTA-Reader: No residues given\r\n",
        "Error: (1431.1) FASTA-Reader: Warning: FASTA-Reader: No residues given\r\n",
        "Error: (1431.1) FASTA-Reader: Warning: FASTA-Reader: No residues given\r\n"
       ]
      },
      {
       "output_type": "stream",
       "stream": "stdout",
       "text": [
        "Warning: lcl|Query_24232 EMSPUT00000004883 cds:pseudogene supercontig:GCA_000002235.2:Scaffold1023:28559:28628:1 gene:EMSPUG00000004883 transcript:EMSPUT00000004883 description:\"tRNA-Glu for anticodon CUC\": Warning: Sequence contains no data \r\n",
        "Warning: lcl|Query_24236 EMSPUT00000011265 cds:pseudogene supercontig:GCA_000002235.2:Scaffold1023:93835:93918:-1 gene:EMSPUG00000011265 transcript:EMSPUT00000011265 description:\"tRNA-Leu for anticodon UAA\": Warning: Sequence contains no data \r\n",
        "Warning: lcl|Query_24237 EMSPUT00000001900 cds:pseudogene supercontig:GCA_000002235.2:Scaffold1023:94036:94119:-1 gene:EMSPUG00000001900 transcript:EMSPUT00000001900 description:\"tRNA-Leu for anticodon UAA\": Warning: Sequence contains no data \r\n",
        "Warning: lcl|Query_24238 EMSPUT00000008679 cds:pseudogene supercontig:GCA_000002235.2:Scaffold1023:94237:94320:-1 gene:EMSPUG00000008679 transcript:EMSPUT00000008679 description:\"tRNA-Leu for anticodon UAA\": Warning: Sequence contains no data \r\n",
        "Warning: lcl|Query_24239 EMSPUT00000004280 cds:pseudogene supercontig:GCA_000002235.2:Scaffold1023:97664:97746:-1 gene:EMSPUG00000004280 transcript:EMSPUT00000004280 description:\"tRNA-Leu for anticodon UAA\": Warning: Sequence contains no data \r\n",
        "Warning: lcl|Query_24240 EMSPUT00000014827 cds:pseudogene supercontig:GCA_000002235.2:Scaffold1023:100346:100429:-1 gene:EMSPUG00000014827 transcript:EMSPUT00000014827 description:\"tRNA-Leu for anticodon UAA\": Warning: Sequence contains no data \r\n",
        "Warning: lcl|Query_24241 EMSPUT00000003108 cds:pseudogene supercontig:GCA_000002235.2:Scaffold1023:108382:108465:-1 gene:EMSPUG00000003108 transcript:EMSPUT00000003108 description:\"tRNA-Leu for anticodon UAA\": Warning: Sequence contains no data \r\n",
        "Error: (1431.1) FASTA-Reader: Warning: FASTA-Reader: No residues given\r\n",
        "Error: (1431.1) FASTA-Reader: Warning: FASTA-Reader: No residues given\r\n"
       ]
      },
      {
       "output_type": "stream",
       "stream": "stdout",
       "text": [
        "Warning: lcl|Query_24247 EMSPUT00000013973 cds:pseudogene supercontig:GCA_000002235.2:Scaffold686:65804:65872:1 gene:EMSPUG00000013973 transcript:EMSPUT00000013973 description:\"tRNA-Glu for anticodon CUC\": Warning: Sequence contains no data \r\n",
        "Warning: lcl|Query_24250 EMSPUT00000003956 cds:pseudogene supercontig:GCA_000002235.2:Scaffold686:245662:245734:-1 gene:EMSPUG00000003956 transcript:EMSPUT00000003956 description:\"tRNA-Met for anticodon CAU\": Warning: Sequence contains no data \r\n"
       ]
      },
      {
       "output_type": "stream",
       "stream": "stdout",
       "text": [
        "Error: (1431.1) FASTA-Reader: Warning: FASTA-Reader: No residues given\r\n"
       ]
      },
      {
       "output_type": "stream",
       "stream": "stdout",
       "text": [
        "Warning: lcl|Query_24293 SPU_030064-tr cds:pseudogene supercontig:GCA_000002235.2:Scaffold60:491161:500393:-1 gene:SPU_030064 transcript:SPU_030064-tr: Warning: Sequence contains no data \r\n",
        "Error: (1431.1) FASTA-Reader: Warning: FASTA-Reader: No residues given\r\n"
       ]
      },
      {
       "output_type": "stream",
       "stream": "stdout",
       "text": [
        "Warning: lcl|Query_24313 EMSPUT00000004201 cds:pseudogene supercontig:GCA_000002235.2:Scaffold1551:114042:114114:1 gene:EMSPUG00000004201 transcript:EMSPUT00000004201 description:\"tRNA-Met for anticodon CAU\": Warning: Sequence contains no data \r\n",
        "Error: (1431.1) FASTA-Reader: Warning: FASTA-Reader: No residues given\r\n",
        "Error: (1431.1) FASTA-Reader: Warning: FASTA-Reader: No residues given\r\n"
       ]
      },
      {
       "output_type": "stream",
       "stream": "stdout",
       "text": [
        "Warning: lcl|Query_24321 EMSPUT00000002225 cds:pseudogene supercontig:GCA_000002235.2:Scaffold16495:9:81:1 gene:EMSPUG00000002225 transcript:EMSPUT00000002225 description:\"tRNA-Met for anticodon CAU\": Warning: Sequence contains no data \r\n",
        "Warning: lcl|Query_24331 EMSPUT00000012345 cds:pseudogene supercontig:GCA_000002235.2:Scaffold359:164298:164372:-1 gene:EMSPUG00000012345 transcript:EMSPUT00000012345 description:\"tRNA-Undet for anticodon \\x3f\\x3f\\x3f\": Warning: Sequence contains no data \r\n"
       ]
      },
      {
       "output_type": "stream",
       "stream": "stdout",
       "text": [
        "Error: (1431.1) FASTA-Reader: Warning: FASTA-Reader: No residues given\r\n"
       ]
      },
      {
       "output_type": "stream",
       "stream": "stdout",
       "text": [
        "Warning: lcl|Query_24352 SPU_019779-tr cds:pseudogene supercontig:GCA_000002235.2:Scaffold74:175940:193217:1 gene:SPU_019779 transcript:SPU_019779-tr: Warning: Sequence contains no data \r\n"
       ]
      },
      {
       "output_type": "stream",
       "stream": "stdout",
       "text": [
        "Error: (1431.1) FASTA-Reader: Warning: FASTA-Reader: No residues given\r\n",
        "Error: (1431.1) FASTA-Reader: Warning: FASTA-Reader: No residues given\r\n",
        "Error: (1431.1) FASTA-Reader: Warning: FASTA-Reader: No residues given\r\n",
        "Error: (1431.1) FASTA-Reader: Warning: FASTA-Reader: No residues given\r\n",
        "Error: (1431.1) FASTA-Reader: Warning: FASTA-Reader: No residues given\r\n",
        "Error: (1431.1) FASTA-Reader: Warning: FASTA-Reader: No residues given\r\n",
        "Error: (1431.1) FASTA-Reader: Warning: FASTA-Reader: No residues given\r\n",
        "Error: (1431.1) FASTA-Reader: Warning: FASTA-Reader: No residues given\r\n"
       ]
      },
      {
       "output_type": "stream",
       "stream": "stdout",
       "text": [
        "Warning: lcl|Query_24377 EMSPUT00000009238 cds:pseudogene supercontig:GCA_000002235.2:Scaffold74:645683:645764:1 gene:EMSPUG00000009238 transcript:EMSPUT00000009238 description:\"tRNA-Ser for anticodon GCU\": Warning: Sequence contains no data \r\n",
        "Warning: lcl|Query_24383 EMSPUT00000005737 cds:pseudogene supercontig:GCA_000002235.2:Scaffold74:697067:697137:1 gene:EMSPUG00000005737 transcript:EMSPUT00000005737 description:\"tRNA-Gly for anticodon GCC\": Warning: Sequence contains no data \r\n",
        "Warning: lcl|Query_24384 EMSPUT00000011087 cds:pseudogene supercontig:GCA_000002235.2:Scaffold74:697175:697245:1 gene:EMSPUG00000011087 transcript:EMSPUT00000011087 description:\"tRNA-Gly for anticodon GCC\": Warning: Sequence contains no data \r\n",
        "Warning: lcl|Query_24385 EMSPUT00000004451 cds:pseudogene supercontig:GCA_000002235.2:Scaffold74:698565:698634:1 gene:EMSPUG00000004451 transcript:EMSPUT00000004451 description:\"tRNA-Gly for anticodon GCC\": Warning: Sequence contains no data \r\n",
        "Warning: lcl|Query_24386 EMSPUT00000013650 cds:pseudogene supercontig:GCA_000002235.2:Scaffold74:699220:699290:1 gene:EMSPUG00000013650 transcript:EMSPUT00000013650 description:\"tRNA-Gly for anticodon GCC\": Warning: Sequence contains no data \r\n",
        "Warning: lcl|Query_24387 EMSPUT00000013096 cds:pseudogene supercontig:GCA_000002235.2:Scaffold74:812717:812789:1 gene:EMSPUG00000013096 transcript:EMSPUT00000013096 description:\"tRNA-Val for anticodon AAC\": Warning: Sequence contains no data \r\n",
        "Warning: lcl|Query_24388 EMSPUT00000011161 cds:pseudogene supercontig:GCA_000002235.2:Scaffold74:813013:813085:1 gene:EMSPUG00000011161 transcript:EMSPUT00000011161 description:\"tRNA-Val for anticodon UAC\": Warning: Sequence contains no data \r\n",
        "Warning: lcl|Query_24396 EMSPUT00000002613 cds:pseudogene supercontig:GCA_000002235.2:Scaffold56:323452:323526:-1 gene:EMSPUG00000002613 transcript:EMSPUT00000002613 description:\"tRNA-Ala for anticodon GGC\": Warning: Sequence contains no data \r\n",
        "Error: (1431.1) FASTA-Reader: Warning: FASTA-Reader: No residues given\r\n",
        "Error: (1431.1) FASTA-Reader: Warning: FASTA-Reader: No residues given\r\n",
        "Error: (1431.1) FASTA-Reader: Warning: FASTA-Reader: No residues given\r\n",
        "Error: (1431.1) FASTA-Reader: Warning: FASTA-Reader: No residues given\r\n",
        "Error: (1431.1) FASTA-Reader: Warning: FASTA-Reader: No residues given\r\n",
        "Error: (1431.1) FASTA-Reader: Warning: FASTA-Reader: No residues given\r\n",
        "Error: (1431.1) FASTA-Reader: Warning: FASTA-Reader: No residues given\r\n",
        "Error: (1431.1) FASTA-Reader: Warning: FASTA-Reader: No residues given\r\n"
       ]
      },
      {
       "output_type": "stream",
       "stream": "stdout",
       "text": [
        "Warning: lcl|Query_24408 EMSPUT00000001293 cds:pseudogene supercontig:GCA_000002235.2:Scaffold56:609747:609813:1 gene:EMSPUG00000001293 transcript:EMSPUT00000001293 description:\"tRNA-Glu for anticodon CUC\": Warning: Sequence contains no data \r\n"
       ]
      },
      {
       "output_type": "stream",
       "stream": "stdout",
       "text": [
        "Warning: lcl|Query_24409 EMSPUT00000011135 cds:pseudogene supercontig:GCA_000002235.2:Scaffold56:617081:617152:-1 gene:EMSPUG00000011135 transcript:EMSPUT00000011135 description:\"tRNA-Glu for anticodon CUC\": Warning: Sequence contains no data \r\n",
        "Warning: lcl|Query_24410 EMSPUT00000009278 cds:pseudogene supercontig:GCA_000002235.2:Scaffold56:617393:617464:-1 gene:EMSPUG00000009278 transcript:EMSPUT00000009278 description:\"tRNA-Glu for anticodon CUC\": Warning: Sequence contains no data \r\n",
        "Warning: lcl|Query_24411 EMSPUT00000002027 cds:pseudogene supercontig:GCA_000002235.2:Scaffold56:634533:634604:-1 gene:EMSPUG00000002027 transcript:EMSPUT00000002027 description:\"tRNA-Glu for anticodon CUC\": Warning: Sequence contains no data \r\n",
        "Warning: lcl|Query_24412 EMSPUT00000010358 cds:pseudogene supercontig:GCA_000002235.2:Scaffold56:635153:635224:1 gene:EMSPUG00000010358 transcript:EMSPUT00000010358 description:\"tRNA-Glu for anticodon CUC\": Warning: Sequence contains no data \r\n",
        "Warning: lcl|Query_24413 EMSPUT00000004495 cds:pseudogene supercontig:GCA_000002235.2:Scaffold56:636166:636238:1 gene:EMSPUG00000004495 transcript:EMSPUT00000004495 description:\"tRNA-Glu for anticodon CUC\": Warning: Sequence contains no data \r\n",
        "Warning: lcl|Query_24414 EMSPUT00000005771 cds:pseudogene supercontig:GCA_000002235.2:Scaffold56:659824:659895:1 gene:EMSPUG00000005771 transcript:EMSPUT00000005771 description:\"tRNA-Glu for anticodon CUC\": Warning: Sequence contains no data \r\n",
        "Warning: lcl|Query_24415 EMSPUT00000015594 cds:pseudogene supercontig:GCA_000002235.2:Scaffold56:722656:722727:-1 gene:EMSPUG00000015594 transcript:EMSPUT00000015594 description:\"tRNA-Undet for anticodon \\x3f\\x3f\\x3f\": Warning: Sequence contains no data \r\n",
        "Error: (1431.1) FASTA-Reader: Warning: FASTA-Reader: No residues given\r\n",
        "Error: (1431.1) FASTA-Reader: Warning: FASTA-Reader: No residues given\r\n",
        "Error: (1431.1) FASTA-Reader: Warning: FASTA-Reader: No residues given\r\n",
        "Error: (1431.1) FASTA-Reader: Warning: FASTA-Reader: No residues given\r\n"
       ]
      },
      {
       "output_type": "stream",
       "stream": "stdout",
       "text": [
        "Warning: lcl|Query_24437 EMSPUT00000003430 cds:pseudogene supercontig:GCA_000002235.2:Scaffold1636:299229:299307:1 gene:EMSPUG00000003430 transcript:EMSPUT00000003430 description:\"tRNA-Ser for anticodon UGA\": Warning: Sequence contains no data \r\n",
        "Warning: lcl|Query_24438 EMSPUT00000013480 cds:pseudogene supercontig:GCA_000002235.2:Scaffold1636:323899:323980:1 gene:EMSPUG00000013480 transcript:EMSPUT00000013480 description:\"tRNA-Ser for anticodon UGA\": Warning: Sequence contains no data \r\n",
        "Warning: lcl|Query_24446 EMSPUT00000009589 cds:pseudogene supercontig:GCA_000002235.2:Scaffold1245:133929:134001:1 gene:EMSPUG00000009589 transcript:EMSPUT00000009589 description:\"tRNA-Ala for anticodon GGC\": Warning: Sequence contains no data \r\n"
       ]
      },
      {
       "output_type": "stream",
       "stream": "stdout",
       "text": [
        "Warning: lcl|Query_24456 EMSPUT00000009868 cds:pseudogene supercontig:GCA_000002235.2:Scaffold1386:74508:74580:-1 gene:EMSPUG00000009868 transcript:EMSPUT00000009868 description:\"tRNA-Met for anticodon CAU\": Warning: Sequence contains no data \r\n",
        "Error: (1431.1) FASTA-Reader: Warning: FASTA-Reader: No residues given\r\n",
        "Error: (1431.1) FASTA-Reader: Warning: FASTA-Reader: No residues given\r\n",
        "Error: (1431.1) FASTA-Reader: Warning: FASTA-Reader: No residues given\r\n"
       ]
      },
      {
       "output_type": "stream",
       "stream": "stdout",
       "text": [
        "Warning: lcl|Query_24458 EMSPUT00000008486 cds:pseudogene supercontig:GCA_000002235.2:Scaffold1386:98338:98410:1 gene:EMSPUG00000008486 transcript:EMSPUT00000008486 description:\"tRNA-Met for anticodon CAU\": Warning: Sequence contains no data \r\n",
        "Warning: lcl|Query_24459 EMSPUT00000004171 cds:pseudogene supercontig:GCA_000002235.2:Scaffold1386:98902:98974:-1 gene:EMSPUG00000004171 transcript:EMSPUT00000004171 description:\"tRNA-Met for anticodon CAU\": Warning: Sequence contains no data \r\n",
        "Warning: lcl|Query_24460 EMSPUT00000014890 cds:pseudogene supercontig:GCA_000002235.2:Scaffold1386:99894:99966:-1 gene:EMSPUG00000014890 transcript:EMSPUT00000014890 description:\"tRNA-Met for anticodon CAU\": Warning: Sequence contains no data \r\n",
        "Error: (1431.1) FASTA-Reader: Warning: FASTA-Reader: No residues given\r\n"
       ]
      },
      {
       "output_type": "stream",
       "stream": "stdout",
       "text": [
        "Warning: lcl|Query_24485 EMSPUT00000006853 cds:pseudogene supercontig:GCA_000002235.2:Scaffold5363:3060:3132:-1 gene:EMSPUG00000006853 transcript:EMSPUT00000006853 description:\"tRNA-Ala for anticodon GGC\": Warning: Sequence contains no data \r\n"
       ]
      },
      {
       "output_type": "stream",
       "stream": "stdout",
       "text": [
        "Error: (1431.1) FASTA-Reader: Warning: FASTA-Reader: No residues given\r\n"
       ]
      },
      {
       "output_type": "stream",
       "stream": "stdout",
       "text": [
        "Warning: lcl|Query_24504 SPU_030107-tr cds:pseudogene supercontig:GCA_000002235.2:Scaffold1166:2075:3681:1 gene:SPU_030107 transcript:SPU_030107-tr: Warning: Sequence contains no data \r\n",
        "Error: (1431.1) FASTA-Reader: Warning: FASTA-Reader: No residues given\r\n",
        "Error: (1431.1) FASTA-Reader: Warning: FASTA-Reader: No residues given\r\n"
       ]
      },
      {
       "output_type": "stream",
       "stream": "stdout",
       "text": [
        "Warning: lcl|Query_24517 EMSPUT00000003354 cds:pseudogene supercontig:GCA_000002235.2:Scaffold905:34330:34401:1 gene:EMSPUG00000003354 transcript:EMSPUT00000003354 description:\"tRNA-Ser for anticodon AGA\": Warning: Sequence contains no data \r\n",
        "Warning: lcl|Query_24522 EMSPUT00000010705 cds:pseudogene supercontig:GCA_000002235.2:Scaffold2107:46847:46919:1 gene:EMSPUG00000010705 transcript:EMSPUT00000010705 description:\"tRNA-Met for anticodon CAU\": Warning: Sequence contains no data \r\n"
       ]
      },
      {
       "output_type": "stream",
       "stream": "stdout",
       "text": [
        "Error: (1431.1) FASTA-Reader: Warning: FASTA-Reader: No residues given\r\n",
        "Error: (1431.1) FASTA-Reader: Warning: FASTA-Reader: No residues given\r\n"
       ]
      },
      {
       "output_type": "stream",
       "stream": "stdout",
       "text": [
        "Warning: lcl|Query_24571 EMSPUT00000006906 cds:pseudogene supercontig:GCA_000002235.2:Scaffold2283:44939:45010:-1 gene:EMSPUG00000006906 transcript:EMSPUT00000006906 description:\"tRNA-Glu for anticodon CUC\": Warning: Sequence contains no data \r\n",
        "Warning: lcl|Query_24583 EMSPUT00000012314 cds:pseudogene supercontig:GCA_000002235.2:Scaffold1977:76108:76180:1 gene:EMSPUG00000012314 transcript:EMSPUT00000012314 description:\"tRNA-Met for anticodon CAU\": Warning: Sequence contains no data \r\n"
       ]
      },
      {
       "output_type": "stream",
       "stream": "stdout",
       "text": [
        "Error: (1431.1) FASTA-Reader: Warning: FASTA-Reader: No residues given\r\n"
       ]
      },
      {
       "output_type": "stream",
       "stream": "stdout",
       "text": [
        "Warning: lcl|Query_24620 EMSPUT00000002625 cds:pseudogene supercontig:GCA_000002235.2:Scaffold896:132880:132952:1 gene:EMSPUG00000002625 transcript:EMSPUT00000002625 description:\"tRNA-Met for anticodon CAU\": Warning: Sequence contains no data \r\n",
        "Error: (1431.1) FASTA-Reader: Warning: FASTA-Reader: No residues given\r\n",
        "Error: (1431.1) FASTA-Reader: Warning: FASTA-Reader: No residues given\r\n"
       ]
      },
      {
       "output_type": "stream",
       "stream": "stdout",
       "text": [
        "Warning: lcl|Query_24647 EMSPUT00000004026 cds:pseudogene supercontig:GCA_000002235.2:Scaffold77:244181:244253:1 gene:EMSPUG00000004026 transcript:EMSPUT00000004026 description:\"tRNA-Met for anticodon CAU\": Warning: Sequence contains no data \r\n",
        "Warning: lcl|Query_24652 EMSPUT00000014944 cds:pseudogene supercontig:GCA_000002235.2:Scaffold77:327294:327366:-1 gene:EMSPUG00000014944 transcript:EMSPUT00000014944 description:\"tRNA-Ile for anticodon GAU\": Warning: Sequence contains no data \r\n",
        "Error: (1431.1) FASTA-Reader: Warning: FASTA-Reader: No residues given\r\n",
        "Error: (1431.1) FASTA-Reader: Warning: FASTA-Reader: No residues given\r\n"
       ]
      },
      {
       "output_type": "stream",
       "stream": "stdout",
       "text": [
        "Warning: lcl|Query_24658 EMSPUT00000007915 cds:pseudogene supercontig:GCA_000002235.2:Scaffold77:423632:423706:-1 gene:EMSPUG00000007915 transcript:EMSPUT00000007915 description:\"tRNA-Cys for anticodon GCA\": Warning: Sequence contains no data \r\n",
        "Warning: lcl|Query_24666 EMSPUT00000000565 cds:pseudogene supercontig:GCA_000002235.2:Scaffold77:596476:596548:1 gene:EMSPUG00000000565 transcript:EMSPUT00000000565 description:\"tRNA-Ala for anticodon GGC\": Warning: Sequence contains no data \r\n"
       ]
      },
      {
       "output_type": "stream",
       "stream": "stdout",
       "text": [
        "Error: (1431.1) FASTA-Reader: Warning: FASTA-Reader: No residues given\r\n"
       ]
      },
      {
       "output_type": "stream",
       "stream": "stdout",
       "text": [
        "Warning: lcl|Query_24722 EMSPUT00000000983 cds:pseudogene supercontig:GCA_000002235.2:Scaffold242:265893:265964:-1 gene:EMSPUG00000000983 transcript:EMSPUT00000000983 description:\"tRNA-Glu for anticodon CUC\": Warning: Sequence contains no data \r\n"
       ]
      },
      {
       "output_type": "stream",
       "stream": "stdout",
       "text": [
        "Error: (1431.1) FASTA-Reader: Warning: FASTA-Reader: No residues given\r\n",
        "Error: (1431.1) FASTA-Reader: Warning: FASTA-Reader: No residues given\r\n",
        "Error: (1431.1) FASTA-Reader: Warning: FASTA-Reader: No residues given\r\n",
        "Error: (1431.1) FASTA-Reader: Warning: FASTA-Reader: No residues given\r\n"
       ]
      },
      {
       "output_type": "stream",
       "stream": "stdout",
       "text": [
        "Warning: lcl|Query_24739 EMSPUT00000010604 cds:pseudogene supercontig:GCA_000002235.2:Scaffold417:271642:271714:1 gene:EMSPUG00000010604 transcript:EMSPUT00000010604 description:\"tRNA-Thr for anticodon AGU\": Warning: Sequence contains no data \r\n",
        "Warning: lcl|Query_24740 EMSPUT00000003880 cds:pseudogene supercontig:GCA_000002235.2:Scaffold417:272699:272771:1 gene:EMSPUG00000003880 transcript:EMSPUT00000003880 description:\"tRNA-Thr for anticodon AGU\": Warning: Sequence contains no data \r\n",
        "Warning: lcl|Query_24741 EMSPUT00000014097 cds:pseudogene supercontig:GCA_000002235.2:Scaffold417:275157:275229:-1 gene:EMSPUG00000014097 transcript:EMSPUT00000014097 description:\"tRNA-Thr for anticodon AGU\": Warning: Sequence contains no data \r\n",
        "Warning: lcl|Query_24742 EMSPUT00000008848 cds:pseudogene supercontig:GCA_000002235.2:Scaffold417:276839:276911:1 gene:EMSPUG00000008848 transcript:EMSPUT00000008848 description:\"tRNA-Thr for anticodon AGU\": Warning: Sequence contains no data \r\n",
        "Error: (1431.1) FASTA-Reader: Warning: FASTA-Reader: No residues given\r\n",
        "Error: (1431.1) FASTA-Reader: Warning: FASTA-Reader: No residues given\r\n"
       ]
      },
      {
       "output_type": "stream",
       "stream": "stdout",
       "text": [
        "Warning: lcl|Query_24760 EMSPUT00000013084 cds:pseudogene supercontig:GCA_000002235.2:Scaffold1115:7427:7501:-1 gene:EMSPUG00000013084 transcript:EMSPUT00000013084 description:\"tRNA-His for anticodon AUG\": Warning: Sequence contains no data \r\n",
        "Warning: lcl|Query_24763 EMSPUT00000009758 cds:pseudogene supercontig:GCA_000002235.2:Scaffold1115:107775:107849:-1 gene:EMSPUG00000009758 transcript:EMSPUT00000009758 description:\"tRNA-Glu for anticodon CUC\": Warning: Sequence contains no data \r\n"
       ]
      },
      {
       "output_type": "stream",
       "stream": "stdout",
       "text": [
        "Error: (1431.1) FASTA-Reader: Warning: FASTA-Reader: No residues given\r\n"
       ]
      },
      {
       "output_type": "stream",
       "stream": "stdout",
       "text": [
        "Warning: lcl|Query_24791 EMSPUT00000014968 cds:pseudogene supercontig:GCA_000002235.2:Scaffold814:227941:228017:1 gene:EMSPUG00000014968 transcript:EMSPUT00000014968 description:\"tRNA-Glu for anticodon CUC\": Warning: Sequence contains no data \r\n"
       ]
      },
      {
       "output_type": "stream",
       "stream": "stdout",
       "text": [
        "Error: (1431.1) FASTA-Reader: Warning: FASTA-Reader: No residues given\r\n"
       ]
      },
      {
       "output_type": "stream",
       "stream": "stdout",
       "text": [
        "Warning: lcl|Query_24856 EMSPUT00000009281 cds:pseudogene supercontig:GCA_000002235.2:Scaffold541:348727:348801:1 gene:EMSPUG00000009281 transcript:EMSPUT00000009281 description:\"tRNA-Glu for anticodon UUC\": Warning: Sequence contains no data \r\n"
       ]
      },
      {
       "output_type": "stream",
       "stream": "stdout",
       "text": [
        "Error: (1431.1) FASTA-Reader: Warning: FASTA-Reader: No residues given\r\n"
       ]
      },
      {
       "output_type": "stream",
       "stream": "stdout",
       "text": [
        "Warning: lcl|Query_24879 EMSPUT00000000043 cds:pseudogene supercontig:GCA_000002235.2:Scaffold82:785901:785973:1 gene:EMSPUG00000000043 transcript:EMSPUT00000000043 description:\"tRNA-Met for anticodon CAU\": Warning: Sequence contains no data \r\n"
       ]
      },
      {
       "output_type": "stream",
       "stream": "stdout",
       "text": [
        "Error: (1431.1) FASTA-Reader: Warning: FASTA-Reader: No residues given\r\n",
        "Error: (1431.1) FASTA-Reader: Warning: FASTA-Reader: No residues given\r\n"
       ]
      },
      {
       "output_type": "stream",
       "stream": "stdout",
       "text": [
        "Warning: lcl|Query_24955 EMSPUT00000006939 cds:pseudogene supercontig:GCA_000002235.2:Scaffold285:14759:14832:1 gene:EMSPUG00000006939 transcript:EMSPUT00000006939 description:\"tRNA-Glu for anticodon CUC\": Warning: Sequence contains no data \r\n",
        "Warning: lcl|Query_24957 EMSPUT00000001792 cds:pseudogene supercontig:GCA_000002235.2:Scaffold285:317173:317241:1 gene:EMSPUG00000001792 transcript:EMSPUT00000001792 description:\"tRNA-Ser for anticodon GGA\": Warning: Sequence contains no data \r\n"
       ]
      },
      {
       "output_type": "stream",
       "stream": "stdout",
       "text": [
        "Error: (1431.1) FASTA-Reader: Warning: FASTA-Reader: No residues given\r\n",
        "Error: (1431.1) FASTA-Reader: Warning: FASTA-Reader: No residues given\r\n"
       ]
      },
      {
       "output_type": "stream",
       "stream": "stdout",
       "text": [
        "Warning: lcl|Query_25112 EMSPUT00000008267 cds:pseudogene supercontig:GCA_000002235.2:Scaffold231:626611:626683:-1 gene:EMSPUG00000008267 transcript:EMSPUT00000008267 description:\"tRNA-Met for anticodon CAU\": Warning: Sequence contains no data \r\n",
        "Warning: lcl|Query_25114 EMSPUT00000007921 cds:pseudogene supercontig:GCA_000002235.2:Scaffold231:633494:633575:1 gene:EMSPUG00000007921 transcript:EMSPUT00000007921 description:\"tRNA-His for anticodon GUG\": Warning: Sequence contains no data \r\n",
        "Error: (1431.1) FASTA-Reader: Warning: FASTA-Reader: No residues given\r\n"
       ]
      },
      {
       "output_type": "stream",
       "stream": "stdout",
       "text": [
        "Warning: lcl|Query_25132 EMSPUT00000004251 cds:pseudogene supercontig:GCA_000002235.2:Scaffold38:502222:502297:-1 gene:EMSPUG00000004251 transcript:EMSPUT00000004251 description:\"tRNA-Ala for anticodon GGC\": Warning: Sequence contains no data \r\n",
        "Error: (1431.1) FASTA-Reader: Warning: FASTA-Reader: No residues given\r\n",
        "Error: (1431.1) FASTA-Reader: Warning: FASTA-Reader: No residues given\r\n"
       ]
      },
      {
       "output_type": "stream",
       "stream": "stdout",
       "text": [
        "Warning: lcl|Query_25136 EMSPUT00000008476 cds:pseudogene supercontig:GCA_000002235.2:Scaffold38:637275:637348:1 gene:EMSPUG00000008476 transcript:EMSPUT00000008476 description:\"tRNA-Ala for anticodon GGC\": Warning: Sequence contains no data \r\n",
        "Warning: lcl|Query_25141 EMSPUT00000002806 cds:pseudogene supercontig:GCA_000002235.2:Scaffold38:782725:782798:1 gene:EMSPUG00000002806 transcript:EMSPUT00000002806 description:\"tRNA-Met for anticodon CAU\": Warning: Sequence contains no data \r\n",
        "Error: (1431.1) FASTA-Reader: Warning: FASTA-Reader: No residues given\r\n"
       ]
      },
      {
       "output_type": "stream",
       "stream": "stdout",
       "text": [
        "Warning: lcl|Query_25156 EMSPUT00000012881 cds:pseudogene supercontig:GCA_000002235.2:Scaffold38:995963:996034:-1 gene:EMSPUG00000012881 transcript:EMSPUT00000012881 description:\"tRNA-Ala for anticodon CGC\": Warning: Sequence contains no data \r\n",
        "Error: (1431.1) FASTA-Reader: Warning: FASTA-Reader: No residues given\r\n"
       ]
      },
      {
       "output_type": "stream",
       "stream": "stdout",
       "text": [
        "Warning: lcl|Query_25175 EMSPUT00000000754 cds:pseudogene supercontig:GCA_000002235.2:Scaffold1703:50445:50517:-1 gene:EMSPUG00000000754 transcript:EMSPUT00000000754 description:\"tRNA-Ala for anticodon GGC\": Warning: Sequence contains no data \r\n",
        "Error: (1431.1) FASTA-Reader: Warning: FASTA-Reader: No residues given\r\n"
       ]
      },
      {
       "output_type": "stream",
       "stream": "stdout",
       "text": [
        "Warning: lcl|Query_25189 EMSPUT00000000262 cds:pseudogene supercontig:GCA_000002235.2:Scaffold448:211478:211550:1 gene:EMSPUG00000000262 transcript:EMSPUT00000000262 description:\"tRNA-Met for anticodon CAU\": Warning: Sequence contains no data \r\n",
        "Error: (1431.1) FASTA-Reader: Warning: FASTA-Reader: No residues given\r\n",
        "Error: (1431.1) FASTA-Reader: Warning: FASTA-Reader: No residues given\r\n"
       ]
      },
      {
       "output_type": "stream",
       "stream": "stdout",
       "text": [
        "Warning: lcl|Query_25201 EMSPUT00000004063 cds:pseudogene supercontig:GCA_000002235.2:Scaffold7395:17646:17716:1 gene:EMSPUG00000004063 transcript:EMSPUT00000004063 description:\"tRNA-Gln for anticodon CUG\": Warning: Sequence contains no data \r\n",
        "Warning: lcl|Query_25205 EMSPUT00000006129 cds:pseudogene supercontig:GCA_000002235.2:Scaffold6450:2610:2682:1 gene:EMSPUG00000006129 transcript:EMSPUT00000006129 description:\"tRNA-Met for anticodon CAU\": Warning: Sequence contains no data \r\n",
        "Error: (1431.1) FASTA-Reader: Warning: FASTA-Reader: No residues given\r\n"
       ]
      },
      {
       "output_type": "stream",
       "stream": "stdout",
       "text": [
        "Warning: lcl|Query_25217 EMSPUT00000015067 cds:pseudogene supercontig:GCA_000002235.2:Scaffold162:733862:733935:1 gene:EMSPUG00000015067 transcript:EMSPUT00000015067 description:\"tRNA-Ala for anticodon GGC\": Warning: Sequence contains no data \r\n",
        "Error: (1431.1) FASTA-Reader: Warning: FASTA-Reader: No residues given\r\n"
       ]
      },
      {
       "output_type": "stream",
       "stream": "stdout",
       "text": [
        "Warning: lcl|Query_25226 SPU_006788-tr cds:pseudogene supercontig:GCA_000002235.2:Scaffold551:74513:87218:-1 gene:SPU_006788 transcript:SPU_006788-tr: Warning: Sequence contains no data \r\n",
        "Error: (1431.1) FASTA-Reader: Warning: FASTA-Reader: No residues given\r\n",
        "Error: (1431.1) FASTA-Reader: Warning: FASTA-Reader: No residues given\r\n"
       ]
      },
      {
       "output_type": "stream",
       "stream": "stdout",
       "text": [
        "Warning: lcl|Query_25239 EMSPUT00000001673 cds:pseudogene supercontig:GCA_000002235.2:Scaffold551:383174:383245:-1 gene:EMSPUG00000001673 transcript:EMSPUT00000001673 description:\"tRNA-Asp for anticodon GUC\": Warning: Sequence contains no data \r\n",
        "Warning: lcl|Query_25244 EMSPUT00000009763 cds:pseudogene supercontig:GCA_000002235.2:Scaffold551:431242:431314:1 gene:EMSPUG00000009763 transcript:EMSPUT00000009763 description:\"tRNA-Thr for anticodon AGU\": Warning: Sequence contains no data \r\n"
       ]
      },
      {
       "output_type": "stream",
       "stream": "stdout",
       "text": [
        "Error: (1431.1) FASTA-Reader: Warning: FASTA-Reader: No residues given\r\n",
        "Error: (1431.1) FASTA-Reader: Warning: FASTA-Reader: No residues given\r\n"
       ]
      },
      {
       "output_type": "stream",
       "stream": "stdout",
       "text": [
        "Warning: lcl|Query_25279 EMSPUT00000007070 cds:pseudogene supercontig:GCA_000002235.2:Scaffold1373:217361:217430:1 gene:EMSPUG00000007070 transcript:EMSPUT00000007070 description:\"tRNA-Met for anticodon CAU\": Warning: Sequence contains no data \r\n",
        "Warning: lcl|Query_25287 EMSPUT00000012453 cds:pseudogene supercontig:GCA_000002235.2:Scaffold18417:36:108:-1 gene:EMSPUG00000012453 transcript:EMSPUT00000012453 description:\"tRNA-Val for anticodon AAC\": Warning: Sequence contains no data \r\n",
        "Error: (1431.1) FASTA-Reader: Warning: FASTA-Reader: No residues given\r\n"
       ]
      },
      {
       "output_type": "stream",
       "stream": "stdout",
       "text": [
        "Warning: lcl|Query_25296 EMSPUT00000013753 cds:pseudogene supercontig:GCA_000002235.2:Scaffold881:115353:115425:-1 gene:EMSPUG00000013753 transcript:EMSPUT00000013753 description:\"tRNA-Met for anticodon CAU\": Warning: Sequence contains no data \r\n",
        "Error: (1431.1) FASTA-Reader: Warning: FASTA-Reader: No residues given\r\n",
        "Error: (1431.1) FASTA-Reader: Warning: FASTA-Reader: No residues given\r\n"
       ]
      },
      {
       "output_type": "stream",
       "stream": "stdout",
       "text": [
        "Warning: lcl|Query_25320 EMSPUT00000001760 cds:pseudogene supercontig:GCA_000002235.2:Scaffold86:709916:709988:-1 gene:EMSPUG00000001760 transcript:EMSPUT00000001760 description:\"tRNA-Met for anticodon CAU\": Warning: Sequence contains no data \r\n",
        "Warning: lcl|Query_25322 EMSPUT00000002486 cds:pseudogene supercontig:GCA_000002235.2:Scaffold86:766478:766550:1 gene:EMSPUG00000002486 transcript:EMSPUT00000002486 description:\"tRNA-Ser for anticodon GGA\": Warning: Sequence contains no data \r\n",
        "Error: (1431.1) FASTA-Reader: Warning: FASTA-Reader: No residues given\r\n",
        "Error: (1431.1) FASTA-Reader: Warning: FASTA-Reader: No residues given\r\n",
        "Error: (1431.1) FASTA-Reader: Warning: FASTA-Reader: No residues given\r\n",
        "Error: (1431.1) FASTA-Reader: Warning: FASTA-Reader: No residues given\r\n"
       ]
      },
      {
       "output_type": "stream",
       "stream": "stdout",
       "text": [
        "Warning: lcl|Query_25339 EMSPUT00000004665 cds:pseudogene supercontig:GCA_000002235.2:Scaffold900:21742:21815:-1 gene:EMSPUG00000004665 transcript:EMSPUT00000004665 description:\"tRNA-Ser for anticodon UGA\": Warning: Sequence contains no data \r\n",
        "Warning: lcl|Query_25346 EMSPUT00000006712 cds:pseudogene supercontig:GCA_000002235.2:Scaffold900:280514:280585:1 gene:EMSPUG00000006712 transcript:EMSPUT00000006712 description:\"tRNA-Gly for anticodon UCC\": Warning: Sequence contains no data \r\n",
        "Warning: lcl|Query_25347 EMSPUT00000011958 cds:pseudogene supercontig:GCA_000002235.2:Scaffold900:281812:281883:1 gene:EMSPUG00000011958 transcript:EMSPUT00000011958 description:\"tRNA-Gly for anticodon UCC\": Warning: Sequence contains no data \r\n",
        "Warning: lcl|Query_25352 EMSPUT00000000695 cds:pseudogene supercontig:GCA_000002235.2:Scaffold1927:14712:14785:-1 gene:EMSPUG00000000695 transcript:EMSPUT00000000695 description:\"tRNA-Met for anticodon CAU\": Warning: Sequence contains no data \r\n"
       ]
      },
      {
       "output_type": "stream",
       "stream": "stdout",
       "text": [
        "Error: (1431.1) FASTA-Reader: Warning: FASTA-Reader: No residues given\r\n"
       ]
      },
      {
       "output_type": "stream",
       "stream": "stdout",
       "text": [
        "Warning: lcl|Query_25379 EMSPUT00000007117 cds:pseudogene supercontig:GCA_000002235.2:Scaffold420:569645:569717:1 gene:EMSPUG00000007117 transcript:EMSPUT00000007117 description:\"tRNA-Met for anticodon CAU\": Warning: Sequence contains no data \r\n"
       ]
      },
      {
       "output_type": "stream",
       "stream": "stdout",
       "text": [
        "Error: (1431.1) FASTA-Reader: Warning: FASTA-Reader: No residues given\r\n"
       ]
      },
      {
       "output_type": "stream",
       "stream": "stdout",
       "text": [
        "Warning: lcl|Query_25422 EMSPUT00000013684 cds:pseudogene supercontig:GCA_000002235.2:Scaffold10:546343:546415:1 gene:EMSPUG00000013684 transcript:EMSPUT00000013684 description:\"tRNA-Lys for anticodon CUU\": Warning: Sequence contains no data \r\n",
        "Error: (1431.1) FASTA-Reader: Warning: FASTA-Reader: No residues given\r\n",
        "Error: (1431.1) FASTA-Reader: Warning: FASTA-Reader: No residues given\r\n"
       ]
      },
      {
       "output_type": "stream",
       "stream": "stdout",
       "text": [
        "Warning: lcl|Query_25442 EMSPUT00000006145 cds:pseudogene supercontig:GCA_000002235.2:Scaffold10:1008934:1009015:1 gene:EMSPUG00000006145 transcript:EMSPUT00000006145 description:\"tRNA-Ser for anticodon GCU\": Warning: Sequence contains no data \r\n",
        "Warning: lcl|Query_25444 EMSPUT00000008936 cds:pseudogene supercontig:GCA_000002235.2:Scaffold10:1025322:1025403:1 gene:EMSPUG00000008936 transcript:EMSPUT00000008936 description:\"tRNA-Ser for anticodon GCU\": Warning: Sequence contains no data \r\n",
        "Error: (1431.1) FASTA-Reader: Warning: FASTA-Reader: No residues given\r\n"
       ]
      },
      {
       "output_type": "stream",
       "stream": "stdout",
       "text": [
        "Warning: lcl|Query_25457 EMSPUT00000008346 cds:pseudogene supercontig:GCA_000002235.2:Scaffold10:1375520:1375592:-1 gene:EMSPUG00000008346 transcript:EMSPUT00000008346 description:\"tRNA-Met for anticodon CAU\": Warning: Sequence contains no data \r\n"
       ]
      },
      {
       "output_type": "stream",
       "stream": "stdout",
       "text": [
        "Error: (1431.1) FASTA-Reader: Warning: FASTA-Reader: No residues given\r\n"
       ]
      },
      {
       "output_type": "stream",
       "stream": "stdout",
       "text": [
        "Warning: lcl|Query_25481 EMSPUT00000012680 cds:pseudogene supercontig:GCA_000002235.2:Scaffold10:1967872:1967944:-1 gene:EMSPUG00000012680 transcript:EMSPUT00000012680 description:\"tRNA-Met for anticodon CAU\": Warning: Sequence contains no data \r\n",
        "Error: (1431.1) FASTA-Reader: Warning: FASTA-Reader: No residues given\r\n",
        "Error: (1431.1) FASTA-Reader: Warning: FASTA-Reader: No residues given\r\n",
        "Error: (1431.1) FASTA-Reader: Warning: FASTA-Reader: No residues given\r\n"
       ]
      },
      {
       "output_type": "stream",
       "stream": "stdout",
       "text": [
        "Warning: lcl|Query_25501 EMSPUT00000008859 cds:pseudogene supercontig:GCA_000002235.2:Scaffold679:197926:198000:1 gene:EMSPUG00000008859 transcript:EMSPUT00000008859 description:\"tRNA-Glu for anticodon CUC\": Warning: Sequence contains no data \r\n",
        "Warning: lcl|Query_25502 EMSPUT00000009374 cds:pseudogene supercontig:GCA_000002235.2:Scaffold902:8176:8248:-1 gene:EMSPUG00000009374 transcript:EMSPUT00000009374 description:\"tRNA-Ala for anticodon GGC\": Warning: Sequence contains no data \r\n",
        "Warning: lcl|Query_25510 EMSPUT00000015519 cds:pseudogene supercontig:GCA_000002235.2:Scaffold856:138796:138867:1 gene:EMSPUG00000015519 transcript:EMSPUT00000015519 description:\"tRNA-Met for anticodon CAU\": Warning: Sequence contains no data \r\n"
       ]
      },
      {
       "output_type": "stream",
       "stream": "stdout",
       "text": [
        "Error: (1431.1) FASTA-Reader: Warning: FASTA-Reader: No residues given\r\n"
       ]
      },
      {
       "output_type": "stream",
       "stream": "stdout",
       "text": [
        "Warning: lcl|Query_25538 EMSPUT00000012860 cds:pseudogene supercontig:GCA_000002235.2:Scaffold519:211932:212004:1 gene:EMSPUG00000012860 transcript:EMSPUT00000012860 description:\"tRNA-Met for anticodon CAU\": Warning: Sequence contains no data \r\n"
       ]
      },
      {
       "output_type": "stream",
       "stream": "stdout",
       "text": [
        "Error: (1431.1) FASTA-Reader: Warning: FASTA-Reader: No residues given\r\n"
       ]
      },
      {
       "output_type": "stream",
       "stream": "stdout",
       "text": [
        "Warning: lcl|Query_25575 EMSPUT00000003569 cds:pseudogene supercontig:GCA_000002235.2:Scaffold3663:44326:44400:1 gene:EMSPUG00000003569 transcript:EMSPUT00000003569 description:\"tRNA-His for anticodon GUG\": Warning: Sequence contains no data \r\n",
        "Error: (1431.1) FASTA-Reader: Warning: FASTA-Reader: No residues given\r\n"
       ]
      },
      {
       "output_type": "stream",
       "stream": "stdout",
       "text": [
        "Warning: lcl|Query_25584 EMSPUT00000009466 cds:pseudogene supercontig:GCA_000002235.2:Scaffold3820:7417:7489:-1 gene:EMSPUG00000009466 transcript:EMSPUT00000009466 description:\"tRNA-Ala for anticodon GGC\": Warning: Sequence contains no data \r\n",
        "Error: (1431.1) FASTA-Reader: Warning: FASTA-Reader: No residues given\r\n"
       ]
      },
      {
       "output_type": "stream",
       "stream": "stdout",
       "text": [
        "Warning: lcl|Query_25614 EMSPUT00000015202 cds:pseudogene supercontig:GCA_000002235.2:Scaffold637:205094:205165:1 gene:EMSPUG00000015202 transcript:EMSPUT00000015202 description:\"tRNA-His for anticodon GUG\": Warning: Sequence contains no data \r\n",
        "Error: (1431.1) FASTA-Reader: Warning: FASTA-Reader: No residues given\r\n",
        "Error: (1431.1) FASTA-Reader: Warning: FASTA-Reader: No residues given\r\n",
        "Error: (1431.1) FASTA-Reader: Warning: FASTA-Reader: No residues given\r\n",
        "Error: (1431.1) FASTA-Reader: Warning: FASTA-Reader: No residues given\r\n",
        "Error: (1431.1) FASTA-Reader: Warning: FASTA-Reader: No residues given\r\n",
        "Error: (1431.1) FASTA-Reader: Warning: FASTA-Reader: No residues given\r\n"
       ]
      },
      {
       "output_type": "stream",
       "stream": "stdout",
       "text": [
        "Warning: lcl|Query_25627 EMSPUT00000006835 cds:pseudogene supercontig:GCA_000002235.2:Scaffold1289:288430:288497:1 gene:EMSPUG00000006835 transcript:EMSPUT00000006835 description:\"tRNA-Leu for anticodon UAA\": Warning: Sequence contains no data \r\n",
        "Warning: lcl|Query_25634 EMSPUT00000013304 cds:pseudogene supercontig:GCA_000002235.2:Scaffold2624:9962:10033:-1 gene:EMSPUG00000013304 transcript:EMSPUT00000013304 description:\"tRNA-Gln for anticodon UUG\": Warning: Sequence contains no data \r\n",
        "Warning: lcl|Query_25635 EMSPUT00000006583 cds:pseudogene supercontig:GCA_000002235.2:Scaffold2624:16575:16646:-1 gene:EMSPUG00000006583 transcript:EMSPUT00000006583 description:\"tRNA-Gln for anticodon UUG\": Warning: Sequence contains no data \r\n",
        "Warning: lcl|Query_25636 EMSPUT00000013121 cds:pseudogene supercontig:GCA_000002235.2:Scaffold2624:17994:18065:-1 gene:EMSPUG00000013121 transcript:EMSPUT00000013121 description:\"tRNA-Gln for anticodon UUG\": Warning: Sequence contains no data \r\n",
        "Warning: lcl|Query_25637 EMSPUT00000007968 cds:pseudogene supercontig:GCA_000002235.2:Scaffold2624:18991:19062:-1 gene:EMSPUG00000007968 transcript:EMSPUT00000007968 description:\"tRNA-Gln for anticodon UUG\": Warning: Sequence contains no data \r\n",
        "Warning: lcl|Query_25638 EMSPUT00000014877 cds:pseudogene supercontig:GCA_000002235.2:Scaffold2624:26762:26833:-1 gene:EMSPUG00000014877 transcript:EMSPUT00000014877 description:\"tRNA-Gln for anticodon UUG\": Warning: Sequence contains no data \r\n"
       ]
      },
      {
       "output_type": "stream",
       "stream": "stdout",
       "text": [
        "Error: (1431.1) FASTA-Reader: Warning: FASTA-Reader: No residues given\r\n"
       ]
      },
      {
       "output_type": "stream",
       "stream": "stdout",
       "text": [
        "Warning: lcl|Query_25659 EMSPUT00000006606 cds:pseudogene supercontig:GCA_000002235.2:Scaffold1214:103717:103788:1 gene:EMSPUG00000006606 transcript:EMSPUT00000006606 description:\"tRNA-Sup for anticodon CUA\": Warning: Sequence contains no data \r\n",
        "Error: (1431.1) FASTA-Reader: Warning: FASTA-Reader: No residues given\r\n"
       ]
      },
      {
       "output_type": "stream",
       "stream": "stdout",
       "text": [
        "Warning: lcl|Query_25677 EMSPUT00000000280 cds:pseudogene supercontig:GCA_000002235.2:Scaffold119:102199:102273:1 gene:EMSPUG00000000280 transcript:EMSPUT00000000280 description:\"tRNA-Met for anticodon CAU\": Warning: Sequence contains no data \r\n"
       ]
      },
      {
       "output_type": "stream",
       "stream": "stdout",
       "text": [
        "Error: (1431.1) FASTA-Reader: Warning: FASTA-Reader: No residues given\r\n"
       ]
      },
      {
       "output_type": "stream",
       "stream": "stdout",
       "text": [
        "Warning: lcl|Query_25705 SPU_030053-tr cds:pseudogene supercontig:GCA_000002235.2:Scaffold119:632608:632799:1 gene:SPU_030053 transcript:SPU_030053-tr: Warning: Sequence contains no data \r\n"
       ]
      },
      {
       "output_type": "stream",
       "stream": "stdout",
       "text": [
        "Error: (1431.1) FASTA-Reader: Warning: FASTA-Reader: No residues given\r\n"
       ]
      },
      {
       "output_type": "stream",
       "stream": "stdout",
       "text": [
        "Warning: lcl|Query_25729 EMSPUT00000003182 cds:pseudogene supercontig:GCA_000002235.2:Scaffold3599:17054:17124:-1 gene:EMSPUG00000003182 transcript:EMSPUT00000003182 description:\"tRNA-Ile for anticodon UAU\": Warning: Sequence contains no data \r\n",
        "Error: (1431.1) FASTA-Reader: Warning: FASTA-Reader: No residues given\r\n"
       ]
      },
      {
       "output_type": "stream",
       "stream": "stdout",
       "text": [
        "Warning: lcl|Query_25732 EMSPUT00000015647 cds:pseudogene supercontig:GCA_000002235.2:Scaffold29576:628:700:-1 gene:EMSPUG00000015647 transcript:EMSPUT00000015647 description:\"tRNA-Arg for anticodon UCU\": Warning: Sequence contains no data \r\n"
       ]
      },
      {
       "output_type": "stream",
       "stream": "stdout",
       "text": [
        "Error: (1431.1) FASTA-Reader: Warning: FASTA-Reader: No residues given\r\n",
        "Error: (1431.1) FASTA-Reader: Warning: FASTA-Reader: No residues given\r\n"
       ]
      },
      {
       "output_type": "stream",
       "stream": "stdout",
       "text": [
        "Warning: lcl|Query_25801 SPU_007430-tr cds:pseudogene supercontig:GCA_000002235.2:Scaffold1608:318151:320768:1 gene:SPU_007430 transcript:SPU_007430-tr: Warning: Sequence contains no data \r\n",
        "Warning: lcl|Query_25804 SPU_030117-tr cds:pseudogene supercontig:GCA_000002235.2:Scaffold1608:353788:354574:1 gene:SPU_030117 transcript:SPU_030117-tr: Warning: Sequence contains no data \r\n"
       ]
      },
      {
       "output_type": "stream",
       "stream": "stdout",
       "text": [
        "Error: (1431.1) FASTA-Reader: Warning: FASTA-Reader: No residues given\r\n"
       ]
      },
      {
       "output_type": "stream",
       "stream": "stdout",
       "text": [
        "Warning: lcl|Query_25837 EMSPUT00000009887 cds:pseudogene supercontig:GCA_000002235.2:Scaffold390:172377:172448:1 gene:EMSPUG00000009887 transcript:EMSPUT00000009887 description:\"tRNA-Ala for anticodon UGC\": Warning: Sequence contains no data \r\n"
       ]
      },
      {
       "output_type": "stream",
       "stream": "stdout",
       "text": [
        "Error: (1431.1) FASTA-Reader: Warning: FASTA-Reader: No residues given\r\n",
        "Error: (1431.1) FASTA-Reader: Warning: FASTA-Reader: No residues given\r\n",
        "Error: (1431.1) FASTA-Reader: Warning: FASTA-Reader: No residues given\r\n",
        "Error: (1431.1) FASTA-Reader: Warning: FASTA-Reader: No residues given\r\n",
        "Error: (1431.1) FASTA-Reader: Warning: FASTA-Reader: No residues given\r\n",
        "Error: (1431.1) FASTA-Reader: Warning: FASTA-Reader: No residues given\r\n",
        "Error: (1431.1) FASTA-Reader: Warning: FASTA-Reader: No residues given\r\n"
       ]
      },
      {
       "output_type": "stream",
       "stream": "stdout",
       "text": [
        "Error: (1431.1) FASTA-Reader: Warning: FASTA-Reader: No residues given\r\n",
        "Error: (1431.1) FASTA-Reader: Warning: FASTA-Reader: No residues given\r\n",
        "Error: (1431.1) FASTA-Reader: Warning: FASTA-Reader: No residues given\r\n",
        "Error: (1431.1) FASTA-Reader: Warning: FASTA-Reader: No residues given\r\n",
        "Error: (1431.1) FASTA-Reader: Warning: FASTA-Reader: No residues given\r\n",
        "Error: (1431.1) FASTA-Reader: Warning: FASTA-Reader: No residues given\r\n",
        "Error: (1431.1) FASTA-Reader: Warning: FASTA-Reader: No residues given\r\n",
        "Error: (1431.1) FASTA-Reader: Warning: FASTA-Reader: No residues given\r\n",
        "Error: (1431.1) FASTA-Reader: Warning: FASTA-Reader: No residues given\r\n",
        "Error: (1431.1) FASTA-Reader: Warning: FASTA-Reader: No residues given\r\n",
        "Error: (1431.1) FASTA-Reader: Warning: FASTA-Reader: No residues given\r\n",
        "Error: (1431.1) FASTA-Reader: Warning: FASTA-Reader: No residues given\r\n",
        "Error: (1431.1) FASTA-Reader: Warning: FASTA-Reader: No residues given\r\n",
        "Error: (1431.1) FASTA-Reader: Warning: FASTA-Reader: No residues given\r\n",
        "Error: (1431.1) FASTA-Reader: Warning: FASTA-Reader: No residues given\r\n",
        "Error: (1431.1) FASTA-Reader: Warning: FASTA-Reader: No residues given\r\n",
        "Error: (1431.1) FASTA-Reader: Warning: FASTA-Reader: No residues given\r\n",
        "Error: (1431.1) FASTA-Reader: Warning: FASTA-Reader: No residues given\r\n",
        "Error: (1431.1) FASTA-Reader: Warning: FASTA-Reader: No residues given\r\n",
        "Error: (1431.1) FASTA-Reader: Warning: FASTA-Reader: No residues given\r\n"
       ]
      },
      {
       "output_type": "stream",
       "stream": "stdout",
       "text": [
        "Warning: lcl|Query_25870 EMSPUT00000001328 cds:pseudogene supercontig:GCA_000002235.2:Scaffold3133:55104:55177:1 gene:EMSPUG00000001328 transcript:EMSPUT00000001328 description:\"tRNA-Asn for anticodon GUU\": Warning: Sequence contains no data \r\n",
        "Warning: lcl|Query_25871 EMSPUT00000006596 cds:pseudogene supercontig:GCA_000002235.2:Scaffold3133:56534:56607:-1 gene:EMSPUG00000006596 transcript:EMSPUT00000006596 description:\"tRNA-Asn for anticodon GUU\": Warning: Sequence contains no data \r\n",
        "Warning: lcl|Query_25872 EMSPUT00000006142 cds:pseudogene supercontig:GCA_000002235.2:Scaffold3133:56994:57067:1 gene:EMSPUG00000006142 transcript:EMSPUT00000006142 description:\"tRNA-Asn for anticodon GUU\": Warning: Sequence contains no data \r\n",
        "Warning: lcl|Query_25873 EMSPUT00000000667 cds:pseudogene supercontig:GCA_000002235.2:Scaffold3133:57380:57451:1 gene:EMSPUG00000000667 transcript:EMSPUT00000000667 description:\"tRNA-Gly for anticodon UCC\": Warning: Sequence contains no data \r\n",
        "Warning: lcl|Query_25874 EMSPUT00000015564 cds:pseudogene supercontig:GCA_000002235.2:Scaffold3133:57950:58023:-1 gene:EMSPUG00000015564 transcript:EMSPUT00000015564 description:\"tRNA-Asn for anticodon GUU\": Warning: Sequence contains no data \r\n",
        "Warning: lcl|Query_25875 EMSPUT00000004935 cds:pseudogene supercontig:GCA_000002235.2:Scaffold3133:58755:58828:-1 gene:EMSPUG00000004935 transcript:EMSPUT00000004935 description:\"tRNA-Asn for anticodon GUU\": Warning: Sequence contains no data \r\n",
        "Warning: lcl|Query_25876 EMSPUT00000011909 cds:pseudogene supercontig:GCA_000002235.2:Scaffold3133:58922:58993:-1 gene:EMSPUG00000011909 transcript:EMSPUT00000011909 description:\"tRNA-Gly for anticodon UCC\": Warning: Sequence contains no data \r\n",
        "Warning: lcl|Query_25877 EMSPUT00000008989 cds:pseudogene supercontig:GCA_000002235.2:Scaffold3133:59386:59459:-1 gene:EMSPUG00000008989 transcript:EMSPUT00000008989 description:\"tRNA-Asn for anticodon GUU\": Warning: Sequence contains no data \r\n",
        "Warning: lcl|Query_25878 EMSPUT00000002336 cds:pseudogene supercontig:GCA_000002235.2:Scaffold3133:59756:59827:-1 gene:EMSPUG00000002336 transcript:EMSPUT00000002336 description:\"tRNA-Gly for anticodon UCC\": Warning: Sequence contains no data \r\n",
        "Warning: lcl|Query_25879 EMSPUT00000008971 cds:pseudogene supercontig:GCA_000002235.2:Scaffold3133:60223:60296:-1 gene:EMSPUG00000008971 transcript:EMSPUT00000008971 description:\"tRNA-Asn for anticodon GUU\": Warning: Sequence contains no data \r\n",
        "Warning: lcl|Query_25880 EMSPUT00000000213 cds:pseudogene supercontig:GCA_000002235.2:Scaffold3133:60591:60662:-1 gene:EMSPUG00000000213 transcript:EMSPUT00000000213 description:\"tRNA-Gly for anticodon UCC\": Warning: Sequence contains no data \r\n",
        "Warning: lcl|Query_25881 EMSPUT00000015585 cds:pseudogene supercontig:GCA_000002235.2:Scaffold3133:61058:61131:-1 gene:EMSPUG00000015585 transcript:EMSPUT00000015585 description:\"tRNA-Asn for anticodon GUU\": Warning: Sequence contains no data \r\n",
        "Warning: lcl|Query_25882 EMSPUT00000006905 cds:pseudogene supercontig:GCA_000002235.2:Scaffold3133:61411:61482:-1 gene:EMSPUG00000006905 transcript:EMSPUT00000006905 description:\"tRNA-Gly for anticodon UCC\": Warning: Sequence contains no data \r\n",
        "Warning: lcl|Query_25883 EMSPUT00000013414 cds:pseudogene supercontig:GCA_000002235.2:Scaffold3133:61884:61957:-1 gene:EMSPUG00000013414 transcript:EMSPUT00000013414 description:\"tRNA-Asn for anticodon GUU\": Warning: Sequence contains no data \r\n",
        "Warning: lcl|Query_25884 EMSPUT00000004621 cds:pseudogene supercontig:GCA_000002235.2:Scaffold3133:62252:62323:-1 gene:EMSPUG00000004621 transcript:EMSPUT00000004621 description:\"tRNA-Gly for anticodon UCC\": Warning: Sequence contains no data \r\n",
        "Warning: lcl|Query_25885 EMSPUT00000007706 cds:pseudogene supercontig:GCA_000002235.2:Scaffold3133:62715:62788:-1 gene:EMSPUG00000007706 transcript:EMSPUT00000007706 description:\"tRNA-Asn for anticodon GUU\": Warning: Sequence contains no data \r\n",
        "Warning: lcl|Query_25886 EMSPUT00000014759 cds:pseudogene supercontig:GCA_000002235.2:Scaffold3133:63070:63141:-1 gene:EMSPUG00000014759 transcript:EMSPUT00000014759 description:\"tRNA-Glu for anticodon UUC\": Warning: Sequence contains no data \r\n",
        "Warning: lcl|Query_25887 EMSPUT00000005433 cds:pseudogene supercontig:GCA_000002235.2:Scaffold3133:63550:63623:-1 gene:EMSPUG00000005433 transcript:EMSPUT00000005433 description:\"tRNA-Asn for anticodon GUU\": Warning: Sequence contains no data \r\n",
        "Warning: lcl|Query_25888 EMSPUT00000012486 cds:pseudogene supercontig:GCA_000002235.2:Scaffold3133:63787:63860:-1 gene:EMSPUG00000012486 transcript:EMSPUT00000012486 description:\"tRNA-Asn for anticodon GUU\": Warning: Sequence contains no data \r\n",
        "Warning: lcl|Query_25889 EMSPUT00000006174 cds:pseudogene supercontig:GCA_000002235.2:Scaffold3133:64140:64212:-1 gene:EMSPUG00000006174 transcript:EMSPUT00000006174 description:\"tRNA-Gly for anticodon UCC\": Warning: Sequence contains no data \r\n",
        "Warning: lcl|Query_25890 EMSPUT00000012786 cds:pseudogene supercontig:GCA_000002235.2:Scaffold3133:64611:64686:-1 gene:EMSPUG00000012786 transcript:EMSPUT00000012786 description:\"tRNA-Asn for anticodon GUU\": Warning: Sequence contains no data \r\n",
        "Warning: lcl|Query_25891 EMSPUT00000004050 cds:pseudogene supercontig:GCA_000002235.2:Scaffold3133:64990:65061:-1 gene:EMSPUG00000004050 transcript:EMSPUT00000004050 description:\"tRNA-Gly for anticodon UCC\": Warning: Sequence contains no data \r\n",
        "Warning: lcl|Query_25892 EMSPUT00000011483 cds:pseudogene supercontig:GCA_000002235.2:Scaffold3133:65458:65531:-1 gene:EMSPUG00000011483 transcript:EMSPUT00000011483 description:\"tRNA-Asn for anticodon GUU\": Warning: Sequence contains no data \r\n",
        "Warning: lcl|Query_25893 EMSPUT00000002872 cds:pseudogene supercontig:GCA_000002235.2:Scaffold3133:65826:65897:-1 gene:EMSPUG00000002872 transcript:EMSPUT00000002872 description:\"tRNA-Gly for anticodon UCC\": Warning: Sequence contains no data \r\n",
        "Warning: lcl|Query_25894 EMSPUT00000009395 cds:pseudogene supercontig:GCA_000002235.2:Scaffold3133:66298:66371:-1 gene:EMSPUG00000009395 transcript:EMSPUT00000009395 description:\"tRNA-Asn for anticodon GUU\": Warning: Sequence contains no data \r\n",
        "Warning: lcl|Query_25898 SPU_010619-tr cds:pseudogene supercontig:GCA_000002235.2:Scaffold2003:30436:33105:1 gene:SPU_010619 transcript:SPU_010619-tr: Warning: Sequence contains no data \r\n",
        "Warning: lcl|Query_25902 EMSPUT00000011364 cds:pseudogene supercontig:GCA_000002235.2:Scaffold1641:5276:5349:-1 gene:EMSPUG00000011364 transcript:EMSPUT00000011364 description:\"tRNA-Ala for anticodon GGC\": Warning: Sequence contains no data \r\n",
        "Error: (1431.1) FASTA-Reader: Warning: FASTA-Reader: No residues given\r\n",
        "Error: (1431.1) FASTA-Reader: Warning: FASTA-Reader: No residues given\r\n",
        "Error: (1431.1) FASTA-Reader: Warning: FASTA-Reader: No residues given\r\n",
        "Error: (1431.1) FASTA-Reader: Warning: FASTA-Reader: No residues given\r\n",
        "Error: (1431.1) FASTA-Reader: Warning: FASTA-Reader: No residues given\r\n"
       ]
      },
      {
       "output_type": "stream",
       "stream": "stdout",
       "text": [
        "Warning: lcl|Query_25909 EMSPUT00000002064 cds:pseudogene supercontig:GCA_000002235.2:Scaffold4609:2:73:1 gene:EMSPUG00000002064 transcript:EMSPUT00000002064 description:\"tRNA-Ala for anticodon UGC\": Warning: Sequence contains no data \r\n",
        "Warning: lcl|Query_25912 EMSPUT00000008155 cds:pseudogene supercontig:GCA_000002235.2:Scaffold2576:26216:26287:-1 gene:EMSPUG00000008155 transcript:EMSPUT00000008155 description:\"tRNA-Gln for anticodon UUG\": Warning: Sequence contains no data \r\n",
        "Warning: lcl|Query_25913 EMSPUT00000001248 cds:pseudogene supercontig:GCA_000002235.2:Scaffold2576:27064:27135:-1 gene:EMSPUG00000001248 transcript:EMSPUT00000001248 description:\"tRNA-Gln for anticodon UUG\": Warning: Sequence contains no data \r\n",
        "Warning: lcl|Query_25914 EMSPUT00000006498 cds:pseudogene supercontig:GCA_000002235.2:Scaffold2576:27740:27811:-1 gene:EMSPUG00000006498 transcript:EMSPUT00000006498 description:\"tRNA-Gln for anticodon UUG\": Warning: Sequence contains no data \r\n",
        "Warning: lcl|Query_25915 EMSPUT00000006017 cds:pseudogene supercontig:GCA_000002235.2:Scaffold2576:28268:28339:-1 gene:EMSPUG00000006017 transcript:EMSPUT00000006017 description:\"tRNA-Gln for anticodon UUG\": Warning: Sequence contains no data \r\n"
       ]
      },
      {
       "output_type": "stream",
       "stream": "stdout",
       "text": [
        "Error: (1431.1) FASTA-Reader: Warning: FASTA-Reader: No residues given\r\n",
        "Error: (1431.1) FASTA-Reader: Warning: FASTA-Reader: No residues given\r\n",
        "Error: (1431.1) FASTA-Reader: Warning: FASTA-Reader: No residues given\r\n"
       ]
      },
      {
       "output_type": "stream",
       "stream": "stdout",
       "text": [
        "Warning: lcl|Query_25947 EMSPUT00000000084 cds:pseudogene supercontig:GCA_000002235.2:Scaffold29:650031:650290:-1 gene:EMSPUG00000000084 transcript:EMSPUT00000000084 description:\"RNase MRP\": Warning: Sequence contains no data \r\n"
       ]
      },
      {
       "output_type": "stream",
       "stream": "stdout",
       "text": [
        "Warning: lcl|Query_25948 SPU_030004-tr cds:pseudogene supercontig:GCA_000002235.2:Scaffold29:650854:651002:1 gene:SPU_030004 transcript:SPU_030004-tr: Warning: Sequence contains no data \r\n",
        "Warning: lcl|Query_25949 SPU_030056-tr cds:pseudogene supercontig:GCA_000002235.2:Scaffold29:650854:651002:1 gene:SPU_030056 transcript:SPU_030056-tr: Warning: Sequence contains no data \r\n",
        "Error: (1431.1) FASTA-Reader: Warning: FASTA-Reader: No residues given\r\n",
        "Error: (1431.1) FASTA-Reader: Warning: FASTA-Reader: No residues given\r\n",
        "Error: (1431.1) FASTA-Reader: Warning: FASTA-Reader: No residues given\r\n",
        "Error: (1431.1) FASTA-Reader: Warning: FASTA-Reader: No residues given\r\n"
       ]
      },
      {
       "output_type": "stream",
       "stream": "stdout",
       "text": [
        "Warning: lcl|Query_25962 EMSPUT00000002612 cds:pseudogene supercontig:GCA_000002235.2:Scaffold29:818987:819068:1 gene:EMSPUG00000002612 transcript:EMSPUT00000002612 description:\"tRNA-Ser for anticodon GCU\": Warning: Sequence contains no data \r\n",
        "Warning: lcl|Query_25963 EMSPUT00000012179 cds:pseudogene supercontig:GCA_000002235.2:Scaffold29:824258:824339:1 gene:EMSPUG00000012179 transcript:EMSPUT00000012179 description:\"tRNA-Ser for anticodon GCU\": Warning: Sequence contains no data \r\n",
        "Warning: lcl|Query_25965 EMSPUT00000015529 cds:pseudogene supercontig:GCA_000002235.2:Scaffold29:844206:844287:1 gene:EMSPUG00000015529 transcript:EMSPUT00000015529 description:\"tRNA-Ser for anticodon GCU\": Warning: Sequence contains no data \r\n",
        "Warning: lcl|Query_25967 EMSPUT00000008496 cds:pseudogene supercontig:GCA_000002235.2:Scaffold29:859911:859992:1 gene:EMSPUG00000008496 transcript:EMSPUT00000008496 description:\"tRNA-Ser for anticodon GCU\": Warning: Sequence contains no data \r\n"
       ]
      },
      {
       "output_type": "stream",
       "stream": "stdout",
       "text": [
        "Error: (1431.1) FASTA-Reader: Warning: FASTA-Reader: No residues given\r\n",
        "Error: (1431.1) FASTA-Reader: Warning: FASTA-Reader: No residues given\r\n"
       ]
      },
      {
       "output_type": "stream",
       "stream": "stdout",
       "text": [
        "Warning: lcl|Query_25996 EMSPUT00000009517 cds:pseudogene supercontig:GCA_000002235.2:Scaffold1301:151705:151776:1 gene:EMSPUG00000009517 transcript:EMSPUT00000009517 description:\"tRNA-Pro for anticodon UGG\": Warning: Sequence contains no data \r\n",
        "Warning: lcl|Query_25997 EMSPUT00000014832 cds:pseudogene supercontig:GCA_000002235.2:Scaffold1301:152350:152421:-1 gene:EMSPUG00000014832 transcript:EMSPUT00000014832 description:\"tRNA-Pro for anticodon CGG\": Warning: Sequence contains no data \r\n",
        "Error: (1431.1) FASTA-Reader: Warning: FASTA-Reader: No residues given\r\n",
        "Error: (1431.1) FASTA-Reader: Warning: FASTA-Reader: No residues given\r\n"
       ]
      },
      {
       "output_type": "stream",
       "stream": "stdout",
       "text": [
        "Warning: lcl|Query_26020 SPU_030003-tr cds:pseudogene supercontig:GCA_000002235.2:Scaffold1195:177657:178871:1 gene:SPU_030003 transcript:SPU_030003-tr: Warning: Sequence contains no data \r\n",
        "Warning: lcl|Query_26021 SPU_030005-tr cds:pseudogene supercontig:GCA_000002235.2:Scaffold1195:177657:178871:1 gene:SPU_030005 transcript:SPU_030005-tr: Warning: Sequence contains no data \r\n"
       ]
      },
      {
       "output_type": "stream",
       "stream": "stdout",
       "text": [
        "Error: (1431.1) FASTA-Reader: Warning: FASTA-Reader: No residues given\r\n",
        "Error: (1431.1) FASTA-Reader: Warning: FASTA-Reader: No residues given\r\n"
       ]
      },
      {
       "output_type": "stream",
       "stream": "stdout",
       "text": [
        "Warning: lcl|Query_26053 EMSPUT00000008501 cds:pseudogene supercontig:GCA_000002235.2:Scaffold5955:8378:8450:1 gene:EMSPUG00000008501 transcript:EMSPUT00000008501 description:\"tRNA-Ala for anticodon GGC\": Warning: Sequence contains no data \r\n",
        "Warning: lcl|Query_26058 EMSPUT00000009871 cds:pseudogene supercontig:GCA_000002235.2:Scaffold17367:731:802:1 gene:EMSPUG00000009871 transcript:EMSPUT00000009871 description:\"tRNA-Ala for anticodon CGC\": Warning: Sequence contains no data \r\n"
       ]
      },
      {
       "output_type": "stream",
       "stream": "stdout",
       "text": [
        "Error: (1431.1) FASTA-Reader: Warning: FASTA-Reader: No residues given\r\n"
       ]
      },
      {
       "output_type": "stream",
       "stream": "stdout",
       "text": [
        "Warning: lcl|Query_26113 EMSPUT00000004279 cds:pseudogene supercontig:GCA_000002235.2:Scaffold549:248285:248358:-1 gene:EMSPUG00000004279 transcript:EMSPUT00000004279 description:\"tRNA-Ala for anticodon GGC\": Warning: Sequence contains no data \r\n"
       ]
      },
      {
       "output_type": "stream",
       "stream": "stdout",
       "text": [
        "Error: (1431.1) FASTA-Reader: Warning: FASTA-Reader: No residues given\r\n"
       ]
      },
      {
       "output_type": "stream",
       "stream": "stdout",
       "text": [
        "Error: (1431.1) FASTA-Reader: Warning: FASTA-Reader: No residues given\r\n",
        "Error: (1431.1) FASTA-Reader: Warning: FASTA-Reader: No residues given\r\n"
       ]
      },
      {
       "output_type": "stream",
       "stream": "stdout",
       "text": [
        "Warning: lcl|Query_26130 EMSPUT00000013786 cds:pseudogene supercontig:GCA_000002235.2:Scaffold26:509522:509594:1 gene:EMSPUG00000013786 transcript:EMSPUT00000013786 description:\"tRNA-Met for anticodon CAU\": Warning: Sequence contains no data \r\n",
        "Warning: lcl|Query_26137 EMSPUT00000002260 cds:pseudogene supercontig:GCA_000002235.2:Scaffold26:607169:607242:1 gene:EMSPUG00000002260 transcript:EMSPUT00000002260 description:\"tRNA-Ala for anticodon GGC\": Warning: Sequence contains no data \r\n",
        "Warning: lcl|Query_26143 EMSPUT00000001177 cds:pseudogene supercontig:GCA_000002235.2:Scaffold26:733872:733946:1 gene:EMSPUG00000001177 transcript:EMSPUT00000001177 description:\"tRNA-Glu for anticodon UUC\": Warning: Sequence contains no data \r\n"
       ]
      },
      {
       "output_type": "stream",
       "stream": "stdout",
       "text": [
        "Error: (1431.1) FASTA-Reader: Warning: FASTA-Reader: No residues given\r\n"
       ]
      },
      {
       "output_type": "stream",
       "stream": "stdout",
       "text": [
        "Warning: lcl|Query_26202 EMSPUT00000006660 cds:pseudogene supercontig:GCA_000002235.2:Scaffold2366:33027:33101:1 gene:EMSPUG00000006660 transcript:EMSPUT00000006660 description:\"tRNA-Phe for anticodon GAA\": Warning: Sequence contains no data \r\n"
       ]
      },
      {
       "output_type": "stream",
       "stream": "stdout",
       "text": [
        "Error: (1431.1) FASTA-Reader: Warning: FASTA-Reader: No residues given\r\n",
        "Error: (1431.1) FASTA-Reader: Warning: FASTA-Reader: No residues given\r\n",
        "Error: (1431.1) FASTA-Reader: Warning: FASTA-Reader: No residues given\r\n",
        "Error: (1431.1) FASTA-Reader: Warning: FASTA-Reader: No residues given\r\n"
       ]
      },
      {
       "output_type": "stream",
       "stream": "stdout",
       "text": [
        "Warning: lcl|Query_26236 EMSPUT00000015513 cds:pseudogene supercontig:GCA_000002235.2:Scaffold1444:131894:131975:-1 gene:EMSPUG00000015513 transcript:EMSPUT00000015513 description:\"tRNA-Ser for anticodon AGA\": Warning: Sequence contains no data \r\n",
        "Warning: lcl|Query_26237 EMSPUT00000006527 cds:pseudogene supercontig:GCA_000002235.2:Scaffold1444:132716:132797:-1 gene:EMSPUG00000006527 transcript:EMSPUT00000006527 description:\"tRNA-Ser for anticodon AGA\": Warning: Sequence contains no data \r\n",
        "Warning: lcl|Query_26238 EMSPUT00000014188 cds:pseudogene supercontig:GCA_000002235.2:Scaffold1444:134384:134465:-1 gene:EMSPUG00000014188 transcript:EMSPUT00000014188 description:\"tRNA-Ser for anticodon AGA\": Warning: Sequence contains no data \r\n",
        "Warning: lcl|Query_26239 EMSPUT00000009208 cds:pseudogene supercontig:GCA_000002235.2:Scaffold1444:135674:135755:-1 gene:EMSPUG00000009208 transcript:EMSPUT00000009208 description:\"tRNA-Ser for anticodon AGA\": Warning: Sequence contains no data \r\n"
       ]
      },
      {
       "output_type": "stream",
       "stream": "stdout",
       "text": [
        "Error: (1431.1) FASTA-Reader: Warning: FASTA-Reader: No residues given\r\n"
       ]
      },
      {
       "output_type": "stream",
       "stream": "stdout",
       "text": [
        "Warning: lcl|Query_26271 EMSPUT00000005526 cds:pseudogene supercontig:GCA_000002235.2:Scaffold305:468164:468234:1 gene:EMSPUG00000005526 transcript:EMSPUT00000005526 description:\"tRNA-Arg for anticodon UCU\": Warning: Sequence contains no data \r\n"
       ]
      },
      {
       "output_type": "stream",
       "stream": "stdout",
       "text": [
        "Error: (1431.1) FASTA-Reader: Warning: FASTA-Reader: No residues given\r\n",
        "Error: (1431.1) FASTA-Reader: Warning: FASTA-Reader: No residues given\r\n"
       ]
      },
      {
       "output_type": "stream",
       "stream": "stdout",
       "text": [
        "Warning: lcl|Query_26289 SPU_007105-tr cds:pseudogene supercontig:GCA_000002235.2:Scaffold1292:10085:12934:1 gene:SPU_007105 transcript:SPU_007105-tr: Warning: Sequence contains no data \r\n",
        "Warning: lcl|Query_26301 EMSPUT00000014200 cds:pseudogene supercontig:GCA_000002235.2:Scaffold1238:162528:162600:-1 gene:EMSPUG00000014200 transcript:EMSPUT00000014200 description:\"tRNA-Ile for anticodon GAU\": Warning: Sequence contains no data \r\n",
        "Error: (1431.1) FASTA-Reader: Warning: FASTA-Reader: No residues given\r\n"
       ]
      },
      {
       "output_type": "stream",
       "stream": "stdout",
       "text": [
        "Warning: lcl|Query_26304 EMSPUT00000006636 cds:pseudogene supercontig:GCA_000002235.2:Scaffold1238:308995:309067:1 gene:EMSPUG00000006636 transcript:EMSPUT00000006636 description:\"tRNA-Met for anticodon CAU\": Warning: Sequence contains no data \r\n",
        "Error: (1431.1) FASTA-Reader: Warning: FASTA-Reader: No residues given\r\n",
        "Error: (1431.1) FASTA-Reader: Warning: FASTA-Reader: No residues given\r\n",
        "Error: (1431.1) FASTA-Reader: Warning: FASTA-Reader: No residues given\r\n"
       ]
      },
      {
       "output_type": "stream",
       "stream": "stdout",
       "text": [
        "Warning: lcl|Query_26325 EMSPUT00000012710 cds:pseudogene supercontig:GCA_000002235.2:Scaffold831:175581:175653:1 gene:EMSPUG00000012710 transcript:EMSPUT00000012710 description:\"tRNA-Thr for anticodon CGU\": Warning: Sequence contains no data \r\n",
        "Warning: lcl|Query_26340 EMSPUT00000011671 cds:pseudogene supercontig:GCA_000002235.2:Scaffold2129:13894:13966:-1 gene:EMSPUG00000011671 transcript:EMSPUT00000011671 description:\"tRNA-Met for anticodon CAU\": Warning: Sequence contains no data \r\n",
        "Warning: lcl|Query_26346 EMSPUT00000001845 cds:pseudogene supercontig:GCA_000002235.2:Scaffold1591:40:111:-1 gene:EMSPUG00000001845 transcript:EMSPUT00000001845 description:\"tRNA-Pro for anticodon GGG\": Warning: Sequence contains no data \r\n"
       ]
      },
      {
       "output_type": "stream",
       "stream": "stdout",
       "text": [
        "Error: (1431.1) FASTA-Reader: Warning: FASTA-Reader: No residues given\r\n",
        "Error: (1431.1) FASTA-Reader: Warning: FASTA-Reader: No residues given\r\n",
        "Error: (1431.1) FASTA-Reader: Warning: FASTA-Reader: No residues given\r\n"
       ]
      },
      {
       "output_type": "stream",
       "stream": "stdout",
       "text": [
        "Warning: lcl|Query_26396 EMSPUT00000010371 cds:pseudogene supercontig:GCA_000002235.2:Scaffold538:365553:365626:1 gene:EMSPUG00000010371 transcript:EMSPUT00000010371 description:\"Mammalian CPEB3 ribozyme\": Warning: Sequence contains no data \r\n",
        "Warning: lcl|Query_26399 EMSPUT00000014247 cds:pseudogene supercontig:GCA_000002235.2:Scaffold538:395106:395178:-1 gene:EMSPUG00000014247 transcript:EMSPUT00000014247 description:\"tRNA-Thr for anticodon GGU\": Warning: Sequence contains no data \r\n",
        "Warning: lcl|Query_26401 EMSPUT00000014118 cds:pseudogene supercontig:GCA_000002235.2:Scaffold2794:13721:13793:-1 gene:EMSPUG00000014118 transcript:EMSPUT00000014118 description:\"tRNA-Met for anticodon CAU\": Warning: Sequence contains no data \r\n",
        "Error: (1431.1) FASTA-Reader: Warning: FASTA-Reader: No residues given\r\n"
       ]
      },
      {
       "output_type": "stream",
       "stream": "stdout",
       "text": [
        "Warning: lcl|Query_26415 EMSPUT00000007218 cds:pseudogene supercontig:GCA_000002235.2:Scaffold377:222953:223028:1 gene:EMSPUG00000007218 transcript:EMSPUT00000007218 description:\"tRNA-Asp for anticodon GUC\": Warning: Sequence contains no data \r\n",
        "Error: (1431.1) FASTA-Reader: Warning: FASTA-Reader: No residues given\r\n"
       ]
      },
      {
       "output_type": "stream",
       "stream": "stdout",
       "text": [
        "Warning: lcl|Query_26428 EMSPUT00000008576 cds:pseudogene supercontig:GCA_000002235.2:Scaffold377:503050:503122:1 gene:EMSPUG00000008576 transcript:EMSPUT00000008576 description:\"tRNA-Met for anticodon CAU\": Warning: Sequence contains no data \r\n",
        "Error: (1431.1) FASTA-Reader: Warning: FASTA-Reader: No residues given\r\n"
       ]
      },
      {
       "output_type": "stream",
       "stream": "stdout",
       "text": [
        "Warning: lcl|Query_26460 EMSPUT00000010671 cds:pseudogene supercontig:GCA_000002235.2:Scaffold1017:81102:81175:-1 gene:EMSPUG00000010671 transcript:EMSPUT00000010671 description:\"tRNA-Ala for anticodon GGC\": Warning: Sequence contains no data \r\n"
       ]
      },
      {
       "output_type": "stream",
       "stream": "stdout",
       "text": [
        "Error: (1431.1) FASTA-Reader: Warning: FASTA-Reader: No residues given\r\n",
        "Error: (1431.1) FASTA-Reader: Warning: FASTA-Reader: No residues given\r\n",
        "Error: (1431.1) FASTA-Reader: Warning: FASTA-Reader: No residues given\r\n"
       ]
      },
      {
       "output_type": "stream",
       "stream": "stdout",
       "text": [
        "Warning: lcl|Query_26476 EMSPUT00000008745 cds:pseudogene supercontig:GCA_000002235.2:Scaffold400:23165:23239:1 gene:EMSPUG00000008745 transcript:EMSPUT00000008745 description:\"tRNA-Lys for anticodon UUU\": Warning: Sequence contains no data \r\n",
        "Warning: lcl|Query_26484 EMSPUT00000013453 cds:pseudogene supercontig:GCA_000002235.2:Scaffold400:264398:264470:1 gene:EMSPUG00000013453 transcript:EMSPUT00000013453 description:\"tRNA-Lys for anticodon UUU\": Warning: Sequence contains no data \r\n",
        "Warning: lcl|Query_26486 EMSPUT00000008479 cds:pseudogene supercontig:GCA_000002235.2:Scaffold400:425179:425251:1 gene:EMSPUG00000008479 transcript:EMSPUT00000008479 description:\"tRNA-Thr for anticodon AGU\": Warning: Sequence contains no data \r\n"
       ]
      },
      {
       "output_type": "stream",
       "stream": "stdout",
       "text": [
        "Error: (1431.1) FASTA-Reader: Warning: FASTA-Reader: No residues given\r\n"
       ]
      },
      {
       "output_type": "stream",
       "stream": "stdout",
       "text": [
        "Warning: lcl|Query_26518 SPU_001709-tr cds:pseudogene supercontig:GCA_000002235.2:Scaffold219:270369:270779:1 gene:SPU_001709 transcript:SPU_001709-tr: Warning: Sequence contains no data \r\n",
        "Error: (1431.1) FASTA-Reader: Warning: FASTA-Reader: No residues given\r\n",
        "Error: (1431.1) FASTA-Reader: Warning: FASTA-Reader: No residues given\r\n",
        "Error: (1431.1) FASTA-Reader: Warning: FASTA-Reader: No residues given\r\n",
        "Error: (1431.1) FASTA-Reader: Warning: FASTA-Reader: No residues given\r\n",
        "Error: (1431.1) FASTA-Reader: Warning: FASTA-Reader: No residues given\r\n",
        "Error: (1431.1) FASTA-Reader: Warning: FASTA-Reader: No residues given\r\n",
        "Error: (1431.1) FASTA-Reader: Warning: FASTA-Reader: No residues given\r\n",
        "Error: (1431.1) FASTA-Reader: Warning: FASTA-Reader: No residues given\r\n",
        "Error: (1431.1) FASTA-Reader: Warning: FASTA-Reader: No residues given\r\n",
        "Error: (1431.1) FASTA-Reader: Warning: FASTA-Reader: No residues given\r\n",
        "Error: (1431.1) FASTA-Reader: Warning: FASTA-Reader: No residues given\r\n",
        "Error: (1431.1) FASTA-Reader: Warning: FASTA-Reader: No residues given\r\n",
        "Error: (1431.1) FASTA-Reader: Warning: FASTA-Reader: No residues given\r\n",
        "Error: (1431.1) FASTA-Reader: Warning: FASTA-Reader: No residues given\r\n"
       ]
      },
      {
       "output_type": "stream",
       "stream": "stdout",
       "text": [
        "Warning: lcl|Query_26541 EMSPUT00000008262 cds:pseudogene supercontig:GCA_000002235.2:Scaffold10314:1383:1454:1 gene:EMSPUG00000008262 transcript:EMSPUT00000008262 description:\"tRNA-Asp for anticodon GUC\": Warning: Sequence contains no data \r\n",
        "Warning: lcl|Query_26542 EMSPUT00000002988 cds:pseudogene supercontig:GCA_000002235.2:Scaffold10314:2679:2750:1 gene:EMSPUG00000002988 transcript:EMSPUT00000002988 description:\"tRNA-Asp for anticodon GUC\": Warning: Sequence contains no data \r\n",
        "Warning: lcl|Query_26543 EMSPUT00000009974 cds:pseudogene supercontig:GCA_000002235.2:Scaffold10314:3215:3286:1 gene:EMSPUG00000009974 transcript:EMSPUT00000009974 description:\"tRNA-Asp for anticodon GUC\": Warning: Sequence contains no data \r\n",
        "Warning: lcl|Query_26544 EMSPUT00000007456 cds:pseudogene supercontig:GCA_000002235.2:Scaffold10314:3451:3522:1 gene:EMSPUG00000007456 transcript:EMSPUT00000007456 description:\"tRNA-Asp for anticodon GUC\": Warning: Sequence contains no data \r\n",
        "Warning: lcl|Query_26545 EMSPUT00000014553 cds:pseudogene supercontig:GCA_000002235.2:Scaffold10314:3838:3909:1 gene:EMSPUG00000014553 transcript:EMSPUT00000014553 description:\"tRNA-Asp for anticodon GUC\": Warning: Sequence contains no data \r\n",
        "Warning: lcl|Query_26546 EMSPUT00000009185 cds:pseudogene supercontig:GCA_000002235.2:Scaffold10314:4234:4305:1 gene:EMSPUG00000009185 transcript:EMSPUT00000009185 description:\"tRNA-Asp for anticodon GUC\": Warning: Sequence contains no data \r\n",
        "Warning: lcl|Query_26547 EMSPUT00000000494 cds:pseudogene supercontig:GCA_000002235.2:Scaffold10314:4767:4838:1 gene:EMSPUG00000000494 transcript:EMSPUT00000000494 description:\"tRNA-Asp for anticodon GUC\": Warning: Sequence contains no data \r\n",
        "Warning: lcl|Query_26548 EMSPUT00000010059 cds:pseudogene supercontig:GCA_000002235.2:Scaffold10314:5150:5221:1 gene:EMSPUG00000010059 transcript:EMSPUT00000010059 description:\"tRNA-Asp for anticodon GUC\": Warning: Sequence contains no data \r\n",
        "Warning: lcl|Query_26549 EMSPUT00000001321 cds:pseudogene supercontig:GCA_000002235.2:Scaffold10314:5535:5606:1 gene:EMSPUG00000001321 transcript:EMSPUT00000001321 description:\"tRNA-Asp for anticodon GUC\": Warning: Sequence contains no data \r\n",
        "Warning: lcl|Query_26550 EMSPUT00000007448 cds:pseudogene supercontig:GCA_000002235.2:Scaffold10314:5925:5996:1 gene:EMSPUG00000007448 transcript:EMSPUT00000007448 description:\"tRNA-Asp for anticodon GUC\": Warning: Sequence contains no data \r\n",
        "Warning: lcl|Query_26551 EMSPUT00000012477 cds:pseudogene supercontig:GCA_000002235.2:Scaffold10314:6310:6381:1 gene:EMSPUG00000012477 transcript:EMSPUT00000012477 description:\"tRNA-Asp for anticodon GUC\": Warning: Sequence contains no data \r\n",
        "Warning: lcl|Query_26552 EMSPUT00000004210 cds:pseudogene supercontig:GCA_000002235.2:Scaffold10314:6700:6771:1 gene:EMSPUG00000004210 transcript:EMSPUT00000004210 description:\"tRNA-Asp for anticodon GUC\": Warning: Sequence contains no data \r\n",
        "Warning: lcl|Query_26553 EMSPUT00000003386 cds:pseudogene supercontig:GCA_000002235.2:Scaffold10314:7237:7308:1 gene:EMSPUG00000003386 transcript:EMSPUT00000003386 description:\"tRNA-Asp for anticodon GUC\": Warning: Sequence contains no data \r\n",
        "Warning: lcl|Query_26554 EMSPUT00000010172 cds:pseudogene supercontig:GCA_000002235.2:Scaffold10314:7623:7694:1 gene:EMSPUG00000010172 transcript:EMSPUT00000010172 description:\"tRNA-Asp for anticodon GUC\": Warning: Sequence contains no data \r\n"
       ]
      },
      {
       "output_type": "stream",
       "stream": "stdout",
       "text": [
        "Error: (1431.1) FASTA-Reader: Warning: FASTA-Reader: No residues given\r\n"
       ]
      },
      {
       "output_type": "stream",
       "stream": "stdout",
       "text": [
        "Warning: lcl|Query_26603 EMSPUT00000010592 cds:pseudogene supercontig:GCA_000002235.2:Scaffold1684:131622:131694:1 gene:EMSPUG00000010592 transcript:EMSPUT00000010592 description:\"tRNA-Met for anticodon CAU\": Warning: Sequence contains no data \r\n",
        "Error: (1431.1) FASTA-Reader: Warning: FASTA-Reader: No residues given\r\n"
       ]
      },
      {
       "output_type": "stream",
       "stream": "stdout",
       "text": [
        "Warning: lcl|Query_26615 EMSPUT00000003528 cds:pseudogene supercontig:GCA_000002235.2:Scaffold768:161735:161808:1 gene:EMSPUG00000003528 transcript:EMSPUT00000003528 description:\"tRNA-Ser for anticodon UGA\": Warning: Sequence contains no data \r\n",
        "Error: (1431.1) FASTA-Reader: Warning: FASTA-Reader: No residues given\r\n"
       ]
      },
      {
       "output_type": "stream",
       "stream": "stdout",
       "text": [
        "Warning: lcl|Query_26629 EMSPUT00000001336 cds:pseudogene supercontig:GCA_000002235.2:Scaffold1613:104731:104803:1 gene:EMSPUG00000001336 transcript:EMSPUT00000001336 description:\"tRNA-Met for anticodon CAU\": Warning: Sequence contains no data \r\n"
       ]
      },
      {
       "output_type": "stream",
       "stream": "stdout",
       "text": [
        "Error: (1431.1) FASTA-Reader: Warning: FASTA-Reader: No residues given\r\n",
        "Error: (1431.1) FASTA-Reader: Warning: FASTA-Reader: No residues given\r\n",
        "Error: (1431.1) FASTA-Reader: Warning: FASTA-Reader: No residues given\r\n",
        "Error: (1431.1) FASTA-Reader: Warning: FASTA-Reader: No residues given\r\n"
       ]
      },
      {
       "output_type": "stream",
       "stream": "stdout",
       "text": [
        "Warning: lcl|Query_26671 EMSPUT00000011402 cds:pseudogene supercontig:GCA_000002235.2:Scaffold13741:46:117:1 gene:EMSPUG00000011402 transcript:EMSPUT00000011402 description:\"tRNA-Pro for anticodon UGG\": Warning: Sequence contains no data \r\n",
        "Warning: lcl|Query_26672 EMSPUT00000002676 cds:pseudogene supercontig:GCA_000002235.2:Scaffold13741:210:281:1 gene:EMSPUG00000002676 transcript:EMSPUT00000002676 description:\"tRNA-Pro for anticodon CGG\": Warning: Sequence contains no data \r\n",
        "Warning: lcl|Query_26673 EMSPUT00000001506 cds:pseudogene supercontig:GCA_000002235.2:Scaffold2654:74760:74832:-1 gene:EMSPUG00000001506 transcript:EMSPUT00000001506 description:\"tRNA-Met for anticodon CAU\": Warning: Sequence contains no data \r\n",
        "Warning: lcl|Query_26680 EMSPUT00000013256 cds:pseudogene supercontig:GCA_000002235.2:Scaffold1291:122326:122397:-1 gene:EMSPUG00000013256 transcript:EMSPUT00000013256 description:\"Mammalian CPEB3 ribozyme\": Warning: Sequence contains no data \r\n"
       ]
      },
      {
       "output_type": "stream",
       "stream": "stdout",
       "text": [
        "Error: (1431.1) FASTA-Reader: Warning: FASTA-Reader: No residues given\r\n",
        "Error: (1431.1) FASTA-Reader: Warning: FASTA-Reader: No residues given\r\n"
       ]
      },
      {
       "output_type": "stream",
       "stream": "stdout",
       "text": [
        "Warning: lcl|Query_26712 EMSPUT00000000592 cds:pseudogene supercontig:GCA_000002235.2:Scaffold620:411086:411161:1 gene:EMSPUG00000000592 transcript:EMSPUT00000000592 description:\"tRNA-His for anticodon GUG\": Warning: Sequence contains no data \r\n",
        "Warning: lcl|Query_26717 EMSPUT00000000956 cds:pseudogene supercontig:GCA_000002235.2:Scaffold620:482526:482598:-1 gene:EMSPUG00000000956 transcript:EMSPUT00000000956 description:\"tRNA-Ala for anticodon GGC\": Warning: Sequence contains no data \r\n"
       ]
      },
      {
       "output_type": "stream",
       "stream": "stdout",
       "text": [
        "Error: (1431.1) FASTA-Reader: Warning: FASTA-Reader: No residues given\r\n",
        "Error: (1431.1) FASTA-Reader: Warning: FASTA-Reader: No residues given\r\n",
        "Error: (1431.1) FASTA-Reader: Warning: FASTA-Reader: No residues given\r\n"
       ]
      },
      {
       "output_type": "stream",
       "stream": "stdout",
       "text": [
        "Warning: lcl|Query_26773 EMSPUT00000014302 cds:pseudogene supercontig:GCA_000002235.2:Scaffold486:304021:304323:1 gene:EMSPUG00000014302 transcript:EMSPUT00000014302 description:\"Nuclear RNase P\": Warning: Sequence contains no data \r\n",
        "Warning: lcl|Query_26777 EMSPUT00000006463 cds:pseudogene supercontig:GCA_000002235.2:Scaffold3380:31874:31946:-1 gene:EMSPUG00000006463 transcript:EMSPUT00000006463 description:\"tRNA-Met for anticodon CAU\": Warning: Sequence contains no data \r\n",
        "Warning: lcl|Query_26781 EMSPUT00000008943 cds:pseudogene supercontig:GCA_000002235.2:Scaffold982:12781:12852:-1 gene:EMSPUG00000008943 transcript:EMSPUT00000008943 description:\"tRNA-His for anticodon GUG\": Warning: Sequence contains no data \r\n",
        "Error: (1431.1) FASTA-Reader: Warning: FASTA-Reader: No residues given\r\n",
        "Error: (1431.1) FASTA-Reader: Warning: FASTA-Reader: No residues given\r\n"
       ]
      },
      {
       "output_type": "stream",
       "stream": "stdout",
       "text": [
        "Warning: lcl|Query_26784 EMSPUT00000007022 cds:pseudogene supercontig:GCA_000002235.2:Scaffold982:54890:54964:1 gene:EMSPUG00000007022 transcript:EMSPUT00000007022 description:\"tRNA-His for anticodon GUG\": Warning: Sequence contains no data \r\n"
       ]
      },
      {
       "output_type": "stream",
       "stream": "stdout",
       "text": [
        "Warning: lcl|Query_26797 EMSPUT00000006865 cds:pseudogene supercontig:GCA_000002235.2:Scaffold982:403682:403761:1 gene:EMSPUG00000006865 transcript:EMSPUT00000006865 description:\"tRNA-Ser for anticodon AGA\": Warning: Sequence contains no data \r\n"
       ]
      },
      {
       "output_type": "stream",
       "stream": "stdout",
       "text": [
        "Error: (1431.1) FASTA-Reader: Warning: FASTA-Reader: No residues given\r\n",
        "Error: (1431.1) FASTA-Reader: Warning: FASTA-Reader: No residues given\r\n",
        "Error: (1431.1) FASTA-Reader: Warning: FASTA-Reader: No residues given\r\n",
        "Error: (1431.1) FASTA-Reader: Warning: FASTA-Reader: No residues given\r\n",
        "Error: (1431.1) FASTA-Reader: Warning: FASTA-Reader: No residues given\r\n",
        "Error: (1431.1) FASTA-Reader: Warning: FASTA-Reader: No residues given\r\n",
        "Error: (1431.1) FASTA-Reader: Warning: FASTA-Reader: No residues given\r\n",
        "Error: (1431.1) FASTA-Reader: Warning: FASTA-Reader: No residues given\r\n",
        "Error: (1431.1) FASTA-Reader: Warning: FASTA-Reader: No residues given\r\n",
        "Error: (1431.1) FASTA-Reader: Warning: FASTA-Reader: No residues given\r\n",
        "Error: (1431.1) FASTA-Reader: Warning: FASTA-Reader: No residues given\r\n",
        "Error: (1431.1) FASTA-Reader: Warning: FASTA-Reader: No residues given\r\n",
        "Error: (1431.1) FASTA-Reader: Warning: FASTA-Reader: No residues given\r\n",
        "Error: (1431.1) FASTA-Reader: Warning: FASTA-Reader: No residues given\r\n",
        "Error: (1431.1) FASTA-Reader: Warning: FASTA-Reader: No residues given\r\n",
        "Error: (1431.1) FASTA-Reader: Warning: FASTA-Reader: No residues given\r\n",
        "Error: (1431.1) FASTA-Reader: Warning: FASTA-Reader: No residues given\r\n",
        "Error: (1431.1) FASTA-Reader: Warning: FASTA-Reader: No residues given\r\n",
        "Error: (1431.1) FASTA-Reader: Warning: FASTA-Reader: No residues given\r\n",
        "Error: (1431.1) FASTA-Reader: Warning: FASTA-Reader: No residues given\r\n",
        "Error: (1431.1) FASTA-Reader: Warning: FASTA-Reader: No residues given\r\n",
        "Error: (1431.1) FASTA-Reader: Warning: FASTA-Reader: No residues given\r\n"
       ]
      },
      {
       "output_type": "stream",
       "stream": "stdout",
       "text": [
        "Warning: lcl|Query_26829 EMSPUT00000012988 cds:pseudogene supercontig:GCA_000002235.2:Scaffold352:646530:646601:-1 gene:EMSPUG00000012988 transcript:EMSPUT00000012988 description:\"tRNA-Met for anticodon CAU\": Warning: Sequence contains no data \r\n",
        "Warning: lcl|Query_26830 EMSPUT00000004070 cds:pseudogene supercontig:GCA_000002235.2:Scaffold352:646814:646885:-1 gene:EMSPUG00000004070 transcript:EMSPUT00000004070 description:\"tRNA-Met for anticodon CAU\": Warning: Sequence contains no data \r\n",
        "Warning: lcl|Query_26831 EMSPUT00000001743 cds:pseudogene supercontig:GCA_000002235.2:Scaffold352:648569:648640:-1 gene:EMSPUG00000001743 transcript:EMSPUT00000001743 description:\"tRNA-Met for anticodon CAU\": Warning: Sequence contains no data \r\n",
        "Warning: lcl|Query_26832 EMSPUT00000008829 cds:pseudogene supercontig:GCA_000002235.2:Scaffold352:648723:648794:-1 gene:EMSPUG00000008829 transcript:EMSPUT00000008829 description:\"tRNA-Met for anticodon CAU\": Warning: Sequence contains no data \r\n",
        "Warning: lcl|Query_26833 EMSPUT00000000015 cds:pseudogene supercontig:GCA_000002235.2:Scaffold352:653711:653782:1 gene:EMSPUG00000000015 transcript:EMSPUT00000000015 description:\"tRNA-Met for anticodon CAU\": Warning: Sequence contains no data \r\n",
        "Warning: lcl|Query_26834 EMSPUT00000008619 cds:pseudogene supercontig:GCA_000002235.2:Scaffold352:653869:653940:1 gene:EMSPUG00000008619 transcript:EMSPUT00000008619 description:\"tRNA-Met for anticodon CAU\": Warning: Sequence contains no data \r\n",
        "Warning: lcl|Query_26835 EMSPUT00000001488 cds:pseudogene supercontig:GCA_000002235.2:Scaffold352:654025:654096:1 gene:EMSPUG00000001488 transcript:EMSPUT00000001488 description:\"tRNA-Met for anticodon CAU\": Warning: Sequence contains no data \r\n",
        "Warning: lcl|Query_26836 EMSPUT00000006371 cds:pseudogene supercontig:GCA_000002235.2:Scaffold352:654181:654252:1 gene:EMSPUG00000006371 transcript:EMSPUT00000006371 description:\"tRNA-Met for anticodon CAU\": Warning: Sequence contains no data \r\n",
        "Warning: lcl|Query_26837 EMSPUT00000015087 cds:pseudogene supercontig:GCA_000002235.2:Scaffold352:654337:654408:1 gene:EMSPUG00000015087 transcript:EMSPUT00000015087 description:\"tRNA-Met for anticodon CAU\": Warning: Sequence contains no data \r\n",
        "Warning: lcl|Query_26838 EMSPUT00000000629 cds:pseudogene supercontig:GCA_000002235.2:Scaffold352:654495:654566:1 gene:EMSPUG00000000629 transcript:EMSPUT00000000629 description:\"tRNA-Met for anticodon CAU\": Warning: Sequence contains no data \r\n",
        "Warning: lcl|Query_26839 EMSPUT00000009568 cds:pseudogene supercontig:GCA_000002235.2:Scaffold352:654651:654722:1 gene:EMSPUG00000009568 transcript:EMSPUT00000009568 description:\"tRNA-Met for anticodon CAU\": Warning: Sequence contains no data \r\n",
        "Warning: lcl|Query_26840 EMSPUT00000003600 cds:pseudogene supercontig:GCA_000002235.2:Scaffold352:654807:654878:1 gene:EMSPUG00000003600 transcript:EMSPUT00000003600 description:\"tRNA-Met for anticodon CAU\": Warning: Sequence contains no data \r\n",
        "Warning: lcl|Query_26841 EMSPUT00000015620 cds:pseudogene supercontig:GCA_000002235.2:Scaffold352:654966:655037:1 gene:EMSPUG00000015620 transcript:EMSPUT00000015620 description:\"tRNA-Met for anticodon CAU\": Warning: Sequence contains no data \r\n",
        "Warning: lcl|Query_26842 EMSPUT00000006769 cds:pseudogene supercontig:GCA_000002235.2:Scaffold352:655122:655193:1 gene:EMSPUG00000006769 transcript:EMSPUT00000006769 description:\"tRNA-Met for anticodon CAU\": Warning: Sequence contains no data \r\n",
        "Warning: lcl|Query_26843 EMSPUT00000013521 cds:pseudogene supercontig:GCA_000002235.2:Scaffold352:655279:655350:1 gene:EMSPUG00000013521 transcript:EMSPUT00000013521 description:\"tRNA-Met for anticodon CAU\": Warning: Sequence contains no data \r\n",
        "Warning: lcl|Query_26844 EMSPUT00000004450 cds:pseudogene supercontig:GCA_000002235.2:Scaffold352:655478:655549:1 gene:EMSPUG00000004450 transcript:EMSPUT00000004450 description:\"tRNA-Met for anticodon CAU\": Warning: Sequence contains no data \r\n",
        "Warning: lcl|Query_26845 EMSPUT00000002472 cds:pseudogene supercontig:GCA_000002235.2:Scaffold352:655671:655742:1 gene:EMSPUG00000002472 transcript:EMSPUT00000002472 description:\"tRNA-Met for anticodon CAU\": Warning: Sequence contains no data \r\n",
        "Warning: lcl|Query_26846 EMSPUT00000005289 cds:pseudogene supercontig:GCA_000002235.2:Scaffold352:657905:657976:1 gene:EMSPUG00000005289 transcript:EMSPUT00000005289 description:\"tRNA-Met for anticodon CAU\": Warning: Sequence contains no data \r\n",
        "Warning: lcl|Query_26847 EMSPUT00000000256 cds:pseudogene supercontig:GCA_000002235.2:Scaffold352:658060:658131:1 gene:EMSPUG00000000256 transcript:EMSPUT00000000256 description:\"tRNA-Met for anticodon CAU\": Warning: Sequence contains no data \r\n",
        "Warning: lcl|Query_26848 EMSPUT00000010921 cds:pseudogene supercontig:GCA_000002235.2:Scaffold352:658215:658286:1 gene:EMSPUG00000010921 transcript:EMSPUT00000010921 description:\"tRNA-Met for anticodon CAU\": Warning: Sequence contains no data \r\n",
        "Warning: lcl|Query_26849 EMSPUT00000014171 cds:pseudogene supercontig:GCA_000002235.2:Scaffold352:663809:663880:1 gene:EMSPUG00000014171 transcript:EMSPUT00000014171 description:\"tRNA-Met for anticodon CAU\": Warning: Sequence contains no data \r\n",
        "Warning: lcl|Query_26856 EMSPUT00000007367 cds:pseudogene supercontig:GCA_000002235.2:Scaffold25330:1191:1263:-1 gene:EMSPUG00000007367 transcript:EMSPUT00000007367 description:\"tRNA-Ile for anticodon AAU\": Warning: Sequence contains no data \r\n",
        "Error: (1431.1) FASTA-Reader: Warning: FASTA-Reader: No residues given\r\n"
       ]
      },
      {
       "output_type": "stream",
       "stream": "stdout",
       "text": [
        "Warning: lcl|Query_26868 EMSPUT00000007616 cds:pseudogene supercontig:GCA_000002235.2:Scaffold2509:20384:20456:-1 gene:EMSPUG00000007616 transcript:EMSPUT00000007616 description:\"tRNA-Met for anticodon CAU\": Warning: Sequence contains no data \r\n"
       ]
      },
      {
       "output_type": "stream",
       "stream": "stdout",
       "text": [
        "Error: (1431.1) FASTA-Reader: Warning: FASTA-Reader: No residues given\r\n"
       ]
      },
      {
       "output_type": "stream",
       "stream": "stdout",
       "text": [
        "Warning: lcl|Query_26903 EMSPUT00000010530 cds:pseudogene supercontig:GCA_000002235.2:Scaffold225:850748:850820:1 gene:EMSPUG00000010530 transcript:EMSPUT00000010530 description:\"tRNA-Met for anticodon CAU\": Warning: Sequence contains no data \r\n",
        "Error: (1431.1) FASTA-Reader: Warning: FASTA-Reader: No residues given\r\n",
        "Error: (1431.1) FASTA-Reader: Warning: FASTA-Reader: No residues given\r\n"
       ]
      },
      {
       "output_type": "stream",
       "stream": "stdout",
       "text": [
        "Warning: lcl|Query_26918 EMSPUT00000013326 cds:pseudogene supercontig:GCA_000002235.2:Scaffold1830:4300:4372:1 gene:EMSPUG00000013326 transcript:EMSPUT00000013326 description:\"tRNA-Ala for anticodon GGC\": Warning: Sequence contains no data \r\n",
        "Warning: lcl|Query_26923 EMSPUT00000000682 cds:pseudogene supercontig:GCA_000002235.2:Scaffold1830:64856:64927:-1 gene:EMSPUG00000000682 transcript:EMSPUT00000000682 description:\"tRNA-Ser for anticodon GGA\": Warning: Sequence contains no data \r\n"
       ]
      },
      {
       "output_type": "stream",
       "stream": "stdout",
       "text": [
        "Error: (1431.1) FASTA-Reader: Warning: FASTA-Reader: No residues given\r\n"
       ]
      },
      {
       "output_type": "stream",
       "stream": "stdout",
       "text": [
        "Warning: lcl|Query_26991 EMSPUT00000012324 cds:pseudogene supercontig:GCA_000002235.2:Scaffold312:143863:143935:-1 gene:EMSPUG00000012324 transcript:EMSPUT00000012324 description:\"tRNA-Val for anticodon CAC\": Warning: Sequence contains no data \r\n"
       ]
      },
      {
       "output_type": "stream",
       "stream": "stdout",
       "text": [
        "Error: (1431.1) FASTA-Reader: Warning: FASTA-Reader: No residues given\r\n",
        "Error: (1431.1) FASTA-Reader: Warning: FASTA-Reader: No residues given\r\n"
       ]
      },
      {
       "output_type": "stream",
       "stream": "stdout",
       "text": [
        "Warning: lcl|Query_27103 EMSPUT00000007464 cds:pseudogene supercontig:GCA_000002235.2:Scaffold9:700955:701027:-1 gene:EMSPUG00000007464 transcript:EMSPUT00000007464 description:\"tRNA-Met for anticodon CAU\": Warning: Sequence contains no data \r\n",
        "Warning: lcl|Query_27112 EMSPUT00000014398 cds:pseudogene supercontig:GCA_000002235.2:Scaffold9:875963:876035:-1 gene:EMSPUG00000014398 transcript:EMSPUT00000014398 description:\"tRNA-Glu for anticodon CUC\": Warning: Sequence contains no data \r\n",
        "Error: (1431.1) FASTA-Reader: Warning: FASTA-Reader: No residues given\r\n",
        "Error: (1431.1) FASTA-Reader: Warning: FASTA-Reader: No residues given\r\n"
       ]
      },
      {
       "output_type": "stream",
       "stream": "stdout",
       "text": [
        "Warning: lcl|Query_27125 EMSPUT00000011508 cds:pseudogene supercontig:GCA_000002235.2:Scaffold9:1270485:1270556:-1 gene:EMSPUG00000011508 transcript:EMSPUT00000011508 description:\"tRNA-Thr for anticodon CGU\": Warning: Sequence contains no data \r\n",
        "Warning: lcl|Query_27130 EMSPUT00000003267 cds:pseudogene supercontig:GCA_000002235.2:Scaffold9:1383479:1383550:-1 gene:EMSPUG00000003267 transcript:EMSPUT00000003267 description:\"tRNA-Thr for anticodon CGU\": Warning: Sequence contains no data \r\n",
        "Error: (1431.1) FASTA-Reader: Warning: FASTA-Reader: No residues given\r\n"
       ]
      },
      {
       "output_type": "stream",
       "stream": "stdout",
       "text": [
        "Warning: lcl|Query_27140 EMSPUT00000012901 cds:pseudogene supercontig:GCA_000002235.2:Scaffold9:1612531:1612599:-1 gene:EMSPUG00000012901 transcript:EMSPUT00000012901 description:\"tRNA-Ser for anticodon UGA\": Warning: Sequence contains no data \r\n"
       ]
      },
      {
       "output_type": "stream",
       "stream": "stdout",
       "text": [
        "Error: (1431.1) FASTA-Reader: Warning: FASTA-Reader: No residues given\r\n"
       ]
      },
      {
       "output_type": "stream",
       "stream": "stdout",
       "text": [
        "Error: (1431.1) FASTA-Reader: Warning: FASTA-Reader: No residues given\r\n"
       ]
      },
      {
       "output_type": "stream",
       "stream": "stdout",
       "text": [
        "Warning: lcl|Query_27205 EMSPUT00000001136 cds:pseudogene supercontig:GCA_000002235.2:Scaffold1446:273302:273375:-1 gene:EMSPUG00000001136 transcript:EMSPUT00000001136 description:\"tRNA-Undet for anticodon \\x3f\\x3f\\x3f\": Warning: Sequence contains no data \r\n",
        "Warning: lcl|Query_27208 EMSPUT00000004579 cds:pseudogene supercontig:GCA_000002235.2:Scaffold2383:61563:61635:1 gene:EMSPUG00000004579 transcript:EMSPUT00000004579 description:\"tRNA-Met for anticodon CAU\": Warning: Sequence contains no data \r\n"
       ]
      },
      {
       "output_type": "stream",
       "stream": "stdout",
       "text": [
        "Error: (1431.1) FASTA-Reader: Warning: FASTA-Reader: No residues given\r\n",
        "Error: (1431.1) FASTA-Reader: Warning: FASTA-Reader: No residues given\r\n",
        "Error: (1431.1) FASTA-Reader: Warning: FASTA-Reader: No residues given\r\n",
        "Error: (1431.1) FASTA-Reader: Warning: FASTA-Reader: No residues given\r\n"
       ]
      },
      {
       "output_type": "stream",
       "stream": "stdout",
       "text": [
        "Warning: lcl|Query_27243 EMSPUT00000007605 cds:pseudogene supercontig:GCA_000002235.2:Scaffold343:209506:209578:1 gene:EMSPUG00000007605 transcript:EMSPUT00000007605 description:\"tRNA-Met for anticodon CAU\": Warning: Sequence contains no data \r\n",
        "Warning: lcl|Query_27245 SPU_017180-tr cds:pseudogene supercontig:GCA_000002235.2:Scaffold343:240833:243633:1 gene:SPU_017180 transcript:SPU_017180-tr: Warning: Sequence contains no data \r\n",
        "Warning: lcl|Query_27246 EMSPUT00000015201 cds:pseudogene supercontig:GCA_000002235.2:Scaffold343:248954:249026:1 gene:EMSPUG00000015201 transcript:EMSPUT00000015201 description:\"tRNA-Ala for anticodon GGC\": Warning: Sequence contains no data \r\n",
        "Warning: lcl|Query_27252 EMSPUT00000008032 cds:pseudogene supercontig:GCA_000002235.2:Scaffold343:332323:332396:1 gene:EMSPUG00000008032 transcript:EMSPUT00000008032 description:\"tRNA-Val for anticodon CAC\": Warning: Sequence contains no data \r\n",
        "Error: (1431.1) FASTA-Reader: Warning: FASTA-Reader: No residues given\r\n",
        "Error: (1431.1) FASTA-Reader: Warning: FASTA-Reader: No residues given\r\n"
       ]
      },
      {
       "output_type": "stream",
       "stream": "stdout",
       "text": [
        "Warning: lcl|Query_27255 EMSPUT00000015096 cds:pseudogene supercontig:GCA_000002235.2:Scaffold343:395037:395109:1 gene:EMSPUG00000015096 transcript:EMSPUT00000015096 description:\"tRNA-Met for anticodon CAU\": Warning: Sequence contains no data \r\n",
        "Warning: lcl|Query_27264 SPU_030047-tr cds:pseudogene supercontig:GCA_000002235.2:Scaffold343:598266:598417:1 gene:SPU_030047 transcript:SPU_030047-tr: Warning: Sequence contains no data \r\n",
        "Error: (1431.1) FASTA-Reader: Warning: FASTA-Reader: No residues given\r\n"
       ]
      },
      {
       "output_type": "stream",
       "stream": "stdout",
       "text": [
        "Warning: lcl|Query_27277 EMSPUT00000012646 cds:pseudogene supercontig:GCA_000002235.2:Scaffold16959:108:180:1 gene:EMSPUG00000012646 transcript:EMSPUT00000012646 description:\"tRNA-Met for anticodon CAU\": Warning: Sequence contains no data \r\n",
        "Error: (1431.1) FASTA-Reader: Warning: FASTA-Reader: No residues given\r\n"
       ]
      },
      {
       "output_type": "stream",
       "stream": "stdout",
       "text": [
        "Warning: lcl|Query_27311 EMSPUT00000000120 cds:pseudogene supercontig:GCA_000002235.2:Scaffold7866:3277:3348:-1 gene:EMSPUG00000000120 transcript:EMSPUT00000000120 description:\"tRNA-Thr for anticodon UGU\": Warning: Sequence contains no data \r\n"
       ]
      },
      {
       "output_type": "stream",
       "stream": "stdout",
       "text": [
        "Error: (1431.1) FASTA-Reader: Warning: FASTA-Reader: No residues given\r\n"
       ]
      },
      {
       "output_type": "stream",
       "stream": "stdout",
       "text": [
        "Warning: lcl|Query_27346 EMSPUT00000009011 cds:pseudogene supercontig:GCA_000002235.2:Scaffold187:941837:941909:1 gene:EMSPUG00000009011 transcript:EMSPUT00000009011 description:\"tRNA-Met for anticodon CAU\": Warning: Sequence contains no data \r\n",
        "Error: (1431.1) FASTA-Reader: Warning: FASTA-Reader: No residues given\r\n",
        "Error: (1431.1) FASTA-Reader: Warning: FASTA-Reader: No residues given\r\n"
       ]
      },
      {
       "output_type": "stream",
       "stream": "stdout",
       "text": [
        "Warning: lcl|Query_27352 EMSPUT00000002897 cds:pseudogene supercontig:GCA_000002235.2:Scaffold1481:23484:23556:-1 gene:EMSPUG00000002897 transcript:EMSPUT00000002897 description:\"tRNA-Met for anticodon CAU\": Warning: Sequence contains no data \r\n",
        "Warning: lcl|Query_27358 EMSPUT00000000798 cds:pseudogene supercontig:GCA_000002235.2:Scaffold1481:165286:165358:-1 gene:EMSPUG00000000798 transcript:EMSPUT00000000798 description:\"tRNA-Met for anticodon CAU\": Warning: Sequence contains no data \r\n"
       ]
      },
      {
       "output_type": "stream",
       "stream": "stdout",
       "text": [
        "Error: (1431.1) FASTA-Reader: Warning: FASTA-Reader: No residues given\r\n",
        "Error: (1431.1) FASTA-Reader: Warning: FASTA-Reader: No residues given\r\n",
        "Error: (1431.1) FASTA-Reader: Warning: FASTA-Reader: No residues given\r\n",
        "Error: (1431.1) FASTA-Reader: Warning: FASTA-Reader: No residues given\r\n",
        "Error: (1431.1) FASTA-Reader: Warning: FASTA-Reader: No residues given\r\n",
        "Error: (1431.1) FASTA-Reader: Warning: FASTA-Reader: No residues given\r\n",
        "Error: (1431.1) FASTA-Reader: Warning: FASTA-Reader: No residues given\r\n",
        "Error: (1431.1) FASTA-Reader: Warning: FASTA-Reader: No residues given\r\n"
       ]
      },
      {
       "output_type": "stream",
       "stream": "stdout",
       "text": [
        "Warning: lcl|Query_27383 EMSPUT00000010606 cds:pseudogene supercontig:GCA_000002235.2:Scaffold629:147569:147640:-1 gene:EMSPUG00000010606 transcript:EMSPUT00000010606 description:\"tRNA-His for anticodon GUG\": Warning: Sequence contains no data \r\n",
        "Warning: lcl|Query_27384 EMSPUT00000003701 cds:pseudogene supercontig:GCA_000002235.2:Scaffold629:148501:148572:-1 gene:EMSPUG00000003701 transcript:EMSPUT00000003701 description:\"tRNA-His for anticodon GUG\": Warning: Sequence contains no data \r\n",
        "Warning: lcl|Query_27385 EMSPUT00000008424 cds:pseudogene supercontig:GCA_000002235.2:Scaffold629:153923:153994:-1 gene:EMSPUG00000008424 transcript:EMSPUT00000008424 description:\"tRNA-His for anticodon GUG\": Warning: Sequence contains no data \r\n",
        "Warning: lcl|Query_27386 EMSPUT00000014245 cds:pseudogene supercontig:GCA_000002235.2:Scaffold629:154079:154150:-1 gene:EMSPUG00000014245 transcript:EMSPUT00000014245 description:\"tRNA-His for anticodon GUG\": Warning: Sequence contains no data \r\n",
        "Warning: lcl|Query_27387 EMSPUT00000008400 cds:pseudogene supercontig:GCA_000002235.2:Scaffold629:154235:154306:-1 gene:EMSPUG00000008400 transcript:EMSPUT00000008400 description:\"tRNA-His for anticodon GUG\": Warning: Sequence contains no data \r\n",
        "Warning: lcl|Query_27388 EMSPUT00000000110 cds:pseudogene supercontig:GCA_000002235.2:Scaffold629:154391:154462:-1 gene:EMSPUG00000000110 transcript:EMSPUT00000000110 description:\"tRNA-His for anticodon GUG\": Warning: Sequence contains no data \r\n",
        "Warning: lcl|Query_27389 EMSPUT00000009088 cds:pseudogene supercontig:GCA_000002235.2:Scaffold629:159355:159426:-1 gene:EMSPUG00000009088 transcript:EMSPUT00000009088 description:\"tRNA-His for anticodon GUG\": Warning: Sequence contains no data \r\n"
       ]
      },
      {
       "output_type": "stream",
       "stream": "stdout",
       "text": [
        "Warning: lcl|Query_27402 EMSPUT00000000354 cds:pseudogene supercontig:GCA_000002235.2:Scaffold858:290149:290221:1 gene:EMSPUG00000000354 transcript:EMSPUT00000000354 description:\"tRNA-Met for anticodon CAU\": Warning: Sequence contains no data \r\n",
        "Error: (1431.1) FASTA-Reader: Warning: FASTA-Reader: No residues given\r\n",
        "Error: (1431.1) FASTA-Reader: Warning: FASTA-Reader: No residues given\r\n",
        "Error: (1431.1) FASTA-Reader: Warning: FASTA-Reader: No residues given\r\n",
        "Error: (1431.1) FASTA-Reader: Warning: FASTA-Reader: No residues given\r\n",
        "Error: (1431.1) FASTA-Reader: Warning: FASTA-Reader: No residues given\r\n",
        "Error: (1431.1) FASTA-Reader: Warning: FASTA-Reader: No residues given\r\n"
       ]
      },
      {
       "output_type": "stream",
       "stream": "stdout",
       "text": [
        "Warning: lcl|Query_27418 EMSPUT00000015120 cds:pseudogene supercontig:GCA_000002235.2:Scaffold858:706371:706442:-1 gene:EMSPUG00000015120 transcript:EMSPUT00000015120 description:\"tRNA-Gln for anticodon CUG\": Warning: Sequence contains no data \r\n",
        "Warning: lcl|Query_27419 EMSPUT00000013451 cds:pseudogene supercontig:GCA_000002235.2:Scaffold3281:16088:16160:-1 gene:EMSPUG00000013451 transcript:EMSPUT00000013451 description:\"tRNA-Met for anticodon CAU\": Warning: Sequence contains no data \r\n",
        "Warning: lcl|Query_27421 EMSPUT00000002446 cds:pseudogene supercontig:GCA_000002235.2:Scaffold3281:47168:47242:-1 gene:EMSPUG00000002446 transcript:EMSPUT00000002446 description:\"tRNA-Arg for anticodon GCG\": Warning: Sequence contains no data \r\n",
        "Warning: lcl|Query_27427 EMSPUT00000015588 cds:pseudogene supercontig:GCA_000002235.2:Scaffold1240:90108:90180:-1 gene:EMSPUG00000015588 transcript:EMSPUT00000015588 description:\"tRNA-Ala for anticodon GGC\": Warning: Sequence contains no data \r\n",
        "Warning: lcl|Query_27429 EMSPUT00000000133 cds:pseudogene supercontig:GCA_000002235.2:Scaffold1240:100605:100677:-1 gene:EMSPUG00000000133 transcript:EMSPUT00000000133 description:\"tRNA-Ala for anticodon GGC\": Warning: Sequence contains no data \r\n",
        "Warning: lcl|Query_27430 EMSPUT00000008882 cds:pseudogene supercontig:GCA_000002235.2:Scaffold1240:103736:103808:1 gene:EMSPUG00000008882 transcript:EMSPUT00000008882 description:\"tRNA-Val for anticodon CAC\": Warning: Sequence contains no data \r\n",
        "Error: (1431.1) FASTA-Reader: Warning: FASTA-Reader: No residues given\r\n"
       ]
      },
      {
       "output_type": "stream",
       "stream": "stdout",
       "text": [
        "Warning: lcl|Query_27437 EMSPUT00000001541 cds:pseudogene supercontig:GCA_000002235.2:Scaffold673:148024:148098:-1 gene:EMSPUG00000001541 transcript:EMSPUT00000001541 description:\"tRNA-His for anticodon GUG\": Warning: Sequence contains no data \r\n"
       ]
      },
      {
       "output_type": "stream",
       "stream": "stdout",
       "text": [
        "Error: (1431.1) FASTA-Reader: Warning: FASTA-Reader: No residues given\r\n",
        "Error: (1431.1) FASTA-Reader: Warning: FASTA-Reader: No residues given\r\n",
        "Error: (1431.1) FASTA-Reader: Warning: FASTA-Reader: No residues given\r\n",
        "Error: (1431.1) FASTA-Reader: Warning: FASTA-Reader: No residues given\r\n",
        "Error: (1431.1) FASTA-Reader: Warning: FASTA-Reader: No residues given\r\n",
        "Error: (1431.1) FASTA-Reader: Warning: FASTA-Reader: No residues given\r\n",
        "Error: (1431.1) FASTA-Reader: Warning: FASTA-Reader: No residues given\r\n",
        "Error: (1431.1) FASTA-Reader: Warning: FASTA-Reader: No residues given\r\n",
        "Error: (1431.1) FASTA-Reader: Warning: FASTA-Reader: No residues given\r\n"
       ]
      },
      {
       "output_type": "stream",
       "stream": "stdout",
       "text": [
        "Warning: lcl|Query_27461 EMSPUT00000014984 cds:pseudogene supercontig:GCA_000002235.2:Scaffold2872:3653:3737:-1 gene:EMSPUG00000014984 transcript:EMSPUT00000014984 description:\"tRNA-Phe for anticodon AAA\": Warning: Sequence contains no data \r\n",
        "Warning: lcl|Query_27462 EMSPUT00000004113 cds:pseudogene supercontig:GCA_000002235.2:Scaffold2872:4731:4812:-1 gene:EMSPUG00000004113 transcript:EMSPUT00000004113 description:\"tRNA-Ser for anticodon AGA\": Warning: Sequence contains no data \r\n",
        "Warning: lcl|Query_27480 EMSPUT00000010032 cds:pseudogene supercontig:GCA_000002235.2:Scaffold2501:10330:10397:1 gene:EMSPUG00000010032 transcript:EMSPUT00000010032 description:\"tRNA-Ala for anticodon UGC\": Warning: Sequence contains no data \r\n",
        "Warning: lcl|Query_27481 EMSPUT00000000849 cds:pseudogene supercontig:GCA_000002235.2:Scaffold2501:10986:11057:1 gene:EMSPUG00000000849 transcript:EMSPUT00000000849 description:\"tRNA-Ala for anticodon UGC\": Warning: Sequence contains no data \r\n",
        "Warning: lcl|Query_27482 EMSPUT00000015235 cds:pseudogene supercontig:GCA_000002235.2:Scaffold2501:16435:16502:1 gene:EMSPUG00000015235 transcript:EMSPUT00000015235 description:\"tRNA-Ala for anticodon UGC\": Warning: Sequence contains no data \r\n",
        "Warning: lcl|Query_27483 EMSPUT00000005975 cds:pseudogene supercontig:GCA_000002235.2:Scaffold2501:17000:17071:1 gene:EMSPUG00000005975 transcript:EMSPUT00000005975 description:\"tRNA-Ala for anticodon UGC\": Warning: Sequence contains no data \r\n",
        "Warning: lcl|Query_27484 EMSPUT00000013526 cds:pseudogene supercontig:GCA_000002235.2:Scaffold2501:17730:17801:1 gene:EMSPUG00000013526 transcript:EMSPUT00000013526 description:\"tRNA-Ala for anticodon UGC\": Warning: Sequence contains no data \r\n",
        "Warning: lcl|Query_27485 EMSPUT00000004236 cds:pseudogene supercontig:GCA_000002235.2:Scaffold2501:18445:18516:1 gene:EMSPUG00000004236 transcript:EMSPUT00000004236 description:\"tRNA-Ala for anticodon UGC\": Warning: Sequence contains no data \r\n",
        "Warning: lcl|Query_27486 EMSPUT00000015339 cds:pseudogene supercontig:GCA_000002235.2:Scaffold2501:20281:20352:-1 gene:EMSPUG00000015339 transcript:EMSPUT00000015339 description:\"tRNA-Ala for anticodon UGC\": Warning: Sequence contains no data \r\n",
        "Error: (1431.1) FASTA-Reader: Warning: FASTA-Reader: No residues given\r\n"
       ]
      },
      {
       "output_type": "stream",
       "stream": "stdout",
       "text": [
        "Warning: lcl|Query_27502 EMSPUT00000006816 cds:pseudogene supercontig:GCA_000002235.2:Scaffold1032:141221:141295:1 gene:EMSPUG00000006816 transcript:EMSPUT00000006816 description:\"tRNA-Asp for anticodon GUC\": Warning: Sequence contains no data \r\n"
       ]
      },
      {
       "output_type": "stream",
       "stream": "stdout",
       "text": [
        "Error: (1431.1) FASTA-Reader: Warning: FASTA-Reader: No residues given\r\n"
       ]
      },
      {
       "output_type": "stream",
       "stream": "stdout",
       "text": [
        "Warning: lcl|Query_27535 EMSPUT00000013053 cds:pseudogene supercontig:GCA_000002235.2:Scaffold59:440895:440968:-1 gene:EMSPUG00000013053 transcript:EMSPUT00000013053 description:\"tRNA-Cys for anticodon GCA\": Warning: Sequence contains no data \r\n"
       ]
      },
      {
       "output_type": "stream",
       "stream": "stdout",
       "text": [
        "Error: (1431.1) FASTA-Reader: Warning: FASTA-Reader: No residues given\r\n",
        "Error: (1431.1) FASTA-Reader: Warning: FASTA-Reader: No residues given\r\n"
       ]
      },
      {
       "output_type": "stream",
       "stream": "stdout",
       "text": [
        "Warning: lcl|Query_27572 EMSPUT00000008008 cds:pseudogene supercontig:GCA_000002235.2:Scaffold2322:40705:40777:-1 gene:EMSPUG00000008008 transcript:EMSPUT00000008008 description:\"tRNA-Met for anticodon CAU\": Warning: Sequence contains no data \r\n",
        "Warning: lcl|Query_27574 EMSPUT00000002482 cds:pseudogene supercontig:GCA_000002235.2:Scaffold2322:87376:87448:-1 gene:EMSPUG00000002482 transcript:EMSPUT00000002482 description:\"tRNA-Met for anticodon CAU\": Warning: Sequence contains no data \r\n"
       ]
      },
      {
       "output_type": "stream",
       "stream": "stdout",
       "text": [
        "Error: (1431.1) FASTA-Reader: Warning: FASTA-Reader: No residues given\r\n"
       ]
      },
      {
       "output_type": "stream",
       "stream": "stdout",
       "text": [
        "Warning: lcl|Query_27638 EMSPUT00000002141 cds:pseudogene supercontig:GCA_000002235.2:Scaffold1202:151675:151741:-1 gene:EMSPUG00000002141 transcript:EMSPUT00000002141 description:\"tRNA-Ala for anticodon AGC\": Warning: Sequence contains no data \r\n",
        "Error: (1431.1) FASTA-Reader: Warning: FASTA-Reader: No residues given\r\n"
       ]
      },
      {
       "output_type": "stream",
       "stream": "stdout",
       "text": [
        "Warning: lcl|Query_27646 EMSPUT00000009274 cds:pseudogene supercontig:GCA_000002235.2:Scaffold14569:5224:5296:-1 gene:EMSPUG00000009274 transcript:EMSPUT00000009274 description:\"tRNA-Met for anticodon CAU\": Warning: Sequence contains no data \r\n",
        "Error: (1431.1) FASTA-Reader: Warning: FASTA-Reader: No residues given\r\n"
       ]
      },
      {
       "output_type": "stream",
       "stream": "stdout",
       "text": [
        "Warning: lcl|Query_27662 EMSPUT00000005371 cds:pseudogene supercontig:GCA_000002235.2:Scaffold7:25759:25833:-1 gene:EMSPUG00000005371 transcript:EMSPUT00000005371 description:\"tRNA-His for anticodon GUG\": Warning: Sequence contains no data \r\n"
       ]
      },
      {
       "output_type": "stream",
       "stream": "stdout",
       "text": [
        "Error: (1431.1) FASTA-Reader: Warning: FASTA-Reader: No residues given\r\n"
       ]
      },
      {
       "output_type": "stream",
       "stream": "stdout",
       "text": [
        "Warning: lcl|Query_27696 EMSPUT00000004271 cds:pseudogene supercontig:GCA_000002235.2:Scaffold7:1770338:1770410:-1 gene:EMSPUG00000004271 transcript:EMSPUT00000004271 description:\"tRNA-Lys for anticodon CUU\": Warning: Sequence contains no data \r\n",
        "Error: (1431.1) FASTA-Reader: Warning: FASTA-Reader: No residues given\r\n",
        "Error: (1431.1) FASTA-Reader: Warning: FASTA-Reader: No residues given\r\n"
       ]
      },
      {
       "output_type": "stream",
       "stream": "stdout",
       "text": [
        "Warning: lcl|Query_27706 SPU_015511-tr cds:pseudogene supercontig:GCA_000002235.2:Scaffold3027:20687:23361:1 gene:SPU_015511 transcript:SPU_015511-tr: Warning: Sequence contains no data \r\n",
        "Warning: lcl|Query_27713 EMSPUT00000011472 cds:pseudogene supercontig:GCA_000002235.2:Scaffold367:85308:85381:1 gene:EMSPUG00000011472 transcript:EMSPUT00000011472 description:\"tRNA-Ala for anticodon GGC\": Warning: Sequence contains no data \r\n",
        "Error: (1431.1) FASTA-Reader: Warning: FASTA-Reader: No residues given\r\n"
       ]
      },
      {
       "output_type": "stream",
       "stream": "stdout",
       "text": [
        "Warning: lcl|Query_27725 EMSPUT00000011795 cds:pseudogene supercontig:GCA_000002235.2:Scaffold511:59697:59769:-1 gene:EMSPUG00000011795 transcript:EMSPUT00000011795 description:\"tRNA-Met for anticodon CAU\": Warning: Sequence contains no data \r\n",
        "Error: (1431.1) FASTA-Reader: Warning: FASTA-Reader: No residues given\r\n"
       ]
      },
      {
       "output_type": "stream",
       "stream": "stdout",
       "text": [
        "Warning: lcl|Query_27739 EMSPUT00000002728 cds:pseudogene supercontig:GCA_000002235.2:Scaffold511:308030:308101:-1 gene:EMSPUG00000002728 transcript:EMSPUT00000002728 description:\"tRNA-Asp for anticodon GUC\": Warning: Sequence contains no data \r\n"
       ]
      },
      {
       "output_type": "stream",
       "stream": "stdout",
       "text": [
        "Error: (1431.1) FASTA-Reader: Warning: FASTA-Reader: No residues given\r\n"
       ]
      },
      {
       "output_type": "stream",
       "stream": "stdout",
       "text": [
        "Warning: lcl|Query_27788 EMSPUT00000006304 cds:pseudogene supercontig:GCA_000002235.2:Scaffold2771:76883:76964:1 gene:EMSPUG00000006304 transcript:EMSPUT00000006304 description:\"tRNA-Leu for anticodon AAG\": Warning: Sequence contains no data \r\n"
       ]
      },
      {
       "output_type": "stream",
       "stream": "stdout",
       "text": [
        "Error: (1431.1) FASTA-Reader: Warning: FASTA-Reader: No residues given\r\n",
        "Error: (1431.1) FASTA-Reader: Warning: FASTA-Reader: No residues given\r\n"
       ]
      },
      {
       "output_type": "stream",
       "stream": "stdout",
       "text": [
        "Warning: lcl|Query_27839 EMSPUT00000006493 cds:pseudogene supercontig:GCA_000002235.2:Scaffold307:347486:347557:1 gene:EMSPUG00000006493 transcript:EMSPUT00000006493 description:\"tRNA-Pro for anticodon UGG\": Warning: Sequence contains no data \r\n",
        "Warning: lcl|Query_27840 EMSPUT00000009436 cds:pseudogene supercontig:GCA_000002235.2:Scaffold307:348684:348755:-1 gene:EMSPUG00000009436 transcript:EMSPUT00000009436 description:\"tRNA-Pro for anticodon UGG\": Warning: Sequence contains no data \r\n"
       ]
      },
      {
       "output_type": "stream",
       "stream": "stdout",
       "text": [
        "Error: (1431.1) FASTA-Reader: Warning: FASTA-Reader: No residues given\r\n"
       ]
      },
      {
       "output_type": "stream",
       "stream": "stdout",
       "text": [
        "Warning: lcl|Query_27884 EMSPUT00000010847 cds:pseudogene supercontig:GCA_000002235.2:Scaffold184:215160:215234:1 gene:EMSPUG00000010847 transcript:EMSPUT00000010847 description:\"tRNA-His for anticodon GUG\": Warning: Sequence contains no data \r\n",
        "Error: (1431.1) FASTA-Reader: Warning: FASTA-Reader: No residues given\r\n"
       ]
      },
      {
       "output_type": "stream",
       "stream": "stdout",
       "text": [
        "Warning: lcl|Query_27889 EMSPUT00000001239 cds:pseudogene supercontig:GCA_000002235.2:Scaffold184:487927:488223:1 gene:EMSPUG00000001239 transcript:EMSPUT00000001239 description:\"Metazoan signal recognition particle RNA\": Warning: Sequence contains no data \r\n",
        "Error: (1431.1) FASTA-Reader: Warning: FASTA-Reader: No residues given\r\n"
       ]
      },
      {
       "output_type": "stream",
       "stream": "stdout",
       "text": [
        "Warning: lcl|Query_27899 EMSPUT00000008333 cds:pseudogene supercontig:GCA_000002235.2:Scaffold184:619422:619718:1 gene:EMSPUG00000008333 transcript:EMSPUT00000008333 description:\"Metazoan signal recognition particle RNA\": Warning: Sequence contains no data \r\n",
        "Error: (1431.1) FASTA-Reader: Warning: FASTA-Reader: No residues given\r\n",
        "Error: (1431.1) FASTA-Reader: Warning: FASTA-Reader: No residues given\r\n"
       ]
      },
      {
       "output_type": "stream",
       "stream": "stdout",
       "text": [
        "Warning: lcl|Query_27921 EMSPUT00000001009 cds:pseudogene supercontig:GCA_000002235.2:Scaffold462:326118:326190:-1 gene:EMSPUG00000001009 transcript:EMSPUT00000001009 description:\"tRNA-Undet for anticodon \\x3f\\x3f\\x3f\": Warning: Sequence contains no data \r\n",
        "Warning: lcl|Query_27925 EMSPUT00000009040 cds:pseudogene supercontig:GCA_000002235.2:Scaffold462:504112:504184:1 gene:EMSPUG00000009040 transcript:EMSPUT00000009040 description:\"tRNA-Met for anticodon CAU\": Warning: Sequence contains no data \r\n"
       ]
      },
      {
       "output_type": "stream",
       "stream": "stdout",
       "text": [
        "Error: (1431.1) FASTA-Reader: Warning: FASTA-Reader: No residues given\r\n"
       ]
      },
      {
       "output_type": "stream",
       "stream": "stdout",
       "text": [
        "Warning: lcl|Query_27971 SPU_030062-tr cds:pseudogene supercontig:GCA_000002235.2:Scaffold1940:111375:115276:1 gene:SPU_030062 transcript:SPU_030062-tr: Warning: Sequence contains no data \r\n"
       ]
      },
      {
       "output_type": "stream",
       "stream": "stdout",
       "text": [
        "Error: (1431.1) FASTA-Reader: Warning: FASTA-Reader: No residues given\r\n"
       ]
      },
      {
       "output_type": "stream",
       "stream": "stdout",
       "text": [
        "Warning: lcl|Query_28009 EMSPUT00000000595 cds:pseudogene supercontig:GCA_000002235.2:Scaffold490:251475:251546:-1 gene:EMSPUG00000000595 transcript:EMSPUT00000000595 description:\"tRNA-Pro for anticodon AGG\": Warning: Sequence contains no data \r\n"
       ]
      },
      {
       "output_type": "stream",
       "stream": "stdout",
       "text": [
        "Error: (1431.1) FASTA-Reader: Warning: FASTA-Reader: No residues given\r\n"
       ]
      },
      {
       "output_type": "stream",
       "stream": "stdout",
       "text": [
        "Warning: lcl|Query_28052 EMSPUT00000008336 cds:pseudogene supercontig:GCA_000002235.2:Scaffold895:73245:73317:1 gene:EMSPUG00000008336 transcript:EMSPUT00000008336 description:\"tRNA-Arg for anticodon ACG\": Warning: Sequence contains no data \r\n"
       ]
      },
      {
       "output_type": "stream",
       "stream": "stdout",
       "text": [
        "Error: (1431.1) FASTA-Reader: Warning: FASTA-Reader: No residues given\r\n",
        "Error: (1431.1) FASTA-Reader: Warning: FASTA-Reader: No residues given\r\n",
        "Error: (1431.1) FASTA-Reader: Warning: FASTA-Reader: No residues given\r\n"
       ]
      },
      {
       "output_type": "stream",
       "stream": "stdout",
       "text": [
        "Warning: lcl|Query_28109 EMSPUT00000012013 cds:pseudogene supercontig:GCA_000002235.2:Scaffold223:583491:583564:-1 gene:EMSPUG00000012013 transcript:EMSPUT00000012013 description:\"tRNA-Ala for anticodon GGC\": Warning: Sequence contains no data \r\n",
        "Warning: lcl|Query_28113 EMSPUT00000014782 cds:pseudogene supercontig:GCA_000002235.2:Scaffold223:653932:654004:-1 gene:EMSPUG00000014782 transcript:EMSPUT00000014782 description:\"tRNA-Met for anticodon CAU\": Warning: Sequence contains no data \r\n",
        "Warning: lcl|Query_28114 EMSPUT00000007777 cds:pseudogene supercontig:GCA_000002235.2:Scaffold223:714423:714495:-1 gene:EMSPUG00000007777 transcript:EMSPUT00000007777 description:\"tRNA-Met for anticodon CAU\": Warning: Sequence contains no data \r\n",
        "Error: (1431.1) FASTA-Reader: Warning: FASTA-Reader: No residues given\r\n",
        "Error: (1431.1) FASTA-Reader: Warning: FASTA-Reader: No residues given\r\n"
       ]
      },
      {
       "output_type": "stream",
       "stream": "stdout",
       "text": [
        "Warning: lcl|Query_28128 SPU_030199-tr cds:pseudogene supercontig:GCA_000002235.2:Scaffold1105:162022:165027:1 gene:SPU_030199 transcript:SPU_030199-tr: Warning: Sequence contains no data \r\n",
        "Warning: lcl|Query_28134 EMSPUT00000011102 cds:pseudogene supercontig:GCA_000002235.2:Scaffold1105:246077:246149:-1 gene:EMSPUG00000011102 transcript:EMSPUT00000011102 description:\"tRNA-Met for anticodon CAU\": Warning: Sequence contains no data \r\n",
        "Error: (1431.1) FASTA-Reader: Warning: FASTA-Reader: No residues given\r\n",
        "Error: (1431.1) FASTA-Reader: Warning: FASTA-Reader: No residues given\r\n"
       ]
      },
      {
       "output_type": "stream",
       "stream": "stdout",
       "text": [
        "Warning: lcl|Query_28141 EMSPUT00000012664 cds:pseudogene supercontig:GCA_000002235.2:Scaffold2590:128611:128685:-1 gene:EMSPUG00000012664 transcript:EMSPUT00000012664 description:\"tRNA-SeC for anticodon UCA\": Warning: Sequence contains no data \r\n",
        "Warning: lcl|Query_28142 EMSPUT00000013073 cds:pseudogene supercontig:GCA_000002235.2:Scaffold2590:133314:133388:-1 gene:EMSPUG00000013073 transcript:EMSPUT00000013073 description:\"tRNA-SeC for anticodon UCA\": Warning: Sequence contains no data \r\n"
       ]
      },
      {
       "output_type": "stream",
       "stream": "stdout",
       "text": [
        "Error: (1431.1) FASTA-Reader: Warning: FASTA-Reader: No residues given\r\n"
       ]
      },
      {
       "output_type": "stream",
       "stream": "stdout",
       "text": [
        "Warning: lcl|Query_28178 EMSPUT00000012176 cds:pseudogene supercontig:GCA_000002235.2:Scaffold304:86210:86286:-1 gene:EMSPUG00000012176 transcript:EMSPUT00000012176 description:\"tRNA-Cys for anticodon GCA\": Warning: Sequence contains no data \r\n"
       ]
      },
      {
       "output_type": "stream",
       "stream": "stdout",
       "text": [
        "Error: (1431.1) FASTA-Reader: Warning: FASTA-Reader: No residues given\r\n",
        "Error: (1431.1) FASTA-Reader: Warning: FASTA-Reader: No residues given\r\n"
       ]
      },
      {
       "output_type": "stream",
       "stream": "stdout",
       "text": [
        "Warning: lcl|Query_28243 EMSPUT00000009832 cds:pseudogene supercontig:GCA_000002235.2:Scaffold1079:26203:26276:-1 gene:EMSPUG00000009832 transcript:EMSPUT00000009832 description:\"tRNA-His for anticodon GUG\": Warning: Sequence contains no data \r\n",
        "Warning: lcl|Query_28245 EMSPUT00000011411 cds:pseudogene supercontig:GCA_000002235.2:Scaffold1079:115061:115134:1 gene:EMSPUG00000011411 transcript:EMSPUT00000011411 description:\"tRNA-Glu for anticodon CUC\": Warning: Sequence contains no data \r\n",
        "Error: (1431.1) FASTA-Reader: Warning: FASTA-Reader: No residues given\r\n",
        "Error: (1431.1) FASTA-Reader: Warning: FASTA-Reader: No residues given\r\n"
       ]
      },
      {
       "output_type": "stream",
       "stream": "stdout",
       "text": [
        "Warning: lcl|Query_28262 SPU_030011-tr cds:pseudogene supercontig:GCA_000002235.2:Scaffold600:207872:208149:1 gene:SPU_030011 transcript:SPU_030011-tr: Warning: Sequence contains no data \r\n",
        "Warning: lcl|Query_28263 SPU_030008-tr cds:pseudogene supercontig:GCA_000002235.2:Scaffold600:208908:209072:-1 gene:SPU_030008 transcript:SPU_030008-tr: Warning: Sequence contains no data \r\n"
       ]
      },
      {
       "output_type": "stream",
       "stream": "stdout",
       "text": [
        "Error: (1431.1) FASTA-Reader: Warning: FASTA-Reader: No residues given\r\n"
       ]
      },
      {
       "output_type": "stream",
       "stream": "stdout",
       "text": [
        "Warning: lcl|Query_28326 EMSPUT00000015180 cds:pseudogene supercontig:GCA_000002235.2:Scaffold1827:156835:156907:1 gene:EMSPUG00000015180 transcript:EMSPUT00000015180 description:\"tRNA-Met for anticodon CAU\": Warning: Sequence contains no data \r\n",
        "Error: (1431.1) FASTA-Reader: Warning: FASTA-Reader: No residues given\r\n",
        "Error: (1431.1) FASTA-Reader: Warning: FASTA-Reader: No residues given\r\n",
        "Error: (1431.1) FASTA-Reader: Warning: FASTA-Reader: No residues given\r\n",
        "Error: (1431.1) FASTA-Reader: Warning: FASTA-Reader: No residues given\r\n",
        "Error: (1431.1) FASTA-Reader: Warning: FASTA-Reader: No residues given\r\n",
        "Error: (1431.1) FASTA-Reader: Warning: FASTA-Reader: No residues given\r\n",
        "Error: (1431.1) FASTA-Reader: Warning: FASTA-Reader: No residues given\r\n",
        "Error: (1431.1) FASTA-Reader: Warning: FASTA-Reader: No residues given\r\n",
        "Error: (1431.1) FASTA-Reader: Warning: FASTA-Reader: No residues given\r\n",
        "Error: (1431.1) FASTA-Reader: Warning: FASTA-Reader: No residues given\r\n",
        "Error: (1431.1) FASTA-Reader: Warning: FASTA-Reader: No residues given\r\n",
        "Error: (1431.1) FASTA-Reader: Warning: FASTA-Reader: No residues given\r\n",
        "Error: (1431.1) FASTA-Reader: Warning: FASTA-Reader: No residues given\r\n",
        "Error: (1431.1) FASTA-Reader: Warning: FASTA-Reader: No residues given\r\n",
        "Error: (1431.1) FASTA-Reader: Warning: FASTA-Reader: No residues given\r\n",
        "Error: (1431.1) FASTA-Reader: Warning: FASTA-Reader: No residues given\r\n",
        "Error: (1431.1) FASTA-Reader: Warning: FASTA-Reader: No residues given\r\n",
        "Error: (1431.1) FASTA-Reader: Warning: FASTA-Reader: No residues given\r\n",
        "Error: (1431.1) FASTA-Reader: Warning: FASTA-Reader: No residues given\r\n",
        "Error: (1431.1) FASTA-Reader: Warning: FASTA-Reader: No residues given\r\n"
       ]
      },
      {
       "output_type": "stream",
       "stream": "stdout",
       "text": [
        "Warning: lcl|Query_28339 EMSPUT00000011803 cds:pseudogene supercontig:GCA_000002235.2:Scaffold546:59345:59417:-1 gene:EMSPUG00000011803 transcript:EMSPUT00000011803 description:\"tRNA-Ala for anticodon AGC\": Warning: Sequence contains no data \r\n",
        "Warning: lcl|Query_28340 EMSPUT00000004865 cds:pseudogene supercontig:GCA_000002235.2:Scaffold546:59525:59597:-1 gene:EMSPUG00000004865 transcript:EMSPUT00000004865 description:\"tRNA-Ala for anticodon AGC\": Warning: Sequence contains no data \r\n",
        "Warning: lcl|Query_28341 EMSPUT00000013597 cds:pseudogene supercontig:GCA_000002235.2:Scaffold546:59705:59777:-1 gene:EMSPUG00000013597 transcript:EMSPUT00000013597 description:\"tRNA-Ala for anticodon AGC\": Warning: Sequence contains no data \r\n",
        "Warning: lcl|Query_28342 EMSPUT00000002908 cds:pseudogene supercontig:GCA_000002235.2:Scaffold546:66536:66608:-1 gene:EMSPUG00000002908 transcript:EMSPUT00000002908 description:\"tRNA-Ala for anticodon AGC\": Warning: Sequence contains no data \r\n",
        "Warning: lcl|Query_28343 EMSPUT00000011366 cds:pseudogene supercontig:GCA_000002235.2:Scaffold546:67862:67934:-1 gene:EMSPUG00000011366 transcript:EMSPUT00000011366 description:\"tRNA-Ala for anticodon AGC\": Warning: Sequence contains no data \r\n",
        "Warning: lcl|Query_28344 EMSPUT00000004615 cds:pseudogene supercontig:GCA_000002235.2:Scaffold546:71798:71870:-1 gene:EMSPUG00000004615 transcript:EMSPUT00000004615 description:\"tRNA-Ala for anticodon AGC\": Warning: Sequence contains no data \r\n",
        "Warning: lcl|Query_28345 EMSPUT00000004262 cds:pseudogene supercontig:GCA_000002235.2:Scaffold546:73514:73586:-1 gene:EMSPUG00000004262 transcript:EMSPUT00000004262 description:\"tRNA-Ala for anticodon AGC\": Warning: Sequence contains no data \r\n",
        "Warning: lcl|Query_28346 EMSPUT00000013193 cds:pseudogene supercontig:GCA_000002235.2:Scaffold546:74617:74689:-1 gene:EMSPUG00000013193 transcript:EMSPUT00000013193 description:\"tRNA-Ala for anticodon AGC\": Warning: Sequence contains no data \r\n",
        "Warning: lcl|Query_28347 EMSPUT00000005929 cds:pseudogene supercontig:GCA_000002235.2:Scaffold546:75702:75774:-1 gene:EMSPUG00000005929 transcript:EMSPUT00000005929 description:\"tRNA-Ala for anticodon AGC\": Warning: Sequence contains no data \r\n",
        "Warning: lcl|Query_28348 EMSPUT00000014933 cds:pseudogene supercontig:GCA_000002235.2:Scaffold546:76807:76879:-1 gene:EMSPUG00000014933 transcript:EMSPUT00000014933 description:\"tRNA-Ala for anticodon AGC\": Warning: Sequence contains no data \r\n",
        "Warning: lcl|Query_28349 EMSPUT00000004723 cds:pseudogene supercontig:GCA_000002235.2:Scaffold546:79215:79287:-1 gene:EMSPUG00000004723 transcript:EMSPUT00000004723 description:\"tRNA-Ala for anticodon AGC\": Warning: Sequence contains no data \r\n",
        "Warning: lcl|Query_28350 EMSPUT00000012886 cds:pseudogene supercontig:GCA_000002235.2:Scaffold546:80303:80375:-1 gene:EMSPUG00000012886 transcript:EMSPUT00000012886 description:\"tRNA-Ala for anticodon AGC\": Warning: Sequence contains no data \r\n",
        "Warning: lcl|Query_28352 EMSPUT00000006367 cds:pseudogene supercontig:GCA_000002235.2:Scaffold546:81943:82015:-1 gene:EMSPUG00000006367 transcript:EMSPUT00000006367 description:\"tRNA-Ala for anticodon AGC\": Warning: Sequence contains no data \r\n",
        "Warning: lcl|Query_28353 EMSPUT00000002722 cds:pseudogene supercontig:GCA_000002235.2:Scaffold546:83027:83099:-1 gene:EMSPUG00000002722 transcript:EMSPUT00000002722 description:\"tRNA-Ala for anticodon AGC\": Warning: Sequence contains no data \r\n",
        "Warning: lcl|Query_28354 EMSPUT00000004802 cds:pseudogene supercontig:GCA_000002235.2:Scaffold546:83688:83760:-1 gene:EMSPUG00000004802 transcript:EMSPUT00000004802 description:\"tRNA-Ala for anticodon AGC\": Warning: Sequence contains no data \r\n",
        "Warning: lcl|Query_28355 EMSPUT00000003677 cds:pseudogene supercontig:GCA_000002235.2:Scaffold546:85053:85125:-1 gene:EMSPUG00000003677 transcript:EMSPUT00000003677 description:\"tRNA-Ala for anticodon AGC\": Warning: Sequence contains no data \r\n",
        "Warning: lcl|Query_28356 EMSPUT00000010410 cds:pseudogene supercontig:GCA_000002235.2:Scaffold546:86041:86113:-1 gene:EMSPUG00000010410 transcript:EMSPUT00000010410 description:\"tRNA-Ala for anticodon AGC\": Warning: Sequence contains no data \r\n",
        "Warning: lcl|Query_28357 EMSPUT00000001344 cds:pseudogene supercontig:GCA_000002235.2:Scaffold546:87045:87117:-1 gene:EMSPUG00000001344 transcript:EMSPUT00000001344 description:\"tRNA-Ala for anticodon AGC\": Warning: Sequence contains no data \r\n",
        "Warning: lcl|Query_28358 EMSPUT00000008081 cds:pseudogene supercontig:GCA_000002235.2:Scaffold546:88032:88104:-1 gene:EMSPUG00000008081 transcript:EMSPUT00000008081 description:\"tRNA-Ala for anticodon AGC\": Warning: Sequence contains no data \r\n",
        "Warning: lcl|Query_28362 EMSPUT00000007024 cds:pseudogene supercontig:GCA_000002235.2:Scaffold546:157031:157100:-1 gene:EMSPUG00000007024 transcript:EMSPUT00000007024 description:\"tRNA-Gly for anticodon UCC\": Warning: Sequence contains no data \r\n"
       ]
      },
      {
       "output_type": "stream",
       "stream": "stdout",
       "text": [
        "Error: (1431.1) FASTA-Reader: Warning: FASTA-Reader: No residues given\r\n",
        "Error: (1431.1) FASTA-Reader: Warning: FASTA-Reader: No residues given\r\n"
       ]
      },
      {
       "output_type": "stream",
       "stream": "stdout",
       "text": [
        "Warning: lcl|Query_28403 SPU_014352-tr cds:pseudogene supercontig:GCA_000002235.2:Scaffold1491:30516:33270:-1 gene:SPU_014352 transcript:SPU_014352-tr: Warning: Sequence contains no data \r\n",
        "Warning: lcl|Query_28404 SPU_030127-tr cds:pseudogene supercontig:GCA_000002235.2:Scaffold1491:30642:31912:-1 gene:SPU_030127 transcript:SPU_030127-tr: Warning: Sequence contains no data \r\n",
        "Error: (1431.1) FASTA-Reader: Warning: FASTA-Reader: No residues given\r\n",
        "Error: (1431.1) FASTA-Reader: Warning: FASTA-Reader: No residues given\r\n"
       ]
      },
      {
       "output_type": "stream",
       "stream": "stdout",
       "text": [
        "Warning: lcl|Query_28413 SPU_000986-tr cds:pseudogene supercontig:GCA_000002235.2:Scaffold1491:54697:55697:-1 gene:SPU_000986 transcript:SPU_000986-tr: Warning: Sequence contains no data \r\n",
        "Warning: lcl|Query_28414 SPU_030122-tr cds:pseudogene supercontig:GCA_000002235.2:Scaffold1491:54952:55747:-1 gene:SPU_030122 transcript:SPU_030122-tr: Warning: Sequence contains no data \r\n",
        "Error: (1431.1) FASTA-Reader: Warning: FASTA-Reader: No residues given\r\n",
        "Error: (1431.1) FASTA-Reader: Warning: FASTA-Reader: No residues given\r\n",
        "Error: (1431.1) FASTA-Reader: Warning: FASTA-Reader: No residues given\r\n",
        "Error: (1431.1) FASTA-Reader: Warning: FASTA-Reader: No residues given\r\n",
        "Error: (1431.1) FASTA-Reader: Warning: FASTA-Reader: No residues given\r\n"
       ]
      },
      {
       "output_type": "stream",
       "stream": "stdout",
       "text": [
        "Warning: lcl|Query_28431 EMSPUT00000010085 cds:pseudogene supercontig:GCA_000002235.2:Scaffold48:372717:372792:1 gene:EMSPUG00000010085 transcript:EMSPUT00000010085 description:\"tRNA-Ser for anticodon UGA\": Warning: Sequence contains no data \r\n",
        "Warning: lcl|Query_28432 EMSPUT00000013560 cds:pseudogene supercontig:GCA_000002235.2:Scaffold48:423866:423947:1 gene:EMSPUG00000013560 transcript:EMSPUT00000013560 description:\"tRNA-Ser for anticodon GCU\": Warning: Sequence contains no data \r\n",
        "Warning: lcl|Query_28434 EMSPUT00000000886 cds:pseudogene supercontig:GCA_000002235.2:Scaffold48:530910:530981:1 gene:EMSPUG00000000886 transcript:EMSPUT00000000886 description:\"tRNA-SeC for anticodon UCA\": Warning: Sequence contains no data \r\n"
       ]
      },
      {
       "output_type": "stream",
       "stream": "stdout",
       "text": [
        "Warning: lcl|Query_28439 EMSPUT00000011450 cds:pseudogene supercontig:GCA_000002235.2:Scaffold48:751993:752074:1 gene:EMSPUG00000011450 transcript:EMSPUT00000011450 description:\"tRNA-Ser for anticodon UGA\": Warning: Sequence contains no data \r\n",
        "Warning: lcl|Query_28440 EMSPUT00000007200 cds:pseudogene supercontig:GCA_000002235.2:Scaffold48:752718:752799:1 gene:EMSPUG00000007200 transcript:EMSPUT00000007200 description:\"tRNA-Ser for anticodon CGA\": Warning: Sequence contains no data \r\n",
        "Error: (1431.1) FASTA-Reader: Warning: FASTA-Reader: No residues given\r\n"
       ]
      },
      {
       "output_type": "stream",
       "stream": "stdout",
       "text": [
        "Warning: lcl|Query_28454 EMSPUT00000005883 cds:pseudogene supercontig:GCA_000002235.2:Scaffold1117:102995:103067:-1 gene:EMSPUG00000005883 transcript:EMSPUT00000005883 description:\"tRNA-Met for anticodon CAU\": Warning: Sequence contains no data \r\n"
       ]
      },
      {
       "output_type": "stream",
       "stream": "stdout",
       "text": [
        "Error: (1431.1) FASTA-Reader: Warning: FASTA-Reader: No residues given\r\n"
       ]
      },
      {
       "output_type": "stream",
       "stream": "stdout",
       "text": [
        "Error: (1431.1) FASTA-Reader: Warning: FASTA-Reader: No residues given\r\n"
       ]
      },
      {
       "output_type": "stream",
       "stream": "stdout",
       "text": [
        "Warning: lcl|Query_28479 EMSPUT00000007336 cds:pseudogene supercontig:GCA_000002235.2:Scaffold1101:134780:134854:-1 gene:EMSPUG00000007336 transcript:EMSPUT00000007336 description:\"tRNA-SeC for anticodon UCA\": Warning: Sequence contains no data \r\n",
        "Warning: lcl|Query_28486 EMSPUT00000010158 cds:pseudogene supercontig:GCA_000002235.2:Scaffold200:8182:8254:1 gene:EMSPUG00000010158 transcript:EMSPUT00000010158 description:\"tRNA-Met for anticodon CAU\": Warning: Sequence contains no data \r\n"
       ]
      },
      {
       "output_type": "stream",
       "stream": "stdout",
       "text": [
        "Error: (1431.1) FASTA-Reader: Warning: FASTA-Reader: No residues given\r\n"
       ]
      },
      {
       "output_type": "stream",
       "stream": "stdout",
       "text": [
        "Warning: lcl|Query_28546 EMSPUT00000005942 cds:pseudogene supercontig:GCA_000002235.2:Scaffold1678:125330:125402:-1 gene:EMSPUG00000005942 transcript:EMSPUT00000005942 description:\"tRNA-Met for anticodon CAU\": Warning: Sequence contains no data \r\n"
       ]
      },
      {
       "output_type": "stream",
       "stream": "stdout",
       "text": [
        "Error: (1431.1) FASTA-Reader: Warning: FASTA-Reader: No residues given\r\n"
       ]
      },
      {
       "output_type": "stream",
       "stream": "stdout",
       "text": [
        "Warning: lcl|Query_28609 EMSPUT00000001590 cds:pseudogene supercontig:GCA_000002235.2:Scaffold3917:13011:13083:1 gene:EMSPUG00000001590 transcript:EMSPUT00000001590 description:\"tRNA-Met for anticodon CAU\": Warning: Sequence contains no data \r\n"
       ]
      },
      {
       "output_type": "stream",
       "stream": "stdout",
       "text": [
        "Error: (1431.1) FASTA-Reader: Warning: FASTA-Reader: No residues given\r\n"
       ]
      },
      {
       "output_type": "stream",
       "stream": "stdout",
       "text": [
        "Warning: lcl|Query_28632 EMSPUT00000012383 cds:pseudogene supercontig:GCA_000002235.2:Scaffold550:354284:354355:-1 gene:EMSPUG00000012383 transcript:EMSPUT00000012383 description:\"tRNA-His for anticodon GUG\": Warning: Sequence contains no data \r\n",
        "Error: (1431.1) FASTA-Reader: Warning: FASTA-Reader: No residues given\r\n"
       ]
      },
      {
       "output_type": "stream",
       "stream": "stdout",
       "text": [
        "Warning: lcl|Query_28642 EMSPUT00000011564 cds:pseudogene supercontig:GCA_000002235.2:Scaffold514:158882:158954:-1 gene:EMSPUG00000011564 transcript:EMSPUT00000011564 description:\"tRNA-Met for anticodon CAU\": Warning: Sequence contains no data \r\n"
       ]
      },
      {
       "output_type": "stream",
       "stream": "stdout",
       "text": [
        "Error: (1431.1) FASTA-Reader: Warning: FASTA-Reader: No residues given\r\n"
       ]
      },
      {
       "output_type": "stream",
       "stream": "stdout",
       "text": [
        "Warning: lcl|Query_28675 EMSPUT00000011138 cds:pseudogene supercontig:GCA_000002235.2:Scaffold2363:64951:65025:-1 gene:EMSPUG00000011138 transcript:EMSPUT00000011138 description:\"tRNA-Gln for anticodon CUG\": Warning: Sequence contains no data \r\n"
       ]
      },
      {
       "output_type": "stream",
       "stream": "stdout",
       "text": [
        "Error: (1431.1) FASTA-Reader: Warning: FASTA-Reader: No residues given\r\n"
       ]
      },
      {
       "output_type": "stream",
       "stream": "stdout",
       "text": [
        "Warning: lcl|Query_28697 EMSPUT00000012060 cds:pseudogene supercontig:GCA_000002235.2:Scaffold1743:95649:95719:1 gene:EMSPUG00000012060 transcript:EMSPUT00000012060 description:\"tRNA-Gly for anticodon GCC\": Warning: Sequence contains no data \r\n"
       ]
      },
      {
       "output_type": "stream",
       "stream": "stdout",
       "text": [
        "Error: (1431.1) FASTA-Reader: Warning: FASTA-Reader: No residues given\r\n"
       ]
      },
      {
       "output_type": "stream",
       "stream": "stdout",
       "text": [
        "Warning: lcl|Query_28735 EMSPUT00000014093 cds:pseudogene supercontig:GCA_000002235.2:Scaffold1150:15314:15388:1 gene:EMSPUG00000014093 transcript:EMSPUT00000014093 description:\"tRNA-His for anticodon AUG\": Warning: Sequence contains no data \r\n"
       ]
      },
      {
       "output_type": "stream",
       "stream": "stdout",
       "text": [
        "Error: (1431.1) FASTA-Reader: Warning: FASTA-Reader: No residues given\r\n",
        "Error: (1431.1) FASTA-Reader: Warning: FASTA-Reader: No residues given\r\n"
       ]
      },
      {
       "output_type": "stream",
       "stream": "stdout",
       "text": [
        "Warning: lcl|Query_28749 EMSPUT00000004388 cds:pseudogene supercontig:GCA_000002235.2:Scaffold1552:27528:27602:-1 gene:EMSPUG00000004388 transcript:EMSPUT00000004388 description:\"tRNA-Cys for anticodon GCA\": Warning: Sequence contains no data \r\n",
        "Warning: lcl|Query_28751 EMSPUT00000013501 cds:pseudogene supercontig:GCA_000002235.2:Scaffold21479:583:654:-1 gene:EMSPUG00000013501 transcript:EMSPUT00000013501 description:\"tRNA-Asp for anticodon GUC\": Warning: Sequence contains no data \r\n",
        "Error: (1431.1) FASTA-Reader: Warning: FASTA-Reader: No residues given\r\n",
        "Error: (1431.1) FASTA-Reader: Warning: FASTA-Reader: No residues given\r\n"
       ]
      },
      {
       "output_type": "stream",
       "stream": "stdout",
       "text": [
        "Warning: lcl|Query_28765 SPU_010940-tr cds:pseudogene supercontig:GCA_000002235.2:Scaffold1180:151782:154438:-1 gene:SPU_010940 transcript:SPU_010940-tr: Warning: Sequence contains no data \r\n",
        "Warning: lcl|Query_28775 EMSPUT00000006270 cds:pseudogene supercontig:GCA_000002235.2:Scaffold12846:406:478:1 gene:EMSPUG00000006270 transcript:EMSPUT00000006270 description:\"tRNA-Met for anticodon CAU\": Warning: Sequence contains no data \r\n",
        "Error: (1431.1) FASTA-Reader: Warning: FASTA-Reader: No residues given\r\n",
        "Error: (1431.1) FASTA-Reader: Warning: FASTA-Reader: No residues given\r\n"
       ]
      },
      {
       "output_type": "stream",
       "stream": "stdout",
       "text": [
        "Warning: lcl|Query_28780 SPU_015080-tr cds:pseudogene supercontig:GCA_000002235.2:Scaffold584:94125:112908:-1 gene:SPU_015080 transcript:SPU_015080-tr: Warning: Sequence contains no data \r\n",
        "Warning: lcl|Query_28781 EMSPUT00000011634 cds:pseudogene supercontig:GCA_000002235.2:Scaffold584:116563:116636:-1 gene:EMSPUG00000011634 transcript:EMSPUT00000011634 description:\"tRNA-Asn for anticodon GUU\": Warning: Sequence contains no data \r\n",
        "Error: (1431.1) FASTA-Reader: Warning: FASTA-Reader: No residues given\r\n",
        "Error: (1431.1) FASTA-Reader: Warning: FASTA-Reader: No residues given\r\n"
       ]
      },
      {
       "output_type": "stream",
       "stream": "stdout",
       "text": [
        "Warning: lcl|Query_28792 EMSPUT00000009415 cds:pseudogene supercontig:GCA_000002235.2:Scaffold31202:415:487:-1 gene:EMSPUG00000009415 transcript:EMSPUT00000009415 description:\"tRNA-Thr for anticodon UGU\": Warning: Sequence contains no data \r\n",
        "Warning: lcl|Query_28798 EMSPUT00000000720 cds:pseudogene supercontig:GCA_000002235.2:Scaffold1558:145937:146011:-1 gene:EMSPUG00000000720 transcript:EMSPUT00000000720 description:\"tRNA-Glu for anticodon CUC\": Warning: Sequence contains no data \r\n"
       ]
      },
      {
       "output_type": "stream",
       "stream": "stdout",
       "text": [
        "Error: (1431.1) FASTA-Reader: Warning: FASTA-Reader: No residues given\r\n",
        "Error: (1431.1) FASTA-Reader: Warning: FASTA-Reader: No residues given\r\n",
        "Error: (1431.1) FASTA-Reader: Warning: FASTA-Reader: No residues given\r\n"
       ]
      },
      {
       "output_type": "stream",
       "stream": "stdout",
       "text": [
        "Warning: lcl|Query_28831 EMSPUT00000000500 cds:pseudogene supercontig:GCA_000002235.2:Scaffold1739:34846:34918:1 gene:EMSPUG00000000500 transcript:EMSPUT00000000500 description:\"tRNA-Ala for anticodon AGC\": Warning: Sequence contains no data \r\n",
        "Warning: lcl|Query_28832 EMSPUT00000000267 cds:pseudogene supercontig:GCA_000002235.2:Scaffold1739:36291:36363:1 gene:EMSPUG00000000267 transcript:EMSPUT00000000267 description:\"tRNA-Ala for anticodon UGC\": Warning: Sequence contains no data \r\n",
        "Warning: lcl|Query_28833 EMSPUT00000009209 cds:pseudogene supercontig:GCA_000002235.2:Scaffold1739:38885:38957:1 gene:EMSPUG00000009209 transcript:EMSPUT00000009209 description:\"tRNA-Ala for anticodon UGC\": Warning: Sequence contains no data \r\n"
       ]
      },
      {
       "output_type": "stream",
       "stream": "stdout",
       "text": [
        "Error: (1431.1) FASTA-Reader: Warning: FASTA-Reader: No residues given\r\n"
       ]
      },
      {
       "output_type": "stream",
       "stream": "stdout",
       "text": [
        "Warning: lcl|Query_28870 EMSPUT00000001105 cds:pseudogene supercontig:GCA_000002235.2:Scaffold362:209319:209394:1 gene:EMSPUG00000001105 transcript:EMSPUT00000001105 description:\"tRNA-Lys for anticodon UUU\": Warning: Sequence contains no data \r\n"
       ]
      },
      {
       "output_type": "stream",
       "stream": "stdout",
       "text": [
        "Error: (1431.1) FASTA-Reader: Warning: FASTA-Reader: No residues given\r\n"
       ]
      },
      {
       "output_type": "stream",
       "stream": "stdout",
       "text": [
        "Warning: lcl|Query_28929 SPU_006218-tr cds:pseudogene supercontig:GCA_000002235.2:Scaffold1052:50264:53089:1 gene:SPU_006218 transcript:SPU_006218-tr: Warning: Sequence contains no data \r\n",
        "Error: (1431.1) FASTA-Reader: Warning: FASTA-Reader: No residues given\r\n",
        "Error: (1431.1) FASTA-Reader: Warning: FASTA-Reader: No residues given\r\n"
       ]
      },
      {
       "output_type": "stream",
       "stream": "stdout",
       "text": [
        "Warning: lcl|Query_28943 EMSPUT00000010695 cds:pseudogene supercontig:GCA_000002235.2:Scaffold2242:26830:26902:-1 gene:EMSPUG00000010695 transcript:EMSPUT00000010695 description:\"tRNA-Arg for anticodon ACG\": Warning: Sequence contains no data \r\n",
        "Warning: lcl|Query_28949 EMSPUT00000013502 cds:pseudogene supercontig:GCA_000002235.2:Scaffold590:9079:9157:1 gene:EMSPUG00000013502 transcript:EMSPUT00000013502 description:\"tRNA-Thr for anticodon CGU\": Warning: Sequence contains no data \r\n",
        "Error: (1431.1) FASTA-Reader: Warning: FASTA-Reader: No residues given\r\n"
       ]
      },
      {
       "output_type": "stream",
       "stream": "stdout",
       "text": [
        "Warning: lcl|Query_28973 EMSPUT00000009549 cds:pseudogene supercontig:GCA_000002235.2:Scaffold7631:2407:2478:-1 gene:EMSPUG00000009549 transcript:EMSPUT00000009549 description:\"tRNA-Gln for anticodon CUG\": Warning: Sequence contains no data \r\n"
       ]
      },
      {
       "output_type": "stream",
       "stream": "stdout",
       "text": [
        "Error: (1431.1) FASTA-Reader: Warning: FASTA-Reader: No residues given\r\n",
        "Error: (1431.1) FASTA-Reader: Warning: FASTA-Reader: No residues given\r\n"
       ]
      },
      {
       "output_type": "stream",
       "stream": "stdout",
       "text": [
        "Warning: lcl|Query_29007 EMSPUT00000011538 cds:pseudogene supercontig:GCA_000002235.2:Scaffold1790:32219:32291:-1 gene:EMSPUG00000011538 transcript:EMSPUT00000011538 description:\"tRNA-Lys for anticodon UUU\": Warning: Sequence contains no data \r\n",
        "Warning: lcl|Query_29011 EMSPUT00000002536 cds:pseudogene supercontig:GCA_000002235.2:Scaffold21388:502:574:1 gene:EMSPUG00000002536 transcript:EMSPUT00000002536 description:\"tRNA-Met for anticodon CAU\": Warning: Sequence contains no data \r\n"
       ]
      },
      {
       "output_type": "stream",
       "stream": "stdout",
       "text": [
        "Error: (1431.1) FASTA-Reader: Warning: FASTA-Reader: No residues given\r\n"
       ]
      },
      {
       "output_type": "stream",
       "stream": "stdout",
       "text": [
        "Warning: lcl|Query_29040 EMSPUT00000000719 cds:pseudogene supercontig:GCA_000002235.2:Scaffold471:223552:223624:1 gene:EMSPUG00000000719 transcript:EMSPUT00000000719 description:\"tRNA-Met for anticodon CAU\": Warning: Sequence contains no data \r\n"
       ]
      },
      {
       "output_type": "stream",
       "stream": "stdout",
       "text": [
        "Error: (1431.1) FASTA-Reader: Warning: FASTA-Reader: No residues given\r\n"
       ]
      },
      {
       "output_type": "stream",
       "stream": "stdout",
       "text": [
        "Warning: lcl|Query_29090 EMSPUT00000000266 cds:pseudogene supercontig:GCA_000002235.2:Scaffold288:539101:539172:-1 gene:EMSPUG00000000266 transcript:EMSPUT00000000266 description:\"tRNA-Cys for anticodon GCA\": Warning: Sequence contains no data \r\n"
       ]
      },
      {
       "output_type": "stream",
       "stream": "stdout",
       "text": [
        "Error: (1431.1) FASTA-Reader: Warning: FASTA-Reader: No residues given\r\n",
        "Error: (1431.1) FASTA-Reader: Warning: FASTA-Reader: No residues given\r\n",
        "Error: (1431.1) FASTA-Reader: Warning: FASTA-Reader: No residues given\r\n",
        "Error: (1431.1) FASTA-Reader: Warning: FASTA-Reader: No residues given\r\n",
        "Error: (1431.1) FASTA-Reader: Warning: FASTA-Reader: No residues given\r\n",
        "Error: (1431.1) FASTA-Reader: Warning: FASTA-Reader: No residues given\r\n",
        "Error: (1431.1) FASTA-Reader: Warning: FASTA-Reader: No residues given\r\n",
        "Error: (1431.1) FASTA-Reader: Warning: FASTA-Reader: No residues given\r\n",
        "Error: (1431.1) FASTA-Reader: Warning: FASTA-Reader: No residues given\r\n",
        "Error: (1431.1) FASTA-Reader: Warning: FASTA-Reader: No residues given\r\n",
        "Error: (1431.1) FASTA-Reader: Warning: FASTA-Reader: No residues given\r\n",
        "Error: (1431.1) FASTA-Reader: Warning: FASTA-Reader: No residues given\r\n",
        "Error: (1431.1) FASTA-Reader: Warning: FASTA-Reader: No residues given\r\n",
        "Error: (1431.1) FASTA-Reader: Warning: FASTA-Reader: No residues given\r\n",
        "Error: (1431.1) FASTA-Reader: Warning: FASTA-Reader: No residues given\r\n",
        "Error: (1431.1) FASTA-Reader: Warning: FASTA-Reader: No residues given\r\n",
        "Error: (1431.1) FASTA-Reader: Warning: FASTA-Reader: No residues given\r\n"
       ]
      },
      {
       "output_type": "stream",
       "stream": "stdout",
       "text": [
        "Warning: lcl|Query_29133 EMSPUT00000011826 cds:pseudogene supercontig:GCA_000002235.2:Scaffold346:234890:234962:-1 gene:EMSPUG00000011826 transcript:EMSPUT00000011826 description:\"tRNA-Arg for anticodon CCU\": Warning: Sequence contains no data \r\n",
        "Warning: lcl|Query_29134 EMSPUT00000003905 cds:pseudogene supercontig:GCA_000002235.2:Scaffold346:235742:235813:-1 gene:EMSPUG00000003905 transcript:EMSPUT00000003905 description:\"tRNA-Arg for anticodon CCU\": Warning: Sequence contains no data \r\n",
        "Warning: lcl|Query_29135 EMSPUT00000014150 cds:pseudogene supercontig:GCA_000002235.2:Scaffold346:241940:242012:-1 gene:EMSPUG00000014150 transcript:EMSPUT00000014150 description:\"tRNA-Arg for anticodon UCU\": Warning: Sequence contains no data \r\n",
        "Warning: lcl|Query_29136 EMSPUT00000005099 cds:pseudogene supercontig:GCA_000002235.2:Scaffold346:242314:242386:-1 gene:EMSPUG00000005099 transcript:EMSPUT00000005099 description:\"tRNA-Arg for anticodon CCU\": Warning: Sequence contains no data \r\n",
        "Warning: lcl|Query_29137 EMSPUT00000001187 cds:pseudogene supercontig:GCA_000002235.2:Scaffold346:242831:242903:-1 gene:EMSPUG00000001187 transcript:EMSPUT00000001187 description:\"tRNA-Arg for anticodon UCU\": Warning: Sequence contains no data \r\n",
        "Warning: lcl|Query_29138 EMSPUT00000012903 cds:pseudogene supercontig:GCA_000002235.2:Scaffold346:243875:243947:-1 gene:EMSPUG00000012903 transcript:EMSPUT00000012903 description:\"tRNA-Arg for anticodon UCU\": Warning: Sequence contains no data \r\n",
        "Warning: lcl|Query_29139 EMSPUT00000006356 cds:pseudogene supercontig:GCA_000002235.2:Scaffold346:244242:244314:-1 gene:EMSPUG00000006356 transcript:EMSPUT00000006356 description:\"tRNA-Arg for anticodon CCU\": Warning: Sequence contains no data \r\n",
        "Warning: lcl|Query_29140 EMSPUT00000006486 cds:pseudogene supercontig:GCA_000002235.2:Scaffold346:244770:244842:1 gene:EMSPUG00000006486 transcript:EMSPUT00000006486 description:\"tRNA-Arg for anticodon UCU\": Warning: Sequence contains no data \r\n",
        "Warning: lcl|Query_29141 EMSPUT00000011814 cds:pseudogene supercontig:GCA_000002235.2:Scaffold346:245096:245168:1 gene:EMSPUG00000011814 transcript:EMSPUT00000011814 description:\"tRNA-Arg for anticodon CCU\": Warning: Sequence contains no data \r\n",
        "Warning: lcl|Query_29142 EMSPUT00000005129 cds:pseudogene supercontig:GCA_000002235.2:Scaffold346:245467:245539:1 gene:EMSPUG00000005129 transcript:EMSPUT00000005129 description:\"tRNA-Arg for anticodon UCU\": Warning: Sequence contains no data \r\n",
        "Warning: lcl|Query_29143 EMSPUT00000010761 cds:pseudogene supercontig:GCA_000002235.2:Scaffold346:246010:246082:1 gene:EMSPUG00000010761 transcript:EMSPUT00000010761 description:\"tRNA-Arg for anticodon CCU\": Warning: Sequence contains no data \r\n",
        "Warning: lcl|Query_29144 EMSPUT00000003800 cds:pseudogene supercontig:GCA_000002235.2:Scaffold346:246382:246453:1 gene:EMSPUG00000003800 transcript:EMSPUT00000003800 description:\"tRNA-Arg for anticodon UCU\": Warning: Sequence contains no data \r\n",
        "Warning: lcl|Query_29145 EMSPUT00000008521 cds:pseudogene supercontig:GCA_000002235.2:Scaffold346:246753:246825:1 gene:EMSPUG00000008521 transcript:EMSPUT00000008521 description:\"tRNA-Arg for anticodon UCU\": Warning: Sequence contains no data \r\n",
        "Warning: lcl|Query_29146 EMSPUT00000001714 cds:pseudogene supercontig:GCA_000002235.2:Scaffold346:247264:247336:1 gene:EMSPUG00000001714 transcript:EMSPUT00000001714 description:\"tRNA-Arg for anticodon CCU\": Warning: Sequence contains no data \r\n",
        "Warning: lcl|Query_29147 EMSPUT00000004390 cds:pseudogene supercontig:GCA_000002235.2:Scaffold346:247635:247707:1 gene:EMSPUG00000004390 transcript:EMSPUT00000004390 description:\"tRNA-Arg for anticodon UCU\": Warning: Sequence contains no data \r\n",
        "Warning: lcl|Query_29148 EMSPUT00000015155 cds:pseudogene supercontig:GCA_000002235.2:Scaffold346:248195:248267:-1 gene:EMSPUG00000015155 transcript:EMSPUT00000015155 description:\"tRNA-Arg for anticodon UCU\": Warning: Sequence contains no data \r\n",
        "Warning: lcl|Query_29149 EMSPUT00000010175 cds:pseudogene supercontig:GCA_000002235.2:Scaffold346:248571:248643:-1 gene:EMSPUG00000010175 transcript:EMSPUT00000010175 description:\"tRNA-Arg for anticodon CCU\": Warning: Sequence contains no data \r\n",
        "Error: (1431.1) FASTA-Reader: Warning: FASTA-Reader: No residues given\r\n"
       ]
      },
      {
       "output_type": "stream",
       "stream": "stdout",
       "text": [
        "Warning: lcl|Query_29151 EMSPUT00000002652 cds:pseudogene supercontig:GCA_000002235.2:Scaffold346:262404:262476:-1 gene:EMSPUG00000002652 transcript:EMSPUT00000002652 description:\"tRNA-Arg for anticodon UCG\": Warning: Sequence contains no data \r\n",
        "Error: (1431.1) FASTA-Reader: Warning: FASTA-Reader: No residues given\r\n",
        "Error: (1431.1) FASTA-Reader: Warning: FASTA-Reader: No residues given\r\n",
        "Error: (1431.1) FASTA-Reader: Warning: FASTA-Reader: No residues given\r\n"
       ]
      },
      {
       "output_type": "stream",
       "stream": "stdout",
       "text": [
        "Warning: lcl|Query_29189 EMSPUT00000014194 cds:pseudogene supercontig:GCA_000002235.2:Scaffold3958:8780:8853:1 gene:EMSPUG00000014194 transcript:EMSPUT00000014194 description:\"tRNA-Arg for anticodon UCU\": Warning: Sequence contains no data \r\n",
        "Warning: lcl|Query_29191 EMSPUT00000007478 cds:pseudogene supercontig:GCA_000002235.2:Scaffold2168:5446:5528:-1 gene:EMSPUG00000007478 transcript:EMSPUT00000007478 description:\"tRNA-Pro for anticodon CGG\": Warning: Sequence contains no data \r\n",
        "Warning: lcl|Query_29194 EMSPUT00000009600 cds:pseudogene supercontig:GCA_000002235.2:Scaffold298:58546:58618:1 gene:EMSPUG00000009600 transcript:EMSPUT00000009600 description:\"tRNA-Met for anticodon CAU\": Warning: Sequence contains no data \r\n"
       ]
      },
      {
       "output_type": "stream",
       "stream": "stdout",
       "text": [
        "Error: (1431.1) FASTA-Reader: Warning: FASTA-Reader: No residues given\r\n",
        "Error: (1431.1) FASTA-Reader: Warning: FASTA-Reader: No residues given\r\n",
        "Error: (1431.1) FASTA-Reader: Warning: FASTA-Reader: No residues given\r\n"
       ]
      },
      {
       "output_type": "stream",
       "stream": "stdout",
       "text": [
        "Warning: lcl|Query_29219 EMSPUT00000002271 cds:pseudogene supercontig:GCA_000002235.2:Scaffold1120:97622:97694:-1 gene:EMSPUG00000002271 transcript:EMSPUT00000002271 description:\"tRNA-Met for anticodon CAU\": Warning: Sequence contains no data \r\n",
        "Warning: lcl|Query_29231 EMSPUT00000005940 cds:pseudogene supercontig:GCA_000002235.2:Scaffold3294:34101:34173:-1 gene:EMSPUG00000005940 transcript:EMSPUT00000005940 description:\"tRNA-Met for anticodon CAU\": Warning: Sequence contains no data \r\n",
        "Warning: lcl|Query_29233 EMSPUT00000001225 cds:pseudogene supercontig:GCA_000002235.2:Scaffold2368:8976:9047:1 gene:EMSPUG00000001225 transcript:EMSPUT00000001225 description:\"tRNA-Gly for anticodon UCC\": Warning: Sequence contains no data \r\n"
       ]
      },
      {
       "output_type": "stream",
       "stream": "stdout",
       "text": [
        "Error: (1431.1) FASTA-Reader: Warning: FASTA-Reader: No residues given\r\n",
        "Error: (1431.1) FASTA-Reader: Warning: FASTA-Reader: No residues given\r\n"
       ]
      },
      {
       "output_type": "stream",
       "stream": "stdout",
       "text": [
        "Warning: lcl|Query_29248 EMSPUT00000008558 cds:pseudogene supercontig:GCA_000002235.2:Scaffold498:321297:321369:1 gene:EMSPUG00000008558 transcript:EMSPUT00000008558 description:\"tRNA-Met for anticodon CAU\": Warning: Sequence contains no data \r\n",
        "Warning: lcl|Query_29257 EMSPUT00000011637 cds:pseudogene supercontig:GCA_000002235.2:Scaffold213:296437:296518:-1 gene:EMSPUG00000011637 transcript:EMSPUT00000011637 description:\"tRNA-Leu for anticodon UAG\": Warning: Sequence contains no data \r\n",
        "Error: (1431.1) FASTA-Reader: Warning: FASTA-Reader: No residues given\r\n",
        "Error: (1431.1) FASTA-Reader: Warning: FASTA-Reader: No residues given\r\n"
       ]
      },
      {
       "output_type": "stream",
       "stream": "stdout",
       "text": [
        "Warning: lcl|Query_29272 EMSPUT00000010445 cds:pseudogene supercontig:GCA_000002235.2:Scaffold213:636400:636471:1 gene:EMSPUG00000010445 transcript:EMSPUT00000010445 description:\"tRNA-Glu for anticodon CUC\": Warning: Sequence contains no data \r\n",
        "Warning: lcl|Query_29273 EMSPUT00000003821 cds:pseudogene supercontig:GCA_000002235.2:Scaffold213:639209:639280:1 gene:EMSPUG00000003821 transcript:EMSPUT00000003821 description:\"tRNA-Glu for anticodon CUC\": Warning: Sequence contains no data \r\n",
        "Error: (1431.1) FASTA-Reader: Warning: FASTA-Reader: No residues given\r\n"
       ]
      },
      {
       "output_type": "stream",
       "stream": "stdout",
       "text": [
        "Warning: lcl|Query_29285 EMSPUT00000008778 cds:pseudogene supercontig:GCA_000002235.2:Scaffold12859:73:143:-1 gene:EMSPUG00000008778 transcript:EMSPUT00000008778 description:\"tRNA-Asp for anticodon AUC\": Warning: Sequence contains no data \r\n"
       ]
      },
      {
       "output_type": "stream",
       "stream": "stdout",
       "text": [
        "Error: (1431.1) FASTA-Reader: Warning: FASTA-Reader: No residues given\r\n",
        "Error: (1431.1) FASTA-Reader: Warning: FASTA-Reader: No residues given\r\n",
        "Error: (1431.1) FASTA-Reader: Warning: FASTA-Reader: No residues given\r\n",
        "Error: (1431.1) FASTA-Reader: Warning: FASTA-Reader: No residues given\r\n",
        "Error: (1431.1) FASTA-Reader: Warning: FASTA-Reader: No residues given\r\n",
        "Error: (1431.1) FASTA-Reader: Warning: FASTA-Reader: No residues given\r\n",
        "Error: (1431.1) FASTA-Reader: Warning: FASTA-Reader: No residues given\r\n",
        "Error: (1431.1) FASTA-Reader: Warning: FASTA-Reader: No residues given\r\n",
        "Error: (1431.1) FASTA-Reader: Warning: FASTA-Reader: No residues given\r\n",
        "Error: (1431.1) FASTA-Reader: Warning: FASTA-Reader: No residues given\r\n",
        "Error: (1431.1) FASTA-Reader: Warning: FASTA-Reader: No residues given\r\n",
        "Error: (1431.1) FASTA-Reader: Warning: FASTA-Reader: No residues given\r\n",
        "Error: (1431.1) FASTA-Reader: Warning: FASTA-Reader: No residues given\r\n",
        "Error: (1431.1) FASTA-Reader: Warning: FASTA-Reader: No residues given\r\n",
        "Error: (1431.1) FASTA-Reader: Warning: FASTA-Reader: No residues given\r\n",
        "Error: (1431.1) FASTA-Reader: Warning: FASTA-Reader: No residues given\r\n",
        "Error: (1431.1) FASTA-Reader: Warning: FASTA-Reader: No residues given\r\n",
        "Error: (1431.1) FASTA-Reader: Warning: FASTA-Reader: No residues given\r\n",
        "Error: (1431.1) FASTA-Reader: Warning: FASTA-Reader: No residues given\r\n",
        "Error: (1431.1) FASTA-Reader: Warning: FASTA-Reader: No residues given\r\n",
        "Error: (1431.1) FASTA-Reader: Warning: FASTA-Reader: No residues given\r\n",
        "Error: (1431.1) FASTA-Reader: Warning: FASTA-Reader: No residues given\r\n",
        "Error: (1431.1) FASTA-Reader: Warning: FASTA-Reader: No residues given\r\n",
        "Error: (1431.1) FASTA-Reader: Warning: FASTA-Reader: No residues given\r\n",
        "Error: (1431.1) FASTA-Reader: Warning: FASTA-Reader: No residues given\r\n",
        "Error: (1431.1) FASTA-Reader: Warning: FASTA-Reader: No residues given\r\n",
        "Error: (1431.1) FASTA-Reader: Warning: FASTA-Reader: No residues given\r\n",
        "Error: (1431.1) FASTA-Reader: Warning: FASTA-Reader: No residues given\r\n"
       ]
      },
      {
       "output_type": "stream",
       "stream": "stdout",
       "text": [
        "Warning: lcl|Query_29319 EMSPUT00000008719 cds:pseudogene supercontig:GCA_000002235.2:Scaffold72:1068122:1068193:1 gene:EMSPUG00000008719 transcript:EMSPUT00000008719 description:\"tRNA-Met for anticodon CAU\": Warning: Sequence contains no data \r\n",
        "Warning: lcl|Query_29320 EMSPUT00000002519 cds:pseudogene supercontig:GCA_000002235.2:Scaffold72:1068721:1068792:1 gene:EMSPUG00000002519 transcript:EMSPUT00000002519 description:\"tRNA-Met for anticodon CAU\": Warning: Sequence contains no data \r\n",
        "Warning: lcl|Query_29321 EMSPUT00000011466 cds:pseudogene supercontig:GCA_000002235.2:Scaffold72:1069566:1069637:1 gene:EMSPUG00000011466 transcript:EMSPUT00000011466 description:\"tRNA-Met for anticodon CAU\": Warning: Sequence contains no data \r\n",
        "Warning: lcl|Query_29322 EMSPUT00000003238 cds:pseudogene supercontig:GCA_000002235.2:Scaffold72:1070230:1070301:1 gene:EMSPUG00000003238 transcript:EMSPUT00000003238 description:\"tRNA-Met for anticodon CAU\": Warning: Sequence contains no data \r\n",
        "Warning: lcl|Query_29323 EMSPUT00000004322 cds:pseudogene supercontig:GCA_000002235.2:Scaffold72:1070849:1070920:1 gene:EMSPUG00000004322 transcript:EMSPUT00000004322 description:\"tRNA-Met for anticodon CAU\": Warning: Sequence contains no data \r\n",
        "Warning: lcl|Query_29324 EMSPUT00000014660 cds:pseudogene supercontig:GCA_000002235.2:Scaffold72:1071440:1071511:1 gene:EMSPUG00000014660 transcript:EMSPUT00000014660 description:\"tRNA-Met for anticodon CAU\": Warning: Sequence contains no data \r\n",
        "Warning: lcl|Query_29325 EMSPUT00000007628 cds:pseudogene supercontig:GCA_000002235.2:Scaffold72:1072921:1072994:1 gene:EMSPUG00000007628 transcript:EMSPUT00000007628 description:\"tRNA-Met for anticodon CAU\": Warning: Sequence contains no data \r\n",
        "Warning: lcl|Query_29326 EMSPUT00000003535 cds:pseudogene supercontig:GCA_000002235.2:Scaffold72:1073446:1073517:1 gene:EMSPUG00000003535 transcript:EMSPUT00000003535 description:\"tRNA-Met for anticodon CAU\": Warning: Sequence contains no data \r\n",
        "Warning: lcl|Query_29327 EMSPUT00000012192 cds:pseudogene supercontig:GCA_000002235.2:Scaffold72:1074349:1074420:1 gene:EMSPUG00000012192 transcript:EMSPUT00000012192 description:\"tRNA-Met for anticodon CAU\": Warning: Sequence contains no data \r\n",
        "Warning: lcl|Query_29328 EMSPUT00000005762 cds:pseudogene supercontig:GCA_000002235.2:Scaffold72:1075121:1075192:1 gene:EMSPUG00000005762 transcript:EMSPUT00000005762 description:\"tRNA-Met for anticodon CAU\": Warning: Sequence contains no data \r\n",
        "Warning: lcl|Query_29329 EMSPUT00000014520 cds:pseudogene supercontig:GCA_000002235.2:Scaffold72:1075885:1075956:1 gene:EMSPUG00000014520 transcript:EMSPUT00000014520 description:\"tRNA-Met for anticodon CAU\": Warning: Sequence contains no data \r\n",
        "Warning: lcl|Query_29330 EMSPUT00000008056 cds:pseudogene supercontig:GCA_000002235.2:Scaffold72:1076579:1076650:1 gene:EMSPUG00000008056 transcript:EMSPUT00000008056 description:\"tRNA-Met for anticodon CAU\": Warning: Sequence contains no data \r\n",
        "Warning: lcl|Query_29331 EMSPUT00000000920 cds:pseudogene supercontig:GCA_000002235.2:Scaffold72:1077167:1077238:1 gene:EMSPUG00000000920 transcript:EMSPUT00000000920 description:\"tRNA-Met for anticodon CAU\": Warning: Sequence contains no data \r\n",
        "Warning: lcl|Query_29332 EMSPUT00000010246 cds:pseudogene supercontig:GCA_000002235.2:Scaffold72:1077770:1077841:1 gene:EMSPUG00000010246 transcript:EMSPUT00000010246 description:\"tRNA-Met for anticodon CAU\": Warning: Sequence contains no data \r\n",
        "Warning: lcl|Query_29333 EMSPUT00000003220 cds:pseudogene supercontig:GCA_000002235.2:Scaffold72:1078543:1078614:1 gene:EMSPUG00000003220 transcript:EMSPUT00000003220 description:\"tRNA-Met for anticodon CAU\": Warning: Sequence contains no data \r\n",
        "Warning: lcl|Query_29334 EMSPUT00000003353 cds:pseudogene supercontig:GCA_000002235.2:Scaffold72:1079209:1079280:1 gene:EMSPUG00000003353 transcript:EMSPUT00000003353 description:\"tRNA-Met for anticodon CAU\": Warning: Sequence contains no data \r\n",
        "Warning: lcl|Query_29335 EMSPUT00000010127 cds:pseudogene supercontig:GCA_000002235.2:Scaffold72:1079932:1080003:1 gene:EMSPUG00000010127 transcript:EMSPUT00000010127 description:\"tRNA-Met for anticodon CAU\": Warning: Sequence contains no data \r\n",
        "Warning: lcl|Query_29336 EMSPUT00000000516 cds:pseudogene supercontig:GCA_000002235.2:Scaffold72:1080597:1080668:1 gene:EMSPUG00000000516 transcript:EMSPUT00000000516 description:\"tRNA-Met for anticodon CAU\": Warning: Sequence contains no data \r\n",
        "Warning: lcl|Query_29337 EMSPUT00000009484 cds:pseudogene supercontig:GCA_000002235.2:Scaffold72:1081263:1081334:1 gene:EMSPUG00000009484 transcript:EMSPUT00000009484 description:\"tRNA-Met for anticodon CAU\": Warning: Sequence contains no data \r\n",
        "Warning: lcl|Query_29338 EMSPUT00000002809 cds:pseudogene supercontig:GCA_000002235.2:Scaffold72:1081900:1081971:1 gene:EMSPUG00000002809 transcript:EMSPUT00000002809 description:\"tRNA-Met for anticodon CAU\": Warning: Sequence contains no data \r\n",
        "Warning: lcl|Query_29339 EMSPUT00000011758 cds:pseudogene supercontig:GCA_000002235.2:Scaffold72:1082543:1082614:1 gene:EMSPUG00000011758 transcript:EMSPUT00000011758 description:\"tRNA-Met for anticodon CAU\": Warning: Sequence contains no data \r\n",
        "Warning: lcl|Query_29340 EMSPUT00000007698 cds:pseudogene supercontig:GCA_000002235.2:Scaffold72:1083199:1083270:1 gene:EMSPUG00000007698 transcript:EMSPUT00000007698 description:\"tRNA-Met for anticodon CAU\": Warning: Sequence contains no data \r\n",
        "Warning: lcl|Query_29341 EMSPUT00000014440 cds:pseudogene supercontig:GCA_000002235.2:Scaffold72:1083898:1083975:1 gene:EMSPUG00000014440 transcript:EMSPUT00000014440 description:\"tRNA-Ile for anticodon AAU\": Warning: Sequence contains no data \r\n",
        "Warning: lcl|Query_29342 EMSPUT00000009296 cds:pseudogene supercontig:GCA_000002235.2:Scaffold72:1084385:1084454:1 gene:EMSPUG00000009296 transcript:EMSPUT00000009296 description:\"tRNA-Ile for anticodon AAU\": Warning: Sequence contains no data \r\n",
        "Warning: lcl|Query_29343 EMSPUT00000000337 cds:pseudogene supercontig:GCA_000002235.2:Scaffold72:1084627:1084698:1 gene:EMSPUG00000000337 transcript:EMSPUT00000000337 description:\"tRNA-Met for anticodon CAU\": Warning: Sequence contains no data \r\n",
        "Warning: lcl|Query_29344 EMSPUT00000010159 cds:pseudogene supercontig:GCA_000002235.2:Scaffold72:1085217:1085294:1 gene:EMSPUG00000010159 transcript:EMSPUT00000010159 description:\"tRNA-Undet for anticodon \\x3f\\x3f\\x3f\": Warning: Sequence contains no data \r\n",
        "Warning: lcl|Query_29345 EMSPUT00000001085 cds:pseudogene supercontig:GCA_000002235.2:Scaffold72:1085498:1085569:1 gene:EMSPUG00000001085 transcript:EMSPUT00000001085 description:\"tRNA-Met for anticodon CAU\": Warning: Sequence contains no data \r\n",
        "Warning: lcl|Query_29346 EMSPUT00000009390 cds:pseudogene supercontig:GCA_000002235.2:Scaffold72:1095305:1095377:1 gene:EMSPUG00000009390 transcript:EMSPUT00000009390 description:\"tRNA-Ile for anticodon AAU\": Warning: Sequence contains no data \r\n",
        "Error: (1431.1) FASTA-Reader: Warning: FASTA-Reader: No residues given\r\n",
        "Error: (1431.1) FASTA-Reader: Warning: FASTA-Reader: No residues given\r\n",
        "Error: (1431.1) FASTA-Reader: Warning: FASTA-Reader: No residues given\r\n",
        "Error: (1431.1) FASTA-Reader: Warning: FASTA-Reader: No residues given\r\n",
        "Error: (1431.1) FASTA-Reader: Warning: FASTA-Reader: No residues given\r\n",
        "Error: (1431.1) FASTA-Reader: Warning: FASTA-Reader: No residues given\r\n",
        "Error: (1431.1) FASTA-Reader: Warning: FASTA-Reader: No residues given\r\n",
        "Error: (1431.1) FASTA-Reader: Warning: FASTA-Reader: No residues given\r\n",
        "Error: (1431.1) FASTA-Reader: Warning: FASTA-Reader: No residues given\r\n",
        "Error: (1431.1) FASTA-Reader: Warning: FASTA-Reader: No residues given\r\n",
        "Error: (1431.1) FASTA-Reader: Warning: FASTA-Reader: No residues given\r\n",
        "Error: (1431.1) FASTA-Reader: Warning: FASTA-Reader: No residues given\r\n"
       ]
      },
      {
       "output_type": "stream",
       "stream": "stdout",
       "text": [
        "Warning: lcl|Query_29373 EMSPUT00000013247 cds:pseudogene supercontig:GCA_000002235.2:Scaffold658:417359:417431:-1 gene:EMSPUG00000013247 transcript:EMSPUT00000013247 description:\"tRNA-Lys for anticodon CUU\": Warning: Sequence contains no data \r\n",
        "Warning: lcl|Query_29374 EMSPUT00000005708 cds:pseudogene supercontig:GCA_000002235.2:Scaffold658:421913:421985:1 gene:EMSPUG00000005708 transcript:EMSPUT00000005708 description:\"tRNA-Lys for anticodon CUU\": Warning: Sequence contains no data \r\n",
        "Warning: lcl|Query_29375 EMSPUT00000002191 cds:pseudogene supercontig:GCA_000002235.2:Scaffold658:422432:422504:1 gene:EMSPUG00000002191 transcript:EMSPUT00000002191 description:\"tRNA-Lys for anticodon CUU\": Warning: Sequence contains no data \r\n",
        "Warning: lcl|Query_29376 EMSPUT00000010856 cds:pseudogene supercontig:GCA_000002235.2:Scaffold658:422985:423057:1 gene:EMSPUG00000010856 transcript:EMSPUT00000010856 description:\"tRNA-Lys for anticodon CUU\": Warning: Sequence contains no data \r\n",
        "Warning: lcl|Query_29377 EMSPUT00000000423 cds:pseudogene supercontig:GCA_000002235.2:Scaffold658:423791:423863:1 gene:EMSPUG00000000423 transcript:EMSPUT00000000423 description:\"tRNA-Lys for anticodon CUU\": Warning: Sequence contains no data \r\n",
        "Warning: lcl|Query_29378 EMSPUT00000001291 cds:pseudogene supercontig:GCA_000002235.2:Scaffold658:424428:424500:1 gene:EMSPUG00000001291 transcript:EMSPUT00000001291 description:\"tRNA-Lys for anticodon CUU\": Warning: Sequence contains no data \r\n",
        "Warning: lcl|Query_29379 EMSPUT00000015499 cds:pseudogene supercontig:GCA_000002235.2:Scaffold658:424918:424990:1 gene:EMSPUG00000015499 transcript:EMSPUT00000015499 description:\"tRNA-Lys for anticodon CUU\": Warning: Sequence contains no data \r\n",
        "Warning: lcl|Query_29380 EMSPUT00000004852 cds:pseudogene supercontig:GCA_000002235.2:Scaffold658:425875:425947:1 gene:EMSPUG00000004852 transcript:EMSPUT00000004852 description:\"tRNA-Lys for anticodon CUU\": Warning: Sequence contains no data \r\n",
        "Warning: lcl|Query_29381 EMSPUT00000013776 cds:pseudogene supercontig:GCA_000002235.2:Scaffold658:426516:426588:1 gene:EMSPUG00000013776 transcript:EMSPUT00000013776 description:\"tRNA-Lys for anticodon CUU\": Warning: Sequence contains no data \r\n",
        "Warning: lcl|Query_29385 EMSPUT00000011192 cds:pseudogene supercontig:GCA_000002235.2:Scaffold658:512167:512239:1 gene:EMSPUG00000011192 transcript:EMSPUT00000011192 description:\"tRNA-Lys for anticodon CUU\": Warning: Sequence contains no data \r\n",
        "Warning: lcl|Query_29386 EMSPUT00000005428 cds:pseudogene supercontig:GCA_000002235.2:Scaffold658:521317:521403:-1 gene:EMSPUG00000005428 transcript:EMSPUT00000005428 description:\"tRNA-SeC for anticodon UCA\": Warning: Sequence contains no data \r\n",
        "Warning: lcl|Query_29387 EMSPUT00000015013 cds:pseudogene supercontig:GCA_000002235.2:Scaffold658:524973:525059:-1 gene:EMSPUG00000015013 transcript:EMSPUT00000015013 description:\"tRNA-SeC for anticodon UCA\": Warning: Sequence contains no data \r\n",
        "Error: (1431.1) FASTA-Reader: Warning: FASTA-Reader: No residues given\r\n"
       ]
      },
      {
       "output_type": "stream",
       "stream": "stdout",
       "text": [
        "Warning: lcl|Query_29390 EMSPUT00000006281 cds:pseudogene supercontig:GCA_000002235.2:Scaffold658:544742:544815:1 gene:EMSPUG00000006281 transcript:EMSPUT00000006281 description:\"tRNA-Ala for anticodon GGC\": Warning: Sequence contains no data \r\n",
        "Error: (1431.1) FASTA-Reader: Warning: FASTA-Reader: No residues given\r\n",
        "Error: (1431.1) FASTA-Reader: Warning: FASTA-Reader: No residues given\r\n",
        "Error: (1431.1) FASTA-Reader: Warning: FASTA-Reader: No residues given\r\n",
        "Error: (1431.1) FASTA-Reader: Warning: FASTA-Reader: No residues given\r\n",
        "Error: (1431.1) FASTA-Reader: Warning: FASTA-Reader: No residues given\r\n"
       ]
      },
      {
       "output_type": "stream",
       "stream": "stdout",
       "text": [
        "Warning: lcl|Query_29413 EMSPUT00000010407 cds:pseudogene supercontig:GCA_000002235.2:Scaffold4370:8606:8676:-1 gene:EMSPUG00000010407 transcript:EMSPUT00000010407 description:\"tRNA-Gly for anticodon GCC\": Warning: Sequence contains no data \r\n",
        "Warning: lcl|Query_29414 EMSPUT00000004409 cds:pseudogene supercontig:GCA_000002235.2:Scaffold4370:9750:9820:-1 gene:EMSPUG00000004409 transcript:EMSPUT00000004409 description:\"tRNA-Gly for anticodon GCC\": Warning: Sequence contains no data \r\n",
        "Warning: lcl|Query_29415 EMSPUT00000015137 cds:pseudogene supercontig:GCA_000002235.2:Scaffold4370:10249:10319:-1 gene:EMSPUG00000015137 transcript:EMSPUT00000015137 description:\"tRNA-Gly for anticodon GCC\": Warning: Sequence contains no data \r\n",
        "Warning: lcl|Query_29416 EMSPUT00000002770 cds:pseudogene supercontig:GCA_000002235.2:Scaffold1488:2981:3052:-1 gene:EMSPUG00000002770 transcript:EMSPUT00000002770 description:\"Mammalian CPEB3 ribozyme\": Warning: Sequence contains no data \r\n",
        "Warning: lcl|Query_29424 EMSPUT00000003055 cds:pseudogene supercontig:GCA_000002235.2:Scaffold1488:187505:187574:-1 gene:EMSPUG00000003055 transcript:EMSPUT00000003055 description:\"tRNA-Gly for anticodon GCC\": Warning: Sequence contains no data \r\n"
       ]
      },
      {
       "output_type": "stream",
       "stream": "stdout",
       "text": [
        "Error: (1431.1) FASTA-Reader: Warning: FASTA-Reader: No residues given\r\n",
        "Error: (1431.1) FASTA-Reader: Warning: FASTA-Reader: No residues given\r\n",
        "Error: (1431.1) FASTA-Reader: Warning: FASTA-Reader: No residues given\r\n"
       ]
      },
      {
       "output_type": "stream",
       "stream": "stdout",
       "text": [
        "Warning: lcl|Query_29445 EMSPUT00000004183 cds:pseudogene supercontig:GCA_000002235.2:Scaffold186:346885:346958:1 gene:EMSPUG00000004183 transcript:EMSPUT00000004183 description:\"tRNA-Thr for anticodon CGU\": Warning: Sequence contains no data \r\n",
        "Warning: lcl|Query_29451 EMSPUT00000004835 cds:pseudogene supercontig:GCA_000002235.2:Scaffold186:561832:561913:-1 gene:EMSPUG00000004835 transcript:EMSPUT00000004835 description:\"tRNA-Leu for anticodon AAG\": Warning: Sequence contains no data \r\n",
        "Warning: lcl|Query_29455 EMSPUT00000015502 cds:pseudogene supercontig:GCA_000002235.2:Scaffold186:707375:707447:-1 gene:EMSPUG00000015502 transcript:EMSPUT00000015502 description:\"tRNA-Met for anticodon CAU\": Warning: Sequence contains no data \r\n"
       ]
      },
      {
       "output_type": "stream",
       "stream": "stdout",
       "text": [
        "Error: (1431.1) FASTA-Reader: Warning: FASTA-Reader: No residues given\r\n"
       ]
      },
      {
       "output_type": "stream",
       "stream": "stdout",
       "text": [
        "Error: (1431.1) FASTA-Reader: Warning: FASTA-Reader: No residues given\r\n",
        "Error: (1431.1) FASTA-Reader: Warning: FASTA-Reader: No residues given\r\n"
       ]
      },
      {
       "output_type": "stream",
       "stream": "stdout",
       "text": [
        "Warning: lcl|Query_29555 EMSPUT00000000755 cds:pseudogene supercontig:GCA_000002235.2:Scaffold606:320434:320505:1 gene:EMSPUG00000000755 transcript:EMSPUT00000000755 description:\"tRNA-Lys for anticodon CUU\": Warning: Sequence contains no data \r\n",
        "Warning: lcl|Query_29560 EMSPUT00000008506 cds:pseudogene supercontig:GCA_000002235.2:Scaffold1188:27259:27331:-1 gene:EMSPUG00000008506 transcript:EMSPUT00000008506 description:\"tRNA-Lys for anticodon CUU\": Warning: Sequence contains no data \r\n",
        "Warning: lcl|Query_29561 EMSPUT00000000887 cds:pseudogene supercontig:GCA_000002235.2:Scaffold1188:96385:96457:1 gene:EMSPUG00000000887 transcript:EMSPUT00000000887 description:\"tRNA-Leu for anticodon CAA\": Warning: Sequence contains no data \r\n"
       ]
      },
      {
       "output_type": "stream",
       "stream": "stdout",
       "text": [
        "Error: (1431.1) FASTA-Reader: Warning: FASTA-Reader: No residues given\r\n",
        "Error: (1431.1) FASTA-Reader: Warning: FASTA-Reader: No residues given\r\n",
        "Error: (1431.1) FASTA-Reader: Warning: FASTA-Reader: No residues given\r\n"
       ]
      },
      {
       "output_type": "stream",
       "stream": "stdout",
       "text": [
        "Warning: lcl|Query_29683 EMSPUT00000011395 cds:pseudogene supercontig:GCA_000002235.2:Scaffold434:317825:317897:-1 gene:EMSPUG00000011395 transcript:EMSPUT00000011395 description:\"tRNA-Met for anticodon CAU\": Warning: Sequence contains no data \r\n",
        "Warning: lcl|Query_29685 EMSPUT00000014495 cds:pseudogene supercontig:GCA_000002235.2:Scaffold434:339102:339174:1 gene:EMSPUG00000014495 transcript:EMSPUT00000014495 description:\"tRNA-Ile for anticodon UAU\": Warning: Sequence contains no data \r\n",
        "Warning: lcl|Query_29686 EMSPUT00000009760 cds:pseudogene supercontig:GCA_000002235.2:Scaffold434:380745:380817:1 gene:EMSPUG00000009760 transcript:EMSPUT00000009760 description:\"tRNA-Met for anticodon CAU\": Warning: Sequence contains no data \r\n",
        "Error: (1431.1) FASTA-Reader: Warning: FASTA-Reader: No residues given\r\n",
        "Error: (1431.1) FASTA-Reader: Warning: FASTA-Reader: No residues given\r\n"
       ]
      },
      {
       "output_type": "stream",
       "stream": "stdout",
       "text": [
        "Warning: lcl|Query_29706 EMSPUT00000012454 cds:pseudogene supercontig:GCA_000002235.2:Scaffold139:626650:626722:-1 gene:EMSPUG00000012454 transcript:EMSPUT00000012454 description:\"tRNA-Met for anticodon CAU\": Warning: Sequence contains no data \r\n",
        "Warning: lcl|Query_29707 EMSPUT00000014249 cds:pseudogene supercontig:GCA_000002235.2:Scaffold139:630270:630342:1 gene:EMSPUG00000014249 transcript:EMSPUT00000014249 description:\"tRNA-Met for anticodon CAU\": Warning: Sequence contains no data \r\n"
       ]
      },
      {
       "output_type": "stream",
       "stream": "stdout",
       "text": [
        "Error: (1431.1) FASTA-Reader: Warning: FASTA-Reader: No residues given\r\n"
       ]
      },
      {
       "output_type": "stream",
       "stream": "stdout",
       "text": [
        "Warning: lcl|Query_29723 EMSPUT00000005259 cds:pseudogene supercontig:GCA_000002235.2:Scaffold931:14995:15067:1 gene:EMSPUG00000005259 transcript:EMSPUT00000005259 description:\"tRNA-Met for anticodon CAU\": Warning: Sequence contains no data \r\n"
       ]
      },
      {
       "output_type": "stream",
       "stream": "stdout",
       "text": [
        "Error: (1431.1) FASTA-Reader: Warning: FASTA-Reader: No residues given\r\n",
        "Error: (1431.1) FASTA-Reader: Warning: FASTA-Reader: No residues given\r\n",
        "Error: (1431.1) FASTA-Reader: Warning: FASTA-Reader: No residues given\r\n",
        "Error: (1431.1) FASTA-Reader: Warning: FASTA-Reader: No residues given\r\n",
        "Error: (1431.1) FASTA-Reader: Warning: FASTA-Reader: No residues given\r\n",
        "Error: (1431.1) FASTA-Reader: Warning: FASTA-Reader: No residues given\r\n",
        "Error: (1431.1) FASTA-Reader: Warning: FASTA-Reader: No residues given\r\n",
        "Error: (1431.1) FASTA-Reader: Warning: FASTA-Reader: No residues given\r\n",
        "Error: (1431.1) FASTA-Reader: Warning: FASTA-Reader: No residues given\r\n",
        "Error: (1431.1) FASTA-Reader: Warning: FASTA-Reader: No residues given\r\n",
        "Error: (1431.1) FASTA-Reader: Warning: FASTA-Reader: No residues given\r\n",
        "Error: (1431.1) FASTA-Reader: Warning: FASTA-Reader: No residues given\r\n",
        "Error: (1431.1) FASTA-Reader: Warning: FASTA-Reader: No residues given\r\n",
        "Error: (1431.1) FASTA-Reader: Warning: FASTA-Reader: No residues given\r\n",
        "Error: (1431.1) FASTA-Reader: Warning: FASTA-Reader: No residues given\r\n",
        "Error: (1431.1) FASTA-Reader: Warning: FASTA-Reader: No residues given\r\n",
        "Error: (1431.1) FASTA-Reader: Warning: FASTA-Reader: No residues given\r\n",
        "Error: (1431.1) FASTA-Reader: Warning: FASTA-Reader: No residues given\r\n",
        "Error: (1431.1) FASTA-Reader: Warning: FASTA-Reader: No residues given\r\n",
        "Error: (1431.1) FASTA-Reader: Warning: FASTA-Reader: No residues given\r\n",
        "Error: (1431.1) FASTA-Reader: Warning: FASTA-Reader: No residues given\r\n"
       ]
      },
      {
       "output_type": "stream",
       "stream": "stdout",
       "text": [
        "Warning: lcl|Query_29748 EMSPUT00000002547 cds:pseudogene supercontig:GCA_000002235.2:Scaffold332:101007:101088:1 gene:EMSPUG00000002547 transcript:EMSPUT00000002547 description:\"tRNA-Leu for anticodon AAG\": Warning: Sequence contains no data \r\n",
        "Warning: lcl|Query_29749 EMSPUT00000009575 cds:pseudogene supercontig:GCA_000002235.2:Scaffold332:101594:101675:1 gene:EMSPUG00000009575 transcript:EMSPUT00000009575 description:\"tRNA-Leu for anticodon AAG\": Warning: Sequence contains no data \r\n",
        "Warning: lcl|Query_29750 EMSPUT00000015213 cds:pseudogene supercontig:GCA_000002235.2:Scaffold332:102155:102234:1 gene:EMSPUG00000015213 transcript:EMSPUT00000015213 description:\"tRNA-Leu for anticodon UAG\": Warning: Sequence contains no data \r\n",
        "Warning: lcl|Query_29751 EMSPUT00000006228 cds:pseudogene supercontig:GCA_000002235.2:Scaffold332:105350:105430:1 gene:EMSPUG00000006228 transcript:EMSPUT00000006228 description:\"tRNA-Leu for anticodon UAG\": Warning: Sequence contains no data \r\n",
        "Warning: lcl|Query_29752 EMSPUT00000005377 cds:pseudogene supercontig:GCA_000002235.2:Scaffold332:105925:106006:1 gene:EMSPUG00000005377 transcript:EMSPUT00000005377 description:\"tRNA-Leu for anticodon AAG\": Warning: Sequence contains no data \r\n",
        "Warning: lcl|Query_29753 EMSPUT00000012130 cds:pseudogene supercontig:GCA_000002235.2:Scaffold332:107700:107782:1 gene:EMSPUG00000012130 transcript:EMSPUT00000012130 description:\"tRNA-Leu for anticodon UAG\": Warning: Sequence contains no data \r\n",
        "Warning: lcl|Query_29754 EMSPUT00000004456 cds:pseudogene supercontig:GCA_000002235.2:Scaffold332:108276:108357:1 gene:EMSPUG00000004456 transcript:EMSPUT00000004456 description:\"tRNA-Leu for anticodon AAG\": Warning: Sequence contains no data \r\n",
        "Warning: lcl|Query_29755 EMSPUT00000010913 cds:pseudogene supercontig:GCA_000002235.2:Scaffold332:109437:109518:1 gene:EMSPUG00000010913 transcript:EMSPUT00000010913 description:\"tRNA-Leu for anticodon UAG\": Warning: Sequence contains no data \r\n",
        "Warning: lcl|Query_29756 EMSPUT00000003295 cds:pseudogene supercontig:GCA_000002235.2:Scaffold332:110010:110091:1 gene:EMSPUG00000003295 transcript:EMSPUT00000003295 description:\"tRNA-Leu for anticodon AAG\": Warning: Sequence contains no data \r\n",
        "Warning: lcl|Query_29757 EMSPUT00000001125 cds:pseudogene supercontig:GCA_000002235.2:Scaffold332:114826:114907:1 gene:EMSPUG00000001125 transcript:EMSPUT00000001125 description:\"tRNA-Leu for anticodon AAG\": Warning: Sequence contains no data \r\n",
        "Warning: lcl|Query_29758 EMSPUT00000010661 cds:pseudogene supercontig:GCA_000002235.2:Scaffold332:115411:115492:1 gene:EMSPUG00000010661 transcript:EMSPUT00000010661 description:\"tRNA-Leu for anticodon AAG\": Warning: Sequence contains no data \r\n",
        "Warning: lcl|Query_29759 EMSPUT00000003397 cds:pseudogene supercontig:GCA_000002235.2:Scaffold332:115969:116050:1 gene:EMSPUG00000003397 transcript:EMSPUT00000003397 description:\"tRNA-Leu for anticodon UAG\": Warning: Sequence contains no data \r\n",
        "Warning: lcl|Query_29760 EMSPUT00000012272 cds:pseudogene supercontig:GCA_000002235.2:Scaffold332:116545:116626:1 gene:EMSPUG00000012272 transcript:EMSPUT00000012272 description:\"tRNA-Leu for anticodon AAG\": Warning: Sequence contains no data \r\n",
        "Warning: lcl|Query_29761 EMSPUT00000012384 cds:pseudogene supercontig:GCA_000002235.2:Scaffold332:117125:117206:1 gene:EMSPUG00000012384 transcript:EMSPUT00000012384 description:\"tRNA-Leu for anticodon AAG\": Warning: Sequence contains no data \r\n",
        "Warning: lcl|Query_29762 EMSPUT00000005626 cds:pseudogene supercontig:GCA_000002235.2:Scaffold332:117686:117767:1 gene:EMSPUG00000005626 transcript:EMSPUT00000005626 description:\"tRNA-Leu for anticodon UAG\": Warning: Sequence contains no data \r\n",
        "Warning: lcl|Query_29763 EMSPUT00000014599 cds:pseudogene supercontig:GCA_000002235.2:Scaffold332:118262:118343:1 gene:EMSPUG00000014599 transcript:EMSPUT00000014599 description:\"tRNA-Leu for anticodon AAG\": Warning: Sequence contains no data \r\n",
        "Warning: lcl|Query_29764 EMSPUT00000007787 cds:pseudogene supercontig:GCA_000002235.2:Scaffold332:118842:118923:1 gene:EMSPUG00000007787 transcript:EMSPUT00000007787 description:\"tRNA-Leu for anticodon AAG\": Warning: Sequence contains no data \r\n",
        "Warning: lcl|Query_29765 EMSPUT00000010141 cds:pseudogene supercontig:GCA_000002235.2:Scaffold332:119415:119496:1 gene:EMSPUG00000010141 transcript:EMSPUT00000010141 description:\"tRNA-Leu for anticodon AAG\": Warning: Sequence contains no data \r\n",
        "Warning: lcl|Query_29766 EMSPUT00000007405 cds:pseudogene supercontig:GCA_000002235.2:Scaffold332:120375:120456:1 gene:EMSPUG00000007405 transcript:EMSPUT00000007405 description:\"tRNA-Leu for anticodon AAG\": Warning: Sequence contains no data \r\n",
        "Warning: lcl|Query_29768 EMSPUT00000007219 cds:pseudogene supercontig:GCA_000002235.2:Scaffold332:133926:134007:1 gene:EMSPUG00000007219 transcript:EMSPUT00000007219 description:\"tRNA-Leu for anticodon AAG\": Warning: Sequence contains no data \r\n",
        "Warning: lcl|Query_29779 EMSPUT00000008335 cds:pseudogene supercontig:GCA_000002235.2:Scaffold332:330231:330302:-1 gene:EMSPUG00000008335 transcript:EMSPUT00000008335 description:\"tRNA-Arg for anticodon UCU\": Warning: Sequence contains no data \r\n"
       ]
      },
      {
       "output_type": "stream",
       "stream": "stdout",
       "text": [
        "Error: (1431.1) FASTA-Reader: Warning: FASTA-Reader: No residues given\r\n",
        "Error: (1431.1) FASTA-Reader: Warning: FASTA-Reader: No residues given\r\n"
       ]
      },
      {
       "output_type": "stream",
       "stream": "stdout",
       "text": [
        "Warning: lcl|Query_29807 EMSPUT00000014492 cds:pseudogene supercontig:GCA_000002235.2:Scaffold2347:37099:37167:1 gene:EMSPUG00000014492 transcript:EMSPUT00000014492 description:\"tRNA-Ser for anticodon UGA\": Warning: Sequence contains no data \r\n",
        "Warning: lcl|Query_29818 EMSPUT00000007940 cds:pseudogene supercontig:GCA_000002235.2:Scaffold751:248790:248863:1 gene:EMSPUG00000007940 transcript:EMSPUT00000007940 description:\"Mammalian CPEB3 ribozyme\": Warning: Sequence contains no data \r\n",
        "Error: (1431.1) FASTA-Reader: Warning: FASTA-Reader: No residues given\r\n",
        "Error: (1431.1) FASTA-Reader: Warning: FASTA-Reader: No residues given\r\n"
       ]
      },
      {
       "output_type": "stream",
       "stream": "stdout",
       "text": [
        "Warning: lcl|Query_29827 EMSPUT00000014816 cds:pseudogene supercontig:GCA_000002235.2:Scaffold2864:1724:1796:1 gene:EMSPUG00000014816 transcript:EMSPUT00000014816 description:\"tRNA-Arg for anticodon CCU\": Warning: Sequence contains no data \r\n",
        "Warning: lcl|Query_29830 EMSPUT00000010443 cds:pseudogene supercontig:GCA_000002235.2:Scaffold2864:19510:19582:1 gene:EMSPUG00000010443 transcript:EMSPUT00000010443 description:\"tRNA-Arg for anticodon CCU\": Warning: Sequence contains no data \r\n",
        "Error: (1431.1) FASTA-Reader: Warning: FASTA-Reader: No residues given\r\n"
       ]
      },
      {
       "output_type": "stream",
       "stream": "stdout",
       "text": [
        "Warning: lcl|Query_29844 EMSPUT00000003637 cds:pseudogene supercontig:GCA_000002235.2:Scaffold1267:95951:96032:1 gene:EMSPUG00000003637 transcript:EMSPUT00000003637 description:\"tRNA-Ser for anticodon CGA\": Warning: Sequence contains no data \r\n"
       ]
      },
      {
       "output_type": "stream",
       "stream": "stdout",
       "text": [
        "Error: (1431.1) FASTA-Reader: Warning: FASTA-Reader: No residues given\r\n",
        "Error: (1431.1) FASTA-Reader: Warning: FASTA-Reader: No residues given\r\n",
        "Error: (1431.1) FASTA-Reader: Warning: FASTA-Reader: No residues given\r\n",
        "Error: (1431.1) FASTA-Reader: Warning: FASTA-Reader: No residues given\r\n"
       ]
      },
      {
       "output_type": "stream",
       "stream": "stdout",
       "text": [
        "Warning: lcl|Query_29881 EMSPUT00000004363 cds:pseudogene supercontig:GCA_000002235.2:Scaffold1125:22444:22516:-1 gene:EMSPUG00000004363 transcript:EMSPUT00000004363 description:\"tRNA-Val for anticodon CAC\": Warning: Sequence contains no data \r\n",
        "Warning: lcl|Query_29882 EMSPUT00000011328 cds:pseudogene supercontig:GCA_000002235.2:Scaffold1125:22809:22881:-1 gene:EMSPUG00000011328 transcript:EMSPUT00000011328 description:\"tRNA-Val for anticodon CAC\": Warning: Sequence contains no data \r\n",
        "Warning: lcl|Query_29883 EMSPUT00000015506 cds:pseudogene supercontig:GCA_000002235.2:Scaffold1125:24852:24925:1 gene:EMSPUG00000015506 transcript:EMSPUT00000015506 description:\"Mammalian CPEB3 ribozyme\": Warning: Sequence contains no data \r\n",
        "Warning: lcl|Query_29885 EMSPUT00000011438 cds:pseudogene supercontig:GCA_000002235.2:Scaffold1125:56907:56979:1 gene:EMSPUG00000011438 transcript:EMSPUT00000011438 description:\"tRNA-Undet for anticodon \\x3f\\x3f\\x3f\": Warning: Sequence contains no data \r\n",
        "Error: (1431.1) FASTA-Reader: Warning: FASTA-Reader: No residues given\r\n"
       ]
      },
      {
       "output_type": "stream",
       "stream": "stdout",
       "text": [
        "Warning: lcl|Query_29894 EMSPUT00000012730 cds:pseudogene supercontig:GCA_000002235.2:Scaffold22:122562:122634:-1 gene:EMSPUG00000012730 transcript:EMSPUT00000012730 description:\"tRNA-Met for anticodon CAU\": Warning: Sequence contains no data \r\n"
       ]
      },
      {
       "output_type": "stream",
       "stream": "stdout",
       "text": [
        "Error: (1431.1) FASTA-Reader: Warning: FASTA-Reader: No residues given\r\n",
        "Error: (1431.1) FASTA-Reader: Warning: FASTA-Reader: No residues given\r\n"
       ]
      },
      {
       "output_type": "stream",
       "stream": "stdout",
       "text": [
        "Warning: lcl|Query_29919 EMSPUT00000011716 cds:pseudogene supercontig:GCA_000002235.2:Scaffold22:978044:978116:-1 gene:EMSPUG00000011716 transcript:EMSPUT00000011716 description:\"tRNA-Ala for anticodon GGC\": Warning: Sequence contains no data \r\n",
        "Warning: lcl|Query_29924 EMSPUT00000001058 cds:pseudogene supercontig:GCA_000002235.2:Scaffold22:1158148:1158220:1 gene:EMSPUG00000001058 transcript:EMSPUT00000001058 description:\"tRNA-Met for anticodon CAU\": Warning: Sequence contains no data \r\n"
       ]
      },
      {
       "output_type": "stream",
       "stream": "stdout",
       "text": [
        "Error: (1431.1) FASTA-Reader: Warning: FASTA-Reader: No residues given\r\n"
       ]
      },
      {
       "output_type": "stream",
       "stream": "stdout",
       "text": [
        "Warning: lcl|Query_29975 EMSPUT00000015351 cds:pseudogene supercontig:GCA_000002235.2:Scaffold729:65232:65304:-1 gene:EMSPUG00000015351 transcript:EMSPUT00000015351 description:\"tRNA-Thr for anticodon CGU\": Warning: Sequence contains no data \r\n"
       ]
      },
      {
       "output_type": "stream",
       "stream": "stdout",
       "text": [
        "Error: (1431.1) FASTA-Reader: Warning: FASTA-Reader: No residues given\r\n",
        "Error: (1431.1) FASTA-Reader: Warning: FASTA-Reader: No residues given\r\n"
       ]
      },
      {
       "output_type": "stream",
       "stream": "stdout",
       "text": [
        "Warning: lcl|Query_29998 EMSPUT00000013518 cds:pseudogene supercontig:GCA_000002235.2:Scaffold521:22094:22166:1 gene:EMSPUG00000013518 transcript:EMSPUT00000013518 description:\"tRNA-Met for anticodon CAU\": Warning: Sequence contains no data \r\n",
        "Warning: lcl|Query_30002 EMSPUT00000015407 cds:pseudogene supercontig:GCA_000002235.2:Scaffold521:114587:114659:-1 gene:EMSPUG00000015407 transcript:EMSPUT00000015407 description:\"tRNA-Met for anticodon CAU\": Warning: Sequence contains no data \r\n",
        "Error: (1431.1) FASTA-Reader: Warning: FASTA-Reader: No residues given\r\n"
       ]
      },
      {
       "output_type": "stream",
       "stream": "stdout",
       "text": [
        "Warning: lcl|Query_30010 EMSPUT00000002421 cds:pseudogene supercontig:GCA_000002235.2:Scaffold521:191652:191724:1 gene:EMSPUG00000002421 transcript:EMSPUT00000002421 description:\"tRNA-Ala for anticodon GGC\": Warning: Sequence contains no data \r\n"
       ]
      },
      {
       "output_type": "stream",
       "stream": "stdout",
       "text": [
        "Error: (1431.1) FASTA-Reader: Warning: FASTA-Reader: No residues given\r\n",
        "Error: (1431.1) FASTA-Reader: Warning: FASTA-Reader: No residues given\r\n"
       ]
      },
      {
       "output_type": "stream",
       "stream": "stdout",
       "text": [
        "Warning: lcl|Query_30025 EMSPUT00000009417 cds:pseudogene supercontig:GCA_000002235.2:Scaffold521:583888:583959:-1 gene:EMSPUG00000009417 transcript:EMSPUT00000009417 description:\"tRNA-Ala for anticodon GGC\": Warning: Sequence contains no data \r\n",
        "Warning: lcl|Query_30028 EMSPUT00000008864 cds:pseudogene supercontig:GCA_000002235.2:Scaffold1251:33377:33449:1 gene:EMSPUG00000008864 transcript:EMSPUT00000008864 description:\"tRNA-Thr for anticodon UGU\": Warning: Sequence contains no data \r\n"
       ]
      },
      {
       "output_type": "stream",
       "stream": "stdout",
       "text": [
        "Error: (1431.1) FASTA-Reader: Warning: FASTA-Reader: No residues given\r\n"
       ]
      },
      {
       "output_type": "stream",
       "stream": "stdout",
       "text": [
        "Warning: lcl|Query_30084 EMSPUT00000008386 cds:pseudogene supercontig:GCA_000002235.2:Scaffold100:482236:482307:1 gene:EMSPUG00000008386 transcript:EMSPUT00000008386 description:\"tRNA-Ser for anticodon UGA\": Warning: Sequence contains no data \r\n",
        "Error: (1431.1) FASTA-Reader: Warning: FASTA-Reader: No residues given\r\n"
       ]
      },
      {
       "output_type": "stream",
       "stream": "stdout",
       "text": [
        "Warning: lcl|Query_30096 EMSPUT00000005578 cds:pseudogene supercontig:GCA_000002235.2:Scaffold100:761569:761641:-1 gene:EMSPUG00000005578 transcript:EMSPUT00000005578 description:\"tRNA-Met for anticodon CAU\": Warning: Sequence contains no data \r\n"
       ]
      },
      {
       "output_type": "stream",
       "stream": "stdout",
       "text": [
        "Error: (1431.1) FASTA-Reader: Warning: FASTA-Reader: No residues given\r\n"
       ]
      },
      {
       "output_type": "stream",
       "stream": "stdout",
       "text": [
        "Warning: lcl|Query_30143 EMSPUT00000015553 cds:pseudogene supercontig:GCA_000002235.2:Scaffold199:44504:44576:-1 gene:EMSPUG00000015553 transcript:EMSPUT00000015553 description:\"tRNA-Met for anticodon CAU\": Warning: Sequence contains no data \r\n"
       ]
      },
      {
       "output_type": "stream",
       "stream": "stdout",
       "text": [
        "Error: (1431.1) FASTA-Reader: Warning: FASTA-Reader: No residues given\r\n",
        "Error: (1431.1) FASTA-Reader: Warning: FASTA-Reader: No residues given\r\n",
        "Error: (1431.1) FASTA-Reader: Warning: FASTA-Reader: No residues given\r\n",
        "Error: (1431.1) FASTA-Reader: Warning: FASTA-Reader: No residues given\r\n"
       ]
      },
      {
       "output_type": "stream",
       "stream": "stdout",
       "text": [
        "Warning: lcl|Query_30179 EMSPUT00000008161 cds:pseudogene supercontig:GCA_000002235.2:Scaffold365:213461:213534:-1 gene:EMSPUG00000008161 transcript:EMSPUT00000008161 description:\"tRNA-Ala for anticodon GGC\": Warning: Sequence contains no data \r\n",
        "Warning: lcl|Query_30180 EMSPUT00000001367 cds:pseudogene supercontig:GCA_000002235.2:Scaffold365:213780:213853:-1 gene:EMSPUG00000001367 transcript:EMSPUT00000001367 description:\"tRNA-Ala for anticodon GGC\": Warning: Sequence contains no data \r\n",
        "Warning: lcl|Query_30181 EMSPUT00000007459 cds:pseudogene supercontig:GCA_000002235.2:Scaffold365:214098:214171:-1 gene:EMSPUG00000007459 transcript:EMSPUT00000007459 description:\"tRNA-Ala for anticodon GGC\": Warning: Sequence contains no data \r\n",
        "Warning: lcl|Query_30186 EMSPUT00000012395 cds:pseudogene supercontig:GCA_000002235.2:Scaffold365:502582:502654:-1 gene:EMSPUG00000012395 transcript:EMSPUT00000012395 description:\"tRNA-Ser for anticodon UGA\": Warning: Sequence contains no data \r\n"
       ]
      },
      {
       "output_type": "stream",
       "stream": "stdout",
       "text": [
        "Error: (1431.1) FASTA-Reader: Warning: FASTA-Reader: No residues given\r\n",
        "Error: (1431.1) FASTA-Reader: Warning: FASTA-Reader: No residues given\r\n",
        "Error: (1431.1) FASTA-Reader: Warning: FASTA-Reader: No residues given\r\n",
        "Error: (1431.1) FASTA-Reader: Warning: FASTA-Reader: No residues given\r\n",
        "Error: (1431.1) FASTA-Reader: Warning: FASTA-Reader: No residues given\r\n",
        "Error: (1431.1) FASTA-Reader: Warning: FASTA-Reader: No residues given\r\n",
        "Error: (1431.1) FASTA-Reader: Warning: FASTA-Reader: No residues given\r\n",
        "Error: (1431.1) FASTA-Reader: Warning: FASTA-Reader: No residues given\r\n",
        "Error: (1431.1) FASTA-Reader: Warning: FASTA-Reader: No residues given\r\n",
        "Error: (1431.1) FASTA-Reader: Warning: FASTA-Reader: No residues given\r\n"
       ]
      },
      {
       "output_type": "stream",
       "stream": "stdout",
       "text": [
        "Warning: lcl|Query_30217 EMSPUT00000007280 cds:pseudogene supercontig:GCA_000002235.2:Scaffold2777:32969:33041:-1 gene:EMSPUG00000007280 transcript:EMSPUT00000007280 description:\"tRNA-Met for anticodon CAU\": Warning: Sequence contains no data \r\n",
        "Warning: lcl|Query_30219 EMSPUT00000011728 cds:pseudogene supercontig:GCA_000002235.2:Scaffold2782:134692:134764:-1 gene:EMSPUG00000011728 transcript:EMSPUT00000011728 description:\"tRNA-Arg for anticodon CCU\": Warning: Sequence contains no data \r\n",
        "Warning: lcl|Query_30220 EMSPUT00000002816 cds:pseudogene supercontig:GCA_000002235.2:Scaffold2782:136166:136246:-1 gene:EMSPUG00000002816 transcript:EMSPUT00000002816 description:\"tRNA-Arg for anticodon CCU\": Warning: Sequence contains no data \r\n",
        "Warning: lcl|Query_30221 EMSPUT00000001595 cds:pseudogene supercontig:GCA_000002235.2:Scaffold2782:137283:137355:-1 gene:EMSPUG00000001595 transcript:EMSPUT00000001595 description:\"tRNA-Arg for anticodon CCU\": Warning: Sequence contains no data \r\n",
        "Warning: lcl|Query_30222 EMSPUT00000008577 cds:pseudogene supercontig:GCA_000002235.2:Scaffold2782:137612:137682:-1 gene:EMSPUG00000008577 transcript:EMSPUT00000008577 description:\"tRNA-Arg for anticodon CCU\": Warning: Sequence contains no data \r\n",
        "Warning: lcl|Query_30223 EMSPUT00000007322 cds:pseudogene supercontig:GCA_000002235.2:Scaffold2782:139343:139415:-1 gene:EMSPUG00000007322 transcript:EMSPUT00000007322 description:\"tRNA-Arg for anticodon CCU\": Warning: Sequence contains no data \r\n",
        "Warning: lcl|Query_30224 EMSPUT00000013794 cds:pseudogene supercontig:GCA_000002235.2:Scaffold2782:139965:140037:-1 gene:EMSPUG00000013794 transcript:EMSPUT00000013794 description:\"tRNA-Arg for anticodon CCU\": Warning: Sequence contains no data \r\n",
        "Warning: lcl|Query_30225 EMSPUT00000012933 cds:pseudogene supercontig:GCA_000002235.2:Scaffold2782:140629:140701:-1 gene:EMSPUG00000012933 transcript:EMSPUT00000012933 description:\"tRNA-Arg for anticodon CCU\": Warning: Sequence contains no data \r\n",
        "Warning: lcl|Query_30226 EMSPUT00000007676 cds:pseudogene supercontig:GCA_000002235.2:Scaffold2782:141097:141169:-1 gene:EMSPUG00000007676 transcript:EMSPUT00000007676 description:\"tRNA-Arg for anticodon CCU\": Warning: Sequence contains no data \r\n",
        "Warning: lcl|Query_30227 EMSPUT00000002939 cds:pseudogene supercontig:GCA_000002235.2:Scaffold2782:141959:142031:-1 gene:EMSPUG00000002939 transcript:EMSPUT00000002939 description:\"tRNA-Arg for anticodon CCU\": Warning: Sequence contains no data \r\n"
       ]
      },
      {
       "output_type": "stream",
       "stream": "stdout",
       "text": [
        "Error: (1431.1) FASTA-Reader: Warning: FASTA-Reader: No residues given\r\n",
        "Error: (1431.1) FASTA-Reader: Warning: FASTA-Reader: No residues given\r\n",
        "Error: (1431.1) FASTA-Reader: Warning: FASTA-Reader: No residues given\r\n",
        "Error: (1431.1) FASTA-Reader: Warning: FASTA-Reader: No residues given\r\n",
        "Error: (1431.1) FASTA-Reader: Warning: FASTA-Reader: No residues given\r\n",
        "Error: (1431.1) FASTA-Reader: Warning: FASTA-Reader: No residues given\r\n"
       ]
      },
      {
       "output_type": "stream",
       "stream": "stdout",
       "text": [
        "Warning: lcl|Query_30259 EMSPUT00000002071 cds:pseudogene supercontig:GCA_000002235.2:Scaffold627:220345:220418:1 gene:EMSPUG00000002071 transcript:EMSPUT00000002071 description:\"tRNA-Ser for anticodon UGA\": Warning: Sequence contains no data \r\n",
        "Warning: lcl|Query_30263 EMSPUT00000012148 cds:pseudogene supercontig:GCA_000002235.2:Scaffold627:353066:353148:-1 gene:EMSPUG00000012148 transcript:EMSPUT00000012148 description:\"tRNA-Leu for anticodon CAG\": Warning: Sequence contains no data \r\n",
        "Warning: lcl|Query_30264 EMSPUT00000008683 cds:pseudogene supercontig:GCA_000002235.2:Scaffold627:355752:355836:1 gene:EMSPUG00000008683 transcript:EMSPUT00000008683 description:\"tRNA-Leu for anticodon CAG\": Warning: Sequence contains no data \r\n",
        "Warning: lcl|Query_30265 EMSPUT00000001859 cds:pseudogene supercontig:GCA_000002235.2:Scaffold627:357443:357525:1 gene:EMSPUG00000001859 transcript:EMSPUT00000001859 description:\"tRNA-Leu for anticodon CAG\": Warning: Sequence contains no data \r\n",
        "Warning: lcl|Query_30266 EMSPUT00000000772 cds:pseudogene supercontig:GCA_000002235.2:Scaffold627:357899:357981:1 gene:EMSPUG00000000772 transcript:EMSPUT00000000772 description:\"tRNA-Leu for anticodon UAG\": Warning: Sequence contains no data \r\n",
        "Warning: lcl|Query_30267 EMSPUT00000009795 cds:pseudogene supercontig:GCA_000002235.2:Scaffold627:358235:358317:1 gene:EMSPUG00000009795 transcript:EMSPUT00000009795 description:\"tRNA-Leu for anticodon CAG\": Warning: Sequence contains no data \r\n"
       ]
      },
      {
       "output_type": "stream",
       "stream": "stdout",
       "text": [
        "Error: (1431.1) FASTA-Reader: Warning: FASTA-Reader: No residues given\r\n",
        "Error: (1431.1) FASTA-Reader: Warning: FASTA-Reader: No residues given\r\n",
        "Error: (1431.1) FASTA-Reader: Warning: FASTA-Reader: No residues given\r\n"
       ]
      },
      {
       "output_type": "stream",
       "stream": "stdout",
       "text": [
        "Warning: lcl|Query_30318 EMSPUT00000010871 cds:pseudogene supercontig:GCA_000002235.2:Scaffold1025:107262:107336:-1 gene:EMSPUG00000010871 transcript:EMSPUT00000010871 description:\"tRNA-SeC for anticodon UCA\": Warning: Sequence contains no data \r\n",
        "Warning: lcl|Query_30320 EMSPUT00000002167 cds:pseudogene supercontig:GCA_000002235.2:Scaffold1025:184967:185041:1 gene:EMSPUG00000002167 transcript:EMSPUT00000002167 description:\"tRNA-SeC for anticodon UCA\": Warning: Sequence contains no data \r\n",
        "Warning: lcl|Query_30325 EMSPUT00000001467 cds:pseudogene supercontig:GCA_000002235.2:Scaffold779:118398:118471:1 gene:EMSPUG00000001467 transcript:EMSPUT00000001467 description:\"tRNA-Ala for anticodon GGC\": Warning: Sequence contains no data \r\n",
        "Error: (1431.1) FASTA-Reader: Warning: FASTA-Reader: No residues given\r\n"
       ]
      },
      {
       "output_type": "stream",
       "stream": "stdout",
       "text": [
        "Error: (1431.1) FASTA-Reader: Warning: FASTA-Reader: No residues given\r\n",
        "Error: (1431.1) FASTA-Reader: Warning: FASTA-Reader: No residues given\r\n"
       ]
      },
      {
       "output_type": "stream",
       "stream": "stdout",
       "text": [
        "Warning: lcl|Query_30333 EMSPUT00000014069 cds:pseudogene supercontig:GCA_000002235.2:Scaffold410:141070:141142:-1 gene:EMSPUG00000014069 transcript:EMSPUT00000014069 description:\"tRNA-Met for anticodon CAU\": Warning: Sequence contains no data \r\n",
        "Warning: lcl|Query_30345 EMSPUT00000001204 cds:pseudogene supercontig:GCA_000002235.2:Scaffold410:310818:310891:1 gene:EMSPUG00000001204 transcript:EMSPUT00000001204 description:\"tRNA-Thr for anticodon AGU\": Warning: Sequence contains no data \r\n",
        "Warning: lcl|Query_30346 EMSPUT00000008232 cds:pseudogene supercontig:GCA_000002235.2:Scaffold410:326488:326561:1 gene:EMSPUG00000008232 transcript:EMSPUT00000008232 description:\"tRNA-Thr for anticodon AGU\": Warning: Sequence contains no data \r\n"
       ]
      },
      {
       "output_type": "stream",
       "stream": "stdout",
       "text": [
        "Error: (1431.1) FASTA-Reader: Warning: FASTA-Reader: No residues given\r\n"
       ]
      },
      {
       "output_type": "stream",
       "stream": "stdout",
       "text": [
        "Warning: lcl|Query_30363 EMSPUT00000001854 cds:pseudogene supercontig:GCA_000002235.2:Scaffold1372:81323:81395:-1 gene:EMSPUG00000001854 transcript:EMSPUT00000001854 description:\"tRNA-Met for anticodon CAU\": Warning: Sequence contains no data \r\n"
       ]
      },
      {
       "output_type": "stream",
       "stream": "stdout",
       "text": [
        "Error: (1431.1) FASTA-Reader: Warning: FASTA-Reader: No residues given\r\n"
       ]
      },
      {
       "output_type": "stream",
       "stream": "stdout",
       "text": [
        "Warning: lcl|Query_30430 EMSPUT00000009276 cds:pseudogene supercontig:GCA_000002235.2:Scaffold265:196960:197032:-1 gene:EMSPUG00000009276 transcript:EMSPUT00000009276 description:\"tRNA-Met for anticodon CAU\": Warning: Sequence contains no data \r\n",
        "Error: (1431.1) FASTA-Reader: Warning: FASTA-Reader: No residues given\r\n",
        "Error: (1431.1) FASTA-Reader: Warning: FASTA-Reader: No residues given\r\n",
        "Error: (1431.1) FASTA-Reader: Warning: FASTA-Reader: No residues given\r\n"
       ]
      },
      {
       "output_type": "stream",
       "stream": "stdout",
       "text": [
        "Warning: lcl|Query_30434 SPU_030002-tr cds:pseudogene supercontig:GCA_000002235.2:Scaffold265:407979:408147:1 gene:SPU_030002 transcript:SPU_030002-tr: Warning: Sequence contains no data \r\n",
        "Warning: lcl|Query_30436 EMSPUT00000007577 cds:pseudogene supercontig:GCA_000002235.2:Scaffold265:424807:424880:-1 gene:EMSPUG00000007577 transcript:EMSPUT00000007577 description:\"tRNA-Asn for anticodon GUU\": Warning: Sequence contains no data \r\n",
        "Warning: lcl|Query_30438 EMSPUT00000005113 cds:pseudogene supercontig:GCA_000002235.2:Scaffold265:508547:508616:-1 gene:EMSPUG00000005113 transcript:EMSPUT00000005113 description:\"Mammalian CPEB3 ribozyme\": Warning: Sequence contains no data \r\n"
       ]
      },
      {
       "output_type": "stream",
       "stream": "stdout",
       "text": [
        "Error: (1431.1) FASTA-Reader: Warning: FASTA-Reader: No residues given\r\n",
        "Error: (1431.1) FASTA-Reader: Warning: FASTA-Reader: No residues given\r\n",
        "Error: (1431.1) FASTA-Reader: Warning: FASTA-Reader: No residues given\r\n",
        "Error: (1431.1) FASTA-Reader: Warning: FASTA-Reader: No residues given\r\n"
       ]
      },
      {
       "output_type": "stream",
       "stream": "stdout",
       "text": [
        "Warning: lcl|Query_30474 EMSPUT00000013748 cds:pseudogene supercontig:GCA_000002235.2:Scaffold2272:19601:19673:1 gene:EMSPUG00000013748 transcript:EMSPUT00000013748 description:\"tRNA-Met for anticodon CAU\": Warning: Sequence contains no data \r\n",
        "Warning: lcl|Query_30475 EMSPUT00000004517 cds:pseudogene supercontig:GCA_000002235.2:Scaffold2272:30682:30754:1 gene:EMSPUG00000004517 transcript:EMSPUT00000004517 description:\"tRNA-Met for anticodon CAU\": Warning: Sequence contains no data \r\n",
        "Warning: lcl|Query_30477 SPU_030031-tr cds:pseudogene supercontig:GCA_000002235.2:Scaffold4413:1201:1301:1 gene:SPU_030031 transcript:SPU_030031-tr: Warning: Sequence contains no data \r\n",
        "Warning: lcl|Query_30489 EMSPUT00000003683 cds:pseudogene supercontig:GCA_000002235.2:Scaffold1198:110129:110197:-1 gene:EMSPUG00000003683 transcript:EMSPUT00000003683 description:\"tRNA-Lys for anticodon CUU\": Warning: Sequence contains no data \r\n",
        "Error: (1431.1) FASTA-Reader: Warning: FASTA-Reader: No residues given\r\n",
        "Error: (1431.1) FASTA-Reader: Warning: FASTA-Reader: No residues given\r\n",
        "Error: (1431.1) FASTA-Reader: Warning: FASTA-Reader: No residues given\r\n",
        "Error: (1431.1) FASTA-Reader: Warning: FASTA-Reader: No residues given\r\n"
       ]
      },
      {
       "output_type": "stream",
       "stream": "stdout",
       "text": [
        "Warning: lcl|Query_30494 EMSPUT00000011824 cds:pseudogene supercontig:GCA_000002235.2:Scaffold15338:102:174:-1 gene:EMSPUG00000011824 transcript:EMSPUT00000011824 description:\"tRNA-Met for anticodon CAU\": Warning: Sequence contains no data \r\n",
        "Warning: lcl|Query_30498 EMSPUT00000014841 cds:pseudogene supercontig:GCA_000002235.2:Scaffold1924:87908:87980:1 gene:EMSPUG00000014841 transcript:EMSPUT00000014841 description:\"tRNA-Met for anticodon CAU\": Warning: Sequence contains no data \r\n",
        "Warning: lcl|Query_30507 EMSPUT00000006927 cds:pseudogene supercontig:GCA_000002235.2:Scaffold615:121378:121452:-1 gene:EMSPUG00000006927 transcript:EMSPUT00000006927 description:\"tRNA-Undet for anticodon \\x3f\\x3f\\x3f\": Warning: Sequence contains no data \r\n",
        "Warning: lcl|Query_30508 EMSPUT00000013956 cds:pseudogene supercontig:GCA_000002235.2:Scaffold615:147141:147211:-1 gene:EMSPUG00000013956 transcript:EMSPUT00000013956 description:\"tRNA-Gly for anticodon GCC\": Warning: Sequence contains no data \r\n",
        "Error: (1431.1) FASTA-Reader: Warning: FASTA-Reader: No residues given\r\n"
       ]
      },
      {
       "output_type": "stream",
       "stream": "stdout",
       "text": [
        "Warning: lcl|Query_30528 EMSPUT00000004046 cds:pseudogene supercontig:GCA_000002235.2:Scaffold133:202984:203056:1 gene:EMSPUG00000004046 transcript:EMSPUT00000004046 description:\"tRNA-Met for anticodon CAU\": Warning: Sequence contains no data \r\n",
        "Error: (1431.1) FASTA-Reader: Warning: FASTA-Reader: No residues given\r\n",
        "Error: (1431.1) FASTA-Reader: Warning: FASTA-Reader: No residues given\r\n"
       ]
      },
      {
       "output_type": "stream",
       "stream": "stdout",
       "text": [
        "Warning: lcl|Query_30547 EMSPUT00000004790 cds:pseudogene supercontig:GCA_000002235.2:Scaffold2683:23430:23502:-1 gene:EMSPUG00000004790 transcript:EMSPUT00000004790 description:\"tRNA-Met for anticodon CAU\": Warning: Sequence contains no data \r\n",
        "Warning: lcl|Query_30556 EMSPUT00000013416 cds:pseudogene supercontig:GCA_000002235.2:Scaffold753:109503:109575:1 gene:EMSPUG00000013416 transcript:EMSPUT00000013416 description:\"tRNA-Met for anticodon CAU\": Warning: Sequence contains no data \r\n",
        "Error: (1431.1) FASTA-Reader: Warning: FASTA-Reader: No residues given\r\n"
       ]
      },
      {
       "output_type": "stream",
       "stream": "stdout",
       "text": [
        "Warning: lcl|Query_30574 EMSPUT00000001401 cds:pseudogene supercontig:GCA_000002235.2:Scaffold3289:4500:4574:-1 gene:EMSPUG00000001401 transcript:EMSPUT00000001401 description:\"tRNA-Glu for anticodon CUC\": Warning: Sequence contains no data \r\n",
        "Error: (1431.1) FASTA-Reader: Warning: FASTA-Reader: No residues given\r\n"
       ]
      },
      {
       "output_type": "stream",
       "stream": "stdout",
       "text": [
        "Warning: lcl|Query_30586 EMSPUT00000003042 cds:pseudogene supercontig:GCA_000002235.2:Scaffold713:242238:242310:1 gene:EMSPUG00000003042 transcript:EMSPUT00000003042 description:\"tRNA-Met for anticodon CAU\": Warning: Sequence contains no data \r\n",
        "Error: (1431.1) FASTA-Reader: Warning: FASTA-Reader: No residues given\r\n"
       ]
      },
      {
       "output_type": "stream",
       "stream": "stdout",
       "text": [
        "Warning: lcl|Query_30604 EMSPUT00000011291 cds:pseudogene supercontig:GCA_000002235.2:Scaffold422:25220:25292:1 gene:EMSPUG00000011291 transcript:EMSPUT00000011291 description:\"tRNA-Lys for anticodon UUU\": Warning: Sequence contains no data \r\n",
        "Error: (1431.1) FASTA-Reader: Warning: FASTA-Reader: No residues given\r\n"
       ]
      },
      {
       "output_type": "stream",
       "stream": "stdout",
       "text": [
        "Warning: lcl|Query_30619 EMSPUT00000009105 cds:pseudogene supercontig:GCA_000002235.2:Scaffold422:325757:325829:-1 gene:EMSPUG00000009105 transcript:EMSPUT00000009105 description:\"tRNA-Val for anticodon CAC\": Warning: Sequence contains no data \r\n"
       ]
      },
      {
       "output_type": "stream",
       "stream": "stdout",
       "text": [
        "Error: (1431.1) FASTA-Reader: Warning: FASTA-Reader: No residues given\r\n",
        "Error: (1431.1) FASTA-Reader: Warning: FASTA-Reader: No residues given\r\n",
        "Error: (1431.1) FASTA-Reader: Warning: FASTA-Reader: No residues given\r\n",
        "Error: (1431.1) FASTA-Reader: Warning: FASTA-Reader: No residues given\r\n",
        "Error: (1431.1) FASTA-Reader: Warning: FASTA-Reader: No residues given\r\n",
        "Error: (1431.1) FASTA-Reader: Warning: FASTA-Reader: No residues given\r\n",
        "Error: (1431.1) FASTA-Reader: Warning: FASTA-Reader: No residues given\r\n"
       ]
      },
      {
       "output_type": "stream",
       "stream": "stdout",
       "text": [
        "Warning: lcl|Query_30637 EMSPUT00000004123 cds:pseudogene supercontig:GCA_000002235.2:Scaffold422:795278:795349:1 gene:EMSPUG00000004123 transcript:EMSPUT00000004123 description:\"tRNA-Glu for anticodon CUC\": Warning: Sequence contains no data \r\n",
        "Warning: lcl|Query_30638 EMSPUT00000013270 cds:pseudogene supercontig:GCA_000002235.2:Scaffold422:797077:797148:1 gene:EMSPUG00000013270 transcript:EMSPUT00000013270 description:\"tRNA-Glu for anticodon CUC\": Warning: Sequence contains no data \r\n",
        "Warning: lcl|Query_30639 EMSPUT00000007790 cds:pseudogene supercontig:GCA_000002235.2:Scaffold422:800728:800799:1 gene:EMSPUG00000007790 transcript:EMSPUT00000007790 description:\"tRNA-Glu for anticodon CUC\": Warning: Sequence contains no data \r\n",
        "Warning: lcl|Query_30640 EMSPUT00000014806 cds:pseudogene supercontig:GCA_000002235.2:Scaffold422:801532:801603:1 gene:EMSPUG00000014806 transcript:EMSPUT00000014806 description:\"tRNA-Glu for anticodon CUC\": Warning: Sequence contains no data \r\n",
        "Warning: lcl|Query_30642 EMSPUT00000002535 cds:pseudogene supercontig:GCA_000002235.2:Scaffold422:804039:804110:1 gene:EMSPUG00000002535 transcript:EMSPUT00000002535 description:\"tRNA-Glu for anticodon CUC\": Warning: Sequence contains no data \r\n",
        "Warning: lcl|Query_30643 EMSPUT00000011556 cds:pseudogene supercontig:GCA_000002235.2:Scaffold422:808237:808308:1 gene:EMSPUG00000011556 transcript:EMSPUT00000011556 description:\"tRNA-Glu for anticodon CUC\": Warning: Sequence contains no data \r\n",
        "Warning: lcl|Query_30644 EMSPUT00000004244 cds:pseudogene supercontig:GCA_000002235.2:Scaffold422:817369:817440:1 gene:EMSPUG00000004244 transcript:EMSPUT00000004244 description:\"tRNA-Glu for anticodon CUC\": Warning: Sequence contains no data \r\n"
       ]
      },
      {
       "output_type": "stream",
       "stream": "stdout",
       "text": [
        "Error: (1431.1) FASTA-Reader: Warning: FASTA-Reader: No residues given\r\n"
       ]
      },
      {
       "output_type": "stream",
       "stream": "stdout",
       "text": [
        "Warning: lcl|Query_30673 SPU_024960-tr cds:pseudogene supercontig:GCA_000002235.2:Scaffold849:135815:138437:-1 gene:SPU_024960 transcript:SPU_024960-tr: Warning: Sequence contains no data \r\n"
       ]
      },
      {
       "output_type": "stream",
       "stream": "stdout",
       "text": [
        "Error: (1431.1) FASTA-Reader: Warning: FASTA-Reader: No residues given\r\n"
       ]
      },
      {
       "output_type": "stream",
       "stream": "stdout",
       "text": [
        "Warning: lcl|Query_30715 EMSPUT00000009646 cds:pseudogene supercontig:GCA_000002235.2:Scaffold4418:2795:2866:1 gene:EMSPUG00000009646 transcript:EMSPUT00000009646 description:\"tRNA-Asp for anticodon GUC\": Warning: Sequence contains no data \r\n"
       ]
      },
      {
       "output_type": "stream",
       "stream": "stdout",
       "text": [
        "Error: (1431.1) FASTA-Reader: Warning: FASTA-Reader: No residues given\r\n"
       ]
      },
      {
       "output_type": "stream",
       "stream": "stdout",
       "text": [
        "Warning: lcl|Query_30748 EMSPUT00000008427 cds:pseudogene supercontig:GCA_000002235.2:Scaffold2:770130:770202:-1 gene:EMSPUG00000008427 transcript:EMSPUT00000008427 description:\"tRNA-Met for anticodon CAU\": Warning: Sequence contains no data \r\n"
       ]
      },
      {
       "output_type": "stream",
       "stream": "stdout",
       "text": [
        "Error: (1431.1) FASTA-Reader: Warning: FASTA-Reader: No residues given\r\n"
       ]
      },
      {
       "output_type": "stream",
       "stream": "stdout",
       "text": [
        "Warning: lcl|Query_30789 EMSPUT00000008078 cds:pseudogene supercontig:GCA_000002235.2:Scaffold704:162179:162249:-1 gene:EMSPUG00000008078 transcript:EMSPUT00000008078 description:\"tRNA-Glu for anticodon CUC\": Warning: Sequence contains no data \r\n"
       ]
      },
      {
       "output_type": "stream",
       "stream": "stdout",
       "text": [
        "Error: (1431.1) FASTA-Reader: Warning: FASTA-Reader: No residues given\r\n"
       ]
      },
      {
       "output_type": "stream",
       "stream": "stdout",
       "text": [
        "Warning: lcl|Query_30850 EMSPUT00000012382 cds:pseudogene supercontig:GCA_000002235.2:Scaffold1311:46360:46432:-1 gene:EMSPUG00000012382 transcript:EMSPUT00000012382 description:\"tRNA-Met for anticodon CAU\": Warning: Sequence contains no data \r\n"
       ]
      },
      {
       "output_type": "stream",
       "stream": "stdout",
       "text": [
        "Error: (1431.1) FASTA-Reader: Warning: FASTA-Reader: No residues given\r\n"
       ]
      },
      {
       "output_type": "stream",
       "stream": "stdout",
       "text": [
        "Warning: lcl|Query_30863 EMSPUT00000002390 cds:pseudogene supercontig:GCA_000002235.2:Scaffold2605:166946:167019:1 gene:EMSPUG00000002390 transcript:EMSPUT00000002390 description:\"tRNA-Ala for anticodon GGC\": Warning: Sequence contains no data \r\n"
       ]
      },
      {
       "output_type": "stream",
       "stream": "stdout",
       "text": [
        "Error: (1431.1) FASTA-Reader: Warning: FASTA-Reader: No residues given\r\n"
       ]
      },
      {
       "output_type": "stream",
       "stream": "stdout",
       "text": [
        "Warning: lcl|Query_30951 EMSPUT00000007817 cds:pseudogene supercontig:GCA_000002235.2:Scaffold160:91247:91319:1 gene:EMSPUG00000007817 transcript:EMSPUT00000007817 description:\"tRNA-Met for anticodon CAU\": Warning: Sequence contains no data \r\n",
        "Error: (1431.1) FASTA-Reader: Warning: FASTA-Reader: No residues given\r\n",
        "Error: (1431.1) FASTA-Reader: Warning: FASTA-Reader: No residues given\r\n"
       ]
      },
      {
       "output_type": "stream",
       "stream": "stdout",
       "text": [
        "Warning: lcl|Query_30974 EMSPUT00000009024 cds:pseudogene supercontig:GCA_000002235.2:Scaffold648:295087:295161:1 gene:EMSPUG00000009024 transcript:EMSPUT00000009024 description:\"tRNA-SeC for anticodon UCA\": Warning: Sequence contains no data \r\n",
        "Warning: lcl|Query_30975 EMSPUT00000014487 cds:pseudogene supercontig:GCA_000002235.2:Scaffold2716:25225:25299:-1 gene:EMSPUG00000014487 transcript:EMSPUT00000014487 description:\"tRNA-Cys for anticodon GCA\": Warning: Sequence contains no data \r\n",
        "Error: (1431.1) FASTA-Reader: Warning: FASTA-Reader: No residues given\r\n",
        "Error: (1431.1) FASTA-Reader: Warning: FASTA-Reader: No residues given\r\n",
        "Error: (1431.1) FASTA-Reader: Warning: FASTA-Reader: No residues given\r\n",
        "Error: (1431.1) FASTA-Reader: Warning: FASTA-Reader: No residues given\r\n",
        "Error: (1431.1) FASTA-Reader: Warning: FASTA-Reader: No residues given\r\n"
       ]
      },
      {
       "output_type": "stream",
       "stream": "stdout",
       "text": [
        "Warning: lcl|Query_30985 EMSPUT00000013562 cds:pseudogene supercontig:GCA_000002235.2:Scaffold614:325769:325841:-1 gene:EMSPUG00000013562 transcript:EMSPUT00000013562 description:\"tRNA-Val for anticodon AAC\": Warning: Sequence contains no data \r\n",
        "Warning: lcl|Query_30986 EMSPUT00000001977 cds:pseudogene supercontig:GCA_000002235.2:Scaffold614:326313:326385:-1 gene:EMSPUG00000001977 transcript:EMSPUT00000001977 description:\"tRNA-Val for anticodon AAC\": Warning: Sequence contains no data \r\n",
        "Warning: lcl|Query_30987 EMSPUT00000004257 cds:pseudogene supercontig:GCA_000002235.2:Scaffold614:326783:326855:-1 gene:EMSPUG00000004257 transcript:EMSPUT00000004257 description:\"tRNA-Val for anticodon AAC\": Warning: Sequence contains no data \r\n",
        "Warning: lcl|Query_30988 EMSPUT00000010702 cds:pseudogene supercontig:GCA_000002235.2:Scaffold614:327775:327847:-1 gene:EMSPUG00000010702 transcript:EMSPUT00000010702 description:\"tRNA-Val for anticodon AAC\": Warning: Sequence contains no data \r\n",
        "Warning: lcl|Query_30989 EMSPUT00000005446 cds:pseudogene supercontig:GCA_000002235.2:Scaffold614:328867:328939:-1 gene:EMSPUG00000005446 transcript:EMSPUT00000005446 description:\"tRNA-Val for anticodon AAC\": Warning: Sequence contains no data \r\n",
        "Error: (1431.1) FASTA-Reader: Warning: FASTA-Reader: No residues given\r\n"
       ]
      },
      {
       "output_type": "stream",
       "stream": "stdout",
       "text": [
        "Warning: lcl|Query_31000 EMSPUT00000015756 cds:pseudogene supercontig:GCA_000002235.2:Scaffold1840:37310:37384:1 gene:EMSPUG00000015756 transcript:EMSPUT00000015756 description:\"tRNA-His for anticodon GUG\": Warning: Sequence contains no data \r\n"
       ]
      },
      {
       "output_type": "stream",
       "stream": "stdout",
       "text": [
        "Error: (1431.1) FASTA-Reader: Warning: FASTA-Reader: No residues given\r\n",
        "Error: (1431.1) FASTA-Reader: Warning: FASTA-Reader: No residues given\r\n"
       ]
      },
      {
       "output_type": "stream",
       "stream": "stdout",
       "text": [
        "Warning: lcl|Query_31060 EMSPUT00000000325 cds:pseudogene supercontig:GCA_000002235.2:Scaffold3:931089:931160:1 gene:EMSPUG00000000325 transcript:EMSPUT00000000325 description:\"tRNA-Pro for anticodon UGG\": Warning: Sequence contains no data \r\n",
        "Warning: lcl|Query_31066 EMSPUT00000009275 cds:pseudogene supercontig:GCA_000002235.2:Scaffold3:1196329:1196400:1 gene:EMSPUG00000009275 transcript:EMSPUT00000009275 description:\"tRNA-Gly for anticodon UCC\": Warning: Sequence contains no data \r\n"
       ]
      },
      {
       "output_type": "stream",
       "stream": "stdout",
       "text": [
        "Error: (1431.1) FASTA-Reader: Warning: FASTA-Reader: No residues given\r\n"
       ]
      },
      {
       "output_type": "stream",
       "stream": "stdout",
       "text": [
        "Warning: lcl|Query_31079 EMSPUT00000010650 cds:pseudogene supercontig:GCA_000002235.2:Scaffold3:1516245:1516316:-1 gene:EMSPUG00000010650 transcript:EMSPUT00000010650 description:\"tRNA-Gly for anticodon UCC\": Warning: Sequence contains no data \r\n"
       ]
      },
      {
       "output_type": "stream",
       "stream": "stdout",
       "text": [
        "Error: (1431.1) FASTA-Reader: Warning: FASTA-Reader: No residues given\r\n"
       ]
      },
      {
       "output_type": "stream",
       "stream": "stdout",
       "text": [
        "Warning: lcl|Query_31153 EMSPUT00000011730 cds:pseudogene supercontig:GCA_000002235.2:Scaffold971:92303:92381:1 gene:EMSPUG00000011730 transcript:EMSPUT00000011730 description:\"tRNA-Tyr for anticodon GUA\": Warning: Sequence contains no data \r\n"
       ]
      }
     ],
     "prompt_number": 26
    },
    {
     "cell_type": "code",
     "collapsed": false,
     "input": [
      "!head /Volumes/caviar/Dropbox/Steven/eimd/data/blast_output/Strongcds_Nuc_Phelv3.tab"
     ],
     "language": "python",
     "metadata": {},
     "outputs": [
      {
       "output_type": "stream",
       "stream": "stdout",
       "text": [
        "SPU_006416-tr\tPhel_clc_contig_1221\t80.36\t112\t20\t1\t1\t112\t228\t337\t3e-20\t  100\r\n",
        "SPU_008830-tr\tPhel_clc_contig_6034\t70.41\t490\t139\t4\t102\t588\t181\t667\t1e-55\t  217\r\n",
        "SPU_024044-tr\tPhel_clc_contig_647\t78.34\t434\t94\t0\t3739\t4172\t3154\t2721\t7e-98\t  360\r\n",
        "SPU_006988-tr\tPhel_clc_contig_8488\t74.96\t675\t169\t0\t1332\t2006\t1529\t2203\t5e-127\t  455\r\n",
        "SPU_006986-tr\tPhel_clc_contig_8154\t71.01\t683\t198\t0\t2368\t3050\t4181\t4863\t5e-92\t  340\r\n",
        "SPU_027648-tr\tPhel_clc_contig_8879\t69.10\t301\t91\t2\t348\t647\t2488\t2189\t3e-25\t  116\r\n",
        "SPU_013660-tr\tPhel_clc_contig_3365\t72.61\t1548\t407\t14\t301\t1838\t395\t1935\t0.0\t  832\r\n",
        "SPU_013659-tr\tPhel_clc_contig_21494\t66.57\t359\t116\t3\t1026\t1382\t555\t199\t4e-19\t96.9\r\n",
        "SPU_022916-tr\tPhel_clc_contig_12417\t69.41\t170\t47\t3\t110\t275\t190\t358\t3e-09\t64.4\r\n",
        "SPU_022912-tr\tPhel_clc_contig_21596\t68.19\t525\t165\t2\t337\t860\t48\t571\t2e-46\t  187\r\n"
       ]
      }
     ],
     "prompt_number": 27
    },
    {
     "cell_type": "code",
     "collapsed": false,
     "input": [
      "!wc -l /Volumes/caviar/Dropbox/Steven/eimd/data/blast_output/Strongcds_Nuc_Phelv3.tab"
     ],
     "language": "python",
     "metadata": {},
     "outputs": [
      {
       "output_type": "stream",
       "stream": "stdout",
       "text": [
        "    8107 /Volumes/caviar/Dropbox/Steven/eimd/data/blast_output/Strongcds_Nuc_Phelv3.tab\r\n"
       ]
      }
     ],
     "prompt_number": 28
    },
    {
     "cell_type": "code",
     "collapsed": false,
     "input": [],
     "language": "python",
     "metadata": {},
     "outputs": []
    }
   ],
   "metadata": {}
  }
 ]
}