{
 "metadata": {
  "name": "",
  "signature": "sha256:76ce7b972047180fae02e75e43931ba7b49eca0430caaadd37bcbb816360a8a5"
 },
 "nbformat": 3,
 "nbformat_minor": 0,
 "worksheets": [
  {
   "cells": [
    {
     "cell_type": "heading",
     "level": 1,
     "metadata": {},
     "source": [
      "Transcriptome Completeness"
     ]
    },
    {
     "cell_type": "markdown",
     "metadata": {},
     "source": [
      "clean transcriptome- "
     ]
    },
    {
     "cell_type": "code",
     "collapsed": false,
     "input": [
      "cd ../paper/data"
     ],
     "language": "python",
     "metadata": {},
     "outputs": [
      {
       "output_type": "stream",
       "stream": "stdout",
       "text": [
        "/Volumes/caviar/Dropbox/Steven/eimd/paper/data\n"
       ]
      }
     ],
     "prompt_number": 3
    },
    {
     "cell_type": "code",
     "collapsed": false,
     "input": [
      "!head -3 Phel_transcriptome_clc_v3.fasta"
     ],
     "language": "python",
     "metadata": {},
     "outputs": [
      {
       "output_type": "stream",
       "stream": "stdout",
       "text": [
        ">Phel_clc_contig_1\r\n",
        "CAAATATATGAACGGTTGATTGTCAACGATTAGTACATGTTTTCATTGTTCCCCACGCCCGCCCCCCCCCACTCAAACATTTAAAGTGTGAAATATTATTTATCCACAAATTTCCTTAAACCTGCAAACTTGTCTGCTGTCTCTTATTGGAAGTTATGAAAAAGAACAACGGGTTTTCTTTAAAGGGTCTGCGTGCGATTTTCAACCTTTTGAGTAATAGCAGTTATTTTGATAACCGATTTTTTTCAAAGCTCAACAGCTTTTTAAAATAAGGAATCCTATAATGGCCAAACGAATACTATAAAAATAAGGGTTCTCTTAATTGTATAAAACGTATAATTTTATCAATTTTGGGACCGTGTAATTTTTTAAAGACCACAAGAATGTTACATACAACAAATAGACGAAACTCGTAGCTTTGGAAACTACGTCATGGGCGTTTGGTCAAAAGCTGGAGAGAAAGAGAGGTGGGGTGCCAGACTTAAGTAGTCACGTGATCTGACCAACGCACATCGGAAGCTCGATCGGATGAAATCTTCTCTATCGTTCTTGCGTCTATACGTGCTACGAAGAGCTGACAGAAGTTTGGACTTGTTTACTTCTTGCACCTGTTGATGGAACGGCCACGGACCTTGTCGCACGCACACCTGGAGCCAGTGCTCGGATCGACGCAACGGATGTACTGTCTTCCCCTTCCGCGTTTCTCAAGTAGGTACTCAAAGTCGTCCGCGTCGAAGTTGGCCTCGGCGTCCCTCTTCTCCAGCTCCTCCATGTCCTCCTCTGTGTAGTACGGGGTGACGAGCACCACCAGGGCGGCCACAATGGCCAGTGCTAGAAGACACTTCGTATTCATTCTGCTGGTGGTTGGATGTGCGCAAACAAGACAGGAGAGACTTATTAGAATC\r\n",
        ">Phel_clc_contig_10\r\n"
       ]
      }
     ],
     "prompt_number": 6
    },
    {
     "cell_type": "code",
     "collapsed": false,
     "input": [
      "!fgrep -c \">\" Phel_transcriptome_clc_v3.fasta"
     ],
     "language": "python",
     "metadata": {},
     "outputs": [
      {
       "output_type": "stream",
       "stream": "stdout",
       "text": [
        "29476\r\n"
       ]
      }
     ],
     "prompt_number": 7
    },
    {
     "cell_type": "heading",
     "level": 2,
     "metadata": {},
     "source": [
      "Patria "
     ]
    },
    {
     "cell_type": "markdown",
     "metadata": {},
     "source": [
      "<img src=\"http://eagle.fish.washington.edu/cnidarian/skitch/Downloads___EchinoBase_19D1CFB5.png\" alt=\"Downloads___EchinoBase_19D1CFB5.png\"/>"
     ]
    },
    {
     "cell_type": "code",
     "collapsed": false,
     "input": [
      "cd /Volumes/caviar/Dropbox/Steven/eimd/data/blast_db"
     ],
     "language": "python",
     "metadata": {},
     "outputs": [
      {
       "output_type": "stream",
       "stream": "stdout",
       "text": [
        "/Volumes/caviar/Dropbox/Steven/eimd/data/blast_db\n"
       ]
      }
     ],
     "prompt_number": 8
    },
    {
     "cell_type": "code",
     "collapsed": false,
     "input": [
      "!head Pm_genes.fasta"
     ],
     "language": "python",
     "metadata": {},
     "outputs": [
      {
       "output_type": "stream",
       "stream": "stdout",
       "text": [
        ">PMI_010847-RA\r\n",
        "GCTAACATAGAGATCTTCCTGCCACGGATCGAGGCAGTGGTCCTGTTCGGTGAGCCGGTC\r\n",
        "AGGTGGGAGACCAATCTCCAGCTGATTTTGGACATGTTGATCACCAACGGTCAGCTAAAC\r\n",
        "CACACCCCTGACCACGTCCCGTACCCTAACATGCCGGTCCTTGGATGCAACGTGGATCTC\r\n",
        "ATGTGGATGTCCGAGGCTCATCTACCAAGGTTAGGACATGGCTCTTTCATGGTGTGCCTA\r\n",
        "GAATCACTTTACAAGAAAATCACAGGTCGGGATCTGCTGTACACCGTTCTGACGGGCAAA\r\n",
        "CCTAGTCAGATAACGTACCACTGTGCTGAGAATGTACTAAGCCAACAAGCGAGGGCCATG\r\n",
        "GGATGTCAGGGCCCACTCCGAACACTCTATGCCATTGGTGACAACCCGATGACCGACATC\r\n",
        "TACGGGGCCAATCTGTACAACCAGTACCTCACAGCGAAAGCTGCTAAAGGCCTACAGAAA\r\n",
        "CCAGGTAGCCGCCAGCCAGCGGCCATACGCCAGGGCGTGGTCATGTCCGATCCCCACGAC\r\n"
       ]
      }
     ],
     "prompt_number": 10
    },
    {
     "cell_type": "code",
     "collapsed": false,
     "input": [
      "!fgrep -c \">\" Pm_genes.fasta"
     ],
     "language": "python",
     "metadata": {},
     "outputs": [
      {
       "output_type": "stream",
       "stream": "stdout",
       "text": [
        "29805\r\n"
       ]
      }
     ],
     "prompt_number": 13
    },
    {
     "cell_type": "heading",
     "level": 3,
     "metadata": {},
     "source": [
      "blastn against Phel"
     ]
    },
    {
     "cell_type": "code",
     "collapsed": false,
     "input": [
      "!/Volumes/Bay3/Software/ncbi-blast-2.2.29\\+/bin/makeblastdb \\\n",
      "-in /Volumes/caviar/Dropbox/Steven/eimd/data/blast_db/Phel_transcriptome_clc_v3.fasta \\\n",
      "-dbtype nucl \\\n",
      "-out /Volumes/caviar/Dropbox/Steven/eimd/data/blast_db/Phel_transcriptome_clc_v3"
     ],
     "language": "python",
     "metadata": {},
     "outputs": [
      {
       "output_type": "stream",
       "stream": "stdout",
       "text": [
        "\r\n",
        "\r\n",
        "Building a new DB, current time: 09/23/2014 09:04:19\r\n",
        "New DB name:   /Volumes/caviar/Dropbox/Steven/eimd/data/blast_db/Phel_transcriptome_clc_v3\r\n",
        "New DB title:  /Volumes/caviar/Dropbox/Steven/eimd/data/blast_db/Phel_transcriptome_clc_v3.fasta\r\n",
        "Sequence type: Nucleotide\r\n",
        "Keep Linkouts: T\r\n",
        "Keep MBits: T\r\n",
        "Maximum file size: 1000000000B\r\n"
       ]
      },
      {
       "output_type": "stream",
       "stream": "stdout",
       "text": [
        "Adding sequences from FASTA; added 29476 sequences in 3.20916 seconds.\r\n"
       ]
      }
     ],
     "prompt_number": 12
    },
    {
     "cell_type": "code",
     "collapsed": false,
     "input": [
      "!/Volumes/Bay3/Software/ncbi-blast-2.2.29\\+/bin/blastn \\\n",
      "-query /Volumes/caviar/Dropbox/Steven/eimd/data/blast_db/Pm_genes.fasta \\\n",
      "-db /Volumes/caviar/Dropbox/Steven/eimd/data/blast_db/Phel_transcriptome_clc_v3 \\\n",
      "-out /Volumes/caviar/Dropbox/Steven/eimd/data/blast_output/Pm_gene_Phelv3.tab \\\n",
      "-outfmt 6 \\\n",
      "-max_target_seqs 1 \\\n",
      "-max_hsps 1 \\\n",
      "-evalue 1E-05 \\\n",
      "-num_threads 4 \\\n",
      "-task blastn"
     ],
     "language": "python",
     "metadata": {},
     "outputs": [],
     "prompt_number": 9
    },
    {
     "cell_type": "code",
     "collapsed": false,
     "input": [
      "!head /Volumes/caviar/Dropbox/Steven/eimd/data/blast_output/Pm_gene_Phelv3.tab"
     ],
     "language": "python",
     "metadata": {},
     "outputs": [
      {
       "output_type": "stream",
       "stream": "stdout",
       "text": [
        "PMI_010847-RA\tPhel_clc_contig_4180\t72.64\t859\t207\t7\t8\t861\t567\t1402\t4e-136\t  484\r\n",
        "PMI_010846-RA\tPhel_clc_contig_4180\t77.66\t394\t88\t0\t164\t557\t152\t545\t3e-85\t  315\r\n",
        "PMI_010849-RA\tPhel_clc_contig_6209\t80.58\t417\t79\t1\t104\t520\t1130\t716\t4e-106\t  385\r\n",
        "PMI_010848-RA\tPhel_clc_contig_1306\t72.86\t140\t38\t0\t279\t418\t5051\t4912\t4e-15\t82.4\r\n",
        "PMI_010850-RA\tPhel_clc_contig_21253\t73.99\t223\t40\t1\t199\t403\t46\t268\t2e-36\t  152\r\n",
        "PMI_028130-RA\tPhel_clc_contig_1009\t81.50\t427\t79\t0\t1\t427\t2558\t2132\t4e-115\t  414\r\n",
        "PMI_011388-RA\tPhel_clc_contig_9048\t81.54\t428\t76\t3\t713\t1139\t654\t1079\t6e-112\t  405\r\n",
        "PMI_011387-RA\tPhel_clc_contig_22569\t74.76\t947\t194\t3\t421\t1343\t5\t930\t0.0\t  657\r\n",
        "PMI_025863-RA\tPhel_clc_contig_4219\t83.38\t337\t56\t0\t159\t495\t3078\t2742\t9e-98\t  356\r\n",
        "PMI_005730-RA\tPhel_clc_contig_14067\t76.66\t437\t100\t2\t22\t457\t2582\t2147\t3e-87\t  322\r\n"
       ]
      }
     ],
     "prompt_number": 10
    },
    {
     "cell_type": "code",
     "collapsed": false,
     "input": [
      "!wc -l /Volumes/caviar/Dropbox/Steven/eimd/data/blast_output/Pm_gene_Phelv3.tab"
     ],
     "language": "python",
     "metadata": {},
     "outputs": [
      {
       "output_type": "stream",
       "stream": "stdout",
       "text": [
        "   15444 /Volumes/caviar/Dropbox/Steven/eimd/data/blast_output/Pm_gene_Phelv3.tab\r\n"
       ]
      }
     ],
     "prompt_number": 11
    },
    {
     "cell_type": "code",
     "collapsed": false,
     "input": [
      "29805-15444"
     ],
     "language": "python",
     "metadata": {},
     "outputs": [
      {
       "metadata": {},
       "output_type": "pyout",
       "prompt_number": 14,
       "text": [
        "14361"
       ]
      }
     ],
     "prompt_number": 14
    },
    {
     "cell_type": "code",
     "collapsed": false,
     "input": [],
     "language": "python",
     "metadata": {},
     "outputs": [],
     "prompt_number": 16
    },
    {
     "cell_type": "code",
     "collapsed": false,
     "input": [],
     "language": "python",
     "metadata": {},
     "outputs": []
    }
   ],
   "metadata": {}
  }
 ]
}