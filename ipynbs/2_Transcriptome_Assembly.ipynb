{
 "metadata": {
  "name": "",
  "signature": "sha256:e5adf4a16ce572d68fde6f11d8998eee6ce72763483e619d1d6ac509d7cca8c8"
 },
 "nbformat": 3,
 "nbformat_minor": 0,
 "worksheets": [
  {
   "cells": [
    {
     "cell_type": "heading",
     "level": 1,
     "metadata": {},
     "source": [
      "Transcriptome Assembly"
     ]
    },
    {
     "cell_type": "heading",
     "level": 2,
     "metadata": {},
     "source": [
      "Trinity"
     ]
    },
    {
     "cell_type": "markdown",
     "metadata": {},
     "source": [
      "```\n",
      "################################\n",
      "## Counts of transcripts, etc.\n",
      "################################\n",
      "Total trinity 'genes':\t117729\n",
      "Total trinity transcripts:\t145222\n",
      "Percent GC: 40.87\n",
      "\n",
      "########################################\n",
      "Stats based on ALL transcript contigs:\n",
      "########################################\n",
      "\n",
      "\tContig N10: 3392\n",
      "\tContig N20: 2262\n",
      "\tContig N30: 1685\n",
      "\tContig N40: 1268\n",
      "\tContig N50: 946\n",
      "\n",
      "\tMedian contig length: 335\n",
      "\tAverage contig: 617.51\n",
      "\tTotal assembled bases: 89676218\n",
      "\n",
      "\n",
      "#####################################################\n",
      "## Stats based on ONLY LONGEST ISOFORM per 'GENE':\n",
      "#####################################################\n",
      "\n",
      "\tContig N10: 3252\n",
      "\tContig N20: 2047\n",
      "\tContig N30: 1465\n",
      "\tContig N40: 1065\n",
      "\tContig N50: 767\n",
      "\n",
      "\tMedian contig length: 305\n",
      "\tAverage contig: 547.96\n",
      "\tTotal assembled bases: 64511364\n",
      "\n",
      "\n",
      "#!/bin/bash\n",
      "\n",
      "TRIN=\"/home/ggoetz/compile/trinityrnaseq_r20140413p1\"\n",
      "\n",
      "export PATH=~/compile/rsem-1.2.3/sam:${PATH}\n",
      "\n",
      "${TRIN}/Trinity \\\n",
      "\t--seqType fq \\\n",
      "\t--JM 44G \\\n",
      "\t--left left.fq \\\n",
      "\t--right right.fq \\\n",
      "\t--CPU 6 \\\n",
      "\t--normalize_reads \\\n",
      "\t--min_kmer_cov 2 \\\n",
      "\t--quality_trimming_params \\\n",
      "\t\"LEADING:5 TRAILING:5 SLIDINGWINDOW:4:15 MINLENGTH:36\"\n",
      "\n",
      "```"
     ]
    },
    {
     "cell_type": "markdown",
     "metadata": {},
     "source": [
      "output  <http://eagle.fish.washington.edu/cnidarian/SeaStar/trinity_assemblies/run1/Trinity.fasta>"
     ]
    },
    {
     "cell_type": "code",
     "collapsed": false,
     "input": [
      "!head //Volumes/web/cnidarian/SeaStar/trinity_assemblies/run1/Trinity.fasta"
     ],
     "language": "python",
     "metadata": {},
     "outputs": [
      {
       "output_type": "stream",
       "stream": "stdout",
       "text": [
        ">c2_g1_i1 len=233 path=[20:0-32 20:33-65 20:66-98 52:99-232]\r\n",
        "TCTTGGTCTTGGACGTGGACTTGCTGGTCTTGGTCTTGGTCTTGGACGTGGACTTGCTGG\r\n",
        "TCTTGGTCTTGGTCTTGGACGTGGACTTGCTGGTCTTGGTCTTGTTCTTGGTCTTGTTCT\r\n",
        "TTGTCTTGTTCTTGTTCTTGTTTATGTCCTTGTTTAGGGTTGTTGTTGGGTTTGTTGCTG\r\n",
        "TGTTTTGGCGGGTTGTTGTTGTTTTGGGGGTTTTGGTTGTTTGTTTGTTTGTG\r\n",
        ">c108_g1_i1 len=239 path=[1:0-131 133:132-238]\r\n",
        "CACTTCGTATATGCTTTATAGACTTCTTGTACGATGTAAAACTCAGACTTTTAAAATCTT\r\n",
        "TTCTCATTTTTTGTAAAACTTTATAGAATAATTTTTTCTCTCTTGGGATATATCTACACT\r\n",
        "TTCAACTTGCTTAAAAAAAATATAGATAGTGTATGGTGTATGGAGGATTGTGTATTTCAC\r\n",
        "ATGTGAGGTACTGTGTTACTAAATTTAGTTGTCGTGACAGAGAGAGGAACAGAGCAGGG\r\n"
       ]
      }
     ],
     "prompt_number": 3
    },
    {
     "cell_type": "code",
     "collapsed": false,
     "input": [
      "!fgrep -c \">\" /Volumes/web/cnidarian/SeaStar/trinity_assemblies/run1/Trinity.fasta"
     ],
     "language": "python",
     "metadata": {},
     "outputs": [
      {
       "output_type": "stream",
       "stream": "stdout",
       "text": [
        "145222\r\n"
       ]
      }
     ],
     "prompt_number": 5
    },
    {
     "cell_type": "code",
     "collapsed": false,
     "input": [
      "!fgrep -c \">\" /Volumes/web/cnidarian/SeaStar/trinity_assemblies/run2/Trinity.Cufffly.fasta"
     ],
     "language": "python",
     "metadata": {},
     "outputs": [
      {
       "output_type": "stream",
       "stream": "stdout",
       "text": [
        "160038\r\n"
       ]
      }
     ],
     "prompt_number": 6
    },
    {
     "cell_type": "heading",
     "level": 2,
     "metadata": {},
     "source": [
      "CLC"
     ]
    },
    {
     "cell_type": "markdown",
     "metadata": {},
     "source": [
      "Trimming"
     ]
    },
    {
     "cell_type": "markdown",
     "metadata": {},
     "source": [
      "<img src=\"http://eagle.fish.washington.edu/cnidarian/skitch/greenbird_1977290F.png\" alt=\"greenbird_1977290F.png\"/>"
     ]
    },
    {
     "cell_type": "markdown",
     "metadata": {},
     "source": [
      "de novo assembly\n"
     ]
    },
    {
     "cell_type": "markdown",
     "metadata": {},
     "source": [
      "<img src=\"http://eagle.fish.washington.edu/cnidarian/skitch/greenbird_19772A25.png\" alt=\"greenbird_19772A25.png\"/>"
     ]
    },
    {
     "cell_type": "markdown",
     "metadata": {},
     "source": [
      "summary stats\n"
     ]
    },
    {
     "cell_type": "markdown",
     "metadata": {},
     "source": [
      "<img src=\"http://eagle.fish.washington.edu/cnidarian/skitch/greenbird_19772955.png\" alt=\"greenbird_19772955.png\"/>"
     ]
    },
    {
     "cell_type": "code",
     "collapsed": false,
     "input": [
      "!head /Volumes/web/cnidarian/SeaStar_transc_v2.fa"
     ],
     "language": "python",
     "metadata": {},
     "outputs": [
      {
       "output_type": "stream",
       "stream": "stdout",
       "text": [
        ">3291_5903_10007_H94MGADXX_V_CF71_ATCACG_R1_(paired)_trimmed_(paired)_contig_1\r\n",
        "CAAATATATGAACGGTTGATTGTCAACGATTAGTACATGTTTTCATTGTTCCCCACGCCC\r\n",
        "GCCCCCCCCCACTCAAACATTTAAAGTGTGAAATATTATTTATCCACAAATTTCCTTAAA\r\n",
        "CCTGCAAACTTGTCTGCTGTCTCTTATTGGAAGTTATGAAAAAGAACAACGGGTTTTCTT\r\n",
        "TAAAGGGTCTGCGTGCGATTTTCAACCTTTTGAGTAATAGCAGTTATTTTGATAACCGAT\r\n",
        "TTTTTTCAAAGCTCAACAGCTTTTTAAAATAAGGAATCCTATAATGGCCAAACGAATACT\r\n",
        "ATAAAAATAAGGGTTCTCTTAATTGTATAAAACGTATAATTTTATCAATTTTGGGACCGT\r\n",
        "GTAATTTTTTAAAGACCACAAGAATGTTACATACAACAAATAGACGAAACTCGTAGCTTT\r\n",
        "GGAAACTACGTCATGGGCGTTTGGTCAAAAGCTGGAGAGAAAGAGAGGTGGGGTGCCAGA\r\n",
        "CTTAAGTAGTCACGTGATCTGACCAACGCACATCGGAAGCTCGATCGGATGAAATCTTCT\r\n"
       ]
      }
     ],
     "prompt_number": 8
    },
    {
     "cell_type": "code",
     "collapsed": false,
     "input": [
      "!fgrep -c \">\" /Volumes/web/cnidarian/SeaStar_transc_v2.fa"
     ],
     "language": "python",
     "metadata": {},
     "outputs": [
      {
       "output_type": "stream",
       "stream": "stdout",
       "text": [
        "30578\r\n"
       ]
      }
     ],
     "prompt_number": 9
    },
    {
     "cell_type": "code",
     "collapsed": false,
     "input": [
      "!head ../data/Phel_transcriptome_clc.fa"
     ],
     "language": "python",
     "metadata": {},
     "outputs": [
      {
       "output_type": "stream",
       "stream": "stdout",
       "text": [
        ">Phel_clc_contig_1\r\n",
        "CAAATATATGAACGGTTGATTGTCAACGATTAGTACATGTTTTCATTGTTCCCCACGCCC\r\n",
        "GCCCCCCCCCACTCAAACATTTAAAGTGTGAAATATTATTTATCCACAAATTTCCTTAAA\r\n",
        "CCTGCAAACTTGTCTGCTGTCTCTTATTGGAAGTTATGAAAAAGAACAACGGGTTTTCTT\r\n",
        "TAAAGGGTCTGCGTGCGATTTTCAACCTTTTGAGTAATAGCAGTTATTTTGATAACCGAT\r\n",
        "TTTTTTCAAAGCTCAACAGCTTTTTAAAATAAGGAATCCTATAATGGCCAAACGAATACT\r\n",
        "ATAAAAATAAGGGTTCTCTTAATTGTATAAAACGTATAATTTTATCAATTTTGGGACCGT\r\n",
        "GTAATTTTTTAAAGACCACAAGAATGTTACATACAACAAATAGACGAAACTCGTAGCTTT\r\n",
        "GGAAACTACGTCATGGGCGTTTGGTCAAAAGCTGGAGAGAAAGAGAGGTGGGGTGCCAGA\r\n",
        "CTTAAGTAGTCACGTGATCTGACCAACGCACATCGGAAGCTCGATCGGATGAAATCTTCT\r\n"
       ]
      }
     ],
     "prompt_number": 1
    },
    {
     "cell_type": "code",
     "collapsed": false,
     "input": [
      "!fgrep -c \">\" ../data/Phel_transcriptome_clc.fa"
     ],
     "language": "python",
     "metadata": {},
     "outputs": [
      {
       "output_type": "stream",
       "stream": "stdout",
       "text": [
        "30578\r\n"
       ]
      }
     ],
     "prompt_number": 2
    },
    {
     "cell_type": "markdown",
     "metadata": {},
     "source": [
      "Removing Bacteria sequences"
     ]
    },
    {
     "cell_type": "code",
     "collapsed": false,
     "input": [
      "!head ../data/BacteriaContigs_2remove.txt"
     ],
     "language": "python",
     "metadata": {},
     "outputs": [
      {
       "output_type": "stream",
       "stream": "stdout",
       "text": [
        "Phel_clc_contig_51\r\n",
        "Phel_clc_contig_96\r\n",
        "Phel_clc_contig_346\r\n",
        "Phel_clc_contig_380\r\n",
        "Phel_clc_contig_706\r\n",
        "Phel_clc_contig_734\r\n",
        "Phel_clc_contig_760\r\n",
        "Phel_clc_contig_785\r\n",
        "Phel_clc_contig_869\r\n",
        "Phel_clc_contig_915\r\n"
       ]
      }
     ],
     "prompt_number": 4
    },
    {
     "cell_type": "code",
     "collapsed": false,
     "input": [
      "!wc -l ../data/BacteriaContigs_2remove.txt"
     ],
     "language": "python",
     "metadata": {},
     "outputs": [
      {
       "output_type": "stream",
       "stream": "stdout",
       "text": [
        "    1101 ../data/BacteriaContigs_2remove.txt\r\n"
       ]
      }
     ],
     "prompt_number": 5
    },
    {
     "cell_type": "code",
     "collapsed": false,
     "input": [
      "!tr '\\n' \"|\" < ../data/BacteriaContigs_2remove.txt | pbcopy"
     ],
     "language": "python",
     "metadata": {},
     "outputs": [],
     "prompt_number": 13
    },
    {
     "cell_type": "heading",
     "level": 3,
     "metadata": {},
     "source": [
      "A tabular format file of orginal transcriptome"
     ]
    },
    {
     "cell_type": "code",
     "collapsed": false,
     "input": [
      "!head -1 ../paper/data/Phel_transcriptome_clc.tab"
     ],
     "language": "python",
     "metadata": {},
     "outputs": [
      {
       "output_type": "stream",
       "stream": "stdout",
       "text": [
        "Phel_clc_contig_1\t\tCAAATATATGAACGGTTGATTGTCAACGATTAGTACATGTTTTCATTGTTCCCCACGCCCGCCCCCCCCCACTCAAACATTTAAAGTGTGAAATATTATTTATCCACAAATTTCCTTAAACCTGCAAACTTGTCTGCTGTCTCTTATTGGAAGTTATGAAAAAGAACAACGGGTTTTCTTTAAAGGGTCTGCGTGCGATTTTCAACCTTTTGAGTAATAGCAGTTATTTTGATAACCGATTTTTTTCAAAGCTCAACAGCTTTTTAAAATAAGGAATCCTATAATGGCCAAACGAATACTATAAAAATAAGGGTTCTCTTAATTGTATAAAACGTATAATTTTATCAATTTTGGGACCGTGTAATTTTTTAAAGACCACAAGAATGTTACATACAACAAATAGACGAAACTCGTAGCTTTGGAAACTACGTCATGGGCGTTTGGTCAAAAGCTGGAGAGAAAGAGAGGTGGGGTGCCAGACTTAAGTAGTCACGTGATCTGACCAACGCACATCGGAAGCTCGATCGGATGAAATCTTCTCTATCGTTCTTGCGTCTATACGTGCTACGAAGAGCTGACAGAAGTTTGGACTTGTTTACTTCTTGCACCTGTTGATGGAACGGCCACGGACCTTGTCGCACGCACACCTGGAGCCAGTGCTCGGATCGACGCAACGGATGTACTGTCTTCCCCTTCCGCGTTTCTCAAGTAGGTACTCAAAGTCGTCCGCGTCGAAGTTGGCCTCGGCGTCCCTCTTCTCCAGCTCCTCCATGTCCTCCTCTGTGTAGTACGGGGTGACGAGCACCACCAGGGCGGCCACAATGGCCAGTGCTAGAAGACACTTCGTATTCATTCTGCTGGTGGTTGGATGTGCGCAAACAAGACAGGAGAGACTTATTAGAATC\r\n"
       ]
      }
     ],
     "prompt_number": 10
    },
    {
     "cell_type": "code",
     "collapsed": false,
     "input": [
      "!wc -l ../paper/data/Phel_transcriptome_clc.tab"
     ],
     "language": "python",
     "metadata": {},
     "outputs": [
      {
       "output_type": "stream",
       "stream": "stdout",
       "text": [
        "   30578 ../paper/data/Phel_transcriptome_clc.tab\r\n"
       ]
      }
     ],
     "prompt_number": 16
    },
    {
     "cell_type": "code",
     "collapsed": false,
     "input": [
      "!grep -Ev 'Phel_clc_contig_51|Phel_clc_contig_96|Phel_clc_contig_346|Phel_clc_contig_380|Phel_clc_contig_706|Phel_clc_contig_734|Phel_clc_contig_760|Phel_clc_contig_785|Phel_clc_contig_869|Phel_clc_contig_915|Phel_clc_contig_917|Phel_clc_contig_944|Phel_clc_contig_967|Phel_clc_contig_969|Phel_clc_contig_1038|Phel_clc_contig_1162|Phel_clc_contig_1163|Phel_clc_contig_1166|Phel_clc_contig_1263|Phel_clc_contig_1268|Phel_clc_contig_1269|Phel_clc_contig_1270|Phel_clc_contig_1281|Phel_clc_contig_1302|Phel_clc_contig_1350|Phel_clc_contig_1377|Phel_clc_contig_1407|Phel_clc_contig_1465|Phel_clc_contig_1543|Phel_clc_contig_1551|Phel_clc_contig_1568|Phel_clc_contig_1592|Phel_clc_contig_1597|Phel_clc_contig_1705|Phel_clc_contig_1782|Phel_clc_contig_1814|Phel_clc_contig_1844|Phel_clc_contig_1917|Phel_clc_contig_1918|Phel_clc_contig_1977|Phel_clc_contig_2211|Phel_clc_contig_2214|Phel_clc_contig_2227|Phel_clc_contig_2234|Phel_clc_contig_2314|Phel_clc_contig_2398|Phel_clc_contig_2428|Phel_clc_contig_2454|Phel_clc_contig_2506|Phel_clc_contig_2607|Phel_clc_contig_2637|Phel_clc_contig_2640|Phel_clc_contig_2651|Phel_clc_contig_2656|Phel_clc_contig_2671|Phel_clc_contig_2710|Phel_clc_contig_2711|Phel_clc_contig_2754|Phel_clc_contig_2805|Phel_clc_contig_2835|Phel_clc_contig_2918|Phel_clc_contig_2933|Phel_clc_contig_3038|Phel_clc_contig_3132|Phel_clc_contig_3133|Phel_clc_contig_3141|Phel_clc_contig_3183|Phel_clc_contig_3195|Phel_clc_contig_3268|Phel_clc_contig_3487|Phel_clc_contig_3696|Phel_clc_contig_3825|Phel_clc_contig_3918|Phel_clc_contig_3959|Phel_clc_contig_3961|Phel_clc_contig_3986|Phel_clc_contig_4040|Phel_clc_contig_4069|Phel_clc_contig_4112|Phel_clc_contig_4212|Phel_clc_contig_4266|Phel_clc_contig_4468|Phel_clc_contig_4479|Phel_clc_contig_4530|Phel_clc_contig_4553|Phel_clc_contig_4580|Phel_clc_contig_4667|Phel_clc_contig_4674|Phel_clc_contig_4754|Phel_clc_contig_4755|Phel_clc_contig_4767|Phel_clc_contig_4786|Phel_clc_contig_4827|Phel_clc_contig_4834|Phel_clc_contig_4875|Phel_clc_contig_4888|Phel_clc_contig_4912|Phel_clc_contig_4948|Phel_clc_contig_4959|Phel_clc_contig_5014|Phel_clc_contig_5020|Phel_clc_contig_5038|Phel_clc_contig_5066|Phel_clc_contig_5093|Phel_clc_contig_5228|Phel_clc_contig_5246|Phel_clc_contig_5273|Phel_clc_contig_5349|Phel_clc_contig_5357|Phel_clc_contig_5466|Phel_clc_contig_5474|Phel_clc_contig_5555|Phel_clc_contig_5590|Phel_clc_contig_5634|Phel_clc_contig_5683|Phel_clc_contig_5685|Phel_clc_contig_5700|Phel_clc_contig_5727|Phel_clc_contig_5764|Phel_clc_contig_5781|Phel_clc_contig_5824|Phel_clc_contig_5899|Phel_clc_contig_5948|Phel_clc_contig_5955|Phel_clc_contig_6000|Phel_clc_contig_6002|Phel_clc_contig_6041|Phel_clc_contig_6050|Phel_clc_contig_6116|Phel_clc_contig_6162|Phel_clc_contig_6180|Phel_clc_contig_6193|Phel_clc_contig_6222|Phel_clc_contig_6225|Phel_clc_contig_6321|Phel_clc_contig_6373|Phel_clc_contig_6376|Phel_clc_contig_6488|Phel_clc_contig_6513|Phel_clc_contig_6661|Phel_clc_contig_6692|Phel_clc_contig_6815|Phel_clc_contig_6920|Phel_clc_contig_7040|Phel_clc_contig_7049|Phel_clc_contig_7063|Phel_clc_contig_7130|Phel_clc_contig_7148|Phel_clc_contig_7239|Phel_clc_contig_7304|Phel_clc_contig_7346|Phel_clc_contig_7384|Phel_clc_contig_7534|Phel_clc_contig_7616|Phel_clc_contig_7617|Phel_clc_contig_7620|Phel_clc_contig_7742|Phel_clc_contig_7762|Phel_clc_contig_7771|Phel_clc_contig_7874|Phel_clc_contig_7883|Phel_clc_contig_7886|Phel_clc_contig_7949|Phel_clc_contig_7962|Phel_clc_contig_7968|Phel_clc_contig_7973|Phel_clc_contig_8019|Phel_clc_contig_8039|Phel_clc_contig_8060|Phel_clc_contig_8164|Phel_clc_contig_8243|Phel_clc_contig_8482|Phel_clc_contig_8483|Phel_clc_contig_8496|Phel_clc_contig_8543|Phel_clc_contig_8544|Phel_clc_contig_8637|Phel_clc_contig_8653|Phel_clc_contig_8654|Phel_clc_contig_8655|Phel_clc_contig_8694|Phel_clc_contig_8701|Phel_clc_contig_8732|Phel_clc_contig_8739|Phel_clc_contig_8773|Phel_clc_contig_8827|Phel_clc_contig_8956|Phel_clc_contig_8996|Phel_clc_contig_9085|Phel_clc_contig_9104|Phel_clc_contig_9203|Phel_clc_contig_9253|Phel_clc_contig_9380|Phel_clc_contig_9382|Phel_clc_contig_9398|Phel_clc_contig_9455|Phel_clc_contig_9519|Phel_clc_contig_9608|Phel_clc_contig_9653|Phel_clc_contig_9658|Phel_clc_contig_9666|Phel_clc_contig_9742|Phel_clc_contig_9765|Phel_clc_contig_9890|Phel_clc_contig_9900|Phel_clc_contig_9950|Phel_clc_contig_9970|Phel_clc_contig_9983|Phel_clc_contig_9984|Phel_clc_contig_9997|Phel_clc_contig_10118|Phel_clc_contig_10145|Phel_clc_contig_10185|Phel_clc_contig_10225|Phel_clc_contig_10239|Phel_clc_contig_10386|Phel_clc_contig_10387|Phel_clc_contig_10453|Phel_clc_contig_10476|Phel_clc_contig_10498|Phel_clc_contig_10518|Phel_clc_contig_10532|Phel_clc_contig_10655|Phel_clc_contig_10695|Phel_clc_contig_10708|Phel_clc_contig_10719|Phel_clc_contig_10735|Phel_clc_contig_10836|Phel_clc_contig_10979|Phel_clc_contig_11003|Phel_clc_contig_11041|Phel_clc_contig_11046|Phel_clc_contig_11060|Phel_clc_contig_11094|Phel_clc_contig_11120|Phel_clc_contig_11126|Phel_clc_contig_11174|Phel_clc_contig_11247|Phel_clc_contig_11270|Phel_clc_contig_11305|Phel_clc_contig_11397|Phel_clc_contig_11399|Phel_clc_contig_11577|Phel_clc_contig_11587|Phel_clc_contig_11633|Phel_clc_contig_11637|Phel_clc_contig_11661|Phel_clc_contig_11723|Phel_clc_contig_11892|Phel_clc_contig_11913|Phel_clc_contig_11994|Phel_clc_contig_11995|Phel_clc_contig_12011|Phel_clc_contig_12056|Phel_clc_contig_12114|Phel_clc_contig_12115|Phel_clc_contig_12182|Phel_clc_contig_12307|Phel_clc_contig_12414|Phel_clc_contig_12432|Phel_clc_contig_12443|Phel_clc_contig_12478|Phel_clc_contig_12536|Phel_clc_contig_12569|Phel_clc_contig_12618|Phel_clc_contig_12658|Phel_clc_contig_12790|Phel_clc_contig_12842|Phel_clc_contig_12852|Phel_clc_contig_12867|Phel_clc_contig_12915|Phel_clc_contig_12969|Phel_clc_contig_12978|Phel_clc_contig_13016|Phel_clc_contig_13052|Phel_clc_contig_13086|Phel_clc_contig_13187|Phel_clc_contig_13195|Phel_clc_contig_13351|Phel_clc_contig_13357|Phel_clc_contig_13367|Phel_clc_contig_13428|Phel_clc_contig_13445|Phel_clc_contig_13536|Phel_clc_contig_13559|Phel_clc_contig_13568|Phel_clc_contig_13598|Phel_clc_contig_13599|Phel_clc_contig_13647|Phel_clc_contig_13701|Phel_clc_contig_13767|Phel_clc_contig_14061|Phel_clc_contig_14134|Phel_clc_contig_14229|Phel_clc_contig_14278|Phel_clc_contig_14359|Phel_clc_contig_14422|Phel_clc_contig_14479|Phel_clc_contig_14569|Phel_clc_contig_14638|Phel_clc_contig_14649|Phel_clc_contig_14673|Phel_clc_contig_14751|Phel_clc_contig_14857|Phel_clc_contig_14872|Phel_clc_contig_14895|Phel_clc_contig_14967|Phel_clc_contig_15102|Phel_clc_contig_15163|Phel_clc_contig_15164|Phel_clc_contig_15188|Phel_clc_contig_15232|Phel_clc_contig_15242|Phel_clc_contig_15327|Phel_clc_contig_15331|Phel_clc_contig_15385|Phel_clc_contig_15428|Phel_clc_contig_15438|Phel_clc_contig_15466|Phel_clc_contig_15470|Phel_clc_contig_15510|Phel_clc_contig_15649|Phel_clc_contig_15674|Phel_clc_contig_15753|Phel_clc_contig_15772|Phel_clc_contig_15861|Phel_clc_contig_15942|Phel_clc_contig_16075|Phel_clc_contig_16091|Phel_clc_contig_16106|Phel_clc_contig_16310|Phel_clc_contig_16367|Phel_clc_contig_16456|Phel_clc_contig_16473|Phel_clc_contig_16535|Phel_clc_contig_16541|Phel_clc_contig_16577|Phel_clc_contig_16660|Phel_clc_contig_16755|Phel_clc_contig_16793|Phel_clc_contig_16844|Phel_clc_contig_16859|Phel_clc_contig_16919|Phel_clc_contig_16922|Phel_clc_contig_16934|Phel_clc_contig_16944|Phel_clc_contig_16964|Phel_clc_contig_16995|Phel_clc_contig_17083|Phel_clc_contig_17133|Phel_clc_contig_17158|Phel_clc_contig_17203|Phel_clc_contig_17344|Phel_clc_contig_17350|Phel_clc_contig_17362|Phel_clc_contig_17400|Phel_clc_contig_17405|Phel_clc_contig_17425|Phel_clc_contig_17429|Phel_clc_contig_17484|Phel_clc_contig_17525|Phel_clc_contig_17566|Phel_clc_contig_17569|Phel_clc_contig_17576|Phel_clc_contig_17613|Phel_clc_contig_17650|Phel_clc_contig_17706|Phel_clc_contig_17714|Phel_clc_contig_17795|Phel_clc_contig_17798|Phel_clc_contig_17826|Phel_clc_contig_17865|Phel_clc_contig_17889|Phel_clc_contig_17930|Phel_clc_contig_17950|Phel_clc_contig_18028|Phel_clc_contig_18054|Phel_clc_contig_18134|Phel_clc_contig_18162|Phel_clc_contig_18186|Phel_clc_contig_18216|Phel_clc_contig_18252|Phel_clc_contig_18257|Phel_clc_contig_18277|Phel_clc_contig_18317|Phel_clc_contig_18353|Phel_clc_contig_18426|Phel_clc_contig_18437|Phel_clc_contig_18445|Phel_clc_contig_18470|Phel_clc_contig_18532|Phel_clc_contig_18551|Phel_clc_contig_18567|Phel_clc_contig_18569|Phel_clc_contig_18577|Phel_clc_contig_18731|Phel_clc_contig_18753|Phel_clc_contig_18773|Phel_clc_contig_18837|Phel_clc_contig_18881|Phel_clc_contig_18884|Phel_clc_contig_18887|Phel_clc_contig_19032|Phel_clc_contig_19037|Phel_clc_contig_19083|Phel_clc_contig_19099|Phel_clc_contig_19120|Phel_clc_contig_19124|Phel_clc_contig_19195|Phel_clc_contig_19201|Phel_clc_contig_19202|Phel_clc_contig_19213|Phel_clc_contig_19214|Phel_clc_contig_19235|Phel_clc_contig_19300|Phel_clc_contig_19349|Phel_clc_contig_19372|Phel_clc_contig_19440|Phel_clc_contig_19475|Phel_clc_contig_19514|Phel_clc_contig_19518|Phel_clc_contig_19572|Phel_clc_contig_19684|Phel_clc_contig_19687|Phel_clc_contig_19696|Phel_clc_contig_19719|Phel_clc_contig_19772|Phel_clc_contig_19806|Phel_clc_contig_19909|Phel_clc_contig_19985|Phel_clc_contig_20041|Phel_clc_contig_20098|Phel_clc_contig_20100|Phel_clc_contig_20166|Phel_clc_contig_20241|Phel_clc_contig_20287|Phel_clc_contig_20302|Phel_clc_contig_20335|Phel_clc_contig_20347|Phel_clc_contig_20361|Phel_clc_contig_20362|Phel_clc_contig_20378|Phel_clc_contig_20418|Phel_clc_contig_20470|Phel_clc_contig_20606|Phel_clc_contig_20663|Phel_clc_contig_20679|Phel_clc_contig_20688|Phel_clc_contig_20729|Phel_clc_contig_20767|Phel_clc_contig_20768|Phel_clc_contig_20789|Phel_clc_contig_20806|Phel_clc_contig_20882|Phel_clc_contig_20884|Phel_clc_contig_20924|Phel_clc_contig_20968|Phel_clc_contig_20980|Phel_clc_contig_20995|Phel_clc_contig_21023|Phel_clc_contig_21063|Phel_clc_contig_21090|Phel_clc_contig_21096|Phel_clc_contig_21122|Phel_clc_contig_21141|Phel_clc_contig_21161|Phel_clc_contig_21169|Phel_clc_contig_21206|Phel_clc_contig_21215|Phel_clc_contig_21260|Phel_clc_contig_21302|Phel_clc_contig_21386|Phel_clc_contig_21406|Phel_clc_contig_21432|Phel_clc_contig_21457|Phel_clc_contig_21509|Phel_clc_contig_21513|Phel_clc_contig_21540|Phel_clc_contig_21557|Phel_clc_contig_21566|Phel_clc_contig_21574|Phel_clc_contig_21660|Phel_clc_contig_21754|Phel_clc_contig_21803|Phel_clc_contig_21812|Phel_clc_contig_21845|Phel_clc_contig_21894|Phel_clc_contig_21916|Phel_clc_contig_21918|Phel_clc_contig_21947|Phel_clc_contig_21963|Phel_clc_contig_21987|Phel_clc_contig_21994|Phel_clc_contig_22034|Phel_clc_contig_22051|Phel_clc_contig_22065|Phel_clc_contig_22085|Phel_clc_contig_22125|Phel_clc_contig_22258|Phel_clc_contig_22277|Phel_clc_contig_22289|Phel_clc_contig_22352|Phel_clc_contig_22419|Phel_clc_contig_22433|Phel_clc_contig_22468|Phel_clc_contig_22477|Phel_clc_contig_22509|Phel_clc_contig_22528|Phel_clc_contig_22565|Phel_clc_contig_22593|Phel_clc_contig_22595|Phel_clc_contig_22603|Phel_clc_contig_22702|Phel_clc_contig_22718|Phel_clc_contig_22725|Phel_clc_contig_22776|Phel_clc_contig_22798|Phel_clc_contig_22817|Phel_clc_contig_22830|Phel_clc_contig_22844|Phel_clc_contig_22866|Phel_clc_contig_22878|Phel_clc_contig_22884|Phel_clc_contig_22890|Phel_clc_contig_22901|Phel_clc_contig_22908|Phel_clc_contig_22927|Phel_clc_contig_22982|Phel_clc_contig_22991|Phel_clc_contig_23025|Phel_clc_contig_23037|Phel_clc_contig_23042|Phel_clc_contig_23077|Phel_clc_contig_23096|Phel_clc_contig_23110|Phel_clc_contig_23112|Phel_clc_contig_23119|Phel_clc_contig_23149|Phel_clc_contig_23180|Phel_clc_contig_23209|Phel_clc_contig_23210|Phel_clc_contig_23214|Phel_clc_contig_23225|Phel_clc_contig_23249|Phel_clc_contig_23294|Phel_clc_contig_23295|Phel_clc_contig_23325|Phel_clc_contig_23376|Phel_clc_contig_23391|Phel_clc_contig_23430|Phel_clc_contig_23431|Phel_clc_contig_23450|Phel_clc_contig_23452|Phel_clc_contig_23473|Phel_clc_contig_23479|Phel_clc_contig_23513|Phel_clc_contig_23522|Phel_clc_contig_23541|Phel_clc_contig_23546|Phel_clc_contig_23558|Phel_clc_contig_23596|Phel_clc_contig_23624|Phel_clc_contig_23629|Phel_clc_contig_23641|Phel_clc_contig_23679|Phel_clc_contig_23682|Phel_clc_contig_23701|Phel_clc_contig_23706|Phel_clc_contig_23753|Phel_clc_contig_23770|Phel_clc_contig_23779|Phel_clc_contig_23802|Phel_clc_contig_23894|Phel_clc_contig_23900|Phel_clc_contig_23909|Phel_clc_contig_23918|Phel_clc_contig_23941|Phel_clc_contig_23975|Phel_clc_contig_24020|Phel_clc_contig_24040|Phel_clc_contig_24067|Phel_clc_contig_24069|Phel_clc_contig_24070|Phel_clc_contig_24073|Phel_clc_contig_24083|Phel_clc_contig_24096|Phel_clc_contig_24107|Phel_clc_contig_24135|Phel_clc_contig_24142|Phel_clc_contig_24159|Phel_clc_contig_24161|Phel_clc_contig_24169|Phel_clc_contig_24184|Phel_clc_contig_24210|Phel_clc_contig_24213|Phel_clc_contig_24223|Phel_clc_contig_24304|Phel_clc_contig_24370|Phel_clc_contig_24373|Phel_clc_contig_24441|Phel_clc_contig_24443|Phel_clc_contig_24454|Phel_clc_contig_24553|Phel_clc_contig_24555|Phel_clc_contig_24557|Phel_clc_contig_24606|Phel_clc_contig_24626|Phel_clc_contig_24677|Phel_clc_contig_24679|Phel_clc_contig_24702|Phel_clc_contig_24712|Phel_clc_contig_24716|Phel_clc_contig_24786|Phel_clc_contig_24801|Phel_clc_contig_24806|Phel_clc_contig_24808|Phel_clc_contig_24823|Phel_clc_contig_24834|Phel_clc_contig_24843|Phel_clc_contig_24866|Phel_clc_contig_24872|Phel_clc_contig_24943|Phel_clc_contig_24944|Phel_clc_contig_24951|Phel_clc_contig_24988|Phel_clc_contig_25022|Phel_clc_contig_25038|Phel_clc_contig_25042|Phel_clc_contig_25055|Phel_clc_contig_25093|Phel_clc_contig_25122|Phel_clc_contig_25130|Phel_clc_contig_25149|Phel_clc_contig_25185|Phel_clc_contig_25228|Phel_clc_contig_25236|Phel_clc_contig_25245|Phel_clc_contig_25265|Phel_clc_contig_25276|Phel_clc_contig_25300|Phel_clc_contig_25308|Phel_clc_contig_25309|Phel_clc_contig_25335|Phel_clc_contig_25388|Phel_clc_contig_25420|Phel_clc_contig_25444|Phel_clc_contig_25449|Phel_clc_contig_25466|Phel_clc_contig_25489|Phel_clc_contig_25512|Phel_clc_contig_25519|Phel_clc_contig_25523|Phel_clc_contig_25544|Phel_clc_contig_25547|Phel_clc_contig_25559|Phel_clc_contig_25561|Phel_clc_contig_25565|Phel_clc_contig_25581|Phel_clc_contig_25603|Phel_clc_contig_25610|Phel_clc_contig_25611|Phel_clc_contig_25630|Phel_clc_contig_25639|Phel_clc_contig_25647|Phel_clc_contig_25652|Phel_clc_contig_25660|Phel_clc_contig_25666|Phel_clc_contig_25670|Phel_clc_contig_25688|Phel_clc_contig_25694|Phel_clc_contig_25710|Phel_clc_contig_25727|Phel_clc_contig_25740|Phel_clc_contig_25780|Phel_clc_contig_25804|Phel_clc_contig_25821|Phel_clc_contig_25840|Phel_clc_contig_25857|Phel_clc_contig_25868|Phel_clc_contig_25874|Phel_clc_contig_25877|Phel_clc_contig_25878|Phel_clc_contig_25896|Phel_clc_contig_25897|Phel_clc_contig_25902|Phel_clc_contig_25920|Phel_clc_contig_25923|Phel_clc_contig_25926|Phel_clc_contig_25949|Phel_clc_contig_25950|Phel_clc_contig_25965|Phel_clc_contig_25977|Phel_clc_contig_25990|Phel_clc_contig_26008|Phel_clc_contig_26009|Phel_clc_contig_26016|Phel_clc_contig_26036|Phel_clc_contig_26039|Phel_clc_contig_26059|Phel_clc_contig_26062|Phel_clc_contig_26092|Phel_clc_contig_26111|Phel_clc_contig_26120|Phel_clc_contig_26124|Phel_clc_contig_26133|Phel_clc_contig_26141|Phel_clc_contig_26154|Phel_clc_contig_26161|Phel_clc_contig_26187|Phel_clc_contig_26195|Phel_clc_contig_26196|Phel_clc_contig_26202|Phel_clc_contig_26216|Phel_clc_contig_26217|Phel_clc_contig_26225|Phel_clc_contig_26240|Phel_clc_contig_26252|Phel_clc_contig_26265|Phel_clc_contig_26266|Phel_clc_contig_26267|Phel_clc_contig_26285|Phel_clc_contig_26288|Phel_clc_contig_26296|Phel_clc_contig_26301|Phel_clc_contig_26306|Phel_clc_contig_26319|Phel_clc_contig_26346|Phel_clc_contig_26357|Phel_clc_contig_26367|Phel_clc_contig_26378|Phel_clc_contig_26398|Phel_clc_contig_26406|Phel_clc_contig_26428|Phel_clc_contig_26431|Phel_clc_contig_26434|Phel_clc_contig_26439|Phel_clc_contig_26445|Phel_clc_contig_26449|Phel_clc_contig_26458|Phel_clc_contig_26465|Phel_clc_contig_26500|Phel_clc_contig_26513|Phel_clc_contig_26522|Phel_clc_contig_26528|Phel_clc_contig_26539|Phel_clc_contig_26551|Phel_clc_contig_26552|Phel_clc_contig_26555|Phel_clc_contig_26559|Phel_clc_contig_26589|Phel_clc_contig_26590|Phel_clc_contig_26592|Phel_clc_contig_26594|Phel_clc_contig_26596|Phel_clc_contig_26640|Phel_clc_contig_26649|Phel_clc_contig_26676|Phel_clc_contig_26677|Phel_clc_contig_26693|Phel_clc_contig_26715|Phel_clc_contig_26729|Phel_clc_contig_26731|Phel_clc_contig_26742|Phel_clc_contig_26748|Phel_clc_contig_26755|Phel_clc_contig_26760|Phel_clc_contig_26765|Phel_clc_contig_26767|Phel_clc_contig_26779|Phel_clc_contig_26782|Phel_clc_contig_26785|Phel_clc_contig_26793|Phel_clc_contig_26797|Phel_clc_contig_26804|Phel_clc_contig_26812|Phel_clc_contig_26816|Phel_clc_contig_26834|Phel_clc_contig_26846|Phel_clc_contig_26852|Phel_clc_contig_26869|Phel_clc_contig_26879|Phel_clc_contig_26881|Phel_clc_contig_26887|Phel_clc_contig_26890|Phel_clc_contig_26904|Phel_clc_contig_26910|Phel_clc_contig_26915|Phel_clc_contig_26937|Phel_clc_contig_26942|Phel_clc_contig_26951|Phel_clc_contig_26953|Phel_clc_contig_26964|Phel_clc_contig_26970|Phel_clc_contig_26973|Phel_clc_contig_26980|Phel_clc_contig_26991|Phel_clc_contig_26998|Phel_clc_contig_27008|Phel_clc_contig_27021|Phel_clc_contig_27024|Phel_clc_contig_27027|Phel_clc_contig_27028|Phel_clc_contig_27029|Phel_clc_contig_27030|Phel_clc_contig_27039|Phel_clc_contig_27040|Phel_clc_contig_27057|Phel_clc_contig_27060|Phel_clc_contig_27074|Phel_clc_contig_27089|Phel_clc_contig_27099|Phel_clc_contig_27102|Phel_clc_contig_27110|Phel_clc_contig_27118|Phel_clc_contig_27133|Phel_clc_contig_27143|Phel_clc_contig_27150|Phel_clc_contig_27151|Phel_clc_contig_27157|Phel_clc_contig_27164|Phel_clc_contig_27171|Phel_clc_contig_27199|Phel_clc_contig_27211|Phel_clc_contig_27235|Phel_clc_contig_27254|Phel_clc_contig_27256|Phel_clc_contig_27266|Phel_clc_contig_27273|Phel_clc_contig_27305|Phel_clc_contig_27308|Phel_clc_contig_27309|Phel_clc_contig_27316|Phel_clc_contig_27352|Phel_clc_contig_27354|Phel_clc_contig_27355|Phel_clc_contig_27364|Phel_clc_contig_27366|Phel_clc_contig_27368|Phel_clc_contig_27374|Phel_clc_contig_27390|Phel_clc_contig_27398|Phel_clc_contig_27406|Phel_clc_contig_27408|Phel_clc_contig_27412|Phel_clc_contig_27443|Phel_clc_contig_27456|Phel_clc_contig_27462|Phel_clc_contig_27469|Phel_clc_contig_27496|Phel_clc_contig_27504|Phel_clc_contig_27505|Phel_clc_contig_27512|Phel_clc_contig_27527|Phel_clc_contig_27540|Phel_clc_contig_27559|Phel_clc_contig_27566|Phel_clc_contig_27579|Phel_clc_contig_27594|Phel_clc_contig_27604|Phel_clc_contig_27616|Phel_clc_contig_27636|Phel_clc_contig_27641|Phel_clc_contig_27648|Phel_clc_contig_27668|Phel_clc_contig_27671|Phel_clc_contig_27674|Phel_clc_contig_27680|Phel_clc_contig_27689|Phel_clc_contig_27694|Phel_clc_contig_27697|Phel_clc_contig_27707|Phel_clc_contig_27720|Phel_clc_contig_27722|Phel_clc_contig_27739|Phel_clc_contig_27743|Phel_clc_contig_27745|Phel_clc_contig_27746|Phel_clc_contig_27753|Phel_clc_contig_27759|Phel_clc_contig_27767|Phel_clc_contig_27770|Phel_clc_contig_27771|Phel_clc_contig_27781|Phel_clc_contig_27787|Phel_clc_contig_27798|Phel_clc_contig_27809|Phel_clc_contig_27819|Phel_clc_contig_27825|Phel_clc_contig_27837|Phel_clc_contig_27838|Phel_clc_contig_27851|Phel_clc_contig_27891|Phel_clc_contig_27909|Phel_clc_contig_27912|Phel_clc_contig_27918|Phel_clc_contig_27920|Phel_clc_contig_27921|Phel_clc_contig_27922|Phel_clc_contig_27928|Phel_clc_contig_27941|Phel_clc_contig_27964|Phel_clc_contig_27994|Phel_clc_contig_28002|Phel_clc_contig_28005|Phel_clc_contig_28020|Phel_clc_contig_28023|Phel_clc_contig_28028|Phel_clc_contig_28029|Phel_clc_contig_28057|Phel_clc_contig_28095|Phel_clc_contig_28099|Phel_clc_contig_28105|Phel_clc_contig_28114|Phel_clc_contig_28134|Phel_clc_contig_28137|Phel_clc_contig_28177|Phel_clc_contig_28189|Phel_clc_contig_28218|Phel_clc_contig_28242|Phel_clc_contig_28245|Phel_clc_contig_28267|Phel_clc_contig_28281|Phel_clc_contig_28311|Phel_clc_contig_28316|Phel_clc_contig_28324|Phel_clc_contig_28354|Phel_clc_contig_28355|Phel_clc_contig_28389|Phel_clc_contig_28393|Phel_clc_contig_28408|Phel_clc_contig_28414|Phel_clc_contig_28432|Phel_clc_contig_28435|Phel_clc_contig_28438|Phel_clc_contig_28445|Phel_clc_contig_28462|Phel_clc_contig_28484|Phel_clc_contig_28488|Phel_clc_contig_28495|Phel_clc_contig_28501|Phel_clc_contig_28502|Phel_clc_contig_28503|Phel_clc_contig_28508|Phel_clc_contig_28513|Phel_clc_contig_28549|Phel_clc_contig_28557|Phel_clc_contig_28582|Phel_clc_contig_28583|Phel_clc_contig_28588|Phel_clc_contig_28590|Phel_clc_contig_28600|Phel_clc_contig_28616|Phel_clc_contig_28619|Phel_clc_contig_28620|Phel_clc_contig_28625|Phel_clc_contig_28636|Phel_clc_contig_28679|Phel_clc_contig_28680|Phel_clc_contig_28701|Phel_clc_contig_28702|Phel_clc_contig_28705|Phel_clc_contig_28725|Phel_clc_contig_28739|Phel_clc_contig_28743|Phel_clc_contig_28754|Phel_clc_contig_28758|Phel_clc_contig_28769|Phel_clc_contig_28777|Phel_clc_contig_28783|Phel_clc_contig_28796|Phel_clc_contig_28800|Phel_clc_contig_28801|Phel_clc_contig_28807|Phel_clc_contig_28816|Phel_clc_contig_28817|Phel_clc_contig_28820|Phel_clc_contig_28821|Phel_clc_contig_28822|Phel_clc_contig_28824|Phel_clc_contig_28838|Phel_clc_contig_28865|Phel_clc_contig_28878|Phel_clc_contig_28881|Phel_clc_contig_28889|Phel_clc_contig_28900|Phel_clc_contig_28912|Phel_clc_contig_28917|Phel_clc_contig_28924|Phel_clc_contig_28926|Phel_clc_contig_28952|Phel_clc_contig_28956|Phel_clc_contig_28963|Phel_clc_contig_28965|Phel_clc_contig_28968|Phel_clc_contig_28970|Phel_clc_contig_28975|Phel_clc_contig_28979|Phel_clc_contig_28981|Phel_clc_contig_28986|Phel_clc_contig_28988|Phel_clc_contig_29019|Phel_clc_contig_29020|Phel_clc_contig_29044|Phel_clc_contig_29052|Phel_clc_contig_29071|Phel_clc_contig_29083|Phel_clc_contig_29086|Phel_clc_contig_29090|Phel_clc_contig_29103|Phel_clc_contig_29109|Phel_clc_contig_29117|Phel_clc_contig_29129|Phel_clc_contig_29132|Phel_clc_contig_29141|Phel_clc_contig_29149|Phel_clc_contig_29164|Phel_clc_contig_29171|Phel_clc_contig_29184|Phel_clc_contig_29203|Phel_clc_contig_29230|Phel_clc_contig_29234|Phel_clc_contig_29239|Phel_clc_contig_29251|Phel_clc_contig_29252|Phel_clc_contig_29264|Phel_clc_contig_29297|Phel_clc_contig_29307|Phel_clc_contig_29320|Phel_clc_contig_29325|Phel_clc_contig_29331|Phel_clc_contig_29345|Phel_clc_contig_29348|Phel_clc_contig_29357|Phel_clc_contig_29365|Phel_clc_contig_29381|Phel_clc_contig_29383|Phel_clc_contig_29386|Phel_clc_contig_29388|Phel_clc_contig_29393|Phel_clc_contig_29396|Phel_clc_contig_29410|Phel_clc_contig_29414|Phel_clc_contig_29415|Phel_clc_contig_29426|Phel_clc_contig_29430|Phel_clc_contig_29440|Phel_clc_contig_29444|Phel_clc_contig_29445|Phel_clc_contig_29448|Phel_clc_contig_29451|Phel_clc_contig_29472|Phel_clc_contig_29475|Phel_clc_contig_29480|Phel_clc_contig_29487|Phel_clc_contig_29494|Phel_clc_contig_29499|Phel_clc_contig_29501|Phel_clc_contig_29514|Phel_clc_contig_29516|Phel_clc_contig_29529|Phel_clc_contig_29536|Phel_clc_contig_29538|Phel_clc_contig_29549|Phel_clc_contig_29563|Phel_clc_contig_29568|Phel_clc_contig_29576|Phel_clc_contig_29579|Phel_clc_contig_29588|Phel_clc_contig_29598|Phel_clc_contig_29604|Phel_clc_contig_29606|Phel_clc_contig_29612|Phel_clc_contig_29620|Phel_clc_contig_29637|Phel_clc_contig_29640|Phel_clc_contig_29646|Phel_clc_contig_29649|Phel_clc_contig_29654|Phel_clc_contig_29659|Phel_clc_contig_29661|Phel_clc_contig_29677|Phel_clc_contig_29682|Phel_clc_contig_29697|Phel_clc_contig_29700|Phel_clc_contig_29707|Phel_clc_contig_29709|Phel_clc_contig_29712|Phel_clc_contig_29734|Phel_clc_contig_29738|Phel_clc_contig_29760|Phel_clc_contig_29761|Phel_clc_contig_29791|Phel_clc_contig_29809|Phel_clc_contig_29818|Phel_clc_contig_29824|Phel_clc_contig_29828|Phel_clc_contig_29862|Phel_clc_contig_29865|Phel_clc_contig_29910|Phel_clc_contig_30006|Phel_clc_contig_30047|Phel_clc_contig_30108' ../paper/data/Phel_transcriptome_clc.tab > ../data/Phel_transcriptome_clc_n.tab "
     ],
     "language": "python",
     "metadata": {},
     "outputs": [
      {
       "output_type": "stream",
       "stream": "stdout",
       "text": [
        "^C\r\n"
       ]
      }
     ],
     "prompt_number": 14
    },
    {
     "cell_type": "code",
     "collapsed": false,
     "input": [
      "!head ../data/Phel_transcriptome_clc_n.tab "
     ],
     "language": "python",
     "metadata": {},
     "outputs": [
      {
       "output_type": "stream",
       "stream": "stdout",
       "text": [
        "Phel_clc_contig_1\t\tCAAATATATGAACGGTTGATTGTCAACGATTAGTACATGTTTTCATTGTTCCCCACGCCCGCCCCCCCCCACTCAAACATTTAAAGTGTGAAATATTATTTATCCACAAATTTCCTTAAACCTGCAAACTTGTCTGCTGTCTCTTATTGGAAGTTATGAAAAAGAACAACGGGTTTTCTTTAAAGGGTCTGCGTGCGATTTTCAACCTTTTGAGTAATAGCAGTTATTTTGATAACCGATTTTTTTCAAAGCTCAACAGCTTTTTAAAATAAGGAATCCTATAATGGCCAAACGAATACTATAAAAATAAGGGTTCTCTTAATTGTATAAAACGTATAATTTTATCAATTTTGGGACCGTGTAATTTTTTAAAGACCACAAGAATGTTACATACAACAAATAGACGAAACTCGTAGCTTTGGAAACTACGTCATGGGCGTTTGGTCAAAAGCTGGAGAGAAAGAGAGGTGGGGTGCCAGACTTAAGTAGTCACGTGATCTGACCAACGCACATCGGAAGCTCGATCGGATGAAATCTTCTCTATCGTTCTTGCGTCTATACGTGCTACGAAGAGCTGACAGAAGTTTGGACTTGTTTACTTCTTGCACCTGTTGATGGAACGGCCACGGACCTTGTCGCACGCACACCTGGAGCCAGTGCTCGGATCGACGCAACGGATGTACTGTCTTCCCCTTCCGCGTTTCTCAAGTAGGTACTCAAAGTCGTCCGCGTCGAAGTTGGCCTCGGCGTCCCTCTTCTCCAGCTCCTCCATGTCCTCCTCTGTGTAGTACGGGGTGACGAGCACCACCAGGGCGGCCACAATGGCCAGTGCTAGAAGACACTTCGTATTCATTCTGCTGGTGGTTGGATGTGCGCAAACAAGACAGGAGAGACTTATTAGAATC\r\n",
        "Phel_clc_contig_2\t\tATACTTCTAATTATTGTTCGCTGCAAAGGCACGTGTGAACATCTACTCCTAATAACGATCACTTTTAACTAGTGATATTGAGCAGTTTGTGTTCTTTCTAACTCTTTCGTATTTATGCTTTAGAATATTAGGCTTAAAGAAAAAACGTGTACAAATGCTATGGGATTTGGGCAGCAACAAAGAATAAGAGAAAAAATTAAAATCTCTACAAAAACAATACATGTTCCGACTTCTAAGAGAAGTCGGAACAGCTAAAAATACTTCTATGGGTTTTGAGGCATTGCATGGTGAGGTATCAATATATATTCGGCTTGCGGTAACACCATGTGTAAAAATATCTACTTGCTGTGTAGATTTGTTTTTTAGAGAACTTGTCTTGCTATTTATTCTACTACCGCGGAGTAGATTTTCAGAATTTGGGAGACTTCTCAGTTCTGAAAAGAACTGTCCTGCTTATTAACTACTACCTCTAATTATTGTTAGCTGCAAAGGCACGTGTGAACATCTACTCCTAATAACAATCACTTTTAACTTGTGATATTGAGCCATTTTTGTTCTTTCTCAGCTGTCAAACAACTGTAATAAGAAAATACTTCTAATTATTGTTCGCTGCAAAGGCACGTGTGAACATCTACTCCAAATAACGATCACTTTTAACTTGTAATATTGAGCAGTTTGTGTTCTTTCTCAGCTGTCAAACATCTGTATTAAGAAAATACTTCTAATTATTGTTGG\r\n",
        "Phel_clc_contig_3\t\tTGTGGATGAATTAGATACTAGCCCCCCCCCCGCCCACTGGCCGTCAAAATATGTACGAAGTCAAATAAATACAGTCACTGTGCAGTACTCAGTAGTGAGTGGGCAGAATTAAAGGAACGCTATTTCTTCCTCCACTCCAGTCCATGGACAGAGTAACCATCTCACTCACTGACAGTGACACTGTACCAGTACTGGGTGAAATGTTCACTTTCTAGTTTCAAATAATATTGAACGTAATGTCCACCGTTTGCCACAGGTCATTATGCATTAAGGTCCAAGATATGATGCATGCTAGGCACCACTATACCGAAGTACCAAAGTACCACCACCACTGGTGGTCACAACACTCACACAGTAGTCACTGCAGCAATAGCAATACACCAGTTACGCTATGCTCACTCACTGCACACTCACACTCACAGTACACTCACACAGAAGGCAAACATTATTTTTTACTCACCAAAACTCCAAAGAATGTCGATGTTCCCTGTCATTTATTTCCATCCAAGGTAACTCCGTAGATAATCCCATTTAGAAAATGAGCTTGAAGTTGAAATATCGATCGCAAGACGTCTCTACATCATCAATTTTTAGTCACTGTTTGGCAGACGACAATTTTTCAAAACTTCCCACAAATGCGGCCATTACATTTTGTAGGCTCAACCAGTATGTTTGTTTTAAAAAGCGTTTTCAATTTATAAAAACAGTTTAGCATTAATTTAATAAATATTTAACTTCCAATTTTTCAATTATATAATTTTTTTAAGCTGATTTTATTTCATATATAATTAAAAGTTTAAAGATATTTAGCATGTAAAAAAGAACTACTTGATGGTAGAGCGCCCTCACAAGTTTTGGAAAAACAGTTTTGAAAGGCAGACAGCGCTAACAAAAGTTTAAAGTACTGACATAATTTTTTGCTGGATAGCAACATTTTTACACCATCTTTTGTGACAAATTGACGTGGATTTTGATAATGTAAATAATGAGTTTTACTTCCTCGTTCCTCATCGAAATGACAATATAAATATATATTTTTAAATAAATGTTATCGCATTTTAAGATAGTTTAATAATAATTGTGGTTTGTTTTTGTAATGATTTATTGGTATAAACAATTTACAATGTACTTTCATGAGCATGATTAGTCAGACTATAAAAAGGAGTAAGATTAGTCAAGTTATGCAAATAAATGAACAGTTATGGTCCGTTCGCGTTGTAATTTTTTTTTATATTACTTCATTTTTTTAGTGGTACTAAAATTTACATGAAAATAAAGATTATGACACAAAATATNNNNNNNNNNNNNNNNNNNNNNAAAAAAAAAAAAAAAAGGGGGGAAGGGAGGTTTATTTTTTGCAGTTTTCTAAAAACTTTGTATAGCGAAAGAAAGAAAAAAAAATAATGTGGGTGTTTTCCAATTAGTTTGTTTAAATCGTATTGTAGGCCCTGTGTATAAAGGCTGTTTTAGAAATAATGTTGTATTGTTTATATTTGATAACTATATGATAACAGCTCATAAAAGAATATGCCTTATTTGAGTGTTCACTGCATGTTTAGTAGACCTGCTTTTTCTCTTATATTTGCCCGAAATTGTAATATAAAATTTGTTACTTAAATAAGTCAAACACAATACTGTGGTTCGTCAGCAGATTAATTTAGTGAATCAATATTACATATGGATTAACTTTATTAGTTATTTAATCTTTAAAAGCGAAATGTTTTGTACCTTTCCTAAAAGCTCCCAAAGTGCAGTCCCTCTATACTTTATCATCAAACAGCCGTCATGTCCTTTGAGTTCCATATTTTATAATAATAAAAAGGGCCTTAAAATTAAGATAAATATATAAATCAGAAAACAATCAAACTCCCCAACAATGAGTTCATAAAAGGTCACGTTTATCTTTGCCAAACAAAGGTTCGGGTGATGAATTACAGAGAATCTCAATTTATTAGGTGCTTCAAAATAATATGCCATATATGAAAATAATGTATACAATTGTAATAAGGACATTTTTAGTTTTGAGCCAAAGTGTTCAGTTCTATCTGCTGATACAAATATTTCATTATTAAGATTAAAAAAGAAGGCAGAACTAAGGGATTTTTTCCAAGCTTCGGTTTAGGCTTTGGCTCCGTTTGAAGCTGAAGAAACGTTCAAACTCGCACAACGCTCCAAAAATGATGATGGAGCCAAAGCCNNNAGCCTTGGTTTGGAAAAGGTCTCTAGTGTACATGTATACCTTTTCCCAAGCCTAGTCTTAGGCTACGGCTCCGGTGGATTTGCAGCACAGCGCAAAATGCTCCAGAATTGATGACGAAACCCAAGCCGGAGCCACAGCCGCGGTTTGGAAAAGGCCTTAAAGAAAGAGACCAAACCTTAAATCATGTTGCAATATTATCTCCTCCTTTCCCAATTTATAAATGTTAACAGGGAAAGGAAAAAAGCTCAGGTGTTATTTTATGAAAAAGGGACAACACTTGCTATTATAGACACTGGATTCTGGAAACCGGACGGAAATGATAGTGCAATGTGATCAAGTTTCTTTTTGTAAATCCTTAAAGGAAAACTAAAGGTTTTTTATTAAATTGTTTCAAATCCCACTTTTATTTTTCTATTTGACAAAATGATTTCTGCTCATGTTCTTTAGAAAAGGGCATTGATTTAAAAAGTGGGGATAATACAAACTGTGCCAATTTCAGAGCTGACAAGCAAGCAGATTTACTATGCTTAGCAAAATGTTGTAAGCGGATGCAGTATACCAGCCAAATCATTAAATGATTGAAGGTGTCTCTAGCTGGTTCCTTGCCAATATTATTAGTCATTAAAGCAGATGCTGAGCAAATTCTTCGCTTAAACAGCTCAATGGAATAAGCACTGATTGTAACATTGCATTATTTAAAAAATATATAACATGACATAGTAAGCATTATTTTTTATTAAAAAACTTATAGTTTGATAGTTTTTCAATGTGCTTTGATAATTTTAATAAAAAAAGCTTTGCTGCATTTAAAAACATTTCTTGAATGTTCTTTTGAGTAAAACAGAGCCCAATTTAGTAGTAAGCATGATTGTTATGTACTTAGCTACTTCTTGTGTTTAAGCAGCTCCCCATGGCCCAATTTATAGAGCTGCTGAAGCACAAAAAGTAGCAACGCACAACAAAATTGTGCTTACCAGAAAAAGGTTACCAGCCAAATTACCATGTCAGATGTACAATCTGTGACTGGTATCCCACTCATTTCTGCTAAGCAGAAATTTGTTAGGAAATATCCTCTGCTCAAGAAGTTCTATGAAATTGGGCCCTGGTCATGTATGTTTGCGAAATGAAAATATCCGCATTGCTCTCTCAAAAATAATTCCAGGTCTGATGGATTCTTAATGTTGGTACAATGTACAAAACTGCAAAGTTTGATCTTTACAGAAGATGTTTCAGAAGCTCTATGAATTGGGTCGTGTTAGAAAACGATCATCTTCGGGAAGTGTTACAAATTCACAGACACTACCAAGAGATTCTGAAGCCAACAAATTGAAGGATATAGTGACATACAAAGGCTTCAAAACAAACACACAAATAACAAAAGTTGTAGCAGGAAGAATAAAGTGAAAGGTAAACGGCCACAGGAAACTTGGAGTTGACAGACAGGGATTTACAAAAGGTGTTACGAAAGGTAACCAAATCAAAGTGATTTTCAACGCCGTTTCCTTCAAGATTATCAGCAAATAACAACATACAATCACAGTCTGCAATAACAGGTTTATTTAGCCAGGAGTACTAAAGACTTCAAAGCACCTGCTGAACATTGTAAAATAGATTCTTCATGGCCTGGCCACCATAAAATATATTCTCTGTGGCTTTTGTGGGCCACCATGATAACAGCAGGGCCCAATTTTATACAGCAGCTAAATCACAAGAAGTAGCTAAGCACAAACAAATTCTGCTTAAAATACCAAGTTACATTTATAACCATCACTCAGTGACTGGTATTCTGCTCAGTAGAATATTTTAAAGCAATGTTGTATGCTTAAGCAGCTCTTGGAAATTGGGCCCTGGCGTGCAATAGTCACAATAACTTTGACCGAATGATATTTATACCTTATTTTTTAAATTCACACTTAATTAGTACTGGCTACCATTTAATGTAGAAAGACAGGAGTAATTTTAAGTTTTATCTCATAAGGATTTGACTGAGTAATTTGAGGCGTCAACTTCCTCCTTATGGCCAGCAAACTAGCCAACTAGTTGCACAGCTCTAAACATGATACATAAACAAGAACTATACTTATTTGGCCAGCTTCTTGCTTCAATTCTTTACACATATACAGGTCAAAGGTTATACTTTGATGCATTTGGTGTCTTCAGGAGGAGCTGGATGAGACAAAGCTTTAAGTACAAGGTGCTGGAGTGAATACCACATGGCAATACACTTTGTGAGAGTCAGTTATTTCTAAGAACCAAGCCTCACTTTGAGTTACATTAAACAATACTACAATGGCTGTCTTAAAATCAAGGCCATTATTTGATCAAGGTGGTCACAAAGTTAAAACAACTGTACAAACTATTTGTGAGGCCCCCACACCAAAATTAGGCACTAGTTTTGGAATAAGTAATATGCAATTAAAACTGAAGACACCTGAAACCTTAGCCATGATACCAATGTGATGTGATGTATGATACATTCTCTAGCTTGAGAAACCTTCATAATTTAGGTGCTATTTGAAAGCTCTTCATCTCATCTATTTGATGAACAAATAAACCCAGTT\r\n",
        "Phel_clc_contig_4\t\tAGCTTGAGCCTAATCCCTCTGTTTCCTATCAACGAAGTTTCGGATATAGATCATGAATTAAAAGATATGAGAGCGAGGGAAAAAAATAATAAGAGTCCTATGTCTCCTATTCGATTGTATATAATAGCCTGTAAGGCAGCTTTATTAGCGTTAGCTCGAGTTTGTCACCACCTTATTAGTAAAAAAGATAAGAATCCTACGCCTTCTCATCCAATAAACAGAAAGAATAAGTTATTGGAGAAAGTTAATATAATCATTTTGAGAAGGAATATAATTAATAGGTGGAAAAAGGCATTCTTTTTAGGGTCTGTTTTCATGTAGTAATTAGAAAATTCAATTATTGATGAAGATACAGCTAGGGCTGTAAAAAAAAACAAATTAAACTTAAAATCGTAATGGAGTTCTAATTTAAAAGAGAAAGATTTTAGGGAAAATCAGTTATTAATAATAATAACTATGTCTGGAGAGCCTAAAGCTACAGAGAGGATAAGAGGAAAAAAAGATAATCCTGCAAGAGCCTTTATTAGGGTAATAAAGAAAGTTTTTTTCTTCTCTATTAGTGTAAAAGTTTTTTTTGTGGTTATACCTAGAGCGTGAATTTTTTGATTTAAAGCCTTGGAAGAAGTTGATTTAAAAAGTTGAAAGAAAAATATGCTGGAAAATAGAATTATAATAAGGGCAGATTTAATAGTTATTATAGTTTTTTGTATGTTAAGTGGCATCGAAACTTCTATGGATTTGAACCACAGATTTTAAGACTTAGCAGGACTAAAATAAACCTATAAGTTTCGGACTATAGACCAGATTTTAACTGGTAATTTTAATACCACAAATTAGGGTTTTATTTAAACTACTTTAGTCAAAAAATGTTAGTACAATTTTAATTAGAGTGTAAATCGTGATGATTGTAAGATTTGTTAAAAAAAAATAAGATGGTGAAAACAACGTTAATATTTTTGGTTTAATTTGGATAAGGGGGGGGCCTTGTGGTTTTTTTATTTTTAGCCAAATTAAATAATTAATAATAGAGAGGGGTTAAATATTATGAATATAAGGGGAAAAATATGGAAAAATATGAGAACGTGTTCGGAGGACTTTATAGGTTGAATTTTGGATACAAATGTCGGAAAGACATTTCTTTTAGTTTTCTGAAAAATAAGTAAAGAGTATATGGCTCCAAAAACTGTGGCGGAAGTGATTATAATAAAAGAAGCAATTTTTCATTTTATGACGGATGTTATTATTAGAAGTTCACCAATTAAATTGGGAGTGGGTGGAAGTCCAAGTTTGGTAACACAAGTTATTATTCATCAAAGGGACAAAAGAGGGGTAATTAGCTTAAATCCGCGAGTTATAGCAAGAGTTCGAGTTTTTTTCCGTTCGTATAGTAGTTTTGCGAGGCAAAAGAGGCTGGAAGAAATAAGTCCGTGTGCTATCATTAGTGTAGTAGCTCCTTTTATTCCTCAAGGAGAAAGAGTAAATATTCCAGCGGCTACCATTCTCATGTGTCCTACGGAAGAATAGGCAATTAGAGCCTTTAGGTCTGTTTGTCGTATGCAAATAATTCTGGTAACCAGAGCCCCTCAAATACAGAAGGTTATTAAAGGAAAAGAGATGTATTTGGCAGATATAAAAAAGAATATGAGAGTTGTGCGGGCAAGTCCATAACCTCCTAACTTCAGGAGAATAGCAGCAAGAATCATTGATCCCGCTATAGGAGCTTCTACATGGGCCTTTGGGAGTCAAAGATGGAATCCGTATATTGGCATCTTAATAACAAATGCAATAAAGCAGAATATTCATCATATAGAGAGAGTATAGGAAGATAATGATAACATGTTTGTTGTAAGATATATGGAGGGGATTATTAGAGAAGATTTTACGTTGTATAGAGAAATAAGGGCTATTAAAAGAGGGAGAGATCCAGCTAATGTATAAAAAATAAAGTATATTCCAGCTTGAAATCGTTCCTTTTGAGCTCCTCATCGGGTTATTAAGACTAAGGTTGGAAGTAGTGTGGATTCAAAAGCAATAAAGAATAGGGAAAGTTCTAAAGCAGAAAAAGTTAACAGAAGGGCTAATAAAATAAAGAATATTATGGAAATAAAAGTTCGTTGAGAATTAATAGTGTACTTATTTGTGGTGTTTATTCTGGCTAATAAAGATATAGGGATTAATCAGGTGCTTAAGATTATAAGGGGGGCGGAAAGGCTGTCTACTGCAAATTTAAGGGAGAGTTTGTGCCATAAAGAAAAAGAATGAAGTTTCAAAATTTTAACAGAGAAAAGAGAAATAATAAAAGATTTGATGATGGAAACCCTACGGCAAAGTTTCTTATTAATAAGTCAAGGTAAAAAAATGGCGGATGAAGATAAGGCAAAAAGATATATCATTATTGTAAGTTTTATTCAGCTCAATCTAATCCTCCCTGAGTCCATTCAAATATTAGGCCTATTAGTAATATAAGAAGAAAGAAGGTGGCGATAAATAAGACGTAGGAAGGGTTAAGTATAAACAAAGCTTGAGGAAATGGAAACAAAAGGGCAATTTCTAAATCAAATAATAAAAAGAGTATTGCTACTAAAAAAAATCGGAAGGAGAAAGGTACTCGGGCAGATTTTAAGGGGTCAAATCCGCATTCGTAAGGAGAGGCCTTCTCCAAGTCTAAGTTACGGGTAGGTAGAAAGTGTGCAGCAAATACTAATGCTGCTGTGACTACTAGAATTGATGAGACTATGATTATTATGTTATACATATAATTGTTTTATATAAATTAACAGGGAGAAATGGTAGAGAGGGATACATTTAGCTTGAAACTAAAATGATAAAGGTTCGAATCCTTTTTTCTCTTAAGAACCTCATCAGTATATACAAATATATAAAAATAGTCAGACAACATCTACAAAATGTCAGTACCAAGAAGCAGCTTCAAAACCAAAGTGATGGTGATTTGAAAAATGAAATTTATAAAGTCGTATGAGGCATACAGCCAAAAATGCTGTTCCTATGAGAACGTGTAGACCATGAAATCCTGTGGCTACAAAAAAGGTTGAGCCGTATACTCTGTCGGCTATGGTAAAAGGAGAGTCGAAGTATTCTCATGCTTGAAGCATAGTGAAGTAGACTCCTAAAATAACTGTTAAGAATAGTCTTTGTATGGCCTCATTTCGGTTACCTGAAAGTATTCTGTGATGAGCCCAAGTCACAGTGACTCCTGAAGATAGCAAGACAGCTGTTTTAAGTAAGGGTATTAGGAAAGGTTTTATAGGAGTTATCCCAGTGGGGGGTCAAGAGACTCCTAACTCTACGGTTGGTGCAAGTCTACTGTGAAAGAAAGCTCAAAAAAATGCAAAAAAGAAGCATACTTCTGATGTAATAAAAAGTACCATTCCATATCGTAATCCCTTCCTCACAGGGAGGGTGTGGAATCCTTGGAAGGTTGCTTCTCGTATAATATCTCGTCATCAATTTATAATAGTTAGTACAAGGAGAATTGTTCCTAAAATAAATAGGGCTGTACTTTTTACGTGAAATCAAAGAATAAGGCCAGAAGTCATCATCAATGCTCTTATTGCTCCTGTTAAAGGTCAGGGTCTTTGGTCAACTAGGTGGTATGGATGCTNNNNNNNNNNNATTTATAGGTTTTGTACTAAGTAGAAGTGAATTAGGGCTGTAAATACATAGGCCTGAATGCAAGCCACACCTATTTCTAGTAAAAATAGTAAAATAAATATAATTAGAGTAATGCTGGCAATGGGGATATTTTCCATTAATACCCATATGGCAGTTGACATAAGATAAATTAGTAAATGTCCTGCTGTTAGGTTAGCAGCTAGTCGAAGACCTAGTGCTATAGGTTGTGCAAAAAGTCTTAGGGTTTCAATTATAACCATTAATGGGATTAAATATGTTGGTGTGCCTTGGGGAACTAAATGGCTGAGCCGGGCATTAAATGATAAGTAAAACCCTAGGATGTTAACAGACATTCAGATTGGAAGACCAATTCTGTATGTTAGTGAGATATGTCTAGAGGCAGTAAAAGCATAAGGCAACAAGCCTAAAACTTTAATAGAAAACAATAAAATAAATATAGTTGTTATTATAGGTACTCAAGTAACAGAACTAGGATTAGTTTGTTGAAACACGGTCTTAATTACAGCTTGGTTAAAAGTCAAAAATGAGAAACCTATTCGAGTAGGAAGTCAGTTTGTTGAGTTAGAAAAGAAAAGTCAAGATATGGCTATAAACATAGAGATTAAAGTCATGGGCAGGAGTAAAAAATAATCTGGGGAAAACTGACCAAAAATTCTATTTAAGTTCATAATCATTTTTTAAAGGTTTTAAGCTTTTGGGAAGGAGCAACAGACATATAGGCAGTGGAAGGAAAACTTCTTCTAAGTACTATGGTCATTACAACAAATAAAAAAAATCAAGCCAGGAGAAAATTAAAAAATCATGATACTAGTTCTAACTGAGGCATGTTTCTTTGATAGTGGGTGGTGAGATCACTTTGATTTAAATTAAGAGTTTAATGCTTGCCATTATAAGCTTATCAAAGTTATTCTTTTAGGAATTTGGAAACTCAATTTTCGAAAGAAGAAAATTTAATCGATTCTATTACAATAGGCATAAAACTGTGTTTTGCCCCGCATATTTCTGAGCATTGTCCGTAGAATAATCCACATCGTGATATAAAGAATTTAACTTGGTTAAGTCGTCCTGGTACNNNNNNNNNNNNNNNNNNNNNNNNNNNNNNNNNNNNNNNNNNTCTAAAAGGCGAGGGTTACCAACAGTTAGGTCTCTCGTAGGGATCATGTAAGAATCAAATTCTAGGTCTCGGTAATCAGCGTATTCGTATCTTCAGTATCATTGGTGACCAATGGCCTTAATAGTAAGAAAAGGTTTGTTAACTTCATCTATAAGATAGAGGAGTTGGAGAGAAGGTAATGCTATAAATATTAGTATAATAGCGGGGACAACAGTTCATATTGTTTCCAGTGTTTGGCCTTCTAAAAAAAATCGTTTGGTTTTAGAAGAAACTATAAGAGAGGCTAAGCCATAAAAAACTAGAATAGTAATTAAAGTTAAGATAATAAGGGTGTAATCATGGAAGTAAATTAACTCCTCCATTAAAGGAGAAGATGCATCTTGTAGTCCCAATTGAGTTCAGTTTGCCATTTATTGTTGTAATATTTTTATGGAAGAGACCAAGTCTGATTTGTGAGTCCGAGAAAGAGCAACCATCAAAGATAATCCGGCACTGGCCTCGCATGCAGACAAGGTTAAAAGTATAAGGTTGTTCGATAAAAGTATATTTTTTGATAGTCTGAGGGCTATTAGAACAAATCCTATAAATAAAGATATTAGAAGAAGTTCTAAACACAAAAGCATAGACAAAAAATGTAGTCGTTTAAGAAGTATGCCTAAAATACCAAGATAAAAAATTCTTATGGTTATTGTAAGATAAGAAGAAATATAAAAGCTTTGGAATTTTAACCAAAATATCTTAAGTCGAAATCAAGGATTTTATTTAAACTAGCTTTTTACTTAATTAAGTATACAGTAGATGGAGTTTCATCAAATGTGTGGTGCGAAGGGGGAAACGAAGAGTACTGTCATTCTAAGGAAGAAGAAGAGAATTCGGGATGTAGAGGAGTTCGCTTAGTGGAAAAAGCTTCCCAGATTAGAAACAAGAAAATAAGAGTTGCAATTAAAGAAATGGTGGAACCAATAGAGGAAACGGTATTTCATAGAGTATAAGCATCGGGGTAATCTGAATAACGTCGAGGCATGCCTGCTAGTCCTAGGAAGTGTTGGGGAAAAAAGGTTAGGTTAACTCCCACGAACATAACTGTGAAGTGAACCTTTCCTCATAAAGGGTGTAGTCTAACCCCTGAAAACAATGGAAATCAGTGAGTAAATCCTGCAAATATAGCAAAGACAGCTCCCATAGAAAGCACGTAGTGAAAGTGGGCAACTACATAATATGTGTCGTGTAAAATTATATCAATGGATGAATTTGCTAGGACGACACCTGTTAGTCCTCCAATAGTAAATAAAAATACAAAACCTAAGGCTCAAAGTAGGGGAGTATCTCATCGTAGGTTTCTTCCTTGTAAAGTGGCCATTCAGCTAAATACCTTAATTCCTGTGGGGACAGCTATAATCATTGTAGCTGCAGTAAAGTAGGCTCGCGTATCAACGTCCATCCCAACGGTAAACATATGGTGGGCCCAAACTAGGAAGCCAAGTATTCCAATAGATATAATTGCGTATACCATTCCGAGATACCCAAAGGGTTCGTTCTTGCCGGCGTAGTGTGCTATTACGTGAGAAATCATTCCAAACCCGGGGAGTATCAAAATGTACACTTCGGGGTGACCAAAGAATCAGAAAAGATGTTGAAACAGAATAGGGTCACCTCCTCCAGCAGGGTCAAAGAAAGTGGTGTTTATTTTTCGATCTGTTAATAACATAGTAATTGCTCCTGCTAGTACAGGTAGTGAAAGAAGGAGCAAGAAAGCAGTAACGAAAACGGATCATACAAACAGGGGTAGGCGGTCAAAAGACATACCGGGAGTTCGCATGTTTATAATTGTGGTAATAAATTTAATTGANNNNNNNNNNNNNNNNNNNNNNNNNNNNNNNNNNNNNNNNNNNNNNGATAGAGGGGGGTAAATAGTCCAACCAGTTCCAGCTCCTCTTTCAACGCCGGCAGAAGCCAGAAGAAGTAAGAAAGAGGGGGGAATTAGTCAAAATCTCATGTTTTTCATTCGAGGGAAAGCCATATCTGGTGCTCCAATCATAAGAGGAATAAGTCAGTTACCAAATCCACCTATCATTATAGGCATTACCATAAAAAATATCATCACCAGGGCGTGAGCAGTCACTACAACTTTGTATATTTGATCGTCTTGTAGTAAAGATCCAGGTTGGGCAAGTTCGGTACGTATTATTACTCTCATAGCAGTGCCTATCATCCCGGCCCAAGCTCCAAATATTAAATATAGAGTTCCAATGTCCTTGTGTTTAGTAGAAAATAGTCAGCGTCTTAATTGCATGTTTTATAATTTATTATATATAACAAAATCAGGAGATAGTTTATTAAAAATAGTAGCTTTGGGAGTTGTAGAGGCAAGTTTAACTCTTGTTCTCCTGAATTAGGAAGACAAGAGTTGCACTTGTATTTAAGAATTCAAATTTCTTGGTTTTTCTGGTTAAACTATTTCCTATTGAGTTGTAGCCTAGTGGAAAGGCGTTTGGCCGTTAACTAAAAGACAGCAAGATCAATACTTGTCAACTCAGGCTTGGGTAGCAAAGAGGGTAAATGCTTAAGATTTAGGTTCTTACATCGAAGGTTCAATTCCTTCCCCCAGCTTATTTGTGGATTAAAAGATTTAAACTTTTAATTTTTGCTTGCAAAGCAAATGTTTTATCTGTTAAACTAAATTCACTATATATAAAAGAGATTTAAGTTAATCAAACTAAAAACCTTCAAAGTTTTAAACAGAGGTGAAAGTCTTCTAATCTTTAAGGTTTTGTAGTGTAATAAACATATTAGATTGCAAATCTATAGATGCGGTTCAGTTGTCCGCCAAAACTTCCAGGCAGTTCGAATTTCACAAACTTCTTCTCCGTGTAAAAGAGATGCTTAAATTAACAAGCTCTGCGAGGAAGCAAAAACCGGTAAGGTAAGCTAAATGTTAAGCTTTTGGGTTCATACCTCAAAAATAGCAGGATAAAAACCTCTCTTTATCTGTTCAAGAAATACTGGAGTGGTTACCAGTGATTCTGGTCTGACAATCCAGGGTTATAAAATTTTTAACTAATTTCTCCGAAGGCAGGGTGGCAGAAAGTCTTATGCGCTAAATTGTAAATTTATAAAAAAAGGTTTAAATCCTTTCCTTGTCAGGTGACCTTGTTAGTATATTTGTATACTTGATTTCCAATCAAGAGAACCTTGTTAAAAACCAAGGACAAGGTATAGTAAATATATTATATGTAATAAAAATTTGGTTGAGGTAGCAAAGAGGTTAATGCGAGAATCCTAAGCATTCTTTATCAAGGGTTCAAATCCCTTCCTTAGTTATGAGTCAAATACTGTTATTTCTAAATTCTGTAGGTTTTATCGTGCCTGTTTTGCTAGCTGTGGCACTTCTCACACTAATTGAGCGCAAGGTGTTGGGATACATGCAGTTGCGAAAGGGTCCTAAAATCGTAGGTCCTTATGGCTTGCTTCAGCCCATTGCAGATGGCTTTAAGTTGCTCATCAAGGAGACTTTAAAGCCCTCGAATGCGTCTCCATACTTATTTTATTTTTCTCCAGTATTATTTTTTTTCTTATCTATATTGTTGTGGTCTATTATACCGGTAAAAATTTCAACTCTAAAATTTAAATTGTCTCTAATATTAGTTTTGGGTTTGTCTAGTCTTTCGGTTTATTCTTTGCTAGGATCAGGTTGGTCTTCGAATTCTAACTATTCTTTTTTAGGGGGTGTTCGGGCGGTAGCCCAGACAATTTCCTATGAAATAAGGTTAGGATTAATTTTATTAAGTGTAGTAATTTTTTCAGGTGGGTTTAATTTAAGGTTAATTAGTGGGGCTCAAGAAGATTGCTGGTTAGCAATCTCTTGTTTCCCATTATTTTCAATTTGATTTATTTCAACCTTGGCGGAGACTAAACGAGCTCCTTTTGATTTAACTGAGGGGGAGTCTGAAATAGTGTCGGGGTATAATGTTGAATATGCCGGAGGCCCTTTTGCTCTCTTTTTTATTGCTGAGTATGCAAAAATTATTTTTATGAATTTATTTAGGGTTTTATTGTTTCTGGGGGGGAGATCTCCAGTTGAGTATGTATTTCCGATTAGTATAATATGGTTAATTGTGAAGACGGTTGCATTGGTAGTGTTGTTTTTGTGGGTGCGCGCGTCTTATCCTCGGTTTCGGTACGATCAATTAATGTATTTGACTTGGAAGAAGTATCTACCTCTCTCTCTGGCGCTTCTTATTTTTTTCAGATTTTTATTATCTCTGAAAAAAGGCTTACCTTCAGGTTTGTTAAGATAAGAACTTGATCCTAAAAGAAAGGGGCTCTAGCTGATAATTAGATAATAGAAGGTTAAATTCCTTCCAAGTTTTGTGAATCGTAGTATAGTTTTAATCCTAGTTGTAAATATAATAGCAAGAGTTGTTATTGTGGCGTCTAGGCATAGATGATTTTCAATTTGAATTGGTTTAGAATTAAATACTTTGTCCGTGCTTCCAATTCTGTGTGGACAATTTACTCCTCGAGGAGTAGAGTCAACGGTGAAGTATTTTTTAGTGCAGGCTTTTAGGGCTGCCATGATATTAAATGTTGGGCTAGTTCAGTTGTGGTTATGTTCCTCTTGGTCAATAAATTGTCCTTTAAAAGACTTTAGTTCGGTGATTCTAACTTTGTCTTTATGCTTAAAGTTAGGGTTGTTTCCGTGTCACTATTGATTTCCAGATGTAATCCAAGGGCNNNNNNNNNNNNNNNNNNNNNNNNNNATGAGAGTTTGTGGTATTATTAGGATTAAAGTTTTAATAGTTGTTGGATGCTTGTCTGTATTAGTGGGAGGATGAGGAGGATTAAACCAGTCCCAGATTCGCAAGATAATGGCGTTTTCATCTATAAGTCATTTAGGGTGAATTAGGAGAGTTTTAGCTTATTCTACTCATGTTAGGTGTATAATGTTTTTAGTATACGTAACTTTAAGAAGGGCTGTGTTTCTTATTAATAAAGAGGCTAGATTATATAACTTATCTTCTTTAGGTCGATTAATGCATTGTAAAAATATAATGGGACTTATCCTGATATTAATAATTTTGTCTCTTGGAGGATTACCTCCTTTAACGGGGTTTCTTAAAAAGTTTGTAGCTCTAGAATGTTTACTGTCTAAAAATTTATTTATCCCGTGTATTTTTTTAATTGTGGGGAGACTGTTGAGGTTATTTTTCTATCTTCGTATTAGGTTTAATAGCGTACTTTGCTTGTTCCCTCAGCATTCTATGATGTTGTTTTCTTGGCGTAGGTCCAAATTAAGTTTTAATAAGATTAGTGCTTATACTGTGTTTTTAAGAATATTGGCAAGTATTAGAATTTTAGGATTAGTGTTAATGCCTGTATCTTGATCCTATTATTAAGTAAAATGCTTATATATTAATAATTTAAATAATTAGCCTTAAAAAATAAGTTAAGTTTAAATGGTTAAAATTTATAAAAATCAAAAAATTGGTATAGTGTTGTTGAGATAGTATTGTAATAAGAAATTTCATTAAGAGCTATAGAGAAAGTACTGTGAAGGAAAATTGAAATAATAAAGAAATTTAAAATTAATAAAGAAAAGTTTATTTTTTATACCTTTTGTATAATGGTTGAGCAAGCTTTTACTAAAAGTGTTTTGTGTCCCGAAACTTGATGAGCTAATGTATTCTGTTTTCTAAGAAATGAAAGGTTACTGTTGCAATAGTAATCTTTGAGGATACATTAGATGTGAAATGCTAATCGCATCAAGTTATAGCTGGTTTTCTAAGAAATTAATTTTAGTTAATGGTGAAGTTATAAAGTAAGAAGTTCCTTATGGAAAAAAAATATTTTTTTATAAAAATTCATCTTCAGACAATTAGGGATAAGCTTAATTGTCAAATAGGAAAAAGCCTTAATAAATAATTAAAAACATTAGGTATAAAAATATTGAAAAAGAGTAGTAGGATTAATAGCATCTAACTCGCATAAAAGCGTTAAAGCTTTTCTTTTAAGCAAAGGATATAAAATATTGGTTATTTCAAGTTTGAAGTTTTTATTAAAATTATTGGAAACTTTTATAGAAGTTTATAAGATAAAATGCTTAAATTAGTAAAGTTATATAATTAGCTGCGAATTAATCATTCCTAACCTTGAAAGGGTGGAAAGTAAGAGTAATCAGGAATAATACTTCCATGAAATGTCTTCCAACTCAGGTAATTAATTTTTTTAATAAAATAAGAAAAAGGAACTCGGCAAATATTGACTTCGCCTGTTTACCAAAAACATCGCCCCTTGCAAAATAATTAACGAATAAGGG\r\n",
        "Phel_clc_contig_5\t\tAATAAAGTACCACTACGTGCACGCCAGTGTTACCACGCTCAGCTTGCTGGGAACCAGCGGCTACGCAGAGCACTAAAAACGTATAAAAAGGAAGACCGGCTGTCTGTGAACTTTATCTAACAAAGGTCCTGAGCATCATGGGGTCCTATGTGCTTGCTGCAGTTCTCCTCTTCTCCCTGTTGGGATGCGGTCTTTCTTCGCGGGTCCGTGGAGCGAAGCGGCCGCTGGACTTCCCAGGTGCGAAGCGTGATTTTGGCCGCTTTGAGTACCCAAGGAAGCACGGTTTCGACTACCCCGGCAAGCCACGCAAGCCCATGCCAACGGCAGATGTAGAAGTCACAGACGTCACGATGAGGGAGGACGAGCTCACGGCATCGTTGGGAGAGAACCCAGTCATCTGTGAGGTCTGCAAGTATGTCGTTGCCGACCTGCAATCCTTGTTGGGAAACGACTCCTCTAAGATCGTCTCTTTCCTGGATTCACTTTGTGCTGAACTTCCTACTGAGTACTCCGCCACATGCAAAAAGTATGTGGATGGCTGGACACCGTACATCATTGACTTCCTCGAAAACTCGACTCCAGATGAAATCTGTGCGGAGATCACGCTGTGCACCGCCATGCGAACCGACGTGGAGAGACGCCTCGACATCAACCCCTTCCGTCGCATCTTTGGGTTATTCAAGGATGTGTTCAGGACAAAAGTTAACAAAATCACGATTAGACACGCCCTTGGTAACGACTACCTGTGCCAACTCTGTGACGAGGTTGTCGACGCTGTAGAGGAGAACTACGAACATGTATTGGAGGAGGTGACGAGGGTGTTGGAAGAGGTTTGTAGCATCACCCCAGTACAAAAAGAGTGCGATCAGTACGTGAAGCAAATCAGCGCTGAAGTCAAAGCCGTGGTCGAAGAGTATTTCAACAACCAGACATGCGCAGACATCGGCCTTTGTCCCGGTTTTGAAAGTGGCCCACTGCCACGCTTCCGCGGATTCCTGGACTTTCTGCCCGATAGGCTGGGACCTCGTTACCGTCCAGACACCGAGCCATCCCCAAGAGGTCACCCATTCCGTGAACACGACGAGCACAACGGCCGTGGACACCGCGACCACCACGACCACCACGACCACCACGGGCACCGAAACCATACTGAGGACCGTCATAACCACACCAGCTCCCACCCTCACCGTCCCCACACCCCCTTCAAACCCTTTGGGCGTGATCAGCCCCACCATGGACATGGTCCCGTCGACAGGCCCCGCCCAGACACCCGGTGGTGGAGCCCCTTCTGGCCATTCCCATCTAATGGGGGTGGTCACAACAGACCAACCAGACCAATCGACCCTATGACCCCGCTTAAGCCCAACAGAACCTCAAAACCAGAGCCCAAACCCGAGGCCCCTCGCCCAACCTCGTCCTTTGTCCCCGTCAACATCGACCCCAAGAGACCATATGCACCCAAGGGACAGTTCGTACCAAGACTCCCAGAAGACATCCCCGTTAGACCCAGGTCCCGTTTCCCAGGTAAACGTCAACACGGTGAAAGAAAGGGCCCCCGAAGGGGGCAGAGATCTGTGGTTATCAACTCCATCAACGGTGGTTTTGTTGACAACGGGTACCAATATGACATTGAAAGCGACCACGATTCACAGGTGCAGATCAACTGGCAGTGTGACACGTGCGAGTACGGTGTTGAAGCTATCCAAAACTTCCTGCTGGAACGTGCTGGAACGTTCGAGGTGAAGCTGATACGAGTAGCTAACACTGTCTGCCACAGACTCCCAGAAGCAATCGTCGCCGAGTGCAAGACTGAGGTGGCCAACGTCTTGAACGGCCTCGTGACCAATGTGATAACTGGCTACGTCACACCAGACAAAGTGTGCCCAATCCTCAAACTCTGCTAGAGTGGGTTTTCCCGGCAGGCTCCGAGGGAAGGCAGCATGTACCATTATTACCATGGAGGAAAGTTGGTTTATTGTGTGTGTGTGAAATGATTTTGTAACCGCACGTGTTAATTTCATGGATTGGTTATTGCATACATTTAACTAACTGTAACTAAAAAAATTCAGTATATATGGAAGACAAAAACAAAAAACAGCAATTGAATATTTAGTTTTGTTCAGGACGAACTGCTATTAAAACGGCATTGGGGAATGAACAGTGTGATCCCAATGCAGATCAAGAAAGAGGGCGCCCTATCACCGTGCCAGTGAAAAAACAAACTAATCGTCACATTTTATTTTAATAACTATGCACTTCTTTTGTACTACTTACTTTTTTAAGACTTAAAGTAAAATATTGTAGTTTTATTCCATCATTGGCAAAGAACAAAACGGGCCATCAAATTGTGGAAGTAACATTATTTTCATTCAGTCGCTGAGCATCATTAACAATAATTGGCAATTGAACATTTAAAAACGTACAGGAGCCCCATTGCCTGTCGCGATGCGCTGTTTCTGTTACCATATGCTTTGCAAGTCTCGCGCGTATCGACAACGAGAAAACAACTCGAACGAAGACTACGTTTTTCTATGAAACCAATGAAATGTGTGCGTCCATCACATAGGGTTTAATGACAACATGACCTGAAACGGAGGTCAAGTCTTTTTTTCGGGTTTTCTTTGTTATTATGTTGAATTGATTTTACTTTCATATTGTTTATCACGTAAAAACGTAAGTTCGAATATACGCGCCAGACTTGTTCAGTCTATTGCAAAGAGAGAACCGTGCCCAATTTCATGGCTTTGCTTACCGTGGAATTCTGTGCTTATATGCACTTTACGGGGCCCCGTAAGCGTGGAGTTCTGTGCTTATATGCACTTTACAGGGCCCCGTAAGCGTGGAGTTCTGTGGTAAGCAGGACCATGAGATTGGGCCCCTATCTGCCTTTAAATACTCAGTCTGGTTTTTACCATATGACAAAATACACAGTAACTTTGCATGTAGCATAAAGTATTATCACTATAAACAACTGAACCTTTTGTATTTTGATATAACCGATTTTCTATTAAAGTGATAATATTAACAAGAAACGATCGAGTTCATGGTGTCTTTATTCAGTGTTAAACATTTTCGGGGTTAGATGGTTATGGAGAAGAGACATGTGTAAACAAAACATGAAGGTTAAAGTTTCGGATTTGTTCAAACGAAAATGAAAAATTTCCCCCAAATCTCGCATTAGAAAACCACACGGAACTGAAATATACATGTACATGTCATATTATTGTAGTTCCTTCCATTTGAAGTGGGCGAGAGTTGCAGGTGGTTTCTTTGA\r\n",
        "Phel_clc_contig_6\t\tTGTCCCAACAATAGAAGGGATACCCCACTGGATGACGTCATGGTATGGCAACCTGTTGGTGACTATATGCAAATGACATACACCGGTGGACTACCGCGGTCTTCCGTGTGATACAGCCCATATAAACGGGTTCACTCCAGGTGTGTAAGACAAACTGACAACCAGCGTGGACTAACACACACACACACAACACTGATCAAAGCGGAACGACTTGTAGGGAACAGTTCTTAATAAAAATCATCGTGTGTAACAACCCTACAATATAATTTATTTATTACTGTGAAGAAGACCAAGTGCAGCTTTGAATATTAGAATACAATGGATCACAACTCCAGAACAGCATTTTACAAACAGGCGCAAGGTGCCATTGTCGCAAGCCTGCTAATCATCGTGTCCTCACTCATAACTGTTTGTACGTCAACACCGATACCGCCGCAGGAGCAAGTTCACCCCAGAGTACATTACGACCGGCTAGTCCGCGACACAGAAGCACTGCACGACAGACACGCAGTAGTGTACAGTGAATTTAGATCTATCCGCCATAACGACCCCACCATTAGGTTTGATGACTTCAGAATTGAGGGTGTCCCACAAGTGGAAACGCTACCATCGGGTCAGGTGCGAAACAGTATGCCGGAGTCAGAGTTGCTGCCCAATCACTACAGAAGAGTACAAGCCTTCGTGACCAGTCTTACACTCGCCATTCAGGATGAGAACATGTTGAGGATGACCGGCGATCAAGATTTCGACTACCGACTAAGATCGGTCCTTACACTTATGCGGCGAGTGGAATTGAAACTCAGCCAAACGATGCAGCGTCTTGAAATCGAATTGGACTATTACACAAGACCGGCGGTTAACTTCACAATCAACGAAAACCACACGTACCTCAACATGAGAATTCTGTTTGTCTTACAAGAGCTTAGTCATTACATGGTACCCCTCACACAAGACTTTGTCAACTACAGGAGCATGCATAACACGACATCGTCATAGCAACTCGGTTGATCATTTAGAAAGCCCGCCATTTCTGAGAGGACAGTGAATGCGGCCCATGGTTCGCAGACAATGACGCTTCGTCAACATTTTGTGTTTGTTTTTGTTTTGCAATCGGTCGGTTAAAGACCCGTTCCCATCGGTGTGGACAGCTGGAAATCCTTCCTGCGTGTTTTCATCTGATCATCAAAAAAGCGAGCCTTTGTTTTGTAATATTGTATTCATACAGCGAGAAGTGAGCGTTTATAATTATTTATTTTTAATTTATGCTAAGTTATTCATACTTTTGTATTTAAGTGCCTAAACACCAAGAGTTACATGGTGATATTTATTTTAACTTAAGTAAAGCAGAGAGGACAGAGGACCGACAGTACTGTTTGTGCCGTTTATTTAAAAAAACAAATATTTATTATAAATTAATTTATTTTGTTATATTGGAGGACTTTGTATTAAAACGTGAGATTTCCAATGAACAATACACCAAATAGCATGAATTGATGAATCGATTCATCAAGTTGTACTTCAATTTTATAAGTGTTGAGATTTCCAGCTGGGAAATTATTAATGAAATAAAAATAATTTTAAAATGCGACGAGATTATTCTCTTAGTAACGAGAGGATCATTTCACAATGAATATAATGAGACCCACATTTTTAACAATGTACATATTTATTTAATATTTTTATATGTGAATTAATAAAAAATTTAAAACCGTCACATGTGTCTAATGTGGACGTCAATGCACAATTCATCACGTACTGTTGGGTGCCCGACTGAAGCCAGTTCGTACGGGCCTTCATGAGATCATGCAGGGCACGCGACGTACAACACGTTGTCTAAGCAGCAGAAGGTCGTTCGAGACAGTGTCATTGAACAAATTATAAAATAATTTGGCAGGAGTGTTATGTTTGAAGACCCCGAAGAGATGTTTTCCCATTCCAATGCGGAATTTATTTTCCATCTACATGTATATATGTATACAGCATTAATTGTGTACGGCAGAACAAATGTGAAAACTTTTCAATCAGTTTTCCATAAACACAATTTTACATTTTAATTGGTTATGATCTTTTGCCGAACCCACTTTCATTACGCCCTTCTGGTGGGCCCACGACAAAGGAAAACCTTTTTTTAACAACAAAACAGATAAATAATTAGTATTTTCCGGTCAATAATTGACTATATTGTGGACCCTTGTTACTCTTATCCTTATGTGACAAAGAGCTAAACGATTTGAGTTAAATGACTGAGTCAATGATTGGGTAATTTTCAAAACACTGTTTTCAGAAAATTATTCATAAAAAAAGAAAACCCCCAAAATTGTCCCACTATTTTTTTTGCGAAAGATGTGTATAAAACATGTAGGTATAAACACTAAAAGCAAGGAATTTTAATCAACATGGCAAAAATAAACTTACTGTTAAACTTCGGATGTTTGACCATAATAATAAATTATCATTTTCATAAGATAAAATCTTCCTTACATATGTTATATTAATGTACTCAGCTGGTTCTGGTGTTTTTAACATTGGAATTAAAAAAAATTGTCTTCCTAATTTACCAATTTGTCCAAAGTGATTTTAATTTGTCCATGTGTGCCCTACCTATTTGTTCAGGTGTTCTTTTTCAATTTTTTTTAATTTTGCATTTAATTATTTTGGGTTCCTACTAGTACATGTACATGTAACACGCGTCATGAAACACAGGCTAAAATGTTGCCAATTGCGACACTTAAAATGCAATACGTTCAACAACAGAAAACACATGTAATCTGCTGAATGATCTTTTCGAAAACCGGCTTTCGGCTGTCTTAGGCTTTGCTATTTTAAAAACGTTTGCATTCGGCACGGGGATTCAGAAGCCCAAGGGGGGCCTGAACCGTGGTTTCGGGAAGGGCAATCAAATGATTGGACAATACGGCAAATTATCATTTTCATAAGATAAA\r\n",
        "Phel_clc_contig_7\t\tTTTTTAAAAAACTAAGTTGTTTTCTATTTGTCCTGTGAGAGGAATAAAAAATATAAACAACATAAAGTATAATACAGAAGTAATTTGTCCAAGTATAATAAAGGGTTCTTCTACGGGTTGACTTCCTATTCAGGTAAGTATTATAAAAACAGATATCAGCACTCAGAAGAAAGATTGAGAAGCTGGGCGAAATGTTTTGGCCTGATTGTTTGAAGTGTGAAGGATTGGTACAATGAATAAGACAAGAATCGAGGCAAGCAAAGCGAGTACTCCCCCTAACTTTTTAGGGATTGAACGAAGAATAGCATAGGCAAATAGAAAGTATCATTCAGGTTGAATATGAAGGGGTGTGACTAAAGGATTGGCAGGGTTAAAGTTTTCTGGGTCTTTTAGGAGAGTAGGAGAGAGAAGTACTACAGATGAGAGAGCTATAAACATTATTATAAAGCCAGTAAGGTCCTTAGTAGAAAAGTAAGTGTGGAAAGGGGTCTTGTCAAAAGTAGATTCAATACCGGTTGGTTTGTTTGATCCTGTTTGGTGGAGAAATAAAAGATGTACAACGGCGAGAGCGGTTATTATAAAAGGAAAAAGAAAGTGGAAAGCGAAGAACCGGGTTAGAGTCGCTTTGTCTACTGAGAATCCTCCTCATATTCATTGTACTATGGTGGTTCCTATATAAGGAAGAGCGGAGACTAATTTAGTTATTACGGTGGCACCTCAAAAAGACATTTGTCCTCAAGGTAATACGTATCCAACGAATGCAGTTAACATTGTGAGAAGAAATAGTATTACTCCTATTTTTCACGTTTCCTTTTTTACGTATGATCCGTAGTATATTCCTCGTCCTATGTGAAAGTACATACATATAAAAAAAAAGGATGCAGTATTGGCGTGGGTTTTTCGTAATAGTCAACCATATTTTACATCTCGGCATATGTGTCTTACGGAAGAAAATGCTAAGGAAACGTCTGAGGTGTAGTGCATTGCTAAAAAA\r\n",
        "Phel_clc_contig_8\t\tAAATCTTCAAACCTAATTTAGATTCAAGAGACATACACATGTGTTGGTGTCGTGCCATGATGATGGAATTGTATGCACATTATTGGACCAAAGCTTACGTAATCGTTACACAATAACAATGTGTTGTTTGCCATACCTTGAAGAAGGTACGTACATTTGTTTTTGCAAGAGATCATTTGAAGTCTCTAGCCTCTCCTGAACAGAAGCATAATAAAACTAACCAGTGCTGTTGTCACCACTAAAGGTGCTCACATCTTTACAGAGTAAATGTTTGTGGTTTTGTATAAACCAAAAAGTCTTTTTGGTTTGTATAAAACATCTTTTTAAGATGTCAGACAGAAACTTTTTGTATGTTTTGTCAAGGTACACGTAATGGGTGCTTATGCCAAATATACATAAATAAAATTTAGTCTGAAAAAATACTAAATTACTCACTTTAACTGTTAATTACTCACTTTACTTTGTAGTTACCAATGCTGCACCATCTTTTAATGCATAGGTCACGCCAGGAATTTTTCAAATCAAAATAAATGTAGACGCTAAATAGCAAGACAAGTTCTAAAAGAACAAAATCTATACAGCGAGGTAGATATACACACATGGTGTTACCGCAAACTGAACGTACAAATGTAGACGTTACTTACATATCATTTTAGTTACACTTCACTTCTAAACTAGGAGCTTCGTCAGACTGGCAACCATGTCCAACGCTCAACTGCCCCTTATACCCCCTCTCAGTCGTCATAGAGGGCGTTTTAGGCGTGGTTTGGACTAGGTTGTAAATGTGCCCTCTATGACGACAAAGAAAGGGTACAAAAGGCAGCTGACCCAGCTTAGGAGTAAGTGTAACCAAAACAATGTGTAGTAATAAACCAAAGGGAAACTGACTGGGTAAGTTTTAGATTTATATTTGAAATGAAAAAGTCACATCCCCTTAAGGTGATCCCGTGGCTGCTGCTTCCCAGGTTGTATCGTGAACTTGGGTGTGATCCCTGGCTACACGGCAGTTAATGGTTGCATGGCTTCTGACTGACACCCCCGAACAAAGATATTGGCAAAATAGGGAGACCGCCAACATAGGGCTAGATGGCTCAGTTGGTGGAGCGGGGGCACGTTAATCCAGAGGTCGTTGGTCCAAATCCCACTCTAGTAAATTTTTCTTTGTTCAACCCAAAACTATTTAAAATCTACCCAATCAGTTTCCCCATGGTTTATTACTTGGTTCCCCTTTTTATCACGAGTTGGATTTGTCAGAGCTATCGGAGAAATAGATGCAAATAAGATTACCCAATTTATCTAGTCCAAAAAAATACAAACGTGTTCAATAACTATTTAACAATTTTATTACACACAAATTATAAATACTGCCAAAATGCATTTCAACAATAACAGCAATGGTGTTAGAGGGGGATATTTTTGGGGGTATATTTTCTGTAATTTCGGGAAGGGGGGATGGTGTGCCTTTTATATAATCTCCCGTTCAAATTTTATATTTAAGAANNNNNNNNNNNNNNNNNNNNNNNNNNNNNNNNNNNNNNNNNNNNNNNGGCATTTAGTTTTCGGCAATCGGGTATTGTAATTTGTCTTATTTAGGGGGTGGTGTGCTTCGTAATGTATATCTCTTACAAGAGAAAAACTACCGTGCGATCAAAAACATTTTTTTTCTTCTTTTATTCTGTGAAACATTTTCTAGAAGATATTGCATTCAGTTGTGAAGATAGAGAAATTTAAACGAGAATGTTACATTTGCTAGTGAAGAACTTTCTCGAGTCTGGCTTACGCTATTTTTTTTTTTGCCCACACAGATTGAAGGGGTGGTTGATAACATCAACACAATTATTATTTGGCAACATGAACGTTATATCCTTTAGTGACCACTTACATATAAAAATCTGACCCTTTGAAACTGCACTGAAACTAAAATAACAAATGGACAGAAGGTACCTGGCTCTCTGGCCCCCCCTCCCTCTACGGGACTGTACTGCCTCGTGAAGTTGTCTTAATGCATTGTGTTCTCCGAACCGACCATGAAAACCTGATCCAGCTTTTGGAATAAAAGGCGTTTTCTTTTACCAACGTTTTTTTCTAGTTTCATCTCCAAAGTGAATTTCTGATGGTATCAGACTGTTATCTTGTAATCTTTCCGCTCATTAGAGTCAAAGCTGGAGAAAGTCTTCATGCAAAAGCAAAATATCCACTTCCGATAAGAAGTGATCTAGTGCTGTAAAGCGTTGATGATTTTTACACTTTCTCTTGAGTGAATACAAACTCAAATGCAAAAACAAATCCAACGATTATACAACGATTTTTAAAGGAGCACTGGGTCAAACTTGTGCTTTATTCCAAGCACATTGTGCTTCCTGTTTAATAAGGGACAGAGCATTTTCTCCCCCCTCCCCCACTCTGAATATTAATGTTGAACAAATTGCATGGCACATGCAAAGTATGCATTCTCTACGTCAGGGCTCGAAATACCCACTGGCCATCATGAGCCACAGTCCGGTAATTATTTAAGCATTTGACCTCTAACCCCACAACCAAAAGCAGTCTAGTGTTTGCNNNNNNNNNNNNNNNNNNNNNNNNNNNNNNNNNNNNNNNNNNNNNNNNNNNNNNNNNNNTTCTAAATTCAACACCAACTCCCTAAAAGTTCAGCAAATGTATGAAGAAATGGAAAAGAAATATTTTAGGTCCACCGAAAGATTCGAGCTACAAGACCCCAAGATCTAGTGGAACTTCGAGCCCTGTTTGAATTAAGCAAGTTGGACTGCTTACTATACGGATAAGCACTGGTGGAGCTTTTTGCACCCATACCCCATAAAATGGCGATGGTTTTCCCGTCTTGTAAACTTTGTGCATGGCCGCTTGAATGGCTCTCCGTCTTGCGACTTGCTAAACCCATGGTTAAGCGAACGGGAACCATTCTATAAAGGCACAAATTAATTTGCTTAGCCCCCTCCCCCAAAAAACAAAACAAAAACACAAAACCAATCGGACCTCGAACATTGGCTTTGTAACCCATTTCTGTGCTTAGCAATTTGTTGTGCTGACCAGGGCCAAATTACATAAAGCTGTAAAGCAGGAAAAGATGCGGCTTAGCAAATTTCTCTGCTAAGCAATAAATGAGAGGGGCACCAGTTGCAACGATGTAAACTTTGTAGAATTTATGGCTGGTTACCTGTTTCTAGTCAGCAAAATTTTTCTGTGCTAAGCGAGTTTTTGTGCTTAACAGGCTTTACGAAACTGGGCACAGCTTTATGAAATCGAGTGCTGGTTTGTAAAGGTAGAATATTCTCCAACCAATGATCAACTGTTTGTCAGCTGTCAAACTTGCTTGTGAAACACGTAGGCTAACCTACTGATTTGATAATCGCTAATTTTAGTCCTCTCTGCCTTTTTGTGGCTTGAAAAAAGGTTTCAGAACAGAGAAGGAGAACACTTTAACGTCACATGAGATATCAGGCCATGGCCGAATAAGCTGTGGCTGCAGCCATCTTGATTGATTCCCTATGCACTGTCATGAATACCACGATGATATGGAATTTGGAACCAGACTATTTTTTTGCTGTTGGCCACTTTTATTTGTGGCCACAAGATGGCTGCAGCATGAGTTTCACAAACCTTGTCCATTTTGTTAATACCTTGTAAGACCCACGTCAGAATTTGGCGGCTATGGCTATGGCTGCATCATAATGCTTAGTCGGAGTATAAGACATCCTTAGCAACACCCCTAGCAACAGTCGCAGCCACAGCCGCCAATTCCGATACGGCCTACGATTGCATGTACATCCAACTGAATTAAACCTACGGCCCTGCTTACACCAAATAAAGGGGTGTCAGACTTTTCTGTTGGTTTCCGTCTTTCCAGCTTCATTACGAGTATTTAGGACGAAAACAAGGTTACTAAAATGCAATAAAGTTGTAATAGAAAAGAGAAAAAAACAACAACAAAAAACACATTCACGATCATTATTAAGTGCAAACATCGTGGCTCCTCTTTAACAGCAAGCCCTTTTCCAACAACCTGTCATTTTACAAAGGCTTGGAAATGAAAACATGATTCCGTCTAATCAGTAGCAAAGTACTAAAATCATAAAAATAAACGTAACTAATACACATTTCATCTCTTTCCAATCGAAACCTGCCCATCCCCCCCCCTAAAAAAAATTAATAATAAAAATGGTAGGAACAAAAACCCAGGTGATTATTTGTTTTGATTATTTTAAGTTTTTTTAACATGAAAAAGCTTGTTCCGTGAATCTGTGTACAATTGATGAGTCAACCACTACACCAACTATCGTGTGTTATTTATTATCCTTATTATTTTTTTTTTTACATTTTAGTTTTTATGTGTGGGTTGTGCTAAAGTTCTCTAGTCATTGGCCCAACCATGTAGACAGCTGCACCTAGGGACGCTTCTCCGCATGTTTCTTGGTGTATTCCTCGGCATTTCGCATGAACTTCTTCTTGTCTTTAGTGTATTCTTCGGCGAGCTCACCTCGTAGTGGGTGCTCCGGTTCTGGGTCATGGACAAGGGCGACTAATGCTTGGATAACTTGATCTGTCTTTGTTGCTGGTTTCCAGTTTTCCGGGCTGATAATAGGTAGGCACACTTGACCCTTCTCATCGATGTTCGGATGGTAGATTTTGGTCTTAAAAGTGATCTTGGGTGGCTTGAACGGGTACTCTGCCGGGAAAATGATTTCTATCCTAAACGCTCCTTTGTTATATGGCGGTGTTTCTGGGACTATAAGGCCCTGCCAGTTTAAGATGTTTGTGTCACTGACAACTATGTTTTTAAAAATTGCAAAGTCGGCTTTCCTGATGTCGGATAATTCCTTTGCTAATCTCCTGGTGGCCGCCATGATGTTGCAAACGAAAATTAGATTTCACTGGTTTCCTATCAAT\r\n",
        "Phel_clc_contig_9\t\tTGCTCAATATTACAAGTTAAAAGTAGTCGCTATCATAAGTCGATTGGCGCAGTATCATGACCTTGGCTTATTCCACAGCTATGATGCTCTTTCCTAGAGCTCCTCGCTGGTTGTCCATCTCTCGATGAGCTTTTCCAACCTCTTCCAGGGAGTAAACTTTGTTGACGTGAGGGCGCAACCATCCTTCCTCTGTGCCAGCATAAAGATCCCTGGCAATTACAGCTCTCTCCTCCTTAGTTGAACTCCGGAGACTACTTCCCATCACCAATGATTCCTTTCCCATCAGCCTGGAGGGATCGCATTTTGTCTCACCTCTCTTTCCAACAATAACAATACGACCACATTGACCAATGATGTCCAGATCCAGTGGTATGTTGATGTCACAATTCATCTCAACAATAACGTCAATCTGTTTATCTGCAAATGCAGCCTTTAGCTGGTCCTTGAAGTCTTCTGCTCTATAGTCGATGGCAAAATCCGCTCCATGCTTCAACACAAGGTTTCTCCCCTCCGGTGTGCTCGATGTGCCAACGATGATAGTTGCTCCAAAAGCACGTGCTGATTGAATGCATGCTAGACCAACCTGTCCACTCGCTCCTTGGATGAGGACTGATTCTCCTTTCTCGAGTCTTGCCCTCTTGACCAAGGCCCTGTGTGCTGTGAAGTAAGGAATTGGGAAAACAGCGCCCTCATTGAAGCTCAGCTTGTTGTGAAGTGGGTACACCATATCCTCATTGGCTAGGGTGTATTCTGCGTGGGTTCCCGTGCATGCACAAATGACGTAAACTCTATCACCAGGCTAGGATTACATGATTTTTTTTTTTTAAACAGAGGACAAATATAACATTAGTGCACCGGACTTGAGTGCTGGTGTCAAAATTATCGGGGTGTGGGTTCGAAATCCGGTCATGGACAATTGCGTACTTGAGCAAGACACTTAATAACTGTATTTGCTTCTCTCCACCATGGAGTAAATGGGTACCTGTATAATGGACAGAATTGGTTCATGTGATAATTTTCACAGGATTCCAGATGTTTGGTGTAGAGTGTAAGGCCTGCGCTAAACGTCGC\r\n",
        "Phel_clc_contig_10\t\tTGTACCCCTGGGTGGACAGAAGCAATTATAGTAAAGTATCTTGCTCAAGGACACAAGTGTCATGACCGGGATTCGAACCCACACCCCGATGACTCAACCACCAGAACTTGAATACGATGCTCTAAACCGCTCAGCCATGACACCCTGGAAAACAACATTCATTATCTCATTCCCATTCAAAGGTCTGTCAGTTTCATATTATTTGTGTCAAGCAATAAAAAACAAGTTGCATTAATATTGCATTTTCATCTGACTACAGCAGCAATTGCGACAGATTCTCAAGACCACAAAGATTCCTATTCTCAGCCTCATCTTGATGCAATGCCAGCTCAGCGTAAAGACGACGAAGCCCTGAGGAGCATCATCAGCCAAGAACCGTGGAACTACGAGGTCTTATACACTGTCAAGATTGAGAAGGTGTACAAGACGGTGGACGGGAAGGTCTCCATGAGGGAAGGGGAGGAGGTTCAGATTAAGAGTTTCTATCCTGGGGGAATGTTTTGCGGAGTGGAGCTCAAGAAAGGAAAATCCTATGTTTTAGGAGGTGCCATCAAGGATCAGATTGGCAGATGTGACTTAATACTCGAATATAAGACCATCTCGAAAAGACAAAAGCAAGGACTCCGCAGCAACTATGGCAAATTCTGTGACAAGTGTCAGATTGCAACATGTCACTCCCCCCAATGCGCCGCCCACCTGCCGGAGAACACGTGTGCGTACATGGCCCACGACAGTTACGACAGACACGGTATCGGCTACCAGGAGGATGACTGCCTCGCAGCGCACTCCAAATGCCTCCCAAAAGAAGGTCACAAGATGTGCCAGTGGCACAGAAATAAAGATTTGAAGGGATGTCTGAGTGAGACGGGTGTGGACAGTCGCCCGGGTGTGAATCAGGGGCCAAGGAGACATCGCCAATCGCAGGGTCAACATTAAGACTGGTTTTTTTTCTTTTGCACTTTGTTCTTCCGTCTCTCTTTGTATTTTCCCACAACCTCCCTCTTTCTTCATCTTGCTTTTTTGTTTTAATAATTTTTTTTTTAATGCTGCACATAATTTATAAAGAGCCAGTGTGGTCTCGAACGTCTTCAATAATAAAACTACTGATCCAAACTTGAAACTGTTACCATTAACTACAGTTAGTAGGGTGTCTCATATTGTATAATGCAAGTAATGTATAAAGACATCGATGACATCACTCTTGGATTGTCATACGAACAATTTTGTTTCATTGTTTCGGGGTTGTGTTTTTCCTTCTTCATTTTTTAATGGGCGGACCAAAAAAGAGCAGGGCAACACCTGACTCTTACTTAATAGACTACATTCAGTTTCCTTTCATTTTTATTTACCAAACAAAAAGTCTGAAGGACTCAAAACTATTTAGTTCATACAATGCCAAAAAAAAGCTGTCATAATTTGGGTTGGGGATAAAAAAGATTAATATACCAACTTTTGTTTCATTGTACACCAATGTGTAATAAGCACTGTAGAGACCATTCTATTGCAAGTAAGTCATTATGGTCATTAACTTGTGGAGTAATTACCAAAAGTATACCCTGCCTTCGAAACCAAAAATATTATCAACACTCTTTTTGATCACAACAATACAATGTTGTTTTTCACCTCTGCTGTATTTTTTTCTGTTTCTAAAAACGCATATACTCCTTCATGCTCACAGCGCACTAAACATGTACACGCTTACAAAATGTAAGCAAATAAATATATATATAAATATTAAGCTTTTAAAAGAAATCTATAAACAAAAATTTAAATAGTGTACAAAAATAGACTAAAATGGCTTTTTAGTGTACTCTATATATTTTTATTATGTGTATGTACTAGAACAAATTCAGTTGTAAGCATGTTTATCTCCGTTTATCTTGCTTAATTTATCCAAAGGCTAAAATGTTTTTAAAATCATCGAATCCGAAGATCGGTTTCTAATCCAAAGTCCAATGATGTTTTGTACCTTTCAAATCTCTAATATTTCATTTTTTTTCCTGGAAAAGAAGTGGTTTGAACAATATTTCAATCATCCTACGGCAGGTAGGTGACGGGATCATGCCTATGATGATACAAACATGGAATTTGGCACACAGTCGGACTAAGTCATGAGAATGATATTTGGCGATGGGGCC\r\n"
       ]
      }
     ],
     "prompt_number": 15
    },
    {
     "cell_type": "code",
     "collapsed": false,
     "input": [
      "!wc -l ../data/Phel_transcriptome_clc_n.tab "
     ],
     "language": "python",
     "metadata": {},
     "outputs": [
      {
       "output_type": "stream",
       "stream": "stdout",
       "text": [
        "    7872 ../data/Phel_transcriptome_clc_n.tab\r\n"
       ]
      }
     ],
     "prompt_number": 17
    },
    {
     "cell_type": "heading",
     "level": 3,
     "metadata": {},
     "source": [
      "Using Galaxy to remove sequences"
     ]
    },
    {
     "cell_type": "markdown",
     "metadata": {},
     "source": [
      "<img src=\"http://eagle.fish.washington.edu/cnidarian/skitch/Galaxy_19A3FF18.png\" alt=\"Galaxy_19A3FF18.png\"/>"
     ]
    },
    {
     "cell_type": "code",
     "collapsed": false,
     "input": [],
     "language": "python",
     "metadata": {},
     "outputs": []
    }
   ],
   "metadata": {}
  }
 ]
}