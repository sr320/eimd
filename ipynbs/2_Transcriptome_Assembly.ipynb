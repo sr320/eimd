{
 "metadata": {
  "name": "",
  "signature": "sha256:1750b4c3a9a7ae0fdfef09ddcaf86cec24e9ea8e257f7b04318c02b1bafac479"
 },
 "nbformat": 3,
 "nbformat_minor": 0,
 "worksheets": [
  {
   "cells": [
    {
     "cell_type": "heading",
     "level": 1,
     "metadata": {},
     "source": [
      "Transcriptome Assembly"
     ]
    },
    {
     "cell_type": "heading",
     "level": 2,
     "metadata": {},
     "source": [
      "Trinity"
     ]
    },
    {
     "cell_type": "markdown",
     "metadata": {},
     "source": [
      "```\n",
      "################################\n",
      "## Counts of transcripts, etc.\n",
      "################################\n",
      "Total trinity 'genes':\t117729\n",
      "Total trinity transcripts:\t145222\n",
      "Percent GC: 40.87\n",
      "\n",
      "########################################\n",
      "Stats based on ALL transcript contigs:\n",
      "########################################\n",
      "\n",
      "\tContig N10: 3392\n",
      "\tContig N20: 2262\n",
      "\tContig N30: 1685\n",
      "\tContig N40: 1268\n",
      "\tContig N50: 946\n",
      "\n",
      "\tMedian contig length: 335\n",
      "\tAverage contig: 617.51\n",
      "\tTotal assembled bases: 89676218\n",
      "\n",
      "\n",
      "#####################################################\n",
      "## Stats based on ONLY LONGEST ISOFORM per 'GENE':\n",
      "#####################################################\n",
      "\n",
      "\tContig N10: 3252\n",
      "\tContig N20: 2047\n",
      "\tContig N30: 1465\n",
      "\tContig N40: 1065\n",
      "\tContig N50: 767\n",
      "\n",
      "\tMedian contig length: 305\n",
      "\tAverage contig: 547.96\n",
      "\tTotal assembled bases: 64511364\n",
      "\n",
      "\n",
      "#!/bin/bash\n",
      "\n",
      "TRIN=\"/home/ggoetz/compile/trinityrnaseq_r20140413p1\"\n",
      "\n",
      "export PATH=~/compile/rsem-1.2.3/sam:${PATH}\n",
      "\n",
      "${TRIN}/Trinity \\\n",
      "\t--seqType fq \\\n",
      "\t--JM 44G \\\n",
      "\t--left left.fq \\\n",
      "\t--right right.fq \\\n",
      "\t--CPU 6 \\\n",
      "\t--normalize_reads \\\n",
      "\t--min_kmer_cov 2 \\\n",
      "\t--quality_trimming_params \\\n",
      "\t\"LEADING:5 TRAILING:5 SLIDINGWINDOW:4:15 MINLENGTH:36\"\n",
      "\n",
      "```"
     ]
    },
    {
     "cell_type": "markdown",
     "metadata": {},
     "source": [
      "output  <http://eagle.fish.washington.edu/cnidarian/SeaStar/trinity_assemblies/run1/Trinity.fasta>"
     ]
    },
    {
     "cell_type": "code",
     "collapsed": false,
     "input": [
      "!head //Volumes/web/cnidarian/SeaStar/trinity_assemblies/run1/Trinity.fasta"
     ],
     "language": "python",
     "metadata": {},
     "outputs": [
      {
       "output_type": "stream",
       "stream": "stdout",
       "text": [
        ">c2_g1_i1 len=233 path=[20:0-32 20:33-65 20:66-98 52:99-232]\r\n",
        "TCTTGGTCTTGGACGTGGACTTGCTGGTCTTGGTCTTGGTCTTGGACGTGGACTTGCTGG\r\n",
        "TCTTGGTCTTGGTCTTGGACGTGGACTTGCTGGTCTTGGTCTTGTTCTTGGTCTTGTTCT\r\n",
        "TTGTCTTGTTCTTGTTCTTGTTTATGTCCTTGTTTAGGGTTGTTGTTGGGTTTGTTGCTG\r\n",
        "TGTTTTGGCGGGTTGTTGTTGTTTTGGGGGTTTTGGTTGTTTGTTTGTTTGTG\r\n",
        ">c108_g1_i1 len=239 path=[1:0-131 133:132-238]\r\n",
        "CACTTCGTATATGCTTTATAGACTTCTTGTACGATGTAAAACTCAGACTTTTAAAATCTT\r\n",
        "TTCTCATTTTTTGTAAAACTTTATAGAATAATTTTTTCTCTCTTGGGATATATCTACACT\r\n",
        "TTCAACTTGCTTAAAAAAAATATAGATAGTGTATGGTGTATGGAGGATTGTGTATTTCAC\r\n",
        "ATGTGAGGTACTGTGTTACTAAATTTAGTTGTCGTGACAGAGAGAGGAACAGAGCAGGG\r\n"
       ]
      }
     ],
     "prompt_number": 3
    },
    {
     "cell_type": "code",
     "collapsed": false,
     "input": [
      "!fgrep -c \">\" /Volumes/web/cnidarian/SeaStar/trinity_assemblies/run1/Trinity.fasta"
     ],
     "language": "python",
     "metadata": {},
     "outputs": [
      {
       "output_type": "stream",
       "stream": "stdout",
       "text": [
        "145222\r\n"
       ]
      }
     ],
     "prompt_number": 5
    },
    {
     "cell_type": "code",
     "collapsed": false,
     "input": [
      "!fgrep -c \">\" /Volumes/web/cnidarian/SeaStar/trinity_assemblies/run2/Trinity.Cufffly.fasta"
     ],
     "language": "python",
     "metadata": {},
     "outputs": [
      {
       "output_type": "stream",
       "stream": "stdout",
       "text": [
        "160038\r\n"
       ]
      }
     ],
     "prompt_number": 6
    },
    {
     "cell_type": "heading",
     "level": 2,
     "metadata": {},
     "source": [
      "CLC"
     ]
    },
    {
     "cell_type": "markdown",
     "metadata": {},
     "source": [
      "Trimming"
     ]
    },
    {
     "cell_type": "markdown",
     "metadata": {},
     "source": [
      "<img src=\"http://eagle.fish.washington.edu/cnidarian/skitch/greenbird_1977290F.png\" alt=\"greenbird_1977290F.png\"/>"
     ]
    },
    {
     "cell_type": "markdown",
     "metadata": {},
     "source": [
      "de novo assembly\n"
     ]
    },
    {
     "cell_type": "markdown",
     "metadata": {},
     "source": [
      "<img src=\"http://eagle.fish.washington.edu/cnidarian/skitch/greenbird_19772A25.png\" alt=\"greenbird_19772A25.png\"/>"
     ]
    },
    {
     "cell_type": "markdown",
     "metadata": {},
     "source": [
      "summary stats\n"
     ]
    },
    {
     "cell_type": "markdown",
     "metadata": {},
     "source": [
      "<img src=\"http://eagle.fish.washington.edu/cnidarian/skitch/greenbird_19772955.png\" alt=\"greenbird_19772955.png\"/>"
     ]
    },
    {
     "cell_type": "code",
     "collapsed": false,
     "input": [
      "!head /Volumes/web/cnidarian/SeaStar_transc_v2.fa"
     ],
     "language": "python",
     "metadata": {},
     "outputs": [
      {
       "output_type": "stream",
       "stream": "stdout",
       "text": [
        ">3291_5903_10007_H94MGADXX_V_CF71_ATCACG_R1_(paired)_trimmed_(paired)_contig_1\r\n",
        "CAAATATATGAACGGTTGATTGTCAACGATTAGTACATGTTTTCATTGTTCCCCACGCCC\r\n",
        "GCCCCCCCCCACTCAAACATTTAAAGTGTGAAATATTATTTATCCACAAATTTCCTTAAA\r\n",
        "CCTGCAAACTTGTCTGCTGTCTCTTATTGGAAGTTATGAAAAAGAACAACGGGTTTTCTT\r\n",
        "TAAAGGGTCTGCGTGCGATTTTCAACCTTTTGAGTAATAGCAGTTATTTTGATAACCGAT\r\n",
        "TTTTTTCAAAGCTCAACAGCTTTTTAAAATAAGGAATCCTATAATGGCCAAACGAATACT\r\n",
        "ATAAAAATAAGGGTTCTCTTAATTGTATAAAACGTATAATTTTATCAATTTTGGGACCGT\r\n",
        "GTAATTTTTTAAAGACCACAAGAATGTTACATACAACAAATAGACGAAACTCGTAGCTTT\r\n",
        "GGAAACTACGTCATGGGCGTTTGGTCAAAAGCTGGAGAGAAAGAGAGGTGGGGTGCCAGA\r\n",
        "CTTAAGTAGTCACGTGATCTGACCAACGCACATCGGAAGCTCGATCGGATGAAATCTTCT\r\n"
       ]
      }
     ],
     "prompt_number": 8
    },
    {
     "cell_type": "code",
     "collapsed": false,
     "input": [
      "!fgrep -c \">\" /Volumes/web/cnidarian/SeaStar_transc_v2.fa"
     ],
     "language": "python",
     "metadata": {},
     "outputs": [
      {
       "output_type": "stream",
       "stream": "stdout",
       "text": [
        "30578\r\n"
       ]
      }
     ],
     "prompt_number": 9
    },
    {
     "cell_type": "code",
     "collapsed": false,
     "input": [],
     "language": "python",
     "metadata": {},
     "outputs": []
    }
   ],
   "metadata": {}
  }
 ]
}