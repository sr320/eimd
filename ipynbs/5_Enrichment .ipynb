{
 "metadata": {
  "name": "",
  "signature": "sha256:dc73bfec02fb46f6f19db6d515b3c726ce6dad0776462b109b632f46571e53ed"
 },
 "nbformat": 3,
 "nbformat_minor": 0,
 "worksheets": [
  {
   "cells": [
    {
     "cell_type": "heading",
     "level": 1,
     "metadata": {},
     "source": [
      "DEGs"
     ]
    },
    {
     "cell_type": "code",
     "collapsed": false,
     "input": [
      "!head /Users/sr320/Dropbox/Steven/eimd/data/deseq2_sig_results.txt"
     ],
     "language": "python",
     "metadata": {},
     "outputs": [
      {
       "output_type": "stream",
       "stream": "stdout",
       "text": [
        "\"baseMean\" \"log2FoldChange\" \"lfcSE\" \"stat\" \"pvalue\" \"padj\"\r\n",
        "\"seastar_clc_contig_10001\" 136.27718425946 1.49886855266789 0.550947966456816 2.72052651778936 0.00651780439581695 0.0350101864080016\r\n",
        "\"seastar_clc_contig_10010\" 8.73784349604224 2.43426494953234 0.717338850139719 3.39346593183711 0.000690141423521562 0.00610587057360923\r\n",
        "\"seastar_clc_contig_10013\" 188.603521302622 -1.94923068685006 0.463271107915175 -4.20753777549832 2.58168256856775e-05 0.00041485396609123\r\n",
        "\"seastar_clc_contig_10045\" 50.485024106335 2.87706412205861 0.695003049883772 4.13964244119468 3.47847563039607e-05 0.000526018158180456\r\n",
        "\"seastar_clc_contig_1005\" 3408.98435663456 -1.66691198866687 0.378947946534594 -4.39878881495589 1.08856689786144e-05 0.000199362344222153\r\n",
        "\"seastar_clc_contig_10050\" 276.941589423215 -1.61560402677235 0.323282993601818 -4.9974915437781 5.80808848482353e-07 1.60431884071189e-05\r\n",
        "\"seastar_clc_contig_1006\" 77.8447124150533 -2.01146173192642 0.468218416201358 -4.29599020953798 1.73915258259802e-05 0.000298432523132762\r\n",
        "\"seastar_clc_contig_10064\" 147.578457909919 1.81093710357749 0.683578354090462 2.64920194260252 0.00806821051110654 0.041310905437205\r\n",
        "\"seastar_clc_contig_10065\" 28.5076393455268 2.27188575134493 0.585911374358637 3.87752457243526 0.00010552467251757 0.00131744894528401\r\n"
       ]
      }
     ],
     "prompt_number": 15
    },
    {
     "cell_type": "code",
     "collapsed": false,
     "input": [
      "!sed 's/\"//g' </Users/sr320/Dropbox/Steven/eimd/data/deseq2_sig_results.txt> /Users/sr320/Dropbox/Steven/eimd/data/deseq2_sig_results_a.txt\n",
      "!head /Users/sr320/Dropbox/Steven/eimd/data/deseq2_sig_results_a.txt"
     ],
     "language": "python",
     "metadata": {},
     "outputs": [
      {
       "output_type": "stream",
       "stream": "stdout",
       "text": [
        "baseMean log2FoldChange lfcSE stat pvalue padj\r\n",
        "seastar_clc_contig_10001 136.27718425946 1.49886855266789 0.550947966456816 2.72052651778936 0.00651780439581695 0.0350101864080016\r\n",
        "seastar_clc_contig_10010 8.73784349604224 2.43426494953234 0.717338850139719 3.39346593183711 0.000690141423521562 0.00610587057360923\r\n",
        "seastar_clc_contig_10013 188.603521302622 -1.94923068685006 0.463271107915175 -4.20753777549832 2.58168256856775e-05 0.00041485396609123\r\n",
        "seastar_clc_contig_10045 50.485024106335 2.87706412205861 0.695003049883772 4.13964244119468 3.47847563039607e-05 0.000526018158180456\r\n",
        "seastar_clc_contig_1005 3408.98435663456 -1.66691198866687 0.378947946534594 -4.39878881495589 1.08856689786144e-05 0.000199362344222153\r\n",
        "seastar_clc_contig_10050 276.941589423215 -1.61560402677235 0.323282993601818 -4.9974915437781 5.80808848482353e-07 1.60431884071189e-05\r\n",
        "seastar_clc_contig_1006 77.8447124150533 -2.01146173192642 0.468218416201358 -4.29599020953798 1.73915258259802e-05 0.000298432523132762\r\n",
        "seastar_clc_contig_10064 147.578457909919 1.81093710357749 0.683578354090462 2.64920194260252 0.00806821051110654 0.041310905437205\r\n",
        "seastar_clc_contig_10065 28.5076393455268 2.27188575134493 0.585911374358637 3.87752457243526 0.00010552467251757 0.00131744894528401\r\n"
       ]
      }
     ],
     "prompt_number": 17
    },
    {
     "cell_type": "code",
     "collapsed": false,
     "input": [
      "!tail -n +2 /Users/sr320/Dropbox/Steven/eimd/data/deseq2_sig_results_a.txt > /Users/sr320/Dropbox/Steven/eimd/data/deseq2_sig_results_b.txt\n",
      "!head /Users/sr320/Dropbox/Steven/eimd/data/deseq2_sig_results_b.txt\n",
      "\n"
     ],
     "language": "python",
     "metadata": {},
     "outputs": [
      {
       "output_type": "stream",
       "stream": "stdout",
       "text": [
        "seastar_clc_contig_10001 136.27718425946 1.49886855266789 0.550947966456816 2.72052651778936 0.00651780439581695 0.0350101864080016\r\n",
        "seastar_clc_contig_10010 8.73784349604224 2.43426494953234 0.717338850139719 3.39346593183711 0.000690141423521562 0.00610587057360923\r\n",
        "seastar_clc_contig_10013 188.603521302622 -1.94923068685006 0.463271107915175 -4.20753777549832 2.58168256856775e-05 0.00041485396609123\r\n",
        "seastar_clc_contig_10045 50.485024106335 2.87706412205861 0.695003049883772 4.13964244119468 3.47847563039607e-05 0.000526018158180456\r\n",
        "seastar_clc_contig_1005 3408.98435663456 -1.66691198866687 0.378947946534594 -4.39878881495589 1.08856689786144e-05 0.000199362344222153\r\n",
        "seastar_clc_contig_10050 276.941589423215 -1.61560402677235 0.323282993601818 -4.9974915437781 5.80808848482353e-07 1.60431884071189e-05\r\n",
        "seastar_clc_contig_1006 77.8447124150533 -2.01146173192642 0.468218416201358 -4.29599020953798 1.73915258259802e-05 0.000298432523132762\r\n",
        "seastar_clc_contig_10064 147.578457909919 1.81093710357749 0.683578354090462 2.64920194260252 0.00806821051110654 0.041310905437205\r\n",
        "seastar_clc_contig_10065 28.5076393455268 2.27188575134493 0.585911374358637 3.87752457243526 0.00010552467251757 0.00131744894528401\r\n",
        "seastar_clc_contig_10074 13.7264378211451 1.57931966078503 0.609122521040588 2.59277831016167 0.0095204116954605 0.0468152722934354\r\n"
       ]
      }
     ],
     "prompt_number": 18
    },
    {
     "cell_type": "code",
     "collapsed": false,
     "input": [
      "!sed 's/seastar/Phel/g' </Users/sr320/Dropbox/Steven/eimd/data/deseq2_sig_results_b.txt> /Users/sr320/Dropbox/Steven/eimd/data/deseq2_sig_results_c.txt\n",
      "!head /Users/sr320/Dropbox/Steven/eimd/data/deseq2_sig_results_c.txt"
     ],
     "language": "python",
     "metadata": {},
     "outputs": [
      {
       "output_type": "stream",
       "stream": "stdout",
       "text": [
        "Phel_clc_contig_10001 136.27718425946 1.49886855266789 0.550947966456816 2.72052651778936 0.00651780439581695 0.0350101864080016\r\n",
        "Phel_clc_contig_10010 8.73784349604224 2.43426494953234 0.717338850139719 3.39346593183711 0.000690141423521562 0.00610587057360923\r\n",
        "Phel_clc_contig_10013 188.603521302622 -1.94923068685006 0.463271107915175 -4.20753777549832 2.58168256856775e-05 0.00041485396609123\r\n",
        "Phel_clc_contig_10045 50.485024106335 2.87706412205861 0.695003049883772 4.13964244119468 3.47847563039607e-05 0.000526018158180456\r\n",
        "Phel_clc_contig_1005 3408.98435663456 -1.66691198866687 0.378947946534594 -4.39878881495589 1.08856689786144e-05 0.000199362344222153\r\n",
        "Phel_clc_contig_10050 276.941589423215 -1.61560402677235 0.323282993601818 -4.9974915437781 5.80808848482353e-07 1.60431884071189e-05\r\n",
        "Phel_clc_contig_1006 77.8447124150533 -2.01146173192642 0.468218416201358 -4.29599020953798 1.73915258259802e-05 0.000298432523132762\r\n",
        "Phel_clc_contig_10064 147.578457909919 1.81093710357749 0.683578354090462 2.64920194260252 0.00806821051110654 0.041310905437205\r\n",
        "Phel_clc_contig_10065 28.5076393455268 2.27188575134493 0.585911374358637 3.87752457243526 0.00010552467251757 0.00131744894528401\r\n",
        "Phel_clc_contig_10074 13.7264378211451 1.57931966078503 0.609122521040588 2.59277831016167 0.0095204116954605 0.0468152722934354\r\n"
       ]
      }
     ],
     "prompt_number": 19
    },
    {
     "cell_type": "markdown",
     "metadata": {},
     "source": [
      "<img src=\"http://eagle.fish.washington.edu/cnidarian/skitch/Run_Query_1992E3DB.png\" alt=\"Run_Query_1992E3DB.png\"/>"
     ]
    },
    {
     "cell_type": "code",
     "collapsed": false,
     "input": [
      "!head /Users/sr320/Dropbox/Steven/eimd/data/Phel_Deseq_SP.csv"
     ],
     "language": "python",
     "metadata": {},
     "outputs": [
      {
       "output_type": "stream",
       "stream": "stdout",
       "text": [
        "Column1,Column2,Column3,Column4,Column5,Column6,Column7,Column1,Column2,Column3,Column4,Column5,Column6,Column7,Column8,Column9,Column10,Column11,Column12,Column13,Column14\r",
        "\r\n",
        "Phel_clc_contig_10001,136.27718425946,1.49886855266789,0.550947966456816,2.72052651778936,0.00651780439581695,0.0350101864080016,,,,,,,,,,,,,,\r",
        "\r\n",
        "Phel_clc_contig_10010,8.73784349604224,2.43426494953234,0.717338850139719,3.39346593183711,0.000690141423521562,0.00610587057360923,,,,,,,,,,,,,,\r",
        "\r\n",
        "Phel_clc_contig_10013,188.603521302622,-1.94923068685006,0.463271107915175,-4.20753777549832,2.58168256856775E-05,0.00041485396609123,,,,,,,,,,,,,,\r",
        "\r\n",
        "Phel_clc_contig_10045,50.485024106335,2.87706412205861,0.695003049883772,4.13964244119468,3.47847563039607E-05,0.000526018158180456,,,,,,,,,,,,,,\r",
        "\r\n",
        "Phel_clc_contig_1005,3408.98435663456,-1.66691198866687,0.378947946534594,-4.39878881495589,1.08856689786144E-05,0.000199362344222153,,,,,,,,,,,,,,\r",
        "\r\n",
        "Phel_clc_contig_10050,276.941589423215,-1.61560402677235,0.323282993601818,-4.9974915437781,5.80808848482353"
       ]
      },
      {
       "output_type": "stream",
       "stream": "stdout",
       "text": [
        "E-07,1.60431884071189E-05,Phel_clc_contig_10050,sp,Q5R7A2,ALG1_PONAB,52.27,440,196,6,2351,1056,26,459,2E-150,457\r",
        "\r\n",
        "Phel_clc_contig_1006,77.8447124150533,-2.01146173192642,0.468218416201358,-4.29599020953798,1.73915258259802E-05,0.000298432523132762,,,,,,,,,,,,,,\r",
        "\r\n",
        "Phel_clc_contig_10064,147.578457909919,1.81093710357749,0.683578354090462,2.64920194260252,0.00806821051110654,0.041310905437205,,,,,,,,,,,,,,\r",
        "\r\n",
        "Phel_clc_contig_10065,28.5076393455268,2.27188575134493,0.585911374358637,3.87752457243526,0.00010552467251757,0.00131744894528401,,,,,,,,,,,,,,\r",
        "\r\n"
       ]
      }
     ],
     "prompt_number": 21
    },
    {
     "cell_type": "code",
     "collapsed": false,
     "input": [
      "!tr ',' \"\\t\" </Users/sr320/Dropbox/Steven/eimd/data/Phel_Deseq_SP.csv> /Users/sr320/Dropbox/Steven/eimd/data/Phel_Deseq_SP.txt"
     ],
     "language": "python",
     "metadata": {},
     "outputs": [],
     "prompt_number": 25
    },
    {
     "cell_type": "code",
     "collapsed": false,
     "input": [
      "!head /Users/sr320/Dropbox/Steven/eimd/data/Phel_Deseq_SP.txt"
     ],
     "language": "python",
     "metadata": {},
     "outputs": [
      {
       "output_type": "stream",
       "stream": "stdout",
       "text": [
        "Column1\tColumn2\tColumn3\tColumn4\tColumn5\tColumn6\tColumn7\tColumn1\tColumn2\tColumn3\tColumn4\tColumn5\tColumn6\tColumn7\tColumn8\tColumn9\tColumn10\tColumn11\tColumn12\tColumn13\tColumn14\r",
        "\r\n",
        "Phel_clc_contig_10001\t136.27718425946\t1.49886855266789\t0.550947966456816\t2.72052651778936\t0.00651780439581695\t0.0350101864080016\t\t\t\t\t\t\t\t\t\t\t\t\t\t\r",
        "\r\n",
        "Phel_clc_contig_10010\t8.73784349604224\t2.43426494953234\t0.717338850139719\t3.39346593183711\t0.000690141423521562\t0.00610587057360923\t\t\t\t\t\t\t\t\t\t\t\t\t\t\r",
        "\r\n",
        "Phel_clc_contig_10013\t188.603521302622\t-1.94923068685006\t0.463271107915175\t-4.20753777549832\t2.58168256856775E-05\t0.00041485396609123\t\t\t\t\t\t\t\t\t\t\t\t\t\t\r",
        "\r\n",
        "Phel_clc_contig_10045\t50.485024106335\t2.87706412205861\t0.695003049883772\t4.13964244119468\t3.47847563039607E-05\t0.000526018158180456\t\t\t\t\t\t\t\t\t\t\t\t\t\t\r",
        "\r\n",
        "Phel_clc_contig_1005\t3408.98435663456\t-1.66691198866687\t0.378947946534594\t-4.39878881495589\t1.08856689786144E-05\t0.000199362344222153\t\t\t\t\t\t\t\t\t\t\t\t\t\t\r",
        "\r\n",
        "Phel_clc_contig_10050\t276.941589423215\t-1.61560402677235\t0.323282993601818\t-4.9974915437781\t5.80808848482353E-07\t1.60431884071189E-05\tPhel_clc_contig_10050\tsp\tQ5R7A2\tALG1_PONAB\t52.27\t440\t196\t6\t2351\t1056\t26\t459\t2E-150\t457\r",
        "\r\n",
        "Phel_clc_contig_1006\t77.8447124150533\t-2.01146173192642\t0.468218416201358\t-4.29599020953798\t1.73915258259802E-05\t0.000298432523132762\t\t\t\t\t\t\t\t\t\t\t\t\t\t\r",
        "\r\n",
        "Phel_clc_contig_10064\t147.578457909919\t1.81093710357749\t0.683578354090462\t2.64920194260252\t0.00806821051110654\t0.041310905437205\t\t\t\t\t\t\t\t\t\t\t\t\t\t\r",
        "\r\n",
        "Phel_clc_contig_10065\t28.5076393455268\t2.27188575134493\t0.585911374358637\t3.87752457243526\t0.00010552467251757\t0.00131744894528401\t\t\t\t\t\t\t\t\t\t\t\t\t\t\r",
        "\r\n"
       ]
      }
     ],
     "prompt_number": 27
    },
    {
     "cell_type": "code",
     "collapsed": false,
     "input": [
      "!awk '{print $10}' /Users/sr320/Dropbox/Steven/eimd/data/Phel_Deseq_SP.txt | pbcopy"
     ],
     "language": "python",
     "metadata": {},
     "outputs": [],
     "prompt_number": 31
    },
    {
     "cell_type": "code",
     "collapsed": false,
     "input": [
      "!head /Users/sr320/Dropbox/Steven/eimd/data/Phel_clc_blastx_uniprot_sprot_sqlready.tab"
     ],
     "language": "python",
     "metadata": {},
     "outputs": [
      {
       "output_type": "stream",
       "stream": "stdout",
       "text": [
        "Phel_clc_contig_4\tsp\tP25001\tCOX1_PISOC\t88.39\t517\t48\t1\t7061\t5547\t1\t517\t0.0\t  749\r\n",
        "Phel_clc_contig_7\tsp\tQ33818\tCYB_ASTPE\t79.94\t329\t66\t0\t993\t7\t51\t379\t9e-168\t  479\r\n",
        "Phel_clc_contig_8\tsp\tP68037\tUB2L3_MOUSE\t76.97\t152\t35\t0\t4862\t4407\t1\t152\t7e-62\t  214\r\n",
        "Phel_clc_contig_9\tsp\tQ0MVN8\tQOR_PIG\t45.61\t239\t129\t1\t796\t80\t90\t327\t5e-63\t  210\r\n",
        "Phel_clc_contig_17\tsp\tQ6DGL8\tRT15_DANRE\t35.00\t180\t107\t3\t1177\t638\t61\t230\t5e-22\t99.8\r\n",
        "Phel_clc_contig_18\tsp\tP96202\tPPSC_MYCTU\t30.81\t714\t438\t15\t5407\t3386\t1414\t2111\t6e-76\t  286\r\n",
        "Phel_clc_contig_20\tsp\tP46058\tEDSP_CYNPY\t31.03\t348\t218\t8\t1731\t703\t4\t334\t5e-38\t  148\r\n",
        "Phel_clc_contig_22\tsp\tQ96LI5\tCNO6L_HUMAN\t60.78\t357\t128\t5\t1887\t832\t186\t535\t2e-149\t  450\r\n",
        "Phel_clc_contig_24\tsp\tP63245\tGBLP_RAT\t80.77\t312\t60\t0\t1032\t97\t1\t312\t0.0\t  540\r\n",
        "Phel_clc_contig_25\tsp\tQ9QYP1\tLRP4_RAT\t32.74\t623\t393\t7\t1816\t5\t393\t1008\t1e-99\t  339\r\n"
       ]
      }
     ],
     "prompt_number": 29
    },
    {
     "cell_type": "code",
     "collapsed": false,
     "input": [
      "!awk '{print $3}' /Users/sr320/Dropbox/Steven/eimd/data/Phel_clc_blastx_uniprot_sprot_sqlready.tab | pbcopy "
     ],
     "language": "python",
     "metadata": {},
     "outputs": [],
     "prompt_number": 32
    },
    {
     "cell_type": "code",
     "collapsed": false,
     "input": [],
     "language": "python",
     "metadata": {},
     "outputs": []
    }
   ],
   "metadata": {}
  }
 ]
}