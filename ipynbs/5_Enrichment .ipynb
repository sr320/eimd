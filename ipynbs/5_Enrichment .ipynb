{
 "metadata": {
  "name": "",
  "signature": "sha256:d470277934e213bec735e32b655181c5a4f965193a57f390ebf4c95513aed0d2"
 },
 "nbformat": 3,
 "nbformat_minor": 0,
 "worksheets": [
  {
   "cells": [
    {
     "cell_type": "heading",
     "level": 1,
     "metadata": {},
     "source": [
      "Enrichment Analysis using DAVID"
     ]
    },
    {
     "cell_type": "heading",
     "level": 2,
     "metadata": {},
     "source": [
      "DEGs"
     ]
    },
    {
     "cell_type": "markdown",
     "metadata": {},
     "source": [
      "First lets take the DEGs from DESeq2 - and transform file to get it read to join with SPIDs"
     ]
    },
    {
     "cell_type": "code",
     "collapsed": false,
     "input": [
      "!head /Users/sr320/Dropbox/Steven/eimd/data/deseq2_sig_results.txt"
     ],
     "language": "python",
     "metadata": {},
     "outputs": [
      {
       "output_type": "stream",
       "stream": "stdout",
       "text": [
        "\"baseMean\" \"log2FoldChange\" \"lfcSE\" \"stat\" \"pvalue\" \"padj\"\r\n",
        "\"seastar_clc_contig_10001\" 136.27718425946 1.49886855266789 0.550947966456816 2.72052651778936 0.00651780439581695 0.0350101864080016\r\n",
        "\"seastar_clc_contig_10010\" 8.73784349604224 2.43426494953234 0.717338850139719 3.39346593183711 0.000690141423521562 0.00610587057360923\r\n",
        "\"seastar_clc_contig_10013\" 188.603521302622 -1.94923068685006 0.463271107915175 -4.20753777549832 2.58168256856775e-05 0.00041485396609123\r\n",
        "\"seastar_clc_contig_10045\" 50.485024106335 2.87706412205861 0.695003049883772 4.13964244119468 3.47847563039607e-05 0.000526018158180456\r\n",
        "\"seastar_clc_contig_1005\" 3408.98435663456 -1.66691198866687 0.378947946534594 -4.39878881495589 1.08856689786144e-05 0.000199362344222153\r\n",
        "\"seastar_clc_contig_10050\" 276.941589423215 -1.61560402677235 0.323282993601818 -4.9974915437781 5.80808848482353e-07 1.60431884071189e-05\r\n",
        "\"seastar_clc_contig_1006\" 77.8447124150533 -2.01146173192642 0.468218416201358 -4.29599020953798 1.73915258259802e-05 0.000298432523132762\r\n",
        "\"seastar_clc_contig_10064\" 147.578457909919 1.81093710357749 0.683578354090462 2.64920194260252 0.00806821051110654 0.041310905437205\r\n",
        "\"seastar_clc_contig_10065\" 28.5076393455268 2.27188575134493 0.585911374358637 3.87752457243526 0.00010552467251757 0.00131744894528401\r\n"
       ]
      }
     ],
     "prompt_number": 15
    },
    {
     "cell_type": "code",
     "collapsed": false,
     "input": [
      "!sed 's/\"//g' </Users/sr320/Dropbox/Steven/eimd/data/deseq2_sig_results.txt> /Users/sr320/Dropbox/Steven/eimd/data/deseq2_sig_results_a.txt\n",
      "!head /Users/sr320/Dropbox/Steven/eimd/data/deseq2_sig_results_a.txt"
     ],
     "language": "python",
     "metadata": {},
     "outputs": [
      {
       "output_type": "stream",
       "stream": "stdout",
       "text": [
        "baseMean log2FoldChange lfcSE stat pvalue padj\r\n",
        "seastar_clc_contig_10001 136.27718425946 1.49886855266789 0.550947966456816 2.72052651778936 0.00651780439581695 0.0350101864080016\r\n",
        "seastar_clc_contig_10010 8.73784349604224 2.43426494953234 0.717338850139719 3.39346593183711 0.000690141423521562 0.00610587057360923\r\n",
        "seastar_clc_contig_10013 188.603521302622 -1.94923068685006 0.463271107915175 -4.20753777549832 2.58168256856775e-05 0.00041485396609123\r\n",
        "seastar_clc_contig_10045 50.485024106335 2.87706412205861 0.695003049883772 4.13964244119468 3.47847563039607e-05 0.000526018158180456\r\n",
        "seastar_clc_contig_1005 3408.98435663456 -1.66691198866687 0.378947946534594 -4.39878881495589 1.08856689786144e-05 0.000199362344222153\r\n",
        "seastar_clc_contig_10050 276.941589423215 -1.61560402677235 0.323282993601818 -4.9974915437781 5.80808848482353e-07 1.60431884071189e-05\r\n",
        "seastar_clc_contig_1006 77.8447124150533 -2.01146173192642 0.468218416201358 -4.29599020953798 1.73915258259802e-05 0.000298432523132762\r\n",
        "seastar_clc_contig_10064 147.578457909919 1.81093710357749 0.683578354090462 2.64920194260252 0.00806821051110654 0.041310905437205\r\n",
        "seastar_clc_contig_10065 28.5076393455268 2.27188575134493 0.585911374358637 3.87752457243526 0.00010552467251757 0.00131744894528401\r\n"
       ]
      }
     ],
     "prompt_number": 17
    },
    {
     "cell_type": "code",
     "collapsed": false,
     "input": [
      "#removing header\n",
      "!tail -n +2 /Users/sr320/Dropbox/Steven/eimd/data/deseq2_sig_results_a.txt > /Users/sr320/Dropbox/Steven/eimd/data/deseq2_sig_results_b.txt\n",
      "!head /Users/sr320/Dropbox/Steven/eimd/data/deseq2_sig_results_b.txt\n"
     ],
     "language": "python",
     "metadata": {},
     "outputs": [
      {
       "output_type": "stream",
       "stream": "stdout",
       "text": [
        "seastar_clc_contig_10001 136.27718425946 1.49886855266789 0.550947966456816 2.72052651778936 0.00651780439581695 0.0350101864080016\r\n",
        "seastar_clc_contig_10010 8.73784349604224 2.43426494953234 0.717338850139719 3.39346593183711 0.000690141423521562 0.00610587057360923\r\n",
        "seastar_clc_contig_10013 188.603521302622 -1.94923068685006 0.463271107915175 -4.20753777549832 2.58168256856775e-05 0.00041485396609123\r\n",
        "seastar_clc_contig_10045 50.485024106335 2.87706412205861 0.695003049883772 4.13964244119468 3.47847563039607e-05 0.000526018158180456\r\n",
        "seastar_clc_contig_1005 3408.98435663456 -1.66691198866687 0.378947946534594 -4.39878881495589 1.08856689786144e-05 0.000199362344222153\r\n",
        "seastar_clc_contig_10050 276.941589423215 -1.61560402677235 0.323282993601818 -4.9974915437781 5.80808848482353e-07 1.60431884071189e-05\r\n",
        "seastar_clc_contig_1006 77.8447124150533 -2.01146173192642 0.468218416201358 -4.29599020953798 1.73915258259802e-05 0.000298432523132762\r\n",
        "seastar_clc_contig_10064 147.578457909919 1.81093710357749 0.683578354090462 2.64920194260252 0.00806821051110654 0.041310905437205\r\n",
        "seastar_clc_contig_10065 28.5076393455268 2.27188575134493 0.585911374358637 3.87752457243526 0.00010552467251757 0.00131744894528401\r\n",
        "seastar_clc_contig_10074 13.7264378211451 1.57931966078503 0.609122521040588 2.59277831016167 0.0095204116954605 0.0468152722934354\r\n"
       ]
      }
     ],
     "prompt_number": 18
    },
    {
     "cell_type": "code",
     "collapsed": false,
     "input": [
      "!sed 's/seastar/Phel/g' </Users/sr320/Dropbox/Steven/eimd/data/deseq2_sig_results_b.txt> /Users/sr320/Dropbox/Steven/eimd/data/deseq2_sig_results_c.txt\n",
      "!head /Users/sr320/Dropbox/Steven/eimd/data/deseq2_sig_results_c.txt"
     ],
     "language": "python",
     "metadata": {},
     "outputs": [
      {
       "output_type": "stream",
       "stream": "stdout",
       "text": [
        "Phel_clc_contig_10001 136.27718425946 1.49886855266789 0.550947966456816 2.72052651778936 0.00651780439581695 0.0350101864080016\r\n",
        "Phel_clc_contig_10010 8.73784349604224 2.43426494953234 0.717338850139719 3.39346593183711 0.000690141423521562 0.00610587057360923\r\n",
        "Phel_clc_contig_10013 188.603521302622 -1.94923068685006 0.463271107915175 -4.20753777549832 2.58168256856775e-05 0.00041485396609123\r\n",
        "Phel_clc_contig_10045 50.485024106335 2.87706412205861 0.695003049883772 4.13964244119468 3.47847563039607e-05 0.000526018158180456\r\n",
        "Phel_clc_contig_1005 3408.98435663456 -1.66691198866687 0.378947946534594 -4.39878881495589 1.08856689786144e-05 0.000199362344222153\r\n",
        "Phel_clc_contig_10050 276.941589423215 -1.61560402677235 0.323282993601818 -4.9974915437781 5.80808848482353e-07 1.60431884071189e-05\r\n",
        "Phel_clc_contig_1006 77.8447124150533 -2.01146173192642 0.468218416201358 -4.29599020953798 1.73915258259802e-05 0.000298432523132762\r\n",
        "Phel_clc_contig_10064 147.578457909919 1.81093710357749 0.683578354090462 2.64920194260252 0.00806821051110654 0.041310905437205\r\n",
        "Phel_clc_contig_10065 28.5076393455268 2.27188575134493 0.585911374358637 3.87752457243526 0.00010552467251757 0.00131744894528401\r\n",
        "Phel_clc_contig_10074 13.7264378211451 1.57931966078503 0.609122521040588 2.59277831016167 0.0095204116954605 0.0468152722934354\r\n"
       ]
      }
     ],
     "prompt_number": 19
    },
    {
     "cell_type": "markdown",
     "metadata": {},
     "source": [
      "<img src=\"http://eagle.fish.washington.edu/cnidarian/skitch/Run_Query_1992E3DB.png\" alt=\"Run_Query_1992E3DB.png\"/>"
     ]
    },
    {
     "cell_type": "code",
     "collapsed": false,
     "input": [
      "#file downloaded from SQLshare join\n",
      "!head /Users/sr320/Dropbox/Steven/eimd/data/Phel_Deseq_SP.csv"
     ],
     "language": "python",
     "metadata": {},
     "outputs": [
      {
       "output_type": "stream",
       "stream": "stdout",
       "text": [
        "Column1,Column2,Column3,Column4,Column5,Column6,Column7,Column1,Column2,Column3,Column4,Column5,Column6,Column7,Column8,Column9,Column10,Column11,Column12,Column13,Column14\r",
        "\r\n",
        "Phel_clc_contig_10001,136.27718425946,1.49886855266789,0.550947966456816,2.72052651778936,0.00651780439581695,0.0350101864080016,,,,,,,,,,,,,,\r",
        "\r\n",
        "Phel_clc_contig_10010,8.73784349604224,2.43426494953234,0.717338850139719,3.39346593183711,0.000690141423521562,0.00610587057360923,,,,,,,,,,,,,,\r",
        "\r\n",
        "Phel_clc_contig_10013,188.603521302622,-1.94923068685006,0.463271107915175,-4.20753777549832,2.58168256856775E-05,0.00041485396609123,,,,,,,,,,,,,,\r",
        "\r\n",
        "Phel_clc_contig_10045,50.485024106335,2.87706412205861,0.695003049883772,4.13964244119468,3.47847563039607E-05,0.000526018158180456,,,,,,,,,,,,,,\r",
        "\r\n",
        "Phel_clc_contig_1005,3408.98435663456,-1.66691198866687,0.378947946534594,-4.39878881495589,1.08856689786144E-05,0.000199362344222153,,,,,,,,,,,,,,\r",
        "\r\n",
        "Phel_clc_contig_10050,276.941589423215,-1.61560402677235,0.323282993601818,-4.9974915437781,5.80808848482353"
       ]
      },
      {
       "output_type": "stream",
       "stream": "stdout",
       "text": [
        "E-07,1.60431884071189E-05,Phel_clc_contig_10050,sp,Q5R7A2,ALG1_PONAB,52.27,440,196,6,2351,1056,26,459,2E-150,457\r",
        "\r\n",
        "Phel_clc_contig_1006,77.8447124150533,-2.01146173192642,0.468218416201358,-4.29599020953798,1.73915258259802E-05,0.000298432523132762,,,,,,,,,,,,,,\r",
        "\r\n",
        "Phel_clc_contig_10064,147.578457909919,1.81093710357749,0.683578354090462,2.64920194260252,0.00806821051110654,0.041310905437205,,,,,,,,,,,,,,\r",
        "\r\n",
        "Phel_clc_contig_10065,28.5076393455268,2.27188575134493,0.585911374358637,3.87752457243526,0.00010552467251757,0.00131744894528401,,,,,,,,,,,,,,\r",
        "\r\n"
       ]
      }
     ],
     "prompt_number": 21
    },
    {
     "cell_type": "code",
     "collapsed": false,
     "input": [
      "!tr ',' \"\\t\" </Users/sr320/Dropbox/Steven/eimd/data/Phel_Deseq_SP.csv> /Users/sr320/Dropbox/Steven/eimd/data/Phel_Deseq_SP.txt"
     ],
     "language": "python",
     "metadata": {},
     "outputs": [],
     "prompt_number": 25
    },
    {
     "cell_type": "code",
     "collapsed": false,
     "input": [
      "!head /Users/sr320/Dropbox/Steven/eimd/data/Phel_Deseq_SP.txt"
     ],
     "language": "python",
     "metadata": {},
     "outputs": [
      {
       "output_type": "stream",
       "stream": "stdout",
       "text": [
        "Column1\tColumn2\tColumn3\tColumn4\tColumn5\tColumn6\tColumn7\tColumn1\tColumn2\tColumn3\tColumn4\tColumn5\tColumn6\tColumn7\tColumn8\tColumn9\tColumn10\tColumn11\tColumn12\tColumn13\tColumn14\r",
        "\r\n",
        "Phel_clc_contig_10001\t136.27718425946\t1.49886855266789\t0.550947966456816\t2.72052651778936\t0.00651780439581695\t0.0350101864080016\t\t\t\t\t\t\t\t\t\t\t\t\t\t\r",
        "\r\n",
        "Phel_clc_contig_10010\t8.73784349604224\t2.43426494953234\t0.717338850139719\t3.39346593183711\t0.000690141423521562\t0.00610587057360923\t\t\t\t\t\t\t\t\t\t\t\t\t\t\r",
        "\r\n",
        "Phel_clc_contig_10013\t188.603521302622\t-1.94923068685006\t0.463271107915175\t-4.20753777549832\t2.58168256856775E-05\t0.00041485396609123\t\t\t\t\t\t\t\t\t\t\t\t\t\t\r",
        "\r\n",
        "Phel_clc_contig_10045\t50.485024106335\t2.87706412205861\t0.695003049883772\t4.13964244119468\t3.47847563039607E-05\t0.000526018158180456\t\t\t\t\t\t\t\t\t\t\t\t\t\t\r",
        "\r\n",
        "Phel_clc_contig_1005\t3408.98435663456\t-1.66691198866687\t0.378947946534594\t-4.39878881495589\t1.08856689786144E-05\t0.000199362344222153\t\t\t\t\t\t\t\t\t\t\t\t\t\t\r",
        "\r\n",
        "Phel_clc_contig_10050\t276.941589423215\t-1.61560402677235\t0.323282993601818\t-4.9974915437781\t5.80808848482353E-07\t1.60431884071189E-05\tPhel_clc_contig_10050\tsp\tQ5R7A2\tALG1_PONAB\t52.27\t440\t196\t6\t2351\t1056\t26\t459\t2E-150\t457\r",
        "\r\n",
        "Phel_clc_contig_1006\t77.8447124150533\t-2.01146173192642\t0.468218416201358\t-4.29599020953798\t1.73915258259802E-05\t0.000298432523132762\t\t\t\t\t\t\t\t\t\t\t\t\t\t\r",
        "\r\n",
        "Phel_clc_contig_10064\t147.578457909919\t1.81093710357749\t0.683578354090462\t2.64920194260252\t0.00806821051110654\t0.041310905437205\t\t\t\t\t\t\t\t\t\t\t\t\t\t\r",
        "\r\n",
        "Phel_clc_contig_10065\t28.5076393455268\t2.27188575134493\t0.585911374358637\t3.87752457243526\t0.00010552467251757\t0.00131744894528401\t\t\t\t\t\t\t\t\t\t\t\t\t\t\r",
        "\r\n"
       ]
      }
     ],
     "prompt_number": 27
    },
    {
     "cell_type": "code",
     "collapsed": false,
     "input": [
      "!awk '{print $10}' /Users/sr320/Dropbox/Steven/eimd/data/Phel_Deseq_SP.txt | pbcopy"
     ],
     "language": "python",
     "metadata": {},
     "outputs": [],
     "prompt_number": 46
    },
    {
     "cell_type": "code",
     "collapsed": false,
     "input": [
      "!head /Users/sr320/Dropbox/Steven/eimd/data/Phel_clc_blastx_uniprot_sprot_sqlready.tab"
     ],
     "language": "python",
     "metadata": {},
     "outputs": [
      {
       "output_type": "stream",
       "stream": "stdout",
       "text": [
        "Phel_clc_contig_4\tsp\tP25001\tCOX1_PISOC\t88.39\t517\t48\t1\t7061\t5547\t1\t517\t0.0\t  749\r\n",
        "Phel_clc_contig_7\tsp\tQ33818\tCYB_ASTPE\t79.94\t329\t66\t0\t993\t7\t51\t379\t9e-168\t  479\r\n",
        "Phel_clc_contig_8\tsp\tP68037\tUB2L3_MOUSE\t76.97\t152\t35\t0\t4862\t4407\t1\t152\t7e-62\t  214\r\n",
        "Phel_clc_contig_9\tsp\tQ0MVN8\tQOR_PIG\t45.61\t239\t129\t1\t796\t80\t90\t327\t5e-63\t  210\r\n",
        "Phel_clc_contig_17\tsp\tQ6DGL8\tRT15_DANRE\t35.00\t180\t107\t3\t1177\t638\t61\t230\t5e-22\t99.8\r\n",
        "Phel_clc_contig_18\tsp\tP96202\tPPSC_MYCTU\t30.81\t714\t438\t15\t5407\t3386\t1414\t2111\t6e-76\t  286\r\n",
        "Phel_clc_contig_20\tsp\tP46058\tEDSP_CYNPY\t31.03\t348\t218\t8\t1731\t703\t4\t334\t5e-38\t  148\r\n",
        "Phel_clc_contig_22\tsp\tQ96LI5\tCNO6L_HUMAN\t60.78\t357\t128\t5\t1887\t832\t186\t535\t2e-149\t  450\r\n",
        "Phel_clc_contig_24\tsp\tP63245\tGBLP_RAT\t80.77\t312\t60\t0\t1032\t97\t1\t312\t0.0\t  540\r\n",
        "Phel_clc_contig_25\tsp\tQ9QYP1\tLRP4_RAT\t32.74\t623\t393\t7\t1816\t5\t393\t1008\t1e-99\t  339\r\n"
       ]
      }
     ],
     "prompt_number": 29
    },
    {
     "cell_type": "code",
     "collapsed": false,
     "input": [
      "!awk '{print $3}' /Users/sr320/Dropbox/Steven/eimd/data/Phel_clc_blastx_uniprot_sprot_sqlready.tab | pbcopy "
     ],
     "language": "python",
     "metadata": {},
     "outputs": [],
     "prompt_number": 32
    },
    {
     "cell_type": "markdown",
     "metadata": {},
     "source": [
      "Add gene list and background to DAVID"
     ]
    },
    {
     "cell_type": "markdown",
     "metadata": {},
     "source": [
      "<img src=\"http://eagle.fish.washington.edu/cnidarian/skitch/DAVID__Functional_Annotation_Tools_1992E7DC.png\" alt=\"DAVID__Functional_Annotation_Tools_1992E7DC.png\"/>"
     ]
    },
    {
     "cell_type": "markdown",
     "metadata": {},
     "source": [
      "<img src=\"http://eagle.fish.washington.edu/cnidarian/skitch/DAVID__Functional_Annotation_Result_Summary_1992E939.png\" alt=\"DAVID__Functional_Annotation_Result_Summary_1992E939.png\"/>"
     ]
    },
    {
     "cell_type": "markdown",
     "metadata": {},
     "source": [
      "<img src=\"http://eagle.fish.washington.edu/cnidarian/skitch/DAVID__Database_for_Annotation__Visualization__and_Integrated_Discovery__Laboratory_of_Immunopathogenesis_and_Bioinformatics__LIB___National_Institute_of_Allergies_and_Infectious_Diseases__NIAID___Science_Applications_International_Corporat_1992E9AE.png\" alt=\"DAVID__Database_for_Annotation__Visualization__and_Integrated_Discovery__Laboratory_of_Immunopathogenesis_and_Bioinformatics__LIB___National_Institute_of_Allergies_and_Infectious_Diseases__NIAID___Science_Applications_International_Corporat_1992E9AE.png\"/>"
     ]
    },
    {
     "cell_type": "code",
     "collapsed": false,
     "input": [
      "pwd"
     ],
     "language": "python",
     "metadata": {},
     "outputs": [
      {
       "metadata": {},
       "output_type": "pyout",
       "prompt_number": 33,
       "text": [
        "u'/Users/sr320/Dropbox/Steven/eimd/ipynbs'"
       ]
      }
     ],
     "prompt_number": 33
    },
    {
     "cell_type": "code",
     "collapsed": false,
     "input": [
      "cd ..\n"
     ],
     "language": "python",
     "metadata": {},
     "outputs": [
      {
       "output_type": "stream",
       "stream": "stdout",
       "text": [
        "/Users/sr320/Dropbox/Steven/eimd\n"
       ]
      }
     ],
     "prompt_number": 34
    },
    {
     "cell_type": "code",
     "collapsed": false,
     "input": [
      "cd data\n"
     ],
     "language": "python",
     "metadata": {},
     "outputs": [
      {
       "output_type": "stream",
       "stream": "stdout",
       "text": [
        "/Users/sr320/Dropbox/Steven/eimd/data\n"
       ]
      }
     ],
     "prompt_number": 35
    },
    {
     "cell_type": "code",
     "collapsed": false,
     "input": [
      "!curl -O http://david.abcc.ncifcrf.gov/data/download/chart_EA61531C2B4A1407365629460.txt"
     ],
     "language": "python",
     "metadata": {},
     "outputs": [
      {
       "output_type": "stream",
       "stream": "stdout",
       "text": [
        "  % Total    % Received % Xferd  Average Speed   Time    Time     Time  Current\r\n",
        "                                 Dload  Upload   Total   Spent    Left  Speed\r\n",
        "\r",
        "  0     0    0     0    0     0      0      0 --:--:-- --:--:-- --:--:--     0"
       ]
      },
      {
       "output_type": "stream",
       "stream": "stdout",
       "text": [
        "\r",
        "  6 75765    6  5172    0     0  16501      0  0:00:04 --:--:--  0:00:04 22389"
       ]
      },
      {
       "output_type": "stream",
       "stream": "stdout",
       "text": [
        "\r",
        "100 75765  100 75765    0     0   119k      0 --:--:-- --:--:-- --:--:--  137k\r\n"
       ]
      }
     ],
     "prompt_number": 36
    },
    {
     "cell_type": "code",
     "collapsed": false,
     "input": [
      "!head chart_EA61531C2B4A1407365629460.txt"
     ],
     "language": "python",
     "metadata": {},
     "outputs": [
      {
       "output_type": "stream",
       "stream": "stdout",
       "text": [
        "Category\tTerm\tCount\t%\tPValue\tGenes\tList Total\tPop Hits\tPop Total\tFold Enrichment\tBonferroni\tBenjamini\tFDR\r\n",
        "GOTERM_BP_FAT\tGO:0002253~activation of immune response\t12\t1.3157894736842104\t2.217491937683056E-7\tQ3SYW2, Q9WUN2, P10809, P51617, Q15485, Q00685, O70497, Q689D1, Q29041, P01024, Q9UDY8, Q4JIM4\t700\t16\t5680\t6.085714285714285\t5.83473655758171E-4\t5.83473655758171E-4\t3.9347673449485754E-4\r\n",
        "GOTERM_BP_FAT\tGO:0045087~innate immune response\t15\t1.644736842105263\t8.977598174254794E-6\tQ9UGM3, Q9UHD2, Q15485, Q00685, O70497, Q29041, Q689D1, Q9UDY8, Q3SYW2, Q9WUN2, O75594, O95786, P08953, P01024, P58682\t700\t32\t5680\t3.8035714285714284\t0.02335216213493574\t0.011745054216744988\t0.015928883512450476\r\n",
        "GOTERM_BP_FAT\tGO:0006952~defense response\t26\t2.850877192982456\t1.1530485350502172E-5\tQ9UGM3, P26262, Q9UHD2, P54319, P09917, Q2HJ57, Q00685, O43196, Q8IWY4, Q29041, Q9UDY8, Q3SYW2, O75594, P09960, Q9H0E2, P01024, P42768, Q15485, O70497, Q689D1, Q9Z2F6, Q6P4R8, Q9WUN2, O95786, P08953, P58682\t700\t83\t5680\t2.5418244406196213\t0.029892522822571266\t0.010065141456729099\t0.020458014382318535\r\n",
        "GOTERM_BP_FAT\tGO:0050778~positive regulation of immune response\t13\t1.425438596491228\t1.2422483647288984E-5\tQ15485, O70497, Q00685, Q29041, Q689D1, Q9UDY8, Q3SYW2, P10809, Q9WUN2, P51617, P01024, P58682, Q4JIM4\t700\t25\t5680\t4.219428571428572\t0.032167438228759115\t0.008140728344190884\t0.022040481693264002\r\n",
        "GOTERM_BP_FAT\tGO:0031396~regulation of protein ubiquitination\t12\t1.3157894736842104\t1.7725334295725325E-5\tQ8WU17, O43242, P49615, P25788, P28072, P60901, Q6PEC4, P55036, Q5U2S1, Q9BZE4, O75832, O00232\t700\t22\t5680\t4.425974025974027\t0.04558194749011102\t0.009287302775757178\t0.03144762139538626\r\n",
        "GOTERM_BP_FAT\tGO:0006955~immune response\t25\t2.7412280701754383\t3.652527038790537E-5\tQ9UGM3, Q9UHD2, Q00685, Q29041, P40792, Q9UDY8, Q9UH65, Q3SYW2, O75594, Q9H0E2, P01024, Q9BUD6, P42768, Q15485, O70497, Q689D1, Q9Z2F6, P09215, Q9WUN2, P10809, O95786, P08953, Q2I6J1, P58682, Q4JIM4\t700\t83\t5680\t2.4440619621342514\t0.0916597695022422\t0.01589503043170848\t0.06479156276466558\r\n",
        "GOTERM_BP_FAT\tGO:0051248~negative regulation of protein metabolic process\t16\t1.7543859649122806\t3.9906884383559516E-5\tP25788, O43242, P60901, P70541, P21333, Q9BZE4, P09215, P49615, P28072, P27169, P55036, Q4JIM4, O75832, P48809, Q29611, O00232\t700\t40\t5680\t3.2457142857142856\t0.0997088028147719\t0.01489326959340398\t0.07078814698031621\r\n",
        "GOTERM_BP_FAT\tGO:0002684~positive regulation of immune system process\t15\t1.644736842105263\t6.431474055384353E-5\tQ15485, Q00685, O70497, Q29041, Q689D1, Q9UDY8, Q29RN6, Q3SYW2, P10809, Q9WUN2, P51617, A7MB54, P01024, P58682, Q4JIM4\t700\t37\t5680\t3.2895752895752897\t0.15572908018684184\t0.02093792322045096\t0.11406029928391348\r\n",
        "GOTERM_BP_FAT\tGO:0031400~negative regulation of protein modification process\t11\t1.2061403508771928\t7.372317770702441E-5\tP09215, O43242, P49615, P25788, P28072, P60901, P55036, Q9BZE4, Q4JIM4, O75832, O00232\t700\t21\t5680\t4.250340136054422\t0.1763804416139726\t0.021329957518478992\t0.13073558887951586\r\n"
       ]
      }
     ],
     "prompt_number": 70
    },
    {
     "cell_type": "code",
     "collapsed": false,
     "input": [
      "!wc -l chart_EA61531C2B4A1407365629460.txt"
     ],
     "language": "python",
     "metadata": {},
     "outputs": [
      {
       "output_type": "stream",
       "stream": "stdout",
       "text": [
        "     261 chart_EA61531C2B4A1407365629460.txt\r\n"
       ]
      }
     ],
     "prompt_number": 132
    },
    {
     "cell_type": "heading",
     "level": 2,
     "metadata": {},
     "source": [
      "Next step get GO # `(GO:0051248)` and Bonferroni in two columns for Revigo"
     ]
    },
    {
     "cell_type": "code",
     "collapsed": false,
     "input": [],
     "language": "python",
     "metadata": {},
     "outputs": []
    },
    {
     "cell_type": "code",
     "collapsed": false,
     "input": [],
     "language": "python",
     "metadata": {},
     "outputs": []
    },
    {
     "cell_type": "code",
     "collapsed": false,
     "input": [],
     "language": "python",
     "metadata": {},
     "outputs": []
    },
    {
     "cell_type": "code",
     "collapsed": false,
     "input": [
      "!awk '{print $4}' chart_EA61531C2B4A1407365629460.txt"
     ],
     "language": "python",
     "metadata": {},
     "outputs": [
      {
       "output_type": "stream",
       "stream": "stdout",
       "text": [
        "%\r\n",
        "immune\r\n",
        "response\r\n",
        "26\r\n",
        "of\r\n",
        "protein\r\n",
        "25\r\n",
        "of\r\n",
        "of\r\n",
        "of\r\n",
        "of\r\n",
        "of\r\n",
        "15\r\n",
        "of\r\n",
        "cascade\r\n",
        "of\r\n",
        "response\r\n",
        "of\r\n",
        "ubiquitin-protein\r\n",
        "of\r\n",
        "cytokine\r\n",
        "34\r\n",
        "34\r\n",
        "of\r\n",
        "cycle\r\n",
        "6\r\n",
        "plasma\r\n",
        "cellular\r\n",
        "protein\r\n",
        "catabolic\r\n",
        "of\r\n",
        "of\r\n",
        "of\r\n",
        "proteasomal\r\n",
        "2.1929824561403506\r\n",
        "cocaine\r\n",
        "tropane\r\n",
        "of\r\n",
        "ubiquitin-protein\r\n",
        "of\r\n",
        "acid\r\n",
        "of\r\n",
        "wounding\r\n",
        "10\r\n",
        "of\r\n",
        "of\r\n",
        "of\r\n",
        "receptor\r\n",
        "adaptive\r\n",
        "adaptive\r\n",
        "9\r\n",
        "development\r\n",
        "ligase\r\n",
        "protein\r\n",
        "immune\r\n",
        "mediated\r\n",
        "catabolic\r\n",
        "process\r\n",
        "process\r\n",
        "of\r\n",
        "by\r\n",
        "alkaloid\r\n",
        "cytokine\r\n",
        "of\r\n",
        "9\r\n",
        "organization\r\n",
        "nutrient\r\n",
        "of\r\n",
        "of\r\n",
        "of\r\n",
        "organic\r\n",
        "protein\r\n",
        "in\r\n",
        "process\r\n",
        "process\r\n",
        "to\r\n",
        "to\r\n",
        "innate\r\n",
        "catabolic\r\n",
        "21\r\n",
        "19\r\n",
        "9.100877192982457\r\n",
        "bacterium\r\n",
        "neuron\r\n",
        "process\r\n",
        "of\r\n",
        "1.3157894736842104\r\n",
        "response\r\n",
        "response\r\n",
        "catabolic\r\n",
        "signal\r\n",
        "signal\r\n",
        "of\r\n",
        "immunity\r\n",
        "mediated\r\n",
        "cascade\r\n",
        "process\r\n",
        "cell\r\n",
        "response\r\n",
        "carbohydrate\r\n",
        "neurogenesis\r\n",
        "morphogenesis\r\n",
        "receptor\r\n",
        "transport\r\n",
        "involved\r\n",
        "transport\r\n",
        "differentiation\r\n",
        "organic\r\n",
        "ending\r\n",
        "organization\r\n",
        "21\r\n",
        "catabolic\r\n",
        "catabolic\r\n",
        "20\r\n",
        "13\r\n",
        "of\r\n",
        "innate\r\n",
        "14\r\n",
        "morphogenesis\r\n",
        "endogenous\r\n",
        "development\r\n",
        "kinase\r\n",
        "acid\r\n",
        "biosynthetic\r\n",
        "catabolic\r\n",
        "apoptosis\r\n",
        "process\r\n",
        "process\r\n",
        "process\r\n",
        "transport\r\n",
        "programmed\r\n",
        "of\r\n",
        "protein\r\n",
        "fungus\r\n",
        "glucose\r\n",
        "glucose\r\n",
        "4\r\n",
        "of\r\n",
        "involved\r\n",
        "cell\r\n",
        "starvation\r\n",
        "immunity\r\n",
        "7\r\n",
        "to\r\n",
        "phosphorylation\r\n",
        "16\r\n",
        "1.7543859649122806\r\n",
        "MAP\r\n",
        "of\r\n",
        "of\r\n",
        "morphogenesis\r\n",
        "22\r\n",
        "establishment\r\n",
        "of\r\n",
        "phosphorus\r\n",
        "phosphate\r\n",
        "lymphoid\r\n",
        "transferase\r\n",
        "morphogenesis\r\n",
        "of\r\n",
        "development\r\n",
        "process\r\n",
        "10\r\n",
        "16\r\n",
        "1.7543859649122806\r\n",
        "of\r\n",
        "response\r\n",
        "to\r\n",
        "of\r\n",
        "25\r\n",
        "insulin\r\n",
        "0.8771929824561403\r\n",
        "34\r\n",
        "1.425438596491228\r\n",
        "of\r\n",
        "of\r\n",
        "interleukin-12\r\n",
        "receptor\r\n",
        "signaling\r\n",
        "classical\r\n",
        "to\r\n",
        "response-activating\r\n",
        "interferon-alpha\r\n",
        "receptor\r\n",
        "40\r\n",
        "of\r\n",
        "protein\r\n",
        "9\r\n",
        "19\r\n",
        "locomotion\r\n",
        "organ\r\n",
        "of\r\n",
        "of\r\n",
        "16\r\n",
        "immune\r\n",
        "nutrient\r\n",
        "peptide\r\n",
        "metabolic\r\n",
        "5\r\n",
        "organic\r\n",
        "macromolecule\r\n",
        "nervous\r\n",
        "embryonic\r\n",
        "12\r\n",
        "1.7543859649122806\r\n",
        "process\r\n",
        "differentiation\r\n",
        "transport\r\n",
        "phase\r\n",
        "0.6578947368421052\r\n",
        "6\r\n",
        "of\r\n",
        "death\r\n",
        "2.850877192982456\r\n",
        "lymphocyte\r\n",
        "of\r\n",
        "of\r\n",
        "of\r\n",
        "of\r\n",
        "process\r\n",
        "7\r\n",
        "11\r\n",
        "transport\r\n",
        "to\r\n",
        "T\r\n",
        "process\r\n",
        "lead\r\n",
        "proteolysis\r\n",
        "lectin\r\n",
        "transporter\r\n",
        "differentiation\r\n",
        "T-helper\r\n",
        "interferon-gamma\r\n",
        "of\r\n",
        "of\r\n",
        "15\r\n",
        "cell\r\n",
        "cell\r\n",
        "inorganic\r\n",
        "11\r\n",
        "29\r\n",
        "to\r\n",
        "5\r\n",
        "3.179824561403509\r\n",
        "hormone\r\n",
        "4\r\n",
        "protein\r\n",
        "via\r\n",
        "molecule\r\n",
        "process\r\n",
        "ethanol\r\n",
        "type\r\n",
        "4\r\n",
        "glucose\r\n",
        "retinoic\r\n",
        "lymphocyte\r\n",
        "0.6578947368421052\r\n",
        "neurotransmitter\r\n",
        "7\r\n",
        "development\r\n",
        "12\r\n"
       ]
      }
     ],
     "prompt_number": 133
    },
    {
     "cell_type": "code",
     "collapsed": false,
     "input": [
      "import pandas as pd"
     ],
     "language": "python",
     "metadata": {},
     "outputs": [],
     "prompt_number": 84
    },
    {
     "cell_type": "code",
     "collapsed": false,
     "input": [
      "pls = pd.read_table('chart_EA61531C2B4A1407365629460.txt', delimiter='\\t')\n"
     ],
     "language": "python",
     "metadata": {},
     "outputs": [],
     "prompt_number": 135
    },
    {
     "cell_type": "code",
     "collapsed": false,
     "input": [
      "pls"
     ],
     "language": "python",
     "metadata": {},
     "outputs": [
      {
       "html": [
        "<pre>\n",
        "&ltclass 'pandas.core.frame.DataFrame'&gt\n",
        "Int64Index: 260 entries, 0 to 259\n",
        "Data columns (total 13 columns):\n",
        "Category           260  non-null values\n",
        "Term               260  non-null values\n",
        "Count              260  non-null values\n",
        "%                  260  non-null values\n",
        "PValue             260  non-null values\n",
        "Genes              260  non-null values\n",
        "List Total         260  non-null values\n",
        "Pop Hits           260  non-null values\n",
        "Pop Total          260  non-null values\n",
        "Fold Enrichment    260  non-null values\n",
        "Bonferroni         260  non-null values\n",
        "Benjamini          260  non-null values\n",
        "FDR                260  non-null values\n",
        "dtypes: float64(6), int64(4), object(3)\n",
        "</pre>"
       ],
       "metadata": {},
       "output_type": "pyout",
       "prompt_number": 137,
       "text": [
        "<class 'pandas.core.frame.DataFrame'>\n",
        "Int64Index: 260 entries, 0 to 259\n",
        "Data columns (total 13 columns):\n",
        "Category           260  non-null values\n",
        "Term               260  non-null values\n",
        "Count              260  non-null values\n",
        "%                  260  non-null values\n",
        "PValue             260  non-null values\n",
        "Genes              260  non-null values\n",
        "List Total         260  non-null values\n",
        "Pop Hits           260  non-null values\n",
        "Pop Total          260  non-null values\n",
        "Fold Enrichment    260  non-null values\n",
        "Bonferroni         260  non-null values\n",
        "Benjamini          260  non-null values\n",
        "FDR                260  non-null values\n",
        "dtypes: float64(6), int64(4), object(3)"
       ]
      }
     ],
     "prompt_number": 137
    },
    {
     "cell_type": "code",
     "collapsed": false,
     "input": [],
     "language": "python",
     "metadata": {},
     "outputs": []
    },
    {
     "cell_type": "code",
     "collapsed": false,
     "input": [
      "import numpy as ny"
     ],
     "language": "python",
     "metadata": {},
     "outputs": [],
     "prompt_number": 145
    },
    {
     "cell_type": "code",
     "collapsed": false,
     "input": [
      "pls[['Term', 'Bonferroni']]"
     ],
     "language": "python",
     "metadata": {},
     "outputs": [
      {
       "html": [
        "<pre>\n",
        "&ltclass 'pandas.core.frame.DataFrame'&gt\n",
        "Int64Index: 260 entries, 0 to 259\n",
        "Data columns (total 2 columns):\n",
        "Term          260  non-null values\n",
        "Bonferroni    260  non-null values\n",
        "dtypes: float64(1), object(1)\n",
        "</pre>"
       ],
       "metadata": {},
       "output_type": "pyout",
       "prompt_number": 146,
       "text": [
        "<class 'pandas.core.frame.DataFrame'>\n",
        "Int64Index: 260 entries, 0 to 259\n",
        "Data columns (total 2 columns):\n",
        "Term          260  non-null values\n",
        "Bonferroni    260  non-null values\n",
        "dtypes: float64(1), object(1)"
       ]
      }
     ],
     "prompt_number": 146
    },
    {
     "cell_type": "code",
     "collapsed": false,
     "input": [
      "print pls.values\n"
     ],
     "language": "python",
     "metadata": {},
     "outputs": [
      {
       "output_type": "stream",
       "stream": "stdout",
       "text": [
        "[['GOTERM_BP_FAT' 'GO:0002253~activation of immune response' 12 ...,\n",
        "  0.000583473655758171 0.000583473655758171 0.0003934767344948576]\n",
        " ['GOTERM_BP_FAT' 'GO:0045087~innate immune response' 15 ...,\n",
        "  0.02335216213493574 0.011745054216744988 0.015928883512450476]\n",
        " ['GOTERM_BP_FAT' 'GO:0006952~defense response' 26 ...,\n",
        "  0.029892522822571262 0.0100651414567291 0.02045801438231853]\n",
        " ..., \n",
        " ['GOTERM_BP_FAT' 'GO:0048589~developmental growth' 7 ..., 1.0\n",
        "  0.7721491183617959 81.64280598121654]\n",
        " ['GOTERM_BP_FAT' 'GO:0001568~blood vessel development' 12 ..., 1.0\n",
        "  0.7783318089943729 82.39230887116484]\n",
        " ['GOTERM_BP_FAT' 'GO:0001944~vasculature development' 12 ..., 1.0\n",
        "  0.7783318089943729 82.39230887116484]]\n"
       ]
      }
     ],
     "prompt_number": 112
    },
    {
     "cell_type": "code",
     "collapsed": false,
     "input": [
      "pls.columns\n"
     ],
     "language": "python",
     "metadata": {},
     "outputs": [
      {
       "metadata": {},
       "output_type": "pyout",
       "prompt_number": 113,
       "text": [
        "Index([Category, Term, Count, %, PValue, Genes, List Total, Pop Hits, Pop Total, Fold Enrichment, Bonferroni, Benjamini, FDR], dtype=object)"
       ]
      }
     ],
     "prompt_number": 113
    },
    {
     "cell_type": "code",
     "collapsed": false,
     "input": [
      "new=GO, pls.Bonferroni"
     ],
     "language": "python",
     "metadata": {},
     "outputs": [],
     "prompt_number": 127
    },
    {
     "cell_type": "code",
     "collapsed": false,
     "input": [
      "print new"
     ],
     "language": "python",
     "metadata": {},
     "outputs": [
      {
       "output_type": "stream",
       "stream": "stdout",
       "text": [
        "(0              GO:0002253~activation of immune response\n",
        "1                     GO:0045087~innate immune response\n",
        "2                           GO:0006952~defense response\n",
        "3     GO:0050778~positive regulation of immune response\n",
        "4       GO:0031396~regulation of protein ubiquitination\n",
        "5                            GO:0006955~immune response\n",
        "6     GO:0051248~negative regulation of protein meta...\n",
        "7     GO:0002684~positive regulation of immune syste...\n",
        "8     GO:0031400~negative regulation of protein modi...\n",
        "9     GO:0031397~negative regulation of protein ubiq...\n",
        "10    GO:0044092~negative regulation of molecular fu...\n",
        "11                     GO:0006954~inflammatory response\n",
        "12    GO:0032269~negative regulation of cellular pro...\n",
        "13           GO:0007242~intracellular signaling cascade\n",
        "14    GO:0031398~positive regulation of protein ubiq...\n",
        "...\n",
        "245           GO:0031647~regulation of protein stability\n",
        "246    GO:0001700~embryonic development via the syncy...\n",
        "247    GO:0002237~response to molecule of bacterial o...\n",
        "248                GO:0030574~collagen catabolic process\n",
        "249                       GO:0045471~response to ethanol\n",
        "250    GO:0032479~regulation of type I interferon pro...\n",
        "251                     GO:0030301~cholesterol transport\n",
        "252              GO:0009749~response to glucose stimulus\n",
        "253                 GO:0032526~response to retinoic acid\n",
        "254       GO:0051249~regulation of lymphocyte activation\n",
        "255                                GO:0007599~hemostasis\n",
        "256     GO:0001505~regulation of neurotransmitter levels\n",
        "257                      GO:0048589~developmental growth\n",
        "258                  GO:0001568~blood vessel development\n",
        "259                   GO:0001944~vasculature development\n",
        "Name: Term, Length: 260, dtype: object, 0     0.000583\n",
        "1     0.023352\n",
        "2     0.029893\n",
        "3     0.032167\n",
        "4     0.045582\n",
        "5     0.091660\n",
        "6     0.099709\n",
        "7     0.155729\n",
        "8     0.176380\n",
        "9     0.183160\n",
        "10    0.186363\n",
        "11    0.281153\n",
        "12    0.281153\n",
        "13    0.283628\n",
        "14    0.320908\n",
        "...\n",
        "245    1\n",
        "246    1\n",
        "247    1\n",
        "248    1\n",
        "249    1\n",
        "250    1\n",
        "251    1\n",
        "252    1\n",
        "253    1\n",
        "254    1\n",
        "255    1\n",
        "256    1\n",
        "257    1\n",
        "258    1\n",
        "259    1\n",
        "Name: Bonferroni, Length: 260, dtype: float64)\n"
       ]
      }
     ],
     "prompt_number": 130
    },
    {
     "cell_type": "code",
     "collapsed": false,
     "input": [],
     "language": "python",
     "metadata": {},
     "outputs": []
    }
   ],
   "metadata": {}
  }
 ]
}