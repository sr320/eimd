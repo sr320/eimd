{
 "metadata": {
  "celltoolbar": "Slideshow",
  "name": "",
  "signature": "sha256:8edb5959eef19ff7a1ca38251cad115064572620a19817d38d6b4c1188cfa807"
 },
 "nbformat": 3,
 "nbformat_minor": 0,
 "worksheets": [
  {
   "cells": [
    {
     "cell_type": "heading",
     "level": 1,
     "metadata": {
      "slideshow": {
       "slide_type": "slide"
      }
     },
     "source": [
      "Transcriptome Exploration"
     ]
    },
    {
     "cell_type": "heading",
     "level": 3,
     "metadata": {
      "slideshow": {
       "slide_type": "slide"
      }
     },
     "source": [
      "First lets get set with a working directory"
     ]
    },
    {
     "cell_type": "code",
     "collapsed": false,
     "input": [
      "pwd"
     ],
     "language": "python",
     "metadata": {
      "slideshow": {
       "slide_type": "fragment"
      }
     },
     "outputs": [
      {
       "metadata": {},
       "output_type": "pyout",
       "prompt_number": 11,
       "text": [
        "u'/Users/sr320/Dropbox/Steven/eimd/ipynbs'"
       ]
      }
     ],
     "prompt_number": 11
    },
    {
     "cell_type": "code",
     "collapsed": false,
     "input": [
      "cd "
     ],
     "language": "python",
     "metadata": {
      "slideshow": {
       "slide_type": "fragment"
      }
     },
     "outputs": [
      {
       "output_type": "stream",
       "stream": "stdout",
       "text": [
        "/Users/sr320\n"
       ]
      }
     ],
     "prompt_number": 13
    },
    {
     "cell_type": "code",
     "collapsed": false,
     "input": [
      "ls"
     ],
     "language": "python",
     "metadata": {
      "slideshow": {
       "slide_type": "fragment"
      }
     },
     "outputs": [
      {
       "output_type": "stream",
       "stream": "stdout",
       "text": [
        "\u001b[34mApplications\u001b[m\u001b[m/           \u001b[34mGeneious 5.5 Data\u001b[m\u001b[m/      \u001b[34manaconda\u001b[m\u001b[m/\r\n",
        "BiGo_RNAseq.ipynb       HOBOwareInstall.txt     \u001b[34mapollo-webstart\u001b[m\u001b[m/\r\n",
        "BlackAb_Annot.ipynb     \u001b[34mLibrary\u001b[m\u001b[m/                asample.html\r\n",
        "\u001b[34mCLC_Data\u001b[m\u001b[m/               \u001b[34mMovies\u001b[m\u001b[m/                 \u001b[34mblast2go\u001b[m\u001b[m/\r\n",
        "\u001b[34mClueGOConfiguration\u001b[m\u001b[m/    \u001b[34mMusic\u001b[m\u001b[m/                  \u001b[34migv\u001b[m\u001b[m/\r\n",
        "\u001b[34mCytoscapeConfiguration\u001b[m\u001b[m/ \u001b[34mPictures\u001b[m\u001b[m/               outputfile\r\n",
        "\u001b[34mDesktop\u001b[m\u001b[m/                \u001b[34mPublic\u001b[m\u001b[m/                 \u001b[34msqlshare-pythonclient\u001b[m\u001b[m/\r\n",
        "\u001b[34mDocuments\u001b[m\u001b[m/              StencylWorks.prefs      \u001b[34mstencylworks\u001b[m\u001b[m/\r\n",
        "\u001b[34mDownloads\u001b[m\u001b[m/              TJGR_pearl.ipynb        test\r\n",
        "\u001b[34mDropbox\u001b[m\u001b[m/                \u001b[34mVirtualBox VMs\u001b[m\u001b[m/\r\n"
       ]
      }
     ],
     "prompt_number": 14
    },
    {
     "cell_type": "code",
     "collapsed": false,
     "input": [
      "cd Desktop/"
     ],
     "language": "python",
     "metadata": {
      "slideshow": {
       "slide_type": "slide"
      }
     },
     "outputs": [
      {
       "output_type": "stream",
       "stream": "stdout",
       "text": [
        "/Users/sr320/Desktop\n"
       ]
      }
     ],
     "prompt_number": 15
    },
    {
     "cell_type": "code",
     "collapsed": false,
     "input": [
      "mkdir myawesome_dir"
     ],
     "language": "python",
     "metadata": {
      "slideshow": {
       "slide_type": "subslide"
      }
     },
     "outputs": [],
     "prompt_number": 16
    },
    {
     "cell_type": "code",
     "collapsed": false,
     "input": [
      "ls -d my*"
     ],
     "language": "python",
     "metadata": {
      "slideshow": {
       "slide_type": "subslide"
      }
     },
     "outputs": [
      {
       "output_type": "stream",
       "stream": "stdout",
       "text": [
        "\u001b[34mmyawesome_dir\u001b[m\u001b[m/\r\n"
       ]
      }
     ],
     "prompt_number": 19
    },
    {
     "cell_type": "heading",
     "level": 1,
     "metadata": {
      "slideshow": {
       "slide_type": "slide"
      }
     },
     "source": [
      "Download the fasta file"
     ]
    },
    {
     "cell_type": "code",
     "collapsed": false,
     "input": [
      "!curl -O http://eagle.fish.washington.edu/whale/eimd_14/Phel_transcriptome_clc.fa"
     ],
     "language": "python",
     "metadata": {
      "slideshow": {
       "slide_type": "subslide"
      }
     },
     "outputs": [
      {
       "output_type": "stream",
       "stream": "stdout",
       "text": [
        "  % Total    % Received % Xferd  Average Speed   Time    Time     Time  Current\r\n",
        "                                 Dload  Upload   Total   Spent    Left  Speed\r\n",
        "\r",
        "  0     0    0     0    0     0      0      0 --:--:-- --:--:-- --:--:--     0"
       ]
      },
      {
       "output_type": "stream",
       "stream": "stdout",
       "text": [
        "\r",
        "  0 43.2M    0  245k    0     0   317k      0  0:02:19 --:--:--  0:02:19  814k"
       ]
      },
      {
       "output_type": "stream",
       "stream": "stdout",
       "text": [
        "\r",
        "  1 43.2M    1  557k    0     0   310k      0  0:02:22  0:00:01  0:02:21  421k"
       ]
      },
      {
       "output_type": "stream",
       "stream": "stdout",
       "text": [
        "\r",
        "  2 43.2M    2  889k    0     0   319k      0  0:02:18  0:00:02  0:02:16  385k"
       ]
      },
      {
       "output_type": "stream",
       "stream": "stdout",
       "text": [
        "\r",
        "  2 43.2M    2 1314k    0     0   348k      0  0:02:07  0:00:03  0:02:04  398k"
       ]
      },
      {
       "output_type": "stream",
       "stream": "stdout",
       "text": [
        "\r",
        "  3 43.2M    3 1517k    0     0   314k      0  0:02:20  0:00:04  0:02:16  348k"
       ]
      },
      {
       "output_type": "stream",
       "stream": "stdout",
       "text": [
        "\r",
        "  3 43.2M    3 1665k    0     0   288k      0  0:02:33  0:00:05  0:02:28  283k"
       ]
      },
      {
       "output_type": "stream",
       "stream": "stdout",
       "text": [
        "\r",
        "  4 43.2M    4 1999k    0     0   294k      0  0:02:30  0:00:06  0:02:24  289k"
       ]
      },
      {
       "output_type": "stream",
       "stream": "stdout",
       "text": [
        "\r",
        "  6 43.2M    6 2935k    0     0   377k      0  0:01:57  0:00:07  0:01:50  409k"
       ]
      },
      {
       "output_type": "stream",
       "stream": "stdout",
       "text": [
        "\r",
        "  8 43.2M    8 3964k    0     0   451k      0  0:01:38  0:00:08  0:01:30  529k"
       ]
      },
      {
       "output_type": "stream",
       "stream": "stdout",
       "text": [
        "\r",
        " 11 43.2M   11 5273k    0     0   539k      0  0:01:22  0:00:09  0:01:13  758k"
       ]
      },
      {
       "output_type": "stream",
       "stream": "stdout",
       "text": [
        "\r",
        " 15 43.2M   15 6872k    0     0   637k      0  0:01:09  0:00:10  0:00:59 1041k"
       ]
      },
      {
       "output_type": "stream",
       "stream": "stdout",
       "text": [
        "\r",
        " 18 43.2M   18 7987k    0     0   678k      0  0:01:05  0:00:11  0:00:54 1198k"
       ]
      },
      {
       "output_type": "stream",
       "stream": "stdout",
       "text": [
        "\r",
        " 18 43.2M   18 8277k    0     0   647k      0  0:01:08  0:00:12  0:00:56 1064k"
       ]
      },
      {
       "output_type": "stream",
       "stream": "stdout",
       "text": [
        "\r",
        " 20 43.2M   20 8881k    0     0   644k      0  0:01:08  0:00:13  0:00:55  982k"
       ]
      },
      {
       "output_type": "stream",
       "stream": "stdout",
       "text": [
        "\r",
        " 21 43.2M   21 9431k    0     0   638k      0  0:01:09  0:00:14  0:00:55  831k"
       ]
      },
      {
       "output_type": "stream",
       "stream": "stdout",
       "text": [
        "\r",
        " 22 43.2M   22  9.8M    0     0   638k      0  0:01:09  0:00:15  0:00:54  638k"
       ]
      },
      {
       "output_type": "stream",
       "stream": "stdout",
       "text": [
        "\r",
        " 24 43.2M   24 10.4M    0     0   640k      0  0:01:09  0:00:16  0:00:53  549k"
       ]
      },
      {
       "output_type": "stream",
       "stream": "stdout",
       "text": [
        "\r",
        " 24 43.2M   24 10.8M    0     0   621k      0  0:01:11  0:00:17  0:00:54  557k"
       ]
      },
      {
       "output_type": "stream",
       "stream": "stdout",
       "text": [
        "\r",
        " 25 43.2M   25 10.9M    0     0   597k      0  0:01:14  0:00:18  0:00:56  467k"
       ]
      },
      {
       "output_type": "stream",
       "stream": "stdout",
       "text": [
        "\r",
        " 26 43.2M   26 11.4M    0     0   595k      0  0:01:14  0:00:19  0:00:55  468k"
       ]
      },
      {
       "output_type": "stream",
       "stream": "stdout",
       "text": [
        "\r",
        " 26 43.2M   26 11.6M    0     0   572k      0  0:01:17  0:00:20  0:00:57  364k"
       ]
      },
      {
       "output_type": "stream",
       "stream": "stdout",
       "text": [
        "\r",
        " 27 43.2M   27 11.8M    0     0   555k      0  0:01:19  0:00:21  0:00:58  271k"
       ]
      },
      {
       "output_type": "stream",
       "stream": "stdout",
       "text": [
        "\r",
        " 29 43.2M   29 12.5M    0     0   564k      0  0:01:18  0:00:22  0:00:56  361k"
       ]
      },
      {
       "output_type": "stream",
       "stream": "stdout",
       "text": [
        "\r",
        " 31 43.2M   31 13.4M    0     0   579k      0  0:01:16  0:00:23  0:00:53  513k"
       ]
      },
      {
       "output_type": "stream",
       "stream": "stdout",
       "text": [
        "\r",
        " 32 43.2M   32 14.2M    0     0   587k      0  0:01:15  0:00:24  0:00:51  556k"
       ]
      },
      {
       "output_type": "stream",
       "stream": "stdout",
       "text": [
        "\r",
        " 33 43.2M   33 14.4M    0     0   574k      0  0:01:17  0:00:25  0:00:52  583k"
       ]
      },
      {
       "output_type": "stream",
       "stream": "stdout",
       "text": [
        "\r",
        " 35 43.2M   35 15.3M    0     0   586k      0  0:01:15  0:00:26  0:00:49  721k"
       ]
      },
      {
       "output_type": "stream",
       "stream": "stdout",
       "text": [
        "\r",
        " 36 43.2M   36 16.0M    0     0   590k      0  0:01:15  0:00:27  0:00:48  704k"
       ]
      },
      {
       "output_type": "stream",
       "stream": "stdout",
       "text": [
        "\r",
        " 39 43.2M   39 16.8M    0     0   601k      0  0:01:13  0:00:28  0:00:45  704k"
       ]
      },
      {
       "output_type": "stream",
       "stream": "stdout",
       "text": [
        "\r",
        " 41 43.2M   41 17.8M    0     0   612k      0  0:01:12  0:00:29  0:00:43  740k"
       ]
      },
      {
       "output_type": "stream",
       "stream": "stdout",
       "text": [
        "\r",
        " 43 43.2M   43 18.6M    0     0   619k      0  0:01:11  0:00"
       ]
      },
      {
       "output_type": "stream",
       "stream": "stdout",
       "text": [
        ":30  0:00:41  852k"
       ]
      },
      {
       "output_type": "stream",
       "stream": "stdout",
       "text": [
        "\r",
        " 45 43.2M   45 19.7M    0     0   635k      0  0:01:09  0:00:31  0:00:38  899k"
       ]
      },
      {
       "output_type": "stream",
       "stream": "stdout",
       "text": [
        "\r",
        " 48 43.2M   48 20.8M    0     0   652k      0  0:01:07  0:00:32  0:00:35  999k"
       ]
      },
      {
       "output_type": "stream",
       "stream": "stdout",
       "text": [
        "\r",
        " 51 43.2M   51 22.1M    0     0   672k      0  0:01:05  0:00:33  0:00:32 1085k"
       ]
      }
     ]
    },
    {
     "cell_type": "code",
     "collapsed": false,
     "input": [
      "!head ../data/Phel_transcriptome_clc.fa"
     ],
     "language": "python",
     "metadata": {
      "slideshow": {
       "slide_type": "fragment"
      }
     },
     "outputs": [
      {
       "output_type": "stream",
       "stream": "stdout",
       "text": [
        ">Phel_clc_contig_1\r\n",
        "CAAATATATGAACGGTTGATTGTCAACGATTAGTACATGTTTTCATTGTTCCCCACGCCC\r\n",
        "GCCCCCCCCCACTCAAACATTTAAAGTGTGAAATATTATTTATCCACAAATTTCCTTAAA\r\n",
        "CCTGCAAACTTGTCTGCTGTCTCTTATTGGAAGTTATGAAAAAGAACAACGGGTTTTCTT\r\n",
        "TAAAGGGTCTGCGTGCGATTTTCAACCTTTTGAGTAATAGCAGTTATTTTGATAACCGAT\r\n",
        "TTTTTTCAAAGCTCAACAGCTTTTTAAAATAAGGAATCCTATAATGGCCAAACGAATACT\r\n",
        "ATAAAAATAAGGGTTCTCTTAATTGTATAAAACGTATAATTTTATCAATTTTGGGACCGT\r\n",
        "GTAATTTTTTAAAGACCACAAGAATGTTACATACAACAAATAGACGAAACTCGTAGCTTT\r\n",
        "GGAAACTACGTCATGGGCGTTTGGTCAAAAGCTGGAGAGAAAGAGAGGTGGGGTGCCAGA\r\n",
        "CTTAAGTAGTCACGTGATCTGACCAACGCACATCGGAAGCTCGATCGGATGAAATCTTCT\r\n"
       ]
      }
     ],
     "prompt_number": 7
    },
    {
     "cell_type": "heading",
     "level": 2,
     "metadata": {
      "slideshow": {
       "slide_type": "slide"
      }
     },
     "source": [
      "Question - How many Sequeces?"
     ]
    },
    {
     "cell_type": "code",
     "collapsed": false,
     "input": [
      "!fgrep -c \">\" ../data/Phel_transcriptome_clc.fa"
     ],
     "language": "python",
     "metadata": {
      "slideshow": {
       "slide_type": "fragment"
      }
     },
     "outputs": [
      {
       "output_type": "stream",
       "stream": "stdout",
       "text": [
        "30578\r\n"
       ]
      }
     ],
     "prompt_number": 10
    },
    {
     "cell_type": "code",
     "collapsed": false,
     "input": [],
     "language": "python",
     "metadata": {},
     "outputs": []
    }
   ],
   "metadata": {}
  }
 ]
}