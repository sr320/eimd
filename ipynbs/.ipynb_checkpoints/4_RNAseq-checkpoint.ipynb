{
 "metadata": {
  "name": "",
  "signature": "sha256:f0229964c5dea4cd78a9921223f11dca7a6a77cc5ac787210daba8b5e4d7b5ec"
 },
 "nbformat": 3,
 "nbformat_minor": 0,
 "worksheets": [
  {
   "cells": [
    {
     "cell_type": "heading",
     "level": 1,
     "metadata": {},
     "source": [
      "Running RNA-seq on CLC"
     ]
    },
    {
     "cell_type": "markdown",
     "metadata": {},
     "source": [
      "<img src=\"http://eagle.fish.washington.edu/cnidarian/skitch/greenbird_1978345A.png\" alt=\"greenbird_1978345A.png\"/>"
     ]
    },
    {
     "cell_type": "code",
     "collapsed": false,
     "input": [
      "!head -4 /Volumes/web/cnidarian/Seaster_clc_rnaseq_tc.txt"
     ],
     "language": "python",
     "metadata": {},
     "outputs": [
      {
       "output_type": "stream",
       "stream": "stdout",
       "text": [
        "Feature ID\tHK_CF2\tHK_CF35\tHK_CF70\tV_CF71\tV_CF34\tV_CF26\r\n",
        "3291_5903_10007_H94MGADXX_V_CF71_ATCACG_R1 (paired) trimmed (paired) contig 1\t28\t38\t89\t168\t37\t8\r\n",
        "3291_5903_10007_H94MGADXX_V_CF71_ATCACG_R1 (paired) trimmed (paired) contig 10\t42\t180\t22\t9518\t2752\t839\r\n",
        "3291_5903_10007_H94MGADXX_V_CF71_ATCACG_R1 (paired) trimmed (paired) contig 100\t1235\t6104\t616\t260\t565\t413\r\n"
       ]
      }
     ],
     "prompt_number": 13
    },
    {
     "cell_type": "code",
     "collapsed": false,
     "input": [
      "!sed 's/3291_5903_10007_H94MGADXX_V_CF71_ATCACG_R1 (paired) trimmed (paired) contig /seastar_clc_contig_/g' </Volumes/web/cnidarian/Seaster_clc_rnaseq_tc.txt> /Volumes/web/cnidarian/Seaster_clc_rnaseq_tcc.txt\n"
     ],
     "language": "python",
     "metadata": {},
     "outputs": [],
     "prompt_number": 14
    },
    {
     "cell_type": "code",
     "collapsed": false,
     "input": [
      "!head -4 /Volumes/web/cnidarian/Seaster_clc_rnaseq_tcc.txt"
     ],
     "language": "python",
     "metadata": {},
     "outputs": [
      {
       "output_type": "stream",
       "stream": "stdout",
       "text": [
        "Feature ID\tHK_CF2\tHK_CF35\tHK_CF70\tV_CF71\tV_CF34\tV_CF26\r\n",
        "seastar_clc_contig_1\t28\t38\t89\t168\t37\t8\r\n",
        "seastar_clc_contig_10\t42\t180\t22\t9518\t2752\t839\r\n",
        "seastar_clc_contig_100\t1235\t6104\t616\t260\t565\t413\r\n"
       ]
      }
     ],
     "prompt_number": 15
    },
    {
     "cell_type": "code",
     "collapsed": false,
     "input": [
      "!sed 's/Feature ID/Feature/g' </Volumes/web/cnidarian/Seaster_clc_rnaseq_tcc.txt> /Volumes/web/cnidarian/seastar_clc_rnaseq_counts.txt\n"
     ],
     "language": "python",
     "metadata": {},
     "outputs": [],
     "prompt_number": 16
    },
    {
     "cell_type": "code",
     "collapsed": false,
     "input": [
      "!head /Volumes/web/cnidarian/seastar_clc_rnaseq_counts.txt\n"
     ],
     "language": "python",
     "metadata": {},
     "outputs": [
      {
       "output_type": "stream",
       "stream": "stdout",
       "text": [
        "Feature\tHK_CF2\tHK_CF35\tHK_CF70\tV_CF71\tV_CF34\tV_CF26\r\n",
        "seastar_clc_contig_1\t28\t38\t89\t168\t37\t8\r\n",
        "seastar_clc_contig_10\t42\t180\t22\t9518\t2752\t839\r\n",
        "seastar_clc_contig_100\t1235\t6104\t616\t260\t565\t413\r\n",
        "seastar_clc_contig_1000\t8551\t31946\t4311\t2043\t3853\t3070\r\n",
        "seastar_clc_contig_10000\t21\t211\t32\t9\t12\t13\r\n",
        "seastar_clc_contig_10001\t54\t365\t90\t44\t227\t89\r\n",
        "seastar_clc_contig_10002\t478\t1267\t185\t38\t61\t80\r\n",
        "seastar_clc_contig_10003\t29\t186\t17\t9\t29\t20\r\n",
        "seastar_clc_contig_10004\t19\t92\t4\t8\t25\t6\r\n"
       ]
      }
     ],
     "prompt_number": 17
    },
    {
     "cell_type": "code",
     "collapsed": false,
     "input": [
      "!wc -l /Volumes/web/cnidarian/seastar_clc_rnaseq_counts.txt\n"
     ],
     "language": "python",
     "metadata": {},
     "outputs": [
      {
       "output_type": "stream",
       "stream": "stdout",
       "text": [
        "   30579 /Volumes/web/cnidarian/seastar_clc_rnaseq_counts.txt\r\n"
       ]
      }
     ],
     "prompt_number": 18
    },
    {
     "cell_type": "heading",
     "level": 1,
     "metadata": {},
     "source": [
      "DESEQ2"
     ]
    },
    {
     "cell_type": "code",
     "collapsed": false,
     "input": [],
     "language": "python",
     "metadata": {},
     "outputs": []
    }
   ],
   "metadata": {}
  }
 ]
}