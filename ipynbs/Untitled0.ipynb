{
 "metadata": {
  "name": "",
  "signature": "sha256:ae168467d3ff8556eb3658c2abef17411dd1703162c84234449fa243611e5ba5"
 },
 "nbformat": 3,
 "nbformat_minor": 0,
 "worksheets": [
  {
   "cells": [
    {
     "cell_type": "code",
     "collapsed": false,
     "input": [
      "!blastn \\\n",
      "-query /Volumes/Data/giles/SeaStar/trinity_assemblies/run1/Trinity.fasta \\\n",
      "-db /Volumes/Data/blast_db/nt \\\n",
      "-out /Volumes/web/cnidarian/seastar_trinity2_nt.tab \\\n",
      "-evalue 1E-20 \\\n",
      "-outfmt \"6 qseqid sseqid pident length mismatch gapopen qstart qend sstart send evalue bitscore staxids scomnames sblastnames sskingdoms stitle\" \\\n",
      "-num_threads 8 \\\n",
      "-max_hsps 1 \\\n",
      "-max_target_seqs 1\n"
     ],
     "language": "python",
     "metadata": {},
     "outputs": [
      {
       "output_type": "stream",
       "stream": "stdout",
       "text": [
        "^C\r\n"
       ]
      }
     ],
     "prompt_number": 1
    },
    {
     "cell_type": "code",
     "collapsed": false,
     "input": [
      "!blastn \\\n",
      "-query /Users/srlab/test.fa \\\n",
      "-db /Volumes/Data/blast_db/nt \\\n",
      "-out /Volumes/web/cnidarian/seastar_trinity2_nt.tab \\\n",
      "-outfmt \"6 qseqid sseqid pident length evalue bitscore staxids sblastnames sskingdoms stitle sscinames scomnames\" \\\n",
      "-num_threads 8 \\\n",
      "-max_hsps 1 \\\n",
      "-max_target_seqs 1 \\\n",
      "-task blastn"
     ],
     "language": "python",
     "metadata": {},
     "outputs": [],
     "prompt_number": 1
    },
    {
     "cell_type": "code",
     "collapsed": false,
     "input": [
      "sblastnames sskingdoms stitle"
     ],
     "language": "python",
     "metadata": {},
     "outputs": [
      {
       "output_type": "stream",
       "stream": "stdout",
       "text": [
        "Apple_PubSub_Socket_Render=/tmp/launch-5qmsSM/Render\r\n",
        "BASH=/bin/sh\r\n",
        "BASH_ARGC=()\r\n",
        "BASH_ARGV=()\r\n",
        "BASH_EXECUTION_STRING=set\r\n",
        "BASH_LINENO=()\r\n",
        "BASH_SOURCE=()\r\n",
        "BASH_VERSINFO=([0]=\"3\" [1]=\"2\" [2]=\"51\" [3]=\"1\" [4]=\"release\" [5]=\"x86_64-apple-darwin13\")\r\n",
        "BASH_VERSION='3.2.51(1)-release'\r\n",
        "BIO=/usr/local/bioinformatics\r\n",
        "BLASTDB=/Volumes/Data/blast_db\r\n",
        "CLICOLOR=1\r\n",
        "COLUMNS=80\r\n",
        "DIRSTACK=()\r\n",
        "EUID=503\r\n",
        "GIT_PAGER=cat\r\n",
        "GROUPS=()\r\n",
        "HOME=/Users/steven\r\n",
        "HOSTNAME=hummingbird.local\r\n",
        "HOSTTYPE=x86_64\r\n",
        "IFS=' \t\r\n",
        "'\r\n",
        "LANG=en_US.UTF-8\r\n",
        "LINES=24\r\n",
        "LOGNAME=steven\r\n",
        "MACHTYPE=x86_64-apple-darwin13\r\n",
        "NGSPLOT=/usr/local/bioinformatics/ngsplot\r\n",
        "OPTERR=1\r\n",
        "OPTIND=1\r\n",
        "OSTYPE=darwin13\r\n",
        "PAGER=cat\r\n",
        "PATH=/usr/local/bioinformatics/ngsplot/bin:/usr/local/bioinformatics/stacks/bin:/usr/local/bioinformatics/rsem/sam:/usr/local/bioinformatics/fastx_toolkit/bin:/opt/local/Library/Frameworks/Python.framework/Versions/2.7/bin:/usr/local/bioinformatics/rsem:/usr/local/bioinformatics/bowtie2:/usr/local/bioinformatics/bowtie:/usr/local/bioinformatics/hmmer:/usr/local/bioinformatics/trinity:/usr/local/bioinformatics/ncbi-blast/bin:/usr/local/bioinformatics/anaconda/bin:/usr/bin:/bin:/usr/sbin:/sbin:/usr/local/bin\r\n",
        "POSIXLY_CORRECT=y\r\n",
        "PPID=33036\r\n",
        "PS4='+ '\r\n",
        "PWD=/Users/steven/Dropbox/steven/eimd/ipynbs\r\n",
        "PYTHONPATH=/opt/local/Library/Frameworks/Python.framework/Versions/2.7/lib/python2.7/site-packages\r\n",
        "SECURITYSESSIONID=186bd\r\n",
        "SHELL=/bin/bash\r\n",
        "SHELLOPTS=braceexpand:hashall:interactive-comments:posix\r\n",
        "SHLVL=2\r\n",
        "SSH_AUTH_SOCK=/tmp/launch-LPgmcB/Listeners\r\n",
        "TERM=xterm-color\r\n",
        "TERM_PROGRAM=Apple_Terminal\r\n",
        "TERM_PROGRAM_VERSION=326\r\n",
        "TERM_SESSION_ID=1467A6F3-0081-4418-A75F-1C0E5F8E2E19\r\n",
        "TMPDIR=/var/folders/md/3td18f8s3512cfjg0bwdjb840000gq/T/\r\n",
        "UID=503\r\n",
        "USER=steven\r\n",
        "_=/usr/local/bioinformatics/anaconda/bin/ipython\r\n",
        "__CF_USER_TEXT_ENCODING=0x1F7:0:0\r\n",
        "__CHECKFIX1436934=1\r\n"
       ]
      }
     ],
     "prompt_number": 2
    },
    {
     "cell_type": "code",
     "collapsed": false,
     "input": [],
     "language": "python",
     "metadata": {},
     "outputs": []
    }
   ],
   "metadata": {}
  }
 ]
}