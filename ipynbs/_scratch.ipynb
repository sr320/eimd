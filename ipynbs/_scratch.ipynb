{
 "metadata": {
  "name": "",
  "signature": "sha256:959136167837b00486fe41fd63b612e1730577fe48ec0528c017ca25734d77a4"
 },
 "nbformat": 3,
 "nbformat_minor": 0,
 "worksheets": [
  {
   "cells": [
    {
     "cell_type": "code",
     "collapsed": false,
     "input": [
      "%install_ext https://raw.githubusercontent.com/rasbt/python_reference/master/ipython_magic/watermark.py"
     ],
     "language": "python",
     "metadata": {},
     "outputs": [
      {
       "output_type": "stream",
       "stream": "stdout",
       "text": [
        "Installed watermark.py. To use it, type:\n",
        "  %load_ext watermark\n"
       ]
      }
     ],
     "prompt_number": 1
    },
    {
     "cell_type": "code",
     "collapsed": false,
     "input": [
      "%load_ext watermark"
     ],
     "language": "python",
     "metadata": {},
     "outputs": [
      {
       "output_type": "stream",
       "stream": "stdout",
       "text": [
        "The watermark extension is already loaded. To reload it, use:\n",
        "  %reload_ext watermark\n"
       ]
      }
     ],
     "prompt_number": 4
    },
    {
     "cell_type": "code",
     "collapsed": false,
     "input": [
      "%watermark?"
     ],
     "language": "python",
     "metadata": {},
     "outputs": [],
     "prompt_number": 5
    },
    {
     "cell_type": "code",
     "collapsed": false,
     "input": [
      "%watermark -"
     ],
     "language": "python",
     "metadata": {},
     "outputs": [
      {
       "output_type": "stream",
       "stream": "stdout",
       "text": [
        "\n",
        "Git hash: 94cf76cda3927f91b42096bfff42c0bcf0e31b1b\n"
       ]
      }
     ],
     "prompt_number": 16
    },
    {
     "cell_type": "code",
     "collapsed": false,
     "input": [
      "%watermark -u -n -t -z\n"
     ],
     "language": "python",
     "metadata": {},
     "outputs": [
      {
       "output_type": "stream",
       "stream": "stdout",
       "text": [
        "Last updated: Mon Jul 48 2014 06:48:25 PDT\n"
       ]
      }
     ],
     "prompt_number": 17
    },
    {
     "cell_type": "code",
     "collapsed": false,
     "input": [
      "!tail -75 /Users/sr320/Dropbox/Steven/eimd/data/seastar_clc_rnaseq_counts.txt"
     ],
     "language": "python",
     "metadata": {},
     "outputs": [
      {
       "output_type": "stream",
       "stream": "stdout",
       "text": [
        "seastar_clc_contig_9931\t37\t226\t17\t8\t15\t12\r\n",
        "seastar_clc_contig_9932\t55\t260\t17\t15\t37\t37\r\n",
        "seastar_clc_contig_9933\t96\t989\t32\t31\t49\t34\r\n",
        "seastar_clc_contig_9934\t0\t34\t0\t3\t2\t2\r\n",
        "seastar_clc_contig_9935\t44\t52\t21\t3\t0\t1\r\n",
        "seastar_clc_contig_9936\t70\t1311\t40\t36\t7\t12\r\n",
        "seastar_clc_contig_9937\t5\t24\t3\t34\t42\t18\r\n",
        "seastar_clc_contig_9938\t235\t1152\t200\t20\t27\t21\r\n",
        "seastar_clc_contig_9939\t379\t1705\t219\t37\t84\t61\r\n",
        "seastar_clc_contig_994\t1074\t4906\t694\t335\t678\t528\r\n",
        "seastar_clc_contig_9940\t0\t83\t2\t3\t0\t5\r\n",
        "seastar_clc_contig_9941\t31\t130\t3\t1\t11\t3\r\n",
        "seastar_clc_contig_9942\t43\t558\t21\t70\t65\t57\r\n",
        "seastar_clc_contig_9943\t317\t1674\t196\t33\t96\t63\r\n",
        "seastar_clc_contig_9944\t5\t139\t1\t1\t0\t1\r\n",
        "seastar_clc_contig_9945\t55\t21\t2\t1\t1\t2\r\n",
        "seastar_clc_contig_9946\t915\t3148\t671\t106\t292\t196\r\n",
        "seastar_clc_contig_9947\t22\t150\t7\t18\t16\t12\r\n",
        "seastar_clc_contig_9948\t51\t329\t17\t21\t36\t18\r\n",
        "seastar_clc_contig_9949\t193\t918\t158\t4\t15\t7\r\n",
        "seastar_clc_contig_995\t569\t2469\t466\t1022\t1095\t475\r\n",
        "seastar_clc_contig_9950\t66\t74\t25\t4\t15\t14\r\n",
        "seastar_clc_contig_9951\t27\t169\t10\t16\t20\t28\r\n",
        "seastar_clc_contig_9952\t0\t7\t41\t28\t15\t8\r\n",
        "seastar_clc_contig_9953\t47\t625\t41\t96\t98\t77\r\n",
        "seastar_clc_contig_9954\t57\t701\t34\t121\t110\t45\r\n",
        "seastar_clc_contig_9955\t7\t139\t10\t3\t7\t5\r\n",
        "seastar_clc_contig_9956\t181\t1528\t142\t36\t49\t62\r\n",
        "seastar_clc_contig_9957\t68\t504\t31\t25\t28\t2\r\n",
        "seastar_clc_contig_9958\t164\t1567\t62\t89\t74\t61\r\n",
        "seastar_clc_contig_9959\t19\t364\t17\t1\t3\t13\r\n",
        "seastar_clc_contig_996\t44\t285\t20\t10\t40\t27\r\n",
        "seastar_clc_contig_9960\t35\t268\t24\t10\t21\t3\r\n",
        "seastar_clc_contig_9961\t8\t3\t0\t6\t1\t4\r\n",
        "seastar_clc_contig_9962\t141\t484\t71\t23\t70\t23\r\n",
        "seastar_clc_contig_9963\t1813\t9206\t1003\t51\t161\t86\r\n",
        "seastar_clc_contig_9964\t546\t2647\t323\t147\t278\t201\r\n",
        "seastar_clc_contig_9965\t5\t82\t16\t170\t92\t31\r\n",
        "seastar_clc_contig_9966\t46\t157\t14\t15\t3\t12\r\n",
        "seastar_clc_contig_9967\t105\t889\t46\t44\t51\t53\r\n",
        "seastar_clc_contig_9968\t13\t257\t12\t24\t22\t10\r\n",
        "seastar_clc_contig_9969\t0\t750\t0\t0\t54\t0\r\n",
        "seastar_clc_contig_997\t198\t1392\t45\t13\t72\t23\r\n",
        "seastar_clc_contig_9970\t12\t3\t2\t2\t0\t2\r\n",
        "seastar_clc_contig_9971\t47\t400\t74\t53\t38\t33\r\n",
        "seastar_clc_contig_9972\t74\t606\t20\t7\t27\t22\r\n",
        "seastar_clc_contig_9973\t31\t104\t6\t9\t5\t7\r\n",
        "seastar_clc_contig_9974\t3\t144\t5\t28\t54\t26\r\n",
        "seastar_clc_contig_9975\t100\t630\t5\t20\t0\t19\r\n",
        "seastar_clc_contig_9976\t121\t940\t52\t11\t15\t11\r\n",
        "seastar_clc_contig_9977\t27\t682\t12\t2\t15\t12\r\n",
        "seastar_clc_contig_9978\t41\t252\t32\t1\t10\t13\r\n",
        "seastar_clc_contig_9979\t2\t132\t5\t6\t18\t0\r\n",
        "seastar_clc_contig_998\t1298\t7666\t1319\t1038\t1469\t1523\r\n",
        "seastar_clc_contig_9980\t1049\t4304\t644\t105\t260\t154\r\n",
        "seastar_clc_contig_9981\t87\t283\t49\t16\t24\t29\r\n",
        "seastar_clc_contig_9982\t44\t199\t21\t29\t32\t34\r\n",
        "seastar_clc_contig_9983\t337\t272\t114\t31\t88\t51\r\n",
        "seastar_clc_contig_9984\t126\t120\t36\t5\t25\t21\r\n",
        "seastar_clc_contig_9985\t6\t199\t5\t3\t1\t10\r\n",
        "seastar_clc_contig_9986\t37\t291\t6\t14\t7\t4\r\n",
        "seastar_clc_contig_9987\t239\t897\t73\t15\t88\t28\r\n",
        "seastar_clc_contig_9988\t48\t386\t28\t2\t7\t10\r\n",
        "seastar_clc_contig_9989\t32\t608\t126\t35\t92\t46\r\n",
        "seastar_clc_contig_999\t8956\t34741\t5421\t1161\t1657\t875\r\n",
        "seastar_clc_contig_9990\t0\t57\t0\t4\t0\t1\r\n",
        "seastar_clc_contig_9991\t8\t72\t2\t0\t9\t0\r\n",
        "seastar_clc_contig_9992\t97\t241\t46\t14\t30\t16\r\n",
        "seastar_clc_contig_9993\t11\t127\t2\t6\t16\t1\r\n",
        "seastar_clc_contig_9994\t88\t683\t71\t41\t30\t22\r\n",
        "seastar_clc_contig_9995\t32\t457\t46\t19\t8\t13\r\n",
        "seastar_clc_contig_9996\t36\t324\t28\t18\t29\t19\r\n",
        "seastar_clc_contig_9997\t64\t28\t22\t3\t20\t2\r\n",
        "seastar_clc_contig_9998\t54\t819\t43\t36\t52\t29\r\n",
        "seastar_clc_contig_9999\t155\t732\t70\t33\t71\t20\r\n"
       ]
      }
     ],
     "prompt_number": 4
    },
    {
     "cell_type": "code",
     "collapsed": false,
     "input": [],
     "language": "python",
     "metadata": {},
     "outputs": []
    }
   ],
   "metadata": {}
  }
 ]
}