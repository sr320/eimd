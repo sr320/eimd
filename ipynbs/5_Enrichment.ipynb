{
 "metadata": {
  "name": "",
  "signature": "sha256:ac9f0c3a11bc25dd8b230221cd422abe6f5e5b8e3d373181132309581e9c1835"
 },
 "nbformat": 3,
 "nbformat_minor": 0,
 "worksheets": [
  {
   "cells": [
    {
     "cell_type": "heading",
     "level": 1,
     "metadata": {},
     "source": [
      "Enrichment Analysis using DAVID"
     ]
    },
    {
     "cell_type": "heading",
     "level": 2,
     "metadata": {},
     "source": [
      "DEGs"
     ]
    },
    {
     "cell_type": "markdown",
     "metadata": {},
     "source": [
      "First lets take the DEGs from DESeq2 - and transform file to get it read to join with SPIDs"
     ]
    },
    {
     "cell_type": "code",
     "collapsed": false,
     "input": [
      "!head /Users/sr320/Dropbox/Steven/eimd/data/deseq2_sig_results.txt"
     ],
     "language": "python",
     "metadata": {},
     "outputs": [
      {
       "output_type": "stream",
       "stream": "stdout",
       "text": [
        "\"baseMean\" \"log2FoldChange\" \"lfcSE\" \"stat\" \"pvalue\" \"padj\"\r\n",
        "\"seastar_clc_contig_10001\" 136.27718425946 1.49886855266789 0.550947966456816 2.72052651778936 0.00651780439581695 0.0350101864080016\r\n",
        "\"seastar_clc_contig_10010\" 8.73784349604224 2.43426494953234 0.717338850139719 3.39346593183711 0.000690141423521562 0.00610587057360923\r\n",
        "\"seastar_clc_contig_10013\" 188.603521302622 -1.94923068685006 0.463271107915175 -4.20753777549832 2.58168256856775e-05 0.00041485396609123\r\n",
        "\"seastar_clc_contig_10045\" 50.485024106335 2.87706412205861 0.695003049883772 4.13964244119468 3.47847563039607e-05 0.000526018158180456\r\n",
        "\"seastar_clc_contig_1005\" 3408.98435663456 -1.66691198866687 0.378947946534594 -4.39878881495589 1.08856689786144e-05 0.000199362344222153\r\n",
        "\"seastar_clc_contig_10050\" 276.941589423215 -1.61560402677235 0.323282993601818 -4.9974915437781 5.80808848482353e-07 1.60431884071189e-05\r\n",
        "\"seastar_clc_contig_1006\" 77.8447124150533 -2.01146173192642 0.468218416201358 -4.29599020953798 1.73915258259802e-05 0.000298432523132762\r\n",
        "\"seastar_clc_contig_10064\" 147.578457909919 1.81093710357749 0.683578354090462 2.64920194260252 0.00806821051110654 0.041310905437205\r\n",
        "\"seastar_clc_contig_10065\" 28.5076393455268 2.27188575134493 0.585911374358637 3.87752457243526 0.00010552467251757 0.00131744894528401\r\n"
       ]
      }
     ],
     "prompt_number": 15
    },
    {
     "cell_type": "code",
     "collapsed": false,
     "input": [
      "!sed 's/\"//g' </Users/sr320/Dropbox/Steven/eimd/data/deseq2_sig_results.txt> /Users/sr320/Dropbox/Steven/eimd/data/deseq2_sig_results_a.txt\n",
      "!head /Users/sr320/Dropbox/Steven/eimd/data/deseq2_sig_results_a.txt"
     ],
     "language": "python",
     "metadata": {},
     "outputs": [
      {
       "output_type": "stream",
       "stream": "stdout",
       "text": [
        "baseMean log2FoldChange lfcSE stat pvalue padj\r\n",
        "seastar_clc_contig_10001 136.27718425946 1.49886855266789 0.550947966456816 2.72052651778936 0.00651780439581695 0.0350101864080016\r\n",
        "seastar_clc_contig_10010 8.73784349604224 2.43426494953234 0.717338850139719 3.39346593183711 0.000690141423521562 0.00610587057360923\r\n",
        "seastar_clc_contig_10013 188.603521302622 -1.94923068685006 0.463271107915175 -4.20753777549832 2.58168256856775e-05 0.00041485396609123\r\n",
        "seastar_clc_contig_10045 50.485024106335 2.87706412205861 0.695003049883772 4.13964244119468 3.47847563039607e-05 0.000526018158180456\r\n",
        "seastar_clc_contig_1005 3408.98435663456 -1.66691198866687 0.378947946534594 -4.39878881495589 1.08856689786144e-05 0.000199362344222153\r\n",
        "seastar_clc_contig_10050 276.941589423215 -1.61560402677235 0.323282993601818 -4.9974915437781 5.80808848482353e-07 1.60431884071189e-05\r\n",
        "seastar_clc_contig_1006 77.8447124150533 -2.01146173192642 0.468218416201358 -4.29599020953798 1.73915258259802e-05 0.000298432523132762\r\n",
        "seastar_clc_contig_10064 147.578457909919 1.81093710357749 0.683578354090462 2.64920194260252 0.00806821051110654 0.041310905437205\r\n",
        "seastar_clc_contig_10065 28.5076393455268 2.27188575134493 0.585911374358637 3.87752457243526 0.00010552467251757 0.00131744894528401\r\n"
       ]
      }
     ],
     "prompt_number": 17
    },
    {
     "cell_type": "code",
     "collapsed": false,
     "input": [
      "#removing header\n",
      "!tail -n +2 /Users/sr320/Dropbox/Steven/eimd/data/deseq2_sig_results_a.txt > /Users/sr320/Dropbox/Steven/eimd/data/deseq2_sig_results_b.txt\n",
      "!head /Users/sr320/Dropbox/Steven/eimd/data/deseq2_sig_results_b.txt\n"
     ],
     "language": "python",
     "metadata": {},
     "outputs": [
      {
       "output_type": "stream",
       "stream": "stdout",
       "text": [
        "seastar_clc_contig_10001 136.27718425946 1.49886855266789 0.550947966456816 2.72052651778936 0.00651780439581695 0.0350101864080016\r\n",
        "seastar_clc_contig_10010 8.73784349604224 2.43426494953234 0.717338850139719 3.39346593183711 0.000690141423521562 0.00610587057360923\r\n",
        "seastar_clc_contig_10013 188.603521302622 -1.94923068685006 0.463271107915175 -4.20753777549832 2.58168256856775e-05 0.00041485396609123\r\n",
        "seastar_clc_contig_10045 50.485024106335 2.87706412205861 0.695003049883772 4.13964244119468 3.47847563039607e-05 0.000526018158180456\r\n",
        "seastar_clc_contig_1005 3408.98435663456 -1.66691198866687 0.378947946534594 -4.39878881495589 1.08856689786144e-05 0.000199362344222153\r\n",
        "seastar_clc_contig_10050 276.941589423215 -1.61560402677235 0.323282993601818 -4.9974915437781 5.80808848482353e-07 1.60431884071189e-05\r\n",
        "seastar_clc_contig_1006 77.8447124150533 -2.01146173192642 0.468218416201358 -4.29599020953798 1.73915258259802e-05 0.000298432523132762\r\n",
        "seastar_clc_contig_10064 147.578457909919 1.81093710357749 0.683578354090462 2.64920194260252 0.00806821051110654 0.041310905437205\r\n",
        "seastar_clc_contig_10065 28.5076393455268 2.27188575134493 0.585911374358637 3.87752457243526 0.00010552467251757 0.00131744894528401\r\n",
        "seastar_clc_contig_10074 13.7264378211451 1.57931966078503 0.609122521040588 2.59277831016167 0.0095204116954605 0.0468152722934354\r\n"
       ]
      }
     ],
     "prompt_number": 18
    },
    {
     "cell_type": "code",
     "collapsed": false,
     "input": [
      "!sed 's/seastar/Phel/g' </Users/sr320/Dropbox/Steven/eimd/data/deseq2_sig_results_b.txt> /Users/sr320/Dropbox/Steven/eimd/data/deseq2_sig_results_c.txt\n",
      "!head /Users/sr320/Dropbox/Steven/eimd/data/deseq2_sig_results_c.txt"
     ],
     "language": "python",
     "metadata": {},
     "outputs": [
      {
       "output_type": "stream",
       "stream": "stdout",
       "text": [
        "Phel_clc_contig_10001 136.27718425946 1.49886855266789 0.550947966456816 2.72052651778936 0.00651780439581695 0.0350101864080016\r\n",
        "Phel_clc_contig_10010 8.73784349604224 2.43426494953234 0.717338850139719 3.39346593183711 0.000690141423521562 0.00610587057360923\r\n",
        "Phel_clc_contig_10013 188.603521302622 -1.94923068685006 0.463271107915175 -4.20753777549832 2.58168256856775e-05 0.00041485396609123\r\n",
        "Phel_clc_contig_10045 50.485024106335 2.87706412205861 0.695003049883772 4.13964244119468 3.47847563039607e-05 0.000526018158180456\r\n",
        "Phel_clc_contig_1005 3408.98435663456 -1.66691198866687 0.378947946534594 -4.39878881495589 1.08856689786144e-05 0.000199362344222153\r\n",
        "Phel_clc_contig_10050 276.941589423215 -1.61560402677235 0.323282993601818 -4.9974915437781 5.80808848482353e-07 1.60431884071189e-05\r\n",
        "Phel_clc_contig_1006 77.8447124150533 -2.01146173192642 0.468218416201358 -4.29599020953798 1.73915258259802e-05 0.000298432523132762\r\n",
        "Phel_clc_contig_10064 147.578457909919 1.81093710357749 0.683578354090462 2.64920194260252 0.00806821051110654 0.041310905437205\r\n",
        "Phel_clc_contig_10065 28.5076393455268 2.27188575134493 0.585911374358637 3.87752457243526 0.00010552467251757 0.00131744894528401\r\n",
        "Phel_clc_contig_10074 13.7264378211451 1.57931966078503 0.609122521040588 2.59277831016167 0.0095204116954605 0.0468152722934354\r\n"
       ]
      }
     ],
     "prompt_number": 19
    },
    {
     "cell_type": "markdown",
     "metadata": {},
     "source": [
      "<img src=\"http://eagle.fish.washington.edu/cnidarian/skitch/Run_Query_1992E3DB.png\" alt=\"Run_Query_1992E3DB.png\"/>"
     ]
    },
    {
     "cell_type": "code",
     "collapsed": false,
     "input": [
      "#file downloaded from SQLshare join\n",
      "!head /Users/sr320/Dropbox/Steven/eimd/data/Phel_Deseq_SP.csv"
     ],
     "language": "python",
     "metadata": {},
     "outputs": [
      {
       "output_type": "stream",
       "stream": "stdout",
       "text": [
        "Column1,Column2,Column3,Column4,Column5,Column6,Column7,Column1,Column2,Column3,Column4,Column5,Column6,Column7,Column8,Column9,Column10,Column11,Column12,Column13,Column14\r",
        "\r\n",
        "Phel_clc_contig_10001,136.27718425946,1.49886855266789,0.550947966456816,2.72052651778936,0.00651780439581695,0.0350101864080016,,,,,,,,,,,,,,\r",
        "\r\n",
        "Phel_clc_contig_10010,8.73784349604224,2.43426494953234,0.717338850139719,3.39346593183711,0.000690141423521562,0.00610587057360923,,,,,,,,,,,,,,\r",
        "\r\n",
        "Phel_clc_contig_10013,188.603521302622,-1.94923068685006,0.463271107915175,-4.20753777549832,2.58168256856775E-05,0.00041485396609123,,,,,,,,,,,,,,\r",
        "\r\n",
        "Phel_clc_contig_10045,50.485024106335,2.87706412205861,0.695003049883772,4.13964244119468,3.47847563039607E-05,0.000526018158180456,,,,,,,,,,,,,,\r",
        "\r\n",
        "Phel_clc_contig_1005,3408.98435663456,-1.66691198866687,0.378947946534594,-4.39878881495589,1.08856689786144E-05,0.000199362344222153,,,,,,,,,,,,,,\r",
        "\r\n",
        "Phel_clc_contig_10050,276.941589423215,-1.61560402677235,0.323282993601818,-4.9974915437781,5.80808848482353"
       ]
      },
      {
       "output_type": "stream",
       "stream": "stdout",
       "text": [
        "E-07,1.60431884071189E-05,Phel_clc_contig_10050,sp,Q5R7A2,ALG1_PONAB,52.27,440,196,6,2351,1056,26,459,2E-150,457\r",
        "\r\n",
        "Phel_clc_contig_1006,77.8447124150533,-2.01146173192642,0.468218416201358,-4.29599020953798,1.73915258259802E-05,0.000298432523132762,,,,,,,,,,,,,,\r",
        "\r\n",
        "Phel_clc_contig_10064,147.578457909919,1.81093710357749,0.683578354090462,2.64920194260252,0.00806821051110654,0.041310905437205,,,,,,,,,,,,,,\r",
        "\r\n",
        "Phel_clc_contig_10065,28.5076393455268,2.27188575134493,0.585911374358637,3.87752457243526,0.00010552467251757,0.00131744894528401,,,,,,,,,,,,,,\r",
        "\r\n"
       ]
      }
     ],
     "prompt_number": 21
    },
    {
     "cell_type": "code",
     "collapsed": false,
     "input": [
      "!tr ',' \"\\t\" </Users/sr320/Dropbox/Steven/eimd/data/Phel_Deseq_SP.csv> /Users/sr320/Dropbox/Steven/eimd/data/Phel_Deseq_SP.txt"
     ],
     "language": "python",
     "metadata": {},
     "outputs": [],
     "prompt_number": 25
    },
    {
     "cell_type": "code",
     "collapsed": false,
     "input": [
      "!head /Users/sr320/Dropbox/Steven/eimd/data/Phel_Deseq_SP.txt"
     ],
     "language": "python",
     "metadata": {},
     "outputs": [
      {
       "output_type": "stream",
       "stream": "stdout",
       "text": [
        "Column1\tColumn2\tColumn3\tColumn4\tColumn5\tColumn6\tColumn7\tColumn1\tColumn2\tColumn3\tColumn4\tColumn5\tColumn6\tColumn7\tColumn8\tColumn9\tColumn10\tColumn11\tColumn12\tColumn13\tColumn14\r",
        "\r\n",
        "Phel_clc_contig_10001\t136.27718425946\t1.49886855266789\t0.550947966456816\t2.72052651778936\t0.00651780439581695\t0.0350101864080016\t\t\t\t\t\t\t\t\t\t\t\t\t\t\r",
        "\r\n",
        "Phel_clc_contig_10010\t8.73784349604224\t2.43426494953234\t0.717338850139719\t3.39346593183711\t0.000690141423521562\t0.00610587057360923\t\t\t\t\t\t\t\t\t\t\t\t\t\t\r",
        "\r\n",
        "Phel_clc_contig_10013\t188.603521302622\t-1.94923068685006\t0.463271107915175\t-4.20753777549832\t2.58168256856775E-05\t0.00041485396609123\t\t\t\t\t\t\t\t\t\t\t\t\t\t\r",
        "\r\n",
        "Phel_clc_contig_10045\t50.485024106335\t2.87706412205861\t0.695003049883772\t4.13964244119468\t3.47847563039607E-05\t0.000526018158180456\t\t\t\t\t\t\t\t\t\t\t\t\t\t\r",
        "\r\n",
        "Phel_clc_contig_1005\t3408.98435663456\t-1.66691198866687\t0.378947946534594\t-4.39878881495589\t1.08856689786144E-05\t0.000199362344222153\t\t\t\t\t\t\t\t\t\t\t\t\t\t\r",
        "\r\n",
        "Phel_clc_contig_10050\t276.941589423215\t-1.61560402677235\t0.323282993601818\t-4.9974915437781\t5.80808848482353E-07\t1.60431884071189E-05\tPhel_clc_contig_10050\tsp\tQ5R7A2\tALG1_PONAB\t52.27\t440\t196\t6\t2351\t1056\t26\t459\t2E-150\t457\r",
        "\r\n",
        "Phel_clc_contig_1006\t77.8447124150533\t-2.01146173192642\t0.468218416201358\t-4.29599020953798\t1.73915258259802E-05\t0.000298432523132762\t\t\t\t\t\t\t\t\t\t\t\t\t\t\r",
        "\r\n",
        "Phel_clc_contig_10064\t147.578457909919\t1.81093710357749\t0.683578354090462\t2.64920194260252\t0.00806821051110654\t0.041310905437205\t\t\t\t\t\t\t\t\t\t\t\t\t\t\r",
        "\r\n",
        "Phel_clc_contig_10065\t28.5076393455268\t2.27188575134493\t0.585911374358637\t3.87752457243526\t0.00010552467251757\t0.00131744894528401\t\t\t\t\t\t\t\t\t\t\t\t\t\t\r",
        "\r\n"
       ]
      }
     ],
     "prompt_number": 27
    },
    {
     "cell_type": "code",
     "collapsed": false,
     "input": [
      "!awk '{print $10}' /Users/sr320/Dropbox/Steven/eimd/data/Phel_Deseq_SP.txt | pbcopy"
     ],
     "language": "python",
     "metadata": {},
     "outputs": [],
     "prompt_number": 6
    },
    {
     "cell_type": "code",
     "collapsed": false,
     "input": [
      "!head /Users/sr320/Dropbox/Steven/eimd/data/Phel_clc_blastx_uniprot_sprot_sqlready.tab"
     ],
     "language": "python",
     "metadata": {},
     "outputs": [
      {
       "output_type": "stream",
       "stream": "stdout",
       "text": [
        "Phel_clc_contig_4\tsp\tP25001\tCOX1_PISOC\t88.39\t517\t48\t1\t7061\t5547\t1\t517\t0.0\t  749\r\n",
        "Phel_clc_contig_7\tsp\tQ33818\tCYB_ASTPE\t79.94\t329\t66\t0\t993\t7\t51\t379\t9e-168\t  479\r\n",
        "Phel_clc_contig_8\tsp\tP68037\tUB2L3_MOUSE\t76.97\t152\t35\t0\t4862\t4407\t1\t152\t7e-62\t  214\r\n",
        "Phel_clc_contig_9\tsp\tQ0MVN8\tQOR_PIG\t45.61\t239\t129\t1\t796\t80\t90\t327\t5e-63\t  210\r\n",
        "Phel_clc_contig_17\tsp\tQ6DGL8\tRT15_DANRE\t35.00\t180\t107\t3\t1177\t638\t61\t230\t5e-22\t99.8\r\n",
        "Phel_clc_contig_18\tsp\tP96202\tPPSC_MYCTU\t30.81\t714\t438\t15\t5407\t3386\t1414\t2111\t6e-76\t  286\r\n",
        "Phel_clc_contig_20\tsp\tP46058\tEDSP_CYNPY\t31.03\t348\t218\t8\t1731\t703\t4\t334\t5e-38\t  148\r\n",
        "Phel_clc_contig_22\tsp\tQ96LI5\tCNO6L_HUMAN\t60.78\t357\t128\t5\t1887\t832\t186\t535\t2e-149\t  450\r\n",
        "Phel_clc_contig_24\tsp\tP63245\tGBLP_RAT\t80.77\t312\t60\t0\t1032\t97\t1\t312\t0.0\t  540\r\n",
        "Phel_clc_contig_25\tsp\tQ9QYP1\tLRP4_RAT\t32.74\t623\t393\t7\t1816\t5\t393\t1008\t1e-99\t  339\r\n"
       ]
      }
     ],
     "prompt_number": 29
    },
    {
     "cell_type": "code",
     "collapsed": false,
     "input": [
      "!awk '{print $3}' /Users/sr320/Dropbox/Steven/eimd/data/blast_output/Phel_clc_blastx_uniprot_sprot_sqlready.tab | pbcopy "
     ],
     "language": "python",
     "metadata": {},
     "outputs": [],
     "prompt_number": 7
    },
    {
     "cell_type": "markdown",
     "metadata": {},
     "source": [
      "Add gene list and background to DAVID"
     ]
    },
    {
     "cell_type": "markdown",
     "metadata": {},
     "source": [
      "<img src=\"http://eagle.fish.washington.edu/cnidarian/skitch/DAVID__Functional_Annotation_Tools_1992E7DC.png\" alt=\"DAVID__Functional_Annotation_Tools_1992E7DC.png\"/>"
     ]
    },
    {
     "cell_type": "markdown",
     "metadata": {},
     "source": [
      "<img src=\"http://eagle.fish.washington.edu/cnidarian/skitch/DAVID__Functional_Annotation_Result_Summary_1992E939.png\" alt=\"DAVID__Functional_Annotation_Result_Summary_1992E939.png\"/>"
     ]
    },
    {
     "cell_type": "markdown",
     "metadata": {},
     "source": [
      "<img src=\"http://eagle.fish.washington.edu/cnidarian/skitch/DAVID__Database_for_Annotation__Visualization__and_Integrated_Discovery__Laboratory_of_Immunopathogenesis_and_Bioinformatics__LIB___National_Institute_of_Allergies_and_Infectious_Diseases__NIAID___Science_Applications_International_Corporat_1992E9AE.png\" alt=\"DAVID__Database_for_Annotation__Visualization__and_Integrated_Discovery__Laboratory_of_Immunopathogenesis_and_Bioinformatics__LIB___National_Institute_of_Allergies_and_Infectious_Diseases__NIAID___Science_Applications_International_Corporat_1992E9AE.png\"/>"
     ]
    },
    {
     "cell_type": "code",
     "collapsed": false,
     "input": [
      "pwd"
     ],
     "language": "python",
     "metadata": {},
     "outputs": [
      {
       "metadata": {},
       "output_type": "pyout",
       "prompt_number": 33,
       "text": [
        "u'/Users/sr320/Dropbox/Steven/eimd/ipynbs'"
       ]
      }
     ],
     "prompt_number": 33
    },
    {
     "cell_type": "code",
     "collapsed": false,
     "input": [
      "cd ..\n"
     ],
     "language": "python",
     "metadata": {},
     "outputs": [
      {
       "output_type": "stream",
       "stream": "stdout",
       "text": [
        "/Users/sr320/Dropbox/Steven/eimd\n"
       ]
      }
     ],
     "prompt_number": 34
    },
    {
     "cell_type": "code",
     "collapsed": false,
     "input": [
      "cd data\n"
     ],
     "language": "python",
     "metadata": {},
     "outputs": [
      {
       "output_type": "stream",
       "stream": "stdout",
       "text": [
        "/Users/sr320/Dropbox/Steven/eimd/data\n"
       ]
      }
     ],
     "prompt_number": 35
    },
    {
     "cell_type": "code",
     "collapsed": false,
     "input": [
      "!curl -O http://david.abcc.ncifcrf.gov/data/download/chart_EA61531C2B4A1407365629460.txt"
     ],
     "language": "python",
     "metadata": {},
     "outputs": [
      {
       "output_type": "stream",
       "stream": "stdout",
       "text": [
        "  % Total    % Received % Xferd  Average Speed   Time    Time     Time  Current\r\n",
        "                                 Dload  Upload   Total   Spent    Left  Speed\r\n",
        "\r",
        "  0     0    0     0    0     0      0      0 --:--:-- --:--:-- --:--:--     0"
       ]
      },
      {
       "output_type": "stream",
       "stream": "stdout",
       "text": [
        "\r",
        "  6 75765    6  5172    0     0  16501      0  0:00:04 --:--:--  0:00:04 22389"
       ]
      },
      {
       "output_type": "stream",
       "stream": "stdout",
       "text": [
        "\r",
        "100 75765  100 75765    0     0   119k      0 --:--:-- --:--:-- --:--:--  137k\r\n"
       ]
      }
     ],
     "prompt_number": 36
    },
    {
     "cell_type": "code",
     "collapsed": false,
     "input": [
      "!head chart_EA61531C2B4A1407365629460.txt"
     ],
     "language": "python",
     "metadata": {},
     "outputs": [
      {
       "output_type": "stream",
       "stream": "stdout",
       "text": [
        "Category\tTerm\tCount\t%\tPValue\tGenes\tList Total\tPop Hits\tPop Total\tFold Enrichment\tBonferroni\tBenjamini\tFDR\r\n",
        "GOTERM_BP_FAT\tGO:0002253~activation of immune response\t12\t1.3157894736842104\t2.217491937683056E-7\tQ3SYW2, Q9WUN2, P10809, P51617, Q15485, Q00685, O70497, Q689D1, Q29041, P01024, Q9UDY8, Q4JIM4\t700\t16\t5680\t6.085714285714285\t5.83473655758171E-4\t5.83473655758171E-4\t3.9347673449485754E-4\r\n",
        "GOTERM_BP_FAT\tGO:0045087~innate immune response\t15\t1.644736842105263\t8.977598174254794E-6\tQ9UGM3, Q9UHD2, Q15485, Q00685, O70497, Q29041, Q689D1, Q9UDY8, Q3SYW2, Q9WUN2, O75594, O95786, P08953, P01024, P58682\t700\t32\t5680\t3.8035714285714284\t0.02335216213493574\t0.011745054216744988\t0.015928883512450476\r\n",
        "GOTERM_BP_FAT\tGO:0006952~defense response\t26\t2.850877192982456\t1.1530485350502172E-5\tQ9UGM3, P26262, Q9UHD2, P54319, P09917, Q2HJ57, Q00685, O43196, Q8IWY4, Q29041, Q9UDY8, Q3SYW2, O75594, P09960, Q9H0E2, P01024, P42768, Q15485, O70497, Q689D1, Q9Z2F6, Q6P4R8, Q9WUN2, O95786, P08953, P58682\t700\t83\t5680\t2.5418244406196213\t0.029892522822571266\t0.010065141456729099\t0.020458014382318535\r\n",
        "GOTERM_BP_FAT\tGO:0050778~positive regulation of immune response\t13\t1.425438596491228\t1.2422483647288984E-5\tQ15485, O70497, Q00685, Q29041, Q689D1, Q9UDY8, Q3SYW2, P10809, Q9WUN2, P51617, P01024, P58682, Q4JIM4\t700\t25\t5680\t4.219428571428572\t0.032167438228759115\t0.008140728344190884\t0.022040481693264002\r\n",
        "GOTERM_BP_FAT\tGO:0031396~regulation of protein ubiquitination\t12\t1.3157894736842104\t1.7725334295725325E-5\tQ8WU17, O43242, P49615, P25788, P28072, P60901, Q6PEC4, P55036, Q5U2S1, Q9BZE4, O75832, O00232\t700\t22\t5680\t4.425974025974027\t0.04558194749011102\t0.009287302775757178\t0.03144762139538626\r\n",
        "GOTERM_BP_FAT\tGO:0006955~immune response\t25\t2.7412280701754383\t3.652527038790537E-5\tQ9UGM3, Q9UHD2, Q00685, Q29041, P40792, Q9UDY8, Q9UH65, Q3SYW2, O75594, Q9H0E2, P01024, Q9BUD6, P42768, Q15485, O70497, Q689D1, Q9Z2F6, P09215, Q9WUN2, P10809, O95786, P08953, Q2I6J1, P58682, Q4JIM4\t700\t83\t5680\t2.4440619621342514\t0.0916597695022422\t0.01589503043170848\t0.06479156276466558\r\n",
        "GOTERM_BP_FAT\tGO:0051248~negative regulation of protein metabolic process\t16\t1.7543859649122806\t3.9906884383559516E-5\tP25788, O43242, P60901, P70541, P21333, Q9BZE4, P09215, P49615, P28072, P27169, P55036, Q4JIM4, O75832, P48809, Q29611, O00232\t700\t40\t5680\t3.2457142857142856\t0.0997088028147719\t0.01489326959340398\t0.07078814698031621\r\n",
        "GOTERM_BP_FAT\tGO:0002684~positive regulation of immune system process\t15\t1.644736842105263\t6.431474055384353E-5\tQ15485, Q00685, O70497, Q29041, Q689D1, Q9UDY8, Q29RN6, Q3SYW2, P10809, Q9WUN2, P51617, A7MB54, P01024, P58682, Q4JIM4\t700\t37\t5680\t3.2895752895752897\t0.15572908018684184\t0.02093792322045096\t0.11406029928391348\r\n",
        "GOTERM_BP_FAT\tGO:0031400~negative regulation of protein modification process\t11\t1.2061403508771928\t7.372317770702441E-5\tP09215, O43242, P49615, P25788, P28072, P60901, P55036, Q9BZE4, Q4JIM4, O75832, O00232\t700\t21\t5680\t4.250340136054422\t0.1763804416139726\t0.021329957518478992\t0.13073558887951586\r\n"
       ]
      }
     ],
     "prompt_number": 70
    },
    {
     "cell_type": "code",
     "collapsed": false,
     "input": [
      "!wc -l chart_EA61531C2B4A1407365629460.txt"
     ],
     "language": "python",
     "metadata": {},
     "outputs": [
      {
       "output_type": "stream",
       "stream": "stdout",
       "text": [
        "     261 chart_EA61531C2B4A1407365629460.txt\r\n"
       ]
      }
     ],
     "prompt_number": 132
    },
    {
     "cell_type": "heading",
     "level": 1,
     "metadata": {},
     "source": [
      "FRIDAY FRIDAY"
     ]
    },
    {
     "cell_type": "markdown",
     "metadata": {},
     "source": [
      "<img src=\"http://eagle.fish.washington.edu/cnidarian/skitch/DAVID__Functional_Annotation_Tools_19957533.png\" alt=\"DAVID__Functional_Annotation_Tools_19957533.png\"/>"
     ]
    },
    {
     "cell_type": "markdown",
     "metadata": {},
     "source": [
      "<img src=\"http://eagle.fish.washington.edu/cnidarian/skitch/DAVID__Database_for_Annotation__Visualization__and_Integrated_Discovery__Laboratory_of_Immunopathogenesis_and_Bioinformatics__LIB___National_Institute_of_Allergies_and_Infectious_Diseases__NIAID___Science_Applications_International_Corporat_1995776F.png\" alt=\"DAVID__Database_for_Annotation__Visualization__and_Integrated_Discovery__Laboratory_of_Immunopathogenesis_and_Bioinformatics__LIB___National_Institute_of_Allergies_and_Infectious_Diseases__NIAID___Science_Applications_International_Corporat_1995776F.png\"/>"
     ]
    },
    {
     "cell_type": "markdown",
     "metadata": {},
     "source": [
      "<img src=\"http://eagle.fish.washington.edu/cnidarian/skitch/Help_19957CAF.png\" alt=\"Help_19957CAF.png\"/>"
     ]
    },
    {
     "cell_type": "markdown",
     "metadata": {},
     "source": [
      "---\n",
      "<img src=\"http://eagle.fish.washington.edu/cnidarian/skitch/DAVID__Database_for_Annotation__Visualization__and_Integrated_Discovery__Laboratory_of_Immunopathogenesis_and_Bioinformatics__LIB___National_Institute_of_Allergies_and_Infectious_Diseases__NIAID___Science_Applications_International_Corporat_1995799C.png\" alt=\"DAVID__Database_for_Annotation__Visualization__and_Integrated_Discovery__Laboratory_of_Immunopathogenesis_and_Bioinformatics__LIB___National_Institute_of_Allergies_and_Infectious_Diseases__NIAID___Science_Applications_International_Corporat_1995799C.png\"/>"
     ]
    },
    {
     "cell_type": "markdown",
     "metadata": {},
     "source": [
      "<img src=\"http://eagle.fish.washington.edu/cnidarian/skitch/DAVID__Database_for_Annotation__Visualization__and_Integrated_Discovery__Laboratory_of_Immunopathogenesis_and_Bioinformatics__LIB___National_Institute_of_Allergies_and_Infectious_Diseases__NIAID___Science_Applications_International_Corporat_19957B66.png\" alt=\"DAVID__Database_for_Annotation__Visualization__and_Integrated_Discovery__Laboratory_of_Immunopathogenesis_and_Bioinformatics__LIB___National_Institute_of_Allergies_and_Infectious_Diseases__NIAID___Science_Applications_International_Corporat_19957B66.png\"/>"
     ]
    },
    {
     "cell_type": "markdown",
     "metadata": {},
     "source": [
      "<img src=\"http://eagle.fish.washington.edu/cnidarian/skitch/DAVID__Database_for_Annotation__Visualization__and_Integrated_Discovery__Laboratory_of_Immunopathogenesis_and_Bioinformatics__LIB___National_Institute_of_Allergies_and_Infectious_Diseases__NIAID___Science_Applications_International_Corporat_19957BA8.png\" alt=\"DAVID__Database_for_Annotation__Visualization__and_Integrated_Discovery__Laboratory_of_Immunopathogenesis_and_Bioinformatics__LIB___National_Institute_of_Allergies_and_Infectious_Diseases__NIAID___Science_Applications_International_Corporat_19957BA8.png\"/>"
     ]
    },
    {
     "cell_type": "markdown",
     "metadata": {},
     "source": [
      "<img src=\"http://eagle.fish.washington.edu/cnidarian/skitch/DAVID__Database_for_Annotation__Visualization__and_Integrated_Discovery__Laboratory_of_Immunopathogenesis_and_Bioinformatics__LIB___National_Institute_of_Allergies_and_Infectious_Diseases__NIAID___Science_Applications_International_Corporat_19957C24.png\" alt=\"DAVID__Database_for_Annotation__Visualization__and_Integrated_Discovery__Laboratory_of_Immunopathogenesis_and_Bioinformatics__LIB___National_Institute_of_Allergies_and_Infectious_Diseases__NIAID___Science_Applications_International_Corporat_19957C24.png\"/>"
     ]
    },
    {
     "cell_type": "markdown",
     "metadata": {},
     "source": [
      "<img src=\"http://eagle.fish.washington.edu/cnidarian/skitch/DAVID__Database_for_Annotation__Visualization__and_Integrated_Discovery__Laboratory_of_Immunopathogenesis_and_Bioinformatics__LIB___National_Institute_of_Allergies_and_Infectious_Diseases__NIAID___Science_Applications_International_Corporat_19957D2A.png\" alt=\"DAVID__Database_for_Annotation__Visualization__and_Integrated_Discovery__Laboratory_of_Immunopathogenesis_and_Bioinformatics__LIB___National_Institute_of_Allergies_and_Infectious_Diseases__NIAID___Science_Applications_International_Corporat_19957D2A.png\"/>"
     ]
    },
    {
     "cell_type": "markdown",
     "metadata": {},
     "source": [
      "<img src=\"http://eagle.fish.washington.edu/cnidarian/skitch/DAVID__Database_for_Annotation__Visualization__and_Integrated_Discovery__Laboratory_of_Immunopathogenesis_and_Bioinformatics__LIB___National_Institute_of_Allergies_and_Infectious_Diseases__NIAID___Science_Applications_International_Corporat_19957D08.png\" alt=\"DAVID__Database_for_Annotation__Visualization__and_Integrated_Discovery__Laboratory_of_Immunopathogenesis_and_Bioinformatics__LIB___National_Institute_of_Allergies_and_Infectious_Diseases__NIAID___Science_Applications_International_Corporat_19957D08.png\"/>"
     ]
    },
    {
     "cell_type": "markdown",
     "metadata": {},
     "source": [
      "<img src=\"http://eagle.fish.washington.edu/cnidarian/skitch/DAVID__Database_for_Annotation__Visualization__and_Integrated_Discovery__Laboratory_of_Immunopathogenesis_and_Bioinformatics__LIB___National_Institute_of_Allergies_and_Infectious_Diseases__NIAID___Science_Applications_International_Corporat_19957EB2.png\" alt=\"DAVID__Database_for_Annotation__Visualization__and_Integrated_Discovery__Laboratory_of_Immunopathogenesis_and_Bioinformatics__LIB___National_Institute_of_Allergies_and_Infectious_Diseases__NIAID___Science_Applications_International_Corporat_19957EB2.png\"/>"
     ]
    },
    {
     "cell_type": "markdown",
     "metadata": {},
     "source": [
      "<img src=\"http://eagle.fish.washington.edu/cnidarian/skitch/DAVID__Database_for_Annotation__Visualization__and_Integrated_Discovery__Laboratory_of_Immunopathogenesis_and_Bioinformatics__LIB___National_Institute_of_Allergies_and_Infectious_Diseases__NIAID___Science_Applications_International_Corporat_19957F1E.png\" alt=\"DAVID__Database_for_Annotation__Visualization__and_Integrated_Discovery__Laboratory_of_Immunopathogenesis_and_Bioinformatics__LIB___National_Institute_of_Allergies_and_Infectious_Diseases__NIAID___Science_Applications_International_Corporat_19957F1E.png\"/>"
     ]
    },
    {
     "cell_type": "markdown",
     "metadata": {},
     "source": [
      "---\n",
      "<img src=\"http://eagle.fish.washington.edu/cnidarian/skitch/DAVID__Functional_Annotation_Result_Summary_19958180.png\" alt=\"DAVID__Functional_Annotation_Result_Summary_19958180.png\"/>"
     ]
    },
    {
     "cell_type": "markdown",
     "metadata": {},
     "source": [
      "<img src=\"http://eagle.fish.washington.edu/cnidarian/skitch/DAVID__Database_for_Annotation__Visualization__and_Integrated_Discovery__Laboratory_of_Immunopathogenesis_and_Bioinformatics__LIB___National_Institute_of_Allergies_and_Infectious_Diseases__NIAID___Science_Applications_International_Corporat_199581A4.png\" alt=\"DAVID__Database_for_Annotation__Visualization__and_Integrated_Discovery__Laboratory_of_Immunopathogenesis_and_Bioinformatics__LIB___National_Institute_of_Allergies_and_Infectious_Diseases__NIAID___Science_Applications_International_Corporat_199581A4.png\"/>"
     ]
    },
    {
     "cell_type": "code",
     "collapsed": false,
     "input": [
      "pwd"
     ],
     "language": "python",
     "metadata": {},
     "outputs": [
      {
       "metadata": {},
       "output_type": "pyout",
       "prompt_number": 11,
       "text": [
        "u'/Users/sr320/Dropbox/Steven/eimd/data'"
       ]
      }
     ],
     "prompt_number": 11
    },
    {
     "cell_type": "code",
     "collapsed": false,
     "input": [
      "!wget http://david.abcc.ncifcrf.gov/data/download/chart_9BC7851772AA1407535638846.txt"
     ],
     "language": "python",
     "metadata": {},
     "outputs": [
      {
       "output_type": "stream",
       "stream": "stdout",
       "text": [
        "--2014-08-08 15:08:31--  http://david.abcc.ncifcrf.gov/data/download/chart_9BC7851772AA1407535638846.txt\r\n",
        "Resolving david.abcc.ncifcrf.gov... "
       ]
      },
      {
       "output_type": "stream",
       "stream": "stdout",
       "text": [
        "129.43.1.164\r\n",
        "Connecting to david.abcc.ncifcrf.gov|129.43.1.164|:80... "
       ]
      },
      {
       "output_type": "stream",
       "stream": "stdout",
       "text": [
        "connected.\r\n",
        "HTTP request sent, awaiting response... "
       ]
      },
      {
       "output_type": "stream",
       "stream": "stdout",
       "text": [
        "200 OK\r\n",
        "Length: 16944 (17K) [text/plain]\r\n",
        "Saving to: `chart_9BC7851772AA1407535638846.txt'\r\n",
        "\r\n",
        "\r",
        " 0% [                                       ] 0           --.-K/s              "
       ]
      },
      {
       "output_type": "stream",
       "stream": "stdout",
       "text": [
        "\r",
        "100%[======================================>] 16,944       105K/s   in 0.2s    \r\n",
        "\r\n",
        "2014-08-08 15:08:32 (105 KB/s) - `chart_9BC7851772AA1407535638846.txt' saved [16944/16944]\r\n",
        "\r\n"
       ]
      }
     ],
     "prompt_number": 12
    },
    {
     "cell_type": "markdown",
     "metadata": {},
     "source": [
      "<img src=\"http://eagle.fish.washington.edu/cnidarian/skitch/DAVID__Functional_Annotation_Result_Summary_19958380.png\" alt=\"DAVID__Functional_Annotation_Result_Summary_19958380.png\"/>"
     ]
    },
    {
     "cell_type": "markdown",
     "metadata": {},
     "source": [
      "<img src=\"http://eagle.fish.washington.edu/cnidarian/skitch/DAVID__Database_for_Annotation__Visualization__and_Integrated_Discovery__Laboratory_of_Immunopathogenesis_and_Bioinformatics__LIB___National_Institute_of_Allergies_and_Infectious_Diseases__NIAID___Science_Applications_International_Corporat_199583A3.png\" alt=\"DAVID__Database_for_Annotation__Visualization__and_Integrated_Discovery__Laboratory_of_Immunopathogenesis_and_Bioinformatics__LIB___National_Institute_of_Allergies_and_Infectious_Diseases__NIAID___Science_Applications_International_Corporat_199583A3.png\"/>"
     ]
    },
    {
     "cell_type": "code",
     "collapsed": false,
     "input": [
      "!wget http://david.abcc.ncifcrf.gov/data/download/chart_9BC7851772AA1407536148549.txt"
     ],
     "language": "python",
     "metadata": {},
     "outputs": [
      {
       "output_type": "stream",
       "stream": "stdout",
       "text": [
        "--2014-08-08 15:16:34--  http://david.abcc.ncifcrf.gov/data/download/chart_9BC7851772AA1407536148549.txt\r\n",
        "Resolving david.abcc.ncifcrf.gov... "
       ]
      },
      {
       "output_type": "stream",
       "stream": "stdout",
       "text": [
        "129.43.1.164\r\n",
        "Connecting to david.abcc.ncifcrf.gov|129.43.1.164|:80... "
       ]
      },
      {
       "output_type": "stream",
       "stream": "stdout",
       "text": [
        "connected.\r\n",
        "HTTP request sent, awaiting response... "
       ]
      },
      {
       "output_type": "stream",
       "stream": "stdout",
       "text": [
        "200 OK\r\n",
        "Length: 1844 (1.8K) [text/plain]\r\n",
        "Saving to: `chart_9BC7851772AA1407536148549.txt'\r\n",
        "\r\n",
        "\r",
        " 0% [                                       ] 0           --.-K/s              \r",
        "100%[======================================>] 1,844       --.-K/s   in 0s      \r\n",
        "\r\n",
        "2014-08-08 15:16:35 (87.9 MB/s) - `chart_9BC7851772AA1407536148549.txt' saved [1844/1844]\r\n",
        "\r\n"
       ]
      }
     ],
     "prompt_number": 13
    },
    {
     "cell_type": "markdown",
     "metadata": {},
     "source": [
      "<img src=\"http://eagle.fish.washington.edu/cnidarian/skitch/DAVID__Functional_Annotation_Result_Summary_19958417.png\" alt=\"DAVID__Functional_Annotation_Result_Summary_19958417.png\"/>"
     ]
    },
    {
     "cell_type": "markdown",
     "metadata": {},
     "source": [
      "<img src=\"http://eagle.fish.washington.edu/cnidarian/skitch/DAVID__Database_for_Annotation__Visualization__and_Integrated_Discovery__Laboratory_of_Immunopathogenesis_and_Bioinformatics__LIB___National_Institute_of_Allergies_and_Infectious_Diseases__NIAID___Science_Applications_International_Corporat_19958439.png\" alt=\"DAVID__Database_for_Annotation__Visualization__and_Integrated_Discovery__Laboratory_of_Immunopathogenesis_and_Bioinformatics__LIB___National_Institute_of_Allergies_and_Infectious_Diseases__NIAID___Science_Applications_International_Corporat_19958439.png\"/>"
     ]
    },
    {
     "cell_type": "code",
     "collapsed": false,
     "input": [
      "!wget http://david.abcc.ncifcrf.gov/data/download/chart_9BC7851772AA1407536297603.txt"
     ],
     "language": "python",
     "metadata": {},
     "outputs": [
      {
       "output_type": "stream",
       "stream": "stdout",
       "text": [
        "--2014-08-08 15:18:59--  http://david.abcc.ncifcrf.gov/data/download/chart_9BC7851772AA1407536297603.txt\r\n",
        "Resolving david.abcc.ncifcrf.gov... "
       ]
      },
      {
       "output_type": "stream",
       "stream": "stdout",
       "text": [
        "129.43.1.164\r\n",
        "Connecting to david.abcc.ncifcrf.gov|129.43.1.164|:80... "
       ]
      },
      {
       "output_type": "stream",
       "stream": "stdout",
       "text": [
        "connected.\r\n",
        "HTTP request sent, awaiting response... "
       ]
      },
      {
       "output_type": "stream",
       "stream": "stdout",
       "text": [
        "200 OK\r\n",
        "Length: 3943 (3.9K) [text/plain]\r\n",
        "Saving to: `chart_9BC7851772AA1407536297603.txt'\r\n",
        "\r\n",
        "\r",
        " 0% [                                       ] 0           --.-K/s              "
       ]
      },
      {
       "output_type": "stream",
       "stream": "stdout",
       "text": [
        "\r",
        "100%[======================================>] 3,943       --.-K/s   in 0.07s   \r\n",
        "\r\n",
        "2014-08-08 15:18:59 (52.8 KB/s) - `chart_9BC7851772AA1407536297603.txt' saved [3943/3943]\r\n",
        "\r\n"
       ]
      }
     ],
     "prompt_number": 15
    },
    {
     "cell_type": "heading",
     "level": 3,
     "metadata": {},
     "source": [
      "Kegg"
     ]
    },
    {
     "cell_type": "markdown",
     "metadata": {},
     "source": [
      "<img src=\"http://eagle.fish.washington.edu/cnidarian/skitch/DAVID__Database_for_Annotation__Visualization__and_Integrated_Discovery__Laboratory_of_Immunopathogenesis_and_Bioinformatics__LIB___National_Institute_of_Allergies_and_Infectious_Diseases__NIAID___Science_Applications_International_Corporat_19958660.png\" alt=\"DAVID__Database_for_Annotation__Visualization__and_Integrated_Discovery__Laboratory_of_Immunopathogenesis_and_Bioinformatics__LIB___National_Institute_of_Allergies_and_Infectious_Diseases__NIAID___Science_Applications_International_Corporat_19958660.png\"/>"
     ]
    },
    {
     "cell_type": "code",
     "collapsed": false,
     "input": [
      "!curl -O http://david.abcc.ncifcrf.gov/data/download/chart_9BC7851772AA1407536827905.txt"
     ],
     "language": "python",
     "metadata": {},
     "outputs": [
      {
       "output_type": "stream",
       "stream": "stdout",
       "text": [
        "  % Total    % Received % Xferd  Average Speed   Time    Time     Time  Current\r\n",
        "                                 Dload  Upload   Total   Spent    Left  Speed\r\n",
        "\r",
        "  0     0    0     0    0     0      0      0 --:--:-- --:--:-- --:--:--     0"
       ]
      },
      {
       "output_type": "stream",
       "stream": "stdout",
       "text": [
        "\r",
        " 41  2702   41  1130    0     0   1774      0  0:00:01 --:--:--  0:00:01  7197\r",
        "100  2702  100  2702    0     0   4239      0 --:--:-- --:--:-- --:--:-- 17101\r\n"
       ]
      }
     ],
     "prompt_number": 16
    },
    {
     "cell_type": "markdown",
     "metadata": {},
     "source": [
      "<img src=\"http://eagle.fish.washington.edu/cnidarian/skitch/Pathway_199586B4.png\" alt=\"Pathway_199586B4.png\"/>"
     ]
    },
    {
     "cell_type": "markdown",
     "metadata": {},
     "source": [
      "<img src=\"http://eagle.fish.washington.edu/cnidarian/skitch/Pathway_19958AF9.png\" alt=\"Pathway_19958AF9.png\"/>"
     ]
    },
    {
     "cell_type": "markdown",
     "metadata": {},
     "source": [
      "---\n",
      "<img src=\"http://eagle.fish.washington.edu/cnidarian/skitch/Pathway_19958BFB.png\" alt=\"Pathway_19958BFB.png\"/>"
     ]
    },
    {
     "cell_type": "markdown",
     "metadata": {},
     "source": [
      "---\n",
      "<img src=\"http://eagle.fish.washington.edu/cnidarian/skitch/Pathway_19958C38.png\" alt=\"Pathway_19958C38.png\"/>"
     ]
    },
    {
     "cell_type": "markdown",
     "metadata": {},
     "source": [
      "---\n",
      "<img src=\"http://eagle.fish.washington.edu/cnidarian/skitch/Pathway_19958C75.png\" alt=\"Pathway_19958C75.png\"/>"
     ]
    },
    {
     "cell_type": "markdown",
     "metadata": {},
     "source": [
      "---\n",
      "<img src=\"http://eagle.fish.washington.edu/cnidarian/skitch/Pathway_19958D06.png\" alt=\"Pathway_19958D06.png\"/>"
     ]
    },
    {
     "cell_type": "markdown",
     "metadata": {},
     "source": [
      "<img src=\"http://eagle.fish.washington.edu/cnidarian/skitch/Pathway_19958D46.png\" alt=\"Pathway_19958D46.png\"/>"
     ]
    },
    {
     "cell_type": "heading",
     "level": 2,
     "metadata": {},
     "source": [
      "Biocarta"
     ]
    },
    {
     "cell_type": "markdown",
     "metadata": {},
     "source": [
      "<img src=\"http://eagle.fish.washington.edu/cnidarian/skitch/DAVID__Database_for_Annotation__Visualization__and_Integrated_Discovery__Laboratory_of_Immunopathogenesis_and_Bioinformatics__LIB___National_Institute_of_Allergies_and_Infectious_Diseases__NIAID___Science_Applications_International_Corporat_19958F18.png\" alt=\"DAVID__Database_for_Annotation__Visualization__and_Integrated_Discovery__Laboratory_of_Immunopathogenesis_and_Bioinformatics__LIB___National_Institute_of_Allergies_and_Infectious_Diseases__NIAID___Science_Applications_International_Corporat_19958F18.png\"/>"
     ]
    },
    {
     "cell_type": "code",
     "collapsed": false,
     "input": [
      "!curl -O http://david.abcc.ncifcrf.gov/data/download/chart_9BC7851772AA1407538680797.txt"
     ],
     "language": "python",
     "metadata": {},
     "outputs": [
      {
       "output_type": "stream",
       "stream": "stdout",
       "text": [
        "  % Total    % Received % Xferd  Average Speed   Time    Time     Time  Current\r\n",
        "                                 Dload  Upload   Total   Spent    Left  Speed\r\n",
        "\r",
        "  0     0    0     0    0     0      0      0 --:--:-- --:--:-- --:--:--     0"
       ]
      },
      {
       "output_type": "stream",
       "stream": "stdout",
       "text": [
        "\r",
        "100  1660  100  1660    0     0   2444      0 --:--:-- --:--:-- --:--:-- 10641\r\n"
       ]
      }
     ],
     "prompt_number": 20
    },
    {
     "cell_type": "markdown",
     "metadata": {},
     "source": [
      "<img src=\"http://eagle.fish.washington.edu/cnidarian/skitch/Pathway_19958FA0.png\" alt=\"Pathway_19958FA0.png\"/>"
     ]
    },
    {
     "cell_type": "markdown",
     "metadata": {},
     "source": [
      "<img src=\"http://eagle.fish.washington.edu/cnidarian/skitch/Pathway_19958FD7.png\" alt=\"Pathway_19958FD7.png\"/>"
     ]
    },
    {
     "cell_type": "markdown",
     "metadata": {},
     "source": [
      "<img src=\"http://eagle.fish.washington.edu/cnidarian/skitch/Pathway_19959006.png\" alt=\"Pathway_19959006.png\"/>"
     ]
    },
    {
     "cell_type": "markdown",
     "metadata": {},
     "source": [
      "<img src=\"http://eagle.fish.washington.edu/cnidarian/skitch/DAVID__Database_for_Annotation__Visualization__and_Integrated_Discovery__Laboratory_of_Immunopathogenesis_and_Bioinformatics__LIB___National_Institute_of_Allergies_and_Infectious_Diseases__NIAID___Science_Applications_International_Corporat_19959167.png\" alt=\"DAVID__Database_for_Annotation__Visualization__and_Integrated_Discovery__Laboratory_of_Immunopathogenesis_and_Bioinformatics__LIB___National_Institute_of_Allergies_and_Infectious_Diseases__NIAID___Science_Applications_International_Corporat_19959167.png\"/>"
     ]
    },
    {
     "cell_type": "code",
     "collapsed": false,
     "input": [
      "!curl -O http://david.abcc.ncifcrf.gov/data/download/chart_9BC7851772AA1407539667252.txt"
     ],
     "language": "python",
     "metadata": {},
     "outputs": [
      {
       "output_type": "stream",
       "stream": "stdout",
       "text": [
        "  % Total    % Received % Xferd  Average Speed   Time    Time     Time  Current\r\n",
        "                                 Dload  Upload   Total   Spent    Left  Speed\r\n",
        "\r",
        "  0     0    0     0    0     0      0      0 --:--:-- --:--:-- --:--:--     0"
       ]
      },
      {
       "output_type": "stream",
       "stream": "stdout",
       "text": [
        "\r",
        "  6 75765    6  5172    0     0   7898      0  0:00:09 --:--:--  0:00:09 21640"
       ]
      },
      {
       "output_type": "stream",
       "stream": "stdout",
       "text": [
        "\r",
        "100 75765  100 75765    0     0  76504      0 --:--:-- --:--:-- --:--:--  128k\r\n"
       ]
      }
     ],
     "prompt_number": 21
    },
    {
     "cell_type": "markdown",
     "metadata": {},
     "source": [
      "<img src=\"http://eagle.fish.washington.edu/cnidarian/skitch/DAVID__Database_for_Annotation__Visualization__and_Integrated_Discovery__Laboratory_of_Immunopathogenesis_and_Bioinformatics__LIB___National_Institute_of_Allergies_and_Infectious_Diseases__NIAID___Science_Applications_International_Corporat_199591A8.png\" alt=\"DAVID__Database_for_Annotation__Visualization__and_Integrated_Discovery__Laboratory_of_Immunopathogenesis_and_Bioinformatics__LIB___National_Institute_of_Allergies_and_Infectious_Diseases__NIAID___Science_Applications_International_Corporat_199591A8.png\"/>"
     ]
    },
    {
     "cell_type": "code",
     "collapsed": false,
     "input": [
      "!curl -O http://david.abcc.ncifcrf.gov/data/download/chart_9BC7851772AA1407539729186.txt"
     ],
     "language": "python",
     "metadata": {},
     "outputs": [
      {
       "output_type": "stream",
       "stream": "stdout",
       "text": [
        "  % Total    % Received % Xferd  Average Speed   Time    Time     Time  Current\r\n",
        "                                 Dload  Upload   Total   Spent    Left  Speed\r\n",
        "\r",
        "  0     0    0     0    0     0      0      0 --:--:-- --:--:-- --:--:--     0"
       ]
      },
      {
       "output_type": "stream",
       "stream": "stdout",
       "text": [
        "\r",
        " 10 11204   10  1128    0     0   1969      0  0:00:05 --:--:--  0:00:05  7139"
       ]
      },
      {
       "output_type": "stream",
       "stream": "stdout",
       "text": [
        "\r",
        "100 11204  100 11204    0     0  15468      0 --:--:-- --:--:-- --:--:-- 36258\r\n"
       ]
      }
     ],
     "prompt_number": 22
    },
    {
     "cell_type": "markdown",
     "metadata": {},
     "source": [
      "<img src=\"http://eagle.fish.washington.edu/cnidarian/skitch/DAVID__Database_for_Annotation__Visualization__and_Integrated_Discovery__Laboratory_of_Immunopathogenesis_and_Bioinformatics__LIB___National_Institute_of_Allergies_and_Infectious_Diseases__NIAID___Science_Applications_International_Corporat_199591FB.png\" alt=\"DAVID__Database_for_Annotation__Visualization__and_Integrated_Discovery__Laboratory_of_Immunopathogenesis_and_Bioinformatics__LIB___National_Institute_of_Allergies_and_Infectious_Diseases__NIAID___Science_Applications_International_Corporat_199591FB.png\"/>"
     ]
    },
    {
     "cell_type": "code",
     "collapsed": false,
     "input": [
      "!curl -O http://david.abcc.ncifcrf.gov/data/download/chart_9BC7851772AA1407539807701.txt"
     ],
     "language": "python",
     "metadata": {},
     "outputs": [
      {
       "output_type": "stream",
       "stream": "stdout",
       "text": [
        "  % Total    % Received % Xferd  Average Speed   Time    Time     Time  Current\r\n",
        "                                 Dload  Upload   Total   Spent    Left  Speed\r\n",
        "\r",
        "  0     0    0     0    0     0      0      0 --:--:-- --:--:-- --:--:--     0"
       ]
      },
      {
       "output_type": "stream",
       "stream": "stdout",
       "text": [
        "\r",
        "100 14210  100 14210    0     0  36171      0 --:--:-- --:--:-- --:--:-- 45987\r\n"
       ]
      }
     ],
     "prompt_number": 23
    },
    {
     "cell_type": "markdown",
     "metadata": {},
     "source": [
      "<img src=\"http://eagle.fish.washington.edu/cnidarian/skitch/DAVID__Gene_Functional_Classification_19959263.png\" alt=\"DAVID__Gene_Functional_Classification_19959263.png\"/>"
     ]
    },
    {
     "cell_type": "code",
     "collapsed": false,
     "input": [
      "!curl -O http://david.abcc.ncifcrf.gov/data/download/list_9BC7851772AA1407539915541.txt"
     ],
     "language": "python",
     "metadata": {},
     "outputs": [
      {
       "output_type": "stream",
       "stream": "stdout",
       "text": [
        "  % Total    % Received % Xferd  Average Speed   Time    Time     Time  Current\r\n",
        "                                 Dload  Upload   Total   Spent    Left  Speed\r\n",
        "\r",
        "  0     0    0     0    0     0      0      0 --:--:-- --:--:-- --:--:--     0"
       ]
      },
      {
       "output_type": "stream",
       "stream": "stdout",
       "text": [
        "\r",
        "100 57709  100 57709    0     0  53887      0  0:00:01  0:00:01 --:--:-- 87042\r\n"
       ]
      }
     ],
     "prompt_number": 24
    },
    {
     "cell_type": "code",
     "collapsed": false,
     "input": [
      "!head list_9BC7851772AA1407539915541.txt"
     ],
     "language": "python",
     "metadata": {},
     "outputs": [
      {
       "output_type": "stream",
       "stream": "stdout",
       "text": [
        "UNIPROT_ACCESSION\tName\tSpecies\r\n",
        "Q62760\ttranslocase of outer mitochondrial membrane 20 homolog (yeast)\tRattus norvegicus\r\n",
        "Q6PC91\tsimilar to basic transcription factor 3-like 4; basic transcription factor 3-like 4\tDanio rerio\r\n",
        "Q5XIR6\tIQ motif containing D\tRattus norvegicus\r\n",
        "Q29RV1\tprotein disulfide isomerase family A, member 4\tBos taurus\r\n",
        "P19440\tgamma-glutamyltransferase light chain 3; gamma-glutamyltransferase 4 pseudogene; gamma-glutamyltransferase 2; gamma-glutamyltransferase 1; gamma-glutamyltransferase light chain 5 pseudogene\tHomo sapiens\r\n",
        "P50169\tretinol dehydrogenase 7\tRattus norvegicus\r\n",
        "Q6P8E9\tNHP2-like protein 1\tXenopus (Silurana) tropicalis\r\n",
        "P96202\tRv2933; MRA_2959\tMycobacterium tuberculosis\r\n",
        "P40937\treplication factor C (activator 1) 5, 36.5kDa\tHomo sapiens\r\n"
       ]
      }
     ],
     "prompt_number": 25
    },
    {
     "cell_type": "markdown",
     "metadata": {},
     "source": [
      "<img src=\"http://eagle.fish.washington.edu/cnidarian/skitch/DAVID__Database_for_Annotation__Visualization__and_Integrated_Discovery__Laboratory_of_Immunopathogenesis_and_Bioinformatics__LIB___National_Institute_of_Allergies_and_Infectious_Diseases__NIAID___Science_Applications_International_Corporat_19959539.png\" alt=\"DAVID__Database_for_Annotation__Visualization__and_Integrated_Discovery__Laboratory_of_Immunopathogenesis_and_Bioinformatics__LIB___National_Institute_of_Allergies_and_Infectious_Diseases__NIAID___Science_Applications_International_Corporat_19959539.png\"/>"
     ]
    },
    {
     "cell_type": "code",
     "collapsed": false,
     "input": [
      "!curl -O http://david.abcc.ncifcrf.gov/data/download/t2t_9BC7851772AA1407540291668.txt"
     ],
     "language": "python",
     "metadata": {},
     "outputs": [
      {
       "output_type": "stream",
       "stream": "stdout",
       "text": [
        "  % Total    % Received % Xferd  Average Speed   Time    Time     Time  Current\r\n",
        "                                 Dload  Upload   Total   Spent    Left  Speed\r\n",
        "\r",
        "  0     0    0     0    0     0      0      0 --:--:-- --:--:-- --:--:--     0"
       ]
      },
      {
       "output_type": "stream",
       "stream": "stdout",
       "text": [
        "\r",
        "  0  539k    0  1126    0     0   1881      0  0:04:53 --:--:--  0:04:53  7037"
       ]
      },
      {
       "output_type": "stream",
       "stream": "stdout",
       "text": [
        "\r",
        "  5  539k    5 29434    0     0  16692      0  0:00:33  0:00:01  0:00:32 22214"
       ]
      },
      {
       "output_type": "stream",
       "stream": "stdout",
       "text": [
        "\r",
        " 19  539k   19  103k    0     0  40731      0  0:00:13  0:00:02  0:00:11 48949"
       ]
      },
      {
       "output_type": "stream",
       "stream": "stdout",
       "text": [
        "\r",
        " 40  539k   40  216k    0     0  61572      0  0:00:08  0:00:03  0:00:05 70071"
       ]
      },
      {
       "output_type": "stream",
       "stream": "stdout",
       "text": [
        "\r",
        " 99  539k   99  539k    0     0   116k      0  0:00:04  0:00:04 --:--:--  129k\r",
        "100  539k  100  539k    0     0   116k      0  0:00:04  0:00:04 --:--:--  134k\r\n"
       ]
      }
     ],
     "prompt_number": 27
    },
    {
     "cell_type": "code",
     "collapsed": false,
     "input": [
      "!head t2t_9BC7851772AA1407540291668.txt"
     ],
     "language": "python",
     "metadata": {},
     "outputs": [
      {
       "output_type": "stream",
       "stream": "stdout",
       "text": [
        "Annotation Cluster 1\tEnrichment Score: 10.783523294686532\r\n",
        "Category\tTerm\tCount\t%\tPValue\tGenes\tList Total\tPop Hits\tPop Total\tFold Enrichment\tBonferroni\tBenjamini\tFDR\r\n",
        "SP_PIR_KEYWORDS\tglycoprotein\t179\t19.62719298245614\t3.1911856757633745E-17\tQ5MB13, P98156, Q5RFU0, Q9GL24, P0C6B8, Q8TEY5, Q9HBY0, Q8IWY4, Q64319, Q9NYB5, Q91Z92, Q9VCA2, Q8BGT0, Q5QQ56, Q99M80, Q8BYI9, A0JP86, P10079, P55115, Q62867, Q9W735, P28863, Q689D1, P33945, Q99N02, A2BGL3, P16393, Q8SQC1, P70549, Q6DEL2, Q8IUX8, B0FYY4, Q8BGC9, A7Y2W8, O35887, O15118, Q5RB37, Q09225, Q761V0, Q6FHJ7, Q6TUG0, Q32KH9, O15335, Q32KH5, Q9GZR5, Q96RW7, Q6Y1H2, Q00685, Q29041, Q12719, O76082, Q2IBC0, Q5UQP2, Q5RBP9, P49013, Q06805, Q06806, Q9NJ15, P91660, Q9DC23, Q8JIY1, P97717, Q5E985, Q969X5, Q5R9A7, Q1HG43, Q32KI9, Q9BVH7, P46023, Q15485, P05689, P41234, Q5RD64, P41233, Q90744, Q61469, O14522, P27169, P08953, Q5HZQ9, Q95R48, Q9HCB6, P13280, Q9JME2, P58682, Q8N695, Q00945, Q9UM22, Q9UKP5, Q9C0A0, A5D6U8, P06027, P11584, Q9ULZ9, P97280, P16444, Q8C172, O15072, Q6GQ29, Q7TMS5, O75594, A2AVA0, P23978, P23975, Q06496, B7ZCC9, Q8VEL2, Q5RDQ8, P01024, P56489, P23471, Q49B93, Q17QJ5, P19440, Q6DCX5, Q9U539, Q28727, Q9WTR0, Q9GZU5, Q8K1T0, Q90YK5, O94985, O77656, P21836, P35822, Q08E66, Q9DBB9, Q5R4J5, Q8TDX6, Q6NY73, Q8TCT9, Q21974, Q9HAR2, Q6DNG6, Q29611, O35464, P26262, Q9UGM3, Q3V1H3, Q6IP59, P08582, Q6UWV6, Q6UWM7, Q9NZR2, Q9Z2J0, Q8IZJ3, Q7Z2H8, Q3ZMH1, Q61824, Q3SYW2, Q9VTK2, Q9ESG5, O54715, Q00651, Q8BMN4, Q29499, Q24322, P30937, Q9BUD6, Q6PCJ9, Q5MJS3, P28648, O70497, Q866N2, A2VDP6, Q9VGY6, Q5BL72, Q7SIB2, Q5PRC1, Q94887, Q96MC6, Q6P5E4, P54802, P41148, A2RSQ0, Q9QYM0, Q80V70, Q9PWA0, Q9VBW3\t882\t828\t7380\t1.8088829734792469\t1.5604897954482902E-14\t1.5604897954482902E-14\t4.5810645999961623E-14\r\n",
        "UP_SEQ_FEATURE\tglycosylation site:N-linked (GlcNAc...)\t171\t18.75\t2.0249299138907436E-15\tQ5MB13, P98156, Q5RFU0, Q9GL24, P0C6B8, Q8TEY5, Q9HBY0, Q8IWY4, Q64319, Q9NYB5, Q91Z92, Q9VCA2, Q8BGT0, Q5QQ56, Q99M80, Q8BYI9, A0JP86, P10079, P55115, Q62867, Q9W735, P28863, Q689D1, P33945, Q99N02, A2BGL3, P16393, Q8SQC1, P70549, Q6DEL2, Q8IUX8, B0FYY4, Q8BGC9, A7Y2W8, O35887, O15118, Q5RB37, Q09225, Q761V0, Q6FHJ7, Q6TUG0, Q32KH9, Q32KH5, Q9GZR5, Q96RW7, Q6Y1H2, Q00685, Q29041, Q12719, O76082, Q2IBC0, Q5RBP9, P49013, Q06805, Q06806, Q9NJ15, P91660, Q9DC23, Q8JIY1, P97717, Q969X5, Q5E985, Q5R9A7, Q1HG43, Q32KI9, Q9BVH7, P46023, Q15485, P05689, P41234, Q5RD64, P41233, Q90744, Q61469, O14522, P27169, P08953, Q5HZQ9, Q95R48, Q9HCB6, Q9JME2, P58682, Q8N695, Q00945, Q9UM22, Q9UKP5, Q9C0A0, A5D6U8, P11584, Q9ULZ9, P97280, P16444, Q8C172, O15072, Q6GQ29, Q7TMS5, O75594, A2AVA0, P23978, P23975, Q06496, B7ZCC9, Q8VEL2, Q5RDQ8, P01024, P56489, P23471, Q49B93, Q17QJ5, P19440, Q6DCX5, Q9U539, Q28727, Q9WTR0, Q9GZU5, Q8K1T0, Q90YK5, O94985, O77656, P21836, P35822, Q08E66, Q9DBB9, Q5R4J5, Q8TDX6, Q6NY73, Q8TCT9, Q21974, Q9HAR2, Q6DNG6, Q29611, O35464, P26262, Q9UGM3, Q3V1H3, Q6IP59, P08582, Q6UWV6, Q6UWM7, Q9NZR2, Q9Z2J0, Q8IZJ3, Q7Z2H8, Q3ZMH1, Q61824, Q3SYW2, Q9VTK2, Q9ESG5, O54715, Q8BMN4, Q00651, Q29499, Q24322, P30937, Q6PCJ9, Q5MJS3, P28648, O70497, A2VDP6, Q9VGY6, Q5BL72, Q5PRC1, Q94887, Q96MC6, Q6P5E4, P54802, P41148, A2RSQ0, Q9QYM0, Q80V70, Q9VBW3\t892\t796\t7381\t1.7775973477251727\t4.696243394164412E-12\t4.696243394164412E-12\t3.497202527569243E-12\r\n",
        "SP_PIR_KEYWORDS\tdisulfide bond\t102\t11.18421052631579\t4.893175620619848E-11\tQ5MB13, P98156, Q9GL24, P0C6B8, Q8IWY4, Q64319, Q99M80, Q5QQ56, Q8BYI9, P10079, A0JP86, P55115, P28863, Q689D1, Q8IUX8, B0FYY4, Q6FHJ7, Q6TUG0, O15335, Q96RW7, Q00685, Q12719, Q29041, Q2IBC0, Q9UDY8, P00687, P49013, Q06805, Q06806, Q8JIY1, P97717, Q5E985, Q9BVH7, P46023, Q15485, P05689, Q5RD64, Q90744, P41233, O14522, P27169, P08953, Q9HCB6, Q00945, Q9UKP5, Q9C0A0, P06027, Q9ULZ9, P11584, P80147, P16444, O15072, Q3T0K2, O75594, Q7TMS5, A2AVA0, Q06496, P01024, P56489, P25325, Q9WTR6, A0JM12, Q29RV1, Q9WTR0, Q8K1T0, P82251, P35822, P21836, O77656, Q08E66, Q9R0S2, Q6NY73, O88281, Q6DNG6, Q9HAR2, Q69BJ8, O35464, Q9UGM3, P26262, Q3V1H3, P49585, P08582, Q9NZR2, Q7Z2H8, Q61824, Q3SYW2, Q9ESG5, Q8BMN4, Q00651, Q24322, Q29499, P30937, Q9BUD6, Q6PCJ9, O70497, Q866N2, P08594, Q5BL72, Q7SIB2, Q94887, P41148, Q80V70\t882\t448\t7380\t1.9050655976676385\t2.3927624215325238E-8\t1.196381216317377E-8\t7.024332226990282E-8\r\n",
        "SP_PIR_KEYWORDS\tsignal\t129\t14.144736842105262\t6.168913185383689E-11\tP98156, Q5RFU0, Q9GL24, P0C6B8, Q8IWY4, Q5BLE8, Q8BGT0, Q99M80, Q8BYI9, P10079, A0JP86, P55115, Q62867, Q566I3, P28863, Q689D1, P33945, Q6PHY8, P70549, Q8IUX8, B0FYY4, Q9DCT5, Q8BGC9, O35887, O15118, Q5RB37, Q09225, Q6FHJ7, Q96PB1, Q6TUG0, Q32KH9, O15335, Q32KH5, Q96RW7, Q00685, Q29041, Q12719, Q2IBC0, Q5RBP9, P00687, P49013, Q06805, Q06806, Q9NJ15, Q13217, Q9DC23, Q8JIY1, Q5E985, Q32KI9, P46023, Q15485, P05689, Q5RD64, O14522, P27169, P08953, Q9HCB6, P81134, P58682, Q00945, Q9UM22, Q9UKP5, Q9C0A0, A5D6U8, Q9ULZ9, P11584, Q91WM2, P97280, P16444, Q6GQ29, O15072, O75594, A2AVA0, B7ZCC9, Q5RDQ8, P01024, P23471, A0JM12, P28622, Q9WTR0, Q29RV1, Q9GZU5, Q90YK5, O94985, P21836, O77656, P35822, Q08E66, Q9DBB9, Q9R0S2, Q6NY73, O88281, Q9HAR2, O35464, Q9UGM3, P26262, Q3V1H3, Q90593, Q0VA61, P08582, Q6UWV6, Q6UWM7, Q9NZR2, Q8IZJ3, Q61824, Q3SYW2, Q9ESG5, O54715, Q92544, Q00651, Q29499, Q24322, Q9BUD6, Q6PCJ9, P09848, Q5MJS3, O70497, Q866N2, P08594, A2VDP6, Q9VGY6, Q5BL72, Q5PRC1, Q94887, Q6P5E4, P54802, P41148, Q80V70, Q9VBW3\t882\t620\t7380\t1.740947992100066\t3.016596861193932E-8\t1.0055323018676177E-8\t8.855697286591635E-8\r\n",
        "UP_SEQ_FEATURE\tsignal peptide\t129\t14.144736842105262\t1.3591537204927445E-10\tP98156, Q5RFU0, Q9GL24, P0C6B8, Q8IWY4, Q5BLE8, Q8BGT0, Q99M80, Q8BYI9, P10079, A0JP86, P55115, Q62867, Q566I3, P28863, Q689D1, P33945, Q6PHY8, P70549, Q8IUX8, B0FYY4, Q9DCT5, Q8BGC9, O35887, O15118, Q5RB37, Q09225, Q6FHJ7, Q96PB1, Q6TUG0, Q32KH9, O15335, Q32KH5, Q96RW7, Q00685, Q29041, Q12719, Q2IBC0, Q5RBP9, P00687, P49013, Q06805, Q06806, Q9NJ15, Q13217, Q9DC23, Q8JIY1, Q5E985, Q32KI9, P46023, Q15485, P05689, Q5RD64, O14522, P27169, P08953, Q9HCB6, P81134, P58682, Q00945, Q9UM22, Q9UKP5, Q9C0A0, A5D6U8, Q9ULZ9, P11584, Q91WM2, P97280, P16444, Q6GQ29, O15072, O75594, A2AVA0, B7ZCC9, Q5RDQ8, P01024, P23471, A0JM12, P28622, Q9WTR0, Q29RV1, Q9GZU5, Q90YK5, O94985, P21836, O77656, P35822, Q08E66, Q9DBB9, Q9R0S2, Q6NY73, O88281, Q9HAR2, O35464, Q9UGM3, P26262, Q3V1H3, Q90593, Q0VA61, P08582, Q6UWV6, Q6UWM7, Q9NZR2, Q8IZJ3, Q61824, Q3SYW2, Q9ESG5, O54715, Q92544, Q00651, Q29499, Q24322, Q9BUD6, Q6PCJ9, P09848, Q5MJS3, O70497, Q866N2, P08594, A2VDP6, Q9VGY6, Q5BL72, Q5PRC1, Q94887, Q6P5E4, P54802, P41148, Q80V70, Q9VBW3\t892\t620\t7381\t1.7216638941125415\t3.1940111566708396E-7\t1.597005705455956E-7\t2.3808145455106455E-7\r\n",
        "SP_PIR_KEYWORDS\tSecreted\t65\t7.12719298245614\t2.5912723422829477E-10\tQ00945, Q9UM22, Q9UKP5, P0C6B8, A5D6U8, Q8IWY4, P06027, Q9ULZ9, P97280, O15072, Q6GQ29, O75594, A2AVA0, Q8BYI9, A0JP86, P10079, P01024, P55115, Q62867, P28622, P28863, P33945, Q9GZU5, Q90YK5, O77656, P21836, Q8IUX8, Q08E66, Q9DCT5, Q9DBB9, Q9R0S2, Q8BGC9, Q6NY73, O35887, Q5RB37, O88281, Q6FHJ7, O15335, Q9UGM3, P26262, Q96RW7, Q00685, Q12719, Q29041, Q8IZJ3, Q3SYW2, Q8BHR2, P00687, P49013, Q9NJ15, Q29499, Q9DC23, Q9BUD6, Q5E985, Q5MJS3, Q32KI9, Q15485, O70497, Q866N2, P08594, A2VDP6, Q7SIB2, P27169, Q9HCB6, Q80V70\t882\t242\t7380\t2.2474278967785457\t1.267132295756923E-7\t3.1678308864968585E-8\t3.719867525120435E-7\r\n",
        "UP_SEQ_FEATURE\tdisulfide bond\t91\t9.978070175438598\t3.540563571267061E-9\tQ00945, Q5MB13, P98156, Q9GL24, Q9UKP5, P0C6B8, Q9C0A0, Q8IWY4, P06027, P11584, Q9ULZ9, P80147, P16444, O15072, Q3T0K2, O75594, Q7TMS5, Q99M80, A2AVA0, Q06496, Q8BYI9, A0JP86, P10079, P01024, P55115, P56489, A0JM12, P28863, Q29RV1, Q9WTR0, Q689D1, Q8K1T0, P35822, P21836, O77656, Q8IUX8, Q08E66, B0FYY4, Q9R0S2, Q6NY73, O88281, Q9HAR2, Q6DNG6, Q6FHJ7, Q69BJ8, O35464, O15335, Q9UGM3, P26262, Q3V1H3, P49585, P08582, Q96RW7, Q00685, Q12719, Q9NZR2, Q9UDY8, Q7Z2H8, Q61824, Q3SYW2, P00687, Q9ESG5, P49013, Q00651, Q8BMN4, Q06805, Q06806, Q24322, Q29499, P30937, Q9BUD6, Q8JIY1, P97717, Q5E985, Q6PCJ9, Q9BVH7, P46023, P05689, Q5RD64, Q866N2, Q90744, P08594, P41233, Q5BL72, O14522, Q7SIB2, Q94887, P27169, Q9HCB6, P41148, Q80V70\t892\t408\t7381\t1.8455744966147896\t8.320289908048117E-6\t2.773437661307554E-6\t6.201965185859137E-6\r\n",
        "GOTERM_CC_FAT\tGO:0005576~extracellular region\t73\t8.00438596491228\t2.2171653159552866E-7\tQ9UM22, Q00945, P98156, Q9UKP5, P0C6B8, Q8IWY4, A5D6U8, P06027, Q9ULZ9, P97280, O15072, Q6GQ29, O75594, A2AVA0, Q8BYI9, A0JP86, P10079, P01024, P55115, P23471, Q62867, P28622, P28863, P21333, Q9WTR0, P33945, Q9GZU5, Q90YK5, O77656, P21836, Q8IUX8, Q08E66, Q9DCT5, Q9DBB9, P10809, Q9R0S2, Q8BGC9, Q6NY73, O35887, Q5RB37, O88281, Q6FHJ7, O15335, Q9UGM3, P26262, Q96RW7, P08582, Q00685, Q12719, Q29041, Q8IZJ3, Q61824, Q3SYW2, Q8BHR2, P00687, P49013, Q9NJ15, Q29499, Q9DC23, Q9BUD6, Q5E985, Q5MJS3, Q32KI9, Q15485, O70497, Q866N2, P08594, A2VDP6, Q99943, Q7SIB2, P27169, Q9HCB6, Q80V70\t602\t285\t4225\t1.7976627615550502\t9.04562634979067E-5\t9.04562634979067E-5\t3.10142167947447E-4\r\n"
       ]
      }
     ],
     "prompt_number": 28
    },
    {
     "cell_type": "markdown",
     "metadata": {},
     "source": [
      "<img src=\"http://eagle.fish.washington.edu/cnidarian/skitch/REVIGO_summarizes_and_visualizes_long_lists_of_Gene_Ontology_terms_19959715.png\" alt=\"REVIGO_summarizes_and_visualizes_long_lists_of_Gene_Ontology_terms_19959715.png\"/>"
     ]
    },
    {
     "cell_type": "heading",
     "level": 3,
     "metadata": {},
     "source": [
      "Fold Enrichment "
     ]
    },
    {
     "cell_type": "markdown",
     "metadata": {},
     "source": [
      "<img src=\"http://eagle.fish.washington.edu/cnidarian/skitch/REVIGO_Output_1995977C.png\" alt=\"REVIGO_Output_1995977C.png\"/>"
     ]
    },
    {
     "cell_type": "heading",
     "level": 3,
     "metadata": {},
     "source": [
      "Conventional Revigo"
     ]
    },
    {
     "cell_type": "markdown",
     "metadata": {},
     "source": [
      "Using Benjamini < 0.5 "
     ]
    },
    {
     "cell_type": "markdown",
     "metadata": {},
     "source": [
      "<img src=\"http://eagle.fish.washington.edu/cnidarian/skitch/REVIGO_Output_19959A7A.png\" alt=\"REVIGO_Output_19959A7A.png\"/>"
     ]
    },
    {
     "cell_type": "markdown",
     "metadata": {},
     "source": [
      "<img src=\"http://eagle.fish.washington.edu/cnidarian/skitch/REVIGO_Output_19959A9F.png\" alt=\"REVIGO_Output_19959A9F.png\"/>"
     ]
    },
    {
     "cell_type": "markdown",
     "metadata": {},
     "source": [
      "<img src=\"http://eagle.fish.washington.edu/cnidarian/skitch/Screenshot_8_8_14__4_56_PM_19959B21.png\" alt=\"Screenshot_8_8_14__4_56_PM_19959B21.png\"/>"
     ]
    },
    {
     "cell_type": "markdown",
     "metadata": {},
     "source": [
      "#variations\n",
      "<img src=\"http://eagle.fish.washington.edu/cnidarian/skitch/REVIGO_Output_19959CEA.png\" alt=\"REVIGO_Output_19959CEA.png\"/>"
     ]
    },
    {
     "cell_type": "code",
     "collapsed": false,
     "input": [],
     "language": "python",
     "metadata": {},
     "outputs": []
    }
   ],
   "metadata": {}
  }
 ]
}