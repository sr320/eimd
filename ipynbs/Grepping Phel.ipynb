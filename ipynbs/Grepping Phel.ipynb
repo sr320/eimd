{
 "metadata": {
  "name": "",
  "signature": "sha256:7d9bcaab0b549bb20f00d14bbe82b6d456f3340455bab414935e8a6d53a07c7c"
 },
 "nbformat": 3,
 "nbformat_minor": 0,
 "worksheets": [
  {
   "cells": [
    {
     "cell_type": "heading",
     "level": 1,
     "metadata": {},
     "source": [
      "Quickly Exploring SeaStar Data"
     ]
    },
    {
     "cell_type": "code",
     "collapsed": false,
     "input": [
      "This Notebook is designed to be used as a way "
     ],
     "language": "python",
     "metadata": {},
     "outputs": []
    }
   ],
   "metadata": {}
  }
 ]
}