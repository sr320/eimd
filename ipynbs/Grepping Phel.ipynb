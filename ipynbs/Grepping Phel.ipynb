{
 "metadata": {
  "name": "",
  "signature": "sha256:b5f1423c00046d4b1b6c4a70aff21cda4f88729ba09de29381a9004ab54d22ac"
 },
 "nbformat": 3,
 "nbformat_minor": 0,
 "worksheets": [
  {
   "cells": [
    {
     "cell_type": "code",
     "collapsed": false,
     "input": [
      "Quickly Exploring "
     ],
     "language": "python",
     "metadata": {},
     "outputs": []
    }
   ],
   "metadata": {}
  }
 ]
}