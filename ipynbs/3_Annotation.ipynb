{
 "metadata": {
  "name": "",
  "signature": "sha256:c8a62719952c90a403eaf89f0d66fba9ffaf683abab74d5e16a1f7aca6afbef4"
 },
 "nbformat": 3,
 "nbformat_minor": 0,
 "worksheets": [
  {
   "cells": [
    {
     "cell_type": "code",
     "collapsed": false,
     "input": [
      "!fgrep -c \">\" /Volumes/web/cnidarian/SeaStar/trinity_assemblies/run1/Trinity.fasta"
     ],
     "language": "python",
     "metadata": {},
     "outputs": [
      {
       "output_type": "stream",
       "stream": "stdout",
       "text": [
        "145222\r\n"
       ]
      }
     ],
     "prompt_number": 6
    },
    {
     "cell_type": "code",
     "collapsed": false,
     "input": [
      "!tail -5 /Volumes/web/cnidarian/SeaStar/trinity_assemblies/run1/Trinity.fasta"
     ],
     "language": "python",
     "metadata": {},
     "outputs": [
      {
       "output_type": "stream",
       "stream": "stdout",
       "text": [
        ">c391854_g1_i1 len=228 path=[1:0-227]\r\n",
        "GTTTTTTCTTTCTCTATTTTTGGTTACCTTTTAGTTTTTAAAACAAATTGGCAAATTGTT\r\n",
        "ATTCACCAGGGTATTTAGTTACAATTCAGCATGCATCTTTTGGGGGATACTTGGAAGTAT\r\n",
        "TGGCCCTTGCAGTATAGTTTCTGTTTTGTTATATTGGACCTAATGAAAGTTGTGTTATAT\r\n",
        "TGGACCCAGTGCAGGTTATATGTTATAATGGACCCCACAGAACATTTT\r\n"
       ]
      }
     ],
     "prompt_number": 7
    },
    {
     "cell_type": "code",
     "collapsed": false,
     "input": [
      "blastx \\\n",
      "-query /Volumes/web/cnidarian/SeaStar/trinity_assemblies/run1/Trinity.fasta \\\n",
      "-db /Volumes/web/whale/blast/db/uniprot_sprot \\\n",
      "-out /Volumes/web/cnidarian/seastar_trinity1_uniport_sprot.tab \\\n",
      "-evalue 1E-20 \\\n",
      "-max_target_seqs 1 \\\n",
      "-outfmt 6 \\\n",
      "-num_threads 6"
     ],
     "language": "python",
     "metadata": {},
     "outputs": []
    },
    {
     "cell_type": "code",
     "collapsed": false,
     "input": [
      "!head /Volumes/web/cnidarian/seastar_trinity1_uniport_sprot.tab"
     ],
     "language": "python",
     "metadata": {},
     "outputs": [
      {
       "output_type": "stream",
       "stream": "stdout",
       "text": [
        "c120_g1_i1\tsp|O06411|PIT_MYCTU\t69.14\t81\t25\t0\t307\t65\t255\t335\t7e-30\t  114\r\n",
        "c1231_g1_i1\tsp|Q57IW8|FEOB_SALCH\t48.20\t139\t71\t1\t3\t419\t455\t592\t1e-38\t  143\r\n",
        "c1262_g1_i1\tsp|Q8CQ17|SAER_STAES\t99.14\t116\t1\t0\t457\t110\t114\t229\t2e-78\t  238\r\n",
        "c1367_g1_i1\tsp|Q0VGK4|GDPD1_RAT\t45.45\t110\t58\t1\t1\t330\t87\t194\t2e-24\t98.6\r\n",
        "c1630_g1_i1\tsp|P37965|GLPQ_BACSU\t62.50\t96\t35\t1\t290\t3\t110\t204\t1e-27\t  106\r\n",
        "c2156_g1_i1\tsp|Q96MW7|TIGD1_HUMAN\t65.62\t64\t22\t0\t5\t196\t290\t353\t7e-22\t92.4\r\n",
        "c2356_g1_i1\tsp|Q9K9G9|FAPD_BACHD\t73.15\t108\t29\t0\t1\t324\t209\t316\t1e-51\t  173\r\n",
        "c2398_g1_i1\tsp|O14981|BTAF1_HUMAN\t82.61\t115\t20\t0\t345\t1\t1389\t1503\t3e-62\t  211\r\n",
        "c2437_g1_i1\tsp|O13066|RAGP1_XENLA\t59.27\t329\t133\t1\t1052\t69\t30\t358\t8e-121\t  367\r\n",
        "c2471_g1_i1\tsp|P35881|TRA5_LACLA\t100.00\t108\t0\t0\t2\t325\t116\t223\t9e-73\t  227\r\n"
       ]
      }
     ],
     "prompt_number": 2
    },
    {
     "cell_type": "code",
     "collapsed": false,
     "input": [
      "blastn \\\n",
      "-query /Volumes/web/cnidarian/SeaStar/trinity_assemblies/run1/Trinity.fasta \\\n",
      "-db /Volumes/Data/blast_db/nt \\\n",
      "-out /Volumes/web/cnidarian/seastar_trin_nt_3.tab \\\n",
      "-outfmt \"6 qseqid sseqid pident length evalue bitscore staxids sscinames scomnames sblastnames sskingdoms stitle\" \\\n",
      "-num_threads 14 \\\n",
      "-max_hsps 1 \\\n",
      "-evalue 1E-20 \\\n",
      "-max_target_seqs 1 \\\n",
      "-task blastn\n",
      "#running on hummingbird"
     ],
     "language": "python",
     "metadata": {},
     "outputs": []
    },
    {
     "cell_type": "code",
     "collapsed": false,
     "input": [
      "!tail /Volumes/web/cnidarian/seastar_trin_nt_3.tab"
     ],
     "language": "python",
     "metadata": {},
     "outputs": [
      {
       "output_type": "stream",
       "stream": "stdout",
       "text": [
        "c354904_g1_i4\tgi|260782300|ref|XM_002586181.1|\t69.89\t880\t2e-92\t  351\t7739\tBranchiostoma floridae\tFlorida lancelet\tlancelets\tEukaryota\tBranchiostoma floridae hypothetical protein, mRNA\r\n",
        "c354906_g7_i1\tgi|530572965|ref|XM_005280975.1|\t77.85\t492\t7e-106\t  396\t8478\tChrysemys picta bellii\twestern painted turtle\tturtles\tEukaryota\tPREDICTED: Chrysemys picta bellii adaptor-related protein complex 3, beta 2 subunit (AP3B2), transcript variant X7, mRNA\r\n",
        "c354909_g2_i2\tgi|83307909|emb|CT032371.1|\t68.97\t638\t6e-54\t  223\t6359\tPlatynereis dumerilii\tDumeril's clam worm\tsegmented worms\tEukaryota\tPlatynereis dumerilii EST IB0AAA39BG09FM1\r\n",
        "c354909_g2_i5\tgi|397531918|gb|JQ678997.1|\t71.20\t309\t1e-29\t  141\t217509\tCarassius carassius\tcrucian carp\tbony fishes\tEukaryota\tCarassius carassius tryptophan hydroxylase 1a mRNA, partial cds\r\n",
        "c354910_g1_i2\tgi|291229395|ref|XM_002734595.1|\t72.95\t366\t1e-49\t  208\t10224\tSaccoglossus kowalevskii\tSaccoglossus kowalevskii\themichordates\tEukaryota\tPREDICTED: Saccoglossus kowalevskii predicted protein-like (LOC100375320), mRNA\r\n",
        "c354911_g2_i1\tgi|260064058|ref|NG_012971.1|\t100.00\t82\t2e-32\t  149\t9606\tHomo sapiens\thuman\tprimates\tEukaryota\tHomo sapiens kin of IRRE like 3 (Drosophila) (KIRREL3), RefSeqGene on chromosome 11\r\n",
        "c354911_g7_i2\tgi|296434246|ref|NM_001184864.1|\t66.98\t1257\t2e-98\t  370\t10224\tSaccoglossus kowalevskii\tSaccoglossus kowalevskii\themichordates\tEukaryota\tSaccoglossus kowalevskii asparagine-linked glycosylation protein 11-like (LOC100378532), mRNA\r\n",
        "c354914_g1_i8\tgi|21217404|gb|AC084346.3|\t100.00\t97\t2e-39\t  176\t9606\tHomo sapiens\thuman\tprimates\tEukaryota\tHomo sapiens chromosome 8, clone RP3-388N13, complete sequence\r\n",
        "c354918_g1_i1\tgi|390355685|ref|XM_789293.3|\t66.76\t752\t1e-49\t  208\t7668\tStrongylocentrotus purpuratus\tpurple sea urchin\tsea urchins\tEukaryota\tPREDICTED: Strongylocentrotus purpuratus lambda-crystallin homolog (LOC589657), mRNA\r\n",
        "c354918_g1_i5\tgi|198426193|ref|XM_002131102.1|\t67.55\t530\t5e-35\t  159\t7719\tCiona intestinalis\tvase tunicate\ttunicates\tEukaryota\tPREDICTED: Ciona intestinalis lambda-crystallin homolog (LOC100176260), mRNA\r\n"
       ]
      }
     ],
     "prompt_number": 4
    },
    {
     "cell_type": "code",
     "collapsed": false,
     "input": [
      "\n",
      "blastx \\\n",
      "-query /Volumes/web/cnidarian/SeaStar/trinity_assemblies/run1/Trinity.fasta \\\n",
      "-db /Volumes/Data/blast_db/refseq_protein \\\n",
      "-out /Volumes/web/cnidarian/seastar_trin_reseq_protein_2.tab \\\n",
      "-outfmt \"6 qseqid sseqid pident length evalue bitscore staxids sscinames scomnames sblastnames sskingdoms stitle\" \\\n",
      "-num_threads 4 \\\n",
      "-max_hsps 1 \\\n",
      "-max_target_seqs 1 \\\n",
      "-evalue 1E-20"
     ],
     "language": "python",
     "metadata": {},
     "outputs": []
    },
    {
     "cell_type": "code",
     "collapsed": false,
     "input": [
      "\n",
      "blastx \\\n",
      "-query /Volumes/web/cnidarian/SeaStar/trinity_assemblies/run1/Trinity.fasta \\\n",
      "-db /Volumes/Data/blast_db/nr \\\n",
      "-out /Volumes/web/cnidarian/seastar_trin_nr_2.tab \\\n",
      "-outfmt \"6 qseqid sseqid pident length evalue bitscore staxids sscinames scomnames sblastnames sskingdoms stitle\" \\\n",
      "-num_threads 2 \\\n",
      "-max_hsps 1 \\\n",
      "-max_target_seqs 1 \\\n",
      "-evalue 1E-20"
     ],
     "language": "python",
     "metadata": {},
     "outputs": []
    },
    {
     "cell_type": "code",
     "collapsed": false,
     "input": [
      "blastn \\\n",
      "-query /Volumes/web/cnidarian/SeaStar/trinity_assemblies/run1/Trinity.fasta \\\n",
      "-db /Volumes/Data/blast_db/est_others \\\n",
      "-out /Volumes/web/cnidarian/seastar_trin_est_others_2.tab \\\n",
      "-outfmt \"6 qseqid sseqid pident length evalue bitscore staxids sscinames scomnames sblastnames sskingdoms stitle\" \\\n",
      "-num_threads 2 \\\n",
      "-max_hsps 1 \\\n",
      "-max_target_seqs 1 \\\n",
      "-evalue 1E-20"
     ],
     "language": "python",
     "metadata": {},
     "outputs": []
    },
    {
     "cell_type": "code",
     "collapsed": false,
     "input": [
      "\n",
      "#fail\n",
      "\n",
      "blastx \\\n",
      "-query /Volumes/web/cnidarian/SeaStar/trinity_assemblies/run1/Trinity.fasta \\\n",
      "-db /Volumes/Data/blast_db/swissprot \\\n",
      "-out /Volumes/web/cnidarian/seastar_trin_swissprot_2.tab \\\n",
      "-outfmt \"6 qseqid sseqid pident length evalue bitscore staxids sscinames scomnames sblastnames sskingdoms stitle\" \\\n",
      "-num_threads 8 \\\n",
      "-max_hsps 1 \\\n",
      "-max_target_seqs 1 \\\n",
      "-evalue 1E-20"
     ],
     "language": "python",
     "metadata": {},
     "outputs": []
    },
    {
     "cell_type": "code",
     "collapsed": false,
     "input": [
      "#fail Segmentation fault: 11\n",
      "\n",
      "blastx \\\n",
      "-query /Volumes/web/cnidarian/SeaStar/trinity_assemblies/run1/Trinity.fasta \\\n",
      "-db /Volumes/Data/blast_db/uniprot_sprot \\\n",
      "-out /Volumes/web/cnidarian/seastar_trin_uniprot_sprot_2.tab \\\n",
      "-outfmt \"6 qseqid sseqid pident length evalue bitscore staxids sscinames scomnames sblastnames sskingdoms stitle\" \\\n",
      "-num_threads 8 \\\n",
      "-max_hsps 1 \\\n",
      "-max_target_seqs 1 \\\n",
      "-evalue 1E-20"
     ],
     "language": "python",
     "metadata": {},
     "outputs": []
    },
    {
     "cell_type": "code",
     "collapsed": false,
     "input": [
      "#for genefish\n",
      "blastx \\\n",
      "-query /Volumes/web/cnidarian/SeaStar_transc_v2.fa \\\n",
      "-db /Users/Shared/data/blast/db/uniprot_sprot \\\n",
      "-out /Volumes/web/cnidarian/seastar_clc_uniprot_sprot_1.tab \\\n",
      "-outfmt 6 \\\n",
      "-num_threads 8 \\\n",
      "-max_hsps 1 \\\n",
      "-max_target_seqs 1 \\\n",
      "-evalue 1E-20"
     ],
     "language": "python",
     "metadata": {},
     "outputs": []
    },
    {
     "cell_type": "code",
     "collapsed": false,
     "input": [],
     "language": "python",
     "metadata": {},
     "outputs": []
    }
   ],
   "metadata": {}
  }
 ]
}