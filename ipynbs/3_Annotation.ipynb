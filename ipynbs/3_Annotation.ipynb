{
 "metadata": {
  "name": "",
  "signature": "sha256:82bbbed1d4e27a1de01a759008dac3ab5b6a573ee63753dacf05e89b8e353e12"
 },
 "nbformat": 3,
 "nbformat_minor": 0,
 "worksheets": [
  {
   "cells": [
    {
     "cell_type": "heading",
     "level": 1,
     "metadata": {},
     "source": [
      "Annotation (Blast)"
     ]
    },
    {
     "cell_type": "heading",
     "level": 2,
     "metadata": {},
     "source": [
      "Trinity Assembly"
     ]
    },
    {
     "cell_type": "code",
     "collapsed": false,
     "input": [
      "!fgrep -c \">\" /Volumes/web/cnidarian/SeaStar/trinity_assemblies/run1/Trinity.fasta"
     ],
     "language": "python",
     "metadata": {},
     "outputs": [
      {
       "output_type": "stream",
       "stream": "stdout",
       "text": [
        "145222\r\n"
       ]
      }
     ],
     "prompt_number": 6
    },
    {
     "cell_type": "code",
     "collapsed": false,
     "input": [
      "!tail -5 /Volumes/web/cnidarian/SeaStar/trinity_assemblies/run1/Trinity.fasta"
     ],
     "language": "python",
     "metadata": {},
     "outputs": [
      {
       "output_type": "stream",
       "stream": "stdout",
       "text": [
        ">c391854_g1_i1 len=228 path=[1:0-227]\r\n",
        "GTTTTTTCTTTCTCTATTTTTGGTTACCTTTTAGTTTTTAAAACAAATTGGCAAATTGTT\r\n",
        "ATTCACCAGGGTATTTAGTTACAATTCAGCATGCATCTTTTGGGGGATACTTGGAAGTAT\r\n",
        "TGGCCCTTGCAGTATAGTTTCTGTTTTGTTATATTGGACCTAATGAAAGTTGTGTTATAT\r\n",
        "TGGACCCAGTGCAGGTTATATGTTATAATGGACCCCACAGAACATTTT\r\n"
       ]
      }
     ],
     "prompt_number": 7
    },
    {
     "cell_type": "code",
     "collapsed": false,
     "input": [
      "blastx \\\n",
      "-query /Volumes/web/cnidarian/SeaStar/trinity_assemblies/run1/Trinity.fasta \\\n",
      "-db /Volumes/web/whale/blast/db/uniprot_sprot \\\n",
      "-out /Volumes/web/cnidarian/seastar_trinity1_uniport_sprot.tab \\\n",
      "-evalue 1E-20 \\\n",
      "-max_target_seqs 1 \\\n",
      "-outfmt 6 \\\n",
      "-num_threads 6"
     ],
     "language": "python",
     "metadata": {},
     "outputs": []
    },
    {
     "cell_type": "code",
     "collapsed": false,
     "input": [
      "!head /Volumes/web/cnidarian/seastar_trinity1_uniport_sprot.tab"
     ],
     "language": "python",
     "metadata": {},
     "outputs": [
      {
       "output_type": "stream",
       "stream": "stdout",
       "text": [
        "c120_g1_i1\tsp|O06411|PIT_MYCTU\t69.14\t81\t25\t0\t307\t65\t255\t335\t7e-30\t  114\r\n",
        "c1231_g1_i1\tsp|Q57IW8|FEOB_SALCH\t48.20\t139\t71\t1\t3\t419\t455\t592\t1e-38\t  143\r\n",
        "c1262_g1_i1\tsp|Q8CQ17|SAER_STAES\t99.14\t116\t1\t0\t457\t110\t114\t229\t2e-78\t  238\r\n",
        "c1367_g1_i1\tsp|Q0VGK4|GDPD1_RAT\t45.45\t110\t58\t1\t1\t330\t87\t194\t2e-24\t98.6\r\n",
        "c1630_g1_i1\tsp|P37965|GLPQ_BACSU\t62.50\t96\t35\t1\t290\t3\t110\t204\t1e-27\t  106\r\n",
        "c2156_g1_i1\tsp|Q96MW7|TIGD1_HUMAN\t65.62\t64\t22\t0\t5\t196\t290\t353\t7e-22\t92.4\r\n",
        "c2356_g1_i1\tsp|Q9K9G9|FAPD_BACHD\t73.15\t108\t29\t0\t1\t324\t209\t316\t1e-51\t  173\r\n",
        "c2398_g1_i1\tsp|O14981|BTAF1_HUMAN\t82.61\t115\t20\t0\t345\t1\t1389\t1503\t3e-62\t  211\r\n",
        "c2437_g1_i1\tsp|O13066|RAGP1_XENLA\t59.27\t329\t133\t1\t1052\t69\t30\t358\t8e-121\t  367\r\n",
        "c2471_g1_i1\tsp|P35881|TRA5_LACLA\t100.00\t108\t0\t0\t2\t325\t116\t223\t9e-73\t  227\r\n"
       ]
      }
     ],
     "prompt_number": 2
    },
    {
     "cell_type": "code",
     "collapsed": false,
     "input": [
      "blastn \\\n",
      "-query /Volumes/web/cnidarian/SeaStar/trinity_assemblies/run1/Trinity.fasta \\\n",
      "-db /Volumes/Data/blast_db/nt \\\n",
      "-out /Volumes/web/cnidarian/seastar_trin_nt_3.tab \\\n",
      "-outfmt \"6 qseqid sseqid pident length evalue bitscore staxids sscinames scomnames sblastnames sskingdoms stitle\" \\\n",
      "-num_threads 14 \\\n",
      "-max_hsps 1 \\\n",
      "-evalue 1E-20 \\\n",
      "-max_target_seqs 1 \\\n",
      "-task blastn\n",
      "#running on hummingbird - COMPLETE"
     ],
     "language": "python",
     "metadata": {},
     "outputs": [
      {
       "ename": "SyntaxError",
       "evalue": "invalid syntax (<ipython-input-5-4a15dc6d162c>, line 1)",
       "output_type": "pyerr",
       "traceback": [
        "\u001b[0;36m  File \u001b[0;32m\"<ipython-input-5-4a15dc6d162c>\"\u001b[0;36m, line \u001b[0;32m1\u001b[0m\n\u001b[0;31m    blastn -query /Volumes/web/cnidarian/SeaStar/trinity_assemblies/run1/Trinity.fasta -db /Volumes/Data/blast_db/nt -out /Volumes/web/cnidarian/seastar_trin_nt_3.tab -outfmt \"6 qseqid sseqid pident length evalue bitscore staxids sscinames scomnames sblastnames sskingdoms stitle\" -num_threads 14 -max_hsps 1 -evalue 1E-20 -max_target_seqs 1 -task blastn\u001b[0m\n\u001b[0m                                                                                                                                                                                                                                                                                       ^\u001b[0m\n\u001b[0;31mSyntaxError\u001b[0m\u001b[0;31m:\u001b[0m invalid syntax\n"
       ]
      }
     ],
     "prompt_number": 5
    },
    {
     "cell_type": "code",
     "collapsed": false,
     "input": [
      "!head /Volumes/web/cnidarian/seastar_trin_nt_3.tab"
     ],
     "language": "python",
     "metadata": {},
     "outputs": [
      {
       "output_type": "stream",
       "stream": "stdout",
       "text": [
        "c144_g1_i1\tgi|3850557|gb|AC005947.1|AC005947\t99.19\t248\t5e-120\t  439\t9606\tHomo sapiens\thuman\tprimates\tEukaryota\tHomo sapiens chromosome 19, cosmid R30373, complete sequence\r\n",
        "c206_g1_i1\tgi|11544493|emb|AL355984.11|\t96.85\t222\t9e-98\t  365\t9606\tHomo sapiens\thuman\tprimates\tEukaryota\tHuman DNA sequence from clone RP11-501K3 on chromosome 13, complete sequence\r\n",
        "c636_g1_i1\tgi|9664668|gb|AF269347.1|AF269347\t100.00\t207\t1e-100\t  374\t1282\tStaphylococcus epidermidis\tStaphylococcus epidermidis\tfirmicutes\tBacteria\tStaphylococcus epidermidis strain SR1 clone step.1002d09 genomic sequence\r\n",
        "c637_g1_i1\tgi|19697316|gb|AC092958.4|\t100.00\t204\t6e-99\t  369\t9606\tHomo sapiens\thuman\tprimates\tEukaryota\tHomo sapiens 3 BAC RP11-639B1 (Roswell Park Cancer Institute Human BAC Library) complete sequence\r\n",
        "c647_g1_i1\tgi|15187234|gb|AC020925.8|\t100.00\t239\t7e-118\t  432\t9606\tHomo sapiens\thuman\tprimates\tEukaryota\tHomo sapiens chromosome 5 clone CTD-2134K2, complete sequence\r\n",
        "c712_g1_i1\tgi|11321810|gb|AC007717.8|AC007717\t99.59\t242\t7e-118\t  432\t9606\tHomo sapiens\thuman\tprimates\tEukaryota\tHomo sapiens chromosome 18, clone RP11-315O17, complete sequence\r\n",
        "c751_g1_i1\tgi|20279379|gb|AC026392.7|\t97.39\t153\t8e-66\t  259\t9606\tHomo sapiens\thuman\tprimates\tEukaryota\tHomo sapiens chromosome 10 clone RP11-238C10, complete sequence\r\n",
        "c760_g1_i1\tgi|13157563|emb|AL357149.13|\t98.71\t233\t3e-110\t  407\t9606\tHomo sapiens\thuman\tprimates\tEukaryota\tHuman DNA sequence from clone RP11-352E13 on chromosome 6, complete sequence\r\n",
        "c774_g1_i1\tgi|517309970|emb|HF679023.1|\t99.62\t262\t1e-128\t  468\t1279085\tFusarium fujikuroi IMI 58289\tFusarium fujikuroi IMI 58289\tascomycetes\tEukaryota\tFusarium fujikuroi IMI 58289 draft genome, chromosome FFUJ_chr01\r\n",
        "c861_g1_i1\tgi|14970792|emb|AL139406.14|\t100.00\t203\t2e-98\t  367\t9606\tHomo sapiens\thuman\tprimates\tEukaryota\tHuman DNA sequence from clone RP11-425M17 on chromosome 10, complete sequence\r\n"
       ]
      }
     ],
     "prompt_number": 8
    },
    {
     "cell_type": "code",
     "collapsed": false,
     "input": [
      "\n",
      "blastx \\\n",
      "-query /Volumes/web/cnidarian/SeaStar/trinity_assemblies/run1/Trinity.fasta \\\n",
      "-db /Volumes/Data/blast_db/refseq_protein \\\n",
      "-out /Volumes/web/cnidarian/seastar_trin_reseq_protein_2.tab \\\n",
      "-outfmt \"6 qseqid sseqid pident length evalue bitscore staxids sscinames scomnames sblastnames sskingdoms stitle\" \\\n",
      "-num_threads 4 \\\n",
      "-max_hsps 1 \\\n",
      "-max_target_seqs 1 \\\n",
      "-evalue 1E-20"
     ],
     "language": "python",
     "metadata": {},
     "outputs": []
    },
    {
     "cell_type": "code",
     "collapsed": false,
     "input": [
      "\n",
      "blastx \\\n",
      "-query /Volumes/web/cnidarian/SeaStar/trinity_assemblies/run1/Trinity.fasta \\\n",
      "-db /Volumes/Data/blast_db/nr \\\n",
      "-out /Volumes/web/cnidarian/seastar_trin_nr_2.tab \\\n",
      "-outfmt \"6 qseqid sseqid pident length evalue bitscore staxids sscinames scomnames sblastnames sskingdoms stitle\" \\\n",
      "-num_threads 2 \\\n",
      "-max_hsps 1 \\\n",
      "-max_target_seqs 1 \\\n",
      "-evalue 1E-20"
     ],
     "language": "python",
     "metadata": {},
     "outputs": []
    },
    {
     "cell_type": "code",
     "collapsed": false,
     "input": [
      "blastn \\\n",
      "-query /Volumes/web/cnidarian/SeaStar/trinity_assemblies/run1/Trinity.fasta \\\n",
      "-db /Volumes/Data/blast_db/est_others \\\n",
      "-out /Volumes/web/cnidarian/seastar_trin_est_others_2.tab \\\n",
      "-outfmt \"6 qseqid sseqid pident length evalue bitscore staxids sscinames scomnames sblastnames sskingdoms stitle\" \\\n",
      "-num_threads 2 \\\n",
      "-max_hsps 1 \\\n",
      "-max_target_seqs 1 \\\n",
      "-evalue 1E-20"
     ],
     "language": "python",
     "metadata": {},
     "outputs": []
    },
    {
     "cell_type": "code",
     "collapsed": false,
     "input": [
      "\n",
      "#fail\n",
      "\n",
      "blastx \\\n",
      "-query /Volumes/web/cnidarian/SeaStar/trinity_assemblies/run1/Trinity.fasta \\\n",
      "-db /Volumes/Data/blast_db/swissprot \\\n",
      "-out /Volumes/web/cnidarian/seastar_trin_swissprot_2.tab \\\n",
      "-outfmt \"6 qseqid sseqid pident length evalue bitscore staxids sscinames scomnames sblastnames sskingdoms stitle\" \\\n",
      "-num_threads 8 \\\n",
      "-max_hsps 1 \\\n",
      "-max_target_seqs 1 \\\n",
      "-evalue 1E-20"
     ],
     "language": "python",
     "metadata": {},
     "outputs": []
    },
    {
     "cell_type": "code",
     "collapsed": false,
     "input": [
      "#fail Segmentation fault: 11\n",
      "\n",
      "blastx \\\n",
      "-query /Volumes/web/cnidarian/SeaStar/trinity_assemblies/run1/Trinity.fasta \\\n",
      "-db /Volumes/Data/blast_db/uniprot_sprot \\\n",
      "-out /Volumes/web/cnidarian/seastar_trin_uniprot_sprot_2.tab \\\n",
      "-outfmt \"6 qseqid sseqid pident length evalue bitscore staxids sscinames scomnames sblastnames sskingdoms stitle\" \\\n",
      "-num_threads 8 \\\n",
      "-max_hsps 1 \\\n",
      "-max_target_seqs 1 \\\n",
      "-evalue 1E-20"
     ],
     "language": "python",
     "metadata": {},
     "outputs": []
    },
    {
     "cell_type": "heading",
     "level": 2,
     "metadata": {},
     "source": [
      "CLC Assembly"
     ]
    },
    {
     "cell_type": "code",
     "collapsed": false,
     "input": [
      "#for genefish - COMPLETED\n",
      "blastx \\\n",
      "-query /Volumes/web/cnidarian/SeaStar_transc_v2.fa \\\n",
      "-db /Users/Shared/data/blast/db/uniprot_sprot \\\n",
      "-out /Volumes/web/cnidarian/seastar_clc_uniprot_sprot_1.tab \\\n",
      "-outfmt 6 \\\n",
      "-num_threads 8 \\\n",
      "-max_hsps 1 \\\n",
      "-max_target_seqs 1 \\\n",
      "-evalue 1E-20"
     ],
     "language": "python",
     "metadata": {},
     "outputs": []
    },
    {
     "cell_type": "code",
     "collapsed": false,
     "input": [
      "!wc -l /Volumes/web/cnidarian/seastar_clc_uniprot_sprot_1.tab"
     ],
     "language": "python",
     "metadata": {},
     "outputs": [
      {
       "output_type": "stream",
       "stream": "stdout",
       "text": [
        "    8913 /Volumes/web/cnidarian/seastar_clc_uniprot_sprot_1.tab\r\n"
       ]
      }
     ],
     "prompt_number": 3
    },
    {
     "cell_type": "code",
     "collapsed": false,
     "input": [
      "!head -2 /Volumes/web/cnidarian/seastar_clc_uniprot_sprot_1.tab"
     ],
     "language": "python",
     "metadata": {},
     "outputs": [
      {
       "output_type": "stream",
       "stream": "stdout",
       "text": [
        "3291_5903_10007_H94MGADXX_V_CF71_ATCACG_R1_(paired)_trimmed_(paired)_contig_4\tsp|P25001|COX1_PISOC\t88.39\t517\t48\t1\t7061\t5547\t1\t517\t0.0\t  749\r\n",
        "3291_5903_10007_H94MGADXX_V_CF71_ATCACG_R1_(paired)_trimmed_(paired)_contig_7\tsp|Q33818|CYB_ASTPE\t79.94\t329\t66\t0\t993\t7\t51\t379\t9e-168\t  479\r\n"
       ]
      }
     ],
     "prompt_number": 4
    },
    {
     "cell_type": "code",
     "collapsed": false,
     "input": [
      "#running hummingbird -- complete \n",
      "blastn \\\n",
      "-query /Volumes/web/cnidarian/SeaStar_transc_v2.fa \\\n",
      "-db /Volumes/Data/blast_db/nt \\\n",
      "-out /Volumes/web/cnidarian/seastar_clc_nt_1.tab \\\n",
      "-outfmt \"6 qseqid sseqid pident length evalue bitscore staxids sscinames scomnames sblastnames sskingdoms stitle\" \\\n",
      "-num_threads 14 \\\n",
      "-max_hsps 1 \\\n",
      "-evalue 1E-10 \\\n",
      "-max_target_seqs 1 \\\n",
      "-task blastn"
     ],
     "language": "python",
     "metadata": {},
     "outputs": []
    },
    {
     "cell_type": "code",
     "collapsed": false,
     "input": [
      "!head /Volumes/web/cnidarian/seastar_clc_nt_1.tab"
     ],
     "language": "python",
     "metadata": {},
     "outputs": [
      {
       "output_type": "stream",
       "stream": "stdout",
       "text": [
        "head: /Volumes/web/cnidarian/seastar_clc_nt_1.tab: No such file or directory\r\n"
       ]
      }
     ],
     "prompt_number": 9
    },
    {
     "cell_type": "code",
     "collapsed": false,
     "input": [
      "!head -2 /Volumes/web/cnidarian/seastar_clc_nt_1.tab"
     ],
     "language": "python",
     "metadata": {},
     "outputs": [
      {
       "output_type": "stream",
       "stream": "stdout",
       "text": [
        "3291_5903_10007_H94MGADXX_V_CF71_ATCACG_R1_(paired)_trimmed_(paired)_contig_2\tgi|378345425|gb|JN676976.1|\t81.71\t175\t1e-33\t  154\t7602\tAsterias amurensis\tAsterias amurensis\tstarfish\tEukaryota\tAsterias amurensis microsatellite Aamr32 sequence\r\n",
        "3291_5903_10007_H94MGADXX_V_CF71_ATCACG_R1_(paired)_trimmed_(paired)_contig_4\tgi|28881689|emb|X55514.2|\t80.20\t4707\t0.0\t 4239\t7612\tPisaster ochraceus\tochreous starfish\tstarfish\tEukaryota\tPisaster ochraceus mitochondrial DNA for NADH dehydrogenase subunits 1, 2, 3 and 4L, cytochrome oxidase subunits I, II and III, ATPase subunits 6 and 8, and 13 tRNAs\r\n"
       ]
      }
     ],
     "prompt_number": 11
    },
    {
     "cell_type": "code",
     "collapsed": false,
     "input": [
      "!awk '{print $14}' /Volumes/web/cnidarian/seastar_clc_nt_1.tab > /Volumes/web/cnidarian/seastar_clc_SPECIES_id.tab\n",
      "!</Volumes/web/cnidarian/seastar_clc_SPECIES_id.tab cut -d' ' -f1 | sort -n | uniq -c"
     ],
     "language": "python",
     "metadata": {},
     "outputs": [
      {
       "output_type": "stream",
       "stream": "stdout",
       "text": [
        "  29 &\r\n",
        "   1 (Eulachnus\r\n",
        "   1 (clone\r\n",
        "   1 A.pectinifera\r\n",
        "   1 ACA-DC\r\n",
        "   1 APEC\r\n",
        " 211 ATCC\r\n",
        "   1 Acanthaster\r\n",
        "   3 Aeromonas\r\n",
        "   1 Af293;Aspergillus\r\n",
        "   1 Alteromonas\r\n",
        "  12 Anas\r\n",
        "   1 Anopheles\r\n",
        "   1 Anoplopoma\r\n",
        "   1 Aphis\r\n",
        "   1 Arenicola\r\n",
        "   1 Artemia\r\n",
        "   1 Aspergillus\r\n",
        "1062 Asterias\r\n",
        "  60 Asterina\r\n",
        "   1 Astropecten\r\n",
        "   1 Aurelia\r\n",
        "   1 Avena\r\n",
        "   1 Bacillus\r\n",
        "   1 Balanoglossus\r\n",
        "   1 Bartonella\r\n",
        "   2 Baumannia\r\n",
        "   1 Bay\r\n",
        "   1 Bifidobacterium\r\n",
        "   1 Biomphalaria\r\n",
        "   2 Blochmannia\r\n",
        "   7 Bombyx\r\n",
        "   9 Bos\r\n",
        "   4 Bovine\r\n",
        " 376 Branchiostoma\r\n",
        "   1 Brugia\r\n",
        "   7 Buchnera\r\n",
        "   1 C7\r\n",
        "   2 CBS\r\n",
        "   1 CDCE\r\n",
        "   6 CFB\r\n",
        "   3 CIPT\r\n",
        "   2 CSL\r\n",
        "   4 Caenorhabditis\r\n",
        "   1 Caligus\r\n",
        "   9 Callorhinchus\r\n",
        "   1 Candida\r\n",
        "   1 Candidatus\r\n",
        "   6 Canis\r\n",
        "   1 Chlamys\r\n",
        "   1 Chlorella\r\n",
        "   1 Chrysemys\r\n",
        "   1 Cicer\r\n",
        "   3 Ciona\r\n",
        "   1 Clavibacter\r\n",
        "   2 Clostridium\r\n",
        " 110 Coscinasterias\r\n",
        "   4 Crassostrea\r\n",
        "   1 Cristaria\r\n",
        "   1 Cryptochiton\r\n",
        "   1 Cupiennius\r\n",
        "   2 D8Z2\r\n",
        "   2 DB\r\n",
        "  86 DNA\r\n",
        " 122 DSM\r\n",
        "  28 Danio\r\n",
        "   1 Diplasterias\r\n",
        "  27 Drosophila\r\n",
        "   1 Eimeria\r\n",
        "   1 Enterococcus\r\n",
        "   6 Eptatretus\r\n",
        "   1 Equus\r\n",
        " 534 Eukaryota\r\n",
        "   1 Evasterias\r\n",
        "   1 FA\r\n",
        "   1 Frischella\r\n",
        "   8 Fusarium\r\n",
        "  16 Gallus\r\n",
        "   1 Gemmata\r\n",
        "  16 Gibberella\r\n",
        "   1 Gilliamella\r\n",
        "   4 Gossypium\r\n",
        "  16 Gram+\r\n",
        "   4 Haemophilus\r\n",
        "   1 Helix\r\n",
        "  10 Homo\r\n",
        "   2 Hydractinia\r\n",
        "   1 Hypocrea\r\n",
        "   3 IFM\r\n",
        "   5 IMI\r\n",
        "   1 Ilyanassa\r\n",
        "   1 KCTC\r\n",
        "   1 Kluyveromyces\r\n",
        "   1 LACM\r\n",
        "   1 Lactococcus\r\n",
        "   1 Leifsonia\r\n",
        "   1 Leishmania\r\n",
        "   1 Leptasterias\r\n",
        "   1 Leuconostoc\r\n",
        "   1 Limax\r\n",
        "   4 Littorina\r\n",
        "   1 Loa\r\n",
        "   1 Luidia\r\n",
        "   3 Macaca\r\n",
        "   1 Malassezia\r\n",
        " 238 Marthasterias\r\n",
        "  17 Meleagris\r\n",
        "  17 Melopsittacus\r\n",
        "   1 MoClo\r\n",
        "   1 Moraxella\r\n",
        "   1 Mortierella\r\n",
        "   6 Mouse\r\n",
        "  47 Mus\r\n",
        "   1 Mytilus\r\n",
        "   3 N/A\r\n",
        "   1 NBRC\r\n",
        "   2 NCIMB\r\n",
        "   2 NCTC\r\n",
        "   2 NRRL\r\n",
        "   1 Nc\r\n",
        "   2 Neisseria\r\n",
        "   1 Neurospora\r\n",
        "   2 Nocardiopsis\r\n",
        "  13 Octodon\r\n",
        "  19 Ornithorhynchus\r\n",
        "   1 Oryza\r\n",
        "   1 Oxycomanthus\r\n",
        "   1 P.ochraceus\r\n",
        "  13 PCC\r\n",
        " 927 PREDICTED:\r\n",
        "   2 Pan\r\n",
        "   3 Papilio\r\n",
        "   1 Parvulastra\r\n",
        "   2 Pasteurella\r\n",
        "   1 Patella\r\n",
        "  92 Patiria\r\n",
        "   1 Perknaster\r\n",
        "   1 Perna\r\n",
        "   1 Phakopsora\r\n",
        "   3 Photorhabdus\r\n",
        "   1 Phyllostachys\r\n",
        "   1 Physcomitrella\r\n",
        "   1 Phytophthora\r\n",
        "   1 Picea\r\n",
        "   2 Pinus\r\n",
        "   4 Pisaster\r\n",
        "   1 Primary\r\n",
        "   1 Pringsheim\r\n",
        "   1 QM\r\n",
        "   1 Rat\r\n",
        "  25 Rattus\r\n",
        "   1 Rd\r\n",
        "   1 Rhesus\r\n",
        "   1 Ricinus\r\n",
        "   1 S.epidermidis\r\n",
        "   2 S.epidermis\r\n",
        "  24 Saccoglossus\r\n",
        "   2 Salmonella\r\n",
        "   7 Salpingoeca\r\n",
        "   1 Sau3A\r\n",
        "   1 Schistosoma\r\n",
        "   1 Scophthalmus\r\n",
        "   1 Simiduia\r\n",
        "   1 So\r\n",
        "   1 Solanum\r\n",
        "   2 Solaster\r\n",
        " 467 Staphylococcus\r\n",
        "  36 Starfish\r\n",
        "   1 Stenoxybacter\r\n",
        "   1 Streptococcus\r\n",
        "   7 Suberites\r\n",
        "   3 Sus\r\n",
        "   1 Sycon\r\n",
        "   1 TPA_inf:\r\n",
        "   3 Taeniopygia\r\n",
        "   3 Takifugu\r\n",
        "   2 Trichinella\r\n",
        "   3 Trichoplax\r\n",
        "   1 Trichoplusia\r\n",
        "   1 Triticum\r\n",
        "   2 Tu\r\n",
        " 212 TypeIA2\r\n",
        "   1 UW-1\r\n",
        "  10 Uncultured\r\n",
        "   1 Venerupis\r\n",
        "   1 Vibrio\r\n",
        "   2 Vitis\r\n",
        "   4 WUE\r\n",
        "   1 Xenorhabdus\r\n",
        "   3 Zea\r\n",
        "  78 Zebrafish\r\n",
        "   1 Zymomonas\r\n",
        "  12 a-proteobacteria\r\n",
        "   5 abscessus\r\n",
        "   1 aleyrodidarum\r\n",
        "   2 alpha\r\n",
        "   1 alphoid\r\n",
        "   1 and\r\n",
        "  42 anemones\r\n",
        "   7 apicomplexans\r\n",
        "   3 arietinum\r\n",
        "   5 ascomycetes\r\n",
        "   1 asiaticus\r\n",
        "  12 aureus\r\n",
        " 167 b-proteobacteria\r\n",
        "   3 bacteria\r\n",
        "   1 basidiomycetes\r\n",
        "   9 bees\r\n",
        "   1 birds\r\n",
        "   7 blastocrithidii\r\n",
        "   1 bovine\r\n",
        "   1 brockii\r\n",
        "   1 bursaria\r\n",
        "   2 bv.\r\n",
        "   4 capsulata\r\n",
        "   2 carnosus\r\n",
        "   7 cellular\r\n",
        "   2 choanoflagellates\r\n",
        "   4 chromosome\r\n",
        "   1 communis\r\n",
        "   2 crithidii\r\n",
        "   1 crucian\r\n",
        "   1 cruzi\r\n",
        "   2 cucumbers\r\n",
        "   2 cyanobacteria\r\n",
        "   4 d-proteobacteria\r\n",
        "  10 desouzaii\r\n",
        "   1 dinoflagellates\r\n",
        "  12 dolphins\r\n",
        "   1 e-proteobacteria\r\n",
        "   2 endosymbiont\r\n",
        "  24 enterobacteria\r\n",
        "   1 eukaryotes\r\n",
        "   1 f.\r\n",
        "   1 faecalis\r\n",
        "   2 fastidiosa\r\n",
        " 198 firmicutes\r\n",
        "   8 fishes\r\n",
        "   1 flies\r\n",
        "  41 frogs\r\n",
        " 152 g-proteobacteria\r\n",
        "   1 galatii\r\n",
        "  10 gallus\r\n",
        "   2 gastropods\r\n",
        "   8 genomic\r\n",
        "   1 green\r\n",
        "  15 hares\r\n",
        " 294 high\r\n",
        "   1 indicus\r\n",
        "   2 jejuni\r\n",
        "   1 kinetoplastids\r\n",
        "   7 lactis\r\n",
        "   3 lancelets\r\n",
        "   1 leukemia\r\n",
        "   2 lice\r\n",
        "   1 luminescens\r\n",
        "   2 lycopersicum\r\n",
        "   2 magnifica)\r\n",
        "   1 marine\r\n",
        "   1 mexicanum\r\n",
        "   1 mixed\r\n",
        "   6 molds\r\n",
        "   1 monocots\r\n",
        "   1 mpVI\r\n",
        "   5 necessarius\r\n",
        "   1 neoformans\r\n",
        "   5 novicida\r\n",
        "  12 odd-toed\r\n",
        "   7 okutanii\r\n",
        "   2 oncopeltii\r\n",
        "   2 oomycetes\r\n",
        "   5 other\r\n",
        "   5 phage\r\n",
        "   8 primates\r\n",
        "   1 proteobacterium\r\n",
        "   1 retinoblastoma\r\n",
        " 228 sapiens\r\n",
        "   1 sequence\r\n",
        "   1 smegmatis\r\n",
        "   9 sp.\r\n",
        "   6 str.\r\n",
        "   3 strain\r\n",
        "  17 subsp.\r\n",
        "   2 symbiotica\r\n",
        "  26 ticks\r\n",
        "   1 toads\r\n",
        "  13 troglodytes\r\n",
        "   5 tularensis\r\n",
        "  56 turtles\r\n",
        "   1 ubique\r\n"
       ]
      },
      {
       "output_type": "stream",
       "stream": "stdout",
       "text": [
        "3918 urchins\r\n",
        "   1 virus\r\n",
        "  22 viruses\r\n",
        "   6 worms\r\n",
        "   1 04\r\n",
        "   1 06\r\n",
        "   2 75-36-700-3\r\n",
        "   1 17749\r\n",
        "   3 44683\r\n",
        "   1 46488\r\n"
       ]
      }
     ],
     "prompt_number": 14
    },
    {
     "cell_type": "code",
     "collapsed": false,
     "input": [
      "!head -1 /Volumes/web/cnidarian/seastar_clc_refseq_rna_1.tab"
     ],
     "language": "python",
     "metadata": {},
     "outputs": [
      {
       "output_type": "stream",
       "stream": "stdout",
       "text": [
        "3291_5903_10007_H94MGADXX_V_CF71_ATCACG_R1_(paired)_trimmed_(paired)_contig_4\tgi|297279413|ref|XM_002801677.1|\t71.70\t901\t3e-128\t  470\t9544\tMacaca mulatta\tRhesus monkey\tprimates\tEukaryota\tPREDICTED: Macaca mulatta hypothetical protein LOC100428825 (LOC100428825), mRNA\r\n"
       ]
      }
     ],
     "prompt_number": 17
    },
    {
     "cell_type": "heading",
     "level": 1,
     "metadata": {},
     "source": [
      "Hewson"
     ]
    },
    {
     "cell_type": "markdown",
     "metadata": {},
     "source": [
      "<img src=\"http://eagle.fish.washington.edu/cnidarian/skitch/greenbird_197DC8B3.png\" alt=\"greenbird_197DC8B3.png\"/>"
     ]
    },
    {
     "cell_type": "markdown",
     "metadata": {},
     "source": [
      "<img src=\"http://eagle.fish.washington.edu/cnidarian/skitch/greenbird_197DC82A.png\" alt=\"greenbird_197DC82A.png\"/>"
     ]
    },
    {
     "cell_type": "code",
     "collapsed": false,
     "input": [
      "!head /Volumes/web/cnidarian/Hewson_transc_clc.fa"
     ],
     "language": "python",
     "metadata": {},
     "outputs": [
      {
       "output_type": "stream",
       "stream": "stdout",
       "text": [
        ">T1_GGACTCC_L001_R1_001_(paired)_contig_1\r\n",
        "GCTCGGAGATGTGTATAAGAGACAGGTCCGGGAACGTATTCACCGCGCCATTGCTGATGC\r\n",
        "GCGATTACTAGCGATTCCAACTTCATGGGGCCGAGTTGCAGGCCCCAATCCGAACTGAGG\r\n",
        "CACACTTTTTGGGATTGGCTGACCGTTACCGGATCGCAACCCTCTGTATGCACCATTGTA\r\n",
        "GCACGTGTGTAGCCCTGGGCATAAGGGCCATGATGACTTGACGTCGTCCCCACCTTCCTC\r\n",
        "TCTGCTTGCGCAGGCAGTCCCGTTAGAGTCCCCAGCTTCACCTGTTGGCAACTAACGGTA\r\n",
        "GGGGTTGCGCTCGTTGCGGGACTTAACCCAACACCTCACGGCACGAGCTGACGACAGCCA\r\n",
        "TGCAGCACCTTTGTTTCACGTCCGAAGAACAGGCCATCTCTGGCCTTTGCGATCACATTC\r\n",
        "AAGCCCAGGTAAGGTTCCTCGCGTACCATCGAATTAAACCACATGCTCCACCGCTTGTGC\r\n",
        "GGACCCCCGTCAATTCCTTTGAGTTTCACCCTTGCGGGCGTACTCCCCAGGTGGCTCACT\r\n"
       ]
      }
     ],
     "prompt_number": 18
    },
    {
     "cell_type": "code",
     "collapsed": false,
     "input": [
      "#running hummingbird \n",
      "blastn \\\n",
      "-query /Volumes/web/cnidarian/Hewson_transc_clc.fa \\\n",
      "-db /Volumes/Data/blast_db/nt \\\n",
      "-out /Volumes/web/cnidarian/Hewson_clc_nt_1.tab \\\n",
      "-outfmt \"6 qseqid sseqid pident length evalue bitscore staxids sscinames scomnames sblastnames sskingdoms stitle\" \\\n",
      "-num_threads 12 \\\n",
      "-max_hsps 1 \\\n",
      "-evalue 1E-10 \\\n",
      "-max_target_seqs 1 \\\n",
      "-task blastn"
     ],
     "language": "python",
     "metadata": {},
     "outputs": []
    },
    {
     "cell_type": "code",
     "collapsed": false,
     "input": [
      "blastx \\\n",
      "-query /Volumes/web/cnidarian/Hewson_transc_clc.fa \\\n",
      "-db /Users/Shared/data/blast/db/uniprot_sprot \\\n",
      "-out /Volumes/web/cnidarian/Hewson_clc_uniprot_sprot_1.tab \\\n",
      "-outfmt 6 \\\n",
      "-num_threads 4 \\\n",
      "-max_hsps 1 \\\n",
      "-max_target_seqs 1 \\\n",
      "-evalue 1E-20"
     ],
     "language": "python",
     "metadata": {},
     "outputs": []
    }
   ],
   "metadata": {}
  }
 ]
}