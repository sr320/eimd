{
 "metadata": {
  "name": "",
  "signature": "sha256:7394a0753873b5a9a8780faa10fdb46bb307741d546ec50b33df4a0260903ff6"
 },
 "nbformat": 3,
 "nbformat_minor": 0,
 "worksheets": [
  {
   "cells": [
    {
     "cell_type": "heading",
     "level": 1,
     "metadata": {},
     "source": [
      "Annotation (Blast)"
     ]
    },
    {
     "cell_type": "heading",
     "level": 2,
     "metadata": {},
     "source": [
      "Trinity Assembly"
     ]
    },
    {
     "cell_type": "code",
     "collapsed": false,
     "input": [
      "!fgrep -c \">\" /Volumes/web/cnidarian/SeaStar/trinity_assemblies/run1/Trinity.fasta"
     ],
     "language": "python",
     "metadata": {},
     "outputs": [
      {
       "output_type": "stream",
       "stream": "stdout",
       "text": [
        "145222\r\n"
       ]
      }
     ],
     "prompt_number": 6
    },
    {
     "cell_type": "code",
     "collapsed": false,
     "input": [
      "!tail -5 /Volumes/web/cnidarian/SeaStar/trinity_assemblies/run1/Trinity.fasta"
     ],
     "language": "python",
     "metadata": {},
     "outputs": [
      {
       "output_type": "stream",
       "stream": "stdout",
       "text": [
        ">c391854_g1_i1 len=228 path=[1:0-227]\r\n",
        "GTTTTTTCTTTCTCTATTTTTGGTTACCTTTTAGTTTTTAAAACAAATTGGCAAATTGTT\r\n",
        "ATTCACCAGGGTATTTAGTTACAATTCAGCATGCATCTTTTGGGGGATACTTGGAAGTAT\r\n",
        "TGGCCCTTGCAGTATAGTTTCTGTTTTGTTATATTGGACCTAATGAAAGTTGTGTTATAT\r\n",
        "TGGACCCAGTGCAGGTTATATGTTATAATGGACCCCACAGAACATTTT\r\n"
       ]
      }
     ],
     "prompt_number": 7
    },
    {
     "cell_type": "code",
     "collapsed": false,
     "input": [
      "blastx \\\n",
      "-query /Volumes/web/cnidarian/SeaStar/trinity_assemblies/run1/Trinity.fasta \\\n",
      "-db /Volumes/web/whale/blast/db/uniprot_sprot \\\n",
      "-out /Volumes/web/cnidarian/seastar_trinity1_uniport_sprot.tab \\\n",
      "-evalue 1E-20 \\\n",
      "-max_target_seqs 1 \\\n",
      "-outfmt 6 \\\n",
      "-num_threads 6"
     ],
     "language": "python",
     "metadata": {},
     "outputs": []
    },
    {
     "cell_type": "code",
     "collapsed": false,
     "input": [
      "!head /Volumes/web/cnidarian/seastar_trinity1_uniport_sprot.tab"
     ],
     "language": "python",
     "metadata": {},
     "outputs": [
      {
       "output_type": "stream",
       "stream": "stdout",
       "text": [
        "c120_g1_i1\tsp|O06411|PIT_MYCTU\t69.14\t81\t25\t0\t307\t65\t255\t335\t7e-30\t  114\r\n",
        "c1231_g1_i1\tsp|Q57IW8|FEOB_SALCH\t48.20\t139\t71\t1\t3\t419\t455\t592\t1e-38\t  143\r\n",
        "c1262_g1_i1\tsp|Q8CQ17|SAER_STAES\t99.14\t116\t1\t0\t457\t110\t114\t229\t2e-78\t  238\r\n",
        "c1367_g1_i1\tsp|Q0VGK4|GDPD1_RAT\t45.45\t110\t58\t1\t1\t330\t87\t194\t2e-24\t98.6\r\n",
        "c1630_g1_i1\tsp|P37965|GLPQ_BACSU\t62.50\t96\t35\t1\t290\t3\t110\t204\t1e-27\t  106\r\n",
        "c2156_g1_i1\tsp|Q96MW7|TIGD1_HUMAN\t65.62\t64\t22\t0\t5\t196\t290\t353\t7e-22\t92.4\r\n",
        "c2356_g1_i1\tsp|Q9K9G9|FAPD_BACHD\t73.15\t108\t29\t0\t1\t324\t209\t316\t1e-51\t  173\r\n",
        "c2398_g1_i1\tsp|O14981|BTAF1_HUMAN\t82.61\t115\t20\t0\t345\t1\t1389\t1503\t3e-62\t  211\r\n",
        "c2437_g1_i1\tsp|O13066|RAGP1_XENLA\t59.27\t329\t133\t1\t1052\t69\t30\t358\t8e-121\t  367\r\n",
        "c2471_g1_i1\tsp|P35881|TRA5_LACLA\t100.00\t108\t0\t0\t2\t325\t116\t223\t9e-73\t  227\r\n"
       ]
      }
     ],
     "prompt_number": 2
    },
    {
     "cell_type": "code",
     "collapsed": false,
     "input": [
      "blastn \\\n",
      "-query /Volumes/web/cnidarian/SeaStar/trinity_assemblies/run1/Trinity.fasta \\\n",
      "-db /Volumes/Data/blast_db/nt \\\n",
      "-out /Volumes/web/cnidarian/seastar_trin_nt_3.tab \\\n",
      "-outfmt \"6 qseqid sseqid pident length evalue bitscore staxids sscinames scomnames sblastnames sskingdoms stitle\" \\\n",
      "-num_threads 14 \\\n",
      "-max_hsps 1 \\\n",
      "-evalue 1E-20 \\\n",
      "-max_target_seqs 1 \\\n",
      "-task blastn\n",
      "#running on hummingbird - COMPLETE"
     ],
     "language": "python",
     "metadata": {},
     "outputs": [
      {
       "ename": "SyntaxError",
       "evalue": "invalid syntax (<ipython-input-5-4a15dc6d162c>, line 1)",
       "output_type": "pyerr",
       "traceback": [
        "\u001b[0;36m  File \u001b[0;32m\"<ipython-input-5-4a15dc6d162c>\"\u001b[0;36m, line \u001b[0;32m1\u001b[0m\n\u001b[0;31m    blastn -query /Volumes/web/cnidarian/SeaStar/trinity_assemblies/run1/Trinity.fasta -db /Volumes/Data/blast_db/nt -out /Volumes/web/cnidarian/seastar_trin_nt_3.tab -outfmt \"6 qseqid sseqid pident length evalue bitscore staxids sscinames scomnames sblastnames sskingdoms stitle\" -num_threads 14 -max_hsps 1 -evalue 1E-20 -max_target_seqs 1 -task blastn\u001b[0m\n\u001b[0m                                                                                                                                                                                                                                                                                       ^\u001b[0m\n\u001b[0;31mSyntaxError\u001b[0m\u001b[0;31m:\u001b[0m invalid syntax\n"
       ]
      }
     ],
     "prompt_number": 5
    },
    {
     "cell_type": "code",
     "collapsed": false,
     "input": [
      "!head /Volumes/web/cnidarian/seastar_trin_nt_3.tab"
     ],
     "language": "python",
     "metadata": {},
     "outputs": [
      {
       "output_type": "stream",
       "stream": "stdout",
       "text": [
        "c144_g1_i1\tgi|3850557|gb|AC005947.1|AC005947\t99.19\t248\t5e-120\t  439\t9606\tHomo sapiens\thuman\tprimates\tEukaryota\tHomo sapiens chromosome 19, cosmid R30373, complete sequence\r\n",
        "c206_g1_i1\tgi|11544493|emb|AL355984.11|\t96.85\t222\t9e-98\t  365\t9606\tHomo sapiens\thuman\tprimates\tEukaryota\tHuman DNA sequence from clone RP11-501K3 on chromosome 13, complete sequence\r\n",
        "c636_g1_i1\tgi|9664668|gb|AF269347.1|AF269347\t100.00\t207\t1e-100\t  374\t1282\tStaphylococcus epidermidis\tStaphylococcus epidermidis\tfirmicutes\tBacteria\tStaphylococcus epidermidis strain SR1 clone step.1002d09 genomic sequence\r\n",
        "c637_g1_i1\tgi|19697316|gb|AC092958.4|\t100.00\t204\t6e-99\t  369\t9606\tHomo sapiens\thuman\tprimates\tEukaryota\tHomo sapiens 3 BAC RP11-639B1 (Roswell Park Cancer Institute Human BAC Library) complete sequence\r\n",
        "c647_g1_i1\tgi|15187234|gb|AC020925.8|\t100.00\t239\t7e-118\t  432\t9606\tHomo sapiens\thuman\tprimates\tEukaryota\tHomo sapiens chromosome 5 clone CTD-2134K2, complete sequence\r\n",
        "c712_g1_i1\tgi|11321810|gb|AC007717.8|AC007717\t99.59\t242\t7e-118\t  432\t9606\tHomo sapiens\thuman\tprimates\tEukaryota\tHomo sapiens chromosome 18, clone RP11-315O17, complete sequence\r\n",
        "c751_g1_i1\tgi|20279379|gb|AC026392.7|\t97.39\t153\t8e-66\t  259\t9606\tHomo sapiens\thuman\tprimates\tEukaryota\tHomo sapiens chromosome 10 clone RP11-238C10, complete sequence\r\n",
        "c760_g1_i1\tgi|13157563|emb|AL357149.13|\t98.71\t233\t3e-110\t  407\t9606\tHomo sapiens\thuman\tprimates\tEukaryota\tHuman DNA sequence from clone RP11-352E13 on chromosome 6, complete sequence\r\n",
        "c774_g1_i1\tgi|517309970|emb|HF679023.1|\t99.62\t262\t1e-128\t  468\t1279085\tFusarium fujikuroi IMI 58289\tFusarium fujikuroi IMI 58289\tascomycetes\tEukaryota\tFusarium fujikuroi IMI 58289 draft genome, chromosome FFUJ_chr01\r\n",
        "c861_g1_i1\tgi|14970792|emb|AL139406.14|\t100.00\t203\t2e-98\t  367\t9606\tHomo sapiens\thuman\tprimates\tEukaryota\tHuman DNA sequence from clone RP11-425M17 on chromosome 10, complete sequence\r\n"
       ]
      }
     ],
     "prompt_number": 8
    },
    {
     "cell_type": "code",
     "collapsed": false,
     "input": [
      "\n",
      "blastx \\\n",
      "-query /Volumes/web/cnidarian/SeaStar/trinity_assemblies/run1/Trinity.fasta \\\n",
      "-db /Volumes/Data/blast_db/refseq_protein \\\n",
      "-out /Volumes/web/cnidarian/seastar_trin_reseq_protein_2.tab \\\n",
      "-outfmt \"6 qseqid sseqid pident length evalue bitscore staxids sscinames scomnames sblastnames sskingdoms stitle\" \\\n",
      "-num_threads 4 \\\n",
      "-max_hsps 1 \\\n",
      "-max_target_seqs 1 \\\n",
      "-evalue 1E-20"
     ],
     "language": "python",
     "metadata": {},
     "outputs": []
    },
    {
     "cell_type": "code",
     "collapsed": false,
     "input": [
      "\n",
      "blastx \\\n",
      "-query /Volumes/web/cnidarian/SeaStar/trinity_assemblies/run1/Trinity.fasta \\\n",
      "-db /Volumes/Data/blast_db/nr \\\n",
      "-out /Volumes/web/cnidarian/seastar_trin_nr_2.tab \\\n",
      "-outfmt \"6 qseqid sseqid pident length evalue bitscore staxids sscinames scomnames sblastnames sskingdoms stitle\" \\\n",
      "-num_threads 2 \\\n",
      "-max_hsps 1 \\\n",
      "-max_target_seqs 1 \\\n",
      "-evalue 1E-20"
     ],
     "language": "python",
     "metadata": {},
     "outputs": []
    },
    {
     "cell_type": "code",
     "collapsed": false,
     "input": [
      "blastn \\\n",
      "-query /Volumes/web/cnidarian/SeaStar/trinity_assemblies/run1/Trinity.fasta \\\n",
      "-db /Volumes/Data/blast_db/est_others \\\n",
      "-out /Volumes/web/cnidarian/seastar_trin_est_others_2.tab \\\n",
      "-outfmt \"6 qseqid sseqid pident length evalue bitscore staxids sscinames scomnames sblastnames sskingdoms stitle\" \\\n",
      "-num_threads 2 \\\n",
      "-max_hsps 1 \\\n",
      "-max_target_seqs 1 \\\n",
      "-evalue 1E-20"
     ],
     "language": "python",
     "metadata": {},
     "outputs": []
    },
    {
     "cell_type": "code",
     "collapsed": false,
     "input": [
      "\n",
      "#fail\n",
      "\n",
      "blastx \\\n",
      "-query /Volumes/web/cnidarian/SeaStar/trinity_assemblies/run1/Trinity.fasta \\\n",
      "-db /Volumes/Data/blast_db/swissprot \\\n",
      "-out /Volumes/web/cnidarian/seastar_trin_swissprot_2.tab \\\n",
      "-outfmt \"6 qseqid sseqid pident length evalue bitscore staxids sscinames scomnames sblastnames sskingdoms stitle\" \\\n",
      "-num_threads 8 \\\n",
      "-max_hsps 1 \\\n",
      "-max_target_seqs 1 \\\n",
      "-evalue 1E-20"
     ],
     "language": "python",
     "metadata": {},
     "outputs": []
    },
    {
     "cell_type": "code",
     "collapsed": false,
     "input": [
      "#fail Segmentation fault: 11\n",
      "\n",
      "blastx \\\n",
      "-query /Volumes/web/cnidarian/SeaStar/trinity_assemblies/run1/Trinity.fasta \\\n",
      "-db /Volumes/Data/blast_db/uniprot_sprot \\\n",
      "-out /Volumes/web/cnidarian/seastar_trin_uniprot_sprot_2.tab \\\n",
      "-outfmt \"6 qseqid sseqid pident length evalue bitscore staxids sscinames scomnames sblastnames sskingdoms stitle\" \\\n",
      "-num_threads 8 \\\n",
      "-max_hsps 1 \\\n",
      "-max_target_seqs 1 \\\n",
      "-evalue 1E-20"
     ],
     "language": "python",
     "metadata": {},
     "outputs": []
    },
    {
     "cell_type": "heading",
     "level": 2,
     "metadata": {},
     "source": [
      "CLC Assembly"
     ]
    },
    {
     "cell_type": "code",
     "collapsed": false,
     "input": [
      "!head /Volumes/web/cnidarian/SeaStar_transc_v2.fa"
     ],
     "language": "python",
     "metadata": {},
     "outputs": [
      {
       "output_type": "stream",
       "stream": "stdout",
       "text": [
        ">3291_5903_10007_H94MGADXX_V_CF71_ATCACG_R1_(paired)_trimmed_(paired)_contig_1\r\n",
        "CAAATATATGAACGGTTGATTGTCAACGATTAGTACATGTTTTCATTGTTCCCCACGCCC\r\n",
        "GCCCCCCCCCACTCAAACATTTAAAGTGTGAAATATTATTTATCCACAAATTTCCTTAAA\r\n",
        "CCTGCAAACTTGTCTGCTGTCTCTTATTGGAAGTTATGAAAAAGAACAACGGGTTTTCTT\r\n",
        "TAAAGGGTCTGCGTGCGATTTTCAACCTTTTGAGTAATAGCAGTTATTTTGATAACCGAT\r\n",
        "TTTTTTCAAAGCTCAACAGCTTTTTAAAATAAGGAATCCTATAATGGCCAAACGAATACT\r\n",
        "ATAAAAATAAGGGTTCTCTTAATTGTATAAAACGTATAATTTTATCAATTTTGGGACCGT\r\n",
        "GTAATTTTTTAAAGACCACAAGAATGTTACATACAACAAATAGACGAAACTCGTAGCTTT\r\n",
        "GGAAACTACGTCATGGGCGTTTGGTCAAAAGCTGGAGAGAAAGAGAGGTGGGGTGCCAGA\r\n",
        "CTTAAGTAGTCACGTGATCTGACCAACGCACATCGGAAGCTCGATCGGATGAAATCTTCT\r\n"
       ]
      }
     ],
     "prompt_number": 47
    },
    {
     "cell_type": "code",
     "collapsed": false,
     "input": [
      "!sed 's/3291_5903_10007_H94MGADXX_V_CF71_ATCACG_R1_(paired)_trimmed_(paired)/Phel_clc/g' </Volumes/web/cnidarian/SeaStar_transc_v2.fa> /Users/sr320/Dropbox/Steven/eimd/data/Phel_transcriptome_clc.fa"
     ],
     "language": "python",
     "metadata": {},
     "outputs": [],
     "prompt_number": 48
    },
    {
     "cell_type": "code",
     "collapsed": false,
     "input": [
      "!head /Users/sr320/Dropbox/Steven/eimd/data/Phel_transcriptome_clc.fa"
     ],
     "language": "python",
     "metadata": {},
     "outputs": [
      {
       "output_type": "stream",
       "stream": "stdout",
       "text": [
        ">Phel_clc_contig_1\r\n",
        "CAAATATATGAACGGTTGATTGTCAACGATTAGTACATGTTTTCATTGTTCCCCACGCCC\r\n",
        "GCCCCCCCCCACTCAAACATTTAAAGTGTGAAATATTATTTATCCACAAATTTCCTTAAA\r\n",
        "CCTGCAAACTTGTCTGCTGTCTCTTATTGGAAGTTATGAAAAAGAACAACGGGTTTTCTT\r\n",
        "TAAAGGGTCTGCGTGCGATTTTCAACCTTTTGAGTAATAGCAGTTATTTTGATAACCGAT\r\n",
        "TTTTTTCAAAGCTCAACAGCTTTTTAAAATAAGGAATCCTATAATGGCCAAACGAATACT\r\n",
        "ATAAAAATAAGGGTTCTCTTAATTGTATAAAACGTATAATTTTATCAATTTTGGGACCGT\r\n",
        "GTAATTTTTTAAAGACCACAAGAATGTTACATACAACAAATAGACGAAACTCGTAGCTTT\r\n",
        "GGAAACTACGTCATGGGCGTTTGGTCAAAAGCTGGAGAGAAAGAGAGGTGGGGTGCCAGA\r\n",
        "CTTAAGTAGTCACGTGATCTGACCAACGCACATCGGAAGCTCGATCGGATGAAATCTTCT\r\n"
       ]
      }
     ],
     "prompt_number": 49
    },
    {
     "cell_type": "code",
     "collapsed": false,
     "input": [
      "cp /Users/sr320/Dropbox/Steven/eimd/data/Phel_transcriptome_clc.fa /Volumes/web/whale/eimd_14/"
     ],
     "language": "python",
     "metadata": {},
     "outputs": []
    },
    {
     "cell_type": "code",
     "collapsed": false,
     "input": [
      "#for genefish - COMPLETED\n",
      "blastx \\\n",
      "-query /Volumes/web/cnidarian/SeaStar_transc_v2.fa \\\n",
      "-db /Users/Shared/data/blast/db/uniprot_sprot \\\n",
      "-out /Volumes/web/cnidarian/seastar_clc_uniprot_sprot_1.tab \\\n",
      "-outfmt 6 \\\n",
      "-num_threads 8 \\\n",
      "-max_hsps 1 \\\n",
      "-max_target_seqs 1 \\\n",
      "-evalue 1E-20"
     ],
     "language": "python",
     "metadata": {},
     "outputs": []
    },
    {
     "cell_type": "code",
     "collapsed": false,
     "input": [
      "!wc -l /Volumes/web/cnidarian/seastar_clc_uniprot_sprot_1.tab"
     ],
     "language": "python",
     "metadata": {},
     "outputs": [
      {
       "output_type": "stream",
       "stream": "stdout",
       "text": [
        "    8913 /Volumes/web/cnidarian/seastar_clc_uniprot_sprot_1.tab\r\n"
       ]
      }
     ],
     "prompt_number": 3
    },
    {
     "cell_type": "code",
     "collapsed": false,
     "input": [
      "!head -2 /Volumes/web/cnidarian/seastar_clc_uniprot_sprot_1.tab"
     ],
     "language": "python",
     "metadata": {},
     "outputs": [
      {
       "output_type": "stream",
       "stream": "stdout",
       "text": [
        "3291_5903_10007_H94MGADXX_V_CF71_ATCACG_R1_(paired)_trimmed_(paired)_contig_4\tsp|P25001|COX1_PISOC\t88.39\t517\t48\t1\t7061\t5547\t1\t517\t0.0\t  749\r\n",
        "3291_5903_10007_H94MGADXX_V_CF71_ATCACG_R1_(paired)_trimmed_(paired)_contig_7\tsp|Q33818|CYB_ASTPE\t79.94\t329\t66\t0\t993\t7\t51\t379\t9e-168\t  479\r\n"
       ]
      }
     ],
     "prompt_number": 4
    },
    {
     "cell_type": "code",
     "collapsed": false,
     "input": [],
     "language": "python",
     "metadata": {},
     "outputs": []
    },
    {
     "cell_type": "code",
     "collapsed": false,
     "input": [
      "#running hummingbird -- complete \n",
      "blastn \\\n",
      "-query /Volumes/web/cnidarian/SeaStar_transc_v2.fa \\\n",
      "-db /Volumes/Data/blast_db/nt \\\n",
      "-out /Volumes/web/cnidarian/seastar_clc_nt_1.tab \\\n",
      "-outfmt \"6 qseqid sseqid pident length evalue bitscore staxids sscinames scomnames sblastnames sskingdoms stitle\" \\\n",
      "-num_threads 14 \\\n",
      "-max_hsps 1 \\\n",
      "-evalue 1E-10 \\\n",
      "-max_target_seqs 1 \\\n",
      "-task blastn"
     ],
     "language": "python",
     "metadata": {},
     "outputs": []
    },
    {
     "cell_type": "code",
     "collapsed": false,
     "input": [
      "!head /Volumes/web/cnidarian/seastar_clc_nt_1.tab"
     ],
     "language": "python",
     "metadata": {},
     "outputs": [
      {
       "output_type": "stream",
       "stream": "stdout",
       "text": [
        "head: /Volumes/web/cnidarian/seastar_clc_nt_1.tab: No such file or directory\r\n"
       ]
      }
     ],
     "prompt_number": 9
    },
    {
     "cell_type": "code",
     "collapsed": false,
     "input": [
      "!head -2 /Volumes/web/cnidarian/seastar_clc_nt_1.tab"
     ],
     "language": "python",
     "metadata": {},
     "outputs": [
      {
       "output_type": "stream",
       "stream": "stdout",
       "text": [
        "3291_5903_10007_H94MGADXX_V_CF71_ATCACG_R1_(paired)_trimmed_(paired)_contig_2\tgi|378345425|gb|JN676976.1|\t81.71\t175\t1e-33\t  154\t7602\tAsterias amurensis\tAsterias amurensis\tstarfish\tEukaryota\tAsterias amurensis microsatellite Aamr32 sequence\r\n",
        "3291_5903_10007_H94MGADXX_V_CF71_ATCACG_R1_(paired)_trimmed_(paired)_contig_4\tgi|28881689|emb|X55514.2|\t80.20\t4707\t0.0\t 4239\t7612\tPisaster ochraceus\tochreous starfish\tstarfish\tEukaryota\tPisaster ochraceus mitochondrial DNA for NADH dehydrogenase subunits 1, 2, 3 and 4L, cytochrome oxidase subunits I, II and III, ATPase subunits 6 and 8, and 13 tRNAs\r\n"
       ]
      }
     ],
     "prompt_number": 11
    },
    {
     "cell_type": "code",
     "collapsed": false,
     "input": [
      "!sed 's/3291_5903_10007_H94MGADXX_V_CF71_ATCACG_R1_(paired)_trimmed_(paired)/Phel_clc/g' </Volumes/web/cnidarian/seastar_clc_nt_1.tab> /Volumes/web/cnidarian/seastar_clc_nt_1_c.tab"
     ],
     "language": "python",
     "metadata": {},
     "outputs": [],
     "prompt_number": 27
    },
    {
     "cell_type": "code",
     "collapsed": false,
     "input": [
      "!head -2 /Volumes/web/cnidarian/seastar_clc_nt_1_c.tab"
     ],
     "language": "python",
     "metadata": {},
     "outputs": [
      {
       "output_type": "stream",
       "stream": "stdout",
       "text": [
        "Phel_clc_contig_2\tgi|378345425|gb|JN676976.1|\t81.71\t175\t1e-33\t  154\t7602\tAsterias amurensis\tAsterias amurensis\tstarfish\tEukaryota\tAsterias amurensis microsatellite Aamr32 sequence\r\n",
        "Phel_clc_contig_4\tgi|28881689|emb|X55514.2|\t80.20\t4707\t0.0\t 4239\t7612\tPisaster ochraceus\tochreous starfish\tstarfish\tEukaryota\tPisaster ochraceus mitochondrial DNA for NADH dehydrogenase subunits 1, 2, 3 and 4L, cytochrome oxidase subunits I, II and III, ATPase subunits 6 and 8, and 13 tRNAs\r\n"
       ]
      }
     ],
     "prompt_number": 28
    },
    {
     "cell_type": "code",
     "collapsed": false,
     "input": [
      "pwd"
     ],
     "language": "python",
     "metadata": {},
     "outputs": [
      {
       "metadata": {},
       "output_type": "pyout",
       "prompt_number": 23,
       "text": [
        "u'/Users/sr320/Dropbox/Steven/eimd/data'"
       ]
      }
     ],
     "prompt_number": 23
    },
    {
     "cell_type": "code",
     "collapsed": false,
     "input": [
      "!wget http://eagle.fish.washington.edu/cnidarian/seastar_clc_nt_1_c.tab"
     ],
     "language": "python",
     "metadata": {},
     "outputs": [
      {
       "output_type": "stream",
       "stream": "stdout",
       "text": [
        "--2014-07-25 14:48:16--  http://eagle.fish.washington.edu/cnidarian/seastar_clc_nt_1_c.tab\r\n",
        "Resolving eagle.fish.washington.edu... 128.95.149.81\r\n",
        "Connecting to eagle.fish.washington.edu|128.95.149.81|:80... connected.\r\n",
        "HTTP request sent, awaiting response... "
       ]
      },
      {
       "output_type": "stream",
       "stream": "stdout",
       "text": [
        "200 OK\r\n",
        "Length: 2456177 (2.3M) [text/plain]\r\n",
        "Saving to: `seastar_clc_nt_1_c.tab'\r\n",
        "\r\n",
        "\r",
        " 0% [                                       ] 0           --.-K/s              "
       ]
      },
      {
       "output_type": "stream",
       "stream": "stdout",
       "text": [
        "\r",
        " 9% [==>                                    ] 226,187     1.06M/s              "
       ]
      },
      {
       "output_type": "stream",
       "stream": "stdout",
       "text": [
        "\r",
        "22% [=======>                               ] 548,359     1.29M/s              "
       ]
      },
      {
       "output_type": "stream",
       "stream": "stdout",
       "text": [
        "\r",
        "39% [==============>                        ] 960,847     1.50M/s              "
       ]
      },
      {
       "output_type": "stream",
       "stream": "stdout",
       "text": [
        "\r",
        "56% [====================>                  ] 1,381,423   1.61M/s              "
       ]
      },
      {
       "output_type": "stream",
       "stream": "stdout",
       "text": [
        "\r",
        "73% [===========================>           ] 1,796,607   1.68M/s              "
       ]
      },
      {
       "output_type": "stream",
       "stream": "stdout",
       "text": [
        "\r",
        "86% [================================>      ] 2,130,911   1.66M/s              "
       ]
      },
      {
       "output_type": "stream",
       "stream": "stdout",
       "text": [
        "\r",
        "98% [=====================================> ] 2,427,471   1.62M/s              \r",
        "100%[======================================>] 2,456,177   1.63M/s   in 1.4s    \r\n",
        "\r\n",
        "2014-07-25 14:48:17 (1.63 MB/s) - `seastar_clc_nt_1_c.tab' saved [2456177/2456177]\r\n",
        "\r\n"
       ]
      }
     ],
     "prompt_number": 35
    },
    {
     "cell_type": "code",
     "collapsed": false,
     "input": [
      "pwd"
     ],
     "language": "python",
     "metadata": {},
     "outputs": [
      {
       "metadata": {},
       "output_type": "pyout",
       "prompt_number": 44,
       "text": [
        "u'/Users/sr320/Dropbox/Steven/eimd/data'"
       ]
      }
     ],
     "prompt_number": 44
    },
    {
     "cell_type": "code",
     "collapsed": false,
     "input": [
      "!head -1 seastar_clc_nt_1_c.tab"
     ],
     "language": "python",
     "metadata": {},
     "outputs": [
      {
       "output_type": "stream",
       "stream": "stdout",
       "text": [
        "Phel_clc_contig_2\tgi|378345425|gb|JN676976.1|\t81.71\t175\t1e-33\t  154\t7602\tAsterias amurensis\tAsterias amurensis\tstarfish\tEukaryota\tAsterias amurensis microsatellite Aamr32 sequence\r\n"
       ]
      }
     ],
     "prompt_number": 45
    },
    {
     "cell_type": "heading",
     "level": 1,
     "metadata": {},
     "source": [
      "Hewson"
     ]
    },
    {
     "cell_type": "markdown",
     "metadata": {},
     "source": [
      "<img src=\"http://eagle.fish.washington.edu/cnidarian/skitch/greenbird_197DC8B3.png\" alt=\"greenbird_197DC8B3.png\"/>"
     ]
    },
    {
     "cell_type": "markdown",
     "metadata": {},
     "source": [
      "<img src=\"http://eagle.fish.washington.edu/cnidarian/skitch/greenbird_197DC82A.png\" alt=\"greenbird_197DC82A.png\"/>"
     ]
    },
    {
     "cell_type": "code",
     "collapsed": false,
     "input": [
      "!head /Volumes/web/cnidarian/Hewson_transc_clc.fa"
     ],
     "language": "python",
     "metadata": {},
     "outputs": [
      {
       "output_type": "stream",
       "stream": "stdout",
       "text": [
        ">T1_GGACTCC_L001_R1_001_(paired)_contig_1\r\n",
        "GCTCGGAGATGTGTATAAGAGACAGGTCCGGGAACGTATTCACCGCGCCATTGCTGATGC\r\n",
        "GCGATTACTAGCGATTCCAACTTCATGGGGCCGAGTTGCAGGCCCCAATCCGAACTGAGG\r\n",
        "CACACTTTTTGGGATTGGCTGACCGTTACCGGATCGCAACCCTCTGTATGCACCATTGTA\r\n",
        "GCACGTGTGTAGCCCTGGGCATAAGGGCCATGATGACTTGACGTCGTCCCCACCTTCCTC\r\n",
        "TCTGCTTGCGCAGGCAGTCCCGTTAGAGTCCCCAGCTTCACCTGTTGGCAACTAACGGTA\r\n",
        "GGGGTTGCGCTCGTTGCGGGACTTAACCCAACACCTCACGGCACGAGCTGACGACAGCCA\r\n",
        "TGCAGCACCTTTGTTTCACGTCCGAAGAACAGGCCATCTCTGGCCTTTGCGATCACATTC\r\n",
        "AAGCCCAGGTAAGGTTCCTCGCGTACCATCGAATTAAACCACATGCTCCACCGCTTGTGC\r\n",
        "GGACCCCCGTCAATTCCTTTGAGTTTCACCCTTGCGGGCGTACTCCCCAGGTGGCTCACT\r\n"
       ]
      }
     ],
     "prompt_number": 18
    },
    {
     "cell_type": "code",
     "collapsed": false,
     "input": [
      "#running hummingbird - complete\n",
      "blastn \\\n",
      "-query /Volumes/web/cnidarian/Hewson_transc_clc.fa \\\n",
      "-db /Volumes/Data/blast_db/nt \\\n",
      "-out /Volumes/web/cnidarian/Hewson_clc_nt_1.tab \\\n",
      "-outfmt \"6 qseqid sseqid pident length evalue bitscore staxids sscinames scomnames sblastnames sskingdoms stitle\" \\\n",
      "-num_threads 12 \\\n",
      "-max_hsps 1 \\\n",
      "-evalue 1E-10 \\\n",
      "-max_target_seqs 1 \\\n",
      "-task blastn"
     ],
     "language": "python",
     "metadata": {},
     "outputs": []
    },
    {
     "cell_type": "code",
     "collapsed": false,
     "input": [
      "!head -1 /Volumes/web/cnidarian/Hewson_clc_nt_1.tab"
     ],
     "language": "python",
     "metadata": {},
     "outputs": [
      {
       "output_type": "stream",
       "stream": "stdout",
       "text": [
        "T1_GGACTCC_L001_R1_001_(paired)_contig_1\tgi|284010065|dbj|AB540004.1|\t88.93\t1147\t0.0\t 1490\t708099\tReichenbachiella sp. YMK\tReichenbachiella sp. YMK\tCFB group bacteria\tBacteria\tReichenbachiella sp. YMK gene for 16S rRNA, partial sequence\r\n"
       ]
      }
     ],
     "prompt_number": 29
    },
    {
     "cell_type": "code",
     "collapsed": false,
     "input": [
      "!tr '|' \"\\t\" </Volumes/web/cnidarian/Hewson_clc_nt_1.tab> /Volumes/web/cnidarian/Hewson_clc_nt_1_b.tab\n"
     ],
     "language": "python",
     "metadata": {},
     "outputs": [],
     "prompt_number": 30
    },
    {
     "cell_type": "code",
     "collapsed": false,
     "input": [
      "!head -1 /Volumes/web/cnidarian/Hewson_clc_nt_1_b.tab"
     ],
     "language": "python",
     "metadata": {},
     "outputs": [
      {
       "output_type": "stream",
       "stream": "stdout",
       "text": [
        "T1_GGACTCC_L001_R1_001_(paired)_contig_1\tgi\t284010065\tdbj\tAB540004.1\t\t88.93\t1147\t0.0\t 1490\t708099\tReichenbachiella sp. YMK\tReichenbachiella sp. YMK\tCFB group bacteria\tBacteria\tReichenbachiella sp. YMK gene for 16S rRNA, partial sequence\r\n"
       ]
      }
     ],
     "prompt_number": 31
    },
    {
     "cell_type": "code",
     "collapsed": false,
     "input": [
      "!sed 's/T1_GGACTCC_L001_R1_001_(paired)/Hewson/g' </Volumes/web/cnidarian/Hewson_clc_nt_1_b.tab> /Volumes/web/cnidarian/Hewson_clc_nt_1_c.tab"
     ],
     "language": "python",
     "metadata": {},
     "outputs": [],
     "prompt_number": 32
    },
    {
     "cell_type": "code",
     "collapsed": false,
     "input": [
      "!head -1 /Volumes/web/cnidarian/Hewson_clc_nt_1_c.tab"
     ],
     "language": "python",
     "metadata": {},
     "outputs": [
      {
       "output_type": "stream",
       "stream": "stdout",
       "text": [
        "Hewson_contig_1\tgi\t284010065\tdbj\tAB540004.1\t\t88.93\t1147\t0.0\t 1490\t708099\tReichenbachiella sp. YMK\tReichenbachiella sp. YMK\tCFB group bacteria\tBacteria\tReichenbachiella sp. YMK gene for 16S rRNA, partial sequence\r\n"
       ]
      }
     ],
     "prompt_number": 33
    },
    {
     "cell_type": "heading",
     "level": 2,
     "metadata": {},
     "source": [
      "Galaxy"
     ]
    },
    {
     "cell_type": "markdown",
     "metadata": {},
     "source": [
      "https://usegalaxy.org/u/sroberts320/h/eimd"
     ]
    },
    {
     "cell_type": "markdown",
     "metadata": {},
     "source": [
      "<img src=\"http://eagle.fish.washington.edu/cnidarian/skitch/Galaxy_198305B5.png\" alt=\"Galaxy_198305B5.png\"/>"
     ]
    },
    {
     "cell_type": "markdown",
     "metadata": {},
     "source": []
    },
    {
     "cell_type": "heading",
     "level": 2,
     "metadata": {},
     "source": [
      "Hewson"
     ]
    },
    {
     "cell_type": "markdown",
     "metadata": {},
     "source": [
      "<img src=\"http://eagle.fish.washington.edu/cnidarian/skitch/Screenshot_7_25_14__3_12_PM_19830DD6.png\" alt=\"Screenshot_7_25_14__3_12_PM_19830DD6.png\"/>"
     ]
    },
    {
     "cell_type": "code",
     "collapsed": false,
     "input": [],
     "language": "python",
     "metadata": {},
     "outputs": []
    },
    {
     "cell_type": "code",
     "collapsed": false,
     "input": [],
     "language": "python",
     "metadata": {},
     "outputs": []
    },
    {
     "cell_type": "code",
     "collapsed": false,
     "input": [],
     "language": "python",
     "metadata": {},
     "outputs": []
    },
    {
     "cell_type": "code",
     "collapsed": false,
     "input": [
      "blastx \\\n",
      "-query /Volumes/web/cnidarian/Hewson_transc_clc.fa \\\n",
      "-db /Users/Shared/data/blast/db/uniprot_sprot \\\n",
      "-out /Volumes/web/cnidarian/Hewson_clc_uniprot_sprot_1.tab \\\n",
      "-outfmt 6 \\\n",
      "-num_threads 4 \\\n",
      "-max_hsps 1 \\\n",
      "-max_target_seqs 1 \\\n",
      "-evalue 1E-20"
     ],
     "language": "python",
     "metadata": {},
     "outputs": []
    },
    {
     "cell_type": "code",
     "collapsed": false,
     "input": [
      "!head /Volumes/web/cnidarian/Hewson_clc_uniprot_sprot_1.tab"
     ],
     "language": "python",
     "metadata": {},
     "outputs": [],
     "prompt_number": 2
    },
    {
     "cell_type": "code",
     "collapsed": false,
     "input": [],
     "language": "python",
     "metadata": {},
     "outputs": []
    }
   ],
   "metadata": {}
  }
 ]
}