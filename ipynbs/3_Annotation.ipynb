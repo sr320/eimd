{
 "metadata": {
  "name": "",
  "signature": "sha256:d98a571d5af47c79cf194b8b661328ff44532338f07760e6eddcccac8d386bcb"
 },
 "nbformat": 3,
 "nbformat_minor": 0,
 "worksheets": [
  {
   "cells": [
    {
     "cell_type": "heading",
     "level": 1,
     "metadata": {},
     "source": [
      "Annotation (Blast)"
     ]
    },
    {
     "cell_type": "heading",
     "level": 2,
     "metadata": {},
     "source": [
      "Trinity Assembly"
     ]
    },
    {
     "cell_type": "code",
     "collapsed": false,
     "input": [
      "!fgrep -c \">\" /Volumes/web/cnidarian/SeaStar/trinity_assemblies/run1/Trinity.fasta"
     ],
     "language": "python",
     "metadata": {},
     "outputs": [
      {
       "output_type": "stream",
       "stream": "stdout",
       "text": [
        "145222\r\n"
       ]
      }
     ],
     "prompt_number": 6
    },
    {
     "cell_type": "code",
     "collapsed": false,
     "input": [
      "!tail -5 /Volumes/web/cnidarian/SeaStar/trinity_assemblies/run1/Trinity.fasta"
     ],
     "language": "python",
     "metadata": {},
     "outputs": [
      {
       "output_type": "stream",
       "stream": "stdout",
       "text": [
        ">c391854_g1_i1 len=228 path=[1:0-227]\r\n",
        "GTTTTTTCTTTCTCTATTTTTGGTTACCTTTTAGTTTTTAAAACAAATTGGCAAATTGTT\r\n",
        "ATTCACCAGGGTATTTAGTTACAATTCAGCATGCATCTTTTGGGGGATACTTGGAAGTAT\r\n",
        "TGGCCCTTGCAGTATAGTTTCTGTTTTGTTATATTGGACCTAATGAAAGTTGTGTTATAT\r\n",
        "TGGACCCAGTGCAGGTTATATGTTATAATGGACCCCACAGAACATTTT\r\n"
       ]
      }
     ],
     "prompt_number": 7
    },
    {
     "cell_type": "code",
     "collapsed": false,
     "input": [
      "blastx \\\n",
      "-query /Volumes/web/cnidarian/SeaStar/trinity_assemblies/run1/Trinity.fasta \\\n",
      "-db /Volumes/web/whale/blast/db/uniprot_sprot \\\n",
      "-out /Volumes/web/cnidarian/seastar_trinity1_uniport_sprot.tab \\\n",
      "-evalue 1E-20 \\\n",
      "-max_target_seqs 1 \\\n",
      "-outfmt 6 \\\n",
      "-num_threads 6"
     ],
     "language": "python",
     "metadata": {},
     "outputs": []
    },
    {
     "cell_type": "code",
     "collapsed": false,
     "input": [
      "!head /Volumes/web/cnidarian/seastar_trinity1_uniport_sprot.tab"
     ],
     "language": "python",
     "metadata": {},
     "outputs": [
      {
       "output_type": "stream",
       "stream": "stdout",
       "text": [
        "c120_g1_i1\tsp|O06411|PIT_MYCTU\t69.14\t81\t25\t0\t307\t65\t255\t335\t7e-30\t  114\r\n",
        "c1231_g1_i1\tsp|Q57IW8|FEOB_SALCH\t48.20\t139\t71\t1\t3\t419\t455\t592\t1e-38\t  143\r\n",
        "c1262_g1_i1\tsp|Q8CQ17|SAER_STAES\t99.14\t116\t1\t0\t457\t110\t114\t229\t2e-78\t  238\r\n",
        "c1367_g1_i1\tsp|Q0VGK4|GDPD1_RAT\t45.45\t110\t58\t1\t1\t330\t87\t194\t2e-24\t98.6\r\n",
        "c1630_g1_i1\tsp|P37965|GLPQ_BACSU\t62.50\t96\t35\t1\t290\t3\t110\t204\t1e-27\t  106\r\n",
        "c2156_g1_i1\tsp|Q96MW7|TIGD1_HUMAN\t65.62\t64\t22\t0\t5\t196\t290\t353\t7e-22\t92.4\r\n",
        "c2356_g1_i1\tsp|Q9K9G9|FAPD_BACHD\t73.15\t108\t29\t0\t1\t324\t209\t316\t1e-51\t  173\r\n",
        "c2398_g1_i1\tsp|O14981|BTAF1_HUMAN\t82.61\t115\t20\t0\t345\t1\t1389\t1503\t3e-62\t  211\r\n",
        "c2437_g1_i1\tsp|O13066|RAGP1_XENLA\t59.27\t329\t133\t1\t1052\t69\t30\t358\t8e-121\t  367\r\n",
        "c2471_g1_i1\tsp|P35881|TRA5_LACLA\t100.00\t108\t0\t0\t2\t325\t116\t223\t9e-73\t  227\r\n"
       ]
      }
     ],
     "prompt_number": 2
    },
    {
     "cell_type": "code",
     "collapsed": false,
     "input": [
      "blastn \\\n",
      "-query /Volumes/web/cnidarian/SeaStar/trinity_assemblies/run1/Trinity.fasta \\\n",
      "-db /Volumes/Data/blast_db/nt \\\n",
      "-out /Volumes/web/cnidarian/seastar_trin_nt_3.tab \\\n",
      "-outfmt \"6 qseqid sseqid pident length evalue bitscore staxids sscinames scomnames sblastnames sskingdoms stitle\" \\\n",
      "-num_threads 14 \\\n",
      "-max_hsps 1 \\\n",
      "-evalue 1E-20 \\\n",
      "-max_target_seqs 1 \\\n",
      "-task blastn\n",
      "#running on hummingbird - COMPLETE"
     ],
     "language": "python",
     "metadata": {},
     "outputs": [
      {
       "ename": "SyntaxError",
       "evalue": "invalid syntax (<ipython-input-5-4a15dc6d162c>, line 1)",
       "output_type": "pyerr",
       "traceback": [
        "\u001b[0;36m  File \u001b[0;32m\"<ipython-input-5-4a15dc6d162c>\"\u001b[0;36m, line \u001b[0;32m1\u001b[0m\n\u001b[0;31m    blastn -query /Volumes/web/cnidarian/SeaStar/trinity_assemblies/run1/Trinity.fasta -db /Volumes/Data/blast_db/nt -out /Volumes/web/cnidarian/seastar_trin_nt_3.tab -outfmt \"6 qseqid sseqid pident length evalue bitscore staxids sscinames scomnames sblastnames sskingdoms stitle\" -num_threads 14 -max_hsps 1 -evalue 1E-20 -max_target_seqs 1 -task blastn\u001b[0m\n\u001b[0m                                                                                                                                                                                                                                                                                       ^\u001b[0m\n\u001b[0;31mSyntaxError\u001b[0m\u001b[0;31m:\u001b[0m invalid syntax\n"
       ]
      }
     ],
     "prompt_number": 5
    },
    {
     "cell_type": "code",
     "collapsed": false,
     "input": [
      "!head /Volumes/web/cnidarian/seastar_trin_nt_3.tab"
     ],
     "language": "python",
     "metadata": {},
     "outputs": [
      {
       "output_type": "stream",
       "stream": "stdout",
       "text": [
        "c144_g1_i1\tgi|3850557|gb|AC005947.1|AC005947\t99.19\t248\t5e-120\t  439\t9606\tHomo sapiens\thuman\tprimates\tEukaryota\tHomo sapiens chromosome 19, cosmid R30373, complete sequence\r\n",
        "c206_g1_i1\tgi|11544493|emb|AL355984.11|\t96.85\t222\t9e-98\t  365\t9606\tHomo sapiens\thuman\tprimates\tEukaryota\tHuman DNA sequence from clone RP11-501K3 on chromosome 13, complete sequence\r\n",
        "c636_g1_i1\tgi|9664668|gb|AF269347.1|AF269347\t100.00\t207\t1e-100\t  374\t1282\tStaphylococcus epidermidis\tStaphylococcus epidermidis\tfirmicutes\tBacteria\tStaphylococcus epidermidis strain SR1 clone step.1002d09 genomic sequence\r\n",
        "c637_g1_i1\tgi|19697316|gb|AC092958.4|\t100.00\t204\t6e-99\t  369\t9606\tHomo sapiens\thuman\tprimates\tEukaryota\tHomo sapiens 3 BAC RP11-639B1 (Roswell Park Cancer Institute Human BAC Library) complete sequence\r\n",
        "c647_g1_i1\tgi|15187234|gb|AC020925.8|\t100.00\t239\t7e-118\t  432\t9606\tHomo sapiens\thuman\tprimates\tEukaryota\tHomo sapiens chromosome 5 clone CTD-2134K2, complete sequence\r\n",
        "c712_g1_i1\tgi|11321810|gb|AC007717.8|AC007717\t99.59\t242\t7e-118\t  432\t9606\t"
       ]
      },
      {
       "output_type": "stream",
       "stream": "stdout",
       "text": [
        "Homo sapiens\thuman\tprimates\tEukaryota\tHomo sapiens chromosome 18, clone RP11-315O17, complete sequence\r\n",
        "c751_g1_i1\tgi|20279379|gb|AC026392.7|\t97.39\t153\t8e-66\t  259\t9606\tHomo sapiens\thuman\tprimates\tEukaryota\tHomo sapiens chromosome 10 clone RP11-238C10, complete sequence\r\n",
        "c760_g1_i1\tgi|13157563|emb|AL357149.13|\t98.71\t233\t3e-110\t  407\t9606\tHomo sapiens\thuman\tprimates\tEukaryota\tHuman DNA sequence from clone RP11-352E13 on chromosome 6, complete sequence\r\n",
        "c774_g1_i1\tgi|517309970|emb|HF679023.1|\t99.62\t262\t1e-128\t  468\t1279085\tFusarium fujikuroi IMI 58289\tFusarium fujikuroi IMI 58289\tascomycetes\tEukaryota\tFusarium fujikuroi IMI 58289 draft genome, chromosome FFUJ_chr01\r\n",
        "c861_g1_i1\tgi|14970792|emb|AL139406.14|\t100.00\t203\t2e-98\t  367\t9606\tHomo sapiens\thuman\tprimates\tEukaryota\tHuman DNA sequence from clone RP11-425M17 on chromosome 10, complete sequence\r\n"
       ]
      }
     ],
     "prompt_number": 60
    },
    {
     "cell_type": "code",
     "collapsed": false,
     "input": [
      "!wget http://eagle.fish.washington.edu/cnidarian/seastar_trin_nt_3.tab"
     ],
     "language": "python",
     "metadata": {},
     "outputs": [
      {
       "output_type": "stream",
       "stream": "stdout",
       "text": [
        "--2014-07-30 07:16:15--  http://eagle.fish.washington.edu/cnidarian/seastar_trin_nt_3.tab\r\n",
        "Resolving eagle.fish.washington.edu... "
       ]
      },
      {
       "output_type": "stream",
       "stream": "stdout",
       "text": [
        "128.95.149.81\r\n",
        "Connecting to eagle.fish.washington.edu|128.95.149.81|:80... connected.\r\n",
        "HTTP request sent, awaiting response... 200 OK\r\n",
        "Length: "
       ]
      },
      {
       "output_type": "stream",
       "stream": "stdout",
       "text": [
        "7532329 (7.2M) [text/plain]\r\n",
        "Saving to: `seastar_trin_nt_3.tab'\r\n",
        "\r\n",
        "\r",
        " 0% [                                       ] 0           --.-K/s              "
       ]
      },
      {
       "output_type": "stream",
       "stream": "stdout",
       "text": [
        "\r",
        " 0% [                                       ] 15,899      76.3K/s              "
       ]
      },
      {
       "output_type": "stream",
       "stream": "stdout",
       "text": [
        "\r",
        " 0% [                                       ] 32,075      76.0K/s              "
       ]
      },
      {
       "output_type": "stream",
       "stream": "stdout",
       "text": [
        "\r",
        " 0% [                                       ] 50,947      80.9K/s              "
       ]
      },
      {
       "output_type": "stream",
       "stream": "stdout",
       "text": [
        "\r",
        " 0% [                                       ] 68,471      82.0K/s              "
       ]
      },
      {
       "output_type": "stream",
       "stream": "stdout",
       "text": [
        "\r",
        " 1% [                                       ] 84,647      80.5K/s              "
       ]
      },
      {
       "output_type": "stream",
       "stream": "stdout",
       "text": [
        "\r",
        " 1% [                                       ] 103,519     82.3K/s              "
       ]
      },
      {
       "output_type": "stream",
       "stream": "stdout",
       "text": [
        "\r",
        " 1% [                                       ] 121,043     82.1K/s              "
       ]
      },
      {
       "output_type": "stream",
       "stream": "stdout",
       "text": [
        "\r",
        " 1% [                                       ] 138,567     82.3K/s              "
       ]
      },
      {
       "output_type": "stream",
       "stream": "stdout",
       "text": [
        "\r",
        " 2% [                                       ] 154,743     80.1K/s              "
       ]
      },
      {
       "output_type": "stream",
       "stream": "stdout",
       "text": [
        "\r",
        " 2% [                                       ] 174,963     81.7K/s              "
       ]
      },
      {
       "output_type": "stream",
       "stream": "stdout",
       "text": [
        "\r",
        " 2% [>                                      ] 195,183     82.8K/s              "
       ]
      },
      {
       "output_type": "stream",
       "stream": "stdout",
       "text": [
        "\r",
        " 2% [>                                      ] 212,707     82.6K/s              "
       ]
      },
      {
       "output_type": "stream",
       "stream": "stdout",
       "text": [
        "\r",
        " 3% [>                                      ] 228,883     81.5K/s              "
       ]
      },
      {
       "output_type": "stream",
       "stream": "stdout",
       "text": [
        "\r",
        " 3% [>                                      ] 241,015     79.9K/s              "
       ]
      },
      {
       "output_type": "stream",
       "stream": "stdout",
       "text": [
        "\r",
        " 3% [>                                      ] 254,495     78.7K/s  eta 90s     "
       ]
      },
      {
       "output_type": "stream",
       "stream": "stdout",
       "text": [
        "\r",
        " 3% [>                                      ] 270,671     78.1K/s  eta 90s     "
       ]
      },
      {
       "output_type": "stream",
       "stream": "stdout",
       "text": [
        "\r",
        " 3% [>                                      ] 284,151     77.0K/s  eta 90s     "
       ]
      },
      {
       "output_type": "stream",
       "stream": "stdout",
       "text": [
        "\r",
        " 3% [>                                      ] 296,283     75.7K/s  eta 90s     "
       ]
      },
      {
       "output_type": "stream",
       "stream": "stdout",
       "text": [
        "\r",
        " 4% [>                                      ] 311,111     75.1K/s  eta 90s     "
       ]
      },
      {
       "output_type": "stream",
       "stream": "stdout",
       "text": [
        "\r",
        " 4% [>                                      ] 329,983     75.4K/s  eta 92s     "
       ]
      },
      {
       "output_type": "stream",
       "stream": "stdout",
       "text": [
        "\r",
        " 4% [>                                      ] 342,115     71.8K/s  eta 92s     "
       ]
      },
      {
       "output_type": "stream",
       "stream": "stdout",
       "text": [
        "\r",
        " 4% [>                                      ] 359,639     72.8K/s  eta 92s     "
       ]
      },
      {
       "output_type": "stream",
       "stream": "stdout",
       "text": [
        "\r",
        " 4% [>                                      ] 374,467     71.8K/s  eta 92s     "
       ]
      },
      {
       "output_type": "stream",
       "stream": "stdout",
       "text": [
        "\r",
        " 5% [=>                                     ] 390,643     71.8K/s  eta 92s     "
       ]
      },
      {
       "output_type": "stream",
       "stream": "stdout",
       "text": [
        "\r",
        " 5% [=>                                     ] 412,211     73.3K/s  eta 92s     "
       ]
      },
      {
       "output_type": "stream",
       "stream": "stdout",
       "text": [
        "\r",
        " 5% [=>                                     ] 422,995     71.2K/s  eta 92s     "
       ]
      },
      {
       "output_type": "stream",
       "stream": "stdout",
       "text": [
        "\r",
        " 5% [=>                                     ] 431,083     66.4K/s  eta 92s     "
       ]
      },
      {
       "output_type": "stream",
       "stream": "stdout",
       "text": [
        "\r",
        " 5% [=>                                     ] 440,519     63.8K/s  eta 92s     "
       ]
      },
      {
       "output_type": "stream",
       "stream": "stdout",
       "text": [
        "\r",
        " 6% [=>                                     ] 456,695     64.4K/s  eta 92s     "
       ]
      },
      {
       "output_type": "stream",
       "stream": "stdout",
       "text": [
        "\r",
        " 6% [=>                                     ] 470,175     64.8K/s  eta 96s     "
       ]
      },
      {
       "output_type": "stream",
       "stream": "stdout",
       "text": [
        "\r",
        " 6% [=>                                     ] 493,091     68.1K/s  eta 96s     "
       ]
      },
      {
       "output_type": "stream",
       "stream": "stdout",
       "text": [
        "\r",
        " 6% [=>                                     ] 505,223     66.7K/s  eta 96s     "
       ]
      },
      {
       "output_type": "stream",
       "stream": "stdout",
       "text": [
        "\r",
        " 6% [=>                                     ] 511,963     64.9K/s  eta 96s     "
       ]
      },
      {
       "output_type": "stream",
       "stream": "stdout",
       "text": [
        "\r",
        " 6% [=>                                     ] 522,747     64.5K/s  eta 96s     "
       ]
      },
      {
       "output_type": "stream",
       "stream": "stdout",
       "text": [
        "\r",
        " 7% [=>                                     ] 536,227     64.6K/s  eta 97s     "
       ]
      },
      {
       "output_type": "stream",
       "stream": "stdout",
       "text": [
        "\r",
        " 7% [=>                                     ] 549,707     63.6K/s  eta 97s     "
       ]
      },
      {
       "output_type": "stream",
       "stream": "stdout",
       "text": [
        "\r",
        " 7% [=>                                     ] 567,231     65.0K/s  eta 97s     "
       ]
      },
      {
       "output_type": "stream",
       "stream": "stdout",
       "text": [
        "\r",
        " 7% [==>                                    ] 584,755     64.7K/s  eta 97s     "
       ]
      },
      {
       "output_type": "stream",
       "stream": "stdout",
       "text": [
        "\r",
        " 7% [==>                                    ] 598,235     65.1K/s  eta 97s     "
       ]
      },
      {
       "output_type": "stream",
       "stream": "stdout",
       "text": [
        "\r",
        " 8% [==>                                    ] 609,019     63.7K/s  eta 96s     "
       ]
      },
      {
       "output_type": "stream",
       "stream": "stdout",
       "text": [
        "\r",
        " 8% [==>                                    ] 617,107     59.6K/s  eta 96s     "
       ]
      },
      {
       "output_type": "stream",
       "stream": "stdout",
       "text": [
        "\r",
        " 8% [==>                                    ] 634,631     60.5K/s  eta 96s     "
       ]
      },
      {
       "output_type": "stream",
       "stream": "stdout",
       "text": [
        "\r",
        " 8% [==>                                    ] 656,199     63.7K/s  eta 96s     "
       ]
      },
      {
       "output_type": "stream",
       "stream": "stdout",
       "text": [
        "\r",
        " 8% [==>                                    ] 666,983     66.6K/s  eta 96s     "
       ]
      },
      {
       "output_type": "stream",
       "stream": "stdout",
       "text": [
        "\r",
        " 9% [==>                                    ] 680,463     66.4K/s  eta 96s     "
       ]
      },
      {
       "output_type": "stream",
       "stream": "stdout",
       "text": [
        "\r",
        " 9% [==>                                    ] 699,335     67.9K/s  eta 96s     "
       ]
      },
      {
       "output_type": "stream",
       "stream": "stdout",
       "text": [
        "\r",
        " 9% [==>                                    ] 712,815     65.1K/s  eta 96s     "
       ]
      },
      {
       "output_type": "stream",
       "stream": "stdout",
       "text": [
        "\r",
        " 9% [==>                                    ] 734,383     66.4K/s  eta 96s     "
       ]
      },
      {
       "output_type": "stream",
       "stream": "stdout",
       "text": [
        "\r",
        " 9% [==>                                    ] 750,559     68.9K/s  eta 96s     "
       ]
      },
      {
       "output_type": "stream",
       "stream": "stdout",
       "text": [
        "\r",
        "10% [==>                                    ] 761,343     69.9K/s  eta 94s     "
       ]
      },
      {
       "output_type": "stream",
       "stream": "stdout",
       "text": [
        "\r",
        "10% [===>                                   ] 778,867     70.6K/s  eta 94s     "
       ]
      },
      {
       "output_type": "stream",
       "stream": "stdout",
       "text": [
        "\r",
        "10% [===>                                   ] 789,651     69.6K/s  eta 94s     "
       ]
      },
      {
       "output_type": "stream",
       "stream": "stdout",
       "text": [
        "\r",
        "10% [===>                                   ] 796,391     66.1K/s  eta 94s     "
       ]
      },
      {
       "output_type": "stream",
       "stream": "stdout",
       "text": [
        "\r",
        "10% [===>                                   ] 808,523     64.7K/s  eta 94s     "
       ]
      },
      {
       "output_type": "stream",
       "stream": "stdout",
       "text": [
        "\r",
        "10% [===>                                   ] 823,351     65.4K/s  eta 95s     "
       ]
      },
      {
       "output_type": "stream",
       "stream": "stdout",
       "text": [
        "\r",
        "11% [===>                                   ] 839,527     66.7K/s  eta 95s     "
       ]
      },
      {
       "output_type": "stream",
       "stream": "stdout",
       "text": [
        "\r",
        "11% [===>                                   ] 850,311     66.7K/s  eta 95s     "
       ]
      },
      {
       "output_type": "stream",
       "stream": "stdout",
       "text": [
        "\r",
        "11% [===>                                   ] 862,443     65.0K/s  eta 95s     "
       ]
      },
      {
       "output_type": "stream",
       "stream": "stdout",
       "text": [
        "\r",
        "11% [===>                                   ] 871,879     62.9K/s  eta 95s     "
       ]
      },
      {
       "output_type": "stream",
       "stream": "stdout",
       "text": [
        "\r",
        "11% [===>                                   ] 888,055     64.1K/s  eta 95s     "
       ]
      },
      {
       "output_type": "stream",
       "stream": "stdout",
       "text": [
        "\r",
        "12% [===>                                   ] 908,275     65.1K/s  eta 95s     "
       ]
      },
      {
       "output_type": "stream",
       "stream": "stdout",
       "text": [
        "\r",
        "12% [===>                                   ] 924,451     65.5K/s  eta 95s     "
       ]
      },
      {
       "output_type": "stream",
       "stream": "stdout",
       "text": [
        "\r",
        "12% [===>                                   ] 933,887     62.5K/s  eta 95s     "
       ]
      },
      {
       "output_type": "stream",
       "stream": "stdout",
       "text": [
        "\r",
        "12% [===>                                   ] 944,671     61.0K/s  eta 95s     "
       ]
      },
      {
       "output_type": "stream",
       "stream": "stdout",
       "text": [
        "\r",
        "12% [===>                                   ] 954,107     58.9K/s  eta 95s     "
       ]
      },
      {
       "output_type": "stream",
       "stream": "stdout",
       "text": [
        "\r",
        "12% [====>                                  ] 974,327     60.3K/s  eta 95s     "
       ]
      },
      {
       "output_type": "stream",
       "stream": "stdout",
       "text": [
        "\r",
        "13% [====>                                  ] 987,807     59.9K/s  eta 95s     "
       ]
      },
      {
       "output_type": "stream",
       "stream": "stdout",
       "text": [
        "\r",
        "13% [====>                                  ] 993,199     59.8K/s  eta 95s     "
       ]
      },
      {
       "output_type": "stream",
       "stream": "stdout",
       "text": [
        "\r",
        "13% [====>                                  ] 1,006,679   60.4K/s  eta 95s     "
       ]
      },
      {
       "output_type": "stream",
       "stream": "stdout",
       "text": [
        "\r",
        "13% [====>                                  ] 1,017,463   59.8K/s  eta 95s     "
       ]
      },
      {
       "output_type": "stream",
       "stream": "stdout",
       "text": [
        "\r",
        "13% [====>                                  ] 1,030,943   58.3K/s  eta 95s     "
       ]
      },
      {
       "output_type": "stream",
       "stream": "stdout",
       "text": [
        "\r",
        "13% [====>                                  ] 1,048,467   59.7K/s  eta 95s     "
       ]
      },
      {
       "output_type": "stream",
       "stream": "stdout",
       "text": [
        "\r",
        "14% [====>                                  ] 1,059,251   59.5K/s  eta 95s     "
       ]
      },
      {
       "output_type": "stream",
       "stream": "stdout",
       "text": [
        "\r",
        "14% [====>                                  ] 1,064,643   57.3K/s  eta 95s     "
       ]
      },
      {
       "output_type": "stream",
       "stream": "stdout",
       "text": [
        "\r",
        "14% [====>                                  ] 1,075,427   57.3K/s  eta 96s     "
       ]
      },
      {
       "output_type": "stream",
       "stream": "stdout",
       "text": [
        "\r",
        "14% [====>                                  ] 1,094,299   57.9K/s  eta 96s     "
       ]
      },
      {
       "output_type": "stream",
       "stream": "stdout",
       "text": [
        "\r",
        "14% [====>                                  ] 1,110,475   55.4K/s  eta 96s     "
       ]
      },
      {
       "output_type": "stream",
       "stream": "stdout",
       "text": [
        "\r",
        "14% [====>                                  ] 1,121,259   55.8K/s  eta 96s     "
       ]
      },
      {
       "output_type": "stream",
       "stream": "stdout",
       "text": [
        "\r",
        "14% [====>                                  ] 1,129,347   55.4K/s  eta 96s     "
       ]
      },
      {
       "output_type": "stream",
       "stream": "stdout",
       "text": [
        "\r",
        "15% [====>                                  ] 1,138,783   43.8K/s  eta 1m 40s  "
       ]
      },
      {
       "output_type": "stream",
       "stream": "stdout",
       "text": [
        "\r",
        "15% [====>                                  ] 1,138,783   36.0K/s  eta 1m 40s  "
       ]
      },
      {
       "output_type": "stream",
       "stream": "stdout",
       "text": [
        "\r",
        "15% [====>                                  ] 1,140,131   32.7K/s  eta 1m 48s  "
       ]
      },
      {
       "output_type": "stream",
       "stream": "stdout",
       "text": [
        "\r",
        "16% [=====>                                 ] 1,273,583   54.6K/s  eta 1m 48s  "
       ]
      },
      {
       "output_type": "stream",
       "stream": "stdout",
       "text": [
        "\r",
        "17% [=====>                                 ] 1,291,107   54.1K/s  eta 1m 48s  "
       ]
      },
      {
       "output_type": "stream",
       "stream": "stdout",
       "text": [
        "\r",
        "17% [=====>                                 ] 1,300,543   53.9K/s  eta 1m 48s  "
       ]
      },
      {
       "output_type": "stream",
       "stream": "stdout",
       "text": [
        "\r",
        "17% [=====>                                 ] 1,315,371   55.0K/s  eta 1m 48s  "
       ]
      },
      {
       "output_type": "stream",
       "stream": "stdout",
       "text": [
        "\r",
        "17% [=====>                                 ] 1,334,243   55.8K/s  eta 95s     "
       ]
      },
      {
       "output_type": "stream",
       "stream": "stdout",
       "text": [
        "\r",
        "17% [=====>                                 ] 1,347,723   56.4K/s  eta 95s     "
       ]
      },
      {
       "output_type": "stream",
       "stream": "stdout",
       "text": [
        "\r",
        "18% [======>                                ] 1,367,943   57.1K/s  eta 95s     "
       ]
      },
      {
       "output_type": "stream",
       "stream": "stdout",
       "text": [
        "\r",
        "18% [======>                                ] 1,382,771   57.4K/s  eta 95s     "
       ]
      },
      {
       "output_type": "stream",
       "stream": "stdout",
       "text": [
        "\r",
        "18% [======>                                ] 1,397,599   58.0K/s  eta 95s     "
       ]
      },
      {
       "output_type": "stream",
       "stream": "stdout",
       "text": [
        "\r",
        "18% [======>                                ] 1,419,167   61.1K/s  eta 92s     "
       ]
      },
      {
       "output_type": "stream",
       "stream": "stdout",
       "text": [
        "\r",
        "19% [======>                                ] 1,435,343   61.5K/s  eta 92s     "
       ]
      },
      {
       "output_type": "stream",
       "stream": "stdout",
       "text": [
        "\r",
        "19% [======>                                ] 1,452,867   61.5K/s  eta 92s     "
       ]
      },
      {
       "output_type": "stream",
       "stream": "stdout",
       "text": [
        "\r",
        "19% [======>                                ] 1,467,695   61.7K/s  eta 92s     "
       ]
      },
      {
       "output_type": "stream",
       "stream": "stdout",
       "text": [
        "\r",
        "19% [======>                                ] 1,483,871   63.1K/s  eta 92s     "
       ]
      },
      {
       "output_type": "stream",
       "stream": "stdout",
       "text": [
        "\r",
        "19% [======>                                ] 1,496,003   63.4K/s  eta 91s     "
       ]
      },
      {
       "output_type": "stream",
       "stream": "stdout",
       "text": [
        "\r",
        "20% [======>                                ] 1,512,179    105K/s  eta 91s     "
       ]
      },
      {
       "output_type": "stream",
       "stream": "stdout",
       "text": [
        "\r",
        "20% [======>                                ] 1,517,571   68.7K/s  eta 91s     "
       ]
      },
      {
       "output_type": "stream",
       "stream": "stdout",
       "text": [
        "\r",
        "20% [======>                                ] 1,535,095   69.7K/s  eta 91s     "
       ]
      },
      {
       "output_type": "stream",
       "stream": "stdout",
       "text": [
        "\r",
        "20% [======>                                ] 1,539,139   65.4K/s  eta 92s     "
       ]
      },
      {
       "output_type": "stream",
       "stream": "stdout",
       "text": [
        "\r",
        "20% [=======>                               ] 1,548,575   62.1K/s  eta 92s     "
       ]
      },
      {
       "output_type": "stream",
       "stream": "stdout",
       "text": [
        "\r",
        "20% [=======>                               ] 1,555,315   59.3K/s  eta 92s     "
       ]
      },
      {
       "output_type": "stream",
       "stream": "stdout",
       "text": [
        "\r",
        "20% [=======>                               ] 1,564,751   58.2K/s  eta 92s     "
       ]
      },
      {
       "output_type": "stream",
       "stream": "stdout",
       "text": [
        "\r",
        "20% [=======>                               ] 1,571,491   54.7K/s  eta 92s     "
       ]
      },
      {
       "output_type": "stream",
       "stream": "stdout",
       "text": [
        "\r",
        "21% [=======>                               ] 1,590,363   55.5K/s  eta 92s     "
       ]
      },
      {
       "output_type": "stream",
       "stream": "stdout",
       "text": [
        "\r",
        "21% [=======>                               ] 1,606,539   52.1K/s  eta 92s     "
       ]
      },
      {
       "output_type": "stream",
       "stream": "stdout",
       "text": [
        "\r",
        "21% [=======>                               ] 1,613,279   50.2K/s  eta 92s     "
       ]
      },
      {
       "output_type": "stream",
       "stream": "stdout",
       "text": [
        "\r",
        "21% [=======>                               ] 1,620,019   47.6K/s  eta 92s     "
       ]
      },
      {
       "output_type": "stream",
       "stream": "stdout",
       "text": [
        "\r",
        "21% [=======>                               ] 1,625,411   44.9K/s  eta 92s     "
       ]
      },
      {
       "output_type": "stream",
       "stream": "stdout",
       "text": [
        "\r",
        "21% [=======>                               ] 1,629,455   42.2K/s  eta 94s     "
       ]
      },
      {
       "output_type": "stream",
       "stream": "stdout",
       "text": [
        "\r",
        "21% [=======>                               ] 1,648,327   43.2K/s  eta 94s     "
       ]
      },
      {
       "output_type": "stream",
       "stream": "stdout",
       "text": [
        "\r",
        "22% [=======>                               ] 1,668,547   45.0K/s  eta 94s     "
       ]
      },
      {
       "output_type": "stream",
       "stream": "stdout",
       "text": [
        "\r",
        "22% [=======>                               ] 1,684,723   45.0K/s  eta 94s     "
       ]
      },
      {
       "output_type": "stream",
       "stream": "stdout",
       "text": [
        "\r",
        "22% [=======>                               ] 1,700,899   47.0K/s  eta 94s     "
       ]
      },
      {
       "output_type": "stream",
       "stream": "stdout",
       "text": [
        "\r",
        "22% [=======>                               ] 1,707,639   44.3K/s  eta 92s     "
       ]
      },
      {
       "output_type": "stream",
       "stream": "stdout",
       "text": [
        "\r",
        "22% [=======>                               ] 1,719,771   45.3K/s  eta 92s     "
       ]
      },
      {
       "output_type": "stream",
       "stream": "stdout",
       "text": [
        "\r",
        "22% [=======>                               ] 1,729,207   45.9K/s  eta 92s     "
       ]
      },
      {
       "output_type": "stream",
       "stream": "stdout",
       "text": [
        "\r",
        "23% [=======>                               ] 1,735,947   45.0K/s  eta 92s     "
       ]
      },
      {
       "output_type": "stream",
       "stream": "stdout",
       "text": [
        "\r",
        "23% [========>                              ] 1,757,515   49.1K/s  eta 92s     "
       ]
      },
      {
       "output_type": "stream",
       "stream": "stdout",
       "text": [
        "\r",
        "23% [========>                              ] 1,776,387   49.2K/s  eta 92s     "
       ]
      },
      {
       "output_type": "stream",
       "stream": "stdout",
       "text": [
        "\r",
        "23% [========>                              ] 1,793,911   50.7K/s  eta 92s     "
       ]
      },
      {
       "output_type": "stream",
       "stream": "stdout",
       "text": [
        "\r",
        "24% [========>                              ] 1,812,783   54.2K/s  eta 92s     "
       ]
      },
      {
       "output_type": "stream",
       "stream": "stdout",
       "text": [
        "\r",
        "24% [========>                              ] 1,831,655   57.3K/s  eta 92s     "
       ]
      },
      {
       "output_type": "stream",
       "stream": "stdout",
       "text": [
        "\r",
        "24% [========>                              ] 1,846,483   60.3K/s  eta 90s     "
       ]
      },
      {
       "output_type": "stream",
       "stream": "stdout",
       "text": [
        "\r",
        "24% [========>                              ] 1,859,963   62.4K/s  eta 90s     "
       ]
      },
      {
       "output_type": "stream",
       "stream": "stdout",
       "text": [
        "\r",
        "24% [========>                              ] 1,873,443   60.9K/s  eta 90s     "
       ]
      },
      {
       "output_type": "stream",
       "stream": "stdout",
       "text": [
        "\r",
        "25% [========>                              ] 1,886,923   59.2K/s  eta 90s     "
       ]
      },
      {
       "output_type": "stream",
       "stream": "stdout",
       "text": [
        "\r",
        "25% [========>                              ] 1,899,055   46.9K/s  eta 92s     "
       ]
      },
      {
       "output_type": "stream",
       "stream": "stdout",
       "text": [
        "\r",
        "25% [========>                              ] 1,899,055   38.7K/s  eta 92s     "
       ]
      },
      {
       "output_type": "stream",
       "stream": "stdout",
       "text": [
        "\r",
        "25% [========>                              ] 1,899,055   33.0K/s  eta 97s     "
       ]
      },
      {
       "output_type": "stream",
       "stream": "stdout",
       "text": [
        "\r",
        "25% [========>                              ] 1,899,055   28.7K/s  eta 97s     "
       ]
      },
      {
       "output_type": "stream",
       "stream": "stdout",
       "text": [
        "\r",
        "25% [========>                              ] 1,900,403   24.5K/s  eta 1m 43s  "
       ]
      },
      {
       "output_type": "stream",
       "stream": "stdout",
       "text": [
        "\r",
        "25% [========>                              ] 1,924,875   26.3K/s  eta 1m 43s  "
       ]
      },
      {
       "output_type": "stream",
       "stream": "stdout",
       "text": [
        "\r",
        "26% [=========>                             ] 2,032,507   37.5K/s  eta 1m 43s  "
       ]
      },
      {
       "output_type": "stream",
       "stream": "stdout",
       "text": [
        "\r",
        "27% [=========>                             ] 2,037,899   37.5K/s  eta 1m 43s  "
       ]
      },
      {
       "output_type": "stream",
       "stream": "stdout",
       "text": [
        "\r",
        "27% [=========>                             ] 2,043,291   37.0K/s  eta 97s     "
       ]
      },
      {
       "output_type": "stream",
       "stream": "stdout",
       "text": [
        "\r",
        "27% [=========>                             ] 2,048,683   34.9K/s  eta 97s     "
       ]
      },
      {
       "output_type": "stream",
       "stream": "stdout",
       "text": [
        "\r",
        "27% [=========>                             ] 2,054,075   33.7K/s  eta 97s     "
       ]
      },
      {
       "output_type": "stream",
       "stream": "stdout",
       "text": [
        "\r",
        "27% [=========>                             ] 2,067,555   33.5K/s  eta 97s     "
       ]
      },
      {
       "output_type": "stream",
       "stream": "stdout",
       "text": [
        "\r",
        "27% [=========>                             ] 2,081,035   33.3K/s  eta 97s     "
       ]
      },
      {
       "output_type": "stream",
       "stream": "stdout",
       "text": [
        "\r",
        "27% [=========>                             ] 2,099,907   32.7K/s  eta 97s     "
       ]
      },
      {
       "output_type": "stream",
       "stream": "stdout",
       "text": [
        "\r",
        "28% [=========>                             ] 2,113,387   32.2K/s  eta 97s     "
       ]
      },
      {
       "output_type": "stream",
       "stream": "stdout",
       "text": [
        "\r",
        "28% [==========>                            ] 2,133,607   33.1K/s  eta 97s     "
       ]
      },
      {
       "output_type": "stream",
       "stream": "stdout",
       "text": [
        "\r",
        "28% [==========>                            ] 2,148,435   32.8K/s  eta 97s     "
       ]
      },
      {
       "output_type": "stream",
       "stream": "stdout",
       "text": [
        "\r",
        "28% [==========>                            ] 2,163,263   33.3K/s  eta 95s     "
       ]
      },
      {
       "output_type": "stream",
       "stream": "stdout",
       "text": [
        "\r",
        "28% [==========>                            ] 2,182,135   33.8K/s  eta 95s     "
       ]
      },
      {
       "output_type": "stream",
       "stream": "stdout",
       "text": [
        "\r",
        "29% [==========>                            ] 2,201,007   78.3K/s  eta 95s     "
       ]
      },
      {
       "output_type": "stream",
       "stream": "stdout",
       "text": [
        "\r",
        "29% [==========>                            ] 2,211,791   77.7K/s  eta 95s     "
       ]
      },
      {
       "output_type": "stream",
       "stream": "stdout",
       "text": [
        "\r",
        "29% [==========>                            ] 2,221,227   53.3K/s  eta 95s     "
       ]
      },
      {
       "output_type": "stream",
       "stream": "stdout",
       "text": [
        "\r",
        "29% [==========>                            ] 2,232,011   55.2K/s  eta 93s     "
       ]
      },
      {
       "output_type": "stream",
       "stream": "stdout",
       "text": [
        "\r",
        "29% [==========>                            ] 2,248,187   57.8K/s  eta 93s     "
       ]
      },
      {
       "output_type": "stream",
       "stream": "stdout",
       "text": [
        "\r",
        "29% [==========>                            ] 2,256,275   60.9K/s  eta 93s     "
       ]
      },
      {
       "output_type": "stream",
       "stream": "stdout",
       "text": [
        "\r",
        "30% [==========>                            ] 2,272,451   64.0K/s  eta 93s     "
       ]
      },
      {
       "output_type": "stream",
       "stream": "stdout",
       "text": [
        "\r",
        "30% [==========>                            ] 2,284,583   65.8K/s  eta 93s     "
       ]
      },
      {
       "output_type": "stream",
       "stream": "stdout",
       "text": [
        "\r",
        "30% [==========>                            ] 2,302,107   67.2K/s  eta 91s     "
       ]
      },
      {
       "output_type": "stream",
       "stream": "stdout",
       "text": [
        "\r",
        "30% [===========>                           ] 2,325,023   69.3K/s  eta 91s     "
       ]
      },
      {
       "output_type": "stream",
       "stream": "stdout",
       "text": [
        "\r",
        "31% [===========>                           ] 2,335,807   67.3K/s  eta 91s     "
       ]
      },
      {
       "output_type": "stream",
       "stream": "stdout",
       "text": [
        "\r",
        "31% [===========>                           ] 2,354,679   68.6K/s  eta 91s     "
       ]
      },
      {
       "output_type": "stream",
       "stream": "stdout",
       "text": [
        "\r",
        "31% [===========>                           ] 2,373,551   68.3K/s  eta 91s     "
       ]
      },
      {
       "output_type": "stream",
       "stream": "stdout",
       "text": [
        "\r",
        "31% [===========>                           ] 2,380,291   66.4K/s  eta 89s     "
       ]
      },
      {
       "output_type": "stream",
       "stream": "stdout",
       "text": [
        "\r",
        "31% [===========>                           ] 2,387,031   63.5K/s  eta 89s     "
       ]
      },
      {
       "output_type": "stream",
       "stream": "stdout",
       "text": [
        "\r",
        "31% [===========>                           ] 2,403,207   62.9K/s  eta 89s     "
       ]
      },
      {
       "output_type": "stream",
       "stream": "stdout",
       "text": [
        "\r",
        "32% [===========>                           ] 2,416,687   61.5K/s  eta 89s     "
       ]
      },
      {
       "output_type": "stream",
       "stream": "stdout",
       "text": [
        "\r",
        "32% [===========>                           ] 2,432,863   63.4K/s  eta 89s     "
       ]
      },
      {
       "output_type": "stream",
       "stream": "stdout",
       "text": [
        "\r",
        "32% [===========>                           ] 2,449,039   65.3K/s  eta 88s     "
       ]
      },
      {
       "output_type": "stream",
       "stream": "stdout",
       "text": [
        "\r",
        "32% [===========>                           ] 2,462,519   57.8K/s  eta 88s     "
       ]
      },
      {
       "output_type": "stream",
       "stream": "stdout",
       "text": [
        "\r",
        "32% [===========>                           ] 2,469,259   57.2K/s  eta 88s     "
       ]
      },
      {
       "output_type": "stream",
       "stream": "stdout",
       "text": [
        "\r",
        "32% [===========>                           ] 2,475,999   53.8K/s  eta 89s     "
       ]
      },
      {
       "output_type": "stream",
       "stream": "stdout",
       "text": [
        "\r",
        "32% [===========>                           ] 2,484,087   51.9K/s  eta 89s     "
       ]
      },
      {
       "output_type": "stream",
       "stream": "stdout",
       "text": [
        "\r",
        "33% [===========>                           ] 2,494,871   47.0K/s  eta 89s     "
       ]
      },
      {
       "output_type": "stream",
       "stream": "stdout",
       "text": [
        "\r",
        "33% [============>                          ] 2,512,395   47.7K/s  eta 89s     "
       ]
      },
      {
       "output_type": "stream",
       "stream": "stdout",
       "text": [
        "\r",
        "33% [============>                          ] 2,527,223   48.1K/s  eta 89s     "
       ]
      },
      {
       "output_type": "stream",
       "stream": "stdout",
       "text": [
        "\r",
        "33% [============>                          ] 2,532,615   43.0K/s  eta 88s     "
       ]
      },
      {
       "output_type": "stream",
       "stream": "stdout",
       "text": [
        "\r",
        "33% [============>                          ] 2,539,355   42.1K/s  eta 88s     "
       ]
      },
      {
       "output_type": "stream",
       "stream": "stdout",
       "text": [
        "\r",
        "33% [============>                          ] 2,547,443   42.9K/s  eta 88s     "
       ]
      },
      {
       "output_type": "stream",
       "stream": "stdout",
       "text": [
        "\r",
        "33% [============>                          ] 2,554,183   42.0K/s  eta 88s     "
       ]
      },
      {
       "output_type": "stream",
       "stream": "stdout",
       "text": [
        "\r",
        "33% [============>                          ] 2,560,923   39.9K/s  eta 88s     "
       ]
      },
      {
       "output_type": "stream",
       "stream": "stdout",
       "text": [
        "\r",
        "34% [============>                          ] 2,563,619   34.7K/s  eta 89s     "
       ]
      },
      {
       "output_type": "stream",
       "stream": "stdout",
       "text": [
        "\r",
        "34% [============>                          ] 2,569,011   32.5K/s  eta 89s     "
       ]
      },
      {
       "output_type": "stream",
       "stream": "stdout",
       "text": [
        "\r",
        "34% [============>                          ] 2,574,403   28.5K/s  eta 89s     "
       ]
      },
      {
       "output_type": "stream",
       "stream": "stdout",
       "text": [
        "\r",
        "34% [============>                          ] 2,579,795   30.2K/s  eta 89s     "
       ]
      },
      {
       "output_type": "stream",
       "stream": "stdout",
       "text": [
        "\r",
        "34% [============>                          ] 2,597,319   33.7K/s  eta 89s     "
       ]
      },
      {
       "output_type": "stream",
       "stream": "stdout",
       "text": [
        "\r",
        "34% [============>                          ] 2,613,495   36.4K/s  eta 89s     "
       ]
      },
      {
       "output_type": "stream",
       "stream": "stdout",
       "text": [
        "\r",
        "34% [============>                          ] 2,632,367   38.9K/s  eta 89s     "
       ]
      },
      {
       "output_type": "stream",
       "stream": "stdout",
       "text": [
        "\r",
        "35% [============>                          ] 2,640,455   39.0K/s  eta 89s     "
       ]
      },
      {
       "output_type": "stream",
       "stream": "stdout",
       "text": [
        "\r",
        "35% [============>                          ] 2,647,195   36.5K/s  eta 89s     "
       ]
      },
      {
       "output_type": "stream",
       "stream": "stdout",
       "text": [
        "\r",
        "35% [============>                          ] 2,655,283   35.0K/s  eta 88s     "
       ]
      },
      {
       "output_type": "stream",
       "stream": "stdout",
       "text": [
        "\r",
        "35% [============>                          ] 2,660,675   34.4K/s  eta 88s     "
       ]
      },
      {
       "output_type": "stream",
       "stream": "stdout",
       "text": [
        "\r",
        "35% [============>                          ] 2,670,111   34.8K/s  eta 88s     "
       ]
      },
      {
       "output_type": "stream",
       "stream": "stdout",
       "text": [
        "\r",
        "35% [============>                          ] 2,683,591   37.0K/s  eta 88s     "
       ]
      },
      {
       "output_type": "stream",
       "stream": "stdout",
       "text": [
        "\r",
        "35% [============>                          ] 2,697,071   38.8K/s  eta 88s     "
       ]
      },
      {
       "output_type": "stream",
       "stream": "stdout",
       "text": [
        "\r",
        "36% [=============>                         ] 2,713,247   40.4K/s  eta 87s     "
       ]
      },
      {
       "output_type": "stream",
       "stream": "stdout",
       "text": [
        "\r",
        "36% [=============>                         ] 2,721,335   43.8K/s  eta 87s     "
       ]
      },
      {
       "output_type": "stream",
       "stream": "stdout",
       "text": [
        "\r",
        "36% [=============>                         ] 2,728,075   44.4K/s  eta 87s     "
       ]
      },
      {
       "output_type": "stream",
       "stream": "stdout",
       "text": [
        "\r",
        "36% [=============>                         ] 2,732,119   43.8K/s  eta 87s     "
       ]
      },
      {
       "output_type": "stream",
       "stream": "stdout",
       "text": [
        "\r",
        "36% [=============>                         ] 2,740,207   44.8K/s  eta 87s     "
       ]
      },
      {
       "output_type": "stream",
       "stream": "stdout",
       "text": [
        "\r",
        "36% [=============>                         ] 2,745,599   45.7K/s  eta 88s     "
       ]
      },
      {
       "output_type": "stream",
       "stream": "stdout",
       "text": [
        "\r",
        "36% [=============>                         ] 2,753,687   44.0K/s  eta 88s     "
       ]
      },
      {
       "output_type": "stream",
       "stream": "stdout",
       "text": [
        "\r",
        "36% [=============>                         ] 2,760,427   42.1K/s  eta 88s     "
       ]
      },
      {
       "output_type": "stream",
       "stream": "stdout",
       "text": [
        "\r",
        "36% [=============>                         ] 2,775,255   41.5K/s  eta 88s     "
       ]
      },
      {
       "output_type": "stream",
       "stream": "stdout",
       "text": [
        "\r",
        "37% [=============>                         ] 2,796,823   43.8K/s  eta 88s     "
       ]
      },
      {
       "output_type": "stream",
       "stream": "stdout",
       "text": [
        "\r",
        "37% [=============>                         ] 2,811,651   46.6K/s  eta 86s     "
       ]
      },
      {
       "output_type": "stream",
       "stream": "stdout",
       "text": [
        "\r",
        "37% [=============>                         ] 2,823,783   47.9K/s  eta 86s     "
       ]
      },
      {
       "output_type": "stream",
       "stream": "stdout",
       "text": [
        "\r",
        "37% [=============>                         ] 2,842,655   51.0K/s  eta 86s     "
       ]
      },
      {
       "output_type": "stream",
       "stream": "stdout",
       "text": [
        "\r",
        "38% [=============>                         ] 2,865,571   55.5K/s  eta 86s     "
       ]
      },
      {
       "output_type": "stream",
       "stream": "stdout",
       "text": [
        "\r",
        "38% [=============>                         ] 2,887,139   60.0K/s  eta 86s     "
       ]
      },
      {
       "output_type": "stream",
       "stream": "stdout",
       "text": [
        "\r",
        "38% [==============>                        ] 2,907,359   60.7K/s  eta 83s     "
       ]
      },
      {
       "output_type": "stream",
       "stream": "stdout",
       "text": [
        "\r",
        "38% [==============>                        ] 2,920,839   60.1K/s  eta 83s     "
       ]
      },
      {
       "output_type": "stream",
       "stream": "stdout",
       "text": [
        "\r",
        "39% [==============>                        ] 2,942,407   64.0K/s  eta 83s     "
       ]
      },
      {
       "output_type": "stream",
       "stream": "stdout",
       "text": [
        "\r",
        "39% [==============>                        ] 2,946,451   60.5K/s  eta 83s     "
       ]
      },
      {
       "output_type": "stream",
       "stream": "stdout",
       "text": [
        "\r",
        "39% [==============>                        ] 2,958,583   62.5K/s  eta 83s     "
       ]
      },
      {
       "output_type": "stream",
       "stream": "stdout",
       "text": [
        "\r",
        "39% [==============>                        ] 2,963,975   61.9K/s  eta 83s     "
       ]
      },
      {
       "output_type": "stream",
       "stream": "stdout",
       "text": [
        "\r",
        "39% [==============>                        ] 2,973,411   61.8K/s  eta 83s     "
       ]
      },
      {
       "output_type": "stream",
       "stream": "stdout",
       "text": [
        "\r",
        "39% [==============>                        ] 2,985,543   63.5K/s  eta 83s     "
       ]
      },
      {
       "output_type": "stream",
       "stream": "stdout",
       "text": [
        "\r",
        "39% [==============>                        ] 3,004,415   68.5K/s  eta 83s     "
       ]
      },
      {
       "output_type": "stream",
       "stream": "stdout",
       "text": [
        "\r",
        "40% [==============>                        ] 3,025,983   70.4K/s  eta 81s     "
       ]
      },
      {
       "output_type": "stream",
       "stream": "stdout",
       "text": [
        "\r",
        "40% [==============>                        ] 3,038,115   68.3K/s  eta 81s     "
       ]
      },
      {
       "output_type": "stream",
       "stream": "stdout",
       "text": [
        "\r",
        "40% [==============>                        ] 3,054,291   67.8K/s  eta 81s     "
       ]
      },
      {
       "output_type": "stream",
       "stream": "stdout",
       "text": [
        "\r",
        "40% [==============>                        ] 3,067,771   67.5K/s  eta 81s     "
       ]
      },
      {
       "output_type": "stream",
       "stream": "stdout",
       "text": [
        "\r",
        "40% [==============>                        ] 3,082,599   68.8K/s  eta 81s     "
       ]
      },
      {
       "output_type": "stream",
       "stream": "stdout",
       "text": [
        "\r",
        "41% [===============>                       ] 3,098,775   64.6K/s  eta 79s     "
       ]
      },
      {
       "output_type": "stream",
       "stream": "stdout",
       "text": [
        "\r",
        "41% [===============>                       ] 3,105,515   60.7K/s  eta 79s     "
       ]
      },
      {
       "output_type": "stream",
       "stream": "stdout",
       "text": [
        "\r",
        "41% [===============>                       ] 3,114,951   58.0K/s  eta 79s     "
       ]
      },
      {
       "output_type": "stream",
       "stream": "stdout",
       "text": [
        "\r",
        "41% [===============>                       ] 3,125,735   56.9K/s  eta 79s     "
       ]
      },
      {
       "output_type": "stream",
       "stream": "stdout",
       "text": [
        "\r",
        "41% [===============>                       ] 3,131,127   55.7K/s  eta 79s     "
       ]
      },
      {
       "output_type": "stream",
       "stream": "stdout",
       "text": [
        "\r",
        "41% [===============>                       ] 3,148,651   55.8K/s  eta 79s     "
       ]
      },
      {
       "output_type": "stream",
       "stream": "stdout",
       "text": [
        "\r",
        "42% [===============>                       ] 3,168,871   61.4K/s  eta 79s     "
       ]
      },
      {
       "output_type": "stream",
       "stream": "stdout",
       "text": [
        "\r",
        "42% [===============>                       ] 3,186,395   64.4K/s  eta 79s     "
       ]
      },
      {
       "output_type": "stream",
       "stream": "stdout",
       "text": [
        "\r",
        "42% [===============>                       ] 3,197,179   64.6K/s  eta 79s     "
       ]
      },
      {
       "output_type": "stream",
       "stream": "stdout",
       "text": [
        "\r",
        "42% [===============>                       ] 3,203,919   59.6K/s  eta 78s     "
       ]
      },
      {
       "output_type": "stream",
       "stream": "stdout",
       "text": [
        "\r",
        "42% [===============>                       ] 3,217,399   58.7K/s  eta 78s     "
       ]
      },
      {
       "output_type": "stream",
       "stream": "stdout",
       "text": [
        "\r",
        "42% [===============>                       ] 3,234,923   57.9K/s  eta 78s     "
       ]
      },
      {
       "output_type": "stream",
       "stream": "stdout",
       "text": [
        "\r",
        "43% [===============>                       ] 3,251,099   58.2K/s  eta 78s     "
       ]
      },
      {
       "output_type": "stream",
       "stream": "stdout",
       "text": [
        "\r",
        "43% [===============>                       ] 3,263,231   57.0K/s  eta 78s     "
       ]
      },
      {
       "output_type": "stream",
       "stream": "stdout",
       "text": [
        "\r",
        "43% [===============>                       ] 3,274,015   56.8K/s  eta 76s     "
       ]
      },
      {
       "output_type": "stream",
       "stream": "stdout",
       "text": [
        "\r",
        "43% [================>                      ] 3,290,191   57.6K/s  eta 76s     "
       ]
      },
      {
       "output_type": "stream",
       "stream": "stdout",
       "text": [
        "\r",
        "43% [================>                      ] 3,306,367   57.1K/s  eta 76s     "
       ]
      },
      {
       "output_type": "stream",
       "stream": "stdout",
       "text": [
        "\r",
        "44% [================>                      ] 3,323,891   59.0K/s  eta 76s     "
       ]
      },
      {
       "output_type": "stream",
       "stream": "stdout",
       "text": [
        "\r",
        "44% [================>                      ] 3,341,415   60.8K/s  eta 76s     "
       ]
      },
      {
       "output_type": "stream",
       "stream": "stdout",
       "text": [
        "\r",
        "44% [================>                      ] 3,357,591   64.4K/s  eta 74s     "
       ]
      },
      {
       "output_type": "stream",
       "stream": "stdout",
       "text": [
        "\r",
        "44% [================>                      ] 3,375,115   65.7K/s  eta 74s     "
       ]
      },
      {
       "output_type": "stream",
       "stream": "stdout",
       "text": [
        "\r",
        "45% [================>                      ] 3,391,291   65.2K/s  eta 74s     "
       ]
      },
      {
       "output_type": "stream",
       "stream": "stdout",
       "text": [
        "\r",
        "45% [================>                      ] 3,414,207   65.7K/s  eta 74s     "
       ]
      },
      {
       "output_type": "stream",
       "stream": "stdout",
       "text": [
        "\r",
        "45% [================>                      ] 3,437,123   68.6K/s  eta 74s     "
       ]
      },
      {
       "output_type": "stream",
       "stream": "stdout",
       "text": [
        "\r",
        "46% [================>                      ] 3,474,867   75.1K/s  eta 71s     "
       ]
      },
      {
       "output_type": "stream",
       "stream": "stdout",
       "text": [
        "\r",
        "46% [=================>                     ] 3,486,999   81.4K/s  eta 71s     "
       ]
      },
      {
       "output_type": "stream",
       "stream": "stdout",
       "text": [
        "\r",
        "46% [=================>                     ] 3,527,439   89.0K/s  eta 71s     "
       ]
      },
      {
       "output_type": "stream",
       "stream": "stdout",
       "text": [
        "\r",
        "47% [=================>                     ] 3,547,659   90.1K/s  eta 71s     "
       ]
      },
      {
       "output_type": "stream",
       "stream": "stdout",
       "text": [
        "\r",
        "47% [=================>                     ] 3,569,227   89.3K/s  eta 71s     "
       ]
      },
      {
       "output_type": "stream",
       "stream": "stdout",
       "text": [
        "\r",
        "47% [=================>                     ] 3,584,055   89.7K/s  eta 68s     "
       ]
      },
      {
       "output_type": "stream",
       "stream": "stdout",
       "text": [
        "\r",
        "47% [=================>                     ] 3,601,579   91.6K/s  eta 68s     "
       ]
      },
      {
       "output_type": "stream",
       "stream": "stdout",
       "text": [
        "\r",
        "48% [=================>                     ] 3,616,407   90.7K/s  eta 68s     "
       ]
      },
      {
       "output_type": "stream",
       "stream": "stdout",
       "text": [
        "\r",
        "48% [=================>                     ] 3,631,235   91.2K/s  eta 68s     "
       ]
      },
      {
       "output_type": "stream",
       "stream": "stdout",
       "text": [
        "\r",
        "48% [=================>                     ] 3,640,671   87.0K/s  eta 68s     "
       ]
      },
      {
       "output_type": "stream",
       "stream": "stdout",
       "text": [
        "\r",
        "48% [=================>                     ] 3,647,411   84.1K/s  eta 67s     "
       ]
      },
      {
       "output_type": "stream",
       "stream": "stdout",
       "text": [
        "\r",
        "48% [=================>                     ] 3,655,499   81.1K/s  eta 67s     "
       ]
      },
      {
       "output_type": "stream",
       "stream": "stdout",
       "text": [
        "\r",
        "48% [=================>                     ] 3,662,239   78.2K/s  eta 67s     "
       ]
      },
      {
       "output_type": "stream",
       "stream": "stdout",
       "text": [
        "\r",
        "48% [==================>                    ] 3,677,067   77.1K/s  eta 67s     "
       ]
      },
      {
       "output_type": "stream",
       "stream": "stdout",
       "text": [
        "\r",
        "48% [==================>                    ] 3,682,459   74.0K/s  eta 67s     "
       ]
      },
      {
       "output_type": "stream",
       "stream": "stdout",
       "text": [
        "\r",
        "48% [==================>                    ] 3,690,547   66.3K/s  eta 67s     "
       ]
      },
      {
       "output_type": "stream",
       "stream": "stdout",
       "text": [
        "\r",
        "49% [==================>                    ] 3,705,375   63.8K/s  eta 67s     "
       ]
      },
      {
       "output_type": "stream",
       "stream": "stdout",
       "text": [
        "\r",
        "49% [==================>                    ] 3,721,551   61.4K/s  eta 67s     "
       ]
      },
      {
       "output_type": "stream",
       "stream": "stdout",
       "text": [
        "\r",
        "49% [==================>                    ] 3,739,075   50.2K/s  eta 67s     "
       ]
      },
      {
       "output_type": "stream",
       "stream": "stdout",
       "text": [
        "\r",
        "49% [==================>                    ] 3,753,903   48.0K/s  eta 66s     "
       ]
      },
      {
       "output_type": "stream",
       "stream": "stdout",
       "text": [
        "\r",
        "50% [==================>                    ] 3,767,383   48.4K/s  eta 66s     "
       ]
      },
      {
       "output_type": "stream",
       "stream": "stdout",
       "text": [
        "\r",
        "50% [==================>                    ] 3,779,515   48.1K/s  eta 66s     "
       ]
      },
      {
       "output_type": "stream",
       "stream": "stdout",
       "text": [
        "\r",
        "50% [==================>                    ] 3,782,211   42.1K/s  eta 66s     "
       ]
      },
      {
       "output_type": "stream",
       "stream": "stdout",
       "text": [
        "\r",
        "50% [==================>                    ] 3,794,343   41.8K/s  eta 66s     "
       ]
      },
      {
       "output_type": "stream",
       "stream": "stdout",
       "text": [
        "\r",
        "50% [==================>                    ] 3,806,475   43.0K/s  eta 65s     "
       ]
      },
      {
       "output_type": "stream",
       "stream": "stdout",
       "text": [
        "\r",
        "50% [==================>                    ] 3,819,955   45.0K/s  eta 65s     "
       ]
      },
      {
       "output_type": "stream",
       "stream": "stdout",
       "text": [
        "\r",
        "50% [==================>                    ] 3,840,175   47.8K/s  eta 65s     "
       ]
      },
      {
       "output_type": "stream",
       "stream": "stdout",
       "text": [
        "\r",
        "51% [==================>                    ] 3,844,219   44.7K/s  eta 65s     "
       ]
      },
      {
       "output_type": "stream",
       "stream": "stdout",
       "text": [
        "\r",
        "51% [==================>                    ] 3,852,307   45.8K/s  eta 65s     "
       ]
      },
      {
       "output_type": "stream",
       "stream": "stdout",
       "text": [
        "\r",
        "51% [===================>                   ] 3,873,875   49.9K/s  eta 65s     "
       ]
      },
      {
       "output_type": "stream",
       "stream": "stdout",
       "text": [
        "\r",
        "52% [===================>                   ] 3,929,143   62.9K/s  eta 65s     "
       ]
      },
      {
       "output_type": "stream",
       "stream": "stdout",
       "text": [
        "\r",
        "52% [===================>                   ] 3,991,151   74.9K/s  eta 65s     "
       ]
      },
      {
       "output_type": "stream",
       "stream": "stdout",
       "text": [
        "\r",
        "53% [====================>                  ] 4,058,551   88.7K/s  eta 65s     "
       ]
      },
      {
       "output_type": "stream",
       "stream": "stdout",
       "text": [
        "\r",
        "54% [====================>                  ] 4,107,079    102K/s  eta 57s     "
       ]
      },
      {
       "output_type": "stream",
       "stream": "stdout",
       "text": [
        "\r",
        "55% [====================>                  ] 4,160,999    115K/s  eta 57s     "
       ]
      },
      {
       "output_type": "stream",
       "stream": "stdout",
       "text": [
        "\r",
        "56% [====================>                  ] 4,224,355    130K/s  eta 57s     "
       ]
      },
      {
       "output_type": "stream",
       "stream": "stdout",
       "text": [
        "\r",
        "56% [=====================>                 ] 4,254,011    135K/s  eta 57s     "
       ]
      },
      {
       "output_type": "stream",
       "stream": "stdout",
       "text": [
        "\r",
        "57% [=====================>                 ] 4,332,195    161K/s  eta 57s     "
       ]
      },
      {
       "output_type": "stream",
       "stream": "stdout",
       "text": [
        "\r",
        "58% [=====================>                 ] 4,404,987    179K/s  eta 49s     "
       ]
      },
      {
       "output_type": "stream",
       "stream": "stdout",
       "text": [
        "\r",
        "59% [======================>                ] 4,485,867    201K/s  eta 49s     "
       ]
      },
      {
       "output_type": "stream",
       "stream": "stdout",
       "text": [
        "\r",
        "60% [======================>                ] 4,551,919    222K/s  eta 49s     "
       ]
      },
      {
       "output_type": "stream",
       "stream": "stdout",
       "text": [
        "\r",
        "61% [=======================>               ] 4,667,847    249K/s  eta 49s     "
       ]
      },
      {
       "output_type": "stream",
       "stream": "stdout",
       "text": [
        "\r",
        "62% [=======================>               ] 4,727,159    267K/s  eta 49s     "
       ]
      },
      {
       "output_type": "stream",
       "stream": "stdout",
       "text": [
        "\r",
        "63% [=======================>               ] 4,754,119    279K/s  eta 41s     "
       ]
      },
      {
       "output_type": "stream",
       "stream": "stdout",
       "text": [
        "\r",
        "63% [=======================>               ] 4,798,603    283K/s  eta 41s     "
       ]
      },
      {
       "output_type": "stream",
       "stream": "stdout",
       "text": [
        "\r",
        "64% [========================>              ] 4,875,439    296K/s  eta 41s     "
       ]
      },
      {
       "output_type": "stream",
       "stream": "stdout",
       "text": [
        "\r",
        "65% [========================>              ] 4,922,619    291K/s  eta 41s     "
       ]
      },
      {
       "output_type": "stream",
       "stream": "stdout",
       "text": [
        "\r",
        "65% [========================>              ] 4,971,147    291K/s  eta 41s     "
       ]
      },
      {
       "output_type": "stream",
       "stream": "stdout",
       "text": [
        "\r",
        "66% [========================>              ] 5,011,587    275K/s  eta 36s     "
       ]
      },
      {
       "output_type": "stream",
       "stream": "stdout",
       "text": [
        "\r",
        "66% [=========================>             ] 5,046,635    276K/s  eta 36s     "
       ]
      },
      {
       "output_type": "stream",
       "stream": "stdout",
       "text": [
        "\r",
        "67% [=========================>             ] 5,081,683    268K/s  eta 36s     "
       ]
      },
      {
       "output_type": "stream",
       "stream": "stdout",
       "text": [
        "\r",
        "67% [=========================>             ] 5,109,991    263K/s  eta 36s     "
       ]
      },
      {
       "output_type": "stream",
       "stream": "stdout",
       "text": [
        "\r",
        "68% [=========================>             ] 5,135,603    248K/s  eta 36s     "
       ]
      },
      {
       "output_type": "stream",
       "stream": "stdout",
       "text": [
        "\r",
        "68% [=========================>             ] 5,158,519    184K/s  eta 34s     "
       ]
      },
      {
       "output_type": "stream",
       "stream": "stdout",
       "text": [
        "\r",
        "68% [=========================>             ] 5,158,519    149K/s  eta 34s     "
       ]
      },
      {
       "output_type": "stream",
       "stream": "stdout",
       "text": [
        "\r",
        "68% [=========================>             ] 5,158,519    126K/s  eta 35s     "
       ]
      },
      {
       "output_type": "stream",
       "stream": "stdout",
       "text": [
        "\r",
        "68% [=========================>             ] 5,158,519    109K/s  eta 35s     "
       ]
      },
      {
       "output_type": "stream",
       "stream": "stdout",
       "text": [
        "\r",
        "68% [=========================>             ] 5,158,519   96.0K/s  eta 36s     "
       ]
      },
      {
       "output_type": "stream",
       "stream": "stdout",
       "text": [
        "\r",
        "68% [=========================>             ] 5,176,251   76.1K/s  eta 36s     "
       ]
      },
      {
       "output_type": "stream",
       "stream": "stdout",
       "text": [
        "\r",
        "71% [==========================>            ] 5,359,371   91.4K/s  eta 32s     "
       ]
      },
      {
       "output_type": "stream",
       "stream": "stdout",
       "text": [
        "\r",
        "71% [==========================>            ] 5,390,375   82.2K/s  eta 32s     "
       ]
      },
      {
       "output_type": "stream",
       "stream": "stdout",
       "text": [
        "\r",
        "71% [===========================>           ] 5,414,639   76.1K/s  eta 32s     "
       ]
      },
      {
       "output_type": "stream",
       "stream": "stdout",
       "text": [
        "\r",
        "71% [===========================>           ] 5,417,335   75.3K/s  eta 32s     "
       ]
      },
      {
       "output_type": "stream",
       "stream": "stdout",
       "text": [
        "\r",
        "72% [===========================>           ] 5,446,991   73.7K/s  eta 32s     "
       ]
      },
      {
       "output_type": "stream",
       "stream": "stdout",
       "text": [
        "\r",
        "72% [===========================>           ] 5,492,823   73.2K/s  eta 30s     "
       ]
      },
      {
       "output_type": "stream",
       "stream": "stdout",
       "text": [
        "\r",
        "73% [===========================>           ] 5,519,783   67.2K/s  eta 30s     "
       ]
      },
      {
       "output_type": "stream",
       "stream": "stdout",
       "text": [
        "\r",
        "74% [===========================>           ] 5,583,139   69.9K/s  eta 30s     "
       ]
      },
      {
       "output_type": "stream",
       "stream": "stdout",
       "text": [
        "\r",
        "74% [============================>          ] 5,647,843   72.9K/s  eta 30s     "
       ]
      },
      {
       "output_type": "stream",
       "stream": "stdout",
       "text": [
        "\r",
        "75% [============================>          ] 5,713,895   77.1K/s  eta 30s     "
       ]
      },
      {
       "output_type": "stream",
       "stream": "stdout",
       "text": [
        "\r",
        "76% [============================>          ] 5,774,555   78.9K/s  eta 25s     "
       ]
      },
      {
       "output_type": "stream",
       "stream": "stdout",
       "text": [
        "\r",
        "77% [=============================>         ] 5,820,387   80.9K/s  eta 25s     "
       ]
      },
      {
       "output_type": "stream",
       "stream": "stdout",
       "text": [
        "\r",
        "77% [=============================>         ] 5,827,127   79.1K/s  eta 25s     "
       ]
      },
      {
       "output_type": "stream",
       "stream": "stdout",
       "text": [
        "\r",
        "77% [=============================>         ] 5,833,867   76.6K/s  eta 25s     "
       ]
      },
      {
       "output_type": "stream",
       "stream": "stdout",
       "text": [
        "\r",
        "77% [=============================>         ] 5,843,303    164K/s  eta 25s     "
       ]
      },
      {
       "output_type": "stream",
       "stream": "stdout",
       "text": [
        "\r",
        "78% [=============================>         ] 5,879,699    198K/s  eta 23s     "
       ]
      },
      {
       "output_type": "stream",
       "stream": "stdout",
       "text": [
        "\r",
        "78% [=============================>         ] 5,889,135    148K/s  eta 23s     "
       ]
      },
      {
       "output_type": "stream",
       "stream": "stdout",
       "text": [
        "\r",
        "78% [=============================>         ] 5,902,615    144K/s  eta 23s     "
       ]
      },
      {
       "output_type": "stream",
       "stream": "stdout",
       "text": [
        "\r",
        "78% [=============================>         ] 5,920,139    142K/s  eta 23s     "
       ]
      },
      {
       "output_type": "stream",
       "stream": "stdout",
       "text": [
        "\r",
        "78% [=============================>         ] 5,930,923    124K/s  eta 22s     "
       ]
      },
      {
       "output_type": "stream",
       "stream": "stdout",
       "text": [
        "\r",
        "78% [=============================>         ] 5,940,359    113K/s  eta 22s     "
       ]
      },
      {
       "output_type": "stream",
       "stream": "stdout",
       "text": [
        "\r",
        "78% [=============================>         ] 5,947,099    106K/s  eta 22s     "
       ]
      },
      {
       "output_type": "stream",
       "stream": "stdout",
       "text": [
        "\r",
        "79% [=============================>         ] 5,953,839   93.3K/s  eta 22s     "
       ]
      },
      {
       "output_type": "stream",
       "stream": "stdout",
       "text": [
        "\r",
        "79% [=============================>         ] 5,955,187   79.2K/s  eta 22s     "
       ]
      },
      {
       "output_type": "stream",
       "stream": "stdout",
       "text": [
        "\r",
        "79% [=============================>         ] 5,975,407   70.2K/s  eta 22s     "
       ]
      },
      {
       "output_type": "stream",
       "stream": "stdout",
       "text": [
        "\r",
        "79% [==============================>        ] 5,994,279   63.0K/s  eta 22s     "
       ]
      },
      {
       "output_type": "stream",
       "stream": "stdout",
       "text": [
        "\r",
        "79% [==============================>        ] 6,006,411   45.3K/s  eta 22s     "
       ]
      },
      {
       "output_type": "stream",
       "stream": "stdout",
       "text": [
        "\r",
        "79% [==============================>        ] 6,010,455   39.9K/s  eta 22s     "
       ]
      },
      {
       "output_type": "stream",
       "stream": "stdout",
       "text": [
        "\r",
        "79% [==============================>        ] 6,021,239   40.9K/s  eta 22s     "
       ]
      },
      {
       "output_type": "stream",
       "stream": "stdout",
       "text": [
        "\r",
        "80% [==============================>        ] 6,033,371   42.1K/s  eta 22s     "
       ]
      },
      {
       "output_type": "stream",
       "stream": "stdout",
       "text": [
        "\r",
        "80% [==============================>        ] 6,040,111   41.4K/s  eta 22s     "
       ]
      },
      {
       "output_type": "stream",
       "stream": "stdout",
       "text": [
        "\r",
        "80% [==============================>        ] 6,046,851   35.7K/s  eta 22s     "
       ]
      },
      {
       "output_type": "stream",
       "stream": "stdout",
       "text": [
        "\r",
        "80% [==============================>        ] 6,050,895   33.1K/s  eta 21s     "
       ]
      },
      {
       "output_type": "stream",
       "stream": "stdout",
       "text": [
        "\r",
        "80% [==============================>        ] 6,057,635   28.4K/s  eta 21s     "
       ]
      },
      {
       "output_type": "stream",
       "stream": "stdout",
       "text": [
        "\r",
        "80% [==============================>        ] 6,068,419   32.8K/s  eta 21s     "
       ]
      },
      {
       "output_type": "stream",
       "stream": "stdout",
       "text": [
        "\r",
        "80% [==============================>        ] 6,081,899   33.8K/s  eta 21s     "
       ]
      },
      {
       "output_type": "stream",
       "stream": "stdout",
       "text": [
        "\r",
        "80% [==============================>        ] 6,094,031   35.6K/s  eta 21s     "
       ]
      },
      {
       "output_type": "stream",
       "stream": "stdout",
       "text": [
        "\r",
        "81% [==============================>        ] 6,104,815   37.2K/s  eta 21s     "
       ]
      },
      {
       "output_type": "stream",
       "stream": "stdout",
       "text": [
        "\r",
        "81% [==============================>        ] 6,120,991   39.3K/s  eta 21s     "
       ]
      },
      {
       "output_type": "stream",
       "stream": "stdout",
       "text": [
        "\r",
        "81% [==============================>        ] 6,135,819   38.6K/s  eta 21s     "
       ]
      },
      {
       "output_type": "stream",
       "stream": "stdout",
       "text": [
        "\r",
        "81% [==============================>        ] 6,145,255   37.0K/s  eta 21s     "
       ]
      },
      {
       "output_type": "stream",
       "stream": "stdout",
       "text": [
        "\r",
        "81% [==============================>        ] 6,157,387   42.4K/s  eta 20s     "
       ]
      },
      {
       "output_type": "stream",
       "stream": "stdout",
       "text": [
        "\r",
        "81% [==============================>        ] 6,169,519   44.5K/s  eta 20s     "
       ]
      },
      {
       "output_type": "stream",
       "stream": "stdout",
       "text": [
        "\r",
        "82% [==============================>        ] 6,178,955   42.9K/s  eta 20s     "
       ]
      },
      {
       "output_type": "stream",
       "stream": "stdout",
       "text": [
        "\r",
        "82% [===============================>       ] 6,192,435   43.3K/s  eta 20s     "
       ]
      },
      {
       "output_type": "stream",
       "stream": "stdout",
       "text": [
        "\r",
        "82% [===============================>       ] 6,207,263   46.4K/s  eta 20s     "
       ]
      },
      {
       "output_type": "stream",
       "stream": "stdout",
       "text": [
        "\r",
        "82% [===============================>       ] 6,218,047   48.7K/s  eta 19s     "
       ]
      },
      {
       "output_type": "stream",
       "stream": "stdout",
       "text": [
        "\r",
        "82% [===============================>       ] 6,228,831   50.4K/s  eta 19s     "
       ]
      },
      {
       "output_type": "stream",
       "stream": "stdout",
       "text": [
        "\r",
        "82% [===============================>       ] 6,245,007   54.8K/s  eta 19s     "
       ]
      },
      {
       "output_type": "stream",
       "stream": "stdout",
       "text": [
        "\r",
        "83% [===============================>       ] 6,263,879   57.3K/s  eta 19s     "
       ]
      },
      {
       "output_type": "stream",
       "stream": "stdout",
       "text": [
        "\r",
        "83% [===============================>       ] 6,277,359   58.3K/s  eta 19s     "
       ]
      },
      {
       "output_type": "stream",
       "stream": "stdout",
       "text": [
        "\r",
        "83% [===============================>       ] 6,286,795   57.5K/s  eta 18s     "
       ]
      },
      {
       "output_type": "stream",
       "stream": "stdout",
       "text": [
        "\r",
        "83% [===============================>       ] 6,302,971   58.6K/s  eta 18s     "
       ]
      },
      {
       "output_type": "stream",
       "stream": "stdout",
       "text": [
        "\r",
        "83% [===============================>       ] 6,319,147   59.0K/s  eta 18s     "
       ]
      },
      {
       "output_type": "stream",
       "stream": "stdout",
       "text": [
        "\r",
        "84% [===============================>       ] 6,331,279   58.1K/s  eta 18s     "
       ]
      },
      {
       "output_type": "stream",
       "stream": "stdout",
       "text": [
        "\r",
        "84% [===============================>       ] 6,350,151   60.9K/s  eta 18s     "
       ]
      },
      {
       "output_type": "stream",
       "stream": "stdout",
       "text": [
        "\r",
        "84% [===============================>       ] 6,363,631   62.2K/s  eta 17s     "
       ]
      },
      {
       "output_type": "stream",
       "stream": "stdout",
       "text": [
        "\r",
        "84% [================================>      ] 6,381,155   63.8K/s  eta 17s     "
       ]
      },
      {
       "output_type": "stream",
       "stream": "stdout",
       "text": [
        "\r",
        "84% [================================>      ] 6,397,331   64.7K/s  eta 17s     "
       ]
      },
      {
       "output_type": "stream",
       "stream": "stdout",
       "text": [
        "\r",
        "85% [================================>      ] 6,408,115   65.1K/s  eta 17s     "
       ]
      },
      {
       "output_type": "stream",
       "stream": "stdout",
       "text": [
        "\r",
        "85% [================================>      ] 6,418,899   62.6K/s  eta 17s     "
       ]
      },
      {
       "output_type": "stream",
       "stream": "stdout",
       "text": [
        "\r",
        "85% [================================>      ] 6,435,075   64.7K/s  eta 16s     "
       ]
      },
      {
       "output_type": "stream",
       "stream": "stdout",
       "text": [
        "\r",
        "85% [================================>      ] 6,451,251   66.4K/s  eta 16s     "
       ]
      },
      {
       "output_type": "stream",
       "stream": "stdout",
       "text": [
        "\r",
        "85% [================================>      ] 6,466,079   65.3K/s  eta 16s     "
       ]
      },
      {
       "output_type": "stream",
       "stream": "stdout",
       "text": [
        "\r",
        "86% [================================>      ] 6,484,951   66.3K/s  eta 16s     "
       ]
      },
      {
       "output_type": "stream",
       "stream": "stdout",
       "text": [
        "\r",
        "86% [================================>      ] 6,495,735   65.0K/s  eta 16s     "
       ]
      },
      {
       "output_type": "stream",
       "stream": "stdout",
       "text": [
        "\r",
        "86% [================================>      ] 6,507,867   65.5K/s  eta 15s     "
       ]
      },
      {
       "output_type": "stream",
       "stream": "stdout",
       "text": [
        "\r",
        "86% [================================>      ] 6,524,043   66.8K/s  eta 15s     "
       ]
      },
      {
       "output_type": "stream",
       "stream": "stdout",
       "text": [
        "\r",
        "86% [================================>      ] 6,540,219   67.4K/s  eta 15s     "
       ]
      },
      {
       "output_type": "stream",
       "stream": "stdout",
       "text": [
        "\r",
        "87% [================================>      ] 6,556,395   67.6K/s  eta 15s     "
       ]
      },
      {
       "output_type": "stream",
       "stream": "stdout",
       "text": [
        "\r",
        "87% [=================================>     ] 6,573,919   67.3K/s  eta 15s     "
       ]
      },
      {
       "output_type": "stream",
       "stream": "stdout",
       "text": [
        "\r",
        "87% [=================================>     ] 6,590,095   68.4K/s  eta 14s     "
       ]
      },
      {
       "output_type": "stream",
       "stream": "stdout",
       "text": [
        "\r",
        "87% [=================================>     ] 6,613,011   69.9K/s  eta 14s     "
       ]
      },
      {
       "output_type": "stream",
       "stream": "stdout",
       "text": [
        "\r",
        "88% [=================================>     ] 6,652,103   77.6K/s  eta 14s     "
       ]
      },
      {
       "output_type": "stream",
       "stream": "stdout",
       "text": [
        "\r",
        "88% [=================================>     ] 6,695,239   87.4K/s  eta 14s     "
       ]
      },
      {
       "output_type": "stream",
       "stream": "stdout",
       "text": [
        "\r",
        "89% [=================================>     ] 6,730,287   94.0K/s  eta 14s     "
       ]
      },
      {
       "output_type": "stream",
       "stream": "stdout",
       "text": [
        "\r",
        "90% [==================================>    ] 6,808,471    116K/s  eta 10s     "
       ]
      },
      {
       "output_type": "stream",
       "stream": "stdout",
       "text": [
        "\r",
        "91% [==================================>    ] 6,867,783    128K/s  eta 10s     "
       ]
      },
      {
       "output_type": "stream",
       "stream": "stdout",
       "text": [
        "\r",
        "92% [==================================>    ] 6,941,923    146K/s  eta 10s     "
       ]
      },
      {
       "output_type": "stream",
       "stream": "stdout",
       "text": [
        "\r",
        "93% [===================================>   ] 7,056,503    179K/s  eta 10s     "
       ]
      },
      {
       "output_type": "stream",
       "stream": "stdout",
       "text": [
        "\r",
        "94% [===================================>   ] 7,095,595    186K/s  eta 10s     "
       ]
      },
      {
       "output_type": "stream",
       "stream": "stdout",
       "text": [
        "\r",
        "95% [====================================>  ] 7,180,519    207K/s  eta 5s      "
       ]
      },
      {
       "output_type": "stream",
       "stream": "stdout",
       "text": [
        "\r",
        "96% [====================================>  ] 7,273,531    229K/s  eta 5s      "
       ]
      },
      {
       "output_type": "stream",
       "stream": "stdout",
       "text": [
        "\r",
        "98% [=====================================> ] 7,404,287    270K/s  eta 5s      "
       ]
      },
      {
       "output_type": "stream",
       "stream": "stdout",
       "text": [
        "\r",
        "100%[======================================>] 7,532,329    303K/s   in 98s     \r\n",
        "\r\n",
        "2014-07-30 07:17:54 (74.9 KB/s) - `seastar_trin_nt_3.tab' saved [7532329/7532329]\r\n",
        "\r\n"
       ]
      }
     ],
     "prompt_number": 63
    },
    {
     "cell_type": "code",
     "collapsed": false,
     "input": [
      "!grep \"virus\" /Volumes/web/cnidarian/seastar_trin_nt_3.tab"
     ],
     "language": "python",
     "metadata": {},
     "outputs": [
      {
       "output_type": "stream",
       "stream": "stdout",
       "text": [
        "c5107_g1_i1\tgi|73697523|gb|DQ112131.1|\t98.62\t218\t4e-102\t  379\t9606\tHomo sapiens\thuman\tprimates\tEukaryota\tHomo sapiens endogenous virus Human endogenous retrovirus K HERV-K7, complete sequence\r\n"
       ]
      },
      {
       "output_type": "stream",
       "stream": "stdout",
       "text": [
        "c9659_g1_i1\tgi|430768498|dbj|AB618031.1|\t99.50\t201\t1e-95\t  358\t946522\tHerpes simplex virus (type 1 /strain RH2)\tHerpes simplex virus (type 1 /strain RH2)\tviruses\tViruses\tHerpes simplex virus (type 1 /strain RH2) DNA, nearly complete genome\r\n",
        "c14533_g1_i1\tgi|113715669|gb|DQ453159.1|\t92.38\t223\t9e-85\t  322\t447909\tGeobacillus virus E2\tGeobacillus virus E2\tviruses\tViruses\tGeobacillus virus E2, complete genome\r\n"
       ]
      },
      {
       "output_type": "stream",
       "stream": "stdout",
       "text": [
        "c36532_g1_i1\tgi|294478921|gb|GU568037.1|\t83.33\t306\t1e-84\t  322\t749413\tDeep-sea thermophilic phage D6E\tDeep-sea thermophilic phage D6E\tviruses\tViruses\tDeep-sea thermophilic phage D6E, complete genome\r\n",
        "c66484_g1_i1\tgi|375281968|gb|JN700521.1|\t97.54\t203\t2e-91\t  343\t1147043\tStaphylococcus phage StB20\tStaphylococcus phage StB20\tviruses\tViruses\tStaphylococcus phage StB20, complete genome\r\n",
        "c72379_g1_i1\tgi|375281968|gb|JN700521.1|\t91.29\t241\t4e-90\t  340\t1147043\tStaphylococcus phage StB20\tStaphylococcus phage StB20\tviruses\tViruses\tStaphylococcus phage StB20, complete genome\r\n"
       ]
      },
      {
       "output_type": "stream",
       "stream": "stdout",
       "text": [
        "c109304_g1_i1\tgi|400530476|gb|JX142173.1|\t100.00\t223\t3e-109\t  403\t10298\tHuman herpesvirus 1\tHerpes simplex virus type 1\tviruses\tViruses\tHuman herpesvirus 1 strain Mckrae, partial genome\r\n"
       ]
      },
      {
       "output_type": "stream",
       "stream": "stdout",
       "text": [
        "c118932_g1_i1\tgi|375281968|gb|JN700521.1|\t97.56\t205\t2e-92\t  347\t1147043\tStaphylococcus phage StB20\tStaphylococcus phage StB20\tviruses\tViruses\tStaphylococcus phage StB20, complete genome\r\n"
       ]
      },
      {
       "output_type": "stream",
       "stream": "stdout",
       "text": [
        "c129231_g1_i1\tgi|375281968|gb|JN700521.1|\t83.26\t215\t5e-56\t  226\t1147043\tStaphylococcus phage StB20\tStaphylococcus phage StB20\tviruses\tViruses\tStaphylococcus phage StB20, complete genome\r\n"
       ]
      },
      {
       "output_type": "stream",
       "stream": "stdout",
       "text": [
        "c146941_g1_i1\tgi|294478921|gb|GU568037.1|\t79.14\t187\t1e-32\t  149\t749413\tDeep-sea thermophilic phage D6E\tDeep-sea thermophilic phage D6E\tviruses\tViruses\tDeep-sea thermophilic phage D6E, complete genome\r\n"
       ]
      },
      {
       "output_type": "stream",
       "stream": "stdout",
       "text": [
        "c180360_g1_i1\tgi|113715669|gb|DQ453159.1|\t90.82\t196\t4e-70\t  273\t447909\tGeobacillus virus E2\tGeobacillus virus E2\tviruses\tViruses\tGeobacillus virus E2, complete genome\r\n",
        "c185354_g1_i1\tgi|430768498|dbj|AB618031.1|\t100.00\t224\t1e-109\t  405\t946522\tHerpes simplex virus (type 1 /strain RH2)\tHerpes simplex virus (type 1 /strain RH2)\tviruses\tViruses\tHerpes simplex virus (type 1 /strain RH2) DNA, nearly complete genome\r\n",
        "c190527_g1_i1\tgi|375281968|gb|JN700521.1|\t98.41\t377\t0.0\t  654\t1147043\tStaphylococcus phage StB20\tStaphylococcus phage StB20\tviruses\tViruses\tStaphylococcus phage StB20, complete genome\r\n",
        "c191163_g1_i1\tgi|331028441|ref|NG_028797.1|\t100.00\t224\t1e-109\t  405\t9606\tHomo sapiens\thuman\tprimates\tEukaryota\tHomo sapiens HERV-FRD provirus ancestral Env polyprotein pseudogene (LOC100533729) on chromosome X\r\n",
        "c191322_g1_i1\tgi|523707052|gb|KF254382.1|\t99.10\t223\t2e-106\t  394\t9606\tHomo sapiens\thuman\tprimates\tEukaryota\tHomo sapiens endogenous virus HERV-K clone 11A11.Dm13 nonfunctional envelope protein mRNA, complete sequence\r\n",
        "c192829_g1_i1\tgi|190410749|gb|DQ840344.2|\t94.94\t257\t1e-109\t  405\t396034\tBacillus virus 1\tBacillus virus 1\tviruses\tViruses\tBacillus virus 1, complete genome\r\n",
        "c204550_g1_i1\tgi|113715669|gb|DQ453159.1|\t89.17\t240\t6e-81\t  309\t447909\tGeobacillus virus E2\tGeobacillus virus E2\tviruses\tViruses\tGeobacillus virus E2, complete genome\r\n",
        "c211254_g1_i1\tgi|340343118|ref|NG_029458.1|\t91.67\t204\t6e-74\t  286\t9606\tHomo sapiens\thuman\tprimates\tEukaryota\tHomo sapiens coxsackie virus and adenovirus receptor (CXADR), RefSeqGene on chromosome 21\r\n",
        "c212894_g1_i1\tgi|9836490|dbj|AB047242.1|\t100.00\t212\t3e-103\t  383\t9606\tHomo sapiens\thuman\tprimates\tEukaryota\tHomo sapiens DNA, 3' flanking region of human endogenous retrovirus HERV-K(III)/K102\r\n",
        "c222957_g1_i1\tgi|113715669|gb|DQ453159.1|\t85.45\t220\t4e-64\t  253\t447909\tGeobacillus virus E2\tGeobacillus virus E2\tviruses\tViruses\tGeobacillus virus E2, complete genome\r\n",
        "c264080_g1_i1\tgi|375281966|gb|JN700519.1|\t81.50\t227\t2e-54\t  221\t1147044\tStaphylococcus phage StB27\tStaphylococcus phage StB27\tviruses\tViruses\tStaphylococcus phage StB27, complete genome\r\n",
        "c267661_g1_i1\tgi|357197696|gb|JN675087.1|\t99.07\t323\t6e-159\t  569\t9606\tHomo sapiens\thuman\tprimates\tEukaryota\tHomo sapiens isolate HML-2_22q11.21 endogenous virus HERV-K, complete sequence\r\n",
        "c290309_g1_i1\tgi|379979844|gb|JN700520.2|\t91.16\t181\t1e-64\t  255\t1147042\tStaphylococcus phage StB12\tStaphylococcus phage StB12\tviruses\tViruses\tStaphylococcus phage StB12, complete genome\r\n",
        "c292583_g1_i1\tgi|357197645|gb|JN675036.1|\t97.64\t212\t3e-96\t  360\t9606\tHomo sapiens\thuman\tprimates\tEukaryota\tHomo sapiens isolate HML-2_5q33.2 endogenous virus HERV-K, complete sequence\r\n",
        "c298314_g1_i1\tgi|379979844|gb|JN700520.2|\t76.01\t296\t7e-50\t  206\t1147042\tStaphylococcus phage StB12\tStaphylococcus phage StB12\tviruses\tViruses\tStaphylococcus phage StB12, complete genome\r\n",
        "c298319_g1_i1\tgi|4959376|gb|AF108842.1|H18HERV2\t97.74\t265\t1e-122\t  448\t9606\tHomo sapiens\thuman\tprimates\tEukaryota\tHomo sapiens human endogenous retrovirus HERV-H18 pol pseudogene, partial sequence; and env pseudogene and 3' LTR, complete sequence\r\n",
        "c298749_g1_i1\tgi|407302226|gb|JX262222.1|\t97.12\t208\t6e-93\t  349\t1229791\tPropionibacterium phage P100_1\tPropionibacterium phage P100_1\tviruses\tViruses\tPropionibacterium phage P100_1, complete genome\r\n",
        "c299795_g1_i1\tgi|113715669|gb|DQ453159.1|\t95.43\t219\t2e-93\t  351\t447909\tGeobacillus virus E2\tGeobacillus virus E2\tviruses\tViruses\tGeobacillus virus E2, complete genome\r\n",
        "c300145_g1_i1\tgi|392494166|gb|JN192400.1|\t85.19\t270\t7e-81\t  309\t1197952\tStaphylococcus phage vB_SepiS-phiIPLA5\tStaphylococcus phage vB_SepiS-phiIPLA5\tviruses\tViruses\tStaphylococcus phage vB_SepiS-phiIPLA5, complete genome\r\n",
        "c300886_g1_i1\tgi|294478921|gb|GU568037.1|\t83.89\t360\t1e-104\t  389\t749413\tDeep-sea thermophilic phage D6E\tDeep-sea thermophilic phage D6E\tviruses\tViruses\tDeep-sea thermophilic phage D6E, complete genome\r\n",
        "c300989_g1_i1\tgi|375281968|gb|JN700521.1|\t96.38\t221\t3e-97\t  363\t1147043\tStaphylococcus phage StB20\tStaphylococcus phage StB20\tviruses\tViruses\tStaphylococcus phage StB20, complete genome\r\n",
        "c302616_g1_i1\tgi|113715669|gb|DQ453159.1|\t82.32\t198\t2e-48\t  201\t447909\tGeobacillus virus E2\tGeobacillus virus E2\tviruses\tViruses\tGeobacillus virus E2, complete genome\r\n",
        "c303417_g1_i1\tgi|294478921|gb|GU568037.1|\t87.21\t172\t3e-48\t  201\t749413\tDeep-sea thermophilic phage D6E\tDeep-sea thermophilic phage D6E\tviruses\tViruses\tDeep-sea thermophilic phage D6E, complete genome\r\n",
        "c303722_g1_i1\tgi|91982906|gb|DQ431235.1|\t78.45\t478\t3e-103\t  385\t376758\tPropionibacterium phage PA6\tPropionibacterium phage PA6\tviruses\tViruses\tPropionibacterium phage PA6, complete genome\r\n",
        "c304151_g1_i1\tgi|375281968|gb|JN700521.1|\t87.45\t239\t4e-77\t  297\t1147043\tStaphylococcus phage StB20\tStaphylococcus phage StB20\tviruses\tViruses\tStaphylococcus phage StB20, complete genome\r\n",
        "c304506_g1_i1\tgi|113715669|gb|DQ453159.1|\t80.95\t252\t1e-59\t  239\t447909\tGeobacillus virus E2\tGeobacillus virus E2\tviruses\tViruses\tGeobacillus virus E2, complete genome\r\n",
        "c305123_g1_i1\tgi|375281968|gb|JN700521.1|\t94.34\t265\t3e-111\t  410\t1147043\tStaphylococcus phage StB20\tStaphylococcus phage StB20\tviruses\tViruses\tStaphylococcus phage StB20, complete genome\r\n",
        "c306132_g1_i1\tgi|113715669|gb|DQ453159.1|\t84.46\t193\t3e-52\t  214\t447909\tGeobacillus virus E2\tGeobacillus virus E2\tviruses\tViruses\tGeobacillus virus E2, complete genome\r\n",
        "c306624_g1_i1\tgi|113715669|gb|DQ453159.1|\t71.12\t277\t2e-26\t  129\t447909\tGeobacillus virus E2\tGeobacillus virus E2\tviruses\tViruses\tGeobacillus virus E2, complete genome\r\n",
        "c306949_g1_i1\tgi|113715669|gb|DQ453159.1|\t86.75\t166\t2e-48\t  201\t447909\tGeobacillus virus E2\tGeobacillus virus E2\tviruses\tViruses\tGeobacillus virus E2, complete genome\r\n",
        "c307243_g1_i1\tgi|113715669|gb|DQ453159.1|\t78.45\t232\t3e-46\t  194\t447909\tGeobacillus virus E2\tGeobacillus virus E2\tviruses\tViruses\tGeobacillus virus E2, complete genome\r\n",
        "c307816_g1_i1\tgi|294478921|gb|GU568037.1|\t86.05\t215\t7e-61\t  242\t749413\tDeep-sea thermophilic phage D6E\tDeep-sea thermophilic phage D6E\tviruses\tViruses\tDeep-sea thermophilic phage D6E, complete genome\r\n",
        "c309944_g1_i1\tgi|407302132|gb|JX262220.1|\t96.77\t341\t7e-158\t  565\t1229789\tPropionibacterium phage P100D\tPropionibacterium phage P100D\tviruses\tViruses\tPropionibacterium phage P100D, complete genome\r\n",
        "c311131_g1_i1\tgi|294478921|gb|GU568037.1|\t99.66\t296\t5e-147\t  529\t749413\tDeep-sea thermophilic phage D6E\tDeep-sea thermophilic phage D6E\tviruses\tViruses\tDeep-sea thermophilic phage D6E, complete genome\r\n",
        "c312061_g1_i2\tgi|485726856|gb|KC661278.1|\t74.28\t1563\t0.0\t  976\t1327777\tMycobacterium phage SiSi\tMycobacterium phage SiSi\tviruses\tViruses\tMycobacterium phage SiSi, complete genome\r\n",
        "c313678_g1_i1\tgi|357197622|gb|JN675013.1|\t97.13\t209\t2e-93\t  351\t9606\tHomo sapiens\thuman\tprimates\tEukaryota\tHomo sapiens isolate HML-2_1q23.3 endogenous virus HERV-K, complete sequence\r\n",
        "c313775_g1_i1\tgi|448927458|gb|JX997161.1|\t77.25\t189\t2e-27\t  134\t1278248\tParamecium bursaria Chlorella virus CVG-1\tParamecium bursaria Chlorella virus CVG-1\tviruses\tViruses\tParamecium bursaria Chlorella virus CVG-1, partial genome\r\n",
        "c314342_g1_i1\tgi|113715669|gb|DQ453159.1|\t90.09\t343\t5e-128\t  466\t447909\tGeobacillus virus E2\tGeobacillus virus E2\tviruses\tViruses\tGeobacillus virus E2, complete genome\r\n",
        "c316602_g1_i1\tgi|73697528|gb|DQ112136.1|\t97.64\t212\t3e-96\t  360\t9598\tPan troglodytes\tchimpanzee\tprimates\tEukaryota\tPan troglodytes endogenous virus Chimpanzee endogenous retrovirus K CERV-K60, complete sequence\r\n",
        "c317379_g1_i1\tgi|113715669|gb|DQ453159.1|\t80.61\t165\t3e-34\t  154\t447909\tGeobacillus virus E2\tGeobacillus virus E2\tviruses\tViruses\tGeobacillus virus E2, complete genome\r\n",
        "c319887_g1_i1\tgi|541905708|gb|KF558370.1|\t78.92\t204\t1e-38\t  168\t10372\tHuman herpesvirus 7\tHuman herpesvirus 7\tviruses\tViruses\tHuman herpesvirus 7 isolate UCL-1, partial genome\r\n",
        "c320673_g1_i1\tgi|407301898|gb|JX262215.1|\t95.77\t213\t3e-91\t  343\t1229782\tPropionibacterium phage P9.1\tPropionibacterium phage P9.1\tviruses\tViruses\tPropionibacterium phage P9.1, complete genome\r\n",
        "c322195_g1_i1\tgi|379979844|gb|JN700520.2|\t77.78\t162\t3e-27\t  131\t1147042\tStaphylococcus phage StB12\tStaphylococcus phage StB12\tviruses\tViruses\tStaphylococcus phage StB12, complete genome\r\n",
        "c323549_g1_i1\tgi|538015421|gb|KC342645.2|\t91.83\t416\t2e-167\t  598\t1273712\tStaphylococcus phage JS01\tStaphylococcus phage JS01\tviruses\tViruses\tStaphylococcus phage JS01, complete genome\r\n",
        "c323549_g2_i1\tgi|238683986|gb|FJ713816.1|\t80.88\t204\t2e-42\t  181\t648017\tStaphylococcus phage phiPVL-CN125\tStaphylococcus phage phiPVL-CN125\tviruses\tViruses\tStaphylococcus phage phiPVL-CN125, complete genome\r\n",
        "c323684_g2_i1\tgi|375281968|gb|JN700521.1|\t92.96\t284\t5e-115\t  423\t1147043\tStaphylococcus phage StB20\tStaphylococcus phage StB20\tviruses\tViruses\tStaphylococcus phage StB20, complete genome\r\n",
        "c324362_g1_i1\tgi|375281968|gb|JN700521.1|\t92.93\t198\t1e-76\t  295\t1147043\tStaphylococcus phage StB20\tStaphylococcus phage StB20\tviruses\tViruses\tStaphylococcus phage StB20, complete genome\r\n",
        "c326834_g1_i1\tgi|113715669|gb|DQ453159.1|\t76.80\t194\t9e-31\t  143\t447909\tGeobacillus virus E2\tGeobacillus virus E2\tviruses\tViruses\tGeobacillus virus E2, complete genome\r\n",
        "c326954_g1_i2\tgi|294478921|gb|GU568037.1|\t96.03\t151\t7e-62\t  246\t749413\tDeep-sea thermophilic phage D6E\tDeep-sea thermophilic phage D6E\tviruses\tViruses\tDeep-sea thermophilic phage D6E, complete genome\r\n",
        "c327053_g1_i1\tgi|118566996|gb|DQ831957.1|\t93.54\t573\t0.0\t  866\t398839\tStaphylococcus phage CNPH82\tStaphylococcus phage CNPH82\tviruses\tViruses\tStaphylococcus phage CNPH82, complete genome\r\n",
        "c327250_g1_i1\tgi|357197676|gb|JN675067.1|\t99.57\t233\t6e-113\t  416\t9606\tHomo sapiens\thuman\tprimates\tEukaryota\tHomo sapiens isolate HML-2_12q13.2 endogenous virus HERV-K, complete sequence\r\n",
        "c327918_g1_i2\tgi|113715669|gb|DQ453159.1|\t89.68\t252\t2e-89\t  338\t447909\tGeobacillus virus E2\tGeobacillus virus E2\tviruses\tViruses\tGeobacillus virus E2, complete genome\r\n",
        "c328284_g1_i1\tgi|383395315|gb|JQ086376.1|\t99.80\t999\t0.0\t 1793\t1147146\tEnterobacteria phage HK630\tEnterobacteria phage HK630\tviruses\tViruses\tEnterobacteria phage HK630, complete genome\r\n",
        "c328543_g1_i1\tgi|357197695|gb|JN675086.1|\t97.55\t286\t2e-133\t  484\t9606\tHomo sapiens\thuman\tprimates\tEukaryota\tHomo sapiens isolate HML-2_21q21.1 endogenous virus HERV-K, complete sequence\r\n",
        "c328588_g1_i1\tgi|8272463|gb|AF156961.1|AF156961\t96.26\t214\t2e-92\t  347\t9606\tHomo sapiens\thuman\tprimates\tEukaryota\tHomo sapiens human endogenous retrovirus W gagC3.37 G gag (gag) gene, complete cds\r\n",
        "c328620_g1_i1\tgi|113715669|gb|DQ453159.1|\t78.50\t200\t9e-38\t  167\t447909\tGeobacillus virus E2\tGeobacillus virus E2\tviruses\tViruses\tGeobacillus virus E2, complete genome\r\n",
        "c329058_g1_i1\tgi|260066562|gb|FJ706172.1|\t83.89\t298\t4e-84\t  320\t504553\tPropionibacterium phage PAS50\tPropionibacterium phage PAS50\tviruses\tViruses\tPropionibacterium phage PAS50, complete genome\r\n",
        "c330211_g1_i1\tgi|375281968|gb|JN700521.1|\t96.50\t286\t1e-129\t  471\t1147043\tStaphylococcus phage StB20\tStaphylococcus phage StB20\tviruses\tViruses\tStaphylococcus phage StB20, complete genome\r\n",
        "c330833_g1_i1\tgi|294478921|gb|GU568037.1|\t97.59\t83\t3e-30\t  141\t749413\tDeep-sea thermophilic phage D6E\tDeep-sea thermophilic phage D6E\tviruses\tViruses\tDeep-sea thermophilic phage D6E, complete genome\r\n",
        "c331249_g1_i1\tgi|390353591|ref|XM_783136.3|\t72.48\t367\t6e-46\t  194\t7668\tStrongylocentrotus purpuratus\tpurple sea urchin\tsea urchins\tEukaryota\tPREDICTED: Strongylocentrotus purpuratus xenotropic and polytropic retrovirus receptor 1 homolog (LOC583216), mRNA\r\n",
        "c331425_g1_i1\tgi|113715669|gb|DQ453159.1|\t82.89\t263\t2e-69\t  271\t447909\tGeobacillus virus E2\tGeobacillus virus E2\tviruses\tViruses\tGeobacillus virus E2, complete genome\r\n",
        "c331947_g1_i1\tgi|294478921|gb|GU568037.1|\t79.33\t179\t2e-33\t  152\t749413\tDeep-sea thermophilic phage D6E\tDeep-sea thermophilic phage D6E\tviruses\tViruses\tDeep-sea thermophilic phage D6E, complete genome\r\n",
        "c332127_g1_i1\tgi|294478921|gb|GU568037.1|\t92.49\t213\t4e-82\t  313\t749413\tDeep-sea thermophilic phage D6E\tDeep-sea thermophilic phage D6E\tviruses\tViruses\tDeep-sea thermophilic phage D6E, complete genome\r\n",
        "c333085_g1_i1\tgi|342239923|gb|JN256079.1|\t77.29\t753\t5e-161\t  578\t1056830\tMycobacterium phage Charlie\tMycobacterium phage Charlie\tviruses\tViruses\tMycobacterium phage Charlie, complete genome\r\n",
        "c333200_g1_i2\tgi|73697518|gb|DQ112126.1|\t97.45\t196\t2e-87\t  331\t9598\tPan troglodytes\tchimpanzee\tprimates\tEukaryota\tPan troglodytes endogenous virus Chimpanzee endogenous retrovirus K CERV-KOLD35587, complete sequence\r\n",
        "c333502_g1_i2\tgi|12831080|gb|AF323672.1|\t99.02\t307\t3e-150\t  540\t151534\tLactococcus phage bIL311\tLactococcus phage bIL311\tviruses\tViruses\tBacteriophage bIL311, complete genome\r\n",
        "c335392_g1_i1\tgi|375281968|gb|JN700521.1|\t95.35\t86\t2e-29\t  138\t1147043\tStaphylococcus phage StB20\tStaphylococcus phage StB20\tviruses\tViruses\tStaphylococcus phage StB20, complete genome\r\n",
        "c335969_g1_i4\tgi|113715669|gb|DQ453159.1|\t85.32\t470\t6e-148\t  533\t447909\tGeobacillus virus E2\tGeobacillus virus E2\tviruses\tViruses\tGeobacillus virus E2, complete genome\r\n",
        "c336566_g1_i1\tgi|407301992|gb|JX262217.1|\t72.21\t878\t2e-121\t  446\t1229786\tPropionibacterium phage P101A\tPropionibacterium phage P101A\tviruses\tViruses\tPropionibacterium phage P101A, complete genome\r\n",
        "c336751_g1_i3\tgi|533122128|ref|XM_005376350.1|\t70.04\t277\t2e-23\t  120\t34839\tChinchilla lanigera\tlong-tailed chinchilla\trodents\tEukaryota\tPREDICTED: Chinchilla lanigera BCL2/adenovirus E1B 19kDa interacting protein 1 (Bnip1), transcript variant X2, mRNA\r\n",
        "c336846_g1_i1\tgi|113715669|gb|DQ453159.1|\t98.79\t247\t8e-118\t  432\t447909\tGeobacillus virus E2\tGeobacillus virus E2\tviruses\tViruses\tGeobacillus virus E2, complete genome\r\n",
        "c337779_g1_i1\tgi|379979844|gb|JN700520.2|\t73.15\t216\t3e-23\t  118\t1147042\tStaphylococcus phage StB12\tStaphylococcus phage StB12\tviruses\tViruses\tStaphylococcus phage StB12, complete genome\r\n",
        "c337960_g1_i1\tgi|357197677|gb|JN675068.1|\t98.99\t296\t2e-144\t  520\t9606\tHomo sapiens\thuman\tprimates\tEukaryota\tHomo sapiens isolate HML-2_12q14.1 endogenous virus HERV-K, complete sequence\r\n",
        "c338683_g1_i2\tgi|294478921|gb|GU568037.1|\t86.56\t186\t2e-53\t  219\t749413\tDeep-sea thermophilic phage D6E\tDeep-sea thermophilic phage D6E\tviruses\tViruses\tDeep-sea thermophilic phage D6E, complete genome\r\n",
        "c339068_g1_i1\tgi|113715669|gb|DQ453159.1|\t86.18\t152\t1e-39\t  172\t447909\tGeobacillus virus E2\tGeobacillus virus E2\tviruses\tViruses\tGeobacillus virus E2, complete genome\r\n",
        "c339068_g2_i1\tgi|523496554|dbj|AB823818.1|\t76.51\t149\t3e-21\t  111\t1352230\tThermus phage phi OH2\tThermus phage phi OH2\tviruses\tViruses\tPhage phi OH2 DNA, complete genome\r\n",
        "c339606_g2_i1\tgi|73697539|gb|DQ112147.1|\t99.23\t647\t0.0\t 1144\t9606\tHomo sapiens\thuman\tprimates\tEukaryota\tHomo sapiens endogenous virus Human endogenous retrovirus K HERV-K50B, complete sequence\r\n",
        "c339606_g3_i1\tgi|87196989|gb|DQ360576.1|\t99.71\t345\t1e-173\t  618\t45617\tHuman endogenous retrovirus K\tHuman endogenous retrovirus K\tviruses\tViruses\tHuman endogenous retrovirus K clone 5b9 envelope glycoprotein (env) gene, partial cds\r\n",
        "c340708_g2_i1\tgi|407301992|gb|JX262217.1|\t97.92\t288\t3e-136\t  493\t1229786\tPropionibacterium phage P101A\tPropionibacterium phage P101A\tviruses\tViruses\tPropionibacterium phage P101A, complete genome\r\n",
        "c341050_g1_i3\tgi|5764573|gb|AF172471.1|\t94.42\t197\t9e-79\t  302\t9593\tGorilla gorilla\twestern gorilla\tprimates\tEukaryota\tGorilla gorilla endogenous virus HERV-K-like retrovirus LTR, sequence\r\n",
        "c341111_g1_i1\tgi|357197650|gb|JN675041.1|\t95.06\t445\t0.0\t  700\t9606\tHomo sapiens\thuman\tprimates\tEukaryota\tHomo sapiens isolate HML-2_6q14.1 endogenous virus HERV-K, complete sequence\r\n",
        "c341187_g1_i1\tgi|357197642|gb|JN675033.1|\t98.20\t222\t3e-103\t  383\t9606\tHomo sapiens\thuman\tprimates\tEukaryota\tHomo sapiens isolate HML-2_4q35.2 endogenous virus HERV-K, complete sequence\r\n",
        "c342206_g1_i1\tgi|357197623|gb|JN675014.1|\t99.27\t410\t0.0\t  722\t9606\tHomo sapiens\thuman\tprimates\tEukaryota\tHomo sapiens isolate HML-2_1q22 endogenous virus HERV-K, complete sequence\r\n",
        "c342380_g1_i3\tgi|294478921|gb|GU568037.1|\t94.85\t97\t9e-34\t  152\t749413\tDeep-sea thermophilic phage D6E\tDeep-sea thermophilic phage D6E\tviruses\tViruses\tDeep-sea thermophilic phage D6E, complete genome\r\n",
        "c343731_g1_i2\tgi|113715669|gb|DQ453159.1|\t86.58\t231\t3e-71\t  277\t447909\tGeobacillus virus E2\tGeobacillus virus E2\tviruses\tViruses\tGeobacillus virus E2, complete genome\r\n",
        "c343919_g1_i2\tgi|113715669|gb|DQ453159.1|\t81.77\t373\t4e-98\t  367\t447909\tGeobacillus virus E2\tGeobacillus virus E2\tviruses\tViruses\tGeobacillus virus E2, complete genome\r\n",
        "c343919_g2_i2\tgi|294478921|gb|GU568037.1|\t73.92\t464\t4e-75\t  291\t749413\tDeep-sea thermophilic phage D6E\tDeep-sea thermophilic phage D6E\tviruses\tViruses\tDeep-sea thermophilic phage D6E, complete genome\r\n"
       ]
      },
      {
       "output_type": "stream",
       "stream": "stdout",
       "text": [
        "c349356_g3_i3\tgi|148278805|gb|EF580878.1|\t84.36\t211\t2e-55\t  224\t9606\tHomo sapiens\thuman\tprimates\tEukaryota\tHomo sapiens IntegrationSite702 Human T-lymphotropic virus 1 integration site\r\n",
        "c349413_g1_i3\tgi|357197692|gb|JN675083.1|\t94.87\t273\t3e-117\t  430\t9606\tHomo sapiens\thuman\tprimates\tEukaryota\tHomo sapiens isolate HML-2_19q13.41 endogenous virus HERV-K, complete sequence\r\n",
        "c350951_g1_i5\tgi|82522791|gb|DQ192837.1|\t97.17\t212\t5e-95\t  356\t9606\tHomo sapiens\thuman\tprimates\tEukaryota\tHomo sapiens 403_1 foamy virus integration site genomic sequence\r\n",
        "c351626_g1_i1\tgi|390353395|ref|XM_786195.3|\t68.45\t1141\t2e-107\t  401\t7668\tStrongylocentrotus purpuratus\tpurple sea urchin\tsea urchins\tEukaryota\tPREDICTED: Strongylocentrotus purpuratus feline leukemia virus subgroup C receptor-related protein 2-like (LOC586411), mRNA\r\n",
        "c351626_g1_i2\tgi|543350788|ref|XM_005520402.1|\t72.17\t327\t3e-36\t  165\t181119\tPseudopodoces humilis\tTibetan ground-tit\tbirds\tEukaryota\tPREDICTED: Pseudopodoces humilis feline leukemia virus subgroup C cellular receptor family, member 2 (FLVCR2), mRNA\r\n",
        "c353622_g1_i3\tgi|526120503|gb|KC961304.1|\t69.23\t312\t1e-23\t  123\t1367205\tChoristoneura rosaceana alphabaculovirus\tChoristoneura rosaceana alphabaculovirus\tviruses\tViruses\tChoristoneura rosaceana alphabaculovirus, complete genome\r\n",
        "c354442_g5_i1\tgi|390356247|ref|XM_786933.3|\t67.97\t434\t6e-32\t  149\t7668\tStrongylocentrotus purpuratus\tpurple sea urchin\tsea urchins\tEukaryota\tPREDICTED: Strongylocentrotus purpuratus BCL2/adenovirus E1B 19 kDa protein-interacting protein 3-like (LOC587188), mRNA\r\n",
        "c354456_g1_i2\tgi|182206|gb|M85205.1|HUMERV\t91.76\t267\t4e-103\t  383\t9606\tHomo sapiens\thuman\tprimates\tEukaryota\tHuman endogenous retrovirus pHE.1 mRNA sequence\r\n",
        "c355035_g2_i1\tgi|439709|dbj|D14469.1|CHVK1F1\t81.10\t127\t2e-22\t  118\t10507\tChlorella virus\tChlorella virus\tviruses\tViruses\tChlorella virus CVK1F1 gene, repeat region\r\n",
        "c356299_g2_i1\tgi|523707000|gb|KF254345.1|\t99.63\t273\t2e-134\t  488\t9606\tHomo sapiens\thuman\tprimates\tEukaryota\tHomo sapiens endogenous virus HERV-K clone GGL2-03 mRNA sequence\r\n"
       ]
      },
      {
       "output_type": "stream",
       "stream": "stdout",
       "text": [
        "c356370_g3_i4\tgi|148278809|gb|EF580882.1|\t82.26\t389\t5e-104\t  387\t9606\tHomo sapiens\thuman\tprimates\tEukaryota\tHomo sapiens IntegrationSite706 Human T-lymphotropic virus 1 integration site\r\n",
        "c356405_g1_i1\tgi|39546497|gb|AY394587.1|\t80.18\t227\t1e-45\t  192\t9785\tLoxodonta africana\tAfrican savanna elephant\tplacentals\tEukaryota\tLoxodonta africana endogenous virus ERV-L clone LOX8 nonfunctional reverse transcriptase, partial sequence\r\n",
        "c356530_g1_i1\tgi|407302226|gb|JX262222.1|\t94.52\t16785\t0.0\t26079\t1229791\tPropionibacterium phage P100_1\tPropionibacterium phage P100_1\tviruses\tViruses\tPropionibacterium phage P100_1, complete genome\r\n",
        "c356530_g1_i5\tgi|407302226|gb|JX262222.1|\t94.62\t16610\t0.0\t25886\t1229791\tPropionibacterium phage P100_1\tPropionibacterium phage P100_1\tviruses\tViruses\tPropionibacterium phage P100_1, complete genome\r\n",
        "c356530_g1_i6\tgi|260066562|gb|FJ706172.1|\t93.49\t522\t0.0\t  789\t504553\tPropionibacterium phage PAS50\tPropionibacterium phage PAS50\tviruses\tViruses\tPropionibacterium phage PAS50, complete genome\r\n",
        "c356541_g1_i2\tgi|407302086|gb|JX262219.1|\t93.73\t7006\t0.0\t10632\t1229788\tPropionibacterium phage P105\tPropionibacterium phage P105\tviruses\tViruses\tPropionibacterium phage P105, complete genome\r\n",
        "c356541_g4_i1\tgi|407301898|gb|JX262215.1|\t91.70\t1783\t0.0\t 2544\t1229782\tPropionibacterium phage P9.1\tPropionibacterium phage P9.1\tviruses\tViruses\tPropionibacterium phage P9.1, complete genome\r\n",
        "c360790_g1_i1\tgi|402761649|gb|JX274647.1|\t80.46\t174\t2e-35\t  158\t1211286\tStaphylococcus phage SP6\tStaphylococcus phage SP6\tviruses\tViruses\tStaphylococcus phage SP6, complete genome\r\n",
        "c361160_g1_i1\tgi|379979844|gb|JN700520.2|\t78.60\t215\t2e-42\t  181\t1147042\tStaphylococcus phage StB12\tStaphylococcus phage StB12\tviruses\tViruses\tStaphylococcus phage StB12, complete genome\r\n",
        "c362310_g1_i1\tgi|375281968|gb|JN700521.1|\t92.05\t264\t1e-102\t  381\t1147043\tStaphylococcus phage StB20\tStaphylococcus phage StB20\tviruses\tViruses\tStaphylococcus phage StB20, complete genome\r\n",
        "c362793_g1_i1\tgi|2801468|gb|AF033811.1|AF033811\t100.00\t314\t3e-158\t  567\t11801\tMoloney murine leukemia virus\tMoloney murine leukemia virus\tviruses\tViruses\tMoloney murine leukemia virus, complete genome\r\n",
        "c365378_g1_i1\tgi|343488517|ref|NG_029732.1|\t100.00\t270\t1e-134\t  488\t9606\tHomo sapiens\thuman\tprimates\tEukaryota\tHomo sapiens v-ets avian erythroblastosis virus E26 oncogene homolog (ERG), RefSeqGene on chromosome 21\r\n",
        "c367384_g1_i1\tgi|113715669|gb|DQ453159.1|\t92.69\t219\t2e-85\t  324\t447909\tGeobacillus virus E2\tGeobacillus virus E2\tviruses\tViruses\tGeobacillus virus E2, complete genome\r\n",
        "c367513_g1_i1\tgi|392494233|gb|JN192401.1|\t88.14\t253\t5e-83\t  316\t1197953\tStaphylococcus phage vB_SepiS-phiIPLA7\tStaphylococcus phage vB_SepiS-phiIPLA7\tviruses\tViruses\tStaphylococcus phage vB_SepiS-phiIPLA7, complete genome\r\n",
        "c367639_g1_i1\tgi|294478921|gb|GU568037.1|\t76.90\t303\t2e-57\t  232\t749413\tDeep-sea thermophilic phage D6E\tDeep-sea thermophilic phage D6E\tviruses\tViruses\tDeep-sea thermophilic phage D6E, complete genome\r\n",
        "c368199_g1_i1\tgi|375281968|gb|JN700521.1|\t92.17\t115\t1e-37\t  165\t1147043\tStaphylococcus phage StB20\tStaphylococcus phage StB20\tviruses\tViruses\tStaphylococcus phage StB20, complete genome\r\n"
       ]
      },
      {
       "output_type": "stream",
       "stream": "stdout",
       "text": [
        "c369387_g1_i1\tgi|392494233|gb|JN192401.1|\t100.00\t216\t2e-105\t  390\t1197953\tStaphylococcus phage vB_SepiS-phiIPLA7\tStaphylococcus phage vB_SepiS-phiIPLA7\tviruses\tViruses\tStaphylococcus phage vB_SepiS-phiIPLA7, complete genome\r\n",
        "c369407_g1_i1\tgi|82522749|gb|DQ192795.1|\t100.00\t291\t5e-146\t  526\t9606\tHomo sapiens\thuman\tprimates\tEukaryota\tHomo sapiens 395_17 foamy virus integration site genomic sequence\r\n",
        "c370122_g1_i1\tgi|375281968|gb|JN700521.1|\t98.12\t426\t0.0\t  733\t1147043\tStaphylococcus phage StB20\tStaphylococcus phage StB20\tviruses\tViruses\tStaphylococcus phage StB20, complete genome\r\n",
        "c370337_g1_i1\tgi|340343118|ref|NG_029458.1|\t100.00\t211\t1e-102\t  381\t9606\tHomo sapiens\thuman\tprimates\tEukaryota\tHomo sapiens coxsackie virus and adenovirus receptor (CXADR), RefSeqGene on chromosome 21\r\n",
        "c371542_g1_i1\tgi|124295486|gb|DQ340064.2|\t91.53\t295\t6e-114\t  419\t365048\tGeobacillus phage GBSV1\tGeobacillus phage GBSV1\tviruses\tViruses\tGeobacillus phage GBSV1, complete genome\r\n",
        "c372160_g1_i1\tgi|430768498|dbj|AB618031.1|\t100.00\t209\t1e-101\t  378\t946522\tHerpes simplex virus (type 1 /strain RH2)\tHerpes simplex virus (type 1 /strain RH2)\tviruses\tViruses\tHerpes simplex virus (type 1 /strain RH2) DNA, nearly complete genome\r\n",
        "c372969_g1_i1\tgi|375281968|gb|JN700521.1|\t95.54\t202\t2e-85\t  324\t1147043\tStaphylococcus phage StB20\tStaphylococcus phage StB20\tviruses\tViruses\tStaphylococcus phage StB20, complete genome\r\n",
        "c375796_g1_i1\tgi|116235513|gb|DQ908929.1|\t79.67\t182\t3e-34\t  154\t405947\tStaphylococcus phage 80\tStaphylococcus phage 80\tviruses\tViruses\tStaphylococcus phage 80, complete genome\r\n",
        "c376029_g1_i1\tgi|343488517|ref|NG_029732.1|\t99.55\t223\t1e-107\t  398\t9606\tHomo sapiens\thuman\tprimates\tEukaryota\tHomo sapiens v-ets avian erythroblastosis virus E26 oncogene homolog (ERG), RefSeqGene on chromosome 21\r\n",
        "c378159_g1_i1\tgi|375281968|gb|JN700521.1|\t96.03\t277\t3e-123\t  450\t1147043\tStaphylococcus phage StB20\tStaphylococcus phage StB20\tviruses\tViruses\tStaphylococcus phage StB20, complete genome\r\n",
        "c379336_g1_i1\tgi|392494166|gb|JN192400.1|\t96.88\t256\t3e-116\t  426\t1197952\tStaphylococcus phage vB_SepiS-phiIPLA5\tStaphylococcus phage vB_SepiS-phiIPLA5\tviruses\tViruses\tStaphylococcus phage vB_SepiS-phiIPLA5, complete genome\r\n",
        "c379480_g1_i1\tgi|261278322|ref|NG_013083.1|\t100.00\t247\t3e-122\t  446\t9606\tHomo sapiens\thuman\tprimates\tEukaryota\tHomo sapiens poliovirus receptor-related 1 (herpesvirus entry mediator C) (PVRL1), RefSeqGene on chromosome 11\r\n",
        "c380097_g1_i1\tgi|379979844|gb|JN700520.2|\t91.30\t115\t6e-36\t  159\t1147042\tStaphylococcus phage StB12\tStaphylococcus phage StB12\tviruses\tViruses\tStaphylococcus phage StB12, complete genome\r\n",
        "c381323_g1_i1\tgi|294478921|gb|GU568037.1|\t91.67\t228\t9e-85\t  322\t749413\tDeep-sea thermophilic phage D6E\tDeep-sea thermophilic phage D6E\tviruses\tViruses\tDeep-sea thermophilic phage D6E, complete genome\r\n",
        "c381723_g1_i1\tgi|321157037|emb|FR671407.1|\t96.83\t221\t2e-98\t  367\t870471\tStreptococcus phage 34117\tStreptococcus phage 34117\tviruses\tViruses\tStreptococcus phage 34117\r\n",
        "c382172_g1_i1\tgi|347658928|ref|NG_030026.1|\t100.00\t213\t8e-104\t  385\t9606\tHomo sapiens\thuman\tprimates\tEukaryota\tHomo sapiens human immunodeficiency virus type I enhancer binding protein 3 (HIVEP3), RefSeqGene on chromosome 1\r\n",
        "c383223_g1_i1\tgi|113715669|gb|DQ453159.1|\t81.68\t202\t2e-47\t  197\t447909\tGeobacillus virus E2\tGeobacillus virus E2\tviruses\tViruses\tGeobacillus virus E2, complete genome\r\n",
        "c383788_g1_i1\tgi|294478921|gb|GU568037.1|\t95.95\t148\t3e-60\t  241\t749413\tDeep-sea thermophilic phage D6E\tDeep-sea thermophilic phage D6E\tviruses\tViruses\tDeep-sea thermophilic phage D6E, complete genome\r\n",
        "c386747_g1_i1\tgi|17646227|gb|AF411058.1|\t100.00\t269\t4e-134\t  486\t9606\tHomo sapiens\thuman\tprimates\tEukaryota\tHomo sapiens clone BAC_22700 cytotoxic T-lymphocyte-associated protein 4 (CTLA4) and inducible T-cell co-stimulator (ICOS) genes, complete cds; and endogenous virus HERV-H, partial sequence\r\n",
        "c386864_g1_i1\tgi|302486955|ref|NG_024228.1|\t93.61\t219\t6e-87\t  329\t9606\tHomo sapiens\thuman\tprimates\tEukaryota\tHomo sapiens BCL2/adenovirus E1B 19kDa interacting protein 3 pseudogene (LOC100421703) on chromosome 19\r\n",
        "c387552_g1_i1\tgi|260593638|ref|NG_013006.1|\t99.52\t208\t2e-99\t  370\t9606\tHomo sapiens\thuman\tprimates\tEukaryota\tHomo sapiens complement component (3d/Epstein Barr virus) receptor 2 (CR2), RefSeqGene on chromosome 1\r\n",
        "c388401_g1_i1\tgi|8918415|dbj|AP001553.1|\t76.00\t200\t1e-31\t  145\t106284\tStaphylococcus phage phiETA\tStaphylococcus phage phiETA\tviruses\tViruses\tStaphylococcus phage phiETA DNA, complete genome\r\n",
        "c388944_g1_i1\tgi|392494166|gb|JN192400.1|\t96.82\t283\t5e-129\t  470\t1197952\tStaphylococcus phage vB_SepiS-phiIPLA5\tStaphylococcus phage vB_SepiS-phiIPLA5\tviruses\tViruses\tStaphylococcus phage vB_SepiS-phiIPLA5, complete genome\r\n",
        "c391559_g1_i1\tgi|219522368|gb|FJ025921.1|\t100.00\t218\t2e-106\t  394\t585091\tSimian adenovirus 37.1\tSimian adenovirus 37.1\tviruses\tViruses\tSimian adenovirus 37.1, complete genome\r\n"
       ]
      }
     ],
     "prompt_number": 61
    },
    {
     "cell_type": "code",
     "collapsed": false,
     "input": [
      "\n",
      "blastx \\\n",
      "-query /Volumes/web/cnidarian/SeaStar/trinity_assemblies/run1/Trinity.fasta \\\n",
      "-db /Volumes/Data/blast_db/refseq_protein \\\n",
      "-out /Volumes/web/cnidarian/seastar_trin_reseq_protein_2.tab \\\n",
      "-outfmt \"6 qseqid sseqid pident length evalue bitscore staxids sscinames scomnames sblastnames sskingdoms stitle\" \\\n",
      "-num_threads 4 \\\n",
      "-max_hsps 1 \\\n",
      "-max_target_seqs 1 \\\n",
      "-evalue 1E-20"
     ],
     "language": "python",
     "metadata": {},
     "outputs": []
    },
    {
     "cell_type": "code",
     "collapsed": false,
     "input": [
      "\n",
      "blastx \\\n",
      "-query /Volumes/web/cnidarian/SeaStar/trinity_assemblies/run1/Trinity.fasta \\\n",
      "-db /Volumes/Data/blast_db/nr \\\n",
      "-out /Volumes/web/cnidarian/seastar_trin_nr_2.tab \\\n",
      "-outfmt \"6 qseqid sseqid pident length evalue bitscore staxids sscinames scomnames sblastnames sskingdoms stitle\" \\\n",
      "-num_threads 2 \\\n",
      "-max_hsps 1 \\\n",
      "-max_target_seqs 1 \\\n",
      "-evalue 1E-20"
     ],
     "language": "python",
     "metadata": {},
     "outputs": []
    },
    {
     "cell_type": "code",
     "collapsed": false,
     "input": [
      "blastn \\\n",
      "-query /Volumes/web/cnidarian/SeaStar/trinity_assemblies/run1/Trinity.fasta \\\n",
      "-db /Volumes/Data/blast_db/est_others \\\n",
      "-out /Volumes/web/cnidarian/seastar_trin_est_others_2.tab \\\n",
      "-outfmt \"6 qseqid sseqid pident length evalue bitscore staxids sscinames scomnames sblastnames sskingdoms stitle\" \\\n",
      "-num_threads 2 \\\n",
      "-max_hsps 1 \\\n",
      "-max_target_seqs 1 \\\n",
      "-evalue 1E-20"
     ],
     "language": "python",
     "metadata": {},
     "outputs": []
    },
    {
     "cell_type": "code",
     "collapsed": false,
     "input": [
      "\n",
      "#fail\n",
      "\n",
      "blastx \\\n",
      "-query /Volumes/web/cnidarian/SeaStar/trinity_assemblies/run1/Trinity.fasta \\\n",
      "-db /Volumes/Data/blast_db/swissprot \\\n",
      "-out /Volumes/web/cnidarian/seastar_trin_swissprot_2.tab \\\n",
      "-outfmt \"6 qseqid sseqid pident length evalue bitscore staxids sscinames scomnames sblastnames sskingdoms stitle\" \\\n",
      "-num_threads 8 \\\n",
      "-max_hsps 1 \\\n",
      "-max_target_seqs 1 \\\n",
      "-evalue 1E-20"
     ],
     "language": "python",
     "metadata": {},
     "outputs": []
    },
    {
     "cell_type": "code",
     "collapsed": false,
     "input": [
      "#fail Segmentation fault: 11\n",
      "\n",
      "blastx \\\n",
      "-query /Volumes/web/cnidarian/SeaStar/trinity_assemblies/run1/Trinity.fasta \\\n",
      "-db /Volumes/Data/blast_db/uniprot_sprot \\\n",
      "-out /Volumes/web/cnidarian/seastar_trin_uniprot_sprot_2.tab \\\n",
      "-outfmt \"6 qseqid sseqid pident length evalue bitscore staxids sscinames scomnames sblastnames sskingdoms stitle\" \\\n",
      "-num_threads 8 \\\n",
      "-max_hsps 1 \\\n",
      "-max_target_seqs 1 \\\n",
      "-evalue 1E-20"
     ],
     "language": "python",
     "metadata": {},
     "outputs": []
    },
    {
     "cell_type": "heading",
     "level": 2,
     "metadata": {},
     "source": [
      "CLC Assembly"
     ]
    },
    {
     "cell_type": "code",
     "collapsed": false,
     "input": [
      "!head /Volumes/web/cnidarian/SeaStar_transc_v2.fa"
     ],
     "language": "python",
     "metadata": {},
     "outputs": [
      {
       "output_type": "stream",
       "stream": "stdout",
       "text": [
        ">3291_5903_10007_H94MGADXX_V_CF71_ATCACG_R1_(paired)_trimmed_(paired)_contig_1\r\n",
        "CAAATATATGAACGGTTGATTGTCAACGATTAGTACATGTTTTCATTGTTCCCCACGCCC\r\n",
        "GCCCCCCCCCACTCAAACATTTAAAGTGTGAAATATTATTTATCCACAAATTTCCTTAAA\r\n",
        "CCTGCAAACTTGTCTGCTGTCTCTTATTGGAAGTTATGAAAAAGAACAACGGGTTTTCTT\r\n",
        "TAAAGGGTCTGCGTGCGATTTTCAACCTTTTGAGTAATAGCAGTTATTTTGATAACCGAT\r\n",
        "TTTTTTCAAAGCTCAACAGCTTTTTAAAATAAGGAATCCTATAATGGCCAAACGAATACT\r\n",
        "ATAAAAATAAGGGTTCTCTTAATTGTATAAAACGTATAATTTTATCAATTTTGGGACCGT\r\n",
        "GTAATTTTTTAAAGACCACAAGAATGTTACATACAACAAATAGACGAAACTCGTAGCTTT\r\n",
        "GGAAACTACGTCATGGGCGTTTGGTCAAAAGCTGGAGAGAAAGAGAGGTGGGGTGCCAGA\r\n",
        "CTTAAGTAGTCACGTGATCTGACCAACGCACATCGGAAGCTCGATCGGATGAAATCTTCT\r\n"
       ]
      }
     ],
     "prompt_number": 47
    },
    {
     "cell_type": "code",
     "collapsed": false,
     "input": [
      "!sed 's/3291_5903_10007_H94MGADXX_V_CF71_ATCACG_R1_(paired)_trimmed_(paired)/Phel_clc/g' </Volumes/web/cnidarian/SeaStar_transc_v2.fa> /Users/sr320/Dropbox/Steven/eimd/data/Phel_transcriptome_clc.fa"
     ],
     "language": "python",
     "metadata": {},
     "outputs": [],
     "prompt_number": 48
    },
    {
     "cell_type": "code",
     "collapsed": false,
     "input": [
      "!head /Users/sr320/Dropbox/Steven/eimd/data/Phel_transcriptome_clc.fa"
     ],
     "language": "python",
     "metadata": {},
     "outputs": [
      {
       "output_type": "stream",
       "stream": "stdout",
       "text": [
        ">Phel_clc_contig_1\r\n",
        "CAAATATATGAACGGTTGATTGTCAACGATTAGTACATGTTTTCATTGTTCCCCACGCCC\r\n",
        "GCCCCCCCCCACTCAAACATTTAAAGTGTGAAATATTATTTATCCACAAATTTCCTTAAA\r\n",
        "CCTGCAAACTTGTCTGCTGTCTCTTATTGGAAGTTATGAAAAAGAACAACGGGTTTTCTT\r\n",
        "TAAAGGGTCTGCGTGCGATTTTCAACCTTTTGAGTAATAGCAGTTATTTTGATAACCGAT\r\n",
        "TTTTTTCAAAGCTCAACAGCTTTTTAAAATAAGGAATCCTATAATGGCCAAACGAATACT\r\n",
        "ATAAAAATAAGGGTTCTCTTAATTGTATAAAACGTATAATTTTATCAATTTTGGGACCGT\r\n",
        "GTAATTTTTTAAAGACCACAAGAATGTTACATACAACAAATAGACGAAACTCGTAGCTTT\r\n",
        "GGAAACTACGTCATGGGCGTTTGGTCAAAAGCTGGAGAGAAAGAGAGGTGGGGTGCCAGA\r\n",
        "CTTAAGTAGTCACGTGATCTGACCAACGCACATCGGAAGCTCGATCGGATGAAATCTTCT\r\n"
       ]
      }
     ],
     "prompt_number": 49
    },
    {
     "cell_type": "code",
     "collapsed": false,
     "input": [
      "cp /Users/sr320/Dropbox/Steven/eimd/data/Phel_transcriptome_clc.fa /Volumes/web/whale/eimd_14/"
     ],
     "language": "python",
     "metadata": {},
     "outputs": [],
     "prompt_number": 50
    },
    {
     "cell_type": "code",
     "collapsed": false,
     "input": [
      "#for genefish - COMPLETED\n",
      "blastx \\\n",
      "-query /Volumes/web/cnidarian/SeaStar_transc_v2.fa \\\n",
      "-db /Users/Shared/data/blast/db/uniprot_sprot \\\n",
      "-out /Volumes/web/cnidarian/seastar_clc_uniprot_sprot_1.tab \\\n",
      "-outfmt 6 \\\n",
      "-num_threads 8 \\\n",
      "-max_hsps 1 \\\n",
      "-max_target_seqs 1 \\\n",
      "-evalue 1E-20"
     ],
     "language": "python",
     "metadata": {},
     "outputs": []
    },
    {
     "cell_type": "code",
     "collapsed": false,
     "input": [
      "!wc -l /Volumes/web/cnidarian/seastar_clc_uniprot_sprot_1.tab"
     ],
     "language": "python",
     "metadata": {},
     "outputs": [
      {
       "output_type": "stream",
       "stream": "stdout",
       "text": [
        "    8913 /Volumes/web/cnidarian/seastar_clc_uniprot_sprot_1.tab\r\n"
       ]
      }
     ],
     "prompt_number": 3
    },
    {
     "cell_type": "code",
     "collapsed": false,
     "input": [
      "!head -2 /Volumes/web/cnidarian/seastar_clc_uniprot_sprot_1.tab"
     ],
     "language": "python",
     "metadata": {},
     "outputs": [
      {
       "output_type": "stream",
       "stream": "stdout",
       "text": [
        "3291_5903_10007_H94MGADXX_V_CF71_ATCACG_R1_(paired)_trimmed_(paired)_contig_4\tsp|P25001|COX1_PISOC\t88.39\t517\t48\t1\t7061\t5547\t1\t517\t0.0\t  749\r\n",
        "3291_5903_10007_H94MGADXX_V_CF71_ATCACG_R1_(paired)_trimmed_(paired)_contig_7\tsp|Q33818|CYB_ASTPE\t79.94\t329\t66\t0\t993\t7\t51\t379\t9e-168\t  479\r\n"
       ]
      }
     ],
     "prompt_number": 4
    },
    {
     "cell_type": "code",
     "collapsed": false,
     "input": [],
     "language": "python",
     "metadata": {},
     "outputs": []
    },
    {
     "cell_type": "code",
     "collapsed": false,
     "input": [
      "#running hummingbird -- complete \n",
      "blastn \\\n",
      "-query /Volumes/web/cnidarian/SeaStar_transc_v2.fa \\\n",
      "-db /Volumes/Data/blast_db/nt \\\n",
      "-out /Volumes/web/cnidarian/seastar_clc_nt_1.tab \\\n",
      "-outfmt \"6 qseqid sseqid pident length evalue bitscore staxids sscinames scomnames sblastnames sskingdoms stitle\" \\\n",
      "-num_threads 14 \\\n",
      "-max_hsps 1 \\\n",
      "-evalue 1E-10 \\\n",
      "-max_target_seqs 1 \\\n",
      "-task blastn"
     ],
     "language": "python",
     "metadata": {},
     "outputs": []
    },
    {
     "cell_type": "code",
     "collapsed": false,
     "input": [
      "!head /Volumes/web/cnidarian/seastar_clc_nt_1.tab"
     ],
     "language": "python",
     "metadata": {},
     "outputs": [
      {
       "output_type": "stream",
       "stream": "stdout",
       "text": [
        "3291_5903_10007_H94MGADXX_V_CF71_ATCACG_R1_(paired)_trimmed_(paired)_contig_2\tgi|378345425|gb|JN676976.1|\t81.71\t175\t1e-33\t  154\t7602\tAsterias amurensis\tAsterias amurensis\tstarfish\tEukaryota\tAsterias amurensis microsatellite Aamr32 sequence\r\n",
        "3291_5903_10007_H94MGADXX_V_CF71_ATCACG_R1_(paired)_trimmed_(paired)_contig_4\tgi|28881689|emb|X55514.2|\t80.20\t4707\t0.0\t 4239\t7612\tPisaster ochraceus\tochreous starfish\tstarfish\tEukaryota\tPisaster ochraceus mitochondrial DNA for NADH dehydrogenase subunits 1, 2, 3 and 4L, cytochrome oxidase subunits I, II and III, ATPase subunits 6 and 8, and 13 tRNAs\r\n",
        "3291_5903_10007_H94MGADXX_V_CF71_ATCACG_R1_(paired)_trimmed_(paired)_contig_7\tgi|220901407|gb|EU932863.1|\t71.89\t996\t4e-142\t  515\t158451\tMacropodus opercularis\tparadise fish\tbony fishes\tEukaryota\tMacropodus opercularis isolate GZ cytochrome b (cytb) gene, complete cds; mitochondrial\r\n",
        "3291_5903_10007_H94MGADXX_V_CF71_ATCACG_R1_(paired)_trimmed_(paired)_contig_8\tgi|91084298|ref|XM_966712.1|\t78.09\t356\t4e-74\t  291\t7070\tTribolium castaneum\tred flour beetle\tbeetles\tEukaryota\tPREDICTED: Tribolium castaneum similar to ubiquitin-conjugating enzyme E2I (LOC660484), mRNA\r\n",
        "3291_5903_10007_H94MGADXX_V_CF71_ATCACG_R1_(paired)_trimmed_(paired)_contig_11\tgi|378345409|gb|JN676960.1|\t85.32\t109\t2e-23\t  122\t7602\tAsterias amurensis\tAsterias amurensis\tstarfish\tEukaryota\tAsterias amurensis microsatellite Aamr08 sequence\r\n",
        "3291_5903_10007_H94MGADXX_V_CF71_ATCACG_R1_(paired)_trimmed_(paired)_contig_14\tgi|509391926|gb|KC699498.1|\t79.10\t177\t1e-27\t  136\t72676\tCoscinasterias tenuispina\tCoscinasterias tenuispina\tstarfish\tEukaryota\tCoscinasterias tenuispina microsatellite m.ten 6 sequence\r\n",
        "3291_5903_10007_H94MGADXX_V_CF71_ATCACG_R1_(paired)_trimmed_(paired)_contig_18\tgi|260830307|ref|XM_002610057.1|\t66.22\t598\t8e-28\t  138\t7739\tBranchiostoma floridae\tFlorida lancelet\tlancelets\tEukaryota\tBranchiostoma floridae hypothetical protein, mRNA\r\n",
        "3291_5903_10007_H94MGADXX_V_CF71_ATCACG_R1_(paired)_trimmed_(paired)_contig_19\tgi|378345430|gb|JN676981.1|\t85.56\t90\t6e-18\t  104\t7602\tAsterias amurensis\tAsterias amurensis\tstarfish\tEukaryota\tAsterias amurensis microsatellite Aamr40 sequence\r\n",
        "3291_5903_10007_H94MGADXX_V_CF71_ATCACG_R1_(paired)_trimmed_(paired)_contig_22\tgi|390332317|ref|XM_774849.3|\t71.25\t1113\t5e-157\t  565\t7668\tStrongylocentrotus purpuratus\tpurple sea urchin\tsea urchins\tEukaryota\tPREDICTED: Strongylocentrotus purpuratus CCR4-NOT transcription complex, subunit 6, transcript variant 1 (cnot6), mRNA\r\n",
        "3291_5903_10007_H94MGADXX_V_CF71_ATCACG_R1_(paired)_trimmed_(paired)_contig_24\tgi|257449356|gb|GQ452296.1|\t76.87\t921\t0.0\t  684\t90735\tParamisgurnus dabryanus\tParamisgurnus dabryanus\tbony fishes\tEukaryota\tParamisgurnus dabryanus guanine nucleotide-binding protein beta polypeptide 2-like 1 (GNB2L1) mRNA, complete cds\r\n"
       ]
      }
     ],
     "prompt_number": 2
    },
    {
     "cell_type": "code",
     "collapsed": false,
     "input": [
      "!head -2 /Volumes/web/cnidarian/seastar_clc_nt_1.tab"
     ],
     "language": "python",
     "metadata": {},
     "outputs": [
      {
       "output_type": "stream",
       "stream": "stdout",
       "text": [
        "3291_5903_10007_H94MGADXX_V_CF71_ATCACG_R1_(paired)_trimmed_(paired)_contig_2\tgi|378345425|gb|JN676976.1|\t81.71\t175\t1e-33\t  154\t7602\tAsterias amurensis\tAsterias amurensis\tstarfish\tEukaryota\tAsterias amurensis microsatellite Aamr32 sequence\r\n",
        "3291_5903_10007_H94MGADXX_V_CF71_ATCACG_R1_(paired)_trimmed_(paired)_contig_4\tgi|28881689|emb|X55514.2|\t80.20\t4707\t0.0\t 4239\t7612\tPisaster ochraceus\tochreous starfish\tstarfish\tEukaryota\tPisaster ochraceus mitochondrial DNA for NADH dehydrogenase subunits 1, 2, 3 and 4L, cytochrome oxidase subunits I, II and III, ATPase subunits 6 and 8, and 13 tRNAs\r\n"
       ]
      }
     ],
     "prompt_number": 11
    },
    {
     "cell_type": "code",
     "collapsed": false,
     "input": [
      "!sed 's/3291_5903_10007_H94MGADXX_V_CF71_ATCACG_R1_(paired)_trimmed_(paired)/Phel_clc/g' </Volumes/web/cnidarian/seastar_clc_nt_1.tab> /Volumes/web/cnidarian/seastar_clc_nt_1_c.tab"
     ],
     "language": "python",
     "metadata": {},
     "outputs": [],
     "prompt_number": 27
    },
    {
     "cell_type": "code",
     "collapsed": false,
     "input": [
      "!head -2 /Volumes/web/cnidarian/seastar_clc_nt_1_c.tab"
     ],
     "language": "python",
     "metadata": {},
     "outputs": [
      {
       "output_type": "stream",
       "stream": "stdout",
       "text": [
        "Phel_clc_contig_2\tgi|378345425|gb|JN676976.1|\t81.71\t175\t1e-33\t  154\t7602\tAsterias amurensis\tAsterias amurensis\tstarfish\tEukaryota\tAsterias amurensis microsatellite Aamr32 sequence\r\n",
        "Phel_clc_contig_4\tgi|28881689|emb|X55514.2|\t80.20\t4707\t0.0\t 4239\t7612\tPisaster ochraceus\tochreous starfish\tstarfish\tEukaryota\tPisaster ochraceus mitochondrial DNA for NADH dehydrogenase subunits 1, 2, 3 and 4L, cytochrome oxidase subunits I, II and III, ATPase subunits 6 and 8, and 13 tRNAs\r\n"
       ]
      }
     ],
     "prompt_number": 4
    },
    {
     "cell_type": "code",
     "collapsed": false,
     "input": [
      "pwd"
     ],
     "language": "python",
     "metadata": {},
     "outputs": [
      {
       "metadata": {},
       "output_type": "pyout",
       "prompt_number": 23,
       "text": [
        "u'/Users/sr320/Dropbox/Steven/eimd/data'"
       ]
      }
     ],
     "prompt_number": 23
    },
    {
     "cell_type": "code",
     "collapsed": false,
     "input": [
      "!wget http://eagle.fish.washington.edu/cnidarian/seastar_clc_nt_1_c.tab"
     ],
     "language": "python",
     "metadata": {},
     "outputs": [
      {
       "output_type": "stream",
       "stream": "stdout",
       "text": [
        "--2014-07-25 14:48:16--  http://eagle.fish.washington.edu/cnidarian/seastar_clc_nt_1_c.tab\r\n",
        "Resolving eagle.fish.washington.edu... 128.95.149.81\r\n",
        "Connecting to eagle.fish.washington.edu|128.95.149.81|:80... connected.\r\n",
        "HTTP request sent, awaiting response... "
       ]
      },
      {
       "output_type": "stream",
       "stream": "stdout",
       "text": [
        "200 OK\r\n",
        "Length: 2456177 (2.3M) [text/plain]\r\n",
        "Saving to: `seastar_clc_nt_1_c.tab'\r\n",
        "\r\n",
        "\r",
        " 0% [                                       ] 0           --.-K/s              "
       ]
      },
      {
       "output_type": "stream",
       "stream": "stdout",
       "text": [
        "\r",
        " 9% [==>                                    ] 226,187     1.06M/s              "
       ]
      },
      {
       "output_type": "stream",
       "stream": "stdout",
       "text": [
        "\r",
        "22% [=======>                               ] 548,359     1.29M/s              "
       ]
      },
      {
       "output_type": "stream",
       "stream": "stdout",
       "text": [
        "\r",
        "39% [==============>                        ] 960,847     1.50M/s              "
       ]
      },
      {
       "output_type": "stream",
       "stream": "stdout",
       "text": [
        "\r",
        "56% [====================>                  ] 1,381,423   1.61M/s              "
       ]
      },
      {
       "output_type": "stream",
       "stream": "stdout",
       "text": [
        "\r",
        "73% [===========================>           ] 1,796,607   1.68M/s              "
       ]
      },
      {
       "output_type": "stream",
       "stream": "stdout",
       "text": [
        "\r",
        "86% [================================>      ] 2,130,911   1.66M/s              "
       ]
      },
      {
       "output_type": "stream",
       "stream": "stdout",
       "text": [
        "\r",
        "98% [=====================================> ] 2,427,471   1.62M/s              \r",
        "100%[======================================>] 2,456,177   1.63M/s   in 1.4s    \r\n",
        "\r\n",
        "2014-07-25 14:48:17 (1.63 MB/s) - `seastar_clc_nt_1_c.tab' saved [2456177/2456177]\r\n",
        "\r\n"
       ]
      }
     ],
     "prompt_number": 35
    },
    {
     "cell_type": "code",
     "collapsed": false,
     "input": [
      "pwd"
     ],
     "language": "python",
     "metadata": {},
     "outputs": [
      {
       "metadata": {},
       "output_type": "pyout",
       "prompt_number": 55,
       "text": [
        "u'/Users/sr320/Dropbox/Steven/eimd/data'"
       ]
      }
     ],
     "prompt_number": 55
    },
    {
     "cell_type": "code",
     "collapsed": false,
     "input": [
      "!head /Users/sr320/Dropbox/Steven/eimd/data/Phel_clc_blastn_nt_1.tab"
     ],
     "language": "python",
     "metadata": {},
     "outputs": [
      {
       "output_type": "stream",
       "stream": "stdout",
       "text": [
        "Phel_clc_contig_2\tgi|378345425|gb|JN676976.1|\t81.71\t175\t1e-33\t  154\t7602\tAsterias amurensis\tAsterias amurensis\tstarfish\tEukaryota\tAsterias amurensis microsatellite Aamr32 sequence\r\n",
        "Phel_clc_contig_4\tgi|28881689|emb|X55514.2|\t80.20\t4707\t0.0\t 4239\t7612\tPisaster ochraceus\tochreous starfish\tstarfish\tEukaryota\tPisaster ochraceus mitochondrial DNA for NADH dehydrogenase subunits 1, 2, 3 and 4L, cytochrome oxidase subunits I, II and III, ATPase subunits 6 and 8, and 13 tRNAs\r\n",
        "Phel_clc_contig_7\tgi|220901407|gb|EU932863.1|\t71.89\t996\t4e-142\t  515\t158451\tMacropodus opercularis\tparadise fish\tbony fishes\tEukaryota\tMacropodus opercularis isolate GZ cytochrome b (cytb) gene, complete cds; mitochondrial\r\n",
        "Phel_clc_contig_8\tgi|91084298|ref|XM_966712.1|\t78.09\t356\t4e-74\t  291\t7070\tTribolium castaneum\tred flour beetle\tbeetles\tEukaryota\tPREDICTED: Tribolium castaneum similar to ubiquitin-conjugating enzyme E2I (LOC660484), mRNA\r\n",
        "Phel_clc_contig_11\tgi|378345409|gb|JN676960.1|\t85.32\t109\t2e-23\t  122\t7602\tAsterias amurensis\tAsterias amurensis\tstarfish\tEukaryota\tAsterias amurensis microsatellite Aamr08 sequence\r\n",
        "Phel_clc_contig_14\tgi|509391926|gb|KC699498.1|\t79.10\t177\t1e-27\t  136\t72676\tCoscinasterias tenuispina\tCoscinasterias tenuispina\tstarfish\tEukaryota\tCoscinasterias tenuispina microsatellite m.ten 6 sequence\r\n",
        "Phel_clc_contig_18\tgi|260830307|ref|XM_002610057.1|\t66.22\t598\t8e-28\t  138\t7739\tBranchiostoma floridae\tFlorida lancelet\tlancelets\tEukaryota\tBranchiostoma floridae hypothetical protein, mRNA\r\n",
        "Phel_clc_contig_19\tgi|378345430|gb|JN676981.1|\t85.56\t90\t6e-18\t  104\t7602\tAsterias amurensis\tAsterias amurensis\tstarfish\tEukaryota\tAsterias amurensis microsatellite Aamr40 sequence\r\n",
        "Phel_clc_contig_22\tgi|390332317|ref|XM_774849.3|\t71.25\t1113\t5e-157\t  565\t7668\tStrongylocentrotus purpuratus\tpurple sea urchin\tsea urchins\tEukaryota\tPREDICTED: Strongylocentrotus purpuratus CCR4-NOT transcription complex, subunit 6, transcript variant 1 (cnot6), mRNA\r\n",
        "Phel_clc_contig_24\tgi|257449356|gb|GQ452296.1|\t76.87\t921\t0.0\t  684\t90735\tParamisgurnus dabryanus\tParamisgurnus dabryanus\tbony fishes\tEukaryota\tParamisgurnus dabryanus guanine nucleotide-binding protein beta polypeptide 2-like 1 (GNB2L1) mRNA, complete cds\r\n"
       ]
      }
     ],
     "prompt_number": 5
    },
    {
     "cell_type": "code",
     "collapsed": false,
     "input": [
      "!tail ../data/seastar_clc_nt_1_c.tab"
     ],
     "language": "python",
     "metadata": {},
     "outputs": [
      {
       "output_type": "stream",
       "stream": "stdout",
       "text": [
        "Phel_clc_contig_30533\tgi|390339526|ref|XM_784428.3|\t68.12\t436\t4e-31\t  145\t7668\tStrongylocentrotus purpuratus\tpurple sea urchin\tsea urchins\tEukaryota\tPREDICTED: Strongylocentrotus purpuratus glutamate receptor, ionotropic kainate 2-like (LOC584569), mRNA\r\n",
        "Phel_clc_contig_30544\tgi|390364561|ref|XM_792971.3|\t71.62\t229\t1e-23\t  120\t7668\tStrongylocentrotus purpuratus\tpurple sea urchin\tsea urchins\tEukaryota\tPREDICTED: Strongylocentrotus purpuratus vacuolar protein sorting-associated protein 13D-like (LOC593499), mRNA\r\n",
        "Phel_clc_contig_30557\tgi|513193816|ref|XM_004942680.1|\t80.18\t227\t2e-49\t  206\t9031\tGallus gallus\tchicken\tbirds\tEukaryota\tPREDICTED: Gallus gallus phosphoinositide kinase, FYVE finger containing (PIKFYVE), transcript variant X13, mRNA\r\n",
        "Phel_clc_contig_30558\tgi|390359524|ref|XM_795034.3|\t69.96\t263\t7e-23\t  118\t7668\tStrongylocentrotus purpuratus\tpurple sea urchin\tsea urchins\tEukaryota\tPREDICTED: Strongylocentrotus purpuratus uncharacterized LOC581299 (LOC581299), mRNA\r\n",
        "Phel_clc_contig_30560\tgi|390358520|ref|XM_781665.3|\t73.67\t452\t4e-69\t  271\t7668\tStrongylocentrotus purpuratus\tpurple sea urchin\tsea urchins\tEukaryota\tPREDICTED: Strongylocentrotus purpuratus neurobeachin-like (LOC581678), mRNA\r\n",
        "Phel_clc_contig_30562\tgi|390340515|ref|XM_781287.3|\t68.03\t269\t1e-11\t80.6\t7668\tStrongylocentrotus purpuratus\tpurple sea urchin\tsea urchins\tEukaryota\tPREDICTED: Strongylocentrotus purpuratus pyruvate dehydrogenase phosphatase regulatory subunit, mitochondrial-like (LOC581276), mRNA\r\n",
        "Phel_clc_contig_30563\tgi|390338081|ref|XM_777767.3|\t71.15\t305\t6e-30\t  141\t7668\tStrongylocentrotus purpuratus\tpurple sea urchin\tsea urchins\tEukaryota\tPREDICTED: Strongylocentrotus purpuratus lysine (K)-specific demethylase 1B (KDM1B), mRNA\r\n",
        "Phel_clc_contig_30565\tgi|390341005|ref|XM_777026.2|\t73.88\t134\t1e-12\t84.2\t7668\tStrongylocentrotus purpuratus\tpurple sea urchin\tsea urchins\tEukaryota\tPREDICTED: Strongylocentrotus purpuratus topoisomerase (DNA) III alpha (top3a), mRNA\r\n",
        "Phel_clc_contig_30572\tgi|74382121|emb|CR524827.16|\t64.61\t421\t2e-11\t80.6\t7955\tDanio rerio\tzebrafish\tbony fishes\tEukaryota\tZebrafish DNA sequence from clone CH211-167H17 in linkage group 16, complete sequence\r\n",
        "Phel_clc_contig_30578\tgi|116633454|emb|CT833258.1|\t68.97\t522\t4e-49\t  205\t39946\tOryza sativa Indica Group\tlong-grained rice\tmonocots\tEukaryota\tOryza sativa (indica cultivar-group) cDNA clone:OSIGCRA202E04, full insert sequence\r\n"
       ]
      }
     ],
     "prompt_number": 7
    },
    {
     "cell_type": "code",
     "collapsed": false,
     "input": [
      "!fgrep -c \"Eukaryota\" ../data/seastar_clc_nt_1_c.tab"
     ],
     "language": "python",
     "metadata": {},
     "outputs": [
      {
       "output_type": "stream",
       "stream": "stdout",
       "text": [
        "8611\r\n"
       ]
      }
     ],
     "prompt_number": 8
    },
    {
     "cell_type": "code",
     "collapsed": false,
     "input": [
      "!fgrep -c \"Strongylocentrotus\" ../data/seastar_clc_nt_1_c.tab"
     ],
     "language": "python",
     "metadata": {},
     "outputs": [
      {
       "output_type": "stream",
       "stream": "stdout",
       "text": [
        "3912\r\n"
       ]
      }
     ],
     "prompt_number": 12
    },
    {
     "cell_type": "code",
     "collapsed": false,
     "input": [
      "!fgrep -c \"Bacteria\" ../data/seastar_clc_nt_1_c.tab"
     ],
     "language": "python",
     "metadata": {},
     "outputs": [
      {
       "output_type": "stream",
       "stream": "stdout",
       "text": [
        "2117\r\n"
       ]
      }
     ],
     "prompt_number": 9
    },
    {
     "cell_type": "code",
     "collapsed": false,
     "input": [
      "!fgrep -c \"Viruses\" ../data/seastar_clc_nt_1_c.tab"
     ],
     "language": "python",
     "metadata": {},
     "outputs": [
      {
       "output_type": "stream",
       "stream": "stdout",
       "text": [
        "31\r\n"
       ]
      }
     ],
     "prompt_number": 10
    },
    {
     "cell_type": "code",
     "collapsed": false,
     "input": [
      "#relax evalue for genefish\n",
      "blastx \\\n",
      "-query /Volumes/web/cnidarian/Phel_transcriptome_clc.fa \\\n",
      "-db /Users/Shared/data/blast/db/uniprot_sprot \\\n",
      "-out /Volumes/web/cnidarian/seastar_clc_uniprot_sprot_05.tab \\\n",
      "-outfmt 6 \\\n",
      "-num_threads 8 \\\n",
      "-max_hsps 1 \\\n",
      "-max_target_seqs 1 \\\n",
      "-evalue 1E-05"
     ],
     "language": "python",
     "metadata": {},
     "outputs": []
    },
    {
     "cell_type": "code",
     "collapsed": false,
     "input": [
      "#relax evalue on hummingbird\n",
      "blastx \\\n",
      "-query /Volumes/web/cnidarian/Phel_transcriptome_clc.fa \\\n",
      "-db /Volumes/web/whale/blast/db/uniprot_sprot \\\n",
      "-out /Volumes/web/cnidarian/seastar_clc_uniprot_sprot_05h.tab \\\n",
      "-evalue 1E-05 \\\n",
      "-max_target_seqs 1 \\\n",
      "-max_hsps 1 \\\n",
      "-outfmt 6 \\\n",
      "-num_threads 16"
     ],
     "language": "python",
     "metadata": {},
     "outputs": []
    },
    {
     "cell_type": "code",
     "collapsed": false,
     "input": [
      "#relax evalue on hummingbird\n",
      "blastx \\\n",
      "-query /Volumes/web/cnidarian/SeaStar_transc_v2.fa \\\n",
      "-db /Volumes/web/whale/blast/db/uniprot_sprot \\\n",
      "-out /Volumes/web/cnidarian/seastar_clc_uniprot_sprot_05h.tab \\\n",
      "-evalue 1E-05 \\\n",
      "-max_target_seqs 1 \\\n",
      "-max_hsps 1 \\\n",
      "-outfmt 6 \\\n",
      "-num_threads 16"
     ],
     "language": "python",
     "metadata": {},
     "outputs": []
    },
    {
     "cell_type": "heading",
     "level": 1,
     "metadata": {},
     "source": [
      "GO SLim"
     ]
    },
    {
     "cell_type": "code",
     "collapsed": false,
     "input": [
      "import pandas as pd"
     ],
     "language": "python",
     "metadata": {},
     "outputs": [],
     "prompt_number": 10
    },
    {
     "cell_type": "code",
     "collapsed": false,
     "input": [
      "jslim = pd.read_csv('/Volumes/Students/diseases/Canonical_Files/GOSlim_query_P.csv')\n"
     ],
     "language": "python",
     "metadata": {},
     "outputs": [],
     "prompt_number": 11
    },
    {
     "cell_type": "code",
     "collapsed": false,
     "input": [
      "import numpy as ny"
     ],
     "language": "python",
     "metadata": {},
     "outputs": [],
     "prompt_number": 19
    },
    {
     "cell_type": "code",
     "collapsed": false,
     "input": [
      "head(jslim)"
     ],
     "language": "python",
     "metadata": {},
     "outputs": [
      {
       "ename": "NameError",
       "evalue": "name 'head' is not defined",
       "output_type": "pyerr",
       "traceback": [
        "\u001b[0;31m---------------------------------------------------------------------------\u001b[0m\n\u001b[0;31mNameError\u001b[0m                                 Traceback (most recent call last)",
        "\u001b[0;32m<ipython-input-23-96e1533a8813>\u001b[0m in \u001b[0;36m<module>\u001b[0;34m()\u001b[0m\n\u001b[0;32m----> 1\u001b[0;31m \u001b[0mhead\u001b[0m\u001b[0;34m(\u001b[0m\u001b[0mjslim\u001b[0m\u001b[0;34m)\u001b[0m\u001b[0;34m\u001b[0m\u001b[0m\n\u001b[0m",
        "\u001b[0;31mNameError\u001b[0m: name 'head' is not defined"
       ]
      }
     ],
     "prompt_number": 23
    },
    {
     "cell_type": "code",
     "collapsed": false,
     "input": [
      "pylab inline"
     ],
     "language": "python",
     "metadata": {},
     "outputs": [
      {
       "ename": "SyntaxError",
       "evalue": "invalid syntax (<ipython-input-16-b794e5809f34>, line 1)",
       "output_type": "pyerr",
       "traceback": [
        "\u001b[0;36m  File \u001b[0;32m\"<ipython-input-16-b794e5809f34>\"\u001b[0;36m, line \u001b[0;32m1\u001b[0m\n\u001b[0;31m    pylab inline\u001b[0m\n\u001b[0m               ^\u001b[0m\n\u001b[0;31mSyntaxError\u001b[0m\u001b[0;31m:\u001b[0m invalid syntax\n"
       ]
      }
     ],
     "prompt_number": 16
    },
    {
     "cell_type": "code",
     "collapsed": false,
     "input": [
      "import pylab as pl"
     ],
     "language": "python",
     "metadata": {},
     "outputs": [],
     "prompt_number": 35
    },
    {
     "cell_type": "code",
     "collapsed": false,
     "input": [
      "jslim.groupby('GOSlim_bin').Column1.count().plot(kind='bar')"
     ],
     "language": "python",
     "metadata": {},
     "outputs": [
      {
       "metadata": {},
       "output_type": "pyout",
       "prompt_number": 48,
       "text": [
        "<matplotlib.axes.AxesSubplot at 0x107de1290>"
       ]
      },
      {
       "metadata": {},
       "output_type": "display_data",
       "png": "[encoded data removed]",
       "text": [
        "<matplotlib.figure.Figure at 0x106c15b50>"
       ]
      }
     ],
     "prompt_number": 48
    },
    {
     "cell_type": "heading",
     "level": 1,
     "metadata": {},
     "source": [
      "INTERPROSCAN on IPlant"
     ]
    },
    {
     "cell_type": "markdown",
     "metadata": {},
     "source": [
      "<img src=\"http://eagle.fish.washington.edu/cnidarian/skitch/_36__Discovery_Environment_19915C2C.png\" alt=\"_36__Discovery_Environment_19915C2C.png\"/>"
     ]
    },
    {
     "cell_type": "heading",
     "level": 1,
     "metadata": {},
     "source": [
      "Hewson"
     ]
    },
    {
     "cell_type": "markdown",
     "metadata": {},
     "source": [
      "<img src=\"http://eagle.fish.washington.edu/cnidarian/skitch/greenbird_197DC8B3.png\" alt=\"greenbird_197DC8B3.png\"/>"
     ]
    },
    {
     "cell_type": "markdown",
     "metadata": {},
     "source": [
      "<img src=\"http://eagle.fish.washington.edu/cnidarian/skitch/greenbird_197DC82A.png\" alt=\"greenbird_197DC82A.png\"/>"
     ]
    },
    {
     "cell_type": "code",
     "collapsed": false,
     "input": [
      "!head /Volumes/web/cnidarian/Hewson_transc_clc.fa"
     ],
     "language": "python",
     "metadata": {},
     "outputs": [
      {
       "output_type": "stream",
       "stream": "stdout",
       "text": [
        ">T1_GGACTCC_L001_R1_001_(paired)_contig_1\r\n",
        "GCTCGGAGATGTGTATAAGAGACAGGTCCGGGAACGTATTCACCGCGCCATTGCTGATGC\r\n",
        "GCGATTACTAGCGATTCCAACTTCATGGGGCCGAGTTGCAGGCCCCAATCCGAACTGAGG\r\n",
        "CACACTTTTTGGGATTGGCTGACCGTTACCGGATCGCAACCCTCTGTATGCACCATTGTA\r\n",
        "GCACGTGTGTAGCCCTGGGCATAAGGGCCATGATGACTTGACGTCGTCCCCACCTTCCTC\r\n",
        "TCTGCTTGCGCAGGCAGTCCCGTTAGAGTCCCCAGCTTCACCTGTTGGCAACTAACGGTA\r\n",
        "GGGGTTGCGCTCGTTGCGGGACTTAACCCAACACCTCACGGCACGAGCTGACGACAGCCA\r\n",
        "TGCAGCACCTTTGTTTCACGTCCGAAGAACAGGCCATCTCTGGCCTTTGCGATCACATTC\r\n",
        "AAGCCCAGGTAAGGTTCCTCGCGTACCATCGAATTAAACCACATGCTCCACCGCTTGTGC\r\n",
        "GGACCCCCGTCAATTCCTTTGAGTTTCACCCTTGCGGGCGTACTCCCCAGGTGGCTCACT\r\n"
       ]
      }
     ],
     "prompt_number": 51
    },
    {
     "cell_type": "code",
     "collapsed": false,
     "input": [
      "!fgrep -c \">\" /Volumes/web/cnidarian/Hewson_transc_clc.fa"
     ],
     "language": "python",
     "metadata": {},
     "outputs": [
      {
       "output_type": "stream",
       "stream": "stdout",
       "text": [
        "22606\r\n"
       ]
      }
     ],
     "prompt_number": 53
    },
    {
     "cell_type": "code",
     "collapsed": false,
     "input": [
      "#running hummingbird - complete\n",
      "blastn \\\n",
      "-query /Volumes/web/cnidarian/Hewson_transc_clc.fa \\\n",
      "-db /Volumes/Data/blast_db/nt \\\n",
      "-out /Volumes/web/cnidarian/Hewson_clc_nt_1.tab \\\n",
      "-outfmt \"6 qseqid sseqid pident length evalue bitscore staxids sscinames scomnames sblastnames sskingdoms stitle\" \\\n",
      "-num_threads 12 \\\n",
      "-max_hsps 1 \\\n",
      "-evalue 1E-10 \\\n",
      "-max_target_seqs 1 \\\n",
      "-task blastn"
     ],
     "language": "python",
     "metadata": {},
     "outputs": []
    },
    {
     "cell_type": "code",
     "collapsed": false,
     "input": [
      "!head -1 /Volumes/web/cnidarian/Hewson_clc_nt_1.tab"
     ],
     "language": "python",
     "metadata": {},
     "outputs": [
      {
       "output_type": "stream",
       "stream": "stdout",
       "text": [
        "T1_GGACTCC_L001_R1_001_(paired)_contig_1\tgi|284010065|dbj|AB540004.1|\t88.93\t1147\t0.0\t 1490\t708099\tReichenbachiella sp. YMK\tReichenbachiella sp. YMK\tCFB group bacteria\tBacteria\tReichenbachiella sp. YMK gene for 16S rRNA, partial sequence\r\n"
       ]
      }
     ],
     "prompt_number": 29
    },
    {
     "cell_type": "code",
     "collapsed": false,
     "input": [
      "!tr '|' \"\\t\" </Volumes/web/cnidarian/Hewson_clc_nt_1.tab> /Volumes/web/cnidarian/Hewson_clc_nt_1_b.tab\n"
     ],
     "language": "python",
     "metadata": {},
     "outputs": [],
     "prompt_number": 30
    },
    {
     "cell_type": "code",
     "collapsed": false,
     "input": [
      "!head -1 /Volumes/web/cnidarian/Hewson_clc_nt_1_b.tab"
     ],
     "language": "python",
     "metadata": {},
     "outputs": [
      {
       "output_type": "stream",
       "stream": "stdout",
       "text": [
        "T1_GGACTCC_L001_R1_001_(paired)_contig_1\tgi\t284010065\tdbj\tAB540004.1\t\t88.93\t1147\t0.0\t 1490\t708099\tReichenbachiella sp. YMK\tReichenbachiella sp. YMK\tCFB group bacteria\tBacteria\tReichenbachiella sp. YMK gene for 16S rRNA, partial sequence\r\n"
       ]
      }
     ],
     "prompt_number": 31
    },
    {
     "cell_type": "code",
     "collapsed": false,
     "input": [
      "!sed 's/T1_GGACTCC_L001_R1_001_(paired)/Hewson/g' </Volumes/web/cnidarian/Hewson_clc_nt_1_b.tab> /Volumes/web/cnidarian/Hewson_clc_nt_1_c.tab"
     ],
     "language": "python",
     "metadata": {},
     "outputs": [],
     "prompt_number": 32
    },
    {
     "cell_type": "code",
     "collapsed": false,
     "input": [
      "!head -1 /Volumes/web/cnidarian/Hewson_clc_nt_1_c.tab"
     ],
     "language": "python",
     "metadata": {},
     "outputs": [
      {
       "output_type": "stream",
       "stream": "stdout",
       "text": [
        "Hewson_contig_1\tgi\t284010065\tdbj\tAB540004.1\t\t88.93\t1147\t0.0\t 1490\t708099\tReichenbachiella sp. YMK\tReichenbachiella sp. YMK\tCFB group bacteria\tBacteria\tReichenbachiella sp. YMK gene for 16S rRNA, partial sequence\r\n"
       ]
      }
     ],
     "prompt_number": 33
    },
    {
     "cell_type": "heading",
     "level": 2,
     "metadata": {},
     "source": [
      "Galaxy"
     ]
    },
    {
     "cell_type": "markdown",
     "metadata": {},
     "source": [
      "https://usegalaxy.org/u/sroberts320/h/eimd"
     ]
    },
    {
     "cell_type": "markdown",
     "metadata": {},
     "source": [
      "<img src=\"http://eagle.fish.washington.edu/cnidarian/skitch/Galaxy_198305B5.png\" alt=\"Galaxy_198305B5.png\"/>"
     ]
    },
    {
     "cell_type": "markdown",
     "metadata": {},
     "source": []
    },
    {
     "cell_type": "heading",
     "level": 2,
     "metadata": {},
     "source": [
      "Hewson"
     ]
    },
    {
     "cell_type": "markdown",
     "metadata": {},
     "source": [
      "<img src=\"http://eagle.fish.washington.edu/cnidarian/skitch/Screenshot_7_25_14__3_12_PM_19830DD6.png\" alt=\"Screenshot_7_25_14__3_12_PM_19830DD6.png\"/>"
     ]
    },
    {
     "cell_type": "code",
     "collapsed": false,
     "input": [],
     "language": "python",
     "metadata": {},
     "outputs": []
    },
    {
     "cell_type": "code",
     "collapsed": false,
     "input": [],
     "language": "python",
     "metadata": {},
     "outputs": []
    },
    {
     "cell_type": "code",
     "collapsed": false,
     "input": [],
     "language": "python",
     "metadata": {},
     "outputs": []
    },
    {
     "cell_type": "code",
     "collapsed": false,
     "input": [
      "blastx \\\n",
      "-query /Volumes/web/cnidarian/Hewson_transc_clc.fa \\\n",
      "-db /Users/Shared/data/blast/db/uniprot_sprot \\\n",
      "-out /Volumes/web/cnidarian/Hewson_clc_uniprot_sprot_1.tab \\\n",
      "-outfmt 6 \\\n",
      "-num_threads 4 \\\n",
      "-max_hsps 1 \\\n",
      "-max_target_seqs 1 \\\n",
      "-evalue 1E-20"
     ],
     "language": "python",
     "metadata": {},
     "outputs": []
    },
    {
     "cell_type": "code",
     "collapsed": false,
     "input": [
      "!head /Volumes/web/cnidarian/Hewson_clc_uniprot_sprot_1.tab"
     ],
     "language": "python",
     "metadata": {},
     "outputs": [],
     "prompt_number": 2
    },
    {
     "cell_type": "code",
     "collapsed": false,
     "input": [],
     "language": "python",
     "metadata": {},
     "outputs": []
    }
   ],
   "metadata": {}
  }
 ]
}