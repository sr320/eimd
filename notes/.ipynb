{
 "metadata": {
  "name": "",
  "signature": "sha256:74bb1bacd1802508f4ed7cf086c8dc9d34353339fc93dff30c44870090db6040"
 },
 "nbformat": 3,
 "nbformat_minor": 0,
 "worksheets": [
  {
   "cells": [
    {
     "cell_type": "heading",
     "level": 1,
     "metadata": {},
     "source": [
      "Test"
     ]
    },
    {
     "cell_type": "markdown",
     "metadata": {},
     "source": [
      "make blast database"
     ]
    },
    {
     "cell_type": "code",
     "collapsed": false,
     "input": [
      "pwd"
     ],
     "language": "python",
     "metadata": {},
     "outputs": [
      {
       "metadata": {},
       "output_type": "pyout",
       "prompt_number": 1,
       "text": [
        "u'/Users/fhlguest/Desktop'"
       ]
      }
     ],
     "prompt_number": 1
    },
    {
     "cell_type": "code",
     "collapsed": false,
     "input": [
      "ls    "
     ],
     "language": "python",
     "metadata": {},
     "outputs": [
      {
       "output_type": "stream",
       "stream": "stdout",
       "text": [
        "Hannah_data11July14.xlsx      blast_a.ipynb\r\n",
        "\u001b[35mLauncher.app\u001b[m\u001b[m@                 \u001b[34meimd_test\u001b[m\u001b[m/\r\n",
        "Pendulum Variation Data.xlsx\r\n"
       ]
      }
     ],
     "prompt_number": 12
    },
    {
     "cell_type": "code",
     "collapsed": false,
     "input": [
      "cd eimd_test/"
     ],
     "language": "python",
     "metadata": {},
     "outputs": [
      {
       "output_type": "stream",
       "stream": "stdout",
       "text": [
        "/Users/fhlguest/Desktop/eimd_test\n"
       ]
      }
     ],
     "prompt_number": 13
    },
    {
     "cell_type": "code",
     "collapsed": false,
     "input": [
      "!curl -O http://eagle.fish.washington.edu/whale/eimd_14/Phel_transcriptome_clc.fa"
     ],
     "language": "python",
     "metadata": {},
     "outputs": [
      {
       "output_type": "stream",
       "stream": "stdout",
       "text": [
        "  % Total    % Received % Xferd  Average Speed   Time    Time     Time  Current\r\n",
        "                                 Dload  Upload   Total   Spent    Left  Speed\r\n",
        "\r",
        "  0     0    0     0    0     0      0      0 --:--:-- --:--:-- --:--:--     0"
       ]
      },
      {
       "output_type": "stream",
       "stream": "stdout",
       "text": [
        "\r",
        "  4 43.2M    4 1940k    0     0  2940k      0  0:00:15 --:--:--  0:00:15 2944k"
       ]
      },
      {
       "output_type": "stream",
       "stream": "stdout",
       "text": [
        "\r",
        " 15 43.2M   15 6825k    0     0  4114k      0  0:00:10  0:00:01  0:00:09 4116k"
       ]
      },
      {
       "output_type": "stream",
       "stream": "stdout",
       "text": [
        "\r",
        " 32 43.2M   32 14.0M    0     0  5396k      0  0:00:08  0:00:02  0:00:06 5398k"
       ]
      },
      {
       "output_type": "stream",
       "stream": "stdout",
       "text": [
        "\r",
        " 44 43.2M   44 19.1M    0     0  5368k      0  0:00:08  0:00:03  0:00:05 5370k"
       ]
      },
      {
       "output_type": "stream",
       "stream": "stdout",
       "text": [
        "\r",
        " 59 43.2M   59 25.6M    0     0  5646k      0  0:00:07  0:00:04  0:00:03 5647k"
       ]
      },
      {
       "output_type": "stream",
       "stream": "stdout",
       "text": [
        "\r",
        " 78 43.2M   78 33.9M    0     0  6145k      0  0:00:07  0:00:05  0:00:02 6567k"
       ]
      },
      {
       "output_type": "stream",
       "stream": "stdout",
       "text": [
        "\r",
        " 97 43.2M   97 42.0M    0     0  6465k      0  0:00:06  0:00:06 --:--:-- 7245k"
       ]
      },
      {
       "output_type": "stream",
       "stream": "stdout",
       "text": [
        "\r",
        "100 43.2M  100 43.2M    0     0  6526k      0  0:00:06  0:00:06 --:--:-- 7255k\r\n"
       ]
      }
     ],
     "prompt_number": 14
    },
    {
     "cell_type": "code",
     "collapsed": false,
     "input": [
      "!blastx"
     ],
     "language": "python",
     "metadata": {},
     "outputs": [
      {
       "output_type": "stream",
       "stream": "stdout",
       "text": [
        "/bin/sh: blastx: command not found\r\n"
       ]
      }
     ],
     "prompt_number": 15
    },
    {
     "cell_type": "code",
     "collapsed": false,
     "input": [
      "wb=\"/Applications/blast/bin/\""
     ],
     "language": "python",
     "metadata": {},
     "outputs": [],
     "prompt_number": 18
    },
    {
     "cell_type": "code",
     "collapsed": false,
     "input": [
      "!{wb}makeblastdb -help"
     ],
     "language": "python",
     "metadata": {},
     "outputs": [
      {
       "output_type": "stream",
       "stream": "stdout",
       "text": [
        "USAGE\r\n",
        "  makeblastdb [-h] [-help] [-in input_file] [-input_type type]\r\n",
        "    -dbtype molecule_type [-title database_title] [-parse_seqids]\r\n",
        "    [-hash_index] [-mask_data mask_data_files] [-mask_id mask_algo_ids]\r\n",
        "    [-mask_desc mask_algo_descriptions] [-gi_mask]\r\n",
        "    [-gi_mask_name gi_based_mask_names] [-out database_name]\r\n",
        "    [-max_file_sz number_of_bytes] [-taxid TaxID] [-taxid_map TaxIDMapFile]\r\n",
        "    [-logfile File_Name] [-version]\r\n",
        "\r\n",
        "DESCRIPTION\r\n",
        "   Application to create BLAST databases, version 2.2.29+\r\n",
        "\r\n",
        "REQUIRED ARGUMENTS\r\n",
        " -dbtype <String, `nucl', `prot'>\r\n",
        "   Molecule type of target db\r\n",
        "\r\n",
        "OPTIONAL ARGUMENTS\r\n",
        " -h\r\n",
        "   Print USAGE and DESCRIPTION;  ignore all other parameters\r\n",
        " -help\r\n",
        "   Print USAGE, DESCRIPTION and ARGUMENTS; ignore all other parameters\r\n",
        " -version\r\n",
        "   Print version number;  ignore other arguments\r\n",
        "\r\n",
        " *** Input options\r\n",
        " -in <File_In>\r\n",
        "   Input file/database name\r\n",
        "   Default = `-'\r\n",
        " -input_type <String, `asn1_bin', `asn1_txt', `blastdb', `fasta'>\r\n",
        "   Type of the data specified in input_file\r\n",
        "   Default = `fasta'\r\n",
        "\r\n",
        " *** Configuration options\r\n",
        " -title <String>\r\n",
        "   Title for BLAST database\r\n",
        "   Default = input file name provided to -in argument\r\n",
        " -parse_seqids\r\n",
        "   Option to parse seqid for FASTA input if set, for all other input types\r\n",
        "   seqids are parsed automatically\r\n",
        " -hash_index\r\n",
        "   Create index of sequence hash values.\r\n",
        "\r\n",
        " *** Sequence masking options\r\n",
        " -mask_data <String>\r\n",
        "   Comma-separated list of input files containing masking data as produced by\r\n",
        "   NCBI masking applications (e.g. dustmasker, segmasker, windowmasker)\r\n",
        " -mask_id <String>\r\n",
        "   Comma-separated list of strings to uniquely identify the masking algorithm\r\n",
        "    * Requires:  mask_data\r\n",
        "    * Incompatible with:  gi_mask\r\n",
        " -mask_desc <String>\r\n",
        "   Comma-separated list of free form strings to describe the masking algorithm\r\n",
        "   details\r\n",
        "    * Requires:  mask_id\r\n",
        " -gi_mask\r\n",
        "   Create GI indexed masking data.\r\n",
        "    * Requires:  parse_seqids\r\n",
        "    * Incompatible with:  mask_id\r\n",
        " -gi_mask_name <String>\r\n",
        "   Comma-separated list of masking data output files.\r\n",
        "    * Requires:  mask_data, gi_mask\r\n",
        "\r\n",
        " *** Output options\r\n",
        " -out <String>\r\n",
        "   Name of BLAST database to be created\r\n",
        "   Default = input file name provided to -in argumentRequired if multiple\r\n",
        "   file(s)/database(s) are provided as input\r\n",
        " -max_file_sz <String>\r\n",
        "   Maximum file size for BLAST database files\r\n",
        "   Default = `1GB'\r\n",
        "\r\n",
        " *** Taxonomy options\r\n",
        " -taxid <Integer, >=0>\r\n",
        "   Taxonomy ID to assign to all sequences\r\n",
        "    * Incompatible with:  taxid_map\r\n",
        " -taxid_map <File_In>\r\n",
        "   Text file mapping sequence IDs to taxonomy IDs.\r\n",
        "   Format:<SequenceId> <TaxonomyId><newline>\r\n",
        "    * Requires:  parse_seqids\r\n",
        "    * Incompatible with:  taxid\r\n",
        " -logfile <File_Out>\r\n",
        "   File to which the program log should be redirected\r\n",
        "\r\n"
       ]
      }
     ],
     "prompt_number": 20
    },
    {
     "cell_type": "code",
     "collapsed": false,
     "input": [
      "!{wb}makeblastdb -in Phel_transcriptome_clc.fa -dbtype nucl -out Phel_transcriptome_clc"
     ],
     "language": "python",
     "metadata": {},
     "outputs": [
      {
       "output_type": "stream",
       "stream": "stdout",
       "text": [
        "\r\n",
        "\r\n",
        "Building a new DB, current time: 07/30/2014 11:05:30\r\n",
        "New DB name:   Phel_transcriptome_clc\r\n",
        "New DB title:  Phel_transcriptome_clc.fa\r\n",
        "Sequence type: Nucleotide\r\n",
        "Keep Linkouts: T\r\n",
        "Keep MBits: T\r\n",
        "Maximum file size: 1000000000B\r\n"
       ]
      },
      {
       "output_type": "stream",
       "stream": "stdout",
       "text": [
        "Adding sequences from FASTA; added 30578 sequences in 2.36789 seconds.\r\n"
       ]
      }
     ],
     "prompt_number": 36
    },
    {
     "cell_type": "code",
     "collapsed": false,
     "input": [
      "!{wb}tblastn -help"
     ],
     "language": "python",
     "metadata": {},
     "outputs": [
      {
       "output_type": "stream",
       "stream": "stdout",
       "text": [
        "USAGE\r\n",
        "  tblastn [-h] [-help] [-import_search_strategy filename]\r\n",
        "    [-export_search_strategy filename] [-db database_name]\r\n",
        "    [-dbsize num_letters] [-gilist filename] [-seqidlist filename]\r\n",
        "    [-negative_gilist filename] [-entrez_query entrez_query]\r\n",
        "    [-db_soft_mask filtering_algorithm] [-db_hard_mask filtering_algorithm]\r\n",
        "    [-subject subject_input_file] [-subject_loc range] [-query input_file]\r\n",
        "    [-out output_file] [-evalue evalue] [-word_size int_value]\r\n",
        "    [-gapopen open_penalty] [-gapextend extend_penalty]\r\n",
        "    [-xdrop_ungap float_value] [-xdrop_gap float_value]\r\n",
        "    [-xdrop_gap_final float_value] [-searchsp int_value] [-max_hsps int_value]\r\n",
        "    [-sum_statistics] [-db_gencode int_value] [-ungapped]\r\n",
        "    [-max_intron_length length] [-seg SEG_options]\r\n",
        "    [-soft_masking soft_masking] [-matrix matrix_name]\r\n",
        "    [-threshold float_value] [-culling_limit int_value]\r\n",
        "    [-best_hit_overhang float_value] [-best_hit_score_edge float_value]\r\n",
        "    [-window_size int_value] [-lcase_masking] [-query_loc range]\r\n",
        "    [-parse_deflines] [-outfmt format] [-show_gis]\r\n",
        "    [-num_descriptions int_value] [-num_alignments int_value] [-html]\r\n",
        "    [-max_target_seqs num_sequences] [-num_threads int_value] [-remote]\r\n",
        "    [-comp_based_stats compo] [-use_sw_tback] [-in_pssm psi_chkpt_file]\r\n",
        "    [-version]\r\n",
        "\r\n",
        "DESCRIPTION\r\n",
        "   Protein Query-Translated Subject BLAST 2.2.29+\r\n",
        "\r\n",
        "OPTIONAL ARGUMENTS\r\n",
        " -h\r\n",
        "   Print USAGE and DESCRIPTION;  ignore all other parameters\r\n",
        " -help\r\n",
        "   Print USAGE, DESCRIPTION and ARGUMENTS; ignore all other parameters\r\n",
        " -version\r\n",
        "   Print version number;  ignore other arguments\r\n",
        "\r\n",
        " *** Input query options\r\n",
        " -query <File_In>\r\n",
        "   Input file name\r\n",
        "   Default = `-'\r\n",
        "    * Incompatible with:  in_pssm\r\n",
        " -query_loc <String>\r\n",
        "   Location on the query sequence in 1-based offsets (Format: start-stop)\r\n",
        "    * Incompatible with:  in_pssm\r\n",
        "\r\n",
        " *** General search options\r\n",
        " -db <String>\r\n",
        "   BLAST database name\r\n",
        "    * Incompatible with:  subject, subject_loc\r\n",
        " -out <File_Out>\r\n",
        "   Output file name\r\n",
        "   Default = `-'\r\n",
        " -evalue <Real>\r\n",
        "   Expectation value (E) threshold for saving hits \r\n",
        "   Default = `10'\r\n",
        " -word_size <Integer, >=2>\r\n",
        "   Word size for wordfinder algorithm\r\n",
        " -gapopen <Integer>\r\n",
        "   Cost to open a gap\r\n",
        " -gapextend <Integer>\r\n",
        "   Cost to extend a gap\r\n",
        " -db_gencode <Integer, values between: 1-6, 9-16, 21-25>\r\n",
        "   Genetic code to use to translate database/subjects (see user manual for\r\n",
        "   details)\r\n",
        "   Default = `1'\r\n",
        " -max_intron_length <Integer>\r\n",
        "   Length of the largest intron allowed in a translated nucleotide sequence\r\n",
        "   when linking multiple distinct alignments (a negative value disables\r\n",
        "   linking)\r\n",
        "   Default = `0'\r\n",
        " -matrix <String>\r\n",
        "   Scoring matrix name (normally BLOSUM62)\r\n",
        " -threshold <Real, >=0>\r\n",
        "   Minimum word score such that the word is added to the BLAST lookup table\r\n",
        " -comp_based_stats <String>\r\n",
        "   Use composition-based statistics:\r\n",
        "       D or d: default (equivalent to 2 )\r\n",
        "       0 or F or f: No composition-based statistics\r\n",
        "       1: Composition-based statistics as in NAR 29:2994-3005, 2001\r\n",
        "       2 or T or t : Composition-based score adjustment as in Bioinformatics\r\n",
        "   21:902-911,\r\n",
        "       2005, conditioned on sequence properties\r\n",
        "       3: Composition-based score adjustment as in Bioinformatics 21:902-911,\r\n",
        "       2005, unconditionally\r\n",
        "   Default = `2'\r\n",
        "\r\n",
        " *** BLAST-2-Sequences options\r\n",
        " -subject <File_In>\r\n",
        "   Subject sequence(s) to search\r\n",
        "    * Incompatible with:  db, gilist, seqidlist, negative_gilist,\r\n",
        "   db_soft_mask, db_hard_mask\r\n",
        " -subject_loc <String>\r\n",
        "   Location on the subject sequence in 1-based offsets (Format: start-stop)\r\n",
        "    * Incompatible with:  db, gilist, seqidlist, negative_gilist,\r\n",
        "   db_soft_mask, db_hard_mask, remote\r\n",
        "\r\n",
        " *** Formatting options\r\n",
        " -outfmt <String>\r\n",
        "   alignment view options:\r\n",
        "     0 = pairwise,\r\n",
        "     1 = query-anchored showing identities,\r\n",
        "     2 = query-anchored no identities,\r\n",
        "     3 = flat query-anchored, show identities,\r\n",
        "     4 = flat query-anchored, no identities,\r\n",
        "     5 = XML Blast output,\r\n",
        "     6 = tabular,\r\n",
        "     7 = tabular with comment lines,\r\n",
        "     8 = Text ASN.1,\r\n",
        "     9 = Binary ASN.1,\r\n",
        "    10 = Comma-separated values,\r\n",
        "    11 = BLAST archive format (ASN.1) \r\n",
        "   \r\n",
        "   Options 6, 7, and 10 can be additionally configured to produce\r\n",
        "   a custom format specified by space delimited format specifiers.\r\n",
        "   The supported format specifiers are:\r\n",
        "   \t    qseqid means Query Seq-id\r\n",
        "   \t       qgi means Query GI\r\n",
        "   \t      qacc means Query accesion\r\n",
        "   \t   qaccver means Query accesion.version\r\n",
        "   \t      qlen means Query sequence length\r\n",
        "   \t    sseqid means Subject Seq-id\r\n",
        "   \t sallseqid means All subject Seq-id(s), separated by a ';'\r\n",
        "   \t       sgi means Subject GI\r\n",
        "   \t    sallgi means All subject GIs\r\n",
        "   \t      sacc means Subject accession\r\n",
        "   \t   saccver means Subject accession.version\r\n",
        "   \t   sallacc means All subject accessions\r\n",
        "   \t      slen means Subject sequence length\r\n",
        "   \t    qstart means Start of alignment in query\r\n",
        "   \t      qend means End of alignment in query\r\n",
        "   \t    sstart means Start of alignment in subject\r\n",
        "   \t      send means End of alignment in subject\r\n",
        "   \t      qseq means Aligned part of query sequence\r\n",
        "   \t      sseq means Aligned part of subject sequence\r\n",
        "   \t    evalue means Expect value\r\n",
        "   \t  bitscore means Bit score\r\n",
        "   \t     score means Raw score\r\n",
        "   \t    length means Alignment length\r\n",
        "   \t    pident means Percentage of identical matches\r\n",
        "   \t    nident means Number of identical matches\r\n",
        "   \t  mismatch means Number of mismatches\r\n",
        "   \t  positive means Number of positive-scoring matches\r\n",
        "   \t   gapopen means Number of gap openings\r\n",
        "   \t      gaps means Total number of gaps\r\n",
        "   \t      ppos means Percentage of positive-scoring matches\r\n",
        "   \t    frames means Query and subject frames separated by a '/'\r\n",
        "   \t    qframe means Query frame\r\n",
        "   \t    sframe means Subject frame\r\n",
        "   \t      btop means Blast traceback operations (BTOP)\r\n",
        "   \t   staxids means unique Subject Taxonomy ID(s), separated by a ';'\r\n",
        "   \t\t\t (in numerical order)\r\n",
        "   \t sscinames means unique Subject Scientific Name(s), separated by a ';'\r\n",
        "   \t scomnames means unique Subject Common Name(s), separated by a ';'\r\n",
        "   \tsblastnames means unique Subject Blast Name(s), separated by a ';'\r\n",
        "   \t\t\t (in alphabetical order)\r\n",
        "   \tsskingdoms means unique Subject Super Kingdom(s), separated by a ';'\r\n",
        "   \t\t\t (in alphabetical order) \r\n",
        "   \t    stitle means Subject Title\r\n",
        "   \tsalltitles means All Subject Title(s), separated by a '<>'\r\n",
        "   \t   sstrand means Subject Strand\r\n",
        "   \t     qcovs means Query Coverage Per Subject\r\n",
        "   \t   qcovhsp means Query Coverage Per HSP\r\n",
        "   When not provided, the default value is:\r\n",
        "   'qseqid sseqid pident length mismatch gapopen qstart qend sstart send\r\n",
        "   evalue bitscore', which is equivalent to the keyword 'std'\r\n",
        "   Default = `0'\r\n",
        " -show_gis\r\n",
        "   Show NCBI GIs in deflines?\r\n",
        " -num_descriptions <Integer, >=0>\r\n",
        "   Number of database sequences to show one-line descriptions for\r\n",
        "   Not applicable for outfmt > 4\r\n",
        "   Default = `500'\r\n",
        "    * Incompatible with:  max_target_seqs\r\n",
        " -num_alignments <Integer, >=0>\r\n",
        "   Number of database sequences to show alignments for\r\n",
        "   Default = `250'\r\n",
        "    * Incompatible with:  max_target_seqs\r\n",
        " -html\r\n",
        "   Produce HTML output?\r\n",
        "\r\n",
        " *** Query filtering options\r\n",
        " -seg <String>\r\n",
        "   Filter query sequence with SEG (Format: 'yes', 'window locut hicut', or\r\n",
        "   'no' to disable)\r\n",
        "   Default = `12 2.2 2.5'\r\n",
        " -soft_masking <Boolean>\r\n",
        "   Apply filtering locations as soft masks\r\n",
        "   Default = `false'\r\n",
        " -lcase_masking\r\n",
        "   Use lower case filtering in query and subject sequence(s)?\r\n",
        "\r\n",
        " *** Restrict search or results\r\n",
        " -gilist <String>\r\n",
        "   Restrict search of database to list of GI's\r\n",
        "    * Incompatible with:  negative_gilist, seqidlist, remote, subject,\r\n",
        "   subject_loc\r\n",
        " -seqidlist <String>\r\n",
        "   Restrict search of database to list of SeqId's\r\n",
        "    * Incompatible with:  gilist, negative_gilist, remote, subject,\r\n",
        "   subject_loc\r\n",
        " -negative_gilist <String>\r\n",
        "   Restrict search of database to everything except the listed GIs\r\n",
        "    * Incompatible with:  gilist, seqidlist, remote, subject, subject_loc\r\n",
        " -entrez_query <String>\r\n",
        "   Restrict search with the given Entrez query\r\n",
        "    * Requires:  remote\r\n",
        " -db_soft_mask <String>\r\n",
        "   Filtering algorithm ID to apply to the BLAST database as soft masking\r\n",
        "    * Incompatible with:  db_hard_mask, subject, subject_loc\r\n",
        " -db_hard_mask <String>\r\n",
        "   Filtering algorithm ID to apply to the BLAST database as hard masking\r\n",
        "    * Incompatible with:  db_soft_mask, subject, subject_loc\r\n",
        " -culling_limit <Integer, >=0>\r\n",
        "   If the query range of a hit is enveloped by that of at least this many\r\n",
        "   higher-scoring hits, delete the hit\r\n",
        "    * Incompatible with:  best_hit_overhang, best_hit_score_edge\r\n",
        " -best_hit_overhang <Real, (>=0 and =<0.5)>\r\n",
        "   Best Hit algorithm overhang value (recommended value: 0.1)\r\n",
        "    * Incompatible with:  culling_limit\r\n",
        " -best_hit_score_edge <Real, (>=0 and =<0.5)>\r\n",
        "   Best Hit algorithm score edge value (recommended value: 0.1)\r\n",
        "    * Incompatible with:  culling_limit\r\n",
        " -max_target_seqs <Integer, >=1>\r\n",
        "   Maximum number of aligned sequences to keep \r\n",
        "   Not applicable for outfmt <= 4\r\n",
        "   Default = `500'\r\n",
        "    * Incompatible with:  num_descriptions, num_alignments\r\n",
        "\r\n",
        " *** Statistical options\r\n",
        " -dbsize <Int8>\r\n",
        "   Effective length of the database \r\n",
        " -searchsp <Int8, >=0>\r\n",
        "   Effective length of the search space\r\n",
        " -max_hsps <Integer, >=0>\r\n",
        "   Set maximum number of HSPs per subject sequence to save (0 means no limit)\r\n",
        "   Default = `0'\r\n",
        " -sum_statistics\r\n",
        "   Use sum statistics\r\n",
        "\r\n",
        " *** Search strategy options\r\n",
        " -import_search_strategy <File_In>\r\n",
        "   Search strategy to use\r\n",
        "    * Incompatible with:  export_search_strategy\r\n",
        " -export_search_strategy <File_Out>\r\n",
        "   File name to record the search strategy used\r\n",
        "    * Incompatible with:  import_search_strategy\r\n",
        "\r\n",
        " *** Extension options\r\n",
        " -xdrop_ungap <Real>\r\n",
        "   X-dropoff value (in bits) for ungapped extensions\r\n",
        " -xdrop_gap <Real>\r\n",
        "   X-dropoff value (in bits) for preliminary gapped extensions\r\n",
        " -xdrop_gap_final <Real>\r\n",
        "   X-dropoff value (in bits) for final gapped alignment\r\n",
        " -ungapped\r\n",
        "   Perform ungapped alignment only?\r\n",
        " -window_size <Integer, >=0>\r\n",
        "   Multiple hits window size, use 0 to specify 1-hit algorithm\r\n",
        "\r\n",
        " *** Miscellaneous options\r\n",
        " -parse_deflines\r\n",
        "   Should the query and subject defline(s) be parsed?\r\n",
        " -num_threads <Integer, >=1>\r\n",
        "   Number of threads (CPUs) to use in the BLAST search\r\n",
        "   Default = `1'\r\n",
        "    * Incompatible with:  remote\r\n",
        " -remote\r\n",
        "   Execute search remotely?\r\n",
        "    * Incompatible with:  gilist, seqidlist, negative_gilist, subject_loc,\r\n",
        "   num_threads, in_pssm\r\n",
        " -use_sw_tback\r\n",
        "   Compute locally optimal Smith-Waterman alignments?\r\n",
        "\r\n",
        " *** PSI-TBLASTN options\r\n",
        " -in_pssm <File_In>\r\n",
        "   PSI-TBLASTN checkpoint file\r\n",
        "    * Incompatible with:  remote, query, query_loc\r\n",
        "\r\n"
       ]
      }
     ],
     "prompt_number": 24
    },
    {
     "cell_type": "code",
     "collapsed": false,
     "input": [
      "!{wb}tblastn -query NP_051020 -db Phel_transcriptome_clc -out NPd_tblastn_Ph.tab -outfmt 6 -num_threads 4"
     ],
     "language": "python",
     "metadata": {},
     "outputs": [],
     "prompt_number": 37
    },
    {
     "cell_type": "code",
     "collapsed": false,
     "input": [
      "!head NPd_tblastn_Ph.tab"
     ],
     "language": "python",
     "metadata": {},
     "outputs": [
      {
       "output_type": "stream",
       "stream": "stdout",
       "text": [
        "gi|9633607|ref|NP_051020.1|\tPhel_clc_contig_5768\t36.59\t41\t21\t1\t302\t337\t789\t911\t7.6\t29.6\r\n",
        "gi|9633607|ref|NP_051020.1|\tPhel_clc_contig_2537\t35.00\t40\t23\t1\t382\t418\t3096\t2977\t9.1\t29.6\r\n"
       ]
      }
     ],
     "prompt_number": 38
    },
    {
     "cell_type": "code",
     "collapsed": false,
     "input": [
      "!{wb}tblastn \\\n",
      "-query Ambid_protein.fasta \\\n",
      "-db Phel_transcriptome_clc \\\n",
      "-out Ambid_tblastn_Ph.tab -outfmt 6 \\\n",
      "-num_threads 4\n",
      "!head Ambid_tblastn_Ph.tab"
     ],
     "language": "python",
     "metadata": {},
     "outputs": [
      {
       "output_type": "stream",
       "stream": "stdout",
       "text": [
        "gi|550455637|ref|YP_008658570.1|\tPhel_clc_contig_20370\t31.40\t86\t55\t3\t307\t389\t1753\t1499\t0.91\t33.1\r\n",
        "gi|550455637|ref|YP_008658570.1|\tPhel_clc_contig_2885\t31.58\t95\t54\t5\t389\t477\t982\t1251\t4.6\t30.8\r\n",
        "gi|550455637|ref|YP_008658570.1|\tPhel_clc_contig_6868\t32.73\t55\t35\t2\t339\t393\t737\t579\t8.7\t29.6\r\n",
        "gi|550455634|ref|YP_008658567.1|\tPhel_clc_contig_7197\t33.33\t57\t34\t1\t77\t129\t1792\t1622\t1.9\t29.6\r\n",
        "gi|550455634|ref|YP_008658567.1|\tPhel_clc_contig_30145\t40.00\t25\t15\t0\t28\t52\t278\t204\t2.3\t28.9\r\n",
        "gi|550455634|ref|YP_008658567.1|\tPhel_clc_contig_23706\t29.23\t65\t40\t2\t127\t187\t753\t565\t2.6\t29.3\r\n",
        "gi|550455634|ref|YP_008658567.1|\tPhel_clc_contig_3130\t32.43\t37\t25\t0\t113\t149\t1674\t1564\t2.9\t29.3\r\n",
        "gi|550455634|ref|YP_008658567.1|\tPhel_clc_contig_17470\t26.67\t105\t61\t5\t65\t155\t203\t511\t5.7\t28.1\r\n",
        "gi|550455634|ref|YP_008658567.1|\tPhel_clc_contig_1132\t44.83\t29\t16\t0\t112\t140\t266\t352\t8.5\t27.7\r\n",
        "gi|550455634|ref|YP_008658567.1|\tPhel_clc_contig_20831\t48.15\t27\t12\t1\t114\t138\t1060\t1140\t9.3\t27.3\r\n"
       ]
      }
     ],
     "prompt_number": 39
    },
    {
     "cell_type": "code",
     "collapsed": false,
     "input": [],
     "language": "python",
     "metadata": {},
     "outputs": []
    }
   ],
   "metadata": {}
  }
 ]
}
