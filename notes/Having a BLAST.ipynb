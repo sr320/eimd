{
 "metadata": {
  "name": "",
  "signature": "sha256:2fec54dd611e615ec0c2c5f24ff50d1c7b8c96f8c314cebdf37e91a80e9704b1"
 },
 "nbformat": 3,
 "nbformat_minor": 0,
 "worksheets": [
  {
   "cells": [
    {
     "cell_type": "heading",
     "level": 1,
     "metadata": {},
     "source": [
      "Intro Bioinformatics"
     ]
    },
    {
     "cell_type": "markdown",
     "metadata": {},
     "source": [
      "Task: find sequence from your favorite critter - blast - and do an alignment."
     ]
    },
    {
     "cell_type": "markdown",
     "metadata": {},
     "source": [
      "<img src=\"http://eagle.fish.washington.edu/cnidarian/skitch/Taxonomy_browser__Argopecten__19806C79.png\" alt=\"Taxonomy_browser__Argopecten__19806C79.png\"/>"
     ]
    },
    {
     "cell_type": "markdown",
     "metadata": {},
     "source": [
      "<img src=\"http://eagle.fish.washington.edu/cnidarian/skitch/Argopecten_irradians_C-type_lectin_3_mRNA__complete_cds_-_Nucleotide_-_NCBI_19806CB2.png\" alt=\"Argopecten_irradians_C-type_lectin_3_mRNA__complete_cds_-_Nucleotide_-_NCBI_19806CB2.png\"/>"
     ]
    },
    {
     "cell_type": "markdown",
     "metadata": {},
     "source": [
      "---\n",
      "<img src=\"http://eagle.fish.washington.edu/cnidarian/skitch/NCBI_Blast_gb_FJ469996_1___575_letters__19806D85.png\" alt=\"NCBI_Blast_gb_FJ469996_1___575_letters__19806D85.png\"/>"
     ]
    },
    {
     "cell_type": "markdown",
     "metadata": {},
     "source": [
      "---\n",
      "<img src=\"http://eagle.fish.washington.edu/cnidarian/skitch/NCBI_Blast_gb_FJ469996_1___575_letters__and_CLC_Sequence_Viewer_6_6_1_19806E78.png\" alt=\"NCBI_Blast_gb_FJ469996_1___575_letters__and_CLC_Sequence_Viewer_6_6_1_19806E78.png\"/>"
     ]
    },
    {
     "cell_type": "markdown",
     "metadata": {},
     "source": [
      "---\n",
      "<img src=\"http://eagle.fish.washington.edu/cnidarian/skitch/3_selected_items_-_Protein_-_NCBI_19806EA2.png\" alt=\"3_selected_items_-_Protein_-_NCBI_19806EA2.png\"/>"
     ]
    },
    {
     "cell_type": "markdown",
     "metadata": {},
     "source": [
      "---\n",
      "<img src=\"http://eagle.fish.washington.edu/cnidarian/skitch/CLC_Sequence_Viewer_6_6_1_19806EFF.png\" alt=\"CLC_Sequence_Viewer_6_6_1_19806EFF.png\"/>\n"
     ]
    },
    {
     "cell_type": "code",
     "collapsed": false,
     "input": [],
     "language": "python",
     "metadata": {},
     "outputs": []
    }
   ],
   "metadata": {}
  }
 ]
}